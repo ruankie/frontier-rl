{
 "cells": [
  {
   "cell_type": "code",
   "execution_count": 1,
   "metadata": {},
   "outputs": [
    {
     "name": "stdout",
     "output_type": "stream",
     "text": [
      "Wall time: 2.27 s\n"
     ]
    }
   ],
   "source": [
    "%%time\n",
    "import numpy as np\n",
    "import pandas as pd\n",
    "import matplotlib.pyplot as plt\n",
    "import datetime\n",
    "import os\n",
    "from REINFORCE_soft import MultiStockEnv, Agent, play_one_episode, maybe_make_dir\n",
    "import market_tickers\n",
    "from model_config import model_parameters\n",
    "import tensorflow as tf"
   ]
  },
  {
   "cell_type": "code",
   "execution_count": 1,
   "metadata": {},
   "outputs": [
    {
     "name": "stdout",
     "output_type": "stream",
     "text": [
      "number of pairs:  504\n"
     ]
    }
   ],
   "source": [
    "#------ small test-sweep ------#\n",
    "#GAMMA_TRADES = [0.1, 1, 10, 60, 100]\n",
    "#GAMMA_RISKS = [0.1, 1, 18, 56, 100, 562, 1000]\n",
    "#------ extended-boyd-sweep ------#\n",
    "GAMMA_TRADES =  [0.1, 0.5, 1, 2, 3, 4, 5, 5.5, 6, 6.5, 7, 7.5, 8, 9, 10, 11, 12, 15, 20, 30, 45, 60, 100, 200]\n",
    "GAMMA_RISKS = [0.1, 0.178, 0.316, 0.562, 1, 2, 3, 6, 10, 18, 32, 56, 100, 178, 316, 562, 1000, 2000, 5000, 10000, 20000]\n",
    "#---------------------------------#\n",
    "\n",
    "GAMMA_PAIRS = []\n",
    "for tr in GAMMA_TRADES:\n",
    "    for ri in GAMMA_RISKS:\n",
    "        GAMMA_PAIRS.append((tr, ri))\n",
    "        \n",
    "#format: (gamma_trade, gamma_risk)\n",
    "print('number of pairs: ', len(GAMMA_PAIRS))\n",
    "#GAMMA_PAIRS"
   ]
  },
  {
   "cell_type": "code",
   "execution_count": 3,
   "metadata": {
    "tags": [
     "parameters"
    ]
   },
   "outputs": [],
   "source": [
    "# papermill parameters\n",
    "SEED_LIST = [\n",
    "             0,\n",
    "             #1111,\n",
    "             #2222, \n",
    "             #3333, \n",
    "             #4444, \n",
    "             #5555,\n",
    "             #6666,\n",
    "             #7777,\n",
    "             #8888,\n",
    "             #9999\n",
    "            ]\n",
    "\n",
    "#TICKERS = market_tickers.DOW_30_TICKER\n",
    "TICKERS = ['AAPL', 'AMD', 'CSCO', 'F', 'INTC']\n",
    "MARKET_NAME = 'TEST_5'\n",
    "MODEL_BASE_NAME = 'RL_CNN' # use either | 'RL_CNN' | 'RL_str_fcast' | 'RL_all_inp' |\n",
    "FROM = '2017-01-03' # start of training set\n",
    "UNTIL = '2019-01-01' # end of training set\n",
    "NB_EPISODES = 200 # number of episodes to train for\n",
    "SAVE_EVERY = 200 # (used 100 when not from tretrained) save model weights every time this amount of episodes pass"
   ]
  },
  {
   "cell_type": "code",
   "execution_count": 4,
   "metadata": {},
   "outputs": [],
   "source": [
    "# other constants and parameters\n",
    "TICKERS.sort()\n",
    "FILE_PERIOD = '1d' # weekly='5d', daily='1d'\n",
    "DAYS_IN_EPISODE = 30 # 365 for one-year long episodes (conditions checked at end of episode)\n",
    "EPISODE_DRAW_DISTRIBUTION = 'uniform' # 'uniform' or 'geometric'. select starting point of eposide according to this distribution when generated\n",
    "HALF_SPREAD = 0.0005/2.0 # 'a' in transaction cost function\n",
    "NONLIN_COEFF = 1.0 # 'b' transaction cost function\n",
    "POWER = 1.5 # power for change in poertfolio vector used in transaction cost\n",
    "#GAMMA_RISK, GAMMA_TRADE, GAMMA_HOLD = 18, 6.5, 0.0 # relative importance of risk, trading cost, and holding cost\n",
    "INIT_PORTFOLIO = 100000000.0 # initial portfolio value\n",
    "#model_name = f'REINFORCE_CNN' #_seeded_{UNTIL} # give model a name to distinguish saved files\n",
    "#NB_EPISODES = 300 #2000\n",
    "MODE = 'train' # train or test mode\n",
    "#FROM_PRETRAINED = False\n",
    "DATA_DIR = f'../../data/{MARKET_NAME}/preprocessed_data/'\n",
    "\n",
    "# Tune and double-check these before every test:\n",
    "USE_FORECASTS = model_parameters[MODEL_BASE_NAME]['use_forecasts'] # whether to use forecasts as inputs to agent policy net or not\n",
    "NB_FORECASTS = model_parameters[MODEL_BASE_NAME]['nb_forecasts'] # number of forecasts to use in state. Set to None for no forecasts\n",
    "FORECAST_TYPE = model_parameters[MODEL_BASE_NAME]['forecast_type'] # use 'strong' or 'weak' forecasts (if no forecasts given, this does not matter)\n",
    "USE_CNN_STATE = model_parameters[MODEL_BASE_NAME]['use_cnn_state'] # whether to pass log-rets block for CNN part of policy net (set to false for forecast only)"
   ]
  },
  {
   "cell_type": "code",
   "execution_count": 5,
   "metadata": {
    "scrolled": true
   },
   "outputs": [
    {
     "name": "stdout",
     "output_type": "stream",
     "text": [
      "\talready exists: trade_0.1_risk_0.1\n",
      "\tskip to next.\n",
      "\talready exists: trade_0.1_risk_1\n",
      "\tskip to next.\n",
      "\talready exists: trade_0.1_risk_18\n",
      "\tskip to next.\n",
      "\talready exists: trade_0.1_risk_56\n",
      "\tskip to next.\n",
      "\talready exists: trade_0.1_risk_100\n",
      "\tskip to next.\n",
      "\talready exists: trade_0.1_risk_562\n",
      "\tskip to next.\n",
      "\talready exists: trade_0.1_risk_1000\n",
      "\tskip to next.\n",
      "#############################################################################\n",
      "##\t[8/35]\tmodel=RL_CNN,\tSEED=0,\ttrade=1,\trisk=0.1\t##\n",
      "#############################################################################\n",
      "episode: 1/200, loss: 0.0060, duration: 0:00:02.159071\n",
      "episode: 11/200, loss: -0.0262, duration: 0:00:00.496245\n",
      "episode: 21/200, loss: 0.0293, duration: 0:00:00.522427\n",
      "episode: 31/200, loss: -0.0550, duration: 0:00:00.467136\n",
      "episode: 41/200, loss: 0.0093, duration: 0:00:00.471478\n",
      "episode: 51/200, loss: -0.0511, duration: 0:00:00.464695\n",
      "episode: 61/200, loss: -0.0106, duration: 0:00:00.469389\n",
      "episode: 71/200, loss: 0.0078, duration: 0:00:00.469399\n",
      "episode: 81/200, loss: 0.0213, duration: 0:00:00.471521\n",
      "episode: 91/200, loss: -0.0213, duration: 0:00:00.468753\n",
      "episode: 101/200, loss: -0.0292, duration: 0:00:00.464448\n",
      "episode: 111/200, loss: -0.0577, duration: 0:00:00.468743\n",
      "episode: 121/200, loss: -0.0717, duration: 0:00:00.487149\n",
      "episode: 131/200, loss: -0.0011, duration: 0:00:00.479981\n",
      "episode: 141/200, loss: -0.0046, duration: 0:00:00.487133\n",
      "episode: 151/200, loss: 0.0137, duration: 0:00:00.473502\n",
      "episode: 161/200, loss: 0.0665, duration: 0:00:00.494554\n",
      "episode: 171/200, loss: 0.0038, duration: 0:00:00.489027\n",
      "episode: 181/200, loss: -0.0865, duration: 0:00:00.499180\n",
      "episode: 191/200, loss: 0.0564, duration: 0:00:00.499255\n",
      "#############################################################################\n",
      "##\t[9/35]\tmodel=RL_CNN,\tSEED=0,\ttrade=1,\trisk=1\t##\n",
      "#############################################################################\n",
      "episode: 1/200, loss: 0.0077, duration: 0:00:00.531626\n",
      "episode: 11/200, loss: -0.0256, duration: 0:00:00.498826\n",
      "episode: 21/200, loss: 0.0312, duration: 0:00:00.500007\n",
      "episode: 31/200, loss: -0.0513, duration: 0:00:00.500649\n",
      "episode: 41/200, loss: 0.0109, duration: 0:00:00.500008\n",
      "episode: 51/200, loss: -0.0488, duration: 0:00:00.500654\n",
      "episode: 61/200, loss: -0.0099, duration: 0:00:00.487098\n",
      "episode: 71/200, loss: 0.0089, duration: 0:00:00.500747\n",
      "episode: 81/200, loss: 0.0236, duration: 0:00:00.500000\n",
      "episode: 91/200, loss: -0.0169, duration: 0:00:00.495897\n",
      "episode: 101/200, loss: -0.0232, duration: 0:00:00.484376\n",
      "episode: 111/200, loss: -0.0520, duration: 0:00:00.500000\n",
      "episode: 121/200, loss: -0.0621, duration: 0:00:00.502798\n",
      "episode: 131/200, loss: 0.0009, duration: 0:00:00.500059\n",
      "episode: 141/200, loss: -0.0066, duration: 0:00:00.502796\n",
      "episode: 151/200, loss: 0.0157, duration: 0:00:00.500300\n",
      "episode: 161/200, loss: 0.0690, duration: 0:00:00.499999\n",
      "episode: 171/200, loss: 0.0099, duration: 0:00:00.501146\n",
      "episode: 181/200, loss: -0.0748, duration: 0:00:00.502802\n",
      "episode: 191/200, loss: 0.0459, duration: 0:00:00.495810\n",
      "#############################################################################\n",
      "##\t[10/35]\tmodel=RL_CNN,\tSEED=0,\ttrade=1,\trisk=18\t##\n",
      "#############################################################################\n",
      "episode: 1/200, loss: 0.0406, duration: 0:00:00.579687\n",
      "episode: 11/200, loss: -0.0164, duration: 0:00:00.500615\n",
      "episode: 21/200, loss: 0.0637, duration: 0:00:00.503729\n",
      "episode: 31/200, loss: -0.0036, duration: 0:00:00.504774\n",
      "episode: 41/200, loss: 0.0295, duration: 0:00:00.501435\n",
      "episode: 51/200, loss: -0.0298, duration: 0:00:00.510132\n",
      "episode: 61/200, loss: -0.0031, duration: 0:00:00.492756\n",
      "episode: 71/200, loss: 0.0201, duration: 0:00:00.500001\n",
      "episode: 81/200, loss: 0.0343, duration: 0:00:00.500044\n",
      "episode: 91/200, loss: 0.0093, duration: 0:00:00.500000\n",
      "episode: 101/200, loss: 0.0039, duration: 0:00:00.500546\n",
      "episode: 111/200, loss: -0.0203, duration: 0:00:00.500002\n",
      "episode: 121/200, loss: -0.0204, duration: 0:00:00.515628\n",
      "episode: 131/200, loss: 0.0068, duration: 0:00:00.562501\n",
      "episode: 141/200, loss: 0.0003, duration: 0:00:00.510171\n",
      "episode: 151/200, loss: 0.0116, duration: 0:00:00.500032\n",
      "episode: 161/200, loss: 0.0189, duration: 0:00:00.500000\n",
      "episode: 171/200, loss: 0.0032, duration: 0:00:00.505786\n",
      "episode: 181/200, loss: -0.0178, duration: 0:00:00.515623\n",
      "episode: 191/200, loss: 0.0060, duration: 0:00:00.518468\n",
      "#############################################################################\n",
      "##\t[11/35]\tmodel=RL_CNN,\tSEED=0,\ttrade=1,\trisk=56\t##\n",
      "#############################################################################\n",
      "episode: 1/200, loss: 0.1143, duration: 0:00:00.519154\n",
      "episode: 11/200, loss: 0.0029, duration: 0:00:00.502492\n",
      "episode: 21/200, loss: 0.1362, duration: 0:00:00.510403\n",
      "episode: 31/200, loss: 0.0734, duration: 0:00:00.500001\n",
      "episode: 41/200, loss: 0.0622, duration: 0:00:00.562500\n",
      "episode: 51/200, loss: -0.0120, duration: 0:00:00.500001\n",
      "episode: 61/200, loss: 0.0086, duration: 0:00:00.500000\n",
      "episode: 71/200, loss: 0.0245, duration: 0:00:00.500000\n",
      "episode: 81/200, loss: 0.0328, duration: 0:00:00.499999\n",
      "episode: 91/200, loss: 0.0154, duration: 0:00:00.500012\n",
      "episode: 101/200, loss: 0.0058, duration: 0:00:00.499996\n",
      "episode: 111/200, loss: -0.0084, duration: 0:00:00.499992\n",
      "episode: 121/200, loss: -0.0074, duration: 0:00:00.499999\n",
      "episode: 131/200, loss: 0.0027, duration: 0:00:00.502616\n",
      "episode: 141/200, loss: -0.0003, duration: 0:00:00.500003\n",
      "episode: 151/200, loss: 0.0048, duration: 0:00:00.501654\n",
      "episode: 161/200, loss: 0.0061, duration: 0:00:00.515623\n",
      "episode: 171/200, loss: 0.0010, duration: 0:00:00.500037\n",
      "episode: 181/200, loss: -0.0077, duration: 0:00:00.500003\n",
      "episode: 191/200, loss: 0.0021, duration: 0:00:00.499999\n",
      "#############################################################################\n",
      "##\t[12/35]\tmodel=RL_CNN,\tSEED=0,\ttrade=1,\trisk=100\t##\n",
      "#############################################################################\n",
      "episode: 1/200, loss: 0.1995, duration: 0:00:00.519398\n",
      "episode: 11/200, loss: 0.0252, duration: 0:00:00.515624\n",
      "episode: 21/200, loss: 0.2208, duration: 0:00:00.515623\n",
      "episode: 31/200, loss: 0.1576, duration: 0:00:00.562499\n",
      "episode: 41/200, loss: 0.0955, duration: 0:00:00.515625\n",
      "episode: 51/200, loss: 0.0065, duration: 0:00:00.515625\n",
      "episode: 61/200, loss: 0.0245, duration: 0:00:00.515625\n",
      "episode: 71/200, loss: 0.0368, duration: 0:00:00.510174\n",
      "episode: 81/200, loss: 0.0409, duration: 0:00:00.500000\n",
      "episode: 91/200, loss: 0.0237, duration: 0:00:00.499998\n",
      "episode: 101/200, loss: 0.0090, duration: 0:00:00.497567\n",
      "episode: 111/200, loss: -0.0060, duration: 0:00:00.515626\n",
      "episode: 121/200, loss: -0.0053, duration: 0:00:00.499998\n",
      "episode: 131/200, loss: 0.0031, duration: 0:00:00.515634\n",
      "episode: 141/200, loss: 0.0002, duration: 0:00:00.499996\n",
      "episode: 151/200, loss: 0.0051, duration: 0:00:00.499999\n",
      "episode: 161/200, loss: 0.0055, duration: 0:00:00.515625\n",
      "episode: 171/200, loss: 0.0013, duration: 0:00:00.499995\n",
      "episode: 181/200, loss: -0.0061, duration: 0:00:00.500002\n",
      "episode: 191/200, loss: 0.0017, duration: 0:00:00.504000\n",
      "#############################################################################\n",
      "##\t[13/35]\tmodel=RL_CNN,\tSEED=0,\ttrade=1,\trisk=562\t##\n",
      "#############################################################################\n",
      "episode: 1/200, loss: 1.0948, duration: 0:00:00.605043\n",
      "episode: 11/200, loss: 0.2639, duration: 0:00:00.504361\n",
      "episode: 21/200, loss: 1.1104, duration: 0:00:00.499999\n",
      "episode: 31/200, loss: 1.0669, duration: 0:00:00.496916\n",
      "episode: 41/200, loss: 0.5050, duration: 0:00:00.499632\n",
      "episode: 51/200, loss: 0.2131, duration: 0:00:00.500628\n",
      "episode: 61/200, loss: 0.2045, duration: 0:00:00.505330\n",
      "episode: 71/200, loss: 0.1862, duration: 0:00:00.500216\n",
      "episode: 81/200, loss: 0.1621, duration: 0:00:00.500651\n",
      "episode: 91/200, loss: 0.1202, duration: 0:00:00.496103\n",
      "episode: 101/200, loss: 0.0477, duration: 0:00:00.500581\n",
      "episode: 111/200, loss: 0.0078, duration: 0:00:00.500648\n",
      "episode: 121/200, loss: 0.0065, duration: 0:00:00.500579\n",
      "episode: 131/200, loss: 0.0084, duration: 0:00:00.500671\n",
      "episode: 141/200, loss: 0.0056, duration: 0:00:00.500613\n",
      "episode: 151/200, loss: 0.0129, duration: 0:00:00.497174\n",
      "episode: 161/200, loss: 0.0111, duration: 0:00:00.500119\n"
     ]
    },
    {
     "name": "stdout",
     "output_type": "stream",
     "text": [
      "episode: 171/200, loss: 0.0074, duration: 0:00:00.498134\n",
      "episode: 181/200, loss: -0.0034, duration: 0:00:00.503130\n",
      "episode: 191/200, loss: 0.0030, duration: 0:00:00.500675\n",
      "#############################################################################\n",
      "##\t[14/35]\tmodel=RL_CNN,\tSEED=0,\ttrade=1,\trisk=1000\t##\n",
      "#############################################################################\n",
      "episode: 1/200, loss: 1.9436, duration: 0:00:00.518962\n",
      "episode: 11/200, loss: 0.4899, duration: 0:00:00.499999\n",
      "episode: 21/200, loss: 1.9533, duration: 0:00:00.562999\n",
      "episode: 31/200, loss: 1.9280, duration: 0:00:00.500001\n",
      "episode: 41/200, loss: 0.8911, duration: 0:00:00.502559\n",
      "episode: 51/200, loss: 0.4087, duration: 0:00:00.510096\n",
      "episode: 61/200, loss: 0.3752, duration: 0:00:00.500001\n",
      "episode: 71/200, loss: 0.3295, duration: 0:00:00.515625\n",
      "episode: 81/200, loss: 0.2788, duration: 0:00:00.519121\n",
      "episode: 91/200, loss: 0.2120, duration: 0:00:00.502730\n",
      "episode: 101/200, loss: 0.0848, duration: 0:00:00.503040\n",
      "episode: 111/200, loss: 0.0205, duration: 0:00:00.502798\n",
      "episode: 121/200, loss: 0.0171, duration: 0:00:00.502739\n",
      "episode: 131/200, loss: 0.0137, duration: 0:00:00.502808\n",
      "episode: 141/200, loss: 0.0108, duration: 0:00:00.502819\n",
      "episode: 151/200, loss: 0.0209, duration: 0:00:00.502709\n",
      "episode: 161/200, loss: 0.0173, duration: 0:00:00.487198\n",
      "episode: 171/200, loss: 0.0135, duration: 0:00:00.500001\n",
      "episode: 181/200, loss: -0.0019, duration: 0:00:00.500000\n",
      "episode: 191/200, loss: 0.0048, duration: 0:00:00.500000\n",
      "#############################################################################\n",
      "##\t[15/35]\tmodel=RL_CNN,\tSEED=0,\ttrade=10,\trisk=0.1\t##\n",
      "#############################################################################\n",
      "episode: 1/200, loss: 0.0151, duration: 0:00:00.522178\n",
      "episode: 11/200, loss: -0.0223, duration: 0:00:00.500001\n",
      "episode: 21/200, loss: 0.0442, duration: 0:00:00.511698\n",
      "episode: 31/200, loss: -0.0455, duration: 0:00:00.507469\n",
      "episode: 41/200, loss: 0.0118, duration: 0:00:00.504589\n",
      "episode: 51/200, loss: -0.0495, duration: 0:00:00.504640\n",
      "episode: 61/200, loss: -0.0084, duration: 0:00:00.505218\n",
      "episode: 71/200, loss: 0.0095, duration: 0:00:00.499133\n",
      "episode: 81/200, loss: 0.0399, duration: 0:00:00.514777\n",
      "episode: 91/200, loss: -0.0178, duration: 0:00:00.499286\n",
      "episode: 101/200, loss: -0.0261, duration: 0:00:00.499161\n",
      "episode: 111/200, loss: -0.0559, duration: 0:00:00.514790\n",
      "episode: 121/200, loss: -0.0679, duration: 0:00:00.514784\n",
      "episode: 131/200, loss: 0.0013, duration: 0:00:00.534443\n",
      "episode: 141/200, loss: 0.0024, duration: 0:00:00.505300\n",
      "episode: 151/200, loss: 0.0145, duration: 0:00:00.500004\n",
      "episode: 161/200, loss: 0.0906, duration: 0:00:00.500679\n",
      "episode: 171/200, loss: 0.0243, duration: 0:00:00.500000\n",
      "episode: 181/200, loss: -0.0838, duration: 0:00:00.516809\n",
      "episode: 191/200, loss: 0.0642, duration: 0:00:00.500002\n",
      "#############################################################################\n",
      "##\t[16/35]\tmodel=RL_CNN,\tSEED=0,\ttrade=10,\trisk=1\t##\n",
      "#############################################################################\n",
      "episode: 1/200, loss: 0.0169, duration: 0:00:00.521135\n",
      "episode: 11/200, loss: -0.0218, duration: 0:00:00.499272\n",
      "episode: 21/200, loss: 0.0464, duration: 0:00:00.515629\n",
      "episode: 31/200, loss: -0.0418, duration: 0:00:00.490561\n",
      "episode: 41/200, loss: 0.0133, duration: 0:00:00.515624\n",
      "episode: 51/200, loss: -0.0470, duration: 0:00:00.514707\n",
      "episode: 61/200, loss: -0.0075, duration: 0:00:00.502425\n",
      "episode: 71/200, loss: 0.0113, duration: 0:00:00.500706\n",
      "episode: 81/200, loss: 0.0421, duration: 0:00:00.518425\n",
      "episode: 91/200, loss: -0.0135, duration: 0:00:00.527131\n",
      "episode: 101/200, loss: -0.0200, duration: 0:00:00.505429\n",
      "episode: 111/200, loss: -0.0498, duration: 0:00:00.515782\n",
      "episode: 121/200, loss: -0.0563, duration: 0:00:00.515759\n",
      "episode: 131/200, loss: 0.0029, duration: 0:00:00.518354\n",
      "episode: 141/200, loss: 0.0023, duration: 0:00:00.511412\n",
      "episode: 151/200, loss: 0.0172, duration: 0:00:00.521460\n",
      "episode: 161/200, loss: 0.0955, duration: 0:00:00.516235\n",
      "episode: 171/200, loss: 0.0326, duration: 0:00:00.515625\n",
      "episode: 181/200, loss: -0.0716, duration: 0:00:00.499999\n",
      "episode: 191/200, loss: 0.0560, duration: 0:00:00.515625\n",
      "#############################################################################\n",
      "##\t[17/35]\tmodel=RL_CNN,\tSEED=0,\ttrade=10,\trisk=18\t##\n",
      "#############################################################################\n",
      "episode: 1/200, loss: 0.0498, duration: 0:00:00.521696\n",
      "episode: 11/200, loss: -0.0123, duration: 0:00:00.515624\n",
      "episode: 21/200, loss: 0.0800, duration: 0:00:00.502559\n",
      "episode: 31/200, loss: 0.0089, duration: 0:00:00.504697\n",
      "episode: 41/200, loss: 0.0330, duration: 0:00:00.510206\n",
      "episode: 51/200, loss: -0.0260, duration: 0:00:00.498967\n",
      "episode: 61/200, loss: 0.0009, duration: 0:00:00.520912\n",
      "episode: 71/200, loss: 0.0241, duration: 0:00:00.520239\n",
      "episode: 81/200, loss: 0.0567, duration: 0:00:00.515625\n",
      "episode: 91/200, loss: 0.0162, duration: 0:00:00.514197\n",
      "episode: 101/200, loss: 0.0102, duration: 0:00:00.515625\n",
      "episode: 111/200, loss: -0.0177, duration: 0:00:00.516322\n",
      "episode: 121/200, loss: -0.0168, duration: 0:00:00.499999\n",
      "episode: 131/200, loss: 0.0119, duration: 0:00:00.513682\n",
      "episode: 141/200, loss: 0.0042, duration: 0:00:00.518111\n",
      "episode: 151/200, loss: 0.0176, duration: 0:00:00.503594\n",
      "episode: 161/200, loss: 0.0272, duration: 0:00:00.518230\n",
      "episode: 171/200, loss: 0.0079, duration: 0:00:00.518100\n",
      "episode: 181/200, loss: -0.0176, duration: 0:00:00.511592\n",
      "episode: 191/200, loss: 0.0085, duration: 0:00:00.500584\n",
      "#############################################################################\n",
      "##\t[18/35]\tmodel=RL_CNN,\tSEED=0,\ttrade=10,\trisk=56\t##\n",
      "#############################################################################\n",
      "episode: 1/200, loss: 0.1235, duration: 0:00:00.506048\n",
      "episode: 11/200, loss: 0.0072, duration: 0:00:00.545883\n",
      "episode: 21/200, loss: 0.1526, duration: 0:00:00.515624\n",
      "episode: 31/200, loss: 0.0887, duration: 0:00:00.511132\n",
      "episode: 41/200, loss: 0.0701, duration: 0:00:00.515625\n",
      "episode: 51/200, loss: -0.0061, duration: 0:00:00.514311\n",
      "episode: 61/200, loss: 0.0132, duration: 0:00:00.499999\n",
      "episode: 71/200, loss: 0.0301, duration: 0:00:00.515625\n",
      "episode: 81/200, loss: 0.0433, duration: 0:00:00.515625\n",
      "episode: 91/200, loss: 0.0198, duration: 0:00:00.522096\n",
      "episode: 101/200, loss: 0.0089, duration: 0:00:00.505109\n",
      "episode: 111/200, loss: -0.0069, duration: 0:00:00.512647\n",
      "episode: 121/200, loss: -0.0059, duration: 0:00:00.502810\n",
      "episode: 131/200, loss: 0.0039, duration: 0:00:00.517544\n",
      "episode: 141/200, loss: 0.0006, duration: 0:00:00.517323\n",
      "episode: 151/200, loss: 0.0054, duration: 0:00:00.519074\n",
      "episode: 161/200, loss: 0.0069, duration: 0:00:00.526421\n",
      "episode: 171/200, loss: 0.0017, duration: 0:00:00.500003\n",
      "episode: 181/200, loss: -0.0069, duration: 0:00:00.515618\n",
      "episode: 191/200, loss: 0.0026, duration: 0:00:00.516313\n",
      "#############################################################################\n",
      "##\t[19/35]\tmodel=RL_CNN,\tSEED=0,\ttrade=10,\trisk=100\t##\n",
      "#############################################################################\n",
      "episode: 1/200, loss: 0.2087, duration: 0:00:00.583191\n",
      "episode: 11/200, loss: 0.0295, duration: 0:00:00.519338\n",
      "episode: 21/200, loss: 0.2372, duration: 0:00:00.519288\n",
      "episode: 31/200, loss: 0.1735, duration: 0:00:00.520793\n",
      "episode: 41/200, loss: 0.1041, duration: 0:00:00.502664\n",
      "episode: 51/200, loss: 0.0122, duration: 0:00:00.516228\n",
      "episode: 61/200, loss: 0.0287, duration: 0:00:00.515625\n",
      "episode: 71/200, loss: 0.0414, duration: 0:00:00.503394\n",
      "episode: 81/200, loss: 0.0497, duration: 0:00:00.499999\n",
      "episode: 91/200, loss: 0.0279, duration: 0:00:00.511644\n",
      "episode: 101/200, loss: 0.0117, duration: 0:00:00.514456\n",
      "episode: 111/200, loss: -0.0048, duration: 0:00:00.532373\n",
      "episode: 121/200, loss: -0.0040, duration: 0:00:00.515625\n",
      "episode: 131/200, loss: 0.0042, duration: 0:00:00.564947\n",
      "episode: 141/200, loss: 0.0010, duration: 0:00:00.515625\n",
      "episode: 151/200, loss: 0.0056, duration: 0:00:00.515625\n",
      "episode: 161/200, loss: 0.0062, duration: 0:00:00.515623\n",
      "episode: 171/200, loss: 0.0020, duration: 0:00:00.500001\n",
      "episode: 181/200, loss: -0.0056, duration: 0:00:00.496076\n",
      "episode: 191/200, loss: 0.0021, duration: 0:00:00.508889\n"
     ]
    },
    {
     "name": "stdout",
     "output_type": "stream",
     "text": [
      "#############################################################################\n",
      "##\t[20/35]\tmodel=RL_CNN,\tSEED=0,\ttrade=10,\trisk=562\t##\n",
      "#############################################################################\n",
      "episode: 1/200, loss: 1.1040, duration: 0:00:00.518720\n",
      "episode: 11/200, loss: 0.2679, duration: 0:00:00.494722\n",
      "episode: 21/200, loss: 1.1270, duration: 0:00:00.515625\n",
      "episode: 31/200, loss: 1.0815, duration: 0:00:00.513987\n",
      "episode: 41/200, loss: 0.5106, duration: 0:00:00.515626\n",
      "episode: 51/200, loss: 0.2177, duration: 0:00:00.512006\n",
      "episode: 61/200, loss: 0.2076, duration: 0:00:00.515625\n",
      "episode: 71/200, loss: 0.1893, duration: 0:00:00.500002\n",
      "episode: 81/200, loss: 0.1673, duration: 0:00:00.511103\n",
      "episode: 91/200, loss: 0.1228, duration: 0:00:00.499998\n",
      "episode: 101/200, loss: 0.0496, duration: 0:00:00.500613\n",
      "episode: 111/200, loss: 0.0088, duration: 0:00:00.515623\n",
      "episode: 121/200, loss: 0.0076, duration: 0:00:00.499999\n",
      "episode: 131/200, loss: 0.0093, duration: 0:00:00.516245\n",
      "episode: 141/200, loss: 0.0062, duration: 0:00:00.516235\n",
      "episode: 151/200, loss: 0.0133, duration: 0:00:00.512510\n",
      "episode: 161/200, loss: 0.0116, duration: 0:00:00.518767\n",
      "episode: 171/200, loss: 0.0080, duration: 0:00:00.511297\n",
      "episode: 181/200, loss: -0.0031, duration: 0:00:00.515626\n",
      "episode: 191/200, loss: 0.0033, duration: 0:00:00.522639\n",
      "#############################################################################\n",
      "##\t[21/35]\tmodel=RL_CNN,\tSEED=0,\ttrade=10,\trisk=1000\t##\n",
      "#############################################################################\n",
      "episode: 1/200, loss: 1.9528, duration: 0:00:00.537594\n",
      "episode: 11/200, loss: 0.4938, duration: 0:00:00.502577\n",
      "episode: 21/200, loss: 1.9697, duration: 0:00:00.506918\n",
      "episode: 31/200, loss: 1.9426, duration: 0:00:00.515622\n",
      "episode: 41/200, loss: 0.8976, duration: 0:00:00.499999\n",
      "episode: 51/200, loss: 0.4137, duration: 0:00:00.500000\n",
      "episode: 61/200, loss: 0.3784, duration: 0:00:00.515625\n",
      "episode: 71/200, loss: 0.3334, duration: 0:00:00.515625\n",
      "episode: 81/200, loss: 0.2847, duration: 0:00:00.515625\n",
      "episode: 91/200, loss: 0.2149, duration: 0:00:00.500676\n",
      "episode: 101/200, loss: 0.0867, duration: 0:00:00.507333\n",
      "episode: 111/200, loss: 0.0215, duration: 0:00:00.490376\n",
      "episode: 121/200, loss: 0.0181, duration: 0:00:00.514759\n",
      "episode: 131/200, loss: 0.0146, duration: 0:00:00.499834\n",
      "episode: 141/200, loss: 0.0113, duration: 0:00:00.517395\n",
      "episode: 151/200, loss: 0.0214, duration: 0:00:00.520429\n",
      "episode: 161/200, loss: 0.0179, duration: 0:00:00.518340\n",
      "episode: 171/200, loss: 0.0140, duration: 0:00:00.515623\n",
      "episode: 181/200, loss: -0.0016, duration: 0:00:00.499998\n",
      "episode: 191/200, loss: 0.0051, duration: 0:00:00.518293\n",
      "#############################################################################\n",
      "##\t[22/35]\tmodel=RL_CNN,\tSEED=0,\ttrade=60,\trisk=0.1\t##\n",
      "#############################################################################\n",
      "episode: 1/200, loss: 0.0661, duration: 0:00:00.523411\n",
      "episode: 11/200, loss: -0.0057, duration: 0:00:00.523680\n",
      "episode: 21/200, loss: 0.1172, duration: 0:00:00.503316\n",
      "episode: 31/200, loss: -0.0080, duration: 0:00:00.512129\n",
      "episode: 41/200, loss: 0.0242, duration: 0:00:00.516249\n",
      "episode: 51/200, loss: -0.0407, duration: 0:00:00.530368\n",
      "episode: 61/200, loss: 0.0000, duration: 0:00:00.499999\n",
      "episode: 71/200, loss: 0.0155, duration: 0:00:00.515624\n",
      "episode: 81/200, loss: 0.0819, duration: 0:00:00.505401\n",
      "episode: 91/200, loss: -0.0098, duration: 0:00:00.499992\n",
      "episode: 101/200, loss: -0.0212, duration: 0:00:00.510684\n",
      "episode: 111/200, loss: -0.0480, duration: 0:00:00.518379\n",
      "episode: 121/200, loss: -0.0547, duration: 0:00:00.500661\n",
      "episode: 131/200, loss: 0.0095, duration: 0:00:00.515625\n",
      "episode: 141/200, loss: 0.0073, duration: 0:00:00.516318\n",
      "episode: 151/200, loss: 0.0205, duration: 0:00:00.500000\n",
      "episode: 161/200, loss: 0.1045, duration: 0:00:00.500063\n",
      "episode: 171/200, loss: 0.0420, duration: 0:00:00.499998\n",
      "episode: 181/200, loss: -0.0683, duration: 0:00:00.515627\n",
      "episode: 191/200, loss: 0.0626, duration: 0:00:00.518171\n",
      "#############################################################################\n",
      "##\t[23/35]\tmodel=RL_CNN,\tSEED=0,\ttrade=60,\trisk=1\t##\n",
      "#############################################################################\n",
      "episode: 1/200, loss: 0.0679, duration: 0:00:00.523652\n",
      "episode: 11/200, loss: -0.0052, duration: 0:00:00.573032\n",
      "episode: 21/200, loss: 0.1203, duration: 0:00:00.514691\n",
      "episode: 31/200, loss: -0.0041, duration: 0:00:00.497128\n",
      "episode: 41/200, loss: 0.0253, duration: 0:00:00.511597\n",
      "episode: 51/200, loss: -0.0384, duration: 0:00:00.500003\n",
      "episode: 61/200, loss: 0.0015, duration: 0:00:00.513433\n",
      "episode: 71/200, loss: 0.0176, duration: 0:00:00.515625\n",
      "episode: 81/200, loss: 0.0987, duration: 0:00:00.514582\n",
      "episode: 91/200, loss: -0.0036, duration: 0:00:00.514002\n",
      "episode: 101/200, loss: -0.0142, duration: 0:00:00.499999\n",
      "episode: 111/200, loss: -0.0433, duration: 0:00:00.499998\n",
      "episode: 121/200, loss: -0.0477, duration: 0:00:00.515623\n",
      "episode: 131/200, loss: 0.0099, duration: 0:00:00.516719\n",
      "episode: 141/200, loss: 0.0087, duration: 0:00:00.517473\n",
      "episode: 151/200, loss: 0.0198, duration: 0:00:00.500136\n",
      "episode: 161/200, loss: 0.1041, duration: 0:00:00.500574\n",
      "episode: 171/200, loss: 0.0435, duration: 0:00:00.516184\n",
      "episode: 181/200, loss: -0.0610, duration: 0:00:00.500090\n",
      "episode: 191/200, loss: 0.0555, duration: 0:00:00.515626\n",
      "#############################################################################\n",
      "##\t[24/35]\tmodel=RL_CNN,\tSEED=0,\ttrade=60,\trisk=18\t##\n",
      "#############################################################################\n",
      "episode: 1/200, loss: 0.1008, duration: 0:00:00.523425\n",
      "episode: 11/200, loss: 0.0051, duration: 0:00:00.520590\n",
      "episode: 21/200, loss: 0.1594, duration: 0:00:00.502754\n",
      "episode: 31/200, loss: 0.0516, duration: 0:00:00.511574\n",
      "episode: 41/200, loss: 0.0535, duration: 0:00:00.515628\n",
      "episode: 51/200, loss: -0.0111, duration: 0:00:00.511357\n",
      "episode: 61/200, loss: 0.0149, duration: 0:00:00.500002\n",
      "episode: 71/200, loss: 0.0422, duration: 0:00:00.525530\n",
      "episode: 81/200, loss: 0.1364, duration: 0:00:00.504612\n",
      "episode: 91/200, loss: 0.0277, duration: 0:00:00.499141\n",
      "episode: 101/200, loss: 0.0258, duration: 0:00:00.499835\n",
      "episode: 111/200, loss: -0.0082, duration: 0:00:00.504641\n",
      "episode: 121/200, loss: -0.0063, duration: 0:00:00.511143\n",
      "episode: 131/200, loss: 0.0273, duration: 0:00:00.515624\n",
      "episode: 141/200, loss: 0.0302, duration: 0:00:00.499998\n",
      "episode: 151/200, loss: 0.0388, duration: 0:00:00.518111\n",
      "episode: 161/200, loss: 0.1088, duration: 0:00:00.501502\n",
      "episode: 171/200, loss: 0.0549, duration: 0:00:00.518114\n",
      "episode: 181/200, loss: -0.0182, duration: 0:00:00.518160\n",
      "episode: 191/200, loss: 0.0312, duration: 0:00:00.515531\n",
      "#############################################################################\n",
      "##\t[25/35]\tmodel=RL_CNN,\tSEED=0,\ttrade=60,\trisk=56\t##\n",
      "#############################################################################\n",
      "episode: 1/200, loss: 0.1745, duration: 0:00:00.519410\n",
      "episode: 11/200, loss: 0.0288, duration: 0:00:00.531409\n",
      "episode: 21/200, loss: 0.2367, duration: 0:00:00.500828\n",
      "episode: 31/200, loss: 0.1553, duration: 0:00:00.500580\n",
      "episode: 41/200, loss: 0.0959, duration: 0:00:00.511230\n",
      "episode: 51/200, loss: 0.0165, duration: 0:00:00.510865\n",
      "episode: 61/200, loss: 0.0350, duration: 0:00:00.511587\n",
      "episode: 71/200, loss: 0.0587, duration: 0:00:00.499999\n",
      "episode: 81/200, loss: 0.1153, duration: 0:00:00.515625\n",
      "episode: 91/200, loss: 0.0449, duration: 0:00:00.518320\n",
      "episode: 101/200, loss: 0.0255, duration: 0:00:00.499999\n",
      "episode: 111/200, loss: 0.0041, duration: 0:00:00.499998\n",
      "episode: 121/200, loss: 0.0032, duration: 0:00:00.515626\n",
      "episode: 131/200, loss: 0.0179, duration: 0:00:00.516287\n",
      "episode: 141/200, loss: 0.0077, duration: 0:00:00.515625\n",
      "episode: 151/200, loss: 0.0131, duration: 0:00:00.516103\n",
      "episode: 161/200, loss: 0.0145, duration: 0:00:00.517218\n",
      "episode: 171/200, loss: 0.0084, duration: 0:00:00.513368\n",
      "episode: 181/200, loss: -0.0049, duration: 0:00:00.505778\n",
      "episode: 191/200, loss: 0.0059, duration: 0:00:00.513057\n",
      "#############################################################################\n",
      "##\t[26/35]\tmodel=RL_CNN,\tSEED=0,\ttrade=60,\trisk=100\t##\n",
      "#############################################################################\n"
     ]
    },
    {
     "name": "stdout",
     "output_type": "stream",
     "text": [
      "episode: 1/200, loss: 0.2597, duration: 0:00:00.519663\n",
      "episode: 11/200, loss: 0.0514, duration: 0:00:00.527249\n",
      "episode: 21/200, loss: 0.3231, duration: 0:00:00.515626\n",
      "episode: 31/200, loss: 0.2549, duration: 0:00:00.516315\n",
      "episode: 41/200, loss: 0.1397, duration: 0:00:00.515621\n",
      "episode: 51/200, loss: 0.0412, duration: 0:00:00.500694\n",
      "episode: 61/200, loss: 0.0505, duration: 0:00:00.515629\n",
      "episode: 71/200, loss: 0.0647, duration: 0:00:00.515620\n",
      "episode: 81/200, loss: 0.0984, duration: 0:00:00.502149\n",
      "episode: 91/200, loss: 0.0486, duration: 0:00:00.516259\n",
      "episode: 101/200, loss: 0.0264, duration: 0:00:00.515625\n",
      "episode: 111/200, loss: 0.0020, duration: 0:00:00.515625\n",
      "episode: 121/200, loss: 0.0023, duration: 0:00:00.516280\n",
      "episode: 131/200, loss: 0.0103, duration: 0:00:00.515757\n",
      "episode: 141/200, loss: 0.0046, duration: 0:00:00.512225\n",
      "episode: 151/200, loss: 0.0080, duration: 0:00:00.516322\n",
      "episode: 161/200, loss: 0.0091, duration: 0:00:00.516247\n",
      "episode: 171/200, loss: 0.0050, duration: 0:00:00.510320\n",
      "episode: 181/200, loss: -0.0035, duration: 0:00:00.508999\n",
      "episode: 191/200, loss: 0.0037, duration: 0:00:00.515560\n",
      "#############################################################################\n",
      "##\t[27/35]\tmodel=RL_CNN,\tSEED=0,\ttrade=60,\trisk=562\t##\n",
      "#############################################################################\n",
      "episode: 1/200, loss: 1.1550, duration: 0:00:00.518892\n",
      "episode: 11/200, loss: 0.2892, duration: 0:00:00.510159\n",
      "episode: 21/200, loss: 1.2250, duration: 0:00:00.511557\n",
      "episode: 31/200, loss: 1.1681, duration: 0:00:00.515625\n",
      "episode: 41/200, loss: 0.5512, duration: 0:00:00.510781\n",
      "episode: 51/200, loss: 0.2497, duration: 0:00:00.564160\n",
      "episode: 61/200, loss: 0.2301, duration: 0:00:00.500677\n",
      "episode: 71/200, loss: 0.2127, duration: 0:00:00.499993\n",
      "episode: 81/200, loss: 0.2059, duration: 0:00:00.500734\n",
      "episode: 91/200, loss: 0.1416, duration: 0:00:00.499999\n",
      "episode: 101/200, loss: 0.0610, duration: 0:00:00.515626\n",
      "episode: 111/200, loss: 0.0143, duration: 0:00:00.520265\n",
      "episode: 121/200, loss: 0.0132, duration: 0:00:00.516385\n",
      "episode: 131/200, loss: 0.0142, duration: 0:00:00.514805\n",
      "episode: 141/200, loss: 0.0089, duration: 0:00:00.514697\n",
      "episode: 151/200, loss: 0.0155, duration: 0:00:00.518825\n",
      "episode: 161/200, loss: 0.0141, duration: 0:00:00.518166\n",
      "episode: 171/200, loss: 0.0105, duration: 0:00:00.518419\n",
      "episode: 181/200, loss: -0.0015, duration: 0:00:00.515623\n",
      "episode: 191/200, loss: 0.0048, duration: 0:00:00.515625\n",
      "#############################################################################\n",
      "##\t[28/35]\tmodel=RL_CNN,\tSEED=0,\ttrade=60,\trisk=1000\t##\n",
      "#############################################################################\n",
      "episode: 1/200, loss: 2.0038, duration: 0:00:00.519635\n",
      "episode: 11/200, loss: 0.5157, duration: 0:00:00.500002\n",
      "episode: 21/200, loss: 2.0620, duration: 0:00:00.504808\n",
      "episode: 31/200, loss: 2.0234, duration: 0:00:00.502199\n",
      "episode: 41/200, loss: 0.9340, duration: 0:00:00.500149\n",
      "episode: 51/200, loss: 0.4416, duration: 0:00:00.516248\n",
      "episode: 61/200, loss: 0.3974, duration: 0:00:00.502803\n",
      "episode: 71/200, loss: 0.3544, duration: 0:00:00.499440\n",
      "episode: 81/200, loss: 0.3169, duration: 0:00:00.498735\n",
      "episode: 91/200, loss: 0.2311, duration: 0:00:00.513060\n",
      "episode: 101/200, loss: 0.0976, duration: 0:00:00.502786\n",
      "episode: 111/200, loss: 0.0272, duration: 0:00:00.499998\n",
      "episode: 121/200, loss: 0.0241, duration: 0:00:00.515626\n",
      "episode: 131/200, loss: 0.0199, duration: 0:00:00.500000\n",
      "episode: 141/200, loss: 0.0144, duration: 0:00:00.511627\n",
      "episode: 151/200, loss: 0.0241, duration: 0:00:00.499999\n",
      "episode: 161/200, loss: 0.0210, duration: 0:00:00.506164\n",
      "episode: 171/200, loss: 0.0169, duration: 0:00:00.500002\n",
      "episode: 181/200, loss: 0.0000, duration: 0:00:00.511133\n",
      "episode: 191/200, loss: 0.0067, duration: 0:00:00.554307\n"
     ]
    },
    {
     "name": "stderr",
     "output_type": "stream",
     "text": [
      "C:\\Users\\Ruan Pretorius\\anaconda3\\lib\\site-packages\\ipykernel_launcher.py:134: RuntimeWarning: More than 20 figures have been opened. Figures created through the pyplot interface (`matplotlib.pyplot.figure`) are retained until explicitly closed and may consume too much memory. (To control this warning, see the rcParam `figure.max_open_warning`).\n"
     ]
    },
    {
     "name": "stdout",
     "output_type": "stream",
     "text": [
      "#############################################################################\n",
      "##\t[29/35]\tmodel=RL_CNN,\tSEED=0,\ttrade=100,\trisk=0.1\t##\n",
      "#############################################################################\n",
      "episode: 1/200, loss: 0.1069, duration: 0:00:00.521917\n",
      "episode: 11/200, loss: 0.0071, duration: 0:00:00.519242\n",
      "episode: 21/200, loss: 0.1651, duration: 0:00:00.504677\n",
      "episode: 31/200, loss: 0.0167, duration: 0:00:00.515627\n",
      "episode: 41/200, loss: 0.0327, duration: 0:00:00.515626\n",
      "episode: 51/200, loss: -0.0352, duration: 0:00:00.515999\n",
      "episode: 61/200, loss: 0.0035, duration: 0:00:00.516307\n",
      "episode: 71/200, loss: 0.0192, duration: 0:00:00.515625\n",
      "episode: 81/200, loss: 0.0975, duration: 0:00:00.515827\n",
      "episode: 91/200, loss: -0.0087, duration: 0:00:00.515625\n",
      "episode: 101/200, loss: -0.0186, duration: 0:00:00.500000\n",
      "episode: 111/200, loss: -0.0435, duration: 0:00:00.515630\n",
      "episode: 121/200, loss: -0.0490, duration: 0:00:00.515627\n",
      "episode: 131/200, loss: 0.0127, duration: 0:00:00.515627\n",
      "episode: 141/200, loss: 0.0107, duration: 0:00:00.515626\n",
      "episode: 151/200, loss: 0.0226, duration: 0:00:00.516918\n",
      "episode: 161/200, loss: 0.1109, duration: 0:00:00.594320\n",
      "episode: 171/200, loss: 0.0478, duration: 0:00:00.518350\n",
      "episode: 181/200, loss: -0.0630, duration: 0:00:00.519830\n",
      "episode: 191/200, loss: 0.0612, duration: 0:00:00.500001\n"
     ]
    },
    {
     "name": "stderr",
     "output_type": "stream",
     "text": [
      "C:\\Users\\Ruan Pretorius\\anaconda3\\lib\\site-packages\\ipykernel_launcher.py:134: RuntimeWarning: More than 20 figures have been opened. Figures created through the pyplot interface (`matplotlib.pyplot.figure`) are retained until explicitly closed and may consume too much memory. (To control this warning, see the rcParam `figure.max_open_warning`).\n"
     ]
    },
    {
     "name": "stdout",
     "output_type": "stream",
     "text": [
      "#############################################################################\n",
      "##\t[30/35]\tmodel=RL_CNN,\tSEED=0,\ttrade=100,\trisk=1\t##\n",
      "#############################################################################\n",
      "episode: 1/200, loss: 0.1087, duration: 0:00:00.520890\n",
      "episode: 11/200, loss: 0.0074, duration: 0:00:00.516321\n",
      "episode: 21/200, loss: 0.1675, duration: 0:00:00.515662\n",
      "episode: 31/200, loss: 0.0215, duration: 0:00:00.516314\n",
      "episode: 41/200, loss: 0.0338, duration: 0:00:00.518417\n",
      "episode: 51/200, loss: -0.0331, duration: 0:00:00.515625\n",
      "episode: 61/200, loss: 0.0061, duration: 0:00:00.514776\n",
      "episode: 71/200, loss: 0.0204, duration: 0:00:00.514764\n",
      "episode: 81/200, loss: 0.1058, duration: 0:00:00.517884\n",
      "episode: 91/200, loss: -0.0009, duration: 0:00:00.510115\n",
      "episode: 101/200, loss: -0.0152, duration: 0:00:00.516295\n",
      "episode: 111/200, loss: -0.0415, duration: 0:00:00.531249\n",
      "episode: 121/200, loss: -0.0432, duration: 0:00:00.503912\n",
      "episode: 131/200, loss: 0.0129, duration: 0:00:00.515625\n",
      "episode: 141/200, loss: 0.0105, duration: 0:00:00.518133\n",
      "episode: 151/200, loss: 0.0216, duration: 0:00:00.510559\n",
      "episode: 161/200, loss: 0.1078, duration: 0:00:00.500001\n",
      "episode: 171/200, loss: 0.0481, duration: 0:00:00.516313\n",
      "episode: 181/200, loss: -0.0571, duration: 0:00:00.515627\n",
      "episode: 191/200, loss: 0.0561, duration: 0:00:00.516302\n"
     ]
    },
    {
     "name": "stderr",
     "output_type": "stream",
     "text": [
      "C:\\Users\\Ruan Pretorius\\anaconda3\\lib\\site-packages\\ipykernel_launcher.py:134: RuntimeWarning: More than 20 figures have been opened. Figures created through the pyplot interface (`matplotlib.pyplot.figure`) are retained until explicitly closed and may consume too much memory. (To control this warning, see the rcParam `figure.max_open_warning`).\n"
     ]
    },
    {
     "name": "stdout",
     "output_type": "stream",
     "text": [
      "#############################################################################\n",
      "##\t[31/35]\tmodel=RL_CNN,\tSEED=0,\ttrade=100,\trisk=18\t##\n",
      "#############################################################################\n",
      "episode: 1/200, loss: 0.1416, duration: 0:00:00.520708\n",
      "episode: 11/200, loss: 0.0176, duration: 0:00:00.499997\n",
      "episode: 21/200, loss: 0.2170, duration: 0:00:00.522180\n",
      "episode: 31/200, loss: 0.0797, duration: 0:00:00.510116\n",
      "episode: 41/200, loss: 0.0674, duration: 0:00:00.512912\n",
      "episode: 51/200, loss: -0.0014, duration: 0:00:00.518324\n",
      "episode: 61/200, loss: 0.0234, duration: 0:00:00.515626\n",
      "episode: 71/200, loss: 0.0524, duration: 0:00:00.515622\n",
      "episode: 81/200, loss: 0.1800, duration: 0:00:00.500001\n",
      "episode: 91/200, loss: 0.0345, duration: 0:00:00.516319\n",
      "episode: 101/200, loss: 0.0306, duration: 0:00:00.515624\n",
      "episode: 111/200, loss: -0.0018, duration: 0:00:00.504936\n",
      "episode: 121/200, loss: -0.0023, duration: 0:00:00.520048\n",
      "episode: 131/200, loss: 0.0338, duration: 0:00:00.500001\n",
      "episode: 141/200, loss: 0.0499, duration: 0:00:00.510889\n",
      "episode: 151/200, loss: 0.0455, duration: 0:00:00.519954\n",
      "episode: 161/200, loss: 0.1721, duration: 0:00:00.515621\n",
      "episode: 171/200, loss: 0.1000, duration: 0:00:00.506664\n",
      "episode: 181/200, loss: -0.0248, duration: 0:00:00.515385\n",
      "episode: 191/200, loss: 0.0555, duration: 0:00:00.499224\n"
     ]
    },
    {
     "name": "stderr",
     "output_type": "stream",
     "text": [
      "C:\\Users\\Ruan Pretorius\\anaconda3\\lib\\site-packages\\ipykernel_launcher.py:134: RuntimeWarning: More than 20 figures have been opened. Figures created through the pyplot interface (`matplotlib.pyplot.figure`) are retained until explicitly closed and may consume too much memory. (To control this warning, see the rcParam `figure.max_open_warning`).\n"
     ]
    },
    {
     "name": "stdout",
     "output_type": "stream",
     "text": [
      "#############################################################################\n",
      "##\t[32/35]\tmodel=RL_CNN,\tSEED=0,\ttrade=100,\trisk=56\t##\n",
      "#############################################################################\n",
      "episode: 1/200, loss: 0.2153, duration: 0:00:00.518874\n",
      "episode: 11/200, loss: 0.0435, duration: 0:00:00.495780\n",
      "episode: 21/200, loss: 0.2975, duration: 0:00:00.499997\n",
      "episode: 31/200, loss: 0.1820, duration: 0:00:00.500721\n",
      "episode: 41/200, loss: 0.1143, duration: 0:00:00.499997\n",
      "episode: 51/200, loss: 0.0329, duration: 0:00:00.500673\n",
      "episode: 61/200, loss: 0.0514, duration: 0:00:00.500005\n",
      "episode: 71/200, loss: 0.0875, duration: 0:00:00.500704\n",
      "episode: 81/200, loss: 0.2185, duration: 0:00:00.499998\n",
      "episode: 91/200, loss: 0.0682, duration: 0:00:00.504974\n",
      "episode: 101/200, loss: 0.0523, duration: 0:00:00.502842\n",
      "episode: 111/200, loss: 0.0148, duration: 0:00:00.500681\n",
      "episode: 121/200, loss: 0.0174, duration: 0:00:00.499999\n",
      "episode: 131/200, loss: 0.0402, duration: 0:00:00.500670\n",
      "episode: 141/200, loss: 0.0207, duration: 0:00:00.500002\n",
      "episode: 151/200, loss: 0.0229, duration: 0:00:00.506688\n",
      "episode: 161/200, loss: 0.0245, duration: 0:00:00.499991\n",
      "episode: 171/200, loss: 0.0143, duration: 0:00:00.513928\n",
      "episode: 181/200, loss: -0.0030, duration: 0:00:00.500004\n",
      "episode: 191/200, loss: 0.0066, duration: 0:00:00.505399\n"
     ]
    },
    {
     "name": "stderr",
     "output_type": "stream",
     "text": [
      "C:\\Users\\Ruan Pretorius\\anaconda3\\lib\\site-packages\\ipykernel_launcher.py:134: RuntimeWarning: More than 20 figures have been opened. Figures created through the pyplot interface (`matplotlib.pyplot.figure`) are retained until explicitly closed and may consume too much memory. (To control this warning, see the rcParam `figure.max_open_warning`).\n"
     ]
    },
    {
     "name": "stdout",
     "output_type": "stream",
     "text": [
      "#############################################################################\n",
      "##\t[33/35]\tmodel=RL_CNN,\tSEED=0,\ttrade=100,\trisk=100\t##\n",
      "#############################################################################\n",
      "episode: 1/200, loss: 0.3005, duration: 0:00:00.520674\n",
      "episode: 11/200, loss: 0.0664, duration: 0:00:00.500591\n",
      "episode: 21/200, loss: 0.3881, duration: 0:00:00.511932\n",
      "episode: 31/200, loss: 0.2963, duration: 0:00:00.500216\n",
      "episode: 41/200, loss: 0.1640, duration: 0:00:00.496273\n",
      "episode: 51/200, loss: 0.0650, duration: 0:00:00.500633\n",
      "episode: 61/200, loss: 0.0765, duration: 0:00:00.501702\n",
      "episode: 71/200, loss: 0.1101, duration: 0:00:00.500655\n",
      "episode: 81/200, loss: 0.2238, duration: 0:00:00.495620\n",
      "episode: 91/200, loss: 0.0889, duration: 0:00:00.515625\n",
      "episode: 101/200, loss: 0.0569, duration: 0:00:00.511132\n",
      "episode: 111/200, loss: 0.0136, duration: 0:00:00.500002\n",
      "episode: 121/200, loss: 0.0132, duration: 0:00:00.498874\n",
      "episode: 131/200, loss: 0.0197, duration: 0:00:00.500002\n",
      "episode: 141/200, loss: 0.0098, duration: 0:00:00.500649\n",
      "episode: 151/200, loss: 0.0124, duration: 0:00:00.502484\n",
      "episode: 161/200, loss: 0.0140, duration: 0:00:00.495927\n",
      "episode: 171/200, loss: 0.0091, duration: 0:00:00.501418\n",
      "episode: 181/200, loss: -0.0027, duration: 0:00:00.506880\n",
      "episode: 191/200, loss: 0.0056, duration: 0:00:00.500002\n"
     ]
    },
    {
     "name": "stderr",
     "output_type": "stream",
     "text": [
      "C:\\Users\\Ruan Pretorius\\anaconda3\\lib\\site-packages\\ipykernel_launcher.py:134: RuntimeWarning: More than 20 figures have been opened. Figures created through the pyplot interface (`matplotlib.pyplot.figure`) are retained until explicitly closed and may consume too much memory. (To control this warning, see the rcParam `figure.max_open_warning`).\n"
     ]
    },
    {
     "name": "stdout",
     "output_type": "stream",
     "text": [
      "#############################################################################\n",
      "##\t[34/35]\tmodel=RL_CNN,\tSEED=0,\ttrade=100,\trisk=562\t##\n",
      "#############################################################################\n",
      "episode: 1/200, loss: 1.1958, duration: 0:00:00.521103\n",
      "episode: 11/200, loss: 0.3062, duration: 0:00:00.512769\n",
      "episode: 21/200, loss: 1.2981, duration: 0:00:00.513046\n",
      "episode: 31/200, loss: 1.2307, duration: 0:00:00.513614\n",
      "episode: 41/200, loss: 0.5801, duration: 0:00:00.503815\n",
      "episode: 51/200, loss: 0.2779, duration: 0:00:00.502732\n",
      "episode: 61/200, loss: 0.2500, duration: 0:00:00.515669\n",
      "episode: 71/200, loss: 0.2385, duration: 0:00:00.499999\n",
      "episode: 81/200, loss: 0.2449, duration: 0:00:00.511316\n",
      "episode: 91/200, loss: 0.1602, duration: 0:00:00.514710\n",
      "episode: 101/200, loss: 0.0715, duration: 0:00:00.512885\n",
      "episode: 111/200, loss: 0.0191, duration: 0:00:00.514787\n",
      "episode: 121/200, loss: 0.0174, duration: 0:00:00.520841\n",
      "episode: 131/200, loss: 0.0180, duration: 0:00:00.515625\n",
      "episode: 141/200, loss: 0.0111, duration: 0:00:00.515630\n",
      "episode: 151/200, loss: 0.0170, duration: 0:00:00.515482\n",
      "episode: 161/200, loss: 0.0163, duration: 0:00:00.517181\n",
      "episode: 171/200, loss: 0.0126, duration: 0:00:00.511246\n",
      "episode: 181/200, loss: -0.0004, duration: 0:00:00.515626\n",
      "episode: 191/200, loss: 0.0060, duration: 0:00:00.515667\n"
     ]
    },
    {
     "name": "stderr",
     "output_type": "stream",
     "text": [
      "C:\\Users\\Ruan Pretorius\\anaconda3\\lib\\site-packages\\ipykernel_launcher.py:134: RuntimeWarning: More than 20 figures have been opened. Figures created through the pyplot interface (`matplotlib.pyplot.figure`) are retained until explicitly closed and may consume too much memory. (To control this warning, see the rcParam `figure.max_open_warning`).\n"
     ]
    },
    {
     "name": "stdout",
     "output_type": "stream",
     "text": [
      "#############################################################################\n",
      "##\t[35/35]\tmodel=RL_CNN,\tSEED=0,\ttrade=100,\trisk=1000\t##\n",
      "#############################################################################\n",
      "episode: 1/200, loss: 2.0446, duration: 0:00:00.520259\n",
      "episode: 11/200, loss: 0.5324, duration: 0:00:00.543671\n",
      "episode: 21/200, loss: 2.1442, duration: 0:00:00.502385\n",
      "episode: 31/200, loss: 2.0973, duration: 0:00:00.515625\n",
      "episode: 41/200, loss: 0.9695, duration: 0:00:00.500955\n",
      "episode: 51/200, loss: 0.4704, duration: 0:00:00.506705\n",
      "episode: 61/200, loss: 0.4181, duration: 0:00:00.515625\n",
      "episode: 71/200, loss: 0.3737, duration: 0:00:00.511561\n",
      "episode: 81/200, loss: 0.3509, duration: 0:00:00.500000\n",
      "episode: 91/200, loss: 0.2475, duration: 0:00:00.500000\n",
      "episode: 101/200, loss: 0.1066, duration: 0:00:00.515625\n",
      "episode: 111/200, loss: 0.0311, duration: 0:00:00.531247\n",
      "episode: 121/200, loss: 0.0279, duration: 0:00:00.527071\n",
      "episode: 131/200, loss: 0.0232, duration: 0:00:00.515626\n",
      "episode: 141/200, loss: 0.0161, duration: 0:00:00.511444\n",
      "episode: 151/200, loss: 0.0251, duration: 0:00:00.504461\n",
      "episode: 161/200, loss: 0.0223, duration: 0:00:00.516802\n",
      "episode: 171/200, loss: 0.0183, duration: 0:00:00.522270\n",
      "episode: 181/200, loss: 0.0011, duration: 0:00:00.509032\n",
      "episode: 191/200, loss: 0.0077, duration: 0:00:00.510110\n"
     ]
    },
    {
     "name": "stderr",
     "output_type": "stream",
     "text": [
      "C:\\Users\\Ruan Pretorius\\anaconda3\\lib\\site-packages\\ipykernel_launcher.py:134: RuntimeWarning: More than 20 figures have been opened. Figures created through the pyplot interface (`matplotlib.pyplot.figure`) are retained until explicitly closed and may consume too much memory. (To control this warning, see the rcParam `figure.max_open_warning`).\n"
     ]
    },
    {
     "name": "stdout",
     "output_type": "stream",
     "text": [
      "Wall time: 47min 55s\n"
     ]
    },
    {
     "data": {
      "text/plain": [
       "<Figure size 1400x500 with 0 Axes>"
      ]
     },
     "metadata": {},
     "output_type": "display_data"
    },
    {
     "data": {
      "text/plain": [
       "<Figure size 1400x500 with 0 Axes>"
      ]
     },
     "metadata": {},
     "output_type": "display_data"
    },
    {
     "data": {
      "text/plain": [
       "<Figure size 1400x500 with 0 Axes>"
      ]
     },
     "metadata": {},
     "output_type": "display_data"
    },
    {
     "data": {
      "text/plain": [
       "<Figure size 1400x500 with 0 Axes>"
      ]
     },
     "metadata": {},
     "output_type": "display_data"
    },
    {
     "data": {
      "text/plain": [
       "<Figure size 1400x500 with 0 Axes>"
      ]
     },
     "metadata": {},
     "output_type": "display_data"
    },
    {
     "data": {
      "text/plain": [
       "<Figure size 1400x500 with 0 Axes>"
      ]
     },
     "metadata": {},
     "output_type": "display_data"
    },
    {
     "data": {
      "text/plain": [
       "<Figure size 1400x500 with 0 Axes>"
      ]
     },
     "metadata": {},
     "output_type": "display_data"
    },
    {
     "data": {
      "text/plain": [
       "<Figure size 1400x500 with 0 Axes>"
      ]
     },
     "metadata": {},
     "output_type": "display_data"
    },
    {
     "data": {
      "text/plain": [
       "<Figure size 1400x500 with 0 Axes>"
      ]
     },
     "metadata": {},
     "output_type": "display_data"
    },
    {
     "data": {
      "text/plain": [
       "<Figure size 1400x500 with 0 Axes>"
      ]
     },
     "metadata": {},
     "output_type": "display_data"
    },
    {
     "data": {
      "text/plain": [
       "<Figure size 1400x500 with 0 Axes>"
      ]
     },
     "metadata": {},
     "output_type": "display_data"
    },
    {
     "data": {
      "text/plain": [
       "<Figure size 1400x500 with 0 Axes>"
      ]
     },
     "metadata": {},
     "output_type": "display_data"
    },
    {
     "data": {
      "text/plain": [
       "<Figure size 1400x500 with 0 Axes>"
      ]
     },
     "metadata": {},
     "output_type": "display_data"
    },
    {
     "data": {
      "text/plain": [
       "<Figure size 1400x500 with 0 Axes>"
      ]
     },
     "metadata": {},
     "output_type": "display_data"
    },
    {
     "data": {
      "text/plain": [
       "<Figure size 1400x500 with 0 Axes>"
      ]
     },
     "metadata": {},
     "output_type": "display_data"
    },
    {
     "data": {
      "text/plain": [
       "<Figure size 1400x500 with 0 Axes>"
      ]
     },
     "metadata": {},
     "output_type": "display_data"
    },
    {
     "data": {
      "text/plain": [
       "<Figure size 1400x500 with 0 Axes>"
      ]
     },
     "metadata": {},
     "output_type": "display_data"
    },
    {
     "data": {
      "text/plain": [
       "<Figure size 1400x500 with 0 Axes>"
      ]
     },
     "metadata": {},
     "output_type": "display_data"
    },
    {
     "data": {
      "text/plain": [
       "<Figure size 1400x500 with 0 Axes>"
      ]
     },
     "metadata": {},
     "output_type": "display_data"
    },
    {
     "data": {
      "text/plain": [
       "<Figure size 1400x500 with 0 Axes>"
      ]
     },
     "metadata": {},
     "output_type": "display_data"
    },
    {
     "data": {
      "text/plain": [
       "<Figure size 1400x500 with 0 Axes>"
      ]
     },
     "metadata": {},
     "output_type": "display_data"
    },
    {
     "data": {
      "text/plain": [
       "<Figure size 1400x500 with 0 Axes>"
      ]
     },
     "metadata": {},
     "output_type": "display_data"
    },
    {
     "data": {
      "text/plain": [
       "<Figure size 1400x500 with 0 Axes>"
      ]
     },
     "metadata": {},
     "output_type": "display_data"
    },
    {
     "data": {
      "text/plain": [
       "<Figure size 1400x500 with 0 Axes>"
      ]
     },
     "metadata": {},
     "output_type": "display_data"
    },
    {
     "data": {
      "text/plain": [
       "<Figure size 1400x500 with 0 Axes>"
      ]
     },
     "metadata": {},
     "output_type": "display_data"
    },
    {
     "data": {
      "text/plain": [
       "<Figure size 1400x500 with 0 Axes>"
      ]
     },
     "metadata": {},
     "output_type": "display_data"
    },
    {
     "data": {
      "text/plain": [
       "<Figure size 1400x500 with 0 Axes>"
      ]
     },
     "metadata": {},
     "output_type": "display_data"
    },
    {
     "data": {
      "text/plain": [
       "<Figure size 1400x500 with 0 Axes>"
      ]
     },
     "metadata": {},
     "output_type": "display_data"
    }
   ],
   "source": [
    "%%time\n",
    "##########################\n",
    "### main training loop ###\n",
    "##########################\n",
    "\n",
    "# define investor preferences to train for\n",
    "#------ extended-boyd-sweep ------#\n",
    "#GAMMA_TRADES = [5.5, 6, 6.5, 7, 7.5, 8, 9, 10, 11, 12, 15, 20, 30]\n",
    "#GAMMA_TRADES = [4, 5]\n",
    "#GAMMA_TRADES = [0.1, 0.5, 1, 2, 3, 45, 60, 100, 200]\n",
    "#GAMMA_RISKS = [0.1, 0.178, 0.316, 0.562, 1, 2, 3, 6, 10, 18, 32, 56, 100, 178, 316, 562, 1000, 2000, 5000, 10000, 20000]\n",
    "#---------------------------------#\n",
    "counter = 0\n",
    "\n",
    "for RANDOM_SEED in SEED_LIST:\n",
    "    model_name = f'{MODEL_BASE_NAME}_seed_{RANDOM_SEED}'\n",
    "    maybe_make_dir(f'experiments/{MARKET_NAME}/seeded/{MODEL_BASE_NAME}/seed_{RANDOM_SEED}')\n",
    "    \n",
    "    for (GAMMA_TRADE, GAMMA_RISK) in GAMMA_PAIRS:\n",
    "        # set random generator seed for tf and np\n",
    "        # this is probably unnecessary because it is done when env is initialised but just incase\n",
    "        tf.random.set_seed(RANDOM_SEED)\n",
    "        np.random.seed(RANDOM_SEED)\n",
    "        counter += 1\n",
    "\n",
    "        # check if test lready done. skip if so\n",
    "        #if not FROM_PRETRAINED:\n",
    "            #skip = os.path.exists(f'experiments/12_assets/00_seeded/seed_{RANDOM_SEED}/trade_{GAMMA_TRADE}_risk_{GAMMA_RISK}') # check if already exists\n",
    "        #else:\n",
    "        \n",
    "        skip = os.path.exists(f'experiments/{MARKET_NAME}/seeded/{MODEL_BASE_NAME}/seed_{RANDOM_SEED}/trade_{GAMMA_TRADE}_risk_{GAMMA_RISK}')\n",
    "\n",
    "        if not skip: # if not exists, do test\n",
    "\n",
    "            print('#############################################################################')\n",
    "            print(f'##\\t[{counter}/{len(GAMMA_PAIRS)}]\\tmodel={MODEL_BASE_NAME},\\tSEED={RANDOM_SEED},\\ttrade={GAMMA_TRADE},\\trisk={GAMMA_RISK}\\t##')\n",
    "            print('#############################################################################')        \n",
    "\n",
    "            # create agent and environment\n",
    "            env = MultiStockEnv(tickers=TICKERS, \n",
    "                                from_date=FROM,\n",
    "                                until=UNTIL, \n",
    "                                #nb_episodes=100,\n",
    "                                cash_key='USDOLLAR', \n",
    "                                gamma_risk=GAMMA_RISK, \n",
    "                                gamma_trade=GAMMA_TRADE,\n",
    "                                half_spread=HALF_SPREAD, \n",
    "                                nonlin_coef=NONLIN_COEFF, \n",
    "                                power=POWER, \n",
    "                                datadir=DATA_DIR, \n",
    "                                state_lookback_window=20, \n",
    "                                distribution=EPISODE_DRAW_DISTRIBUTION,\n",
    "                                days_duration=DAYS_IN_EPISODE, \n",
    "                                mode='train', \n",
    "                                random_seed=RANDOM_SEED,\n",
    "                                init_portfolio=INIT_PORTFOLIO, \n",
    "                                period_in_file_name=FILE_PERIOD, \n",
    "                                nb_forecasts=NB_FORECASTS, \n",
    "                                forecast_type=FORECAST_TYPE,\n",
    "                                use_CNN_state=USE_CNN_STATE,\n",
    "                                verbose=False)\n",
    "\n",
    "            agent = Agent(alpha=0.001, \n",
    "                          gamma=0.99, \n",
    "                          n_assets=len(TICKERS)+1, \n",
    "                          tau=5, \n",
    "                          lookback_window=20, \n",
    "                          n_feature_maps=len(TICKERS)+1,\n",
    "                          use_forecasts=USE_FORECASTS,\n",
    "                          use_CNN_state=USE_CNN_STATE)\n",
    "\n",
    "            # initialise policy by one forward pass then load pretrained weights\n",
    "            #if FROM_PRETRAINED: \n",
    "                #agent.choose_action(env._get_obs())\n",
    "                #agent.load(pretrined_weights_dir)\n",
    "\n",
    "            # configure folders\n",
    "            experiments_folder = f'experiments/{MARKET_NAME}'\n",
    "            from_seeded_folder = f'{experiments_folder}/seeded'\n",
    "            base_model_folder = f'{from_seeded_folder}/{MODEL_BASE_NAME}'\n",
    "            seed_folder = f'{base_model_folder}/seed_{RANDOM_SEED}'\n",
    "            #if FROM_PRETRAINED:\n",
    "            #    pretrained_folder = f'{nb_assets_folder}/0_further_trained'\n",
    "            #    preference_folder = f'{pretrained_folder}/trade_{GAMMA_TRADE}_risk_{GAMMA_RISK}'\n",
    "            #else:\n",
    "            preference_folder = f'{seed_folder}/trade_{GAMMA_TRADE}_risk_{GAMMA_RISK}'\n",
    "            models_folder = f'{preference_folder}/models' # where saved models will be saved\n",
    "            losses_folder = f'{preference_folder}/losses' # where losses will be saved for plotting training progress\n",
    "            fig_folder = f'{preference_folder}/figures'\n",
    "\n",
    "            # create dirictories for saving outputs to (if they don't exist already)\n",
    "            #maybe_make_dir(nb_assets_folder)\n",
    "            maybe_make_dir(seed_folder)\n",
    "            maybe_make_dir(preference_folder)\n",
    "            maybe_make_dir(models_folder)\n",
    "            maybe_make_dir(losses_folder)\n",
    "            maybe_make_dir(fig_folder)\n",
    "\n",
    "            if MODE == 'train':\n",
    "                # play the game num_episodes times and update weights according to loss\n",
    "                losses = []\n",
    "                for e in range(NB_EPISODES):\n",
    "\n",
    "                    # save model weights every few episodes\n",
    "                    if (e%SAVE_EVERY == 0) and (e!=0):\n",
    "                        agent.save(f'{models_folder}/{model_name}_{e}')\n",
    "                        # save losses of training period\n",
    "                        np.save(f'{losses_folder}/{model_name}_{MODE}_{e}_losses.npy', np.array(losses))\n",
    "\n",
    "                    t0 = datetime.datetime.now()\n",
    "                    try:\n",
    "                        loss = play_one_episode(agent, env, MODE)\n",
    "                    except Exception as err:\n",
    "                        print(f'\\t*** error in episode {e}:', err)\n",
    "                        loss = np.nan#5.0 # just an arbitraty number that seems high compared to usual losses\n",
    "                    dt = datetime.datetime.now() - t0\n",
    "                    losses.append(loss) # append episode loss\n",
    "                    # print progress\n",
    "                    if (e%10 == 0):\n",
    "                        print(f\"episode: {e + 1}/{NB_EPISODES}, loss: {loss:.4f}, duration: {dt}\")\n",
    "\n",
    "\n",
    "                # save the weights and losses when done\t\n",
    "                agent.save(f'{models_folder}/{model_name}_{NB_EPISODES}')\n",
    "                np.save(f'{losses_folder}/{model_name}_{MODE}_{NB_EPISODES}_losses.npy', np.array(losses))\n",
    "\n",
    "            # plot losses\n",
    "            save_fig = True\n",
    "\n",
    "            # load losses file\n",
    "            file = f'{losses_folder}/{model_name}_{MODE}_{NB_EPISODES}_losses.npy'\n",
    "            loaded_losses = np.load(file)\n",
    "\n",
    "            # plot losses\n",
    "            plt.figure(figsize=(14,5))\n",
    "            plt.plot(loaded_losses)\n",
    "            plt.title(f'{model_name} Training Loss')\n",
    "            plt.xlabel('Episode Number')\n",
    "            plt.ylabel(r'Loss: $-G \\approx -\\mathbb{E}\\left[ \\sum_{k=0}^{T} \\gamma^k R_t \\right]$')\n",
    "            #plt.yscale('symlog')\n",
    "            if save_fig:\n",
    "                plt.savefig(f'{fig_folder}/{model_name}_losses.png', dpi=150, facecolor=None, edgecolor=None, bbox_inches='tight')\n",
    "            plt.clf()\n",
    "\n",
    "        else:\n",
    "            print(f'\\talready exists: trade_{GAMMA_TRADE}_risk_{GAMMA_RISK}')\n",
    "            print('\\tskip to next.')"
   ]
  },
  {
   "cell_type": "code",
   "execution_count": 6,
   "metadata": {},
   "outputs": [
    {
     "data": {
      "text/plain": [
       "'2019-01-01'"
      ]
     },
     "execution_count": 6,
     "metadata": {},
     "output_type": "execute_result"
    }
   ],
   "source": [
    "# double check the end of training\n",
    "#env.until"
   ]
  },
  {
   "cell_type": "code",
   "execution_count": 7,
   "metadata": {},
   "outputs": [
    {
     "name": "stdout",
     "output_type": "stream",
     "text": [
      "training done.\n"
     ]
    }
   ],
   "source": [
    "print('training done.')"
   ]
  },
  {
   "cell_type": "code",
   "execution_count": 8,
   "metadata": {},
   "outputs": [],
   "source": [
    "### Now repeat this for the different RL models.\n",
    "### remember to update the gamma-pairs, model base name, and model specs/setup in beginning of notebook!"
   ]
  }
 ],
 "metadata": {
  "kernelspec": {
   "display_name": "Python 3",
   "language": "python",
   "name": "python3"
  },
  "language_info": {
   "codemirror_mode": {
    "name": "ipython",
    "version": 3
   },
   "file_extension": ".py",
   "mimetype": "text/x-python",
   "name": "python",
   "nbconvert_exporter": "python",
   "pygments_lexer": "ipython3",
   "version": "3.7.6"
  }
 },
 "nbformat": 4,
 "nbformat_minor": 4
}
