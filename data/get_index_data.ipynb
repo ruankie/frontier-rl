{
 "cells": [
  {
   "cell_type": "code",
   "execution_count": 1,
   "id": "6bb7549d",
   "metadata": {},
   "outputs": [],
   "source": [
    "import yfinance as yf"
   ]
  },
  {
   "cell_type": "code",
   "execution_count": 2,
   "id": "d2f09fdb",
   "metadata": {},
   "outputs": [],
   "source": [
    "TICKER_LIST = ['^DJI', '^N225', 'ILF']\n",
    "\n",
    "period_df = {\n",
    "    '^DJI':  {'start': '2010-01-01', \n",
    "              'end': '2020-01-01',\n",
    "              'name': 'DOW_30'},\n",
    "    '^N225': {'start': '2013-05-01', \n",
    "              'end': '2020-01-01',\n",
    "              'name': 'NIK_25'},\n",
    "    'ILF':   {'start': '2010-03-01', \n",
    "              'end': '2016-01-01',\n",
    "              'name': 'LA_40'},\n",
    "}"
   ]
  },
  {
   "cell_type": "code",
   "execution_count": 3,
   "id": "f9944576",
   "metadata": {},
   "outputs": [
    {
     "name": "stdout",
     "output_type": "stream",
     "text": [
      "tickers: 3\n",
      "['^DJI', '^N225', 'ILF']\n"
     ]
    }
   ],
   "source": [
    "print('tickers:',len(TICKER_LIST))\n",
    "print(TICKER_LIST)"
   ]
  },
  {
   "cell_type": "code",
   "execution_count": 4,
   "id": "b49f1c3d",
   "metadata": {},
   "outputs": [
    {
     "name": "stdout",
     "output_type": "stream",
     "text": [
      "[*********************100%***********************]  1 of 1 completed\n",
      "\t^DJI data saved.\n",
      "[*********************100%***********************]  1 of 1 completed\n",
      "\t^N225 data saved.\n",
      "[*********************100%***********************]  1 of 1 completed\n",
      "\tILF data saved.\n"
     ]
    }
   ],
   "source": [
    "for tic in TICKER_LIST:\n",
    "    data = yf.download(tickers=tic,\n",
    "                interval='1d',\n",
    "                group_by='ticker',\n",
    "                start=period_df[tic]['start'],\n",
    "                end=period_df[tic]['end']\n",
    "                )\n",
    "    data[['Adj Close']].to_csv(f'Indices/{period_df[tic][\"name\"]}_1d_close.csv')\n",
    "    print(f'\\t{tic} data saved.')"
   ]
  },
  {
   "cell_type": "code",
   "execution_count": 5,
   "id": "6dda9fe4",
   "metadata": {},
   "outputs": [
    {
     "name": "stdout",
     "output_type": "stream",
     "text": [
      "done.\n"
     ]
    }
   ],
   "source": [
    "print('done.')"
   ]
  },
  {
   "cell_type": "code",
   "execution_count": null,
   "id": "2fd7a316",
   "metadata": {},
   "outputs": [],
   "source": []
  }
 ],
 "metadata": {
  "kernelspec": {
   "display_name": "Python 3",
   "language": "python",
   "name": "python3"
  },
  "language_info": {
   "codemirror_mode": {
    "name": "ipython",
    "version": 3
   },
   "file_extension": ".py",
   "mimetype": "text/x-python",
   "name": "python",
   "nbconvert_exporter": "python",
   "pygments_lexer": "ipython3",
   "version": "3.7.6"
  }
 },
 "nbformat": 4,
 "nbformat_minor": 5
}
