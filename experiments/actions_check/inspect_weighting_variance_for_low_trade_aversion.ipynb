{
 "cells": [
  {
   "cell_type": "markdown",
   "metadata": {},
   "source": [
    "# inspect portfolio weight changes for different trade aversions"
   ]
  },
  {
   "cell_type": "code",
   "execution_count": null,
   "metadata": {},
   "outputs": [],
   "source": [
    "# look at backtest notebook\n",
    "# for each market:\n",
    "# pick values for risk and hold aversion to keep constant\n",
    "# load a model with low and high trade aversion parameter\n",
    "# run backtest and see how much their portfolio weights change (check if they all learn a buy-and-hold strategy)"
   ]
  }
 ],
 "metadata": {
  "language_info": {
   "name": "python"
  },
  "orig_nbformat": 4
 },
 "nbformat": 4,
 "nbformat_minor": 2
}
