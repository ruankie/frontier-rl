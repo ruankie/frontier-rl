{
 "cells": [
  {
   "cell_type": "code",
   "execution_count": 1,
   "metadata": {},
   "outputs": [],
   "source": [
    "import pandas as pd\n",
    "import matplotlib.pyplot as plt"
   ]
  },
  {
   "cell_type": "code",
   "execution_count": 2,
   "metadata": {},
   "outputs": [],
   "source": [
    "MARKET_NAME = 'DOW_30'\n",
    "MODEL_BASE_NAME = 'RL_CNN'"
   ]
  },
  {
   "cell_type": "code",
   "execution_count": 3,
   "metadata": {},
   "outputs": [],
   "source": [
    "long_only_df = pd.read_csv(f'{MARKET_NAME}_{MODEL_BASE_NAME}_seed_frontiers_long_only.csv')\n",
    "long_short_df = pd.read_csv(f'{MARKET_NAME}_{MODEL_BASE_NAME}_seed_frontiers.csv')"
   ]
  },
  {
   "cell_type": "code",
   "execution_count": 4,
   "metadata": {},
   "outputs": [
    {
     "data": {
      "text/html": [
       "<div>\n",
       "<style scoped>\n",
       "    .dataframe tbody tr th:only-of-type {\n",
       "        vertical-align: middle;\n",
       "    }\n",
       "\n",
       "    .dataframe tbody tr th {\n",
       "        vertical-align: top;\n",
       "    }\n",
       "\n",
       "    .dataframe thead th {\n",
       "        text-align: right;\n",
       "    }\n",
       "</style>\n",
       "<table border=\"1\" class=\"dataframe\">\n",
       "  <thead>\n",
       "    <tr style=\"text-align: right;\">\n",
       "      <th></th>\n",
       "      <th>gamma_trade</th>\n",
       "      <th>gamma_risk</th>\n",
       "      <th>seed</th>\n",
       "      <th>excess_return</th>\n",
       "      <th>excess_risk</th>\n",
       "      <th>sharpe</th>\n",
       "      <th>is_pareto</th>\n",
       "    </tr>\n",
       "  </thead>\n",
       "  <tbody>\n",
       "    <tr>\n",
       "      <th>0</th>\n",
       "      <td>20.0</td>\n",
       "      <td>316.0</td>\n",
       "      <td>0</td>\n",
       "      <td>-0.097223</td>\n",
       "      <td>0.424573</td>\n",
       "      <td>-0.228989</td>\n",
       "      <td>True</td>\n",
       "    </tr>\n",
       "    <tr>\n",
       "      <th>1</th>\n",
       "      <td>5.0</td>\n",
       "      <td>562.0</td>\n",
       "      <td>0</td>\n",
       "      <td>-0.054588</td>\n",
       "      <td>0.424585</td>\n",
       "      <td>-0.128568</td>\n",
       "      <td>True</td>\n",
       "    </tr>\n",
       "    <tr>\n",
       "      <th>2</th>\n",
       "      <td>3.0</td>\n",
       "      <td>562.0</td>\n",
       "      <td>0</td>\n",
       "      <td>-0.036223</td>\n",
       "      <td>0.424775</td>\n",
       "      <td>-0.085275</td>\n",
       "      <td>True</td>\n",
       "    </tr>\n",
       "  </tbody>\n",
       "</table>\n",
       "</div>"
      ],
      "text/plain": [
       "   gamma_trade  gamma_risk  seed  excess_return  excess_risk    sharpe  \\\n",
       "0         20.0       316.0     0      -0.097223     0.424573 -0.228989   \n",
       "1          5.0       562.0     0      -0.054588     0.424585 -0.128568   \n",
       "2          3.0       562.0     0      -0.036223     0.424775 -0.085275   \n",
       "\n",
       "   is_pareto  \n",
       "0       True  \n",
       "1       True  \n",
       "2       True  "
      ]
     },
     "execution_count": 4,
     "metadata": {},
     "output_type": "execute_result"
    }
   ],
   "source": [
    "long_only_df.head(3)"
   ]
  },
  {
   "cell_type": "code",
   "execution_count": 5,
   "metadata": {},
   "outputs": [
    {
     "data": {
      "text/html": [
       "<div>\n",
       "<style scoped>\n",
       "    .dataframe tbody tr th:only-of-type {\n",
       "        vertical-align: middle;\n",
       "    }\n",
       "\n",
       "    .dataframe tbody tr th {\n",
       "        vertical-align: top;\n",
       "    }\n",
       "\n",
       "    .dataframe thead th {\n",
       "        text-align: right;\n",
       "    }\n",
       "</style>\n",
       "<table border=\"1\" class=\"dataframe\">\n",
       "  <thead>\n",
       "    <tr style=\"text-align: right;\">\n",
       "      <th></th>\n",
       "      <th>gamma_trade</th>\n",
       "      <th>gamma_risk</th>\n",
       "      <th>gamma_hold</th>\n",
       "      <th>seed</th>\n",
       "      <th>excess_return</th>\n",
       "      <th>excess_risk</th>\n",
       "      <th>sharpe</th>\n",
       "      <th>is_pareto</th>\n",
       "    </tr>\n",
       "  </thead>\n",
       "  <tbody>\n",
       "    <tr>\n",
       "      <th>0</th>\n",
       "      <td>1.0</td>\n",
       "      <td>1000.0</td>\n",
       "      <td>1.0</td>\n",
       "      <td>0</td>\n",
       "      <td>-7.420131</td>\n",
       "      <td>1.500748</td>\n",
       "      <td>-4.944288</td>\n",
       "      <td>True</td>\n",
       "    </tr>\n",
       "    <tr>\n",
       "      <th>1</th>\n",
       "      <td>1.0</td>\n",
       "      <td>10000.0</td>\n",
       "      <td>1000.0</td>\n",
       "      <td>0</td>\n",
       "      <td>-4.320232</td>\n",
       "      <td>1.516543</td>\n",
       "      <td>-2.848737</td>\n",
       "      <td>True</td>\n",
       "    </tr>\n",
       "    <tr>\n",
       "      <th>2</th>\n",
       "      <td>1000.0</td>\n",
       "      <td>100000.0</td>\n",
       "      <td>10000.0</td>\n",
       "      <td>0</td>\n",
       "      <td>-4.312632</td>\n",
       "      <td>1.578043</td>\n",
       "      <td>-2.732899</td>\n",
       "      <td>True</td>\n",
       "    </tr>\n",
       "  </tbody>\n",
       "</table>\n",
       "</div>"
      ],
      "text/plain": [
       "   gamma_trade  gamma_risk  gamma_hold  seed  excess_return  excess_risk  \\\n",
       "0          1.0      1000.0         1.0     0      -7.420131     1.500748   \n",
       "1          1.0     10000.0      1000.0     0      -4.320232     1.516543   \n",
       "2       1000.0    100000.0     10000.0     0      -4.312632     1.578043   \n",
       "\n",
       "     sharpe  is_pareto  \n",
       "0 -4.944288       True  \n",
       "1 -2.848737       True  \n",
       "2 -2.732899       True  "
      ]
     },
     "execution_count": 5,
     "metadata": {},
     "output_type": "execute_result"
    }
   ],
   "source": [
    "long_short_df.head(3)"
   ]
  },
  {
   "cell_type": "code",
   "execution_count": 6,
   "metadata": {},
   "outputs": [
    {
     "data": {
      "text/plain": [
       "<matplotlib.legend.Legend at 0x7f5cfc649750>"
      ]
     },
     "execution_count": 6,
     "metadata": {},
     "output_type": "execute_result"
    },
    {
     "data": {
      "image/png": "[encoded data removed]",
      "text/plain": [
       "<Figure size 720x576 with 1 Axes>"
      ]
     },
     "metadata": {
      "needs_background": "light"
     },
     "output_type": "display_data"
    }
   ],
   "source": [
    "seed = 0\n",
    "frontier_dict = {\n",
    "    'Long Only': long_only_df,\n",
    "    'Long & Short': long_short_df,\n",
    "}\n",
    "\n",
    "fig, ax = plt.subplots(figsize=(10,8))\n",
    "\n",
    "for name, df in frontier_dict.items():\n",
    "    frontier_df = df[(df['seed']==seed) & (df['is_pareto']==True)]\n",
    "    ax.plot(frontier_df['excess_risk'], frontier_df['excess_return'], '-o', label=name) # frontier\n",
    "\n",
    "ax.set_xlabel('Excess risk (%)')\n",
    "ax.set_ylabel('Excess return (%)')\n",
    "plot_title = f'Frontiers: {MARKET_NAME} {MODEL_BASE_NAME}'\n",
    "ax.set_title(plot_title)\n",
    "ax.legend()\n",
    "\n",
    "# if xlim != None:\n",
    "#     ax.set_xlim(xlim)\n",
    "\n",
    "# if ylim != None:\n",
    "#     ax.set_ylim(ylim)"
   ]
  },
  {
   "cell_type": "code",
   "execution_count": null,
   "metadata": {},
   "outputs": [],
   "source": []
  },
  {
   "cell_type": "code",
   "execution_count": null,
   "metadata": {},
   "outputs": [],
   "source": []
  }
 ],
 "metadata": {
  "kernelspec": {
   "display_name": "Python 3",
   "language": "python",
   "name": "python3"
  },
  "language_info": {
   "codemirror_mode": {
    "name": "ipython",
    "version": 3
   },
   "file_extension": ".py",
   "mimetype": "text/x-python",
   "name": "python",
   "nbconvert_exporter": "python",
   "pygments_lexer": "ipython3",
   "version": "3.7.6"
  }
 },
 "nbformat": 4,
 "nbformat_minor": 4
}
