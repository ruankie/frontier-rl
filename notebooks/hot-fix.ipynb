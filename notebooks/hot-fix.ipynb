{
 "cells": [
  {
   "cell_type": "markdown",
   "id": "d66be078",
   "metadata": {},
   "source": [
    "# Description\n",
    "This notebook removes data from 2010-12-24 present in the processed data of the LA_40 market (to fix training/backtesting errors)."
   ]
  },
  {
   "cell_type": "code",
   "execution_count": 1,
   "id": "25724ae8",
   "metadata": {},
   "outputs": [],
   "source": [
    "import pandas as pd\n",
    "from datetime import datetime"
   ]
  },
  {
   "cell_type": "code",
   "execution_count": 2,
   "id": "35eb6006",
   "metadata": {},
   "outputs": [
    {
     "data": {
      "text/plain": [
       "(1591, 25)"
      ]
     },
     "execution_count": 2,
     "metadata": {},
     "output_type": "execute_result"
    }
   ],
   "source": [
    "datadir = '../data/LA_40/preprocessed_data/'\n",
    "returns = pd.read_csv(datadir+'returns.csv.gz',index_col=0,parse_dates=[0])\n",
    "returns.shape"
   ]
  },
  {
   "cell_type": "code",
   "execution_count": 3,
   "id": "88bc1bf0",
   "metadata": {},
   "outputs": [
    {
     "data": {
      "text/plain": [
       "DatetimeIndex(['2010-12-24'], dtype='datetime64[ns]', freq=None)"
      ]
     },
     "execution_count": 3,
     "metadata": {},
     "output_type": "execute_result"
    }
   ],
   "source": [
    "t = pd.DatetimeIndex(['2010-12-24'])\n",
    "t"
   ]
  },
  {
   "cell_type": "code",
   "execution_count": 4,
   "id": "1e532b67",
   "metadata": {},
   "outputs": [
    {
     "data": {
      "text/plain": [
       "(1591, 25)"
      ]
     },
     "execution_count": 4,
     "metadata": {},
     "output_type": "execute_result"
    }
   ],
   "source": [
    "returns = returns[~returns.index.isin(t)]\n",
    "returns.shape"
   ]
  },
  {
   "cell_type": "code",
   "execution_count": 5,
   "id": "4095485f",
   "metadata": {},
   "outputs": [
    {
     "name": "stdout",
     "output_type": "stream",
     "text": [
      "saved.\n"
     ]
    }
   ],
   "source": [
    "returns.to_csv(datadir+'returns.csv.gz', compression='gzip', float_format='%.3e')\n",
    "print('saved.')"
   ]
  },
  {
   "cell_type": "code",
   "execution_count": null,
   "id": "9bb7b807",
   "metadata": {},
   "outputs": [],
   "source": []
  }
 ],
 "metadata": {
  "kernelspec": {
   "display_name": "Python 3",
   "language": "python",
   "name": "python3"
  },
  "language_info": {
   "codemirror_mode": {
    "name": "ipython",
    "version": 3
   },
   "file_extension": ".py",
   "mimetype": "text/x-python",
   "name": "python",
   "nbconvert_exporter": "python",
   "pygments_lexer": "ipython3",
   "version": "3.7.6"
  }
 },
 "nbformat": 4,
 "nbformat_minor": 5
}
