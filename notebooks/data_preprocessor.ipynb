{
 "cells": [
  {
   "cell_type": "code",
   "execution_count": 1,
   "id": "8a2bfdc7",
   "metadata": {},
   "outputs": [],
   "source": [
    "#!pip install quandl"
   ]
  },
  {
   "cell_type": "code",
   "execution_count": 2,
   "id": "76340ee3",
   "metadata": {},
   "outputs": [],
   "source": [
    "from src.utilities.data_manager import Downloader, Preprocessor, FactorRiskModel\n",
    "from src.config import market_tickers"
   ]
  },
  {
   "cell_type": "code",
   "execution_count": 3,
   "id": "a87a9ccc",
   "metadata": {},
   "outputs": [],
   "source": [
    "#TICKER_LIST = ['AAPL', 'AMD', 'CSCO', 'F', 'INTC']\n",
    "#TICKER_LIST = market_tickers.LA_40_TICKER\n",
    "#TICKER_LIST = market_tickers.DOW_30_TICKER\n",
    "TICKER_LIST = market_tickers.NIK_25_TICKER\n",
    "\n",
    "TICKER_LIST.sort() # sort list in alphabetical order\n",
    "MARKET_FOLDER = '../data/NIK_25' # give the market a name - data will be saved in a folder with this name\n",
    "\n",
    "# choose at least 3 years before start of backtest for START_DATE!!! --> to create factor risk model\n",
    "START_DATE = '2013-01-01' # format: YYYY-MM-DD\n",
    "FRM_START_DATE = '2018-01-01' # format: YYYY-MM-DD --> actual start of backtest\n",
    "END_DATE = '2020-02-01' # format: YYYY-MM-DD"
   ]
  },
  {
   "cell_type": "code",
   "execution_count": 4,
   "id": "3f547abc",
   "metadata": {},
   "outputs": [
    {
     "name": "stdout",
     "output_type": "stream",
     "text": [
      "tickers: 24\n",
      "['2413.T', '2801.T', '4063.T', '4503.T', '4519.T', '4523.T', '4543.T', '4568.T', '4901.T', '6367.T', '6645.T', '6758.T', '6762.T', '6857.T', '6954.T', '6971.T', '7203.T', '7733.T', '7832.T', '8035.T', '9433.T', '9613.T', '9983.T', '9984.T']\n"
     ]
    }
   ],
   "source": [
    "print('tickers:',len(TICKER_LIST))\n",
    "print(TICKER_LIST)"
   ]
  },
  {
   "cell_type": "code",
   "execution_count": 5,
   "id": "49d754a9",
   "metadata": {},
   "outputs": [
    {
     "name": "stdout",
     "output_type": "stream",
     "text": [
      "downloading ticker data from Yahoo Finance...\n",
      "[*********************100%***********************]  24 of 24 completed\n",
      "\t7733.T data saved.\n",
      "\t6645.T data saved.\n",
      "\t7203.T data saved.\n",
      "\t9984.T data saved.\n",
      "\t9983.T data saved.\n",
      "\t4523.T data saved.\n",
      "\t9433.T data saved.\n",
      "\t7832.T data saved.\n",
      "\t2801.T data saved.\n",
      "\t6954.T data saved.\n",
      "\t6367.T data saved.\n",
      "\t6758.T data saved.\n",
      "\t6971.T data saved.\n",
      "\t4568.T data saved.\n",
      "\t4063.T data saved.\n",
      "\t2413.T data saved.\n",
      "\t4901.T data saved.\n",
      "\t8035.T data saved.\n",
      "\t4519.T data saved.\n",
      "\t9613.T data saved.\n",
      "\t6762.T data saved.\n",
      "\t6857.T data saved.\n",
      "\t4543.T data saved.\n",
      "\t4503.T data saved.\n",
      "done fetching data.\n",
      "Wall time: 3.7 s\n"
     ]
    }
   ],
   "source": [
    "%%time\n",
    "dl = Downloader(ticker_list=TICKER_LIST, \n",
    "                start_date=START_DATE, \n",
    "                end_date=END_DATE, \n",
    "                interval='1d', \n",
    "                save_dir=f'{MARKET_FOLDER}/historical_data/', \n",
    "                verbose=True)\n",
    "\n",
    "dl.fetch_data()"
   ]
  },
  {
   "cell_type": "code",
   "execution_count": 6,
   "id": "3d9a9080",
   "metadata": {
    "scrolled": false
   },
   "outputs": [
    {
     "name": "stdout",
     "output_type": "stream",
     "text": [
      "downloading daily cash returns from Quandl...\n",
      "Removing these days from dataset:\n",
      "Empty DataFrame\n",
      "Columns: [nan price, nan volumes, nan sigmas]\n",
      "Index: []\n",
      "        remaining nan price  remaining nan volumes  remaining nan sigmas\n",
      "2413.T                    1                      1                     1\n",
      "2801.T                    0                      0                     0\n",
      "4063.T                    0                      0                     0\n",
      "4503.T                    0                      0                     0\n",
      "4519.T                    0                      0                     0\n",
      "4523.T                    0                      0                     0\n",
      "4543.T                    0                      0                     0\n",
      "4568.T                    0                      0                     0\n",
      "4901.T                    0                      0                     0\n",
      "6367.T                    0                      0                     0\n",
      "6645.T                    1                      1                     1\n",
      "6758.T                    0                      0                     0\n",
      "6762.T                    0                      0                     0\n",
      "6857.T                    0                      0                     0\n",
      "6954.T                    0                      0                     0\n",
      "6971.T                    0                      0                     0\n",
      "7203.T                    0                      0                     0\n",
      "7733.T                    0                      0                     0\n",
      "7832.T                    0                      0                     0\n",
      "8035.T                    0                      0                     0\n",
      "9433.T                    0                      0                     0\n",
      "9613.T                    0                      0                     0\n",
      "9983.T                    0                      0                     0\n",
      "9984.T                    0                      0                     0\n",
      "        remaining nan price  remaining nan volumes  remaining nan sigmas\n",
      "2413.T                    0                      0                     0\n",
      "2801.T                    0                      0                     0\n",
      "4063.T                    0                      0                     0\n",
      "4503.T                    0                      0                     0\n",
      "4519.T                    0                      0                     0\n",
      "4523.T                    0                      0                     0\n",
      "4543.T                    0                      0                     0\n",
      "4568.T                    0                      0                     0\n",
      "4901.T                    0                      0                     0\n",
      "6367.T                    0                      0                     0\n",
      "6645.T                    0                      0                     0\n",
      "6758.T                    0                      0                     0\n",
      "6762.T                    0                      0                     0\n",
      "6857.T                    0                      0                     0\n",
      "6954.T                    0                      0                     0\n",
      "6971.T                    0                      0                     0\n",
      "7203.T                    0                      0                     0\n",
      "7733.T                    0                      0                     0\n",
      "7832.T                    0                      0                     0\n",
      "8035.T                    0                      0                     0\n",
      "9433.T                    0                      0                     0\n",
      "9613.T                    0                      0                     0\n",
      "9983.T                    0                      0                     0\n",
      "9984.T                    0                      0                     0\n",
      "['2413.T', '2801.T', '4063.T', '4503.T', '4519.T', '4523.T', '4543.T', '4568.T', '4901.T', '6367.T', '6645.T', '6758.T', '6762.T', '6857.T', '6954.T', '6971.T', '7203.T', '7733.T', '7832.T', '8035.T', '9433.T', '9613.T', '9983.T', '9984.T', 'USDOLLAR']\n",
      "prices, volumes, returns, and sigmas saved.\n",
      "calculating log-returns...\n",
      "estimating returns, volume, and volatility...\n",
      "\tTypical variance of returns: 0.000384271\n",
      "\tstrong returns estimate saved.\n",
      "\tweak returns estimate saved.\n",
      "\tvolume and volatisity estimates saved.\n",
      "calculating scaled volume-estimate and sigma-estimate...\n",
      "\tscaled volume-estimate and sigma-estimate saved.\n",
      "done preprocessing.\n",
      "Wall time: 4.37 s\n"
     ]
    }
   ],
   "source": [
    "%%time\n",
    "pr = Preprocessor(ticker_list=TICKER_LIST, \n",
    "                  start_date=START_DATE, \n",
    "                  end_date=END_DATE, \n",
    "                  interval='1d', \n",
    "                  cash_key='USDOLLAR', \n",
    "                  load_dir=f'{MARKET_FOLDER}/historical_data/', \n",
    "                  save_dir=f'{MARKET_FOLDER}/preprocessed_data/', \n",
    "                  verbose=True)\n",
    "\n",
    "pr.process_data()"
   ]
  },
  {
   "cell_type": "code",
   "execution_count": 7,
   "id": "cebe7636",
   "metadata": {},
   "outputs": [
    {
     "name": "stdout",
     "output_type": "stream",
     "text": [
      "loading preprocessed returns...\n",
      "creating 15-factor risk model...\n",
      "done creating 15-factor risk model.\n",
      "Wall time: 606 ms\n"
     ]
    }
   ],
   "source": [
    "%%time\n",
    "frm = FactorRiskModel(start_date=FRM_START_DATE, \n",
    "                      k=15,\n",
    "                      load_dir=f'{MARKET_FOLDER}/preprocessed_data/',\n",
    "                      verbose=True)\n",
    "\n",
    "frm.get_risk_model()"
   ]
  },
  {
   "cell_type": "code",
   "execution_count": 8,
   "id": "53995a0f",
   "metadata": {},
   "outputs": [
    {
     "name": "stdout",
     "output_type": "stream",
     "text": [
      "done.\n"
     ]
    }
   ],
   "source": [
    "print('done.')"
   ]
  },
  {
   "cell_type": "code",
   "execution_count": null,
   "id": "dd0c9c8c",
   "metadata": {},
   "outputs": [],
   "source": []
  },
  {
   "cell_type": "code",
   "execution_count": null,
   "id": "23993759",
   "metadata": {},
   "outputs": [],
   "source": []
  }
 ],
 "metadata": {
  "kernelspec": {
   "display_name": "Python 3",
   "language": "python",
   "name": "python3"
  },
  "language_info": {
   "codemirror_mode": {
    "name": "ipython",
    "version": 3
   },
   "file_extension": ".py",
   "mimetype": "text/x-python",
   "name": "python",
   "nbconvert_exporter": "python",
   "pygments_lexer": "ipython3",
   "version": "3.7.6"
  }
 },
 "nbformat": 4,
 "nbformat_minor": 5
}
