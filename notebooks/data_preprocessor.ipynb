{
 "cells": [
  {
   "cell_type": "code",
   "execution_count": 1,
   "id": "8a2bfdc7",
   "metadata": {},
   "outputs": [],
   "source": [
    "#!pip install quandl"
   ]
  },
  {
   "cell_type": "code",
   "execution_count": 2,
   "id": "76340ee3",
   "metadata": {},
   "outputs": [],
   "source": [
    "from src.utilities.data_manager import Downloader, Preprocessor, FactorRiskModel\n",
    "from src.config import market_tickers"
   ]
  },
  {
   "cell_type": "code",
   "execution_count": 3,
   "id": "a87a9ccc",
   "metadata": {},
   "outputs": [],
   "source": [
    "TICKER_LIST = ['AAPL', 'AMD', 'CSCO', 'F', 'INTC']\n",
    "#TICKER_LIST = market_tickers.LA_40_TICKER\n",
    "#TICKER_LIST = market_tickers.DOW_30_TICKER\n",
    "#TICKER_LIST = market_tickers.NIK_25_TICKER\n",
    "\n",
    "TICKER_LIST.sort() # sort list in alphabetical order\n",
    "MARKET_FOLDER = '../data/TEST_5' # give the market a name - data will be saved in a folder with this name\n",
    "\n",
    "# choose at least 3 years before start of backtest for START_DATE!!! --> to create factor risk model\n",
    "START_DATE = '2016-11-14' # format: YYYY-MM-DD\n",
    "FRM_START_DATE = '2019-01-01' # format: YYYY-MM-DD --> actual start of backtest\n",
    "END_DATE = '2020-01-31' # format: YYYY-MM-DD"
   ]
  },
  {
   "cell_type": "code",
   "execution_count": 4,
   "id": "3f547abc",
   "metadata": {},
   "outputs": [
    {
     "name": "stdout",
     "output_type": "stream",
     "text": [
      "tickers: 5\n",
      "['AAPL', 'AMD', 'CSCO', 'F', 'INTC']\n"
     ]
    }
   ],
   "source": [
    "print('tickers:',len(TICKER_LIST))\n",
    "print(TICKER_LIST)"
   ]
  },
  {
   "cell_type": "code",
   "execution_count": 5,
   "id": "49d754a9",
   "metadata": {},
   "outputs": [
    {
     "name": "stdout",
     "output_type": "stream",
     "text": [
      "downloading ticker data from Yahoo Finance...\n",
      "[*********************100%***********************]  5 of 5 completed\n",
      "\tAAPL data saved.\n",
      "\tAMD data saved.\n",
      "\tCSCO data saved.\n",
      "\tF data saved.\n",
      "\tINTC data saved.\n",
      "done fetching data.\n",
      "CPU times: user 355 ms, sys: 117 ms, total: 472 ms\n",
      "Wall time: 1.12 s\n"
     ]
    }
   ],
   "source": [
    "%%time\n",
    "dl = Downloader(ticker_list=TICKER_LIST, \n",
    "                start_date=START_DATE, \n",
    "                end_date=END_DATE, \n",
    "                interval='1d', \n",
    "                save_dir=f'{MARKET_FOLDER}/historical_data/', \n",
    "                verbose=True)\n",
    "\n",
    "dl.fetch_data()"
   ]
  },
  {
   "cell_type": "code",
   "execution_count": 6,
   "id": "3d9a9080",
   "metadata": {
    "scrolled": false
   },
   "outputs": [
    {
     "name": "stdout",
     "output_type": "stream",
     "text": [
      "downloading daily cash returns from Quandl...\n",
      "Removing these days from dataset:\n",
      "Empty DataFrame\n",
      "Columns: [nan price, nan volumes, nan sigmas]\n",
      "Index: []\n",
      "      remaining nan price  remaining nan volumes  remaining nan sigmas\n",
      "AAPL                    0                      0                     0\n",
      "AMD                     0                      0                     0\n",
      "CSCO                    0                      0                     0\n",
      "F                       0                      0                     0\n",
      "INTC                    0                      0                     0\n",
      "      remaining nan price  remaining nan volumes  remaining nan sigmas\n",
      "AAPL                    0                      0                     0\n",
      "AMD                     0                      0                     0\n",
      "CSCO                    0                      0                     0\n",
      "F                       0                      0                     0\n",
      "INTC                    0                      0                     0\n",
      "['AAPL', 'AMD', 'CSCO', 'F', 'INTC', 'USDOLLAR']\n",
      "prices, volumes, returns, and sigmas saved.\n",
      "calculating log-returns...\n",
      "estimating returns, volume, and volatility...\n",
      "\tTypical variance of returns: 0.000383996\n",
      "\tstrong returns estimate saved.\n",
      "\tweak returns estimate saved.\n",
      "\tvolume and volatisity estimates saved.\n",
      "calculating scaled volume-estimate and sigma-estimate...\n",
      "\tscaled volume-estimate and sigma-estimate saved.\n",
      "done preprocessing.\n",
      "CPU times: user 570 ms, sys: 11.4 ms, total: 581 ms\n",
      "Wall time: 1.9 s\n"
     ]
    }
   ],
   "source": [
    "%%time\n",
    "pr = Preprocessor(ticker_list=TICKER_LIST, \n",
    "                  start_date=START_DATE, \n",
    "                  end_date=END_DATE, \n",
    "                  interval='1d', \n",
    "                  cash_key='USDOLLAR', \n",
    "                  load_dir=f'{MARKET_FOLDER}/historical_data/', \n",
    "                  save_dir=f'{MARKET_FOLDER}/preprocessed_data/', \n",
    "                  verbose=True)\n",
    "\n",
    "pr.process_data()"
   ]
  },
  {
   "cell_type": "code",
   "execution_count": 7,
   "id": "cebe7636",
   "metadata": {},
   "outputs": [
    {
     "name": "stdout",
     "output_type": "stream",
     "text": [
      "loading preprocessed returns...\n",
      "creating 15-factor risk model...\n",
      "done creating 15-factor risk model.\n",
      "CPU times: user 227 ms, sys: 110 ms, total: 337 ms\n",
      "Wall time: 298 ms\n"
     ]
    }
   ],
   "source": [
    "%%time\n",
    "frm = FactorRiskModel(start_date=FRM_START_DATE, \n",
    "                      k=15,\n",
    "                      load_dir=f'{MARKET_FOLDER}/preprocessed_data/',\n",
    "                      verbose=True)\n",
    "\n",
    "frm.get_risk_model()"
   ]
  },
  {
   "cell_type": "code",
   "execution_count": 8,
   "id": "53995a0f",
   "metadata": {},
   "outputs": [
    {
     "name": "stdout",
     "output_type": "stream",
     "text": [
      "done.\n"
     ]
    }
   ],
   "source": [
    "print('done.')"
   ]
  },
  {
   "cell_type": "code",
   "execution_count": null,
   "id": "dd0c9c8c",
   "metadata": {},
   "outputs": [],
   "source": []
  },
  {
   "cell_type": "code",
   "execution_count": null,
   "id": "23993759",
   "metadata": {},
   "outputs": [],
   "source": []
  }
 ],
 "metadata": {
  "kernelspec": {
   "display_name": "Python 3",
   "language": "python",
   "name": "python3"
  },
  "language_info": {
   "codemirror_mode": {
    "name": "ipython",
    "version": 3
   },
   "file_extension": ".py",
   "mimetype": "text/x-python",
   "name": "python",
   "nbconvert_exporter": "python",
   "pygments_lexer": "ipython3",
   "version": "3.7.6"
  }
 },
 "nbformat": 4,
 "nbformat_minor": 5
}
