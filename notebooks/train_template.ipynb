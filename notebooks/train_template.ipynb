{
 "cells": [
  {
   "cell_type": "code",
   "execution_count": 1,
   "metadata": {},
   "outputs": [
    {
     "name": "stdout",
     "output_type": "stream",
     "text": [
      "CPU times: user 6.31 s, sys: 3.71 s, total: 10 s\n",
      "Wall time: 8.15 s\n"
     ]
    }
   ],
   "source": [
    "%%time\n",
    "import numpy as np\n",
    "import pandas as pd\n",
    "import matplotlib.pyplot as plt\n",
    "import datetime\n",
    "import os\n",
    "from src.models.frontier import MultiStockEnv, Agent, play_one_episode, maybe_make_dir\n",
    "from src.config import market_tickers\n",
    "from src.config.model_config import model_parameters\n",
    "import tensorflow as tf"
   ]
  },
  {
   "cell_type": "code",
   "execution_count": 2,
   "metadata": {},
   "outputs": [
    {
     "name": "stdout",
     "output_type": "stream",
     "text": [
      "number of pairs:  35\n"
     ]
    }
   ],
   "source": [
    "#------ small test-sweep ------#\n",
    "GAMMA_TRADES = [0.1, 1, 10, 60, 100]\n",
    "GAMMA_RISKS = [0.1, 1, 18, 56, 100, 562, 1000]\n",
    "#------ extended-boyd-sweep ------#\n",
    "# GAMMA_TRADES =  [0.1, 0.5, 1, 2, 3, 4, 5, 5.5, 6, 6.5, 7, 7.5, 8, 9, 10, 11, 12, 15, 20, 30, 45, 60, 100, 200]\n",
    "# GAMMA_RISKS = [0.1, 0.178, 0.316, 0.562, 1, 2, 3, 6, 10, 18, 32, 56, 100, 178, 316, 562, 1000, 2000, 5000, 10000, 20000]\n",
    "#---------------------------------#\n",
    "\n",
    "GAMMA_PAIRS = []\n",
    "for tr in GAMMA_TRADES:\n",
    "    for ri in GAMMA_RISKS:\n",
    "        GAMMA_PAIRS.append((tr, ri))\n",
    "        \n",
    "#format: (gamma_trade, gamma_risk)\n",
    "print('number of pairs: ', len(GAMMA_PAIRS))\n",
    "#GAMMA_PAIRS"
   ]
  },
  {
   "cell_type": "code",
   "execution_count": 3,
   "metadata": {
    "tags": [
     "parameters"
    ]
   },
   "outputs": [],
   "source": [
    "# papermill parameters\n",
    "SEED_LIST = [\n",
    "             0,\n",
    "             #1111,\n",
    "             #2222, \n",
    "             #3333, \n",
    "             #4444, \n",
    "             #5555,\n",
    "             #6666,\n",
    "             #7777,\n",
    "             #8888,\n",
    "             #9999\n",
    "            ]\n",
    "\n",
    "#TICKERS = market_tickers.DOW_30_TICKER\n",
    "TICKERS = ['AAPL', 'AMD', 'CSCO', 'F', 'INTC']\n",
    "MARKET_NAME = 'TEST_5'\n",
    "MODEL_BASE_NAME = 'RL_CNN' # use either | 'RL_CNN' | 'RL_str_fcast' | 'RL_all_inp' |\n",
    "FROM = '2017-01-03' # start of training set\n",
    "UNTIL = '2019-01-01' # end of training set\n",
    "NB_EPISODES = 200 # number of episodes to train for\n",
    "SAVE_EVERY = 200 # (used 100 when not from tretrained) save model weights every time this amount of episodes pass"
   ]
  },
  {
   "cell_type": "code",
   "execution_count": 4,
   "metadata": {},
   "outputs": [],
   "source": [
    "# other constants and parameters\n",
    "TICKERS.sort()\n",
    "FILE_PERIOD = '1d' # weekly='5d', daily='1d'\n",
    "DAYS_IN_EPISODE = 30 # 365 for one-year long episodes (conditions checked at end of episode)\n",
    "EPISODE_DRAW_DISTRIBUTION = 'uniform' # 'uniform' or 'geometric'. select starting point of eposide according to this distribution when generated\n",
    "HALF_SPREAD = 0.0005/2.0 # 'a' in transaction cost function\n",
    "NONLIN_COEFF = 1.0 # 'b' transaction cost function\n",
    "POWER = 1.5 # power for change in poertfolio vector used in transaction cost\n",
    "#GAMMA_RISK, GAMMA_TRADE, GAMMA_HOLD = 18, 6.5, 0.0 # relative importance of risk, trading cost, and holding cost\n",
    "INIT_PORTFOLIO = 100000000.0 # initial portfolio value\n",
    "#model_name = f'REINFORCE_CNN' #_seeded_{UNTIL} # give model a name to distinguish saved files\n",
    "#NB_EPISODES = 300 #2000\n",
    "MODE = 'train' # train or test mode\n",
    "#FROM_PRETRAINED = False\n",
    "DATA_DIR = f'../data/{MARKET_NAME}/preprocessed_data/'\n",
    "\n",
    "# Tune and double-check these before every test:\n",
    "USE_FORECASTS = model_parameters[MODEL_BASE_NAME]['use_forecasts'] # whether to use forecasts as inputs to agent policy net or not\n",
    "NB_FORECASTS = model_parameters[MODEL_BASE_NAME]['nb_forecasts'] # number of forecasts to use in state. Set to None for no forecasts\n",
    "FORECAST_TYPE = model_parameters[MODEL_BASE_NAME]['forecast_type'] # use 'strong' or 'weak' forecasts (if no forecasts given, this does not matter)\n",
    "USE_CNN_STATE = model_parameters[MODEL_BASE_NAME]['use_cnn_state'] # whether to pass log-rets block for CNN part of policy net (set to false for forecast only)"
   ]
  },
  {
   "cell_type": "code",
   "execution_count": 5,
   "metadata": {
    "scrolled": true
   },
   "outputs": [
    {
     "name": "stdout",
     "output_type": "stream",
     "text": [
      "#############################################################################\n",
      "##\t[1/35]\tmodel=RL_CNN,\tSEED=0,\ttrade=0.1,\trisk=0.1\t##\n",
      "#############################################################################\n",
      "episode: 1/200, loss: 0.0050, duration: 0:00:00.408424\n",
      "episode: 11/200, loss: -0.0266, duration: 0:00:00.412944\n",
      "episode: 21/200, loss: 0.0276, duration: 0:00:00.376945\n",
      "episode: 31/200, loss: -0.0561, duration: 0:00:00.392636\n",
      "episode: 41/200, loss: 0.0090, duration: 0:00:00.381066\n",
      "episode: 51/200, loss: -0.0514, duration: 0:00:00.376535\n",
      "episode: 61/200, loss: -0.0109, duration: 0:00:00.368045\n",
      "episode: 71/200, loss: 0.0075, duration: 0:00:00.460880\n",
      "episode: 81/200, loss: 0.0189, duration: 0:00:00.459529\n",
      "episode: 91/200, loss: -0.0218, duration: 0:00:00.477249\n",
      "episode: 101/200, loss: -0.0296, duration: 0:00:00.500449\n",
      "episode: 111/200, loss: -0.0577, duration: 0:00:00.416677\n",
      "episode: 121/200, loss: -0.0729, duration: 0:00:00.511209\n",
      "episode: 131/200, loss: -0.0017, duration: 0:00:00.389047\n",
      "episode: 141/200, loss: -0.0055, duration: 0:00:00.488334\n",
      "episode: 151/200, loss: 0.0143, duration: 0:00:00.370628\n",
      "episode: 161/200, loss: 0.0619, duration: 0:00:00.394915\n",
      "episode: 171/200, loss: -0.0018, duration: 0:00:00.377213\n",
      "episode: 181/200, loss: -0.0881, duration: 0:00:00.383525\n",
      "episode: 191/200, loss: 0.0571, duration: 0:00:00.352559\n",
      "#############################################################################\n",
      "##\t[2/35]\tmodel=RL_CNN,\tSEED=0,\ttrade=0.1,\trisk=1\t##\n",
      "#############################################################################\n",
      "episode: 1/200, loss: 0.0068, duration: 0:00:00.412638\n",
      "episode: 11/200, loss: -0.0261, duration: 0:00:00.388359\n",
      "episode: 21/200, loss: 0.0296, duration: 0:00:00.396398\n",
      "episode: 31/200, loss: -0.0523, duration: 0:00:00.380947\n",
      "episode: 41/200, loss: 0.0106, duration: 0:00:00.395137\n",
      "episode: 51/200, loss: -0.0492, duration: 0:00:00.397579\n",
      "episode: 61/200, loss: -0.0102, duration: 0:00:00.387780\n",
      "episode: 71/200, loss: 0.0086, duration: 0:00:00.379053\n",
      "episode: 81/200, loss: 0.0206, duration: 0:00:00.377121\n",
      "episode: 91/200, loss: -0.0171, duration: 0:00:00.378006\n",
      "episode: 101/200, loss: -0.0234, duration: 0:00:00.394205\n",
      "episode: 111/200, loss: -0.0523, duration: 0:00:00.369534\n",
      "episode: 121/200, loss: -0.0627, duration: 0:00:00.390973\n",
      "episode: 131/200, loss: 0.0006, duration: 0:00:00.386734\n",
      "episode: 141/200, loss: -0.0078, duration: 0:00:00.381743\n",
      "episode: 151/200, loss: 0.0157, duration: 0:00:00.516271\n",
      "episode: 161/200, loss: 0.0641, duration: 0:00:00.443714\n",
      "episode: 171/200, loss: 0.0050, duration: 0:00:00.389146\n",
      "episode: 181/200, loss: -0.0748, duration: 0:00:00.442204\n",
      "episode: 191/200, loss: 0.0437, duration: 0:00:00.397086\n",
      "#############################################################################\n",
      "##\t[3/35]\tmodel=RL_CNN,\tSEED=0,\ttrade=0.1,\trisk=18\t##\n",
      "#############################################################################\n",
      "episode: 1/200, loss: 0.0397, duration: 0:00:00.459079\n",
      "episode: 11/200, loss: -0.0168, duration: 0:00:00.428686\n",
      "episode: 21/200, loss: 0.0619, duration: 0:00:00.388857\n",
      "episode: 31/200, loss: -0.0052, duration: 0:00:00.365370\n",
      "episode: 41/200, loss: 0.0291, duration: 0:00:00.379522\n",
      "episode: 51/200, loss: -0.0305, duration: 0:00:00.369847\n",
      "episode: 61/200, loss: -0.0038, duration: 0:00:00.377476\n",
      "episode: 71/200, loss: 0.0198, duration: 0:00:00.374582\n",
      "episode: 81/200, loss: 0.0317, duration: 0:00:00.381790\n",
      "episode: 91/200, loss: 0.0081, duration: 0:00:00.369701\n",
      "episode: 101/200, loss: 0.0036, duration: 0:00:00.368751\n",
      "episode: 111/200, loss: -0.0208, duration: 0:00:00.457733\n",
      "episode: 121/200, loss: -0.0205, duration: 0:00:00.377907\n",
      "episode: 131/200, loss: 0.0061, duration: 0:00:00.388284\n",
      "episode: 141/200, loss: -0.0000, duration: 0:00:00.386934\n",
      "episode: 151/200, loss: 0.0106, duration: 0:00:00.388090\n",
      "episode: 161/200, loss: 0.0181, duration: 0:00:00.419225\n",
      "episode: 171/200, loss: 0.0029, duration: 0:00:00.407804\n",
      "episode: 181/200, loss: -0.0175, duration: 0:00:00.437363\n",
      "episode: 191/200, loss: 0.0056, duration: 0:00:00.410052\n",
      "#############################################################################\n",
      "##\t[4/35]\tmodel=RL_CNN,\tSEED=0,\ttrade=0.1,\trisk=56\t##\n",
      "#############################################################################\n",
      "episode: 1/200, loss: 0.1134, duration: 0:00:01.202713\n",
      "episode: 11/200, loss: 0.0025, duration: 0:00:00.412029\n",
      "episode: 21/200, loss: 0.1346, duration: 0:00:00.383160\n",
      "episode: 31/200, loss: 0.0718, duration: 0:00:00.378243\n",
      "episode: 41/200, loss: 0.0612, duration: 0:00:00.392690\n",
      "episode: 51/200, loss: -0.0126, duration: 0:00:00.389888\n",
      "episode: 61/200, loss: 0.0081, duration: 0:00:00.375818\n",
      "episode: 71/200, loss: 0.0238, duration: 0:00:00.388227\n",
      "episode: 81/200, loss: 0.0317, duration: 0:00:00.407768\n",
      "episode: 91/200, loss: 0.0149, duration: 0:00:00.462708\n",
      "episode: 101/200, loss: 0.0055, duration: 0:00:00.381918\n",
      "episode: 111/200, loss: -0.0085, duration: 0:00:00.406832\n",
      "episode: 121/200, loss: -0.0076, duration: 0:00:00.381637\n",
      "episode: 131/200, loss: 0.0025, duration: 0:00:00.399668\n",
      "episode: 141/200, loss: -0.0004, duration: 0:00:00.488305\n",
      "episode: 151/200, loss: 0.0048, duration: 0:00:00.379727\n",
      "episode: 161/200, loss: 0.0060, duration: 0:00:00.428263\n",
      "episode: 171/200, loss: 0.0009, duration: 0:00:00.413772\n",
      "episode: 181/200, loss: -0.0077, duration: 0:00:00.373780\n",
      "episode: 191/200, loss: 0.0020, duration: 0:00:00.376298\n",
      "#############################################################################\n",
      "##\t[5/35]\tmodel=RL_CNN,\tSEED=0,\ttrade=0.1,\trisk=100\t##\n",
      "#############################################################################\n",
      "episode: 1/200, loss: 0.1986, duration: 0:00:00.406408\n",
      "episode: 11/200, loss: 0.0248, duration: 0:00:00.380470\n",
      "episode: 21/200, loss: 0.2191, duration: 0:00:00.370234\n",
      "episode: 31/200, loss: 0.1562, duration: 0:00:00.384659\n",
      "episode: 41/200, loss: 0.0951, duration: 0:00:00.407346\n",
      "episode: 51/200, loss: 0.0060, duration: 0:00:00.381947\n",
      "episode: 61/200, loss: 0.0242, duration: 0:00:00.432011\n",
      "episode: 71/200, loss: 0.0364, duration: 0:00:00.402071\n",
      "episode: 81/200, loss: 0.0401, duration: 0:00:00.385273\n",
      "episode: 91/200, loss: 0.0233, duration: 0:00:00.412721\n",
      "episode: 101/200, loss: 0.0088, duration: 0:00:00.400172\n",
      "episode: 111/200, loss: -0.0061, duration: 0:00:00.375984\n",
      "episode: 121/200, loss: -0.0054, duration: 0:00:00.399075\n",
      "episode: 131/200, loss: 0.0030, duration: 0:00:00.382077\n",
      "episode: 141/200, loss: 0.0002, duration: 0:00:00.383245\n",
      "episode: 151/200, loss: 0.0050, duration: 0:00:00.397750\n",
      "episode: 161/200, loss: 0.0055, duration: 0:00:00.390537\n",
      "episode: 171/200, loss: 0.0013, duration: 0:00:00.415431\n",
      "episode: 181/200, loss: -0.0062, duration: 0:00:00.401622\n",
      "episode: 191/200, loss: 0.0016, duration: 0:00:00.407396\n",
      "#############################################################################\n",
      "##\t[6/35]\tmodel=RL_CNN,\tSEED=0,\ttrade=0.1,\trisk=562\t##\n",
      "#############################################################################\n",
      "episode: 1/200, loss: 1.0939, duration: 0:00:00.407049\n",
      "episode: 11/200, loss: 0.2635, duration: 0:00:00.400362\n",
      "episode: 21/200, loss: 1.1088, duration: 0:00:00.385019\n",
      "episode: 31/200, loss: 1.0654, duration: 0:00:00.410838\n",
      "episode: 41/200, loss: 0.5044, duration: 0:00:00.397832\n",
      "episode: 51/200, loss: 0.2126, duration: 0:00:00.398733\n",
      "episode: 61/200, loss: 0.2041, duration: 0:00:00.392849\n",
      "episode: 71/200, loss: 0.1857, duration: 0:00:00.384880\n",
      "episode: 81/200, loss: 0.1614, duration: 0:00:00.494588\n",
      "episode: 91/200, loss: 0.1199, duration: 0:00:00.400974\n",
      "episode: 101/200, loss: 0.0475, duration: 0:00:00.418623\n",
      "episode: 111/200, loss: 0.0077, duration: 0:00:00.395555\n",
      "episode: 121/200, loss: 0.0064, duration: 0:00:00.366321\n",
      "episode: 131/200, loss: 0.0083, duration: 0:00:00.379624\n",
      "episode: 141/200, loss: 0.0056, duration: 0:00:00.382181\n",
      "episode: 151/200, loss: 0.0128, duration: 0:00:00.407254\n",
      "episode: 161/200, loss: 0.0110, duration: 0:00:00.387749\n",
      "episode: 171/200, loss: 0.0074, duration: 0:00:00.397797\n",
      "episode: 181/200, loss: -0.0034, duration: 0:00:00.448923\n",
      "episode: 191/200, loss: 0.0030, duration: 0:00:00.407109\n",
      "#############################################################################\n",
      "##\t[7/35]\tmodel=RL_CNN,\tSEED=0,\ttrade=0.1,\trisk=1000\t##\n",
      "#############################################################################\n",
      "episode: 1/200, loss: 1.9427, duration: 0:00:01.282898\n",
      "episode: 11/200, loss: 0.4895, duration: 0:00:00.382844\n",
      "episode: 21/200, loss: 1.9516, duration: 0:00:00.419859\n",
      "episode: 31/200, loss: 1.9266, duration: 0:00:00.397598\n",
      "episode: 41/200, loss: 0.8905, duration: 0:00:00.380685\n",
      "episode: 51/200, loss: 0.4082, duration: 0:00:00.398809\n",
      "episode: 61/200, loss: 0.3749, duration: 0:00:00.381785\n",
      "episode: 71/200, loss: 0.3291, duration: 0:00:00.396951\n",
      "episode: 81/200, loss: 0.2783, duration: 0:00:00.392488\n",
      "episode: 91/200, loss: 0.2118, duration: 0:00:00.387400\n",
      "episode: 101/200, loss: 0.0846, duration: 0:00:00.378719\n",
      "episode: 111/200, loss: 0.0204, duration: 0:00:00.394648\n",
      "episode: 121/200, loss: 0.0170, duration: 0:00:00.382738\n",
      "episode: 131/200, loss: 0.0136, duration: 0:00:00.392773\n",
      "episode: 141/200, loss: 0.0107, duration: 0:00:00.398208\n",
      "episode: 151/200, loss: 0.0208, duration: 0:00:00.372847\n",
      "episode: 161/200, loss: 0.0173, duration: 0:00:00.391404\n",
      "episode: 171/200, loss: 0.0134, duration: 0:00:00.377905\n",
      "episode: 181/200, loss: -0.0020, duration: 0:00:00.384023\n",
      "episode: 191/200, loss: 0.0047, duration: 0:00:00.376294\n",
      "#############################################################################\n",
      "##\t[8/35]\tmodel=RL_CNN,\tSEED=0,\ttrade=1,\trisk=0.1\t##\n",
      "#############################################################################\n",
      "episode: 1/200, loss: 0.0060, duration: 0:00:01.381674\n",
      "episode: 11/200, loss: -0.0262, duration: 0:00:00.409997\n",
      "episode: 21/200, loss: 0.0293, duration: 0:00:00.393925\n",
      "episode: 31/200, loss: -0.0550, duration: 0:00:00.389963\n",
      "episode: 41/200, loss: 0.0093, duration: 0:00:00.393583\n",
      "episode: 51/200, loss: -0.0511, duration: 0:00:00.385691\n",
      "episode: 61/200, loss: -0.0106, duration: 0:00:00.384535\n",
      "episode: 71/200, loss: 0.0078, duration: 0:00:00.385041\n",
      "episode: 81/200, loss: 0.0213, duration: 0:00:00.371888\n",
      "episode: 91/200, loss: -0.0213, duration: 0:00:00.387375\n",
      "episode: 101/200, loss: -0.0292, duration: 0:00:00.392022\n",
      "episode: 111/200, loss: -0.0577, duration: 0:00:00.380995\n",
      "episode: 121/200, loss: -0.0717, duration: 0:00:00.376872\n",
      "episode: 131/200, loss: -0.0011, duration: 0:00:00.381453\n",
      "episode: 141/200, loss: -0.0046, duration: 0:00:00.388534\n",
      "episode: 151/200, loss: 0.0137, duration: 0:00:00.380183\n",
      "episode: 161/200, loss: 0.0665, duration: 0:00:00.375974\n",
      "episode: 171/200, loss: 0.0038, duration: 0:00:00.382355\n",
      "episode: 181/200, loss: -0.0865, duration: 0:00:00.377718\n",
      "episode: 191/200, loss: 0.0564, duration: 0:00:00.389311\n",
      "#############################################################################\n",
      "##\t[9/35]\tmodel=RL_CNN,\tSEED=0,\ttrade=1,\trisk=1\t##\n",
      "#############################################################################\n",
      "episode: 1/200, loss: 0.0077, duration: 0:00:00.398773\n",
      "episode: 11/200, loss: -0.0256, duration: 0:00:00.429367\n",
      "episode: 21/200, loss: 0.0312, duration: 0:00:00.439019\n",
      "episode: 31/200, loss: -0.0513, duration: 0:00:00.398997\n",
      "episode: 41/200, loss: 0.0109, duration: 0:00:00.413775\n",
      "episode: 51/200, loss: -0.0488, duration: 0:00:00.532889\n",
      "episode: 61/200, loss: -0.0099, duration: 0:00:00.400469\n",
      "episode: 71/200, loss: 0.0089, duration: 0:00:00.400209\n",
      "episode: 81/200, loss: 0.0236, duration: 0:00:00.406984\n",
      "episode: 91/200, loss: -0.0169, duration: 0:00:00.381218\n",
      "episode: 101/200, loss: -0.0232, duration: 0:00:00.387208\n",
      "episode: 111/200, loss: -0.0520, duration: 0:00:00.379117\n",
      "episode: 121/200, loss: -0.0621, duration: 0:00:00.378993\n",
      "episode: 131/200, loss: 0.0009, duration: 0:00:00.378880\n",
      "episode: 141/200, loss: -0.0066, duration: 0:00:00.390621\n",
      "episode: 151/200, loss: 0.0157, duration: 0:00:00.389367\n",
      "episode: 161/200, loss: 0.0690, duration: 0:00:00.445786\n",
      "episode: 171/200, loss: 0.0099, duration: 0:00:00.439108\n",
      "episode: 181/200, loss: -0.0748, duration: 0:00:00.437664\n",
      "episode: 191/200, loss: 0.0459, duration: 0:00:00.410481\n",
      "#############################################################################\n",
      "##\t[10/35]\tmodel=RL_CNN,\tSEED=0,\ttrade=1,\trisk=18\t##\n",
      "#############################################################################\n",
      "episode: 1/200, loss: 0.0406, duration: 0:00:02.142857\n",
      "episode: 11/200, loss: -0.0164, duration: 0:00:00.441573\n",
      "episode: 21/200, loss: 0.0637, duration: 0:00:00.420970\n",
      "episode: 31/200, loss: -0.0036, duration: 0:00:00.393799\n",
      "episode: 41/200, loss: 0.0295, duration: 0:00:00.405107\n",
      "episode: 51/200, loss: -0.0298, duration: 0:00:00.378730\n",
      "episode: 61/200, loss: -0.0031, duration: 0:00:00.383332\n",
      "episode: 71/200, loss: 0.0201, duration: 0:00:00.377297\n",
      "episode: 81/200, loss: 0.0343, duration: 0:00:00.488468\n",
      "episode: 91/200, loss: 0.0093, duration: 0:00:00.549460\n",
      "episode: 101/200, loss: 0.0039, duration: 0:00:00.424706\n",
      "episode: 111/200, loss: -0.0203, duration: 0:00:00.455195\n",
      "episode: 121/200, loss: -0.0204, duration: 0:00:00.395975\n",
      "episode: 131/200, loss: 0.0068, duration: 0:00:00.475210\n",
      "episode: 141/200, loss: 0.0003, duration: 0:00:00.479594\n",
      "episode: 151/200, loss: 0.0116, duration: 0:00:00.397847\n",
      "episode: 161/200, loss: 0.0189, duration: 0:00:00.437177\n",
      "episode: 171/200, loss: 0.0032, duration: 0:00:00.380626\n",
      "episode: 181/200, loss: -0.0178, duration: 0:00:00.401135\n",
      "episode: 191/200, loss: 0.0060, duration: 0:00:00.385498\n",
      "#############################################################################\n",
      "##\t[11/35]\tmodel=RL_CNN,\tSEED=0,\ttrade=1,\trisk=56\t##\n",
      "#############################################################################\n",
      "episode: 1/200, loss: 0.1143, duration: 0:00:00.405978\n",
      "episode: 11/200, loss: 0.0029, duration: 0:00:00.379369\n",
      "episode: 21/200, loss: 0.1362, duration: 0:00:00.378453\n",
      "episode: 31/200, loss: 0.0734, duration: 0:00:00.403029\n",
      "episode: 41/200, loss: 0.0622, duration: 0:00:00.376651\n",
      "episode: 51/200, loss: -0.0120, duration: 0:00:00.388619\n",
      "episode: 61/200, loss: 0.0086, duration: 0:00:00.380171\n",
      "episode: 71/200, loss: 0.0245, duration: 0:00:00.434328\n",
      "episode: 81/200, loss: 0.0328, duration: 0:00:00.380749\n",
      "episode: 91/200, loss: 0.0154, duration: 0:00:00.427571\n",
      "episode: 101/200, loss: 0.0058, duration: 0:00:00.378382\n",
      "episode: 111/200, loss: -0.0084, duration: 0:00:00.375903\n",
      "episode: 121/200, loss: -0.0074, duration: 0:00:00.382360\n",
      "episode: 131/200, loss: 0.0027, duration: 0:00:00.391176\n",
      "episode: 141/200, loss: -0.0003, duration: 0:00:00.389929\n",
      "episode: 151/200, loss: 0.0048, duration: 0:00:00.370221\n",
      "episode: 161/200, loss: 0.0061, duration: 0:00:00.390700\n",
      "episode: 171/200, loss: 0.0010, duration: 0:00:00.380594\n",
      "episode: 181/200, loss: -0.0077, duration: 0:00:00.375352\n",
      "episode: 191/200, loss: 0.0021, duration: 0:00:00.404433\n",
      "#############################################################################\n",
      "##\t[12/35]\tmodel=RL_CNN,\tSEED=0,\ttrade=1,\trisk=100\t##\n",
      "#############################################################################\n",
      "episode: 1/200, loss: 0.1995, duration: 0:00:01.136366\n",
      "episode: 11/200, loss: 0.0252, duration: 0:00:00.378508\n",
      "episode: 21/200, loss: 0.2208, duration: 0:00:00.441733\n",
      "episode: 31/200, loss: 0.1576, duration: 0:00:00.402033\n",
      "episode: 41/200, loss: 0.0955, duration: 0:00:00.378137\n",
      "episode: 51/200, loss: 0.0065, duration: 0:00:00.387855\n",
      "episode: 61/200, loss: 0.0245, duration: 0:00:00.397347\n",
      "episode: 71/200, loss: 0.0368, duration: 0:00:00.423510\n",
      "episode: 81/200, loss: 0.0409, duration: 0:00:00.404127\n",
      "episode: 91/200, loss: 0.0237, duration: 0:00:00.403536\n",
      "episode: 101/200, loss: 0.0090, duration: 0:00:00.394356\n",
      "episode: 111/200, loss: -0.0060, duration: 0:00:00.372573\n",
      "episode: 121/200, loss: -0.0053, duration: 0:00:00.382406\n",
      "episode: 131/200, loss: 0.0031, duration: 0:00:00.435797\n",
      "episode: 141/200, loss: 0.0002, duration: 0:00:00.384979\n",
      "episode: 151/200, loss: 0.0051, duration: 0:00:00.391802\n",
      "episode: 161/200, loss: 0.0055, duration: 0:00:00.377945\n",
      "episode: 171/200, loss: 0.0013, duration: 0:00:00.396892\n",
      "episode: 181/200, loss: -0.0061, duration: 0:00:00.396230\n",
      "episode: 191/200, loss: 0.0017, duration: 0:00:00.398323\n",
      "#############################################################################\n",
      "##\t[13/35]\tmodel=RL_CNN,\tSEED=0,\ttrade=1,\trisk=562\t##\n",
      "#############################################################################\n",
      "episode: 1/200, loss: 1.0948, duration: 0:00:00.398290\n",
      "episode: 11/200, loss: 0.2639, duration: 0:00:00.383709\n",
      "episode: 21/200, loss: 1.1104, duration: 0:00:00.375878\n",
      "episode: 31/200, loss: 1.0669, duration: 0:00:00.379076\n",
      "episode: 41/200, loss: 0.5050, duration: 0:00:00.371526\n",
      "episode: 51/200, loss: 0.2131, duration: 0:00:00.380644\n",
      "episode: 61/200, loss: 0.2045, duration: 0:00:00.388306\n",
      "episode: 71/200, loss: 0.1862, duration: 0:00:00.377186\n",
      "episode: 81/200, loss: 0.1621, duration: 0:00:00.375227\n",
      "episode: 91/200, loss: 0.1202, duration: 0:00:00.388108\n",
      "episode: 101/200, loss: 0.0477, duration: 0:00:00.378555\n",
      "episode: 111/200, loss: 0.0078, duration: 0:00:00.389361\n",
      "episode: 121/200, loss: 0.0065, duration: 0:00:00.405387\n",
      "episode: 131/200, loss: 0.0084, duration: 0:00:00.384591\n",
      "episode: 141/200, loss: 0.0056, duration: 0:00:00.385215\n",
      "episode: 151/200, loss: 0.0129, duration: 0:00:00.375440\n",
      "episode: 161/200, loss: 0.0111, duration: 0:00:00.373316\n",
      "episode: 171/200, loss: 0.0074, duration: 0:00:00.419510\n",
      "episode: 181/200, loss: -0.0034, duration: 0:00:00.383957\n",
      "episode: 191/200, loss: 0.0030, duration: 0:00:00.406800\n",
      "#############################################################################\n",
      "##\t[14/35]\tmodel=RL_CNN,\tSEED=0,\ttrade=1,\trisk=1000\t##\n",
      "#############################################################################\n",
      "episode: 1/200, loss: 1.9436, duration: 0:00:00.419792\n",
      "episode: 11/200, loss: 0.4899, duration: 0:00:00.385631\n",
      "episode: 21/200, loss: 1.9533, duration: 0:00:00.376406\n",
      "episode: 31/200, loss: 1.9280, duration: 0:00:00.392242\n",
      "episode: 41/200, loss: 0.8911, duration: 0:00:00.403784\n",
      "episode: 51/200, loss: 0.4087, duration: 0:00:00.384384\n",
      "episode: 61/200, loss: 0.3752, duration: 0:00:00.371341\n",
      "episode: 71/200, loss: 0.3295, duration: 0:00:00.381723\n",
      "episode: 81/200, loss: 0.2788, duration: 0:00:00.376311\n",
      "episode: 91/200, loss: 0.2120, duration: 0:00:00.378676\n",
      "episode: 101/200, loss: 0.0848, duration: 0:00:00.439860\n",
      "episode: 111/200, loss: 0.0205, duration: 0:00:00.377913\n",
      "episode: 121/200, loss: 0.0171, duration: 0:00:00.377501\n",
      "episode: 131/200, loss: 0.0137, duration: 0:00:00.385124\n",
      "episode: 141/200, loss: 0.0108, duration: 0:00:00.499435\n",
      "episode: 151/200, loss: 0.0209, duration: 0:00:00.486909\n",
      "episode: 161/200, loss: 0.0173, duration: 0:00:00.430154\n",
      "episode: 171/200, loss: 0.0135, duration: 0:00:00.497263\n",
      "episode: 181/200, loss: -0.0019, duration: 0:00:00.390923\n",
      "episode: 191/200, loss: 0.0048, duration: 0:00:00.386807\n",
      "#############################################################################\n",
      "##\t[15/35]\tmodel=RL_CNN,\tSEED=0,\ttrade=10,\trisk=0.1\t##\n",
      "#############################################################################\n",
      "episode: 1/200, loss: 0.0151, duration: 0:00:00.409485\n",
      "episode: 11/200, loss: -0.0223, duration: 0:00:00.470606\n",
      "episode: 21/200, loss: 0.0442, duration: 0:00:00.576804\n",
      "episode: 31/200, loss: -0.0455, duration: 0:00:00.482688\n",
      "episode: 41/200, loss: 0.0118, duration: 0:00:00.447373\n",
      "episode: 51/200, loss: -0.0495, duration: 0:00:00.491703\n",
      "episode: 61/200, loss: -0.0084, duration: 0:00:00.411215\n",
      "episode: 71/200, loss: 0.0095, duration: 0:00:00.444438\n",
      "episode: 81/200, loss: 0.0399, duration: 0:00:00.440735\n",
      "episode: 91/200, loss: -0.0178, duration: 0:00:00.391315\n",
      "episode: 101/200, loss: -0.0261, duration: 0:00:00.403589\n",
      "episode: 111/200, loss: -0.0559, duration: 0:00:00.385547\n",
      "episode: 121/200, loss: -0.0679, duration: 0:00:00.471023\n",
      "episode: 131/200, loss: 0.0013, duration: 0:00:00.433525\n",
      "episode: 141/200, loss: 0.0024, duration: 0:00:00.440387\n",
      "episode: 151/200, loss: 0.0145, duration: 0:00:00.402891\n",
      "episode: 161/200, loss: 0.0906, duration: 0:00:00.382354\n",
      "episode: 171/200, loss: 0.0243, duration: 0:00:00.421820\n",
      "episode: 181/200, loss: -0.0838, duration: 0:00:00.390845\n",
      "episode: 191/200, loss: 0.0642, duration: 0:00:00.575269\n",
      "#############################################################################\n",
      "##\t[16/35]\tmodel=RL_CNN,\tSEED=0,\ttrade=10,\trisk=1\t##\n",
      "#############################################################################\n",
      "episode: 1/200, loss: 0.0169, duration: 0:00:00.466368\n",
      "episode: 11/200, loss: -0.0218, duration: 0:00:00.424042\n",
      "episode: 21/200, loss: 0.0464, duration: 0:00:00.387253\n",
      "episode: 31/200, loss: -0.0418, duration: 0:00:00.378266\n",
      "episode: 41/200, loss: 0.0133, duration: 0:00:00.385864\n",
      "episode: 51/200, loss: -0.0470, duration: 0:00:00.408084\n",
      "episode: 61/200, loss: -0.0075, duration: 0:00:00.410844\n",
      "episode: 71/200, loss: 0.0113, duration: 0:00:00.414469\n",
      "episode: 81/200, loss: 0.0421, duration: 0:00:00.437687\n",
      "episode: 91/200, loss: -0.0135, duration: 0:00:00.564645\n",
      "episode: 101/200, loss: -0.0200, duration: 0:00:00.398344\n",
      "episode: 111/200, loss: -0.0498, duration: 0:00:00.501757\n",
      "episode: 121/200, loss: -0.0563, duration: 0:00:00.382947\n",
      "episode: 131/200, loss: 0.0029, duration: 0:00:00.370146\n",
      "episode: 141/200, loss: 0.0023, duration: 0:00:00.380858\n",
      "episode: 151/200, loss: 0.0172, duration: 0:00:00.399972\n",
      "episode: 161/200, loss: 0.0955, duration: 0:00:00.384414\n",
      "episode: 171/200, loss: 0.0326, duration: 0:00:00.385404\n",
      "episode: 181/200, loss: -0.0716, duration: 0:00:00.378163\n",
      "episode: 191/200, loss: 0.0560, duration: 0:00:00.386849\n",
      "#############################################################################\n",
      "##\t[17/35]\tmodel=RL_CNN,\tSEED=0,\ttrade=10,\trisk=18\t##\n",
      "#############################################################################\n",
      "episode: 1/200, loss: 0.0498, duration: 0:00:00.436829\n",
      "episode: 11/200, loss: -0.0123, duration: 0:00:00.402762\n",
      "episode: 21/200, loss: 0.0800, duration: 0:00:00.412485\n",
      "episode: 31/200, loss: 0.0089, duration: 0:00:00.464610\n",
      "episode: 41/200, loss: 0.0330, duration: 0:00:00.386282\n",
      "episode: 51/200, loss: -0.0260, duration: 0:00:00.381050\n",
      "episode: 61/200, loss: 0.0009, duration: 0:00:00.376435\n",
      "episode: 71/200, loss: 0.0241, duration: 0:00:00.391184\n",
      "episode: 81/200, loss: 0.0567, duration: 0:00:00.373237\n",
      "episode: 91/200, loss: 0.0162, duration: 0:00:00.381460\n",
      "episode: 101/200, loss: 0.0102, duration: 0:00:00.395734\n",
      "episode: 111/200, loss: -0.0177, duration: 0:00:00.400162\n",
      "episode: 121/200, loss: -0.0168, duration: 0:00:00.391584\n",
      "episode: 131/200, loss: 0.0119, duration: 0:00:00.378247\n",
      "episode: 141/200, loss: 0.0042, duration: 0:00:00.376109\n",
      "episode: 151/200, loss: 0.0176, duration: 0:00:00.393206\n",
      "episode: 161/200, loss: 0.0272, duration: 0:00:00.408505\n",
      "episode: 171/200, loss: 0.0079, duration: 0:00:00.418628\n",
      "episode: 181/200, loss: -0.0176, duration: 0:00:00.386058\n",
      "episode: 191/200, loss: 0.0085, duration: 0:00:00.442745\n",
      "#############################################################################\n",
      "##\t[18/35]\tmodel=RL_CNN,\tSEED=0,\ttrade=10,\trisk=56\t##\n",
      "#############################################################################\n",
      "episode: 1/200, loss: 0.1235, duration: 0:00:00.433243\n",
      "episode: 11/200, loss: 0.0072, duration: 0:00:00.371670\n",
      "episode: 21/200, loss: 0.1526, duration: 0:00:00.399315\n",
      "episode: 31/200, loss: 0.0887, duration: 0:00:00.343499\n",
      "episode: 41/200, loss: 0.0701, duration: 0:00:00.388514\n",
      "episode: 51/200, loss: -0.0061, duration: 0:00:00.312437\n",
      "episode: 61/200, loss: 0.0132, duration: 0:00:00.327314\n",
      "episode: 71/200, loss: 0.0301, duration: 0:00:00.327800\n",
      "episode: 81/200, loss: 0.0433, duration: 0:00:00.354824\n",
      "episode: 91/200, loss: 0.0198, duration: 0:00:00.340729\n",
      "episode: 101/200, loss: 0.0089, duration: 0:00:00.399847\n",
      "episode: 111/200, loss: -0.0069, duration: 0:00:00.366058\n",
      "episode: 121/200, loss: -0.0059, duration: 0:00:00.334617\n",
      "episode: 131/200, loss: 0.0039, duration: 0:00:00.352541\n",
      "episode: 141/200, loss: 0.0006, duration: 0:00:00.334093\n",
      "episode: 151/200, loss: 0.0054, duration: 0:00:00.320178\n",
      "episode: 161/200, loss: 0.0069, duration: 0:00:00.321522\n",
      "episode: 171/200, loss: 0.0017, duration: 0:00:00.315885\n",
      "episode: 181/200, loss: -0.0069, duration: 0:00:00.342649\n",
      "episode: 191/200, loss: 0.0026, duration: 0:00:00.367698\n",
      "#############################################################################\n",
      "##\t[19/35]\tmodel=RL_CNN,\tSEED=0,\ttrade=10,\trisk=100\t##\n",
      "#############################################################################\n",
      "episode: 1/200, loss: 0.2087, duration: 0:00:00.367446\n",
      "episode: 11/200, loss: 0.0295, duration: 0:00:00.355891\n",
      "episode: 21/200, loss: 0.2372, duration: 0:00:00.342620\n",
      "episode: 31/200, loss: 0.1735, duration: 0:00:00.318084\n",
      "episode: 41/200, loss: 0.1041, duration: 0:00:00.321773\n",
      "episode: 51/200, loss: 0.0122, duration: 0:00:00.331354\n",
      "episode: 61/200, loss: 0.0287, duration: 0:00:00.335068\n",
      "episode: 71/200, loss: 0.0414, duration: 0:00:00.340548\n",
      "episode: 81/200, loss: 0.0497, duration: 0:00:00.325416\n",
      "episode: 91/200, loss: 0.0279, duration: 0:00:00.336483\n",
      "episode: 101/200, loss: 0.0117, duration: 0:00:00.346759\n",
      "episode: 111/200, loss: -0.0048, duration: 0:00:00.335861\n",
      "episode: 121/200, loss: -0.0040, duration: 0:00:00.333902\n",
      "episode: 131/200, loss: 0.0042, duration: 0:00:00.330318\n",
      "episode: 141/200, loss: 0.0010, duration: 0:00:00.332467\n",
      "episode: 151/200, loss: 0.0056, duration: 0:00:00.332459\n",
      "episode: 161/200, loss: 0.0062, duration: 0:00:00.322708\n",
      "episode: 171/200, loss: 0.0020, duration: 0:00:00.335816\n",
      "episode: 181/200, loss: -0.0056, duration: 0:00:00.330775\n",
      "episode: 191/200, loss: 0.0021, duration: 0:00:00.350196\n",
      "#############################################################################\n",
      "##\t[20/35]\tmodel=RL_CNN,\tSEED=0,\ttrade=10,\trisk=562\t##\n",
      "#############################################################################\n",
      "episode: 1/200, loss: 1.1040, duration: 0:00:00.363767\n",
      "episode: 11/200, loss: 0.2679, duration: 0:00:00.331718\n",
      "episode: 21/200, loss: 1.1270, duration: 0:00:00.333335\n",
      "episode: 31/200, loss: 1.0815, duration: 0:00:00.338799\n",
      "episode: 41/200, loss: 0.5106, duration: 0:00:00.330235\n",
      "episode: 51/200, loss: 0.2177, duration: 0:00:00.333762\n",
      "episode: 61/200, loss: 0.2076, duration: 0:00:00.342921\n",
      "episode: 71/200, loss: 0.1893, duration: 0:00:00.335076\n",
      "episode: 81/200, loss: 0.1673, duration: 0:00:00.322161\n",
      "episode: 91/200, loss: 0.1228, duration: 0:00:00.316353\n",
      "episode: 101/200, loss: 0.0496, duration: 0:00:00.319751\n",
      "episode: 111/200, loss: 0.0088, duration: 0:00:00.318587\n",
      "episode: 121/200, loss: 0.0076, duration: 0:00:00.325083\n",
      "episode: 131/200, loss: 0.0093, duration: 0:00:00.325050\n",
      "episode: 141/200, loss: 0.0062, duration: 0:00:00.316756\n",
      "episode: 151/200, loss: 0.0133, duration: 0:00:00.328114\n",
      "episode: 161/200, loss: 0.0116, duration: 0:00:00.319379\n",
      "episode: 171/200, loss: 0.0080, duration: 0:00:00.326148\n",
      "episode: 181/200, loss: -0.0031, duration: 0:00:00.317031\n",
      "episode: 191/200, loss: 0.0033, duration: 0:00:00.324681\n",
      "#############################################################################\n",
      "##\t[21/35]\tmodel=RL_CNN,\tSEED=0,\ttrade=10,\trisk=1000\t##\n",
      "#############################################################################\n",
      "episode: 1/200, loss: 1.9528, duration: 0:00:00.339073\n",
      "episode: 11/200, loss: 0.4938, duration: 0:00:00.322854\n",
      "episode: 21/200, loss: 1.9697, duration: 0:00:00.310175\n",
      "episode: 31/200, loss: 1.9426, duration: 0:00:00.311655\n",
      "episode: 41/200, loss: 0.8976, duration: 0:00:00.327761\n",
      "episode: 51/200, loss: 0.4137, duration: 0:00:00.320641\n",
      "episode: 61/200, loss: 0.3784, duration: 0:00:00.331348\n",
      "episode: 71/200, loss: 0.3334, duration: 0:00:00.353030\n",
      "episode: 81/200, loss: 0.2847, duration: 0:00:00.323246\n",
      "episode: 91/200, loss: 0.2149, duration: 0:00:00.318486\n",
      "episode: 101/200, loss: 0.0867, duration: 0:00:00.319966\n",
      "episode: 111/200, loss: 0.0215, duration: 0:00:00.323223\n",
      "episode: 121/200, loss: 0.0181, duration: 0:00:00.330295\n",
      "episode: 131/200, loss: 0.0146, duration: 0:00:00.322633\n",
      "episode: 141/200, loss: 0.0113, duration: 0:00:00.310338\n",
      "episode: 151/200, loss: 0.0214, duration: 0:00:00.328176\n",
      "episode: 161/200, loss: 0.0179, duration: 0:00:00.322911\n",
      "episode: 171/200, loss: 0.0140, duration: 0:00:00.321135\n",
      "episode: 181/200, loss: -0.0016, duration: 0:00:00.333824\n",
      "episode: 191/200, loss: 0.0051, duration: 0:00:00.331500\n"
     ]
    },
    {
     "name": "stderr",
     "output_type": "stream",
     "text": [
      "/usr/local/lib/python3.7/site-packages/ipykernel_launcher.py:134: RuntimeWarning: More than 20 figures have been opened. Figures created through the pyplot interface (`matplotlib.pyplot.figure`) are retained until explicitly closed and may consume too much memory. (To control this warning, see the rcParam `figure.max_open_warning`).\n"
     ]
    },
    {
     "name": "stdout",
     "output_type": "stream",
     "text": [
      "#############################################################################\n",
      "##\t[22/35]\tmodel=RL_CNN,\tSEED=0,\ttrade=60,\trisk=0.1\t##\n",
      "#############################################################################\n",
      "episode: 1/200, loss: 0.0661, duration: 0:00:00.356094\n",
      "episode: 11/200, loss: -0.0057, duration: 0:00:00.325212\n",
      "episode: 21/200, loss: 0.1172, duration: 0:00:00.332649\n",
      "episode: 31/200, loss: -0.0080, duration: 0:00:00.320936\n",
      "episode: 41/200, loss: 0.0242, duration: 0:00:00.395794\n",
      "episode: 51/200, loss: -0.0407, duration: 0:00:00.338697\n",
      "episode: 61/200, loss: 0.0000, duration: 0:00:00.348935\n",
      "episode: 71/200, loss: 0.0155, duration: 0:00:00.330607\n",
      "episode: 81/200, loss: 0.0819, duration: 0:00:00.378798\n",
      "episode: 91/200, loss: -0.0098, duration: 0:00:00.332579\n",
      "episode: 101/200, loss: -0.0212, duration: 0:00:00.334821\n",
      "episode: 111/200, loss: -0.0480, duration: 0:00:00.327369\n",
      "episode: 121/200, loss: -0.0547, duration: 0:00:00.330119\n",
      "episode: 131/200, loss: 0.0095, duration: 0:00:00.334523\n",
      "episode: 141/200, loss: 0.0073, duration: 0:00:00.320934\n",
      "episode: 151/200, loss: 0.0205, duration: 0:00:00.381681\n",
      "episode: 161/200, loss: 0.1045, duration: 0:00:00.318939\n",
      "episode: 171/200, loss: 0.0420, duration: 0:00:00.325193\n",
      "episode: 181/200, loss: -0.0683, duration: 0:00:00.317283\n",
      "episode: 191/200, loss: 0.0626, duration: 0:00:00.332137\n"
     ]
    },
    {
     "name": "stderr",
     "output_type": "stream",
     "text": [
      "/usr/local/lib/python3.7/site-packages/ipykernel_launcher.py:134: RuntimeWarning: More than 20 figures have been opened. Figures created through the pyplot interface (`matplotlib.pyplot.figure`) are retained until explicitly closed and may consume too much memory. (To control this warning, see the rcParam `figure.max_open_warning`).\n"
     ]
    },
    {
     "name": "stdout",
     "output_type": "stream",
     "text": [
      "#############################################################################\n",
      "##\t[23/35]\tmodel=RL_CNN,\tSEED=0,\ttrade=60,\trisk=1\t##\n",
      "#############################################################################\n",
      "episode: 1/200, loss: 0.0679, duration: 0:00:00.362521\n",
      "episode: 11/200, loss: -0.0052, duration: 0:00:00.385587\n",
      "episode: 21/200, loss: 0.1203, duration: 0:00:00.322026\n",
      "episode: 31/200, loss: -0.0041, duration: 0:00:00.326487\n",
      "episode: 41/200, loss: 0.0253, duration: 0:00:00.330875\n",
      "episode: 51/200, loss: -0.0384, duration: 0:00:00.328144\n",
      "episode: 61/200, loss: 0.0015, duration: 0:00:00.326886\n",
      "episode: 71/200, loss: 0.0176, duration: 0:00:00.335046\n",
      "episode: 81/200, loss: 0.0987, duration: 0:00:00.323393\n",
      "episode: 91/200, loss: -0.0036, duration: 0:00:00.326472\n",
      "episode: 101/200, loss: -0.0142, duration: 0:00:00.326285\n",
      "episode: 111/200, loss: -0.0433, duration: 0:00:00.345755\n",
      "episode: 121/200, loss: -0.0477, duration: 0:00:00.326285\n",
      "episode: 131/200, loss: 0.0099, duration: 0:00:00.324910\n",
      "episode: 141/200, loss: 0.0087, duration: 0:00:00.337378\n",
      "episode: 151/200, loss: 0.0198, duration: 0:00:00.325713\n",
      "episode: 161/200, loss: 0.1041, duration: 0:00:00.329563\n",
      "episode: 171/200, loss: 0.0435, duration: 0:00:00.324574\n",
      "episode: 181/200, loss: -0.0610, duration: 0:00:00.328013\n",
      "episode: 191/200, loss: 0.0555, duration: 0:00:00.319232\n"
     ]
    },
    {
     "name": "stderr",
     "output_type": "stream",
     "text": [
      "/usr/local/lib/python3.7/site-packages/ipykernel_launcher.py:134: RuntimeWarning: More than 20 figures have been opened. Figures created through the pyplot interface (`matplotlib.pyplot.figure`) are retained until explicitly closed and may consume too much memory. (To control this warning, see the rcParam `figure.max_open_warning`).\n"
     ]
    },
    {
     "name": "stdout",
     "output_type": "stream",
     "text": [
      "#############################################################################\n",
      "##\t[24/35]\tmodel=RL_CNN,\tSEED=0,\ttrade=60,\trisk=18\t##\n",
      "#############################################################################\n",
      "episode: 1/200, loss: 0.1008, duration: 0:00:00.357372\n",
      "episode: 11/200, loss: 0.0051, duration: 0:00:00.339060\n",
      "episode: 21/200, loss: 0.1594, duration: 0:00:00.330739\n",
      "episode: 31/200, loss: 0.0516, duration: 0:00:00.333059\n",
      "episode: 41/200, loss: 0.0535, duration: 0:00:00.317392\n",
      "episode: 51/200, loss: -0.0111, duration: 0:00:00.329352\n",
      "episode: 61/200, loss: 0.0149, duration: 0:00:00.336259\n",
      "episode: 71/200, loss: 0.0422, duration: 0:00:00.322542\n",
      "episode: 81/200, loss: 0.1364, duration: 0:00:00.322365\n",
      "episode: 91/200, loss: 0.0277, duration: 0:00:00.324699\n",
      "episode: 101/200, loss: 0.0258, duration: 0:00:00.320304\n",
      "episode: 111/200, loss: -0.0082, duration: 0:00:00.323911\n",
      "episode: 121/200, loss: -0.0063, duration: 0:00:00.329021\n",
      "episode: 131/200, loss: 0.0273, duration: 0:00:00.320139\n",
      "episode: 141/200, loss: 0.0302, duration: 0:00:00.329256\n",
      "episode: 151/200, loss: 0.0388, duration: 0:00:00.332446\n",
      "episode: 161/200, loss: 0.1088, duration: 0:00:00.325709\n",
      "episode: 171/200, loss: 0.0549, duration: 0:00:00.326724\n",
      "episode: 181/200, loss: -0.0182, duration: 0:00:00.324073\n",
      "episode: 191/200, loss: 0.0312, duration: 0:00:00.316768\n"
     ]
    },
    {
     "name": "stderr",
     "output_type": "stream",
     "text": [
      "/usr/local/lib/python3.7/site-packages/ipykernel_launcher.py:134: RuntimeWarning: More than 20 figures have been opened. Figures created through the pyplot interface (`matplotlib.pyplot.figure`) are retained until explicitly closed and may consume too much memory. (To control this warning, see the rcParam `figure.max_open_warning`).\n"
     ]
    },
    {
     "name": "stdout",
     "output_type": "stream",
     "text": [
      "#############################################################################\n",
      "##\t[25/35]\tmodel=RL_CNN,\tSEED=0,\ttrade=60,\trisk=56\t##\n",
      "#############################################################################\n",
      "episode: 1/200, loss: 0.1745, duration: 0:00:00.353860\n",
      "episode: 11/200, loss: 0.0288, duration: 0:00:00.320651\n",
      "episode: 21/200, loss: 0.2367, duration: 0:00:00.325383\n",
      "episode: 31/200, loss: 0.1553, duration: 0:00:00.315506\n",
      "episode: 41/200, loss: 0.0959, duration: 0:00:00.326587\n",
      "episode: 51/200, loss: 0.0165, duration: 0:00:00.320525\n",
      "episode: 61/200, loss: 0.0350, duration: 0:00:00.328745\n",
      "episode: 71/200, loss: 0.0587, duration: 0:00:00.330103\n",
      "episode: 81/200, loss: 0.1153, duration: 0:00:00.316701\n",
      "episode: 91/200, loss: 0.0449, duration: 0:00:00.334585\n",
      "episode: 101/200, loss: 0.0255, duration: 0:00:00.333353\n",
      "episode: 111/200, loss: 0.0041, duration: 0:00:00.334566\n",
      "episode: 121/200, loss: 0.0032, duration: 0:00:00.377374\n",
      "episode: 131/200, loss: 0.0179, duration: 0:00:00.332110\n",
      "episode: 141/200, loss: 0.0077, duration: 0:00:00.313782\n",
      "episode: 151/200, loss: 0.0131, duration: 0:00:00.320773\n",
      "episode: 161/200, loss: 0.0145, duration: 0:00:00.322951\n",
      "episode: 171/200, loss: 0.0084, duration: 0:00:00.351573\n",
      "episode: 181/200, loss: -0.0049, duration: 0:00:00.326680\n",
      "episode: 191/200, loss: 0.0059, duration: 0:00:00.371363\n"
     ]
    },
    {
     "name": "stderr",
     "output_type": "stream",
     "text": [
      "/usr/local/lib/python3.7/site-packages/ipykernel_launcher.py:134: RuntimeWarning: More than 20 figures have been opened. Figures created through the pyplot interface (`matplotlib.pyplot.figure`) are retained until explicitly closed and may consume too much memory. (To control this warning, see the rcParam `figure.max_open_warning`).\n"
     ]
    },
    {
     "name": "stdout",
     "output_type": "stream",
     "text": [
      "#############################################################################\n",
      "##\t[26/35]\tmodel=RL_CNN,\tSEED=0,\ttrade=60,\trisk=100\t##\n",
      "#############################################################################\n",
      "episode: 1/200, loss: 0.2597, duration: 0:00:00.366713\n",
      "episode: 11/200, loss: 0.0514, duration: 0:00:00.326337\n",
      "episode: 21/200, loss: 0.3231, duration: 0:00:00.321034\n",
      "episode: 31/200, loss: 0.2549, duration: 0:00:00.315668\n",
      "episode: 41/200, loss: 0.1397, duration: 0:00:00.334738\n",
      "episode: 51/200, loss: 0.0412, duration: 0:00:00.318055\n",
      "episode: 61/200, loss: 0.0505, duration: 0:00:00.318226\n",
      "episode: 71/200, loss: 0.0647, duration: 0:00:00.330563\n",
      "episode: 81/200, loss: 0.0984, duration: 0:00:00.322960\n",
      "episode: 91/200, loss: 0.0485, duration: 0:00:00.326019\n",
      "episode: 101/200, loss: 0.0264, duration: 0:00:00.331334\n",
      "episode: 111/200, loss: 0.0019, duration: 0:00:00.373976\n",
      "episode: 121/200, loss: 0.0023, duration: 0:00:00.318665\n",
      "episode: 131/200, loss: 0.0103, duration: 0:00:00.325064\n",
      "episode: 141/200, loss: 0.0046, duration: 0:00:00.319934\n",
      "episode: 151/200, loss: 0.0080, duration: 0:00:00.330048\n",
      "episode: 161/200, loss: 0.0090, duration: 0:00:00.375549\n",
      "episode: 171/200, loss: 0.0050, duration: 0:00:00.348282\n",
      "episode: 181/200, loss: -0.0035, duration: 0:00:00.328535\n",
      "episode: 191/200, loss: 0.0037, duration: 0:00:00.323516\n"
     ]
    },
    {
     "name": "stderr",
     "output_type": "stream",
     "text": [
      "/usr/local/lib/python3.7/site-packages/ipykernel_launcher.py:134: RuntimeWarning: More than 20 figures have been opened. Figures created through the pyplot interface (`matplotlib.pyplot.figure`) are retained until explicitly closed and may consume too much memory. (To control this warning, see the rcParam `figure.max_open_warning`).\n"
     ]
    },
    {
     "name": "stdout",
     "output_type": "stream",
     "text": [
      "#############################################################################\n",
      "##\t[27/35]\tmodel=RL_CNN,\tSEED=0,\ttrade=60,\trisk=562\t##\n",
      "#############################################################################\n",
      "episode: 1/200, loss: 1.1550, duration: 0:00:00.344255\n",
      "episode: 11/200, loss: 0.2892, duration: 0:00:00.314505\n",
      "episode: 21/200, loss: 1.2250, duration: 0:00:00.329746\n",
      "episode: 31/200, loss: 1.1681, duration: 0:00:00.341231\n",
      "episode: 41/200, loss: 0.5512, duration: 0:00:00.323147\n",
      "episode: 51/200, loss: 0.2497, duration: 0:00:00.327713\n",
      "episode: 61/200, loss: 0.2301, duration: 0:00:00.325565\n",
      "episode: 71/200, loss: 0.2127, duration: 0:00:00.334635\n",
      "episode: 81/200, loss: 0.2059, duration: 0:00:00.329502\n",
      "episode: 91/200, loss: 0.1416, duration: 0:00:00.329818\n",
      "episode: 101/200, loss: 0.0610, duration: 0:00:00.322343\n",
      "episode: 111/200, loss: 0.0143, duration: 0:00:00.321966\n",
      "episode: 121/200, loss: 0.0132, duration: 0:00:00.329627\n",
      "episode: 131/200, loss: 0.0142, duration: 0:00:00.334090\n",
      "episode: 141/200, loss: 0.0089, duration: 0:00:00.323084\n",
      "episode: 151/200, loss: 0.0155, duration: 0:00:00.325459\n",
      "episode: 161/200, loss: 0.0141, duration: 0:00:00.320083\n",
      "episode: 171/200, loss: 0.0105, duration: 0:00:00.315941\n",
      "episode: 181/200, loss: -0.0015, duration: 0:00:00.321091\n",
      "episode: 191/200, loss: 0.0048, duration: 0:00:00.323790\n"
     ]
    },
    {
     "name": "stderr",
     "output_type": "stream",
     "text": [
      "/usr/local/lib/python3.7/site-packages/ipykernel_launcher.py:134: RuntimeWarning: More than 20 figures have been opened. Figures created through the pyplot interface (`matplotlib.pyplot.figure`) are retained until explicitly closed and may consume too much memory. (To control this warning, see the rcParam `figure.max_open_warning`).\n"
     ]
    },
    {
     "name": "stdout",
     "output_type": "stream",
     "text": [
      "#############################################################################\n",
      "##\t[28/35]\tmodel=RL_CNN,\tSEED=0,\ttrade=60,\trisk=1000\t##\n",
      "#############################################################################\n",
      "episode: 1/200, loss: 2.0038, duration: 0:00:00.344900\n",
      "episode: 11/200, loss: 0.5157, duration: 0:00:00.318109\n",
      "episode: 21/200, loss: 2.0620, duration: 0:00:00.318621\n",
      "episode: 31/200, loss: 2.0234, duration: 0:00:00.327585\n",
      "episode: 41/200, loss: 0.9340, duration: 0:00:00.326473\n",
      "episode: 51/200, loss: 0.4416, duration: 0:00:00.322330\n",
      "episode: 61/200, loss: 0.3974, duration: 0:00:00.329794\n",
      "episode: 71/200, loss: 0.3544, duration: 0:00:00.325174\n",
      "episode: 81/200, loss: 0.3169, duration: 0:00:00.335146\n",
      "episode: 91/200, loss: 0.2311, duration: 0:00:00.319006\n",
      "episode: 101/200, loss: 0.0976, duration: 0:00:00.331010\n",
      "episode: 111/200, loss: 0.0272, duration: 0:00:00.325798\n",
      "episode: 121/200, loss: 0.0241, duration: 0:00:00.335074\n",
      "episode: 131/200, loss: 0.0199, duration: 0:00:00.336643\n",
      "episode: 141/200, loss: 0.0144, duration: 0:00:00.324365\n",
      "episode: 151/200, loss: 0.0241, duration: 0:00:00.337760\n",
      "episode: 161/200, loss: 0.0210, duration: 0:00:00.385908\n",
      "episode: 171/200, loss: 0.0169, duration: 0:00:00.314480\n",
      "episode: 181/200, loss: 0.0000, duration: 0:00:00.329072\n",
      "episode: 191/200, loss: 0.0067, duration: 0:00:00.328141\n"
     ]
    },
    {
     "name": "stderr",
     "output_type": "stream",
     "text": [
      "/usr/local/lib/python3.7/site-packages/ipykernel_launcher.py:134: RuntimeWarning: More than 20 figures have been opened. Figures created through the pyplot interface (`matplotlib.pyplot.figure`) are retained until explicitly closed and may consume too much memory. (To control this warning, see the rcParam `figure.max_open_warning`).\n"
     ]
    },
    {
     "name": "stdout",
     "output_type": "stream",
     "text": [
      "#############################################################################\n",
      "##\t[29/35]\tmodel=RL_CNN,\tSEED=0,\ttrade=100,\trisk=0.1\t##\n",
      "#############################################################################\n",
      "episode: 1/200, loss: 0.1069, duration: 0:00:00.347131\n",
      "episode: 11/200, loss: 0.0071, duration: 0:00:00.331381\n",
      "episode: 21/200, loss: 0.1651, duration: 0:00:00.322221\n",
      "episode: 31/200, loss: 0.0167, duration: 0:00:00.327530\n",
      "episode: 41/200, loss: 0.0327, duration: 0:00:00.310755\n",
      "episode: 51/200, loss: -0.0352, duration: 0:00:00.329436\n",
      "episode: 61/200, loss: 0.0035, duration: 0:00:00.336863\n",
      "episode: 71/200, loss: 0.0192, duration: 0:00:00.323207\n",
      "episode: 81/200, loss: 0.0975, duration: 0:00:00.358886\n",
      "episode: 91/200, loss: -0.0087, duration: 0:00:00.333891\n",
      "episode: 101/200, loss: -0.0186, duration: 0:00:00.322576\n",
      "episode: 111/200, loss: -0.0435, duration: 0:00:00.324786\n",
      "episode: 121/200, loss: -0.0490, duration: 0:00:00.307255\n",
      "episode: 131/200, loss: 0.0127, duration: 0:00:00.317716\n",
      "episode: 141/200, loss: 0.0107, duration: 0:00:00.319148\n",
      "episode: 151/200, loss: 0.0226, duration: 0:00:00.329773\n",
      "episode: 161/200, loss: 0.1109, duration: 0:00:00.321828\n",
      "episode: 171/200, loss: 0.0478, duration: 0:00:00.319222\n",
      "episode: 181/200, loss: -0.0630, duration: 0:00:00.327788\n",
      "episode: 191/200, loss: 0.0612, duration: 0:00:00.317663\n"
     ]
    },
    {
     "name": "stderr",
     "output_type": "stream",
     "text": [
      "/usr/local/lib/python3.7/site-packages/ipykernel_launcher.py:134: RuntimeWarning: More than 20 figures have been opened. Figures created through the pyplot interface (`matplotlib.pyplot.figure`) are retained until explicitly closed and may consume too much memory. (To control this warning, see the rcParam `figure.max_open_warning`).\n"
     ]
    },
    {
     "name": "stdout",
     "output_type": "stream",
     "text": [
      "#############################################################################\n",
      "##\t[30/35]\tmodel=RL_CNN,\tSEED=0,\ttrade=100,\trisk=1\t##\n",
      "#############################################################################\n",
      "episode: 1/200, loss: 0.1087, duration: 0:00:00.349821\n",
      "episode: 11/200, loss: 0.0074, duration: 0:00:00.328176\n",
      "episode: 21/200, loss: 0.1675, duration: 0:01:23.365283\n",
      "episode: 31/200, loss: 0.0215, duration: 0:00:00.326622\n",
      "episode: 41/200, loss: 0.0338, duration: 0:00:00.324028\n",
      "episode: 51/200, loss: -0.0331, duration: 0:00:00.434478\n",
      "episode: 61/200, loss: 0.0061, duration: 0:00:00.317655\n",
      "episode: 71/200, loss: 0.0204, duration: 0:00:00.316035\n",
      "episode: 81/200, loss: 0.1058, duration: 0:00:00.324497\n",
      "episode: 91/200, loss: -0.0009, duration: 0:00:00.317500\n",
      "episode: 101/200, loss: -0.0152, duration: 0:00:00.325252\n",
      "episode: 111/200, loss: -0.0415, duration: 0:00:00.325416\n",
      "episode: 121/200, loss: -0.0432, duration: 0:00:00.342264\n",
      "episode: 131/200, loss: 0.0129, duration: 0:00:00.329982\n",
      "episode: 141/200, loss: 0.0105, duration: 0:00:00.443689\n",
      "episode: 151/200, loss: 0.0216, duration: 0:00:00.319185\n",
      "episode: 161/200, loss: 0.1078, duration: 0:00:00.329952\n",
      "episode: 171/200, loss: 0.0481, duration: 0:00:00.327792\n",
      "episode: 181/200, loss: -0.0571, duration: 0:00:00.315531\n",
      "episode: 191/200, loss: 0.0561, duration: 0:00:00.323961\n"
     ]
    },
    {
     "name": "stderr",
     "output_type": "stream",
     "text": [
      "/usr/local/lib/python3.7/site-packages/ipykernel_launcher.py:134: RuntimeWarning: More than 20 figures have been opened. Figures created through the pyplot interface (`matplotlib.pyplot.figure`) are retained until explicitly closed and may consume too much memory. (To control this warning, see the rcParam `figure.max_open_warning`).\n"
     ]
    },
    {
     "name": "stdout",
     "output_type": "stream",
     "text": [
      "#############################################################################\n",
      "##\t[31/35]\tmodel=RL_CNN,\tSEED=0,\ttrade=100,\trisk=18\t##\n",
      "#############################################################################\n",
      "episode: 1/200, loss: 0.1416, duration: 0:00:00.433052\n",
      "episode: 11/200, loss: 0.0176, duration: 0:00:00.328962\n",
      "episode: 21/200, loss: 0.2170, duration: 0:00:00.327246\n",
      "episode: 31/200, loss: 0.0797, duration: 0:00:00.316994\n",
      "episode: 41/200, loss: 0.0674, duration: 0:00:00.341505\n",
      "episode: 51/200, loss: -0.0014, duration: 0:00:00.330749\n",
      "episode: 61/200, loss: 0.0234, duration: 0:00:00.322026\n",
      "episode: 71/200, loss: 0.0524, duration: 0:00:00.320179\n",
      "episode: 81/200, loss: 0.1800, duration: 0:00:00.326932\n",
      "episode: 91/200, loss: 0.0345, duration: 0:00:00.326316\n",
      "episode: 101/200, loss: 0.0306, duration: 0:00:00.316096\n",
      "episode: 111/200, loss: -0.0018, duration: 0:00:00.328845\n",
      "episode: 121/200, loss: -0.0023, duration: 0:00:00.319156\n",
      "episode: 131/200, loss: 0.0338, duration: 0:00:00.316432\n",
      "episode: 141/200, loss: 0.0499, duration: 0:00:00.322342\n",
      "episode: 151/200, loss: 0.0455, duration: 0:00:00.320085\n",
      "episode: 161/200, loss: 0.1721, duration: 0:00:00.336486\n",
      "episode: 171/200, loss: 0.1000, duration: 0:00:00.320765\n",
      "episode: 181/200, loss: -0.0248, duration: 0:00:00.320690\n",
      "episode: 191/200, loss: 0.0555, duration: 0:00:00.338232\n"
     ]
    },
    {
     "name": "stderr",
     "output_type": "stream",
     "text": [
      "/usr/local/lib/python3.7/site-packages/ipykernel_launcher.py:134: RuntimeWarning: More than 20 figures have been opened. Figures created through the pyplot interface (`matplotlib.pyplot.figure`) are retained until explicitly closed and may consume too much memory. (To control this warning, see the rcParam `figure.max_open_warning`).\n"
     ]
    },
    {
     "name": "stdout",
     "output_type": "stream",
     "text": [
      "#############################################################################\n",
      "##\t[32/35]\tmodel=RL_CNN,\tSEED=0,\ttrade=100,\trisk=56\t##\n",
      "#############################################################################\n",
      "episode: 1/200, loss: 0.2153, duration: 0:00:00.346235\n",
      "episode: 11/200, loss: 0.0435, duration: 0:00:00.316483\n",
      "episode: 21/200, loss: 0.2975, duration: 0:00:00.327037\n",
      "episode: 31/200, loss: 0.1820, duration: 0:00:00.320750\n",
      "episode: 41/200, loss: 0.1143, duration: 0:00:00.315253\n",
      "episode: 51/200, loss: 0.0329, duration: 0:00:00.338352\n",
      "episode: 61/200, loss: 0.0514, duration: 0:00:00.313724\n",
      "episode: 71/200, loss: 0.0875, duration: 0:00:00.330824\n",
      "episode: 81/200, loss: 0.2185, duration: 0:00:00.358605\n",
      "episode: 91/200, loss: 0.0682, duration: 0:00:00.313259\n",
      "episode: 101/200, loss: 0.0523, duration: 0:00:00.334155\n",
      "episode: 111/200, loss: 0.0148, duration: 0:00:00.385491\n",
      "episode: 121/200, loss: 0.0174, duration: 0:00:00.338663\n",
      "episode: 131/200, loss: 0.0402, duration: 0:00:00.328524\n",
      "episode: 141/200, loss: 0.0207, duration: 0:00:00.316256\n",
      "episode: 151/200, loss: 0.0229, duration: 0:00:00.314950\n",
      "episode: 161/200, loss: 0.0245, duration: 0:00:00.317572\n",
      "episode: 171/200, loss: 0.0143, duration: 0:00:00.338633\n",
      "episode: 181/200, loss: -0.0030, duration: 0:00:00.313561\n",
      "episode: 191/200, loss: 0.0066, duration: 0:00:00.325861\n"
     ]
    },
    {
     "name": "stderr",
     "output_type": "stream",
     "text": [
      "/usr/local/lib/python3.7/site-packages/ipykernel_launcher.py:134: RuntimeWarning: More than 20 figures have been opened. Figures created through the pyplot interface (`matplotlib.pyplot.figure`) are retained until explicitly closed and may consume too much memory. (To control this warning, see the rcParam `figure.max_open_warning`).\n"
     ]
    },
    {
     "name": "stdout",
     "output_type": "stream",
     "text": [
      "#############################################################################\n",
      "##\t[33/35]\tmodel=RL_CNN,\tSEED=0,\ttrade=100,\trisk=100\t##\n",
      "#############################################################################\n",
      "episode: 1/200, loss: 0.3005, duration: 0:00:00.360608\n",
      "episode: 11/200, loss: 0.0664, duration: 0:00:00.377808\n",
      "episode: 21/200, loss: 0.3881, duration: 0:00:00.313817\n",
      "episode: 31/200, loss: 0.2963, duration: 0:00:00.319660\n",
      "episode: 41/200, loss: 0.1640, duration: 0:00:00.326289\n",
      "episode: 51/200, loss: 0.0650, duration: 0:00:00.334636\n",
      "episode: 61/200, loss: 0.0765, duration: 0:00:00.329825\n",
      "episode: 71/200, loss: 0.1101, duration: 0:00:00.336314\n",
      "episode: 81/200, loss: 0.2238, duration: 0:00:00.381668\n",
      "episode: 91/200, loss: 0.0889, duration: 0:00:00.378696\n",
      "episode: 101/200, loss: 0.0569, duration: 0:00:00.512864\n",
      "episode: 111/200, loss: 0.0136, duration: 0:00:00.397610\n",
      "episode: 121/200, loss: 0.0132, duration: 0:00:00.379214\n",
      "episode: 131/200, loss: 0.0197, duration: 0:00:00.376588\n",
      "episode: 141/200, loss: 0.0098, duration: 0:00:00.323561\n",
      "episode: 151/200, loss: 0.0124, duration: 0:00:00.383481\n",
      "episode: 161/200, loss: 0.0140, duration: 0:00:00.371146\n",
      "episode: 171/200, loss: 0.0091, duration: 0:00:00.386175\n",
      "episode: 181/200, loss: -0.0027, duration: 0:00:00.441887\n",
      "episode: 191/200, loss: 0.0056, duration: 0:00:00.392971\n"
     ]
    },
    {
     "name": "stderr",
     "output_type": "stream",
     "text": [
      "/usr/local/lib/python3.7/site-packages/ipykernel_launcher.py:134: RuntimeWarning: More than 20 figures have been opened. Figures created through the pyplot interface (`matplotlib.pyplot.figure`) are retained until explicitly closed and may consume too much memory. (To control this warning, see the rcParam `figure.max_open_warning`).\n"
     ]
    },
    {
     "name": "stdout",
     "output_type": "stream",
     "text": [
      "#############################################################################\n",
      "##\t[34/35]\tmodel=RL_CNN,\tSEED=0,\ttrade=100,\trisk=562\t##\n",
      "#############################################################################\n",
      "episode: 1/200, loss: 1.1958, duration: 0:00:00.436754\n",
      "episode: 11/200, loss: 0.3062, duration: 0:00:00.461668\n",
      "episode: 21/200, loss: 1.2981, duration: 0:00:00.375970\n",
      "episode: 31/200, loss: 1.2307, duration: 0:00:00.390956\n",
      "episode: 41/200, loss: 0.5801, duration: 0:00:00.405437\n",
      "episode: 51/200, loss: 0.2779, duration: 0:00:00.374926\n",
      "episode: 61/200, loss: 0.2500, duration: 0:00:00.390741\n",
      "episode: 71/200, loss: 0.2385, duration: 0:00:00.427483\n",
      "episode: 81/200, loss: 0.2449, duration: 0:00:00.381299\n",
      "episode: 91/200, loss: 0.1602, duration: 0:00:00.460896\n",
      "episode: 101/200, loss: 0.0715, duration: 0:00:01.257667\n",
      "episode: 111/200, loss: 0.0191, duration: 0:00:00.513092\n",
      "episode: 121/200, loss: 0.0174, duration: 0:00:00.395279\n",
      "episode: 131/200, loss: 0.0180, duration: 0:00:00.383241\n",
      "episode: 141/200, loss: 0.0111, duration: 0:00:00.378174\n",
      "episode: 151/200, loss: 0.0170, duration: 0:00:00.378556\n",
      "episode: 161/200, loss: 0.0163, duration: 0:00:00.406062\n",
      "episode: 171/200, loss: 0.0126, duration: 0:00:00.484336\n",
      "episode: 181/200, loss: -0.0004, duration: 0:00:00.378469\n",
      "episode: 191/200, loss: 0.0060, duration: 0:00:00.393303\n"
     ]
    },
    {
     "name": "stderr",
     "output_type": "stream",
     "text": [
      "/usr/local/lib/python3.7/site-packages/ipykernel_launcher.py:134: RuntimeWarning: More than 20 figures have been opened. Figures created through the pyplot interface (`matplotlib.pyplot.figure`) are retained until explicitly closed and may consume too much memory. (To control this warning, see the rcParam `figure.max_open_warning`).\n"
     ]
    },
    {
     "name": "stdout",
     "output_type": "stream",
     "text": [
      "#############################################################################\n",
      "##\t[35/35]\tmodel=RL_CNN,\tSEED=0,\ttrade=100,\trisk=1000\t##\n",
      "#############################################################################\n",
      "episode: 1/200, loss: 2.0446, duration: 0:00:00.427362\n",
      "episode: 11/200, loss: 0.5324, duration: 0:00:00.354763\n",
      "episode: 21/200, loss: 2.1442, duration: 0:00:00.382988\n",
      "episode: 31/200, loss: 2.0973, duration: 0:00:00.482131\n",
      "episode: 41/200, loss: 0.9695, duration: 0:00:00.376934\n",
      "episode: 51/200, loss: 0.4704, duration: 0:00:00.419601\n",
      "episode: 61/200, loss: 0.4181, duration: 0:00:00.407451\n",
      "episode: 71/200, loss: 0.3737, duration: 0:00:00.394271\n",
      "episode: 81/200, loss: 0.3509, duration: 0:00:00.375362\n",
      "episode: 91/200, loss: 0.2475, duration: 0:00:00.395805\n",
      "episode: 101/200, loss: 0.1066, duration: 0:00:00.382047\n",
      "episode: 111/200, loss: 0.0311, duration: 0:00:00.400436\n",
      "episode: 121/200, loss: 0.0279, duration: 0:00:00.476819\n",
      "episode: 131/200, loss: 0.0232, duration: 0:00:00.439869\n",
      "episode: 141/200, loss: 0.0161, duration: 0:00:00.383747\n",
      "episode: 151/200, loss: 0.0251, duration: 0:00:00.381657\n",
      "episode: 161/200, loss: 0.0223, duration: 0:00:00.341430\n",
      "episode: 171/200, loss: 0.0183, duration: 0:00:00.394932\n",
      "episode: 181/200, loss: 0.0011, duration: 0:00:00.407929\n",
      "episode: 191/200, loss: 0.0077, duration: 0:00:00.389368\n"
     ]
    },
    {
     "name": "stderr",
     "output_type": "stream",
     "text": [
      "/usr/local/lib/python3.7/site-packages/ipykernel_launcher.py:134: RuntimeWarning: More than 20 figures have been opened. Figures created through the pyplot interface (`matplotlib.pyplot.figure`) are retained until explicitly closed and may consume too much memory. (To control this warning, see the rcParam `figure.max_open_warning`).\n"
     ]
    },
    {
     "name": "stdout",
     "output_type": "stream",
     "text": [
      "CPU times: user 46min 12s, sys: 24.3 s, total: 46min 36s\n",
      "Wall time: 46min 19s\n"
     ]
    },
    {
     "data": {
      "text/plain": [
       "<Figure size 1008x360 with 0 Axes>"
      ]
     },
     "metadata": {},
     "output_type": "display_data"
    },
    {
     "data": {
      "text/plain": [
       "<Figure size 1008x360 with 0 Axes>"
      ]
     },
     "metadata": {},
     "output_type": "display_data"
    },
    {
     "data": {
      "text/plain": [
       "<Figure size 1008x360 with 0 Axes>"
      ]
     },
     "metadata": {},
     "output_type": "display_data"
    },
    {
     "data": {
      "text/plain": [
       "<Figure size 1008x360 with 0 Axes>"
      ]
     },
     "metadata": {},
     "output_type": "display_data"
    },
    {
     "data": {
      "text/plain": [
       "<Figure size 1008x360 with 0 Axes>"
      ]
     },
     "metadata": {},
     "output_type": "display_data"
    },
    {
     "data": {
      "text/plain": [
       "<Figure size 1008x360 with 0 Axes>"
      ]
     },
     "metadata": {},
     "output_type": "display_data"
    },
    {
     "data": {
      "text/plain": [
       "<Figure size 1008x360 with 0 Axes>"
      ]
     },
     "metadata": {},
     "output_type": "display_data"
    },
    {
     "data": {
      "text/plain": [
       "<Figure size 1008x360 with 0 Axes>"
      ]
     },
     "metadata": {},
     "output_type": "display_data"
    },
    {
     "data": {
      "text/plain": [
       "<Figure size 1008x360 with 0 Axes>"
      ]
     },
     "metadata": {},
     "output_type": "display_data"
    },
    {
     "data": {
      "text/plain": [
       "<Figure size 1008x360 with 0 Axes>"
      ]
     },
     "metadata": {},
     "output_type": "display_data"
    },
    {
     "data": {
      "text/plain": [
       "<Figure size 1008x360 with 0 Axes>"
      ]
     },
     "metadata": {},
     "output_type": "display_data"
    },
    {
     "data": {
      "text/plain": [
       "<Figure size 1008x360 with 0 Axes>"
      ]
     },
     "metadata": {},
     "output_type": "display_data"
    },
    {
     "data": {
      "text/plain": [
       "<Figure size 1008x360 with 0 Axes>"
      ]
     },
     "metadata": {},
     "output_type": "display_data"
    },
    {
     "data": {
      "text/plain": [
       "<Figure size 1008x360 with 0 Axes>"
      ]
     },
     "metadata": {},
     "output_type": "display_data"
    },
    {
     "data": {
      "text/plain": [
       "<Figure size 1008x360 with 0 Axes>"
      ]
     },
     "metadata": {},
     "output_type": "display_data"
    },
    {
     "data": {
      "text/plain": [
       "<Figure size 1008x360 with 0 Axes>"
      ]
     },
     "metadata": {},
     "output_type": "display_data"
    },
    {
     "data": {
      "text/plain": [
       "<Figure size 1008x360 with 0 Axes>"
      ]
     },
     "metadata": {},
     "output_type": "display_data"
    },
    {
     "data": {
      "text/plain": [
       "<Figure size 1008x360 with 0 Axes>"
      ]
     },
     "metadata": {},
     "output_type": "display_data"
    },
    {
     "data": {
      "text/plain": [
       "<Figure size 1008x360 with 0 Axes>"
      ]
     },
     "metadata": {},
     "output_type": "display_data"
    },
    {
     "data": {
      "text/plain": [
       "<Figure size 1008x360 with 0 Axes>"
      ]
     },
     "metadata": {},
     "output_type": "display_data"
    },
    {
     "data": {
      "text/plain": [
       "<Figure size 1008x360 with 0 Axes>"
      ]
     },
     "metadata": {},
     "output_type": "display_data"
    },
    {
     "data": {
      "text/plain": [
       "<Figure size 1008x360 with 0 Axes>"
      ]
     },
     "metadata": {},
     "output_type": "display_data"
    },
    {
     "data": {
      "text/plain": [
       "<Figure size 1008x360 with 0 Axes>"
      ]
     },
     "metadata": {},
     "output_type": "display_data"
    },
    {
     "data": {
      "text/plain": [
       "<Figure size 1008x360 with 0 Axes>"
      ]
     },
     "metadata": {},
     "output_type": "display_data"
    },
    {
     "data": {
      "text/plain": [
       "<Figure size 1008x360 with 0 Axes>"
      ]
     },
     "metadata": {},
     "output_type": "display_data"
    },
    {
     "data": {
      "text/plain": [
       "<Figure size 1008x360 with 0 Axes>"
      ]
     },
     "metadata": {},
     "output_type": "display_data"
    },
    {
     "data": {
      "text/plain": [
       "<Figure size 1008x360 with 0 Axes>"
      ]
     },
     "metadata": {},
     "output_type": "display_data"
    },
    {
     "data": {
      "text/plain": [
       "<Figure size 1008x360 with 0 Axes>"
      ]
     },
     "metadata": {},
     "output_type": "display_data"
    },
    {
     "data": {
      "text/plain": [
       "<Figure size 1008x360 with 0 Axes>"
      ]
     },
     "metadata": {},
     "output_type": "display_data"
    },
    {
     "data": {
      "text/plain": [
       "<Figure size 1008x360 with 0 Axes>"
      ]
     },
     "metadata": {},
     "output_type": "display_data"
    },
    {
     "data": {
      "text/plain": [
       "<Figure size 1008x360 with 0 Axes>"
      ]
     },
     "metadata": {},
     "output_type": "display_data"
    },
    {
     "data": {
      "text/plain": [
       "<Figure size 1008x360 with 0 Axes>"
      ]
     },
     "metadata": {},
     "output_type": "display_data"
    },
    {
     "data": {
      "text/plain": [
       "<Figure size 1008x360 with 0 Axes>"
      ]
     },
     "metadata": {},
     "output_type": "display_data"
    },
    {
     "data": {
      "text/plain": [
       "<Figure size 1008x360 with 0 Axes>"
      ]
     },
     "metadata": {},
     "output_type": "display_data"
    },
    {
     "data": {
      "text/plain": [
       "<Figure size 1008x360 with 0 Axes>"
      ]
     },
     "metadata": {},
     "output_type": "display_data"
    }
   ],
   "source": [
    "%%time\n",
    "##########################\n",
    "### main training loop ###\n",
    "##########################\n",
    "\n",
    "# define investor preferences to train for\n",
    "#------ extended-boyd-sweep ------#\n",
    "#GAMMA_TRADES = [5.5, 6, 6.5, 7, 7.5, 8, 9, 10, 11, 12, 15, 20, 30]\n",
    "#GAMMA_TRADES = [4, 5]\n",
    "#GAMMA_TRADES = [0.1, 0.5, 1, 2, 3, 45, 60, 100, 200]\n",
    "#GAMMA_RISKS = [0.1, 0.178, 0.316, 0.562, 1, 2, 3, 6, 10, 18, 32, 56, 100, 178, 316, 562, 1000, 2000, 5000, 10000, 20000]\n",
    "#---------------------------------#\n",
    "counter = 0\n",
    "\n",
    "for RANDOM_SEED in SEED_LIST:\n",
    "    model_name = f'{MODEL_BASE_NAME}_seed_{RANDOM_SEED}'\n",
    "    maybe_make_dir(f'../experiments/{MARKET_NAME}/seeded/{MODEL_BASE_NAME}/seed_{RANDOM_SEED}')\n",
    "    \n",
    "    for (GAMMA_TRADE, GAMMA_RISK) in GAMMA_PAIRS:\n",
    "        # set random generator seed for tf and np\n",
    "        # this is probably unnecessary because it is done when env is initialised but just incase\n",
    "        tf.random.set_seed(RANDOM_SEED)\n",
    "        np.random.seed(RANDOM_SEED)\n",
    "        counter += 1\n",
    "\n",
    "        # check if test lready done. skip if so\n",
    "        #if not FROM_PRETRAINED:\n",
    "            #skip = os.path.exists(f'experiments/12_assets/00_seeded/seed_{RANDOM_SEED}/trade_{GAMMA_TRADE}_risk_{GAMMA_RISK}') # check if already exists\n",
    "        #else:\n",
    "        \n",
    "        skip = os.path.exists(f'../experiments/{MARKET_NAME}/seeded/{MODEL_BASE_NAME}/seed_{RANDOM_SEED}/trade_{GAMMA_TRADE}_risk_{GAMMA_RISK}')\n",
    "\n",
    "        if not skip: # if not exists, do test\n",
    "\n",
    "            print('#############################################################################')\n",
    "            print(f'##\\t[{counter}/{len(GAMMA_PAIRS)}]\\tmodel={MODEL_BASE_NAME},\\tSEED={RANDOM_SEED},\\ttrade={GAMMA_TRADE},\\trisk={GAMMA_RISK}\\t##')\n",
    "            print('#############################################################################')        \n",
    "\n",
    "            # create agent and environment\n",
    "            env = MultiStockEnv(tickers=TICKERS, \n",
    "                                from_date=FROM,\n",
    "                                until=UNTIL, \n",
    "                                #nb_episodes=100,\n",
    "                                cash_key='USDOLLAR', \n",
    "                                gamma_risk=GAMMA_RISK, \n",
    "                                gamma_trade=GAMMA_TRADE,\n",
    "                                half_spread=HALF_SPREAD, \n",
    "                                nonlin_coef=NONLIN_COEFF, \n",
    "                                power=POWER, \n",
    "                                datadir=DATA_DIR, \n",
    "                                state_lookback_window=20, \n",
    "                                distribution=EPISODE_DRAW_DISTRIBUTION,\n",
    "                                days_duration=DAYS_IN_EPISODE, \n",
    "                                mode='train', \n",
    "                                random_seed=RANDOM_SEED,\n",
    "                                init_portfolio=INIT_PORTFOLIO, \n",
    "                                period_in_file_name=FILE_PERIOD, \n",
    "                                nb_forecasts=NB_FORECASTS, \n",
    "                                forecast_type=FORECAST_TYPE,\n",
    "                                use_CNN_state=USE_CNN_STATE,\n",
    "                                verbose=False)\n",
    "\n",
    "            agent = Agent(alpha=0.001, \n",
    "                          gamma=0.99, \n",
    "                          n_assets=len(TICKERS)+1, \n",
    "                          tau=5, \n",
    "                          lookback_window=20, \n",
    "                          n_feature_maps=len(TICKERS)+1,\n",
    "                          use_forecasts=USE_FORECASTS,\n",
    "                          use_CNN_state=USE_CNN_STATE)\n",
    "\n",
    "            # initialise policy by one forward pass then load pretrained weights\n",
    "            #if FROM_PRETRAINED: \n",
    "                #agent.choose_action(env._get_obs())\n",
    "                #agent.load(pretrined_weights_dir)\n",
    "\n",
    "            # configure folders\n",
    "            experiments_folder = f'../experiments/{MARKET_NAME}'\n",
    "            from_seeded_folder = f'{experiments_folder}/seeded'\n",
    "            base_model_folder = f'{from_seeded_folder}/{MODEL_BASE_NAME}'\n",
    "            seed_folder = f'{base_model_folder}/seed_{RANDOM_SEED}'\n",
    "            #if FROM_PRETRAINED:\n",
    "            #    pretrained_folder = f'{nb_assets_folder}/0_further_trained'\n",
    "            #    preference_folder = f'{pretrained_folder}/trade_{GAMMA_TRADE}_risk_{GAMMA_RISK}'\n",
    "            #else:\n",
    "            preference_folder = f'{seed_folder}/trade_{GAMMA_TRADE}_risk_{GAMMA_RISK}'\n",
    "            models_folder = f'{preference_folder}/models' # where saved models will be saved\n",
    "            losses_folder = f'{preference_folder}/losses' # where losses will be saved for plotting training progress\n",
    "            fig_folder = f'{preference_folder}/figures'\n",
    "\n",
    "            # create dirictories for saving outputs to (if they don't exist already)\n",
    "            #maybe_make_dir(nb_assets_folder)\n",
    "            maybe_make_dir(seed_folder)\n",
    "            maybe_make_dir(preference_folder)\n",
    "            maybe_make_dir(models_folder)\n",
    "            maybe_make_dir(losses_folder)\n",
    "            maybe_make_dir(fig_folder)\n",
    "\n",
    "            if MODE == 'train':\n",
    "                # play the game num_episodes times and update weights according to loss\n",
    "                losses = []\n",
    "                for e in range(NB_EPISODES):\n",
    "\n",
    "                    # save model weights every few episodes\n",
    "                    if (e%SAVE_EVERY == 0) and (e!=0):\n",
    "                        agent.save(f'{models_folder}/{model_name}_{e}')\n",
    "                        # save losses of training period\n",
    "                        np.save(f'{losses_folder}/{model_name}_{MODE}_{e}_losses.npy', np.array(losses))\n",
    "\n",
    "                    t0 = datetime.datetime.now()\n",
    "                    try:\n",
    "                        loss = play_one_episode(agent, env, MODE)\n",
    "                    except Exception as err:\n",
    "                        print(f'\\t*** error in episode {e}:', err)\n",
    "                        loss = np.nan#5.0 # just an arbitraty number that seems high compared to usual losses\n",
    "                    dt = datetime.datetime.now() - t0\n",
    "                    losses.append(loss) # append episode loss\n",
    "                    # print progress\n",
    "                    if (e%10 == 0):\n",
    "                        print(f\"episode: {e + 1}/{NB_EPISODES}, loss: {loss:.4f}, duration: {dt}\")\n",
    "\n",
    "\n",
    "                # save the weights and losses when done\t\n",
    "                agent.save(f'{models_folder}/{model_name}_{NB_EPISODES}')\n",
    "                np.save(f'{losses_folder}/{model_name}_{MODE}_{NB_EPISODES}_losses.npy', np.array(losses))\n",
    "\n",
    "            # plot losses\n",
    "            save_fig = True\n",
    "\n",
    "            # load losses file\n",
    "            file = f'{losses_folder}/{model_name}_{MODE}_{NB_EPISODES}_losses.npy'\n",
    "            loaded_losses = np.load(file)\n",
    "\n",
    "            # plot losses\n",
    "            plt.figure(figsize=(14,5))\n",
    "            plt.plot(loaded_losses)\n",
    "            plt.title(f'{model_name} Training Loss')\n",
    "            plt.xlabel('Episode Number')\n",
    "            plt.ylabel(r'Loss: $-G \\approx -\\mathbb{E}\\left[ \\sum_{k=0}^{T} \\gamma^k R_t \\right]$')\n",
    "            #plt.yscale('symlog')\n",
    "            if save_fig:\n",
    "                plt.savefig(f'{fig_folder}/{model_name}_losses.png', dpi=150, facecolor=None, edgecolor=None, bbox_inches='tight')\n",
    "            plt.clf()\n",
    "\n",
    "        else:\n",
    "            print(f'\\talready exists: trade_{GAMMA_TRADE}_risk_{GAMMA_RISK}')\n",
    "            print('\\tskip to next.')"
   ]
  },
  {
   "cell_type": "code",
   "execution_count": 6,
   "metadata": {},
   "outputs": [],
   "source": [
    "# double check the end of training\n",
    "#env.until"
   ]
  },
  {
   "cell_type": "code",
   "execution_count": 7,
   "metadata": {},
   "outputs": [
    {
     "name": "stdout",
     "output_type": "stream",
     "text": [
      "training done.\n"
     ]
    }
   ],
   "source": [
    "print('training done.')"
   ]
  },
  {
   "cell_type": "code",
   "execution_count": 8,
   "metadata": {},
   "outputs": [],
   "source": [
    "### Now repeat this for the different RL models.\n",
    "### remember to update the gamma-pairs, model base name, and model specs/setup in beginning of notebook!"
   ]
  }
 ],
 "metadata": {
  "kernelspec": {
   "display_name": "Python 3",
   "language": "python",
   "name": "python3"
  },
  "language_info": {
   "codemirror_mode": {
    "name": "ipython",
    "version": 3
   },
   "file_extension": ".py",
   "mimetype": "text/x-python",
   "name": "python",
   "nbconvert_exporter": "python",
   "pygments_lexer": "ipython3",
   "version": "3.7.6"
  }
 },
 "nbformat": 4,
 "nbformat_minor": 4
}
