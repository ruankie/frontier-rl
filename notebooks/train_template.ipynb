{
 "cells": [
  {
   "cell_type": "code",
   "execution_count": 1,
   "metadata": {},
   "outputs": [
    {
     "name": "stdout",
     "output_type": "stream",
     "text": [
      "CPU times: user 2.85 s, sys: 1.95 s, total: 4.79 s\n",
      "Wall time: 4.43 s\n"
     ]
    }
   ],
   "source": [
    "%%time\n",
    "import numpy as np\n",
    "import pandas as pd\n",
    "import matplotlib.pyplot as plt\n",
    "import datetime\n",
    "import os\n",
    "from REINFORCE_soft import MultiStockEnv, Agent, play_one_episode, maybe_make_dir\n",
    "import market_tickers\n",
    "from model_config import model_parameters\n",
    "import tensorflow as tf"
   ]
  },
  {
   "cell_type": "code",
   "execution_count": 2,
   "metadata": {},
   "outputs": [
    {
     "name": "stdout",
     "output_type": "stream",
     "text": [
      "number of pairs:  35\n"
     ]
    }
   ],
   "source": [
    "#------ small test-sweep ------#\n",
    "GAMMA_TRADES = [0.1, 1, 10, 60, 100]\n",
    "GAMMA_RISKS = [0.1, 1, 18, 56, 100, 562, 1000]\n",
    "#------ extended-boyd-sweep ------#\n",
    "# GAMMA_TRADES =  [0.1, 0.5, 1, 2, 3, 4, 5, 5.5, 6, 6.5, 7, 7.5, 8, 9, 10, 11, 12, 15, 20, 30, 45, 60, 100, 200]\n",
    "# GAMMA_RISKS = [0.1, 0.178, 0.316, 0.562, 1, 2, 3, 6, 10, 18, 32, 56, 100, 178, 316, 562, 1000, 2000, 5000, 10000, 20000]\n",
    "#---------------------------------#\n",
    "\n",
    "GAMMA_PAIRS = []\n",
    "for tr in GAMMA_TRADES:\n",
    "    for ri in GAMMA_RISKS:\n",
    "        GAMMA_PAIRS.append((tr, ri))\n",
    "        \n",
    "#format: (gamma_trade, gamma_risk)\n",
    "print('number of pairs: ', len(GAMMA_PAIRS))\n",
    "#GAMMA_PAIRS"
   ]
  },
  {
   "cell_type": "code",
   "execution_count": 3,
   "metadata": {
    "tags": [
     "parameters"
    ]
   },
   "outputs": [],
   "source": [
    "# papermill parameters\n",
    "SEED_LIST = [\n",
    "             0,\n",
    "             #1111,\n",
    "             #2222, \n",
    "             #3333, \n",
    "             #4444, \n",
    "             #5555,\n",
    "             #6666,\n",
    "             #7777,\n",
    "             #8888,\n",
    "             #9999\n",
    "            ]\n",
    "\n",
    "#TICKERS = market_tickers.DOW_30_TICKER\n",
    "TICKERS = ['AAPL', 'AMD', 'CSCO', 'F', 'INTC']\n",
    "MARKET_NAME = 'TEST_5'\n",
    "MODEL_BASE_NAME = 'RL_CNN' # use either | 'RL_CNN' | 'RL_str_fcast' | 'RL_all_inp' |\n",
    "FROM = '2017-01-03' # start of training set\n",
    "UNTIL = '2019-01-01' # end of training set\n",
    "NB_EPISODES = 200 # number of episodes to train for\n",
    "SAVE_EVERY = 200 # (used 100 when not from tretrained) save model weights every time this amount of episodes pass"
   ]
  },
  {
   "cell_type": "code",
   "execution_count": 4,
   "metadata": {},
   "outputs": [],
   "source": [
    "# other constants and parameters\n",
    "TICKERS.sort()\n",
    "FILE_PERIOD = '1d' # weekly='5d', daily='1d'\n",
    "DAYS_IN_EPISODE = 30 # 365 for one-year long episodes (conditions checked at end of episode)\n",
    "EPISODE_DRAW_DISTRIBUTION = 'uniform' # 'uniform' or 'geometric'. select starting point of eposide according to this distribution when generated\n",
    "HALF_SPREAD = 0.0005/2.0 # 'a' in transaction cost function\n",
    "NONLIN_COEFF = 1.0 # 'b' transaction cost function\n",
    "POWER = 1.5 # power for change in poertfolio vector used in transaction cost\n",
    "#GAMMA_RISK, GAMMA_TRADE, GAMMA_HOLD = 18, 6.5, 0.0 # relative importance of risk, trading cost, and holding cost\n",
    "INIT_PORTFOLIO = 100000000.0 # initial portfolio value\n",
    "#model_name = f'REINFORCE_CNN' #_seeded_{UNTIL} # give model a name to distinguish saved files\n",
    "#NB_EPISODES = 300 #2000\n",
    "MODE = 'train' # train or test mode\n",
    "#FROM_PRETRAINED = False\n",
    "DATA_DIR = f'../../data/{MARKET_NAME}/preprocessed_data/'\n",
    "\n",
    "# Tune and double-check these before every test:\n",
    "USE_FORECASTS = model_parameters[MODEL_BASE_NAME]['use_forecasts'] # whether to use forecasts as inputs to agent policy net or not\n",
    "NB_FORECASTS = model_parameters[MODEL_BASE_NAME]['nb_forecasts'] # number of forecasts to use in state. Set to None for no forecasts\n",
    "FORECAST_TYPE = model_parameters[MODEL_BASE_NAME]['forecast_type'] # use 'strong' or 'weak' forecasts (if no forecasts given, this does not matter)\n",
    "USE_CNN_STATE = model_parameters[MODEL_BASE_NAME]['use_cnn_state'] # whether to pass log-rets block for CNN part of policy net (set to false for forecast only)"
   ]
  },
  {
   "cell_type": "code",
   "execution_count": 5,
   "metadata": {
    "scrolled": true
   },
   "outputs": [
    {
     "name": "stdout",
     "output_type": "stream",
     "text": [
      "#############################################################################\n",
      "##\t[1/35]\tmodel=RL_CNN,\tSEED=0,\ttrade=0.1,\trisk=0.1\t##\n",
      "#############################################################################\n",
      "episode: 1/200, loss: 0.0050, duration: 0:00:00.505505\n",
      "episode: 11/200, loss: -0.0266, duration: 0:00:00.360063\n",
      "episode: 21/200, loss: 0.0276, duration: 0:00:00.357516\n",
      "episode: 31/200, loss: -0.0561, duration: 0:00:00.399690\n",
      "episode: 41/200, loss: 0.0090, duration: 0:00:00.367047\n",
      "episode: 51/200, loss: -0.0514, duration: 0:00:00.355037\n",
      "episode: 61/200, loss: -0.0109, duration: 0:00:00.365439\n",
      "episode: 71/200, loss: 0.0075, duration: 0:00:00.357139\n",
      "episode: 81/200, loss: 0.0189, duration: 0:00:00.359105\n",
      "episode: 91/200, loss: -0.0218, duration: 0:00:00.376011\n",
      "episode: 101/200, loss: -0.0296, duration: 0:00:00.370186\n",
      "episode: 111/200, loss: -0.0577, duration: 0:00:00.366908\n",
      "episode: 121/200, loss: -0.0729, duration: 0:00:00.366931\n",
      "episode: 131/200, loss: -0.0017, duration: 0:00:00.366395\n",
      "episode: 141/200, loss: -0.0055, duration: 0:00:00.424523\n",
      "episode: 151/200, loss: 0.0143, duration: 0:00:00.376557\n",
      "episode: 161/200, loss: 0.0619, duration: 0:00:00.366544\n",
      "episode: 171/200, loss: -0.0018, duration: 0:00:00.386978\n",
      "episode: 181/200, loss: -0.0881, duration: 0:00:00.391534\n",
      "episode: 191/200, loss: 0.0571, duration: 0:00:00.379106\n",
      "#############################################################################\n",
      "##\t[2/35]\tmodel=RL_CNN,\tSEED=0,\ttrade=0.1,\trisk=1\t##\n",
      "#############################################################################\n",
      "episode: 1/200, loss: 0.0068, duration: 0:00:00.402533\n",
      "episode: 11/200, loss: -0.0261, duration: 0:00:00.372845\n",
      "episode: 21/200, loss: 0.0296, duration: 0:00:00.447568\n",
      "episode: 31/200, loss: -0.0523, duration: 0:00:00.392869\n",
      "episode: 41/200, loss: 0.0106, duration: 0:00:00.385396\n",
      "episode: 51/200, loss: -0.0492, duration: 0:00:00.371090\n",
      "episode: 61/200, loss: -0.0102, duration: 0:00:00.367058\n",
      "episode: 71/200, loss: 0.0086, duration: 0:00:00.366227\n",
      "episode: 81/200, loss: 0.0206, duration: 0:00:00.372375\n",
      "episode: 91/200, loss: -0.0171, duration: 0:00:00.408025\n",
      "episode: 101/200, loss: -0.0234, duration: 0:00:00.362986\n",
      "episode: 111/200, loss: -0.0523, duration: 0:00:00.362120\n",
      "episode: 121/200, loss: -0.0627, duration: 0:00:00.392444\n",
      "episode: 131/200, loss: 0.0006, duration: 0:00:00.399311\n",
      "episode: 141/200, loss: -0.0078, duration: 0:00:00.364650\n",
      "episode: 151/200, loss: 0.0157, duration: 0:00:00.387314\n",
      "episode: 161/200, loss: 0.0641, duration: 0:00:00.377169\n",
      "episode: 171/200, loss: 0.0050, duration: 0:00:00.365890\n",
      "episode: 181/200, loss: -0.0748, duration: 0:00:00.365196\n",
      "episode: 191/200, loss: 0.0437, duration: 0:00:00.387715\n",
      "#############################################################################\n",
      "##\t[3/35]\tmodel=RL_CNN,\tSEED=0,\ttrade=0.1,\trisk=18\t##\n",
      "#############################################################################\n",
      "episode: 1/200, loss: 0.0397, duration: 0:00:00.460197\n",
      "episode: 11/200, loss: -0.0168, duration: 0:00:00.391635\n",
      "episode: 21/200, loss: 0.0619, duration: 0:00:00.363864\n",
      "episode: 31/200, loss: -0.0052, duration: 0:00:00.367674\n",
      "episode: 41/200, loss: 0.0291, duration: 0:00:00.369115\n",
      "episode: 51/200, loss: -0.0305, duration: 0:00:00.367256\n",
      "episode: 61/200, loss: -0.0038, duration: 0:00:00.379749\n",
      "episode: 71/200, loss: 0.0198, duration: 0:00:00.394386\n",
      "episode: 81/200, loss: 0.0317, duration: 0:00:00.362440\n",
      "episode: 91/200, loss: 0.0081, duration: 0:00:00.390624\n",
      "episode: 101/200, loss: 0.0036, duration: 0:00:00.359014\n",
      "episode: 111/200, loss: -0.0208, duration: 0:00:00.363550\n",
      "episode: 121/200, loss: -0.0205, duration: 0:00:00.376519\n",
      "episode: 131/200, loss: 0.0061, duration: 0:00:00.414446\n",
      "episode: 141/200, loss: -0.0000, duration: 0:00:00.420218\n",
      "episode: 151/200, loss: 0.0106, duration: 0:00:00.367030\n",
      "episode: 161/200, loss: 0.0181, duration: 0:00:00.359006\n",
      "episode: 171/200, loss: 0.0029, duration: 0:00:00.365751\n",
      "episode: 181/200, loss: -0.0175, duration: 0:00:00.362925\n",
      "episode: 191/200, loss: 0.0056, duration: 0:00:00.373637\n",
      "#############################################################################\n",
      "##\t[4/35]\tmodel=RL_CNN,\tSEED=0,\ttrade=0.1,\trisk=56\t##\n",
      "#############################################################################\n",
      "episode: 1/200, loss: 0.1134, duration: 0:00:00.390689\n",
      "episode: 11/200, loss: 0.0025, duration: 0:00:00.400397\n",
      "episode: 21/200, loss: 0.1346, duration: 0:00:00.368033\n",
      "episode: 31/200, loss: 0.0718, duration: 0:00:00.366366\n",
      "episode: 41/200, loss: 0.0612, duration: 0:00:00.382948\n",
      "episode: 51/200, loss: -0.0126, duration: 0:00:00.374788\n",
      "episode: 61/200, loss: 0.0081, duration: 0:00:00.366192\n",
      "episode: 71/200, loss: 0.0238, duration: 0:00:00.393075\n",
      "episode: 81/200, loss: 0.0317, duration: 0:00:00.370133\n",
      "episode: 91/200, loss: 0.0149, duration: 0:00:00.402092\n",
      "episode: 101/200, loss: 0.0055, duration: 0:00:00.367833\n",
      "episode: 111/200, loss: -0.0085, duration: 0:00:00.370162\n",
      "episode: 121/200, loss: -0.0076, duration: 0:00:00.395794\n",
      "episode: 131/200, loss: 0.0025, duration: 0:00:00.362764\n",
      "episode: 141/200, loss: -0.0004, duration: 0:00:00.374865\n",
      "episode: 151/200, loss: 0.0048, duration: 0:00:00.370255\n",
      "episode: 161/200, loss: 0.0060, duration: 0:00:00.371568\n",
      "episode: 171/200, loss: 0.0009, duration: 0:00:00.360795\n",
      "episode: 181/200, loss: -0.0077, duration: 0:00:00.365760\n",
      "episode: 191/200, loss: 0.0020, duration: 0:00:00.374862\n",
      "#############################################################################\n",
      "##\t[5/35]\tmodel=RL_CNN,\tSEED=0,\ttrade=0.1,\trisk=100\t##\n",
      "#############################################################################\n",
      "episode: 1/200, loss: 0.1986, duration: 0:00:00.390770\n",
      "episode: 11/200, loss: 0.0248, duration: 0:00:00.381152\n",
      "episode: 21/200, loss: 0.2191, duration: 0:00:00.377716\n",
      "episode: 31/200, loss: 0.1562, duration: 0:00:00.373022\n",
      "episode: 41/200, loss: 0.0951, duration: 0:00:00.405846\n",
      "episode: 51/200, loss: 0.0060, duration: 0:00:00.370362\n",
      "episode: 61/200, loss: 0.0242, duration: 0:00:00.405676\n",
      "episode: 71/200, loss: 0.0364, duration: 0:00:00.387272\n",
      "episode: 81/200, loss: 0.0401, duration: 0:00:00.367762\n",
      "episode: 91/200, loss: 0.0233, duration: 0:00:00.384257\n",
      "episode: 101/200, loss: 0.0088, duration: 0:00:00.383201\n",
      "episode: 111/200, loss: -0.0061, duration: 0:00:00.375302\n",
      "episode: 121/200, loss: -0.0054, duration: 0:00:00.422229\n",
      "episode: 131/200, loss: 0.0030, duration: 0:00:00.384737\n",
      "episode: 141/200, loss: 0.0002, duration: 0:00:00.370125\n",
      "episode: 151/200, loss: 0.0050, duration: 0:00:00.385036\n",
      "episode: 161/200, loss: 0.0055, duration: 0:00:00.391492\n",
      "episode: 171/200, loss: 0.0013, duration: 0:00:00.385466\n",
      "episode: 181/200, loss: -0.0062, duration: 0:00:00.378245\n",
      "episode: 191/200, loss: 0.0016, duration: 0:00:00.372390\n",
      "#############################################################################\n",
      "##\t[6/35]\tmodel=RL_CNN,\tSEED=0,\ttrade=0.1,\trisk=562\t##\n",
      "#############################################################################\n",
      "episode: 1/200, loss: 1.0939, duration: 0:00:00.379068\n",
      "episode: 11/200, loss: 0.2635, duration: 0:00:00.363622\n",
      "episode: 21/200, loss: 1.1088, duration: 0:00:00.396170\n",
      "episode: 31/200, loss: 1.0654, duration: 0:00:00.366663\n",
      "episode: 41/200, loss: 0.5044, duration: 0:00:00.370950\n",
      "episode: 51/200, loss: 0.2126, duration: 0:00:00.380284\n",
      "episode: 61/200, loss: 0.2041, duration: 0:00:00.372411\n",
      "episode: 71/200, loss: 0.1857, duration: 0:00:00.420023\n",
      "episode: 81/200, loss: 0.1614, duration: 0:00:00.374933\n",
      "episode: 91/200, loss: 0.1199, duration: 0:00:00.430242\n",
      "episode: 101/200, loss: 0.0475, duration: 0:00:00.363793\n",
      "episode: 111/200, loss: 0.0077, duration: 0:00:00.368323\n",
      "episode: 121/200, loss: 0.0064, duration: 0:00:00.366530\n",
      "episode: 131/200, loss: 0.0083, duration: 0:00:00.370083\n",
      "episode: 141/200, loss: 0.0056, duration: 0:00:00.365680\n",
      "episode: 151/200, loss: 0.0128, duration: 0:00:00.394911\n",
      "episode: 161/200, loss: 0.0110, duration: 0:00:00.361333\n",
      "episode: 171/200, loss: 0.0074, duration: 0:00:00.401356\n",
      "episode: 181/200, loss: -0.0034, duration: 0:00:00.367512\n",
      "episode: 191/200, loss: 0.0030, duration: 0:00:00.393960\n",
      "#############################################################################\n",
      "##\t[7/35]\tmodel=RL_CNN,\tSEED=0,\ttrade=0.1,\trisk=1000\t##\n",
      "#############################################################################\n",
      "episode: 1/200, loss: 1.9427, duration: 0:00:00.404473\n",
      "episode: 11/200, loss: 0.4895, duration: 0:00:00.373334\n",
      "episode: 21/200, loss: 1.9516, duration: 0:00:00.396767\n",
      "episode: 31/200, loss: 1.9266, duration: 0:00:00.569649\n",
      "episode: 41/200, loss: 0.8905, duration: 0:00:00.401054\n",
      "episode: 51/200, loss: 0.4082, duration: 0:00:00.376113\n",
      "episode: 61/200, loss: 0.3749, duration: 0:00:00.376573\n",
      "episode: 71/200, loss: 0.3291, duration: 0:00:00.360051\n",
      "episode: 81/200, loss: 0.2783, duration: 0:00:00.394400\n",
      "episode: 91/200, loss: 0.2118, duration: 0:00:00.367863\n",
      "episode: 101/200, loss: 0.0846, duration: 0:00:00.394451\n",
      "episode: 111/200, loss: 0.0204, duration: 0:00:00.367550\n",
      "episode: 121/200, loss: 0.0170, duration: 0:00:00.360804\n",
      "episode: 131/200, loss: 0.0136, duration: 0:00:00.363890\n",
      "episode: 141/200, loss: 0.0107, duration: 0:00:00.374766\n",
      "episode: 151/200, loss: 0.0208, duration: 0:00:00.410401\n",
      "episode: 161/200, loss: 0.0173, duration: 0:00:00.367456\n",
      "episode: 171/200, loss: 0.0134, duration: 0:00:00.377392\n",
      "episode: 181/200, loss: -0.0020, duration: 0:00:00.364265\n",
      "episode: 191/200, loss: 0.0047, duration: 0:00:00.395033\n",
      "#############################################################################\n",
      "##\t[8/35]\tmodel=RL_CNN,\tSEED=0,\ttrade=1,\trisk=0.1\t##\n",
      "#############################################################################\n",
      "episode: 1/200, loss: 0.0060, duration: 0:00:00.393813\n",
      "episode: 11/200, loss: -0.0262, duration: 0:00:00.383761\n",
      "episode: 21/200, loss: 0.0293, duration: 0:00:00.379701\n",
      "episode: 31/200, loss: -0.0550, duration: 0:00:00.376480\n",
      "episode: 41/200, loss: 0.0093, duration: 0:00:00.383309\n",
      "episode: 51/200, loss: -0.0511, duration: 0:00:00.383191\n",
      "episode: 61/200, loss: -0.0106, duration: 0:00:00.368598\n",
      "episode: 71/200, loss: 0.0078, duration: 0:00:00.366833\n",
      "episode: 81/200, loss: 0.0213, duration: 0:00:00.368804\n",
      "episode: 91/200, loss: -0.0213, duration: 0:00:00.374227\n",
      "episode: 101/200, loss: -0.0292, duration: 0:00:00.370515\n",
      "episode: 111/200, loss: -0.0577, duration: 0:00:00.369693\n",
      "episode: 121/200, loss: -0.0717, duration: 0:00:00.432270\n",
      "episode: 131/200, loss: -0.0011, duration: 0:00:00.369460\n",
      "episode: 141/200, loss: -0.0046, duration: 0:00:00.427571\n",
      "episode: 151/200, loss: 0.0137, duration: 0:00:00.390591\n",
      "episode: 161/200, loss: 0.0665, duration: 0:00:00.380966\n",
      "episode: 171/200, loss: 0.0038, duration: 0:00:00.400609\n",
      "episode: 181/200, loss: -0.0865, duration: 0:00:00.375960\n",
      "episode: 191/200, loss: 0.0564, duration: 0:00:00.369533\n",
      "#############################################################################\n",
      "##\t[9/35]\tmodel=RL_CNN,\tSEED=0,\ttrade=1,\trisk=1\t##\n",
      "#############################################################################\n",
      "episode: 1/200, loss: 0.0077, duration: 0:00:00.409447\n",
      "episode: 11/200, loss: -0.0256, duration: 0:00:00.376306\n",
      "episode: 21/200, loss: 0.0312, duration: 0:00:00.388044\n",
      "episode: 31/200, loss: -0.0513, duration: 0:00:00.380478\n",
      "episode: 41/200, loss: 0.0109, duration: 0:00:00.363651\n",
      "episode: 51/200, loss: -0.0488, duration: 0:00:00.371592\n",
      "episode: 61/200, loss: -0.0099, duration: 0:00:00.372456\n",
      "episode: 71/200, loss: 0.0089, duration: 0:00:00.372760\n",
      "episode: 81/200, loss: 0.0236, duration: 0:00:00.388013\n",
      "episode: 91/200, loss: -0.0169, duration: 0:00:00.385227\n",
      "episode: 101/200, loss: -0.0232, duration: 0:00:00.398410\n",
      "episode: 111/200, loss: -0.0520, duration: 0:00:00.437311\n",
      "episode: 121/200, loss: -0.0621, duration: 0:00:00.377541\n",
      "episode: 131/200, loss: 0.0009, duration: 0:00:00.385261\n",
      "episode: 141/200, loss: -0.0066, duration: 0:00:00.390932\n",
      "episode: 151/200, loss: 0.0157, duration: 0:00:00.378184\n",
      "episode: 161/200, loss: 0.0690, duration: 0:00:00.370446\n",
      "episode: 171/200, loss: 0.0099, duration: 0:00:00.389417\n",
      "episode: 181/200, loss: -0.0748, duration: 0:00:00.371404\n",
      "episode: 191/200, loss: 0.0459, duration: 0:00:00.381162\n",
      "#############################################################################\n",
      "##\t[10/35]\tmodel=RL_CNN,\tSEED=0,\ttrade=1,\trisk=18\t##\n",
      "#############################################################################\n",
      "episode: 1/200, loss: 0.0406, duration: 0:00:00.400476\n",
      "episode: 11/200, loss: -0.0164, duration: 0:00:00.378825\n",
      "episode: 21/200, loss: 0.0637, duration: 0:00:00.448868\n",
      "episode: 31/200, loss: -0.0036, duration: 0:00:00.384900\n",
      "episode: 41/200, loss: 0.0295, duration: 0:00:00.400454\n",
      "episode: 51/200, loss: -0.0298, duration: 0:00:00.377119\n",
      "episode: 61/200, loss: -0.0031, duration: 0:00:00.387623\n",
      "episode: 71/200, loss: 0.0201, duration: 0:00:00.359473\n",
      "episode: 81/200, loss: 0.0343, duration: 0:00:00.364918\n",
      "episode: 91/200, loss: 0.0093, duration: 0:00:00.367229\n",
      "episode: 101/200, loss: 0.0039, duration: 0:00:00.376560\n",
      "episode: 111/200, loss: -0.0203, duration: 0:00:00.369098\n",
      "episode: 121/200, loss: -0.0204, duration: 0:00:00.396569\n",
      "episode: 131/200, loss: 0.0068, duration: 0:00:00.375337\n",
      "episode: 141/200, loss: 0.0003, duration: 0:00:00.399824\n",
      "episode: 151/200, loss: 0.0116, duration: 0:00:00.397745\n",
      "episode: 161/200, loss: 0.0189, duration: 0:00:00.364065\n",
      "episode: 171/200, loss: 0.0032, duration: 0:00:00.362245\n",
      "episode: 181/200, loss: -0.0178, duration: 0:00:00.370054\n",
      "episode: 191/200, loss: 0.0060, duration: 0:00:00.388862\n",
      "#############################################################################\n",
      "##\t[11/35]\tmodel=RL_CNN,\tSEED=0,\ttrade=1,\trisk=56\t##\n",
      "#############################################################################\n",
      "episode: 1/200, loss: 0.1143, duration: 0:00:00.398377\n",
      "episode: 11/200, loss: 0.0029, duration: 0:00:00.356214\n",
      "episode: 21/200, loss: 0.1362, duration: 0:00:00.393384\n",
      "episode: 31/200, loss: 0.0734, duration: 0:00:00.368707\n",
      "episode: 41/200, loss: 0.0622, duration: 0:00:00.368009\n",
      "episode: 51/200, loss: -0.0120, duration: 0:00:00.383229\n",
      "episode: 61/200, loss: 0.0086, duration: 0:00:00.377671\n",
      "episode: 71/200, loss: 0.0245, duration: 0:00:00.375415\n",
      "episode: 81/200, loss: 0.0328, duration: 0:00:00.389978\n",
      "episode: 91/200, loss: 0.0154, duration: 0:00:00.372601\n",
      "episode: 101/200, loss: 0.0058, duration: 0:00:00.385418\n",
      "episode: 111/200, loss: -0.0084, duration: 0:00:00.400608\n",
      "episode: 121/200, loss: -0.0074, duration: 0:00:00.375391\n",
      "episode: 131/200, loss: 0.0027, duration: 0:00:00.393768\n",
      "episode: 141/200, loss: -0.0003, duration: 0:00:00.389200\n",
      "episode: 151/200, loss: 0.0048, duration: 0:00:00.401060\n",
      "episode: 161/200, loss: 0.0061, duration: 0:00:00.394452\n",
      "episode: 171/200, loss: 0.0010, duration: 0:00:00.376346\n",
      "episode: 181/200, loss: -0.0077, duration: 0:00:00.381515\n",
      "episode: 191/200, loss: 0.0021, duration: 0:00:00.419036\n",
      "#############################################################################\n",
      "##\t[12/35]\tmodel=RL_CNN,\tSEED=0,\ttrade=1,\trisk=100\t##\n",
      "#############################################################################\n",
      "episode: 1/200, loss: 0.1995, duration: 0:00:00.404023\n",
      "episode: 11/200, loss: 0.0252, duration: 0:00:00.369569\n",
      "episode: 21/200, loss: 0.2208, duration: 0:00:00.377519\n",
      "episode: 31/200, loss: 0.1576, duration: 0:00:00.365840\n",
      "episode: 41/200, loss: 0.0955, duration: 0:00:00.368804\n",
      "episode: 51/200, loss: 0.0065, duration: 0:00:00.396472\n",
      "episode: 61/200, loss: 0.0245, duration: 0:00:00.379108\n",
      "episode: 71/200, loss: 0.0368, duration: 0:00:00.376219\n",
      "episode: 81/200, loss: 0.0409, duration: 0:00:00.378100\n",
      "episode: 91/200, loss: 0.0237, duration: 0:00:00.372084\n",
      "episode: 101/200, loss: 0.0090, duration: 0:00:00.366800\n",
      "episode: 111/200, loss: -0.0060, duration: 0:00:00.358641\n",
      "episode: 121/200, loss: -0.0053, duration: 0:00:00.362642\n",
      "episode: 131/200, loss: 0.0031, duration: 0:00:00.362185\n",
      "episode: 141/200, loss: 0.0002, duration: 0:00:00.362892\n",
      "episode: 151/200, loss: 0.0051, duration: 0:00:00.387547\n",
      "episode: 161/200, loss: 0.0055, duration: 0:00:00.375752\n",
      "episode: 171/200, loss: 0.0013, duration: 0:00:00.392484\n",
      "episode: 181/200, loss: -0.0061, duration: 0:00:00.365747\n",
      "episode: 191/200, loss: 0.0017, duration: 0:00:00.367035\n",
      "#############################################################################\n",
      "##\t[13/35]\tmodel=RL_CNN,\tSEED=0,\ttrade=1,\trisk=562\t##\n",
      "#############################################################################\n",
      "episode: 1/200, loss: 1.0948, duration: 0:00:00.399519\n",
      "episode: 11/200, loss: 0.2639, duration: 0:00:00.380521\n",
      "episode: 21/200, loss: 1.1104, duration: 0:00:00.377000\n",
      "episode: 31/200, loss: 1.0669, duration: 0:00:00.360519\n",
      "episode: 41/200, loss: 0.5050, duration: 0:00:00.365164\n",
      "episode: 51/200, loss: 0.2131, duration: 0:00:00.382992\n",
      "episode: 61/200, loss: 0.2045, duration: 0:00:00.367528\n",
      "episode: 71/200, loss: 0.1862, duration: 0:00:00.376451\n",
      "episode: 81/200, loss: 0.1621, duration: 0:00:00.388015\n",
      "episode: 91/200, loss: 0.1202, duration: 0:00:00.372831\n",
      "episode: 101/200, loss: 0.0477, duration: 0:00:00.373040\n",
      "episode: 111/200, loss: 0.0078, duration: 0:00:00.437163\n",
      "episode: 121/200, loss: 0.0065, duration: 0:00:00.369549\n",
      "episode: 131/200, loss: 0.0084, duration: 0:00:00.413900\n",
      "episode: 141/200, loss: 0.0056, duration: 0:00:00.369413\n",
      "episode: 151/200, loss: 0.0129, duration: 0:00:00.384988\n",
      "episode: 161/200, loss: 0.0111, duration: 0:00:00.368975\n",
      "episode: 171/200, loss: 0.0074, duration: 0:00:00.399043\n",
      "episode: 181/200, loss: -0.0034, duration: 0:00:00.383477\n",
      "episode: 191/200, loss: 0.0030, duration: 0:00:00.406052\n",
      "#############################################################################\n",
      "##\t[14/35]\tmodel=RL_CNN,\tSEED=0,\ttrade=1,\trisk=1000\t##\n",
      "#############################################################################\n",
      "episode: 1/200, loss: 1.9436, duration: 0:00:00.413495\n",
      "episode: 11/200, loss: 0.4899, duration: 0:00:00.373867\n",
      "episode: 21/200, loss: 1.9533, duration: 0:00:00.389337\n",
      "episode: 31/200, loss: 1.9280, duration: 0:00:00.376418\n",
      "episode: 41/200, loss: 0.8911, duration: 0:00:00.383283\n",
      "episode: 51/200, loss: 0.4087, duration: 0:00:00.383576\n",
      "episode: 61/200, loss: 0.3752, duration: 0:00:00.403524\n",
      "episode: 71/200, loss: 0.3295, duration: 0:00:00.362847\n",
      "episode: 81/200, loss: 0.2788, duration: 0:00:00.381429\n",
      "episode: 91/200, loss: 0.2120, duration: 0:00:00.375134\n",
      "episode: 101/200, loss: 0.0848, duration: 0:00:00.395132\n",
      "episode: 111/200, loss: 0.0205, duration: 0:00:00.414808\n",
      "episode: 121/200, loss: 0.0171, duration: 0:00:00.368594\n",
      "episode: 131/200, loss: 0.0137, duration: 0:00:00.401695\n",
      "episode: 141/200, loss: 0.0108, duration: 0:00:00.363921\n",
      "episode: 151/200, loss: 0.0209, duration: 0:00:00.361771\n",
      "episode: 161/200, loss: 0.0173, duration: 0:00:00.364693\n",
      "episode: 171/200, loss: 0.0135, duration: 0:00:00.362921\n",
      "episode: 181/200, loss: -0.0019, duration: 0:00:00.443121\n",
      "episode: 191/200, loss: 0.0048, duration: 0:00:00.386009\n",
      "#############################################################################\n",
      "##\t[15/35]\tmodel=RL_CNN,\tSEED=0,\ttrade=10,\trisk=0.1\t##\n",
      "#############################################################################\n",
      "episode: 1/200, loss: 0.0151, duration: 0:00:00.452105\n",
      "episode: 11/200, loss: -0.0223, duration: 0:00:00.437369\n",
      "episode: 21/200, loss: 0.0442, duration: 0:00:00.402267\n",
      "episode: 31/200, loss: -0.0455, duration: 0:00:00.365463\n",
      "episode: 41/200, loss: 0.0118, duration: 0:00:00.398318\n",
      "episode: 51/200, loss: -0.0495, duration: 0:00:00.371418\n",
      "episode: 61/200, loss: -0.0084, duration: 0:00:00.356107\n",
      "episode: 71/200, loss: 0.0095, duration: 0:00:00.371069\n",
      "episode: 81/200, loss: 0.0399, duration: 0:00:00.392889\n",
      "episode: 91/200, loss: -0.0178, duration: 0:00:00.385568\n",
      "episode: 101/200, loss: -0.0261, duration: 0:00:00.413597\n",
      "episode: 111/200, loss: -0.0559, duration: 0:00:00.422060\n",
      "episode: 121/200, loss: -0.0679, duration: 0:00:00.393012\n",
      "episode: 131/200, loss: 0.0013, duration: 0:00:00.398171\n",
      "episode: 141/200, loss: 0.0024, duration: 0:00:00.405156\n",
      "episode: 151/200, loss: 0.0145, duration: 0:00:00.384144\n",
      "episode: 161/200, loss: 0.0906, duration: 0:00:00.378478\n",
      "episode: 171/200, loss: 0.0243, duration: 0:00:00.381982\n",
      "episode: 181/200, loss: -0.0838, duration: 0:00:00.389330\n",
      "episode: 191/200, loss: 0.0642, duration: 0:00:00.364128\n",
      "#############################################################################\n",
      "##\t[16/35]\tmodel=RL_CNN,\tSEED=0,\ttrade=10,\trisk=1\t##\n",
      "#############################################################################\n",
      "episode: 1/200, loss: 0.0169, duration: 0:00:00.382192\n",
      "episode: 11/200, loss: -0.0218, duration: 0:00:00.383151\n",
      "episode: 21/200, loss: 0.0464, duration: 0:00:00.391035\n",
      "episode: 31/200, loss: -0.0418, duration: 0:00:00.371715\n",
      "episode: 41/200, loss: 0.0133, duration: 0:00:00.391083\n",
      "episode: 51/200, loss: -0.0470, duration: 0:00:00.372899\n",
      "episode: 61/200, loss: -0.0075, duration: 0:00:00.393664\n",
      "episode: 71/200, loss: 0.0113, duration: 0:00:00.385734\n",
      "episode: 81/200, loss: 0.0421, duration: 0:00:00.370211\n",
      "episode: 91/200, loss: -0.0135, duration: 0:00:00.369790\n",
      "episode: 101/200, loss: -0.0200, duration: 0:00:00.367506\n",
      "episode: 111/200, loss: -0.0498, duration: 0:00:00.381124\n",
      "episode: 121/200, loss: -0.0563, duration: 0:00:00.371379\n",
      "episode: 131/200, loss: 0.0029, duration: 0:00:00.394191\n",
      "episode: 141/200, loss: 0.0023, duration: 0:00:00.388708\n",
      "episode: 151/200, loss: 0.0172, duration: 0:00:00.372037\n",
      "episode: 161/200, loss: 0.0955, duration: 0:00:00.371114\n",
      "episode: 171/200, loss: 0.0326, duration: 0:00:00.371617\n",
      "episode: 181/200, loss: -0.0716, duration: 0:00:00.441754\n",
      "episode: 191/200, loss: 0.0560, duration: 0:00:00.372942\n",
      "#############################################################################\n",
      "##\t[17/35]\tmodel=RL_CNN,\tSEED=0,\ttrade=10,\trisk=18\t##\n",
      "#############################################################################\n",
      "episode: 1/200, loss: 0.0498, duration: 0:00:00.391079\n",
      "episode: 11/200, loss: -0.0123, duration: 0:00:00.393770\n",
      "episode: 21/200, loss: 0.0800, duration: 0:00:00.392760\n",
      "episode: 31/200, loss: 0.0089, duration: 0:00:00.359464\n",
      "episode: 41/200, loss: 0.0330, duration: 0:00:00.361713\n",
      "episode: 51/200, loss: -0.0260, duration: 0:00:00.362120\n",
      "episode: 61/200, loss: 0.0009, duration: 0:00:00.371293\n",
      "episode: 71/200, loss: 0.0241, duration: 0:00:00.365129\n",
      "episode: 81/200, loss: 0.0567, duration: 0:00:00.365949\n",
      "episode: 91/200, loss: 0.0162, duration: 0:00:00.372364\n",
      "episode: 101/200, loss: 0.0102, duration: 0:00:00.357751\n",
      "episode: 111/200, loss: -0.0177, duration: 0:00:00.359987\n",
      "episode: 121/200, loss: -0.0168, duration: 0:00:00.363145\n",
      "episode: 131/200, loss: 0.0119, duration: 0:00:00.367788\n",
      "episode: 141/200, loss: 0.0042, duration: 0:00:00.378790\n",
      "episode: 151/200, loss: 0.0176, duration: 0:00:00.362174\n",
      "episode: 161/200, loss: 0.0272, duration: 0:00:00.361003\n",
      "episode: 171/200, loss: 0.0079, duration: 0:00:00.367132\n",
      "episode: 181/200, loss: -0.0176, duration: 0:00:00.376551\n",
      "episode: 191/200, loss: 0.0085, duration: 0:00:00.367469\n",
      "#############################################################################\n",
      "##\t[18/35]\tmodel=RL_CNN,\tSEED=0,\ttrade=10,\trisk=56\t##\n",
      "#############################################################################\n",
      "episode: 1/200, loss: 0.1235, duration: 0:00:00.402131\n",
      "episode: 11/200, loss: 0.0072, duration: 0:00:00.375225\n",
      "episode: 21/200, loss: 0.1526, duration: 0:00:00.369080\n",
      "episode: 31/200, loss: 0.0887, duration: 0:00:00.380013\n",
      "episode: 41/200, loss: 0.0701, duration: 0:00:00.367720\n",
      "episode: 51/200, loss: -0.0061, duration: 0:00:00.423544\n",
      "episode: 61/200, loss: 0.0132, duration: 0:00:00.390204\n",
      "episode: 71/200, loss: 0.0301, duration: 0:00:00.368386\n",
      "episode: 81/200, loss: 0.0433, duration: 0:00:00.430957\n",
      "episode: 91/200, loss: 0.0198, duration: 0:00:00.367846\n",
      "episode: 101/200, loss: 0.0089, duration: 0:00:00.368424\n",
      "episode: 111/200, loss: -0.0069, duration: 0:00:00.382805\n",
      "episode: 121/200, loss: -0.0059, duration: 0:00:00.384005\n",
      "episode: 131/200, loss: 0.0039, duration: 0:00:00.383558\n",
      "episode: 141/200, loss: 0.0006, duration: 0:00:00.377024\n",
      "episode: 151/200, loss: 0.0054, duration: 0:00:00.374099\n",
      "episode: 161/200, loss: 0.0069, duration: 0:00:00.377338\n",
      "episode: 171/200, loss: 0.0017, duration: 0:00:00.367019\n",
      "episode: 181/200, loss: -0.0069, duration: 0:00:00.374130\n",
      "episode: 191/200, loss: 0.0026, duration: 0:00:00.369095\n",
      "#############################################################################\n",
      "##\t[19/35]\tmodel=RL_CNN,\tSEED=0,\ttrade=10,\trisk=100\t##\n",
      "#############################################################################\n",
      "episode: 1/200, loss: 0.2087, duration: 0:00:00.409876\n",
      "episode: 11/200, loss: 0.0295, duration: 0:00:00.371936\n",
      "episode: 21/200, loss: 0.2372, duration: 0:00:00.359849\n",
      "episode: 31/200, loss: 0.1735, duration: 0:00:00.378842\n",
      "episode: 41/200, loss: 0.1041, duration: 0:00:00.377954\n",
      "episode: 51/200, loss: 0.0122, duration: 0:00:00.366424\n",
      "episode: 61/200, loss: 0.0287, duration: 0:00:00.363909\n",
      "episode: 71/200, loss: 0.0414, duration: 0:00:00.367877\n",
      "episode: 81/200, loss: 0.0497, duration: 0:00:00.368971\n",
      "episode: 91/200, loss: 0.0279, duration: 0:00:00.364859\n",
      "episode: 101/200, loss: 0.0117, duration: 0:00:00.377989\n",
      "episode: 111/200, loss: -0.0048, duration: 0:00:00.366537\n",
      "episode: 121/200, loss: -0.0040, duration: 0:00:00.368522\n",
      "episode: 131/200, loss: 0.0042, duration: 0:00:00.357706\n",
      "episode: 141/200, loss: 0.0010, duration: 0:00:00.363306\n",
      "episode: 151/200, loss: 0.0056, duration: 0:00:00.360704\n",
      "episode: 161/200, loss: 0.0062, duration: 0:00:00.371244\n",
      "episode: 171/200, loss: 0.0020, duration: 0:00:00.377811\n",
      "episode: 181/200, loss: -0.0056, duration: 0:00:00.372379\n",
      "episode: 191/200, loss: 0.0021, duration: 0:00:00.366336\n",
      "#############################################################################\n",
      "##\t[20/35]\tmodel=RL_CNN,\tSEED=0,\ttrade=10,\trisk=562\t##\n",
      "#############################################################################\n",
      "episode: 1/200, loss: 1.1040, duration: 0:00:00.405925\n",
      "episode: 11/200, loss: 0.2679, duration: 0:00:00.369971\n",
      "episode: 21/200, loss: 1.1270, duration: 0:00:00.360501\n",
      "episode: 31/200, loss: 1.0815, duration: 0:00:00.381600\n",
      "episode: 41/200, loss: 0.5106, duration: 0:00:00.369734\n",
      "episode: 51/200, loss: 0.2177, duration: 0:00:00.361224\n",
      "episode: 61/200, loss: 0.2076, duration: 0:00:00.369624\n",
      "episode: 71/200, loss: 0.1893, duration: 0:00:00.396437\n",
      "episode: 81/200, loss: 0.1673, duration: 0:00:00.364956\n",
      "episode: 91/200, loss: 0.1228, duration: 0:00:00.377395\n",
      "episode: 101/200, loss: 0.0496, duration: 0:00:00.380266\n",
      "episode: 111/200, loss: 0.0088, duration: 0:00:00.393375\n",
      "episode: 121/200, loss: 0.0076, duration: 0:00:00.377432\n",
      "episode: 131/200, loss: 0.0093, duration: 0:00:00.374126\n",
      "episode: 141/200, loss: 0.0062, duration: 0:00:00.360879\n",
      "episode: 151/200, loss: 0.0133, duration: 0:00:00.361902\n",
      "episode: 161/200, loss: 0.0116, duration: 0:00:00.380366\n",
      "episode: 171/200, loss: 0.0080, duration: 0:00:00.364996\n",
      "episode: 181/200, loss: -0.0031, duration: 0:00:00.362752\n",
      "episode: 191/200, loss: 0.0033, duration: 0:00:00.366333\n",
      "#############################################################################\n",
      "##\t[21/35]\tmodel=RL_CNN,\tSEED=0,\ttrade=10,\trisk=1000\t##\n",
      "#############################################################################\n",
      "episode: 1/200, loss: 1.9528, duration: 0:00:00.394831\n",
      "episode: 11/200, loss: 0.4938, duration: 0:00:00.379647\n",
      "episode: 21/200, loss: 1.9697, duration: 0:00:00.363342\n",
      "episode: 31/200, loss: 1.9426, duration: 0:00:00.368357\n",
      "episode: 41/200, loss: 0.8976, duration: 0:00:00.363567\n",
      "episode: 51/200, loss: 0.4137, duration: 0:00:00.374941\n",
      "episode: 61/200, loss: 0.3784, duration: 0:00:00.368998\n",
      "episode: 71/200, loss: 0.3334, duration: 0:00:00.365284\n",
      "episode: 81/200, loss: 0.2847, duration: 0:00:00.364627\n",
      "episode: 91/200, loss: 0.2149, duration: 0:00:00.372574\n",
      "episode: 101/200, loss: 0.0867, duration: 0:00:00.376373\n",
      "episode: 111/200, loss: 0.0215, duration: 0:00:00.358029\n",
      "episode: 121/200, loss: 0.0181, duration: 0:00:00.355930\n",
      "episode: 131/200, loss: 0.0146, duration: 0:00:00.391195\n",
      "episode: 141/200, loss: 0.0113, duration: 0:00:00.366602\n",
      "episode: 151/200, loss: 0.0214, duration: 0:00:00.379038\n",
      "episode: 161/200, loss: 0.0179, duration: 0:00:00.371545\n",
      "episode: 171/200, loss: 0.0140, duration: 0:00:00.375521\n",
      "episode: 181/200, loss: -0.0016, duration: 0:00:00.376492\n",
      "episode: 191/200, loss: 0.0051, duration: 0:00:00.371329\n"
     ]
    },
    {
     "name": "stderr",
     "output_type": "stream",
     "text": [
      "/usr/local/lib/python3.7/site-packages/ipykernel_launcher.py:134: RuntimeWarning: More than 20 figures have been opened. Figures created through the pyplot interface (`matplotlib.pyplot.figure`) are retained until explicitly closed and may consume too much memory. (To control this warning, see the rcParam `figure.max_open_warning`).\n"
     ]
    },
    {
     "name": "stdout",
     "output_type": "stream",
     "text": [
      "#############################################################################\n",
      "##\t[22/35]\tmodel=RL_CNN,\tSEED=0,\ttrade=60,\trisk=0.1\t##\n",
      "#############################################################################\n",
      "episode: 1/200, loss: 0.0661, duration: 0:00:00.418241\n",
      "episode: 11/200, loss: -0.0057, duration: 0:00:00.370861\n",
      "episode: 21/200, loss: 0.1172, duration: 0:00:00.373151\n",
      "episode: 31/200, loss: -0.0080, duration: 0:00:00.399646\n",
      "episode: 41/200, loss: 0.0242, duration: 0:00:00.369865\n",
      "episode: 51/200, loss: -0.0407, duration: 0:00:00.376287\n",
      "episode: 61/200, loss: 0.0000, duration: 0:00:00.375389\n",
      "episode: 71/200, loss: 0.0155, duration: 0:00:00.392451\n",
      "episode: 81/200, loss: 0.0819, duration: 0:00:00.356048\n",
      "episode: 91/200, loss: -0.0098, duration: 0:00:00.398250\n",
      "episode: 101/200, loss: -0.0212, duration: 0:00:00.368225\n",
      "episode: 111/200, loss: -0.0480, duration: 0:00:00.372963\n",
      "episode: 121/200, loss: -0.0547, duration: 0:00:00.402103\n",
      "episode: 131/200, loss: 0.0095, duration: 0:00:00.384297\n",
      "episode: 141/200, loss: 0.0073, duration: 0:00:00.404857\n",
      "episode: 151/200, loss: 0.0205, duration: 0:00:00.367289\n",
      "episode: 161/200, loss: 0.1045, duration: 0:00:00.375553\n",
      "episode: 171/200, loss: 0.0420, duration: 0:00:00.364112\n",
      "episode: 181/200, loss: -0.0683, duration: 0:00:00.377125\n",
      "episode: 191/200, loss: 0.0626, duration: 0:00:00.384763\n"
     ]
    },
    {
     "name": "stderr",
     "output_type": "stream",
     "text": [
      "/usr/local/lib/python3.7/site-packages/ipykernel_launcher.py:134: RuntimeWarning: More than 20 figures have been opened. Figures created through the pyplot interface (`matplotlib.pyplot.figure`) are retained until explicitly closed and may consume too much memory. (To control this warning, see the rcParam `figure.max_open_warning`).\n"
     ]
    },
    {
     "name": "stdout",
     "output_type": "stream",
     "text": [
      "#############################################################################\n",
      "##\t[23/35]\tmodel=RL_CNN,\tSEED=0,\ttrade=60,\trisk=1\t##\n",
      "#############################################################################\n",
      "episode: 1/200, loss: 0.0679, duration: 0:00:00.394695\n",
      "episode: 11/200, loss: -0.0052, duration: 0:00:00.388005\n",
      "episode: 21/200, loss: 0.1203, duration: 0:00:00.362476\n",
      "episode: 31/200, loss: -0.0041, duration: 0:00:00.361811\n",
      "episode: 41/200, loss: 0.0253, duration: 0:00:00.363248\n",
      "episode: 51/200, loss: -0.0384, duration: 0:00:00.390033\n",
      "episode: 61/200, loss: 0.0015, duration: 0:00:00.365093\n",
      "episode: 71/200, loss: 0.0176, duration: 0:00:00.365803\n",
      "episode: 81/200, loss: 0.0987, duration: 0:00:00.360805\n",
      "episode: 91/200, loss: -0.0036, duration: 0:00:00.364877\n",
      "episode: 101/200, loss: -0.0142, duration: 0:00:00.355527\n",
      "episode: 111/200, loss: -0.0433, duration: 0:00:00.378641\n",
      "episode: 121/200, loss: -0.0477, duration: 0:00:00.415667\n",
      "episode: 131/200, loss: 0.0099, duration: 0:00:00.370493\n",
      "episode: 141/200, loss: 0.0087, duration: 0:00:00.388185\n",
      "episode: 151/200, loss: 0.0198, duration: 0:00:00.381793\n",
      "episode: 161/200, loss: 0.1041, duration: 0:00:00.391507\n",
      "episode: 171/200, loss: 0.0435, duration: 0:00:00.383779\n",
      "episode: 181/200, loss: -0.0610, duration: 0:00:00.364970\n",
      "episode: 191/200, loss: 0.0555, duration: 0:00:00.391040\n"
     ]
    },
    {
     "name": "stderr",
     "output_type": "stream",
     "text": [
      "/usr/local/lib/python3.7/site-packages/ipykernel_launcher.py:134: RuntimeWarning: More than 20 figures have been opened. Figures created through the pyplot interface (`matplotlib.pyplot.figure`) are retained until explicitly closed and may consume too much memory. (To control this warning, see the rcParam `figure.max_open_warning`).\n"
     ]
    },
    {
     "name": "stdout",
     "output_type": "stream",
     "text": [
      "#############################################################################\n",
      "##\t[24/35]\tmodel=RL_CNN,\tSEED=0,\ttrade=60,\trisk=18\t##\n",
      "#############################################################################\n",
      "episode: 1/200, loss: 0.1008, duration: 0:00:00.387718\n",
      "episode: 11/200, loss: 0.0051, duration: 0:00:00.365222\n",
      "episode: 21/200, loss: 0.1594, duration: 0:00:00.374509\n",
      "episode: 31/200, loss: 0.0516, duration: 0:00:00.355969\n",
      "episode: 41/200, loss: 0.0535, duration: 0:00:00.418624\n",
      "episode: 51/200, loss: -0.0111, duration: 0:00:00.389194\n",
      "episode: 61/200, loss: 0.0149, duration: 0:00:00.375358\n",
      "episode: 71/200, loss: 0.0422, duration: 0:00:00.392395\n",
      "episode: 81/200, loss: 0.1364, duration: 0:00:00.373695\n",
      "episode: 91/200, loss: 0.0277, duration: 0:00:00.371795\n",
      "episode: 101/200, loss: 0.0258, duration: 0:00:00.360588\n",
      "episode: 111/200, loss: -0.0082, duration: 0:00:00.356191\n",
      "episode: 121/200, loss: -0.0063, duration: 0:00:00.500151\n",
      "episode: 131/200, loss: 0.0273, duration: 0:00:00.437017\n",
      "episode: 141/200, loss: 0.0302, duration: 0:00:00.441671\n",
      "episode: 151/200, loss: 0.0388, duration: 0:00:00.383480\n",
      "episode: 161/200, loss: 0.1088, duration: 0:00:00.374784\n",
      "episode: 171/200, loss: 0.0549, duration: 0:00:00.391949\n",
      "episode: 181/200, loss: -0.0182, duration: 0:00:00.432491\n",
      "episode: 191/200, loss: 0.0312, duration: 0:00:00.370096\n"
     ]
    },
    {
     "name": "stderr",
     "output_type": "stream",
     "text": [
      "/usr/local/lib/python3.7/site-packages/ipykernel_launcher.py:134: RuntimeWarning: More than 20 figures have been opened. Figures created through the pyplot interface (`matplotlib.pyplot.figure`) are retained until explicitly closed and may consume too much memory. (To control this warning, see the rcParam `figure.max_open_warning`).\n"
     ]
    },
    {
     "name": "stdout",
     "output_type": "stream",
     "text": [
      "#############################################################################\n",
      "##\t[25/35]\tmodel=RL_CNN,\tSEED=0,\ttrade=60,\trisk=56\t##\n",
      "#############################################################################\n",
      "episode: 1/200, loss: 0.1745, duration: 0:00:00.399538\n",
      "episode: 11/200, loss: 0.0288, duration: 0:00:00.377645\n",
      "episode: 21/200, loss: 0.2367, duration: 0:00:00.366626\n",
      "episode: 31/200, loss: 0.1553, duration: 0:00:00.359859\n",
      "episode: 41/200, loss: 0.0959, duration: 0:00:00.377988\n",
      "episode: 51/200, loss: 0.0165, duration: 0:00:00.388142\n",
      "episode: 61/200, loss: 0.0350, duration: 0:00:00.368522\n",
      "episode: 71/200, loss: 0.0587, duration: 0:00:00.398430\n",
      "episode: 81/200, loss: 0.1153, duration: 0:00:00.370392\n",
      "episode: 91/200, loss: 0.0449, duration: 0:00:00.375757\n",
      "episode: 101/200, loss: 0.0255, duration: 0:00:00.390374\n",
      "episode: 111/200, loss: 0.0041, duration: 0:00:00.361482\n",
      "episode: 121/200, loss: 0.0032, duration: 0:00:00.432589\n",
      "episode: 131/200, loss: 0.0179, duration: 0:00:00.403638\n",
      "episode: 141/200, loss: 0.0077, duration: 0:00:00.373391\n",
      "episode: 151/200, loss: 0.0131, duration: 0:00:00.370095\n",
      "episode: 161/200, loss: 0.0145, duration: 0:00:00.363088\n",
      "episode: 171/200, loss: 0.0084, duration: 0:00:00.381786\n",
      "episode: 181/200, loss: -0.0049, duration: 0:00:00.388999\n",
      "episode: 191/200, loss: 0.0059, duration: 0:00:00.401400\n"
     ]
    },
    {
     "name": "stderr",
     "output_type": "stream",
     "text": [
      "/usr/local/lib/python3.7/site-packages/ipykernel_launcher.py:134: RuntimeWarning: More than 20 figures have been opened. Figures created through the pyplot interface (`matplotlib.pyplot.figure`) are retained until explicitly closed and may consume too much memory. (To control this warning, see the rcParam `figure.max_open_warning`).\n"
     ]
    },
    {
     "name": "stdout",
     "output_type": "stream",
     "text": [
      "#############################################################################\n",
      "##\t[26/35]\tmodel=RL_CNN,\tSEED=0,\ttrade=60,\trisk=100\t##\n",
      "#############################################################################\n",
      "episode: 1/200, loss: 0.2597, duration: 0:00:00.402639\n",
      "episode: 11/200, loss: 0.0514, duration: 0:00:00.377953\n",
      "episode: 21/200, loss: 0.3231, duration: 0:00:00.388713\n",
      "episode: 31/200, loss: 0.2549, duration: 0:00:00.389528\n",
      "episode: 41/200, loss: 0.1397, duration: 0:00:00.374271\n",
      "episode: 51/200, loss: 0.0412, duration: 0:00:00.380748\n",
      "episode: 61/200, loss: 0.0505, duration: 0:00:00.421183\n",
      "episode: 71/200, loss: 0.0647, duration: 0:00:00.367797\n",
      "episode: 81/200, loss: 0.0984, duration: 0:00:00.364823\n",
      "episode: 91/200, loss: 0.0485, duration: 0:00:00.371474\n",
      "episode: 101/200, loss: 0.0264, duration: 0:00:00.394349\n",
      "episode: 111/200, loss: 0.0019, duration: 0:00:00.378477\n",
      "episode: 121/200, loss: 0.0023, duration: 0:00:00.438149\n",
      "episode: 131/200, loss: 0.0103, duration: 0:00:00.381837\n",
      "episode: 141/200, loss: 0.0046, duration: 0:00:00.397307\n",
      "episode: 151/200, loss: 0.0080, duration: 0:00:00.373408\n",
      "episode: 161/200, loss: 0.0090, duration: 0:00:00.367493\n",
      "episode: 171/200, loss: 0.0050, duration: 0:00:00.355933\n",
      "episode: 181/200, loss: -0.0035, duration: 0:00:00.368036\n",
      "episode: 191/200, loss: 0.0037, duration: 0:00:00.375764\n"
     ]
    },
    {
     "name": "stderr",
     "output_type": "stream",
     "text": [
      "/usr/local/lib/python3.7/site-packages/ipykernel_launcher.py:134: RuntimeWarning: More than 20 figures have been opened. Figures created through the pyplot interface (`matplotlib.pyplot.figure`) are retained until explicitly closed and may consume too much memory. (To control this warning, see the rcParam `figure.max_open_warning`).\n"
     ]
    },
    {
     "name": "stdout",
     "output_type": "stream",
     "text": [
      "#############################################################################\n",
      "##\t[27/35]\tmodel=RL_CNN,\tSEED=0,\ttrade=60,\trisk=562\t##\n",
      "#############################################################################\n",
      "episode: 1/200, loss: 1.1550, duration: 0:00:00.396043\n",
      "episode: 11/200, loss: 0.2892, duration: 0:00:00.395377\n",
      "episode: 21/200, loss: 1.2250, duration: 0:00:00.430054\n",
      "episode: 31/200, loss: 1.1681, duration: 0:00:00.364201\n",
      "episode: 41/200, loss: 0.5512, duration: 0:00:00.378880\n",
      "episode: 51/200, loss: 0.2497, duration: 0:00:00.382660\n",
      "episode: 61/200, loss: 0.2301, duration: 0:00:00.384198\n",
      "episode: 71/200, loss: 0.2127, duration: 0:00:00.373280\n",
      "episode: 81/200, loss: 0.2059, duration: 0:00:00.408441\n",
      "episode: 91/200, loss: 0.1416, duration: 0:00:00.394419\n",
      "episode: 101/200, loss: 0.0610, duration: 0:00:00.380368\n",
      "episode: 111/200, loss: 0.0143, duration: 0:00:00.385176\n",
      "episode: 121/200, loss: 0.0132, duration: 0:00:00.449826\n",
      "episode: 131/200, loss: 0.0142, duration: 0:00:00.374607\n",
      "episode: 141/200, loss: 0.0089, duration: 0:00:00.438423\n",
      "episode: 151/200, loss: 0.0155, duration: 0:00:00.377938\n",
      "episode: 161/200, loss: 0.0141, duration: 0:00:00.383262\n",
      "episode: 171/200, loss: 0.0105, duration: 0:00:00.388011\n",
      "episode: 181/200, loss: -0.0015, duration: 0:00:00.380339\n",
      "episode: 191/200, loss: 0.0048, duration: 0:00:00.383359\n"
     ]
    },
    {
     "name": "stderr",
     "output_type": "stream",
     "text": [
      "/usr/local/lib/python3.7/site-packages/ipykernel_launcher.py:134: RuntimeWarning: More than 20 figures have been opened. Figures created through the pyplot interface (`matplotlib.pyplot.figure`) are retained until explicitly closed and may consume too much memory. (To control this warning, see the rcParam `figure.max_open_warning`).\n"
     ]
    },
    {
     "name": "stdout",
     "output_type": "stream",
     "text": [
      "#############################################################################\n",
      "##\t[28/35]\tmodel=RL_CNN,\tSEED=0,\ttrade=60,\trisk=1000\t##\n",
      "#############################################################################\n",
      "episode: 1/200, loss: 2.0038, duration: 0:00:00.417974\n",
      "episode: 11/200, loss: 0.5157, duration: 0:00:00.376731\n",
      "episode: 21/200, loss: 2.0620, duration: 0:00:00.392131\n",
      "episode: 31/200, loss: 2.0234, duration: 0:00:00.378101\n",
      "episode: 41/200, loss: 0.9340, duration: 0:00:00.392556\n",
      "episode: 51/200, loss: 0.4416, duration: 0:00:00.372900\n",
      "episode: 61/200, loss: 0.3974, duration: 0:00:00.388423\n",
      "episode: 71/200, loss: 0.3544, duration: 0:00:00.378021\n",
      "episode: 81/200, loss: 0.3169, duration: 0:00:00.382856\n",
      "episode: 91/200, loss: 0.2311, duration: 0:00:00.372250\n",
      "episode: 101/200, loss: 0.0976, duration: 0:00:00.383865\n",
      "episode: 111/200, loss: 0.0272, duration: 0:00:00.390170\n",
      "episode: 121/200, loss: 0.0241, duration: 0:00:00.453647\n",
      "episode: 131/200, loss: 0.0199, duration: 0:00:00.371854\n",
      "episode: 141/200, loss: 0.0144, duration: 0:00:00.380878\n",
      "episode: 151/200, loss: 0.0241, duration: 0:00:00.375053\n",
      "episode: 161/200, loss: 0.0210, duration: 0:00:00.380047\n",
      "episode: 171/200, loss: 0.0169, duration: 0:00:00.410029\n",
      "episode: 181/200, loss: 0.0000, duration: 0:00:00.392798\n",
      "episode: 191/200, loss: 0.0067, duration: 0:00:00.375313\n"
     ]
    },
    {
     "name": "stderr",
     "output_type": "stream",
     "text": [
      "/usr/local/lib/python3.7/site-packages/ipykernel_launcher.py:134: RuntimeWarning: More than 20 figures have been opened. Figures created through the pyplot interface (`matplotlib.pyplot.figure`) are retained until explicitly closed and may consume too much memory. (To control this warning, see the rcParam `figure.max_open_warning`).\n"
     ]
    },
    {
     "name": "stdout",
     "output_type": "stream",
     "text": [
      "#############################################################################\n",
      "##\t[29/35]\tmodel=RL_CNN,\tSEED=0,\ttrade=100,\trisk=0.1\t##\n",
      "#############################################################################\n",
      "episode: 1/200, loss: 0.1069, duration: 0:00:00.421020\n",
      "episode: 11/200, loss: 0.0071, duration: 0:00:00.371372\n",
      "episode: 21/200, loss: 0.1651, duration: 0:00:00.382460\n",
      "episode: 31/200, loss: 0.0167, duration: 0:00:00.372009\n",
      "episode: 41/200, loss: 0.0327, duration: 0:00:00.375055\n",
      "episode: 51/200, loss: -0.0352, duration: 0:00:00.392170\n",
      "episode: 61/200, loss: 0.0035, duration: 0:00:00.379418\n",
      "episode: 71/200, loss: 0.0192, duration: 0:00:00.374721\n",
      "episode: 81/200, loss: 0.0975, duration: 0:00:00.375121\n",
      "episode: 91/200, loss: -0.0087, duration: 0:00:00.391621\n",
      "episode: 101/200, loss: -0.0186, duration: 0:00:00.383008\n",
      "episode: 111/200, loss: -0.0435, duration: 0:00:00.378524\n",
      "episode: 121/200, loss: -0.0490, duration: 0:00:00.464102\n",
      "episode: 131/200, loss: 0.0127, duration: 0:00:00.378959\n",
      "episode: 141/200, loss: 0.0107, duration: 0:00:00.392561\n",
      "episode: 151/200, loss: 0.0226, duration: 0:00:00.390477\n",
      "episode: 161/200, loss: 0.1109, duration: 0:00:00.397073\n",
      "episode: 171/200, loss: 0.0478, duration: 0:00:00.385111\n",
      "episode: 181/200, loss: -0.0630, duration: 0:00:00.392444\n",
      "episode: 191/200, loss: 0.0612, duration: 0:00:00.395067\n"
     ]
    },
    {
     "name": "stderr",
     "output_type": "stream",
     "text": [
      "/usr/local/lib/python3.7/site-packages/ipykernel_launcher.py:134: RuntimeWarning: More than 20 figures have been opened. Figures created through the pyplot interface (`matplotlib.pyplot.figure`) are retained until explicitly closed and may consume too much memory. (To control this warning, see the rcParam `figure.max_open_warning`).\n"
     ]
    },
    {
     "name": "stdout",
     "output_type": "stream",
     "text": [
      "#############################################################################\n",
      "##\t[30/35]\tmodel=RL_CNN,\tSEED=0,\ttrade=100,\trisk=1\t##\n",
      "#############################################################################\n",
      "episode: 1/200, loss: 0.1087, duration: 0:00:00.423331\n",
      "episode: 11/200, loss: 0.0074, duration: 0:00:00.389164\n",
      "episode: 21/200, loss: 0.1675, duration: 0:00:00.386824\n",
      "episode: 31/200, loss: 0.0215, duration: 0:00:00.387144\n",
      "episode: 41/200, loss: 0.0338, duration: 0:00:00.387583\n",
      "episode: 51/200, loss: -0.0331, duration: 0:00:00.368912\n",
      "episode: 61/200, loss: 0.0061, duration: 0:00:00.415789\n",
      "episode: 71/200, loss: 0.0204, duration: 0:00:00.385911\n",
      "episode: 81/200, loss: 0.1058, duration: 0:00:00.405722\n",
      "episode: 91/200, loss: -0.0009, duration: 0:00:00.374603\n",
      "episode: 101/200, loss: -0.0152, duration: 0:00:00.377569\n",
      "episode: 111/200, loss: -0.0415, duration: 0:00:00.376477\n",
      "episode: 121/200, loss: -0.0432, duration: 0:00:00.456843\n",
      "episode: 131/200, loss: 0.0129, duration: 0:00:00.380252\n",
      "episode: 141/200, loss: 0.0105, duration: 0:00:00.389553\n",
      "episode: 151/200, loss: 0.0216, duration: 0:00:00.376215\n",
      "episode: 161/200, loss: 0.1078, duration: 0:00:00.400899\n",
      "episode: 171/200, loss: 0.0481, duration: 0:00:00.366834\n",
      "episode: 181/200, loss: -0.0571, duration: 0:00:00.375612\n",
      "episode: 191/200, loss: 0.0561, duration: 0:00:00.371422\n"
     ]
    },
    {
     "name": "stderr",
     "output_type": "stream",
     "text": [
      "/usr/local/lib/python3.7/site-packages/ipykernel_launcher.py:134: RuntimeWarning: More than 20 figures have been opened. Figures created through the pyplot interface (`matplotlib.pyplot.figure`) are retained until explicitly closed and may consume too much memory. (To control this warning, see the rcParam `figure.max_open_warning`).\n"
     ]
    },
    {
     "name": "stdout",
     "output_type": "stream",
     "text": [
      "#############################################################################\n",
      "##\t[31/35]\tmodel=RL_CNN,\tSEED=0,\ttrade=100,\trisk=18\t##\n",
      "#############################################################################\n",
      "episode: 1/200, loss: 0.1416, duration: 0:00:00.430531\n",
      "episode: 11/200, loss: 0.0176, duration: 0:00:00.408731\n",
      "episode: 21/200, loss: 0.2170, duration: 0:00:00.427262\n",
      "episode: 31/200, loss: 0.0797, duration: 0:00:00.368812\n",
      "episode: 41/200, loss: 0.0674, duration: 0:00:00.373957\n",
      "episode: 51/200, loss: -0.0014, duration: 0:00:00.366456\n",
      "episode: 61/200, loss: 0.0234, duration: 0:00:00.391780\n",
      "episode: 71/200, loss: 0.0524, duration: 0:00:00.379837\n",
      "episode: 81/200, loss: 0.1800, duration: 0:00:00.374315\n",
      "episode: 91/200, loss: 0.0345, duration: 0:00:00.382365\n",
      "episode: 101/200, loss: 0.0306, duration: 0:00:00.366764\n",
      "episode: 111/200, loss: -0.0018, duration: 0:00:00.361581\n",
      "episode: 121/200, loss: -0.0023, duration: 0:00:00.464490\n",
      "episode: 131/200, loss: 0.0338, duration: 0:00:00.375218\n",
      "episode: 141/200, loss: 0.0499, duration: 0:00:00.399997\n",
      "episode: 151/200, loss: 0.0455, duration: 0:00:00.410679\n",
      "episode: 161/200, loss: 0.1721, duration: 0:00:00.364848\n",
      "episode: 171/200, loss: 0.1000, duration: 0:00:00.362701\n",
      "episode: 181/200, loss: -0.0248, duration: 0:00:00.372924\n",
      "episode: 191/200, loss: 0.0555, duration: 0:00:00.373646\n"
     ]
    },
    {
     "name": "stderr",
     "output_type": "stream",
     "text": [
      "/usr/local/lib/python3.7/site-packages/ipykernel_launcher.py:134: RuntimeWarning: More than 20 figures have been opened. Figures created through the pyplot interface (`matplotlib.pyplot.figure`) are retained until explicitly closed and may consume too much memory. (To control this warning, see the rcParam `figure.max_open_warning`).\n"
     ]
    },
    {
     "name": "stdout",
     "output_type": "stream",
     "text": [
      "#############################################################################\n",
      "##\t[32/35]\tmodel=RL_CNN,\tSEED=0,\ttrade=100,\trisk=56\t##\n",
      "#############################################################################\n",
      "episode: 1/200, loss: 0.2153, duration: 0:00:00.388441\n",
      "episode: 11/200, loss: 0.0435, duration: 0:00:00.394575\n",
      "episode: 21/200, loss: 0.2975, duration: 0:00:00.381644\n",
      "episode: 31/200, loss: 0.1820, duration: 0:00:00.387454\n",
      "episode: 41/200, loss: 0.1143, duration: 0:00:00.382891\n",
      "episode: 51/200, loss: 0.0329, duration: 0:00:00.379903\n",
      "episode: 61/200, loss: 0.0514, duration: 0:00:00.410632\n",
      "episode: 71/200, loss: 0.0875, duration: 0:00:00.381156\n",
      "episode: 81/200, loss: 0.2185, duration: 0:00:00.387519\n",
      "episode: 91/200, loss: 0.0682, duration: 0:00:00.385167\n",
      "episode: 101/200, loss: 0.0523, duration: 0:00:00.376931\n",
      "episode: 111/200, loss: 0.0148, duration: 0:00:00.389730\n",
      "episode: 121/200, loss: 0.0174, duration: 0:00:00.423187\n",
      "episode: 131/200, loss: 0.0402, duration: 0:00:00.364892\n",
      "episode: 141/200, loss: 0.0207, duration: 0:00:00.398225\n",
      "episode: 151/200, loss: 0.0229, duration: 0:00:00.386713\n",
      "episode: 161/200, loss: 0.0245, duration: 0:00:00.432894\n",
      "episode: 171/200, loss: 0.0143, duration: 0:00:00.365919\n",
      "episode: 181/200, loss: -0.0030, duration: 0:00:00.362809\n",
      "episode: 191/200, loss: 0.0066, duration: 0:00:00.363479\n"
     ]
    },
    {
     "name": "stderr",
     "output_type": "stream",
     "text": [
      "/usr/local/lib/python3.7/site-packages/ipykernel_launcher.py:134: RuntimeWarning: More than 20 figures have been opened. Figures created through the pyplot interface (`matplotlib.pyplot.figure`) are retained until explicitly closed and may consume too much memory. (To control this warning, see the rcParam `figure.max_open_warning`).\n"
     ]
    },
    {
     "name": "stdout",
     "output_type": "stream",
     "text": [
      "#############################################################################\n",
      "##\t[33/35]\tmodel=RL_CNN,\tSEED=0,\ttrade=100,\trisk=100\t##\n",
      "#############################################################################\n",
      "episode: 1/200, loss: 0.3005, duration: 0:00:00.396775\n",
      "episode: 11/200, loss: 0.0664, duration: 0:00:00.440344\n",
      "episode: 21/200, loss: 0.3881, duration: 0:00:00.363149\n",
      "episode: 31/200, loss: 0.2963, duration: 0:00:00.352529\n",
      "episode: 41/200, loss: 0.1640, duration: 0:00:00.368456\n",
      "episode: 51/200, loss: 0.0650, duration: 0:00:00.385896\n",
      "episode: 61/200, loss: 0.0765, duration: 0:00:00.383543\n",
      "episode: 71/200, loss: 0.1101, duration: 0:00:00.360525\n",
      "episode: 81/200, loss: 0.2238, duration: 0:00:00.388149\n",
      "episode: 91/200, loss: 0.0889, duration: 0:00:00.403134\n",
      "episode: 101/200, loss: 0.0569, duration: 0:00:00.365004\n",
      "episode: 111/200, loss: 0.0136, duration: 0:00:00.385541\n",
      "episode: 121/200, loss: 0.0132, duration: 0:00:00.402025\n",
      "episode: 131/200, loss: 0.0197, duration: 0:00:00.371550\n",
      "episode: 141/200, loss: 0.0098, duration: 0:00:00.428107\n",
      "episode: 151/200, loss: 0.0124, duration: 0:00:00.349699\n",
      "episode: 161/200, loss: 0.0140, duration: 0:00:00.358465\n",
      "episode: 171/200, loss: 0.0091, duration: 0:00:00.371773\n",
      "episode: 181/200, loss: -0.0027, duration: 0:00:00.356858\n",
      "episode: 191/200, loss: 0.0056, duration: 0:00:00.360492\n"
     ]
    },
    {
     "name": "stderr",
     "output_type": "stream",
     "text": [
      "/usr/local/lib/python3.7/site-packages/ipykernel_launcher.py:134: RuntimeWarning: More than 20 figures have been opened. Figures created through the pyplot interface (`matplotlib.pyplot.figure`) are retained until explicitly closed and may consume too much memory. (To control this warning, see the rcParam `figure.max_open_warning`).\n"
     ]
    },
    {
     "name": "stdout",
     "output_type": "stream",
     "text": [
      "#############################################################################\n",
      "##\t[34/35]\tmodel=RL_CNN,\tSEED=0,\ttrade=100,\trisk=562\t##\n",
      "#############################################################################\n",
      "episode: 1/200, loss: 1.1958, duration: 0:00:00.401885\n",
      "episode: 11/200, loss: 0.3062, duration: 0:00:00.352258\n",
      "episode: 21/200, loss: 1.2981, duration: 0:00:00.358271\n",
      "episode: 31/200, loss: 1.2307, duration: 0:00:00.363999\n",
      "episode: 41/200, loss: 0.5801, duration: 0:00:00.375820\n",
      "episode: 51/200, loss: 0.2779, duration: 0:00:00.419386\n",
      "episode: 61/200, loss: 0.2500, duration: 0:00:00.359341\n",
      "episode: 71/200, loss: 0.2385, duration: 0:00:00.328380\n",
      "episode: 81/200, loss: 0.2449, duration: 0:00:00.364701\n",
      "episode: 91/200, loss: 0.1602, duration: 0:00:00.375784\n",
      "episode: 101/200, loss: 0.0715, duration: 0:00:00.378316\n",
      "episode: 111/200, loss: 0.0191, duration: 0:00:00.363361\n",
      "episode: 121/200, loss: 0.0174, duration: 0:00:00.464762\n",
      "episode: 131/200, loss: 0.0180, duration: 0:00:00.386116\n",
      "episode: 141/200, loss: 0.0111, duration: 0:00:00.398496\n",
      "episode: 151/200, loss: 0.0170, duration: 0:00:00.349285\n",
      "episode: 161/200, loss: 0.0163, duration: 0:00:00.364776\n",
      "episode: 171/200, loss: 0.0126, duration: 0:00:00.390365\n",
      "episode: 181/200, loss: -0.0004, duration: 0:00:00.334868\n",
      "episode: 191/200, loss: 0.0060, duration: 0:00:00.391040\n"
     ]
    },
    {
     "name": "stderr",
     "output_type": "stream",
     "text": [
      "/usr/local/lib/python3.7/site-packages/ipykernel_launcher.py:134: RuntimeWarning: More than 20 figures have been opened. Figures created through the pyplot interface (`matplotlib.pyplot.figure`) are retained until explicitly closed and may consume too much memory. (To control this warning, see the rcParam `figure.max_open_warning`).\n"
     ]
    },
    {
     "name": "stdout",
     "output_type": "stream",
     "text": [
      "#############################################################################\n",
      "##\t[35/35]\tmodel=RL_CNN,\tSEED=0,\ttrade=100,\trisk=1000\t##\n",
      "#############################################################################\n",
      "episode: 1/200, loss: 2.0446, duration: 0:00:00.391681\n",
      "episode: 11/200, loss: 0.5324, duration: 0:00:00.358305\n",
      "episode: 21/200, loss: 2.1442, duration: 0:00:00.364381\n",
      "episode: 31/200, loss: 2.0973, duration: 0:00:00.370812\n",
      "episode: 41/200, loss: 0.9695, duration: 0:00:00.352581\n",
      "episode: 51/200, loss: 0.4704, duration: 0:00:00.363391\n",
      "episode: 61/200, loss: 0.4181, duration: 0:00:00.401140\n",
      "episode: 71/200, loss: 0.3737, duration: 0:00:00.375626\n",
      "episode: 81/200, loss: 0.3509, duration: 0:00:00.355697\n",
      "episode: 91/200, loss: 0.2475, duration: 0:00:00.367790\n",
      "episode: 101/200, loss: 0.1066, duration: 0:00:00.367212\n",
      "episode: 111/200, loss: 0.0311, duration: 0:00:00.387905\n",
      "episode: 121/200, loss: 0.0279, duration: 0:00:00.440155\n",
      "episode: 131/200, loss: 0.0232, duration: 0:00:00.392079\n",
      "episode: 141/200, loss: 0.0161, duration: 0:00:00.398070\n",
      "episode: 151/200, loss: 0.0251, duration: 0:00:00.367431\n",
      "episode: 161/200, loss: 0.0223, duration: 0:00:00.366212\n",
      "episode: 171/200, loss: 0.0183, duration: 0:00:00.380861\n",
      "episode: 181/200, loss: 0.0011, duration: 0:00:00.385847\n",
      "episode: 191/200, loss: 0.0077, duration: 0:00:00.371543\n"
     ]
    },
    {
     "name": "stderr",
     "output_type": "stream",
     "text": [
      "/usr/local/lib/python3.7/site-packages/ipykernel_launcher.py:134: RuntimeWarning: More than 20 figures have been opened. Figures created through the pyplot interface (`matplotlib.pyplot.figure`) are retained until explicitly closed and may consume too much memory. (To control this warning, see the rcParam `figure.max_open_warning`).\n"
     ]
    },
    {
     "name": "stdout",
     "output_type": "stream",
     "text": [
      "CPU times: user 45min 21s, sys: 8.53 s, total: 45min 30s\n",
      "Wall time: 45min 15s\n"
     ]
    },
    {
     "data": {
      "text/plain": [
       "<Figure size 1008x360 with 0 Axes>"
      ]
     },
     "metadata": {},
     "output_type": "display_data"
    },
    {
     "data": {
      "text/plain": [
       "<Figure size 1008x360 with 0 Axes>"
      ]
     },
     "metadata": {},
     "output_type": "display_data"
    },
    {
     "data": {
      "text/plain": [
       "<Figure size 1008x360 with 0 Axes>"
      ]
     },
     "metadata": {},
     "output_type": "display_data"
    },
    {
     "data": {
      "text/plain": [
       "<Figure size 1008x360 with 0 Axes>"
      ]
     },
     "metadata": {},
     "output_type": "display_data"
    },
    {
     "data": {
      "text/plain": [
       "<Figure size 1008x360 with 0 Axes>"
      ]
     },
     "metadata": {},
     "output_type": "display_data"
    },
    {
     "data": {
      "text/plain": [
       "<Figure size 1008x360 with 0 Axes>"
      ]
     },
     "metadata": {},
     "output_type": "display_data"
    },
    {
     "data": {
      "text/plain": [
       "<Figure size 1008x360 with 0 Axes>"
      ]
     },
     "metadata": {},
     "output_type": "display_data"
    },
    {
     "data": {
      "text/plain": [
       "<Figure size 1008x360 with 0 Axes>"
      ]
     },
     "metadata": {},
     "output_type": "display_data"
    },
    {
     "data": {
      "text/plain": [
       "<Figure size 1008x360 with 0 Axes>"
      ]
     },
     "metadata": {},
     "output_type": "display_data"
    },
    {
     "data": {
      "text/plain": [
       "<Figure size 1008x360 with 0 Axes>"
      ]
     },
     "metadata": {},
     "output_type": "display_data"
    },
    {
     "data": {
      "text/plain": [
       "<Figure size 1008x360 with 0 Axes>"
      ]
     },
     "metadata": {},
     "output_type": "display_data"
    },
    {
     "data": {
      "text/plain": [
       "<Figure size 1008x360 with 0 Axes>"
      ]
     },
     "metadata": {},
     "output_type": "display_data"
    },
    {
     "data": {
      "text/plain": [
       "<Figure size 1008x360 with 0 Axes>"
      ]
     },
     "metadata": {},
     "output_type": "display_data"
    },
    {
     "data": {
      "text/plain": [
       "<Figure size 1008x360 with 0 Axes>"
      ]
     },
     "metadata": {},
     "output_type": "display_data"
    },
    {
     "data": {
      "text/plain": [
       "<Figure size 1008x360 with 0 Axes>"
      ]
     },
     "metadata": {},
     "output_type": "display_data"
    },
    {
     "data": {
      "text/plain": [
       "<Figure size 1008x360 with 0 Axes>"
      ]
     },
     "metadata": {},
     "output_type": "display_data"
    },
    {
     "data": {
      "text/plain": [
       "<Figure size 1008x360 with 0 Axes>"
      ]
     },
     "metadata": {},
     "output_type": "display_data"
    },
    {
     "data": {
      "text/plain": [
       "<Figure size 1008x360 with 0 Axes>"
      ]
     },
     "metadata": {},
     "output_type": "display_data"
    },
    {
     "data": {
      "text/plain": [
       "<Figure size 1008x360 with 0 Axes>"
      ]
     },
     "metadata": {},
     "output_type": "display_data"
    },
    {
     "data": {
      "text/plain": [
       "<Figure size 1008x360 with 0 Axes>"
      ]
     },
     "metadata": {},
     "output_type": "display_data"
    },
    {
     "data": {
      "text/plain": [
       "<Figure size 1008x360 with 0 Axes>"
      ]
     },
     "metadata": {},
     "output_type": "display_data"
    },
    {
     "data": {
      "text/plain": [
       "<Figure size 1008x360 with 0 Axes>"
      ]
     },
     "metadata": {},
     "output_type": "display_data"
    },
    {
     "data": {
      "text/plain": [
       "<Figure size 1008x360 with 0 Axes>"
      ]
     },
     "metadata": {},
     "output_type": "display_data"
    },
    {
     "data": {
      "text/plain": [
       "<Figure size 1008x360 with 0 Axes>"
      ]
     },
     "metadata": {},
     "output_type": "display_data"
    },
    {
     "data": {
      "text/plain": [
       "<Figure size 1008x360 with 0 Axes>"
      ]
     },
     "metadata": {},
     "output_type": "display_data"
    },
    {
     "data": {
      "text/plain": [
       "<Figure size 1008x360 with 0 Axes>"
      ]
     },
     "metadata": {},
     "output_type": "display_data"
    },
    {
     "data": {
      "text/plain": [
       "<Figure size 1008x360 with 0 Axes>"
      ]
     },
     "metadata": {},
     "output_type": "display_data"
    },
    {
     "data": {
      "text/plain": [
       "<Figure size 1008x360 with 0 Axes>"
      ]
     },
     "metadata": {},
     "output_type": "display_data"
    },
    {
     "data": {
      "text/plain": [
       "<Figure size 1008x360 with 0 Axes>"
      ]
     },
     "metadata": {},
     "output_type": "display_data"
    },
    {
     "data": {
      "text/plain": [
       "<Figure size 1008x360 with 0 Axes>"
      ]
     },
     "metadata": {},
     "output_type": "display_data"
    },
    {
     "data": {
      "text/plain": [
       "<Figure size 1008x360 with 0 Axes>"
      ]
     },
     "metadata": {},
     "output_type": "display_data"
    },
    {
     "data": {
      "text/plain": [
       "<Figure size 1008x360 with 0 Axes>"
      ]
     },
     "metadata": {},
     "output_type": "display_data"
    },
    {
     "data": {
      "text/plain": [
       "<Figure size 1008x360 with 0 Axes>"
      ]
     },
     "metadata": {},
     "output_type": "display_data"
    },
    {
     "data": {
      "text/plain": [
       "<Figure size 1008x360 with 0 Axes>"
      ]
     },
     "metadata": {},
     "output_type": "display_data"
    },
    {
     "data": {
      "text/plain": [
       "<Figure size 1008x360 with 0 Axes>"
      ]
     },
     "metadata": {},
     "output_type": "display_data"
    }
   ],
   "source": [
    "%%time\n",
    "##########################\n",
    "### main training loop ###\n",
    "##########################\n",
    "\n",
    "# define investor preferences to train for\n",
    "#------ extended-boyd-sweep ------#\n",
    "#GAMMA_TRADES = [5.5, 6, 6.5, 7, 7.5, 8, 9, 10, 11, 12, 15, 20, 30]\n",
    "#GAMMA_TRADES = [4, 5]\n",
    "#GAMMA_TRADES = [0.1, 0.5, 1, 2, 3, 45, 60, 100, 200]\n",
    "#GAMMA_RISKS = [0.1, 0.178, 0.316, 0.562, 1, 2, 3, 6, 10, 18, 32, 56, 100, 178, 316, 562, 1000, 2000, 5000, 10000, 20000]\n",
    "#---------------------------------#\n",
    "counter = 0\n",
    "\n",
    "for RANDOM_SEED in SEED_LIST:\n",
    "    model_name = f'{MODEL_BASE_NAME}_seed_{RANDOM_SEED}'\n",
    "    maybe_make_dir(f'experiments/{MARKET_NAME}/seeded/{MODEL_BASE_NAME}/seed_{RANDOM_SEED}')\n",
    "    \n",
    "    for (GAMMA_TRADE, GAMMA_RISK) in GAMMA_PAIRS:\n",
    "        # set random generator seed for tf and np\n",
    "        # this is probably unnecessary because it is done when env is initialised but just incase\n",
    "        tf.random.set_seed(RANDOM_SEED)\n",
    "        np.random.seed(RANDOM_SEED)\n",
    "        counter += 1\n",
    "\n",
    "        # check if test lready done. skip if so\n",
    "        #if not FROM_PRETRAINED:\n",
    "            #skip = os.path.exists(f'experiments/12_assets/00_seeded/seed_{RANDOM_SEED}/trade_{GAMMA_TRADE}_risk_{GAMMA_RISK}') # check if already exists\n",
    "        #else:\n",
    "        \n",
    "        skip = os.path.exists(f'experiments/{MARKET_NAME}/seeded/{MODEL_BASE_NAME}/seed_{RANDOM_SEED}/trade_{GAMMA_TRADE}_risk_{GAMMA_RISK}')\n",
    "\n",
    "        if not skip: # if not exists, do test\n",
    "\n",
    "            print('#############################################################################')\n",
    "            print(f'##\\t[{counter}/{len(GAMMA_PAIRS)}]\\tmodel={MODEL_BASE_NAME},\\tSEED={RANDOM_SEED},\\ttrade={GAMMA_TRADE},\\trisk={GAMMA_RISK}\\t##')\n",
    "            print('#############################################################################')        \n",
    "\n",
    "            # create agent and environment\n",
    "            env = MultiStockEnv(tickers=TICKERS, \n",
    "                                from_date=FROM,\n",
    "                                until=UNTIL, \n",
    "                                #nb_episodes=100,\n",
    "                                cash_key='USDOLLAR', \n",
    "                                gamma_risk=GAMMA_RISK, \n",
    "                                gamma_trade=GAMMA_TRADE,\n",
    "                                half_spread=HALF_SPREAD, \n",
    "                                nonlin_coef=NONLIN_COEFF, \n",
    "                                power=POWER, \n",
    "                                datadir=DATA_DIR, \n",
    "                                state_lookback_window=20, \n",
    "                                distribution=EPISODE_DRAW_DISTRIBUTION,\n",
    "                                days_duration=DAYS_IN_EPISODE, \n",
    "                                mode='train', \n",
    "                                random_seed=RANDOM_SEED,\n",
    "                                init_portfolio=INIT_PORTFOLIO, \n",
    "                                period_in_file_name=FILE_PERIOD, \n",
    "                                nb_forecasts=NB_FORECASTS, \n",
    "                                forecast_type=FORECAST_TYPE,\n",
    "                                use_CNN_state=USE_CNN_STATE,\n",
    "                                verbose=False)\n",
    "\n",
    "            agent = Agent(alpha=0.001, \n",
    "                          gamma=0.99, \n",
    "                          n_assets=len(TICKERS)+1, \n",
    "                          tau=5, \n",
    "                          lookback_window=20, \n",
    "                          n_feature_maps=len(TICKERS)+1,\n",
    "                          use_forecasts=USE_FORECASTS,\n",
    "                          use_CNN_state=USE_CNN_STATE)\n",
    "\n",
    "            # initialise policy by one forward pass then load pretrained weights\n",
    "            #if FROM_PRETRAINED: \n",
    "                #agent.choose_action(env._get_obs())\n",
    "                #agent.load(pretrined_weights_dir)\n",
    "\n",
    "            # configure folders\n",
    "            experiments_folder = f'experiments/{MARKET_NAME}'\n",
    "            from_seeded_folder = f'{experiments_folder}/seeded'\n",
    "            base_model_folder = f'{from_seeded_folder}/{MODEL_BASE_NAME}'\n",
    "            seed_folder = f'{base_model_folder}/seed_{RANDOM_SEED}'\n",
    "            #if FROM_PRETRAINED:\n",
    "            #    pretrained_folder = f'{nb_assets_folder}/0_further_trained'\n",
    "            #    preference_folder = f'{pretrained_folder}/trade_{GAMMA_TRADE}_risk_{GAMMA_RISK}'\n",
    "            #else:\n",
    "            preference_folder = f'{seed_folder}/trade_{GAMMA_TRADE}_risk_{GAMMA_RISK}'\n",
    "            models_folder = f'{preference_folder}/models' # where saved models will be saved\n",
    "            losses_folder = f'{preference_folder}/losses' # where losses will be saved for plotting training progress\n",
    "            fig_folder = f'{preference_folder}/figures'\n",
    "\n",
    "            # create dirictories for saving outputs to (if they don't exist already)\n",
    "            #maybe_make_dir(nb_assets_folder)\n",
    "            maybe_make_dir(seed_folder)\n",
    "            maybe_make_dir(preference_folder)\n",
    "            maybe_make_dir(models_folder)\n",
    "            maybe_make_dir(losses_folder)\n",
    "            maybe_make_dir(fig_folder)\n",
    "\n",
    "            if MODE == 'train':\n",
    "                # play the game num_episodes times and update weights according to loss\n",
    "                losses = []\n",
    "                for e in range(NB_EPISODES):\n",
    "\n",
    "                    # save model weights every few episodes\n",
    "                    if (e%SAVE_EVERY == 0) and (e!=0):\n",
    "                        agent.save(f'{models_folder}/{model_name}_{e}')\n",
    "                        # save losses of training period\n",
    "                        np.save(f'{losses_folder}/{model_name}_{MODE}_{e}_losses.npy', np.array(losses))\n",
    "\n",
    "                    t0 = datetime.datetime.now()\n",
    "                    try:\n",
    "                        loss = play_one_episode(agent, env, MODE)\n",
    "                    except Exception as err:\n",
    "                        print(f'\\t*** error in episode {e}:', err)\n",
    "                        loss = np.nan#5.0 # just an arbitraty number that seems high compared to usual losses\n",
    "                    dt = datetime.datetime.now() - t0\n",
    "                    losses.append(loss) # append episode loss\n",
    "                    # print progress\n",
    "                    if (e%10 == 0):\n",
    "                        print(f\"episode: {e + 1}/{NB_EPISODES}, loss: {loss:.4f}, duration: {dt}\")\n",
    "\n",
    "\n",
    "                # save the weights and losses when done\t\n",
    "                agent.save(f'{models_folder}/{model_name}_{NB_EPISODES}')\n",
    "                np.save(f'{losses_folder}/{model_name}_{MODE}_{NB_EPISODES}_losses.npy', np.array(losses))\n",
    "\n",
    "            # plot losses\n",
    "            save_fig = True\n",
    "\n",
    "            # load losses file\n",
    "            file = f'{losses_folder}/{model_name}_{MODE}_{NB_EPISODES}_losses.npy'\n",
    "            loaded_losses = np.load(file)\n",
    "\n",
    "            # plot losses\n",
    "            plt.figure(figsize=(14,5))\n",
    "            plt.plot(loaded_losses)\n",
    "            plt.title(f'{model_name} Training Loss')\n",
    "            plt.xlabel('Episode Number')\n",
    "            plt.ylabel(r'Loss: $-G \\approx -\\mathbb{E}\\left[ \\sum_{k=0}^{T} \\gamma^k R_t \\right]$')\n",
    "            #plt.yscale('symlog')\n",
    "            if save_fig:\n",
    "                plt.savefig(f'{fig_folder}/{model_name}_losses.png', dpi=150, facecolor=None, edgecolor=None, bbox_inches='tight')\n",
    "            plt.clf()\n",
    "\n",
    "        else:\n",
    "            print(f'\\talready exists: trade_{GAMMA_TRADE}_risk_{GAMMA_RISK}')\n",
    "            print('\\tskip to next.')"
   ]
  },
  {
   "cell_type": "code",
   "execution_count": 6,
   "metadata": {},
   "outputs": [],
   "source": [
    "# double check the end of training\n",
    "#env.until"
   ]
  },
  {
   "cell_type": "code",
   "execution_count": 7,
   "metadata": {},
   "outputs": [
    {
     "name": "stdout",
     "output_type": "stream",
     "text": [
      "training done.\n"
     ]
    }
   ],
   "source": [
    "print('training done.')"
   ]
  },
  {
   "cell_type": "code",
   "execution_count": 8,
   "metadata": {},
   "outputs": [],
   "source": [
    "### Now repeat this for the different RL models.\n",
    "### remember to update the gamma-pairs, model base name, and model specs/setup in beginning of notebook!"
   ]
  }
 ],
 "metadata": {
  "kernelspec": {
   "display_name": "Python 3",
   "language": "python",
   "name": "python3"
  },
  "language_info": {
   "codemirror_mode": {
    "name": "ipython",
    "version": 3
   },
   "file_extension": ".py",
   "mimetype": "text/x-python",
   "name": "python",
   "nbconvert_exporter": "python",
   "pygments_lexer": "ipython3",
   "version": "3.7.6"
  }
 },
 "nbformat": 4,
 "nbformat_minor": 4
}
