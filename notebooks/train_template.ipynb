{
 "cells": [
  {
   "cell_type": "code",
   "execution_count": 1,
   "metadata": {},
   "outputs": [
    {
     "name": "stdout",
     "output_type": "stream",
     "text": [
      "CPU times: user 1.08 s, sys: 107 ms, total: 1.19 s\n",
      "Wall time: 1.47 s\n"
     ]
    }
   ],
   "source": [
    "%%time\n",
    "import numpy as np\n",
    "import pandas as pd\n",
    "import matplotlib.pyplot as plt\n",
    "import datetime\n",
    "import os\n",
    "from src.models.frontier import MultiStockEnv, Agent, play_one_episode, maybe_make_dir\n",
    "from src.config import market_tickers\n",
    "from src.config.model_config import model_parameters\n",
    "import tensorflow as tf"
   ]
  },
  {
   "cell_type": "code",
   "execution_count": 2,
   "metadata": {},
   "outputs": [
    {
     "name": "stdout",
     "output_type": "stream",
     "text": [
      "number of pairs:  35\n"
     ]
    }
   ],
   "source": [
    "#------ small test-sweep ------#\n",
    "GAMMA_TRADES = [0.1, 1, 10, 60, 100]\n",
    "GAMMA_RISKS = [0.1, 1, 18, 56, 100, 562, 1000]\n",
    "#------ extended-boyd-sweep ------#\n",
    "# GAMMA_TRADES =  [0.1, 0.5, 1, 2, 3, 4, 5, 5.5, 6, 6.5, 7, 7.5, 8, 9, 10, 11, 12, 15, 20, 30, 45, 60, 100, 200]\n",
    "# GAMMA_RISKS = [0.1, 0.178, 0.316, 0.562, 1, 2, 3, 6, 10, 18, 32, 56, 100, 178, 316, 562, 1000, 2000, 5000, 10000, 20000]\n",
    "#---------------------------------#\n",
    "\n",
    "GAMMA_HOLD = 0.1 # TODO add as list and update rest of notebook to accommodate it\n",
    "\n",
    "GAMMA_PAIRS = []\n",
    "for tr in GAMMA_TRADES:\n",
    "    for ri in GAMMA_RISKS:\n",
    "        GAMMA_PAIRS.append((tr, ri))\n",
    "        \n",
    "#format: (gamma_trade, gamma_risk)\n",
    "print('number of pairs: ', len(GAMMA_PAIRS))\n",
    "#GAMMA_PAIRS"
   ]
  },
  {
   "cell_type": "code",
   "execution_count": 3,
   "metadata": {
    "tags": [
     "parameters"
    ]
   },
   "outputs": [],
   "source": [
    "# papermill parameters\n",
    "SEED_LIST = [\n",
    "             0,\n",
    "             #1111,\n",
    "             #2222, \n",
    "             #3333, \n",
    "             #4444, \n",
    "             #5555,\n",
    "             #6666,\n",
    "             #7777,\n",
    "             #8888,\n",
    "             #9999\n",
    "            ]\n",
    "\n",
    "#TICKERS = market_tickers.DOW_30_TICKER\n",
    "TICKERS = ['AAPL', 'AMD', 'CSCO', 'F', 'INTC']\n",
    "MARKET_NAME = 'TEST_5'\n",
    "MODEL_BASE_NAME = 'RL_CNN' # use either | 'RL_CNN' | 'RL_str_fcast' | 'RL_all_inp' |\n",
    "FROM = '2017-01-03' # start of training set\n",
    "UNTIL = '2019-01-01' # end of training set\n",
    "NB_EPISODES = 200 # number of episodes to train for\n",
    "SAVE_EVERY = 200 # (used 100 when not from tretrained) save model weights every time this amount of episodes pass"
   ]
  },
  {
   "cell_type": "code",
   "execution_count": 4,
   "metadata": {},
   "outputs": [],
   "source": [
    "# other constants and parameters\n",
    "TICKERS.sort()\n",
    "FILE_PERIOD = '1d' # weekly='5d', daily='1d'\n",
    "DAYS_IN_EPISODE = 30 # 365 for one-year long episodes (conditions checked at end of episode)\n",
    "EPISODE_DRAW_DISTRIBUTION = 'uniform' # 'uniform' or 'geometric'. select starting point of eposide according to this distribution when generated\n",
    "HALF_SPREAD = 0.0005/2.0 # 'a' in transaction cost function\n",
    "NONLIN_COEFF = 1.0 # 'b' transaction cost function\n",
    "POWER = 1.5 # power for change in poertfolio vector used in transaction cost\n",
    "#GAMMA_RISK, GAMMA_TRADE, GAMMA_HOLD = 18, 6.5, 0.0 # relative importance of risk, trading cost, and holding cost\n",
    "INIT_PORTFOLIO = 100000000.0 # initial portfolio value\n",
    "#model_name = f'REINFORCE_CNN' #_seeded_{UNTIL} # give model a name to distinguish saved files\n",
    "#NB_EPISODES = 300 #2000\n",
    "MODE = 'train' # train or test mode\n",
    "#FROM_PRETRAINED = False\n",
    "DATA_DIR = f'../data/{MARKET_NAME}/preprocessed_data/'\n",
    "\n",
    "# Tune and double-check these before every test:\n",
    "USE_FORECASTS = model_parameters[MODEL_BASE_NAME]['use_forecasts'] # whether to use forecasts as inputs to agent policy net or not\n",
    "NB_FORECASTS = model_parameters[MODEL_BASE_NAME]['nb_forecasts'] # number of forecasts to use in state. Set to None for no forecasts\n",
    "FORECAST_TYPE = model_parameters[MODEL_BASE_NAME]['forecast_type'] # use 'strong' or 'weak' forecasts (if no forecasts given, this does not matter)\n",
    "USE_CNN_STATE = model_parameters[MODEL_BASE_NAME]['use_cnn_state'] # whether to pass log-rets block for CNN part of policy net (set to false for forecast only)"
   ]
  },
  {
   "cell_type": "code",
   "execution_count": 5,
   "metadata": {
    "scrolled": true
   },
   "outputs": [
    {
     "name": "stdout",
     "output_type": "stream",
     "text": [
      "#############################################################################\n",
      "##\t[1/35]\tmodel=RL_CNN,\tSEED=0,\ttrade=0.1,\trisk=0.1\thold=0.1\t##\n",
      "#############################################################################\n",
      "episode: 1/200, loss: 0.0052, duration: 0:00:00.531963\n",
      "episode: 11/200, loss: -0.0265, duration: 0:00:00.462429\n",
      "episode: 21/200, loss: 0.0278, duration: 0:00:00.520305\n",
      "episode: 31/200, loss: -0.0561, duration: 0:00:00.438436\n",
      "episode: 41/200, loss: 0.0086, duration: 0:00:00.484135\n",
      "episode: 51/200, loss: -0.0521, duration: 0:00:00.455275\n",
      "episode: 61/200, loss: -0.0112, duration: 0:00:00.480263\n",
      "episode: 71/200, loss: 0.0074, duration: 0:00:00.438103\n",
      "episode: 81/200, loss: 0.0193, duration: 0:00:00.438804\n",
      "episode: 91/200, loss: -0.0218, duration: 0:00:00.433330\n",
      "episode: 101/200, loss: -0.0284, duration: 0:00:00.436068\n",
      "episode: 111/200, loss: -0.0567, duration: 0:00:00.446785\n",
      "episode: 121/200, loss: -0.0720, duration: 0:00:00.447945\n",
      "episode: 131/200, loss: -0.0014, duration: 0:00:00.436306\n",
      "episode: 141/200, loss: -0.0070, duration: 0:00:00.475508\n",
      "episode: 151/200, loss: 0.0126, duration: 0:00:00.493427\n",
      "episode: 161/200, loss: 0.0628, duration: 0:00:00.519571\n",
      "episode: 171/200, loss: 0.0012, duration: 0:00:00.476187\n",
      "episode: 181/200, loss: -0.0866, duration: 0:00:00.437813\n",
      "episode: 191/200, loss: 0.0540, duration: 0:00:00.431418\n",
      "#############################################################################\n",
      "##\t[2/35]\tmodel=RL_CNN,\tSEED=0,\ttrade=0.1,\trisk=1\thold=0.1\t##\n",
      "#############################################################################\n",
      "episode: 1/200, loss: 0.0069, duration: 0:00:00.502751\n",
      "episode: 11/200, loss: -0.0260, duration: 0:00:00.459452\n",
      "episode: 21/200, loss: 0.0296, duration: 0:00:00.443787\n",
      "episode: 31/200, loss: -0.0524, duration: 0:00:00.445010\n",
      "episode: 41/200, loss: 0.0102, duration: 0:00:00.434534\n",
      "episode: 51/200, loss: -0.0501, duration: 0:00:00.433763\n",
      "episode: 61/200, loss: -0.0105, duration: 0:00:00.432175\n",
      "episode: 71/200, loss: 0.0085, duration: 0:00:00.431817\n",
      "episode: 81/200, loss: 0.0211, duration: 0:00:00.461675\n",
      "episode: 91/200, loss: -0.0176, duration: 0:00:00.514913\n",
      "episode: 101/200, loss: -0.0229, duration: 0:00:00.450414\n",
      "episode: 111/200, loss: -0.0514, duration: 0:00:00.440052\n",
      "episode: 121/200, loss: -0.0635, duration: 0:00:00.475967\n",
      "episode: 131/200, loss: 0.0004, duration: 0:00:00.441720\n",
      "episode: 141/200, loss: -0.0083, duration: 0:00:00.375834\n",
      "episode: 151/200, loss: 0.0160, duration: 0:00:00.436477\n",
      "episode: 161/200, loss: 0.0643, duration: 0:00:00.437531\n",
      "episode: 171/200, loss: 0.0050, duration: 0:00:00.440987\n",
      "episode: 181/200, loss: -0.0746, duration: 0:00:00.453350\n",
      "episode: 191/200, loss: 0.0442, duration: 0:00:00.510768\n",
      "#############################################################################\n",
      "##\t[3/35]\tmodel=RL_CNN,\tSEED=0,\ttrade=0.1,\trisk=18\thold=0.1\t##\n",
      "#############################################################################\n",
      "episode: 1/200, loss: 0.0396, duration: 0:00:00.548714\n",
      "episode: 11/200, loss: -0.0171, duration: 0:00:00.427800\n",
      "episode: 21/200, loss: 0.0608, duration: 0:00:00.482325\n",
      "episode: 31/200, loss: -0.0059, duration: 0:00:00.480918\n",
      "episode: 41/200, loss: 0.0286, duration: 0:00:00.434822\n",
      "episode: 51/200, loss: -0.0319, duration: 0:00:00.430652\n",
      "episode: 61/200, loss: -0.0066, duration: 0:00:00.440060\n",
      "episode: 71/200, loss: 0.0145, duration: 0:00:00.428128\n",
      "episode: 81/200, loss: 0.0291, duration: 0:00:00.434016\n",
      "episode: 91/200, loss: 0.0071, duration: 0:00:00.435687\n",
      "episode: 101/200, loss: 0.0029, duration: 0:00:00.426261\n",
      "episode: 111/200, loss: -0.0204, duration: 0:00:00.413460\n",
      "episode: 121/200, loss: -0.0201, duration: 0:00:00.375758\n",
      "episode: 131/200, loss: 0.0054, duration: 0:00:00.379425\n",
      "episode: 141/200, loss: 0.0001, duration: 0:00:00.371193\n",
      "episode: 151/200, loss: 0.0104, duration: 0:00:00.376559\n",
      "episode: 161/200, loss: 0.0190, duration: 0:00:00.378152\n",
      "episode: 171/200, loss: 0.0038, duration: 0:00:00.369669\n",
      "episode: 181/200, loss: -0.0184, duration: 0:00:00.371973\n",
      "episode: 191/200, loss: 0.0062, duration: 0:00:00.425888\n",
      "#############################################################################\n",
      "##\t[4/35]\tmodel=RL_CNN,\tSEED=0,\ttrade=0.1,\trisk=56\thold=0.1\t##\n",
      "#############################################################################\n",
      "episode: 1/200, loss: 0.1126, duration: 0:00:00.400173\n",
      "episode: 11/200, loss: 0.0026, duration: 0:00:00.367107\n",
      "episode: 21/200, loss: 0.1348, duration: 0:00:00.362831\n",
      "episode: 31/200, loss: 0.0714, duration: 0:00:00.380599\n",
      "episode: 41/200, loss: 0.0601, duration: 0:00:00.378638\n",
      "episode: 51/200, loss: -0.0132, duration: 0:00:00.376150\n",
      "episode: 61/200, loss: 0.0078, duration: 0:00:00.409900\n",
      "episode: 71/200, loss: 0.0221, duration: 0:00:00.403276\n",
      "episode: 81/200, loss: 0.0309, duration: 0:00:00.385232\n",
      "episode: 91/200, loss: 0.0146, duration: 0:00:00.408482\n",
      "episode: 101/200, loss: 0.0058, duration: 0:00:00.373073\n",
      "episode: 111/200, loss: -0.0090, duration: 0:00:00.368871\n",
      "episode: 121/200, loss: -0.0079, duration: 0:00:00.370042\n",
      "episode: 131/200, loss: 0.0023, duration: 0:00:00.371398\n",
      "episode: 141/200, loss: -0.0002, duration: 0:00:00.378293\n",
      "episode: 151/200, loss: 0.0047, duration: 0:00:00.364585\n",
      "episode: 161/200, loss: 0.0061, duration: 0:00:00.425037\n",
      "episode: 171/200, loss: 0.0010, duration: 0:00:00.379225\n",
      "episode: 181/200, loss: -0.0080, duration: 0:00:00.370650\n",
      "episode: 191/200, loss: 0.0021, duration: 0:00:00.373420\n",
      "#############################################################################\n",
      "##\t[5/35]\tmodel=RL_CNN,\tSEED=0,\ttrade=0.1,\trisk=100\thold=0.1\t##\n",
      "#############################################################################\n",
      "episode: 1/200, loss: 0.1972, duration: 0:00:00.401692\n",
      "episode: 11/200, loss: 0.0250, duration: 0:00:00.386656\n",
      "episode: 21/200, loss: 0.2194, duration: 0:00:00.382521\n",
      "episode: 31/200, loss: 0.1564, duration: 0:00:00.368826\n",
      "episode: 41/200, loss: 0.0955, duration: 0:00:00.448314\n",
      "episode: 51/200, loss: 0.0058, duration: 0:00:00.377730\n",
      "episode: 61/200, loss: 0.0241, duration: 0:00:00.375456\n",
      "episode: 71/200, loss: 0.0356, duration: 0:00:00.371943\n",
      "episode: 81/200, loss: 0.0399, duration: 0:00:00.379127\n",
      "episode: 91/200, loss: 0.0232, duration: 0:00:00.366802\n",
      "episode: 101/200, loss: 0.0088, duration: 0:00:00.377484\n",
      "episode: 111/200, loss: -0.0062, duration: 0:00:00.365844\n",
      "episode: 121/200, loss: -0.0055, duration: 0:00:00.371988\n",
      "episode: 131/200, loss: 0.0030, duration: 0:00:00.370550\n",
      "episode: 141/200, loss: 0.0002, duration: 0:00:00.373061\n",
      "episode: 151/200, loss: 0.0051, duration: 0:00:00.363182\n",
      "episode: 161/200, loss: 0.0055, duration: 0:00:00.380678\n",
      "episode: 171/200, loss: 0.0013, duration: 0:00:00.376764\n",
      "episode: 181/200, loss: -0.0063, duration: 0:00:00.381700\n",
      "episode: 191/200, loss: 0.0017, duration: 0:00:00.432417\n",
      "#############################################################################\n",
      "##\t[6/35]\tmodel=RL_CNN,\tSEED=0,\ttrade=0.1,\trisk=562\thold=0.1\t##\n",
      "#############################################################################\n",
      "episode: 1/200, loss: 1.0850, duration: 0:00:00.418136\n",
      "episode: 11/200, loss: 0.2631, duration: 0:00:00.369603\n",
      "episode: 21/200, loss: 1.1035, duration: 0:00:00.383453\n",
      "episode: 31/200, loss: 1.0593, duration: 0:00:00.396569\n",
      "episode: 41/200, loss: 0.4988, duration: 0:00:00.388840\n",
      "episode: 51/200, loss: 0.2113, duration: 0:00:00.382331\n",
      "episode: 61/200, loss: 0.2035, duration: 0:00:00.378114\n",
      "episode: 71/200, loss: 0.1842, duration: 0:00:00.377645\n",
      "episode: 81/200, loss: 0.1611, duration: 0:00:00.382388\n",
      "episode: 91/200, loss: 0.1196, duration: 0:00:00.362806\n",
      "episode: 101/200, loss: 0.0477, duration: 0:00:00.374140\n",
      "episode: 111/200, loss: 0.0077, duration: 0:00:00.372082\n",
      "episode: 121/200, loss: 0.0065, duration: 0:00:00.383060\n",
      "episode: 131/200, loss: 0.0084, duration: 0:00:00.378550\n",
      "episode: 141/200, loss: 0.0057, duration: 0:00:00.372754\n",
      "episode: 151/200, loss: 0.0130, duration: 0:00:00.378544\n",
      "episode: 161/200, loss: 0.0113, duration: 0:00:00.436215\n",
      "episode: 171/200, loss: 0.0076, duration: 0:00:00.369288\n",
      "episode: 181/200, loss: -0.0034, duration: 0:00:00.369231\n",
      "episode: 191/200, loss: 0.0030, duration: 0:00:00.385912\n",
      "#############################################################################\n",
      "##\t[7/35]\tmodel=RL_CNN,\tSEED=0,\ttrade=0.1,\trisk=1000\thold=0.1\t##\n",
      "#############################################################################\n",
      "episode: 1/200, loss: 1.9267, duration: 0:00:00.404669\n",
      "episode: 11/200, loss: 0.4890, duration: 0:00:00.372175\n",
      "episode: 21/200, loss: 1.9446, duration: 0:00:00.367856\n",
      "episode: 31/200, loss: 1.9201, duration: 0:00:00.373172\n",
      "episode: 41/200, loss: 0.8858, duration: 0:00:00.433601\n",
      "episode: 51/200, loss: 0.4069, duration: 0:00:00.376587\n",
      "episode: 61/200, loss: 0.3752, duration: 0:00:00.377298\n",
      "episode: 71/200, loss: 0.3261, duration: 0:00:00.370878\n",
      "episode: 81/200, loss: 0.2784, duration: 0:00:00.382426\n",
      "episode: 91/200, loss: 0.2122, duration: 0:00:00.369794\n",
      "episode: 101/200, loss: 0.0851, duration: 0:00:00.366368\n",
      "episode: 111/200, loss: 0.0202, duration: 0:00:00.366043\n",
      "episode: 121/200, loss: 0.0169, duration: 0:00:00.376999\n",
      "episode: 131/200, loss: 0.0134, duration: 0:00:00.366662\n",
      "episode: 141/200, loss: 0.0108, duration: 0:00:00.373241\n",
      "episode: 151/200, loss: 0.0208, duration: 0:00:00.422960\n",
      "episode: 161/200, loss: 0.0175, duration: 0:00:00.376961\n",
      "episode: 171/200, loss: 0.0136, duration: 0:00:00.370774\n",
      "episode: 181/200, loss: -0.0020, duration: 0:00:00.364820\n",
      "episode: 191/200, loss: 0.0048, duration: 0:00:00.425954\n",
      "#############################################################################\n",
      "##\t[8/35]\tmodel=RL_CNN,\tSEED=0,\ttrade=1,\trisk=0.1\thold=0.1\t##\n",
      "#############################################################################\n",
      "episode: 1/200, loss: 0.0061, duration: 0:00:00.404660\n",
      "episode: 11/200, loss: -0.0261, duration: 0:00:00.368561\n",
      "episode: 21/200, loss: 0.0292, duration: 0:00:00.364250\n",
      "episode: 31/200, loss: -0.0551, duration: 0:00:00.368193\n",
      "episode: 41/200, loss: 0.0089, duration: 0:00:00.368904\n",
      "episode: 51/200, loss: -0.0521, duration: 0:00:00.372248\n",
      "episode: 61/200, loss: -0.0109, duration: 0:00:00.369218\n",
      "episode: 71/200, loss: 0.0075, duration: 0:00:00.378843\n",
      "episode: 81/200, loss: 0.0212, duration: 0:00:00.374273\n",
      "episode: 91/200, loss: -0.0213, duration: 0:00:00.368476\n",
      "episode: 101/200, loss: -0.0278, duration: 0:00:00.377165\n",
      "episode: 111/200, loss: -0.0564, duration: 0:00:00.374691\n",
      "episode: 121/200, loss: -0.0712, duration: 0:00:00.371564\n",
      "episode: 131/200, loss: -0.0010, duration: 0:00:00.369186\n",
      "episode: 141/200, loss: -0.0053, duration: 0:00:00.380114\n",
      "episode: 151/200, loss: 0.0139, duration: 0:00:00.382086\n",
      "episode: 161/200, loss: 0.0666, duration: 0:00:00.368692\n",
      "episode: 171/200, loss: 0.0039, duration: 0:00:00.361669\n",
      "episode: 181/200, loss: -0.0860, duration: 0:00:00.373846\n",
      "episode: 191/200, loss: 0.0558, duration: 0:00:00.373074\n",
      "#############################################################################\n",
      "##\t[9/35]\tmodel=RL_CNN,\tSEED=0,\ttrade=1,\trisk=1\thold=0.1\t##\n",
      "#############################################################################\n",
      "episode: 1/200, loss: 0.0078, duration: 0:00:00.434824\n",
      "episode: 11/200, loss: -0.0256, duration: 0:00:00.365691\n",
      "episode: 21/200, loss: 0.0312, duration: 0:00:00.367721\n",
      "episode: 31/200, loss: -0.0513, duration: 0:00:00.372321\n",
      "episode: 41/200, loss: 0.0105, duration: 0:00:00.364811\n",
      "episode: 51/200, loss: -0.0496, duration: 0:00:00.368826\n",
      "episode: 61/200, loss: -0.0102, duration: 0:00:00.372282\n",
      "episode: 71/200, loss: 0.0088, duration: 0:00:00.377222\n",
      "episode: 81/200, loss: 0.0230, duration: 0:00:00.434889\n",
      "episode: 91/200, loss: -0.0167, duration: 0:00:00.372720\n",
      "episode: 101/200, loss: -0.0218, duration: 0:00:00.380908\n",
      "episode: 111/200, loss: -0.0508, duration: 0:00:00.364084\n",
      "episode: 121/200, loss: -0.0619, duration: 0:00:00.376432\n",
      "episode: 131/200, loss: 0.0009, duration: 0:00:00.362156\n",
      "episode: 141/200, loss: -0.0075, duration: 0:00:00.375260\n",
      "episode: 151/200, loss: 0.0156, duration: 0:00:00.370838\n",
      "episode: 161/200, loss: 0.0691, duration: 0:00:00.381054\n",
      "episode: 171/200, loss: 0.0101, duration: 0:00:00.378438\n",
      "episode: 181/200, loss: -0.0739, duration: 0:00:00.387801\n",
      "episode: 191/200, loss: 0.0450, duration: 0:00:00.365886\n",
      "#############################################################################\n",
      "##\t[10/35]\tmodel=RL_CNN,\tSEED=0,\ttrade=1,\trisk=18\thold=0.1\t##\n",
      "#############################################################################\n",
      "episode: 1/200, loss: 0.0405, duration: 0:00:00.409909\n",
      "episode: 11/200, loss: -0.0166, duration: 0:00:00.378254\n",
      "episode: 21/200, loss: 0.0625, duration: 0:00:00.374378\n",
      "episode: 31/200, loss: -0.0045, duration: 0:00:00.375686\n",
      "episode: 41/200, loss: 0.0291, duration: 0:00:00.374715\n",
      "episode: 51/200, loss: -0.0314, duration: 0:00:00.377650\n",
      "episode: 61/200, loss: -0.0062, duration: 0:00:00.371994\n",
      "episode: 71/200, loss: 0.0149, duration: 0:00:00.373480\n",
      "episode: 81/200, loss: 0.0309, duration: 0:00:00.375733\n",
      "episode: 91/200, loss: 0.0076, duration: 0:00:00.431578\n",
      "episode: 101/200, loss: 0.0034, duration: 0:00:00.383420\n",
      "episode: 111/200, loss: -0.0201, duration: 0:00:00.373082\n",
      "episode: 121/200, loss: -0.0196, duration: 0:00:00.368001\n",
      "episode: 131/200, loss: 0.0056, duration: 0:00:00.418880\n",
      "episode: 141/200, loss: 0.0004, duration: 0:00:00.381595\n",
      "episode: 151/200, loss: 0.0106, duration: 0:00:00.382658\n",
      "episode: 161/200, loss: 0.0193, duration: 0:00:00.375409\n",
      "episode: 171/200, loss: 0.0041, duration: 0:00:00.367122\n",
      "episode: 181/200, loss: -0.0182, duration: 0:00:00.373182\n",
      "episode: 191/200, loss: 0.0064, duration: 0:00:00.371949\n",
      "#############################################################################\n",
      "##\t[11/35]\tmodel=RL_CNN,\tSEED=0,\ttrade=1,\trisk=56\thold=0.1\t##\n",
      "#############################################################################\n",
      "episode: 1/200, loss: 0.1135, duration: 0:00:00.416489\n",
      "episode: 11/200, loss: 0.0030, duration: 0:00:00.373315\n",
      "episode: 21/200, loss: 0.1364, duration: 0:00:00.429728\n",
      "episode: 31/200, loss: 0.0728, duration: 0:00:00.372658\n",
      "episode: 41/200, loss: 0.0607, duration: 0:00:00.378180\n",
      "episode: 51/200, loss: -0.0127, duration: 0:00:00.370691\n",
      "episode: 61/200, loss: 0.0081, duration: 0:00:00.370579\n",
      "episode: 71/200, loss: 0.0225, duration: 0:00:00.373969\n",
      "episode: 81/200, loss: 0.0316, duration: 0:00:00.367057\n",
      "episode: 91/200, loss: 0.0149, duration: 0:00:00.368915\n",
      "episode: 101/200, loss: 0.0061, duration: 0:00:00.373313\n",
      "episode: 111/200, loss: -0.0089, duration: 0:00:00.373470\n",
      "episode: 121/200, loss: -0.0078, duration: 0:00:00.374847\n",
      "episode: 131/200, loss: 0.0024, duration: 0:00:00.365450\n",
      "episode: 141/200, loss: -0.0001, duration: 0:00:00.376978\n",
      "episode: 151/200, loss: 0.0048, duration: 0:00:00.371575\n",
      "episode: 161/200, loss: 0.0062, duration: 0:00:00.378643\n",
      "episode: 171/200, loss: 0.0011, duration: 0:00:00.380438\n",
      "episode: 181/200, loss: -0.0079, duration: 0:00:00.375211\n",
      "episode: 191/200, loss: 0.0021, duration: 0:00:00.364862\n",
      "#############################################################################\n",
      "##\t[12/35]\tmodel=RL_CNN,\tSEED=0,\ttrade=1,\trisk=100\thold=0.1\t##\n",
      "#############################################################################\n",
      "episode: 1/200, loss: 0.1981, duration: 0:00:00.411840\n",
      "episode: 11/200, loss: 0.0254, duration: 0:00:00.372612\n",
      "episode: 21/200, loss: 0.2210, duration: 0:00:00.380860\n",
      "episode: 31/200, loss: 0.1578, duration: 0:00:00.368821\n",
      "episode: 41/200, loss: 0.0961, duration: 0:00:00.377836\n",
      "episode: 51/200, loss: 0.0063, duration: 0:00:00.381243\n",
      "episode: 61/200, loss: 0.0245, duration: 0:00:00.386035\n",
      "episode: 71/200, loss: 0.0360, duration: 0:00:00.371752\n",
      "episode: 81/200, loss: 0.0407, duration: 0:00:00.367566\n",
      "episode: 91/200, loss: 0.0236, duration: 0:00:00.372146\n",
      "episode: 101/200, loss: 0.0091, duration: 0:00:00.367071\n",
      "episode: 111/200, loss: -0.0061, duration: 0:00:00.373927\n",
      "episode: 121/200, loss: -0.0053, duration: 0:00:00.387999\n",
      "episode: 131/200, loss: 0.0031, duration: 0:00:00.375167\n",
      "episode: 141/200, loss: 0.0003, duration: 0:00:00.396938\n",
      "episode: 151/200, loss: 0.0051, duration: 0:00:00.380118\n",
      "episode: 161/200, loss: 0.0056, duration: 0:00:00.391467\n",
      "episode: 171/200, loss: 0.0014, duration: 0:00:00.462878\n",
      "episode: 181/200, loss: -0.0062, duration: 0:00:00.475895\n",
      "episode: 191/200, loss: 0.0017, duration: 0:00:00.465807\n",
      "#############################################################################\n",
      "##\t[13/35]\tmodel=RL_CNN,\tSEED=0,\ttrade=1,\trisk=562\thold=0.1\t##\n",
      "#############################################################################\n",
      "episode: 1/200, loss: 1.0859, duration: 0:00:00.477644\n",
      "episode: 11/200, loss: 0.2635, duration: 0:00:00.474372\n",
      "episode: 21/200, loss: 1.1051, duration: 0:00:00.515095\n",
      "episode: 31/200, loss: 1.0607, duration: 0:00:00.445675\n",
      "episode: 41/200, loss: 0.4994, duration: 0:00:00.439392\n",
      "episode: 51/200, loss: 0.2118, duration: 0:00:00.435765\n",
      "episode: 61/200, loss: 0.2038, duration: 0:00:00.453617\n",
      "episode: 71/200, loss: 0.1846, duration: 0:00:00.436063\n",
      "episode: 81/200, loss: 0.1616, duration: 0:00:00.445137\n",
      "episode: 91/200, loss: 0.1199, duration: 0:00:00.450838\n",
      "episode: 101/200, loss: 0.0479, duration: 0:00:00.389602\n",
      "episode: 111/200, loss: 0.0078, duration: 0:00:00.450824\n",
      "episode: 121/200, loss: 0.0066, duration: 0:00:00.389389\n",
      "episode: 131/200, loss: 0.0084, duration: 0:00:00.450238\n",
      "episode: 141/200, loss: 0.0058, duration: 0:00:00.451058\n",
      "episode: 151/200, loss: 0.0130, duration: 0:00:00.440919\n",
      "episode: 161/200, loss: 0.0114, duration: 0:00:00.466425\n",
      "episode: 171/200, loss: 0.0077, duration: 0:00:00.451549\n",
      "episode: 181/200, loss: -0.0034, duration: 0:00:00.422189\n",
      "episode: 191/200, loss: 0.0031, duration: 0:00:00.434979\n",
      "#############################################################################\n",
      "##\t[14/35]\tmodel=RL_CNN,\tSEED=0,\ttrade=1,\trisk=1000\thold=0.1\t##\n",
      "#############################################################################\n",
      "episode: 1/200, loss: 1.9275, duration: 0:00:00.457373\n",
      "episode: 11/200, loss: 0.4894, duration: 0:00:00.451168\n",
      "episode: 21/200, loss: 1.9462, duration: 0:00:00.479828\n",
      "episode: 31/200, loss: 1.9214, duration: 0:00:00.436375\n",
      "episode: 41/200, loss: 0.8864, duration: 0:00:00.460014\n",
      "episode: 51/200, loss: 0.4074, duration: 0:00:00.465652\n",
      "episode: 61/200, loss: 0.3756, duration: 0:00:00.440438\n",
      "episode: 71/200, loss: 0.3264, duration: 0:00:00.509806\n",
      "episode: 81/200, loss: 0.2789, duration: 0:00:00.447616\n",
      "episode: 91/200, loss: 0.2125, duration: 0:00:00.485551\n",
      "episode: 101/200, loss: 0.0853, duration: 0:00:00.458384\n",
      "episode: 111/200, loss: 0.0203, duration: 0:00:00.439108\n",
      "episode: 121/200, loss: 0.0170, duration: 0:00:00.437208\n",
      "episode: 131/200, loss: 0.0135, duration: 0:00:00.374923\n",
      "episode: 141/200, loss: 0.0109, duration: 0:00:00.386638\n",
      "episode: 151/200, loss: 0.0209, duration: 0:00:00.376376\n",
      "episode: 161/200, loss: 0.0176, duration: 0:00:00.380747\n",
      "episode: 171/200, loss: 0.0137, duration: 0:00:00.381116\n",
      "episode: 181/200, loss: -0.0019, duration: 0:00:00.383418\n",
      "episode: 191/200, loss: 0.0048, duration: 0:00:00.383954\n",
      "#############################################################################\n",
      "##\t[15/35]\tmodel=RL_CNN,\tSEED=0,\ttrade=10,\trisk=0.1\thold=0.1\t##\n",
      "#############################################################################\n",
      "episode: 1/200, loss: 0.0148, duration: 0:00:00.386754\n",
      "episode: 11/200, loss: -0.0222, duration: 0:00:00.428272\n",
      "episode: 21/200, loss: 0.0435, duration: 0:00:00.375676\n",
      "episode: 31/200, loss: -0.0459, duration: 0:00:00.381196\n",
      "episode: 41/200, loss: 0.0116, duration: 0:00:00.373307\n",
      "episode: 51/200, loss: -0.0490, duration: 0:00:00.377254\n",
      "episode: 61/200, loss: -0.0085, duration: 0:00:00.377893\n",
      "episode: 71/200, loss: 0.0098, duration: 0:00:00.374171\n",
      "episode: 81/200, loss: 0.0389, duration: 0:00:00.468439\n",
      "episode: 91/200, loss: -0.0178, duration: 0:00:00.375242\n",
      "episode: 101/200, loss: -0.0262, duration: 0:00:00.372284\n",
      "episode: 111/200, loss: -0.0552, duration: 0:00:00.365121\n",
      "episode: 121/200, loss: -0.0669, duration: 0:00:00.380594\n",
      "episode: 131/200, loss: 0.0014, duration: 0:00:00.385338\n",
      "episode: 141/200, loss: 0.0016, duration: 0:00:00.372128\n",
      "episode: 151/200, loss: 0.0145, duration: 0:00:00.379640\n",
      "episode: 161/200, loss: 0.0896, duration: 0:00:00.379193\n",
      "episode: 171/200, loss: 0.0241, duration: 0:00:00.471097\n",
      "episode: 181/200, loss: -0.0824, duration: 0:00:00.372866\n",
      "episode: 191/200, loss: 0.0625, duration: 0:00:00.365308\n",
      "#############################################################################\n",
      "##\t[16/35]\tmodel=RL_CNN,\tSEED=0,\ttrade=10,\trisk=1\thold=0.1\t##\n",
      "#############################################################################\n",
      "episode: 1/200, loss: 0.0165, duration: 0:00:00.402250\n",
      "episode: 11/200, loss: -0.0216, duration: 0:00:00.375499\n",
      "episode: 21/200, loss: 0.0457, duration: 0:00:00.370735\n",
      "episode: 31/200, loss: -0.0423, duration: 0:00:00.366662\n",
      "episode: 41/200, loss: 0.0133, duration: 0:00:00.383858\n",
      "episode: 51/200, loss: -0.0467, duration: 0:00:00.365898\n",
      "episode: 61/200, loss: -0.0076, duration: 0:00:00.380318\n",
      "episode: 71/200, loss: 0.0112, duration: 0:00:00.385899\n",
      "episode: 81/200, loss: 0.0415, duration: 0:00:00.367966\n",
      "episode: 91/200, loss: -0.0137, duration: 0:00:00.365524\n",
      "episode: 101/200, loss: -0.0204, duration: 0:00:00.370212\n",
      "episode: 111/200, loss: -0.0494, duration: 0:00:00.425152\n",
      "episode: 121/200, loss: -0.0565, duration: 0:00:00.389689\n",
      "episode: 131/200, loss: 0.0032, duration: 0:00:00.372582\n",
      "episode: 141/200, loss: 0.0020, duration: 0:00:00.370482\n",
      "episode: 151/200, loss: 0.0173, duration: 0:00:00.383972\n",
      "episode: 161/200, loss: 0.0942, duration: 0:00:00.364095\n",
      "episode: 171/200, loss: 0.0315, duration: 0:00:00.361284\n",
      "episode: 181/200, loss: -0.0709, duration: 0:00:00.375822\n",
      "episode: 191/200, loss: 0.0548, duration: 0:00:00.367148\n",
      "#############################################################################\n",
      "##\t[17/35]\tmodel=RL_CNN,\tSEED=0,\ttrade=10,\trisk=18\thold=0.1\t##\n",
      "#############################################################################\n",
      "episode: 1/200, loss: 0.0492, duration: 0:00:00.412836\n",
      "episode: 11/200, loss: -0.0125, duration: 0:00:00.377124\n",
      "episode: 21/200, loss: 0.0792, duration: 0:00:00.371658\n",
      "episode: 31/200, loss: 0.0092, duration: 0:00:00.434834\n",
      "episode: 41/200, loss: 0.0329, duration: 0:00:00.380511\n",
      "episode: 51/200, loss: -0.0265, duration: 0:00:00.432461\n",
      "episode: 61/200, loss: -0.0016, duration: 0:00:00.371640\n",
      "episode: 71/200, loss: 0.0205, duration: 0:00:00.362435\n",
      "episode: 81/200, loss: 0.0525, duration: 0:00:00.383097\n",
      "episode: 91/200, loss: 0.0137, duration: 0:00:00.374775\n",
      "episode: 101/200, loss: 0.0093, duration: 0:00:00.372364\n",
      "episode: 111/200, loss: -0.0172, duration: 0:00:00.368299\n",
      "episode: 121/200, loss: -0.0157, duration: 0:00:00.369920\n",
      "episode: 131/200, loss: 0.0086, duration: 0:00:00.373323\n",
      "episode: 141/200, loss: 0.0032, duration: 0:00:00.367589\n",
      "episode: 151/200, loss: 0.0132, duration: 0:00:00.368831\n",
      "episode: 161/200, loss: 0.0231, duration: 0:00:00.376211\n",
      "episode: 171/200, loss: 0.0070, duration: 0:00:00.381922\n",
      "episode: 181/200, loss: -0.0167, duration: 0:00:00.369160\n",
      "episode: 191/200, loss: 0.0080, duration: 0:00:00.366390\n",
      "#############################################################################\n",
      "##\t[18/35]\tmodel=RL_CNN,\tSEED=0,\ttrade=10,\trisk=56\thold=0.1\t##\n",
      "#############################################################################\n",
      "episode: 1/200, loss: 0.1222, duration: 0:00:00.414685\n",
      "episode: 11/200, loss: 0.0071, duration: 0:00:00.381450\n",
      "episode: 21/200, loss: 0.1521, duration: 0:00:00.426439\n",
      "episode: 31/200, loss: 0.0875, duration: 0:00:00.366830\n",
      "episode: 41/200, loss: 0.0687, duration: 0:00:00.378068\n",
      "episode: 51/200, loss: -0.0071, duration: 0:00:00.373947\n",
      "episode: 61/200, loss: 0.0125, duration: 0:00:00.361926\n",
      "episode: 71/200, loss: 0.0276, duration: 0:00:00.367971\n",
      "episode: 81/200, loss: 0.0412, duration: 0:00:00.370402\n",
      "episode: 91/200, loss: 0.0188, duration: 0:00:00.365318\n",
      "episode: 101/200, loss: 0.0088, duration: 0:00:00.370825\n",
      "episode: 111/200, loss: -0.0075, duration: 0:00:00.366112\n",
      "episode: 121/200, loss: -0.0064, duration: 0:00:00.369484\n",
      "episode: 131/200, loss: 0.0037, duration: 0:00:00.365835\n",
      "episode: 141/200, loss: 0.0007, duration: 0:00:00.413837\n",
      "episode: 151/200, loss: 0.0054, duration: 0:00:00.367932\n",
      "episode: 161/200, loss: 0.0071, duration: 0:00:00.380071\n",
      "episode: 171/200, loss: 0.0019, duration: 0:00:00.371386\n",
      "episode: 181/200, loss: -0.0072, duration: 0:00:00.361929\n",
      "episode: 191/200, loss: 0.0027, duration: 0:00:00.370068\n",
      "#############################################################################\n",
      "##\t[19/35]\tmodel=RL_CNN,\tSEED=0,\ttrade=10,\trisk=100\thold=0.1\t##\n",
      "#############################################################################\n",
      "episode: 1/200, loss: 0.2068, duration: 0:00:00.419856\n",
      "episode: 11/200, loss: 0.0295, duration: 0:00:00.381509\n",
      "episode: 21/200, loss: 0.2370, duration: 0:00:00.366511\n",
      "episode: 31/200, loss: 0.1719, duration: 0:00:00.363786\n",
      "episode: 41/200, loss: 0.1024, duration: 0:00:00.370920\n",
      "episode: 51/200, loss: 0.0114, duration: 0:00:00.362787\n",
      "episode: 61/200, loss: 0.0280, duration: 0:00:00.364607\n",
      "episode: 71/200, loss: 0.0399, duration: 0:00:00.372234\n",
      "episode: 81/200, loss: 0.0474, duration: 0:00:00.373427\n",
      "episode: 91/200, loss: 0.0267, duration: 0:00:00.372717\n",
      "episode: 101/200, loss: 0.0113, duration: 0:00:00.353786\n",
      "episode: 111/200, loss: -0.0048, duration: 0:00:00.354768\n",
      "episode: 121/200, loss: -0.0041, duration: 0:00:00.366988\n",
      "episode: 131/200, loss: 0.0041, duration: 0:00:00.366850\n",
      "episode: 141/200, loss: 0.0009, duration: 0:00:00.377320\n",
      "episode: 151/200, loss: 0.0055, duration: 0:00:00.383049\n",
      "episode: 161/200, loss: 0.0061, duration: 0:00:00.455585\n",
      "episode: 171/200, loss: 0.0020, duration: 0:00:00.366640\n",
      "episode: 181/200, loss: -0.0056, duration: 0:00:00.360704\n",
      "episode: 191/200, loss: 0.0021, duration: 0:00:00.374787\n",
      "#############################################################################\n",
      "##\t[20/35]\tmodel=RL_CNN,\tSEED=0,\ttrade=10,\trisk=562\thold=0.1\t##\n",
      "#############################################################################\n",
      "episode: 1/200, loss: 1.0946, duration: 0:00:00.420078\n",
      "episode: 11/200, loss: 0.2676, duration: 0:00:00.376038\n",
      "episode: 21/200, loss: 1.1228, duration: 0:00:00.367463\n",
      "episode: 31/200, loss: 1.0769, duration: 0:00:00.369138\n",
      "episode: 41/200, loss: 0.5078, duration: 0:00:00.441902\n",
      "episode: 51/200, loss: 0.2173, duration: 0:00:00.367103\n",
      "episode: 61/200, loss: 0.2079, duration: 0:00:00.372034\n",
      "episode: 71/200, loss: 0.1892, duration: 0:00:00.377402\n",
      "episode: 81/200, loss: 0.1687, duration: 0:00:00.371819\n",
      "episode: 91/200, loss: 0.1234, duration: 0:00:00.362505\n",
      "episode: 101/200, loss: 0.0500, duration: 0:00:00.373291\n",
      "episode: 111/200, loss: 0.0088, duration: 0:00:00.368792\n",
      "episode: 121/200, loss: 0.0077, duration: 0:00:00.378577\n",
      "episode: 131/200, loss: 0.0094, duration: 0:00:00.362489\n",
      "episode: 141/200, loss: 0.0063, duration: 0:00:00.364735\n",
      "episode: 151/200, loss: 0.0136, duration: 0:00:00.368266\n",
      "episode: 161/200, loss: 0.0120, duration: 0:00:00.368610\n",
      "episode: 171/200, loss: 0.0083, duration: 0:00:00.362393\n",
      "episode: 181/200, loss: -0.0031, duration: 0:00:00.365146\n",
      "episode: 191/200, loss: 0.0034, duration: 0:00:00.415700\n",
      "#############################################################################\n",
      "##\t[21/35]\tmodel=RL_CNN,\tSEED=0,\ttrade=10,\trisk=1000\thold=0.1\t##\n",
      "#############################################################################\n",
      "episode: 1/200, loss: 1.9362, duration: 0:00:00.421847\n",
      "episode: 11/200, loss: 0.4934, duration: 0:00:00.360823\n",
      "episode: 21/200, loss: 1.9622, duration: 0:00:00.369589\n",
      "episode: 31/200, loss: 1.9353, duration: 0:00:00.370594\n",
      "episode: 41/200, loss: 0.8926, duration: 0:00:00.373016\n",
      "episode: 51/200, loss: 0.4123, duration: 0:00:00.368090\n",
      "episode: 61/200, loss: 0.3789, duration: 0:00:00.376221\n",
      "episode: 71/200, loss: 0.3301, duration: 0:00:00.371094\n",
      "episode: 81/200, loss: 0.2846, duration: 0:00:00.361479\n",
      "episode: 91/200, loss: 0.2153, duration: 0:00:00.366603\n",
      "episode: 101/200, loss: 0.0872, duration: 0:00:00.358887\n",
      "episode: 111/200, loss: 0.0213, duration: 0:00:00.361456\n",
      "episode: 121/200, loss: 0.0181, duration: 0:00:00.369377\n",
      "episode: 131/200, loss: 0.0144, duration: 0:00:00.372342\n",
      "episode: 141/200, loss: 0.0114, duration: 0:00:00.361936\n",
      "episode: 151/200, loss: 0.0213, duration: 0:00:00.361622\n",
      "episode: 161/200, loss: 0.0181, duration: 0:00:00.360943\n",
      "episode: 171/200, loss: 0.0142, duration: 0:00:00.372146\n",
      "episode: 181/200, loss: -0.0016, duration: 0:00:00.361859\n",
      "episode: 191/200, loss: 0.0051, duration: 0:00:00.368480\n"
     ]
    },
    {
     "name": "stderr",
     "output_type": "stream",
     "text": [
      "/usr/local/lib/python3.7/site-packages/ipykernel_launcher.py:136: RuntimeWarning: More than 20 figures have been opened. Figures created through the pyplot interface (`matplotlib.pyplot.figure`) are retained until explicitly closed and may consume too much memory. (To control this warning, see the rcParam `figure.max_open_warning`).\n"
     ]
    },
    {
     "name": "stdout",
     "output_type": "stream",
     "text": [
      "#############################################################################\n",
      "##\t[22/35]\tmodel=RL_CNN,\tSEED=0,\ttrade=60,\trisk=0.1\thold=0.1\t##\n",
      "#############################################################################\n",
      "episode: 1/200, loss: 0.0632, duration: 0:00:00.396747\n",
      "episode: 11/200, loss: -0.0055, duration: 0:00:00.368726\n",
      "episode: 21/200, loss: 0.1143, duration: 0:00:00.349573\n",
      "episode: 31/200, loss: -0.0108, duration: 0:00:00.365621\n",
      "episode: 41/200, loss: 0.0230, duration: 0:00:00.364712\n",
      "episode: 51/200, loss: -0.0409, duration: 0:00:00.360061\n",
      "episode: 61/200, loss: -0.0002, duration: 0:00:00.370586\n",
      "episode: 71/200, loss: 0.0154, duration: 0:00:00.369964\n",
      "episode: 81/200, loss: 0.0851, duration: 0:00:00.363263\n",
      "episode: 91/200, loss: -0.0094, duration: 0:00:00.370460\n",
      "episode: 101/200, loss: -0.0181, duration: 0:00:00.380812\n",
      "episode: 111/200, loss: -0.0471, duration: 0:00:00.364660\n",
      "episode: 121/200, loss: -0.0538, duration: 0:00:00.363565\n",
      "episode: 131/200, loss: 0.0134, duration: 0:00:00.360147\n",
      "episode: 141/200, loss: 0.0111, duration: 0:00:00.359988\n",
      "episode: 151/200, loss: 0.0234, duration: 0:00:00.422620\n",
      "episode: 161/200, loss: 0.1186, duration: 0:00:00.366603\n",
      "episode: 171/200, loss: 0.0463, duration: 0:00:00.367485\n",
      "episode: 181/200, loss: -0.0685, duration: 0:00:00.355122\n",
      "episode: 191/200, loss: 0.0676, duration: 0:00:00.366789\n"
     ]
    },
    {
     "name": "stderr",
     "output_type": "stream",
     "text": [
      "/usr/local/lib/python3.7/site-packages/ipykernel_launcher.py:136: RuntimeWarning: More than 20 figures have been opened. Figures created through the pyplot interface (`matplotlib.pyplot.figure`) are retained until explicitly closed and may consume too much memory. (To control this warning, see the rcParam `figure.max_open_warning`).\n"
     ]
    },
    {
     "name": "stdout",
     "output_type": "stream",
     "text": [
      "#############################################################################\n",
      "##\t[23/35]\tmodel=RL_CNN,\tSEED=0,\ttrade=60,\trisk=1\thold=0.1\t##\n",
      "#############################################################################\n",
      "episode: 1/200, loss: 0.0649, duration: 0:00:00.407354\n",
      "episode: 11/200, loss: -0.0054, duration: 0:00:00.368870\n",
      "episode: 21/200, loss: 0.1174, duration: 0:00:00.368041\n",
      "episode: 31/200, loss: -0.0063, duration: 0:00:00.366375\n",
      "episode: 41/200, loss: 0.0247, duration: 0:00:00.373102\n",
      "episode: 51/200, loss: -0.0386, duration: 0:00:00.359645\n",
      "episode: 61/200, loss: 0.0011, duration: 0:00:00.359342\n",
      "episode: 71/200, loss: 0.0178, duration: 0:00:00.378699\n",
      "episode: 81/200, loss: 0.0970, duration: 0:00:00.360076\n",
      "episode: 91/200, loss: -0.0055, duration: 0:00:00.369306\n",
      "episode: 101/200, loss: -0.0125, duration: 0:00:00.431099\n",
      "episode: 111/200, loss: -0.0420, duration: 0:00:00.367410\n",
      "episode: 121/200, loss: -0.0468, duration: 0:00:00.358458\n",
      "episode: 131/200, loss: 0.0126, duration: 0:00:00.365280\n",
      "episode: 141/200, loss: 0.0113, duration: 0:00:00.366377\n",
      "episode: 151/200, loss: 0.0223, duration: 0:00:00.366891\n",
      "episode: 161/200, loss: 0.1130, duration: 0:00:00.357182\n",
      "episode: 171/200, loss: 0.0507, duration: 0:00:00.360580\n",
      "episode: 181/200, loss: -0.0611, duration: 0:00:00.370991\n",
      "episode: 191/200, loss: 0.0603, duration: 0:00:00.362340\n"
     ]
    },
    {
     "name": "stderr",
     "output_type": "stream",
     "text": [
      "/usr/local/lib/python3.7/site-packages/ipykernel_launcher.py:136: RuntimeWarning: More than 20 figures have been opened. Figures created through the pyplot interface (`matplotlib.pyplot.figure`) are retained until explicitly closed and may consume too much memory. (To control this warning, see the rcParam `figure.max_open_warning`).\n"
     ]
    },
    {
     "name": "stdout",
     "output_type": "stream",
     "text": [
      "#############################################################################\n",
      "##\t[24/35]\tmodel=RL_CNN,\tSEED=0,\ttrade=60,\trisk=18\thold=0.1\t##\n",
      "#############################################################################\n",
      "episode: 1/200, loss: 0.0976, duration: 0:00:00.404779\n",
      "episode: 11/200, loss: 0.0043, duration: 0:00:00.360750\n",
      "episode: 21/200, loss: 0.1564, duration: 0:00:00.370290\n",
      "episode: 31/200, loss: 0.0494, duration: 0:00:00.376496\n",
      "episode: 41/200, loss: 0.0535, duration: 0:00:00.366810\n",
      "episode: 51/200, loss: -0.0116, duration: 0:00:00.368256\n",
      "episode: 61/200, loss: 0.0145, duration: 0:00:00.360051\n",
      "episode: 71/200, loss: 0.0427, duration: 0:00:00.370531\n",
      "episode: 81/200, loss: 0.1342, duration: 0:00:00.367384\n",
      "episode: 91/200, loss: 0.0272, duration: 0:00:00.376458\n",
      "episode: 101/200, loss: 0.0240, duration: 0:00:00.366935\n",
      "episode: 111/200, loss: -0.0086, duration: 0:00:00.375566\n",
      "episode: 121/200, loss: -0.0064, duration: 0:00:00.366607\n",
      "episode: 131/200, loss: 0.0285, duration: 0:00:00.358853\n",
      "episode: 141/200, loss: 0.0364, duration: 0:00:00.363820\n",
      "episode: 151/200, loss: 0.0407, duration: 0:00:00.372227\n",
      "episode: 161/200, loss: 0.1277, duration: 0:00:00.362306\n",
      "episode: 171/200, loss: 0.0645, duration: 0:00:00.366548\n",
      "episode: 181/200, loss: -0.0214, duration: 0:00:00.371665\n",
      "episode: 191/200, loss: 0.0353, duration: 0:00:00.374024\n"
     ]
    },
    {
     "name": "stderr",
     "output_type": "stream",
     "text": [
      "/usr/local/lib/python3.7/site-packages/ipykernel_launcher.py:136: RuntimeWarning: More than 20 figures have been opened. Figures created through the pyplot interface (`matplotlib.pyplot.figure`) are retained until explicitly closed and may consume too much memory. (To control this warning, see the rcParam `figure.max_open_warning`).\n"
     ]
    },
    {
     "name": "stdout",
     "output_type": "stream",
     "text": [
      "#############################################################################\n",
      "##\t[25/35]\tmodel=RL_CNN,\tSEED=0,\ttrade=60,\trisk=56\thold=0.1\t##\n",
      "#############################################################################\n",
      "episode: 1/200, loss: 0.1706, duration: 0:00:00.404420\n",
      "episode: 11/200, loss: 0.0289, duration: 0:00:00.376782\n",
      "episode: 21/200, loss: 0.2345, duration: 0:00:00.374267\n",
      "episode: 31/200, loss: 0.1574, duration: 0:00:00.367001\n",
      "episode: 41/200, loss: 0.0966, duration: 0:00:00.362038\n",
      "episode: 51/200, loss: 0.0187, duration: 0:00:00.364410\n",
      "episode: 61/200, loss: 0.0353, duration: 0:00:00.371831\n",
      "episode: 71/200, loss: 0.0587, duration: 0:00:00.365172\n",
      "episode: 81/200, loss: 0.1042, duration: 0:00:00.363657\n",
      "episode: 91/200, loss: 0.0421, duration: 0:00:00.363952\n",
      "episode: 101/200, loss: 0.0267, duration: 0:00:00.365249\n",
      "episode: 111/200, loss: 0.0016, duration: 0:00:00.362726\n",
      "episode: 121/200, loss: 0.0023, duration: 0:00:00.366295\n",
      "episode: 131/200, loss: 0.0123, duration: 0:00:00.361348\n",
      "episode: 141/200, loss: 0.0057, duration: 0:00:00.361129\n",
      "episode: 151/200, loss: 0.0092, duration: 0:00:00.432638\n",
      "episode: 161/200, loss: 0.0106, duration: 0:00:00.358755\n",
      "episode: 171/200, loss: 0.0058, duration: 0:00:00.361212\n",
      "episode: 181/200, loss: -0.0045, duration: 0:00:00.360878\n",
      "episode: 191/200, loss: 0.0046, duration: 0:00:00.367325\n"
     ]
    },
    {
     "name": "stderr",
     "output_type": "stream",
     "text": [
      "/usr/local/lib/python3.7/site-packages/ipykernel_launcher.py:136: RuntimeWarning: More than 20 figures have been opened. Figures created through the pyplot interface (`matplotlib.pyplot.figure`) are retained until explicitly closed and may consume too much memory. (To control this warning, see the rcParam `figure.max_open_warning`).\n"
     ]
    },
    {
     "name": "stdout",
     "output_type": "stream",
     "text": [
      "#############################################################################\n",
      "##\t[26/35]\tmodel=RL_CNN,\tSEED=0,\ttrade=60,\trisk=100\thold=0.1\t##\n",
      "#############################################################################\n",
      "episode: 1/200, loss: 0.2552, duration: 0:00:00.420990\n",
      "episode: 11/200, loss: 0.0508, duration: 0:00:00.359595\n",
      "episode: 21/200, loss: 0.3208, duration: 0:00:00.368344\n",
      "episode: 31/200, loss: 0.2476, duration: 0:00:00.371747\n",
      "episode: 41/200, loss: 0.1372, duration: 0:00:00.380771\n",
      "episode: 51/200, loss: 0.0381, duration: 0:00:00.374024\n",
      "episode: 61/200, loss: 0.0492, duration: 0:00:00.366485\n",
      "episode: 71/200, loss: 0.0604, duration: 0:00:00.367086\n",
      "episode: 81/200, loss: 0.0913, duration: 0:00:00.371990\n",
      "episode: 91/200, loss: 0.0458, duration: 0:00:00.362982\n",
      "episode: 101/200, loss: 0.0250, duration: 0:00:00.421463\n",
      "episode: 111/200, loss: 0.0011, duration: 0:00:00.368901\n",
      "episode: 121/200, loss: 0.0019, duration: 0:00:00.369830\n",
      "episode: 131/200, loss: 0.0104, duration: 0:00:00.359636\n",
      "episode: 141/200, loss: 0.0049, duration: 0:00:00.359180\n",
      "episode: 151/200, loss: 0.0082, duration: 0:00:00.364244\n",
      "episode: 161/200, loss: 0.0095, duration: 0:00:00.365964\n",
      "episode: 171/200, loss: 0.0056, duration: 0:00:00.358657\n",
      "episode: 181/200, loss: -0.0037, duration: 0:00:00.375926\n",
      "episode: 191/200, loss: 0.0039, duration: 0:00:00.363417\n"
     ]
    },
    {
     "name": "stderr",
     "output_type": "stream",
     "text": [
      "/usr/local/lib/python3.7/site-packages/ipykernel_launcher.py:136: RuntimeWarning: More than 20 figures have been opened. Figures created through the pyplot interface (`matplotlib.pyplot.figure`) are retained until explicitly closed and may consume too much memory. (To control this warning, see the rcParam `figure.max_open_warning`).\n"
     ]
    },
    {
     "name": "stdout",
     "output_type": "stream",
     "text": [
      "#############################################################################\n",
      "##\t[27/35]\tmodel=RL_CNN,\tSEED=0,\ttrade=60,\trisk=562\thold=0.1\t##\n",
      "#############################################################################\n",
      "episode: 1/200, loss: 1.1430, duration: 0:00:00.400045\n",
      "episode: 11/200, loss: 0.2884, duration: 0:00:00.424643\n",
      "episode: 21/200, loss: 1.2217, duration: 0:00:00.354634\n",
      "episode: 31/200, loss: 1.1665, duration: 0:00:00.369906\n",
      "episode: 41/200, loss: 0.5575, duration: 0:00:00.368150\n",
      "episode: 51/200, loss: 0.2526, duration: 0:00:00.357357\n",
      "episode: 61/200, loss: 0.2334, duration: 0:00:00.365019\n",
      "episode: 71/200, loss: 0.2168, duration: 0:00:00.367993\n",
      "episode: 81/200, loss: 0.2126, duration: 0:00:00.367422\n",
      "episode: 91/200, loss: 0.1450, duration: 0:00:00.374859\n",
      "episode: 101/200, loss: 0.0628, duration: 0:00:00.383059\n",
      "episode: 111/200, loss: 0.0147, duration: 0:00:00.369385\n",
      "episode: 121/200, loss: 0.0135, duration: 0:00:00.350456\n",
      "episode: 131/200, loss: 0.0144, duration: 0:00:00.420628\n",
      "episode: 141/200, loss: 0.0092, duration: 0:00:00.349467\n",
      "episode: 151/200, loss: 0.0157, duration: 0:00:00.379598\n",
      "episode: 161/200, loss: 0.0145, duration: 0:00:00.365568\n",
      "episode: 171/200, loss: 0.0107, duration: 0:00:00.371260\n",
      "episode: 181/200, loss: -0.0015, duration: 0:00:00.348482\n",
      "episode: 191/200, loss: 0.0049, duration: 0:00:00.375645\n"
     ]
    },
    {
     "name": "stderr",
     "output_type": "stream",
     "text": [
      "/usr/local/lib/python3.7/site-packages/ipykernel_launcher.py:136: RuntimeWarning: More than 20 figures have been opened. Figures created through the pyplot interface (`matplotlib.pyplot.figure`) are retained until explicitly closed and may consume too much memory. (To control this warning, see the rcParam `figure.max_open_warning`).\n"
     ]
    },
    {
     "name": "stdout",
     "output_type": "stream",
     "text": [
      "#############################################################################\n",
      "##\t[28/35]\tmodel=RL_CNN,\tSEED=0,\ttrade=60,\trisk=1000\thold=0.1\t##\n",
      "#############################################################################\n",
      "episode: 1/200, loss: 1.9846, duration: 0:00:00.395758\n",
      "episode: 11/200, loss: 0.5144, duration: 0:00:00.357727\n",
      "episode: 21/200, loss: 2.0745, duration: 0:00:00.370509\n",
      "episode: 31/200, loss: 2.0423, duration: 0:00:00.361855\n",
      "episode: 41/200, loss: 0.9586, duration: 0:00:00.365724\n",
      "episode: 51/200, loss: 0.4610, duration: 0:00:00.379563\n",
      "episode: 61/200, loss: 0.4136, duration: 0:00:00.362614\n",
      "episode: 71/200, loss: 0.3740, duration: 0:00:00.361203\n",
      "episode: 81/200, loss: 0.3458, duration: 0:00:00.371148\n",
      "episode: 91/200, loss: 0.2455, duration: 0:00:00.362822\n",
      "episode: 101/200, loss: 0.1021, duration: 0:00:00.366837\n",
      "episode: 111/200, loss: 0.0273, duration: 0:00:00.362075\n",
      "episode: 121/200, loss: 0.0233, duration: 0:00:00.373644\n",
      "episode: 131/200, loss: 0.0191, duration: 0:00:00.365480\n",
      "episode: 141/200, loss: 0.0139, duration: 0:00:00.372280\n",
      "episode: 151/200, loss: 0.0233, duration: 0:00:00.357474\n",
      "episode: 161/200, loss: 0.0207, duration: 0:00:00.369406\n",
      "episode: 171/200, loss: 0.0168, duration: 0:00:00.370309\n",
      "episode: 181/200, loss: -0.0001, duration: 0:00:00.374141\n",
      "episode: 191/200, loss: 0.0068, duration: 0:00:00.356429\n"
     ]
    },
    {
     "name": "stderr",
     "output_type": "stream",
     "text": [
      "/usr/local/lib/python3.7/site-packages/ipykernel_launcher.py:136: RuntimeWarning: More than 20 figures have been opened. Figures created through the pyplot interface (`matplotlib.pyplot.figure`) are retained until explicitly closed and may consume too much memory. (To control this warning, see the rcParam `figure.max_open_warning`).\n"
     ]
    },
    {
     "name": "stdout",
     "output_type": "stream",
     "text": [
      "#############################################################################\n",
      "##\t[29/35]\tmodel=RL_CNN,\tSEED=0,\ttrade=100,\trisk=0.1\thold=0.1\t##\n",
      "#############################################################################\n",
      "episode: 1/200, loss: 0.1019, duration: 0:00:00.395527\n",
      "episode: 11/200, loss: 0.0061, duration: 0:00:00.365173\n",
      "episode: 21/200, loss: 0.1604, duration: 0:00:00.371357\n",
      "episode: 31/200, loss: 0.0118, duration: 0:00:00.358710\n",
      "episode: 41/200, loss: 0.0295, duration: 0:00:00.369968\n",
      "episode: 51/200, loss: -0.0350, duration: 0:00:00.360439\n",
      "episode: 61/200, loss: 0.0039, duration: 0:00:00.361621\n",
      "episode: 71/200, loss: 0.0198, duration: 0:00:00.366217\n",
      "episode: 81/200, loss: 0.1016, duration: 0:00:00.366179\n",
      "episode: 91/200, loss: -0.0055, duration: 0:00:00.364500\n",
      "episode: 101/200, loss: -0.0141, duration: 0:00:00.365927\n",
      "episode: 111/200, loss: -0.0413, duration: 0:00:00.362171\n",
      "episode: 121/200, loss: -0.0476, duration: 0:00:00.364086\n",
      "episode: 131/200, loss: 0.0197, duration: 0:00:00.376305\n",
      "episode: 141/200, loss: 0.0165, duration: 0:00:00.367845\n",
      "episode: 151/200, loss: 0.0262, duration: 0:00:00.364953\n",
      "episode: 161/200, loss: 0.1157, duration: 0:00:00.366338\n",
      "episode: 171/200, loss: 0.0549, duration: 0:00:00.369008\n",
      "episode: 181/200, loss: -0.0634, duration: 0:00:00.362205\n",
      "episode: 191/200, loss: 0.0691, duration: 0:00:00.359477\n"
     ]
    },
    {
     "name": "stderr",
     "output_type": "stream",
     "text": [
      "/usr/local/lib/python3.7/site-packages/ipykernel_launcher.py:136: RuntimeWarning: More than 20 figures have been opened. Figures created through the pyplot interface (`matplotlib.pyplot.figure`) are retained until explicitly closed and may consume too much memory. (To control this warning, see the rcParam `figure.max_open_warning`).\n"
     ]
    },
    {
     "name": "stdout",
     "output_type": "stream",
     "text": [
      "#############################################################################\n",
      "##\t[30/35]\tmodel=RL_CNN,\tSEED=0,\ttrade=100,\trisk=1\thold=0.1\t##\n",
      "#############################################################################\n",
      "episode: 1/200, loss: 0.1036, duration: 0:00:00.403840\n",
      "episode: 11/200, loss: 0.0065, duration: 0:00:00.366562\n",
      "episode: 21/200, loss: 0.1634, duration: 0:00:00.372468\n",
      "episode: 31/200, loss: 0.0161, duration: 0:00:00.369148\n",
      "episode: 41/200, loss: 0.0329, duration: 0:00:00.388002\n",
      "episode: 51/200, loss: -0.0326, duration: 0:00:00.375502\n",
      "episode: 61/200, loss: 0.0048, duration: 0:00:00.372918\n",
      "episode: 71/200, loss: 0.0202, duration: 0:00:00.371044\n",
      "episode: 81/200, loss: 0.1044, duration: 0:00:00.363410\n",
      "episode: 91/200, loss: -0.0037, duration: 0:00:00.368599\n",
      "episode: 101/200, loss: -0.0124, duration: 0:00:00.364755\n",
      "episode: 111/200, loss: -0.0393, duration: 0:00:00.360076\n",
      "episode: 121/200, loss: -0.0414, duration: 0:00:00.379045\n",
      "episode: 131/200, loss: 0.0163, duration: 0:00:00.351272\n",
      "episode: 141/200, loss: 0.0146, duration: 0:00:00.428748\n",
      "episode: 151/200, loss: 0.0224, duration: 0:00:00.365639\n",
      "episode: 161/200, loss: 0.1113, duration: 0:00:00.361738\n",
      "episode: 171/200, loss: 0.0510, duration: 0:00:00.361233\n",
      "episode: 181/200, loss: -0.0571, duration: 0:00:00.369138\n",
      "episode: 191/200, loss: 0.0589, duration: 0:00:00.365055\n"
     ]
    },
    {
     "name": "stderr",
     "output_type": "stream",
     "text": [
      "/usr/local/lib/python3.7/site-packages/ipykernel_launcher.py:136: RuntimeWarning: More than 20 figures have been opened. Figures created through the pyplot interface (`matplotlib.pyplot.figure`) are retained until explicitly closed and may consume too much memory. (To control this warning, see the rcParam `figure.max_open_warning`).\n"
     ]
    },
    {
     "name": "stdout",
     "output_type": "stream",
     "text": [
      "#############################################################################\n",
      "##\t[31/35]\tmodel=RL_CNN,\tSEED=0,\ttrade=100,\trisk=18\thold=0.1\t##\n",
      "#############################################################################\n",
      "episode: 1/200, loss: 0.1363, duration: 0:00:00.401425\n",
      "episode: 11/200, loss: 0.0166, duration: 0:00:00.362436\n",
      "episode: 21/200, loss: 0.2140, duration: 0:00:00.363696\n",
      "episode: 31/200, loss: 0.0775, duration: 0:00:00.365444\n",
      "episode: 41/200, loss: 0.0668, duration: 0:00:00.370028\n",
      "episode: 51/200, loss: -0.0016, duration: 0:00:00.359165\n",
      "episode: 61/200, loss: 0.0236, duration: 0:00:00.364490\n",
      "episode: 71/200, loss: 0.0523, duration: 0:00:00.361689\n",
      "episode: 81/200, loss: 0.1613, duration: 0:00:00.361755\n",
      "episode: 91/200, loss: 0.0336, duration: 0:00:00.365261\n",
      "episode: 101/200, loss: 0.0301, duration: 0:00:00.365399\n",
      "episode: 111/200, loss: -0.0025, duration: 0:00:00.363839\n",
      "episode: 121/200, loss: -0.0035, duration: 0:00:00.364900\n",
      "episode: 131/200, loss: 0.0333, duration: 0:00:00.359914\n",
      "episode: 141/200, loss: 0.0496, duration: 0:00:00.370222\n",
      "episode: 151/200, loss: 0.0454, duration: 0:00:00.372850\n",
      "episode: 161/200, loss: 0.1738, duration: 0:00:00.370804\n",
      "episode: 171/200, loss: 0.1040, duration: 0:00:00.351512\n",
      "episode: 181/200, loss: -0.0249, duration: 0:00:00.370609\n",
      "episode: 191/200, loss: 0.0632, duration: 0:00:00.363697\n"
     ]
    },
    {
     "name": "stderr",
     "output_type": "stream",
     "text": [
      "/usr/local/lib/python3.7/site-packages/ipykernel_launcher.py:136: RuntimeWarning: More than 20 figures have been opened. Figures created through the pyplot interface (`matplotlib.pyplot.figure`) are retained until explicitly closed and may consume too much memory. (To control this warning, see the rcParam `figure.max_open_warning`).\n"
     ]
    },
    {
     "name": "stdout",
     "output_type": "stream",
     "text": [
      "#############################################################################\n",
      "##\t[32/35]\tmodel=RL_CNN,\tSEED=0,\ttrade=100,\trisk=56\thold=0.1\t##\n",
      "#############################################################################\n",
      "episode: 1/200, loss: 0.2093, duration: 0:00:00.408983\n",
      "episode: 11/200, loss: 0.0422, duration: 0:00:00.368127\n",
      "episode: 21/200, loss: 0.2928, duration: 0:00:00.415700\n",
      "episode: 31/200, loss: 0.1808, duration: 0:00:00.363146\n",
      "episode: 41/200, loss: 0.1160, duration: 0:00:00.364629\n",
      "episode: 51/200, loss: 0.0328, duration: 0:00:00.372863\n",
      "episode: 61/200, loss: 0.0531, duration: 0:00:00.364221\n",
      "episode: 71/200, loss: 0.0869, duration: 0:00:00.360698\n",
      "episode: 81/200, loss: 0.1981, duration: 0:00:00.367780\n",
      "episode: 91/200, loss: 0.0665, duration: 0:00:00.364646\n",
      "episode: 101/200, loss: 0.0537, duration: 0:00:00.365723\n",
      "episode: 111/200, loss: 0.0149, duration: 0:00:00.372768\n",
      "episode: 121/200, loss: 0.0160, duration: 0:00:00.371545\n",
      "episode: 131/200, loss: 0.0288, duration: 0:00:00.370556\n",
      "episode: 141/200, loss: 0.0181, duration: 0:00:00.360268\n",
      "episode: 151/200, loss: 0.0198, duration: 0:00:00.373963\n",
      "episode: 161/200, loss: 0.0269, duration: 0:00:00.370750\n",
      "episode: 171/200, loss: 0.0151, duration: 0:00:00.371242\n",
      "episode: 181/200, loss: -0.0040, duration: 0:00:00.373565\n",
      "episode: 191/200, loss: 0.0080, duration: 0:00:00.369519\n"
     ]
    },
    {
     "name": "stderr",
     "output_type": "stream",
     "text": [
      "/usr/local/lib/python3.7/site-packages/ipykernel_launcher.py:136: RuntimeWarning: More than 20 figures have been opened. Figures created through the pyplot interface (`matplotlib.pyplot.figure`) are retained until explicitly closed and may consume too much memory. (To control this warning, see the rcParam `figure.max_open_warning`).\n"
     ]
    },
    {
     "name": "stdout",
     "output_type": "stream",
     "text": [
      "#############################################################################\n",
      "##\t[33/35]\tmodel=RL_CNN,\tSEED=0,\ttrade=100,\trisk=100\thold=0.1\t##\n",
      "#############################################################################\n",
      "episode: 1/200, loss: 0.2939, duration: 0:00:00.417641\n",
      "episode: 11/200, loss: 0.0647, duration: 0:00:00.358809\n",
      "episode: 21/200, loss: 0.3847, duration: 0:00:00.370892\n",
      "episode: 31/200, loss: 0.3004, duration: 0:00:00.374141\n",
      "episode: 41/200, loss: 0.1631, duration: 0:00:00.360417\n",
      "episode: 51/200, loss: 0.0633, duration: 0:00:00.359736\n",
      "episode: 61/200, loss: 0.0709, duration: 0:00:00.361575\n",
      "episode: 71/200, loss: 0.0943, duration: 0:00:00.367425\n",
      "episode: 81/200, loss: 0.1725, duration: 0:00:00.352501\n",
      "episode: 91/200, loss: 0.0735, duration: 0:00:00.380431\n",
      "episode: 101/200, loss: 0.0462, duration: 0:00:00.364754\n",
      "episode: 111/200, loss: 0.0113, duration: 0:00:00.356267\n",
      "episode: 121/200, loss: 0.0114, duration: 0:00:00.370318\n",
      "episode: 131/200, loss: 0.0186, duration: 0:00:00.363010\n",
      "episode: 141/200, loss: 0.0088, duration: 0:00:00.426723\n",
      "episode: 151/200, loss: 0.0113, duration: 0:00:00.362504\n",
      "episode: 161/200, loss: 0.0118, duration: 0:00:00.375025\n",
      "episode: 171/200, loss: 0.0075, duration: 0:00:00.373474\n",
      "episode: 181/200, loss: -0.0025, duration: 0:00:00.369533\n",
      "episode: 191/200, loss: 0.0049, duration: 0:00:00.360677\n"
     ]
    },
    {
     "name": "stderr",
     "output_type": "stream",
     "text": [
      "/usr/local/lib/python3.7/site-packages/ipykernel_launcher.py:136: RuntimeWarning: More than 20 figures have been opened. Figures created through the pyplot interface (`matplotlib.pyplot.figure`) are retained until explicitly closed and may consume too much memory. (To control this warning, see the rcParam `figure.max_open_warning`).\n"
     ]
    },
    {
     "name": "stdout",
     "output_type": "stream",
     "text": [
      "#############################################################################\n",
      "##\t[34/35]\tmodel=RL_CNN,\tSEED=0,\ttrade=100,\trisk=562\thold=0.1\t##\n",
      "#############################################################################\n",
      "episode: 1/200, loss: 1.1817, duration: 0:00:00.412405\n",
      "episode: 11/200, loss: 0.3050, duration: 0:00:00.368587\n",
      "episode: 21/200, loss: 1.2939, duration: 0:00:00.369926\n",
      "episode: 31/200, loss: 1.2262, duration: 0:00:00.363315\n",
      "episode: 41/200, loss: 0.5839, duration: 0:00:00.363036\n",
      "episode: 51/200, loss: 0.2818, duration: 0:00:00.365978\n",
      "episode: 61/200, loss: 0.2535, duration: 0:00:00.377659\n",
      "episode: 71/200, loss: 0.2455, duration: 0:00:00.369049\n",
      "episode: 81/200, loss: 0.2563, duration: 0:00:00.367201\n",
      "episode: 91/200, loss: 0.1652, duration: 0:00:00.428198\n",
      "episode: 101/200, loss: 0.0742, duration: 0:00:00.364104\n",
      "episode: 111/200, loss: 0.0196, duration: 0:00:00.358415\n",
      "episode: 121/200, loss: 0.0177, duration: 0:00:00.365595\n",
      "episode: 131/200, loss: 0.0183, duration: 0:00:00.365116\n",
      "episode: 141/200, loss: 0.0114, duration: 0:00:00.363413\n",
      "episode: 151/200, loss: 0.0173, duration: 0:00:00.373128\n",
      "episode: 161/200, loss: 0.0168, duration: 0:00:00.373509\n",
      "episode: 171/200, loss: 0.0129, duration: 0:00:00.373002\n",
      "episode: 181/200, loss: -0.0004, duration: 0:00:00.360474\n",
      "episode: 191/200, loss: 0.0061, duration: 0:00:00.369886\n"
     ]
    },
    {
     "name": "stderr",
     "output_type": "stream",
     "text": [
      "/usr/local/lib/python3.7/site-packages/ipykernel_launcher.py:136: RuntimeWarning: More than 20 figures have been opened. Figures created through the pyplot interface (`matplotlib.pyplot.figure`) are retained until explicitly closed and may consume too much memory. (To control this warning, see the rcParam `figure.max_open_warning`).\n"
     ]
    },
    {
     "name": "stdout",
     "output_type": "stream",
     "text": [
      "#############################################################################\n",
      "##\t[35/35]\tmodel=RL_CNN,\tSEED=0,\ttrade=100,\trisk=1000\thold=0.1\t##\n",
      "#############################################################################\n",
      "episode: 1/200, loss: 2.0233, duration: 0:00:00.404063\n",
      "episode: 11/200, loss: 0.5309, duration: 0:00:00.368562\n",
      "episode: 21/200, loss: 2.1454, duration: 0:00:00.425803\n",
      "episode: 31/200, loss: 2.1017, duration: 0:00:00.370481\n",
      "episode: 41/200, loss: 0.9834, duration: 0:00:00.363858\n",
      "episode: 51/200, loss: 0.4889, duration: 0:00:00.359139\n",
      "episode: 61/200, loss: 0.4334, duration: 0:00:00.360566\n",
      "episode: 71/200, loss: 0.3987, duration: 0:00:00.361507\n",
      "episode: 81/200, loss: 0.3827, duration: 0:00:00.363682\n",
      "episode: 91/200, loss: 0.2637, duration: 0:00:00.370472\n",
      "episode: 101/200, loss: 0.1130, duration: 0:00:00.366158\n",
      "episode: 111/200, loss: 0.0322, duration: 0:00:00.370070\n",
      "episode: 121/200, loss: 0.0278, duration: 0:00:00.358033\n",
      "episode: 131/200, loss: 0.0232, duration: 0:00:00.365113\n",
      "episode: 141/200, loss: 0.0163, duration: 0:00:00.359987\n",
      "episode: 151/200, loss: 0.0253, duration: 0:00:00.363428\n",
      "episode: 161/200, loss: 0.0233, duration: 0:00:00.369040\n",
      "episode: 171/200, loss: 0.0192, duration: 0:00:00.373705\n",
      "episode: 181/200, loss: 0.0011, duration: 0:00:00.381081\n",
      "episode: 191/200, loss: 0.0081, duration: 0:00:00.368790\n"
     ]
    },
    {
     "name": "stderr",
     "output_type": "stream",
     "text": [
      "/usr/local/lib/python3.7/site-packages/ipykernel_launcher.py:136: RuntimeWarning: More than 20 figures have been opened. Figures created through the pyplot interface (`matplotlib.pyplot.figure`) are retained until explicitly closed and may consume too much memory. (To control this warning, see the rcParam `figure.max_open_warning`).\n"
     ]
    },
    {
     "name": "stdout",
     "output_type": "stream",
     "text": [
      "CPU times: user 46min 15s, sys: 17 s, total: 46min 32s\n",
      "Wall time: 46min\n"
     ]
    },
    {
     "data": {
      "text/plain": [
       "<Figure size 1400x500 with 0 Axes>"
      ]
     },
     "metadata": {},
     "output_type": "display_data"
    },
    {
     "data": {
      "text/plain": [
       "<Figure size 1400x500 with 0 Axes>"
      ]
     },
     "metadata": {},
     "output_type": "display_data"
    },
    {
     "data": {
      "text/plain": [
       "<Figure size 1400x500 with 0 Axes>"
      ]
     },
     "metadata": {},
     "output_type": "display_data"
    },
    {
     "data": {
      "text/plain": [
       "<Figure size 1400x500 with 0 Axes>"
      ]
     },
     "metadata": {},
     "output_type": "display_data"
    },
    {
     "data": {
      "text/plain": [
       "<Figure size 1400x500 with 0 Axes>"
      ]
     },
     "metadata": {},
     "output_type": "display_data"
    },
    {
     "data": {
      "text/plain": [
       "<Figure size 1400x500 with 0 Axes>"
      ]
     },
     "metadata": {},
     "output_type": "display_data"
    },
    {
     "data": {
      "text/plain": [
       "<Figure size 1400x500 with 0 Axes>"
      ]
     },
     "metadata": {},
     "output_type": "display_data"
    },
    {
     "data": {
      "text/plain": [
       "<Figure size 1400x500 with 0 Axes>"
      ]
     },
     "metadata": {},
     "output_type": "display_data"
    },
    {
     "data": {
      "text/plain": [
       "<Figure size 1400x500 with 0 Axes>"
      ]
     },
     "metadata": {},
     "output_type": "display_data"
    },
    {
     "data": {
      "text/plain": [
       "<Figure size 1400x500 with 0 Axes>"
      ]
     },
     "metadata": {},
     "output_type": "display_data"
    },
    {
     "data": {
      "text/plain": [
       "<Figure size 1400x500 with 0 Axes>"
      ]
     },
     "metadata": {},
     "output_type": "display_data"
    },
    {
     "data": {
      "text/plain": [
       "<Figure size 1400x500 with 0 Axes>"
      ]
     },
     "metadata": {},
     "output_type": "display_data"
    },
    {
     "data": {
      "text/plain": [
       "<Figure size 1400x500 with 0 Axes>"
      ]
     },
     "metadata": {},
     "output_type": "display_data"
    },
    {
     "data": {
      "text/plain": [
       "<Figure size 1400x500 with 0 Axes>"
      ]
     },
     "metadata": {},
     "output_type": "display_data"
    },
    {
     "data": {
      "text/plain": [
       "<Figure size 1400x500 with 0 Axes>"
      ]
     },
     "metadata": {},
     "output_type": "display_data"
    },
    {
     "data": {
      "text/plain": [
       "<Figure size 1400x500 with 0 Axes>"
      ]
     },
     "metadata": {},
     "output_type": "display_data"
    },
    {
     "data": {
      "text/plain": [
       "<Figure size 1400x500 with 0 Axes>"
      ]
     },
     "metadata": {},
     "output_type": "display_data"
    },
    {
     "data": {
      "text/plain": [
       "<Figure size 1400x500 with 0 Axes>"
      ]
     },
     "metadata": {},
     "output_type": "display_data"
    },
    {
     "data": {
      "text/plain": [
       "<Figure size 1400x500 with 0 Axes>"
      ]
     },
     "metadata": {},
     "output_type": "display_data"
    },
    {
     "data": {
      "text/plain": [
       "<Figure size 1400x500 with 0 Axes>"
      ]
     },
     "metadata": {},
     "output_type": "display_data"
    },
    {
     "data": {
      "text/plain": [
       "<Figure size 1400x500 with 0 Axes>"
      ]
     },
     "metadata": {},
     "output_type": "display_data"
    },
    {
     "data": {
      "text/plain": [
       "<Figure size 1400x500 with 0 Axes>"
      ]
     },
     "metadata": {},
     "output_type": "display_data"
    },
    {
     "data": {
      "text/plain": [
       "<Figure size 1400x500 with 0 Axes>"
      ]
     },
     "metadata": {},
     "output_type": "display_data"
    },
    {
     "data": {
      "text/plain": [
       "<Figure size 1400x500 with 0 Axes>"
      ]
     },
     "metadata": {},
     "output_type": "display_data"
    },
    {
     "data": {
      "text/plain": [
       "<Figure size 1400x500 with 0 Axes>"
      ]
     },
     "metadata": {},
     "output_type": "display_data"
    },
    {
     "data": {
      "text/plain": [
       "<Figure size 1400x500 with 0 Axes>"
      ]
     },
     "metadata": {},
     "output_type": "display_data"
    },
    {
     "data": {
      "text/plain": [
       "<Figure size 1400x500 with 0 Axes>"
      ]
     },
     "metadata": {},
     "output_type": "display_data"
    },
    {
     "data": {
      "text/plain": [
       "<Figure size 1400x500 with 0 Axes>"
      ]
     },
     "metadata": {},
     "output_type": "display_data"
    },
    {
     "data": {
      "text/plain": [
       "<Figure size 1400x500 with 0 Axes>"
      ]
     },
     "metadata": {},
     "output_type": "display_data"
    },
    {
     "data": {
      "text/plain": [
       "<Figure size 1400x500 with 0 Axes>"
      ]
     },
     "metadata": {},
     "output_type": "display_data"
    },
    {
     "data": {
      "text/plain": [
       "<Figure size 1400x500 with 0 Axes>"
      ]
     },
     "metadata": {},
     "output_type": "display_data"
    },
    {
     "data": {
      "text/plain": [
       "<Figure size 1400x500 with 0 Axes>"
      ]
     },
     "metadata": {},
     "output_type": "display_data"
    },
    {
     "data": {
      "text/plain": [
       "<Figure size 1400x500 with 0 Axes>"
      ]
     },
     "metadata": {},
     "output_type": "display_data"
    },
    {
     "data": {
      "text/plain": [
       "<Figure size 1400x500 with 0 Axes>"
      ]
     },
     "metadata": {},
     "output_type": "display_data"
    },
    {
     "data": {
      "text/plain": [
       "<Figure size 1400x500 with 0 Axes>"
      ]
     },
     "metadata": {},
     "output_type": "display_data"
    }
   ],
   "source": [
    "%%time\n",
    "##########################\n",
    "### main training loop ###\n",
    "##########################\n",
    "\n",
    "# define investor preferences to train for\n",
    "#------ extended-boyd-sweep ------#\n",
    "#GAMMA_TRADES = [5.5, 6, 6.5, 7, 7.5, 8, 9, 10, 11, 12, 15, 20, 30]\n",
    "#GAMMA_TRADES = [4, 5]\n",
    "#GAMMA_TRADES = [0.1, 0.5, 1, 2, 3, 45, 60, 100, 200]\n",
    "#GAMMA_RISKS = [0.1, 0.178, 0.316, 0.562, 1, 2, 3, 6, 10, 18, 32, 56, 100, 178, 316, 562, 1000, 2000, 5000, 10000, 20000]\n",
    "#---------------------------------#\n",
    "counter = 0\n",
    "\n",
    "for RANDOM_SEED in SEED_LIST:\n",
    "    model_name = f'{MODEL_BASE_NAME}_seed_{RANDOM_SEED}'\n",
    "    maybe_make_dir(f'../experiments/{MARKET_NAME}/seeded/{MODEL_BASE_NAME}/seed_{RANDOM_SEED}')\n",
    "    \n",
    "    for (GAMMA_TRADE, GAMMA_RISK) in GAMMA_PAIRS:\n",
    "        # set random generator seed for tf and np\n",
    "        # this is probably unnecessary because it is done when env is initialised but just incase\n",
    "        tf.random.set_seed(RANDOM_SEED)\n",
    "        np.random.seed(RANDOM_SEED)\n",
    "        counter += 1\n",
    "\n",
    "        # check if test lready done. skip if so\n",
    "        #if not FROM_PRETRAINED:\n",
    "            #skip = os.path.exists(f'experiments/12_assets/00_seeded/seed_{RANDOM_SEED}/trade_{GAMMA_TRADE}_risk_{GAMMA_RISK}') # check if already exists\n",
    "        #else:\n",
    "        \n",
    "        skip = os.path.exists(f'../experiments/{MARKET_NAME}/seeded/{MODEL_BASE_NAME}/seed_{RANDOM_SEED}/trade_{GAMMA_TRADE}_risk_{GAMMA_RISK}_hold_{GAMMA_HOLD}')\n",
    "\n",
    "        if not skip: # if not exists, do test\n",
    "\n",
    "            print('#############################################################################')\n",
    "            print(f'##\\t[{counter}/{len(GAMMA_PAIRS)}]\\tmodel={MODEL_BASE_NAME},\\tSEED={RANDOM_SEED},\\ttrade={GAMMA_TRADE},\\trisk={GAMMA_RISK}\\thold={GAMMA_HOLD}\\t##')\n",
    "            print('#############################################################################')        \n",
    "\n",
    "            # create agent and environment\n",
    "            env = MultiStockEnv(tickers=TICKERS, \n",
    "                                from_date=FROM,\n",
    "                                until=UNTIL, \n",
    "                                #nb_episodes=100,\n",
    "                                cash_key='USDOLLAR', \n",
    "                                gamma_risk=GAMMA_RISK, \n",
    "                                gamma_trade=GAMMA_TRADE,\n",
    "                                gamma_hold=GAMMA_HOLD,\n",
    "                                half_spread=HALF_SPREAD, \n",
    "                                nonlin_coef=NONLIN_COEFF, \n",
    "                                power=POWER, \n",
    "                                datadir=DATA_DIR, \n",
    "                                state_lookback_window=20, \n",
    "                                distribution=EPISODE_DRAW_DISTRIBUTION,\n",
    "                                days_duration=DAYS_IN_EPISODE, \n",
    "                                mode='train', \n",
    "                                random_seed=RANDOM_SEED,\n",
    "                                init_portfolio=INIT_PORTFOLIO, \n",
    "                                period_in_file_name=FILE_PERIOD, \n",
    "                                nb_forecasts=NB_FORECASTS, \n",
    "                                forecast_type=FORECAST_TYPE,\n",
    "                                use_CNN_state=USE_CNN_STATE,\n",
    "                                verbose=False)\n",
    "\n",
    "            agent = Agent(alpha=0.001, \n",
    "                          gamma=0.99, \n",
    "                          n_assets=len(TICKERS)+1, \n",
    "                          tau=5, \n",
    "                          lookback_window=20, \n",
    "                          n_feature_maps=len(TICKERS)+1,\n",
    "                          use_forecasts=USE_FORECASTS,\n",
    "                          use_CNN_state=USE_CNN_STATE,\n",
    "                          allow_long_short_trades=True)\n",
    "\n",
    "            # initialise policy by one forward pass then load pretrained weights\n",
    "            #if FROM_PRETRAINED: \n",
    "                #agent.choose_action(env._get_obs())\n",
    "                #agent.load(pretrined_weights_dir)\n",
    "\n",
    "            # configure folders\n",
    "            experiments_folder = f'../experiments/{MARKET_NAME}'\n",
    "            from_seeded_folder = f'{experiments_folder}/seeded'\n",
    "            base_model_folder = f'{from_seeded_folder}/{MODEL_BASE_NAME}'\n",
    "            seed_folder = f'{base_model_folder}/seed_{RANDOM_SEED}'\n",
    "            #if FROM_PRETRAINED:\n",
    "            #    pretrained_folder = f'{nb_assets_folder}/0_further_trained'\n",
    "            #    preference_folder = f'{pretrained_folder}/trade_{GAMMA_TRADE}_risk_{GAMMA_RISK}'\n",
    "            #else:\n",
    "            preference_folder = f'{seed_folder}/trade_{GAMMA_TRADE}_risk_{GAMMA_RISK}_hold_{GAMMA_HOLD}'\n",
    "            models_folder = f'{preference_folder}/models' # where saved models will be saved\n",
    "            losses_folder = f'{preference_folder}/losses' # where losses will be saved for plotting training progress\n",
    "            fig_folder = f'{preference_folder}/figures'\n",
    "\n",
    "            # create dirictories for saving outputs to (if they don't exist already)\n",
    "            #maybe_make_dir(nb_assets_folder)\n",
    "            maybe_make_dir(seed_folder)\n",
    "            maybe_make_dir(preference_folder)\n",
    "            maybe_make_dir(models_folder)\n",
    "            maybe_make_dir(losses_folder)\n",
    "            maybe_make_dir(fig_folder)\n",
    "\n",
    "            if MODE == 'train':\n",
    "                # play the game num_episodes times and update weights according to loss\n",
    "                losses = []\n",
    "                for e in range(NB_EPISODES):\n",
    "\n",
    "                    # save model weights every few episodes\n",
    "                    if (e%SAVE_EVERY == 0) and (e!=0):\n",
    "                        agent.save(f'{models_folder}/{model_name}_{e}')\n",
    "                        # save losses of training period\n",
    "                        np.save(f'{losses_folder}/{model_name}_{MODE}_{e}_losses.npy', np.array(losses))\n",
    "\n",
    "                    t0 = datetime.datetime.now()\n",
    "                    try:\n",
    "                        loss = play_one_episode(agent, env, MODE)\n",
    "                    except Exception as err:\n",
    "                        print(f'\\t*** error in episode {e}:', err)\n",
    "                        loss = np.nan#5.0 # just an arbitraty number that seems high compared to usual losses\n",
    "                    dt = datetime.datetime.now() - t0\n",
    "                    losses.append(loss) # append episode loss\n",
    "                    # print progress\n",
    "                    if (e%10 == 0):\n",
    "                        print(f\"episode: {e + 1}/{NB_EPISODES}, loss: {loss:.4f}, duration: {dt}\")\n",
    "\n",
    "\n",
    "                # save the weights and losses when done\t\n",
    "                agent.save(f'{models_folder}/{model_name}_{NB_EPISODES}')\n",
    "                np.save(f'{losses_folder}/{model_name}_{MODE}_{NB_EPISODES}_losses.npy', np.array(losses))\n",
    "\n",
    "            # plot losses\n",
    "            save_fig = True\n",
    "\n",
    "            # load losses file\n",
    "            file = f'{losses_folder}/{model_name}_{MODE}_{NB_EPISODES}_losses.npy'\n",
    "            loaded_losses = np.load(file)\n",
    "\n",
    "            # plot losses\n",
    "            plt.figure(figsize=(14,5))\n",
    "            plt.plot(loaded_losses)\n",
    "            plt.title(f'{model_name} Training Loss')\n",
    "            plt.xlabel('Episode Number')\n",
    "            plt.ylabel(r'Loss: $-G \\approx -\\mathbb{E}\\left[ \\sum_{k=0}^{T} \\gamma^k R_t \\right]$')\n",
    "            #plt.yscale('symlog')\n",
    "            if save_fig:\n",
    "                plt.savefig(f'{fig_folder}/{model_name}_losses.png', dpi=150, facecolor=None, edgecolor=None, bbox_inches='tight')\n",
    "            plt.clf()\n",
    "\n",
    "        else:\n",
    "            print(f'\\talready exists: trade_{GAMMA_TRADE}_risk_{GAMMA_RISK}_hold_{GAMMA_HOLD}')\n",
    "            print('\\tskip to next.')"
   ]
  },
  {
   "cell_type": "code",
   "execution_count": 6,
   "metadata": {},
   "outputs": [],
   "source": [
    "# double check the end of training\n",
    "#env.until"
   ]
  },
  {
   "cell_type": "code",
   "execution_count": 7,
   "metadata": {},
   "outputs": [
    {
     "name": "stdout",
     "output_type": "stream",
     "text": [
      "training done.\n"
     ]
    }
   ],
   "source": [
    "print('training done.')"
   ]
  },
  {
   "cell_type": "code",
   "execution_count": 8,
   "metadata": {},
   "outputs": [],
   "source": [
    "### Now repeat this for the different RL models.\n",
    "### remember to update the gamma-pairs, model base name, and model specs/setup in beginning of notebook!"
   ]
  }
 ],
 "metadata": {
  "interpreter": {
   "hash": "949777d72b0d2535278d3dc13498b2535136f6dfe0678499012e853ee9abcab1"
  },
  "kernelspec": {
   "display_name": "Python 3.7.6 64-bit",
   "language": "python",
   "name": "python3"
  },
  "language_info": {
   "codemirror_mode": {
    "name": "ipython",
    "version": 3
   },
   "file_extension": ".py",
   "mimetype": "text/x-python",
   "name": "python",
   "nbconvert_exporter": "python",
   "pygments_lexer": "ipython3",
   "version": "3.7.6"
  }
 },
 "nbformat": 4,
 "nbformat_minor": 4
}
