{
 "cells": [
  {
   "cell_type": "code",
   "execution_count": 1,
   "metadata": {},
   "outputs": [
    {
     "name": "stdout",
     "output_type": "stream",
     "text": [
      "CPU times: user 1.02 s, sys: 144 ms, total: 1.16 s\n",
      "Wall time: 1.43 s\n"
     ]
    }
   ],
   "source": [
    "%%time\n",
    "import numpy as np\n",
    "import pandas as pd\n",
    "import matplotlib.pyplot as plt\n",
    "import datetime\n",
    "import os\n",
    "from src.models.frontier import MultiStockEnv, Agent, play_one_episode, maybe_make_dir\n",
    "from src.config import market_tickers\n",
    "from src.config.model_config import model_parameters\n",
    "import tensorflow as tf"
   ]
  },
  {
   "cell_type": "code",
   "execution_count": 2,
   "metadata": {},
   "outputs": [
    {
     "name": "stdout",
     "output_type": "stream",
     "text": [
      "number of trios:  40\n"
     ]
    }
   ],
   "source": [
    "#------ small test-sweep ------#\n",
    "GAMMA_TRADES = [0.1, 1, 10, 100]\n",
    "GAMMA_RISKS = [0.1, 1, 10, 100, 1000]\n",
    "GAMMA_HOLDS = [0.1, 1]\n",
    "#------ extended-boyd-sweep ------#\n",
    "# GAMMA_TRADES =  [0.1, 0.5, 1, 2, 3, 4, 5, 5.5, 6, 6.5, 7, 7.5, 8, 9, 10, 11, 12, 15, 20, 30, 45, 60, 100, 200]\n",
    "# GAMMA_RISKS = [0.1, 0.178, 0.316, 0.562, 1, 2, 3, 6, 10, 18, 32, 56, 100, 178, 316, 562, 1000, 2000, 5000, 10000, 20000]\n",
    "#---------------------------------#\n",
    "\n",
    "GAMMA_TRIOS = []\n",
    "for tr in GAMMA_TRADES:\n",
    "    for ri in GAMMA_RISKS:\n",
    "        for hd in GAMMA_HOLDS:\n",
    "            GAMMA_TRIOS.append((tr, ri, hd))\n",
    "        \n",
    "#format: (gamma_trade, gamma_risk, gamma_hold)\n",
    "print('number of trios: ', len(GAMMA_TRIOS))\n",
    "#GAMMA_TRIOS"
   ]
  },
  {
   "cell_type": "code",
   "execution_count": 3,
   "metadata": {
    "tags": [
     "parameters"
    ]
   },
   "outputs": [],
   "source": [
    "# papermill parameters\n",
    "SEED_LIST = [\n",
    "             0,\n",
    "             #1111,\n",
    "             #2222, \n",
    "             #3333, \n",
    "             #4444, \n",
    "             #5555,\n",
    "             #6666,\n",
    "             #7777,\n",
    "             #8888,\n",
    "             #9999\n",
    "            ]\n",
    "\n",
    "#TICKERS = market_tickers.DOW_30_TICKER\n",
    "TICKERS = ['AAPL', 'AMD', 'CSCO', 'F', 'INTC']\n",
    "MARKET_NAME = 'TEST_5'\n",
    "MODEL_BASE_NAME = 'RL_CNN' # use either | 'RL_CNN' | 'RL_str_fcast' | 'RL_all_inp' |\n",
    "FROM = '2017-01-03' # start of training set\n",
    "UNTIL = '2019-01-01' # end of training set\n",
    "NB_EPISODES = 200 # number of episodes to train for\n",
    "SAVE_EVERY = 200 # (used 100 when not from tretrained) save model weights every time this amount of episodes pass"
   ]
  },
  {
   "cell_type": "code",
   "execution_count": 4,
   "metadata": {},
   "outputs": [],
   "source": [
    "# other constants and parameters\n",
    "TICKERS.sort()\n",
    "FILE_PERIOD = '1d' # weekly='5d', daily='1d'\n",
    "DAYS_IN_EPISODE = 30 # 365 for one-year long episodes (conditions checked at end of episode)\n",
    "EPISODE_DRAW_DISTRIBUTION = 'uniform' # 'uniform' or 'geometric'. select starting point of eposide according to this distribution when generated\n",
    "HALF_SPREAD = 0.0005/2.0 # 'a' in transaction cost function\n",
    "NONLIN_COEFF = 1.0 # 'b' transaction cost function\n",
    "POWER = 1.5 # power for change in poertfolio vector used in transaction cost\n",
    "#GAMMA_RISK, GAMMA_TRADE, GAMMA_HOLD = 18, 6.5, 0.0 # relative importance of risk, trading cost, and holding cost\n",
    "INIT_PORTFOLIO = 100000000.0 # initial portfolio value\n",
    "#model_name = f'REINFORCE_CNN' #_seeded_{UNTIL} # give model a name to distinguish saved files\n",
    "#NB_EPISODES = 300 #2000\n",
    "MODE = 'train' # train or test mode\n",
    "#FROM_PRETRAINED = False\n",
    "DATA_DIR = f'../data/{MARKET_NAME}/preprocessed_data/'\n",
    "\n",
    "# Tune and double-check these before every test:\n",
    "USE_FORECASTS = model_parameters[MODEL_BASE_NAME]['use_forecasts'] # whether to use forecasts as inputs to agent policy net or not\n",
    "NB_FORECASTS = model_parameters[MODEL_BASE_NAME]['nb_forecasts'] # number of forecasts to use in state. Set to None for no forecasts\n",
    "FORECAST_TYPE = model_parameters[MODEL_BASE_NAME]['forecast_type'] # use 'strong' or 'weak' forecasts (if no forecasts given, this does not matter)\n",
    "USE_CNN_STATE = model_parameters[MODEL_BASE_NAME]['use_cnn_state'] # whether to pass log-rets block for CNN part of policy net (set to false for forecast only)"
   ]
  },
  {
   "cell_type": "code",
   "execution_count": 5,
   "metadata": {
    "scrolled": true
   },
   "outputs": [
    {
     "name": "stdout",
     "output_type": "stream",
     "text": [
      "#############################################################################\n",
      "##\t[1/35]\tmodel=RL_CNN,\tSEED=0,\ttrade=0.1,\trisk=0.1\thold=0.1\t##\n",
      "#############################################################################\n",
      "episode: 1/200, loss: 0.0118, duration: 0:00:00.463857\n",
      "episode: 11/200, loss: -0.0350, duration: 0:00:00.413086\n",
      "episode: 21/200, loss: 0.0333, duration: 0:00:00.411152\n",
      "episode: 31/200, loss: -0.0616, duration: 0:00:00.419885\n",
      "episode: 41/200, loss: 0.0263, duration: 0:00:00.406845\n",
      "episode: 51/200, loss: -0.0601, duration: 0:00:00.445481\n",
      "episode: 61/200, loss: -0.0055, duration: 0:00:00.417842\n",
      "episode: 71/200, loss: 0.0244, duration: 0:00:00.414129\n",
      "episode: 81/200, loss: 0.0294, duration: 0:00:00.417419\n",
      "episode: 91/200, loss: -0.0692, duration: 0:00:00.418981\n",
      "episode: 101/200, loss: 0.0084, duration: 0:00:00.419074\n",
      "episode: 111/200, loss: 0.3968, duration: 0:00:00.431906\n",
      "episode: 121/200, loss: -0.7013, duration: 0:00:00.474263\n",
      "episode: 131/200, loss: 0.2777, duration: 0:00:00.413020\n",
      "episode: 141/200, loss: 1.1900, duration: 0:00:00.410986\n",
      "episode: 151/200, loss: -0.0620, duration: 0:00:00.427364\n",
      "episode: 161/200, loss: 0.0355, duration: 0:00:00.415063\n",
      "episode: 171/200, loss: 0.0547, duration: 0:00:00.466710\n",
      "episode: 181/200, loss: 0.0192, duration: 0:00:00.413633\n",
      "episode: 191/200, loss: -0.0298, duration: 0:00:00.408770\n",
      "#############################################################################\n",
      "##\t[2/35]\tmodel=RL_CNN,\tSEED=0,\ttrade=0.1,\trisk=1\thold=0.1\t##\n",
      "#############################################################################\n",
      "episode: 1/200, loss: 0.0156, duration: 0:00:00.455604\n",
      "episode: 11/200, loss: -0.0336, duration: 0:00:00.429279\n",
      "episode: 21/200, loss: 0.0366, duration: 0:00:00.408397\n",
      "episode: 31/200, loss: -0.0532, duration: 0:00:00.485992\n",
      "episode: 41/200, loss: 0.0273, duration: 0:00:00.416396\n",
      "episode: 51/200, loss: -0.0536, duration: 0:00:00.453139\n",
      "episode: 61/200, loss: -0.0043, duration: 0:00:00.412608\n",
      "episode: 71/200, loss: 0.0238, duration: 0:00:00.417744\n",
      "episode: 81/200, loss: 0.0354, duration: 0:00:00.405858\n",
      "episode: 91/200, loss: -0.0222, duration: 0:00:00.421301\n",
      "episode: 101/200, loss: -0.0301, duration: 0:00:00.412487\n",
      "episode: 111/200, loss: -0.0686, duration: 0:00:00.405938\n",
      "episode: 121/200, loss: -0.0452, duration: 0:00:00.464201\n",
      "episode: 131/200, loss: 0.0036, duration: 0:00:00.441511\n",
      "episode: 141/200, loss: -0.0119, duration: 0:00:00.397354\n",
      "episode: 151/200, loss: 0.0197, duration: 0:00:00.414690\n",
      "episode: 161/200, loss: 0.0795, duration: 0:00:00.485368\n",
      "episode: 171/200, loss: 0.0165, duration: 0:00:00.387886\n",
      "episode: 181/200, loss: -0.0745, duration: 0:00:00.371359\n",
      "episode: 191/200, loss: 0.0415, duration: 0:00:00.412986\n",
      "#############################################################################\n",
      "##\t[3/35]\tmodel=RL_CNN,\tSEED=0,\ttrade=0.1,\trisk=18\thold=0.1\t##\n",
      "#############################################################################\n",
      "episode: 1/200, loss: 0.0877, duration: 0:00:00.415922\n",
      "episode: 11/200, loss: -0.0207, duration: 0:00:00.377356\n",
      "episode: 21/200, loss: 0.0702, duration: 0:00:00.460885\n",
      "episode: 31/200, loss: 0.0074, duration: 0:00:00.376088\n",
      "episode: 41/200, loss: 0.0283, duration: 0:00:00.395331\n",
      "episode: 51/200, loss: -0.0248, duration: 0:00:00.386764\n",
      "episode: 61/200, loss: -0.0135, duration: 0:00:00.395701\n",
      "episode: 71/200, loss: 0.0151, duration: 0:00:00.399176\n",
      "episode: 81/200, loss: 0.0417, duration: 0:00:00.394424\n",
      "episode: 91/200, loss: 0.0196, duration: 0:00:00.366575\n",
      "episode: 101/200, loss: 0.0135, duration: 0:00:00.432163\n",
      "episode: 111/200, loss: -0.0186, duration: 0:00:00.408768\n",
      "episode: 121/200, loss: -0.0244, duration: 0:00:00.398807\n",
      "episode: 131/200, loss: 0.0158, duration: 0:00:00.369913\n",
      "episode: 141/200, loss: 0.0136, duration: 0:00:00.423864\n",
      "episode: 151/200, loss: 0.0261, duration: 0:00:00.385173\n",
      "episode: 161/200, loss: 0.0683, duration: 0:00:00.376838\n",
      "episode: 171/200, loss: 0.0392, duration: 0:00:00.364925\n",
      "episode: 181/200, loss: -0.0379, duration: 0:00:00.374648\n",
      "episode: 191/200, loss: 0.0346, duration: 0:00:00.379999\n",
      "#############################################################################\n",
      "##\t[4/35]\tmodel=RL_CNN,\tSEED=0,\ttrade=0.1,\trisk=56\thold=0.1\t##\n",
      "#############################################################################\n",
      "episode: 1/200, loss: 0.2489, duration: 0:00:00.419863\n",
      "episode: 11/200, loss: 0.0088, duration: 0:00:00.372591\n",
      "episode: 21/200, loss: 0.1530, duration: 0:00:00.368143\n",
      "episode: 31/200, loss: 0.0735, duration: 0:00:00.380025\n",
      "episode: 41/200, loss: 0.0458, duration: 0:00:00.371920\n",
      "episode: 51/200, loss: -0.0025, duration: 0:00:00.375466\n",
      "episode: 61/200, loss: 0.0004, duration: 0:00:00.370816\n",
      "episode: 71/200, loss: 0.0333, duration: 0:00:00.464053\n",
      "episode: 81/200, loss: 0.0810, duration: 0:00:00.397706\n",
      "episode: 91/200, loss: 0.0486, duration: 0:00:00.381948\n",
      "episode: 101/200, loss: 0.0394, duration: 0:00:00.435847\n",
      "episode: 111/200, loss: 0.0040, duration: 0:00:00.386473\n",
      "episode: 121/200, loss: 0.0029, duration: 0:00:00.382508\n",
      "episode: 131/200, loss: 0.0337, duration: 0:00:00.374112\n",
      "episode: 141/200, loss: 0.0500, duration: 0:00:00.378972\n",
      "episode: 151/200, loss: 0.0475, duration: 0:00:00.369551\n",
      "episode: 161/200, loss: 0.1624, duration: 0:00:00.370875\n",
      "episode: 171/200, loss: 0.1336, duration: 0:00:00.379734\n",
      "episode: 181/200, loss: -0.0236, duration: 0:00:00.377940\n",
      "episode: 191/200, loss: 0.0699, duration: 0:00:00.375312\n",
      "#############################################################################\n",
      "##\t[5/35]\tmodel=RL_CNN,\tSEED=0,\ttrade=0.1,\trisk=100\thold=0.1\t##\n",
      "#############################################################################\n",
      "episode: 1/200, loss: 0.4355, duration: 0:00:00.393944\n",
      "episode: 11/200, loss: 0.0439, duration: 0:00:00.391661\n",
      "episode: 21/200, loss: 0.2510, duration: 0:00:00.369465\n",
      "episode: 31/200, loss: 0.1476, duration: 0:00:00.384863\n",
      "episode: 41/200, loss: 0.0715, duration: 0:00:00.375608\n",
      "episode: 51/200, loss: 0.0233, duration: 0:00:00.384415\n",
      "episode: 61/200, loss: 0.0178, duration: 0:00:00.432326\n",
      "episode: 71/200, loss: 0.0572, duration: 0:00:00.377088\n",
      "episode: 81/200, loss: 0.1262, duration: 0:00:00.434889\n",
      "episode: 91/200, loss: 0.0773, duration: 0:00:00.373313\n",
      "episode: 101/200, loss: 0.0631, duration: 0:00:00.369067\n",
      "episode: 111/200, loss: 0.0210, duration: 0:00:00.365536\n",
      "episode: 121/200, loss: 0.0257, duration: 0:00:00.387241\n",
      "episode: 131/200, loss: 0.0505, duration: 0:00:00.379469\n",
      "episode: 141/200, loss: 0.0940, duration: 0:00:00.374255\n",
      "episode: 151/200, loss: 0.0750, duration: 0:00:00.363478\n",
      "episode: 161/200, loss: 0.2531, duration: 0:00:00.366824\n",
      "episode: 171/200, loss: 0.2261, duration: 0:00:00.370109\n",
      "episode: 181/200, loss: -0.0132, duration: 0:00:00.369626\n",
      "episode: 191/200, loss: 0.1115, duration: 0:00:00.374196\n",
      "#############################################################################\n",
      "##\t[6/35]\tmodel=RL_CNN,\tSEED=0,\ttrade=0.1,\trisk=562\thold=0.1\t##\n",
      "#############################################################################\n",
      "episode: 1/200, loss: 2.3949, duration: 0:00:00.414639\n",
      "episode: 11/200, loss: 0.4125, duration: 0:00:00.364106\n",
      "episode: 21/200, loss: 1.2821, duration: 0:00:00.373774\n",
      "episode: 31/200, loss: 0.9080, duration: 0:00:00.377663\n",
      "episode: 41/200, loss: 0.3424, duration: 0:00:00.369435\n",
      "episode: 51/200, loss: 0.2987, duration: 0:00:00.373374\n",
      "episode: 61/200, loss: 0.1984, duration: 0:00:00.376287\n",
      "episode: 71/200, loss: 0.3090, duration: 0:00:00.375074\n",
      "episode: 81/200, loss: 0.6019, duration: 0:00:00.434048\n",
      "episode: 91/200, loss: 0.3703, duration: 0:00:00.371543\n",
      "episode: 101/200, loss: 0.3051, duration: 0:00:00.364800\n",
      "episode: 111/200, loss: 0.1948, duration: 0:00:00.369428\n",
      "episode: 121/200, loss: 0.2587, duration: 0:00:00.367329\n",
      "episode: 131/200, loss: 0.2152, duration: 0:00:00.392074\n",
      "episode: 141/200, loss: 0.5577, duration: 0:00:00.374322\n",
      "episode: 151/200, loss: 0.3297, duration: 0:00:00.374534\n",
      "episode: 161/200, loss: 0.6915, duration: 0:00:00.369747\n",
      "episode: 171/200, loss: 0.7111, duration: 0:00:00.376387\n",
      "episode: 181/200, loss: 0.1033, duration: 0:00:00.442203\n",
      "episode: 191/200, loss: 0.4459, duration: 0:00:00.374691\n",
      "#############################################################################\n",
      "##\t[7/35]\tmodel=RL_CNN,\tSEED=0,\ttrade=0.1,\trisk=1000\thold=0.1\t##\n",
      "#############################################################################\n",
      "episode: 1/200, loss: 4.2525, duration: 0:00:00.459991\n",
      "episode: 11/200, loss: 0.7622, duration: 0:00:00.367982\n",
      "episode: 21/200, loss: 2.2617, duration: 0:00:00.382671\n",
      "episode: 31/200, loss: 1.6292, duration: 0:00:00.367107\n",
      "episode: 41/200, loss: 0.5987, duration: 0:00:00.376293\n",
      "episode: 51/200, loss: 0.5595, duration: 0:00:00.381081\n",
      "episode: 61/200, loss: 0.3695, duration: 0:00:00.371160\n",
      "episode: 71/200, loss: 0.5471, duration: 0:00:00.364235\n",
      "episode: 81/200, loss: 1.0552, duration: 0:00:00.373883\n",
      "episode: 91/200, loss: 0.6474, duration: 0:00:00.366854\n",
      "episode: 101/200, loss: 0.5355, duration: 0:00:00.365819\n",
      "episode: 111/200, loss: 0.3616, duration: 0:00:00.377369\n",
      "episode: 121/200, loss: 0.4849, duration: 0:00:00.374015\n",
      "episode: 131/200, loss: 0.3698, duration: 0:00:00.372981\n",
      "episode: 141/200, loss: 0.9972, duration: 0:00:00.375536\n",
      "episode: 151/200, loss: 0.5757, duration: 0:00:00.374339\n",
      "episode: 161/200, loss: 1.1919, duration: 0:00:00.368483\n",
      "episode: 171/200, loss: 1.2456, duration: 0:00:00.366532\n",
      "episode: 181/200, loss: 0.1971, duration: 0:00:00.366296\n",
      "episode: 191/200, loss: 680.9169, duration: 0:00:00.443048\n",
      "#############################################################################\n",
      "##\t[8/35]\tmodel=RL_CNN,\tSEED=0,\ttrade=1,\trisk=0.1\thold=0.1\t##\n",
      "#############################################################################\n",
      "episode: 1/200, loss: 0.0227, duration: 0:00:00.414982\n",
      "episode: 11/200, loss: -0.0333, duration: 0:00:00.373572\n",
      "episode: 21/200, loss: 0.0370, duration: 0:00:00.365661\n",
      "episode: 31/200, loss: -0.0585, duration: 0:00:00.386149\n",
      "episode: 41/200, loss: 0.0272, duration: 0:00:00.377225\n",
      "episode: 51/200, loss: -0.0588, duration: 0:00:00.366248\n",
      "episode: 61/200, loss: -0.0045, duration: 0:00:00.369501\n",
      "episode: 71/200, loss: 0.0258, duration: 0:00:00.370842\n",
      "episode: 81/200, loss: 0.0333, duration: 0:00:00.378385\n",
      "episode: 91/200, loss: -0.0810, duration: 0:00:00.379814\n",
      "episode: 101/200, loss: 0.1452, duration: 0:00:00.366462\n",
      "episode: 111/200, loss: -0.0078, duration: 0:00:00.378767\n",
      "episode: 121/200, loss: 53.9134, duration: 0:00:00.375247\n",
      "episode: 131/200, loss: -0.0050, duration: 0:00:00.367609\n",
      "episode: 141/200, loss: -0.0242, duration: 0:00:00.370644\n",
      "episode: 151/200, loss: -0.0298, duration: 0:00:00.368566\n",
      "episode: 161/200, loss: 0.0358, duration: 0:00:00.370040\n",
      "episode: 171/200, loss: 0.0528, duration: 0:00:00.368568\n",
      "episode: 181/200, loss: 0.0253, duration: 0:00:00.390656\n",
      "episode: 191/200, loss: -0.0287, duration: 0:00:00.371817\n",
      "#############################################################################\n",
      "##\t[9/35]\tmodel=RL_CNN,\tSEED=0,\ttrade=1,\trisk=1\thold=0.1\t##\n",
      "#############################################################################\n",
      "episode: 1/200, loss: 0.0265, duration: 0:00:00.413013\n",
      "episode: 11/200, loss: -0.0322, duration: 0:00:00.378576\n",
      "episode: 21/200, loss: 0.0390, duration: 0:00:00.369502\n",
      "episode: 31/200, loss: -0.0513, duration: 0:00:00.383122\n",
      "episode: 41/200, loss: 0.0280, duration: 0:00:00.376294\n",
      "episode: 51/200, loss: -0.0524, duration: 0:00:00.385800\n",
      "episode: 61/200, loss: -0.0036, duration: 0:00:00.385134\n",
      "episode: 71/200, loss: 0.0251, duration: 0:00:00.369288\n",
      "episode: 81/200, loss: 0.0330, duration: 0:00:00.369425\n",
      "episode: 91/200, loss: -0.0283, duration: 0:00:00.366457\n",
      "episode: 101/200, loss: -0.0306, duration: 0:00:00.368333\n",
      "episode: 111/200, loss: -0.0654, duration: 0:00:00.378953\n",
      "episode: 121/200, loss: -0.1084, duration: 0:00:00.371758\n",
      "episode: 131/200, loss: -0.0032, duration: 0:00:00.374750\n",
      "episode: 141/200, loss: 1.3568, duration: 0:00:00.375323\n",
      "episode: 151/200, loss: nan, duration: 0:00:00.374938\n",
      "episode: 161/200, loss: nan, duration: 0:00:00.379255\n",
      "episode: 171/200, loss: nan, duration: 0:00:00.375201\n",
      "episode: 181/200, loss: nan, duration: 0:00:00.370526\n",
      "episode: 191/200, loss: nan, duration: 0:00:00.379932\n",
      "#############################################################################\n",
      "##\t[10/35]\tmodel=RL_CNN,\tSEED=0,\ttrade=1,\trisk=18\thold=0.1\t##\n",
      "#############################################################################\n",
      "episode: 1/200, loss: 0.0986, duration: 0:00:00.409542\n",
      "episode: 11/200, loss: -0.0193, duration: 0:00:00.362683\n",
      "episode: 21/200, loss: 0.0727, duration: 0:00:00.366904\n",
      "episode: 31/200, loss: 0.0095, duration: 0:00:00.444116\n",
      "episode: 41/200, loss: 0.0291, duration: 0:00:00.373434\n",
      "episode: 51/200, loss: -0.0238, duration: 0:00:00.437743\n",
      "episode: 61/200, loss: -0.0128, duration: 0:00:00.383507\n",
      "episode: 71/200, loss: 0.0158, duration: 0:00:00.373911\n",
      "episode: 81/200, loss: 0.0432, duration: 0:00:00.376230\n",
      "episode: 91/200, loss: 0.0218, duration: 0:00:00.376538\n",
      "episode: 101/200, loss: 0.0148, duration: 0:00:00.380768\n",
      "episode: 111/200, loss: -0.0167, duration: 0:00:00.378162\n",
      "episode: 121/200, loss: -0.0216, duration: 0:00:00.363791\n",
      "episode: 131/200, loss: 0.0170, duration: 0:00:00.379470\n",
      "episode: 141/200, loss: 0.0160, duration: 0:00:00.374703\n",
      "episode: 151/200, loss: 0.0276, duration: 0:00:00.369006\n",
      "episode: 161/200, loss: 0.0762, duration: 0:00:00.369165\n",
      "episode: 171/200, loss: 0.0477, duration: 0:00:00.377207\n",
      "episode: 181/200, loss: -0.0351, duration: 0:00:00.374611\n",
      "episode: 191/200, loss: 0.0383, duration: 0:00:00.373660\n",
      "#############################################################################\n",
      "##\t[11/35]\tmodel=RL_CNN,\tSEED=0,\ttrade=1,\trisk=56\thold=0.1\t##\n",
      "#############################################################################\n",
      "episode: 1/200, loss: 0.2598, duration: 0:00:00.407372\n",
      "episode: 11/200, loss: 0.0104, duration: 0:00:00.427159\n",
      "episode: 21/200, loss: 0.1559, duration: 0:00:00.364196\n",
      "episode: 31/200, loss: 0.0764, duration: 0:00:00.364582\n",
      "episode: 41/200, loss: 0.0466, duration: 0:00:00.367080\n",
      "episode: 51/200, loss: -0.0014, duration: 0:00:00.375377\n",
      "episode: 61/200, loss: 0.0011, duration: 0:00:00.384759\n",
      "episode: 71/200, loss: 0.0340, duration: 0:00:00.377923\n",
      "episode: 81/200, loss: 0.0827, duration: 0:00:00.372953\n",
      "episode: 91/200, loss: 0.0505, duration: 0:00:00.370173\n",
      "episode: 101/200, loss: 0.0417, duration: 0:00:00.377155\n",
      "episode: 111/200, loss: 0.0059, duration: 0:00:00.371650\n",
      "episode: 121/200, loss: 0.0058, duration: 0:00:00.364489\n",
      "episode: 131/200, loss: 0.0349, duration: 0:00:00.370761\n",
      "episode: 141/200, loss: 0.0541, duration: 0:00:00.363816\n",
      "episode: 151/200, loss: 0.0481, duration: 0:00:00.371693\n",
      "episode: 161/200, loss: 0.1525, duration: 0:00:00.370301\n",
      "episode: 171/200, loss: 0.1256, duration: 0:00:00.361435\n",
      "episode: 181/200, loss: -0.0193, duration: 0:00:00.360779\n",
      "episode: 191/200, loss: 0.0713, duration: 0:00:00.372183\n",
      "#############################################################################\n",
      "##\t[12/35]\tmodel=RL_CNN,\tSEED=0,\ttrade=1,\trisk=100\thold=0.1\t##\n",
      "#############################################################################\n",
      "episode: 1/200, loss: 0.4464, duration: 0:00:00.409598\n",
      "episode: 11/200, loss: 0.0455, duration: 0:00:00.368439\n",
      "episode: 21/200, loss: 0.2540, duration: 0:00:00.368728\n",
      "episode: 31/200, loss: 0.1506, duration: 0:00:00.360928\n",
      "episode: 41/200, loss: 0.0723, duration: 0:00:00.370783\n",
      "episode: 51/200, loss: 0.0245, duration: 0:00:00.375081\n",
      "episode: 61/200, loss: 0.0185, duration: 0:00:00.363615\n",
      "episode: 71/200, loss: 0.0578, duration: 0:00:00.416950\n",
      "episode: 81/200, loss: 0.1279, duration: 0:00:00.370171\n",
      "episode: 91/200, loss: 0.0791, duration: 0:00:00.360977\n",
      "episode: 101/200, loss: 0.0654, duration: 0:00:00.363213\n",
      "episode: 111/200, loss: 0.0228, duration: 0:00:00.370480\n",
      "episode: 121/200, loss: 0.0280, duration: 0:00:00.364214\n",
      "episode: 131/200, loss: 0.0514, duration: 0:00:00.372167\n",
      "episode: 141/200, loss: 0.0991, duration: 0:00:00.361796\n",
      "episode: 151/200, loss: 0.0780, duration: 0:00:00.364810\n",
      "episode: 161/200, loss: 0.1792, duration: 0:00:00.375235\n",
      "episode: 171/200, loss: 0.2329, duration: 0:00:00.363248\n",
      "episode: 181/200, loss: -0.0115, duration: 0:00:00.365389\n",
      "episode: 191/200, loss: 0.1189, duration: 0:00:00.428425\n",
      "#############################################################################\n",
      "##\t[13/35]\tmodel=RL_CNN,\tSEED=0,\ttrade=1,\trisk=562\thold=0.1\t##\n",
      "#############################################################################\n",
      "episode: 1/200, loss: 2.4058, duration: 0:00:00.402864\n",
      "episode: 11/200, loss: 0.4142, duration: 0:00:00.367113\n",
      "episode: 21/200, loss: 1.2853, duration: 0:00:00.385156\n",
      "episode: 31/200, loss: 0.9111, duration: 0:00:00.372684\n",
      "episode: 41/200, loss: 0.3432, duration: 0:00:00.369316\n",
      "episode: 51/200, loss: 0.2999, duration: 0:00:00.367992\n",
      "episode: 61/200, loss: 0.1991, duration: 0:00:00.362790\n",
      "episode: 71/200, loss: 0.3097, duration: 0:00:00.364971\n",
      "episode: 81/200, loss: 0.6036, duration: 0:00:00.375012\n",
      "episode: 91/200, loss: 0.3722, duration: 0:00:00.427079\n",
      "episode: 101/200, loss: 0.3072, duration: 0:00:00.366830\n",
      "episode: 111/200, loss: 0.1964, duration: 0:00:00.362338\n",
      "episode: 121/200, loss: 0.2606, duration: 0:00:00.369367\n",
      "episode: 131/200, loss: 0.2152, duration: 0:00:00.369805\n",
      "episode: 141/200, loss: 0.5613, duration: 0:00:00.358669\n",
      "episode: 151/200, loss: 0.3306, duration: 0:00:00.367546\n",
      "episode: 161/200, loss: 0.6969, duration: 0:00:00.359980\n",
      "episode: 171/200, loss: 0.7156, duration: 0:00:00.367243\n",
      "episode: 181/200, loss: 0.1040, duration: 0:00:00.368497\n",
      "episode: 191/200, loss: 117.1677, duration: 0:00:00.365624\n",
      "#############################################################################\n",
      "##\t[14/35]\tmodel=RL_CNN,\tSEED=0,\ttrade=1,\trisk=1000\thold=0.1\t##\n",
      "#############################################################################\n",
      "episode: 1/200, loss: 4.2634, duration: 0:00:00.421602\n",
      "episode: 11/200, loss: 0.7639, duration: 0:00:00.362950\n",
      "episode: 21/200, loss: 2.2649, duration: 0:00:00.368976\n",
      "episode: 31/200, loss: 1.6324, duration: 0:00:00.370031\n",
      "episode: 41/200, loss: 0.5995, duration: 0:00:00.368030\n",
      "episode: 51/200, loss: 0.5610, duration: 0:00:00.373602\n",
      "episode: 61/200, loss: 0.3702, duration: 0:00:00.370900\n",
      "episode: 71/200, loss: 0.5479, duration: 0:00:00.365393\n",
      "episode: 81/200, loss: 1.0569, duration: 0:00:00.369691\n",
      "episode: 91/200, loss: 0.6493, duration: 0:00:00.369203\n",
      "episode: 101/200, loss: 0.5377, duration: 0:00:00.374551\n",
      "episode: 111/200, loss: 0.3634, duration: 0:00:00.372658\n",
      "episode: 121/200, loss: 0.4868, duration: 0:00:00.365338\n",
      "episode: 131/200, loss: 0.3711, duration: 0:00:00.369839\n",
      "episode: 141/200, loss: 1.0041, duration: 0:00:00.372903\n",
      "episode: 151/200, loss: 0.5768, duration: 0:00:00.370183\n",
      "episode: 161/200, loss: 1.1964, duration: 0:00:00.375376\n",
      "episode: 171/200, loss: 1.2495, duration: 0:00:00.366140\n",
      "episode: 181/200, loss: 0.2007, duration: 0:00:00.375735\n",
      "episode: 191/200, loss: 43.3093, duration: 0:00:00.375673\n",
      "#############################################################################\n",
      "##\t[15/35]\tmodel=RL_CNN,\tSEED=0,\ttrade=10,\trisk=0.1\thold=0.1\t##\n",
      "#############################################################################\n",
      "episode: 1/200, loss: 0.1316, duration: 0:00:00.417604\n",
      "episode: 11/200, loss: -0.0198, duration: 0:00:00.366332\n",
      "episode: 21/200, loss: 0.0590, duration: 0:00:00.370311\n",
      "episode: 31/200, loss: -0.0423, duration: 0:00:00.376495\n",
      "episode: 41/200, loss: 0.0339, duration: 0:00:00.367564\n",
      "episode: 51/200, loss: -0.0507, duration: 0:00:00.356661\n",
      "episode: 61/200, loss: -0.0006, duration: 0:00:00.371399\n",
      "episode: 71/200, loss: 0.0322, duration: 0:00:00.461019\n",
      "episode: 81/200, loss: 0.0442, duration: 0:00:00.411480\n",
      "episode: 91/200, loss: -0.0319, duration: 0:00:00.459848\n",
      "episode: 101/200, loss: -0.0270, duration: 0:00:00.401427\n",
      "episode: 111/200, loss: 58.9180, duration: 0:00:00.466831\n",
      "episode: 121/200, loss: -0.1169, duration: 0:00:00.450827\n",
      "episode: 131/200, loss: 0.0027, duration: 0:00:00.410730\n",
      "episode: 141/200, loss: 0.0159, duration: 0:00:00.405644\n",
      "episode: 151/200, loss: 0.0438, duration: 0:00:00.402180\n",
      "episode: 161/200, loss: 0.0997, duration: 0:00:00.400879\n",
      "episode: 171/200, loss: 0.0120, duration: 0:00:00.394201\n",
      "episode: 181/200, loss: -0.0964, duration: 0:00:00.393619\n",
      "episode: 191/200, loss: 0.0939, duration: 0:00:00.395497\n",
      "#############################################################################\n",
      "##\t[16/35]\tmodel=RL_CNN,\tSEED=0,\ttrade=10,\trisk=1\thold=0.1\t##\n",
      "#############################################################################\n",
      "episode: 1/200, loss: 0.1354, duration: 0:00:00.441500\n",
      "episode: 11/200, loss: -0.0190, duration: 0:00:00.398674\n",
      "episode: 21/200, loss: 0.0606, duration: 0:00:00.425680\n",
      "episode: 31/200, loss: -0.0364, duration: 0:00:00.414025\n",
      "episode: 41/200, loss: 0.0344, duration: 0:00:00.368883\n",
      "episode: 51/200, loss: -0.0451, duration: 0:00:00.372921\n",
      "episode: 61/200, loss: -0.0001, duration: 0:00:00.362292\n",
      "episode: 71/200, loss: 0.0315, duration: 0:00:00.372749\n",
      "episode: 81/200, loss: 0.0447, duration: 0:00:00.359755\n",
      "episode: 91/200, loss: -0.0163, duration: 0:00:00.368130\n",
      "episode: 101/200, loss: -0.0205, duration: 0:00:00.369813\n",
      "episode: 111/200, loss: -0.0545, duration: 0:00:00.360619\n",
      "episode: 121/200, loss: -0.0887, duration: 0:00:00.351423\n",
      "episode: 131/200, loss: 0.0027, duration: 0:00:00.368969\n",
      "episode: 141/200, loss: 0.0511, duration: 0:00:00.369002\n",
      "episode: 151/200, loss: 0.0606, duration: 0:00:00.368773\n",
      "episode: 161/200, loss: 0.1764, duration: 0:00:00.368600\n",
      "episode: 171/200, loss: 0.0515, duration: 0:00:00.368767\n",
      "episode: 181/200, loss: -0.1227, duration: 0:00:00.371458\n",
      "episode: 191/200, loss: 0.1310, duration: 0:00:00.373229\n",
      "#############################################################################\n",
      "##\t[17/35]\tmodel=RL_CNN,\tSEED=0,\ttrade=10,\trisk=18\thold=0.1\t##\n",
      "#############################################################################\n",
      "episode: 1/200, loss: 0.2075, duration: 0:00:00.391960\n",
      "episode: 11/200, loss: -0.0057, duration: 0:00:00.364038\n",
      "episode: 21/200, loss: 0.0960, duration: 0:00:00.365145\n",
      "episode: 31/200, loss: 0.0291, duration: 0:00:00.361041\n",
      "episode: 41/200, loss: 0.0368, duration: 0:00:00.378452\n",
      "episode: 51/200, loss: -0.0146, duration: 0:00:00.371302\n",
      "episode: 61/200, loss: -0.0069, duration: 0:00:00.421729\n",
      "episode: 71/200, loss: 0.0220, duration: 0:00:00.372050\n",
      "episode: 81/200, loss: 0.0557, duration: 0:00:00.395014\n",
      "episode: 91/200, loss: 0.0351, duration: 0:00:00.371396\n",
      "episode: 101/200, loss: 0.0258, duration: 0:00:00.371184\n",
      "episode: 111/200, loss: -0.0034, duration: 0:00:00.371106\n",
      "episode: 121/200, loss: -0.0068, duration: 0:00:00.374375\n",
      "episode: 131/200, loss: 0.0252, duration: 0:00:00.368125\n",
      "episode: 141/200, loss: 0.0309, duration: 0:00:00.368668\n",
      "episode: 151/200, loss: 0.0351, duration: 0:00:00.361749\n",
      "episode: 161/200, loss: 0.1164, duration: 0:00:00.376695\n",
      "episode: 171/200, loss: 0.0862, duration: 0:00:00.369372\n",
      "episode: 181/200, loss: -0.0223, duration: 0:00:00.391290\n",
      "episode: 191/200, loss: 0.0604, duration: 0:00:00.383854\n",
      "#############################################################################\n",
      "##\t[18/35]\tmodel=RL_CNN,\tSEED=0,\ttrade=10,\trisk=56\thold=0.1\t##\n",
      "#############################################################################\n",
      "episode: 1/200, loss: 0.3687, duration: 0:00:00.401950\n",
      "episode: 11/200, loss: 0.0258, duration: 0:00:00.369421\n",
      "episode: 21/200, loss: 0.1834, duration: 0:00:00.360675\n",
      "episode: 31/200, loss: 0.1033, duration: 0:00:00.372061\n",
      "episode: 41/200, loss: 0.0552, duration: 0:00:00.366997\n",
      "episode: 51/200, loss: 0.0097, duration: 0:00:00.371537\n",
      "episode: 61/200, loss: 0.0080, duration: 0:00:00.371158\n",
      "episode: 71/200, loss: 0.0410, duration: 0:00:00.361936\n",
      "episode: 81/200, loss: 0.0973, duration: 0:00:00.366086\n",
      "episode: 91/200, loss: 0.0670, duration: 0:00:00.372050\n",
      "episode: 101/200, loss: 0.0563, duration: 0:00:00.366051\n",
      "episode: 111/200, loss: 0.0172, duration: 0:00:00.365321\n",
      "episode: 121/200, loss: 0.0304, duration: 0:00:00.369678\n",
      "episode: 131/200, loss: 0.0433, duration: 0:00:00.370165\n",
      "episode: 141/200, loss: 0.0852, duration: 0:00:00.395375\n",
      "episode: 151/200, loss: 0.0582, duration: 0:00:00.380415\n",
      "episode: 161/200, loss: 0.1769, duration: 0:00:00.410555\n",
      "episode: 171/200, loss: 0.1531, duration: 0:00:00.408136\n",
      "episode: 181/200, loss: -0.0055, duration: 0:00:00.540581\n",
      "episode: 191/200, loss: 0.1707, duration: 0:00:00.426107\n",
      "#############################################################################\n",
      "##\t[19/35]\tmodel=RL_CNN,\tSEED=0,\ttrade=10,\trisk=100\thold=0.1\t##\n",
      "#############################################################################\n",
      "episode: 1/200, loss: 0.5553, duration: 0:00:00.476401\n",
      "episode: 11/200, loss: 0.0617, duration: 0:00:00.382856\n",
      "episode: 21/200, loss: 0.2832, duration: 0:00:00.418017\n",
      "episode: 31/200, loss: 0.1799, duration: 0:00:00.407015\n",
      "episode: 41/200, loss: 0.0812, duration: 0:00:00.416637\n",
      "episode: 51/200, loss: 0.0361, duration: 0:00:00.369424\n",
      "episode: 61/200, loss: 0.0255, duration: 0:00:00.371642\n",
      "episode: 71/200, loss: 0.0649, duration: 0:00:00.410536\n",
      "episode: 81/200, loss: 0.1437, duration: 0:00:00.424725\n",
      "episode: 91/200, loss: 0.0973, duration: 0:00:00.389778\n",
      "episode: 101/200, loss: 0.0858, duration: 0:00:00.372593\n",
      "episode: 111/200, loss: 0.0387, duration: 0:00:00.381019\n",
      "episode: 121/200, loss: 0.0492, duration: 0:00:00.391124\n",
      "episode: 131/200, loss: 0.0606, duration: 0:00:00.355861\n",
      "episode: 141/200, loss: 0.1411, duration: 0:00:00.400999\n",
      "episode: 151/200, loss: 0.0886, duration: 0:00:00.390626\n",
      "episode: 161/200, loss: 0.2982, duration: 0:00:00.384711\n",
      "episode: 171/200, loss: 0.2651, duration: 0:00:00.372593\n",
      "episode: 181/200, loss: -0.0083, duration: 0:00:00.407284\n",
      "episode: 191/200, loss: 0.1347, duration: 0:00:00.368834\n",
      "#############################################################################\n",
      "##\t[20/35]\tmodel=RL_CNN,\tSEED=0,\ttrade=10,\trisk=562\thold=0.1\t##\n",
      "#############################################################################\n",
      "episode: 1/200, loss: 2.5147, duration: 0:00:00.422409\n",
      "episode: 11/200, loss: 0.4310, duration: 0:00:00.398031\n",
      "episode: 21/200, loss: 1.3173, duration: 0:00:00.370239\n",
      "episode: 31/200, loss: 0.9435, duration: 0:00:00.393030\n",
      "episode: 41/200, loss: 0.3525, duration: 0:00:00.383554\n",
      "episode: 51/200, loss: 0.3126, duration: 0:00:00.383468\n",
      "episode: 61/200, loss: 0.2062, duration: 0:00:00.384521\n",
      "episode: 71/200, loss: 0.3174, duration: 0:00:00.406999\n",
      "episode: 81/200, loss: 0.6203, duration: 0:00:00.419557\n",
      "episode: 91/200, loss: 0.3913, duration: 0:00:00.386675\n",
      "episode: 101/200, loss: 0.3295, duration: 0:00:00.397295\n",
      "episode: 111/200, loss: 0.2138, duration: 0:00:00.396828\n",
      "episode: 121/200, loss: 0.2804, duration: 0:00:00.414009\n",
      "episode: 131/200, loss: 0.2278, duration: 0:00:00.399466\n",
      "episode: 141/200, loss: 0.6349, duration: 0:00:00.379831\n",
      "episode: 151/200, loss: 0.3456, duration: 0:00:00.376007\n",
      "episode: 161/200, loss: 0.7670, duration: 0:00:00.401314\n",
      "episode: 171/200, loss: 0.7662, duration: 0:00:00.372972\n",
      "episode: 181/200, loss: 0.1315, duration: 0:00:00.385189\n",
      "episode: 191/200, loss: 0.4691, duration: 0:00:00.397283\n",
      "#############################################################################\n",
      "##\t[21/35]\tmodel=RL_CNN,\tSEED=0,\ttrade=10,\trisk=1000\thold=0.1\t##\n",
      "#############################################################################\n",
      "episode: 1/200, loss: 4.3723, duration: 0:00:00.419907\n",
      "episode: 11/200, loss: 0.7807, duration: 0:00:00.394760\n",
      "episode: 21/200, loss: 2.2969, duration: 0:00:00.371814\n",
      "episode: 31/200, loss: 1.6647, duration: 0:00:00.404035\n",
      "episode: 41/200, loss: 0.6089, duration: 0:00:00.401498\n",
      "episode: 51/200, loss: 0.5738, duration: 0:00:00.395072\n",
      "episode: 61/200, loss: 0.3772, duration: 0:00:00.373055\n",
      "episode: 71/200, loss: 0.5555, duration: 0:00:00.371556\n",
      "episode: 81/200, loss: 1.0724, duration: 0:00:00.403691\n",
      "episode: 91/200, loss: 0.6691, duration: 0:00:00.375313\n",
      "episode: 101/200, loss: 0.5597, duration: 0:00:00.368209\n",
      "episode: 111/200, loss: 0.3799, duration: 0:00:00.395473\n",
      "episode: 121/200, loss: 0.5000, duration: 0:00:00.406081\n",
      "episode: 131/200, loss: 0.3853, duration: 0:00:00.410209\n",
      "episode: 141/200, loss: 1.0763, duration: 0:00:00.375753\n",
      "episode: 151/200, loss: 0.5925, duration: 0:00:00.371235\n",
      "episode: 161/200, loss: 1.2519, duration: 0:00:00.395397\n",
      "episode: 171/200, loss: 1.3019, duration: 0:00:00.436280\n",
      "episode: 181/200, loss: 0.2228, duration: 0:00:00.397636\n",
      "episode: 191/200, loss: 1666.1370, duration: 0:00:00.405510\n"
     ]
    },
    {
     "name": "stderr",
     "output_type": "stream",
     "text": [
      "/usr/local/lib/python3.7/site-packages/ipykernel_launcher.py:136: RuntimeWarning: More than 20 figures have been opened. Figures created through the pyplot interface (`matplotlib.pyplot.figure`) are retained until explicitly closed and may consume too much memory. (To control this warning, see the rcParam `figure.max_open_warning`).\n"
     ]
    },
    {
     "name": "stdout",
     "output_type": "stream",
     "text": [
      "#############################################################################\n",
      "##\t[22/35]\tmodel=RL_CNN,\tSEED=0,\ttrade=60,\trisk=0.1\thold=0.1\t##\n",
      "#############################################################################\n",
      "episode: 1/200, loss: 0.7367, duration: 0:00:00.428746\n",
      "episode: 11/200, loss: 0.0464, duration: 0:00:00.393733\n",
      "episode: 21/200, loss: 0.1512, duration: 0:00:00.403357\n",
      "episode: 31/200, loss: 0.0168, duration: 0:00:00.366941\n",
      "episode: 41/200, loss: 0.0598, duration: 0:00:00.375478\n",
      "episode: 51/200, loss: -0.0220, duration: 0:00:00.391058\n",
      "episode: 61/200, loss: 0.0142, duration: 0:00:00.379494\n",
      "episode: 71/200, loss: 0.0486, duration: 0:00:00.372882\n",
      "episode: 81/200, loss: 0.0852, duration: 0:00:00.410028\n",
      "episode: 91/200, loss: 0.0146, duration: 0:00:00.402390\n",
      "episode: 101/200, loss: -0.0095, duration: 0:00:00.391477\n",
      "episode: 111/200, loss: -0.0421, duration: 0:00:00.408906\n",
      "episode: 121/200, loss: -0.0483, duration: 0:00:00.406579\n",
      "episode: 131/200, loss: 0.0200, duration: 0:00:00.413141\n",
      "episode: 141/200, loss: 0.0225, duration: 0:00:00.378500\n",
      "episode: 151/200, loss: 0.0339, duration: 0:00:00.379112\n",
      "episode: 161/200, loss: 0.1166, duration: 0:00:00.387367\n",
      "episode: 171/200, loss: 0.0460, duration: 0:00:00.376166\n",
      "episode: 181/200, loss: -0.0828, duration: 0:00:00.365348\n",
      "episode: 191/200, loss: 0.1034, duration: 0:00:00.385124\n"
     ]
    },
    {
     "name": "stderr",
     "output_type": "stream",
     "text": [
      "/usr/local/lib/python3.7/site-packages/ipykernel_launcher.py:136: RuntimeWarning: More than 20 figures have been opened. Figures created through the pyplot interface (`matplotlib.pyplot.figure`) are retained until explicitly closed and may consume too much memory. (To control this warning, see the rcParam `figure.max_open_warning`).\n"
     ]
    },
    {
     "name": "stdout",
     "output_type": "stream",
     "text": [
      "#############################################################################\n",
      "##\t[23/35]\tmodel=RL_CNN,\tSEED=0,\ttrade=60,\trisk=1\thold=0.1\t##\n",
      "#############################################################################\n",
      "episode: 1/200, loss: 0.7405, duration: 0:00:00.417265\n",
      "episode: 11/200, loss: 0.0473, duration: 0:00:00.370702\n",
      "episode: 21/200, loss: 0.1510, duration: 0:00:00.440354\n",
      "episode: 31/200, loss: 0.0220, duration: 0:00:00.361632\n",
      "episode: 41/200, loss: 0.0604, duration: 0:00:00.423642\n",
      "episode: 51/200, loss: -0.0198, duration: 0:00:00.366595\n",
      "episode: 61/200, loss: 0.0139, duration: 0:00:00.388140\n",
      "episode: 71/200, loss: 0.0490, duration: 0:00:00.393781\n",
      "episode: 81/200, loss: 0.0806, duration: 0:00:00.367344\n",
      "episode: 91/200, loss: 0.0168, duration: 0:00:00.372269\n",
      "episode: 101/200, loss: -0.0062, duration: 0:00:00.405092\n",
      "episode: 111/200, loss: -0.0335, duration: 0:00:00.434994\n",
      "episode: 121/200, loss: -0.0441, duration: 0:00:00.380239\n",
      "episode: 131/200, loss: 0.0203, duration: 0:00:00.376221\n",
      "episode: 141/200, loss: 0.0170, duration: 0:00:00.368928\n",
      "episode: 151/200, loss: 0.0323, duration: 0:00:00.394073\n",
      "episode: 161/200, loss: 0.0994, duration: 0:00:00.384618\n",
      "episode: 171/200, loss: 0.0430, duration: 0:00:00.367858\n",
      "episode: 181/200, loss: -0.0647, duration: 0:00:00.367249\n",
      "episode: 191/200, loss: 0.0611, duration: 0:00:00.385562\n"
     ]
    },
    {
     "name": "stderr",
     "output_type": "stream",
     "text": [
      "/usr/local/lib/python3.7/site-packages/ipykernel_launcher.py:136: RuntimeWarning: More than 20 figures have been opened. Figures created through the pyplot interface (`matplotlib.pyplot.figure`) are retained until explicitly closed and may consume too much memory. (To control this warning, see the rcParam `figure.max_open_warning`).\n"
     ]
    },
    {
     "name": "stdout",
     "output_type": "stream",
     "text": [
      "#############################################################################\n",
      "##\t[24/35]\tmodel=RL_CNN,\tSEED=0,\ttrade=60,\trisk=18\thold=0.1\t##\n",
      "#############################################################################\n",
      "episode: 1/200, loss: 0.8126, duration: 0:00:00.416789\n",
      "episode: 11/200, loss: 0.0641, duration: 0:00:00.441630\n",
      "episode: 21/200, loss: 0.2014, duration: 0:00:00.403266\n",
      "episode: 31/200, loss: 0.1029, duration: 0:00:00.398852\n",
      "episode: 41/200, loss: 0.0712, duration: 0:00:00.366705\n",
      "episode: 51/200, loss: 0.0184, duration: 0:00:00.365389\n",
      "episode: 61/200, loss: 0.0135, duration: 0:00:00.418770\n",
      "episode: 71/200, loss: 0.0496, duration: 0:00:00.438983\n",
      "episode: 81/200, loss: 0.0995, duration: 0:00:00.420164\n",
      "episode: 91/200, loss: 0.0775, duration: 0:00:00.399828\n",
      "episode: 101/200, loss: 0.0491, duration: 0:00:00.382989\n",
      "episode: 111/200, loss: 0.0256, duration: 0:00:00.386252\n",
      "episode: 121/200, loss: 0.0296, duration: 0:00:00.383998\n",
      "episode: 131/200, loss: 0.0463, duration: 0:00:00.399520\n",
      "episode: 141/200, loss: 0.0533, duration: 0:00:00.365593\n",
      "episode: 151/200, loss: 0.0419, duration: 0:00:00.365690\n",
      "episode: 161/200, loss: 0.1760, duration: 0:00:00.387689\n",
      "episode: 171/200, loss: 0.1250, duration: 0:00:00.423723\n",
      "episode: 181/200, loss: -0.0084, duration: 0:00:00.484344\n",
      "episode: 191/200, loss: 0.0795, duration: 0:00:00.366684\n"
     ]
    },
    {
     "name": "stderr",
     "output_type": "stream",
     "text": [
      "/usr/local/lib/python3.7/site-packages/ipykernel_launcher.py:136: RuntimeWarning: More than 20 figures have been opened. Figures created through the pyplot interface (`matplotlib.pyplot.figure`) are retained until explicitly closed and may consume too much memory. (To control this warning, see the rcParam `figure.max_open_warning`).\n"
     ]
    },
    {
     "name": "stdout",
     "output_type": "stream",
     "text": [
      "#############################################################################\n",
      "##\t[25/35]\tmodel=RL_CNN,\tSEED=0,\ttrade=60,\trisk=56\thold=0.1\t##\n",
      "#############################################################################\n",
      "episode: 1/200, loss: 0.9738, duration: 0:00:00.439986\n",
      "episode: 11/200, loss: 0.1045, duration: 0:00:00.413478\n",
      "episode: 21/200, loss: 0.3151, duration: 0:00:00.419865\n",
      "episode: 31/200, loss: 0.2151, duration: 0:00:00.395101\n",
      "episode: 41/200, loss: 0.1003, duration: 0:00:00.392012\n",
      "episode: 51/200, loss: 0.0738, duration: 0:00:00.384823\n",
      "episode: 61/200, loss: 0.0339, duration: 0:00:00.412992\n",
      "episode: 71/200, loss: 0.0760, duration: 0:00:00.369370\n",
      "episode: 81/200, loss: 0.1570, duration: 0:00:00.392136\n",
      "episode: 91/200, loss: 0.1277, duration: 0:00:00.374561\n",
      "episode: 101/200, loss: 0.0986, duration: 0:00:00.398210\n",
      "episode: 111/200, loss: 0.0640, duration: 0:00:00.366603\n",
      "episode: 121/200, loss: 0.0763, duration: 0:00:00.375829\n",
      "episode: 131/200, loss: 0.0733, duration: 0:00:00.445450\n",
      "episode: 141/200, loss: 0.1358, duration: 0:00:00.416385\n",
      "episode: 151/200, loss: 0.0821, duration: 0:00:00.409520\n",
      "episode: 161/200, loss: 0.3221, duration: 0:00:00.395914\n",
      "episode: 171/200, loss: 0.2491, duration: 0:00:00.375078\n",
      "episode: 181/200, loss: 0.0215, duration: 0:00:00.376513\n",
      "episode: 191/200, loss: 0.1845, duration: 0:00:00.372960\n"
     ]
    },
    {
     "name": "stderr",
     "output_type": "stream",
     "text": [
      "/usr/local/lib/python3.7/site-packages/ipykernel_launcher.py:136: RuntimeWarning: More than 20 figures have been opened. Figures created through the pyplot interface (`matplotlib.pyplot.figure`) are retained until explicitly closed and may consume too much memory. (To control this warning, see the rcParam `figure.max_open_warning`).\n"
     ]
    },
    {
     "name": "stdout",
     "output_type": "stream",
     "text": [
      "#############################################################################\n",
      "##\t[26/35]\tmodel=RL_CNN,\tSEED=0,\ttrade=60,\trisk=100\thold=0.1\t##\n",
      "#############################################################################\n",
      "episode: 1/200, loss: 1.1604, duration: 0:00:00.432920\n",
      "episode: 11/200, loss: 0.1480, duration: 0:00:00.433122\n",
      "episode: 21/200, loss: 0.4256, duration: 0:00:00.500560\n",
      "episode: 31/200, loss: 0.3148, duration: 0:00:00.469249\n",
      "episode: 41/200, loss: 0.1279, duration: 0:00:00.429335\n",
      "episode: 51/200, loss: 0.1110, duration: 0:00:00.406770\n",
      "episode: 61/200, loss: 0.0591, duration: 0:00:00.398716\n",
      "episode: 71/200, loss: 0.1006, duration: 0:00:00.379397\n",
      "episode: 81/200, loss: 0.2084, duration: 0:00:00.402782\n",
      "episode: 91/200, loss: 0.1776, duration: 0:00:00.416556\n",
      "episode: 101/200, loss: 0.1483, duration: 0:00:00.418251\n",
      "episode: 111/200, loss: 0.0955, duration: 0:00:00.401766\n",
      "episode: 121/200, loss: 0.1316, duration: 0:00:00.401259\n",
      "episode: 131/200, loss: 0.0994, duration: 0:00:00.372538\n",
      "episode: 141/200, loss: 0.2243, duration: 0:00:00.449342\n",
      "episode: 151/200, loss: 0.1135, duration: 0:00:00.422113\n",
      "episode: 161/200, loss: 0.4405, duration: 0:00:00.427080\n",
      "episode: 171/200, loss: 0.3623, duration: 0:00:00.443776\n",
      "episode: 181/200, loss: 0.0487, duration: 0:00:00.410790\n",
      "episode: 191/200, loss: 0.3304, duration: 0:00:00.416088\n"
     ]
    },
    {
     "name": "stderr",
     "output_type": "stream",
     "text": [
      "/usr/local/lib/python3.7/site-packages/ipykernel_launcher.py:136: RuntimeWarning: More than 20 figures have been opened. Figures created through the pyplot interface (`matplotlib.pyplot.figure`) are retained until explicitly closed and may consume too much memory. (To control this warning, see the rcParam `figure.max_open_warning`).\n"
     ]
    },
    {
     "name": "stdout",
     "output_type": "stream",
     "text": [
      "#############################################################################\n",
      "##\t[27/35]\tmodel=RL_CNN,\tSEED=0,\ttrade=60,\trisk=562\thold=0.1\t##\n",
      "#############################################################################\n",
      "episode: 1/200, loss: 3.1198, duration: 0:00:00.424634\n",
      "episode: 11/200, loss: 0.5229, duration: 0:00:00.389953\n",
      "episode: 21/200, loss: 1.4902, duration: 0:00:00.394260\n",
      "episode: 31/200, loss: 1.1215, duration: 0:00:00.402958\n",
      "episode: 41/200, loss: 0.4012, duration: 0:00:00.404590\n",
      "episode: 51/200, loss: 0.3915, duration: 0:00:00.390804\n",
      "episode: 61/200, loss: 0.2446, duration: 0:00:00.374538\n",
      "episode: 71/200, loss: 0.3570, duration: 0:00:00.405428\n",
      "episode: 81/200, loss: 0.7102, duration: 0:00:00.409672\n",
      "episode: 91/200, loss: 0.4936, duration: 0:00:00.406648\n",
      "episode: 101/200, loss: 0.4501, duration: 0:00:00.457028\n",
      "episode: 111/200, loss: 0.3063, duration: 0:00:00.405141\n",
      "episode: 121/200, loss: 0.3830, duration: 0:00:00.405352\n",
      "episode: 131/200, loss: 0.2910, duration: 0:00:00.417404\n",
      "episode: 141/200, loss: 0.9245, duration: 0:00:00.404566\n",
      "episode: 151/200, loss: 0.4565, duration: 0:00:00.438185\n",
      "episode: 161/200, loss: 1.5425, duration: 0:00:00.417326\n",
      "episode: 171/200, loss: 1.5553, duration: 0:00:00.388099\n",
      "episode: 181/200, loss: 0.1716, duration: 0:00:00.395155\n",
      "episode: 191/200, loss: 0.6649, duration: 0:00:00.418241\n"
     ]
    },
    {
     "name": "stderr",
     "output_type": "stream",
     "text": [
      "/usr/local/lib/python3.7/site-packages/ipykernel_launcher.py:136: RuntimeWarning: More than 20 figures have been opened. Figures created through the pyplot interface (`matplotlib.pyplot.figure`) are retained until explicitly closed and may consume too much memory. (To control this warning, see the rcParam `figure.max_open_warning`).\n"
     ]
    },
    {
     "name": "stdout",
     "output_type": "stream",
     "text": [
      "#############################################################################\n",
      "##\t[28/35]\tmodel=RL_CNN,\tSEED=0,\ttrade=60,\trisk=1000\thold=0.1\t##\n",
      "#############################################################################\n",
      "episode: 1/200, loss: 4.9774, duration: 0:00:00.440945\n",
      "episode: 11/200, loss: 0.8736, duration: 0:00:00.430212\n",
      "episode: 21/200, loss: 2.4731, duration: 0:00:00.473977\n",
      "episode: 31/200, loss: 1.8436, duration: 0:00:00.427131\n",
      "episode: 41/200, loss: 0.6601, duration: 0:00:00.384906\n",
      "episode: 51/200, loss: 0.6545, duration: 0:00:00.417054\n",
      "episode: 61/200, loss: 0.4159, duration: 0:00:00.432723\n",
      "episode: 71/200, loss: 0.5986, duration: 0:00:00.415381\n",
      "episode: 81/200, loss: 1.1641, duration: 0:00:00.409536\n",
      "episode: 91/200, loss: 0.7715, duration: 0:00:00.419263\n",
      "episode: 101/200, loss: 0.6795, duration: 0:00:00.469135\n",
      "episode: 111/200, loss: 0.4709, duration: 0:00:00.372479\n",
      "episode: 121/200, loss: 0.6051, duration: 0:00:00.413164\n",
      "episode: 131/200, loss: 0.4490, duration: 0:00:00.440401\n",
      "episode: 141/200, loss: 1.4463, duration: 0:00:00.414441\n",
      "episode: 151/200, loss: 0.7315, duration: 0:00:00.405994\n",
      "episode: 161/200, loss: 2.4969, duration: 0:00:00.394194\n",
      "episode: 171/200, loss: 2.5488, duration: 0:00:00.385116\n",
      "episode: 181/200, loss: 0.3010, duration: 0:00:00.402043\n",
      "episode: 191/200, loss: 1.0769, duration: 0:00:00.372760\n"
     ]
    },
    {
     "name": "stderr",
     "output_type": "stream",
     "text": [
      "/usr/local/lib/python3.7/site-packages/ipykernel_launcher.py:136: RuntimeWarning: More than 20 figures have been opened. Figures created through the pyplot interface (`matplotlib.pyplot.figure`) are retained until explicitly closed and may consume too much memory. (To control this warning, see the rcParam `figure.max_open_warning`).\n"
     ]
    },
    {
     "name": "stdout",
     "output_type": "stream",
     "text": [
      "#############################################################################\n",
      "##\t[29/35]\tmodel=RL_CNN,\tSEED=0,\ttrade=100,\trisk=0.1\thold=0.1\t##\n",
      "#############################################################################\n",
      "episode: 1/200, loss: 1.2207, duration: 0:00:00.401645\n",
      "episode: 11/200, loss: 0.0976, duration: 0:00:00.397695\n",
      "episode: 21/200, loss: 0.2150, duration: 0:00:00.407761\n",
      "episode: 31/200, loss: 0.0591, duration: 0:00:00.400150\n",
      "episode: 41/200, loss: 0.0761, duration: 0:00:00.435368\n",
      "episode: 51/200, loss: -0.0060, duration: 0:00:00.404045\n",
      "episode: 61/200, loss: 0.0210, duration: 0:00:00.387786\n",
      "episode: 71/200, loss: 0.0589, duration: 0:00:00.398512\n",
      "episode: 81/200, loss: 0.1101, duration: 0:00:00.394122\n",
      "episode: 91/200, loss: 0.0326, duration: 0:00:00.409935\n",
      "episode: 101/200, loss: 0.0008, duration: 0:00:00.417704\n",
      "episode: 111/200, loss: -0.0333, duration: 0:00:00.447472\n",
      "episode: 121/200, loss: -0.0358, duration: 0:00:00.401086\n",
      "episode: 131/200, loss: 0.0235, duration: 0:00:00.401494\n",
      "episode: 141/200, loss: 0.0175, duration: 0:00:00.379137\n",
      "episode: 151/200, loss: 0.0327, duration: 0:00:00.415944\n",
      "episode: 161/200, loss: 0.1004, duration: 0:00:00.394322\n",
      "episode: 171/200, loss: 0.0454, duration: 0:00:00.390930\n",
      "episode: 181/200, loss: -0.0605, duration: 0:00:00.391900\n",
      "episode: 191/200, loss: 0.0611, duration: 0:00:00.373836\n"
     ]
    },
    {
     "name": "stderr",
     "output_type": "stream",
     "text": [
      "/usr/local/lib/python3.7/site-packages/ipykernel_launcher.py:136: RuntimeWarning: More than 20 figures have been opened. Figures created through the pyplot interface (`matplotlib.pyplot.figure`) are retained until explicitly closed and may consume too much memory. (To control this warning, see the rcParam `figure.max_open_warning`).\n"
     ]
    },
    {
     "name": "stdout",
     "output_type": "stream",
     "text": [
      "#############################################################################\n",
      "##\t[30/35]\tmodel=RL_CNN,\tSEED=0,\ttrade=100,\trisk=1\thold=0.1\t##\n",
      "#############################################################################\n",
      "episode: 1/200, loss: 1.2246, duration: 0:00:00.436119\n",
      "episode: 11/200, loss: 0.0984, duration: 0:00:00.531679\n",
      "episode: 21/200, loss: 0.2140, duration: 0:00:00.379493\n",
      "episode: 31/200, loss: 0.0645, duration: 0:00:00.363977\n",
      "episode: 41/200, loss: 0.0744, duration: 0:00:00.367472\n",
      "episode: 51/200, loss: -0.0005, duration: 0:00:00.380779\n",
      "episode: 61/200, loss: 0.0187, duration: 0:00:00.465298\n",
      "episode: 71/200, loss: 0.0596, duration: 0:00:00.443566\n",
      "episode: 81/200, loss: 0.0984, duration: 0:00:00.464333\n",
      "episode: 91/200, loss: 0.0326, duration: 0:00:00.392216\n",
      "episode: 101/200, loss: 0.0030, duration: 0:00:00.374402\n",
      "episode: 111/200, loss: -0.0193, duration: 0:00:00.365275\n",
      "episode: 121/200, loss: -0.0318, duration: 0:00:00.379786\n",
      "episode: 131/200, loss: 0.0277, duration: 0:00:00.364908\n",
      "episode: 141/200, loss: 0.0222, duration: 0:00:00.371009\n",
      "episode: 151/200, loss: 0.0361, duration: 0:00:00.369403\n",
      "episode: 161/200, loss: 0.0968, duration: 0:00:00.424019\n",
      "episode: 171/200, loss: 0.0435, duration: 0:00:00.371253\n",
      "episode: 181/200, loss: -0.0530, duration: 0:00:00.367365\n",
      "episode: 191/200, loss: 0.0554, duration: 0:00:00.365851\n"
     ]
    },
    {
     "name": "stderr",
     "output_type": "stream",
     "text": [
      "/usr/local/lib/python3.7/site-packages/ipykernel_launcher.py:136: RuntimeWarning: More than 20 figures have been opened. Figures created through the pyplot interface (`matplotlib.pyplot.figure`) are retained until explicitly closed and may consume too much memory. (To control this warning, see the rcParam `figure.max_open_warning`).\n"
     ]
    },
    {
     "name": "stdout",
     "output_type": "stream",
     "text": [
      "#############################################################################\n",
      "##\t[31/35]\tmodel=RL_CNN,\tSEED=0,\ttrade=100,\trisk=18\thold=0.1\t##\n",
      "#############################################################################\n",
      "episode: 1/200, loss: 1.2966, duration: 0:00:00.418368\n",
      "episode: 11/200, loss: 0.1151, duration: 0:00:00.374952\n",
      "episode: 21/200, loss: 0.2695, duration: 0:00:00.371062\n",
      "episode: 31/200, loss: 0.1526, duration: 0:00:00.364136\n",
      "episode: 41/200, loss: 0.0931, duration: 0:00:00.362688\n",
      "episode: 51/200, loss: 0.0390, duration: 0:00:00.379973\n",
      "episode: 61/200, loss: 0.0261, duration: 0:00:00.382690\n",
      "episode: 71/200, loss: 0.0653, duration: 0:00:00.374394\n",
      "episode: 81/200, loss: 0.1231, duration: 0:00:00.390788\n",
      "episode: 91/200, loss: 0.1001, duration: 0:00:00.364272\n",
      "episode: 101/200, loss: 0.0607, duration: 0:00:00.371832\n",
      "episode: 111/200, loss: 0.0368, duration: 0:00:00.360699\n",
      "episode: 121/200, loss: 0.0444, duration: 0:00:00.366071\n",
      "episode: 131/200, loss: 0.0515, duration: 0:00:00.376944\n",
      "episode: 141/200, loss: 0.0634, duration: 0:00:00.365888\n",
      "episode: 151/200, loss: 0.0465, duration: 0:00:00.366896\n",
      "episode: 161/200, loss: 0.1947, duration: 0:00:00.373378\n",
      "episode: 171/200, loss: 0.1362, duration: 0:00:00.370641\n",
      "episode: 181/200, loss: -0.0069, duration: 0:00:00.376142\n",
      "episode: 191/200, loss: 0.0882, duration: 0:00:00.367011\n"
     ]
    },
    {
     "name": "stderr",
     "output_type": "stream",
     "text": [
      "/usr/local/lib/python3.7/site-packages/ipykernel_launcher.py:136: RuntimeWarning: More than 20 figures have been opened. Figures created through the pyplot interface (`matplotlib.pyplot.figure`) are retained until explicitly closed and may consume too much memory. (To control this warning, see the rcParam `figure.max_open_warning`).\n"
     ]
    },
    {
     "name": "stdout",
     "output_type": "stream",
     "text": [
      "#############################################################################\n",
      "##\t[32/35]\tmodel=RL_CNN,\tSEED=0,\ttrade=100,\trisk=56\thold=0.1\t##\n",
      "#############################################################################\n",
      "episode: 1/200, loss: 1.4578, duration: 0:00:00.405744\n",
      "episode: 11/200, loss: 0.1604, duration: 0:00:00.360799\n",
      "episode: 21/200, loss: 0.4071, duration: 0:00:00.380974\n",
      "episode: 31/200, loss: 0.2875, duration: 0:00:00.373615\n",
      "episode: 41/200, loss: 0.1243, duration: 0:00:00.366847\n",
      "episode: 51/200, loss: 0.0886, duration: 0:00:00.372247\n",
      "episode: 61/200, loss: 0.0543, duration: 0:00:00.373431\n",
      "episode: 71/200, loss: 0.0936, duration: 0:00:00.360675\n",
      "episode: 81/200, loss: 0.1931, duration: 0:00:00.370501\n",
      "episode: 91/200, loss: 0.1537, duration: 0:00:00.372982\n",
      "episode: 101/200, loss: 0.1173, duration: 0:00:00.377362\n",
      "episode: 111/200, loss: 0.0900, duration: 0:00:00.355507\n",
      "episode: 121/200, loss: 0.1006, duration: 0:00:00.425966\n",
      "episode: 131/200, loss: 0.0868, duration: 0:00:00.374973\n",
      "episode: 141/200, loss: 0.1591, duration: 0:00:00.373403\n",
      "episode: 151/200, loss: 0.0888, duration: 0:00:00.371444\n",
      "episode: 161/200, loss: 0.3795, duration: 0:00:00.371834\n",
      "episode: 171/200, loss: 0.2864, duration: 0:00:00.365826\n",
      "episode: 181/200, loss: 0.0325, duration: 0:00:00.371392\n",
      "episode: 191/200, loss: 0.2078, duration: 0:00:00.369753\n"
     ]
    },
    {
     "name": "stderr",
     "output_type": "stream",
     "text": [
      "/usr/local/lib/python3.7/site-packages/ipykernel_launcher.py:136: RuntimeWarning: More than 20 figures have been opened. Figures created through the pyplot interface (`matplotlib.pyplot.figure`) are retained until explicitly closed and may consume too much memory. (To control this warning, see the rcParam `figure.max_open_warning`).\n"
     ]
    },
    {
     "name": "stdout",
     "output_type": "stream",
     "text": [
      "#############################################################################\n",
      "##\t[33/35]\tmodel=RL_CNN,\tSEED=0,\ttrade=100,\trisk=100\thold=0.1\t##\n",
      "#############################################################################\n",
      "episode: 1/200, loss: 1.6444, duration: 0:00:00.417567\n",
      "episode: 11/200, loss: 0.2115, duration: 0:00:00.370058\n",
      "episode: 21/200, loss: 0.5274, duration: 0:00:00.370079\n",
      "episode: 31/200, loss: 0.4027, duration: 0:00:00.371186\n",
      "episode: 41/200, loss: 0.1603, duration: 0:00:00.367300\n",
      "episode: 51/200, loss: 0.1575, duration: 0:00:00.372802\n",
      "episode: 61/200, loss: 0.0769, duration: 0:00:00.371224\n",
      "episode: 71/200, loss: 0.1279, duration: 0:00:00.362212\n",
      "episode: 81/200, loss: 0.2543, duration: 0:00:00.417010\n",
      "episode: 91/200, loss: 0.2240, duration: 0:00:00.380588\n",
      "episode: 101/200, loss: 0.1818, duration: 0:00:00.366003\n",
      "episode: 111/200, loss: 0.1268, duration: 0:00:00.361713\n",
      "episode: 121/200, loss: 0.1684, duration: 0:00:00.372488\n",
      "episode: 131/200, loss: 0.1201, duration: 0:00:00.367463\n",
      "episode: 141/200, loss: 0.2547, duration: 0:00:00.362852\n",
      "episode: 151/200, loss: 0.1340, duration: 0:00:00.370491\n",
      "episode: 161/200, loss: 0.5263, duration: 0:00:00.366047\n",
      "episode: 171/200, loss: 0.4088, duration: 0:00:00.361034\n",
      "episode: 181/200, loss: 0.0620, duration: 0:00:00.365727\n",
      "episode: 191/200, loss: 0.3274, duration: 0:00:00.365444\n"
     ]
    },
    {
     "name": "stderr",
     "output_type": "stream",
     "text": [
      "/usr/local/lib/python3.7/site-packages/ipykernel_launcher.py:136: RuntimeWarning: More than 20 figures have been opened. Figures created through the pyplot interface (`matplotlib.pyplot.figure`) are retained until explicitly closed and may consume too much memory. (To control this warning, see the rcParam `figure.max_open_warning`).\n"
     ]
    },
    {
     "name": "stdout",
     "output_type": "stream",
     "text": [
      "#############################################################################\n",
      "##\t[34/35]\tmodel=RL_CNN,\tSEED=0,\ttrade=100,\trisk=562\thold=0.1\t##\n",
      "#############################################################################\n",
      "episode: 1/200, loss: 3.6038, duration: 0:00:00.405475\n",
      "episode: 11/200, loss: 0.5955, duration: 0:00:00.374361\n",
      "episode: 21/200, loss: 1.6210, duration: 0:00:00.372367\n",
      "episode: 31/200, loss: 1.2554, duration: 0:00:00.381927\n",
      "episode: 41/200, loss: 0.4393, duration: 0:00:00.374909\n",
      "episode: 51/200, loss: 0.4496, duration: 0:00:00.363538\n",
      "episode: 61/200, loss: 0.2738, duration: 0:00:00.366149\n",
      "episode: 71/200, loss: 0.3864, duration: 0:00:00.361119\n",
      "episode: 81/200, loss: 0.7786, duration: 0:00:00.364716\n",
      "episode: 91/200, loss: 0.5678, duration: 0:00:00.526521\n",
      "episode: 101/200, loss: 0.5345, duration: 0:00:00.461973\n",
      "episode: 111/200, loss: 0.3704, duration: 0:00:00.466789\n",
      "episode: 121/200, loss: 0.4586, duration: 0:00:00.401110\n",
      "episode: 131/200, loss: 0.3273, duration: 0:00:00.515499\n",
      "episode: 141/200, loss: 1.0254, duration: 0:00:00.435117\n",
      "episode: 151/200, loss: 0.4858, duration: 0:00:00.511894\n",
      "episode: 161/200, loss: 1.5224, duration: 0:00:00.404474\n",
      "episode: 171/200, loss: 1.4358, duration: 0:00:00.399190\n",
      "episode: 181/200, loss: 0.1475, duration: 0:00:00.397896\n",
      "episode: 191/200, loss: 0.7665, duration: 0:00:00.379541\n"
     ]
    },
    {
     "name": "stderr",
     "output_type": "stream",
     "text": [
      "/usr/local/lib/python3.7/site-packages/ipykernel_launcher.py:136: RuntimeWarning: More than 20 figures have been opened. Figures created through the pyplot interface (`matplotlib.pyplot.figure`) are retained until explicitly closed and may consume too much memory. (To control this warning, see the rcParam `figure.max_open_warning`).\n"
     ]
    },
    {
     "name": "stdout",
     "output_type": "stream",
     "text": [
      "#############################################################################\n",
      "##\t[35/35]\tmodel=RL_CNN,\tSEED=0,\ttrade=100,\trisk=1000\thold=0.1\t##\n",
      "#############################################################################\n",
      "episode: 1/200, loss: 5.4614, duration: 0:00:00.407518\n",
      "episode: 11/200, loss: 0.9468, duration: 0:00:00.455340\n",
      "episode: 21/200, loss: 2.6105, duration: 0:00:00.437594\n",
      "episode: 31/200, loss: 1.9866, duration: 0:00:00.415313\n",
      "episode: 41/200, loss: 0.6972, duration: 0:00:00.460560\n",
      "episode: 51/200, loss: 0.7174, duration: 0:00:00.389259\n",
      "episode: 61/200, loss: 0.4455, duration: 0:00:00.374134\n",
      "episode: 71/200, loss: 0.6290, duration: 0:00:00.469727\n",
      "episode: 81/200, loss: 1.2357, duration: 0:00:00.420789\n",
      "episode: 91/200, loss: 0.8564, duration: 0:00:00.385578\n",
      "episode: 101/200, loss: 0.7789, duration: 0:00:00.380261\n",
      "episode: 111/200, loss: 0.5482, duration: 0:00:00.412399\n",
      "episode: 121/200, loss: 0.6819, duration: 0:00:00.388693\n",
      "episode: 131/200, loss: 0.5042, duration: 0:00:00.450963\n",
      "episode: 141/200, loss: 1.6325, duration: 0:00:00.398614\n",
      "episode: 151/200, loss: 0.7848, duration: 0:00:00.376827\n",
      "episode: 161/200, loss: 2.4808, duration: 0:00:00.404980\n",
      "episode: 171/200, loss: 2.5672, duration: 0:00:00.405035\n",
      "episode: 181/200, loss: 0.3322, duration: 0:00:00.387644\n",
      "episode: 191/200, loss: 1.1876, duration: 0:00:00.426197\n"
     ]
    },
    {
     "name": "stderr",
     "output_type": "stream",
     "text": [
      "/usr/local/lib/python3.7/site-packages/ipykernel_launcher.py:136: RuntimeWarning: More than 20 figures have been opened. Figures created through the pyplot interface (`matplotlib.pyplot.figure`) are retained until explicitly closed and may consume too much memory. (To control this warning, see the rcParam `figure.max_open_warning`).\n"
     ]
    },
    {
     "name": "stdout",
     "output_type": "stream",
     "text": [
      "CPU times: user 46min 53s, sys: 17.4 s, total: 47min 10s\n",
      "Wall time: 46min 39s\n"
     ]
    },
    {
     "data": {
      "text/plain": [
       "<Figure size 1400x500 with 0 Axes>"
      ]
     },
     "metadata": {},
     "output_type": "display_data"
    },
    {
     "data": {
      "text/plain": [
       "<Figure size 1400x500 with 0 Axes>"
      ]
     },
     "metadata": {},
     "output_type": "display_data"
    },
    {
     "data": {
      "text/plain": [
       "<Figure size 1400x500 with 0 Axes>"
      ]
     },
     "metadata": {},
     "output_type": "display_data"
    },
    {
     "data": {
      "text/plain": [
       "<Figure size 1400x500 with 0 Axes>"
      ]
     },
     "metadata": {},
     "output_type": "display_data"
    },
    {
     "data": {
      "text/plain": [
       "<Figure size 1400x500 with 0 Axes>"
      ]
     },
     "metadata": {},
     "output_type": "display_data"
    },
    {
     "data": {
      "text/plain": [
       "<Figure size 1400x500 with 0 Axes>"
      ]
     },
     "metadata": {},
     "output_type": "display_data"
    },
    {
     "data": {
      "text/plain": [
       "<Figure size 1400x500 with 0 Axes>"
      ]
     },
     "metadata": {},
     "output_type": "display_data"
    },
    {
     "data": {
      "text/plain": [
       "<Figure size 1400x500 with 0 Axes>"
      ]
     },
     "metadata": {},
     "output_type": "display_data"
    },
    {
     "data": {
      "text/plain": [
       "<Figure size 1400x500 with 0 Axes>"
      ]
     },
     "metadata": {},
     "output_type": "display_data"
    },
    {
     "data": {
      "text/plain": [
       "<Figure size 1400x500 with 0 Axes>"
      ]
     },
     "metadata": {},
     "output_type": "display_data"
    },
    {
     "data": {
      "text/plain": [
       "<Figure size 1400x500 with 0 Axes>"
      ]
     },
     "metadata": {},
     "output_type": "display_data"
    },
    {
     "data": {
      "text/plain": [
       "<Figure size 1400x500 with 0 Axes>"
      ]
     },
     "metadata": {},
     "output_type": "display_data"
    },
    {
     "data": {
      "text/plain": [
       "<Figure size 1400x500 with 0 Axes>"
      ]
     },
     "metadata": {},
     "output_type": "display_data"
    },
    {
     "data": {
      "text/plain": [
       "<Figure size 1400x500 with 0 Axes>"
      ]
     },
     "metadata": {},
     "output_type": "display_data"
    },
    {
     "data": {
      "text/plain": [
       "<Figure size 1400x500 with 0 Axes>"
      ]
     },
     "metadata": {},
     "output_type": "display_data"
    },
    {
     "data": {
      "text/plain": [
       "<Figure size 1400x500 with 0 Axes>"
      ]
     },
     "metadata": {},
     "output_type": "display_data"
    },
    {
     "data": {
      "text/plain": [
       "<Figure size 1400x500 with 0 Axes>"
      ]
     },
     "metadata": {},
     "output_type": "display_data"
    },
    {
     "data": {
      "text/plain": [
       "<Figure size 1400x500 with 0 Axes>"
      ]
     },
     "metadata": {},
     "output_type": "display_data"
    },
    {
     "data": {
      "text/plain": [
       "<Figure size 1400x500 with 0 Axes>"
      ]
     },
     "metadata": {},
     "output_type": "display_data"
    },
    {
     "data": {
      "text/plain": [
       "<Figure size 1400x500 with 0 Axes>"
      ]
     },
     "metadata": {},
     "output_type": "display_data"
    },
    {
     "data": {
      "text/plain": [
       "<Figure size 1400x500 with 0 Axes>"
      ]
     },
     "metadata": {},
     "output_type": "display_data"
    },
    {
     "data": {
      "text/plain": [
       "<Figure size 1400x500 with 0 Axes>"
      ]
     },
     "metadata": {},
     "output_type": "display_data"
    },
    {
     "data": {
      "text/plain": [
       "<Figure size 1400x500 with 0 Axes>"
      ]
     },
     "metadata": {},
     "output_type": "display_data"
    },
    {
     "data": {
      "text/plain": [
       "<Figure size 1400x500 with 0 Axes>"
      ]
     },
     "metadata": {},
     "output_type": "display_data"
    },
    {
     "data": {
      "text/plain": [
       "<Figure size 1400x500 with 0 Axes>"
      ]
     },
     "metadata": {},
     "output_type": "display_data"
    },
    {
     "data": {
      "text/plain": [
       "<Figure size 1400x500 with 0 Axes>"
      ]
     },
     "metadata": {},
     "output_type": "display_data"
    },
    {
     "data": {
      "text/plain": [
       "<Figure size 1400x500 with 0 Axes>"
      ]
     },
     "metadata": {},
     "output_type": "display_data"
    },
    {
     "data": {
      "text/plain": [
       "<Figure size 1400x500 with 0 Axes>"
      ]
     },
     "metadata": {},
     "output_type": "display_data"
    },
    {
     "data": {
      "text/plain": [
       "<Figure size 1400x500 with 0 Axes>"
      ]
     },
     "metadata": {},
     "output_type": "display_data"
    },
    {
     "data": {
      "text/plain": [
       "<Figure size 1400x500 with 0 Axes>"
      ]
     },
     "metadata": {},
     "output_type": "display_data"
    },
    {
     "data": {
      "text/plain": [
       "<Figure size 1400x500 with 0 Axes>"
      ]
     },
     "metadata": {},
     "output_type": "display_data"
    },
    {
     "data": {
      "text/plain": [
       "<Figure size 1400x500 with 0 Axes>"
      ]
     },
     "metadata": {},
     "output_type": "display_data"
    },
    {
     "data": {
      "text/plain": [
       "<Figure size 1400x500 with 0 Axes>"
      ]
     },
     "metadata": {},
     "output_type": "display_data"
    },
    {
     "data": {
      "text/plain": [
       "<Figure size 1400x500 with 0 Axes>"
      ]
     },
     "metadata": {},
     "output_type": "display_data"
    },
    {
     "data": {
      "text/plain": [
       "<Figure size 1400x500 with 0 Axes>"
      ]
     },
     "metadata": {},
     "output_type": "display_data"
    }
   ],
   "source": [
    "%%time\n",
    "##########################\n",
    "### main training loop ###\n",
    "##########################\n",
    "\n",
    "# define investor preferences to train for\n",
    "#------ extended-boyd-sweep ------#\n",
    "#GAMMA_TRADES = [5.5, 6, 6.5, 7, 7.5, 8, 9, 10, 11, 12, 15, 20, 30]\n",
    "#GAMMA_TRADES = [4, 5]\n",
    "#GAMMA_TRADES = [0.1, 0.5, 1, 2, 3, 45, 60, 100, 200]\n",
    "#GAMMA_RISKS = [0.1, 0.178, 0.316, 0.562, 1, 2, 3, 6, 10, 18, 32, 56, 100, 178, 316, 562, 1000, 2000, 5000, 10000, 20000]\n",
    "#---------------------------------#\n",
    "counter = 0\n",
    "\n",
    "for RANDOM_SEED in SEED_LIST:\n",
    "    model_name = f'{MODEL_BASE_NAME}_seed_{RANDOM_SEED}'\n",
    "    maybe_make_dir(f'../experiments/{MARKET_NAME}/seeded/{MODEL_BASE_NAME}/seed_{RANDOM_SEED}')\n",
    "    \n",
    "    for (GAMMA_TRADE, GAMMA_RISK, GAMMA_HOLD) in GAMMA_TRIOS:\n",
    "        # set random generator seed for tf and np\n",
    "        # this is probably unnecessary because it is done when env is initialised but just incase\n",
    "        tf.random.set_seed(RANDOM_SEED)\n",
    "        np.random.seed(RANDOM_SEED)\n",
    "        counter += 1\n",
    "\n",
    "        # check if test lready done. skip if so\n",
    "        #if not FROM_PRETRAINED:\n",
    "            #skip = os.path.exists(f'experiments/12_assets/00_seeded/seed_{RANDOM_SEED}/trade_{GAMMA_TRADE}_risk_{GAMMA_RISK}') # check if already exists\n",
    "        #else:\n",
    "        \n",
    "        skip = os.path.exists(f'../experiments/{MARKET_NAME}/seeded/{MODEL_BASE_NAME}/seed_{RANDOM_SEED}/trade_{GAMMA_TRADE}_risk_{GAMMA_RISK}_hold_{GAMMA_HOLD}')\n",
    "\n",
    "        if not skip: # if not exists, do test\n",
    "\n",
    "            print('#############################################################################')\n",
    "            print(f'##\\t[{counter}/{len(GAMMA_TRIOS)}]\\tmodel={MODEL_BASE_NAME},\\tSEED={RANDOM_SEED},\\ttrade={GAMMA_TRADE},\\trisk={GAMMA_RISK}\\thold={GAMMA_HOLD}\\t##')\n",
    "            print('#############################################################################')        \n",
    "\n",
    "            # create agent and environment\n",
    "            env = MultiStockEnv(tickers=TICKERS, \n",
    "                                from_date=FROM,\n",
    "                                until=UNTIL, \n",
    "                                #nb_episodes=100,\n",
    "                                cash_key='USDOLLAR', \n",
    "                                gamma_risk=GAMMA_RISK, \n",
    "                                gamma_trade=GAMMA_TRADE,\n",
    "                                gamma_hold=GAMMA_HOLD,\n",
    "                                half_spread=HALF_SPREAD, \n",
    "                                nonlin_coef=NONLIN_COEFF, \n",
    "                                power=POWER, \n",
    "                                datadir=DATA_DIR, \n",
    "                                state_lookback_window=20, \n",
    "                                distribution=EPISODE_DRAW_DISTRIBUTION,\n",
    "                                days_duration=DAYS_IN_EPISODE, \n",
    "                                mode='train', \n",
    "                                random_seed=RANDOM_SEED,\n",
    "                                init_portfolio=INIT_PORTFOLIO, \n",
    "                                period_in_file_name=FILE_PERIOD, \n",
    "                                nb_forecasts=NB_FORECASTS, \n",
    "                                forecast_type=FORECAST_TYPE,\n",
    "                                use_CNN_state=USE_CNN_STATE,\n",
    "                                verbose=False)\n",
    "\n",
    "            agent = Agent(alpha=0.001, \n",
    "                          gamma=0.99, \n",
    "                          n_assets=len(TICKERS)+1, \n",
    "                          tau=5, \n",
    "                          lookback_window=20, \n",
    "                          n_feature_maps=len(TICKERS)+1,\n",
    "                          use_forecasts=USE_FORECASTS,\n",
    "                          use_CNN_state=USE_CNN_STATE,\n",
    "                          allow_long_short_trades=True)\n",
    "\n",
    "            # initialise policy by one forward pass then load pretrained weights\n",
    "            #if FROM_PRETRAINED: \n",
    "                #agent.choose_action(env._get_obs())\n",
    "                #agent.load(pretrined_weights_dir)\n",
    "\n",
    "            # configure folders\n",
    "            experiments_folder = f'../experiments/{MARKET_NAME}'\n",
    "            from_seeded_folder = f'{experiments_folder}/seeded'\n",
    "            base_model_folder = f'{from_seeded_folder}/{MODEL_BASE_NAME}'\n",
    "            seed_folder = f'{base_model_folder}/seed_{RANDOM_SEED}'\n",
    "            #if FROM_PRETRAINED:\n",
    "            #    pretrained_folder = f'{nb_assets_folder}/0_further_trained'\n",
    "            #    preference_folder = f'{pretrained_folder}/trade_{GAMMA_TRADE}_risk_{GAMMA_RISK}'\n",
    "            #else:\n",
    "            preference_folder = f'{seed_folder}/trade_{GAMMA_TRADE}_risk_{GAMMA_RISK}_hold_{GAMMA_HOLD}'\n",
    "            models_folder = f'{preference_folder}/models' # where saved models will be saved\n",
    "            losses_folder = f'{preference_folder}/losses' # where losses will be saved for plotting training progress\n",
    "            fig_folder = f'{preference_folder}/figures'\n",
    "\n",
    "            # create dirictories for saving outputs to (if they don't exist already)\n",
    "            #maybe_make_dir(nb_assets_folder)\n",
    "            maybe_make_dir(seed_folder)\n",
    "            maybe_make_dir(preference_folder)\n",
    "            maybe_make_dir(models_folder)\n",
    "            maybe_make_dir(losses_folder)\n",
    "            maybe_make_dir(fig_folder)\n",
    "\n",
    "            if MODE == 'train':\n",
    "                # play the game num_episodes times and update weights according to loss\n",
    "                losses = []\n",
    "                for e in range(NB_EPISODES):\n",
    "\n",
    "                    # save model weights every few episodes\n",
    "                    if (e%SAVE_EVERY == 0) and (e!=0):\n",
    "                        agent.save(f'{models_folder}/{model_name}_{e}')\n",
    "                        # save losses of training period\n",
    "                        np.save(f'{losses_folder}/{model_name}_{MODE}_{e}_losses.npy', np.array(losses))\n",
    "\n",
    "                    t0 = datetime.datetime.now()\n",
    "                    try:\n",
    "                        loss = play_one_episode(agent, env, MODE)\n",
    "                    except Exception as err:\n",
    "                        print(f'\\t*** error in episode {e}:', err)\n",
    "                        loss = np.nan#5.0 # just an arbitraty number that seems high compared to usual losses\n",
    "                    dt = datetime.datetime.now() - t0\n",
    "                    losses.append(loss) # append episode loss\n",
    "                    # print progress\n",
    "                    if (e%10 == 0):\n",
    "                        print(f\"episode: {e + 1}/{NB_EPISODES}, loss: {loss:.4f}, duration: {dt}\")\n",
    "\n",
    "\n",
    "                # save the weights and losses when done\t\n",
    "                agent.save(f'{models_folder}/{model_name}_{NB_EPISODES}')\n",
    "                np.save(f'{losses_folder}/{model_name}_{MODE}_{NB_EPISODES}_losses.npy', np.array(losses))\n",
    "\n",
    "            # plot losses\n",
    "            save_fig = True\n",
    "\n",
    "            # load losses file\n",
    "            file = f'{losses_folder}/{model_name}_{MODE}_{NB_EPISODES}_losses.npy'\n",
    "            loaded_losses = np.load(file)\n",
    "\n",
    "            # plot losses\n",
    "            plt.figure(figsize=(14,5))\n",
    "            plt.plot(loaded_losses)\n",
    "            plt.title(f'{model_name} Training Loss')\n",
    "            plt.xlabel('Episode Number')\n",
    "            plt.ylabel(r'Loss: $-G \\approx -\\mathbb{E}\\left[ \\sum_{k=0}^{T} \\gamma^k R_t \\right]$')\n",
    "            #plt.yscale('symlog')\n",
    "            if save_fig:\n",
    "                plt.savefig(f'{fig_folder}/{model_name}_losses.png', dpi=150, facecolor=None, edgecolor=None, bbox_inches='tight')\n",
    "            plt.clf()\n",
    "\n",
    "        else:\n",
    "            print(f'\\talready exists: trade_{GAMMA_TRADE}_risk_{GAMMA_RISK}_hold_{GAMMA_HOLD}')\n",
    "            print('\\tskip to next.')"
   ]
  },
  {
   "cell_type": "code",
   "execution_count": 6,
   "metadata": {},
   "outputs": [],
   "source": [
    "# double check the end of training\n",
    "#env.until"
   ]
  },
  {
   "cell_type": "code",
   "execution_count": 7,
   "metadata": {},
   "outputs": [
    {
     "name": "stdout",
     "output_type": "stream",
     "text": [
      "training done.\n"
     ]
    }
   ],
   "source": [
    "print('training done.')"
   ]
  },
  {
   "cell_type": "code",
   "execution_count": 8,
   "metadata": {},
   "outputs": [],
   "source": [
    "### Now repeat this for the different RL models.\n",
    "### remember to update the gamma-pairs, model base name, and model specs/setup in beginning of notebook!"
   ]
  }
 ],
 "metadata": {
  "interpreter": {
   "hash": "949777d72b0d2535278d3dc13498b2535136f6dfe0678499012e853ee9abcab1"
  },
  "kernelspec": {
   "display_name": "Python 3.7.6 64-bit",
   "language": "python",
   "name": "python3"
  },
  "language_info": {
   "codemirror_mode": {
    "name": "ipython",
    "version": 3
   },
   "file_extension": ".py",
   "mimetype": "text/x-python",
   "name": "python",
   "nbconvert_exporter": "python",
   "pygments_lexer": "ipython3",
   "version": "3.7.6"
  }
 },
 "nbformat": 4,
 "nbformat_minor": 4
}
