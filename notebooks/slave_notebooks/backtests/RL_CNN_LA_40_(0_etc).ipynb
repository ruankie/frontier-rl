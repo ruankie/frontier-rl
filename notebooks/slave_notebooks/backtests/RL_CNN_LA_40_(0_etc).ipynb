{
 "cells": [
  {
   "cell_type": "code",
   "execution_count": 1,
   "id": "ba7da8cb",
   "metadata": {
    "execution": {
     "iopub.execute_input": "2022-06-20T07:17:38.971643Z",
     "iopub.status.busy": "2022-06-20T07:17:38.970505Z",
     "iopub.status.idle": "2022-06-20T07:17:43.800977Z",
     "shell.execute_reply": "2022-06-20T07:17:43.788158Z"
    },
    "papermill": {
     "duration": 4.850323,
     "end_time": "2022-06-20T07:17:43.806790",
     "exception": false,
     "start_time": "2022-06-20T07:17:38.956467",
     "status": "completed"
    },
    "tags": []
   },
   "outputs": [
    {
     "name": "stdout",
     "output_type": "stream",
     "text": [
      "CPU times: user 5.96 s, sys: 2.19 s, total: 8.15 s\n",
      "Wall time: 4.79 s\n"
     ]
    }
   ],
   "source": [
    "%%time\n",
    "import numpy as np\n",
    "import pandas as pd\n",
    "import matplotlib.pyplot as plt\n",
    "import datetime\n",
    "import os\n",
    "from src.models.frontier import MultiStockEnv, Agent, backtest, maybe_make_dir\n",
    "from src.config import market_tickers\n",
    "from src.config.model_config import model_parameters"
   ]
  },
  {
   "cell_type": "code",
   "execution_count": 2,
   "id": "1e79f05d",
   "metadata": {
    "execution": {
     "iopub.execute_input": "2022-06-20T07:17:43.830212Z",
     "iopub.status.busy": "2022-06-20T07:17:43.828959Z",
     "iopub.status.idle": "2022-06-20T07:17:43.845166Z",
     "shell.execute_reply": "2022-06-20T07:17:43.842985Z"
    },
    "papermill": {
     "duration": 0.032242,
     "end_time": "2022-06-20T07:17:43.849201",
     "exception": false,
     "start_time": "2022-06-20T07:17:43.816959",
     "status": "completed"
    },
    "tags": [
     "parameters"
    ]
   },
   "outputs": [],
   "source": [
    "# papermill parameters\n",
    "SEED_LIST = [\n",
    "             0,\n",
    "             #1111,\n",
    "             #2222, \n",
    "             #3333, \n",
    "             #4444, \n",
    "             #5555,\n",
    "             #6666,\n",
    "             #7777,\n",
    "             #8888,\n",
    "             #9999\n",
    "            ]\n",
    "\n",
    "#TICKERS = market_tickers.DOW_30_TICKER\n",
    "TICKERS = ['AAPL', 'AMD', 'CSCO', 'F', 'INTC']\n",
    "MARKET_NAME = 'TEST_5'\n",
    "MODEL_BASE_NAME = 'RL_CNN' # use either | 'RL_CNN' | 'RL_str_fcast' | 'RL_all_inp' |\n",
    "FROM = '2019-01-01' # start of backtest\n",
    "UNTIL = '2020-01-01' # end of backtest\n",
    "NB_EPISODES = 200 # backtest model that was trained for this number of episodes\n",
    "\n",
    "# investor preferences\n",
    "GAMMA_TRADES = [0.1, 1, 10, 100]\n",
    "GAMMA_RISKS = [0.1, 1, 10, 100, 1000]\n",
    "GAMMA_HOLDS = [0.1, 1]"
   ]
  },
  {
   "cell_type": "code",
   "execution_count": 3,
   "id": "e21202d3",
   "metadata": {
    "execution": {
     "iopub.execute_input": "2022-06-20T07:17:43.863988Z",
     "iopub.status.busy": "2022-06-20T07:17:43.862952Z",
     "iopub.status.idle": "2022-06-20T07:17:43.880958Z",
     "shell.execute_reply": "2022-06-20T07:17:43.878801Z"
    },
    "papermill": {
     "duration": 0.030631,
     "end_time": "2022-06-20T07:17:43.885037",
     "exception": false,
     "start_time": "2022-06-20T07:17:43.854406",
     "status": "completed"
    },
    "tags": [
     "injected-parameters"
    ]
   },
   "outputs": [],
   "source": [
    "# Parameters\n",
    "SEED_LIST = [0]\n",
    "TICKERS = [\n",
    "    \"VALE\",\n",
    "    \"ITUB\",\n",
    "    \"PBR-A\",\n",
    "    \"BBD\",\n",
    "    \"PBR\",\n",
    "    \"AMXL.MX\",\n",
    "    \"WALMEX.MX\",\n",
    "    \"FEMSAUBD.MX\",\n",
    "    \"GFNORTEO.MX\",\n",
    "    \"WEGE3.SA\",\n",
    "    \"BBAS3.SA\",\n",
    "    \"BAP\",\n",
    "    \"CEMEXCPO.MX\",\n",
    "    \"SQM\",\n",
    "    \"SCCO\",\n",
    "    \"GGB\",\n",
    "    \"CHILE.SN\",\n",
    "    \"ENIA\",\n",
    "    \"CIB\",\n",
    "    \"TLEVISACPO.MX\",\n",
    "    \"EC\",\n",
    "    \"BRFS\",\n",
    "    \"BSAC\",\n",
    "    \"CCRO3.SA\",\n",
    "]\n",
    "MARKET_NAME = \"LA_40\"\n",
    "MODEL_BASE_NAME = \"RL_CNN\"\n",
    "FROM = \"2014-12-01\"\n",
    "UNTIL = \"2016-01-01\"\n",
    "NB_EPISODES = 200\n",
    "GAMMA_TRADES = [0.1, 1, 10, 100]\n",
    "GAMMA_RISKS = [0.1, 1, 10, 100, 1000]\n",
    "GAMMA_HOLDS = [0.1, 1]\n"
   ]
  },
  {
   "cell_type": "code",
   "execution_count": 4,
   "id": "14a30dc6",
   "metadata": {
    "execution": {
     "iopub.execute_input": "2022-06-20T07:17:43.901560Z",
     "iopub.status.busy": "2022-06-20T07:17:43.900508Z",
     "iopub.status.idle": "2022-06-20T07:17:43.915199Z",
     "shell.execute_reply": "2022-06-20T07:17:43.913093Z"
    },
    "papermill": {
     "duration": 0.030737,
     "end_time": "2022-06-20T07:17:43.921082",
     "exception": false,
     "start_time": "2022-06-20T07:17:43.890345",
     "status": "completed"
    },
    "tags": []
   },
   "outputs": [
    {
     "name": "stdout",
     "output_type": "stream",
     "text": [
      "number of trios:  40\n"
     ]
    }
   ],
   "source": [
    "#------ small test-sweep ------#\n",
    "# GAMMA_TRADES = [0.1, 1, 10, 100]\n",
    "# GAMMA_RISKS = [0.1, 1, 10, 100, 1000]\n",
    "# GAMMA_HOLDS = [0.1, 1]\n",
    "#------ extended-boyd-sweep ------#\n",
    "# GAMMA_TRADES =  [0.1, 0.5, 1, 2, 3, 4, 5, 5.5, 6, 6.5, 7, 7.5, 8, 9, 10, 11, 12, 15, 20, 30, 45, 60, 100, 200]\n",
    "# GAMMA_RISKS = [0.1, 0.178, 0.316, 0.562, 1, 2, 3, 6, 10, 18, 32, 56, 100, 178, 316, 562, 1000, 2000, 5000, 10000, 20000]\n",
    "#---------------------------------#\n",
    "\n",
    "GAMMA_TRIOS = []\n",
    "for tr in GAMMA_TRADES:\n",
    "    for ri in GAMMA_RISKS:\n",
    "        for hd in GAMMA_HOLDS:\n",
    "            GAMMA_TRIOS.append((tr, ri, hd))\n",
    "        \n",
    "#format: (gamma_trade, gamma_risk, gamma_hold)\n",
    "print('number of trios: ', len(GAMMA_TRIOS))\n",
    "#GAMMA_TRIOS"
   ]
  },
  {
   "cell_type": "code",
   "execution_count": 5,
   "id": "65ea8e30",
   "metadata": {
    "execution": {
     "iopub.execute_input": "2022-06-20T07:17:43.943313Z",
     "iopub.status.busy": "2022-06-20T07:17:43.942346Z",
     "iopub.status.idle": "2022-06-20T07:17:43.972674Z",
     "shell.execute_reply": "2022-06-20T07:17:43.970022Z"
    },
    "papermill": {
     "duration": 0.047557,
     "end_time": "2022-06-20T07:17:43.977531",
     "exception": false,
     "start_time": "2022-06-20T07:17:43.929974",
     "status": "completed"
    },
    "tags": []
   },
   "outputs": [],
   "source": [
    "# other constants and parameters\n",
    "TICKERS.sort()\n",
    "FILE_PERIOD = '1d' # weekly='5d', daily='1d'\n",
    "HALF_SPREAD = 0.0005/2.0 # 'a' in transaction cost function\n",
    "NONLIN_COEFF = 1.0 # 'b' transaction cost function\n",
    "POWER = 1.5 # power for change in poertfolio vector used in transaction cost\n",
    "INIT_PORTFOLIO = 100000000.0 # initial portfolio value\n",
    "\n",
    "USE_FORECASTS = model_parameters[MODEL_BASE_NAME]['use_forecasts'] # whether to use forecasts as inputs to agent policy net or not\n",
    "NB_FORECASTS = model_parameters[MODEL_BASE_NAME]['nb_forecasts'] # number of forecasts to use in state. Set to None for no forecasts\n",
    "FORECAST_TYPE = model_parameters[MODEL_BASE_NAME]['forecast_type'] # use 'strong' or 'weak' forecasts (if no forecasts given, this does not matter)\n",
    "USE_CNN_STATE = model_parameters[MODEL_BASE_NAME]['use_cnn_state'] # whether to pass log-rets block for CNN part of policy net (set to false for forecast only)\n",
    "\n",
    "TEST_NAME = f'{MARKET_NAME}_{MODEL_BASE_NAME}_seeds_{SEED_LIST[0]}_etc'\n",
    "RESULTS_DIR = f'../experiments/{MARKET_NAME}/seeded/{MODEL_BASE_NAME}/backtests/'\n",
    "DATA_DIR = f'../data/{MARKET_NAME}/preprocessed_data/'"
   ]
  },
  {
   "cell_type": "markdown",
   "id": "cf107ff5",
   "metadata": {
    "papermill": {
     "duration": 0.009572,
     "end_time": "2022-06-20T07:17:44.066012",
     "exception": false,
     "start_time": "2022-06-20T07:17:44.056440",
     "status": "completed"
    },
    "tags": []
   },
   "source": [
    "## create agent(s) and backtest in new backtest env"
   ]
  },
  {
   "cell_type": "code",
   "execution_count": 6,
   "id": "dfcf7601",
   "metadata": {
    "execution": {
     "iopub.execute_input": "2022-06-20T07:17:44.088064Z",
     "iopub.status.busy": "2022-06-20T07:17:44.087347Z",
     "iopub.status.idle": "2022-06-20T07:30:22.810529Z",
     "shell.execute_reply": "2022-06-20T07:30:22.808043Z"
    },
    "papermill": {
     "duration": 758.765662,
     "end_time": "2022-06-20T07:30:22.841451",
     "exception": false,
     "start_time": "2022-06-20T07:17:44.075789",
     "status": "completed"
    },
    "scrolled": true,
    "tags": []
   },
   "outputs": [
    {
     "name": "stdout",
     "output_type": "stream",
     "text": [
      "creating environment and agent...\n"
     ]
    },
    {
     "name": "stdout",
     "output_type": "stream",
     "text": [
      "backtesting:\n",
      "\t[1/40]\tRL_CNN: gamma_trade=0.1, gamma_risk=0.1, gamma_hold=0.1, seed=0...\n"
     ]
    },
    {
     "name": "stdout",
     "output_type": "stream",
     "text": [
      "\t[2/40]\tRL_CNN: gamma_trade=0.1, gamma_risk=0.1, gamma_hold=1, seed=0...\n"
     ]
    },
    {
     "name": "stdout",
     "output_type": "stream",
     "text": [
      "\t[3/40]\tRL_CNN: gamma_trade=0.1, gamma_risk=1, gamma_hold=0.1, seed=0...\n"
     ]
    },
    {
     "name": "stdout",
     "output_type": "stream",
     "text": [
      "\t[4/40]\tRL_CNN: gamma_trade=0.1, gamma_risk=1, gamma_hold=1, seed=0...\n"
     ]
    },
    {
     "name": "stdout",
     "output_type": "stream",
     "text": [
      "\t[5/40]\tRL_CNN: gamma_trade=0.1, gamma_risk=10, gamma_hold=0.1, seed=0...\n"
     ]
    },
    {
     "name": "stdout",
     "output_type": "stream",
     "text": [
      "\t[6/40]\tRL_CNN: gamma_trade=0.1, gamma_risk=10, gamma_hold=1, seed=0...\n"
     ]
    },
    {
     "name": "stdout",
     "output_type": "stream",
     "text": [
      "\t[7/40]\tRL_CNN: gamma_trade=0.1, gamma_risk=100, gamma_hold=0.1, seed=0...\n"
     ]
    },
    {
     "name": "stdout",
     "output_type": "stream",
     "text": [
      "\t[8/40]\tRL_CNN: gamma_trade=0.1, gamma_risk=100, gamma_hold=1, seed=0...\n"
     ]
    },
    {
     "name": "stdout",
     "output_type": "stream",
     "text": [
      "\t[9/40]\tRL_CNN: gamma_trade=0.1, gamma_risk=1000, gamma_hold=0.1, seed=0...\n"
     ]
    },
    {
     "name": "stdout",
     "output_type": "stream",
     "text": [
      "\t[10/40]\tRL_CNN: gamma_trade=0.1, gamma_risk=1000, gamma_hold=1, seed=0...\n"
     ]
    },
    {
     "name": "stdout",
     "output_type": "stream",
     "text": [
      "\t[11/40]\tRL_CNN: gamma_trade=1, gamma_risk=0.1, gamma_hold=0.1, seed=0...\n"
     ]
    },
    {
     "name": "stdout",
     "output_type": "stream",
     "text": [
      "\t[12/40]\tRL_CNN: gamma_trade=1, gamma_risk=0.1, gamma_hold=1, seed=0...\n"
     ]
    },
    {
     "name": "stdout",
     "output_type": "stream",
     "text": [
      "\t[13/40]\tRL_CNN: gamma_trade=1, gamma_risk=1, gamma_hold=0.1, seed=0...\n"
     ]
    },
    {
     "name": "stdout",
     "output_type": "stream",
     "text": [
      "\t[14/40]\tRL_CNN: gamma_trade=1, gamma_risk=1, gamma_hold=1, seed=0...\n"
     ]
    },
    {
     "name": "stdout",
     "output_type": "stream",
     "text": [
      "\t[15/40]\tRL_CNN: gamma_trade=1, gamma_risk=10, gamma_hold=0.1, seed=0...\n"
     ]
    },
    {
     "name": "stdout",
     "output_type": "stream",
     "text": [
      "\t[16/40]\tRL_CNN: gamma_trade=1, gamma_risk=10, gamma_hold=1, seed=0...\n"
     ]
    },
    {
     "name": "stdout",
     "output_type": "stream",
     "text": [
      "\t[17/40]\tRL_CNN: gamma_trade=1, gamma_risk=100, gamma_hold=0.1, seed=0...\n"
     ]
    },
    {
     "name": "stdout",
     "output_type": "stream",
     "text": [
      "\t[18/40]\tRL_CNN: gamma_trade=1, gamma_risk=100, gamma_hold=1, seed=0...\n"
     ]
    },
    {
     "name": "stdout",
     "output_type": "stream",
     "text": [
      "\t[19/40]\tRL_CNN: gamma_trade=1, gamma_risk=1000, gamma_hold=0.1, seed=0...\n"
     ]
    },
    {
     "name": "stdout",
     "output_type": "stream",
     "text": [
      "\t[20/40]\tRL_CNN: gamma_trade=1, gamma_risk=1000, gamma_hold=1, seed=0...\n"
     ]
    },
    {
     "name": "stdout",
     "output_type": "stream",
     "text": [
      "\t[21/40]\tRL_CNN: gamma_trade=10, gamma_risk=0.1, gamma_hold=0.1, seed=0...\n"
     ]
    },
    {
     "name": "stdout",
     "output_type": "stream",
     "text": [
      "\t[22/40]\tRL_CNN: gamma_trade=10, gamma_risk=0.1, gamma_hold=1, seed=0...\n"
     ]
    },
    {
     "name": "stdout",
     "output_type": "stream",
     "text": [
      "\t[23/40]\tRL_CNN: gamma_trade=10, gamma_risk=1, gamma_hold=0.1, seed=0...\n"
     ]
    },
    {
     "name": "stdout",
     "output_type": "stream",
     "text": [
      "\t[24/40]\tRL_CNN: gamma_trade=10, gamma_risk=1, gamma_hold=1, seed=0...\n"
     ]
    },
    {
     "name": "stdout",
     "output_type": "stream",
     "text": [
      "\t[25/40]\tRL_CNN: gamma_trade=10, gamma_risk=10, gamma_hold=0.1, seed=0...\n"
     ]
    },
    {
     "name": "stdout",
     "output_type": "stream",
     "text": [
      "\t[26/40]\tRL_CNN: gamma_trade=10, gamma_risk=10, gamma_hold=1, seed=0...\n"
     ]
    },
    {
     "name": "stdout",
     "output_type": "stream",
     "text": [
      "\t[27/40]\tRL_CNN: gamma_trade=10, gamma_risk=100, gamma_hold=0.1, seed=0...\n"
     ]
    },
    {
     "name": "stdout",
     "output_type": "stream",
     "text": [
      "\t[28/40]\tRL_CNN: gamma_trade=10, gamma_risk=100, gamma_hold=1, seed=0...\n"
     ]
    },
    {
     "name": "stdout",
     "output_type": "stream",
     "text": [
      "\t[29/40]\tRL_CNN: gamma_trade=10, gamma_risk=1000, gamma_hold=0.1, seed=0...\n"
     ]
    },
    {
     "name": "stdout",
     "output_type": "stream",
     "text": [
      "\t[30/40]\tRL_CNN: gamma_trade=10, gamma_risk=1000, gamma_hold=1, seed=0...\n"
     ]
    },
    {
     "name": "stdout",
     "output_type": "stream",
     "text": [
      "\t[31/40]\tRL_CNN: gamma_trade=100, gamma_risk=0.1, gamma_hold=0.1, seed=0...\n"
     ]
    },
    {
     "name": "stdout",
     "output_type": "stream",
     "text": [
      "\t[32/40]\tRL_CNN: gamma_trade=100, gamma_risk=0.1, gamma_hold=1, seed=0...\n"
     ]
    },
    {
     "name": "stdout",
     "output_type": "stream",
     "text": [
      "\t[33/40]\tRL_CNN: gamma_trade=100, gamma_risk=1, gamma_hold=0.1, seed=0...\n"
     ]
    },
    {
     "name": "stdout",
     "output_type": "stream",
     "text": [
      "\t[34/40]\tRL_CNN: gamma_trade=100, gamma_risk=1, gamma_hold=1, seed=0...\n"
     ]
    },
    {
     "name": "stdout",
     "output_type": "stream",
     "text": [
      "\t[35/40]\tRL_CNN: gamma_trade=100, gamma_risk=10, gamma_hold=0.1, seed=0...\n"
     ]
    },
    {
     "name": "stdout",
     "output_type": "stream",
     "text": [
      "\t[36/40]\tRL_CNN: gamma_trade=100, gamma_risk=10, gamma_hold=1, seed=0...\n"
     ]
    },
    {
     "name": "stdout",
     "output_type": "stream",
     "text": [
      "\t[37/40]\tRL_CNN: gamma_trade=100, gamma_risk=100, gamma_hold=0.1, seed=0...\n"
     ]
    },
    {
     "name": "stdout",
     "output_type": "stream",
     "text": [
      "\t[38/40]\tRL_CNN: gamma_trade=100, gamma_risk=100, gamma_hold=1, seed=0...\n"
     ]
    },
    {
     "name": "stdout",
     "output_type": "stream",
     "text": [
      "\t[39/40]\tRL_CNN: gamma_trade=100, gamma_risk=1000, gamma_hold=0.1, seed=0...\n"
     ]
    },
    {
     "name": "stdout",
     "output_type": "stream",
     "text": [
      "\t[40/40]\tRL_CNN: gamma_trade=100, gamma_risk=1000, gamma_hold=1, seed=0...\n"
     ]
    },
    {
     "name": "stdout",
     "output_type": "stream",
     "text": [
      "CPU times: user 10min 24s, sys: 1.49 s, total: 10min 25s\n",
      "Wall time: 12min 38s\n"
     ]
    }
   ],
   "source": [
    "%%time\n",
    "# make directory for results if it does not exist already\n",
    "maybe_make_dir(RESULTS_DIR)\n",
    "\n",
    "print('creating environment and agent...')\n",
    "env = MultiStockEnv(tickers=TICKERS, \n",
    "                    from_date=FROM,\n",
    "                    until=UNTIL, \n",
    "                    #nb_episodes=100,\n",
    "                    cash_key='USDOLLAR', \n",
    "                    #gamma_risk=GAMMA_RISK, \n",
    "                    #gamma_trade=GAMMA_TRADE,\n",
    "                    #half_spread=HALF_SPREAD, \n",
    "                    nonlin_coef=NONLIN_COEFF, \n",
    "                    power=POWER, \n",
    "                    datadir=DATA_DIR, \n",
    "                    state_lookback_window=20, \n",
    "                    #distribution=EPISODE_DRAW_DISTRIBUTION,\n",
    "                    #days_duration=DAYS_IN_EPISODE, \n",
    "                    mode='backtest', \n",
    "                    random_seed=7,\n",
    "                    init_portfolio=INIT_PORTFOLIO, \n",
    "                    period_in_file_name=FILE_PERIOD, \n",
    "                    nb_forecasts=NB_FORECASTS, \n",
    "                    forecast_type=FORECAST_TYPE,\n",
    "                    use_CNN_state=USE_CNN_STATE,\n",
    "                    verbose=False)\n",
    "\n",
    "agent = Agent(alpha=0.001, \n",
    "              gamma=0.99, \n",
    "              n_assets=len(TICKERS)+1, \n",
    "              tau=5, \n",
    "              lookback_window=20, \n",
    "              n_feature_maps=len(TICKERS)+1,\n",
    "              use_forecasts=USE_FORECASTS,\n",
    "              use_CNN_state=USE_CNN_STATE,\n",
    "              allow_long_short_trades=True)\n",
    "\n",
    "results_dict = {}\n",
    "#actions_dict = {}\n",
    "print('backtesting:')\n",
    "\n",
    "total_backtests = len(SEED_LIST) * len(GAMMA_TRIOS)\n",
    "backtest_counter = 0\n",
    "\n",
    "for RANDOM_SEED in SEED_LIST:\n",
    "    for (GAMMA_TRADE, GAMMA_RISK, GAMMA_HOLD) in GAMMA_TRIOS:\n",
    "        \n",
    "        backtest_counter += 1\n",
    "        print(f'\\t[{backtest_counter}/{total_backtests}]\\t{MODEL_BASE_NAME}: gamma_trade={GAMMA_TRADE}, gamma_risk={GAMMA_RISK}, gamma_hold={GAMMA_HOLD}, seed={RANDOM_SEED}...')\n",
    "        \n",
    "        # load trained RL model for backtesting\n",
    "        SAVED_MODEL_DIR = f'../experiments/{MARKET_NAME}/seeded/{MODEL_BASE_NAME}/seed_{RANDOM_SEED}/trade_{GAMMA_TRADE}_risk_{GAMMA_RISK}_hold_{GAMMA_HOLD}/models/{MODEL_BASE_NAME}_seed_{RANDOM_SEED}_{NB_EPISODES}'\n",
    "        # set dir where actions csv file will be saved\n",
    "        actions_dir = f'../experiments/{MARKET_NAME}/seeded/{MODEL_BASE_NAME}/seed_{RANDOM_SEED}/trade_{GAMMA_TRADE}_risk_{GAMMA_RISK}_hold_{GAMMA_HOLD}'\n",
    "        \n",
    "        try:\n",
    "            rl_rets, rl_actions = backtest(agent, env, weights_file_dir=SAVED_MODEL_DIR, verbose=False)\n",
    "            \n",
    "            #rl_rets = pd.Series(data=rl_rets, index=env.returns.loc[FROM:UNTIL].iloc[1:].index)\n",
    "            #rl_actions = pd.DataFrame(data=rl_actions, index=env.returns.loc[FROM:UNTIL].iloc[0:].index, columns=TICKERS+['USDOLLAR'])\n",
    "            rl_rets = pd.Series(data=rl_rets, index=env.returns.loc[FROM:UNTIL].iloc[:-1].index)\n",
    "            rl_rets = rl_rets.shift(1)\n",
    "            rl_rets.iloc[0] = 0\n",
    "            rl_actions = pd.DataFrame(data=rl_actions[:-1], index=env.returns.loc[FROM:UNTIL].iloc[:-1].index, columns=TICKERS+['USDOLLAR'])\n",
    "            \n",
    "            # save actions\n",
    "            rl_actions.to_csv(f'{actions_dir}/actions.csv')\n",
    "            #print('actions saved.')\n",
    "\n",
    "            cash_rets = env.returns.loc[FROM:UNTIL, env.cash_key].iloc[:-1]\n",
    "            excess_rets = rl_rets - cash_rets\n",
    "\n",
    "            R_e = excess_rets.mean() * 100 * 252\n",
    "            sigma_e = excess_rets.std() * 100 * np.sqrt(252)\n",
    "            sharpe = R_e / sigma_e\n",
    "\n",
    "            results_dict[(GAMMA_TRADE, GAMMA_RISK, GAMMA_HOLD, RANDOM_SEED)] = {'excess_return':R_e, 'excess_risk':sigma_e, 'sharpe':sharpe}\n",
    "        except Exception as e:\n",
    "            print(f'**error for model: trade_{GAMMA_TRADE}_risk_{GAMMA_RISK}_hold_{GAMMA_HOLD}')\n",
    "            #print(e)"
   ]
  },
  {
   "cell_type": "code",
   "execution_count": 7,
   "id": "92b56d6c",
   "metadata": {
    "execution": {
     "iopub.execute_input": "2022-06-20T07:30:22.933852Z",
     "iopub.status.busy": "2022-06-20T07:30:22.932924Z",
     "iopub.status.idle": "2022-06-20T07:30:23.115816Z",
     "shell.execute_reply": "2022-06-20T07:30:23.113086Z"
    },
    "papermill": {
     "duration": 0.227978,
     "end_time": "2022-06-20T07:30:23.121967",
     "exception": false,
     "start_time": "2022-06-20T07:30:22.893989",
     "status": "completed"
    },
    "tags": []
   },
   "outputs": [
    {
     "name": "stdout",
     "output_type": "stream",
     "text": [
      "saved.\n"
     ]
    },
    {
     "data": {
      "text/html": [
       "<div>\n",
       "<style scoped>\n",
       "    .dataframe tbody tr th:only-of-type {\n",
       "        vertical-align: middle;\n",
       "    }\n",
       "\n",
       "    .dataframe tbody tr th {\n",
       "        vertical-align: top;\n",
       "    }\n",
       "\n",
       "    .dataframe thead th {\n",
       "        text-align: right;\n",
       "    }\n",
       "</style>\n",
       "<table border=\"1\" class=\"dataframe\">\n",
       "  <thead>\n",
       "    <tr style=\"text-align: right;\">\n",
       "      <th></th>\n",
       "      <th>gamma_trade</th>\n",
       "      <th>gamma_risk</th>\n",
       "      <th>gamma_hold</th>\n",
       "      <th>seed</th>\n",
       "      <th>excess_return</th>\n",
       "      <th>excess_risk</th>\n",
       "      <th>sharpe</th>\n",
       "    </tr>\n",
       "  </thead>\n",
       "  <tbody>\n",
       "    <tr>\n",
       "      <th>0</th>\n",
       "      <td>0.1</td>\n",
       "      <td>0.1</td>\n",
       "      <td>0.1</td>\n",
       "      <td>0</td>\n",
       "      <td>-29.973824</td>\n",
       "      <td>20.492879</td>\n",
       "      <td>-1.462646</td>\n",
       "    </tr>\n",
       "    <tr>\n",
       "      <th>1</th>\n",
       "      <td>0.1</td>\n",
       "      <td>0.1</td>\n",
       "      <td>1.0</td>\n",
       "      <td>0</td>\n",
       "      <td>-28.846303</td>\n",
       "      <td>34.134992</td>\n",
       "      <td>-0.845065</td>\n",
       "    </tr>\n",
       "    <tr>\n",
       "      <th>2</th>\n",
       "      <td>0.1</td>\n",
       "      <td>1.0</td>\n",
       "      <td>0.1</td>\n",
       "      <td>0</td>\n",
       "      <td>-44.403841</td>\n",
       "      <td>28.385863</td>\n",
       "      <td>-1.564294</td>\n",
       "    </tr>\n",
       "    <tr>\n",
       "      <th>3</th>\n",
       "      <td>0.1</td>\n",
       "      <td>1.0</td>\n",
       "      <td>1.0</td>\n",
       "      <td>0</td>\n",
       "      <td>-13.325177</td>\n",
       "      <td>25.006617</td>\n",
       "      <td>-0.532866</td>\n",
       "    </tr>\n",
       "    <tr>\n",
       "      <th>4</th>\n",
       "      <td>0.1</td>\n",
       "      <td>10.0</td>\n",
       "      <td>0.1</td>\n",
       "      <td>0</td>\n",
       "      <td>-6.007976</td>\n",
       "      <td>23.411679</td>\n",
       "      <td>-0.256623</td>\n",
       "    </tr>\n",
       "    <tr>\n",
       "      <th>5</th>\n",
       "      <td>0.1</td>\n",
       "      <td>10.0</td>\n",
       "      <td>1.0</td>\n",
       "      <td>0</td>\n",
       "      <td>-11.481748</td>\n",
       "      <td>28.235791</td>\n",
       "      <td>-0.406638</td>\n",
       "    </tr>\n",
       "    <tr>\n",
       "      <th>6</th>\n",
       "      <td>0.1</td>\n",
       "      <td>100.0</td>\n",
       "      <td>0.1</td>\n",
       "      <td>0</td>\n",
       "      <td>-16.980322</td>\n",
       "      <td>13.530103</td>\n",
       "      <td>-1.255003</td>\n",
       "    </tr>\n",
       "    <tr>\n",
       "      <th>7</th>\n",
       "      <td>0.1</td>\n",
       "      <td>100.0</td>\n",
       "      <td>1.0</td>\n",
       "      <td>0</td>\n",
       "      <td>-17.314859</td>\n",
       "      <td>13.440119</td>\n",
       "      <td>-1.288297</td>\n",
       "    </tr>\n",
       "    <tr>\n",
       "      <th>8</th>\n",
       "      <td>0.1</td>\n",
       "      <td>1000.0</td>\n",
       "      <td>0.1</td>\n",
       "      <td>0</td>\n",
       "      <td>-19.377247</td>\n",
       "      <td>13.780757</td>\n",
       "      <td>-1.406109</td>\n",
       "    </tr>\n",
       "    <tr>\n",
       "      <th>9</th>\n",
       "      <td>0.1</td>\n",
       "      <td>1000.0</td>\n",
       "      <td>1.0</td>\n",
       "      <td>0</td>\n",
       "      <td>-19.124884</td>\n",
       "      <td>13.760103</td>\n",
       "      <td>-1.389879</td>\n",
       "    </tr>\n",
       "    <tr>\n",
       "      <th>10</th>\n",
       "      <td>1.0</td>\n",
       "      <td>0.1</td>\n",
       "      <td>0.1</td>\n",
       "      <td>0</td>\n",
       "      <td>-23.082250</td>\n",
       "      <td>28.119490</td>\n",
       "      <td>-0.820863</td>\n",
       "    </tr>\n",
       "    <tr>\n",
       "      <th>11</th>\n",
       "      <td>1.0</td>\n",
       "      <td>0.1</td>\n",
       "      <td>1.0</td>\n",
       "      <td>0</td>\n",
       "      <td>-16.109711</td>\n",
       "      <td>26.285918</td>\n",
       "      <td>-0.612865</td>\n",
       "    </tr>\n",
       "    <tr>\n",
       "      <th>12</th>\n",
       "      <td>1.0</td>\n",
       "      <td>1.0</td>\n",
       "      <td>0.1</td>\n",
       "      <td>0</td>\n",
       "      <td>-41.788251</td>\n",
       "      <td>27.483082</td>\n",
       "      <td>-1.520508</td>\n",
       "    </tr>\n",
       "    <tr>\n",
       "      <th>13</th>\n",
       "      <td>1.0</td>\n",
       "      <td>1.0</td>\n",
       "      <td>1.0</td>\n",
       "      <td>0</td>\n",
       "      <td>-48.965777</td>\n",
       "      <td>33.264843</td>\n",
       "      <td>-1.471998</td>\n",
       "    </tr>\n",
       "    <tr>\n",
       "      <th>14</th>\n",
       "      <td>1.0</td>\n",
       "      <td>10.0</td>\n",
       "      <td>0.1</td>\n",
       "      <td>0</td>\n",
       "      <td>-5.913626</td>\n",
       "      <td>25.239984</td>\n",
       "      <td>-0.234296</td>\n",
       "    </tr>\n",
       "    <tr>\n",
       "      <th>15</th>\n",
       "      <td>1.0</td>\n",
       "      <td>10.0</td>\n",
       "      <td>1.0</td>\n",
       "      <td>0</td>\n",
       "      <td>-7.738794</td>\n",
       "      <td>25.322519</td>\n",
       "      <td>-0.305609</td>\n",
       "    </tr>\n",
       "    <tr>\n",
       "      <th>16</th>\n",
       "      <td>1.0</td>\n",
       "      <td>100.0</td>\n",
       "      <td>0.1</td>\n",
       "      <td>0</td>\n",
       "      <td>-16.029718</td>\n",
       "      <td>13.492300</td>\n",
       "      <td>-1.188064</td>\n",
       "    </tr>\n",
       "    <tr>\n",
       "      <th>17</th>\n",
       "      <td>1.0</td>\n",
       "      <td>100.0</td>\n",
       "      <td>1.0</td>\n",
       "      <td>0</td>\n",
       "      <td>-15.513289</td>\n",
       "      <td>13.507776</td>\n",
       "      <td>-1.148471</td>\n",
       "    </tr>\n",
       "    <tr>\n",
       "      <th>18</th>\n",
       "      <td>1.0</td>\n",
       "      <td>1000.0</td>\n",
       "      <td>0.1</td>\n",
       "      <td>0</td>\n",
       "      <td>-19.243916</td>\n",
       "      <td>13.737132</td>\n",
       "      <td>-1.400868</td>\n",
       "    </tr>\n",
       "    <tr>\n",
       "      <th>19</th>\n",
       "      <td>1.0</td>\n",
       "      <td>1000.0</td>\n",
       "      <td>1.0</td>\n",
       "      <td>0</td>\n",
       "      <td>-19.622418</td>\n",
       "      <td>13.748085</td>\n",
       "      <td>-1.427284</td>\n",
       "    </tr>\n",
       "    <tr>\n",
       "      <th>20</th>\n",
       "      <td>10.0</td>\n",
       "      <td>0.1</td>\n",
       "      <td>0.1</td>\n",
       "      <td>0</td>\n",
       "      <td>-21.390659</td>\n",
       "      <td>26.122525</td>\n",
       "      <td>-0.818859</td>\n",
       "    </tr>\n",
       "    <tr>\n",
       "      <th>21</th>\n",
       "      <td>10.0</td>\n",
       "      <td>0.1</td>\n",
       "      <td>1.0</td>\n",
       "      <td>0</td>\n",
       "      <td>-56.448493</td>\n",
       "      <td>82.550628</td>\n",
       "      <td>-0.683805</td>\n",
       "    </tr>\n",
       "    <tr>\n",
       "      <th>22</th>\n",
       "      <td>10.0</td>\n",
       "      <td>1.0</td>\n",
       "      <td>0.1</td>\n",
       "      <td>0</td>\n",
       "      <td>-25.085210</td>\n",
       "      <td>26.789434</td>\n",
       "      <td>-0.936384</td>\n",
       "    </tr>\n",
       "    <tr>\n",
       "      <th>23</th>\n",
       "      <td>10.0</td>\n",
       "      <td>1.0</td>\n",
       "      <td>1.0</td>\n",
       "      <td>0</td>\n",
       "      <td>-61.600269</td>\n",
       "      <td>35.758746</td>\n",
       "      <td>-1.722663</td>\n",
       "    </tr>\n",
       "    <tr>\n",
       "      <th>24</th>\n",
       "      <td>10.0</td>\n",
       "      <td>10.0</td>\n",
       "      <td>0.1</td>\n",
       "      <td>0</td>\n",
       "      <td>-4.043554</td>\n",
       "      <td>20.630242</td>\n",
       "      <td>-0.196001</td>\n",
       "    </tr>\n",
       "    <tr>\n",
       "      <th>25</th>\n",
       "      <td>10.0</td>\n",
       "      <td>10.0</td>\n",
       "      <td>1.0</td>\n",
       "      <td>0</td>\n",
       "      <td>-3.049513</td>\n",
       "      <td>18.786071</td>\n",
       "      <td>-0.162328</td>\n",
       "    </tr>\n",
       "    <tr>\n",
       "      <th>26</th>\n",
       "      <td>10.0</td>\n",
       "      <td>100.0</td>\n",
       "      <td>0.1</td>\n",
       "      <td>0</td>\n",
       "      <td>-13.936682</td>\n",
       "      <td>13.516190</td>\n",
       "      <td>-1.031110</td>\n",
       "    </tr>\n",
       "    <tr>\n",
       "      <th>27</th>\n",
       "      <td>10.0</td>\n",
       "      <td>100.0</td>\n",
       "      <td>1.0</td>\n",
       "      <td>0</td>\n",
       "      <td>-13.262245</td>\n",
       "      <td>13.516839</td>\n",
       "      <td>-0.981165</td>\n",
       "    </tr>\n",
       "    <tr>\n",
       "      <th>28</th>\n",
       "      <td>10.0</td>\n",
       "      <td>1000.0</td>\n",
       "      <td>0.1</td>\n",
       "      <td>0</td>\n",
       "      <td>-19.141901</td>\n",
       "      <td>13.763111</td>\n",
       "      <td>-1.390812</td>\n",
       "    </tr>\n",
       "    <tr>\n",
       "      <th>29</th>\n",
       "      <td>10.0</td>\n",
       "      <td>1000.0</td>\n",
       "      <td>1.0</td>\n",
       "      <td>0</td>\n",
       "      <td>-19.082546</td>\n",
       "      <td>13.740042</td>\n",
       "      <td>-1.388827</td>\n",
       "    </tr>\n",
       "    <tr>\n",
       "      <th>30</th>\n",
       "      <td>100.0</td>\n",
       "      <td>0.1</td>\n",
       "      <td>0.1</td>\n",
       "      <td>0</td>\n",
       "      <td>-19.468275</td>\n",
       "      <td>25.482095</td>\n",
       "      <td>-0.763998</td>\n",
       "    </tr>\n",
       "    <tr>\n",
       "      <th>31</th>\n",
       "      <td>100.0</td>\n",
       "      <td>0.1</td>\n",
       "      <td>1.0</td>\n",
       "      <td>0</td>\n",
       "      <td>-19.463186</td>\n",
       "      <td>25.479316</td>\n",
       "      <td>-0.763882</td>\n",
       "    </tr>\n",
       "    <tr>\n",
       "      <th>32</th>\n",
       "      <td>100.0</td>\n",
       "      <td>1.0</td>\n",
       "      <td>0.1</td>\n",
       "      <td>0</td>\n",
       "      <td>-19.454131</td>\n",
       "      <td>25.476440</td>\n",
       "      <td>-0.763613</td>\n",
       "    </tr>\n",
       "    <tr>\n",
       "      <th>33</th>\n",
       "      <td>100.0</td>\n",
       "      <td>1.0</td>\n",
       "      <td>1.0</td>\n",
       "      <td>0</td>\n",
       "      <td>-19.451534</td>\n",
       "      <td>25.475081</td>\n",
       "      <td>-0.763551</td>\n",
       "    </tr>\n",
       "    <tr>\n",
       "      <th>34</th>\n",
       "      <td>100.0</td>\n",
       "      <td>10.0</td>\n",
       "      <td>0.1</td>\n",
       "      <td>0</td>\n",
       "      <td>-19.336441</td>\n",
       "      <td>19.855380</td>\n",
       "      <td>-0.973864</td>\n",
       "    </tr>\n",
       "    <tr>\n",
       "      <th>35</th>\n",
       "      <td>100.0</td>\n",
       "      <td>10.0</td>\n",
       "      <td>1.0</td>\n",
       "      <td>0</td>\n",
       "      <td>-19.335001</td>\n",
       "      <td>19.852394</td>\n",
       "      <td>-0.973938</td>\n",
       "    </tr>\n",
       "    <tr>\n",
       "      <th>36</th>\n",
       "      <td>100.0</td>\n",
       "      <td>100.0</td>\n",
       "      <td>0.1</td>\n",
       "      <td>0</td>\n",
       "      <td>-5.200251</td>\n",
       "      <td>13.634311</td>\n",
       "      <td>-0.381409</td>\n",
       "    </tr>\n",
       "    <tr>\n",
       "      <th>37</th>\n",
       "      <td>100.0</td>\n",
       "      <td>100.0</td>\n",
       "      <td>1.0</td>\n",
       "      <td>0</td>\n",
       "      <td>-5.228650</td>\n",
       "      <td>13.619922</td>\n",
       "      <td>-0.383897</td>\n",
       "    </tr>\n",
       "    <tr>\n",
       "      <th>38</th>\n",
       "      <td>100.0</td>\n",
       "      <td>1000.0</td>\n",
       "      <td>0.1</td>\n",
       "      <td>0</td>\n",
       "      <td>-15.622856</td>\n",
       "      <td>13.870161</td>\n",
       "      <td>-1.126364</td>\n",
       "    </tr>\n",
       "    <tr>\n",
       "      <th>39</th>\n",
       "      <td>100.0</td>\n",
       "      <td>1000.0</td>\n",
       "      <td>1.0</td>\n",
       "      <td>0</td>\n",
       "      <td>-15.365944</td>\n",
       "      <td>13.879055</td>\n",
       "      <td>-1.107132</td>\n",
       "    </tr>\n",
       "  </tbody>\n",
       "</table>\n",
       "</div>"
      ],
      "text/plain": [
       "    gamma_trade  gamma_risk  gamma_hold  seed  excess_return  excess_risk  \\\n",
       "0           0.1         0.1         0.1     0     -29.973824    20.492879   \n",
       "1           0.1         0.1         1.0     0     -28.846303    34.134992   \n",
       "2           0.1         1.0         0.1     0     -44.403841    28.385863   \n",
       "3           0.1         1.0         1.0     0     -13.325177    25.006617   \n",
       "4           0.1        10.0         0.1     0      -6.007976    23.411679   \n",
       "5           0.1        10.0         1.0     0     -11.481748    28.235791   \n",
       "6           0.1       100.0         0.1     0     -16.980322    13.530103   \n",
       "7           0.1       100.0         1.0     0     -17.314859    13.440119   \n",
       "8           0.1      1000.0         0.1     0     -19.377247    13.780757   \n",
       "9           0.1      1000.0         1.0     0     -19.124884    13.760103   \n",
       "10          1.0         0.1         0.1     0     -23.082250    28.119490   \n",
       "11          1.0         0.1         1.0     0     -16.109711    26.285918   \n",
       "12          1.0         1.0         0.1     0     -41.788251    27.483082   \n",
       "13          1.0         1.0         1.0     0     -48.965777    33.264843   \n",
       "14          1.0        10.0         0.1     0      -5.913626    25.239984   \n",
       "15          1.0        10.0         1.0     0      -7.738794    25.322519   \n",
       "16          1.0       100.0         0.1     0     -16.029718    13.492300   \n",
       "17          1.0       100.0         1.0     0     -15.513289    13.507776   \n",
       "18          1.0      1000.0         0.1     0     -19.243916    13.737132   \n",
       "19          1.0      1000.0         1.0     0     -19.622418    13.748085   \n",
       "20         10.0         0.1         0.1     0     -21.390659    26.122525   \n",
       "21         10.0         0.1         1.0     0     -56.448493    82.550628   \n",
       "22         10.0         1.0         0.1     0     -25.085210    26.789434   \n",
       "23         10.0         1.0         1.0     0     -61.600269    35.758746   \n",
       "24         10.0        10.0         0.1     0      -4.043554    20.630242   \n",
       "25         10.0        10.0         1.0     0      -3.049513    18.786071   \n",
       "26         10.0       100.0         0.1     0     -13.936682    13.516190   \n",
       "27         10.0       100.0         1.0     0     -13.262245    13.516839   \n",
       "28         10.0      1000.0         0.1     0     -19.141901    13.763111   \n",
       "29         10.0      1000.0         1.0     0     -19.082546    13.740042   \n",
       "30        100.0         0.1         0.1     0     -19.468275    25.482095   \n",
       "31        100.0         0.1         1.0     0     -19.463186    25.479316   \n",
       "32        100.0         1.0         0.1     0     -19.454131    25.476440   \n",
       "33        100.0         1.0         1.0     0     -19.451534    25.475081   \n",
       "34        100.0        10.0         0.1     0     -19.336441    19.855380   \n",
       "35        100.0        10.0         1.0     0     -19.335001    19.852394   \n",
       "36        100.0       100.0         0.1     0      -5.200251    13.634311   \n",
       "37        100.0       100.0         1.0     0      -5.228650    13.619922   \n",
       "38        100.0      1000.0         0.1     0     -15.622856    13.870161   \n",
       "39        100.0      1000.0         1.0     0     -15.365944    13.879055   \n",
       "\n",
       "      sharpe  \n",
       "0  -1.462646  \n",
       "1  -0.845065  \n",
       "2  -1.564294  \n",
       "3  -0.532866  \n",
       "4  -0.256623  \n",
       "5  -0.406638  \n",
       "6  -1.255003  \n",
       "7  -1.288297  \n",
       "8  -1.406109  \n",
       "9  -1.389879  \n",
       "10 -0.820863  \n",
       "11 -0.612865  \n",
       "12 -1.520508  \n",
       "13 -1.471998  \n",
       "14 -0.234296  \n",
       "15 -0.305609  \n",
       "16 -1.188064  \n",
       "17 -1.148471  \n",
       "18 -1.400868  \n",
       "19 -1.427284  \n",
       "20 -0.818859  \n",
       "21 -0.683805  \n",
       "22 -0.936384  \n",
       "23 -1.722663  \n",
       "24 -0.196001  \n",
       "25 -0.162328  \n",
       "26 -1.031110  \n",
       "27 -0.981165  \n",
       "28 -1.390812  \n",
       "29 -1.388827  \n",
       "30 -0.763998  \n",
       "31 -0.763882  \n",
       "32 -0.763613  \n",
       "33 -0.763551  \n",
       "34 -0.973864  \n",
       "35 -0.973938  \n",
       "36 -0.381409  \n",
       "37 -0.383897  \n",
       "38 -1.126364  \n",
       "39 -1.107132  "
      ]
     },
     "execution_count": 7,
     "metadata": {},
     "output_type": "execute_result"
    }
   ],
   "source": [
    "results_df = pd.DataFrame(results_dict).T.reset_index()\n",
    "results_df.columns = ['gamma_trade', 'gamma_risk', 'gamma_hold', 'seed', 'excess_return', 'excess_risk', 'sharpe']\n",
    "results_df.to_csv(RESULTS_DIR+TEST_NAME+'.csv', index=False)\n",
    "print('saved.')\n",
    "results_df"
   ]
  },
  {
   "cell_type": "code",
   "execution_count": 8,
   "id": "dca139ab",
   "metadata": {
    "execution": {
     "iopub.execute_input": "2022-06-20T07:30:23.223748Z",
     "iopub.status.busy": "2022-06-20T07:30:23.222894Z",
     "iopub.status.idle": "2022-06-20T07:30:24.900809Z",
     "shell.execute_reply": "2022-06-20T07:30:24.898632Z"
    },
    "papermill": {
     "duration": 1.723,
     "end_time": "2022-06-20T07:30:24.907040",
     "exception": false,
     "start_time": "2022-06-20T07:30:23.184040",
     "status": "completed"
    },
    "tags": []
   },
   "outputs": [
    {
     "data": {
      "text/plain": [
       "(-10.0, 70.0)"
      ]
     },
     "execution_count": 8,
     "metadata": {},
     "output_type": "execute_result"
    },
    {
     "data": {
      "image/png": "[encoded data removed]",
      "text/plain": [
       "<Figure size 432x360 with 1 Axes>"
      ]
     },
     "metadata": {
      "needs_background": "light"
     },
     "output_type": "display_data"
    }
   ],
   "source": [
    "# risk-return plot \n",
    "results_df[['excess_return', 'excess_risk']]\\\n",
    "    .rename(\n",
    "        columns={\n",
    "            'excess_return':'Excess Return (%)', \n",
    "            'excess_risk':'Excess Risk (%)'\n",
    "        })\\\n",
    "    .plot(\n",
    "        kind='scatter', \n",
    "        x='Excess Risk (%)', \n",
    "        y='Excess Return (%)', \n",
    "        title='Backtest Resulsts', \n",
    "        alpha=0.8,\n",
    "        figsize=(6,5),\n",
    "        c='C0')\n",
    "\n",
    "# x and y axis limits\n",
    "plt.xlim(left=0.0, right=60.0)\n",
    "plt.ylim(bottom=-10.0, top=70.0)"
   ]
  },
  {
   "cell_type": "code",
   "execution_count": 9,
   "id": "a44e9c2a",
   "metadata": {
    "execution": {
     "iopub.execute_input": "2022-06-20T07:30:25.001179Z",
     "iopub.status.busy": "2022-06-20T07:30:25.000311Z",
     "iopub.status.idle": "2022-06-20T07:30:25.010506Z",
     "shell.execute_reply": "2022-06-20T07:30:25.008129Z"
    },
    "papermill": {
     "duration": 0.060089,
     "end_time": "2022-06-20T07:30:25.020176",
     "exception": false,
     "start_time": "2022-06-20T07:30:24.960087",
     "status": "completed"
    },
    "tags": []
   },
   "outputs": [
    {
     "name": "stdout",
     "output_type": "stream",
     "text": [
      "done backtesting for RL_CNN.\n"
     ]
    }
   ],
   "source": [
    "print(f'done backtesting for {MODEL_BASE_NAME}.')"
   ]
  },
  {
   "cell_type": "code",
   "execution_count": 10,
   "id": "12e50032",
   "metadata": {
    "execution": {
     "iopub.execute_input": "2022-06-20T07:30:25.115526Z",
     "iopub.status.busy": "2022-06-20T07:30:25.114537Z",
     "iopub.status.idle": "2022-06-20T07:30:25.138547Z",
     "shell.execute_reply": "2022-06-20T07:30:25.136109Z"
    },
    "papermill": {
     "duration": 0.071741,
     "end_time": "2022-06-20T07:30:25.145607",
     "exception": false,
     "start_time": "2022-06-20T07:30:25.073866",
     "status": "completed"
    },
    "tags": []
   },
   "outputs": [
    {
     "data": {
      "text/plain": [
       "<src.models.frontier.LongShortCNNPolicy at 0x7fa9fc2f8490>"
      ]
     },
     "execution_count": 10,
     "metadata": {},
     "output_type": "execute_result"
    }
   ],
   "source": [
    "agent.policy"
   ]
  }
 ],
 "metadata": {
  "interpreter": {
   "hash": "949777d72b0d2535278d3dc13498b2535136f6dfe0678499012e853ee9abcab1"
  },
  "kernelspec": {
   "display_name": "Python 3.7.6 64-bit",
   "language": "python",
   "name": "python3"
  },
  "language_info": {
   "codemirror_mode": {
    "name": "ipython",
    "version": 3
   },
   "file_extension": ".py",
   "mimetype": "text/x-python",
   "name": "python",
   "nbconvert_exporter": "python",
   "pygments_lexer": "ipython3",
   "version": "3.7.6"
  },
  "papermill": {
   "default_parameters": {},
   "duration": 771.747411,
   "end_time": "2022-06-20T07:30:27.926328",
   "environment_variables": {},
   "exception": null,
   "input_path": "backtest_template.ipynb",
   "output_path": "slave_notebooks/backtests/RL_CNN_LA_40_(0_etc).ipynb",
   "parameters": {
    "FROM": "2014-12-01",
    "GAMMA_HOLDS": [
     0.1,
     1
    ],
    "GAMMA_RISKS": [
     0.1,
     1,
     10,
     100,
     1000
    ],
    "GAMMA_TRADES": [
     0.1,
     1,
     10,
     100
    ],
    "MARKET_NAME": "LA_40",
    "MODEL_BASE_NAME": "RL_CNN",
    "NB_EPISODES": 200,
    "SEED_LIST": [
     0
    ],
    "TICKERS": [
     "VALE",
     "ITUB",
     "PBR-A",
     "BBD",
     "PBR",
     "AMXL.MX",
     "WALMEX.MX",
     "FEMSAUBD.MX",
     "GFNORTEO.MX",
     "WEGE3.SA",
     "BBAS3.SA",
     "BAP",
     "CEMEXCPO.MX",
     "SQM",
     "SCCO",
     "GGB",
     "CHILE.SN",
     "ENIA",
     "CIB",
     "TLEVISACPO.MX",
     "EC",
     "BRFS",
     "BSAC",
     "CCRO3.SA"
    ],
    "UNTIL": "2016-01-01"
   },
   "start_time": "2022-06-20T07:17:36.178917",
   "version": "2.3.3"
  }
 },
 "nbformat": 4,
 "nbformat_minor": 5
}