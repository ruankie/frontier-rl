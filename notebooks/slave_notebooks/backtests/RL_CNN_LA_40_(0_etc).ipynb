{
 "cells": [
  {
   "cell_type": "code",
   "execution_count": 1,
   "id": "154abfe5",
   "metadata": {
    "execution": {
     "iopub.execute_input": "2022-06-29T09:19:08.273919Z",
     "iopub.status.busy": "2022-06-29T09:19:08.273528Z",
     "iopub.status.idle": "2022-06-29T09:19:10.268541Z",
     "shell.execute_reply": "2022-06-29T09:19:10.267073Z"
    },
    "papermill": {
     "duration": 2.008248,
     "end_time": "2022-06-29T09:19:10.273311",
     "exception": false,
     "start_time": "2022-06-29T09:19:08.265063",
     "status": "completed"
    },
    "tags": []
   },
   "outputs": [
    {
     "name": "stdout",
     "output_type": "stream",
     "text": [
      "CPU times: user 2.63 s, sys: 3.1 s, total: 5.73 s\n",
      "Wall time: 1.99 s\n"
     ]
    }
   ],
   "source": [
    "%%time\n",
    "import numpy as np\n",
    "import pandas as pd\n",
    "import matplotlib.pyplot as plt\n",
    "import datetime\n",
    "import os\n",
    "from src.models.frontier import MultiStockEnv, Agent, backtest, maybe_make_dir\n",
    "from src.config import market_tickers\n",
    "from src.config.model_config import model_parameters"
   ]
  },
  {
   "cell_type": "code",
   "execution_count": 2,
   "id": "f12582f8",
   "metadata": {
    "execution": {
     "iopub.execute_input": "2022-06-29T09:19:10.295335Z",
     "iopub.status.busy": "2022-06-29T09:19:10.294834Z",
     "iopub.status.idle": "2022-06-29T09:19:10.304132Z",
     "shell.execute_reply": "2022-06-29T09:19:10.302716Z"
    },
    "papermill": {
     "duration": 0.023507,
     "end_time": "2022-06-29T09:19:10.307717",
     "exception": false,
     "start_time": "2022-06-29T09:19:10.284210",
     "status": "completed"
    },
    "tags": [
     "parameters"
    ]
   },
   "outputs": [],
   "source": [
    "# papermill parameters\n",
    "SEED_LIST = [\n",
    "             0,\n",
    "             #1111,\n",
    "             #2222, \n",
    "             #3333, \n",
    "             #4444, \n",
    "             #5555,\n",
    "             #6666,\n",
    "             #7777,\n",
    "             #8888,\n",
    "             #9999\n",
    "            ]\n",
    "\n",
    "#TICKERS = market_tickers.DOW_30_TICKER\n",
    "TICKERS = ['AAPL', 'AMD', 'CSCO', 'F', 'INTC']\n",
    "MARKET_NAME = 'TEST_5'\n",
    "MODEL_BASE_NAME = 'RL_CNN' # use either | 'RL_CNN' | 'RL_str_fcast' | 'RL_all_inp' |\n",
    "FROM = '2019-01-01' # start of backtest\n",
    "UNTIL = '2020-01-01' # end of backtest\n",
    "NB_EPISODES = 200 # backtest model that was trained for this number of episodes\n",
    "\n",
    "# investor preferences\n",
    "GAMMA_TRADES = [0.1, 1, 10, 100]\n",
    "GAMMA_RISKS = [0.1, 1, 10, 100, 1000]\n",
    "GAMMA_HOLDS = [0.1, 1]"
   ]
  },
  {
   "cell_type": "code",
   "execution_count": 3,
   "id": "114c5141",
   "metadata": {
    "execution": {
     "iopub.execute_input": "2022-06-29T09:19:10.325807Z",
     "iopub.status.busy": "2022-06-29T09:19:10.325462Z",
     "iopub.status.idle": "2022-06-29T09:19:10.340131Z",
     "shell.execute_reply": "2022-06-29T09:19:10.338649Z"
    },
    "papermill": {
     "duration": 0.027805,
     "end_time": "2022-06-29T09:19:10.343785",
     "exception": false,
     "start_time": "2022-06-29T09:19:10.315980",
     "status": "completed"
    },
    "tags": [
     "injected-parameters"
    ]
   },
   "outputs": [],
   "source": [
    "# Parameters\n",
    "SEED_LIST = [0]\n",
    "TICKERS = [\n",
    "    \"VALE\",\n",
    "    \"ITUB\",\n",
    "    \"PBR-A\",\n",
    "    \"BBD\",\n",
    "    \"PBR\",\n",
    "    \"AMXL.MX\",\n",
    "    \"WALMEX.MX\",\n",
    "    \"FEMSAUBD.MX\",\n",
    "    \"GFNORTEO.MX\",\n",
    "    \"WEGE3.SA\",\n",
    "    \"BBAS3.SA\",\n",
    "    \"BAP\",\n",
    "    \"CEMEXCPO.MX\",\n",
    "    \"SQM\",\n",
    "    \"SCCO\",\n",
    "    \"GGB\",\n",
    "    \"CHILE.SN\",\n",
    "    \"ENIA\",\n",
    "    \"CIB\",\n",
    "    \"TLEVISACPO.MX\",\n",
    "    \"EC\",\n",
    "    \"BRFS\",\n",
    "    \"BSAC\",\n",
    "    \"CCRO3.SA\",\n",
    "]\n",
    "MARKET_NAME = \"LA_40\"\n",
    "MODEL_BASE_NAME = \"RL_CNN\"\n",
    "FROM = \"2014-12-01\"\n",
    "UNTIL = \"2016-01-01\"\n",
    "NB_EPISODES = 200\n",
    "GAMMA_TRADES = [0.1, 1, 7, 8, 9, 10, 11, 12, 50, 100, 1000]\n",
    "GAMMA_RISKS = [\n",
    "    1,\n",
    "    2,\n",
    "    3,\n",
    "    6,\n",
    "    10,\n",
    "    18,\n",
    "    32,\n",
    "    56,\n",
    "    100,\n",
    "    178,\n",
    "    316,\n",
    "    562,\n",
    "    1000,\n",
    "    5000,\n",
    "    10000,\n",
    "    100000,\n",
    "]\n",
    "GAMMA_HOLDS = [0.1, 1, 10, 100, 1000, 10000, 100000]\n"
   ]
  },
  {
   "cell_type": "code",
   "execution_count": 4,
   "id": "9097d2d8",
   "metadata": {
    "execution": {
     "iopub.execute_input": "2022-06-29T09:19:10.360471Z",
     "iopub.status.busy": "2022-06-29T09:19:10.360142Z",
     "iopub.status.idle": "2022-06-29T09:19:10.370428Z",
     "shell.execute_reply": "2022-06-29T09:19:10.368540Z"
    },
    "papermill": {
     "duration": 0.022693,
     "end_time": "2022-06-29T09:19:10.373946",
     "exception": false,
     "start_time": "2022-06-29T09:19:10.351253",
     "status": "completed"
    },
    "tags": []
   },
   "outputs": [
    {
     "name": "stdout",
     "output_type": "stream",
     "text": [
      "number of trios:  1232\n"
     ]
    }
   ],
   "source": [
    "#------ small test-sweep ------#\n",
    "# GAMMA_TRADES = [0.1, 1, 10, 100]\n",
    "# GAMMA_RISKS = [0.1, 1, 10, 100, 1000]\n",
    "# GAMMA_HOLDS = [0.1, 1]\n",
    "#------ extended-boyd-sweep ------#\n",
    "# GAMMA_TRADES =  [0.1, 0.5, 1, 2, 3, 4, 5, 5.5, 6, 6.5, 7, 7.5, 8, 9, 10, 11, 12, 15, 20, 30, 45, 60, 100, 200]\n",
    "# GAMMA_RISKS = [0.1, 0.178, 0.316, 0.562, 1, 2, 3, 6, 10, 18, 32, 56, 100, 178, 316, 562, 1000, 2000, 5000, 10000, 20000]\n",
    "#---------------------------------#\n",
    "\n",
    "GAMMA_TRIOS = []\n",
    "for tr in GAMMA_TRADES:\n",
    "    for ri in GAMMA_RISKS:\n",
    "        for hd in GAMMA_HOLDS:\n",
    "            GAMMA_TRIOS.append((tr, ri, hd))\n",
    "        \n",
    "#format: (gamma_trade, gamma_risk, gamma_hold)\n",
    "print('number of trios: ', len(GAMMA_TRIOS))\n",
    "#GAMMA_TRIOS"
   ]
  },
  {
   "cell_type": "code",
   "execution_count": 5,
   "id": "88191aa1",
   "metadata": {
    "execution": {
     "iopub.execute_input": "2022-06-29T09:19:10.390358Z",
     "iopub.status.busy": "2022-06-29T09:19:10.389833Z",
     "iopub.status.idle": "2022-06-29T09:19:10.403691Z",
     "shell.execute_reply": "2022-06-29T09:19:10.401868Z"
    },
    "papermill": {
     "duration": 0.026057,
     "end_time": "2022-06-29T09:19:10.407166",
     "exception": false,
     "start_time": "2022-06-29T09:19:10.381109",
     "status": "completed"
    },
    "tags": []
   },
   "outputs": [],
   "source": [
    "# other constants and parameters\n",
    "TICKERS.sort()\n",
    "FILE_PERIOD = '1d' # weekly='5d', daily='1d'\n",
    "HALF_SPREAD = 0.0005/2.0 # 'a' in transaction cost function\n",
    "NONLIN_COEFF = 1.0 # 'b' transaction cost function\n",
    "POWER = 1.5 # power for change in poertfolio vector used in transaction cost\n",
    "INIT_PORTFOLIO = 100000000.0 # initial portfolio value\n",
    "\n",
    "USE_FORECASTS = model_parameters[MODEL_BASE_NAME]['use_forecasts'] # whether to use forecasts as inputs to agent policy net or not\n",
    "NB_FORECASTS = model_parameters[MODEL_BASE_NAME]['nb_forecasts'] # number of forecasts to use in state. Set to None for no forecasts\n",
    "FORECAST_TYPE = model_parameters[MODEL_BASE_NAME]['forecast_type'] # use 'strong' or 'weak' forecasts (if no forecasts given, this does not matter)\n",
    "USE_CNN_STATE = model_parameters[MODEL_BASE_NAME]['use_cnn_state'] # whether to pass log-rets block for CNN part of policy net (set to false for forecast only)\n",
    "\n",
    "TEST_NAME = f'{MARKET_NAME}_{MODEL_BASE_NAME}_seeds_{SEED_LIST[0]}_etc'\n",
    "RESULTS_DIR = f'../experiments/{MARKET_NAME}/seeded/{MODEL_BASE_NAME}/backtests/'\n",
    "DATA_DIR = f'../data/{MARKET_NAME}/preprocessed_data/'"
   ]
  },
  {
   "cell_type": "markdown",
   "id": "4f1a3756",
   "metadata": {
    "papermill": {
     "duration": 0.006622,
     "end_time": "2022-06-29T09:19:10.460338",
     "exception": false,
     "start_time": "2022-06-29T09:19:10.453716",
     "status": "completed"
    },
    "tags": []
   },
   "source": [
    "## create agent(s) and backtest in new backtest env"
   ]
  },
  {
   "cell_type": "code",
   "execution_count": 6,
   "id": "a91df2d5",
   "metadata": {
    "execution": {
     "iopub.execute_input": "2022-06-29T09:19:10.475938Z",
     "iopub.status.busy": "2022-06-29T09:19:10.475349Z",
     "iopub.status.idle": "2022-06-29T11:10:18.000922Z",
     "shell.execute_reply": "2022-06-29T11:10:17.999275Z"
    },
    "papermill": {
     "duration": 6667.53855,
     "end_time": "2022-06-29T11:10:18.005689",
     "exception": false,
     "start_time": "2022-06-29T09:19:10.467139",
     "status": "completed"
    },
    "scrolled": true,
    "tags": []
   },
   "outputs": [
    {
     "name": "stdout",
     "output_type": "stream",
     "text": [
      "creating environment and agent...\n"
     ]
    },
    {
     "name": "stdout",
     "output_type": "stream",
     "text": [
      "backtesting:\n",
      "\t[1/1232]\tRL_CNN: gamma_trade=0.1, gamma_risk=1, gamma_hold=0.1, seed=0...\n"
     ]
    },
    {
     "name": "stdout",
     "output_type": "stream",
     "text": [
      "\t[2/1232]\tRL_CNN: gamma_trade=0.1, gamma_risk=1, gamma_hold=1, seed=0...\n"
     ]
    },
    {
     "name": "stdout",
     "output_type": "stream",
     "text": [
      "\t[3/1232]\tRL_CNN: gamma_trade=0.1, gamma_risk=1, gamma_hold=10, seed=0...\n"
     ]
    },
    {
     "name": "stdout",
     "output_type": "stream",
     "text": [
      "\t[4/1232]\tRL_CNN: gamma_trade=0.1, gamma_risk=1, gamma_hold=100, seed=0...\n"
     ]
    },
    {
     "name": "stdout",
     "output_type": "stream",
     "text": [
      "\t[5/1232]\tRL_CNN: gamma_trade=0.1, gamma_risk=1, gamma_hold=1000, seed=0...\n"
     ]
    },
    {
     "name": "stdout",
     "output_type": "stream",
     "text": [
      "\t[6/1232]\tRL_CNN: gamma_trade=0.1, gamma_risk=1, gamma_hold=10000, seed=0...\n"
     ]
    },
    {
     "name": "stdout",
     "output_type": "stream",
     "text": [
      "\t[7/1232]\tRL_CNN: gamma_trade=0.1, gamma_risk=1, gamma_hold=100000, seed=0...\n"
     ]
    },
    {
     "name": "stdout",
     "output_type": "stream",
     "text": [
      "\t[8/1232]\tRL_CNN: gamma_trade=0.1, gamma_risk=2, gamma_hold=0.1, seed=0...\n"
     ]
    },
    {
     "name": "stdout",
     "output_type": "stream",
     "text": [
      "\t[9/1232]\tRL_CNN: gamma_trade=0.1, gamma_risk=2, gamma_hold=1, seed=0...\n"
     ]
    },
    {
     "name": "stdout",
     "output_type": "stream",
     "text": [
      "\t[10/1232]\tRL_CNN: gamma_trade=0.1, gamma_risk=2, gamma_hold=10, seed=0...\n"
     ]
    },
    {
     "name": "stdout",
     "output_type": "stream",
     "text": [
      "\t[11/1232]\tRL_CNN: gamma_trade=0.1, gamma_risk=2, gamma_hold=100, seed=0...\n"
     ]
    },
    {
     "name": "stdout",
     "output_type": "stream",
     "text": [
      "\t[12/1232]\tRL_CNN: gamma_trade=0.1, gamma_risk=2, gamma_hold=1000, seed=0...\n"
     ]
    },
    {
     "name": "stdout",
     "output_type": "stream",
     "text": [
      "\t[13/1232]\tRL_CNN: gamma_trade=0.1, gamma_risk=2, gamma_hold=10000, seed=0...\n"
     ]
    },
    {
     "name": "stdout",
     "output_type": "stream",
     "text": [
      "\t[14/1232]\tRL_CNN: gamma_trade=0.1, gamma_risk=2, gamma_hold=100000, seed=0...\n"
     ]
    },
    {
     "name": "stdout",
     "output_type": "stream",
     "text": [
      "\t[15/1232]\tRL_CNN: gamma_trade=0.1, gamma_risk=3, gamma_hold=0.1, seed=0...\n"
     ]
    },
    {
     "name": "stdout",
     "output_type": "stream",
     "text": [
      "\t[16/1232]\tRL_CNN: gamma_trade=0.1, gamma_risk=3, gamma_hold=1, seed=0...\n"
     ]
    },
    {
     "name": "stdout",
     "output_type": "stream",
     "text": [
      "\t[17/1232]\tRL_CNN: gamma_trade=0.1, gamma_risk=3, gamma_hold=10, seed=0...\n"
     ]
    },
    {
     "name": "stdout",
     "output_type": "stream",
     "text": [
      "\t[18/1232]\tRL_CNN: gamma_trade=0.1, gamma_risk=3, gamma_hold=100, seed=0...\n"
     ]
    },
    {
     "name": "stdout",
     "output_type": "stream",
     "text": [
      "\t[19/1232]\tRL_CNN: gamma_trade=0.1, gamma_risk=3, gamma_hold=1000, seed=0...\n"
     ]
    },
    {
     "name": "stdout",
     "output_type": "stream",
     "text": [
      "\t[20/1232]\tRL_CNN: gamma_trade=0.1, gamma_risk=3, gamma_hold=10000, seed=0...\n"
     ]
    },
    {
     "name": "stdout",
     "output_type": "stream",
     "text": [
      "\t[21/1232]\tRL_CNN: gamma_trade=0.1, gamma_risk=3, gamma_hold=100000, seed=0...\n"
     ]
    },
    {
     "name": "stdout",
     "output_type": "stream",
     "text": [
      "\t[22/1232]\tRL_CNN: gamma_trade=0.1, gamma_risk=6, gamma_hold=0.1, seed=0...\n"
     ]
    },
    {
     "name": "stdout",
     "output_type": "stream",
     "text": [
      "\t[23/1232]\tRL_CNN: gamma_trade=0.1, gamma_risk=6, gamma_hold=1, seed=0...\n"
     ]
    },
    {
     "name": "stdout",
     "output_type": "stream",
     "text": [
      "\t[24/1232]\tRL_CNN: gamma_trade=0.1, gamma_risk=6, gamma_hold=10, seed=0...\n"
     ]
    },
    {
     "name": "stdout",
     "output_type": "stream",
     "text": [
      "\t[25/1232]\tRL_CNN: gamma_trade=0.1, gamma_risk=6, gamma_hold=100, seed=0...\n"
     ]
    },
    {
     "name": "stdout",
     "output_type": "stream",
     "text": [
      "\t[26/1232]\tRL_CNN: gamma_trade=0.1, gamma_risk=6, gamma_hold=1000, seed=0...\n"
     ]
    },
    {
     "name": "stdout",
     "output_type": "stream",
     "text": [
      "\t[27/1232]\tRL_CNN: gamma_trade=0.1, gamma_risk=6, gamma_hold=10000, seed=0...\n"
     ]
    },
    {
     "name": "stdout",
     "output_type": "stream",
     "text": [
      "\t[28/1232]\tRL_CNN: gamma_trade=0.1, gamma_risk=6, gamma_hold=100000, seed=0...\n"
     ]
    },
    {
     "name": "stdout",
     "output_type": "stream",
     "text": [
      "\t[29/1232]\tRL_CNN: gamma_trade=0.1, gamma_risk=10, gamma_hold=0.1, seed=0...\n"
     ]
    },
    {
     "name": "stdout",
     "output_type": "stream",
     "text": [
      "\t[30/1232]\tRL_CNN: gamma_trade=0.1, gamma_risk=10, gamma_hold=1, seed=0...\n"
     ]
    },
    {
     "name": "stdout",
     "output_type": "stream",
     "text": [
      "\t[31/1232]\tRL_CNN: gamma_trade=0.1, gamma_risk=10, gamma_hold=10, seed=0...\n"
     ]
    },
    {
     "name": "stdout",
     "output_type": "stream",
     "text": [
      "\t[32/1232]\tRL_CNN: gamma_trade=0.1, gamma_risk=10, gamma_hold=100, seed=0...\n"
     ]
    },
    {
     "name": "stdout",
     "output_type": "stream",
     "text": [
      "\t[33/1232]\tRL_CNN: gamma_trade=0.1, gamma_risk=10, gamma_hold=1000, seed=0...\n"
     ]
    },
    {
     "name": "stdout",
     "output_type": "stream",
     "text": [
      "\t[34/1232]\tRL_CNN: gamma_trade=0.1, gamma_risk=10, gamma_hold=10000, seed=0...\n"
     ]
    },
    {
     "name": "stdout",
     "output_type": "stream",
     "text": [
      "\t[35/1232]\tRL_CNN: gamma_trade=0.1, gamma_risk=10, gamma_hold=100000, seed=0...\n"
     ]
    },
    {
     "name": "stdout",
     "output_type": "stream",
     "text": [
      "\t[36/1232]\tRL_CNN: gamma_trade=0.1, gamma_risk=18, gamma_hold=0.1, seed=0...\n"
     ]
    },
    {
     "name": "stdout",
     "output_type": "stream",
     "text": [
      "\t[37/1232]\tRL_CNN: gamma_trade=0.1, gamma_risk=18, gamma_hold=1, seed=0...\n"
     ]
    },
    {
     "name": "stdout",
     "output_type": "stream",
     "text": [
      "\t[38/1232]\tRL_CNN: gamma_trade=0.1, gamma_risk=18, gamma_hold=10, seed=0...\n"
     ]
    },
    {
     "name": "stdout",
     "output_type": "stream",
     "text": [
      "\t[39/1232]\tRL_CNN: gamma_trade=0.1, gamma_risk=18, gamma_hold=100, seed=0...\n"
     ]
    },
    {
     "name": "stdout",
     "output_type": "stream",
     "text": [
      "\t[40/1232]\tRL_CNN: gamma_trade=0.1, gamma_risk=18, gamma_hold=1000, seed=0...\n"
     ]
    },
    {
     "name": "stdout",
     "output_type": "stream",
     "text": [
      "\t[41/1232]\tRL_CNN: gamma_trade=0.1, gamma_risk=18, gamma_hold=10000, seed=0...\n"
     ]
    },
    {
     "name": "stdout",
     "output_type": "stream",
     "text": [
      "\t[42/1232]\tRL_CNN: gamma_trade=0.1, gamma_risk=18, gamma_hold=100000, seed=0...\n"
     ]
    },
    {
     "name": "stdout",
     "output_type": "stream",
     "text": [
      "\t[43/1232]\tRL_CNN: gamma_trade=0.1, gamma_risk=32, gamma_hold=0.1, seed=0...\n"
     ]
    },
    {
     "name": "stdout",
     "output_type": "stream",
     "text": [
      "\t[44/1232]\tRL_CNN: gamma_trade=0.1, gamma_risk=32, gamma_hold=1, seed=0...\n"
     ]
    },
    {
     "name": "stdout",
     "output_type": "stream",
     "text": [
      "\t[45/1232]\tRL_CNN: gamma_trade=0.1, gamma_risk=32, gamma_hold=10, seed=0...\n"
     ]
    },
    {
     "name": "stdout",
     "output_type": "stream",
     "text": [
      "\t[46/1232]\tRL_CNN: gamma_trade=0.1, gamma_risk=32, gamma_hold=100, seed=0...\n"
     ]
    },
    {
     "name": "stdout",
     "output_type": "stream",
     "text": [
      "\t[47/1232]\tRL_CNN: gamma_trade=0.1, gamma_risk=32, gamma_hold=1000, seed=0...\n"
     ]
    },
    {
     "name": "stdout",
     "output_type": "stream",
     "text": [
      "\t[48/1232]\tRL_CNN: gamma_trade=0.1, gamma_risk=32, gamma_hold=10000, seed=0...\n"
     ]
    },
    {
     "name": "stdout",
     "output_type": "stream",
     "text": [
      "\t[49/1232]\tRL_CNN: gamma_trade=0.1, gamma_risk=32, gamma_hold=100000, seed=0...\n"
     ]
    },
    {
     "name": "stdout",
     "output_type": "stream",
     "text": [
      "\t[50/1232]\tRL_CNN: gamma_trade=0.1, gamma_risk=56, gamma_hold=0.1, seed=0...\n"
     ]
    },
    {
     "name": "stdout",
     "output_type": "stream",
     "text": [
      "\t[51/1232]\tRL_CNN: gamma_trade=0.1, gamma_risk=56, gamma_hold=1, seed=0...\n"
     ]
    },
    {
     "name": "stdout",
     "output_type": "stream",
     "text": [
      "\t[52/1232]\tRL_CNN: gamma_trade=0.1, gamma_risk=56, gamma_hold=10, seed=0...\n"
     ]
    },
    {
     "name": "stdout",
     "output_type": "stream",
     "text": [
      "\t[53/1232]\tRL_CNN: gamma_trade=0.1, gamma_risk=56, gamma_hold=100, seed=0...\n"
     ]
    },
    {
     "name": "stdout",
     "output_type": "stream",
     "text": [
      "\t[54/1232]\tRL_CNN: gamma_trade=0.1, gamma_risk=56, gamma_hold=1000, seed=0...\n"
     ]
    },
    {
     "name": "stdout",
     "output_type": "stream",
     "text": [
      "\t[55/1232]\tRL_CNN: gamma_trade=0.1, gamma_risk=56, gamma_hold=10000, seed=0...\n"
     ]
    },
    {
     "name": "stdout",
     "output_type": "stream",
     "text": [
      "\t[56/1232]\tRL_CNN: gamma_trade=0.1, gamma_risk=56, gamma_hold=100000, seed=0...\n"
     ]
    },
    {
     "name": "stdout",
     "output_type": "stream",
     "text": [
      "\t[57/1232]\tRL_CNN: gamma_trade=0.1, gamma_risk=100, gamma_hold=0.1, seed=0...\n"
     ]
    },
    {
     "name": "stdout",
     "output_type": "stream",
     "text": [
      "\t[58/1232]\tRL_CNN: gamma_trade=0.1, gamma_risk=100, gamma_hold=1, seed=0...\n"
     ]
    },
    {
     "name": "stdout",
     "output_type": "stream",
     "text": [
      "\t[59/1232]\tRL_CNN: gamma_trade=0.1, gamma_risk=100, gamma_hold=10, seed=0...\n"
     ]
    },
    {
     "name": "stdout",
     "output_type": "stream",
     "text": [
      "\t[60/1232]\tRL_CNN: gamma_trade=0.1, gamma_risk=100, gamma_hold=100, seed=0...\n"
     ]
    },
    {
     "name": "stdout",
     "output_type": "stream",
     "text": [
      "\t[61/1232]\tRL_CNN: gamma_trade=0.1, gamma_risk=100, gamma_hold=1000, seed=0...\n"
     ]
    },
    {
     "name": "stdout",
     "output_type": "stream",
     "text": [
      "\t[62/1232]\tRL_CNN: gamma_trade=0.1, gamma_risk=100, gamma_hold=10000, seed=0...\n"
     ]
    },
    {
     "name": "stdout",
     "output_type": "stream",
     "text": [
      "\t[63/1232]\tRL_CNN: gamma_trade=0.1, gamma_risk=100, gamma_hold=100000, seed=0...\n"
     ]
    },
    {
     "name": "stdout",
     "output_type": "stream",
     "text": [
      "\t[64/1232]\tRL_CNN: gamma_trade=0.1, gamma_risk=178, gamma_hold=0.1, seed=0...\n"
     ]
    },
    {
     "name": "stdout",
     "output_type": "stream",
     "text": [
      "\t[65/1232]\tRL_CNN: gamma_trade=0.1, gamma_risk=178, gamma_hold=1, seed=0...\n"
     ]
    },
    {
     "name": "stdout",
     "output_type": "stream",
     "text": [
      "\t[66/1232]\tRL_CNN: gamma_trade=0.1, gamma_risk=178, gamma_hold=10, seed=0...\n"
     ]
    },
    {
     "name": "stdout",
     "output_type": "stream",
     "text": [
      "\t[67/1232]\tRL_CNN: gamma_trade=0.1, gamma_risk=178, gamma_hold=100, seed=0...\n"
     ]
    },
    {
     "name": "stdout",
     "output_type": "stream",
     "text": [
      "\t[68/1232]\tRL_CNN: gamma_trade=0.1, gamma_risk=178, gamma_hold=1000, seed=0...\n"
     ]
    },
    {
     "name": "stdout",
     "output_type": "stream",
     "text": [
      "\t[69/1232]\tRL_CNN: gamma_trade=0.1, gamma_risk=178, gamma_hold=10000, seed=0...\n"
     ]
    },
    {
     "name": "stdout",
     "output_type": "stream",
     "text": [
      "\t[70/1232]\tRL_CNN: gamma_trade=0.1, gamma_risk=178, gamma_hold=100000, seed=0...\n"
     ]
    },
    {
     "name": "stdout",
     "output_type": "stream",
     "text": [
      "\t[71/1232]\tRL_CNN: gamma_trade=0.1, gamma_risk=316, gamma_hold=0.1, seed=0...\n"
     ]
    },
    {
     "name": "stdout",
     "output_type": "stream",
     "text": [
      "\t[72/1232]\tRL_CNN: gamma_trade=0.1, gamma_risk=316, gamma_hold=1, seed=0...\n"
     ]
    },
    {
     "name": "stdout",
     "output_type": "stream",
     "text": [
      "\t[73/1232]\tRL_CNN: gamma_trade=0.1, gamma_risk=316, gamma_hold=10, seed=0...\n"
     ]
    },
    {
     "name": "stdout",
     "output_type": "stream",
     "text": [
      "\t[74/1232]\tRL_CNN: gamma_trade=0.1, gamma_risk=316, gamma_hold=100, seed=0...\n"
     ]
    },
    {
     "name": "stdout",
     "output_type": "stream",
     "text": [
      "\t[75/1232]\tRL_CNN: gamma_trade=0.1, gamma_risk=316, gamma_hold=1000, seed=0...\n"
     ]
    },
    {
     "name": "stdout",
     "output_type": "stream",
     "text": [
      "\t[76/1232]\tRL_CNN: gamma_trade=0.1, gamma_risk=316, gamma_hold=10000, seed=0...\n"
     ]
    },
    {
     "name": "stdout",
     "output_type": "stream",
     "text": [
      "\t[77/1232]\tRL_CNN: gamma_trade=0.1, gamma_risk=316, gamma_hold=100000, seed=0...\n"
     ]
    },
    {
     "name": "stdout",
     "output_type": "stream",
     "text": [
      "\t[78/1232]\tRL_CNN: gamma_trade=0.1, gamma_risk=562, gamma_hold=0.1, seed=0...\n"
     ]
    },
    {
     "name": "stdout",
     "output_type": "stream",
     "text": [
      "\t[79/1232]\tRL_CNN: gamma_trade=0.1, gamma_risk=562, gamma_hold=1, seed=0...\n"
     ]
    },
    {
     "name": "stdout",
     "output_type": "stream",
     "text": [
      "\t[80/1232]\tRL_CNN: gamma_trade=0.1, gamma_risk=562, gamma_hold=10, seed=0...\n"
     ]
    },
    {
     "name": "stdout",
     "output_type": "stream",
     "text": [
      "\t[81/1232]\tRL_CNN: gamma_trade=0.1, gamma_risk=562, gamma_hold=100, seed=0...\n"
     ]
    },
    {
     "name": "stdout",
     "output_type": "stream",
     "text": [
      "\t[82/1232]\tRL_CNN: gamma_trade=0.1, gamma_risk=562, gamma_hold=1000, seed=0...\n"
     ]
    },
    {
     "name": "stdout",
     "output_type": "stream",
     "text": [
      "\t[83/1232]\tRL_CNN: gamma_trade=0.1, gamma_risk=562, gamma_hold=10000, seed=0...\n"
     ]
    },
    {
     "name": "stdout",
     "output_type": "stream",
     "text": [
      "\t[84/1232]\tRL_CNN: gamma_trade=0.1, gamma_risk=562, gamma_hold=100000, seed=0...\n"
     ]
    },
    {
     "name": "stdout",
     "output_type": "stream",
     "text": [
      "\t[85/1232]\tRL_CNN: gamma_trade=0.1, gamma_risk=1000, gamma_hold=0.1, seed=0...\n"
     ]
    },
    {
     "name": "stdout",
     "output_type": "stream",
     "text": [
      "\t[86/1232]\tRL_CNN: gamma_trade=0.1, gamma_risk=1000, gamma_hold=1, seed=0...\n"
     ]
    },
    {
     "name": "stdout",
     "output_type": "stream",
     "text": [
      "\t[87/1232]\tRL_CNN: gamma_trade=0.1, gamma_risk=1000, gamma_hold=10, seed=0...\n"
     ]
    },
    {
     "name": "stdout",
     "output_type": "stream",
     "text": [
      "\t[88/1232]\tRL_CNN: gamma_trade=0.1, gamma_risk=1000, gamma_hold=100, seed=0...\n"
     ]
    },
    {
     "name": "stdout",
     "output_type": "stream",
     "text": [
      "\t[89/1232]\tRL_CNN: gamma_trade=0.1, gamma_risk=1000, gamma_hold=1000, seed=0...\n"
     ]
    },
    {
     "name": "stdout",
     "output_type": "stream",
     "text": [
      "\t[90/1232]\tRL_CNN: gamma_trade=0.1, gamma_risk=1000, gamma_hold=10000, seed=0...\n"
     ]
    },
    {
     "name": "stdout",
     "output_type": "stream",
     "text": [
      "\t[91/1232]\tRL_CNN: gamma_trade=0.1, gamma_risk=1000, gamma_hold=100000, seed=0...\n"
     ]
    },
    {
     "name": "stdout",
     "output_type": "stream",
     "text": [
      "\t[92/1232]\tRL_CNN: gamma_trade=0.1, gamma_risk=5000, gamma_hold=0.1, seed=0...\n"
     ]
    },
    {
     "name": "stdout",
     "output_type": "stream",
     "text": [
      "\t[93/1232]\tRL_CNN: gamma_trade=0.1, gamma_risk=5000, gamma_hold=1, seed=0...\n"
     ]
    },
    {
     "name": "stdout",
     "output_type": "stream",
     "text": [
      "\t[94/1232]\tRL_CNN: gamma_trade=0.1, gamma_risk=5000, gamma_hold=10, seed=0...\n"
     ]
    },
    {
     "name": "stdout",
     "output_type": "stream",
     "text": [
      "\t[95/1232]\tRL_CNN: gamma_trade=0.1, gamma_risk=5000, gamma_hold=100, seed=0...\n"
     ]
    },
    {
     "name": "stdout",
     "output_type": "stream",
     "text": [
      "\t[96/1232]\tRL_CNN: gamma_trade=0.1, gamma_risk=5000, gamma_hold=1000, seed=0...\n"
     ]
    },
    {
     "name": "stdout",
     "output_type": "stream",
     "text": [
      "\t[97/1232]\tRL_CNN: gamma_trade=0.1, gamma_risk=5000, gamma_hold=10000, seed=0...\n"
     ]
    },
    {
     "name": "stdout",
     "output_type": "stream",
     "text": [
      "\t[98/1232]\tRL_CNN: gamma_trade=0.1, gamma_risk=5000, gamma_hold=100000, seed=0...\n"
     ]
    },
    {
     "name": "stdout",
     "output_type": "stream",
     "text": [
      "\t[99/1232]\tRL_CNN: gamma_trade=0.1, gamma_risk=10000, gamma_hold=0.1, seed=0...\n"
     ]
    },
    {
     "name": "stdout",
     "output_type": "stream",
     "text": [
      "\t[100/1232]\tRL_CNN: gamma_trade=0.1, gamma_risk=10000, gamma_hold=1, seed=0...\n"
     ]
    },
    {
     "name": "stdout",
     "output_type": "stream",
     "text": [
      "\t[101/1232]\tRL_CNN: gamma_trade=0.1, gamma_risk=10000, gamma_hold=10, seed=0...\n"
     ]
    },
    {
     "name": "stdout",
     "output_type": "stream",
     "text": [
      "\t[102/1232]\tRL_CNN: gamma_trade=0.1, gamma_risk=10000, gamma_hold=100, seed=0...\n"
     ]
    },
    {
     "name": "stdout",
     "output_type": "stream",
     "text": [
      "\t[103/1232]\tRL_CNN: gamma_trade=0.1, gamma_risk=10000, gamma_hold=1000, seed=0...\n"
     ]
    },
    {
     "name": "stdout",
     "output_type": "stream",
     "text": [
      "\t[104/1232]\tRL_CNN: gamma_trade=0.1, gamma_risk=10000, gamma_hold=10000, seed=0...\n"
     ]
    },
    {
     "name": "stdout",
     "output_type": "stream",
     "text": [
      "\t[105/1232]\tRL_CNN: gamma_trade=0.1, gamma_risk=10000, gamma_hold=100000, seed=0...\n"
     ]
    },
    {
     "name": "stdout",
     "output_type": "stream",
     "text": [
      "\t[106/1232]\tRL_CNN: gamma_trade=0.1, gamma_risk=100000, gamma_hold=0.1, seed=0...\n"
     ]
    },
    {
     "name": "stdout",
     "output_type": "stream",
     "text": [
      "\t[107/1232]\tRL_CNN: gamma_trade=0.1, gamma_risk=100000, gamma_hold=1, seed=0...\n"
     ]
    },
    {
     "name": "stdout",
     "output_type": "stream",
     "text": [
      "\t[108/1232]\tRL_CNN: gamma_trade=0.1, gamma_risk=100000, gamma_hold=10, seed=0...\n"
     ]
    },
    {
     "name": "stdout",
     "output_type": "stream",
     "text": [
      "\t[109/1232]\tRL_CNN: gamma_trade=0.1, gamma_risk=100000, gamma_hold=100, seed=0...\n"
     ]
    },
    {
     "name": "stdout",
     "output_type": "stream",
     "text": [
      "\t[110/1232]\tRL_CNN: gamma_trade=0.1, gamma_risk=100000, gamma_hold=1000, seed=0...\n"
     ]
    },
    {
     "name": "stdout",
     "output_type": "stream",
     "text": [
      "\t[111/1232]\tRL_CNN: gamma_trade=0.1, gamma_risk=100000, gamma_hold=10000, seed=0...\n"
     ]
    },
    {
     "name": "stdout",
     "output_type": "stream",
     "text": [
      "\t[112/1232]\tRL_CNN: gamma_trade=0.1, gamma_risk=100000, gamma_hold=100000, seed=0...\n"
     ]
    },
    {
     "name": "stdout",
     "output_type": "stream",
     "text": [
      "\t[113/1232]\tRL_CNN: gamma_trade=1, gamma_risk=1, gamma_hold=0.1, seed=0...\n"
     ]
    },
    {
     "name": "stdout",
     "output_type": "stream",
     "text": [
      "\t[114/1232]\tRL_CNN: gamma_trade=1, gamma_risk=1, gamma_hold=1, seed=0...\n"
     ]
    },
    {
     "name": "stdout",
     "output_type": "stream",
     "text": [
      "\t[115/1232]\tRL_CNN: gamma_trade=1, gamma_risk=1, gamma_hold=10, seed=0...\n"
     ]
    },
    {
     "name": "stdout",
     "output_type": "stream",
     "text": [
      "\t[116/1232]\tRL_CNN: gamma_trade=1, gamma_risk=1, gamma_hold=100, seed=0...\n"
     ]
    },
    {
     "name": "stdout",
     "output_type": "stream",
     "text": [
      "\t[117/1232]\tRL_CNN: gamma_trade=1, gamma_risk=1, gamma_hold=1000, seed=0...\n"
     ]
    },
    {
     "name": "stdout",
     "output_type": "stream",
     "text": [
      "\t[118/1232]\tRL_CNN: gamma_trade=1, gamma_risk=1, gamma_hold=10000, seed=0...\n"
     ]
    },
    {
     "name": "stdout",
     "output_type": "stream",
     "text": [
      "\t[119/1232]\tRL_CNN: gamma_trade=1, gamma_risk=1, gamma_hold=100000, seed=0...\n"
     ]
    },
    {
     "name": "stdout",
     "output_type": "stream",
     "text": [
      "\t[120/1232]\tRL_CNN: gamma_trade=1, gamma_risk=2, gamma_hold=0.1, seed=0...\n"
     ]
    },
    {
     "name": "stdout",
     "output_type": "stream",
     "text": [
      "\t[121/1232]\tRL_CNN: gamma_trade=1, gamma_risk=2, gamma_hold=1, seed=0...\n"
     ]
    },
    {
     "name": "stdout",
     "output_type": "stream",
     "text": [
      "\t[122/1232]\tRL_CNN: gamma_trade=1, gamma_risk=2, gamma_hold=10, seed=0...\n",
      "**error for model: trade_1_risk_2_hold_10\n",
      "\t[123/1232]\tRL_CNN: gamma_trade=1, gamma_risk=2, gamma_hold=100, seed=0...\n"
     ]
    },
    {
     "name": "stdout",
     "output_type": "stream",
     "text": [
      "\t[124/1232]\tRL_CNN: gamma_trade=1, gamma_risk=2, gamma_hold=1000, seed=0...\n"
     ]
    },
    {
     "name": "stdout",
     "output_type": "stream",
     "text": [
      "\t[125/1232]\tRL_CNN: gamma_trade=1, gamma_risk=2, gamma_hold=10000, seed=0...\n"
     ]
    },
    {
     "name": "stdout",
     "output_type": "stream",
     "text": [
      "\t[126/1232]\tRL_CNN: gamma_trade=1, gamma_risk=2, gamma_hold=100000, seed=0...\n"
     ]
    },
    {
     "name": "stdout",
     "output_type": "stream",
     "text": [
      "\t[127/1232]\tRL_CNN: gamma_trade=1, gamma_risk=3, gamma_hold=0.1, seed=0...\n"
     ]
    },
    {
     "name": "stdout",
     "output_type": "stream",
     "text": [
      "\t[128/1232]\tRL_CNN: gamma_trade=1, gamma_risk=3, gamma_hold=1, seed=0...\n"
     ]
    },
    {
     "name": "stdout",
     "output_type": "stream",
     "text": [
      "\t[129/1232]\tRL_CNN: gamma_trade=1, gamma_risk=3, gamma_hold=10, seed=0...\n"
     ]
    },
    {
     "name": "stdout",
     "output_type": "stream",
     "text": [
      "\t[130/1232]\tRL_CNN: gamma_trade=1, gamma_risk=3, gamma_hold=100, seed=0...\n"
     ]
    },
    {
     "name": "stdout",
     "output_type": "stream",
     "text": [
      "\t[131/1232]\tRL_CNN: gamma_trade=1, gamma_risk=3, gamma_hold=1000, seed=0...\n"
     ]
    },
    {
     "name": "stdout",
     "output_type": "stream",
     "text": [
      "\t[132/1232]\tRL_CNN: gamma_trade=1, gamma_risk=3, gamma_hold=10000, seed=0...\n"
     ]
    },
    {
     "name": "stdout",
     "output_type": "stream",
     "text": [
      "\t[133/1232]\tRL_CNN: gamma_trade=1, gamma_risk=3, gamma_hold=100000, seed=0...\n"
     ]
    },
    {
     "name": "stdout",
     "output_type": "stream",
     "text": [
      "\t[134/1232]\tRL_CNN: gamma_trade=1, gamma_risk=6, gamma_hold=0.1, seed=0...\n"
     ]
    },
    {
     "name": "stdout",
     "output_type": "stream",
     "text": [
      "\t[135/1232]\tRL_CNN: gamma_trade=1, gamma_risk=6, gamma_hold=1, seed=0...\n"
     ]
    },
    {
     "name": "stdout",
     "output_type": "stream",
     "text": [
      "\t[136/1232]\tRL_CNN: gamma_trade=1, gamma_risk=6, gamma_hold=10, seed=0...\n"
     ]
    },
    {
     "name": "stdout",
     "output_type": "stream",
     "text": [
      "\t[137/1232]\tRL_CNN: gamma_trade=1, gamma_risk=6, gamma_hold=100, seed=0...\n"
     ]
    },
    {
     "name": "stdout",
     "output_type": "stream",
     "text": [
      "\t[138/1232]\tRL_CNN: gamma_trade=1, gamma_risk=6, gamma_hold=1000, seed=0...\n"
     ]
    },
    {
     "name": "stdout",
     "output_type": "stream",
     "text": [
      "\t[139/1232]\tRL_CNN: gamma_trade=1, gamma_risk=6, gamma_hold=10000, seed=0...\n"
     ]
    },
    {
     "name": "stdout",
     "output_type": "stream",
     "text": [
      "\t[140/1232]\tRL_CNN: gamma_trade=1, gamma_risk=6, gamma_hold=100000, seed=0...\n"
     ]
    },
    {
     "name": "stdout",
     "output_type": "stream",
     "text": [
      "\t[141/1232]\tRL_CNN: gamma_trade=1, gamma_risk=10, gamma_hold=0.1, seed=0...\n"
     ]
    },
    {
     "name": "stdout",
     "output_type": "stream",
     "text": [
      "\t[142/1232]\tRL_CNN: gamma_trade=1, gamma_risk=10, gamma_hold=1, seed=0...\n"
     ]
    },
    {
     "name": "stdout",
     "output_type": "stream",
     "text": [
      "\t[143/1232]\tRL_CNN: gamma_trade=1, gamma_risk=10, gamma_hold=10, seed=0...\n"
     ]
    },
    {
     "name": "stdout",
     "output_type": "stream",
     "text": [
      "\t[144/1232]\tRL_CNN: gamma_trade=1, gamma_risk=10, gamma_hold=100, seed=0...\n"
     ]
    },
    {
     "name": "stdout",
     "output_type": "stream",
     "text": [
      "\t[145/1232]\tRL_CNN: gamma_trade=1, gamma_risk=10, gamma_hold=1000, seed=0...\n"
     ]
    },
    {
     "name": "stdout",
     "output_type": "stream",
     "text": [
      "\t[146/1232]\tRL_CNN: gamma_trade=1, gamma_risk=10, gamma_hold=10000, seed=0...\n"
     ]
    },
    {
     "name": "stdout",
     "output_type": "stream",
     "text": [
      "\t[147/1232]\tRL_CNN: gamma_trade=1, gamma_risk=10, gamma_hold=100000, seed=0...\n"
     ]
    },
    {
     "name": "stdout",
     "output_type": "stream",
     "text": [
      "\t[148/1232]\tRL_CNN: gamma_trade=1, gamma_risk=18, gamma_hold=0.1, seed=0...\n"
     ]
    },
    {
     "name": "stdout",
     "output_type": "stream",
     "text": [
      "\t[149/1232]\tRL_CNN: gamma_trade=1, gamma_risk=18, gamma_hold=1, seed=0...\n"
     ]
    },
    {
     "name": "stdout",
     "output_type": "stream",
     "text": [
      "\t[150/1232]\tRL_CNN: gamma_trade=1, gamma_risk=18, gamma_hold=10, seed=0...\n"
     ]
    },
    {
     "name": "stdout",
     "output_type": "stream",
     "text": [
      "\t[151/1232]\tRL_CNN: gamma_trade=1, gamma_risk=18, gamma_hold=100, seed=0...\n"
     ]
    },
    {
     "name": "stdout",
     "output_type": "stream",
     "text": [
      "\t[152/1232]\tRL_CNN: gamma_trade=1, gamma_risk=18, gamma_hold=1000, seed=0...\n"
     ]
    },
    {
     "name": "stdout",
     "output_type": "stream",
     "text": [
      "\t[153/1232]\tRL_CNN: gamma_trade=1, gamma_risk=18, gamma_hold=10000, seed=0...\n"
     ]
    },
    {
     "name": "stdout",
     "output_type": "stream",
     "text": [
      "\t[154/1232]\tRL_CNN: gamma_trade=1, gamma_risk=18, gamma_hold=100000, seed=0...\n"
     ]
    },
    {
     "name": "stdout",
     "output_type": "stream",
     "text": [
      "\t[155/1232]\tRL_CNN: gamma_trade=1, gamma_risk=32, gamma_hold=0.1, seed=0...\n"
     ]
    },
    {
     "name": "stdout",
     "output_type": "stream",
     "text": [
      "\t[156/1232]\tRL_CNN: gamma_trade=1, gamma_risk=32, gamma_hold=1, seed=0...\n"
     ]
    },
    {
     "name": "stdout",
     "output_type": "stream",
     "text": [
      "\t[157/1232]\tRL_CNN: gamma_trade=1, gamma_risk=32, gamma_hold=10, seed=0...\n"
     ]
    },
    {
     "name": "stdout",
     "output_type": "stream",
     "text": [
      "\t[158/1232]\tRL_CNN: gamma_trade=1, gamma_risk=32, gamma_hold=100, seed=0...\n"
     ]
    },
    {
     "name": "stdout",
     "output_type": "stream",
     "text": [
      "\t[159/1232]\tRL_CNN: gamma_trade=1, gamma_risk=32, gamma_hold=1000, seed=0...\n"
     ]
    },
    {
     "name": "stdout",
     "output_type": "stream",
     "text": [
      "\t[160/1232]\tRL_CNN: gamma_trade=1, gamma_risk=32, gamma_hold=10000, seed=0...\n"
     ]
    },
    {
     "name": "stdout",
     "output_type": "stream",
     "text": [
      "\t[161/1232]\tRL_CNN: gamma_trade=1, gamma_risk=32, gamma_hold=100000, seed=0...\n"
     ]
    },
    {
     "name": "stdout",
     "output_type": "stream",
     "text": [
      "\t[162/1232]\tRL_CNN: gamma_trade=1, gamma_risk=56, gamma_hold=0.1, seed=0...\n"
     ]
    },
    {
     "name": "stdout",
     "output_type": "stream",
     "text": [
      "\t[163/1232]\tRL_CNN: gamma_trade=1, gamma_risk=56, gamma_hold=1, seed=0...\n"
     ]
    },
    {
     "name": "stdout",
     "output_type": "stream",
     "text": [
      "\t[164/1232]\tRL_CNN: gamma_trade=1, gamma_risk=56, gamma_hold=10, seed=0...\n"
     ]
    },
    {
     "name": "stdout",
     "output_type": "stream",
     "text": [
      "\t[165/1232]\tRL_CNN: gamma_trade=1, gamma_risk=56, gamma_hold=100, seed=0...\n"
     ]
    },
    {
     "name": "stdout",
     "output_type": "stream",
     "text": [
      "\t[166/1232]\tRL_CNN: gamma_trade=1, gamma_risk=56, gamma_hold=1000, seed=0...\n"
     ]
    },
    {
     "name": "stdout",
     "output_type": "stream",
     "text": [
      "\t[167/1232]\tRL_CNN: gamma_trade=1, gamma_risk=56, gamma_hold=10000, seed=0...\n"
     ]
    },
    {
     "name": "stdout",
     "output_type": "stream",
     "text": [
      "\t[168/1232]\tRL_CNN: gamma_trade=1, gamma_risk=56, gamma_hold=100000, seed=0...\n"
     ]
    },
    {
     "name": "stdout",
     "output_type": "stream",
     "text": [
      "\t[169/1232]\tRL_CNN: gamma_trade=1, gamma_risk=100, gamma_hold=0.1, seed=0...\n"
     ]
    },
    {
     "name": "stdout",
     "output_type": "stream",
     "text": [
      "\t[170/1232]\tRL_CNN: gamma_trade=1, gamma_risk=100, gamma_hold=1, seed=0...\n"
     ]
    },
    {
     "name": "stdout",
     "output_type": "stream",
     "text": [
      "\t[171/1232]\tRL_CNN: gamma_trade=1, gamma_risk=100, gamma_hold=10, seed=0...\n"
     ]
    },
    {
     "name": "stdout",
     "output_type": "stream",
     "text": [
      "\t[172/1232]\tRL_CNN: gamma_trade=1, gamma_risk=100, gamma_hold=100, seed=0...\n"
     ]
    },
    {
     "name": "stdout",
     "output_type": "stream",
     "text": [
      "\t[173/1232]\tRL_CNN: gamma_trade=1, gamma_risk=100, gamma_hold=1000, seed=0...\n"
     ]
    },
    {
     "name": "stdout",
     "output_type": "stream",
     "text": [
      "\t[174/1232]\tRL_CNN: gamma_trade=1, gamma_risk=100, gamma_hold=10000, seed=0...\n"
     ]
    },
    {
     "name": "stdout",
     "output_type": "stream",
     "text": [
      "\t[175/1232]\tRL_CNN: gamma_trade=1, gamma_risk=100, gamma_hold=100000, seed=0...\n"
     ]
    },
    {
     "name": "stdout",
     "output_type": "stream",
     "text": [
      "\t[176/1232]\tRL_CNN: gamma_trade=1, gamma_risk=178, gamma_hold=0.1, seed=0...\n"
     ]
    },
    {
     "name": "stdout",
     "output_type": "stream",
     "text": [
      "\t[177/1232]\tRL_CNN: gamma_trade=1, gamma_risk=178, gamma_hold=1, seed=0...\n"
     ]
    },
    {
     "name": "stdout",
     "output_type": "stream",
     "text": [
      "\t[178/1232]\tRL_CNN: gamma_trade=1, gamma_risk=178, gamma_hold=10, seed=0...\n"
     ]
    },
    {
     "name": "stdout",
     "output_type": "stream",
     "text": [
      "\t[179/1232]\tRL_CNN: gamma_trade=1, gamma_risk=178, gamma_hold=100, seed=0...\n"
     ]
    },
    {
     "name": "stdout",
     "output_type": "stream",
     "text": [
      "\t[180/1232]\tRL_CNN: gamma_trade=1, gamma_risk=178, gamma_hold=1000, seed=0...\n"
     ]
    },
    {
     "name": "stdout",
     "output_type": "stream",
     "text": [
      "\t[181/1232]\tRL_CNN: gamma_trade=1, gamma_risk=178, gamma_hold=10000, seed=0...\n"
     ]
    },
    {
     "name": "stdout",
     "output_type": "stream",
     "text": [
      "\t[182/1232]\tRL_CNN: gamma_trade=1, gamma_risk=178, gamma_hold=100000, seed=0...\n"
     ]
    },
    {
     "name": "stdout",
     "output_type": "stream",
     "text": [
      "\t[183/1232]\tRL_CNN: gamma_trade=1, gamma_risk=316, gamma_hold=0.1, seed=0...\n"
     ]
    },
    {
     "name": "stdout",
     "output_type": "stream",
     "text": [
      "\t[184/1232]\tRL_CNN: gamma_trade=1, gamma_risk=316, gamma_hold=1, seed=0...\n"
     ]
    },
    {
     "name": "stdout",
     "output_type": "stream",
     "text": [
      "\t[185/1232]\tRL_CNN: gamma_trade=1, gamma_risk=316, gamma_hold=10, seed=0...\n"
     ]
    },
    {
     "name": "stdout",
     "output_type": "stream",
     "text": [
      "\t[186/1232]\tRL_CNN: gamma_trade=1, gamma_risk=316, gamma_hold=100, seed=0...\n"
     ]
    },
    {
     "name": "stdout",
     "output_type": "stream",
     "text": [
      "\t[187/1232]\tRL_CNN: gamma_trade=1, gamma_risk=316, gamma_hold=1000, seed=0...\n"
     ]
    },
    {
     "name": "stdout",
     "output_type": "stream",
     "text": [
      "\t[188/1232]\tRL_CNN: gamma_trade=1, gamma_risk=316, gamma_hold=10000, seed=0...\n"
     ]
    },
    {
     "name": "stdout",
     "output_type": "stream",
     "text": [
      "\t[189/1232]\tRL_CNN: gamma_trade=1, gamma_risk=316, gamma_hold=100000, seed=0...\n"
     ]
    },
    {
     "name": "stdout",
     "output_type": "stream",
     "text": [
      "\t[190/1232]\tRL_CNN: gamma_trade=1, gamma_risk=562, gamma_hold=0.1, seed=0...\n"
     ]
    },
    {
     "name": "stdout",
     "output_type": "stream",
     "text": [
      "\t[191/1232]\tRL_CNN: gamma_trade=1, gamma_risk=562, gamma_hold=1, seed=0...\n"
     ]
    },
    {
     "name": "stdout",
     "output_type": "stream",
     "text": [
      "\t[192/1232]\tRL_CNN: gamma_trade=1, gamma_risk=562, gamma_hold=10, seed=0...\n"
     ]
    },
    {
     "name": "stdout",
     "output_type": "stream",
     "text": [
      "\t[193/1232]\tRL_CNN: gamma_trade=1, gamma_risk=562, gamma_hold=100, seed=0...\n"
     ]
    },
    {
     "name": "stdout",
     "output_type": "stream",
     "text": [
      "\t[194/1232]\tRL_CNN: gamma_trade=1, gamma_risk=562, gamma_hold=1000, seed=0...\n"
     ]
    },
    {
     "name": "stdout",
     "output_type": "stream",
     "text": [
      "\t[195/1232]\tRL_CNN: gamma_trade=1, gamma_risk=562, gamma_hold=10000, seed=0...\n"
     ]
    },
    {
     "name": "stdout",
     "output_type": "stream",
     "text": [
      "\t[196/1232]\tRL_CNN: gamma_trade=1, gamma_risk=562, gamma_hold=100000, seed=0...\n"
     ]
    },
    {
     "name": "stdout",
     "output_type": "stream",
     "text": [
      "\t[197/1232]\tRL_CNN: gamma_trade=1, gamma_risk=1000, gamma_hold=0.1, seed=0...\n"
     ]
    },
    {
     "name": "stdout",
     "output_type": "stream",
     "text": [
      "\t[198/1232]\tRL_CNN: gamma_trade=1, gamma_risk=1000, gamma_hold=1, seed=0...\n"
     ]
    },
    {
     "name": "stdout",
     "output_type": "stream",
     "text": [
      "\t[199/1232]\tRL_CNN: gamma_trade=1, gamma_risk=1000, gamma_hold=10, seed=0...\n"
     ]
    },
    {
     "name": "stdout",
     "output_type": "stream",
     "text": [
      "\t[200/1232]\tRL_CNN: gamma_trade=1, gamma_risk=1000, gamma_hold=100, seed=0...\n"
     ]
    },
    {
     "name": "stdout",
     "output_type": "stream",
     "text": [
      "\t[201/1232]\tRL_CNN: gamma_trade=1, gamma_risk=1000, gamma_hold=1000, seed=0...\n"
     ]
    },
    {
     "name": "stdout",
     "output_type": "stream",
     "text": [
      "\t[202/1232]\tRL_CNN: gamma_trade=1, gamma_risk=1000, gamma_hold=10000, seed=0...\n"
     ]
    },
    {
     "name": "stdout",
     "output_type": "stream",
     "text": [
      "\t[203/1232]\tRL_CNN: gamma_trade=1, gamma_risk=1000, gamma_hold=100000, seed=0...\n"
     ]
    },
    {
     "name": "stdout",
     "output_type": "stream",
     "text": [
      "\t[204/1232]\tRL_CNN: gamma_trade=1, gamma_risk=5000, gamma_hold=0.1, seed=0...\n"
     ]
    },
    {
     "name": "stdout",
     "output_type": "stream",
     "text": [
      "\t[205/1232]\tRL_CNN: gamma_trade=1, gamma_risk=5000, gamma_hold=1, seed=0...\n"
     ]
    },
    {
     "name": "stdout",
     "output_type": "stream",
     "text": [
      "\t[206/1232]\tRL_CNN: gamma_trade=1, gamma_risk=5000, gamma_hold=10, seed=0...\n"
     ]
    },
    {
     "name": "stdout",
     "output_type": "stream",
     "text": [
      "\t[207/1232]\tRL_CNN: gamma_trade=1, gamma_risk=5000, gamma_hold=100, seed=0...\n"
     ]
    },
    {
     "name": "stdout",
     "output_type": "stream",
     "text": [
      "\t[208/1232]\tRL_CNN: gamma_trade=1, gamma_risk=5000, gamma_hold=1000, seed=0...\n"
     ]
    },
    {
     "name": "stdout",
     "output_type": "stream",
     "text": [
      "\t[209/1232]\tRL_CNN: gamma_trade=1, gamma_risk=5000, gamma_hold=10000, seed=0...\n"
     ]
    },
    {
     "name": "stdout",
     "output_type": "stream",
     "text": [
      "\t[210/1232]\tRL_CNN: gamma_trade=1, gamma_risk=5000, gamma_hold=100000, seed=0...\n"
     ]
    },
    {
     "name": "stdout",
     "output_type": "stream",
     "text": [
      "\t[211/1232]\tRL_CNN: gamma_trade=1, gamma_risk=10000, gamma_hold=0.1, seed=0...\n"
     ]
    },
    {
     "name": "stdout",
     "output_type": "stream",
     "text": [
      "\t[212/1232]\tRL_CNN: gamma_trade=1, gamma_risk=10000, gamma_hold=1, seed=0...\n"
     ]
    },
    {
     "name": "stdout",
     "output_type": "stream",
     "text": [
      "\t[213/1232]\tRL_CNN: gamma_trade=1, gamma_risk=10000, gamma_hold=10, seed=0...\n"
     ]
    },
    {
     "name": "stdout",
     "output_type": "stream",
     "text": [
      "\t[214/1232]\tRL_CNN: gamma_trade=1, gamma_risk=10000, gamma_hold=100, seed=0...\n"
     ]
    },
    {
     "name": "stdout",
     "output_type": "stream",
     "text": [
      "\t[215/1232]\tRL_CNN: gamma_trade=1, gamma_risk=10000, gamma_hold=1000, seed=0...\n"
     ]
    },
    {
     "name": "stdout",
     "output_type": "stream",
     "text": [
      "\t[216/1232]\tRL_CNN: gamma_trade=1, gamma_risk=10000, gamma_hold=10000, seed=0...\n"
     ]
    },
    {
     "name": "stdout",
     "output_type": "stream",
     "text": [
      "\t[217/1232]\tRL_CNN: gamma_trade=1, gamma_risk=10000, gamma_hold=100000, seed=0...\n"
     ]
    },
    {
     "name": "stdout",
     "output_type": "stream",
     "text": [
      "\t[218/1232]\tRL_CNN: gamma_trade=1, gamma_risk=100000, gamma_hold=0.1, seed=0...\n"
     ]
    },
    {
     "name": "stdout",
     "output_type": "stream",
     "text": [
      "\t[219/1232]\tRL_CNN: gamma_trade=1, gamma_risk=100000, gamma_hold=1, seed=0...\n"
     ]
    },
    {
     "name": "stdout",
     "output_type": "stream",
     "text": [
      "\t[220/1232]\tRL_CNN: gamma_trade=1, gamma_risk=100000, gamma_hold=10, seed=0...\n"
     ]
    },
    {
     "name": "stdout",
     "output_type": "stream",
     "text": [
      "\t[221/1232]\tRL_CNN: gamma_trade=1, gamma_risk=100000, gamma_hold=100, seed=0...\n"
     ]
    },
    {
     "name": "stdout",
     "output_type": "stream",
     "text": [
      "\t[222/1232]\tRL_CNN: gamma_trade=1, gamma_risk=100000, gamma_hold=1000, seed=0...\n"
     ]
    },
    {
     "name": "stdout",
     "output_type": "stream",
     "text": [
      "\t[223/1232]\tRL_CNN: gamma_trade=1, gamma_risk=100000, gamma_hold=10000, seed=0...\n"
     ]
    },
    {
     "name": "stdout",
     "output_type": "stream",
     "text": [
      "\t[224/1232]\tRL_CNN: gamma_trade=1, gamma_risk=100000, gamma_hold=100000, seed=0...\n"
     ]
    },
    {
     "name": "stdout",
     "output_type": "stream",
     "text": [
      "\t[225/1232]\tRL_CNN: gamma_trade=7, gamma_risk=1, gamma_hold=0.1, seed=0...\n"
     ]
    },
    {
     "name": "stdout",
     "output_type": "stream",
     "text": [
      "\t[226/1232]\tRL_CNN: gamma_trade=7, gamma_risk=1, gamma_hold=1, seed=0...\n"
     ]
    },
    {
     "name": "stdout",
     "output_type": "stream",
     "text": [
      "\t[227/1232]\tRL_CNN: gamma_trade=7, gamma_risk=1, gamma_hold=10, seed=0...\n"
     ]
    },
    {
     "name": "stdout",
     "output_type": "stream",
     "text": [
      "\t[228/1232]\tRL_CNN: gamma_trade=7, gamma_risk=1, gamma_hold=100, seed=0...\n"
     ]
    },
    {
     "name": "stdout",
     "output_type": "stream",
     "text": [
      "\t[229/1232]\tRL_CNN: gamma_trade=7, gamma_risk=1, gamma_hold=1000, seed=0...\n"
     ]
    },
    {
     "name": "stdout",
     "output_type": "stream",
     "text": [
      "\t[230/1232]\tRL_CNN: gamma_trade=7, gamma_risk=1, gamma_hold=10000, seed=0...\n"
     ]
    },
    {
     "name": "stdout",
     "output_type": "stream",
     "text": [
      "\t[231/1232]\tRL_CNN: gamma_trade=7, gamma_risk=1, gamma_hold=100000, seed=0...\n"
     ]
    },
    {
     "name": "stdout",
     "output_type": "stream",
     "text": [
      "\t[232/1232]\tRL_CNN: gamma_trade=7, gamma_risk=2, gamma_hold=0.1, seed=0...\n"
     ]
    },
    {
     "name": "stdout",
     "output_type": "stream",
     "text": [
      "\t[233/1232]\tRL_CNN: gamma_trade=7, gamma_risk=2, gamma_hold=1, seed=0...\n"
     ]
    },
    {
     "name": "stdout",
     "output_type": "stream",
     "text": [
      "\t[234/1232]\tRL_CNN: gamma_trade=7, gamma_risk=2, gamma_hold=10, seed=0...\n"
     ]
    },
    {
     "name": "stdout",
     "output_type": "stream",
     "text": [
      "\t[235/1232]\tRL_CNN: gamma_trade=7, gamma_risk=2, gamma_hold=100, seed=0...\n"
     ]
    },
    {
     "name": "stdout",
     "output_type": "stream",
     "text": [
      "\t[236/1232]\tRL_CNN: gamma_trade=7, gamma_risk=2, gamma_hold=1000, seed=0...\n"
     ]
    },
    {
     "name": "stdout",
     "output_type": "stream",
     "text": [
      "\t[237/1232]\tRL_CNN: gamma_trade=7, gamma_risk=2, gamma_hold=10000, seed=0...\n"
     ]
    },
    {
     "name": "stdout",
     "output_type": "stream",
     "text": [
      "\t[238/1232]\tRL_CNN: gamma_trade=7, gamma_risk=2, gamma_hold=100000, seed=0...\n"
     ]
    },
    {
     "name": "stdout",
     "output_type": "stream",
     "text": [
      "\t[239/1232]\tRL_CNN: gamma_trade=7, gamma_risk=3, gamma_hold=0.1, seed=0...\n"
     ]
    },
    {
     "name": "stdout",
     "output_type": "stream",
     "text": [
      "\t[240/1232]\tRL_CNN: gamma_trade=7, gamma_risk=3, gamma_hold=1, seed=0...\n"
     ]
    },
    {
     "name": "stdout",
     "output_type": "stream",
     "text": [
      "\t[241/1232]\tRL_CNN: gamma_trade=7, gamma_risk=3, gamma_hold=10, seed=0...\n"
     ]
    },
    {
     "name": "stdout",
     "output_type": "stream",
     "text": [
      "\t[242/1232]\tRL_CNN: gamma_trade=7, gamma_risk=3, gamma_hold=100, seed=0...\n"
     ]
    },
    {
     "name": "stdout",
     "output_type": "stream",
     "text": [
      "\t[243/1232]\tRL_CNN: gamma_trade=7, gamma_risk=3, gamma_hold=1000, seed=0...\n"
     ]
    },
    {
     "name": "stdout",
     "output_type": "stream",
     "text": [
      "\t[244/1232]\tRL_CNN: gamma_trade=7, gamma_risk=3, gamma_hold=10000, seed=0...\n"
     ]
    },
    {
     "name": "stdout",
     "output_type": "stream",
     "text": [
      "\t[245/1232]\tRL_CNN: gamma_trade=7, gamma_risk=3, gamma_hold=100000, seed=0...\n"
     ]
    },
    {
     "name": "stdout",
     "output_type": "stream",
     "text": [
      "\t[246/1232]\tRL_CNN: gamma_trade=7, gamma_risk=6, gamma_hold=0.1, seed=0...\n"
     ]
    },
    {
     "name": "stdout",
     "output_type": "stream",
     "text": [
      "\t[247/1232]\tRL_CNN: gamma_trade=7, gamma_risk=6, gamma_hold=1, seed=0...\n"
     ]
    },
    {
     "name": "stdout",
     "output_type": "stream",
     "text": [
      "\t[248/1232]\tRL_CNN: gamma_trade=7, gamma_risk=6, gamma_hold=10, seed=0...\n"
     ]
    },
    {
     "name": "stdout",
     "output_type": "stream",
     "text": [
      "\t[249/1232]\tRL_CNN: gamma_trade=7, gamma_risk=6, gamma_hold=100, seed=0...\n"
     ]
    },
    {
     "name": "stdout",
     "output_type": "stream",
     "text": [
      "\t[250/1232]\tRL_CNN: gamma_trade=7, gamma_risk=6, gamma_hold=1000, seed=0...\n"
     ]
    },
    {
     "name": "stdout",
     "output_type": "stream",
     "text": [
      "\t[251/1232]\tRL_CNN: gamma_trade=7, gamma_risk=6, gamma_hold=10000, seed=0...\n"
     ]
    },
    {
     "name": "stdout",
     "output_type": "stream",
     "text": [
      "\t[252/1232]\tRL_CNN: gamma_trade=7, gamma_risk=6, gamma_hold=100000, seed=0...\n"
     ]
    },
    {
     "name": "stdout",
     "output_type": "stream",
     "text": [
      "\t[253/1232]\tRL_CNN: gamma_trade=7, gamma_risk=10, gamma_hold=0.1, seed=0...\n"
     ]
    },
    {
     "name": "stdout",
     "output_type": "stream",
     "text": [
      "\t[254/1232]\tRL_CNN: gamma_trade=7, gamma_risk=10, gamma_hold=1, seed=0...\n"
     ]
    },
    {
     "name": "stdout",
     "output_type": "stream",
     "text": [
      "\t[255/1232]\tRL_CNN: gamma_trade=7, gamma_risk=10, gamma_hold=10, seed=0...\n"
     ]
    },
    {
     "name": "stdout",
     "output_type": "stream",
     "text": [
      "\t[256/1232]\tRL_CNN: gamma_trade=7, gamma_risk=10, gamma_hold=100, seed=0...\n"
     ]
    },
    {
     "name": "stdout",
     "output_type": "stream",
     "text": [
      "\t[257/1232]\tRL_CNN: gamma_trade=7, gamma_risk=10, gamma_hold=1000, seed=0...\n"
     ]
    },
    {
     "name": "stdout",
     "output_type": "stream",
     "text": [
      "\t[258/1232]\tRL_CNN: gamma_trade=7, gamma_risk=10, gamma_hold=10000, seed=0...\n"
     ]
    },
    {
     "name": "stdout",
     "output_type": "stream",
     "text": [
      "\t[259/1232]\tRL_CNN: gamma_trade=7, gamma_risk=10, gamma_hold=100000, seed=0...\n"
     ]
    },
    {
     "name": "stdout",
     "output_type": "stream",
     "text": [
      "\t[260/1232]\tRL_CNN: gamma_trade=7, gamma_risk=18, gamma_hold=0.1, seed=0...\n"
     ]
    },
    {
     "name": "stdout",
     "output_type": "stream",
     "text": [
      "\t[261/1232]\tRL_CNN: gamma_trade=7, gamma_risk=18, gamma_hold=1, seed=0...\n"
     ]
    },
    {
     "name": "stdout",
     "output_type": "stream",
     "text": [
      "\t[262/1232]\tRL_CNN: gamma_trade=7, gamma_risk=18, gamma_hold=10, seed=0...\n"
     ]
    },
    {
     "name": "stdout",
     "output_type": "stream",
     "text": [
      "\t[263/1232]\tRL_CNN: gamma_trade=7, gamma_risk=18, gamma_hold=100, seed=0...\n"
     ]
    },
    {
     "name": "stdout",
     "output_type": "stream",
     "text": [
      "\t[264/1232]\tRL_CNN: gamma_trade=7, gamma_risk=18, gamma_hold=1000, seed=0...\n"
     ]
    },
    {
     "name": "stdout",
     "output_type": "stream",
     "text": [
      "\t[265/1232]\tRL_CNN: gamma_trade=7, gamma_risk=18, gamma_hold=10000, seed=0...\n"
     ]
    },
    {
     "name": "stdout",
     "output_type": "stream",
     "text": [
      "\t[266/1232]\tRL_CNN: gamma_trade=7, gamma_risk=18, gamma_hold=100000, seed=0...\n"
     ]
    },
    {
     "name": "stdout",
     "output_type": "stream",
     "text": [
      "\t[267/1232]\tRL_CNN: gamma_trade=7, gamma_risk=32, gamma_hold=0.1, seed=0...\n"
     ]
    },
    {
     "name": "stdout",
     "output_type": "stream",
     "text": [
      "\t[268/1232]\tRL_CNN: gamma_trade=7, gamma_risk=32, gamma_hold=1, seed=0...\n"
     ]
    },
    {
     "name": "stdout",
     "output_type": "stream",
     "text": [
      "\t[269/1232]\tRL_CNN: gamma_trade=7, gamma_risk=32, gamma_hold=10, seed=0...\n"
     ]
    },
    {
     "name": "stdout",
     "output_type": "stream",
     "text": [
      "\t[270/1232]\tRL_CNN: gamma_trade=7, gamma_risk=32, gamma_hold=100, seed=0...\n"
     ]
    },
    {
     "name": "stdout",
     "output_type": "stream",
     "text": [
      "\t[271/1232]\tRL_CNN: gamma_trade=7, gamma_risk=32, gamma_hold=1000, seed=0...\n"
     ]
    },
    {
     "name": "stdout",
     "output_type": "stream",
     "text": [
      "\t[272/1232]\tRL_CNN: gamma_trade=7, gamma_risk=32, gamma_hold=10000, seed=0...\n"
     ]
    },
    {
     "name": "stdout",
     "output_type": "stream",
     "text": [
      "\t[273/1232]\tRL_CNN: gamma_trade=7, gamma_risk=32, gamma_hold=100000, seed=0...\n"
     ]
    },
    {
     "name": "stdout",
     "output_type": "stream",
     "text": [
      "\t[274/1232]\tRL_CNN: gamma_trade=7, gamma_risk=56, gamma_hold=0.1, seed=0...\n"
     ]
    },
    {
     "name": "stdout",
     "output_type": "stream",
     "text": [
      "\t[275/1232]\tRL_CNN: gamma_trade=7, gamma_risk=56, gamma_hold=1, seed=0...\n"
     ]
    },
    {
     "name": "stdout",
     "output_type": "stream",
     "text": [
      "\t[276/1232]\tRL_CNN: gamma_trade=7, gamma_risk=56, gamma_hold=10, seed=0...\n"
     ]
    },
    {
     "name": "stdout",
     "output_type": "stream",
     "text": [
      "\t[277/1232]\tRL_CNN: gamma_trade=7, gamma_risk=56, gamma_hold=100, seed=0...\n"
     ]
    },
    {
     "name": "stdout",
     "output_type": "stream",
     "text": [
      "\t[278/1232]\tRL_CNN: gamma_trade=7, gamma_risk=56, gamma_hold=1000, seed=0...\n"
     ]
    },
    {
     "name": "stdout",
     "output_type": "stream",
     "text": [
      "\t[279/1232]\tRL_CNN: gamma_trade=7, gamma_risk=56, gamma_hold=10000, seed=0...\n"
     ]
    },
    {
     "name": "stdout",
     "output_type": "stream",
     "text": [
      "\t[280/1232]\tRL_CNN: gamma_trade=7, gamma_risk=56, gamma_hold=100000, seed=0...\n"
     ]
    },
    {
     "name": "stdout",
     "output_type": "stream",
     "text": [
      "\t[281/1232]\tRL_CNN: gamma_trade=7, gamma_risk=100, gamma_hold=0.1, seed=0...\n"
     ]
    },
    {
     "name": "stdout",
     "output_type": "stream",
     "text": [
      "\t[282/1232]\tRL_CNN: gamma_trade=7, gamma_risk=100, gamma_hold=1, seed=0...\n"
     ]
    },
    {
     "name": "stdout",
     "output_type": "stream",
     "text": [
      "\t[283/1232]\tRL_CNN: gamma_trade=7, gamma_risk=100, gamma_hold=10, seed=0...\n"
     ]
    },
    {
     "name": "stdout",
     "output_type": "stream",
     "text": [
      "\t[284/1232]\tRL_CNN: gamma_trade=7, gamma_risk=100, gamma_hold=100, seed=0...\n"
     ]
    },
    {
     "name": "stdout",
     "output_type": "stream",
     "text": [
      "\t[285/1232]\tRL_CNN: gamma_trade=7, gamma_risk=100, gamma_hold=1000, seed=0...\n"
     ]
    },
    {
     "name": "stdout",
     "output_type": "stream",
     "text": [
      "\t[286/1232]\tRL_CNN: gamma_trade=7, gamma_risk=100, gamma_hold=10000, seed=0...\n"
     ]
    },
    {
     "name": "stdout",
     "output_type": "stream",
     "text": [
      "\t[287/1232]\tRL_CNN: gamma_trade=7, gamma_risk=100, gamma_hold=100000, seed=0...\n"
     ]
    },
    {
     "name": "stdout",
     "output_type": "stream",
     "text": [
      "\t[288/1232]\tRL_CNN: gamma_trade=7, gamma_risk=178, gamma_hold=0.1, seed=0...\n"
     ]
    },
    {
     "name": "stdout",
     "output_type": "stream",
     "text": [
      "\t[289/1232]\tRL_CNN: gamma_trade=7, gamma_risk=178, gamma_hold=1, seed=0...\n"
     ]
    },
    {
     "name": "stdout",
     "output_type": "stream",
     "text": [
      "\t[290/1232]\tRL_CNN: gamma_trade=7, gamma_risk=178, gamma_hold=10, seed=0...\n"
     ]
    },
    {
     "name": "stdout",
     "output_type": "stream",
     "text": [
      "\t[291/1232]\tRL_CNN: gamma_trade=7, gamma_risk=178, gamma_hold=100, seed=0...\n"
     ]
    },
    {
     "name": "stdout",
     "output_type": "stream",
     "text": [
      "\t[292/1232]\tRL_CNN: gamma_trade=7, gamma_risk=178, gamma_hold=1000, seed=0...\n"
     ]
    },
    {
     "name": "stdout",
     "output_type": "stream",
     "text": [
      "\t[293/1232]\tRL_CNN: gamma_trade=7, gamma_risk=178, gamma_hold=10000, seed=0...\n"
     ]
    },
    {
     "name": "stdout",
     "output_type": "stream",
     "text": [
      "\t[294/1232]\tRL_CNN: gamma_trade=7, gamma_risk=178, gamma_hold=100000, seed=0...\n"
     ]
    },
    {
     "name": "stdout",
     "output_type": "stream",
     "text": [
      "\t[295/1232]\tRL_CNN: gamma_trade=7, gamma_risk=316, gamma_hold=0.1, seed=0...\n"
     ]
    },
    {
     "name": "stdout",
     "output_type": "stream",
     "text": [
      "\t[296/1232]\tRL_CNN: gamma_trade=7, gamma_risk=316, gamma_hold=1, seed=0...\n"
     ]
    },
    {
     "name": "stdout",
     "output_type": "stream",
     "text": [
      "\t[297/1232]\tRL_CNN: gamma_trade=7, gamma_risk=316, gamma_hold=10, seed=0...\n"
     ]
    },
    {
     "name": "stdout",
     "output_type": "stream",
     "text": [
      "\t[298/1232]\tRL_CNN: gamma_trade=7, gamma_risk=316, gamma_hold=100, seed=0...\n"
     ]
    },
    {
     "name": "stdout",
     "output_type": "stream",
     "text": [
      "\t[299/1232]\tRL_CNN: gamma_trade=7, gamma_risk=316, gamma_hold=1000, seed=0...\n"
     ]
    },
    {
     "name": "stdout",
     "output_type": "stream",
     "text": [
      "\t[300/1232]\tRL_CNN: gamma_trade=7, gamma_risk=316, gamma_hold=10000, seed=0...\n"
     ]
    },
    {
     "name": "stdout",
     "output_type": "stream",
     "text": [
      "\t[301/1232]\tRL_CNN: gamma_trade=7, gamma_risk=316, gamma_hold=100000, seed=0...\n"
     ]
    },
    {
     "name": "stdout",
     "output_type": "stream",
     "text": [
      "\t[302/1232]\tRL_CNN: gamma_trade=7, gamma_risk=562, gamma_hold=0.1, seed=0...\n"
     ]
    },
    {
     "name": "stdout",
     "output_type": "stream",
     "text": [
      "\t[303/1232]\tRL_CNN: gamma_trade=7, gamma_risk=562, gamma_hold=1, seed=0...\n"
     ]
    },
    {
     "name": "stdout",
     "output_type": "stream",
     "text": [
      "\t[304/1232]\tRL_CNN: gamma_trade=7, gamma_risk=562, gamma_hold=10, seed=0...\n"
     ]
    },
    {
     "name": "stdout",
     "output_type": "stream",
     "text": [
      "\t[305/1232]\tRL_CNN: gamma_trade=7, gamma_risk=562, gamma_hold=100, seed=0...\n"
     ]
    },
    {
     "name": "stdout",
     "output_type": "stream",
     "text": [
      "\t[306/1232]\tRL_CNN: gamma_trade=7, gamma_risk=562, gamma_hold=1000, seed=0...\n"
     ]
    },
    {
     "name": "stdout",
     "output_type": "stream",
     "text": [
      "\t[307/1232]\tRL_CNN: gamma_trade=7, gamma_risk=562, gamma_hold=10000, seed=0...\n"
     ]
    },
    {
     "name": "stdout",
     "output_type": "stream",
     "text": [
      "\t[308/1232]\tRL_CNN: gamma_trade=7, gamma_risk=562, gamma_hold=100000, seed=0...\n"
     ]
    },
    {
     "name": "stdout",
     "output_type": "stream",
     "text": [
      "\t[309/1232]\tRL_CNN: gamma_trade=7, gamma_risk=1000, gamma_hold=0.1, seed=0...\n"
     ]
    },
    {
     "name": "stdout",
     "output_type": "stream",
     "text": [
      "\t[310/1232]\tRL_CNN: gamma_trade=7, gamma_risk=1000, gamma_hold=1, seed=0...\n"
     ]
    },
    {
     "name": "stdout",
     "output_type": "stream",
     "text": [
      "\t[311/1232]\tRL_CNN: gamma_trade=7, gamma_risk=1000, gamma_hold=10, seed=0...\n"
     ]
    },
    {
     "name": "stdout",
     "output_type": "stream",
     "text": [
      "\t[312/1232]\tRL_CNN: gamma_trade=7, gamma_risk=1000, gamma_hold=100, seed=0...\n"
     ]
    },
    {
     "name": "stdout",
     "output_type": "stream",
     "text": [
      "\t[313/1232]\tRL_CNN: gamma_trade=7, gamma_risk=1000, gamma_hold=1000, seed=0...\n"
     ]
    },
    {
     "name": "stdout",
     "output_type": "stream",
     "text": [
      "\t[314/1232]\tRL_CNN: gamma_trade=7, gamma_risk=1000, gamma_hold=10000, seed=0...\n"
     ]
    },
    {
     "name": "stdout",
     "output_type": "stream",
     "text": [
      "\t[315/1232]\tRL_CNN: gamma_trade=7, gamma_risk=1000, gamma_hold=100000, seed=0...\n"
     ]
    },
    {
     "name": "stdout",
     "output_type": "stream",
     "text": [
      "\t[316/1232]\tRL_CNN: gamma_trade=7, gamma_risk=5000, gamma_hold=0.1, seed=0...\n"
     ]
    },
    {
     "name": "stdout",
     "output_type": "stream",
     "text": [
      "\t[317/1232]\tRL_CNN: gamma_trade=7, gamma_risk=5000, gamma_hold=1, seed=0...\n"
     ]
    },
    {
     "name": "stdout",
     "output_type": "stream",
     "text": [
      "\t[318/1232]\tRL_CNN: gamma_trade=7, gamma_risk=5000, gamma_hold=10, seed=0...\n"
     ]
    },
    {
     "name": "stdout",
     "output_type": "stream",
     "text": [
      "\t[319/1232]\tRL_CNN: gamma_trade=7, gamma_risk=5000, gamma_hold=100, seed=0...\n"
     ]
    },
    {
     "name": "stdout",
     "output_type": "stream",
     "text": [
      "\t[320/1232]\tRL_CNN: gamma_trade=7, gamma_risk=5000, gamma_hold=1000, seed=0...\n"
     ]
    },
    {
     "name": "stdout",
     "output_type": "stream",
     "text": [
      "\t[321/1232]\tRL_CNN: gamma_trade=7, gamma_risk=5000, gamma_hold=10000, seed=0...\n"
     ]
    },
    {
     "name": "stdout",
     "output_type": "stream",
     "text": [
      "\t[322/1232]\tRL_CNN: gamma_trade=7, gamma_risk=5000, gamma_hold=100000, seed=0...\n"
     ]
    },
    {
     "name": "stdout",
     "output_type": "stream",
     "text": [
      "\t[323/1232]\tRL_CNN: gamma_trade=7, gamma_risk=10000, gamma_hold=0.1, seed=0...\n"
     ]
    },
    {
     "name": "stdout",
     "output_type": "stream",
     "text": [
      "\t[324/1232]\tRL_CNN: gamma_trade=7, gamma_risk=10000, gamma_hold=1, seed=0...\n"
     ]
    },
    {
     "name": "stdout",
     "output_type": "stream",
     "text": [
      "\t[325/1232]\tRL_CNN: gamma_trade=7, gamma_risk=10000, gamma_hold=10, seed=0...\n"
     ]
    },
    {
     "name": "stdout",
     "output_type": "stream",
     "text": [
      "\t[326/1232]\tRL_CNN: gamma_trade=7, gamma_risk=10000, gamma_hold=100, seed=0...\n"
     ]
    },
    {
     "name": "stdout",
     "output_type": "stream",
     "text": [
      "\t[327/1232]\tRL_CNN: gamma_trade=7, gamma_risk=10000, gamma_hold=1000, seed=0...\n"
     ]
    },
    {
     "name": "stdout",
     "output_type": "stream",
     "text": [
      "\t[328/1232]\tRL_CNN: gamma_trade=7, gamma_risk=10000, gamma_hold=10000, seed=0...\n"
     ]
    },
    {
     "name": "stdout",
     "output_type": "stream",
     "text": [
      "\t[329/1232]\tRL_CNN: gamma_trade=7, gamma_risk=10000, gamma_hold=100000, seed=0...\n"
     ]
    },
    {
     "name": "stdout",
     "output_type": "stream",
     "text": [
      "\t[330/1232]\tRL_CNN: gamma_trade=7, gamma_risk=100000, gamma_hold=0.1, seed=0...\n"
     ]
    },
    {
     "name": "stdout",
     "output_type": "stream",
     "text": [
      "\t[331/1232]\tRL_CNN: gamma_trade=7, gamma_risk=100000, gamma_hold=1, seed=0...\n"
     ]
    },
    {
     "name": "stdout",
     "output_type": "stream",
     "text": [
      "\t[332/1232]\tRL_CNN: gamma_trade=7, gamma_risk=100000, gamma_hold=10, seed=0...\n"
     ]
    },
    {
     "name": "stdout",
     "output_type": "stream",
     "text": [
      "\t[333/1232]\tRL_CNN: gamma_trade=7, gamma_risk=100000, gamma_hold=100, seed=0...\n"
     ]
    },
    {
     "name": "stdout",
     "output_type": "stream",
     "text": [
      "\t[334/1232]\tRL_CNN: gamma_trade=7, gamma_risk=100000, gamma_hold=1000, seed=0...\n"
     ]
    },
    {
     "name": "stdout",
     "output_type": "stream",
     "text": [
      "\t[335/1232]\tRL_CNN: gamma_trade=7, gamma_risk=100000, gamma_hold=10000, seed=0...\n"
     ]
    },
    {
     "name": "stdout",
     "output_type": "stream",
     "text": [
      "\t[336/1232]\tRL_CNN: gamma_trade=7, gamma_risk=100000, gamma_hold=100000, seed=0...\n"
     ]
    },
    {
     "name": "stdout",
     "output_type": "stream",
     "text": [
      "\t[337/1232]\tRL_CNN: gamma_trade=8, gamma_risk=1, gamma_hold=0.1, seed=0...\n"
     ]
    },
    {
     "name": "stdout",
     "output_type": "stream",
     "text": [
      "\t[338/1232]\tRL_CNN: gamma_trade=8, gamma_risk=1, gamma_hold=1, seed=0...\n"
     ]
    },
    {
     "name": "stdout",
     "output_type": "stream",
     "text": [
      "\t[339/1232]\tRL_CNN: gamma_trade=8, gamma_risk=1, gamma_hold=10, seed=0...\n"
     ]
    },
    {
     "name": "stdout",
     "output_type": "stream",
     "text": [
      "\t[340/1232]\tRL_CNN: gamma_trade=8, gamma_risk=1, gamma_hold=100, seed=0...\n"
     ]
    },
    {
     "name": "stdout",
     "output_type": "stream",
     "text": [
      "\t[341/1232]\tRL_CNN: gamma_trade=8, gamma_risk=1, gamma_hold=1000, seed=0...\n"
     ]
    },
    {
     "name": "stdout",
     "output_type": "stream",
     "text": [
      "\t[342/1232]\tRL_CNN: gamma_trade=8, gamma_risk=1, gamma_hold=10000, seed=0...\n"
     ]
    },
    {
     "name": "stdout",
     "output_type": "stream",
     "text": [
      "\t[343/1232]\tRL_CNN: gamma_trade=8, gamma_risk=1, gamma_hold=100000, seed=0...\n"
     ]
    },
    {
     "name": "stdout",
     "output_type": "stream",
     "text": [
      "\t[344/1232]\tRL_CNN: gamma_trade=8, gamma_risk=2, gamma_hold=0.1, seed=0...\n"
     ]
    },
    {
     "name": "stdout",
     "output_type": "stream",
     "text": [
      "\t[345/1232]\tRL_CNN: gamma_trade=8, gamma_risk=2, gamma_hold=1, seed=0...\n"
     ]
    },
    {
     "name": "stdout",
     "output_type": "stream",
     "text": [
      "\t[346/1232]\tRL_CNN: gamma_trade=8, gamma_risk=2, gamma_hold=10, seed=0...\n"
     ]
    },
    {
     "name": "stdout",
     "output_type": "stream",
     "text": [
      "\t[347/1232]\tRL_CNN: gamma_trade=8, gamma_risk=2, gamma_hold=100, seed=0...\n"
     ]
    },
    {
     "name": "stdout",
     "output_type": "stream",
     "text": [
      "\t[348/1232]\tRL_CNN: gamma_trade=8, gamma_risk=2, gamma_hold=1000, seed=0...\n"
     ]
    },
    {
     "name": "stdout",
     "output_type": "stream",
     "text": [
      "\t[349/1232]\tRL_CNN: gamma_trade=8, gamma_risk=2, gamma_hold=10000, seed=0...\n"
     ]
    },
    {
     "name": "stdout",
     "output_type": "stream",
     "text": [
      "\t[350/1232]\tRL_CNN: gamma_trade=8, gamma_risk=2, gamma_hold=100000, seed=0...\n"
     ]
    },
    {
     "name": "stdout",
     "output_type": "stream",
     "text": [
      "\t[351/1232]\tRL_CNN: gamma_trade=8, gamma_risk=3, gamma_hold=0.1, seed=0...\n"
     ]
    },
    {
     "name": "stdout",
     "output_type": "stream",
     "text": [
      "\t[352/1232]\tRL_CNN: gamma_trade=8, gamma_risk=3, gamma_hold=1, seed=0...\n"
     ]
    },
    {
     "name": "stdout",
     "output_type": "stream",
     "text": [
      "\t[353/1232]\tRL_CNN: gamma_trade=8, gamma_risk=3, gamma_hold=10, seed=0...\n"
     ]
    },
    {
     "name": "stdout",
     "output_type": "stream",
     "text": [
      "\t[354/1232]\tRL_CNN: gamma_trade=8, gamma_risk=3, gamma_hold=100, seed=0...\n"
     ]
    },
    {
     "name": "stdout",
     "output_type": "stream",
     "text": [
      "\t[355/1232]\tRL_CNN: gamma_trade=8, gamma_risk=3, gamma_hold=1000, seed=0...\n"
     ]
    },
    {
     "name": "stdout",
     "output_type": "stream",
     "text": [
      "\t[356/1232]\tRL_CNN: gamma_trade=8, gamma_risk=3, gamma_hold=10000, seed=0...\n"
     ]
    },
    {
     "name": "stdout",
     "output_type": "stream",
     "text": [
      "\t[357/1232]\tRL_CNN: gamma_trade=8, gamma_risk=3, gamma_hold=100000, seed=0...\n"
     ]
    },
    {
     "name": "stdout",
     "output_type": "stream",
     "text": [
      "\t[358/1232]\tRL_CNN: gamma_trade=8, gamma_risk=6, gamma_hold=0.1, seed=0...\n"
     ]
    },
    {
     "name": "stdout",
     "output_type": "stream",
     "text": [
      "\t[359/1232]\tRL_CNN: gamma_trade=8, gamma_risk=6, gamma_hold=1, seed=0...\n"
     ]
    },
    {
     "name": "stdout",
     "output_type": "stream",
     "text": [
      "\t[360/1232]\tRL_CNN: gamma_trade=8, gamma_risk=6, gamma_hold=10, seed=0...\n"
     ]
    },
    {
     "name": "stdout",
     "output_type": "stream",
     "text": [
      "\t[361/1232]\tRL_CNN: gamma_trade=8, gamma_risk=6, gamma_hold=100, seed=0...\n"
     ]
    },
    {
     "name": "stdout",
     "output_type": "stream",
     "text": [
      "\t[362/1232]\tRL_CNN: gamma_trade=8, gamma_risk=6, gamma_hold=1000, seed=0...\n"
     ]
    },
    {
     "name": "stdout",
     "output_type": "stream",
     "text": [
      "\t[363/1232]\tRL_CNN: gamma_trade=8, gamma_risk=6, gamma_hold=10000, seed=0...\n"
     ]
    },
    {
     "name": "stdout",
     "output_type": "stream",
     "text": [
      "\t[364/1232]\tRL_CNN: gamma_trade=8, gamma_risk=6, gamma_hold=100000, seed=0...\n"
     ]
    },
    {
     "name": "stdout",
     "output_type": "stream",
     "text": [
      "\t[365/1232]\tRL_CNN: gamma_trade=8, gamma_risk=10, gamma_hold=0.1, seed=0...\n"
     ]
    },
    {
     "name": "stdout",
     "output_type": "stream",
     "text": [
      "\t[366/1232]\tRL_CNN: gamma_trade=8, gamma_risk=10, gamma_hold=1, seed=0...\n"
     ]
    },
    {
     "name": "stdout",
     "output_type": "stream",
     "text": [
      "\t[367/1232]\tRL_CNN: gamma_trade=8, gamma_risk=10, gamma_hold=10, seed=0...\n"
     ]
    },
    {
     "name": "stdout",
     "output_type": "stream",
     "text": [
      "\t[368/1232]\tRL_CNN: gamma_trade=8, gamma_risk=10, gamma_hold=100, seed=0...\n"
     ]
    },
    {
     "name": "stdout",
     "output_type": "stream",
     "text": [
      "\t[369/1232]\tRL_CNN: gamma_trade=8, gamma_risk=10, gamma_hold=1000, seed=0...\n"
     ]
    },
    {
     "name": "stdout",
     "output_type": "stream",
     "text": [
      "\t[370/1232]\tRL_CNN: gamma_trade=8, gamma_risk=10, gamma_hold=10000, seed=0...\n"
     ]
    },
    {
     "name": "stdout",
     "output_type": "stream",
     "text": [
      "\t[371/1232]\tRL_CNN: gamma_trade=8, gamma_risk=10, gamma_hold=100000, seed=0...\n"
     ]
    },
    {
     "name": "stdout",
     "output_type": "stream",
     "text": [
      "\t[372/1232]\tRL_CNN: gamma_trade=8, gamma_risk=18, gamma_hold=0.1, seed=0...\n"
     ]
    },
    {
     "name": "stdout",
     "output_type": "stream",
     "text": [
      "\t[373/1232]\tRL_CNN: gamma_trade=8, gamma_risk=18, gamma_hold=1, seed=0...\n"
     ]
    },
    {
     "name": "stdout",
     "output_type": "stream",
     "text": [
      "\t[374/1232]\tRL_CNN: gamma_trade=8, gamma_risk=18, gamma_hold=10, seed=0...\n"
     ]
    },
    {
     "name": "stdout",
     "output_type": "stream",
     "text": [
      "\t[375/1232]\tRL_CNN: gamma_trade=8, gamma_risk=18, gamma_hold=100, seed=0...\n"
     ]
    },
    {
     "name": "stdout",
     "output_type": "stream",
     "text": [
      "\t[376/1232]\tRL_CNN: gamma_trade=8, gamma_risk=18, gamma_hold=1000, seed=0...\n"
     ]
    },
    {
     "name": "stdout",
     "output_type": "stream",
     "text": [
      "\t[377/1232]\tRL_CNN: gamma_trade=8, gamma_risk=18, gamma_hold=10000, seed=0...\n"
     ]
    },
    {
     "name": "stdout",
     "output_type": "stream",
     "text": [
      "\t[378/1232]\tRL_CNN: gamma_trade=8, gamma_risk=18, gamma_hold=100000, seed=0...\n"
     ]
    },
    {
     "name": "stdout",
     "output_type": "stream",
     "text": [
      "\t[379/1232]\tRL_CNN: gamma_trade=8, gamma_risk=32, gamma_hold=0.1, seed=0...\n"
     ]
    },
    {
     "name": "stdout",
     "output_type": "stream",
     "text": [
      "\t[380/1232]\tRL_CNN: gamma_trade=8, gamma_risk=32, gamma_hold=1, seed=0...\n"
     ]
    },
    {
     "name": "stdout",
     "output_type": "stream",
     "text": [
      "\t[381/1232]\tRL_CNN: gamma_trade=8, gamma_risk=32, gamma_hold=10, seed=0...\n"
     ]
    },
    {
     "name": "stdout",
     "output_type": "stream",
     "text": [
      "\t[382/1232]\tRL_CNN: gamma_trade=8, gamma_risk=32, gamma_hold=100, seed=0...\n"
     ]
    },
    {
     "name": "stdout",
     "output_type": "stream",
     "text": [
      "\t[383/1232]\tRL_CNN: gamma_trade=8, gamma_risk=32, gamma_hold=1000, seed=0...\n"
     ]
    },
    {
     "name": "stdout",
     "output_type": "stream",
     "text": [
      "\t[384/1232]\tRL_CNN: gamma_trade=8, gamma_risk=32, gamma_hold=10000, seed=0...\n"
     ]
    },
    {
     "name": "stdout",
     "output_type": "stream",
     "text": [
      "\t[385/1232]\tRL_CNN: gamma_trade=8, gamma_risk=32, gamma_hold=100000, seed=0...\n"
     ]
    },
    {
     "name": "stdout",
     "output_type": "stream",
     "text": [
      "\t[386/1232]\tRL_CNN: gamma_trade=8, gamma_risk=56, gamma_hold=0.1, seed=0...\n"
     ]
    },
    {
     "name": "stdout",
     "output_type": "stream",
     "text": [
      "\t[387/1232]\tRL_CNN: gamma_trade=8, gamma_risk=56, gamma_hold=1, seed=0...\n"
     ]
    },
    {
     "name": "stdout",
     "output_type": "stream",
     "text": [
      "\t[388/1232]\tRL_CNN: gamma_trade=8, gamma_risk=56, gamma_hold=10, seed=0...\n"
     ]
    },
    {
     "name": "stdout",
     "output_type": "stream",
     "text": [
      "\t[389/1232]\tRL_CNN: gamma_trade=8, gamma_risk=56, gamma_hold=100, seed=0...\n"
     ]
    },
    {
     "name": "stdout",
     "output_type": "stream",
     "text": [
      "\t[390/1232]\tRL_CNN: gamma_trade=8, gamma_risk=56, gamma_hold=1000, seed=0...\n"
     ]
    },
    {
     "name": "stdout",
     "output_type": "stream",
     "text": [
      "\t[391/1232]\tRL_CNN: gamma_trade=8, gamma_risk=56, gamma_hold=10000, seed=0...\n"
     ]
    },
    {
     "name": "stdout",
     "output_type": "stream",
     "text": [
      "\t[392/1232]\tRL_CNN: gamma_trade=8, gamma_risk=56, gamma_hold=100000, seed=0...\n"
     ]
    },
    {
     "name": "stdout",
     "output_type": "stream",
     "text": [
      "\t[393/1232]\tRL_CNN: gamma_trade=8, gamma_risk=100, gamma_hold=0.1, seed=0...\n"
     ]
    },
    {
     "name": "stdout",
     "output_type": "stream",
     "text": [
      "\t[394/1232]\tRL_CNN: gamma_trade=8, gamma_risk=100, gamma_hold=1, seed=0...\n"
     ]
    },
    {
     "name": "stdout",
     "output_type": "stream",
     "text": [
      "\t[395/1232]\tRL_CNN: gamma_trade=8, gamma_risk=100, gamma_hold=10, seed=0...\n"
     ]
    },
    {
     "name": "stdout",
     "output_type": "stream",
     "text": [
      "\t[396/1232]\tRL_CNN: gamma_trade=8, gamma_risk=100, gamma_hold=100, seed=0...\n"
     ]
    },
    {
     "name": "stdout",
     "output_type": "stream",
     "text": [
      "\t[397/1232]\tRL_CNN: gamma_trade=8, gamma_risk=100, gamma_hold=1000, seed=0...\n"
     ]
    },
    {
     "name": "stdout",
     "output_type": "stream",
     "text": [
      "\t[398/1232]\tRL_CNN: gamma_trade=8, gamma_risk=100, gamma_hold=10000, seed=0...\n"
     ]
    },
    {
     "name": "stdout",
     "output_type": "stream",
     "text": [
      "\t[399/1232]\tRL_CNN: gamma_trade=8, gamma_risk=100, gamma_hold=100000, seed=0...\n"
     ]
    },
    {
     "name": "stdout",
     "output_type": "stream",
     "text": [
      "\t[400/1232]\tRL_CNN: gamma_trade=8, gamma_risk=178, gamma_hold=0.1, seed=0...\n"
     ]
    },
    {
     "name": "stdout",
     "output_type": "stream",
     "text": [
      "\t[401/1232]\tRL_CNN: gamma_trade=8, gamma_risk=178, gamma_hold=1, seed=0...\n"
     ]
    },
    {
     "name": "stdout",
     "output_type": "stream",
     "text": [
      "\t[402/1232]\tRL_CNN: gamma_trade=8, gamma_risk=178, gamma_hold=10, seed=0...\n"
     ]
    },
    {
     "name": "stdout",
     "output_type": "stream",
     "text": [
      "\t[403/1232]\tRL_CNN: gamma_trade=8, gamma_risk=178, gamma_hold=100, seed=0...\n"
     ]
    },
    {
     "name": "stdout",
     "output_type": "stream",
     "text": [
      "\t[404/1232]\tRL_CNN: gamma_trade=8, gamma_risk=178, gamma_hold=1000, seed=0...\n"
     ]
    },
    {
     "name": "stdout",
     "output_type": "stream",
     "text": [
      "\t[405/1232]\tRL_CNN: gamma_trade=8, gamma_risk=178, gamma_hold=10000, seed=0...\n"
     ]
    },
    {
     "name": "stdout",
     "output_type": "stream",
     "text": [
      "\t[406/1232]\tRL_CNN: gamma_trade=8, gamma_risk=178, gamma_hold=100000, seed=0...\n"
     ]
    },
    {
     "name": "stdout",
     "output_type": "stream",
     "text": [
      "\t[407/1232]\tRL_CNN: gamma_trade=8, gamma_risk=316, gamma_hold=0.1, seed=0...\n"
     ]
    },
    {
     "name": "stdout",
     "output_type": "stream",
     "text": [
      "\t[408/1232]\tRL_CNN: gamma_trade=8, gamma_risk=316, gamma_hold=1, seed=0...\n"
     ]
    },
    {
     "name": "stdout",
     "output_type": "stream",
     "text": [
      "\t[409/1232]\tRL_CNN: gamma_trade=8, gamma_risk=316, gamma_hold=10, seed=0...\n"
     ]
    },
    {
     "name": "stdout",
     "output_type": "stream",
     "text": [
      "\t[410/1232]\tRL_CNN: gamma_trade=8, gamma_risk=316, gamma_hold=100, seed=0...\n"
     ]
    },
    {
     "name": "stdout",
     "output_type": "stream",
     "text": [
      "\t[411/1232]\tRL_CNN: gamma_trade=8, gamma_risk=316, gamma_hold=1000, seed=0...\n"
     ]
    },
    {
     "name": "stdout",
     "output_type": "stream",
     "text": [
      "\t[412/1232]\tRL_CNN: gamma_trade=8, gamma_risk=316, gamma_hold=10000, seed=0...\n"
     ]
    },
    {
     "name": "stdout",
     "output_type": "stream",
     "text": [
      "\t[413/1232]\tRL_CNN: gamma_trade=8, gamma_risk=316, gamma_hold=100000, seed=0...\n"
     ]
    },
    {
     "name": "stdout",
     "output_type": "stream",
     "text": [
      "\t[414/1232]\tRL_CNN: gamma_trade=8, gamma_risk=562, gamma_hold=0.1, seed=0...\n"
     ]
    },
    {
     "name": "stdout",
     "output_type": "stream",
     "text": [
      "\t[415/1232]\tRL_CNN: gamma_trade=8, gamma_risk=562, gamma_hold=1, seed=0...\n"
     ]
    },
    {
     "name": "stdout",
     "output_type": "stream",
     "text": [
      "\t[416/1232]\tRL_CNN: gamma_trade=8, gamma_risk=562, gamma_hold=10, seed=0...\n"
     ]
    },
    {
     "name": "stdout",
     "output_type": "stream",
     "text": [
      "\t[417/1232]\tRL_CNN: gamma_trade=8, gamma_risk=562, gamma_hold=100, seed=0...\n"
     ]
    },
    {
     "name": "stdout",
     "output_type": "stream",
     "text": [
      "\t[418/1232]\tRL_CNN: gamma_trade=8, gamma_risk=562, gamma_hold=1000, seed=0...\n"
     ]
    },
    {
     "name": "stdout",
     "output_type": "stream",
     "text": [
      "\t[419/1232]\tRL_CNN: gamma_trade=8, gamma_risk=562, gamma_hold=10000, seed=0...\n"
     ]
    },
    {
     "name": "stdout",
     "output_type": "stream",
     "text": [
      "\t[420/1232]\tRL_CNN: gamma_trade=8, gamma_risk=562, gamma_hold=100000, seed=0...\n"
     ]
    },
    {
     "name": "stdout",
     "output_type": "stream",
     "text": [
      "\t[421/1232]\tRL_CNN: gamma_trade=8, gamma_risk=1000, gamma_hold=0.1, seed=0...\n"
     ]
    },
    {
     "name": "stdout",
     "output_type": "stream",
     "text": [
      "\t[422/1232]\tRL_CNN: gamma_trade=8, gamma_risk=1000, gamma_hold=1, seed=0...\n"
     ]
    },
    {
     "name": "stdout",
     "output_type": "stream",
     "text": [
      "\t[423/1232]\tRL_CNN: gamma_trade=8, gamma_risk=1000, gamma_hold=10, seed=0...\n"
     ]
    },
    {
     "name": "stdout",
     "output_type": "stream",
     "text": [
      "\t[424/1232]\tRL_CNN: gamma_trade=8, gamma_risk=1000, gamma_hold=100, seed=0...\n"
     ]
    },
    {
     "name": "stdout",
     "output_type": "stream",
     "text": [
      "\t[425/1232]\tRL_CNN: gamma_trade=8, gamma_risk=1000, gamma_hold=1000, seed=0...\n"
     ]
    },
    {
     "name": "stdout",
     "output_type": "stream",
     "text": [
      "\t[426/1232]\tRL_CNN: gamma_trade=8, gamma_risk=1000, gamma_hold=10000, seed=0...\n"
     ]
    },
    {
     "name": "stdout",
     "output_type": "stream",
     "text": [
      "\t[427/1232]\tRL_CNN: gamma_trade=8, gamma_risk=1000, gamma_hold=100000, seed=0...\n"
     ]
    },
    {
     "name": "stdout",
     "output_type": "stream",
     "text": [
      "\t[428/1232]\tRL_CNN: gamma_trade=8, gamma_risk=5000, gamma_hold=0.1, seed=0...\n"
     ]
    },
    {
     "name": "stdout",
     "output_type": "stream",
     "text": [
      "\t[429/1232]\tRL_CNN: gamma_trade=8, gamma_risk=5000, gamma_hold=1, seed=0...\n"
     ]
    },
    {
     "name": "stdout",
     "output_type": "stream",
     "text": [
      "\t[430/1232]\tRL_CNN: gamma_trade=8, gamma_risk=5000, gamma_hold=10, seed=0...\n"
     ]
    },
    {
     "name": "stdout",
     "output_type": "stream",
     "text": [
      "\t[431/1232]\tRL_CNN: gamma_trade=8, gamma_risk=5000, gamma_hold=100, seed=0...\n"
     ]
    },
    {
     "name": "stdout",
     "output_type": "stream",
     "text": [
      "\t[432/1232]\tRL_CNN: gamma_trade=8, gamma_risk=5000, gamma_hold=1000, seed=0...\n"
     ]
    },
    {
     "name": "stdout",
     "output_type": "stream",
     "text": [
      "\t[433/1232]\tRL_CNN: gamma_trade=8, gamma_risk=5000, gamma_hold=10000, seed=0...\n"
     ]
    },
    {
     "name": "stdout",
     "output_type": "stream",
     "text": [
      "\t[434/1232]\tRL_CNN: gamma_trade=8, gamma_risk=5000, gamma_hold=100000, seed=0...\n"
     ]
    },
    {
     "name": "stdout",
     "output_type": "stream",
     "text": [
      "\t[435/1232]\tRL_CNN: gamma_trade=8, gamma_risk=10000, gamma_hold=0.1, seed=0...\n"
     ]
    },
    {
     "name": "stdout",
     "output_type": "stream",
     "text": [
      "\t[436/1232]\tRL_CNN: gamma_trade=8, gamma_risk=10000, gamma_hold=1, seed=0...\n"
     ]
    },
    {
     "name": "stdout",
     "output_type": "stream",
     "text": [
      "\t[437/1232]\tRL_CNN: gamma_trade=8, gamma_risk=10000, gamma_hold=10, seed=0...\n"
     ]
    },
    {
     "name": "stdout",
     "output_type": "stream",
     "text": [
      "\t[438/1232]\tRL_CNN: gamma_trade=8, gamma_risk=10000, gamma_hold=100, seed=0...\n"
     ]
    },
    {
     "name": "stdout",
     "output_type": "stream",
     "text": [
      "\t[439/1232]\tRL_CNN: gamma_trade=8, gamma_risk=10000, gamma_hold=1000, seed=0...\n"
     ]
    },
    {
     "name": "stdout",
     "output_type": "stream",
     "text": [
      "\t[440/1232]\tRL_CNN: gamma_trade=8, gamma_risk=10000, gamma_hold=10000, seed=0...\n"
     ]
    },
    {
     "name": "stdout",
     "output_type": "stream",
     "text": [
      "\t[441/1232]\tRL_CNN: gamma_trade=8, gamma_risk=10000, gamma_hold=100000, seed=0...\n"
     ]
    },
    {
     "name": "stdout",
     "output_type": "stream",
     "text": [
      "\t[442/1232]\tRL_CNN: gamma_trade=8, gamma_risk=100000, gamma_hold=0.1, seed=0...\n"
     ]
    },
    {
     "name": "stdout",
     "output_type": "stream",
     "text": [
      "\t[443/1232]\tRL_CNN: gamma_trade=8, gamma_risk=100000, gamma_hold=1, seed=0...\n"
     ]
    },
    {
     "name": "stdout",
     "output_type": "stream",
     "text": [
      "\t[444/1232]\tRL_CNN: gamma_trade=8, gamma_risk=100000, gamma_hold=10, seed=0...\n"
     ]
    },
    {
     "name": "stdout",
     "output_type": "stream",
     "text": [
      "\t[445/1232]\tRL_CNN: gamma_trade=8, gamma_risk=100000, gamma_hold=100, seed=0...\n"
     ]
    },
    {
     "name": "stdout",
     "output_type": "stream",
     "text": [
      "\t[446/1232]\tRL_CNN: gamma_trade=8, gamma_risk=100000, gamma_hold=1000, seed=0...\n"
     ]
    },
    {
     "name": "stdout",
     "output_type": "stream",
     "text": [
      "\t[447/1232]\tRL_CNN: gamma_trade=8, gamma_risk=100000, gamma_hold=10000, seed=0...\n"
     ]
    },
    {
     "name": "stdout",
     "output_type": "stream",
     "text": [
      "\t[448/1232]\tRL_CNN: gamma_trade=8, gamma_risk=100000, gamma_hold=100000, seed=0...\n"
     ]
    },
    {
     "name": "stdout",
     "output_type": "stream",
     "text": [
      "\t[449/1232]\tRL_CNN: gamma_trade=9, gamma_risk=1, gamma_hold=0.1, seed=0...\n"
     ]
    },
    {
     "name": "stdout",
     "output_type": "stream",
     "text": [
      "\t[450/1232]\tRL_CNN: gamma_trade=9, gamma_risk=1, gamma_hold=1, seed=0...\n"
     ]
    },
    {
     "name": "stdout",
     "output_type": "stream",
     "text": [
      "\t[451/1232]\tRL_CNN: gamma_trade=9, gamma_risk=1, gamma_hold=10, seed=0...\n"
     ]
    },
    {
     "name": "stdout",
     "output_type": "stream",
     "text": [
      "\t[452/1232]\tRL_CNN: gamma_trade=9, gamma_risk=1, gamma_hold=100, seed=0...\n"
     ]
    },
    {
     "name": "stdout",
     "output_type": "stream",
     "text": [
      "\t[453/1232]\tRL_CNN: gamma_trade=9, gamma_risk=1, gamma_hold=1000, seed=0...\n"
     ]
    },
    {
     "name": "stdout",
     "output_type": "stream",
     "text": [
      "\t[454/1232]\tRL_CNN: gamma_trade=9, gamma_risk=1, gamma_hold=10000, seed=0...\n"
     ]
    },
    {
     "name": "stdout",
     "output_type": "stream",
     "text": [
      "\t[455/1232]\tRL_CNN: gamma_trade=9, gamma_risk=1, gamma_hold=100000, seed=0...\n"
     ]
    },
    {
     "name": "stdout",
     "output_type": "stream",
     "text": [
      "\t[456/1232]\tRL_CNN: gamma_trade=9, gamma_risk=2, gamma_hold=0.1, seed=0...\n"
     ]
    },
    {
     "name": "stdout",
     "output_type": "stream",
     "text": [
      "\t[457/1232]\tRL_CNN: gamma_trade=9, gamma_risk=2, gamma_hold=1, seed=0...\n"
     ]
    },
    {
     "name": "stdout",
     "output_type": "stream",
     "text": [
      "\t[458/1232]\tRL_CNN: gamma_trade=9, gamma_risk=2, gamma_hold=10, seed=0...\n"
     ]
    },
    {
     "name": "stdout",
     "output_type": "stream",
     "text": [
      "\t[459/1232]\tRL_CNN: gamma_trade=9, gamma_risk=2, gamma_hold=100, seed=0...\n"
     ]
    },
    {
     "name": "stdout",
     "output_type": "stream",
     "text": [
      "\t[460/1232]\tRL_CNN: gamma_trade=9, gamma_risk=2, gamma_hold=1000, seed=0...\n"
     ]
    },
    {
     "name": "stdout",
     "output_type": "stream",
     "text": [
      "\t[461/1232]\tRL_CNN: gamma_trade=9, gamma_risk=2, gamma_hold=10000, seed=0...\n"
     ]
    },
    {
     "name": "stdout",
     "output_type": "stream",
     "text": [
      "\t[462/1232]\tRL_CNN: gamma_trade=9, gamma_risk=2, gamma_hold=100000, seed=0...\n"
     ]
    },
    {
     "name": "stdout",
     "output_type": "stream",
     "text": [
      "\t[463/1232]\tRL_CNN: gamma_trade=9, gamma_risk=3, gamma_hold=0.1, seed=0...\n"
     ]
    },
    {
     "name": "stdout",
     "output_type": "stream",
     "text": [
      "\t[464/1232]\tRL_CNN: gamma_trade=9, gamma_risk=3, gamma_hold=1, seed=0...\n"
     ]
    },
    {
     "name": "stdout",
     "output_type": "stream",
     "text": [
      "\t[465/1232]\tRL_CNN: gamma_trade=9, gamma_risk=3, gamma_hold=10, seed=0...\n"
     ]
    },
    {
     "name": "stdout",
     "output_type": "stream",
     "text": [
      "\t[466/1232]\tRL_CNN: gamma_trade=9, gamma_risk=3, gamma_hold=100, seed=0...\n"
     ]
    },
    {
     "name": "stdout",
     "output_type": "stream",
     "text": [
      "\t[467/1232]\tRL_CNN: gamma_trade=9, gamma_risk=3, gamma_hold=1000, seed=0...\n"
     ]
    },
    {
     "name": "stdout",
     "output_type": "stream",
     "text": [
      "\t[468/1232]\tRL_CNN: gamma_trade=9, gamma_risk=3, gamma_hold=10000, seed=0...\n"
     ]
    },
    {
     "name": "stdout",
     "output_type": "stream",
     "text": [
      "\t[469/1232]\tRL_CNN: gamma_trade=9, gamma_risk=3, gamma_hold=100000, seed=0...\n"
     ]
    },
    {
     "name": "stdout",
     "output_type": "stream",
     "text": [
      "\t[470/1232]\tRL_CNN: gamma_trade=9, gamma_risk=6, gamma_hold=0.1, seed=0...\n"
     ]
    },
    {
     "name": "stdout",
     "output_type": "stream",
     "text": [
      "\t[471/1232]\tRL_CNN: gamma_trade=9, gamma_risk=6, gamma_hold=1, seed=0...\n"
     ]
    },
    {
     "name": "stdout",
     "output_type": "stream",
     "text": [
      "\t[472/1232]\tRL_CNN: gamma_trade=9, gamma_risk=6, gamma_hold=10, seed=0...\n"
     ]
    },
    {
     "name": "stdout",
     "output_type": "stream",
     "text": [
      "\t[473/1232]\tRL_CNN: gamma_trade=9, gamma_risk=6, gamma_hold=100, seed=0...\n"
     ]
    },
    {
     "name": "stdout",
     "output_type": "stream",
     "text": [
      "\t[474/1232]\tRL_CNN: gamma_trade=9, gamma_risk=6, gamma_hold=1000, seed=0...\n"
     ]
    },
    {
     "name": "stdout",
     "output_type": "stream",
     "text": [
      "\t[475/1232]\tRL_CNN: gamma_trade=9, gamma_risk=6, gamma_hold=10000, seed=0...\n"
     ]
    },
    {
     "name": "stdout",
     "output_type": "stream",
     "text": [
      "\t[476/1232]\tRL_CNN: gamma_trade=9, gamma_risk=6, gamma_hold=100000, seed=0...\n"
     ]
    },
    {
     "name": "stdout",
     "output_type": "stream",
     "text": [
      "\t[477/1232]\tRL_CNN: gamma_trade=9, gamma_risk=10, gamma_hold=0.1, seed=0...\n"
     ]
    },
    {
     "name": "stdout",
     "output_type": "stream",
     "text": [
      "\t[478/1232]\tRL_CNN: gamma_trade=9, gamma_risk=10, gamma_hold=1, seed=0...\n"
     ]
    },
    {
     "name": "stdout",
     "output_type": "stream",
     "text": [
      "\t[479/1232]\tRL_CNN: gamma_trade=9, gamma_risk=10, gamma_hold=10, seed=0...\n"
     ]
    },
    {
     "name": "stdout",
     "output_type": "stream",
     "text": [
      "\t[480/1232]\tRL_CNN: gamma_trade=9, gamma_risk=10, gamma_hold=100, seed=0...\n"
     ]
    },
    {
     "name": "stdout",
     "output_type": "stream",
     "text": [
      "\t[481/1232]\tRL_CNN: gamma_trade=9, gamma_risk=10, gamma_hold=1000, seed=0...\n"
     ]
    },
    {
     "name": "stdout",
     "output_type": "stream",
     "text": [
      "\t[482/1232]\tRL_CNN: gamma_trade=9, gamma_risk=10, gamma_hold=10000, seed=0...\n"
     ]
    },
    {
     "name": "stdout",
     "output_type": "stream",
     "text": [
      "\t[483/1232]\tRL_CNN: gamma_trade=9, gamma_risk=10, gamma_hold=100000, seed=0...\n"
     ]
    },
    {
     "name": "stdout",
     "output_type": "stream",
     "text": [
      "\t[484/1232]\tRL_CNN: gamma_trade=9, gamma_risk=18, gamma_hold=0.1, seed=0...\n"
     ]
    },
    {
     "name": "stdout",
     "output_type": "stream",
     "text": [
      "\t[485/1232]\tRL_CNN: gamma_trade=9, gamma_risk=18, gamma_hold=1, seed=0...\n"
     ]
    },
    {
     "name": "stdout",
     "output_type": "stream",
     "text": [
      "\t[486/1232]\tRL_CNN: gamma_trade=9, gamma_risk=18, gamma_hold=10, seed=0...\n"
     ]
    },
    {
     "name": "stdout",
     "output_type": "stream",
     "text": [
      "\t[487/1232]\tRL_CNN: gamma_trade=9, gamma_risk=18, gamma_hold=100, seed=0...\n"
     ]
    },
    {
     "name": "stdout",
     "output_type": "stream",
     "text": [
      "\t[488/1232]\tRL_CNN: gamma_trade=9, gamma_risk=18, gamma_hold=1000, seed=0...\n"
     ]
    },
    {
     "name": "stdout",
     "output_type": "stream",
     "text": [
      "\t[489/1232]\tRL_CNN: gamma_trade=9, gamma_risk=18, gamma_hold=10000, seed=0...\n"
     ]
    },
    {
     "name": "stdout",
     "output_type": "stream",
     "text": [
      "\t[490/1232]\tRL_CNN: gamma_trade=9, gamma_risk=18, gamma_hold=100000, seed=0...\n"
     ]
    },
    {
     "name": "stdout",
     "output_type": "stream",
     "text": [
      "\t[491/1232]\tRL_CNN: gamma_trade=9, gamma_risk=32, gamma_hold=0.1, seed=0...\n"
     ]
    },
    {
     "name": "stdout",
     "output_type": "stream",
     "text": [
      "\t[492/1232]\tRL_CNN: gamma_trade=9, gamma_risk=32, gamma_hold=1, seed=0...\n"
     ]
    },
    {
     "name": "stdout",
     "output_type": "stream",
     "text": [
      "\t[493/1232]\tRL_CNN: gamma_trade=9, gamma_risk=32, gamma_hold=10, seed=0...\n"
     ]
    },
    {
     "name": "stdout",
     "output_type": "stream",
     "text": [
      "\t[494/1232]\tRL_CNN: gamma_trade=9, gamma_risk=32, gamma_hold=100, seed=0...\n"
     ]
    },
    {
     "name": "stdout",
     "output_type": "stream",
     "text": [
      "\t[495/1232]\tRL_CNN: gamma_trade=9, gamma_risk=32, gamma_hold=1000, seed=0...\n"
     ]
    },
    {
     "name": "stdout",
     "output_type": "stream",
     "text": [
      "\t[496/1232]\tRL_CNN: gamma_trade=9, gamma_risk=32, gamma_hold=10000, seed=0...\n"
     ]
    },
    {
     "name": "stdout",
     "output_type": "stream",
     "text": [
      "\t[497/1232]\tRL_CNN: gamma_trade=9, gamma_risk=32, gamma_hold=100000, seed=0...\n"
     ]
    },
    {
     "name": "stdout",
     "output_type": "stream",
     "text": [
      "\t[498/1232]\tRL_CNN: gamma_trade=9, gamma_risk=56, gamma_hold=0.1, seed=0...\n"
     ]
    },
    {
     "name": "stdout",
     "output_type": "stream",
     "text": [
      "\t[499/1232]\tRL_CNN: gamma_trade=9, gamma_risk=56, gamma_hold=1, seed=0...\n"
     ]
    },
    {
     "name": "stdout",
     "output_type": "stream",
     "text": [
      "\t[500/1232]\tRL_CNN: gamma_trade=9, gamma_risk=56, gamma_hold=10, seed=0...\n"
     ]
    },
    {
     "name": "stdout",
     "output_type": "stream",
     "text": [
      "\t[501/1232]\tRL_CNN: gamma_trade=9, gamma_risk=56, gamma_hold=100, seed=0...\n"
     ]
    },
    {
     "name": "stdout",
     "output_type": "stream",
     "text": [
      "\t[502/1232]\tRL_CNN: gamma_trade=9, gamma_risk=56, gamma_hold=1000, seed=0...\n"
     ]
    },
    {
     "name": "stdout",
     "output_type": "stream",
     "text": [
      "\t[503/1232]\tRL_CNN: gamma_trade=9, gamma_risk=56, gamma_hold=10000, seed=0...\n"
     ]
    },
    {
     "name": "stdout",
     "output_type": "stream",
     "text": [
      "\t[504/1232]\tRL_CNN: gamma_trade=9, gamma_risk=56, gamma_hold=100000, seed=0...\n"
     ]
    },
    {
     "name": "stdout",
     "output_type": "stream",
     "text": [
      "\t[505/1232]\tRL_CNN: gamma_trade=9, gamma_risk=100, gamma_hold=0.1, seed=0...\n"
     ]
    },
    {
     "name": "stdout",
     "output_type": "stream",
     "text": [
      "\t[506/1232]\tRL_CNN: gamma_trade=9, gamma_risk=100, gamma_hold=1, seed=0...\n"
     ]
    },
    {
     "name": "stdout",
     "output_type": "stream",
     "text": [
      "\t[507/1232]\tRL_CNN: gamma_trade=9, gamma_risk=100, gamma_hold=10, seed=0...\n"
     ]
    },
    {
     "name": "stdout",
     "output_type": "stream",
     "text": [
      "\t[508/1232]\tRL_CNN: gamma_trade=9, gamma_risk=100, gamma_hold=100, seed=0...\n"
     ]
    },
    {
     "name": "stdout",
     "output_type": "stream",
     "text": [
      "\t[509/1232]\tRL_CNN: gamma_trade=9, gamma_risk=100, gamma_hold=1000, seed=0...\n"
     ]
    },
    {
     "name": "stdout",
     "output_type": "stream",
     "text": [
      "\t[510/1232]\tRL_CNN: gamma_trade=9, gamma_risk=100, gamma_hold=10000, seed=0...\n"
     ]
    },
    {
     "name": "stdout",
     "output_type": "stream",
     "text": [
      "\t[511/1232]\tRL_CNN: gamma_trade=9, gamma_risk=100, gamma_hold=100000, seed=0...\n"
     ]
    },
    {
     "name": "stdout",
     "output_type": "stream",
     "text": [
      "\t[512/1232]\tRL_CNN: gamma_trade=9, gamma_risk=178, gamma_hold=0.1, seed=0...\n"
     ]
    },
    {
     "name": "stdout",
     "output_type": "stream",
     "text": [
      "\t[513/1232]\tRL_CNN: gamma_trade=9, gamma_risk=178, gamma_hold=1, seed=0...\n"
     ]
    },
    {
     "name": "stdout",
     "output_type": "stream",
     "text": [
      "\t[514/1232]\tRL_CNN: gamma_trade=9, gamma_risk=178, gamma_hold=10, seed=0...\n"
     ]
    },
    {
     "name": "stdout",
     "output_type": "stream",
     "text": [
      "\t[515/1232]\tRL_CNN: gamma_trade=9, gamma_risk=178, gamma_hold=100, seed=0...\n"
     ]
    },
    {
     "name": "stdout",
     "output_type": "stream",
     "text": [
      "\t[516/1232]\tRL_CNN: gamma_trade=9, gamma_risk=178, gamma_hold=1000, seed=0...\n"
     ]
    },
    {
     "name": "stdout",
     "output_type": "stream",
     "text": [
      "\t[517/1232]\tRL_CNN: gamma_trade=9, gamma_risk=178, gamma_hold=10000, seed=0...\n"
     ]
    },
    {
     "name": "stdout",
     "output_type": "stream",
     "text": [
      "\t[518/1232]\tRL_CNN: gamma_trade=9, gamma_risk=178, gamma_hold=100000, seed=0...\n"
     ]
    },
    {
     "name": "stdout",
     "output_type": "stream",
     "text": [
      "\t[519/1232]\tRL_CNN: gamma_trade=9, gamma_risk=316, gamma_hold=0.1, seed=0...\n"
     ]
    },
    {
     "name": "stdout",
     "output_type": "stream",
     "text": [
      "\t[520/1232]\tRL_CNN: gamma_trade=9, gamma_risk=316, gamma_hold=1, seed=0...\n"
     ]
    },
    {
     "name": "stdout",
     "output_type": "stream",
     "text": [
      "\t[521/1232]\tRL_CNN: gamma_trade=9, gamma_risk=316, gamma_hold=10, seed=0...\n"
     ]
    },
    {
     "name": "stdout",
     "output_type": "stream",
     "text": [
      "\t[522/1232]\tRL_CNN: gamma_trade=9, gamma_risk=316, gamma_hold=100, seed=0...\n"
     ]
    },
    {
     "name": "stdout",
     "output_type": "stream",
     "text": [
      "\t[523/1232]\tRL_CNN: gamma_trade=9, gamma_risk=316, gamma_hold=1000, seed=0...\n"
     ]
    },
    {
     "name": "stdout",
     "output_type": "stream",
     "text": [
      "\t[524/1232]\tRL_CNN: gamma_trade=9, gamma_risk=316, gamma_hold=10000, seed=0...\n"
     ]
    },
    {
     "name": "stdout",
     "output_type": "stream",
     "text": [
      "\t[525/1232]\tRL_CNN: gamma_trade=9, gamma_risk=316, gamma_hold=100000, seed=0...\n"
     ]
    },
    {
     "name": "stdout",
     "output_type": "stream",
     "text": [
      "\t[526/1232]\tRL_CNN: gamma_trade=9, gamma_risk=562, gamma_hold=0.1, seed=0...\n"
     ]
    },
    {
     "name": "stdout",
     "output_type": "stream",
     "text": [
      "\t[527/1232]\tRL_CNN: gamma_trade=9, gamma_risk=562, gamma_hold=1, seed=0...\n"
     ]
    },
    {
     "name": "stdout",
     "output_type": "stream",
     "text": [
      "\t[528/1232]\tRL_CNN: gamma_trade=9, gamma_risk=562, gamma_hold=10, seed=0...\n"
     ]
    },
    {
     "name": "stdout",
     "output_type": "stream",
     "text": [
      "\t[529/1232]\tRL_CNN: gamma_trade=9, gamma_risk=562, gamma_hold=100, seed=0...\n"
     ]
    },
    {
     "name": "stdout",
     "output_type": "stream",
     "text": [
      "\t[530/1232]\tRL_CNN: gamma_trade=9, gamma_risk=562, gamma_hold=1000, seed=0...\n"
     ]
    },
    {
     "name": "stdout",
     "output_type": "stream",
     "text": [
      "\t[531/1232]\tRL_CNN: gamma_trade=9, gamma_risk=562, gamma_hold=10000, seed=0...\n"
     ]
    },
    {
     "name": "stdout",
     "output_type": "stream",
     "text": [
      "\t[532/1232]\tRL_CNN: gamma_trade=9, gamma_risk=562, gamma_hold=100000, seed=0...\n"
     ]
    },
    {
     "name": "stdout",
     "output_type": "stream",
     "text": [
      "\t[533/1232]\tRL_CNN: gamma_trade=9, gamma_risk=1000, gamma_hold=0.1, seed=0...\n"
     ]
    },
    {
     "name": "stdout",
     "output_type": "stream",
     "text": [
      "\t[534/1232]\tRL_CNN: gamma_trade=9, gamma_risk=1000, gamma_hold=1, seed=0...\n"
     ]
    },
    {
     "name": "stdout",
     "output_type": "stream",
     "text": [
      "\t[535/1232]\tRL_CNN: gamma_trade=9, gamma_risk=1000, gamma_hold=10, seed=0...\n"
     ]
    },
    {
     "name": "stdout",
     "output_type": "stream",
     "text": [
      "\t[536/1232]\tRL_CNN: gamma_trade=9, gamma_risk=1000, gamma_hold=100, seed=0...\n"
     ]
    },
    {
     "name": "stdout",
     "output_type": "stream",
     "text": [
      "\t[537/1232]\tRL_CNN: gamma_trade=9, gamma_risk=1000, gamma_hold=1000, seed=0...\n"
     ]
    },
    {
     "name": "stdout",
     "output_type": "stream",
     "text": [
      "\t[538/1232]\tRL_CNN: gamma_trade=9, gamma_risk=1000, gamma_hold=10000, seed=0...\n"
     ]
    },
    {
     "name": "stdout",
     "output_type": "stream",
     "text": [
      "\t[539/1232]\tRL_CNN: gamma_trade=9, gamma_risk=1000, gamma_hold=100000, seed=0...\n"
     ]
    },
    {
     "name": "stdout",
     "output_type": "stream",
     "text": [
      "\t[540/1232]\tRL_CNN: gamma_trade=9, gamma_risk=5000, gamma_hold=0.1, seed=0...\n"
     ]
    },
    {
     "name": "stdout",
     "output_type": "stream",
     "text": [
      "\t[541/1232]\tRL_CNN: gamma_trade=9, gamma_risk=5000, gamma_hold=1, seed=0...\n"
     ]
    },
    {
     "name": "stdout",
     "output_type": "stream",
     "text": [
      "\t[542/1232]\tRL_CNN: gamma_trade=9, gamma_risk=5000, gamma_hold=10, seed=0...\n"
     ]
    },
    {
     "name": "stdout",
     "output_type": "stream",
     "text": [
      "\t[543/1232]\tRL_CNN: gamma_trade=9, gamma_risk=5000, gamma_hold=100, seed=0...\n"
     ]
    },
    {
     "name": "stdout",
     "output_type": "stream",
     "text": [
      "\t[544/1232]\tRL_CNN: gamma_trade=9, gamma_risk=5000, gamma_hold=1000, seed=0...\n"
     ]
    },
    {
     "name": "stdout",
     "output_type": "stream",
     "text": [
      "\t[545/1232]\tRL_CNN: gamma_trade=9, gamma_risk=5000, gamma_hold=10000, seed=0...\n"
     ]
    },
    {
     "name": "stdout",
     "output_type": "stream",
     "text": [
      "\t[546/1232]\tRL_CNN: gamma_trade=9, gamma_risk=5000, gamma_hold=100000, seed=0...\n"
     ]
    },
    {
     "name": "stdout",
     "output_type": "stream",
     "text": [
      "\t[547/1232]\tRL_CNN: gamma_trade=9, gamma_risk=10000, gamma_hold=0.1, seed=0...\n"
     ]
    },
    {
     "name": "stdout",
     "output_type": "stream",
     "text": [
      "\t[548/1232]\tRL_CNN: gamma_trade=9, gamma_risk=10000, gamma_hold=1, seed=0...\n"
     ]
    },
    {
     "name": "stdout",
     "output_type": "stream",
     "text": [
      "\t[549/1232]\tRL_CNN: gamma_trade=9, gamma_risk=10000, gamma_hold=10, seed=0...\n"
     ]
    },
    {
     "name": "stdout",
     "output_type": "stream",
     "text": [
      "\t[550/1232]\tRL_CNN: gamma_trade=9, gamma_risk=10000, gamma_hold=100, seed=0...\n"
     ]
    },
    {
     "name": "stdout",
     "output_type": "stream",
     "text": [
      "\t[551/1232]\tRL_CNN: gamma_trade=9, gamma_risk=10000, gamma_hold=1000, seed=0...\n"
     ]
    },
    {
     "name": "stdout",
     "output_type": "stream",
     "text": [
      "\t[552/1232]\tRL_CNN: gamma_trade=9, gamma_risk=10000, gamma_hold=10000, seed=0...\n"
     ]
    },
    {
     "name": "stdout",
     "output_type": "stream",
     "text": [
      "\t[553/1232]\tRL_CNN: gamma_trade=9, gamma_risk=10000, gamma_hold=100000, seed=0...\n"
     ]
    },
    {
     "name": "stdout",
     "output_type": "stream",
     "text": [
      "\t[554/1232]\tRL_CNN: gamma_trade=9, gamma_risk=100000, gamma_hold=0.1, seed=0...\n"
     ]
    },
    {
     "name": "stdout",
     "output_type": "stream",
     "text": [
      "\t[555/1232]\tRL_CNN: gamma_trade=9, gamma_risk=100000, gamma_hold=1, seed=0...\n"
     ]
    },
    {
     "name": "stdout",
     "output_type": "stream",
     "text": [
      "\t[556/1232]\tRL_CNN: gamma_trade=9, gamma_risk=100000, gamma_hold=10, seed=0...\n"
     ]
    },
    {
     "name": "stdout",
     "output_type": "stream",
     "text": [
      "\t[557/1232]\tRL_CNN: gamma_trade=9, gamma_risk=100000, gamma_hold=100, seed=0...\n"
     ]
    },
    {
     "name": "stdout",
     "output_type": "stream",
     "text": [
      "\t[558/1232]\tRL_CNN: gamma_trade=9, gamma_risk=100000, gamma_hold=1000, seed=0...\n"
     ]
    },
    {
     "name": "stdout",
     "output_type": "stream",
     "text": [
      "\t[559/1232]\tRL_CNN: gamma_trade=9, gamma_risk=100000, gamma_hold=10000, seed=0...\n"
     ]
    },
    {
     "name": "stdout",
     "output_type": "stream",
     "text": [
      "\t[560/1232]\tRL_CNN: gamma_trade=9, gamma_risk=100000, gamma_hold=100000, seed=0...\n"
     ]
    },
    {
     "name": "stdout",
     "output_type": "stream",
     "text": [
      "\t[561/1232]\tRL_CNN: gamma_trade=10, gamma_risk=1, gamma_hold=0.1, seed=0...\n"
     ]
    },
    {
     "name": "stdout",
     "output_type": "stream",
     "text": [
      "\t[562/1232]\tRL_CNN: gamma_trade=10, gamma_risk=1, gamma_hold=1, seed=0...\n"
     ]
    },
    {
     "name": "stdout",
     "output_type": "stream",
     "text": [
      "\t[563/1232]\tRL_CNN: gamma_trade=10, gamma_risk=1, gamma_hold=10, seed=0...\n"
     ]
    },
    {
     "name": "stdout",
     "output_type": "stream",
     "text": [
      "\t[564/1232]\tRL_CNN: gamma_trade=10, gamma_risk=1, gamma_hold=100, seed=0...\n"
     ]
    },
    {
     "name": "stdout",
     "output_type": "stream",
     "text": [
      "\t[565/1232]\tRL_CNN: gamma_trade=10, gamma_risk=1, gamma_hold=1000, seed=0...\n"
     ]
    },
    {
     "name": "stdout",
     "output_type": "stream",
     "text": [
      "\t[566/1232]\tRL_CNN: gamma_trade=10, gamma_risk=1, gamma_hold=10000, seed=0...\n"
     ]
    },
    {
     "name": "stdout",
     "output_type": "stream",
     "text": [
      "\t[567/1232]\tRL_CNN: gamma_trade=10, gamma_risk=1, gamma_hold=100000, seed=0...\n"
     ]
    },
    {
     "name": "stdout",
     "output_type": "stream",
     "text": [
      "\t[568/1232]\tRL_CNN: gamma_trade=10, gamma_risk=2, gamma_hold=0.1, seed=0...\n"
     ]
    },
    {
     "name": "stdout",
     "output_type": "stream",
     "text": [
      "\t[569/1232]\tRL_CNN: gamma_trade=10, gamma_risk=2, gamma_hold=1, seed=0...\n"
     ]
    },
    {
     "name": "stdout",
     "output_type": "stream",
     "text": [
      "\t[570/1232]\tRL_CNN: gamma_trade=10, gamma_risk=2, gamma_hold=10, seed=0...\n"
     ]
    },
    {
     "name": "stdout",
     "output_type": "stream",
     "text": [
      "\t[571/1232]\tRL_CNN: gamma_trade=10, gamma_risk=2, gamma_hold=100, seed=0...\n"
     ]
    },
    {
     "name": "stdout",
     "output_type": "stream",
     "text": [
      "\t[572/1232]\tRL_CNN: gamma_trade=10, gamma_risk=2, gamma_hold=1000, seed=0...\n"
     ]
    },
    {
     "name": "stdout",
     "output_type": "stream",
     "text": [
      "\t[573/1232]\tRL_CNN: gamma_trade=10, gamma_risk=2, gamma_hold=10000, seed=0...\n"
     ]
    },
    {
     "name": "stdout",
     "output_type": "stream",
     "text": [
      "\t[574/1232]\tRL_CNN: gamma_trade=10, gamma_risk=2, gamma_hold=100000, seed=0...\n"
     ]
    },
    {
     "name": "stdout",
     "output_type": "stream",
     "text": [
      "\t[575/1232]\tRL_CNN: gamma_trade=10, gamma_risk=3, gamma_hold=0.1, seed=0...\n"
     ]
    },
    {
     "name": "stdout",
     "output_type": "stream",
     "text": [
      "\t[576/1232]\tRL_CNN: gamma_trade=10, gamma_risk=3, gamma_hold=1, seed=0...\n"
     ]
    },
    {
     "name": "stdout",
     "output_type": "stream",
     "text": [
      "\t[577/1232]\tRL_CNN: gamma_trade=10, gamma_risk=3, gamma_hold=10, seed=0...\n"
     ]
    },
    {
     "name": "stdout",
     "output_type": "stream",
     "text": [
      "\t[578/1232]\tRL_CNN: gamma_trade=10, gamma_risk=3, gamma_hold=100, seed=0...\n"
     ]
    },
    {
     "name": "stdout",
     "output_type": "stream",
     "text": [
      "\t[579/1232]\tRL_CNN: gamma_trade=10, gamma_risk=3, gamma_hold=1000, seed=0...\n"
     ]
    },
    {
     "name": "stdout",
     "output_type": "stream",
     "text": [
      "\t[580/1232]\tRL_CNN: gamma_trade=10, gamma_risk=3, gamma_hold=10000, seed=0...\n"
     ]
    },
    {
     "name": "stdout",
     "output_type": "stream",
     "text": [
      "\t[581/1232]\tRL_CNN: gamma_trade=10, gamma_risk=3, gamma_hold=100000, seed=0...\n"
     ]
    },
    {
     "name": "stdout",
     "output_type": "stream",
     "text": [
      "\t[582/1232]\tRL_CNN: gamma_trade=10, gamma_risk=6, gamma_hold=0.1, seed=0...\n"
     ]
    },
    {
     "name": "stdout",
     "output_type": "stream",
     "text": [
      "\t[583/1232]\tRL_CNN: gamma_trade=10, gamma_risk=6, gamma_hold=1, seed=0...\n"
     ]
    },
    {
     "name": "stdout",
     "output_type": "stream",
     "text": [
      "\t[584/1232]\tRL_CNN: gamma_trade=10, gamma_risk=6, gamma_hold=10, seed=0...\n"
     ]
    },
    {
     "name": "stdout",
     "output_type": "stream",
     "text": [
      "\t[585/1232]\tRL_CNN: gamma_trade=10, gamma_risk=6, gamma_hold=100, seed=0...\n"
     ]
    },
    {
     "name": "stdout",
     "output_type": "stream",
     "text": [
      "\t[586/1232]\tRL_CNN: gamma_trade=10, gamma_risk=6, gamma_hold=1000, seed=0...\n"
     ]
    },
    {
     "name": "stdout",
     "output_type": "stream",
     "text": [
      "\t[587/1232]\tRL_CNN: gamma_trade=10, gamma_risk=6, gamma_hold=10000, seed=0...\n"
     ]
    },
    {
     "name": "stdout",
     "output_type": "stream",
     "text": [
      "\t[588/1232]\tRL_CNN: gamma_trade=10, gamma_risk=6, gamma_hold=100000, seed=0...\n"
     ]
    },
    {
     "name": "stdout",
     "output_type": "stream",
     "text": [
      "\t[589/1232]\tRL_CNN: gamma_trade=10, gamma_risk=10, gamma_hold=0.1, seed=0...\n"
     ]
    },
    {
     "name": "stdout",
     "output_type": "stream",
     "text": [
      "\t[590/1232]\tRL_CNN: gamma_trade=10, gamma_risk=10, gamma_hold=1, seed=0...\n"
     ]
    },
    {
     "name": "stdout",
     "output_type": "stream",
     "text": [
      "\t[591/1232]\tRL_CNN: gamma_trade=10, gamma_risk=10, gamma_hold=10, seed=0...\n"
     ]
    },
    {
     "name": "stdout",
     "output_type": "stream",
     "text": [
      "\t[592/1232]\tRL_CNN: gamma_trade=10, gamma_risk=10, gamma_hold=100, seed=0...\n"
     ]
    },
    {
     "name": "stdout",
     "output_type": "stream",
     "text": [
      "\t[593/1232]\tRL_CNN: gamma_trade=10, gamma_risk=10, gamma_hold=1000, seed=0...\n"
     ]
    },
    {
     "name": "stdout",
     "output_type": "stream",
     "text": [
      "\t[594/1232]\tRL_CNN: gamma_trade=10, gamma_risk=10, gamma_hold=10000, seed=0...\n"
     ]
    },
    {
     "name": "stdout",
     "output_type": "stream",
     "text": [
      "\t[595/1232]\tRL_CNN: gamma_trade=10, gamma_risk=10, gamma_hold=100000, seed=0...\n"
     ]
    },
    {
     "name": "stdout",
     "output_type": "stream",
     "text": [
      "\t[596/1232]\tRL_CNN: gamma_trade=10, gamma_risk=18, gamma_hold=0.1, seed=0...\n"
     ]
    },
    {
     "name": "stdout",
     "output_type": "stream",
     "text": [
      "\t[597/1232]\tRL_CNN: gamma_trade=10, gamma_risk=18, gamma_hold=1, seed=0...\n"
     ]
    },
    {
     "name": "stdout",
     "output_type": "stream",
     "text": [
      "\t[598/1232]\tRL_CNN: gamma_trade=10, gamma_risk=18, gamma_hold=10, seed=0...\n"
     ]
    },
    {
     "name": "stdout",
     "output_type": "stream",
     "text": [
      "\t[599/1232]\tRL_CNN: gamma_trade=10, gamma_risk=18, gamma_hold=100, seed=0...\n"
     ]
    },
    {
     "name": "stdout",
     "output_type": "stream",
     "text": [
      "\t[600/1232]\tRL_CNN: gamma_trade=10, gamma_risk=18, gamma_hold=1000, seed=0...\n"
     ]
    },
    {
     "name": "stdout",
     "output_type": "stream",
     "text": [
      "\t[601/1232]\tRL_CNN: gamma_trade=10, gamma_risk=18, gamma_hold=10000, seed=0...\n"
     ]
    },
    {
     "name": "stdout",
     "output_type": "stream",
     "text": [
      "\t[602/1232]\tRL_CNN: gamma_trade=10, gamma_risk=18, gamma_hold=100000, seed=0...\n"
     ]
    },
    {
     "name": "stdout",
     "output_type": "stream",
     "text": [
      "\t[603/1232]\tRL_CNN: gamma_trade=10, gamma_risk=32, gamma_hold=0.1, seed=0...\n"
     ]
    },
    {
     "name": "stdout",
     "output_type": "stream",
     "text": [
      "\t[604/1232]\tRL_CNN: gamma_trade=10, gamma_risk=32, gamma_hold=1, seed=0...\n"
     ]
    },
    {
     "name": "stdout",
     "output_type": "stream",
     "text": [
      "\t[605/1232]\tRL_CNN: gamma_trade=10, gamma_risk=32, gamma_hold=10, seed=0...\n"
     ]
    },
    {
     "name": "stdout",
     "output_type": "stream",
     "text": [
      "\t[606/1232]\tRL_CNN: gamma_trade=10, gamma_risk=32, gamma_hold=100, seed=0...\n"
     ]
    },
    {
     "name": "stdout",
     "output_type": "stream",
     "text": [
      "\t[607/1232]\tRL_CNN: gamma_trade=10, gamma_risk=32, gamma_hold=1000, seed=0...\n"
     ]
    },
    {
     "name": "stdout",
     "output_type": "stream",
     "text": [
      "\t[608/1232]\tRL_CNN: gamma_trade=10, gamma_risk=32, gamma_hold=10000, seed=0...\n"
     ]
    },
    {
     "name": "stdout",
     "output_type": "stream",
     "text": [
      "\t[609/1232]\tRL_CNN: gamma_trade=10, gamma_risk=32, gamma_hold=100000, seed=0...\n"
     ]
    },
    {
     "name": "stdout",
     "output_type": "stream",
     "text": [
      "\t[610/1232]\tRL_CNN: gamma_trade=10, gamma_risk=56, gamma_hold=0.1, seed=0...\n"
     ]
    },
    {
     "name": "stdout",
     "output_type": "stream",
     "text": [
      "\t[611/1232]\tRL_CNN: gamma_trade=10, gamma_risk=56, gamma_hold=1, seed=0...\n"
     ]
    },
    {
     "name": "stdout",
     "output_type": "stream",
     "text": [
      "\t[612/1232]\tRL_CNN: gamma_trade=10, gamma_risk=56, gamma_hold=10, seed=0...\n"
     ]
    },
    {
     "name": "stdout",
     "output_type": "stream",
     "text": [
      "\t[613/1232]\tRL_CNN: gamma_trade=10, gamma_risk=56, gamma_hold=100, seed=0...\n"
     ]
    },
    {
     "name": "stdout",
     "output_type": "stream",
     "text": [
      "\t[614/1232]\tRL_CNN: gamma_trade=10, gamma_risk=56, gamma_hold=1000, seed=0...\n"
     ]
    },
    {
     "name": "stdout",
     "output_type": "stream",
     "text": [
      "\t[615/1232]\tRL_CNN: gamma_trade=10, gamma_risk=56, gamma_hold=10000, seed=0...\n"
     ]
    },
    {
     "name": "stdout",
     "output_type": "stream",
     "text": [
      "\t[616/1232]\tRL_CNN: gamma_trade=10, gamma_risk=56, gamma_hold=100000, seed=0...\n"
     ]
    },
    {
     "name": "stdout",
     "output_type": "stream",
     "text": [
      "\t[617/1232]\tRL_CNN: gamma_trade=10, gamma_risk=100, gamma_hold=0.1, seed=0...\n"
     ]
    },
    {
     "name": "stdout",
     "output_type": "stream",
     "text": [
      "\t[618/1232]\tRL_CNN: gamma_trade=10, gamma_risk=100, gamma_hold=1, seed=0...\n"
     ]
    },
    {
     "name": "stdout",
     "output_type": "stream",
     "text": [
      "\t[619/1232]\tRL_CNN: gamma_trade=10, gamma_risk=100, gamma_hold=10, seed=0...\n"
     ]
    },
    {
     "name": "stdout",
     "output_type": "stream",
     "text": [
      "\t[620/1232]\tRL_CNN: gamma_trade=10, gamma_risk=100, gamma_hold=100, seed=0...\n"
     ]
    },
    {
     "name": "stdout",
     "output_type": "stream",
     "text": [
      "\t[621/1232]\tRL_CNN: gamma_trade=10, gamma_risk=100, gamma_hold=1000, seed=0...\n"
     ]
    },
    {
     "name": "stdout",
     "output_type": "stream",
     "text": [
      "\t[622/1232]\tRL_CNN: gamma_trade=10, gamma_risk=100, gamma_hold=10000, seed=0...\n"
     ]
    },
    {
     "name": "stdout",
     "output_type": "stream",
     "text": [
      "\t[623/1232]\tRL_CNN: gamma_trade=10, gamma_risk=100, gamma_hold=100000, seed=0...\n"
     ]
    },
    {
     "name": "stdout",
     "output_type": "stream",
     "text": [
      "\t[624/1232]\tRL_CNN: gamma_trade=10, gamma_risk=178, gamma_hold=0.1, seed=0...\n"
     ]
    },
    {
     "name": "stdout",
     "output_type": "stream",
     "text": [
      "\t[625/1232]\tRL_CNN: gamma_trade=10, gamma_risk=178, gamma_hold=1, seed=0...\n"
     ]
    },
    {
     "name": "stdout",
     "output_type": "stream",
     "text": [
      "\t[626/1232]\tRL_CNN: gamma_trade=10, gamma_risk=178, gamma_hold=10, seed=0...\n"
     ]
    },
    {
     "name": "stdout",
     "output_type": "stream",
     "text": [
      "\t[627/1232]\tRL_CNN: gamma_trade=10, gamma_risk=178, gamma_hold=100, seed=0...\n"
     ]
    },
    {
     "name": "stdout",
     "output_type": "stream",
     "text": [
      "\t[628/1232]\tRL_CNN: gamma_trade=10, gamma_risk=178, gamma_hold=1000, seed=0...\n"
     ]
    },
    {
     "name": "stdout",
     "output_type": "stream",
     "text": [
      "\t[629/1232]\tRL_CNN: gamma_trade=10, gamma_risk=178, gamma_hold=10000, seed=0...\n"
     ]
    },
    {
     "name": "stdout",
     "output_type": "stream",
     "text": [
      "\t[630/1232]\tRL_CNN: gamma_trade=10, gamma_risk=178, gamma_hold=100000, seed=0...\n"
     ]
    },
    {
     "name": "stdout",
     "output_type": "stream",
     "text": [
      "\t[631/1232]\tRL_CNN: gamma_trade=10, gamma_risk=316, gamma_hold=0.1, seed=0...\n"
     ]
    },
    {
     "name": "stdout",
     "output_type": "stream",
     "text": [
      "\t[632/1232]\tRL_CNN: gamma_trade=10, gamma_risk=316, gamma_hold=1, seed=0...\n"
     ]
    },
    {
     "name": "stdout",
     "output_type": "stream",
     "text": [
      "\t[633/1232]\tRL_CNN: gamma_trade=10, gamma_risk=316, gamma_hold=10, seed=0...\n"
     ]
    },
    {
     "name": "stdout",
     "output_type": "stream",
     "text": [
      "\t[634/1232]\tRL_CNN: gamma_trade=10, gamma_risk=316, gamma_hold=100, seed=0...\n"
     ]
    },
    {
     "name": "stdout",
     "output_type": "stream",
     "text": [
      "\t[635/1232]\tRL_CNN: gamma_trade=10, gamma_risk=316, gamma_hold=1000, seed=0...\n"
     ]
    },
    {
     "name": "stdout",
     "output_type": "stream",
     "text": [
      "\t[636/1232]\tRL_CNN: gamma_trade=10, gamma_risk=316, gamma_hold=10000, seed=0...\n"
     ]
    },
    {
     "name": "stdout",
     "output_type": "stream",
     "text": [
      "\t[637/1232]\tRL_CNN: gamma_trade=10, gamma_risk=316, gamma_hold=100000, seed=0...\n"
     ]
    },
    {
     "name": "stdout",
     "output_type": "stream",
     "text": [
      "\t[638/1232]\tRL_CNN: gamma_trade=10, gamma_risk=562, gamma_hold=0.1, seed=0...\n"
     ]
    },
    {
     "name": "stdout",
     "output_type": "stream",
     "text": [
      "\t[639/1232]\tRL_CNN: gamma_trade=10, gamma_risk=562, gamma_hold=1, seed=0...\n"
     ]
    },
    {
     "name": "stdout",
     "output_type": "stream",
     "text": [
      "\t[640/1232]\tRL_CNN: gamma_trade=10, gamma_risk=562, gamma_hold=10, seed=0...\n"
     ]
    },
    {
     "name": "stdout",
     "output_type": "stream",
     "text": [
      "\t[641/1232]\tRL_CNN: gamma_trade=10, gamma_risk=562, gamma_hold=100, seed=0...\n"
     ]
    },
    {
     "name": "stdout",
     "output_type": "stream",
     "text": [
      "\t[642/1232]\tRL_CNN: gamma_trade=10, gamma_risk=562, gamma_hold=1000, seed=0...\n"
     ]
    },
    {
     "name": "stdout",
     "output_type": "stream",
     "text": [
      "\t[643/1232]\tRL_CNN: gamma_trade=10, gamma_risk=562, gamma_hold=10000, seed=0...\n"
     ]
    },
    {
     "name": "stdout",
     "output_type": "stream",
     "text": [
      "\t[644/1232]\tRL_CNN: gamma_trade=10, gamma_risk=562, gamma_hold=100000, seed=0...\n"
     ]
    },
    {
     "name": "stdout",
     "output_type": "stream",
     "text": [
      "\t[645/1232]\tRL_CNN: gamma_trade=10, gamma_risk=1000, gamma_hold=0.1, seed=0...\n"
     ]
    },
    {
     "name": "stdout",
     "output_type": "stream",
     "text": [
      "\t[646/1232]\tRL_CNN: gamma_trade=10, gamma_risk=1000, gamma_hold=1, seed=0...\n"
     ]
    },
    {
     "name": "stdout",
     "output_type": "stream",
     "text": [
      "\t[647/1232]\tRL_CNN: gamma_trade=10, gamma_risk=1000, gamma_hold=10, seed=0...\n"
     ]
    },
    {
     "name": "stdout",
     "output_type": "stream",
     "text": [
      "\t[648/1232]\tRL_CNN: gamma_trade=10, gamma_risk=1000, gamma_hold=100, seed=0...\n"
     ]
    },
    {
     "name": "stdout",
     "output_type": "stream",
     "text": [
      "\t[649/1232]\tRL_CNN: gamma_trade=10, gamma_risk=1000, gamma_hold=1000, seed=0...\n"
     ]
    },
    {
     "name": "stdout",
     "output_type": "stream",
     "text": [
      "\t[650/1232]\tRL_CNN: gamma_trade=10, gamma_risk=1000, gamma_hold=10000, seed=0...\n"
     ]
    },
    {
     "name": "stdout",
     "output_type": "stream",
     "text": [
      "\t[651/1232]\tRL_CNN: gamma_trade=10, gamma_risk=1000, gamma_hold=100000, seed=0...\n"
     ]
    },
    {
     "name": "stdout",
     "output_type": "stream",
     "text": [
      "\t[652/1232]\tRL_CNN: gamma_trade=10, gamma_risk=5000, gamma_hold=0.1, seed=0...\n"
     ]
    },
    {
     "name": "stdout",
     "output_type": "stream",
     "text": [
      "\t[653/1232]\tRL_CNN: gamma_trade=10, gamma_risk=5000, gamma_hold=1, seed=0...\n"
     ]
    },
    {
     "name": "stdout",
     "output_type": "stream",
     "text": [
      "\t[654/1232]\tRL_CNN: gamma_trade=10, gamma_risk=5000, gamma_hold=10, seed=0...\n"
     ]
    },
    {
     "name": "stdout",
     "output_type": "stream",
     "text": [
      "\t[655/1232]\tRL_CNN: gamma_trade=10, gamma_risk=5000, gamma_hold=100, seed=0...\n"
     ]
    },
    {
     "name": "stdout",
     "output_type": "stream",
     "text": [
      "\t[656/1232]\tRL_CNN: gamma_trade=10, gamma_risk=5000, gamma_hold=1000, seed=0...\n"
     ]
    },
    {
     "name": "stdout",
     "output_type": "stream",
     "text": [
      "\t[657/1232]\tRL_CNN: gamma_trade=10, gamma_risk=5000, gamma_hold=10000, seed=0...\n"
     ]
    },
    {
     "name": "stdout",
     "output_type": "stream",
     "text": [
      "\t[658/1232]\tRL_CNN: gamma_trade=10, gamma_risk=5000, gamma_hold=100000, seed=0...\n"
     ]
    },
    {
     "name": "stdout",
     "output_type": "stream",
     "text": [
      "\t[659/1232]\tRL_CNN: gamma_trade=10, gamma_risk=10000, gamma_hold=0.1, seed=0...\n"
     ]
    },
    {
     "name": "stdout",
     "output_type": "stream",
     "text": [
      "\t[660/1232]\tRL_CNN: gamma_trade=10, gamma_risk=10000, gamma_hold=1, seed=0...\n"
     ]
    },
    {
     "name": "stdout",
     "output_type": "stream",
     "text": [
      "\t[661/1232]\tRL_CNN: gamma_trade=10, gamma_risk=10000, gamma_hold=10, seed=0...\n"
     ]
    },
    {
     "name": "stdout",
     "output_type": "stream",
     "text": [
      "\t[662/1232]\tRL_CNN: gamma_trade=10, gamma_risk=10000, gamma_hold=100, seed=0...\n"
     ]
    },
    {
     "name": "stdout",
     "output_type": "stream",
     "text": [
      "\t[663/1232]\tRL_CNN: gamma_trade=10, gamma_risk=10000, gamma_hold=1000, seed=0...\n"
     ]
    },
    {
     "name": "stdout",
     "output_type": "stream",
     "text": [
      "\t[664/1232]\tRL_CNN: gamma_trade=10, gamma_risk=10000, gamma_hold=10000, seed=0...\n"
     ]
    },
    {
     "name": "stdout",
     "output_type": "stream",
     "text": [
      "\t[665/1232]\tRL_CNN: gamma_trade=10, gamma_risk=10000, gamma_hold=100000, seed=0...\n"
     ]
    },
    {
     "name": "stdout",
     "output_type": "stream",
     "text": [
      "\t[666/1232]\tRL_CNN: gamma_trade=10, gamma_risk=100000, gamma_hold=0.1, seed=0...\n"
     ]
    },
    {
     "name": "stdout",
     "output_type": "stream",
     "text": [
      "\t[667/1232]\tRL_CNN: gamma_trade=10, gamma_risk=100000, gamma_hold=1, seed=0...\n"
     ]
    },
    {
     "name": "stdout",
     "output_type": "stream",
     "text": [
      "\t[668/1232]\tRL_CNN: gamma_trade=10, gamma_risk=100000, gamma_hold=10, seed=0...\n"
     ]
    },
    {
     "name": "stdout",
     "output_type": "stream",
     "text": [
      "\t[669/1232]\tRL_CNN: gamma_trade=10, gamma_risk=100000, gamma_hold=100, seed=0...\n"
     ]
    },
    {
     "name": "stdout",
     "output_type": "stream",
     "text": [
      "\t[670/1232]\tRL_CNN: gamma_trade=10, gamma_risk=100000, gamma_hold=1000, seed=0...\n"
     ]
    },
    {
     "name": "stdout",
     "output_type": "stream",
     "text": [
      "\t[671/1232]\tRL_CNN: gamma_trade=10, gamma_risk=100000, gamma_hold=10000, seed=0...\n"
     ]
    },
    {
     "name": "stdout",
     "output_type": "stream",
     "text": [
      "\t[672/1232]\tRL_CNN: gamma_trade=10, gamma_risk=100000, gamma_hold=100000, seed=0...\n"
     ]
    },
    {
     "name": "stdout",
     "output_type": "stream",
     "text": [
      "\t[673/1232]\tRL_CNN: gamma_trade=11, gamma_risk=1, gamma_hold=0.1, seed=0...\n"
     ]
    },
    {
     "name": "stdout",
     "output_type": "stream",
     "text": [
      "\t[674/1232]\tRL_CNN: gamma_trade=11, gamma_risk=1, gamma_hold=1, seed=0...\n"
     ]
    },
    {
     "name": "stdout",
     "output_type": "stream",
     "text": [
      "\t[675/1232]\tRL_CNN: gamma_trade=11, gamma_risk=1, gamma_hold=10, seed=0...\n"
     ]
    },
    {
     "name": "stdout",
     "output_type": "stream",
     "text": [
      "\t[676/1232]\tRL_CNN: gamma_trade=11, gamma_risk=1, gamma_hold=100, seed=0...\n"
     ]
    },
    {
     "name": "stdout",
     "output_type": "stream",
     "text": [
      "\t[677/1232]\tRL_CNN: gamma_trade=11, gamma_risk=1, gamma_hold=1000, seed=0...\n"
     ]
    },
    {
     "name": "stdout",
     "output_type": "stream",
     "text": [
      "\t[678/1232]\tRL_CNN: gamma_trade=11, gamma_risk=1, gamma_hold=10000, seed=0...\n"
     ]
    },
    {
     "name": "stdout",
     "output_type": "stream",
     "text": [
      "\t[679/1232]\tRL_CNN: gamma_trade=11, gamma_risk=1, gamma_hold=100000, seed=0...\n"
     ]
    },
    {
     "name": "stdout",
     "output_type": "stream",
     "text": [
      "\t[680/1232]\tRL_CNN: gamma_trade=11, gamma_risk=2, gamma_hold=0.1, seed=0...\n"
     ]
    },
    {
     "name": "stdout",
     "output_type": "stream",
     "text": [
      "\t[681/1232]\tRL_CNN: gamma_trade=11, gamma_risk=2, gamma_hold=1, seed=0...\n"
     ]
    },
    {
     "name": "stdout",
     "output_type": "stream",
     "text": [
      "\t[682/1232]\tRL_CNN: gamma_trade=11, gamma_risk=2, gamma_hold=10, seed=0...\n"
     ]
    },
    {
     "name": "stdout",
     "output_type": "stream",
     "text": [
      "\t[683/1232]\tRL_CNN: gamma_trade=11, gamma_risk=2, gamma_hold=100, seed=0...\n"
     ]
    },
    {
     "name": "stdout",
     "output_type": "stream",
     "text": [
      "\t[684/1232]\tRL_CNN: gamma_trade=11, gamma_risk=2, gamma_hold=1000, seed=0...\n"
     ]
    },
    {
     "name": "stdout",
     "output_type": "stream",
     "text": [
      "\t[685/1232]\tRL_CNN: gamma_trade=11, gamma_risk=2, gamma_hold=10000, seed=0...\n"
     ]
    },
    {
     "name": "stdout",
     "output_type": "stream",
     "text": [
      "\t[686/1232]\tRL_CNN: gamma_trade=11, gamma_risk=2, gamma_hold=100000, seed=0...\n"
     ]
    },
    {
     "name": "stdout",
     "output_type": "stream",
     "text": [
      "\t[687/1232]\tRL_CNN: gamma_trade=11, gamma_risk=3, gamma_hold=0.1, seed=0...\n"
     ]
    },
    {
     "name": "stdout",
     "output_type": "stream",
     "text": [
      "\t[688/1232]\tRL_CNN: gamma_trade=11, gamma_risk=3, gamma_hold=1, seed=0...\n"
     ]
    },
    {
     "name": "stdout",
     "output_type": "stream",
     "text": [
      "\t[689/1232]\tRL_CNN: gamma_trade=11, gamma_risk=3, gamma_hold=10, seed=0...\n"
     ]
    },
    {
     "name": "stdout",
     "output_type": "stream",
     "text": [
      "\t[690/1232]\tRL_CNN: gamma_trade=11, gamma_risk=3, gamma_hold=100, seed=0...\n"
     ]
    },
    {
     "name": "stdout",
     "output_type": "stream",
     "text": [
      "\t[691/1232]\tRL_CNN: gamma_trade=11, gamma_risk=3, gamma_hold=1000, seed=0...\n"
     ]
    },
    {
     "name": "stdout",
     "output_type": "stream",
     "text": [
      "\t[692/1232]\tRL_CNN: gamma_trade=11, gamma_risk=3, gamma_hold=10000, seed=0...\n"
     ]
    },
    {
     "name": "stdout",
     "output_type": "stream",
     "text": [
      "\t[693/1232]\tRL_CNN: gamma_trade=11, gamma_risk=3, gamma_hold=100000, seed=0...\n"
     ]
    },
    {
     "name": "stdout",
     "output_type": "stream",
     "text": [
      "\t[694/1232]\tRL_CNN: gamma_trade=11, gamma_risk=6, gamma_hold=0.1, seed=0...\n"
     ]
    },
    {
     "name": "stdout",
     "output_type": "stream",
     "text": [
      "\t[695/1232]\tRL_CNN: gamma_trade=11, gamma_risk=6, gamma_hold=1, seed=0...\n"
     ]
    },
    {
     "name": "stdout",
     "output_type": "stream",
     "text": [
      "\t[696/1232]\tRL_CNN: gamma_trade=11, gamma_risk=6, gamma_hold=10, seed=0...\n"
     ]
    },
    {
     "name": "stdout",
     "output_type": "stream",
     "text": [
      "\t[697/1232]\tRL_CNN: gamma_trade=11, gamma_risk=6, gamma_hold=100, seed=0...\n"
     ]
    },
    {
     "name": "stdout",
     "output_type": "stream",
     "text": [
      "\t[698/1232]\tRL_CNN: gamma_trade=11, gamma_risk=6, gamma_hold=1000, seed=0...\n"
     ]
    },
    {
     "name": "stdout",
     "output_type": "stream",
     "text": [
      "\t[699/1232]\tRL_CNN: gamma_trade=11, gamma_risk=6, gamma_hold=10000, seed=0...\n"
     ]
    },
    {
     "name": "stdout",
     "output_type": "stream",
     "text": [
      "\t[700/1232]\tRL_CNN: gamma_trade=11, gamma_risk=6, gamma_hold=100000, seed=0...\n"
     ]
    },
    {
     "name": "stdout",
     "output_type": "stream",
     "text": [
      "\t[701/1232]\tRL_CNN: gamma_trade=11, gamma_risk=10, gamma_hold=0.1, seed=0...\n"
     ]
    },
    {
     "name": "stdout",
     "output_type": "stream",
     "text": [
      "\t[702/1232]\tRL_CNN: gamma_trade=11, gamma_risk=10, gamma_hold=1, seed=0...\n"
     ]
    },
    {
     "name": "stdout",
     "output_type": "stream",
     "text": [
      "\t[703/1232]\tRL_CNN: gamma_trade=11, gamma_risk=10, gamma_hold=10, seed=0...\n"
     ]
    },
    {
     "name": "stdout",
     "output_type": "stream",
     "text": [
      "\t[704/1232]\tRL_CNN: gamma_trade=11, gamma_risk=10, gamma_hold=100, seed=0...\n"
     ]
    },
    {
     "name": "stdout",
     "output_type": "stream",
     "text": [
      "\t[705/1232]\tRL_CNN: gamma_trade=11, gamma_risk=10, gamma_hold=1000, seed=0...\n"
     ]
    },
    {
     "name": "stdout",
     "output_type": "stream",
     "text": [
      "\t[706/1232]\tRL_CNN: gamma_trade=11, gamma_risk=10, gamma_hold=10000, seed=0...\n"
     ]
    },
    {
     "name": "stdout",
     "output_type": "stream",
     "text": [
      "\t[707/1232]\tRL_CNN: gamma_trade=11, gamma_risk=10, gamma_hold=100000, seed=0...\n"
     ]
    },
    {
     "name": "stdout",
     "output_type": "stream",
     "text": [
      "\t[708/1232]\tRL_CNN: gamma_trade=11, gamma_risk=18, gamma_hold=0.1, seed=0...\n"
     ]
    },
    {
     "name": "stdout",
     "output_type": "stream",
     "text": [
      "\t[709/1232]\tRL_CNN: gamma_trade=11, gamma_risk=18, gamma_hold=1, seed=0...\n"
     ]
    },
    {
     "name": "stdout",
     "output_type": "stream",
     "text": [
      "\t[710/1232]\tRL_CNN: gamma_trade=11, gamma_risk=18, gamma_hold=10, seed=0...\n"
     ]
    },
    {
     "name": "stdout",
     "output_type": "stream",
     "text": [
      "\t[711/1232]\tRL_CNN: gamma_trade=11, gamma_risk=18, gamma_hold=100, seed=0...\n"
     ]
    },
    {
     "name": "stdout",
     "output_type": "stream",
     "text": [
      "\t[712/1232]\tRL_CNN: gamma_trade=11, gamma_risk=18, gamma_hold=1000, seed=0...\n"
     ]
    },
    {
     "name": "stdout",
     "output_type": "stream",
     "text": [
      "\t[713/1232]\tRL_CNN: gamma_trade=11, gamma_risk=18, gamma_hold=10000, seed=0...\n"
     ]
    },
    {
     "name": "stdout",
     "output_type": "stream",
     "text": [
      "\t[714/1232]\tRL_CNN: gamma_trade=11, gamma_risk=18, gamma_hold=100000, seed=0...\n"
     ]
    },
    {
     "name": "stdout",
     "output_type": "stream",
     "text": [
      "\t[715/1232]\tRL_CNN: gamma_trade=11, gamma_risk=32, gamma_hold=0.1, seed=0...\n"
     ]
    },
    {
     "name": "stdout",
     "output_type": "stream",
     "text": [
      "\t[716/1232]\tRL_CNN: gamma_trade=11, gamma_risk=32, gamma_hold=1, seed=0...\n"
     ]
    },
    {
     "name": "stdout",
     "output_type": "stream",
     "text": [
      "\t[717/1232]\tRL_CNN: gamma_trade=11, gamma_risk=32, gamma_hold=10, seed=0...\n"
     ]
    },
    {
     "name": "stdout",
     "output_type": "stream",
     "text": [
      "\t[718/1232]\tRL_CNN: gamma_trade=11, gamma_risk=32, gamma_hold=100, seed=0...\n"
     ]
    },
    {
     "name": "stdout",
     "output_type": "stream",
     "text": [
      "\t[719/1232]\tRL_CNN: gamma_trade=11, gamma_risk=32, gamma_hold=1000, seed=0...\n"
     ]
    },
    {
     "name": "stdout",
     "output_type": "stream",
     "text": [
      "\t[720/1232]\tRL_CNN: gamma_trade=11, gamma_risk=32, gamma_hold=10000, seed=0...\n"
     ]
    },
    {
     "name": "stdout",
     "output_type": "stream",
     "text": [
      "\t[721/1232]\tRL_CNN: gamma_trade=11, gamma_risk=32, gamma_hold=100000, seed=0...\n"
     ]
    },
    {
     "name": "stdout",
     "output_type": "stream",
     "text": [
      "\t[722/1232]\tRL_CNN: gamma_trade=11, gamma_risk=56, gamma_hold=0.1, seed=0...\n"
     ]
    },
    {
     "name": "stdout",
     "output_type": "stream",
     "text": [
      "\t[723/1232]\tRL_CNN: gamma_trade=11, gamma_risk=56, gamma_hold=1, seed=0...\n"
     ]
    },
    {
     "name": "stdout",
     "output_type": "stream",
     "text": [
      "\t[724/1232]\tRL_CNN: gamma_trade=11, gamma_risk=56, gamma_hold=10, seed=0...\n"
     ]
    },
    {
     "name": "stdout",
     "output_type": "stream",
     "text": [
      "\t[725/1232]\tRL_CNN: gamma_trade=11, gamma_risk=56, gamma_hold=100, seed=0...\n"
     ]
    },
    {
     "name": "stdout",
     "output_type": "stream",
     "text": [
      "\t[726/1232]\tRL_CNN: gamma_trade=11, gamma_risk=56, gamma_hold=1000, seed=0...\n"
     ]
    },
    {
     "name": "stdout",
     "output_type": "stream",
     "text": [
      "\t[727/1232]\tRL_CNN: gamma_trade=11, gamma_risk=56, gamma_hold=10000, seed=0...\n"
     ]
    },
    {
     "name": "stdout",
     "output_type": "stream",
     "text": [
      "\t[728/1232]\tRL_CNN: gamma_trade=11, gamma_risk=56, gamma_hold=100000, seed=0...\n"
     ]
    },
    {
     "name": "stdout",
     "output_type": "stream",
     "text": [
      "\t[729/1232]\tRL_CNN: gamma_trade=11, gamma_risk=100, gamma_hold=0.1, seed=0...\n"
     ]
    },
    {
     "name": "stdout",
     "output_type": "stream",
     "text": [
      "\t[730/1232]\tRL_CNN: gamma_trade=11, gamma_risk=100, gamma_hold=1, seed=0...\n"
     ]
    },
    {
     "name": "stdout",
     "output_type": "stream",
     "text": [
      "\t[731/1232]\tRL_CNN: gamma_trade=11, gamma_risk=100, gamma_hold=10, seed=0...\n"
     ]
    },
    {
     "name": "stdout",
     "output_type": "stream",
     "text": [
      "\t[732/1232]\tRL_CNN: gamma_trade=11, gamma_risk=100, gamma_hold=100, seed=0...\n"
     ]
    },
    {
     "name": "stdout",
     "output_type": "stream",
     "text": [
      "\t[733/1232]\tRL_CNN: gamma_trade=11, gamma_risk=100, gamma_hold=1000, seed=0...\n"
     ]
    },
    {
     "name": "stdout",
     "output_type": "stream",
     "text": [
      "\t[734/1232]\tRL_CNN: gamma_trade=11, gamma_risk=100, gamma_hold=10000, seed=0...\n"
     ]
    },
    {
     "name": "stdout",
     "output_type": "stream",
     "text": [
      "\t[735/1232]\tRL_CNN: gamma_trade=11, gamma_risk=100, gamma_hold=100000, seed=0...\n"
     ]
    },
    {
     "name": "stdout",
     "output_type": "stream",
     "text": [
      "\t[736/1232]\tRL_CNN: gamma_trade=11, gamma_risk=178, gamma_hold=0.1, seed=0...\n"
     ]
    },
    {
     "name": "stdout",
     "output_type": "stream",
     "text": [
      "\t[737/1232]\tRL_CNN: gamma_trade=11, gamma_risk=178, gamma_hold=1, seed=0...\n"
     ]
    },
    {
     "name": "stdout",
     "output_type": "stream",
     "text": [
      "\t[738/1232]\tRL_CNN: gamma_trade=11, gamma_risk=178, gamma_hold=10, seed=0...\n"
     ]
    },
    {
     "name": "stdout",
     "output_type": "stream",
     "text": [
      "\t[739/1232]\tRL_CNN: gamma_trade=11, gamma_risk=178, gamma_hold=100, seed=0...\n"
     ]
    },
    {
     "name": "stdout",
     "output_type": "stream",
     "text": [
      "\t[740/1232]\tRL_CNN: gamma_trade=11, gamma_risk=178, gamma_hold=1000, seed=0...\n"
     ]
    },
    {
     "name": "stdout",
     "output_type": "stream",
     "text": [
      "\t[741/1232]\tRL_CNN: gamma_trade=11, gamma_risk=178, gamma_hold=10000, seed=0...\n"
     ]
    },
    {
     "name": "stdout",
     "output_type": "stream",
     "text": [
      "\t[742/1232]\tRL_CNN: gamma_trade=11, gamma_risk=178, gamma_hold=100000, seed=0...\n"
     ]
    },
    {
     "name": "stdout",
     "output_type": "stream",
     "text": [
      "\t[743/1232]\tRL_CNN: gamma_trade=11, gamma_risk=316, gamma_hold=0.1, seed=0...\n"
     ]
    },
    {
     "name": "stdout",
     "output_type": "stream",
     "text": [
      "\t[744/1232]\tRL_CNN: gamma_trade=11, gamma_risk=316, gamma_hold=1, seed=0...\n"
     ]
    },
    {
     "name": "stdout",
     "output_type": "stream",
     "text": [
      "\t[745/1232]\tRL_CNN: gamma_trade=11, gamma_risk=316, gamma_hold=10, seed=0...\n"
     ]
    },
    {
     "name": "stdout",
     "output_type": "stream",
     "text": [
      "\t[746/1232]\tRL_CNN: gamma_trade=11, gamma_risk=316, gamma_hold=100, seed=0...\n"
     ]
    },
    {
     "name": "stdout",
     "output_type": "stream",
     "text": [
      "\t[747/1232]\tRL_CNN: gamma_trade=11, gamma_risk=316, gamma_hold=1000, seed=0...\n"
     ]
    },
    {
     "name": "stdout",
     "output_type": "stream",
     "text": [
      "\t[748/1232]\tRL_CNN: gamma_trade=11, gamma_risk=316, gamma_hold=10000, seed=0...\n"
     ]
    },
    {
     "name": "stdout",
     "output_type": "stream",
     "text": [
      "\t[749/1232]\tRL_CNN: gamma_trade=11, gamma_risk=316, gamma_hold=100000, seed=0...\n"
     ]
    },
    {
     "name": "stdout",
     "output_type": "stream",
     "text": [
      "\t[750/1232]\tRL_CNN: gamma_trade=11, gamma_risk=562, gamma_hold=0.1, seed=0...\n"
     ]
    },
    {
     "name": "stdout",
     "output_type": "stream",
     "text": [
      "\t[751/1232]\tRL_CNN: gamma_trade=11, gamma_risk=562, gamma_hold=1, seed=0...\n"
     ]
    },
    {
     "name": "stdout",
     "output_type": "stream",
     "text": [
      "\t[752/1232]\tRL_CNN: gamma_trade=11, gamma_risk=562, gamma_hold=10, seed=0...\n"
     ]
    },
    {
     "name": "stdout",
     "output_type": "stream",
     "text": [
      "\t[753/1232]\tRL_CNN: gamma_trade=11, gamma_risk=562, gamma_hold=100, seed=0...\n"
     ]
    },
    {
     "name": "stdout",
     "output_type": "stream",
     "text": [
      "\t[754/1232]\tRL_CNN: gamma_trade=11, gamma_risk=562, gamma_hold=1000, seed=0...\n"
     ]
    },
    {
     "name": "stdout",
     "output_type": "stream",
     "text": [
      "\t[755/1232]\tRL_CNN: gamma_trade=11, gamma_risk=562, gamma_hold=10000, seed=0...\n"
     ]
    },
    {
     "name": "stdout",
     "output_type": "stream",
     "text": [
      "\t[756/1232]\tRL_CNN: gamma_trade=11, gamma_risk=562, gamma_hold=100000, seed=0...\n"
     ]
    },
    {
     "name": "stdout",
     "output_type": "stream",
     "text": [
      "\t[757/1232]\tRL_CNN: gamma_trade=11, gamma_risk=1000, gamma_hold=0.1, seed=0...\n"
     ]
    },
    {
     "name": "stdout",
     "output_type": "stream",
     "text": [
      "\t[758/1232]\tRL_CNN: gamma_trade=11, gamma_risk=1000, gamma_hold=1, seed=0...\n"
     ]
    },
    {
     "name": "stdout",
     "output_type": "stream",
     "text": [
      "\t[759/1232]\tRL_CNN: gamma_trade=11, gamma_risk=1000, gamma_hold=10, seed=0...\n"
     ]
    },
    {
     "name": "stdout",
     "output_type": "stream",
     "text": [
      "\t[760/1232]\tRL_CNN: gamma_trade=11, gamma_risk=1000, gamma_hold=100, seed=0...\n"
     ]
    },
    {
     "name": "stdout",
     "output_type": "stream",
     "text": [
      "\t[761/1232]\tRL_CNN: gamma_trade=11, gamma_risk=1000, gamma_hold=1000, seed=0...\n"
     ]
    },
    {
     "name": "stdout",
     "output_type": "stream",
     "text": [
      "\t[762/1232]\tRL_CNN: gamma_trade=11, gamma_risk=1000, gamma_hold=10000, seed=0...\n"
     ]
    },
    {
     "name": "stdout",
     "output_type": "stream",
     "text": [
      "\t[763/1232]\tRL_CNN: gamma_trade=11, gamma_risk=1000, gamma_hold=100000, seed=0...\n"
     ]
    },
    {
     "name": "stdout",
     "output_type": "stream",
     "text": [
      "\t[764/1232]\tRL_CNN: gamma_trade=11, gamma_risk=5000, gamma_hold=0.1, seed=0...\n"
     ]
    },
    {
     "name": "stdout",
     "output_type": "stream",
     "text": [
      "\t[765/1232]\tRL_CNN: gamma_trade=11, gamma_risk=5000, gamma_hold=1, seed=0...\n"
     ]
    },
    {
     "name": "stdout",
     "output_type": "stream",
     "text": [
      "\t[766/1232]\tRL_CNN: gamma_trade=11, gamma_risk=5000, gamma_hold=10, seed=0...\n"
     ]
    },
    {
     "name": "stdout",
     "output_type": "stream",
     "text": [
      "\t[767/1232]\tRL_CNN: gamma_trade=11, gamma_risk=5000, gamma_hold=100, seed=0...\n"
     ]
    },
    {
     "name": "stdout",
     "output_type": "stream",
     "text": [
      "\t[768/1232]\tRL_CNN: gamma_trade=11, gamma_risk=5000, gamma_hold=1000, seed=0...\n"
     ]
    },
    {
     "name": "stdout",
     "output_type": "stream",
     "text": [
      "\t[769/1232]\tRL_CNN: gamma_trade=11, gamma_risk=5000, gamma_hold=10000, seed=0...\n"
     ]
    },
    {
     "name": "stdout",
     "output_type": "stream",
     "text": [
      "\t[770/1232]\tRL_CNN: gamma_trade=11, gamma_risk=5000, gamma_hold=100000, seed=0...\n"
     ]
    },
    {
     "name": "stdout",
     "output_type": "stream",
     "text": [
      "\t[771/1232]\tRL_CNN: gamma_trade=11, gamma_risk=10000, gamma_hold=0.1, seed=0...\n"
     ]
    },
    {
     "name": "stdout",
     "output_type": "stream",
     "text": [
      "\t[772/1232]\tRL_CNN: gamma_trade=11, gamma_risk=10000, gamma_hold=1, seed=0...\n"
     ]
    },
    {
     "name": "stdout",
     "output_type": "stream",
     "text": [
      "\t[773/1232]\tRL_CNN: gamma_trade=11, gamma_risk=10000, gamma_hold=10, seed=0...\n"
     ]
    },
    {
     "name": "stdout",
     "output_type": "stream",
     "text": [
      "\t[774/1232]\tRL_CNN: gamma_trade=11, gamma_risk=10000, gamma_hold=100, seed=0...\n"
     ]
    },
    {
     "name": "stdout",
     "output_type": "stream",
     "text": [
      "\t[775/1232]\tRL_CNN: gamma_trade=11, gamma_risk=10000, gamma_hold=1000, seed=0...\n"
     ]
    },
    {
     "name": "stdout",
     "output_type": "stream",
     "text": [
      "\t[776/1232]\tRL_CNN: gamma_trade=11, gamma_risk=10000, gamma_hold=10000, seed=0...\n"
     ]
    },
    {
     "name": "stdout",
     "output_type": "stream",
     "text": [
      "\t[777/1232]\tRL_CNN: gamma_trade=11, gamma_risk=10000, gamma_hold=100000, seed=0...\n"
     ]
    },
    {
     "name": "stdout",
     "output_type": "stream",
     "text": [
      "\t[778/1232]\tRL_CNN: gamma_trade=11, gamma_risk=100000, gamma_hold=0.1, seed=0...\n"
     ]
    },
    {
     "name": "stdout",
     "output_type": "stream",
     "text": [
      "\t[779/1232]\tRL_CNN: gamma_trade=11, gamma_risk=100000, gamma_hold=1, seed=0...\n"
     ]
    },
    {
     "name": "stdout",
     "output_type": "stream",
     "text": [
      "\t[780/1232]\tRL_CNN: gamma_trade=11, gamma_risk=100000, gamma_hold=10, seed=0...\n"
     ]
    },
    {
     "name": "stdout",
     "output_type": "stream",
     "text": [
      "\t[781/1232]\tRL_CNN: gamma_trade=11, gamma_risk=100000, gamma_hold=100, seed=0...\n"
     ]
    },
    {
     "name": "stdout",
     "output_type": "stream",
     "text": [
      "\t[782/1232]\tRL_CNN: gamma_trade=11, gamma_risk=100000, gamma_hold=1000, seed=0...\n"
     ]
    },
    {
     "name": "stdout",
     "output_type": "stream",
     "text": [
      "\t[783/1232]\tRL_CNN: gamma_trade=11, gamma_risk=100000, gamma_hold=10000, seed=0...\n"
     ]
    },
    {
     "name": "stdout",
     "output_type": "stream",
     "text": [
      "\t[784/1232]\tRL_CNN: gamma_trade=11, gamma_risk=100000, gamma_hold=100000, seed=0...\n"
     ]
    },
    {
     "name": "stdout",
     "output_type": "stream",
     "text": [
      "\t[785/1232]\tRL_CNN: gamma_trade=12, gamma_risk=1, gamma_hold=0.1, seed=0...\n"
     ]
    },
    {
     "name": "stdout",
     "output_type": "stream",
     "text": [
      "\t[786/1232]\tRL_CNN: gamma_trade=12, gamma_risk=1, gamma_hold=1, seed=0...\n"
     ]
    },
    {
     "name": "stdout",
     "output_type": "stream",
     "text": [
      "\t[787/1232]\tRL_CNN: gamma_trade=12, gamma_risk=1, gamma_hold=10, seed=0...\n"
     ]
    },
    {
     "name": "stdout",
     "output_type": "stream",
     "text": [
      "\t[788/1232]\tRL_CNN: gamma_trade=12, gamma_risk=1, gamma_hold=100, seed=0...\n"
     ]
    },
    {
     "name": "stdout",
     "output_type": "stream",
     "text": [
      "\t[789/1232]\tRL_CNN: gamma_trade=12, gamma_risk=1, gamma_hold=1000, seed=0...\n"
     ]
    },
    {
     "name": "stdout",
     "output_type": "stream",
     "text": [
      "\t[790/1232]\tRL_CNN: gamma_trade=12, gamma_risk=1, gamma_hold=10000, seed=0...\n"
     ]
    },
    {
     "name": "stdout",
     "output_type": "stream",
     "text": [
      "\t[791/1232]\tRL_CNN: gamma_trade=12, gamma_risk=1, gamma_hold=100000, seed=0...\n"
     ]
    },
    {
     "name": "stdout",
     "output_type": "stream",
     "text": [
      "\t[792/1232]\tRL_CNN: gamma_trade=12, gamma_risk=2, gamma_hold=0.1, seed=0...\n"
     ]
    },
    {
     "name": "stdout",
     "output_type": "stream",
     "text": [
      "\t[793/1232]\tRL_CNN: gamma_trade=12, gamma_risk=2, gamma_hold=1, seed=0...\n"
     ]
    },
    {
     "name": "stdout",
     "output_type": "stream",
     "text": [
      "\t[794/1232]\tRL_CNN: gamma_trade=12, gamma_risk=2, gamma_hold=10, seed=0...\n"
     ]
    },
    {
     "name": "stdout",
     "output_type": "stream",
     "text": [
      "\t[795/1232]\tRL_CNN: gamma_trade=12, gamma_risk=2, gamma_hold=100, seed=0...\n"
     ]
    },
    {
     "name": "stdout",
     "output_type": "stream",
     "text": [
      "\t[796/1232]\tRL_CNN: gamma_trade=12, gamma_risk=2, gamma_hold=1000, seed=0...\n"
     ]
    },
    {
     "name": "stdout",
     "output_type": "stream",
     "text": [
      "\t[797/1232]\tRL_CNN: gamma_trade=12, gamma_risk=2, gamma_hold=10000, seed=0...\n"
     ]
    },
    {
     "name": "stdout",
     "output_type": "stream",
     "text": [
      "\t[798/1232]\tRL_CNN: gamma_trade=12, gamma_risk=2, gamma_hold=100000, seed=0...\n"
     ]
    },
    {
     "name": "stdout",
     "output_type": "stream",
     "text": [
      "\t[799/1232]\tRL_CNN: gamma_trade=12, gamma_risk=3, gamma_hold=0.1, seed=0...\n"
     ]
    },
    {
     "name": "stdout",
     "output_type": "stream",
     "text": [
      "\t[800/1232]\tRL_CNN: gamma_trade=12, gamma_risk=3, gamma_hold=1, seed=0...\n"
     ]
    },
    {
     "name": "stdout",
     "output_type": "stream",
     "text": [
      "\t[801/1232]\tRL_CNN: gamma_trade=12, gamma_risk=3, gamma_hold=10, seed=0...\n"
     ]
    },
    {
     "name": "stdout",
     "output_type": "stream",
     "text": [
      "\t[802/1232]\tRL_CNN: gamma_trade=12, gamma_risk=3, gamma_hold=100, seed=0...\n"
     ]
    },
    {
     "name": "stdout",
     "output_type": "stream",
     "text": [
      "\t[803/1232]\tRL_CNN: gamma_trade=12, gamma_risk=3, gamma_hold=1000, seed=0...\n"
     ]
    },
    {
     "name": "stdout",
     "output_type": "stream",
     "text": [
      "\t[804/1232]\tRL_CNN: gamma_trade=12, gamma_risk=3, gamma_hold=10000, seed=0...\n"
     ]
    },
    {
     "name": "stdout",
     "output_type": "stream",
     "text": [
      "\t[805/1232]\tRL_CNN: gamma_trade=12, gamma_risk=3, gamma_hold=100000, seed=0...\n"
     ]
    },
    {
     "name": "stdout",
     "output_type": "stream",
     "text": [
      "\t[806/1232]\tRL_CNN: gamma_trade=12, gamma_risk=6, gamma_hold=0.1, seed=0...\n"
     ]
    },
    {
     "name": "stdout",
     "output_type": "stream",
     "text": [
      "\t[807/1232]\tRL_CNN: gamma_trade=12, gamma_risk=6, gamma_hold=1, seed=0...\n"
     ]
    },
    {
     "name": "stdout",
     "output_type": "stream",
     "text": [
      "\t[808/1232]\tRL_CNN: gamma_trade=12, gamma_risk=6, gamma_hold=10, seed=0...\n"
     ]
    },
    {
     "name": "stdout",
     "output_type": "stream",
     "text": [
      "\t[809/1232]\tRL_CNN: gamma_trade=12, gamma_risk=6, gamma_hold=100, seed=0...\n"
     ]
    },
    {
     "name": "stdout",
     "output_type": "stream",
     "text": [
      "\t[810/1232]\tRL_CNN: gamma_trade=12, gamma_risk=6, gamma_hold=1000, seed=0...\n"
     ]
    },
    {
     "name": "stdout",
     "output_type": "stream",
     "text": [
      "\t[811/1232]\tRL_CNN: gamma_trade=12, gamma_risk=6, gamma_hold=10000, seed=0...\n"
     ]
    },
    {
     "name": "stdout",
     "output_type": "stream",
     "text": [
      "\t[812/1232]\tRL_CNN: gamma_trade=12, gamma_risk=6, gamma_hold=100000, seed=0...\n"
     ]
    },
    {
     "name": "stdout",
     "output_type": "stream",
     "text": [
      "\t[813/1232]\tRL_CNN: gamma_trade=12, gamma_risk=10, gamma_hold=0.1, seed=0...\n"
     ]
    },
    {
     "name": "stdout",
     "output_type": "stream",
     "text": [
      "\t[814/1232]\tRL_CNN: gamma_trade=12, gamma_risk=10, gamma_hold=1, seed=0...\n"
     ]
    },
    {
     "name": "stdout",
     "output_type": "stream",
     "text": [
      "\t[815/1232]\tRL_CNN: gamma_trade=12, gamma_risk=10, gamma_hold=10, seed=0...\n"
     ]
    },
    {
     "name": "stdout",
     "output_type": "stream",
     "text": [
      "\t[816/1232]\tRL_CNN: gamma_trade=12, gamma_risk=10, gamma_hold=100, seed=0...\n"
     ]
    },
    {
     "name": "stdout",
     "output_type": "stream",
     "text": [
      "\t[817/1232]\tRL_CNN: gamma_trade=12, gamma_risk=10, gamma_hold=1000, seed=0...\n"
     ]
    },
    {
     "name": "stdout",
     "output_type": "stream",
     "text": [
      "\t[818/1232]\tRL_CNN: gamma_trade=12, gamma_risk=10, gamma_hold=10000, seed=0...\n"
     ]
    },
    {
     "name": "stdout",
     "output_type": "stream",
     "text": [
      "\t[819/1232]\tRL_CNN: gamma_trade=12, gamma_risk=10, gamma_hold=100000, seed=0...\n"
     ]
    },
    {
     "name": "stdout",
     "output_type": "stream",
     "text": [
      "\t[820/1232]\tRL_CNN: gamma_trade=12, gamma_risk=18, gamma_hold=0.1, seed=0...\n"
     ]
    },
    {
     "name": "stdout",
     "output_type": "stream",
     "text": [
      "\t[821/1232]\tRL_CNN: gamma_trade=12, gamma_risk=18, gamma_hold=1, seed=0...\n"
     ]
    },
    {
     "name": "stdout",
     "output_type": "stream",
     "text": [
      "\t[822/1232]\tRL_CNN: gamma_trade=12, gamma_risk=18, gamma_hold=10, seed=0...\n"
     ]
    },
    {
     "name": "stdout",
     "output_type": "stream",
     "text": [
      "\t[823/1232]\tRL_CNN: gamma_trade=12, gamma_risk=18, gamma_hold=100, seed=0...\n"
     ]
    },
    {
     "name": "stdout",
     "output_type": "stream",
     "text": [
      "\t[824/1232]\tRL_CNN: gamma_trade=12, gamma_risk=18, gamma_hold=1000, seed=0...\n"
     ]
    },
    {
     "name": "stdout",
     "output_type": "stream",
     "text": [
      "\t[825/1232]\tRL_CNN: gamma_trade=12, gamma_risk=18, gamma_hold=10000, seed=0...\n"
     ]
    },
    {
     "name": "stdout",
     "output_type": "stream",
     "text": [
      "\t[826/1232]\tRL_CNN: gamma_trade=12, gamma_risk=18, gamma_hold=100000, seed=0...\n"
     ]
    },
    {
     "name": "stdout",
     "output_type": "stream",
     "text": [
      "\t[827/1232]\tRL_CNN: gamma_trade=12, gamma_risk=32, gamma_hold=0.1, seed=0...\n"
     ]
    },
    {
     "name": "stdout",
     "output_type": "stream",
     "text": [
      "\t[828/1232]\tRL_CNN: gamma_trade=12, gamma_risk=32, gamma_hold=1, seed=0...\n"
     ]
    },
    {
     "name": "stdout",
     "output_type": "stream",
     "text": [
      "\t[829/1232]\tRL_CNN: gamma_trade=12, gamma_risk=32, gamma_hold=10, seed=0...\n"
     ]
    },
    {
     "name": "stdout",
     "output_type": "stream",
     "text": [
      "\t[830/1232]\tRL_CNN: gamma_trade=12, gamma_risk=32, gamma_hold=100, seed=0...\n"
     ]
    },
    {
     "name": "stdout",
     "output_type": "stream",
     "text": [
      "\t[831/1232]\tRL_CNN: gamma_trade=12, gamma_risk=32, gamma_hold=1000, seed=0...\n"
     ]
    },
    {
     "name": "stdout",
     "output_type": "stream",
     "text": [
      "\t[832/1232]\tRL_CNN: gamma_trade=12, gamma_risk=32, gamma_hold=10000, seed=0...\n"
     ]
    },
    {
     "name": "stdout",
     "output_type": "stream",
     "text": [
      "\t[833/1232]\tRL_CNN: gamma_trade=12, gamma_risk=32, gamma_hold=100000, seed=0...\n"
     ]
    },
    {
     "name": "stdout",
     "output_type": "stream",
     "text": [
      "\t[834/1232]\tRL_CNN: gamma_trade=12, gamma_risk=56, gamma_hold=0.1, seed=0...\n"
     ]
    },
    {
     "name": "stdout",
     "output_type": "stream",
     "text": [
      "\t[835/1232]\tRL_CNN: gamma_trade=12, gamma_risk=56, gamma_hold=1, seed=0...\n"
     ]
    },
    {
     "name": "stdout",
     "output_type": "stream",
     "text": [
      "\t[836/1232]\tRL_CNN: gamma_trade=12, gamma_risk=56, gamma_hold=10, seed=0...\n"
     ]
    },
    {
     "name": "stdout",
     "output_type": "stream",
     "text": [
      "\t[837/1232]\tRL_CNN: gamma_trade=12, gamma_risk=56, gamma_hold=100, seed=0...\n"
     ]
    },
    {
     "name": "stdout",
     "output_type": "stream",
     "text": [
      "\t[838/1232]\tRL_CNN: gamma_trade=12, gamma_risk=56, gamma_hold=1000, seed=0...\n"
     ]
    },
    {
     "name": "stdout",
     "output_type": "stream",
     "text": [
      "\t[839/1232]\tRL_CNN: gamma_trade=12, gamma_risk=56, gamma_hold=10000, seed=0...\n"
     ]
    },
    {
     "name": "stdout",
     "output_type": "stream",
     "text": [
      "\t[840/1232]\tRL_CNN: gamma_trade=12, gamma_risk=56, gamma_hold=100000, seed=0...\n"
     ]
    },
    {
     "name": "stdout",
     "output_type": "stream",
     "text": [
      "\t[841/1232]\tRL_CNN: gamma_trade=12, gamma_risk=100, gamma_hold=0.1, seed=0...\n"
     ]
    },
    {
     "name": "stdout",
     "output_type": "stream",
     "text": [
      "\t[842/1232]\tRL_CNN: gamma_trade=12, gamma_risk=100, gamma_hold=1, seed=0...\n"
     ]
    },
    {
     "name": "stdout",
     "output_type": "stream",
     "text": [
      "\t[843/1232]\tRL_CNN: gamma_trade=12, gamma_risk=100, gamma_hold=10, seed=0...\n"
     ]
    },
    {
     "name": "stdout",
     "output_type": "stream",
     "text": [
      "\t[844/1232]\tRL_CNN: gamma_trade=12, gamma_risk=100, gamma_hold=100, seed=0...\n"
     ]
    },
    {
     "name": "stdout",
     "output_type": "stream",
     "text": [
      "\t[845/1232]\tRL_CNN: gamma_trade=12, gamma_risk=100, gamma_hold=1000, seed=0...\n"
     ]
    },
    {
     "name": "stdout",
     "output_type": "stream",
     "text": [
      "\t[846/1232]\tRL_CNN: gamma_trade=12, gamma_risk=100, gamma_hold=10000, seed=0...\n"
     ]
    },
    {
     "name": "stdout",
     "output_type": "stream",
     "text": [
      "\t[847/1232]\tRL_CNN: gamma_trade=12, gamma_risk=100, gamma_hold=100000, seed=0...\n"
     ]
    },
    {
     "name": "stdout",
     "output_type": "stream",
     "text": [
      "\t[848/1232]\tRL_CNN: gamma_trade=12, gamma_risk=178, gamma_hold=0.1, seed=0...\n"
     ]
    },
    {
     "name": "stdout",
     "output_type": "stream",
     "text": [
      "\t[849/1232]\tRL_CNN: gamma_trade=12, gamma_risk=178, gamma_hold=1, seed=0...\n"
     ]
    },
    {
     "name": "stdout",
     "output_type": "stream",
     "text": [
      "\t[850/1232]\tRL_CNN: gamma_trade=12, gamma_risk=178, gamma_hold=10, seed=0...\n"
     ]
    },
    {
     "name": "stdout",
     "output_type": "stream",
     "text": [
      "\t[851/1232]\tRL_CNN: gamma_trade=12, gamma_risk=178, gamma_hold=100, seed=0...\n"
     ]
    },
    {
     "name": "stdout",
     "output_type": "stream",
     "text": [
      "\t[852/1232]\tRL_CNN: gamma_trade=12, gamma_risk=178, gamma_hold=1000, seed=0...\n"
     ]
    },
    {
     "name": "stdout",
     "output_type": "stream",
     "text": [
      "\t[853/1232]\tRL_CNN: gamma_trade=12, gamma_risk=178, gamma_hold=10000, seed=0...\n"
     ]
    },
    {
     "name": "stdout",
     "output_type": "stream",
     "text": [
      "\t[854/1232]\tRL_CNN: gamma_trade=12, gamma_risk=178, gamma_hold=100000, seed=0...\n"
     ]
    },
    {
     "name": "stdout",
     "output_type": "stream",
     "text": [
      "\t[855/1232]\tRL_CNN: gamma_trade=12, gamma_risk=316, gamma_hold=0.1, seed=0...\n"
     ]
    },
    {
     "name": "stdout",
     "output_type": "stream",
     "text": [
      "\t[856/1232]\tRL_CNN: gamma_trade=12, gamma_risk=316, gamma_hold=1, seed=0...\n"
     ]
    },
    {
     "name": "stdout",
     "output_type": "stream",
     "text": [
      "\t[857/1232]\tRL_CNN: gamma_trade=12, gamma_risk=316, gamma_hold=10, seed=0...\n"
     ]
    },
    {
     "name": "stdout",
     "output_type": "stream",
     "text": [
      "\t[858/1232]\tRL_CNN: gamma_trade=12, gamma_risk=316, gamma_hold=100, seed=0...\n"
     ]
    },
    {
     "name": "stdout",
     "output_type": "stream",
     "text": [
      "\t[859/1232]\tRL_CNN: gamma_trade=12, gamma_risk=316, gamma_hold=1000, seed=0...\n"
     ]
    },
    {
     "name": "stdout",
     "output_type": "stream",
     "text": [
      "\t[860/1232]\tRL_CNN: gamma_trade=12, gamma_risk=316, gamma_hold=10000, seed=0...\n"
     ]
    },
    {
     "name": "stdout",
     "output_type": "stream",
     "text": [
      "\t[861/1232]\tRL_CNN: gamma_trade=12, gamma_risk=316, gamma_hold=100000, seed=0...\n"
     ]
    },
    {
     "name": "stdout",
     "output_type": "stream",
     "text": [
      "\t[862/1232]\tRL_CNN: gamma_trade=12, gamma_risk=562, gamma_hold=0.1, seed=0...\n"
     ]
    },
    {
     "name": "stdout",
     "output_type": "stream",
     "text": [
      "\t[863/1232]\tRL_CNN: gamma_trade=12, gamma_risk=562, gamma_hold=1, seed=0...\n"
     ]
    },
    {
     "name": "stdout",
     "output_type": "stream",
     "text": [
      "\t[864/1232]\tRL_CNN: gamma_trade=12, gamma_risk=562, gamma_hold=10, seed=0...\n"
     ]
    },
    {
     "name": "stdout",
     "output_type": "stream",
     "text": [
      "\t[865/1232]\tRL_CNN: gamma_trade=12, gamma_risk=562, gamma_hold=100, seed=0...\n"
     ]
    },
    {
     "name": "stdout",
     "output_type": "stream",
     "text": [
      "\t[866/1232]\tRL_CNN: gamma_trade=12, gamma_risk=562, gamma_hold=1000, seed=0...\n"
     ]
    },
    {
     "name": "stdout",
     "output_type": "stream",
     "text": [
      "\t[867/1232]\tRL_CNN: gamma_trade=12, gamma_risk=562, gamma_hold=10000, seed=0...\n"
     ]
    },
    {
     "name": "stdout",
     "output_type": "stream",
     "text": [
      "\t[868/1232]\tRL_CNN: gamma_trade=12, gamma_risk=562, gamma_hold=100000, seed=0...\n"
     ]
    },
    {
     "name": "stdout",
     "output_type": "stream",
     "text": [
      "\t[869/1232]\tRL_CNN: gamma_trade=12, gamma_risk=1000, gamma_hold=0.1, seed=0...\n"
     ]
    },
    {
     "name": "stdout",
     "output_type": "stream",
     "text": [
      "\t[870/1232]\tRL_CNN: gamma_trade=12, gamma_risk=1000, gamma_hold=1, seed=0...\n"
     ]
    },
    {
     "name": "stdout",
     "output_type": "stream",
     "text": [
      "\t[871/1232]\tRL_CNN: gamma_trade=12, gamma_risk=1000, gamma_hold=10, seed=0...\n"
     ]
    },
    {
     "name": "stdout",
     "output_type": "stream",
     "text": [
      "\t[872/1232]\tRL_CNN: gamma_trade=12, gamma_risk=1000, gamma_hold=100, seed=0...\n"
     ]
    },
    {
     "name": "stdout",
     "output_type": "stream",
     "text": [
      "\t[873/1232]\tRL_CNN: gamma_trade=12, gamma_risk=1000, gamma_hold=1000, seed=0...\n"
     ]
    },
    {
     "name": "stdout",
     "output_type": "stream",
     "text": [
      "\t[874/1232]\tRL_CNN: gamma_trade=12, gamma_risk=1000, gamma_hold=10000, seed=0...\n"
     ]
    },
    {
     "name": "stdout",
     "output_type": "stream",
     "text": [
      "\t[875/1232]\tRL_CNN: gamma_trade=12, gamma_risk=1000, gamma_hold=100000, seed=0...\n"
     ]
    },
    {
     "name": "stdout",
     "output_type": "stream",
     "text": [
      "\t[876/1232]\tRL_CNN: gamma_trade=12, gamma_risk=5000, gamma_hold=0.1, seed=0...\n"
     ]
    },
    {
     "name": "stdout",
     "output_type": "stream",
     "text": [
      "\t[877/1232]\tRL_CNN: gamma_trade=12, gamma_risk=5000, gamma_hold=1, seed=0...\n"
     ]
    },
    {
     "name": "stdout",
     "output_type": "stream",
     "text": [
      "\t[878/1232]\tRL_CNN: gamma_trade=12, gamma_risk=5000, gamma_hold=10, seed=0...\n"
     ]
    },
    {
     "name": "stdout",
     "output_type": "stream",
     "text": [
      "\t[879/1232]\tRL_CNN: gamma_trade=12, gamma_risk=5000, gamma_hold=100, seed=0...\n"
     ]
    },
    {
     "name": "stdout",
     "output_type": "stream",
     "text": [
      "\t[880/1232]\tRL_CNN: gamma_trade=12, gamma_risk=5000, gamma_hold=1000, seed=0...\n"
     ]
    },
    {
     "name": "stdout",
     "output_type": "stream",
     "text": [
      "\t[881/1232]\tRL_CNN: gamma_trade=12, gamma_risk=5000, gamma_hold=10000, seed=0...\n"
     ]
    },
    {
     "name": "stdout",
     "output_type": "stream",
     "text": [
      "\t[882/1232]\tRL_CNN: gamma_trade=12, gamma_risk=5000, gamma_hold=100000, seed=0...\n"
     ]
    },
    {
     "name": "stdout",
     "output_type": "stream",
     "text": [
      "\t[883/1232]\tRL_CNN: gamma_trade=12, gamma_risk=10000, gamma_hold=0.1, seed=0...\n"
     ]
    },
    {
     "name": "stdout",
     "output_type": "stream",
     "text": [
      "\t[884/1232]\tRL_CNN: gamma_trade=12, gamma_risk=10000, gamma_hold=1, seed=0...\n"
     ]
    },
    {
     "name": "stdout",
     "output_type": "stream",
     "text": [
      "\t[885/1232]\tRL_CNN: gamma_trade=12, gamma_risk=10000, gamma_hold=10, seed=0...\n"
     ]
    },
    {
     "name": "stdout",
     "output_type": "stream",
     "text": [
      "\t[886/1232]\tRL_CNN: gamma_trade=12, gamma_risk=10000, gamma_hold=100, seed=0...\n"
     ]
    },
    {
     "name": "stdout",
     "output_type": "stream",
     "text": [
      "\t[887/1232]\tRL_CNN: gamma_trade=12, gamma_risk=10000, gamma_hold=1000, seed=0...\n"
     ]
    },
    {
     "name": "stdout",
     "output_type": "stream",
     "text": [
      "\t[888/1232]\tRL_CNN: gamma_trade=12, gamma_risk=10000, gamma_hold=10000, seed=0...\n"
     ]
    },
    {
     "name": "stdout",
     "output_type": "stream",
     "text": [
      "\t[889/1232]\tRL_CNN: gamma_trade=12, gamma_risk=10000, gamma_hold=100000, seed=0...\n"
     ]
    },
    {
     "name": "stdout",
     "output_type": "stream",
     "text": [
      "\t[890/1232]\tRL_CNN: gamma_trade=12, gamma_risk=100000, gamma_hold=0.1, seed=0...\n"
     ]
    },
    {
     "name": "stdout",
     "output_type": "stream",
     "text": [
      "\t[891/1232]\tRL_CNN: gamma_trade=12, gamma_risk=100000, gamma_hold=1, seed=0...\n"
     ]
    },
    {
     "name": "stdout",
     "output_type": "stream",
     "text": [
      "\t[892/1232]\tRL_CNN: gamma_trade=12, gamma_risk=100000, gamma_hold=10, seed=0...\n",
      "**error for model: trade_12_risk_100000_hold_10\n",
      "\t[893/1232]\tRL_CNN: gamma_trade=12, gamma_risk=100000, gamma_hold=100, seed=0...\n"
     ]
    },
    {
     "name": "stdout",
     "output_type": "stream",
     "text": [
      "\t[894/1232]\tRL_CNN: gamma_trade=12, gamma_risk=100000, gamma_hold=1000, seed=0...\n"
     ]
    },
    {
     "name": "stdout",
     "output_type": "stream",
     "text": [
      "\t[895/1232]\tRL_CNN: gamma_trade=12, gamma_risk=100000, gamma_hold=10000, seed=0...\n"
     ]
    },
    {
     "name": "stdout",
     "output_type": "stream",
     "text": [
      "\t[896/1232]\tRL_CNN: gamma_trade=12, gamma_risk=100000, gamma_hold=100000, seed=0...\n"
     ]
    },
    {
     "name": "stdout",
     "output_type": "stream",
     "text": [
      "\t[897/1232]\tRL_CNN: gamma_trade=50, gamma_risk=1, gamma_hold=0.1, seed=0...\n"
     ]
    },
    {
     "name": "stdout",
     "output_type": "stream",
     "text": [
      "\t[898/1232]\tRL_CNN: gamma_trade=50, gamma_risk=1, gamma_hold=1, seed=0...\n"
     ]
    },
    {
     "name": "stdout",
     "output_type": "stream",
     "text": [
      "\t[899/1232]\tRL_CNN: gamma_trade=50, gamma_risk=1, gamma_hold=10, seed=0...\n"
     ]
    },
    {
     "name": "stdout",
     "output_type": "stream",
     "text": [
      "\t[900/1232]\tRL_CNN: gamma_trade=50, gamma_risk=1, gamma_hold=100, seed=0...\n"
     ]
    },
    {
     "name": "stdout",
     "output_type": "stream",
     "text": [
      "\t[901/1232]\tRL_CNN: gamma_trade=50, gamma_risk=1, gamma_hold=1000, seed=0...\n"
     ]
    },
    {
     "name": "stdout",
     "output_type": "stream",
     "text": [
      "\t[902/1232]\tRL_CNN: gamma_trade=50, gamma_risk=1, gamma_hold=10000, seed=0...\n"
     ]
    },
    {
     "name": "stdout",
     "output_type": "stream",
     "text": [
      "\t[903/1232]\tRL_CNN: gamma_trade=50, gamma_risk=1, gamma_hold=100000, seed=0...\n"
     ]
    },
    {
     "name": "stdout",
     "output_type": "stream",
     "text": [
      "\t[904/1232]\tRL_CNN: gamma_trade=50, gamma_risk=2, gamma_hold=0.1, seed=0...\n"
     ]
    },
    {
     "name": "stdout",
     "output_type": "stream",
     "text": [
      "\t[905/1232]\tRL_CNN: gamma_trade=50, gamma_risk=2, gamma_hold=1, seed=0...\n"
     ]
    },
    {
     "name": "stdout",
     "output_type": "stream",
     "text": [
      "\t[906/1232]\tRL_CNN: gamma_trade=50, gamma_risk=2, gamma_hold=10, seed=0...\n"
     ]
    },
    {
     "name": "stdout",
     "output_type": "stream",
     "text": [
      "\t[907/1232]\tRL_CNN: gamma_trade=50, gamma_risk=2, gamma_hold=100, seed=0...\n"
     ]
    },
    {
     "name": "stdout",
     "output_type": "stream",
     "text": [
      "\t[908/1232]\tRL_CNN: gamma_trade=50, gamma_risk=2, gamma_hold=1000, seed=0...\n"
     ]
    },
    {
     "name": "stdout",
     "output_type": "stream",
     "text": [
      "\t[909/1232]\tRL_CNN: gamma_trade=50, gamma_risk=2, gamma_hold=10000, seed=0...\n"
     ]
    },
    {
     "name": "stdout",
     "output_type": "stream",
     "text": [
      "\t[910/1232]\tRL_CNN: gamma_trade=50, gamma_risk=2, gamma_hold=100000, seed=0...\n"
     ]
    },
    {
     "name": "stdout",
     "output_type": "stream",
     "text": [
      "\t[911/1232]\tRL_CNN: gamma_trade=50, gamma_risk=3, gamma_hold=0.1, seed=0...\n"
     ]
    },
    {
     "name": "stdout",
     "output_type": "stream",
     "text": [
      "\t[912/1232]\tRL_CNN: gamma_trade=50, gamma_risk=3, gamma_hold=1, seed=0...\n"
     ]
    },
    {
     "name": "stdout",
     "output_type": "stream",
     "text": [
      "\t[913/1232]\tRL_CNN: gamma_trade=50, gamma_risk=3, gamma_hold=10, seed=0...\n"
     ]
    },
    {
     "name": "stdout",
     "output_type": "stream",
     "text": [
      "\t[914/1232]\tRL_CNN: gamma_trade=50, gamma_risk=3, gamma_hold=100, seed=0...\n"
     ]
    },
    {
     "name": "stdout",
     "output_type": "stream",
     "text": [
      "\t[915/1232]\tRL_CNN: gamma_trade=50, gamma_risk=3, gamma_hold=1000, seed=0...\n"
     ]
    },
    {
     "name": "stdout",
     "output_type": "stream",
     "text": [
      "\t[916/1232]\tRL_CNN: gamma_trade=50, gamma_risk=3, gamma_hold=10000, seed=0...\n"
     ]
    },
    {
     "name": "stdout",
     "output_type": "stream",
     "text": [
      "\t[917/1232]\tRL_CNN: gamma_trade=50, gamma_risk=3, gamma_hold=100000, seed=0...\n"
     ]
    },
    {
     "name": "stdout",
     "output_type": "stream",
     "text": [
      "\t[918/1232]\tRL_CNN: gamma_trade=50, gamma_risk=6, gamma_hold=0.1, seed=0...\n"
     ]
    },
    {
     "name": "stdout",
     "output_type": "stream",
     "text": [
      "\t[919/1232]\tRL_CNN: gamma_trade=50, gamma_risk=6, gamma_hold=1, seed=0...\n"
     ]
    },
    {
     "name": "stdout",
     "output_type": "stream",
     "text": [
      "\t[920/1232]\tRL_CNN: gamma_trade=50, gamma_risk=6, gamma_hold=10, seed=0...\n"
     ]
    },
    {
     "name": "stdout",
     "output_type": "stream",
     "text": [
      "\t[921/1232]\tRL_CNN: gamma_trade=50, gamma_risk=6, gamma_hold=100, seed=0...\n"
     ]
    },
    {
     "name": "stdout",
     "output_type": "stream",
     "text": [
      "\t[922/1232]\tRL_CNN: gamma_trade=50, gamma_risk=6, gamma_hold=1000, seed=0...\n"
     ]
    },
    {
     "name": "stdout",
     "output_type": "stream",
     "text": [
      "\t[923/1232]\tRL_CNN: gamma_trade=50, gamma_risk=6, gamma_hold=10000, seed=0...\n"
     ]
    },
    {
     "name": "stdout",
     "output_type": "stream",
     "text": [
      "\t[924/1232]\tRL_CNN: gamma_trade=50, gamma_risk=6, gamma_hold=100000, seed=0...\n"
     ]
    },
    {
     "name": "stdout",
     "output_type": "stream",
     "text": [
      "\t[925/1232]\tRL_CNN: gamma_trade=50, gamma_risk=10, gamma_hold=0.1, seed=0...\n"
     ]
    },
    {
     "name": "stdout",
     "output_type": "stream",
     "text": [
      "\t[926/1232]\tRL_CNN: gamma_trade=50, gamma_risk=10, gamma_hold=1, seed=0...\n"
     ]
    },
    {
     "name": "stdout",
     "output_type": "stream",
     "text": [
      "\t[927/1232]\tRL_CNN: gamma_trade=50, gamma_risk=10, gamma_hold=10, seed=0...\n"
     ]
    },
    {
     "name": "stdout",
     "output_type": "stream",
     "text": [
      "\t[928/1232]\tRL_CNN: gamma_trade=50, gamma_risk=10, gamma_hold=100, seed=0...\n"
     ]
    },
    {
     "name": "stdout",
     "output_type": "stream",
     "text": [
      "\t[929/1232]\tRL_CNN: gamma_trade=50, gamma_risk=10, gamma_hold=1000, seed=0...\n"
     ]
    },
    {
     "name": "stdout",
     "output_type": "stream",
     "text": [
      "\t[930/1232]\tRL_CNN: gamma_trade=50, gamma_risk=10, gamma_hold=10000, seed=0...\n"
     ]
    },
    {
     "name": "stdout",
     "output_type": "stream",
     "text": [
      "\t[931/1232]\tRL_CNN: gamma_trade=50, gamma_risk=10, gamma_hold=100000, seed=0...\n"
     ]
    },
    {
     "name": "stdout",
     "output_type": "stream",
     "text": [
      "\t[932/1232]\tRL_CNN: gamma_trade=50, gamma_risk=18, gamma_hold=0.1, seed=0...\n"
     ]
    },
    {
     "name": "stdout",
     "output_type": "stream",
     "text": [
      "\t[933/1232]\tRL_CNN: gamma_trade=50, gamma_risk=18, gamma_hold=1, seed=0...\n"
     ]
    },
    {
     "name": "stdout",
     "output_type": "stream",
     "text": [
      "\t[934/1232]\tRL_CNN: gamma_trade=50, gamma_risk=18, gamma_hold=10, seed=0...\n"
     ]
    },
    {
     "name": "stdout",
     "output_type": "stream",
     "text": [
      "\t[935/1232]\tRL_CNN: gamma_trade=50, gamma_risk=18, gamma_hold=100, seed=0...\n"
     ]
    },
    {
     "name": "stdout",
     "output_type": "stream",
     "text": [
      "\t[936/1232]\tRL_CNN: gamma_trade=50, gamma_risk=18, gamma_hold=1000, seed=0...\n"
     ]
    },
    {
     "name": "stdout",
     "output_type": "stream",
     "text": [
      "\t[937/1232]\tRL_CNN: gamma_trade=50, gamma_risk=18, gamma_hold=10000, seed=0...\n"
     ]
    },
    {
     "name": "stdout",
     "output_type": "stream",
     "text": [
      "\t[938/1232]\tRL_CNN: gamma_trade=50, gamma_risk=18, gamma_hold=100000, seed=0...\n"
     ]
    },
    {
     "name": "stdout",
     "output_type": "stream",
     "text": [
      "\t[939/1232]\tRL_CNN: gamma_trade=50, gamma_risk=32, gamma_hold=0.1, seed=0...\n"
     ]
    },
    {
     "name": "stdout",
     "output_type": "stream",
     "text": [
      "\t[940/1232]\tRL_CNN: gamma_trade=50, gamma_risk=32, gamma_hold=1, seed=0...\n"
     ]
    },
    {
     "name": "stdout",
     "output_type": "stream",
     "text": [
      "\t[941/1232]\tRL_CNN: gamma_trade=50, gamma_risk=32, gamma_hold=10, seed=0...\n"
     ]
    },
    {
     "name": "stdout",
     "output_type": "stream",
     "text": [
      "\t[942/1232]\tRL_CNN: gamma_trade=50, gamma_risk=32, gamma_hold=100, seed=0...\n"
     ]
    },
    {
     "name": "stdout",
     "output_type": "stream",
     "text": [
      "\t[943/1232]\tRL_CNN: gamma_trade=50, gamma_risk=32, gamma_hold=1000, seed=0...\n"
     ]
    },
    {
     "name": "stdout",
     "output_type": "stream",
     "text": [
      "\t[944/1232]\tRL_CNN: gamma_trade=50, gamma_risk=32, gamma_hold=10000, seed=0...\n"
     ]
    },
    {
     "name": "stdout",
     "output_type": "stream",
     "text": [
      "\t[945/1232]\tRL_CNN: gamma_trade=50, gamma_risk=32, gamma_hold=100000, seed=0...\n"
     ]
    },
    {
     "name": "stdout",
     "output_type": "stream",
     "text": [
      "\t[946/1232]\tRL_CNN: gamma_trade=50, gamma_risk=56, gamma_hold=0.1, seed=0...\n"
     ]
    },
    {
     "name": "stdout",
     "output_type": "stream",
     "text": [
      "\t[947/1232]\tRL_CNN: gamma_trade=50, gamma_risk=56, gamma_hold=1, seed=0...\n"
     ]
    },
    {
     "name": "stdout",
     "output_type": "stream",
     "text": [
      "\t[948/1232]\tRL_CNN: gamma_trade=50, gamma_risk=56, gamma_hold=10, seed=0...\n"
     ]
    },
    {
     "name": "stdout",
     "output_type": "stream",
     "text": [
      "\t[949/1232]\tRL_CNN: gamma_trade=50, gamma_risk=56, gamma_hold=100, seed=0...\n"
     ]
    },
    {
     "name": "stdout",
     "output_type": "stream",
     "text": [
      "\t[950/1232]\tRL_CNN: gamma_trade=50, gamma_risk=56, gamma_hold=1000, seed=0...\n"
     ]
    },
    {
     "name": "stdout",
     "output_type": "stream",
     "text": [
      "\t[951/1232]\tRL_CNN: gamma_trade=50, gamma_risk=56, gamma_hold=10000, seed=0...\n"
     ]
    },
    {
     "name": "stdout",
     "output_type": "stream",
     "text": [
      "\t[952/1232]\tRL_CNN: gamma_trade=50, gamma_risk=56, gamma_hold=100000, seed=0...\n"
     ]
    },
    {
     "name": "stdout",
     "output_type": "stream",
     "text": [
      "\t[953/1232]\tRL_CNN: gamma_trade=50, gamma_risk=100, gamma_hold=0.1, seed=0...\n"
     ]
    },
    {
     "name": "stdout",
     "output_type": "stream",
     "text": [
      "\t[954/1232]\tRL_CNN: gamma_trade=50, gamma_risk=100, gamma_hold=1, seed=0...\n"
     ]
    },
    {
     "name": "stdout",
     "output_type": "stream",
     "text": [
      "\t[955/1232]\tRL_CNN: gamma_trade=50, gamma_risk=100, gamma_hold=10, seed=0...\n"
     ]
    },
    {
     "name": "stdout",
     "output_type": "stream",
     "text": [
      "\t[956/1232]\tRL_CNN: gamma_trade=50, gamma_risk=100, gamma_hold=100, seed=0...\n"
     ]
    },
    {
     "name": "stdout",
     "output_type": "stream",
     "text": [
      "\t[957/1232]\tRL_CNN: gamma_trade=50, gamma_risk=100, gamma_hold=1000, seed=0...\n"
     ]
    },
    {
     "name": "stdout",
     "output_type": "stream",
     "text": [
      "\t[958/1232]\tRL_CNN: gamma_trade=50, gamma_risk=100, gamma_hold=10000, seed=0...\n"
     ]
    },
    {
     "name": "stdout",
     "output_type": "stream",
     "text": [
      "\t[959/1232]\tRL_CNN: gamma_trade=50, gamma_risk=100, gamma_hold=100000, seed=0...\n"
     ]
    },
    {
     "name": "stdout",
     "output_type": "stream",
     "text": [
      "\t[960/1232]\tRL_CNN: gamma_trade=50, gamma_risk=178, gamma_hold=0.1, seed=0...\n"
     ]
    },
    {
     "name": "stdout",
     "output_type": "stream",
     "text": [
      "\t[961/1232]\tRL_CNN: gamma_trade=50, gamma_risk=178, gamma_hold=1, seed=0...\n"
     ]
    },
    {
     "name": "stdout",
     "output_type": "stream",
     "text": [
      "\t[962/1232]\tRL_CNN: gamma_trade=50, gamma_risk=178, gamma_hold=10, seed=0...\n"
     ]
    },
    {
     "name": "stdout",
     "output_type": "stream",
     "text": [
      "\t[963/1232]\tRL_CNN: gamma_trade=50, gamma_risk=178, gamma_hold=100, seed=0...\n"
     ]
    },
    {
     "name": "stdout",
     "output_type": "stream",
     "text": [
      "\t[964/1232]\tRL_CNN: gamma_trade=50, gamma_risk=178, gamma_hold=1000, seed=0...\n"
     ]
    },
    {
     "name": "stdout",
     "output_type": "stream",
     "text": [
      "\t[965/1232]\tRL_CNN: gamma_trade=50, gamma_risk=178, gamma_hold=10000, seed=0...\n"
     ]
    },
    {
     "name": "stdout",
     "output_type": "stream",
     "text": [
      "\t[966/1232]\tRL_CNN: gamma_trade=50, gamma_risk=178, gamma_hold=100000, seed=0...\n"
     ]
    },
    {
     "name": "stdout",
     "output_type": "stream",
     "text": [
      "\t[967/1232]\tRL_CNN: gamma_trade=50, gamma_risk=316, gamma_hold=0.1, seed=0...\n"
     ]
    },
    {
     "name": "stdout",
     "output_type": "stream",
     "text": [
      "\t[968/1232]\tRL_CNN: gamma_trade=50, gamma_risk=316, gamma_hold=1, seed=0...\n"
     ]
    },
    {
     "name": "stdout",
     "output_type": "stream",
     "text": [
      "\t[969/1232]\tRL_CNN: gamma_trade=50, gamma_risk=316, gamma_hold=10, seed=0...\n"
     ]
    },
    {
     "name": "stdout",
     "output_type": "stream",
     "text": [
      "\t[970/1232]\tRL_CNN: gamma_trade=50, gamma_risk=316, gamma_hold=100, seed=0...\n"
     ]
    },
    {
     "name": "stdout",
     "output_type": "stream",
     "text": [
      "\t[971/1232]\tRL_CNN: gamma_trade=50, gamma_risk=316, gamma_hold=1000, seed=0...\n"
     ]
    },
    {
     "name": "stdout",
     "output_type": "stream",
     "text": [
      "\t[972/1232]\tRL_CNN: gamma_trade=50, gamma_risk=316, gamma_hold=10000, seed=0...\n"
     ]
    },
    {
     "name": "stdout",
     "output_type": "stream",
     "text": [
      "\t[973/1232]\tRL_CNN: gamma_trade=50, gamma_risk=316, gamma_hold=100000, seed=0...\n"
     ]
    },
    {
     "name": "stdout",
     "output_type": "stream",
     "text": [
      "\t[974/1232]\tRL_CNN: gamma_trade=50, gamma_risk=562, gamma_hold=0.1, seed=0...\n"
     ]
    },
    {
     "name": "stdout",
     "output_type": "stream",
     "text": [
      "\t[975/1232]\tRL_CNN: gamma_trade=50, gamma_risk=562, gamma_hold=1, seed=0...\n"
     ]
    },
    {
     "name": "stdout",
     "output_type": "stream",
     "text": [
      "\t[976/1232]\tRL_CNN: gamma_trade=50, gamma_risk=562, gamma_hold=10, seed=0...\n"
     ]
    },
    {
     "name": "stdout",
     "output_type": "stream",
     "text": [
      "\t[977/1232]\tRL_CNN: gamma_trade=50, gamma_risk=562, gamma_hold=100, seed=0...\n"
     ]
    },
    {
     "name": "stdout",
     "output_type": "stream",
     "text": [
      "\t[978/1232]\tRL_CNN: gamma_trade=50, gamma_risk=562, gamma_hold=1000, seed=0...\n"
     ]
    },
    {
     "name": "stdout",
     "output_type": "stream",
     "text": [
      "\t[979/1232]\tRL_CNN: gamma_trade=50, gamma_risk=562, gamma_hold=10000, seed=0...\n"
     ]
    },
    {
     "name": "stdout",
     "output_type": "stream",
     "text": [
      "\t[980/1232]\tRL_CNN: gamma_trade=50, gamma_risk=562, gamma_hold=100000, seed=0...\n"
     ]
    },
    {
     "name": "stdout",
     "output_type": "stream",
     "text": [
      "\t[981/1232]\tRL_CNN: gamma_trade=50, gamma_risk=1000, gamma_hold=0.1, seed=0...\n"
     ]
    },
    {
     "name": "stdout",
     "output_type": "stream",
     "text": [
      "\t[982/1232]\tRL_CNN: gamma_trade=50, gamma_risk=1000, gamma_hold=1, seed=0...\n"
     ]
    },
    {
     "name": "stdout",
     "output_type": "stream",
     "text": [
      "\t[983/1232]\tRL_CNN: gamma_trade=50, gamma_risk=1000, gamma_hold=10, seed=0...\n"
     ]
    },
    {
     "name": "stdout",
     "output_type": "stream",
     "text": [
      "\t[984/1232]\tRL_CNN: gamma_trade=50, gamma_risk=1000, gamma_hold=100, seed=0...\n"
     ]
    },
    {
     "name": "stdout",
     "output_type": "stream",
     "text": [
      "\t[985/1232]\tRL_CNN: gamma_trade=50, gamma_risk=1000, gamma_hold=1000, seed=0...\n"
     ]
    },
    {
     "name": "stdout",
     "output_type": "stream",
     "text": [
      "\t[986/1232]\tRL_CNN: gamma_trade=50, gamma_risk=1000, gamma_hold=10000, seed=0...\n"
     ]
    },
    {
     "name": "stdout",
     "output_type": "stream",
     "text": [
      "\t[987/1232]\tRL_CNN: gamma_trade=50, gamma_risk=1000, gamma_hold=100000, seed=0...\n"
     ]
    },
    {
     "name": "stdout",
     "output_type": "stream",
     "text": [
      "\t[988/1232]\tRL_CNN: gamma_trade=50, gamma_risk=5000, gamma_hold=0.1, seed=0...\n"
     ]
    },
    {
     "name": "stdout",
     "output_type": "stream",
     "text": [
      "\t[989/1232]\tRL_CNN: gamma_trade=50, gamma_risk=5000, gamma_hold=1, seed=0...\n"
     ]
    },
    {
     "name": "stdout",
     "output_type": "stream",
     "text": [
      "\t[990/1232]\tRL_CNN: gamma_trade=50, gamma_risk=5000, gamma_hold=10, seed=0...\n"
     ]
    },
    {
     "name": "stdout",
     "output_type": "stream",
     "text": [
      "\t[991/1232]\tRL_CNN: gamma_trade=50, gamma_risk=5000, gamma_hold=100, seed=0...\n"
     ]
    },
    {
     "name": "stdout",
     "output_type": "stream",
     "text": [
      "\t[992/1232]\tRL_CNN: gamma_trade=50, gamma_risk=5000, gamma_hold=1000, seed=0...\n"
     ]
    },
    {
     "name": "stdout",
     "output_type": "stream",
     "text": [
      "\t[993/1232]\tRL_CNN: gamma_trade=50, gamma_risk=5000, gamma_hold=10000, seed=0...\n"
     ]
    },
    {
     "name": "stdout",
     "output_type": "stream",
     "text": [
      "\t[994/1232]\tRL_CNN: gamma_trade=50, gamma_risk=5000, gamma_hold=100000, seed=0...\n"
     ]
    },
    {
     "name": "stdout",
     "output_type": "stream",
     "text": [
      "\t[995/1232]\tRL_CNN: gamma_trade=50, gamma_risk=10000, gamma_hold=0.1, seed=0...\n"
     ]
    },
    {
     "name": "stdout",
     "output_type": "stream",
     "text": [
      "\t[996/1232]\tRL_CNN: gamma_trade=50, gamma_risk=10000, gamma_hold=1, seed=0...\n"
     ]
    },
    {
     "name": "stdout",
     "output_type": "stream",
     "text": [
      "\t[997/1232]\tRL_CNN: gamma_trade=50, gamma_risk=10000, gamma_hold=10, seed=0...\n"
     ]
    },
    {
     "name": "stdout",
     "output_type": "stream",
     "text": [
      "\t[998/1232]\tRL_CNN: gamma_trade=50, gamma_risk=10000, gamma_hold=100, seed=0...\n"
     ]
    },
    {
     "name": "stdout",
     "output_type": "stream",
     "text": [
      "\t[999/1232]\tRL_CNN: gamma_trade=50, gamma_risk=10000, gamma_hold=1000, seed=0...\n"
     ]
    },
    {
     "name": "stdout",
     "output_type": "stream",
     "text": [
      "\t[1000/1232]\tRL_CNN: gamma_trade=50, gamma_risk=10000, gamma_hold=10000, seed=0...\n"
     ]
    },
    {
     "name": "stdout",
     "output_type": "stream",
     "text": [
      "\t[1001/1232]\tRL_CNN: gamma_trade=50, gamma_risk=10000, gamma_hold=100000, seed=0...\n"
     ]
    },
    {
     "name": "stdout",
     "output_type": "stream",
     "text": [
      "\t[1002/1232]\tRL_CNN: gamma_trade=50, gamma_risk=100000, gamma_hold=0.1, seed=0...\n"
     ]
    },
    {
     "name": "stdout",
     "output_type": "stream",
     "text": [
      "\t[1003/1232]\tRL_CNN: gamma_trade=50, gamma_risk=100000, gamma_hold=1, seed=0...\n"
     ]
    },
    {
     "name": "stdout",
     "output_type": "stream",
     "text": [
      "\t[1004/1232]\tRL_CNN: gamma_trade=50, gamma_risk=100000, gamma_hold=10, seed=0...\n"
     ]
    },
    {
     "name": "stdout",
     "output_type": "stream",
     "text": [
      "\t[1005/1232]\tRL_CNN: gamma_trade=50, gamma_risk=100000, gamma_hold=100, seed=0...\n"
     ]
    },
    {
     "name": "stdout",
     "output_type": "stream",
     "text": [
      "\t[1006/1232]\tRL_CNN: gamma_trade=50, gamma_risk=100000, gamma_hold=1000, seed=0...\n"
     ]
    },
    {
     "name": "stdout",
     "output_type": "stream",
     "text": [
      "\t[1007/1232]\tRL_CNN: gamma_trade=50, gamma_risk=100000, gamma_hold=10000, seed=0...\n"
     ]
    },
    {
     "name": "stdout",
     "output_type": "stream",
     "text": [
      "\t[1008/1232]\tRL_CNN: gamma_trade=50, gamma_risk=100000, gamma_hold=100000, seed=0...\n"
     ]
    },
    {
     "name": "stdout",
     "output_type": "stream",
     "text": [
      "\t[1009/1232]\tRL_CNN: gamma_trade=100, gamma_risk=1, gamma_hold=0.1, seed=0...\n"
     ]
    },
    {
     "name": "stdout",
     "output_type": "stream",
     "text": [
      "\t[1010/1232]\tRL_CNN: gamma_trade=100, gamma_risk=1, gamma_hold=1, seed=0...\n"
     ]
    },
    {
     "name": "stdout",
     "output_type": "stream",
     "text": [
      "\t[1011/1232]\tRL_CNN: gamma_trade=100, gamma_risk=1, gamma_hold=10, seed=0...\n"
     ]
    },
    {
     "name": "stdout",
     "output_type": "stream",
     "text": [
      "\t[1012/1232]\tRL_CNN: gamma_trade=100, gamma_risk=1, gamma_hold=100, seed=0...\n"
     ]
    },
    {
     "name": "stdout",
     "output_type": "stream",
     "text": [
      "\t[1013/1232]\tRL_CNN: gamma_trade=100, gamma_risk=1, gamma_hold=1000, seed=0...\n"
     ]
    },
    {
     "name": "stdout",
     "output_type": "stream",
     "text": [
      "\t[1014/1232]\tRL_CNN: gamma_trade=100, gamma_risk=1, gamma_hold=10000, seed=0...\n"
     ]
    },
    {
     "name": "stdout",
     "output_type": "stream",
     "text": [
      "\t[1015/1232]\tRL_CNN: gamma_trade=100, gamma_risk=1, gamma_hold=100000, seed=0...\n"
     ]
    },
    {
     "name": "stdout",
     "output_type": "stream",
     "text": [
      "\t[1016/1232]\tRL_CNN: gamma_trade=100, gamma_risk=2, gamma_hold=0.1, seed=0...\n"
     ]
    },
    {
     "name": "stdout",
     "output_type": "stream",
     "text": [
      "\t[1017/1232]\tRL_CNN: gamma_trade=100, gamma_risk=2, gamma_hold=1, seed=0...\n"
     ]
    },
    {
     "name": "stdout",
     "output_type": "stream",
     "text": [
      "\t[1018/1232]\tRL_CNN: gamma_trade=100, gamma_risk=2, gamma_hold=10, seed=0...\n"
     ]
    },
    {
     "name": "stdout",
     "output_type": "stream",
     "text": [
      "\t[1019/1232]\tRL_CNN: gamma_trade=100, gamma_risk=2, gamma_hold=100, seed=0...\n"
     ]
    },
    {
     "name": "stdout",
     "output_type": "stream",
     "text": [
      "\t[1020/1232]\tRL_CNN: gamma_trade=100, gamma_risk=2, gamma_hold=1000, seed=0...\n"
     ]
    },
    {
     "name": "stdout",
     "output_type": "stream",
     "text": [
      "\t[1021/1232]\tRL_CNN: gamma_trade=100, gamma_risk=2, gamma_hold=10000, seed=0...\n"
     ]
    },
    {
     "name": "stdout",
     "output_type": "stream",
     "text": [
      "\t[1022/1232]\tRL_CNN: gamma_trade=100, gamma_risk=2, gamma_hold=100000, seed=0...\n"
     ]
    },
    {
     "name": "stdout",
     "output_type": "stream",
     "text": [
      "\t[1023/1232]\tRL_CNN: gamma_trade=100, gamma_risk=3, gamma_hold=0.1, seed=0...\n"
     ]
    },
    {
     "name": "stdout",
     "output_type": "stream",
     "text": [
      "\t[1024/1232]\tRL_CNN: gamma_trade=100, gamma_risk=3, gamma_hold=1, seed=0...\n"
     ]
    },
    {
     "name": "stdout",
     "output_type": "stream",
     "text": [
      "\t[1025/1232]\tRL_CNN: gamma_trade=100, gamma_risk=3, gamma_hold=10, seed=0...\n"
     ]
    },
    {
     "name": "stdout",
     "output_type": "stream",
     "text": [
      "\t[1026/1232]\tRL_CNN: gamma_trade=100, gamma_risk=3, gamma_hold=100, seed=0...\n"
     ]
    },
    {
     "name": "stdout",
     "output_type": "stream",
     "text": [
      "\t[1027/1232]\tRL_CNN: gamma_trade=100, gamma_risk=3, gamma_hold=1000, seed=0...\n"
     ]
    },
    {
     "name": "stdout",
     "output_type": "stream",
     "text": [
      "\t[1028/1232]\tRL_CNN: gamma_trade=100, gamma_risk=3, gamma_hold=10000, seed=0...\n"
     ]
    },
    {
     "name": "stdout",
     "output_type": "stream",
     "text": [
      "\t[1029/1232]\tRL_CNN: gamma_trade=100, gamma_risk=3, gamma_hold=100000, seed=0...\n"
     ]
    },
    {
     "name": "stdout",
     "output_type": "stream",
     "text": [
      "\t[1030/1232]\tRL_CNN: gamma_trade=100, gamma_risk=6, gamma_hold=0.1, seed=0...\n"
     ]
    },
    {
     "name": "stdout",
     "output_type": "stream",
     "text": [
      "\t[1031/1232]\tRL_CNN: gamma_trade=100, gamma_risk=6, gamma_hold=1, seed=0...\n"
     ]
    },
    {
     "name": "stdout",
     "output_type": "stream",
     "text": [
      "\t[1032/1232]\tRL_CNN: gamma_trade=100, gamma_risk=6, gamma_hold=10, seed=0...\n"
     ]
    },
    {
     "name": "stdout",
     "output_type": "stream",
     "text": [
      "\t[1033/1232]\tRL_CNN: gamma_trade=100, gamma_risk=6, gamma_hold=100, seed=0...\n"
     ]
    },
    {
     "name": "stdout",
     "output_type": "stream",
     "text": [
      "\t[1034/1232]\tRL_CNN: gamma_trade=100, gamma_risk=6, gamma_hold=1000, seed=0...\n"
     ]
    },
    {
     "name": "stdout",
     "output_type": "stream",
     "text": [
      "\t[1035/1232]\tRL_CNN: gamma_trade=100, gamma_risk=6, gamma_hold=10000, seed=0...\n"
     ]
    },
    {
     "name": "stdout",
     "output_type": "stream",
     "text": [
      "\t[1036/1232]\tRL_CNN: gamma_trade=100, gamma_risk=6, gamma_hold=100000, seed=0...\n"
     ]
    },
    {
     "name": "stdout",
     "output_type": "stream",
     "text": [
      "\t[1037/1232]\tRL_CNN: gamma_trade=100, gamma_risk=10, gamma_hold=0.1, seed=0...\n"
     ]
    },
    {
     "name": "stdout",
     "output_type": "stream",
     "text": [
      "\t[1038/1232]\tRL_CNN: gamma_trade=100, gamma_risk=10, gamma_hold=1, seed=0...\n"
     ]
    },
    {
     "name": "stdout",
     "output_type": "stream",
     "text": [
      "\t[1039/1232]\tRL_CNN: gamma_trade=100, gamma_risk=10, gamma_hold=10, seed=0...\n"
     ]
    },
    {
     "name": "stdout",
     "output_type": "stream",
     "text": [
      "\t[1040/1232]\tRL_CNN: gamma_trade=100, gamma_risk=10, gamma_hold=100, seed=0...\n"
     ]
    },
    {
     "name": "stdout",
     "output_type": "stream",
     "text": [
      "\t[1041/1232]\tRL_CNN: gamma_trade=100, gamma_risk=10, gamma_hold=1000, seed=0...\n"
     ]
    },
    {
     "name": "stdout",
     "output_type": "stream",
     "text": [
      "\t[1042/1232]\tRL_CNN: gamma_trade=100, gamma_risk=10, gamma_hold=10000, seed=0...\n"
     ]
    },
    {
     "name": "stdout",
     "output_type": "stream",
     "text": [
      "\t[1043/1232]\tRL_CNN: gamma_trade=100, gamma_risk=10, gamma_hold=100000, seed=0...\n"
     ]
    },
    {
     "name": "stdout",
     "output_type": "stream",
     "text": [
      "\t[1044/1232]\tRL_CNN: gamma_trade=100, gamma_risk=18, gamma_hold=0.1, seed=0...\n"
     ]
    },
    {
     "name": "stdout",
     "output_type": "stream",
     "text": [
      "\t[1045/1232]\tRL_CNN: gamma_trade=100, gamma_risk=18, gamma_hold=1, seed=0...\n"
     ]
    },
    {
     "name": "stdout",
     "output_type": "stream",
     "text": [
      "\t[1046/1232]\tRL_CNN: gamma_trade=100, gamma_risk=18, gamma_hold=10, seed=0...\n"
     ]
    },
    {
     "name": "stdout",
     "output_type": "stream",
     "text": [
      "\t[1047/1232]\tRL_CNN: gamma_trade=100, gamma_risk=18, gamma_hold=100, seed=0...\n"
     ]
    },
    {
     "name": "stdout",
     "output_type": "stream",
     "text": [
      "\t[1048/1232]\tRL_CNN: gamma_trade=100, gamma_risk=18, gamma_hold=1000, seed=0...\n"
     ]
    },
    {
     "name": "stdout",
     "output_type": "stream",
     "text": [
      "\t[1049/1232]\tRL_CNN: gamma_trade=100, gamma_risk=18, gamma_hold=10000, seed=0...\n"
     ]
    },
    {
     "name": "stdout",
     "output_type": "stream",
     "text": [
      "\t[1050/1232]\tRL_CNN: gamma_trade=100, gamma_risk=18, gamma_hold=100000, seed=0...\n"
     ]
    },
    {
     "name": "stdout",
     "output_type": "stream",
     "text": [
      "\t[1051/1232]\tRL_CNN: gamma_trade=100, gamma_risk=32, gamma_hold=0.1, seed=0...\n"
     ]
    },
    {
     "name": "stdout",
     "output_type": "stream",
     "text": [
      "\t[1052/1232]\tRL_CNN: gamma_trade=100, gamma_risk=32, gamma_hold=1, seed=0...\n"
     ]
    },
    {
     "name": "stdout",
     "output_type": "stream",
     "text": [
      "\t[1053/1232]\tRL_CNN: gamma_trade=100, gamma_risk=32, gamma_hold=10, seed=0...\n"
     ]
    },
    {
     "name": "stdout",
     "output_type": "stream",
     "text": [
      "\t[1054/1232]\tRL_CNN: gamma_trade=100, gamma_risk=32, gamma_hold=100, seed=0...\n"
     ]
    },
    {
     "name": "stdout",
     "output_type": "stream",
     "text": [
      "\t[1055/1232]\tRL_CNN: gamma_trade=100, gamma_risk=32, gamma_hold=1000, seed=0...\n"
     ]
    },
    {
     "name": "stdout",
     "output_type": "stream",
     "text": [
      "\t[1056/1232]\tRL_CNN: gamma_trade=100, gamma_risk=32, gamma_hold=10000, seed=0...\n"
     ]
    },
    {
     "name": "stdout",
     "output_type": "stream",
     "text": [
      "\t[1057/1232]\tRL_CNN: gamma_trade=100, gamma_risk=32, gamma_hold=100000, seed=0...\n"
     ]
    },
    {
     "name": "stdout",
     "output_type": "stream",
     "text": [
      "\t[1058/1232]\tRL_CNN: gamma_trade=100, gamma_risk=56, gamma_hold=0.1, seed=0...\n"
     ]
    },
    {
     "name": "stdout",
     "output_type": "stream",
     "text": [
      "\t[1059/1232]\tRL_CNN: gamma_trade=100, gamma_risk=56, gamma_hold=1, seed=0...\n"
     ]
    },
    {
     "name": "stdout",
     "output_type": "stream",
     "text": [
      "\t[1060/1232]\tRL_CNN: gamma_trade=100, gamma_risk=56, gamma_hold=10, seed=0...\n"
     ]
    },
    {
     "name": "stdout",
     "output_type": "stream",
     "text": [
      "\t[1061/1232]\tRL_CNN: gamma_trade=100, gamma_risk=56, gamma_hold=100, seed=0...\n"
     ]
    },
    {
     "name": "stdout",
     "output_type": "stream",
     "text": [
      "\t[1062/1232]\tRL_CNN: gamma_trade=100, gamma_risk=56, gamma_hold=1000, seed=0...\n"
     ]
    },
    {
     "name": "stdout",
     "output_type": "stream",
     "text": [
      "\t[1063/1232]\tRL_CNN: gamma_trade=100, gamma_risk=56, gamma_hold=10000, seed=0...\n"
     ]
    },
    {
     "name": "stdout",
     "output_type": "stream",
     "text": [
      "\t[1064/1232]\tRL_CNN: gamma_trade=100, gamma_risk=56, gamma_hold=100000, seed=0...\n"
     ]
    },
    {
     "name": "stdout",
     "output_type": "stream",
     "text": [
      "\t[1065/1232]\tRL_CNN: gamma_trade=100, gamma_risk=100, gamma_hold=0.1, seed=0...\n"
     ]
    },
    {
     "name": "stdout",
     "output_type": "stream",
     "text": [
      "\t[1066/1232]\tRL_CNN: gamma_trade=100, gamma_risk=100, gamma_hold=1, seed=0...\n"
     ]
    },
    {
     "name": "stdout",
     "output_type": "stream",
     "text": [
      "\t[1067/1232]\tRL_CNN: gamma_trade=100, gamma_risk=100, gamma_hold=10, seed=0...\n"
     ]
    },
    {
     "name": "stdout",
     "output_type": "stream",
     "text": [
      "\t[1068/1232]\tRL_CNN: gamma_trade=100, gamma_risk=100, gamma_hold=100, seed=0...\n"
     ]
    },
    {
     "name": "stdout",
     "output_type": "stream",
     "text": [
      "\t[1069/1232]\tRL_CNN: gamma_trade=100, gamma_risk=100, gamma_hold=1000, seed=0...\n",
      "**error for model: trade_100_risk_100_hold_1000\n",
      "\t[1070/1232]\tRL_CNN: gamma_trade=100, gamma_risk=100, gamma_hold=10000, seed=0...\n"
     ]
    },
    {
     "name": "stdout",
     "output_type": "stream",
     "text": [
      "\t[1071/1232]\tRL_CNN: gamma_trade=100, gamma_risk=100, gamma_hold=100000, seed=0...\n"
     ]
    },
    {
     "name": "stdout",
     "output_type": "stream",
     "text": [
      "\t[1072/1232]\tRL_CNN: gamma_trade=100, gamma_risk=178, gamma_hold=0.1, seed=0...\n"
     ]
    },
    {
     "name": "stdout",
     "output_type": "stream",
     "text": [
      "\t[1073/1232]\tRL_CNN: gamma_trade=100, gamma_risk=178, gamma_hold=1, seed=0...\n"
     ]
    },
    {
     "name": "stdout",
     "output_type": "stream",
     "text": [
      "\t[1074/1232]\tRL_CNN: gamma_trade=100, gamma_risk=178, gamma_hold=10, seed=0...\n"
     ]
    },
    {
     "name": "stdout",
     "output_type": "stream",
     "text": [
      "\t[1075/1232]\tRL_CNN: gamma_trade=100, gamma_risk=178, gamma_hold=100, seed=0...\n"
     ]
    },
    {
     "name": "stdout",
     "output_type": "stream",
     "text": [
      "\t[1076/1232]\tRL_CNN: gamma_trade=100, gamma_risk=178, gamma_hold=1000, seed=0...\n"
     ]
    },
    {
     "name": "stdout",
     "output_type": "stream",
     "text": [
      "\t[1077/1232]\tRL_CNN: gamma_trade=100, gamma_risk=178, gamma_hold=10000, seed=0...\n"
     ]
    },
    {
     "name": "stdout",
     "output_type": "stream",
     "text": [
      "\t[1078/1232]\tRL_CNN: gamma_trade=100, gamma_risk=178, gamma_hold=100000, seed=0...\n"
     ]
    },
    {
     "name": "stdout",
     "output_type": "stream",
     "text": [
      "\t[1079/1232]\tRL_CNN: gamma_trade=100, gamma_risk=316, gamma_hold=0.1, seed=0...\n"
     ]
    },
    {
     "name": "stdout",
     "output_type": "stream",
     "text": [
      "\t[1080/1232]\tRL_CNN: gamma_trade=100, gamma_risk=316, gamma_hold=1, seed=0...\n"
     ]
    },
    {
     "name": "stdout",
     "output_type": "stream",
     "text": [
      "\t[1081/1232]\tRL_CNN: gamma_trade=100, gamma_risk=316, gamma_hold=10, seed=0...\n"
     ]
    },
    {
     "name": "stdout",
     "output_type": "stream",
     "text": [
      "\t[1082/1232]\tRL_CNN: gamma_trade=100, gamma_risk=316, gamma_hold=100, seed=0...\n"
     ]
    },
    {
     "name": "stdout",
     "output_type": "stream",
     "text": [
      "\t[1083/1232]\tRL_CNN: gamma_trade=100, gamma_risk=316, gamma_hold=1000, seed=0...\n"
     ]
    },
    {
     "name": "stdout",
     "output_type": "stream",
     "text": [
      "\t[1084/1232]\tRL_CNN: gamma_trade=100, gamma_risk=316, gamma_hold=10000, seed=0...\n"
     ]
    },
    {
     "name": "stdout",
     "output_type": "stream",
     "text": [
      "\t[1085/1232]\tRL_CNN: gamma_trade=100, gamma_risk=316, gamma_hold=100000, seed=0...\n"
     ]
    },
    {
     "name": "stdout",
     "output_type": "stream",
     "text": [
      "\t[1086/1232]\tRL_CNN: gamma_trade=100, gamma_risk=562, gamma_hold=0.1, seed=0...\n"
     ]
    },
    {
     "name": "stdout",
     "output_type": "stream",
     "text": [
      "\t[1087/1232]\tRL_CNN: gamma_trade=100, gamma_risk=562, gamma_hold=1, seed=0...\n"
     ]
    },
    {
     "name": "stdout",
     "output_type": "stream",
     "text": [
      "\t[1088/1232]\tRL_CNN: gamma_trade=100, gamma_risk=562, gamma_hold=10, seed=0...\n"
     ]
    },
    {
     "name": "stdout",
     "output_type": "stream",
     "text": [
      "\t[1089/1232]\tRL_CNN: gamma_trade=100, gamma_risk=562, gamma_hold=100, seed=0...\n"
     ]
    },
    {
     "name": "stdout",
     "output_type": "stream",
     "text": [
      "\t[1090/1232]\tRL_CNN: gamma_trade=100, gamma_risk=562, gamma_hold=1000, seed=0...\n"
     ]
    },
    {
     "name": "stdout",
     "output_type": "stream",
     "text": [
      "\t[1091/1232]\tRL_CNN: gamma_trade=100, gamma_risk=562, gamma_hold=10000, seed=0...\n"
     ]
    },
    {
     "name": "stdout",
     "output_type": "stream",
     "text": [
      "\t[1092/1232]\tRL_CNN: gamma_trade=100, gamma_risk=562, gamma_hold=100000, seed=0...\n"
     ]
    },
    {
     "name": "stdout",
     "output_type": "stream",
     "text": [
      "\t[1093/1232]\tRL_CNN: gamma_trade=100, gamma_risk=1000, gamma_hold=0.1, seed=0...\n"
     ]
    },
    {
     "name": "stdout",
     "output_type": "stream",
     "text": [
      "\t[1094/1232]\tRL_CNN: gamma_trade=100, gamma_risk=1000, gamma_hold=1, seed=0...\n"
     ]
    },
    {
     "name": "stdout",
     "output_type": "stream",
     "text": [
      "\t[1095/1232]\tRL_CNN: gamma_trade=100, gamma_risk=1000, gamma_hold=10, seed=0...\n"
     ]
    },
    {
     "name": "stdout",
     "output_type": "stream",
     "text": [
      "\t[1096/1232]\tRL_CNN: gamma_trade=100, gamma_risk=1000, gamma_hold=100, seed=0...\n"
     ]
    },
    {
     "name": "stdout",
     "output_type": "stream",
     "text": [
      "\t[1097/1232]\tRL_CNN: gamma_trade=100, gamma_risk=1000, gamma_hold=1000, seed=0...\n"
     ]
    },
    {
     "name": "stdout",
     "output_type": "stream",
     "text": [
      "\t[1098/1232]\tRL_CNN: gamma_trade=100, gamma_risk=1000, gamma_hold=10000, seed=0...\n"
     ]
    },
    {
     "name": "stdout",
     "output_type": "stream",
     "text": [
      "\t[1099/1232]\tRL_CNN: gamma_trade=100, gamma_risk=1000, gamma_hold=100000, seed=0...\n"
     ]
    },
    {
     "name": "stdout",
     "output_type": "stream",
     "text": [
      "\t[1100/1232]\tRL_CNN: gamma_trade=100, gamma_risk=5000, gamma_hold=0.1, seed=0...\n"
     ]
    },
    {
     "name": "stdout",
     "output_type": "stream",
     "text": [
      "\t[1101/1232]\tRL_CNN: gamma_trade=100, gamma_risk=5000, gamma_hold=1, seed=0...\n"
     ]
    },
    {
     "name": "stdout",
     "output_type": "stream",
     "text": [
      "\t[1102/1232]\tRL_CNN: gamma_trade=100, gamma_risk=5000, gamma_hold=10, seed=0...\n"
     ]
    },
    {
     "name": "stdout",
     "output_type": "stream",
     "text": [
      "\t[1103/1232]\tRL_CNN: gamma_trade=100, gamma_risk=5000, gamma_hold=100, seed=0...\n"
     ]
    },
    {
     "name": "stdout",
     "output_type": "stream",
     "text": [
      "\t[1104/1232]\tRL_CNN: gamma_trade=100, gamma_risk=5000, gamma_hold=1000, seed=0...\n"
     ]
    },
    {
     "name": "stdout",
     "output_type": "stream",
     "text": [
      "\t[1105/1232]\tRL_CNN: gamma_trade=100, gamma_risk=5000, gamma_hold=10000, seed=0...\n"
     ]
    },
    {
     "name": "stdout",
     "output_type": "stream",
     "text": [
      "\t[1106/1232]\tRL_CNN: gamma_trade=100, gamma_risk=5000, gamma_hold=100000, seed=0...\n"
     ]
    },
    {
     "name": "stdout",
     "output_type": "stream",
     "text": [
      "\t[1107/1232]\tRL_CNN: gamma_trade=100, gamma_risk=10000, gamma_hold=0.1, seed=0...\n"
     ]
    },
    {
     "name": "stdout",
     "output_type": "stream",
     "text": [
      "\t[1108/1232]\tRL_CNN: gamma_trade=100, gamma_risk=10000, gamma_hold=1, seed=0...\n"
     ]
    },
    {
     "name": "stdout",
     "output_type": "stream",
     "text": [
      "\t[1109/1232]\tRL_CNN: gamma_trade=100, gamma_risk=10000, gamma_hold=10, seed=0...\n"
     ]
    },
    {
     "name": "stdout",
     "output_type": "stream",
     "text": [
      "\t[1110/1232]\tRL_CNN: gamma_trade=100, gamma_risk=10000, gamma_hold=100, seed=0...\n"
     ]
    },
    {
     "name": "stdout",
     "output_type": "stream",
     "text": [
      "\t[1111/1232]\tRL_CNN: gamma_trade=100, gamma_risk=10000, gamma_hold=1000, seed=0...\n"
     ]
    },
    {
     "name": "stdout",
     "output_type": "stream",
     "text": [
      "\t[1112/1232]\tRL_CNN: gamma_trade=100, gamma_risk=10000, gamma_hold=10000, seed=0...\n"
     ]
    },
    {
     "name": "stdout",
     "output_type": "stream",
     "text": [
      "\t[1113/1232]\tRL_CNN: gamma_trade=100, gamma_risk=10000, gamma_hold=100000, seed=0...\n"
     ]
    },
    {
     "name": "stdout",
     "output_type": "stream",
     "text": [
      "\t[1114/1232]\tRL_CNN: gamma_trade=100, gamma_risk=100000, gamma_hold=0.1, seed=0...\n"
     ]
    },
    {
     "name": "stdout",
     "output_type": "stream",
     "text": [
      "\t[1115/1232]\tRL_CNN: gamma_trade=100, gamma_risk=100000, gamma_hold=1, seed=0...\n"
     ]
    },
    {
     "name": "stdout",
     "output_type": "stream",
     "text": [
      "\t[1116/1232]\tRL_CNN: gamma_trade=100, gamma_risk=100000, gamma_hold=10, seed=0...\n"
     ]
    },
    {
     "name": "stdout",
     "output_type": "stream",
     "text": [
      "\t[1117/1232]\tRL_CNN: gamma_trade=100, gamma_risk=100000, gamma_hold=100, seed=0...\n"
     ]
    },
    {
     "name": "stdout",
     "output_type": "stream",
     "text": [
      "\t[1118/1232]\tRL_CNN: gamma_trade=100, gamma_risk=100000, gamma_hold=1000, seed=0...\n"
     ]
    },
    {
     "name": "stdout",
     "output_type": "stream",
     "text": [
      "\t[1119/1232]\tRL_CNN: gamma_trade=100, gamma_risk=100000, gamma_hold=10000, seed=0...\n"
     ]
    },
    {
     "name": "stdout",
     "output_type": "stream",
     "text": [
      "\t[1120/1232]\tRL_CNN: gamma_trade=100, gamma_risk=100000, gamma_hold=100000, seed=0...\n"
     ]
    },
    {
     "name": "stdout",
     "output_type": "stream",
     "text": [
      "\t[1121/1232]\tRL_CNN: gamma_trade=1000, gamma_risk=1, gamma_hold=0.1, seed=0...\n"
     ]
    },
    {
     "name": "stdout",
     "output_type": "stream",
     "text": [
      "\t[1122/1232]\tRL_CNN: gamma_trade=1000, gamma_risk=1, gamma_hold=1, seed=0...\n"
     ]
    },
    {
     "name": "stdout",
     "output_type": "stream",
     "text": [
      "\t[1123/1232]\tRL_CNN: gamma_trade=1000, gamma_risk=1, gamma_hold=10, seed=0...\n"
     ]
    },
    {
     "name": "stdout",
     "output_type": "stream",
     "text": [
      "\t[1124/1232]\tRL_CNN: gamma_trade=1000, gamma_risk=1, gamma_hold=100, seed=0...\n"
     ]
    },
    {
     "name": "stdout",
     "output_type": "stream",
     "text": [
      "\t[1125/1232]\tRL_CNN: gamma_trade=1000, gamma_risk=1, gamma_hold=1000, seed=0...\n"
     ]
    },
    {
     "name": "stdout",
     "output_type": "stream",
     "text": [
      "\t[1126/1232]\tRL_CNN: gamma_trade=1000, gamma_risk=1, gamma_hold=10000, seed=0...\n"
     ]
    },
    {
     "name": "stdout",
     "output_type": "stream",
     "text": [
      "\t[1127/1232]\tRL_CNN: gamma_trade=1000, gamma_risk=1, gamma_hold=100000, seed=0...\n"
     ]
    },
    {
     "name": "stdout",
     "output_type": "stream",
     "text": [
      "\t[1128/1232]\tRL_CNN: gamma_trade=1000, gamma_risk=2, gamma_hold=0.1, seed=0...\n"
     ]
    },
    {
     "name": "stdout",
     "output_type": "stream",
     "text": [
      "\t[1129/1232]\tRL_CNN: gamma_trade=1000, gamma_risk=2, gamma_hold=1, seed=0...\n"
     ]
    },
    {
     "name": "stdout",
     "output_type": "stream",
     "text": [
      "\t[1130/1232]\tRL_CNN: gamma_trade=1000, gamma_risk=2, gamma_hold=10, seed=0...\n"
     ]
    },
    {
     "name": "stdout",
     "output_type": "stream",
     "text": [
      "\t[1131/1232]\tRL_CNN: gamma_trade=1000, gamma_risk=2, gamma_hold=100, seed=0...\n"
     ]
    },
    {
     "name": "stdout",
     "output_type": "stream",
     "text": [
      "\t[1132/1232]\tRL_CNN: gamma_trade=1000, gamma_risk=2, gamma_hold=1000, seed=0...\n"
     ]
    },
    {
     "name": "stdout",
     "output_type": "stream",
     "text": [
      "\t[1133/1232]\tRL_CNN: gamma_trade=1000, gamma_risk=2, gamma_hold=10000, seed=0...\n"
     ]
    },
    {
     "name": "stdout",
     "output_type": "stream",
     "text": [
      "\t[1134/1232]\tRL_CNN: gamma_trade=1000, gamma_risk=2, gamma_hold=100000, seed=0...\n"
     ]
    },
    {
     "name": "stdout",
     "output_type": "stream",
     "text": [
      "\t[1135/1232]\tRL_CNN: gamma_trade=1000, gamma_risk=3, gamma_hold=0.1, seed=0...\n"
     ]
    },
    {
     "name": "stdout",
     "output_type": "stream",
     "text": [
      "\t[1136/1232]\tRL_CNN: gamma_trade=1000, gamma_risk=3, gamma_hold=1, seed=0...\n"
     ]
    },
    {
     "name": "stdout",
     "output_type": "stream",
     "text": [
      "\t[1137/1232]\tRL_CNN: gamma_trade=1000, gamma_risk=3, gamma_hold=10, seed=0...\n"
     ]
    },
    {
     "name": "stdout",
     "output_type": "stream",
     "text": [
      "\t[1138/1232]\tRL_CNN: gamma_trade=1000, gamma_risk=3, gamma_hold=100, seed=0...\n"
     ]
    },
    {
     "name": "stdout",
     "output_type": "stream",
     "text": [
      "\t[1139/1232]\tRL_CNN: gamma_trade=1000, gamma_risk=3, gamma_hold=1000, seed=0...\n"
     ]
    },
    {
     "name": "stdout",
     "output_type": "stream",
     "text": [
      "\t[1140/1232]\tRL_CNN: gamma_trade=1000, gamma_risk=3, gamma_hold=10000, seed=0...\n"
     ]
    },
    {
     "name": "stdout",
     "output_type": "stream",
     "text": [
      "\t[1141/1232]\tRL_CNN: gamma_trade=1000, gamma_risk=3, gamma_hold=100000, seed=0...\n"
     ]
    },
    {
     "name": "stdout",
     "output_type": "stream",
     "text": [
      "\t[1142/1232]\tRL_CNN: gamma_trade=1000, gamma_risk=6, gamma_hold=0.1, seed=0...\n"
     ]
    },
    {
     "name": "stdout",
     "output_type": "stream",
     "text": [
      "\t[1143/1232]\tRL_CNN: gamma_trade=1000, gamma_risk=6, gamma_hold=1, seed=0...\n"
     ]
    },
    {
     "name": "stdout",
     "output_type": "stream",
     "text": [
      "\t[1144/1232]\tRL_CNN: gamma_trade=1000, gamma_risk=6, gamma_hold=10, seed=0...\n"
     ]
    },
    {
     "name": "stdout",
     "output_type": "stream",
     "text": [
      "\t[1145/1232]\tRL_CNN: gamma_trade=1000, gamma_risk=6, gamma_hold=100, seed=0...\n"
     ]
    },
    {
     "name": "stdout",
     "output_type": "stream",
     "text": [
      "\t[1146/1232]\tRL_CNN: gamma_trade=1000, gamma_risk=6, gamma_hold=1000, seed=0...\n"
     ]
    },
    {
     "name": "stdout",
     "output_type": "stream",
     "text": [
      "\t[1147/1232]\tRL_CNN: gamma_trade=1000, gamma_risk=6, gamma_hold=10000, seed=0...\n"
     ]
    },
    {
     "name": "stdout",
     "output_type": "stream",
     "text": [
      "\t[1148/1232]\tRL_CNN: gamma_trade=1000, gamma_risk=6, gamma_hold=100000, seed=0...\n"
     ]
    },
    {
     "name": "stdout",
     "output_type": "stream",
     "text": [
      "\t[1149/1232]\tRL_CNN: gamma_trade=1000, gamma_risk=10, gamma_hold=0.1, seed=0...\n"
     ]
    },
    {
     "name": "stdout",
     "output_type": "stream",
     "text": [
      "\t[1150/1232]\tRL_CNN: gamma_trade=1000, gamma_risk=10, gamma_hold=1, seed=0...\n"
     ]
    },
    {
     "name": "stdout",
     "output_type": "stream",
     "text": [
      "\t[1151/1232]\tRL_CNN: gamma_trade=1000, gamma_risk=10, gamma_hold=10, seed=0...\n"
     ]
    },
    {
     "name": "stdout",
     "output_type": "stream",
     "text": [
      "\t[1152/1232]\tRL_CNN: gamma_trade=1000, gamma_risk=10, gamma_hold=100, seed=0...\n"
     ]
    },
    {
     "name": "stdout",
     "output_type": "stream",
     "text": [
      "\t[1153/1232]\tRL_CNN: gamma_trade=1000, gamma_risk=10, gamma_hold=1000, seed=0...\n"
     ]
    },
    {
     "name": "stdout",
     "output_type": "stream",
     "text": [
      "\t[1154/1232]\tRL_CNN: gamma_trade=1000, gamma_risk=10, gamma_hold=10000, seed=0...\n"
     ]
    },
    {
     "name": "stdout",
     "output_type": "stream",
     "text": [
      "\t[1155/1232]\tRL_CNN: gamma_trade=1000, gamma_risk=10, gamma_hold=100000, seed=0...\n"
     ]
    },
    {
     "name": "stdout",
     "output_type": "stream",
     "text": [
      "\t[1156/1232]\tRL_CNN: gamma_trade=1000, gamma_risk=18, gamma_hold=0.1, seed=0...\n"
     ]
    },
    {
     "name": "stdout",
     "output_type": "stream",
     "text": [
      "\t[1157/1232]\tRL_CNN: gamma_trade=1000, gamma_risk=18, gamma_hold=1, seed=0...\n"
     ]
    },
    {
     "name": "stdout",
     "output_type": "stream",
     "text": [
      "\t[1158/1232]\tRL_CNN: gamma_trade=1000, gamma_risk=18, gamma_hold=10, seed=0...\n"
     ]
    },
    {
     "name": "stdout",
     "output_type": "stream",
     "text": [
      "\t[1159/1232]\tRL_CNN: gamma_trade=1000, gamma_risk=18, gamma_hold=100, seed=0...\n"
     ]
    },
    {
     "name": "stdout",
     "output_type": "stream",
     "text": [
      "\t[1160/1232]\tRL_CNN: gamma_trade=1000, gamma_risk=18, gamma_hold=1000, seed=0...\n"
     ]
    },
    {
     "name": "stdout",
     "output_type": "stream",
     "text": [
      "\t[1161/1232]\tRL_CNN: gamma_trade=1000, gamma_risk=18, gamma_hold=10000, seed=0...\n"
     ]
    },
    {
     "name": "stdout",
     "output_type": "stream",
     "text": [
      "\t[1162/1232]\tRL_CNN: gamma_trade=1000, gamma_risk=18, gamma_hold=100000, seed=0...\n"
     ]
    },
    {
     "name": "stdout",
     "output_type": "stream",
     "text": [
      "\t[1163/1232]\tRL_CNN: gamma_trade=1000, gamma_risk=32, gamma_hold=0.1, seed=0...\n"
     ]
    },
    {
     "name": "stdout",
     "output_type": "stream",
     "text": [
      "\t[1164/1232]\tRL_CNN: gamma_trade=1000, gamma_risk=32, gamma_hold=1, seed=0...\n"
     ]
    },
    {
     "name": "stdout",
     "output_type": "stream",
     "text": [
      "\t[1165/1232]\tRL_CNN: gamma_trade=1000, gamma_risk=32, gamma_hold=10, seed=0...\n"
     ]
    },
    {
     "name": "stdout",
     "output_type": "stream",
     "text": [
      "\t[1166/1232]\tRL_CNN: gamma_trade=1000, gamma_risk=32, gamma_hold=100, seed=0...\n"
     ]
    },
    {
     "name": "stdout",
     "output_type": "stream",
     "text": [
      "\t[1167/1232]\tRL_CNN: gamma_trade=1000, gamma_risk=32, gamma_hold=1000, seed=0...\n"
     ]
    },
    {
     "name": "stdout",
     "output_type": "stream",
     "text": [
      "\t[1168/1232]\tRL_CNN: gamma_trade=1000, gamma_risk=32, gamma_hold=10000, seed=0...\n"
     ]
    },
    {
     "name": "stdout",
     "output_type": "stream",
     "text": [
      "\t[1169/1232]\tRL_CNN: gamma_trade=1000, gamma_risk=32, gamma_hold=100000, seed=0...\n"
     ]
    },
    {
     "name": "stdout",
     "output_type": "stream",
     "text": [
      "\t[1170/1232]\tRL_CNN: gamma_trade=1000, gamma_risk=56, gamma_hold=0.1, seed=0...\n"
     ]
    },
    {
     "name": "stdout",
     "output_type": "stream",
     "text": [
      "\t[1171/1232]\tRL_CNN: gamma_trade=1000, gamma_risk=56, gamma_hold=1, seed=0...\n"
     ]
    },
    {
     "name": "stdout",
     "output_type": "stream",
     "text": [
      "\t[1172/1232]\tRL_CNN: gamma_trade=1000, gamma_risk=56, gamma_hold=10, seed=0...\n"
     ]
    },
    {
     "name": "stdout",
     "output_type": "stream",
     "text": [
      "\t[1173/1232]\tRL_CNN: gamma_trade=1000, gamma_risk=56, gamma_hold=100, seed=0...\n"
     ]
    },
    {
     "name": "stdout",
     "output_type": "stream",
     "text": [
      "\t[1174/1232]\tRL_CNN: gamma_trade=1000, gamma_risk=56, gamma_hold=1000, seed=0...\n"
     ]
    },
    {
     "name": "stdout",
     "output_type": "stream",
     "text": [
      "\t[1175/1232]\tRL_CNN: gamma_trade=1000, gamma_risk=56, gamma_hold=10000, seed=0...\n"
     ]
    },
    {
     "name": "stdout",
     "output_type": "stream",
     "text": [
      "\t[1176/1232]\tRL_CNN: gamma_trade=1000, gamma_risk=56, gamma_hold=100000, seed=0...\n"
     ]
    },
    {
     "name": "stdout",
     "output_type": "stream",
     "text": [
      "\t[1177/1232]\tRL_CNN: gamma_trade=1000, gamma_risk=100, gamma_hold=0.1, seed=0...\n"
     ]
    },
    {
     "name": "stdout",
     "output_type": "stream",
     "text": [
      "\t[1178/1232]\tRL_CNN: gamma_trade=1000, gamma_risk=100, gamma_hold=1, seed=0...\n"
     ]
    },
    {
     "name": "stdout",
     "output_type": "stream",
     "text": [
      "\t[1179/1232]\tRL_CNN: gamma_trade=1000, gamma_risk=100, gamma_hold=10, seed=0...\n"
     ]
    },
    {
     "name": "stdout",
     "output_type": "stream",
     "text": [
      "\t[1180/1232]\tRL_CNN: gamma_trade=1000, gamma_risk=100, gamma_hold=100, seed=0...\n"
     ]
    },
    {
     "name": "stdout",
     "output_type": "stream",
     "text": [
      "\t[1181/1232]\tRL_CNN: gamma_trade=1000, gamma_risk=100, gamma_hold=1000, seed=0...\n"
     ]
    },
    {
     "name": "stdout",
     "output_type": "stream",
     "text": [
      "\t[1182/1232]\tRL_CNN: gamma_trade=1000, gamma_risk=100, gamma_hold=10000, seed=0...\n"
     ]
    },
    {
     "name": "stdout",
     "output_type": "stream",
     "text": [
      "\t[1183/1232]\tRL_CNN: gamma_trade=1000, gamma_risk=100, gamma_hold=100000, seed=0...\n"
     ]
    },
    {
     "name": "stdout",
     "output_type": "stream",
     "text": [
      "\t[1184/1232]\tRL_CNN: gamma_trade=1000, gamma_risk=178, gamma_hold=0.1, seed=0...\n"
     ]
    },
    {
     "name": "stdout",
     "output_type": "stream",
     "text": [
      "\t[1185/1232]\tRL_CNN: gamma_trade=1000, gamma_risk=178, gamma_hold=1, seed=0...\n"
     ]
    },
    {
     "name": "stdout",
     "output_type": "stream",
     "text": [
      "\t[1186/1232]\tRL_CNN: gamma_trade=1000, gamma_risk=178, gamma_hold=10, seed=0...\n"
     ]
    },
    {
     "name": "stdout",
     "output_type": "stream",
     "text": [
      "\t[1187/1232]\tRL_CNN: gamma_trade=1000, gamma_risk=178, gamma_hold=100, seed=0...\n"
     ]
    },
    {
     "name": "stdout",
     "output_type": "stream",
     "text": [
      "\t[1188/1232]\tRL_CNN: gamma_trade=1000, gamma_risk=178, gamma_hold=1000, seed=0...\n"
     ]
    },
    {
     "name": "stdout",
     "output_type": "stream",
     "text": [
      "\t[1189/1232]\tRL_CNN: gamma_trade=1000, gamma_risk=178, gamma_hold=10000, seed=0...\n"
     ]
    },
    {
     "name": "stdout",
     "output_type": "stream",
     "text": [
      "\t[1190/1232]\tRL_CNN: gamma_trade=1000, gamma_risk=178, gamma_hold=100000, seed=0...\n"
     ]
    },
    {
     "name": "stdout",
     "output_type": "stream",
     "text": [
      "\t[1191/1232]\tRL_CNN: gamma_trade=1000, gamma_risk=316, gamma_hold=0.1, seed=0...\n"
     ]
    },
    {
     "name": "stdout",
     "output_type": "stream",
     "text": [
      "\t[1192/1232]\tRL_CNN: gamma_trade=1000, gamma_risk=316, gamma_hold=1, seed=0...\n"
     ]
    },
    {
     "name": "stdout",
     "output_type": "stream",
     "text": [
      "\t[1193/1232]\tRL_CNN: gamma_trade=1000, gamma_risk=316, gamma_hold=10, seed=0...\n"
     ]
    },
    {
     "name": "stdout",
     "output_type": "stream",
     "text": [
      "\t[1194/1232]\tRL_CNN: gamma_trade=1000, gamma_risk=316, gamma_hold=100, seed=0...\n"
     ]
    },
    {
     "name": "stdout",
     "output_type": "stream",
     "text": [
      "\t[1195/1232]\tRL_CNN: gamma_trade=1000, gamma_risk=316, gamma_hold=1000, seed=0...\n"
     ]
    },
    {
     "name": "stdout",
     "output_type": "stream",
     "text": [
      "\t[1196/1232]\tRL_CNN: gamma_trade=1000, gamma_risk=316, gamma_hold=10000, seed=0...\n"
     ]
    },
    {
     "name": "stdout",
     "output_type": "stream",
     "text": [
      "\t[1197/1232]\tRL_CNN: gamma_trade=1000, gamma_risk=316, gamma_hold=100000, seed=0...\n"
     ]
    },
    {
     "name": "stdout",
     "output_type": "stream",
     "text": [
      "\t[1198/1232]\tRL_CNN: gamma_trade=1000, gamma_risk=562, gamma_hold=0.1, seed=0...\n"
     ]
    },
    {
     "name": "stdout",
     "output_type": "stream",
     "text": [
      "\t[1199/1232]\tRL_CNN: gamma_trade=1000, gamma_risk=562, gamma_hold=1, seed=0...\n"
     ]
    },
    {
     "name": "stdout",
     "output_type": "stream",
     "text": [
      "\t[1200/1232]\tRL_CNN: gamma_trade=1000, gamma_risk=562, gamma_hold=10, seed=0...\n"
     ]
    },
    {
     "name": "stdout",
     "output_type": "stream",
     "text": [
      "\t[1201/1232]\tRL_CNN: gamma_trade=1000, gamma_risk=562, gamma_hold=100, seed=0...\n"
     ]
    },
    {
     "name": "stdout",
     "output_type": "stream",
     "text": [
      "\t[1202/1232]\tRL_CNN: gamma_trade=1000, gamma_risk=562, gamma_hold=1000, seed=0...\n"
     ]
    },
    {
     "name": "stdout",
     "output_type": "stream",
     "text": [
      "\t[1203/1232]\tRL_CNN: gamma_trade=1000, gamma_risk=562, gamma_hold=10000, seed=0...\n"
     ]
    },
    {
     "name": "stdout",
     "output_type": "stream",
     "text": [
      "\t[1204/1232]\tRL_CNN: gamma_trade=1000, gamma_risk=562, gamma_hold=100000, seed=0...\n"
     ]
    },
    {
     "name": "stdout",
     "output_type": "stream",
     "text": [
      "\t[1205/1232]\tRL_CNN: gamma_trade=1000, gamma_risk=1000, gamma_hold=0.1, seed=0...\n"
     ]
    },
    {
     "name": "stdout",
     "output_type": "stream",
     "text": [
      "\t[1206/1232]\tRL_CNN: gamma_trade=1000, gamma_risk=1000, gamma_hold=1, seed=0...\n"
     ]
    },
    {
     "name": "stdout",
     "output_type": "stream",
     "text": [
      "\t[1207/1232]\tRL_CNN: gamma_trade=1000, gamma_risk=1000, gamma_hold=10, seed=0...\n"
     ]
    },
    {
     "name": "stdout",
     "output_type": "stream",
     "text": [
      "\t[1208/1232]\tRL_CNN: gamma_trade=1000, gamma_risk=1000, gamma_hold=100, seed=0...\n"
     ]
    },
    {
     "name": "stdout",
     "output_type": "stream",
     "text": [
      "\t[1209/1232]\tRL_CNN: gamma_trade=1000, gamma_risk=1000, gamma_hold=1000, seed=0...\n"
     ]
    },
    {
     "name": "stdout",
     "output_type": "stream",
     "text": [
      "\t[1210/1232]\tRL_CNN: gamma_trade=1000, gamma_risk=1000, gamma_hold=10000, seed=0...\n"
     ]
    },
    {
     "name": "stdout",
     "output_type": "stream",
     "text": [
      "\t[1211/1232]\tRL_CNN: gamma_trade=1000, gamma_risk=1000, gamma_hold=100000, seed=0...\n"
     ]
    },
    {
     "name": "stdout",
     "output_type": "stream",
     "text": [
      "\t[1212/1232]\tRL_CNN: gamma_trade=1000, gamma_risk=5000, gamma_hold=0.1, seed=0...\n"
     ]
    },
    {
     "name": "stdout",
     "output_type": "stream",
     "text": [
      "\t[1213/1232]\tRL_CNN: gamma_trade=1000, gamma_risk=5000, gamma_hold=1, seed=0...\n"
     ]
    },
    {
     "name": "stdout",
     "output_type": "stream",
     "text": [
      "\t[1214/1232]\tRL_CNN: gamma_trade=1000, gamma_risk=5000, gamma_hold=10, seed=0...\n"
     ]
    },
    {
     "name": "stdout",
     "output_type": "stream",
     "text": [
      "\t[1215/1232]\tRL_CNN: gamma_trade=1000, gamma_risk=5000, gamma_hold=100, seed=0...\n"
     ]
    },
    {
     "name": "stdout",
     "output_type": "stream",
     "text": [
      "\t[1216/1232]\tRL_CNN: gamma_trade=1000, gamma_risk=5000, gamma_hold=1000, seed=0...\n"
     ]
    },
    {
     "name": "stdout",
     "output_type": "stream",
     "text": [
      "\t[1217/1232]\tRL_CNN: gamma_trade=1000, gamma_risk=5000, gamma_hold=10000, seed=0...\n"
     ]
    },
    {
     "name": "stdout",
     "output_type": "stream",
     "text": [
      "\t[1218/1232]\tRL_CNN: gamma_trade=1000, gamma_risk=5000, gamma_hold=100000, seed=0...\n"
     ]
    },
    {
     "name": "stdout",
     "output_type": "stream",
     "text": [
      "\t[1219/1232]\tRL_CNN: gamma_trade=1000, gamma_risk=10000, gamma_hold=0.1, seed=0...\n"
     ]
    },
    {
     "name": "stdout",
     "output_type": "stream",
     "text": [
      "\t[1220/1232]\tRL_CNN: gamma_trade=1000, gamma_risk=10000, gamma_hold=1, seed=0...\n"
     ]
    },
    {
     "name": "stdout",
     "output_type": "stream",
     "text": [
      "\t[1221/1232]\tRL_CNN: gamma_trade=1000, gamma_risk=10000, gamma_hold=10, seed=0...\n"
     ]
    },
    {
     "name": "stdout",
     "output_type": "stream",
     "text": [
      "\t[1222/1232]\tRL_CNN: gamma_trade=1000, gamma_risk=10000, gamma_hold=100, seed=0...\n"
     ]
    },
    {
     "name": "stdout",
     "output_type": "stream",
     "text": [
      "\t[1223/1232]\tRL_CNN: gamma_trade=1000, gamma_risk=10000, gamma_hold=1000, seed=0...\n"
     ]
    },
    {
     "name": "stdout",
     "output_type": "stream",
     "text": [
      "\t[1224/1232]\tRL_CNN: gamma_trade=1000, gamma_risk=10000, gamma_hold=10000, seed=0...\n"
     ]
    },
    {
     "name": "stdout",
     "output_type": "stream",
     "text": [
      "\t[1225/1232]\tRL_CNN: gamma_trade=1000, gamma_risk=10000, gamma_hold=100000, seed=0...\n"
     ]
    },
    {
     "name": "stdout",
     "output_type": "stream",
     "text": [
      "\t[1226/1232]\tRL_CNN: gamma_trade=1000, gamma_risk=100000, gamma_hold=0.1, seed=0...\n"
     ]
    },
    {
     "name": "stdout",
     "output_type": "stream",
     "text": [
      "\t[1227/1232]\tRL_CNN: gamma_trade=1000, gamma_risk=100000, gamma_hold=1, seed=0...\n"
     ]
    },
    {
     "name": "stdout",
     "output_type": "stream",
     "text": [
      "\t[1228/1232]\tRL_CNN: gamma_trade=1000, gamma_risk=100000, gamma_hold=10, seed=0...\n"
     ]
    },
    {
     "name": "stdout",
     "output_type": "stream",
     "text": [
      "\t[1229/1232]\tRL_CNN: gamma_trade=1000, gamma_risk=100000, gamma_hold=100, seed=0...\n"
     ]
    },
    {
     "name": "stdout",
     "output_type": "stream",
     "text": [
      "\t[1230/1232]\tRL_CNN: gamma_trade=1000, gamma_risk=100000, gamma_hold=1000, seed=0...\n"
     ]
    },
    {
     "name": "stdout",
     "output_type": "stream",
     "text": [
      "\t[1231/1232]\tRL_CNN: gamma_trade=1000, gamma_risk=100000, gamma_hold=10000, seed=0...\n"
     ]
    },
    {
     "name": "stdout",
     "output_type": "stream",
     "text": [
      "\t[1232/1232]\tRL_CNN: gamma_trade=1000, gamma_risk=100000, gamma_hold=100000, seed=0...\n"
     ]
    },
    {
     "name": "stdout",
     "output_type": "stream",
     "text": [
      "CPU times: user 1h 51min 6s, sys: 4.47 s, total: 1h 51min 10s\n",
      "Wall time: 1h 51min 7s\n"
     ]
    }
   ],
   "source": [
    "%%time\n",
    "# make directory for results if it does not exist already\n",
    "maybe_make_dir(RESULTS_DIR)\n",
    "\n",
    "print('creating environment and agent...')\n",
    "env = MultiStockEnv(tickers=TICKERS, \n",
    "                    from_date=FROM,\n",
    "                    until=UNTIL, \n",
    "                    #nb_episodes=100,\n",
    "                    cash_key='USDOLLAR', \n",
    "                    #gamma_risk=GAMMA_RISK, \n",
    "                    #gamma_trade=GAMMA_TRADE,\n",
    "                    #half_spread=HALF_SPREAD, \n",
    "                    nonlin_coef=NONLIN_COEFF, \n",
    "                    power=POWER, \n",
    "                    datadir=DATA_DIR, \n",
    "                    state_lookback_window=20, \n",
    "                    #distribution=EPISODE_DRAW_DISTRIBUTION,\n",
    "                    #days_duration=DAYS_IN_EPISODE, \n",
    "                    mode='backtest', \n",
    "                    random_seed=7,\n",
    "                    init_portfolio=INIT_PORTFOLIO, \n",
    "                    period_in_file_name=FILE_PERIOD, \n",
    "                    nb_forecasts=NB_FORECASTS, \n",
    "                    forecast_type=FORECAST_TYPE,\n",
    "                    use_CNN_state=USE_CNN_STATE,\n",
    "                    verbose=False)\n",
    "\n",
    "agent = Agent(alpha=0.001, \n",
    "              gamma=0.99, \n",
    "              n_assets=len(TICKERS)+1, \n",
    "              tau=5, \n",
    "              lookback_window=20, \n",
    "              n_feature_maps=len(TICKERS)+1,\n",
    "              use_forecasts=USE_FORECASTS,\n",
    "              use_CNN_state=USE_CNN_STATE,\n",
    "              allow_long_short_trades=True)\n",
    "\n",
    "results_dict = {}\n",
    "#actions_dict = {}\n",
    "print('backtesting:')\n",
    "\n",
    "total_backtests = len(SEED_LIST) * len(GAMMA_TRIOS)\n",
    "backtest_counter = 0\n",
    "\n",
    "for RANDOM_SEED in SEED_LIST:\n",
    "    for (GAMMA_TRADE, GAMMA_RISK, GAMMA_HOLD) in GAMMA_TRIOS:\n",
    "        \n",
    "        backtest_counter += 1\n",
    "        print(f'\\t[{backtest_counter}/{total_backtests}]\\t{MODEL_BASE_NAME}: gamma_trade={GAMMA_TRADE}, gamma_risk={GAMMA_RISK}, gamma_hold={GAMMA_HOLD}, seed={RANDOM_SEED}...')\n",
    "        \n",
    "        # load trained RL model for backtesting\n",
    "        SAVED_MODEL_DIR = f'../experiments/{MARKET_NAME}/seeded/{MODEL_BASE_NAME}/seed_{RANDOM_SEED}/trade_{GAMMA_TRADE}_risk_{GAMMA_RISK}_hold_{GAMMA_HOLD}/models/{MODEL_BASE_NAME}_seed_{RANDOM_SEED}_{NB_EPISODES}'\n",
    "        # set dir where actions csv file will be saved\n",
    "        actions_dir = f'../experiments/{MARKET_NAME}/seeded/{MODEL_BASE_NAME}/seed_{RANDOM_SEED}/trade_{GAMMA_TRADE}_risk_{GAMMA_RISK}_hold_{GAMMA_HOLD}'\n",
    "        \n",
    "        try:\n",
    "            rl_rets, rl_actions = backtest(agent, env, weights_file_dir=SAVED_MODEL_DIR, verbose=False)\n",
    "            \n",
    "            #rl_rets = pd.Series(data=rl_rets, index=env.returns.loc[FROM:UNTIL].iloc[1:].index)\n",
    "            #rl_actions = pd.DataFrame(data=rl_actions, index=env.returns.loc[FROM:UNTIL].iloc[0:].index, columns=TICKERS+['USDOLLAR'])\n",
    "            rl_rets = pd.Series(data=rl_rets, index=env.returns.loc[FROM:UNTIL].iloc[:-1].index)\n",
    "            rl_rets = rl_rets.shift(1)\n",
    "            rl_rets.iloc[0] = 0\n",
    "            rl_actions = pd.DataFrame(data=rl_actions[:-1], index=env.returns.loc[FROM:UNTIL].iloc[:-1].index, columns=TICKERS+['USDOLLAR'])\n",
    "            \n",
    "            # save actions\n",
    "            rl_actions.to_csv(f'{actions_dir}/actions.csv')\n",
    "            #print('actions saved.')\n",
    "\n",
    "            cash_rets = env.returns.loc[FROM:UNTIL, env.cash_key].iloc[:-1]\n",
    "            excess_rets = rl_rets - cash_rets\n",
    "\n",
    "            R_e = excess_rets.mean() * 100 * 252\n",
    "            sigma_e = excess_rets.std() * 100 * np.sqrt(252)\n",
    "            sharpe = R_e / sigma_e\n",
    "\n",
    "            results_dict[(GAMMA_TRADE, GAMMA_RISK, GAMMA_HOLD, RANDOM_SEED)] = {'excess_return':R_e, 'excess_risk':sigma_e, 'sharpe':sharpe}\n",
    "        except Exception as e:\n",
    "            print(f'**error for model: trade_{GAMMA_TRADE}_risk_{GAMMA_RISK}_hold_{GAMMA_HOLD}')\n",
    "            #print(e)"
   ]
  },
  {
   "cell_type": "code",
   "execution_count": 7,
   "id": "cafde02c",
   "metadata": {
    "execution": {
     "iopub.execute_input": "2022-06-29T11:10:18.313648Z",
     "iopub.status.busy": "2022-06-29T11:10:18.313108Z",
     "iopub.status.idle": "2022-06-29T11:10:18.493532Z",
     "shell.execute_reply": "2022-06-29T11:10:18.492285Z"
    },
    "papermill": {
     "duration": 0.326151,
     "end_time": "2022-06-29T11:10:18.496535",
     "exception": false,
     "start_time": "2022-06-29T11:10:18.170384",
     "status": "completed"
    },
    "tags": []
   },
   "outputs": [
    {
     "data": {
      "text/html": [
       "<div>\n",
       "<style scoped>\n",
       "    .dataframe tbody tr th:only-of-type {\n",
       "        vertical-align: middle;\n",
       "    }\n",
       "\n",
       "    .dataframe tbody tr th {\n",
       "        vertical-align: top;\n",
       "    }\n",
       "\n",
       "    .dataframe thead th {\n",
       "        text-align: right;\n",
       "    }\n",
       "</style>\n",
       "<table border=\"1\" class=\"dataframe\">\n",
       "  <thead>\n",
       "    <tr style=\"text-align: right;\">\n",
       "      <th></th>\n",
       "      <th>gamma_trade</th>\n",
       "      <th>gamma_risk</th>\n",
       "      <th>gamma_hold</th>\n",
       "      <th>seed</th>\n",
       "      <th>excess_return</th>\n",
       "      <th>excess_risk</th>\n",
       "      <th>sharpe</th>\n",
       "    </tr>\n",
       "  </thead>\n",
       "  <tbody>\n",
       "    <tr>\n",
       "      <th>0</th>\n",
       "      <td>0.1</td>\n",
       "      <td>1</td>\n",
       "      <td>0.1</td>\n",
       "      <td>0</td>\n",
       "      <td>-44.403841</td>\n",
       "      <td>28.385863</td>\n",
       "      <td>-1.564294</td>\n",
       "    </tr>\n",
       "    <tr>\n",
       "      <th>1</th>\n",
       "      <td>0.1</td>\n",
       "      <td>1</td>\n",
       "      <td>1.0</td>\n",
       "      <td>0</td>\n",
       "      <td>-13.325177</td>\n",
       "      <td>25.006617</td>\n",
       "      <td>-0.532866</td>\n",
       "    </tr>\n",
       "    <tr>\n",
       "      <th>2</th>\n",
       "      <td>0.1</td>\n",
       "      <td>1</td>\n",
       "      <td>10.0</td>\n",
       "      <td>0</td>\n",
       "      <td>-52.008087</td>\n",
       "      <td>30.390928</td>\n",
       "      <td>-1.711303</td>\n",
       "    </tr>\n",
       "    <tr>\n",
       "      <th>3</th>\n",
       "      <td>0.1</td>\n",
       "      <td>1</td>\n",
       "      <td>100.0</td>\n",
       "      <td>0</td>\n",
       "      <td>-20.592096</td>\n",
       "      <td>18.543155</td>\n",
       "      <td>-1.110496</td>\n",
       "    </tr>\n",
       "    <tr>\n",
       "      <th>4</th>\n",
       "      <td>0.1</td>\n",
       "      <td>1</td>\n",
       "      <td>1000.0</td>\n",
       "      <td>0</td>\n",
       "      <td>-27.883656</td>\n",
       "      <td>22.321070</td>\n",
       "      <td>-1.249208</td>\n",
       "    </tr>\n",
       "    <tr>\n",
       "      <th>...</th>\n",
       "      <td>...</td>\n",
       "      <td>...</td>\n",
       "      <td>...</td>\n",
       "      <td>...</td>\n",
       "      <td>...</td>\n",
       "      <td>...</td>\n",
       "      <td>...</td>\n",
       "    </tr>\n",
       "    <tr>\n",
       "      <th>1224</th>\n",
       "      <td>1000.0</td>\n",
       "      <td>100000</td>\n",
       "      <td>10.0</td>\n",
       "      <td>0</td>\n",
       "      <td>-19.025350</td>\n",
       "      <td>13.802038</td>\n",
       "      <td>-1.378445</td>\n",
       "    </tr>\n",
       "    <tr>\n",
       "      <th>1225</th>\n",
       "      <td>1000.0</td>\n",
       "      <td>100000</td>\n",
       "      <td>100.0</td>\n",
       "      <td>0</td>\n",
       "      <td>-18.891051</td>\n",
       "      <td>13.765562</td>\n",
       "      <td>-1.372341</td>\n",
       "    </tr>\n",
       "    <tr>\n",
       "      <th>1226</th>\n",
       "      <td>1000.0</td>\n",
       "      <td>100000</td>\n",
       "      <td>1000.0</td>\n",
       "      <td>0</td>\n",
       "      <td>-18.543063</td>\n",
       "      <td>13.718678</td>\n",
       "      <td>-1.351665</td>\n",
       "    </tr>\n",
       "    <tr>\n",
       "      <th>1227</th>\n",
       "      <td>1000.0</td>\n",
       "      <td>100000</td>\n",
       "      <td>10000.0</td>\n",
       "      <td>0</td>\n",
       "      <td>-18.192695</td>\n",
       "      <td>12.912800</td>\n",
       "      <td>-1.408888</td>\n",
       "    </tr>\n",
       "    <tr>\n",
       "      <th>1228</th>\n",
       "      <td>1000.0</td>\n",
       "      <td>100000</td>\n",
       "      <td>100000.0</td>\n",
       "      <td>0</td>\n",
       "      <td>-18.006556</td>\n",
       "      <td>12.014738</td>\n",
       "      <td>-1.498706</td>\n",
       "    </tr>\n",
       "  </tbody>\n",
       "</table>\n",
       "<p>1229 rows × 7 columns</p>\n",
       "</div>"
      ],
      "text/plain": [
       "      gamma_trade  gamma_risk  gamma_hold  seed  excess_return  excess_risk  \\\n",
       "0             0.1           1         0.1     0     -44.403841    28.385863   \n",
       "1             0.1           1         1.0     0     -13.325177    25.006617   \n",
       "2             0.1           1        10.0     0     -52.008087    30.390928   \n",
       "3             0.1           1       100.0     0     -20.592096    18.543155   \n",
       "4             0.1           1      1000.0     0     -27.883656    22.321070   \n",
       "...           ...         ...         ...   ...            ...          ...   \n",
       "1224       1000.0      100000        10.0     0     -19.025350    13.802038   \n",
       "1225       1000.0      100000       100.0     0     -18.891051    13.765562   \n",
       "1226       1000.0      100000      1000.0     0     -18.543063    13.718678   \n",
       "1227       1000.0      100000     10000.0     0     -18.192695    12.912800   \n",
       "1228       1000.0      100000    100000.0     0     -18.006556    12.014738   \n",
       "\n",
       "        sharpe  \n",
       "0    -1.564294  \n",
       "1    -0.532866  \n",
       "2    -1.711303  \n",
       "3    -1.110496  \n",
       "4    -1.249208  \n",
       "...        ...  \n",
       "1224 -1.378445  \n",
       "1225 -1.372341  \n",
       "1226 -1.351665  \n",
       "1227 -1.408888  \n",
       "1228 -1.498706  \n",
       "\n",
       "[1229 rows x 7 columns]"
      ]
     },
     "execution_count": 7,
     "metadata": {},
     "output_type": "execute_result"
    }
   ],
   "source": [
    "results_df = pd.DataFrame(results_dict).T.reset_index()\n",
    "results_df.columns = ['gamma_trade', 'gamma_risk', 'gamma_hold', 'seed', 'excess_return', 'excess_risk', 'sharpe']\n",
    "# results_df.to_csv(RESULTS_DIR+TEST_NAME+'.csv', index=False)\n",
    "# print('saved.')\n",
    "results_df"
   ]
  },
  {
   "cell_type": "code",
   "execution_count": 8,
   "id": "76163405",
   "metadata": {
    "execution": {
     "iopub.execute_input": "2022-06-29T11:10:18.784068Z",
     "iopub.status.busy": "2022-06-29T11:10:18.783434Z",
     "iopub.status.idle": "2022-06-29T11:10:18.852186Z",
     "shell.execute_reply": "2022-06-29T11:10:18.850730Z"
    },
    "papermill": {
     "duration": 0.215402,
     "end_time": "2022-06-29T11:10:18.855251",
     "exception": false,
     "start_time": "2022-06-29T11:10:18.639849",
     "status": "completed"
    },
    "tags": []
   },
   "outputs": [
    {
     "name": "stdout",
     "output_type": "stream",
     "text": [
      "existing data shape: (244, 7)\n",
      "duplicates found: 209\n",
      "final data shape: (1264, 7)\n",
      "saved.\n"
     ]
    }
   ],
   "source": [
    "# append results to existing and overwrite duplicates\n",
    "\n",
    "# open existing results as pd.DataFrame\n",
    "BACKTEST_RESULTS_FILE_PATH = RESULTS_DIR+TEST_NAME+'.csv'\n",
    "\n",
    "# only do if file already exisits\n",
    "if os.path.exists(BACKTEST_RESULTS_FILE_PATH):\n",
    "    df = pd.read_csv(BACKTEST_RESULTS_FILE_PATH)\n",
    "    print(f'existing data shape: {df.shape}')\n",
    "    # df.head()\n",
    "\n",
    "    # append new data and overwrite duplicates if any (for matching gamma-values)\n",
    "    # find duplicates (per gamma-values)\n",
    "    df = df.set_index(['gamma_trade','gamma_risk','gamma_hold'])\n",
    "    new_df = results_df.set_index(['gamma_trade','gamma_risk','gamma_hold'])\n",
    "    duplicates_df = df.merge(new_df, how='inner', left_index=True, right_index=True)\n",
    "    print(f'duplicates found: {len(duplicates_df)}')\n",
    "\n",
    "    # remove duplicates from original data\n",
    "    df = df[~df.index.isin(duplicates_df.index)]\n",
    "\n",
    "    # concatenate and reset index\n",
    "    all_df = pd.concat([df, new_df]).reset_index()\n",
    "    print(f'final data shape: {all_df.shape}')\n",
    "    # all_df.tail()\n",
    "\n",
    "    # prepare final results and write to flie\n",
    "    all_df = all_df.sort_values(by=['excess_risk', 'excess_return'])\n",
    "    all_df.to_csv(BACKTEST_RESULTS_FILE_PATH, index=False)\n",
    "\n",
    "    all_df.head()\n",
    "else:\n",
    "    results_df = results_df.sort_values(by=['excess_risk', 'excess_return'])\n",
    "    results_df.to_csv(BACKTEST_RESULTS_FILE_PATH, index=False)\n",
    "    \n",
    "print('saved.')\n"
   ]
  },
  {
   "cell_type": "code",
   "execution_count": 9,
   "id": "92c1a609",
   "metadata": {
    "execution": {
     "iopub.execute_input": "2022-06-29T11:10:19.088959Z",
     "iopub.status.busy": "2022-06-29T11:10:19.088600Z",
     "iopub.status.idle": "2022-06-29T11:10:19.742144Z",
     "shell.execute_reply": "2022-06-29T11:10:19.740764Z"
    },
    "papermill": {
     "duration": 0.758891,
     "end_time": "2022-06-29T11:10:19.744979",
     "exception": false,
     "start_time": "2022-06-29T11:10:18.986088",
     "status": "completed"
    },
    "tags": []
   },
   "outputs": [
    {
     "data": {
      "text/plain": [
       "(-10.0, 70.0)"
      ]
     },
     "execution_count": 9,
     "metadata": {},
     "output_type": "execute_result"
    },
    {
     "data": {
      "image/png": "[encoded data removed]",
      "text/plain": [
       "<Figure size 432x360 with 1 Axes>"
      ]
     },
     "metadata": {
      "needs_background": "light"
     },
     "output_type": "display_data"
    }
   ],
   "source": [
    "# risk-return plot \n",
    "results_df[['excess_return', 'excess_risk']]\\\n",
    "    .rename(\n",
    "        columns={\n",
    "            'excess_return':'Excess Return (%)', \n",
    "            'excess_risk':'Excess Risk (%)'\n",
    "        })\\\n",
    "    .plot(\n",
    "        kind='scatter', \n",
    "        x='Excess Risk (%)', \n",
    "        y='Excess Return (%)', \n",
    "        title='Backtest Resulsts', \n",
    "        alpha=0.8,\n",
    "        figsize=(6,5),\n",
    "        c='C0')\n",
    "\n",
    "# x and y axis limits\n",
    "plt.xlim(left=0.0, right=60.0)\n",
    "plt.ylim(bottom=-10.0, top=70.0)"
   ]
  },
  {
   "cell_type": "code",
   "execution_count": 10,
   "id": "08fdd23c",
   "metadata": {
    "execution": {
     "iopub.execute_input": "2022-06-29T11:10:19.968206Z",
     "iopub.status.busy": "2022-06-29T11:10:19.967558Z",
     "iopub.status.idle": "2022-06-29T11:10:19.975639Z",
     "shell.execute_reply": "2022-06-29T11:10:19.973795Z"
    },
    "papermill": {
     "duration": 0.115162,
     "end_time": "2022-06-29T11:10:19.978425",
     "exception": false,
     "start_time": "2022-06-29T11:10:19.863263",
     "status": "completed"
    },
    "tags": []
   },
   "outputs": [
    {
     "name": "stdout",
     "output_type": "stream",
     "text": [
      "done backtesting for RL_CNN.\n"
     ]
    }
   ],
   "source": [
    "print(f'done backtesting for {MODEL_BASE_NAME}.')"
   ]
  },
  {
   "cell_type": "code",
   "execution_count": 11,
   "id": "f9ad9079",
   "metadata": {
    "execution": {
     "iopub.execute_input": "2022-06-29T11:10:20.185568Z",
     "iopub.status.busy": "2022-06-29T11:10:20.184897Z",
     "iopub.status.idle": "2022-06-29T11:10:20.196224Z",
     "shell.execute_reply": "2022-06-29T11:10:20.194520Z"
    },
    "papermill": {
     "duration": 0.119027,
     "end_time": "2022-06-29T11:10:20.198975",
     "exception": false,
     "start_time": "2022-06-29T11:10:20.079948",
     "status": "completed"
    },
    "tags": []
   },
   "outputs": [
    {
     "data": {
      "text/plain": [
       "<src.models.frontier.LongShortCNNPolicy at 0x7f2d0c221f10>"
      ]
     },
     "execution_count": 11,
     "metadata": {},
     "output_type": "execute_result"
    }
   ],
   "source": [
    "agent.policy"
   ]
  }
 ],
 "metadata": {
  "interpreter": {
   "hash": "949777d72b0d2535278d3dc13498b2535136f6dfe0678499012e853ee9abcab1"
  },
  "kernelspec": {
   "display_name": "Python 3.7.6 64-bit",
   "language": "python",
   "name": "python3"
  },
  "language_info": {
   "codemirror_mode": {
    "name": "ipython",
    "version": 3
   },
   "file_extension": ".py",
   "mimetype": "text/x-python",
   "name": "python",
   "nbconvert_exporter": "python",
   "pygments_lexer": "ipython3",
   "version": "3.7.6"
  },
  "papermill": {
   "default_parameters": {},
   "duration": 6676.029887,
   "end_time": "2022-06-29T11:10:22.937181",
   "environment_variables": {},
   "exception": null,
   "input_path": "backtest_template.ipynb",
   "output_path": "slave_notebooks/backtests/RL_CNN_LA_40_(0_etc).ipynb",
   "parameters": {
    "FROM": "2014-12-01",
    "GAMMA_HOLDS": [
     0.1,
     1,
     10,
     100,
     1000,
     10000,
     100000
    ],
    "GAMMA_RISKS": [
     1,
     2,
     3,
     6,
     10,
     18,
     32,
     56,
     100,
     178,
     316,
     562,
     1000,
     5000,
     10000,
     100000
    ],
    "GAMMA_TRADES": [
     0.1,
     1,
     7,
     8,
     9,
     10,
     11,
     12,
     50,
     100,
     1000
    ],
    "MARKET_NAME": "LA_40",
    "MODEL_BASE_NAME": "RL_CNN",
    "NB_EPISODES": 200,
    "SEED_LIST": [
     0
    ],
    "TICKERS": [
     "VALE",
     "ITUB",
     "PBR-A",
     "BBD",
     "PBR",
     "AMXL.MX",
     "WALMEX.MX",
     "FEMSAUBD.MX",
     "GFNORTEO.MX",
     "WEGE3.SA",
     "BBAS3.SA",
     "BAP",
     "CEMEXCPO.MX",
     "SQM",
     "SCCO",
     "GGB",
     "CHILE.SN",
     "ENIA",
     "CIB",
     "TLEVISACPO.MX",
     "EC",
     "BRFS",
     "BSAC",
     "CCRO3.SA"
    ],
    "UNTIL": "2016-01-01"
   },
   "start_time": "2022-06-29T09:19:06.907294",
   "version": "2.3.3"
  }
 },
 "nbformat": 4,
 "nbformat_minor": 5
}