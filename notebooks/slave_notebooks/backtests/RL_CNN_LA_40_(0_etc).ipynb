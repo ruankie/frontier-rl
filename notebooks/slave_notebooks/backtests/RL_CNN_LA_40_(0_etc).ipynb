{
 "cells": [
  {
   "cell_type": "code",
   "execution_count": 1,
   "id": "66257b47",
   "metadata": {
    "execution": {
     "iopub.execute_input": "2022-06-29T06:14:28.947731Z",
     "iopub.status.busy": "2022-06-29T06:14:28.947321Z",
     "iopub.status.idle": "2022-06-29T06:14:31.163702Z",
     "shell.execute_reply": "2022-06-29T06:14:31.162570Z"
    },
    "papermill": {
     "duration": 2.229015,
     "end_time": "2022-06-29T06:14:31.168362",
     "exception": false,
     "start_time": "2022-06-29T06:14:28.939347",
     "status": "completed"
    },
    "tags": []
   },
   "outputs": [
    {
     "name": "stdout",
     "output_type": "stream",
     "text": [
      "CPU times: user 2.55 s, sys: 2.47 s, total: 5.02 s\n",
      "Wall time: 2.21 s\n"
     ]
    }
   ],
   "source": [
    "%%time\n",
    "import numpy as np\n",
    "import pandas as pd\n",
    "import matplotlib.pyplot as plt\n",
    "import datetime\n",
    "import os\n",
    "from src.models.frontier import MultiStockEnv, Agent, backtest, maybe_make_dir\n",
    "from src.config import market_tickers\n",
    "from src.config.model_config import model_parameters"
   ]
  },
  {
   "cell_type": "code",
   "execution_count": 2,
   "id": "a084518c",
   "metadata": {
    "execution": {
     "iopub.execute_input": "2022-06-29T06:14:31.189566Z",
     "iopub.status.busy": "2022-06-29T06:14:31.189005Z",
     "iopub.status.idle": "2022-06-29T06:14:31.197581Z",
     "shell.execute_reply": "2022-06-29T06:14:31.196532Z"
    },
    "papermill": {
     "duration": 0.023309,
     "end_time": "2022-06-29T06:14:31.201964",
     "exception": false,
     "start_time": "2022-06-29T06:14:31.178655",
     "status": "completed"
    },
    "tags": [
     "parameters"
    ]
   },
   "outputs": [],
   "source": [
    "# papermill parameters\n",
    "SEED_LIST = [\n",
    "             0,\n",
    "             #1111,\n",
    "             #2222, \n",
    "             #3333, \n",
    "             #4444, \n",
    "             #5555,\n",
    "             #6666,\n",
    "             #7777,\n",
    "             #8888,\n",
    "             #9999\n",
    "            ]\n",
    "\n",
    "#TICKERS = market_tickers.DOW_30_TICKER\n",
    "TICKERS = ['AAPL', 'AMD', 'CSCO', 'F', 'INTC']\n",
    "MARKET_NAME = 'TEST_5'\n",
    "MODEL_BASE_NAME = 'RL_CNN' # use either | 'RL_CNN' | 'RL_str_fcast' | 'RL_all_inp' |\n",
    "FROM = '2019-01-01' # start of backtest\n",
    "UNTIL = '2020-01-01' # end of backtest\n",
    "NB_EPISODES = 200 # backtest model that was trained for this number of episodes\n",
    "\n",
    "# investor preferences\n",
    "GAMMA_TRADES = [0.1, 1, 10, 100]\n",
    "GAMMA_RISKS = [0.1, 1, 10, 100, 1000]\n",
    "GAMMA_HOLDS = [0.1, 1]"
   ]
  },
  {
   "cell_type": "code",
   "execution_count": 3,
   "id": "f3999822",
   "metadata": {
    "execution": {
     "iopub.execute_input": "2022-06-29T06:14:31.221372Z",
     "iopub.status.busy": "2022-06-29T06:14:31.221007Z",
     "iopub.status.idle": "2022-06-29T06:14:31.232681Z",
     "shell.execute_reply": "2022-06-29T06:14:31.231732Z"
    },
    "papermill": {
     "duration": 0.025674,
     "end_time": "2022-06-29T06:14:31.236522",
     "exception": false,
     "start_time": "2022-06-29T06:14:31.210848",
     "status": "completed"
    },
    "tags": [
     "injected-parameters"
    ]
   },
   "outputs": [],
   "source": [
    "# Parameters\n",
    "SEED_LIST = [0]\n",
    "TICKERS = [\n",
    "    \"VALE\",\n",
    "    \"ITUB\",\n",
    "    \"PBR-A\",\n",
    "    \"BBD\",\n",
    "    \"PBR\",\n",
    "    \"AMXL.MX\",\n",
    "    \"WALMEX.MX\",\n",
    "    \"FEMSAUBD.MX\",\n",
    "    \"GFNORTEO.MX\",\n",
    "    \"WEGE3.SA\",\n",
    "    \"BBAS3.SA\",\n",
    "    \"BAP\",\n",
    "    \"CEMEXCPO.MX\",\n",
    "    \"SQM\",\n",
    "    \"SCCO\",\n",
    "    \"GGB\",\n",
    "    \"CHILE.SN\",\n",
    "    \"ENIA\",\n",
    "    \"CIB\",\n",
    "    \"TLEVISACPO.MX\",\n",
    "    \"EC\",\n",
    "    \"BRFS\",\n",
    "    \"BSAC\",\n",
    "    \"CCRO3.SA\",\n",
    "]\n",
    "MARKET_NAME = \"LA_40\"\n",
    "MODEL_BASE_NAME = \"RL_CNN\"\n",
    "FROM = \"2014-12-01\"\n",
    "UNTIL = \"2016-01-01\"\n",
    "NB_EPISODES = 200\n",
    "GAMMA_TRADES = [0.1, 1, 10, 100, 1000]\n",
    "GAMMA_RISKS = [0.1, 1, 10, 100, 1000, 10000, 100000]\n",
    "GAMMA_HOLDS = [0.1, 1, 10, 100, 1000, 10000, 100000]\n"
   ]
  },
  {
   "cell_type": "code",
   "execution_count": 4,
   "id": "f93891b1",
   "metadata": {
    "execution": {
     "iopub.execute_input": "2022-06-29T06:14:31.255739Z",
     "iopub.status.busy": "2022-06-29T06:14:31.255287Z",
     "iopub.status.idle": "2022-06-29T06:14:31.266142Z",
     "shell.execute_reply": "2022-06-29T06:14:31.264553Z"
    },
    "papermill": {
     "duration": 0.025618,
     "end_time": "2022-06-29T06:14:31.269974",
     "exception": false,
     "start_time": "2022-06-29T06:14:31.244356",
     "status": "completed"
    },
    "tags": []
   },
   "outputs": [
    {
     "name": "stdout",
     "output_type": "stream",
     "text": [
      "number of trios:  245\n"
     ]
    }
   ],
   "source": [
    "#------ small test-sweep ------#\n",
    "# GAMMA_TRADES = [0.1, 1, 10, 100]\n",
    "# GAMMA_RISKS = [0.1, 1, 10, 100, 1000]\n",
    "# GAMMA_HOLDS = [0.1, 1]\n",
    "#------ extended-boyd-sweep ------#\n",
    "# GAMMA_TRADES =  [0.1, 0.5, 1, 2, 3, 4, 5, 5.5, 6, 6.5, 7, 7.5, 8, 9, 10, 11, 12, 15, 20, 30, 45, 60, 100, 200]\n",
    "# GAMMA_RISKS = [0.1, 0.178, 0.316, 0.562, 1, 2, 3, 6, 10, 18, 32, 56, 100, 178, 316, 562, 1000, 2000, 5000, 10000, 20000]\n",
    "#---------------------------------#\n",
    "\n",
    "GAMMA_TRIOS = []\n",
    "for tr in GAMMA_TRADES:\n",
    "    for ri in GAMMA_RISKS:\n",
    "        for hd in GAMMA_HOLDS:\n",
    "            GAMMA_TRIOS.append((tr, ri, hd))\n",
    "        \n",
    "#format: (gamma_trade, gamma_risk, gamma_hold)\n",
    "print('number of trios: ', len(GAMMA_TRIOS))\n",
    "#GAMMA_TRIOS"
   ]
  },
  {
   "cell_type": "code",
   "execution_count": 5,
   "id": "7e527116",
   "metadata": {
    "execution": {
     "iopub.execute_input": "2022-06-29T06:14:31.287676Z",
     "iopub.status.busy": "2022-06-29T06:14:31.287080Z",
     "iopub.status.idle": "2022-06-29T06:14:31.302060Z",
     "shell.execute_reply": "2022-06-29T06:14:31.300179Z"
    },
    "papermill": {
     "duration": 0.028069,
     "end_time": "2022-06-29T06:14:31.305645",
     "exception": false,
     "start_time": "2022-06-29T06:14:31.277576",
     "status": "completed"
    },
    "tags": []
   },
   "outputs": [],
   "source": [
    "# other constants and parameters\n",
    "TICKERS.sort()\n",
    "FILE_PERIOD = '1d' # weekly='5d', daily='1d'\n",
    "HALF_SPREAD = 0.0005/2.0 # 'a' in transaction cost function\n",
    "NONLIN_COEFF = 1.0 # 'b' transaction cost function\n",
    "POWER = 1.5 # power for change in poertfolio vector used in transaction cost\n",
    "INIT_PORTFOLIO = 100000000.0 # initial portfolio value\n",
    "\n",
    "USE_FORECASTS = model_parameters[MODEL_BASE_NAME]['use_forecasts'] # whether to use forecasts as inputs to agent policy net or not\n",
    "NB_FORECASTS = model_parameters[MODEL_BASE_NAME]['nb_forecasts'] # number of forecasts to use in state. Set to None for no forecasts\n",
    "FORECAST_TYPE = model_parameters[MODEL_BASE_NAME]['forecast_type'] # use 'strong' or 'weak' forecasts (if no forecasts given, this does not matter)\n",
    "USE_CNN_STATE = model_parameters[MODEL_BASE_NAME]['use_cnn_state'] # whether to pass log-rets block for CNN part of policy net (set to false for forecast only)\n",
    "\n",
    "TEST_NAME = f'{MARKET_NAME}_{MODEL_BASE_NAME}_seeds_{SEED_LIST[0]}_etc'\n",
    "RESULTS_DIR = f'../experiments/{MARKET_NAME}/seeded/{MODEL_BASE_NAME}/backtests/'\n",
    "DATA_DIR = f'../data/{MARKET_NAME}/preprocessed_data/'"
   ]
  },
  {
   "cell_type": "markdown",
   "id": "3ab42387",
   "metadata": {
    "papermill": {
     "duration": 0.006882,
     "end_time": "2022-06-29T06:14:31.352611",
     "exception": false,
     "start_time": "2022-06-29T06:14:31.345729",
     "status": "completed"
    },
    "tags": []
   },
   "source": [
    "## create agent(s) and backtest in new backtest env"
   ]
  },
  {
   "cell_type": "code",
   "execution_count": 6,
   "id": "3b72084e",
   "metadata": {
    "execution": {
     "iopub.execute_input": "2022-06-29T06:14:31.369217Z",
     "iopub.status.busy": "2022-06-29T06:14:31.368544Z",
     "iopub.status.idle": "2022-06-29T06:37:24.991132Z",
     "shell.execute_reply": "2022-06-29T06:37:24.989799Z"
    },
    "papermill": {
     "duration": 1373.636192,
     "end_time": "2022-06-29T06:37:24.995817",
     "exception": false,
     "start_time": "2022-06-29T06:14:31.359625",
     "status": "completed"
    },
    "scrolled": true,
    "tags": []
   },
   "outputs": [
    {
     "name": "stdout",
     "output_type": "stream",
     "text": [
      "creating environment and agent...\n"
     ]
    },
    {
     "name": "stdout",
     "output_type": "stream",
     "text": [
      "backtesting:\n",
      "\t[1/245]\tRL_CNN: gamma_trade=0.1, gamma_risk=0.1, gamma_hold=0.1, seed=0...\n"
     ]
    },
    {
     "name": "stdout",
     "output_type": "stream",
     "text": [
      "\t[2/245]\tRL_CNN: gamma_trade=0.1, gamma_risk=0.1, gamma_hold=1, seed=0...\n"
     ]
    },
    {
     "name": "stdout",
     "output_type": "stream",
     "text": [
      "\t[3/245]\tRL_CNN: gamma_trade=0.1, gamma_risk=0.1, gamma_hold=10, seed=0...\n"
     ]
    },
    {
     "name": "stdout",
     "output_type": "stream",
     "text": [
      "\t[4/245]\tRL_CNN: gamma_trade=0.1, gamma_risk=0.1, gamma_hold=100, seed=0...\n"
     ]
    },
    {
     "name": "stdout",
     "output_type": "stream",
     "text": [
      "\t[5/245]\tRL_CNN: gamma_trade=0.1, gamma_risk=0.1, gamma_hold=1000, seed=0...\n"
     ]
    },
    {
     "name": "stdout",
     "output_type": "stream",
     "text": [
      "\t[6/245]\tRL_CNN: gamma_trade=0.1, gamma_risk=0.1, gamma_hold=10000, seed=0...\n"
     ]
    },
    {
     "name": "stdout",
     "output_type": "stream",
     "text": [
      "\t[7/245]\tRL_CNN: gamma_trade=0.1, gamma_risk=0.1, gamma_hold=100000, seed=0...\n"
     ]
    },
    {
     "name": "stdout",
     "output_type": "stream",
     "text": [
      "\t[8/245]\tRL_CNN: gamma_trade=0.1, gamma_risk=1, gamma_hold=0.1, seed=0...\n"
     ]
    },
    {
     "name": "stdout",
     "output_type": "stream",
     "text": [
      "\t[9/245]\tRL_CNN: gamma_trade=0.1, gamma_risk=1, gamma_hold=1, seed=0...\n"
     ]
    },
    {
     "name": "stdout",
     "output_type": "stream",
     "text": [
      "\t[10/245]\tRL_CNN: gamma_trade=0.1, gamma_risk=1, gamma_hold=10, seed=0...\n"
     ]
    },
    {
     "name": "stdout",
     "output_type": "stream",
     "text": [
      "\t[11/245]\tRL_CNN: gamma_trade=0.1, gamma_risk=1, gamma_hold=100, seed=0...\n"
     ]
    },
    {
     "name": "stdout",
     "output_type": "stream",
     "text": [
      "\t[12/245]\tRL_CNN: gamma_trade=0.1, gamma_risk=1, gamma_hold=1000, seed=0...\n"
     ]
    },
    {
     "name": "stdout",
     "output_type": "stream",
     "text": [
      "\t[13/245]\tRL_CNN: gamma_trade=0.1, gamma_risk=1, gamma_hold=10000, seed=0...\n"
     ]
    },
    {
     "name": "stdout",
     "output_type": "stream",
     "text": [
      "\t[14/245]\tRL_CNN: gamma_trade=0.1, gamma_risk=1, gamma_hold=100000, seed=0...\n"
     ]
    },
    {
     "name": "stdout",
     "output_type": "stream",
     "text": [
      "\t[15/245]\tRL_CNN: gamma_trade=0.1, gamma_risk=10, gamma_hold=0.1, seed=0...\n"
     ]
    },
    {
     "name": "stdout",
     "output_type": "stream",
     "text": [
      "\t[16/245]\tRL_CNN: gamma_trade=0.1, gamma_risk=10, gamma_hold=1, seed=0...\n"
     ]
    },
    {
     "name": "stdout",
     "output_type": "stream",
     "text": [
      "\t[17/245]\tRL_CNN: gamma_trade=0.1, gamma_risk=10, gamma_hold=10, seed=0...\n"
     ]
    },
    {
     "name": "stdout",
     "output_type": "stream",
     "text": [
      "\t[18/245]\tRL_CNN: gamma_trade=0.1, gamma_risk=10, gamma_hold=100, seed=0...\n"
     ]
    },
    {
     "name": "stdout",
     "output_type": "stream",
     "text": [
      "\t[19/245]\tRL_CNN: gamma_trade=0.1, gamma_risk=10, gamma_hold=1000, seed=0...\n"
     ]
    },
    {
     "name": "stdout",
     "output_type": "stream",
     "text": [
      "\t[20/245]\tRL_CNN: gamma_trade=0.1, gamma_risk=10, gamma_hold=10000, seed=0...\n"
     ]
    },
    {
     "name": "stdout",
     "output_type": "stream",
     "text": [
      "\t[21/245]\tRL_CNN: gamma_trade=0.1, gamma_risk=10, gamma_hold=100000, seed=0...\n"
     ]
    },
    {
     "name": "stdout",
     "output_type": "stream",
     "text": [
      "\t[22/245]\tRL_CNN: gamma_trade=0.1, gamma_risk=100, gamma_hold=0.1, seed=0...\n"
     ]
    },
    {
     "name": "stdout",
     "output_type": "stream",
     "text": [
      "\t[23/245]\tRL_CNN: gamma_trade=0.1, gamma_risk=100, gamma_hold=1, seed=0...\n"
     ]
    },
    {
     "name": "stdout",
     "output_type": "stream",
     "text": [
      "\t[24/245]\tRL_CNN: gamma_trade=0.1, gamma_risk=100, gamma_hold=10, seed=0...\n"
     ]
    },
    {
     "name": "stdout",
     "output_type": "stream",
     "text": [
      "\t[25/245]\tRL_CNN: gamma_trade=0.1, gamma_risk=100, gamma_hold=100, seed=0...\n"
     ]
    },
    {
     "name": "stdout",
     "output_type": "stream",
     "text": [
      "\t[26/245]\tRL_CNN: gamma_trade=0.1, gamma_risk=100, gamma_hold=1000, seed=0...\n"
     ]
    },
    {
     "name": "stdout",
     "output_type": "stream",
     "text": [
      "\t[27/245]\tRL_CNN: gamma_trade=0.1, gamma_risk=100, gamma_hold=10000, seed=0...\n"
     ]
    },
    {
     "name": "stdout",
     "output_type": "stream",
     "text": [
      "\t[28/245]\tRL_CNN: gamma_trade=0.1, gamma_risk=100, gamma_hold=100000, seed=0...\n"
     ]
    },
    {
     "name": "stdout",
     "output_type": "stream",
     "text": [
      "\t[29/245]\tRL_CNN: gamma_trade=0.1, gamma_risk=1000, gamma_hold=0.1, seed=0...\n"
     ]
    },
    {
     "name": "stdout",
     "output_type": "stream",
     "text": [
      "\t[30/245]\tRL_CNN: gamma_trade=0.1, gamma_risk=1000, gamma_hold=1, seed=0...\n"
     ]
    },
    {
     "name": "stdout",
     "output_type": "stream",
     "text": [
      "\t[31/245]\tRL_CNN: gamma_trade=0.1, gamma_risk=1000, gamma_hold=10, seed=0...\n"
     ]
    },
    {
     "name": "stdout",
     "output_type": "stream",
     "text": [
      "\t[32/245]\tRL_CNN: gamma_trade=0.1, gamma_risk=1000, gamma_hold=100, seed=0...\n"
     ]
    },
    {
     "name": "stdout",
     "output_type": "stream",
     "text": [
      "\t[33/245]\tRL_CNN: gamma_trade=0.1, gamma_risk=1000, gamma_hold=1000, seed=0...\n"
     ]
    },
    {
     "name": "stdout",
     "output_type": "stream",
     "text": [
      "\t[34/245]\tRL_CNN: gamma_trade=0.1, gamma_risk=1000, gamma_hold=10000, seed=0...\n"
     ]
    },
    {
     "name": "stdout",
     "output_type": "stream",
     "text": [
      "\t[35/245]\tRL_CNN: gamma_trade=0.1, gamma_risk=1000, gamma_hold=100000, seed=0...\n"
     ]
    },
    {
     "name": "stdout",
     "output_type": "stream",
     "text": [
      "\t[36/245]\tRL_CNN: gamma_trade=0.1, gamma_risk=10000, gamma_hold=0.1, seed=0...\n"
     ]
    },
    {
     "name": "stdout",
     "output_type": "stream",
     "text": [
      "\t[37/245]\tRL_CNN: gamma_trade=0.1, gamma_risk=10000, gamma_hold=1, seed=0...\n"
     ]
    },
    {
     "name": "stdout",
     "output_type": "stream",
     "text": [
      "\t[38/245]\tRL_CNN: gamma_trade=0.1, gamma_risk=10000, gamma_hold=10, seed=0...\n"
     ]
    },
    {
     "name": "stdout",
     "output_type": "stream",
     "text": [
      "\t[39/245]\tRL_CNN: gamma_trade=0.1, gamma_risk=10000, gamma_hold=100, seed=0...\n"
     ]
    },
    {
     "name": "stdout",
     "output_type": "stream",
     "text": [
      "\t[40/245]\tRL_CNN: gamma_trade=0.1, gamma_risk=10000, gamma_hold=1000, seed=0...\n"
     ]
    },
    {
     "name": "stdout",
     "output_type": "stream",
     "text": [
      "\t[41/245]\tRL_CNN: gamma_trade=0.1, gamma_risk=10000, gamma_hold=10000, seed=0...\n"
     ]
    },
    {
     "name": "stdout",
     "output_type": "stream",
     "text": [
      "\t[42/245]\tRL_CNN: gamma_trade=0.1, gamma_risk=10000, gamma_hold=100000, seed=0...\n"
     ]
    },
    {
     "name": "stdout",
     "output_type": "stream",
     "text": [
      "\t[43/245]\tRL_CNN: gamma_trade=0.1, gamma_risk=100000, gamma_hold=0.1, seed=0...\n"
     ]
    },
    {
     "name": "stdout",
     "output_type": "stream",
     "text": [
      "\t[44/245]\tRL_CNN: gamma_trade=0.1, gamma_risk=100000, gamma_hold=1, seed=0...\n"
     ]
    },
    {
     "name": "stdout",
     "output_type": "stream",
     "text": [
      "\t[45/245]\tRL_CNN: gamma_trade=0.1, gamma_risk=100000, gamma_hold=10, seed=0...\n"
     ]
    },
    {
     "name": "stdout",
     "output_type": "stream",
     "text": [
      "\t[46/245]\tRL_CNN: gamma_trade=0.1, gamma_risk=100000, gamma_hold=100, seed=0...\n"
     ]
    },
    {
     "name": "stdout",
     "output_type": "stream",
     "text": [
      "\t[47/245]\tRL_CNN: gamma_trade=0.1, gamma_risk=100000, gamma_hold=1000, seed=0...\n"
     ]
    },
    {
     "name": "stdout",
     "output_type": "stream",
     "text": [
      "\t[48/245]\tRL_CNN: gamma_trade=0.1, gamma_risk=100000, gamma_hold=10000, seed=0...\n"
     ]
    },
    {
     "name": "stdout",
     "output_type": "stream",
     "text": [
      "\t[49/245]\tRL_CNN: gamma_trade=0.1, gamma_risk=100000, gamma_hold=100000, seed=0...\n"
     ]
    },
    {
     "name": "stdout",
     "output_type": "stream",
     "text": [
      "\t[50/245]\tRL_CNN: gamma_trade=1, gamma_risk=0.1, gamma_hold=0.1, seed=0...\n"
     ]
    },
    {
     "name": "stdout",
     "output_type": "stream",
     "text": [
      "\t[51/245]\tRL_CNN: gamma_trade=1, gamma_risk=0.1, gamma_hold=1, seed=0...\n"
     ]
    },
    {
     "name": "stdout",
     "output_type": "stream",
     "text": [
      "\t[52/245]\tRL_CNN: gamma_trade=1, gamma_risk=0.1, gamma_hold=10, seed=0...\n"
     ]
    },
    {
     "name": "stdout",
     "output_type": "stream",
     "text": [
      "\t[53/245]\tRL_CNN: gamma_trade=1, gamma_risk=0.1, gamma_hold=100, seed=0...\n"
     ]
    },
    {
     "name": "stdout",
     "output_type": "stream",
     "text": [
      "\t[54/245]\tRL_CNN: gamma_trade=1, gamma_risk=0.1, gamma_hold=1000, seed=0...\n"
     ]
    },
    {
     "name": "stdout",
     "output_type": "stream",
     "text": [
      "\t[55/245]\tRL_CNN: gamma_trade=1, gamma_risk=0.1, gamma_hold=10000, seed=0...\n"
     ]
    },
    {
     "name": "stdout",
     "output_type": "stream",
     "text": [
      "\t[56/245]\tRL_CNN: gamma_trade=1, gamma_risk=0.1, gamma_hold=100000, seed=0...\n"
     ]
    },
    {
     "name": "stdout",
     "output_type": "stream",
     "text": [
      "\t[57/245]\tRL_CNN: gamma_trade=1, gamma_risk=1, gamma_hold=0.1, seed=0...\n"
     ]
    },
    {
     "name": "stdout",
     "output_type": "stream",
     "text": [
      "\t[58/245]\tRL_CNN: gamma_trade=1, gamma_risk=1, gamma_hold=1, seed=0...\n"
     ]
    },
    {
     "name": "stdout",
     "output_type": "stream",
     "text": [
      "\t[59/245]\tRL_CNN: gamma_trade=1, gamma_risk=1, gamma_hold=10, seed=0...\n"
     ]
    },
    {
     "name": "stdout",
     "output_type": "stream",
     "text": [
      "\t[60/245]\tRL_CNN: gamma_trade=1, gamma_risk=1, gamma_hold=100, seed=0...\n"
     ]
    },
    {
     "name": "stdout",
     "output_type": "stream",
     "text": [
      "\t[61/245]\tRL_CNN: gamma_trade=1, gamma_risk=1, gamma_hold=1000, seed=0...\n"
     ]
    },
    {
     "name": "stdout",
     "output_type": "stream",
     "text": [
      "\t[62/245]\tRL_CNN: gamma_trade=1, gamma_risk=1, gamma_hold=10000, seed=0...\n"
     ]
    },
    {
     "name": "stdout",
     "output_type": "stream",
     "text": [
      "\t[63/245]\tRL_CNN: gamma_trade=1, gamma_risk=1, gamma_hold=100000, seed=0...\n"
     ]
    },
    {
     "name": "stdout",
     "output_type": "stream",
     "text": [
      "\t[64/245]\tRL_CNN: gamma_trade=1, gamma_risk=10, gamma_hold=0.1, seed=0...\n"
     ]
    },
    {
     "name": "stdout",
     "output_type": "stream",
     "text": [
      "\t[65/245]\tRL_CNN: gamma_trade=1, gamma_risk=10, gamma_hold=1, seed=0...\n"
     ]
    },
    {
     "name": "stdout",
     "output_type": "stream",
     "text": [
      "\t[66/245]\tRL_CNN: gamma_trade=1, gamma_risk=10, gamma_hold=10, seed=0...\n"
     ]
    },
    {
     "name": "stdout",
     "output_type": "stream",
     "text": [
      "\t[67/245]\tRL_CNN: gamma_trade=1, gamma_risk=10, gamma_hold=100, seed=0...\n"
     ]
    },
    {
     "name": "stdout",
     "output_type": "stream",
     "text": [
      "\t[68/245]\tRL_CNN: gamma_trade=1, gamma_risk=10, gamma_hold=1000, seed=0...\n"
     ]
    },
    {
     "name": "stdout",
     "output_type": "stream",
     "text": [
      "\t[69/245]\tRL_CNN: gamma_trade=1, gamma_risk=10, gamma_hold=10000, seed=0...\n"
     ]
    },
    {
     "name": "stdout",
     "output_type": "stream",
     "text": [
      "\t[70/245]\tRL_CNN: gamma_trade=1, gamma_risk=10, gamma_hold=100000, seed=0...\n"
     ]
    },
    {
     "name": "stdout",
     "output_type": "stream",
     "text": [
      "\t[71/245]\tRL_CNN: gamma_trade=1, gamma_risk=100, gamma_hold=0.1, seed=0...\n"
     ]
    },
    {
     "name": "stdout",
     "output_type": "stream",
     "text": [
      "\t[72/245]\tRL_CNN: gamma_trade=1, gamma_risk=100, gamma_hold=1, seed=0...\n"
     ]
    },
    {
     "name": "stdout",
     "output_type": "stream",
     "text": [
      "\t[73/245]\tRL_CNN: gamma_trade=1, gamma_risk=100, gamma_hold=10, seed=0...\n"
     ]
    },
    {
     "name": "stdout",
     "output_type": "stream",
     "text": [
      "\t[74/245]\tRL_CNN: gamma_trade=1, gamma_risk=100, gamma_hold=100, seed=0...\n"
     ]
    },
    {
     "name": "stdout",
     "output_type": "stream",
     "text": [
      "\t[75/245]\tRL_CNN: gamma_trade=1, gamma_risk=100, gamma_hold=1000, seed=0...\n"
     ]
    },
    {
     "name": "stdout",
     "output_type": "stream",
     "text": [
      "\t[76/245]\tRL_CNN: gamma_trade=1, gamma_risk=100, gamma_hold=10000, seed=0...\n"
     ]
    },
    {
     "name": "stdout",
     "output_type": "stream",
     "text": [
      "\t[77/245]\tRL_CNN: gamma_trade=1, gamma_risk=100, gamma_hold=100000, seed=0...\n"
     ]
    },
    {
     "name": "stdout",
     "output_type": "stream",
     "text": [
      "\t[78/245]\tRL_CNN: gamma_trade=1, gamma_risk=1000, gamma_hold=0.1, seed=0...\n"
     ]
    },
    {
     "name": "stdout",
     "output_type": "stream",
     "text": [
      "\t[79/245]\tRL_CNN: gamma_trade=1, gamma_risk=1000, gamma_hold=1, seed=0...\n"
     ]
    },
    {
     "name": "stdout",
     "output_type": "stream",
     "text": [
      "\t[80/245]\tRL_CNN: gamma_trade=1, gamma_risk=1000, gamma_hold=10, seed=0...\n"
     ]
    },
    {
     "name": "stdout",
     "output_type": "stream",
     "text": [
      "\t[81/245]\tRL_CNN: gamma_trade=1, gamma_risk=1000, gamma_hold=100, seed=0...\n"
     ]
    },
    {
     "name": "stdout",
     "output_type": "stream",
     "text": [
      "\t[82/245]\tRL_CNN: gamma_trade=1, gamma_risk=1000, gamma_hold=1000, seed=0...\n"
     ]
    },
    {
     "name": "stdout",
     "output_type": "stream",
     "text": [
      "\t[83/245]\tRL_CNN: gamma_trade=1, gamma_risk=1000, gamma_hold=10000, seed=0...\n"
     ]
    },
    {
     "name": "stdout",
     "output_type": "stream",
     "text": [
      "\t[84/245]\tRL_CNN: gamma_trade=1, gamma_risk=1000, gamma_hold=100000, seed=0...\n"
     ]
    },
    {
     "name": "stdout",
     "output_type": "stream",
     "text": [
      "\t[85/245]\tRL_CNN: gamma_trade=1, gamma_risk=10000, gamma_hold=0.1, seed=0...\n"
     ]
    },
    {
     "name": "stdout",
     "output_type": "stream",
     "text": [
      "\t[86/245]\tRL_CNN: gamma_trade=1, gamma_risk=10000, gamma_hold=1, seed=0...\n"
     ]
    },
    {
     "name": "stdout",
     "output_type": "stream",
     "text": [
      "\t[87/245]\tRL_CNN: gamma_trade=1, gamma_risk=10000, gamma_hold=10, seed=0...\n"
     ]
    },
    {
     "name": "stdout",
     "output_type": "stream",
     "text": [
      "\t[88/245]\tRL_CNN: gamma_trade=1, gamma_risk=10000, gamma_hold=100, seed=0...\n"
     ]
    },
    {
     "name": "stdout",
     "output_type": "stream",
     "text": [
      "\t[89/245]\tRL_CNN: gamma_trade=1, gamma_risk=10000, gamma_hold=1000, seed=0...\n"
     ]
    },
    {
     "name": "stdout",
     "output_type": "stream",
     "text": [
      "\t[90/245]\tRL_CNN: gamma_trade=1, gamma_risk=10000, gamma_hold=10000, seed=0...\n"
     ]
    },
    {
     "name": "stdout",
     "output_type": "stream",
     "text": [
      "\t[91/245]\tRL_CNN: gamma_trade=1, gamma_risk=10000, gamma_hold=100000, seed=0...\n"
     ]
    },
    {
     "name": "stdout",
     "output_type": "stream",
     "text": [
      "\t[92/245]\tRL_CNN: gamma_trade=1, gamma_risk=100000, gamma_hold=0.1, seed=0...\n"
     ]
    },
    {
     "name": "stdout",
     "output_type": "stream",
     "text": [
      "\t[93/245]\tRL_CNN: gamma_trade=1, gamma_risk=100000, gamma_hold=1, seed=0...\n"
     ]
    },
    {
     "name": "stdout",
     "output_type": "stream",
     "text": [
      "\t[94/245]\tRL_CNN: gamma_trade=1, gamma_risk=100000, gamma_hold=10, seed=0...\n"
     ]
    },
    {
     "name": "stdout",
     "output_type": "stream",
     "text": [
      "\t[95/245]\tRL_CNN: gamma_trade=1, gamma_risk=100000, gamma_hold=100, seed=0...\n"
     ]
    },
    {
     "name": "stdout",
     "output_type": "stream",
     "text": [
      "\t[96/245]\tRL_CNN: gamma_trade=1, gamma_risk=100000, gamma_hold=1000, seed=0...\n"
     ]
    },
    {
     "name": "stdout",
     "output_type": "stream",
     "text": [
      "\t[97/245]\tRL_CNN: gamma_trade=1, gamma_risk=100000, gamma_hold=10000, seed=0...\n"
     ]
    },
    {
     "name": "stdout",
     "output_type": "stream",
     "text": [
      "\t[98/245]\tRL_CNN: gamma_trade=1, gamma_risk=100000, gamma_hold=100000, seed=0...\n"
     ]
    },
    {
     "name": "stdout",
     "output_type": "stream",
     "text": [
      "\t[99/245]\tRL_CNN: gamma_trade=10, gamma_risk=0.1, gamma_hold=0.1, seed=0...\n"
     ]
    },
    {
     "name": "stdout",
     "output_type": "stream",
     "text": [
      "\t[100/245]\tRL_CNN: gamma_trade=10, gamma_risk=0.1, gamma_hold=1, seed=0...\n"
     ]
    },
    {
     "name": "stdout",
     "output_type": "stream",
     "text": [
      "\t[101/245]\tRL_CNN: gamma_trade=10, gamma_risk=0.1, gamma_hold=10, seed=0...\n"
     ]
    },
    {
     "name": "stdout",
     "output_type": "stream",
     "text": [
      "\t[102/245]\tRL_CNN: gamma_trade=10, gamma_risk=0.1, gamma_hold=100, seed=0...\n"
     ]
    },
    {
     "name": "stdout",
     "output_type": "stream",
     "text": [
      "\t[103/245]\tRL_CNN: gamma_trade=10, gamma_risk=0.1, gamma_hold=1000, seed=0...\n"
     ]
    },
    {
     "name": "stdout",
     "output_type": "stream",
     "text": [
      "\t[104/245]\tRL_CNN: gamma_trade=10, gamma_risk=0.1, gamma_hold=10000, seed=0...\n"
     ]
    },
    {
     "name": "stdout",
     "output_type": "stream",
     "text": [
      "\t[105/245]\tRL_CNN: gamma_trade=10, gamma_risk=0.1, gamma_hold=100000, seed=0...\n"
     ]
    },
    {
     "name": "stdout",
     "output_type": "stream",
     "text": [
      "\t[106/245]\tRL_CNN: gamma_trade=10, gamma_risk=1, gamma_hold=0.1, seed=0...\n"
     ]
    },
    {
     "name": "stdout",
     "output_type": "stream",
     "text": [
      "\t[107/245]\tRL_CNN: gamma_trade=10, gamma_risk=1, gamma_hold=1, seed=0...\n"
     ]
    },
    {
     "name": "stdout",
     "output_type": "stream",
     "text": [
      "\t[108/245]\tRL_CNN: gamma_trade=10, gamma_risk=1, gamma_hold=10, seed=0...\n"
     ]
    },
    {
     "name": "stdout",
     "output_type": "stream",
     "text": [
      "\t[109/245]\tRL_CNN: gamma_trade=10, gamma_risk=1, gamma_hold=100, seed=0...\n"
     ]
    },
    {
     "name": "stdout",
     "output_type": "stream",
     "text": [
      "\t[110/245]\tRL_CNN: gamma_trade=10, gamma_risk=1, gamma_hold=1000, seed=0...\n"
     ]
    },
    {
     "name": "stdout",
     "output_type": "stream",
     "text": [
      "\t[111/245]\tRL_CNN: gamma_trade=10, gamma_risk=1, gamma_hold=10000, seed=0...\n"
     ]
    },
    {
     "name": "stdout",
     "output_type": "stream",
     "text": [
      "\t[112/245]\tRL_CNN: gamma_trade=10, gamma_risk=1, gamma_hold=100000, seed=0...\n"
     ]
    },
    {
     "name": "stdout",
     "output_type": "stream",
     "text": [
      "\t[113/245]\tRL_CNN: gamma_trade=10, gamma_risk=10, gamma_hold=0.1, seed=0...\n"
     ]
    },
    {
     "name": "stdout",
     "output_type": "stream",
     "text": [
      "\t[114/245]\tRL_CNN: gamma_trade=10, gamma_risk=10, gamma_hold=1, seed=0...\n"
     ]
    },
    {
     "name": "stdout",
     "output_type": "stream",
     "text": [
      "\t[115/245]\tRL_CNN: gamma_trade=10, gamma_risk=10, gamma_hold=10, seed=0...\n"
     ]
    },
    {
     "name": "stdout",
     "output_type": "stream",
     "text": [
      "\t[116/245]\tRL_CNN: gamma_trade=10, gamma_risk=10, gamma_hold=100, seed=0...\n"
     ]
    },
    {
     "name": "stdout",
     "output_type": "stream",
     "text": [
      "\t[117/245]\tRL_CNN: gamma_trade=10, gamma_risk=10, gamma_hold=1000, seed=0...\n"
     ]
    },
    {
     "name": "stdout",
     "output_type": "stream",
     "text": [
      "\t[118/245]\tRL_CNN: gamma_trade=10, gamma_risk=10, gamma_hold=10000, seed=0...\n"
     ]
    },
    {
     "name": "stdout",
     "output_type": "stream",
     "text": [
      "\t[119/245]\tRL_CNN: gamma_trade=10, gamma_risk=10, gamma_hold=100000, seed=0...\n"
     ]
    },
    {
     "name": "stdout",
     "output_type": "stream",
     "text": [
      "\t[120/245]\tRL_CNN: gamma_trade=10, gamma_risk=100, gamma_hold=0.1, seed=0...\n"
     ]
    },
    {
     "name": "stdout",
     "output_type": "stream",
     "text": [
      "\t[121/245]\tRL_CNN: gamma_trade=10, gamma_risk=100, gamma_hold=1, seed=0...\n"
     ]
    },
    {
     "name": "stdout",
     "output_type": "stream",
     "text": [
      "\t[122/245]\tRL_CNN: gamma_trade=10, gamma_risk=100, gamma_hold=10, seed=0...\n"
     ]
    },
    {
     "name": "stdout",
     "output_type": "stream",
     "text": [
      "\t[123/245]\tRL_CNN: gamma_trade=10, gamma_risk=100, gamma_hold=100, seed=0...\n"
     ]
    },
    {
     "name": "stdout",
     "output_type": "stream",
     "text": [
      "\t[124/245]\tRL_CNN: gamma_trade=10, gamma_risk=100, gamma_hold=1000, seed=0...\n"
     ]
    },
    {
     "name": "stdout",
     "output_type": "stream",
     "text": [
      "\t[125/245]\tRL_CNN: gamma_trade=10, gamma_risk=100, gamma_hold=10000, seed=0...\n"
     ]
    },
    {
     "name": "stdout",
     "output_type": "stream",
     "text": [
      "\t[126/245]\tRL_CNN: gamma_trade=10, gamma_risk=100, gamma_hold=100000, seed=0...\n"
     ]
    },
    {
     "name": "stdout",
     "output_type": "stream",
     "text": [
      "\t[127/245]\tRL_CNN: gamma_trade=10, gamma_risk=1000, gamma_hold=0.1, seed=0...\n"
     ]
    },
    {
     "name": "stdout",
     "output_type": "stream",
     "text": [
      "\t[128/245]\tRL_CNN: gamma_trade=10, gamma_risk=1000, gamma_hold=1, seed=0...\n"
     ]
    },
    {
     "name": "stdout",
     "output_type": "stream",
     "text": [
      "\t[129/245]\tRL_CNN: gamma_trade=10, gamma_risk=1000, gamma_hold=10, seed=0...\n"
     ]
    },
    {
     "name": "stdout",
     "output_type": "stream",
     "text": [
      "\t[130/245]\tRL_CNN: gamma_trade=10, gamma_risk=1000, gamma_hold=100, seed=0...\n"
     ]
    },
    {
     "name": "stdout",
     "output_type": "stream",
     "text": [
      "\t[131/245]\tRL_CNN: gamma_trade=10, gamma_risk=1000, gamma_hold=1000, seed=0...\n"
     ]
    },
    {
     "name": "stdout",
     "output_type": "stream",
     "text": [
      "\t[132/245]\tRL_CNN: gamma_trade=10, gamma_risk=1000, gamma_hold=10000, seed=0...\n"
     ]
    },
    {
     "name": "stdout",
     "output_type": "stream",
     "text": [
      "\t[133/245]\tRL_CNN: gamma_trade=10, gamma_risk=1000, gamma_hold=100000, seed=0...\n"
     ]
    },
    {
     "name": "stdout",
     "output_type": "stream",
     "text": [
      "\t[134/245]\tRL_CNN: gamma_trade=10, gamma_risk=10000, gamma_hold=0.1, seed=0...\n"
     ]
    },
    {
     "name": "stdout",
     "output_type": "stream",
     "text": [
      "\t[135/245]\tRL_CNN: gamma_trade=10, gamma_risk=10000, gamma_hold=1, seed=0...\n"
     ]
    },
    {
     "name": "stdout",
     "output_type": "stream",
     "text": [
      "\t[136/245]\tRL_CNN: gamma_trade=10, gamma_risk=10000, gamma_hold=10, seed=0...\n"
     ]
    },
    {
     "name": "stdout",
     "output_type": "stream",
     "text": [
      "\t[137/245]\tRL_CNN: gamma_trade=10, gamma_risk=10000, gamma_hold=100, seed=0...\n"
     ]
    },
    {
     "name": "stdout",
     "output_type": "stream",
     "text": [
      "\t[138/245]\tRL_CNN: gamma_trade=10, gamma_risk=10000, gamma_hold=1000, seed=0...\n"
     ]
    },
    {
     "name": "stdout",
     "output_type": "stream",
     "text": [
      "\t[139/245]\tRL_CNN: gamma_trade=10, gamma_risk=10000, gamma_hold=10000, seed=0...\n"
     ]
    },
    {
     "name": "stdout",
     "output_type": "stream",
     "text": [
      "\t[140/245]\tRL_CNN: gamma_trade=10, gamma_risk=10000, gamma_hold=100000, seed=0...\n"
     ]
    },
    {
     "name": "stdout",
     "output_type": "stream",
     "text": [
      "\t[141/245]\tRL_CNN: gamma_trade=10, gamma_risk=100000, gamma_hold=0.1, seed=0...\n"
     ]
    },
    {
     "name": "stdout",
     "output_type": "stream",
     "text": [
      "\t[142/245]\tRL_CNN: gamma_trade=10, gamma_risk=100000, gamma_hold=1, seed=0...\n"
     ]
    },
    {
     "name": "stdout",
     "output_type": "stream",
     "text": [
      "\t[143/245]\tRL_CNN: gamma_trade=10, gamma_risk=100000, gamma_hold=10, seed=0...\n"
     ]
    },
    {
     "name": "stdout",
     "output_type": "stream",
     "text": [
      "\t[144/245]\tRL_CNN: gamma_trade=10, gamma_risk=100000, gamma_hold=100, seed=0...\n"
     ]
    },
    {
     "name": "stdout",
     "output_type": "stream",
     "text": [
      "\t[145/245]\tRL_CNN: gamma_trade=10, gamma_risk=100000, gamma_hold=1000, seed=0...\n"
     ]
    },
    {
     "name": "stdout",
     "output_type": "stream",
     "text": [
      "\t[146/245]\tRL_CNN: gamma_trade=10, gamma_risk=100000, gamma_hold=10000, seed=0...\n"
     ]
    },
    {
     "name": "stdout",
     "output_type": "stream",
     "text": [
      "\t[147/245]\tRL_CNN: gamma_trade=10, gamma_risk=100000, gamma_hold=100000, seed=0...\n"
     ]
    },
    {
     "name": "stdout",
     "output_type": "stream",
     "text": [
      "\t[148/245]\tRL_CNN: gamma_trade=100, gamma_risk=0.1, gamma_hold=0.1, seed=0...\n"
     ]
    },
    {
     "name": "stdout",
     "output_type": "stream",
     "text": [
      "\t[149/245]\tRL_CNN: gamma_trade=100, gamma_risk=0.1, gamma_hold=1, seed=0...\n"
     ]
    },
    {
     "name": "stdout",
     "output_type": "stream",
     "text": [
      "\t[150/245]\tRL_CNN: gamma_trade=100, gamma_risk=0.1, gamma_hold=10, seed=0...\n"
     ]
    },
    {
     "name": "stdout",
     "output_type": "stream",
     "text": [
      "\t[151/245]\tRL_CNN: gamma_trade=100, gamma_risk=0.1, gamma_hold=100, seed=0...\n"
     ]
    },
    {
     "name": "stdout",
     "output_type": "stream",
     "text": [
      "\t[152/245]\tRL_CNN: gamma_trade=100, gamma_risk=0.1, gamma_hold=1000, seed=0...\n"
     ]
    },
    {
     "name": "stdout",
     "output_type": "stream",
     "text": [
      "\t[153/245]\tRL_CNN: gamma_trade=100, gamma_risk=0.1, gamma_hold=10000, seed=0...\n"
     ]
    },
    {
     "name": "stdout",
     "output_type": "stream",
     "text": [
      "\t[154/245]\tRL_CNN: gamma_trade=100, gamma_risk=0.1, gamma_hold=100000, seed=0...\n"
     ]
    },
    {
     "name": "stdout",
     "output_type": "stream",
     "text": [
      "\t[155/245]\tRL_CNN: gamma_trade=100, gamma_risk=1, gamma_hold=0.1, seed=0...\n"
     ]
    },
    {
     "name": "stdout",
     "output_type": "stream",
     "text": [
      "\t[156/245]\tRL_CNN: gamma_trade=100, gamma_risk=1, gamma_hold=1, seed=0...\n"
     ]
    },
    {
     "name": "stdout",
     "output_type": "stream",
     "text": [
      "\t[157/245]\tRL_CNN: gamma_trade=100, gamma_risk=1, gamma_hold=10, seed=0...\n"
     ]
    },
    {
     "name": "stdout",
     "output_type": "stream",
     "text": [
      "\t[158/245]\tRL_CNN: gamma_trade=100, gamma_risk=1, gamma_hold=100, seed=0...\n"
     ]
    },
    {
     "name": "stdout",
     "output_type": "stream",
     "text": [
      "\t[159/245]\tRL_CNN: gamma_trade=100, gamma_risk=1, gamma_hold=1000, seed=0...\n"
     ]
    },
    {
     "name": "stdout",
     "output_type": "stream",
     "text": [
      "\t[160/245]\tRL_CNN: gamma_trade=100, gamma_risk=1, gamma_hold=10000, seed=0...\n"
     ]
    },
    {
     "name": "stdout",
     "output_type": "stream",
     "text": [
      "\t[161/245]\tRL_CNN: gamma_trade=100, gamma_risk=1, gamma_hold=100000, seed=0...\n"
     ]
    },
    {
     "name": "stdout",
     "output_type": "stream",
     "text": [
      "\t[162/245]\tRL_CNN: gamma_trade=100, gamma_risk=10, gamma_hold=0.1, seed=0...\n"
     ]
    },
    {
     "name": "stdout",
     "output_type": "stream",
     "text": [
      "\t[163/245]\tRL_CNN: gamma_trade=100, gamma_risk=10, gamma_hold=1, seed=0...\n"
     ]
    },
    {
     "name": "stdout",
     "output_type": "stream",
     "text": [
      "\t[164/245]\tRL_CNN: gamma_trade=100, gamma_risk=10, gamma_hold=10, seed=0...\n"
     ]
    },
    {
     "name": "stdout",
     "output_type": "stream",
     "text": [
      "\t[165/245]\tRL_CNN: gamma_trade=100, gamma_risk=10, gamma_hold=100, seed=0...\n"
     ]
    },
    {
     "name": "stdout",
     "output_type": "stream",
     "text": [
      "\t[166/245]\tRL_CNN: gamma_trade=100, gamma_risk=10, gamma_hold=1000, seed=0...\n"
     ]
    },
    {
     "name": "stdout",
     "output_type": "stream",
     "text": [
      "\t[167/245]\tRL_CNN: gamma_trade=100, gamma_risk=10, gamma_hold=10000, seed=0...\n"
     ]
    },
    {
     "name": "stdout",
     "output_type": "stream",
     "text": [
      "\t[168/245]\tRL_CNN: gamma_trade=100, gamma_risk=10, gamma_hold=100000, seed=0...\n"
     ]
    },
    {
     "name": "stdout",
     "output_type": "stream",
     "text": [
      "\t[169/245]\tRL_CNN: gamma_trade=100, gamma_risk=100, gamma_hold=0.1, seed=0...\n"
     ]
    },
    {
     "name": "stdout",
     "output_type": "stream",
     "text": [
      "\t[170/245]\tRL_CNN: gamma_trade=100, gamma_risk=100, gamma_hold=1, seed=0...\n"
     ]
    },
    {
     "name": "stdout",
     "output_type": "stream",
     "text": [
      "\t[171/245]\tRL_CNN: gamma_trade=100, gamma_risk=100, gamma_hold=10, seed=0...\n"
     ]
    },
    {
     "name": "stdout",
     "output_type": "stream",
     "text": [
      "\t[172/245]\tRL_CNN: gamma_trade=100, gamma_risk=100, gamma_hold=100, seed=0...\n"
     ]
    },
    {
     "name": "stdout",
     "output_type": "stream",
     "text": [
      "\t[173/245]\tRL_CNN: gamma_trade=100, gamma_risk=100, gamma_hold=1000, seed=0...\n",
      "**error for model: trade_100_risk_100_hold_1000\n",
      "\t[174/245]\tRL_CNN: gamma_trade=100, gamma_risk=100, gamma_hold=10000, seed=0...\n"
     ]
    },
    {
     "name": "stdout",
     "output_type": "stream",
     "text": [
      "\t[175/245]\tRL_CNN: gamma_trade=100, gamma_risk=100, gamma_hold=100000, seed=0...\n"
     ]
    },
    {
     "name": "stdout",
     "output_type": "stream",
     "text": [
      "\t[176/245]\tRL_CNN: gamma_trade=100, gamma_risk=1000, gamma_hold=0.1, seed=0...\n"
     ]
    },
    {
     "name": "stdout",
     "output_type": "stream",
     "text": [
      "\t[177/245]\tRL_CNN: gamma_trade=100, gamma_risk=1000, gamma_hold=1, seed=0...\n"
     ]
    },
    {
     "name": "stdout",
     "output_type": "stream",
     "text": [
      "\t[178/245]\tRL_CNN: gamma_trade=100, gamma_risk=1000, gamma_hold=10, seed=0...\n"
     ]
    },
    {
     "name": "stdout",
     "output_type": "stream",
     "text": [
      "\t[179/245]\tRL_CNN: gamma_trade=100, gamma_risk=1000, gamma_hold=100, seed=0...\n"
     ]
    },
    {
     "name": "stdout",
     "output_type": "stream",
     "text": [
      "\t[180/245]\tRL_CNN: gamma_trade=100, gamma_risk=1000, gamma_hold=1000, seed=0...\n"
     ]
    },
    {
     "name": "stdout",
     "output_type": "stream",
     "text": [
      "\t[181/245]\tRL_CNN: gamma_trade=100, gamma_risk=1000, gamma_hold=10000, seed=0...\n"
     ]
    },
    {
     "name": "stdout",
     "output_type": "stream",
     "text": [
      "\t[182/245]\tRL_CNN: gamma_trade=100, gamma_risk=1000, gamma_hold=100000, seed=0...\n"
     ]
    },
    {
     "name": "stdout",
     "output_type": "stream",
     "text": [
      "\t[183/245]\tRL_CNN: gamma_trade=100, gamma_risk=10000, gamma_hold=0.1, seed=0...\n"
     ]
    },
    {
     "name": "stdout",
     "output_type": "stream",
     "text": [
      "\t[184/245]\tRL_CNN: gamma_trade=100, gamma_risk=10000, gamma_hold=1, seed=0...\n"
     ]
    },
    {
     "name": "stdout",
     "output_type": "stream",
     "text": [
      "\t[185/245]\tRL_CNN: gamma_trade=100, gamma_risk=10000, gamma_hold=10, seed=0...\n"
     ]
    },
    {
     "name": "stdout",
     "output_type": "stream",
     "text": [
      "\t[186/245]\tRL_CNN: gamma_trade=100, gamma_risk=10000, gamma_hold=100, seed=0...\n"
     ]
    },
    {
     "name": "stdout",
     "output_type": "stream",
     "text": [
      "\t[187/245]\tRL_CNN: gamma_trade=100, gamma_risk=10000, gamma_hold=1000, seed=0...\n"
     ]
    },
    {
     "name": "stdout",
     "output_type": "stream",
     "text": [
      "\t[188/245]\tRL_CNN: gamma_trade=100, gamma_risk=10000, gamma_hold=10000, seed=0...\n"
     ]
    },
    {
     "name": "stdout",
     "output_type": "stream",
     "text": [
      "\t[189/245]\tRL_CNN: gamma_trade=100, gamma_risk=10000, gamma_hold=100000, seed=0...\n"
     ]
    },
    {
     "name": "stdout",
     "output_type": "stream",
     "text": [
      "\t[190/245]\tRL_CNN: gamma_trade=100, gamma_risk=100000, gamma_hold=0.1, seed=0...\n"
     ]
    },
    {
     "name": "stdout",
     "output_type": "stream",
     "text": [
      "\t[191/245]\tRL_CNN: gamma_trade=100, gamma_risk=100000, gamma_hold=1, seed=0...\n"
     ]
    },
    {
     "name": "stdout",
     "output_type": "stream",
     "text": [
      "\t[192/245]\tRL_CNN: gamma_trade=100, gamma_risk=100000, gamma_hold=10, seed=0...\n"
     ]
    },
    {
     "name": "stdout",
     "output_type": "stream",
     "text": [
      "\t[193/245]\tRL_CNN: gamma_trade=100, gamma_risk=100000, gamma_hold=100, seed=0...\n"
     ]
    },
    {
     "name": "stdout",
     "output_type": "stream",
     "text": [
      "\t[194/245]\tRL_CNN: gamma_trade=100, gamma_risk=100000, gamma_hold=1000, seed=0...\n"
     ]
    },
    {
     "name": "stdout",
     "output_type": "stream",
     "text": [
      "\t[195/245]\tRL_CNN: gamma_trade=100, gamma_risk=100000, gamma_hold=10000, seed=0...\n"
     ]
    },
    {
     "name": "stdout",
     "output_type": "stream",
     "text": [
      "\t[196/245]\tRL_CNN: gamma_trade=100, gamma_risk=100000, gamma_hold=100000, seed=0...\n"
     ]
    },
    {
     "name": "stdout",
     "output_type": "stream",
     "text": [
      "\t[197/245]\tRL_CNN: gamma_trade=1000, gamma_risk=0.1, gamma_hold=0.1, seed=0...\n"
     ]
    },
    {
     "name": "stdout",
     "output_type": "stream",
     "text": [
      "\t[198/245]\tRL_CNN: gamma_trade=1000, gamma_risk=0.1, gamma_hold=1, seed=0...\n"
     ]
    },
    {
     "name": "stdout",
     "output_type": "stream",
     "text": [
      "\t[199/245]\tRL_CNN: gamma_trade=1000, gamma_risk=0.1, gamma_hold=10, seed=0...\n"
     ]
    },
    {
     "name": "stdout",
     "output_type": "stream",
     "text": [
      "\t[200/245]\tRL_CNN: gamma_trade=1000, gamma_risk=0.1, gamma_hold=100, seed=0...\n"
     ]
    },
    {
     "name": "stdout",
     "output_type": "stream",
     "text": [
      "\t[201/245]\tRL_CNN: gamma_trade=1000, gamma_risk=0.1, gamma_hold=1000, seed=0...\n"
     ]
    },
    {
     "name": "stdout",
     "output_type": "stream",
     "text": [
      "\t[202/245]\tRL_CNN: gamma_trade=1000, gamma_risk=0.1, gamma_hold=10000, seed=0...\n"
     ]
    },
    {
     "name": "stdout",
     "output_type": "stream",
     "text": [
      "\t[203/245]\tRL_CNN: gamma_trade=1000, gamma_risk=0.1, gamma_hold=100000, seed=0...\n"
     ]
    },
    {
     "name": "stdout",
     "output_type": "stream",
     "text": [
      "\t[204/245]\tRL_CNN: gamma_trade=1000, gamma_risk=1, gamma_hold=0.1, seed=0...\n"
     ]
    },
    {
     "name": "stdout",
     "output_type": "stream",
     "text": [
      "\t[205/245]\tRL_CNN: gamma_trade=1000, gamma_risk=1, gamma_hold=1, seed=0...\n"
     ]
    },
    {
     "name": "stdout",
     "output_type": "stream",
     "text": [
      "\t[206/245]\tRL_CNN: gamma_trade=1000, gamma_risk=1, gamma_hold=10, seed=0...\n"
     ]
    },
    {
     "name": "stdout",
     "output_type": "stream",
     "text": [
      "\t[207/245]\tRL_CNN: gamma_trade=1000, gamma_risk=1, gamma_hold=100, seed=0...\n"
     ]
    },
    {
     "name": "stdout",
     "output_type": "stream",
     "text": [
      "\t[208/245]\tRL_CNN: gamma_trade=1000, gamma_risk=1, gamma_hold=1000, seed=0...\n"
     ]
    },
    {
     "name": "stdout",
     "output_type": "stream",
     "text": [
      "\t[209/245]\tRL_CNN: gamma_trade=1000, gamma_risk=1, gamma_hold=10000, seed=0...\n"
     ]
    },
    {
     "name": "stdout",
     "output_type": "stream",
     "text": [
      "\t[210/245]\tRL_CNN: gamma_trade=1000, gamma_risk=1, gamma_hold=100000, seed=0...\n"
     ]
    },
    {
     "name": "stdout",
     "output_type": "stream",
     "text": [
      "\t[211/245]\tRL_CNN: gamma_trade=1000, gamma_risk=10, gamma_hold=0.1, seed=0...\n"
     ]
    },
    {
     "name": "stdout",
     "output_type": "stream",
     "text": [
      "\t[212/245]\tRL_CNN: gamma_trade=1000, gamma_risk=10, gamma_hold=1, seed=0...\n"
     ]
    },
    {
     "name": "stdout",
     "output_type": "stream",
     "text": [
      "\t[213/245]\tRL_CNN: gamma_trade=1000, gamma_risk=10, gamma_hold=10, seed=0...\n"
     ]
    },
    {
     "name": "stdout",
     "output_type": "stream",
     "text": [
      "\t[214/245]\tRL_CNN: gamma_trade=1000, gamma_risk=10, gamma_hold=100, seed=0...\n"
     ]
    },
    {
     "name": "stdout",
     "output_type": "stream",
     "text": [
      "\t[215/245]\tRL_CNN: gamma_trade=1000, gamma_risk=10, gamma_hold=1000, seed=0...\n"
     ]
    },
    {
     "name": "stdout",
     "output_type": "stream",
     "text": [
      "\t[216/245]\tRL_CNN: gamma_trade=1000, gamma_risk=10, gamma_hold=10000, seed=0...\n"
     ]
    },
    {
     "name": "stdout",
     "output_type": "stream",
     "text": [
      "\t[217/245]\tRL_CNN: gamma_trade=1000, gamma_risk=10, gamma_hold=100000, seed=0...\n"
     ]
    },
    {
     "name": "stdout",
     "output_type": "stream",
     "text": [
      "\t[218/245]\tRL_CNN: gamma_trade=1000, gamma_risk=100, gamma_hold=0.1, seed=0...\n"
     ]
    },
    {
     "name": "stdout",
     "output_type": "stream",
     "text": [
      "\t[219/245]\tRL_CNN: gamma_trade=1000, gamma_risk=100, gamma_hold=1, seed=0...\n"
     ]
    },
    {
     "name": "stdout",
     "output_type": "stream",
     "text": [
      "\t[220/245]\tRL_CNN: gamma_trade=1000, gamma_risk=100, gamma_hold=10, seed=0...\n"
     ]
    },
    {
     "name": "stdout",
     "output_type": "stream",
     "text": [
      "\t[221/245]\tRL_CNN: gamma_trade=1000, gamma_risk=100, gamma_hold=100, seed=0...\n"
     ]
    },
    {
     "name": "stdout",
     "output_type": "stream",
     "text": [
      "\t[222/245]\tRL_CNN: gamma_trade=1000, gamma_risk=100, gamma_hold=1000, seed=0...\n"
     ]
    },
    {
     "name": "stdout",
     "output_type": "stream",
     "text": [
      "\t[223/245]\tRL_CNN: gamma_trade=1000, gamma_risk=100, gamma_hold=10000, seed=0...\n"
     ]
    },
    {
     "name": "stdout",
     "output_type": "stream",
     "text": [
      "\t[224/245]\tRL_CNN: gamma_trade=1000, gamma_risk=100, gamma_hold=100000, seed=0...\n"
     ]
    },
    {
     "name": "stdout",
     "output_type": "stream",
     "text": [
      "\t[225/245]\tRL_CNN: gamma_trade=1000, gamma_risk=1000, gamma_hold=0.1, seed=0...\n"
     ]
    },
    {
     "name": "stdout",
     "output_type": "stream",
     "text": [
      "\t[226/245]\tRL_CNN: gamma_trade=1000, gamma_risk=1000, gamma_hold=1, seed=0...\n"
     ]
    },
    {
     "name": "stdout",
     "output_type": "stream",
     "text": [
      "\t[227/245]\tRL_CNN: gamma_trade=1000, gamma_risk=1000, gamma_hold=10, seed=0...\n"
     ]
    },
    {
     "name": "stdout",
     "output_type": "stream",
     "text": [
      "\t[228/245]\tRL_CNN: gamma_trade=1000, gamma_risk=1000, gamma_hold=100, seed=0...\n"
     ]
    },
    {
     "name": "stdout",
     "output_type": "stream",
     "text": [
      "\t[229/245]\tRL_CNN: gamma_trade=1000, gamma_risk=1000, gamma_hold=1000, seed=0...\n"
     ]
    },
    {
     "name": "stdout",
     "output_type": "stream",
     "text": [
      "\t[230/245]\tRL_CNN: gamma_trade=1000, gamma_risk=1000, gamma_hold=10000, seed=0...\n"
     ]
    },
    {
     "name": "stdout",
     "output_type": "stream",
     "text": [
      "\t[231/245]\tRL_CNN: gamma_trade=1000, gamma_risk=1000, gamma_hold=100000, seed=0...\n"
     ]
    },
    {
     "name": "stdout",
     "output_type": "stream",
     "text": [
      "\t[232/245]\tRL_CNN: gamma_trade=1000, gamma_risk=10000, gamma_hold=0.1, seed=0...\n"
     ]
    },
    {
     "name": "stdout",
     "output_type": "stream",
     "text": [
      "\t[233/245]\tRL_CNN: gamma_trade=1000, gamma_risk=10000, gamma_hold=1, seed=0...\n"
     ]
    },
    {
     "name": "stdout",
     "output_type": "stream",
     "text": [
      "\t[234/245]\tRL_CNN: gamma_trade=1000, gamma_risk=10000, gamma_hold=10, seed=0...\n"
     ]
    },
    {
     "name": "stdout",
     "output_type": "stream",
     "text": [
      "\t[235/245]\tRL_CNN: gamma_trade=1000, gamma_risk=10000, gamma_hold=100, seed=0...\n"
     ]
    },
    {
     "name": "stdout",
     "output_type": "stream",
     "text": [
      "\t[236/245]\tRL_CNN: gamma_trade=1000, gamma_risk=10000, gamma_hold=1000, seed=0...\n"
     ]
    },
    {
     "name": "stdout",
     "output_type": "stream",
     "text": [
      "\t[237/245]\tRL_CNN: gamma_trade=1000, gamma_risk=10000, gamma_hold=10000, seed=0...\n"
     ]
    },
    {
     "name": "stdout",
     "output_type": "stream",
     "text": [
      "\t[238/245]\tRL_CNN: gamma_trade=1000, gamma_risk=10000, gamma_hold=100000, seed=0...\n"
     ]
    },
    {
     "name": "stdout",
     "output_type": "stream",
     "text": [
      "\t[239/245]\tRL_CNN: gamma_trade=1000, gamma_risk=100000, gamma_hold=0.1, seed=0...\n"
     ]
    },
    {
     "name": "stdout",
     "output_type": "stream",
     "text": [
      "\t[240/245]\tRL_CNN: gamma_trade=1000, gamma_risk=100000, gamma_hold=1, seed=0...\n"
     ]
    },
    {
     "name": "stdout",
     "output_type": "stream",
     "text": [
      "\t[241/245]\tRL_CNN: gamma_trade=1000, gamma_risk=100000, gamma_hold=10, seed=0...\n"
     ]
    },
    {
     "name": "stdout",
     "output_type": "stream",
     "text": [
      "\t[242/245]\tRL_CNN: gamma_trade=1000, gamma_risk=100000, gamma_hold=100, seed=0...\n"
     ]
    },
    {
     "name": "stdout",
     "output_type": "stream",
     "text": [
      "\t[243/245]\tRL_CNN: gamma_trade=1000, gamma_risk=100000, gamma_hold=1000, seed=0...\n"
     ]
    },
    {
     "name": "stdout",
     "output_type": "stream",
     "text": [
      "\t[244/245]\tRL_CNN: gamma_trade=1000, gamma_risk=100000, gamma_hold=10000, seed=0...\n"
     ]
    },
    {
     "name": "stdout",
     "output_type": "stream",
     "text": [
      "\t[245/245]\tRL_CNN: gamma_trade=1000, gamma_risk=100000, gamma_hold=100000, seed=0...\n"
     ]
    },
    {
     "name": "stdout",
     "output_type": "stream",
     "text": [
      "CPU times: user 22min 53s, sys: 931 ms, total: 22min 54s\n",
      "Wall time: 22min 53s\n"
     ]
    }
   ],
   "source": [
    "%%time\n",
    "# make directory for results if it does not exist already\n",
    "maybe_make_dir(RESULTS_DIR)\n",
    "\n",
    "print('creating environment and agent...')\n",
    "env = MultiStockEnv(tickers=TICKERS, \n",
    "                    from_date=FROM,\n",
    "                    until=UNTIL, \n",
    "                    #nb_episodes=100,\n",
    "                    cash_key='USDOLLAR', \n",
    "                    #gamma_risk=GAMMA_RISK, \n",
    "                    #gamma_trade=GAMMA_TRADE,\n",
    "                    #half_spread=HALF_SPREAD, \n",
    "                    nonlin_coef=NONLIN_COEFF, \n",
    "                    power=POWER, \n",
    "                    datadir=DATA_DIR, \n",
    "                    state_lookback_window=20, \n",
    "                    #distribution=EPISODE_DRAW_DISTRIBUTION,\n",
    "                    #days_duration=DAYS_IN_EPISODE, \n",
    "                    mode='backtest', \n",
    "                    random_seed=7,\n",
    "                    init_portfolio=INIT_PORTFOLIO, \n",
    "                    period_in_file_name=FILE_PERIOD, \n",
    "                    nb_forecasts=NB_FORECASTS, \n",
    "                    forecast_type=FORECAST_TYPE,\n",
    "                    use_CNN_state=USE_CNN_STATE,\n",
    "                    verbose=False)\n",
    "\n",
    "agent = Agent(alpha=0.001, \n",
    "              gamma=0.99, \n",
    "              n_assets=len(TICKERS)+1, \n",
    "              tau=5, \n",
    "              lookback_window=20, \n",
    "              n_feature_maps=len(TICKERS)+1,\n",
    "              use_forecasts=USE_FORECASTS,\n",
    "              use_CNN_state=USE_CNN_STATE,\n",
    "              allow_long_short_trades=True)\n",
    "\n",
    "results_dict = {}\n",
    "#actions_dict = {}\n",
    "print('backtesting:')\n",
    "\n",
    "total_backtests = len(SEED_LIST) * len(GAMMA_TRIOS)\n",
    "backtest_counter = 0\n",
    "\n",
    "for RANDOM_SEED in SEED_LIST:\n",
    "    for (GAMMA_TRADE, GAMMA_RISK, GAMMA_HOLD) in GAMMA_TRIOS:\n",
    "        \n",
    "        backtest_counter += 1\n",
    "        print(f'\\t[{backtest_counter}/{total_backtests}]\\t{MODEL_BASE_NAME}: gamma_trade={GAMMA_TRADE}, gamma_risk={GAMMA_RISK}, gamma_hold={GAMMA_HOLD}, seed={RANDOM_SEED}...')\n",
    "        \n",
    "        # load trained RL model for backtesting\n",
    "        SAVED_MODEL_DIR = f'../experiments/{MARKET_NAME}/seeded/{MODEL_BASE_NAME}/seed_{RANDOM_SEED}/trade_{GAMMA_TRADE}_risk_{GAMMA_RISK}_hold_{GAMMA_HOLD}/models/{MODEL_BASE_NAME}_seed_{RANDOM_SEED}_{NB_EPISODES}'\n",
    "        # set dir where actions csv file will be saved\n",
    "        actions_dir = f'../experiments/{MARKET_NAME}/seeded/{MODEL_BASE_NAME}/seed_{RANDOM_SEED}/trade_{GAMMA_TRADE}_risk_{GAMMA_RISK}_hold_{GAMMA_HOLD}'\n",
    "        \n",
    "        try:\n",
    "            rl_rets, rl_actions = backtest(agent, env, weights_file_dir=SAVED_MODEL_DIR, verbose=False)\n",
    "            \n",
    "            #rl_rets = pd.Series(data=rl_rets, index=env.returns.loc[FROM:UNTIL].iloc[1:].index)\n",
    "            #rl_actions = pd.DataFrame(data=rl_actions, index=env.returns.loc[FROM:UNTIL].iloc[0:].index, columns=TICKERS+['USDOLLAR'])\n",
    "            rl_rets = pd.Series(data=rl_rets, index=env.returns.loc[FROM:UNTIL].iloc[:-1].index)\n",
    "            rl_rets = rl_rets.shift(1)\n",
    "            rl_rets.iloc[0] = 0\n",
    "            rl_actions = pd.DataFrame(data=rl_actions[:-1], index=env.returns.loc[FROM:UNTIL].iloc[:-1].index, columns=TICKERS+['USDOLLAR'])\n",
    "            \n",
    "            # save actions\n",
    "            rl_actions.to_csv(f'{actions_dir}/actions.csv')\n",
    "            #print('actions saved.')\n",
    "\n",
    "            cash_rets = env.returns.loc[FROM:UNTIL, env.cash_key].iloc[:-1]\n",
    "            excess_rets = rl_rets - cash_rets\n",
    "\n",
    "            R_e = excess_rets.mean() * 100 * 252\n",
    "            sigma_e = excess_rets.std() * 100 * np.sqrt(252)\n",
    "            sharpe = R_e / sigma_e\n",
    "\n",
    "            results_dict[(GAMMA_TRADE, GAMMA_RISK, GAMMA_HOLD, RANDOM_SEED)] = {'excess_return':R_e, 'excess_risk':sigma_e, 'sharpe':sharpe}\n",
    "        except Exception as e:\n",
    "            print(f'**error for model: trade_{GAMMA_TRADE}_risk_{GAMMA_RISK}_hold_{GAMMA_HOLD}')\n",
    "            #print(e)"
   ]
  },
  {
   "cell_type": "code",
   "execution_count": 7,
   "id": "298aa0a4",
   "metadata": {
    "execution": {
     "iopub.execute_input": "2022-06-29T06:37:25.087763Z",
     "iopub.status.busy": "2022-06-29T06:37:25.087077Z",
     "iopub.status.idle": "2022-06-29T06:37:25.157723Z",
     "shell.execute_reply": "2022-06-29T06:37:25.156791Z"
    },
    "papermill": {
     "duration": 0.111056,
     "end_time": "2022-06-29T06:37:25.161281",
     "exception": false,
     "start_time": "2022-06-29T06:37:25.050225",
     "status": "completed"
    },
    "tags": []
   },
   "outputs": [
    {
     "name": "stdout",
     "output_type": "stream",
     "text": [
      "saved.\n"
     ]
    },
    {
     "data": {
      "text/html": [
       "<div>\n",
       "<style scoped>\n",
       "    .dataframe tbody tr th:only-of-type {\n",
       "        vertical-align: middle;\n",
       "    }\n",
       "\n",
       "    .dataframe tbody tr th {\n",
       "        vertical-align: top;\n",
       "    }\n",
       "\n",
       "    .dataframe thead th {\n",
       "        text-align: right;\n",
       "    }\n",
       "</style>\n",
       "<table border=\"1\" class=\"dataframe\">\n",
       "  <thead>\n",
       "    <tr style=\"text-align: right;\">\n",
       "      <th></th>\n",
       "      <th>gamma_trade</th>\n",
       "      <th>gamma_risk</th>\n",
       "      <th>gamma_hold</th>\n",
       "      <th>seed</th>\n",
       "      <th>excess_return</th>\n",
       "      <th>excess_risk</th>\n",
       "      <th>sharpe</th>\n",
       "    </tr>\n",
       "  </thead>\n",
       "  <tbody>\n",
       "    <tr>\n",
       "      <th>0</th>\n",
       "      <td>0.1</td>\n",
       "      <td>0.1</td>\n",
       "      <td>0.1</td>\n",
       "      <td>0</td>\n",
       "      <td>-29.973824</td>\n",
       "      <td>20.492879</td>\n",
       "      <td>-1.462646</td>\n",
       "    </tr>\n",
       "    <tr>\n",
       "      <th>1</th>\n",
       "      <td>0.1</td>\n",
       "      <td>0.1</td>\n",
       "      <td>1.0</td>\n",
       "      <td>0</td>\n",
       "      <td>-28.846303</td>\n",
       "      <td>34.134992</td>\n",
       "      <td>-0.845065</td>\n",
       "    </tr>\n",
       "    <tr>\n",
       "      <th>2</th>\n",
       "      <td>0.1</td>\n",
       "      <td>0.1</td>\n",
       "      <td>10.0</td>\n",
       "      <td>0</td>\n",
       "      <td>-11.172180</td>\n",
       "      <td>16.343520</td>\n",
       "      <td>-0.683585</td>\n",
       "    </tr>\n",
       "    <tr>\n",
       "      <th>3</th>\n",
       "      <td>0.1</td>\n",
       "      <td>0.1</td>\n",
       "      <td>100.0</td>\n",
       "      <td>0</td>\n",
       "      <td>-20.648463</td>\n",
       "      <td>18.475439</td>\n",
       "      <td>-1.117617</td>\n",
       "    </tr>\n",
       "    <tr>\n",
       "      <th>4</th>\n",
       "      <td>0.1</td>\n",
       "      <td>0.1</td>\n",
       "      <td>1000.0</td>\n",
       "      <td>0</td>\n",
       "      <td>-27.173557</td>\n",
       "      <td>22.189078</td>\n",
       "      <td>-1.224637</td>\n",
       "    </tr>\n",
       "    <tr>\n",
       "      <th>...</th>\n",
       "      <td>...</td>\n",
       "      <td>...</td>\n",
       "      <td>...</td>\n",
       "      <td>...</td>\n",
       "      <td>...</td>\n",
       "      <td>...</td>\n",
       "      <td>...</td>\n",
       "    </tr>\n",
       "    <tr>\n",
       "      <th>239</th>\n",
       "      <td>1000.0</td>\n",
       "      <td>100000.0</td>\n",
       "      <td>10.0</td>\n",
       "      <td>0</td>\n",
       "      <td>-19.025350</td>\n",
       "      <td>13.802038</td>\n",
       "      <td>-1.378445</td>\n",
       "    </tr>\n",
       "    <tr>\n",
       "      <th>240</th>\n",
       "      <td>1000.0</td>\n",
       "      <td>100000.0</td>\n",
       "      <td>100.0</td>\n",
       "      <td>0</td>\n",
       "      <td>-18.891051</td>\n",
       "      <td>13.765562</td>\n",
       "      <td>-1.372341</td>\n",
       "    </tr>\n",
       "    <tr>\n",
       "      <th>241</th>\n",
       "      <td>1000.0</td>\n",
       "      <td>100000.0</td>\n",
       "      <td>1000.0</td>\n",
       "      <td>0</td>\n",
       "      <td>-18.543063</td>\n",
       "      <td>13.718678</td>\n",
       "      <td>-1.351665</td>\n",
       "    </tr>\n",
       "    <tr>\n",
       "      <th>242</th>\n",
       "      <td>1000.0</td>\n",
       "      <td>100000.0</td>\n",
       "      <td>10000.0</td>\n",
       "      <td>0</td>\n",
       "      <td>-18.192695</td>\n",
       "      <td>12.912800</td>\n",
       "      <td>-1.408888</td>\n",
       "    </tr>\n",
       "    <tr>\n",
       "      <th>243</th>\n",
       "      <td>1000.0</td>\n",
       "      <td>100000.0</td>\n",
       "      <td>100000.0</td>\n",
       "      <td>0</td>\n",
       "      <td>-18.006556</td>\n",
       "      <td>12.014738</td>\n",
       "      <td>-1.498706</td>\n",
       "    </tr>\n",
       "  </tbody>\n",
       "</table>\n",
       "<p>244 rows × 7 columns</p>\n",
       "</div>"
      ],
      "text/plain": [
       "     gamma_trade  gamma_risk  gamma_hold  seed  excess_return  excess_risk  \\\n",
       "0            0.1         0.1         0.1     0     -29.973824    20.492879   \n",
       "1            0.1         0.1         1.0     0     -28.846303    34.134992   \n",
       "2            0.1         0.1        10.0     0     -11.172180    16.343520   \n",
       "3            0.1         0.1       100.0     0     -20.648463    18.475439   \n",
       "4            0.1         0.1      1000.0     0     -27.173557    22.189078   \n",
       "..           ...         ...         ...   ...            ...          ...   \n",
       "239       1000.0    100000.0        10.0     0     -19.025350    13.802038   \n",
       "240       1000.0    100000.0       100.0     0     -18.891051    13.765562   \n",
       "241       1000.0    100000.0      1000.0     0     -18.543063    13.718678   \n",
       "242       1000.0    100000.0     10000.0     0     -18.192695    12.912800   \n",
       "243       1000.0    100000.0    100000.0     0     -18.006556    12.014738   \n",
       "\n",
       "       sharpe  \n",
       "0   -1.462646  \n",
       "1   -0.845065  \n",
       "2   -0.683585  \n",
       "3   -1.117617  \n",
       "4   -1.224637  \n",
       "..        ...  \n",
       "239 -1.378445  \n",
       "240 -1.372341  \n",
       "241 -1.351665  \n",
       "242 -1.408888  \n",
       "243 -1.498706  \n",
       "\n",
       "[244 rows x 7 columns]"
      ]
     },
     "execution_count": 7,
     "metadata": {},
     "output_type": "execute_result"
    }
   ],
   "source": [
    "results_df = pd.DataFrame(results_dict).T.reset_index()\n",
    "results_df.columns = ['gamma_trade', 'gamma_risk', 'gamma_hold', 'seed', 'excess_return', 'excess_risk', 'sharpe']\n",
    "results_df.to_csv(RESULTS_DIR+TEST_NAME+'.csv', index=False)\n",
    "print('saved.')\n",
    "results_df"
   ]
  },
  {
   "cell_type": "code",
   "execution_count": 8,
   "id": "3913fe79",
   "metadata": {
    "execution": {
     "iopub.execute_input": "2022-06-29T06:37:25.230105Z",
     "iopub.status.busy": "2022-06-29T06:37:25.229779Z",
     "iopub.status.idle": "2022-06-29T06:37:25.728884Z",
     "shell.execute_reply": "2022-06-29T06:37:25.727879Z"
    },
    "papermill": {
     "duration": 0.537363,
     "end_time": "2022-06-29T06:37:25.732281",
     "exception": false,
     "start_time": "2022-06-29T06:37:25.194918",
     "status": "completed"
    },
    "tags": []
   },
   "outputs": [
    {
     "data": {
      "text/plain": [
       "(-10.0, 70.0)"
      ]
     },
     "execution_count": 8,
     "metadata": {},
     "output_type": "execute_result"
    },
    {
     "data": {
      "image/png": "[encoded data removed]",
      "text/plain": [
       "<Figure size 432x360 with 1 Axes>"
      ]
     },
     "metadata": {
      "needs_background": "light"
     },
     "output_type": "display_data"
    }
   ],
   "source": [
    "# risk-return plot \n",
    "results_df[['excess_return', 'excess_risk']]\\\n",
    "    .rename(\n",
    "        columns={\n",
    "            'excess_return':'Excess Return (%)', \n",
    "            'excess_risk':'Excess Risk (%)'\n",
    "        })\\\n",
    "    .plot(\n",
    "        kind='scatter', \n",
    "        x='Excess Risk (%)', \n",
    "        y='Excess Return (%)', \n",
    "        title='Backtest Resulsts', \n",
    "        alpha=0.8,\n",
    "        figsize=(6,5),\n",
    "        c='C0')\n",
    "\n",
    "# x and y axis limits\n",
    "plt.xlim(left=0.0, right=60.0)\n",
    "plt.ylim(bottom=-10.0, top=70.0)"
   ]
  },
  {
   "cell_type": "code",
   "execution_count": 9,
   "id": "64a4566a",
   "metadata": {
    "execution": {
     "iopub.execute_input": "2022-06-29T06:37:25.805805Z",
     "iopub.status.busy": "2022-06-29T06:37:25.805456Z",
     "iopub.status.idle": "2022-06-29T06:37:25.812976Z",
     "shell.execute_reply": "2022-06-29T06:37:25.811217Z"
    },
    "papermill": {
     "duration": 0.047566,
     "end_time": "2022-06-29T06:37:25.816306",
     "exception": false,
     "start_time": "2022-06-29T06:37:25.768740",
     "status": "completed"
    },
    "tags": []
   },
   "outputs": [
    {
     "name": "stdout",
     "output_type": "stream",
     "text": [
      "done backtesting for RL_CNN.\n"
     ]
    }
   ],
   "source": [
    "print(f'done backtesting for {MODEL_BASE_NAME}.')"
   ]
  },
  {
   "cell_type": "code",
   "execution_count": 10,
   "id": "e3ce9ab5",
   "metadata": {
    "execution": {
     "iopub.execute_input": "2022-06-29T06:37:25.887666Z",
     "iopub.status.busy": "2022-06-29T06:37:25.887060Z",
     "iopub.status.idle": "2022-06-29T06:37:25.898701Z",
     "shell.execute_reply": "2022-06-29T06:37:25.896817Z"
    },
    "papermill": {
     "duration": 0.051048,
     "end_time": "2022-06-29T06:37:25.901940",
     "exception": false,
     "start_time": "2022-06-29T06:37:25.850892",
     "status": "completed"
    },
    "tags": []
   },
   "outputs": [
    {
     "data": {
      "text/plain": [
       "<src.models.frontier.LongShortCNNPolicy at 0x7feb92d557d0>"
      ]
     },
     "execution_count": 10,
     "metadata": {},
     "output_type": "execute_result"
    }
   ],
   "source": [
    "agent.policy"
   ]
  }
 ],
 "metadata": {
  "interpreter": {
   "hash": "949777d72b0d2535278d3dc13498b2535136f6dfe0678499012e853ee9abcab1"
  },
  "kernelspec": {
   "display_name": "Python 3.7.6 64-bit",
   "language": "python",
   "name": "python3"
  },
  "language_info": {
   "codemirror_mode": {
    "name": "ipython",
    "version": 3
   },
   "file_extension": ".py",
   "mimetype": "text/x-python",
   "name": "python",
   "nbconvert_exporter": "python",
   "pygments_lexer": "ipython3",
   "version": "3.7.6"
  },
  "papermill": {
   "default_parameters": {},
   "duration": 1380.967839,
   "end_time": "2022-06-29T06:37:28.555921",
   "environment_variables": {},
   "exception": null,
   "input_path": "backtest_template.ipynb",
   "output_path": "slave_notebooks/backtests/RL_CNN_LA_40_(0_etc).ipynb",
   "parameters": {
    "FROM": "2014-12-01",
    "GAMMA_HOLDS": [
     0.1,
     1,
     10,
     100,
     1000,
     10000,
     100000
    ],
    "GAMMA_RISKS": [
     0.1,
     1,
     10,
     100,
     1000,
     10000,
     100000
    ],
    "GAMMA_TRADES": [
     0.1,
     1,
     10,
     100,
     1000
    ],
    "MARKET_NAME": "LA_40",
    "MODEL_BASE_NAME": "RL_CNN",
    "NB_EPISODES": 200,
    "SEED_LIST": [
     0
    ],
    "TICKERS": [
     "VALE",
     "ITUB",
     "PBR-A",
     "BBD",
     "PBR",
     "AMXL.MX",
     "WALMEX.MX",
     "FEMSAUBD.MX",
     "GFNORTEO.MX",
     "WEGE3.SA",
     "BBAS3.SA",
     "BAP",
     "CEMEXCPO.MX",
     "SQM",
     "SCCO",
     "GGB",
     "CHILE.SN",
     "ENIA",
     "CIB",
     "TLEVISACPO.MX",
     "EC",
     "BRFS",
     "BSAC",
     "CCRO3.SA"
    ],
    "UNTIL": "2016-01-01"
   },
   "start_time": "2022-06-29T06:14:27.588082",
   "version": "2.3.3"
  }
 },
 "nbformat": 4,
 "nbformat_minor": 5
}