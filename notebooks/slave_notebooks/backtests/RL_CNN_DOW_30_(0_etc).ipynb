{
 "cells": [
  {
   "cell_type": "code",
   "execution_count": 1,
   "id": "72d9f6f3",
   "metadata": {
    "execution": {
     "iopub.execute_input": "2022-06-22T15:00:13.785031Z",
     "iopub.status.busy": "2022-06-22T15:00:13.784669Z",
     "iopub.status.idle": "2022-06-22T15:00:16.498875Z",
     "shell.execute_reply": "2022-06-22T15:00:16.497809Z"
    },
    "papermill": {
     "duration": 2.727555,
     "end_time": "2022-06-22T15:00:16.503956",
     "exception": false,
     "start_time": "2022-06-22T15:00:13.776401",
     "status": "completed"
    },
    "tags": []
   },
   "outputs": [
    {
     "name": "stdout",
     "output_type": "stream",
     "text": [
      "CPU times: user 5.92 s, sys: 4.42 s, total: 10.3 s\n",
      "Wall time: 2.71 s\n"
     ]
    }
   ],
   "source": [
    "%%time\n",
    "import numpy as np\n",
    "import pandas as pd\n",
    "import matplotlib.pyplot as plt\n",
    "import datetime\n",
    "import os\n",
    "from src.models.frontier import MultiStockEnv, Agent, backtest, maybe_make_dir\n",
    "from src.config import market_tickers\n",
    "from src.config.model_config import model_parameters"
   ]
  },
  {
   "cell_type": "code",
   "execution_count": 2,
   "id": "a2809ff7",
   "metadata": {
    "execution": {
     "iopub.execute_input": "2022-06-22T15:00:16.524898Z",
     "iopub.status.busy": "2022-06-22T15:00:16.524439Z",
     "iopub.status.idle": "2022-06-22T15:00:16.532337Z",
     "shell.execute_reply": "2022-06-22T15:00:16.531300Z"
    },
    "papermill": {
     "duration": 0.023006,
     "end_time": "2022-06-22T15:00:16.536924",
     "exception": false,
     "start_time": "2022-06-22T15:00:16.513918",
     "status": "completed"
    },
    "tags": [
     "parameters"
    ]
   },
   "outputs": [],
   "source": [
    "# papermill parameters\n",
    "SEED_LIST = [\n",
    "             0,\n",
    "             #1111,\n",
    "             #2222, \n",
    "             #3333, \n",
    "             #4444, \n",
    "             #5555,\n",
    "             #6666,\n",
    "             #7777,\n",
    "             #8888,\n",
    "             #9999\n",
    "            ]\n",
    "\n",
    "#TICKERS = market_tickers.DOW_30_TICKER\n",
    "TICKERS = ['AAPL', 'AMD', 'CSCO', 'F', 'INTC']\n",
    "MARKET_NAME = 'TEST_5'\n",
    "MODEL_BASE_NAME = 'RL_CNN' # use either | 'RL_CNN' | 'RL_str_fcast' | 'RL_all_inp' |\n",
    "FROM = '2019-01-01' # start of backtest\n",
    "UNTIL = '2020-01-01' # end of backtest\n",
    "NB_EPISODES = 200 # backtest model that was trained for this number of episodes\n",
    "\n",
    "# investor preferences\n",
    "GAMMA_TRADES = [0.1, 1, 10, 100]\n",
    "GAMMA_RISKS = [0.1, 1, 10, 100, 1000]\n",
    "GAMMA_HOLDS = [0.1, 1]"
   ]
  },
  {
   "cell_type": "code",
   "execution_count": 3,
   "id": "ee994c97",
   "metadata": {
    "execution": {
     "iopub.execute_input": "2022-06-22T15:00:16.556420Z",
     "iopub.status.busy": "2022-06-22T15:00:16.556121Z",
     "iopub.status.idle": "2022-06-22T15:00:16.572209Z",
     "shell.execute_reply": "2022-06-22T15:00:16.570756Z"
    },
    "papermill": {
     "duration": 0.030524,
     "end_time": "2022-06-22T15:00:16.576361",
     "exception": false,
     "start_time": "2022-06-22T15:00:16.545837",
     "status": "completed"
    },
    "tags": [
     "injected-parameters"
    ]
   },
   "outputs": [],
   "source": [
    "# Parameters\n",
    "SEED_LIST = [0]\n",
    "TICKERS = [\n",
    "    \"AAPL\",\n",
    "    \"MSFT\",\n",
    "    \"JPM\",\n",
    "    \"V\",\n",
    "    \"RTX\",\n",
    "    \"PG\",\n",
    "    \"GS\",\n",
    "    \"NKE\",\n",
    "    \"DIS\",\n",
    "    \"AXP\",\n",
    "    \"HD\",\n",
    "    \"INTC\",\n",
    "    \"WMT\",\n",
    "    \"IBM\",\n",
    "    \"MRK\",\n",
    "    \"UNH\",\n",
    "    \"KO\",\n",
    "    \"CAT\",\n",
    "    \"TRV\",\n",
    "    \"JNJ\",\n",
    "    \"CVX\",\n",
    "    \"MCD\",\n",
    "    \"VZ\",\n",
    "    \"CSCO\",\n",
    "    \"XOM\",\n",
    "    \"BA\",\n",
    "    \"MMM\",\n",
    "    \"PFE\",\n",
    "    \"WBA\",\n",
    "    \"DD\",\n",
    "]\n",
    "MARKET_NAME = \"DOW_30\"\n",
    "MODEL_BASE_NAME = \"RL_CNN\"\n",
    "FROM = \"2018-01-01\"\n",
    "UNTIL = \"2020-01-01\"\n",
    "NB_EPISODES = 200\n",
    "GAMMA_TRADES = [7, 8, 9, 10, 11, 12]\n",
    "GAMMA_RISKS = [1, 2, 3, 6, 10, 18, 32, 56, 100, 178, 316, 562, 1000]\n",
    "GAMMA_HOLDS = [0.1, 1, 10, 100, 1000]\n"
   ]
  },
  {
   "cell_type": "code",
   "execution_count": 4,
   "id": "1a13a7b8",
   "metadata": {
    "execution": {
     "iopub.execute_input": "2022-06-22T15:00:16.595224Z",
     "iopub.status.busy": "2022-06-22T15:00:16.594686Z",
     "iopub.status.idle": "2022-06-22T15:00:16.608070Z",
     "shell.execute_reply": "2022-06-22T15:00:16.606248Z"
    },
    "papermill": {
     "duration": 0.027123,
     "end_time": "2022-06-22T15:00:16.611924",
     "exception": false,
     "start_time": "2022-06-22T15:00:16.584801",
     "status": "completed"
    },
    "tags": []
   },
   "outputs": [
    {
     "name": "stdout",
     "output_type": "stream",
     "text": [
      "number of trios:  390\n"
     ]
    }
   ],
   "source": [
    "#------ small test-sweep ------#\n",
    "# GAMMA_TRADES = [0.1, 1, 10, 100]\n",
    "# GAMMA_RISKS = [0.1, 1, 10, 100, 1000]\n",
    "# GAMMA_HOLDS = [0.1, 1]\n",
    "#------ extended-boyd-sweep ------#\n",
    "# GAMMA_TRADES =  [0.1, 0.5, 1, 2, 3, 4, 5, 5.5, 6, 6.5, 7, 7.5, 8, 9, 10, 11, 12, 15, 20, 30, 45, 60, 100, 200]\n",
    "# GAMMA_RISKS = [0.1, 0.178, 0.316, 0.562, 1, 2, 3, 6, 10, 18, 32, 56, 100, 178, 316, 562, 1000, 2000, 5000, 10000, 20000]\n",
    "#---------------------------------#\n",
    "\n",
    "GAMMA_TRIOS = []\n",
    "for tr in GAMMA_TRADES:\n",
    "    for ri in GAMMA_RISKS:\n",
    "        for hd in GAMMA_HOLDS:\n",
    "            GAMMA_TRIOS.append((tr, ri, hd))\n",
    "        \n",
    "#format: (gamma_trade, gamma_risk, gamma_hold)\n",
    "print('number of trios: ', len(GAMMA_TRIOS))\n",
    "#GAMMA_TRIOS"
   ]
  },
  {
   "cell_type": "code",
   "execution_count": 5,
   "id": "0c453553",
   "metadata": {
    "execution": {
     "iopub.execute_input": "2022-06-22T15:00:16.631392Z",
     "iopub.status.busy": "2022-06-22T15:00:16.630727Z",
     "iopub.status.idle": "2022-06-22T15:00:16.646977Z",
     "shell.execute_reply": "2022-06-22T15:00:16.644955Z"
    },
    "papermill": {
     "duration": 0.029757,
     "end_time": "2022-06-22T15:00:16.650754",
     "exception": false,
     "start_time": "2022-06-22T15:00:16.620997",
     "status": "completed"
    },
    "tags": []
   },
   "outputs": [],
   "source": [
    "# other constants and parameters\n",
    "TICKERS.sort()\n",
    "FILE_PERIOD = '1d' # weekly='5d', daily='1d'\n",
    "HALF_SPREAD = 0.0005/2.0 # 'a' in transaction cost function\n",
    "NONLIN_COEFF = 1.0 # 'b' transaction cost function\n",
    "POWER = 1.5 # power for change in poertfolio vector used in transaction cost\n",
    "INIT_PORTFOLIO = 100000000.0 # initial portfolio value\n",
    "\n",
    "USE_FORECASTS = model_parameters[MODEL_BASE_NAME]['use_forecasts'] # whether to use forecasts as inputs to agent policy net or not\n",
    "NB_FORECASTS = model_parameters[MODEL_BASE_NAME]['nb_forecasts'] # number of forecasts to use in state. Set to None for no forecasts\n",
    "FORECAST_TYPE = model_parameters[MODEL_BASE_NAME]['forecast_type'] # use 'strong' or 'weak' forecasts (if no forecasts given, this does not matter)\n",
    "USE_CNN_STATE = model_parameters[MODEL_BASE_NAME]['use_cnn_state'] # whether to pass log-rets block for CNN part of policy net (set to false for forecast only)\n",
    "\n",
    "TEST_NAME = f'{MARKET_NAME}_{MODEL_BASE_NAME}_seeds_{SEED_LIST[0]}_etc'\n",
    "RESULTS_DIR = f'../experiments/{MARKET_NAME}/seeded/{MODEL_BASE_NAME}/backtests/'\n",
    "DATA_DIR = f'../data/{MARKET_NAME}/preprocessed_data/'"
   ]
  },
  {
   "cell_type": "markdown",
   "id": "e2cf5f39",
   "metadata": {
    "papermill": {
     "duration": 0.006915,
     "end_time": "2022-06-22T15:00:16.664588",
     "exception": false,
     "start_time": "2022-06-22T15:00:16.657673",
     "status": "completed"
    },
    "tags": []
   },
   "source": [
    "## create agent(s) and backtest in new backtest env"
   ]
  },
  {
   "cell_type": "code",
   "execution_count": 6,
   "id": "4cf7e4ba",
   "metadata": {
    "execution": {
     "iopub.execute_input": "2022-06-22T15:00:16.708175Z",
     "iopub.status.busy": "2022-06-22T15:00:16.707507Z",
     "iopub.status.idle": "2022-06-22T16:15:36.279631Z",
     "shell.execute_reply": "2022-06-22T16:15:36.278494Z"
    },
    "papermill": {
     "duration": 4519.684378,
     "end_time": "2022-06-22T16:15:36.355870",
     "exception": false,
     "start_time": "2022-06-22T15:00:16.671492",
     "status": "completed"
    },
    "scrolled": true,
    "tags": []
   },
   "outputs": [
    {
     "name": "stdout",
     "output_type": "stream",
     "text": [
      "creating environment and agent...\n"
     ]
    },
    {
     "name": "stdout",
     "output_type": "stream",
     "text": [
      "backtesting:\n",
      "\t[1/390]\tRL_CNN: gamma_trade=7, gamma_risk=1, gamma_hold=0.1, seed=0...\n"
     ]
    },
    {
     "name": "stdout",
     "output_type": "stream",
     "text": [
      "\t[2/390]\tRL_CNN: gamma_trade=7, gamma_risk=1, gamma_hold=1, seed=0...\n"
     ]
    },
    {
     "name": "stdout",
     "output_type": "stream",
     "text": [
      "\t[3/390]\tRL_CNN: gamma_trade=7, gamma_risk=1, gamma_hold=10, seed=0...\n"
     ]
    },
    {
     "name": "stdout",
     "output_type": "stream",
     "text": [
      "\t[4/390]\tRL_CNN: gamma_trade=7, gamma_risk=1, gamma_hold=100, seed=0...\n"
     ]
    },
    {
     "name": "stdout",
     "output_type": "stream",
     "text": [
      "\t[5/390]\tRL_CNN: gamma_trade=7, gamma_risk=1, gamma_hold=1000, seed=0...\n"
     ]
    },
    {
     "name": "stdout",
     "output_type": "stream",
     "text": [
      "\t[6/390]\tRL_CNN: gamma_trade=7, gamma_risk=2, gamma_hold=0.1, seed=0...\n"
     ]
    },
    {
     "name": "stdout",
     "output_type": "stream",
     "text": [
      "\t[7/390]\tRL_CNN: gamma_trade=7, gamma_risk=2, gamma_hold=1, seed=0...\n"
     ]
    },
    {
     "name": "stdout",
     "output_type": "stream",
     "text": [
      "\t[8/390]\tRL_CNN: gamma_trade=7, gamma_risk=2, gamma_hold=10, seed=0...\n"
     ]
    },
    {
     "name": "stdout",
     "output_type": "stream",
     "text": [
      "\t[9/390]\tRL_CNN: gamma_trade=7, gamma_risk=2, gamma_hold=100, seed=0...\n"
     ]
    },
    {
     "name": "stdout",
     "output_type": "stream",
     "text": [
      "\t[10/390]\tRL_CNN: gamma_trade=7, gamma_risk=2, gamma_hold=1000, seed=0...\n"
     ]
    },
    {
     "name": "stdout",
     "output_type": "stream",
     "text": [
      "\t[11/390]\tRL_CNN: gamma_trade=7, gamma_risk=3, gamma_hold=0.1, seed=0...\n"
     ]
    },
    {
     "name": "stdout",
     "output_type": "stream",
     "text": [
      "\t[12/390]\tRL_CNN: gamma_trade=7, gamma_risk=3, gamma_hold=1, seed=0...\n"
     ]
    },
    {
     "name": "stdout",
     "output_type": "stream",
     "text": [
      "\t[13/390]\tRL_CNN: gamma_trade=7, gamma_risk=3, gamma_hold=10, seed=0...\n"
     ]
    },
    {
     "name": "stdout",
     "output_type": "stream",
     "text": [
      "\t[14/390]\tRL_CNN: gamma_trade=7, gamma_risk=3, gamma_hold=100, seed=0...\n"
     ]
    },
    {
     "name": "stdout",
     "output_type": "stream",
     "text": [
      "\t[15/390]\tRL_CNN: gamma_trade=7, gamma_risk=3, gamma_hold=1000, seed=0...\n"
     ]
    },
    {
     "name": "stdout",
     "output_type": "stream",
     "text": [
      "\t[16/390]\tRL_CNN: gamma_trade=7, gamma_risk=6, gamma_hold=0.1, seed=0...\n"
     ]
    },
    {
     "name": "stdout",
     "output_type": "stream",
     "text": [
      "\t[17/390]\tRL_CNN: gamma_trade=7, gamma_risk=6, gamma_hold=1, seed=0...\n"
     ]
    },
    {
     "name": "stdout",
     "output_type": "stream",
     "text": [
      "\t[18/390]\tRL_CNN: gamma_trade=7, gamma_risk=6, gamma_hold=10, seed=0...\n"
     ]
    },
    {
     "name": "stdout",
     "output_type": "stream",
     "text": [
      "\t[19/390]\tRL_CNN: gamma_trade=7, gamma_risk=6, gamma_hold=100, seed=0...\n"
     ]
    },
    {
     "name": "stdout",
     "output_type": "stream",
     "text": [
      "\t[20/390]\tRL_CNN: gamma_trade=7, gamma_risk=6, gamma_hold=1000, seed=0...\n"
     ]
    },
    {
     "name": "stdout",
     "output_type": "stream",
     "text": [
      "\t[21/390]\tRL_CNN: gamma_trade=7, gamma_risk=10, gamma_hold=0.1, seed=0...\n"
     ]
    },
    {
     "name": "stdout",
     "output_type": "stream",
     "text": [
      "\t[22/390]\tRL_CNN: gamma_trade=7, gamma_risk=10, gamma_hold=1, seed=0...\n"
     ]
    },
    {
     "name": "stdout",
     "output_type": "stream",
     "text": [
      "\t[23/390]\tRL_CNN: gamma_trade=7, gamma_risk=10, gamma_hold=10, seed=0...\n"
     ]
    },
    {
     "name": "stdout",
     "output_type": "stream",
     "text": [
      "\t[24/390]\tRL_CNN: gamma_trade=7, gamma_risk=10, gamma_hold=100, seed=0...\n"
     ]
    },
    {
     "name": "stdout",
     "output_type": "stream",
     "text": [
      "\t[25/390]\tRL_CNN: gamma_trade=7, gamma_risk=10, gamma_hold=1000, seed=0...\n"
     ]
    },
    {
     "name": "stdout",
     "output_type": "stream",
     "text": [
      "\t[26/390]\tRL_CNN: gamma_trade=7, gamma_risk=18, gamma_hold=0.1, seed=0...\n"
     ]
    },
    {
     "name": "stdout",
     "output_type": "stream",
     "text": [
      "\t[27/390]\tRL_CNN: gamma_trade=7, gamma_risk=18, gamma_hold=1, seed=0...\n"
     ]
    },
    {
     "name": "stdout",
     "output_type": "stream",
     "text": [
      "\t[28/390]\tRL_CNN: gamma_trade=7, gamma_risk=18, gamma_hold=10, seed=0...\n"
     ]
    },
    {
     "name": "stdout",
     "output_type": "stream",
     "text": [
      "\t[29/390]\tRL_CNN: gamma_trade=7, gamma_risk=18, gamma_hold=100, seed=0...\n"
     ]
    },
    {
     "name": "stdout",
     "output_type": "stream",
     "text": [
      "\t[30/390]\tRL_CNN: gamma_trade=7, gamma_risk=18, gamma_hold=1000, seed=0...\n"
     ]
    },
    {
     "name": "stdout",
     "output_type": "stream",
     "text": [
      "\t[31/390]\tRL_CNN: gamma_trade=7, gamma_risk=32, gamma_hold=0.1, seed=0...\n"
     ]
    },
    {
     "name": "stdout",
     "output_type": "stream",
     "text": [
      "\t[32/390]\tRL_CNN: gamma_trade=7, gamma_risk=32, gamma_hold=1, seed=0...\n"
     ]
    },
    {
     "name": "stdout",
     "output_type": "stream",
     "text": [
      "\t[33/390]\tRL_CNN: gamma_trade=7, gamma_risk=32, gamma_hold=10, seed=0...\n"
     ]
    },
    {
     "name": "stdout",
     "output_type": "stream",
     "text": [
      "\t[34/390]\tRL_CNN: gamma_trade=7, gamma_risk=32, gamma_hold=100, seed=0...\n"
     ]
    },
    {
     "name": "stdout",
     "output_type": "stream",
     "text": [
      "\t[35/390]\tRL_CNN: gamma_trade=7, gamma_risk=32, gamma_hold=1000, seed=0...\n"
     ]
    },
    {
     "name": "stdout",
     "output_type": "stream",
     "text": [
      "\t[36/390]\tRL_CNN: gamma_trade=7, gamma_risk=56, gamma_hold=0.1, seed=0...\n"
     ]
    },
    {
     "name": "stdout",
     "output_type": "stream",
     "text": [
      "\t[37/390]\tRL_CNN: gamma_trade=7, gamma_risk=56, gamma_hold=1, seed=0...\n"
     ]
    },
    {
     "name": "stdout",
     "output_type": "stream",
     "text": [
      "\t[38/390]\tRL_CNN: gamma_trade=7, gamma_risk=56, gamma_hold=10, seed=0...\n"
     ]
    },
    {
     "name": "stdout",
     "output_type": "stream",
     "text": [
      "\t[39/390]\tRL_CNN: gamma_trade=7, gamma_risk=56, gamma_hold=100, seed=0...\n"
     ]
    },
    {
     "name": "stdout",
     "output_type": "stream",
     "text": [
      "\t[40/390]\tRL_CNN: gamma_trade=7, gamma_risk=56, gamma_hold=1000, seed=0...\n"
     ]
    },
    {
     "name": "stdout",
     "output_type": "stream",
     "text": [
      "\t[41/390]\tRL_CNN: gamma_trade=7, gamma_risk=100, gamma_hold=0.1, seed=0...\n"
     ]
    },
    {
     "name": "stdout",
     "output_type": "stream",
     "text": [
      "\t[42/390]\tRL_CNN: gamma_trade=7, gamma_risk=100, gamma_hold=1, seed=0...\n"
     ]
    },
    {
     "name": "stdout",
     "output_type": "stream",
     "text": [
      "\t[43/390]\tRL_CNN: gamma_trade=7, gamma_risk=100, gamma_hold=10, seed=0...\n"
     ]
    },
    {
     "name": "stdout",
     "output_type": "stream",
     "text": [
      "\t[44/390]\tRL_CNN: gamma_trade=7, gamma_risk=100, gamma_hold=100, seed=0...\n"
     ]
    },
    {
     "name": "stdout",
     "output_type": "stream",
     "text": [
      "\t[45/390]\tRL_CNN: gamma_trade=7, gamma_risk=100, gamma_hold=1000, seed=0...\n"
     ]
    },
    {
     "name": "stdout",
     "output_type": "stream",
     "text": [
      "\t[46/390]\tRL_CNN: gamma_trade=7, gamma_risk=178, gamma_hold=0.1, seed=0...\n"
     ]
    },
    {
     "name": "stdout",
     "output_type": "stream",
     "text": [
      "\t[47/390]\tRL_CNN: gamma_trade=7, gamma_risk=178, gamma_hold=1, seed=0...\n"
     ]
    },
    {
     "name": "stdout",
     "output_type": "stream",
     "text": [
      "\t[48/390]\tRL_CNN: gamma_trade=7, gamma_risk=178, gamma_hold=10, seed=0...\n"
     ]
    },
    {
     "name": "stdout",
     "output_type": "stream",
     "text": [
      "\t[49/390]\tRL_CNN: gamma_trade=7, gamma_risk=178, gamma_hold=100, seed=0...\n"
     ]
    },
    {
     "name": "stdout",
     "output_type": "stream",
     "text": [
      "\t[50/390]\tRL_CNN: gamma_trade=7, gamma_risk=178, gamma_hold=1000, seed=0...\n"
     ]
    },
    {
     "name": "stdout",
     "output_type": "stream",
     "text": [
      "\t[51/390]\tRL_CNN: gamma_trade=7, gamma_risk=316, gamma_hold=0.1, seed=0...\n"
     ]
    },
    {
     "name": "stdout",
     "output_type": "stream",
     "text": [
      "\t[52/390]\tRL_CNN: gamma_trade=7, gamma_risk=316, gamma_hold=1, seed=0...\n"
     ]
    },
    {
     "name": "stdout",
     "output_type": "stream",
     "text": [
      "\t[53/390]\tRL_CNN: gamma_trade=7, gamma_risk=316, gamma_hold=10, seed=0...\n"
     ]
    },
    {
     "name": "stdout",
     "output_type": "stream",
     "text": [
      "\t[54/390]\tRL_CNN: gamma_trade=7, gamma_risk=316, gamma_hold=100, seed=0...\n"
     ]
    },
    {
     "name": "stdout",
     "output_type": "stream",
     "text": [
      "\t[55/390]\tRL_CNN: gamma_trade=7, gamma_risk=316, gamma_hold=1000, seed=0...\n"
     ]
    },
    {
     "name": "stdout",
     "output_type": "stream",
     "text": [
      "\t[56/390]\tRL_CNN: gamma_trade=7, gamma_risk=562, gamma_hold=0.1, seed=0...\n"
     ]
    },
    {
     "name": "stdout",
     "output_type": "stream",
     "text": [
      "\t[57/390]\tRL_CNN: gamma_trade=7, gamma_risk=562, gamma_hold=1, seed=0...\n"
     ]
    },
    {
     "name": "stdout",
     "output_type": "stream",
     "text": [
      "\t[58/390]\tRL_CNN: gamma_trade=7, gamma_risk=562, gamma_hold=10, seed=0...\n"
     ]
    },
    {
     "name": "stdout",
     "output_type": "stream",
     "text": [
      "\t[59/390]\tRL_CNN: gamma_trade=7, gamma_risk=562, gamma_hold=100, seed=0...\n"
     ]
    },
    {
     "name": "stdout",
     "output_type": "stream",
     "text": [
      "\t[60/390]\tRL_CNN: gamma_trade=7, gamma_risk=562, gamma_hold=1000, seed=0...\n"
     ]
    },
    {
     "name": "stdout",
     "output_type": "stream",
     "text": [
      "\t[61/390]\tRL_CNN: gamma_trade=7, gamma_risk=1000, gamma_hold=0.1, seed=0...\n"
     ]
    },
    {
     "name": "stdout",
     "output_type": "stream",
     "text": [
      "\t[62/390]\tRL_CNN: gamma_trade=7, gamma_risk=1000, gamma_hold=1, seed=0...\n"
     ]
    },
    {
     "name": "stdout",
     "output_type": "stream",
     "text": [
      "\t[63/390]\tRL_CNN: gamma_trade=7, gamma_risk=1000, gamma_hold=10, seed=0...\n"
     ]
    },
    {
     "name": "stdout",
     "output_type": "stream",
     "text": [
      "\t[64/390]\tRL_CNN: gamma_trade=7, gamma_risk=1000, gamma_hold=100, seed=0...\n"
     ]
    },
    {
     "name": "stdout",
     "output_type": "stream",
     "text": [
      "\t[65/390]\tRL_CNN: gamma_trade=7, gamma_risk=1000, gamma_hold=1000, seed=0...\n"
     ]
    },
    {
     "name": "stdout",
     "output_type": "stream",
     "text": [
      "\t[66/390]\tRL_CNN: gamma_trade=8, gamma_risk=1, gamma_hold=0.1, seed=0...\n"
     ]
    },
    {
     "name": "stdout",
     "output_type": "stream",
     "text": [
      "\t[67/390]\tRL_CNN: gamma_trade=8, gamma_risk=1, gamma_hold=1, seed=0...\n"
     ]
    },
    {
     "name": "stdout",
     "output_type": "stream",
     "text": [
      "\t[68/390]\tRL_CNN: gamma_trade=8, gamma_risk=1, gamma_hold=10, seed=0...\n"
     ]
    },
    {
     "name": "stdout",
     "output_type": "stream",
     "text": [
      "\t[69/390]\tRL_CNN: gamma_trade=8, gamma_risk=1, gamma_hold=100, seed=0...\n"
     ]
    },
    {
     "name": "stdout",
     "output_type": "stream",
     "text": [
      "\t[70/390]\tRL_CNN: gamma_trade=8, gamma_risk=1, gamma_hold=1000, seed=0...\n"
     ]
    },
    {
     "name": "stdout",
     "output_type": "stream",
     "text": [
      "\t[71/390]\tRL_CNN: gamma_trade=8, gamma_risk=2, gamma_hold=0.1, seed=0...\n"
     ]
    },
    {
     "name": "stdout",
     "output_type": "stream",
     "text": [
      "\t[72/390]\tRL_CNN: gamma_trade=8, gamma_risk=2, gamma_hold=1, seed=0...\n"
     ]
    },
    {
     "name": "stdout",
     "output_type": "stream",
     "text": [
      "\t[73/390]\tRL_CNN: gamma_trade=8, gamma_risk=2, gamma_hold=10, seed=0...\n"
     ]
    },
    {
     "name": "stdout",
     "output_type": "stream",
     "text": [
      "\t[74/390]\tRL_CNN: gamma_trade=8, gamma_risk=2, gamma_hold=100, seed=0...\n"
     ]
    },
    {
     "name": "stdout",
     "output_type": "stream",
     "text": [
      "\t[75/390]\tRL_CNN: gamma_trade=8, gamma_risk=2, gamma_hold=1000, seed=0...\n"
     ]
    },
    {
     "name": "stdout",
     "output_type": "stream",
     "text": [
      "\t[76/390]\tRL_CNN: gamma_trade=8, gamma_risk=3, gamma_hold=0.1, seed=0...\n"
     ]
    },
    {
     "name": "stdout",
     "output_type": "stream",
     "text": [
      "\t[77/390]\tRL_CNN: gamma_trade=8, gamma_risk=3, gamma_hold=1, seed=0...\n"
     ]
    },
    {
     "name": "stdout",
     "output_type": "stream",
     "text": [
      "\t[78/390]\tRL_CNN: gamma_trade=8, gamma_risk=3, gamma_hold=10, seed=0...\n"
     ]
    },
    {
     "name": "stdout",
     "output_type": "stream",
     "text": [
      "\t[79/390]\tRL_CNN: gamma_trade=8, gamma_risk=3, gamma_hold=100, seed=0...\n"
     ]
    },
    {
     "name": "stdout",
     "output_type": "stream",
     "text": [
      "\t[80/390]\tRL_CNN: gamma_trade=8, gamma_risk=3, gamma_hold=1000, seed=0...\n"
     ]
    },
    {
     "name": "stdout",
     "output_type": "stream",
     "text": [
      "\t[81/390]\tRL_CNN: gamma_trade=8, gamma_risk=6, gamma_hold=0.1, seed=0...\n"
     ]
    },
    {
     "name": "stdout",
     "output_type": "stream",
     "text": [
      "\t[82/390]\tRL_CNN: gamma_trade=8, gamma_risk=6, gamma_hold=1, seed=0...\n"
     ]
    },
    {
     "name": "stdout",
     "output_type": "stream",
     "text": [
      "\t[83/390]\tRL_CNN: gamma_trade=8, gamma_risk=6, gamma_hold=10, seed=0...\n"
     ]
    },
    {
     "name": "stdout",
     "output_type": "stream",
     "text": [
      "\t[84/390]\tRL_CNN: gamma_trade=8, gamma_risk=6, gamma_hold=100, seed=0...\n"
     ]
    },
    {
     "name": "stdout",
     "output_type": "stream",
     "text": [
      "\t[85/390]\tRL_CNN: gamma_trade=8, gamma_risk=6, gamma_hold=1000, seed=0...\n"
     ]
    },
    {
     "name": "stdout",
     "output_type": "stream",
     "text": [
      "\t[86/390]\tRL_CNN: gamma_trade=8, gamma_risk=10, gamma_hold=0.1, seed=0...\n"
     ]
    },
    {
     "name": "stdout",
     "output_type": "stream",
     "text": [
      "\t[87/390]\tRL_CNN: gamma_trade=8, gamma_risk=10, gamma_hold=1, seed=0...\n"
     ]
    },
    {
     "name": "stdout",
     "output_type": "stream",
     "text": [
      "\t[88/390]\tRL_CNN: gamma_trade=8, gamma_risk=10, gamma_hold=10, seed=0...\n"
     ]
    },
    {
     "name": "stdout",
     "output_type": "stream",
     "text": [
      "\t[89/390]\tRL_CNN: gamma_trade=8, gamma_risk=10, gamma_hold=100, seed=0...\n"
     ]
    },
    {
     "name": "stdout",
     "output_type": "stream",
     "text": [
      "\t[90/390]\tRL_CNN: gamma_trade=8, gamma_risk=10, gamma_hold=1000, seed=0...\n"
     ]
    },
    {
     "name": "stdout",
     "output_type": "stream",
     "text": [
      "\t[91/390]\tRL_CNN: gamma_trade=8, gamma_risk=18, gamma_hold=0.1, seed=0...\n"
     ]
    },
    {
     "name": "stdout",
     "output_type": "stream",
     "text": [
      "\t[92/390]\tRL_CNN: gamma_trade=8, gamma_risk=18, gamma_hold=1, seed=0...\n"
     ]
    },
    {
     "name": "stdout",
     "output_type": "stream",
     "text": [
      "\t[93/390]\tRL_CNN: gamma_trade=8, gamma_risk=18, gamma_hold=10, seed=0...\n"
     ]
    },
    {
     "name": "stdout",
     "output_type": "stream",
     "text": [
      "\t[94/390]\tRL_CNN: gamma_trade=8, gamma_risk=18, gamma_hold=100, seed=0...\n"
     ]
    },
    {
     "name": "stdout",
     "output_type": "stream",
     "text": [
      "\t[95/390]\tRL_CNN: gamma_trade=8, gamma_risk=18, gamma_hold=1000, seed=0...\n"
     ]
    },
    {
     "name": "stdout",
     "output_type": "stream",
     "text": [
      "\t[96/390]\tRL_CNN: gamma_trade=8, gamma_risk=32, gamma_hold=0.1, seed=0...\n"
     ]
    },
    {
     "name": "stdout",
     "output_type": "stream",
     "text": [
      "\t[97/390]\tRL_CNN: gamma_trade=8, gamma_risk=32, gamma_hold=1, seed=0...\n"
     ]
    },
    {
     "name": "stdout",
     "output_type": "stream",
     "text": [
      "\t[98/390]\tRL_CNN: gamma_trade=8, gamma_risk=32, gamma_hold=10, seed=0...\n"
     ]
    },
    {
     "name": "stdout",
     "output_type": "stream",
     "text": [
      "\t[99/390]\tRL_CNN: gamma_trade=8, gamma_risk=32, gamma_hold=100, seed=0...\n"
     ]
    },
    {
     "name": "stdout",
     "output_type": "stream",
     "text": [
      "\t[100/390]\tRL_CNN: gamma_trade=8, gamma_risk=32, gamma_hold=1000, seed=0...\n"
     ]
    },
    {
     "name": "stdout",
     "output_type": "stream",
     "text": [
      "\t[101/390]\tRL_CNN: gamma_trade=8, gamma_risk=56, gamma_hold=0.1, seed=0...\n"
     ]
    },
    {
     "name": "stdout",
     "output_type": "stream",
     "text": [
      "\t[102/390]\tRL_CNN: gamma_trade=8, gamma_risk=56, gamma_hold=1, seed=0...\n"
     ]
    },
    {
     "name": "stdout",
     "output_type": "stream",
     "text": [
      "\t[103/390]\tRL_CNN: gamma_trade=8, gamma_risk=56, gamma_hold=10, seed=0...\n"
     ]
    },
    {
     "name": "stdout",
     "output_type": "stream",
     "text": [
      "\t[104/390]\tRL_CNN: gamma_trade=8, gamma_risk=56, gamma_hold=100, seed=0...\n"
     ]
    },
    {
     "name": "stdout",
     "output_type": "stream",
     "text": [
      "\t[105/390]\tRL_CNN: gamma_trade=8, gamma_risk=56, gamma_hold=1000, seed=0...\n"
     ]
    },
    {
     "name": "stdout",
     "output_type": "stream",
     "text": [
      "\t[106/390]\tRL_CNN: gamma_trade=8, gamma_risk=100, gamma_hold=0.1, seed=0...\n"
     ]
    },
    {
     "name": "stdout",
     "output_type": "stream",
     "text": [
      "\t[107/390]\tRL_CNN: gamma_trade=8, gamma_risk=100, gamma_hold=1, seed=0...\n"
     ]
    },
    {
     "name": "stdout",
     "output_type": "stream",
     "text": [
      "\t[108/390]\tRL_CNN: gamma_trade=8, gamma_risk=100, gamma_hold=10, seed=0...\n"
     ]
    },
    {
     "name": "stdout",
     "output_type": "stream",
     "text": [
      "\t[109/390]\tRL_CNN: gamma_trade=8, gamma_risk=100, gamma_hold=100, seed=0...\n"
     ]
    },
    {
     "name": "stdout",
     "output_type": "stream",
     "text": [
      "\t[110/390]\tRL_CNN: gamma_trade=8, gamma_risk=100, gamma_hold=1000, seed=0...\n"
     ]
    },
    {
     "name": "stdout",
     "output_type": "stream",
     "text": [
      "\t[111/390]\tRL_CNN: gamma_trade=8, gamma_risk=178, gamma_hold=0.1, seed=0...\n"
     ]
    },
    {
     "name": "stdout",
     "output_type": "stream",
     "text": [
      "\t[112/390]\tRL_CNN: gamma_trade=8, gamma_risk=178, gamma_hold=1, seed=0...\n"
     ]
    },
    {
     "name": "stdout",
     "output_type": "stream",
     "text": [
      "\t[113/390]\tRL_CNN: gamma_trade=8, gamma_risk=178, gamma_hold=10, seed=0...\n"
     ]
    },
    {
     "name": "stdout",
     "output_type": "stream",
     "text": [
      "\t[114/390]\tRL_CNN: gamma_trade=8, gamma_risk=178, gamma_hold=100, seed=0...\n"
     ]
    },
    {
     "name": "stdout",
     "output_type": "stream",
     "text": [
      "\t[115/390]\tRL_CNN: gamma_trade=8, gamma_risk=178, gamma_hold=1000, seed=0...\n"
     ]
    },
    {
     "name": "stdout",
     "output_type": "stream",
     "text": [
      "\t[116/390]\tRL_CNN: gamma_trade=8, gamma_risk=316, gamma_hold=0.1, seed=0...\n"
     ]
    },
    {
     "name": "stdout",
     "output_type": "stream",
     "text": [
      "\t[117/390]\tRL_CNN: gamma_trade=8, gamma_risk=316, gamma_hold=1, seed=0...\n"
     ]
    },
    {
     "name": "stdout",
     "output_type": "stream",
     "text": [
      "\t[118/390]\tRL_CNN: gamma_trade=8, gamma_risk=316, gamma_hold=10, seed=0...\n"
     ]
    },
    {
     "name": "stdout",
     "output_type": "stream",
     "text": [
      "\t[119/390]\tRL_CNN: gamma_trade=8, gamma_risk=316, gamma_hold=100, seed=0...\n"
     ]
    },
    {
     "name": "stdout",
     "output_type": "stream",
     "text": [
      "\t[120/390]\tRL_CNN: gamma_trade=8, gamma_risk=316, gamma_hold=1000, seed=0...\n"
     ]
    },
    {
     "name": "stdout",
     "output_type": "stream",
     "text": [
      "\t[121/390]\tRL_CNN: gamma_trade=8, gamma_risk=562, gamma_hold=0.1, seed=0...\n"
     ]
    },
    {
     "name": "stdout",
     "output_type": "stream",
     "text": [
      "\t[122/390]\tRL_CNN: gamma_trade=8, gamma_risk=562, gamma_hold=1, seed=0...\n"
     ]
    },
    {
     "name": "stdout",
     "output_type": "stream",
     "text": [
      "\t[123/390]\tRL_CNN: gamma_trade=8, gamma_risk=562, gamma_hold=10, seed=0...\n"
     ]
    },
    {
     "name": "stdout",
     "output_type": "stream",
     "text": [
      "\t[124/390]\tRL_CNN: gamma_trade=8, gamma_risk=562, gamma_hold=100, seed=0...\n"
     ]
    },
    {
     "name": "stdout",
     "output_type": "stream",
     "text": [
      "\t[125/390]\tRL_CNN: gamma_trade=8, gamma_risk=562, gamma_hold=1000, seed=0...\n"
     ]
    },
    {
     "name": "stdout",
     "output_type": "stream",
     "text": [
      "\t[126/390]\tRL_CNN: gamma_trade=8, gamma_risk=1000, gamma_hold=0.1, seed=0...\n"
     ]
    },
    {
     "name": "stdout",
     "output_type": "stream",
     "text": [
      "\t[127/390]\tRL_CNN: gamma_trade=8, gamma_risk=1000, gamma_hold=1, seed=0...\n"
     ]
    },
    {
     "name": "stdout",
     "output_type": "stream",
     "text": [
      "\t[128/390]\tRL_CNN: gamma_trade=8, gamma_risk=1000, gamma_hold=10, seed=0...\n"
     ]
    },
    {
     "name": "stdout",
     "output_type": "stream",
     "text": [
      "\t[129/390]\tRL_CNN: gamma_trade=8, gamma_risk=1000, gamma_hold=100, seed=0...\n"
     ]
    },
    {
     "name": "stdout",
     "output_type": "stream",
     "text": [
      "\t[130/390]\tRL_CNN: gamma_trade=8, gamma_risk=1000, gamma_hold=1000, seed=0...\n"
     ]
    },
    {
     "name": "stdout",
     "output_type": "stream",
     "text": [
      "\t[131/390]\tRL_CNN: gamma_trade=9, gamma_risk=1, gamma_hold=0.1, seed=0...\n"
     ]
    },
    {
     "name": "stdout",
     "output_type": "stream",
     "text": [
      "\t[132/390]\tRL_CNN: gamma_trade=9, gamma_risk=1, gamma_hold=1, seed=0...\n"
     ]
    },
    {
     "name": "stdout",
     "output_type": "stream",
     "text": [
      "\t[133/390]\tRL_CNN: gamma_trade=9, gamma_risk=1, gamma_hold=10, seed=0...\n"
     ]
    },
    {
     "name": "stdout",
     "output_type": "stream",
     "text": [
      "\t[134/390]\tRL_CNN: gamma_trade=9, gamma_risk=1, gamma_hold=100, seed=0...\n"
     ]
    },
    {
     "name": "stdout",
     "output_type": "stream",
     "text": [
      "\t[135/390]\tRL_CNN: gamma_trade=9, gamma_risk=1, gamma_hold=1000, seed=0...\n"
     ]
    },
    {
     "name": "stdout",
     "output_type": "stream",
     "text": [
      "\t[136/390]\tRL_CNN: gamma_trade=9, gamma_risk=2, gamma_hold=0.1, seed=0...\n"
     ]
    },
    {
     "name": "stdout",
     "output_type": "stream",
     "text": [
      "\t[137/390]\tRL_CNN: gamma_trade=9, gamma_risk=2, gamma_hold=1, seed=0...\n"
     ]
    },
    {
     "name": "stdout",
     "output_type": "stream",
     "text": [
      "\t[138/390]\tRL_CNN: gamma_trade=9, gamma_risk=2, gamma_hold=10, seed=0...\n"
     ]
    },
    {
     "name": "stdout",
     "output_type": "stream",
     "text": [
      "\t[139/390]\tRL_CNN: gamma_trade=9, gamma_risk=2, gamma_hold=100, seed=0...\n"
     ]
    },
    {
     "name": "stdout",
     "output_type": "stream",
     "text": [
      "\t[140/390]\tRL_CNN: gamma_trade=9, gamma_risk=2, gamma_hold=1000, seed=0...\n"
     ]
    },
    {
     "name": "stdout",
     "output_type": "stream",
     "text": [
      "\t[141/390]\tRL_CNN: gamma_trade=9, gamma_risk=3, gamma_hold=0.1, seed=0...\n"
     ]
    },
    {
     "name": "stdout",
     "output_type": "stream",
     "text": [
      "\t[142/390]\tRL_CNN: gamma_trade=9, gamma_risk=3, gamma_hold=1, seed=0...\n"
     ]
    },
    {
     "name": "stdout",
     "output_type": "stream",
     "text": [
      "\t[143/390]\tRL_CNN: gamma_trade=9, gamma_risk=3, gamma_hold=10, seed=0...\n"
     ]
    },
    {
     "name": "stdout",
     "output_type": "stream",
     "text": [
      "\t[144/390]\tRL_CNN: gamma_trade=9, gamma_risk=3, gamma_hold=100, seed=0...\n"
     ]
    },
    {
     "name": "stdout",
     "output_type": "stream",
     "text": [
      "\t[145/390]\tRL_CNN: gamma_trade=9, gamma_risk=3, gamma_hold=1000, seed=0...\n"
     ]
    },
    {
     "name": "stdout",
     "output_type": "stream",
     "text": [
      "\t[146/390]\tRL_CNN: gamma_trade=9, gamma_risk=6, gamma_hold=0.1, seed=0...\n"
     ]
    },
    {
     "name": "stdout",
     "output_type": "stream",
     "text": [
      "\t[147/390]\tRL_CNN: gamma_trade=9, gamma_risk=6, gamma_hold=1, seed=0...\n"
     ]
    },
    {
     "name": "stdout",
     "output_type": "stream",
     "text": [
      "\t[148/390]\tRL_CNN: gamma_trade=9, gamma_risk=6, gamma_hold=10, seed=0...\n"
     ]
    },
    {
     "name": "stdout",
     "output_type": "stream",
     "text": [
      "\t[149/390]\tRL_CNN: gamma_trade=9, gamma_risk=6, gamma_hold=100, seed=0...\n"
     ]
    },
    {
     "name": "stdout",
     "output_type": "stream",
     "text": [
      "\t[150/390]\tRL_CNN: gamma_trade=9, gamma_risk=6, gamma_hold=1000, seed=0...\n"
     ]
    },
    {
     "name": "stdout",
     "output_type": "stream",
     "text": [
      "\t[151/390]\tRL_CNN: gamma_trade=9, gamma_risk=10, gamma_hold=0.1, seed=0...\n"
     ]
    },
    {
     "name": "stdout",
     "output_type": "stream",
     "text": [
      "\t[152/390]\tRL_CNN: gamma_trade=9, gamma_risk=10, gamma_hold=1, seed=0...\n"
     ]
    },
    {
     "name": "stdout",
     "output_type": "stream",
     "text": [
      "\t[153/390]\tRL_CNN: gamma_trade=9, gamma_risk=10, gamma_hold=10, seed=0...\n"
     ]
    },
    {
     "name": "stdout",
     "output_type": "stream",
     "text": [
      "\t[154/390]\tRL_CNN: gamma_trade=9, gamma_risk=10, gamma_hold=100, seed=0...\n"
     ]
    },
    {
     "name": "stdout",
     "output_type": "stream",
     "text": [
      "\t[155/390]\tRL_CNN: gamma_trade=9, gamma_risk=10, gamma_hold=1000, seed=0...\n"
     ]
    },
    {
     "name": "stdout",
     "output_type": "stream",
     "text": [
      "\t[156/390]\tRL_CNN: gamma_trade=9, gamma_risk=18, gamma_hold=0.1, seed=0...\n"
     ]
    },
    {
     "name": "stdout",
     "output_type": "stream",
     "text": [
      "\t[157/390]\tRL_CNN: gamma_trade=9, gamma_risk=18, gamma_hold=1, seed=0...\n"
     ]
    },
    {
     "name": "stdout",
     "output_type": "stream",
     "text": [
      "\t[158/390]\tRL_CNN: gamma_trade=9, gamma_risk=18, gamma_hold=10, seed=0...\n"
     ]
    },
    {
     "name": "stdout",
     "output_type": "stream",
     "text": [
      "\t[159/390]\tRL_CNN: gamma_trade=9, gamma_risk=18, gamma_hold=100, seed=0...\n"
     ]
    },
    {
     "name": "stdout",
     "output_type": "stream",
     "text": [
      "\t[160/390]\tRL_CNN: gamma_trade=9, gamma_risk=18, gamma_hold=1000, seed=0...\n"
     ]
    },
    {
     "name": "stdout",
     "output_type": "stream",
     "text": [
      "\t[161/390]\tRL_CNN: gamma_trade=9, gamma_risk=32, gamma_hold=0.1, seed=0...\n"
     ]
    },
    {
     "name": "stdout",
     "output_type": "stream",
     "text": [
      "\t[162/390]\tRL_CNN: gamma_trade=9, gamma_risk=32, gamma_hold=1, seed=0...\n"
     ]
    },
    {
     "name": "stdout",
     "output_type": "stream",
     "text": [
      "\t[163/390]\tRL_CNN: gamma_trade=9, gamma_risk=32, gamma_hold=10, seed=0...\n"
     ]
    },
    {
     "name": "stdout",
     "output_type": "stream",
     "text": [
      "\t[164/390]\tRL_CNN: gamma_trade=9, gamma_risk=32, gamma_hold=100, seed=0...\n"
     ]
    },
    {
     "name": "stdout",
     "output_type": "stream",
     "text": [
      "\t[165/390]\tRL_CNN: gamma_trade=9, gamma_risk=32, gamma_hold=1000, seed=0...\n"
     ]
    },
    {
     "name": "stdout",
     "output_type": "stream",
     "text": [
      "\t[166/390]\tRL_CNN: gamma_trade=9, gamma_risk=56, gamma_hold=0.1, seed=0...\n"
     ]
    },
    {
     "name": "stdout",
     "output_type": "stream",
     "text": [
      "\t[167/390]\tRL_CNN: gamma_trade=9, gamma_risk=56, gamma_hold=1, seed=0...\n"
     ]
    },
    {
     "name": "stdout",
     "output_type": "stream",
     "text": [
      "\t[168/390]\tRL_CNN: gamma_trade=9, gamma_risk=56, gamma_hold=10, seed=0...\n"
     ]
    },
    {
     "name": "stdout",
     "output_type": "stream",
     "text": [
      "\t[169/390]\tRL_CNN: gamma_trade=9, gamma_risk=56, gamma_hold=100, seed=0...\n"
     ]
    },
    {
     "name": "stdout",
     "output_type": "stream",
     "text": [
      "\t[170/390]\tRL_CNN: gamma_trade=9, gamma_risk=56, gamma_hold=1000, seed=0...\n"
     ]
    },
    {
     "name": "stdout",
     "output_type": "stream",
     "text": [
      "\t[171/390]\tRL_CNN: gamma_trade=9, gamma_risk=100, gamma_hold=0.1, seed=0...\n"
     ]
    },
    {
     "name": "stdout",
     "output_type": "stream",
     "text": [
      "\t[172/390]\tRL_CNN: gamma_trade=9, gamma_risk=100, gamma_hold=1, seed=0...\n"
     ]
    },
    {
     "name": "stdout",
     "output_type": "stream",
     "text": [
      "\t[173/390]\tRL_CNN: gamma_trade=9, gamma_risk=100, gamma_hold=10, seed=0...\n"
     ]
    },
    {
     "name": "stdout",
     "output_type": "stream",
     "text": [
      "\t[174/390]\tRL_CNN: gamma_trade=9, gamma_risk=100, gamma_hold=100, seed=0...\n"
     ]
    },
    {
     "name": "stdout",
     "output_type": "stream",
     "text": [
      "\t[175/390]\tRL_CNN: gamma_trade=9, gamma_risk=100, gamma_hold=1000, seed=0...\n"
     ]
    },
    {
     "name": "stdout",
     "output_type": "stream",
     "text": [
      "\t[176/390]\tRL_CNN: gamma_trade=9, gamma_risk=178, gamma_hold=0.1, seed=0...\n"
     ]
    },
    {
     "name": "stdout",
     "output_type": "stream",
     "text": [
      "\t[177/390]\tRL_CNN: gamma_trade=9, gamma_risk=178, gamma_hold=1, seed=0...\n"
     ]
    },
    {
     "name": "stdout",
     "output_type": "stream",
     "text": [
      "\t[178/390]\tRL_CNN: gamma_trade=9, gamma_risk=178, gamma_hold=10, seed=0...\n"
     ]
    },
    {
     "name": "stdout",
     "output_type": "stream",
     "text": [
      "\t[179/390]\tRL_CNN: gamma_trade=9, gamma_risk=178, gamma_hold=100, seed=0...\n"
     ]
    },
    {
     "name": "stdout",
     "output_type": "stream",
     "text": [
      "\t[180/390]\tRL_CNN: gamma_trade=9, gamma_risk=178, gamma_hold=1000, seed=0...\n"
     ]
    },
    {
     "name": "stdout",
     "output_type": "stream",
     "text": [
      "\t[181/390]\tRL_CNN: gamma_trade=9, gamma_risk=316, gamma_hold=0.1, seed=0...\n"
     ]
    },
    {
     "name": "stdout",
     "output_type": "stream",
     "text": [
      "\t[182/390]\tRL_CNN: gamma_trade=9, gamma_risk=316, gamma_hold=1, seed=0...\n"
     ]
    },
    {
     "name": "stdout",
     "output_type": "stream",
     "text": [
      "\t[183/390]\tRL_CNN: gamma_trade=9, gamma_risk=316, gamma_hold=10, seed=0...\n"
     ]
    },
    {
     "name": "stdout",
     "output_type": "stream",
     "text": [
      "\t[184/390]\tRL_CNN: gamma_trade=9, gamma_risk=316, gamma_hold=100, seed=0...\n"
     ]
    },
    {
     "name": "stdout",
     "output_type": "stream",
     "text": [
      "\t[185/390]\tRL_CNN: gamma_trade=9, gamma_risk=316, gamma_hold=1000, seed=0...\n"
     ]
    },
    {
     "name": "stdout",
     "output_type": "stream",
     "text": [
      "\t[186/390]\tRL_CNN: gamma_trade=9, gamma_risk=562, gamma_hold=0.1, seed=0...\n"
     ]
    },
    {
     "name": "stdout",
     "output_type": "stream",
     "text": [
      "\t[187/390]\tRL_CNN: gamma_trade=9, gamma_risk=562, gamma_hold=1, seed=0...\n"
     ]
    },
    {
     "name": "stdout",
     "output_type": "stream",
     "text": [
      "\t[188/390]\tRL_CNN: gamma_trade=9, gamma_risk=562, gamma_hold=10, seed=0...\n"
     ]
    },
    {
     "name": "stdout",
     "output_type": "stream",
     "text": [
      "\t[189/390]\tRL_CNN: gamma_trade=9, gamma_risk=562, gamma_hold=100, seed=0...\n"
     ]
    },
    {
     "name": "stdout",
     "output_type": "stream",
     "text": [
      "\t[190/390]\tRL_CNN: gamma_trade=9, gamma_risk=562, gamma_hold=1000, seed=0...\n"
     ]
    },
    {
     "name": "stdout",
     "output_type": "stream",
     "text": [
      "\t[191/390]\tRL_CNN: gamma_trade=9, gamma_risk=1000, gamma_hold=0.1, seed=0...\n"
     ]
    },
    {
     "name": "stdout",
     "output_type": "stream",
     "text": [
      "\t[192/390]\tRL_CNN: gamma_trade=9, gamma_risk=1000, gamma_hold=1, seed=0...\n"
     ]
    },
    {
     "name": "stdout",
     "output_type": "stream",
     "text": [
      "\t[193/390]\tRL_CNN: gamma_trade=9, gamma_risk=1000, gamma_hold=10, seed=0...\n"
     ]
    },
    {
     "name": "stdout",
     "output_type": "stream",
     "text": [
      "\t[194/390]\tRL_CNN: gamma_trade=9, gamma_risk=1000, gamma_hold=100, seed=0...\n"
     ]
    },
    {
     "name": "stdout",
     "output_type": "stream",
     "text": [
      "\t[195/390]\tRL_CNN: gamma_trade=9, gamma_risk=1000, gamma_hold=1000, seed=0...\n"
     ]
    },
    {
     "name": "stdout",
     "output_type": "stream",
     "text": [
      "\t[196/390]\tRL_CNN: gamma_trade=10, gamma_risk=1, gamma_hold=0.1, seed=0...\n"
     ]
    },
    {
     "name": "stdout",
     "output_type": "stream",
     "text": [
      "\t[197/390]\tRL_CNN: gamma_trade=10, gamma_risk=1, gamma_hold=1, seed=0...\n"
     ]
    },
    {
     "name": "stdout",
     "output_type": "stream",
     "text": [
      "\t[198/390]\tRL_CNN: gamma_trade=10, gamma_risk=1, gamma_hold=10, seed=0...\n"
     ]
    },
    {
     "name": "stdout",
     "output_type": "stream",
     "text": [
      "\t[199/390]\tRL_CNN: gamma_trade=10, gamma_risk=1, gamma_hold=100, seed=0...\n"
     ]
    },
    {
     "name": "stdout",
     "output_type": "stream",
     "text": [
      "\t[200/390]\tRL_CNN: gamma_trade=10, gamma_risk=1, gamma_hold=1000, seed=0...\n"
     ]
    },
    {
     "name": "stdout",
     "output_type": "stream",
     "text": [
      "\t[201/390]\tRL_CNN: gamma_trade=10, gamma_risk=2, gamma_hold=0.1, seed=0...\n"
     ]
    },
    {
     "name": "stdout",
     "output_type": "stream",
     "text": [
      "\t[202/390]\tRL_CNN: gamma_trade=10, gamma_risk=2, gamma_hold=1, seed=0...\n"
     ]
    },
    {
     "name": "stdout",
     "output_type": "stream",
     "text": [
      "\t[203/390]\tRL_CNN: gamma_trade=10, gamma_risk=2, gamma_hold=10, seed=0...\n"
     ]
    },
    {
     "name": "stdout",
     "output_type": "stream",
     "text": [
      "\t[204/390]\tRL_CNN: gamma_trade=10, gamma_risk=2, gamma_hold=100, seed=0...\n"
     ]
    },
    {
     "name": "stdout",
     "output_type": "stream",
     "text": [
      "\t[205/390]\tRL_CNN: gamma_trade=10, gamma_risk=2, gamma_hold=1000, seed=0...\n"
     ]
    },
    {
     "name": "stdout",
     "output_type": "stream",
     "text": [
      "\t[206/390]\tRL_CNN: gamma_trade=10, gamma_risk=3, gamma_hold=0.1, seed=0...\n"
     ]
    },
    {
     "name": "stdout",
     "output_type": "stream",
     "text": [
      "\t[207/390]\tRL_CNN: gamma_trade=10, gamma_risk=3, gamma_hold=1, seed=0...\n"
     ]
    },
    {
     "name": "stdout",
     "output_type": "stream",
     "text": [
      "\t[208/390]\tRL_CNN: gamma_trade=10, gamma_risk=3, gamma_hold=10, seed=0...\n"
     ]
    },
    {
     "name": "stdout",
     "output_type": "stream",
     "text": [
      "\t[209/390]\tRL_CNN: gamma_trade=10, gamma_risk=3, gamma_hold=100, seed=0...\n"
     ]
    },
    {
     "name": "stdout",
     "output_type": "stream",
     "text": [
      "\t[210/390]\tRL_CNN: gamma_trade=10, gamma_risk=3, gamma_hold=1000, seed=0...\n"
     ]
    },
    {
     "name": "stdout",
     "output_type": "stream",
     "text": [
      "\t[211/390]\tRL_CNN: gamma_trade=10, gamma_risk=6, gamma_hold=0.1, seed=0...\n"
     ]
    },
    {
     "name": "stdout",
     "output_type": "stream",
     "text": [
      "\t[212/390]\tRL_CNN: gamma_trade=10, gamma_risk=6, gamma_hold=1, seed=0...\n"
     ]
    },
    {
     "name": "stdout",
     "output_type": "stream",
     "text": [
      "\t[213/390]\tRL_CNN: gamma_trade=10, gamma_risk=6, gamma_hold=10, seed=0...\n"
     ]
    },
    {
     "name": "stdout",
     "output_type": "stream",
     "text": [
      "\t[214/390]\tRL_CNN: gamma_trade=10, gamma_risk=6, gamma_hold=100, seed=0...\n"
     ]
    },
    {
     "name": "stdout",
     "output_type": "stream",
     "text": [
      "\t[215/390]\tRL_CNN: gamma_trade=10, gamma_risk=6, gamma_hold=1000, seed=0...\n"
     ]
    },
    {
     "name": "stdout",
     "output_type": "stream",
     "text": [
      "\t[216/390]\tRL_CNN: gamma_trade=10, gamma_risk=10, gamma_hold=0.1, seed=0...\n"
     ]
    },
    {
     "name": "stdout",
     "output_type": "stream",
     "text": [
      "\t[217/390]\tRL_CNN: gamma_trade=10, gamma_risk=10, gamma_hold=1, seed=0...\n"
     ]
    },
    {
     "name": "stdout",
     "output_type": "stream",
     "text": [
      "\t[218/390]\tRL_CNN: gamma_trade=10, gamma_risk=10, gamma_hold=10, seed=0...\n"
     ]
    },
    {
     "name": "stdout",
     "output_type": "stream",
     "text": [
      "\t[219/390]\tRL_CNN: gamma_trade=10, gamma_risk=10, gamma_hold=100, seed=0...\n"
     ]
    },
    {
     "name": "stdout",
     "output_type": "stream",
     "text": [
      "\t[220/390]\tRL_CNN: gamma_trade=10, gamma_risk=10, gamma_hold=1000, seed=0...\n"
     ]
    },
    {
     "name": "stdout",
     "output_type": "stream",
     "text": [
      "\t[221/390]\tRL_CNN: gamma_trade=10, gamma_risk=18, gamma_hold=0.1, seed=0...\n"
     ]
    },
    {
     "name": "stdout",
     "output_type": "stream",
     "text": [
      "\t[222/390]\tRL_CNN: gamma_trade=10, gamma_risk=18, gamma_hold=1, seed=0...\n"
     ]
    },
    {
     "name": "stdout",
     "output_type": "stream",
     "text": [
      "\t[223/390]\tRL_CNN: gamma_trade=10, gamma_risk=18, gamma_hold=10, seed=0...\n"
     ]
    },
    {
     "name": "stdout",
     "output_type": "stream",
     "text": [
      "\t[224/390]\tRL_CNN: gamma_trade=10, gamma_risk=18, gamma_hold=100, seed=0...\n"
     ]
    },
    {
     "name": "stdout",
     "output_type": "stream",
     "text": [
      "\t[225/390]\tRL_CNN: gamma_trade=10, gamma_risk=18, gamma_hold=1000, seed=0...\n"
     ]
    },
    {
     "name": "stdout",
     "output_type": "stream",
     "text": [
      "\t[226/390]\tRL_CNN: gamma_trade=10, gamma_risk=32, gamma_hold=0.1, seed=0...\n"
     ]
    },
    {
     "name": "stdout",
     "output_type": "stream",
     "text": [
      "\t[227/390]\tRL_CNN: gamma_trade=10, gamma_risk=32, gamma_hold=1, seed=0...\n"
     ]
    },
    {
     "name": "stdout",
     "output_type": "stream",
     "text": [
      "\t[228/390]\tRL_CNN: gamma_trade=10, gamma_risk=32, gamma_hold=10, seed=0...\n"
     ]
    },
    {
     "name": "stdout",
     "output_type": "stream",
     "text": [
      "\t[229/390]\tRL_CNN: gamma_trade=10, gamma_risk=32, gamma_hold=100, seed=0...\n"
     ]
    },
    {
     "name": "stdout",
     "output_type": "stream",
     "text": [
      "\t[230/390]\tRL_CNN: gamma_trade=10, gamma_risk=32, gamma_hold=1000, seed=0...\n"
     ]
    },
    {
     "name": "stdout",
     "output_type": "stream",
     "text": [
      "\t[231/390]\tRL_CNN: gamma_trade=10, gamma_risk=56, gamma_hold=0.1, seed=0...\n"
     ]
    },
    {
     "name": "stdout",
     "output_type": "stream",
     "text": [
      "\t[232/390]\tRL_CNN: gamma_trade=10, gamma_risk=56, gamma_hold=1, seed=0...\n"
     ]
    },
    {
     "name": "stdout",
     "output_type": "stream",
     "text": [
      "\t[233/390]\tRL_CNN: gamma_trade=10, gamma_risk=56, gamma_hold=10, seed=0...\n"
     ]
    },
    {
     "name": "stdout",
     "output_type": "stream",
     "text": [
      "\t[234/390]\tRL_CNN: gamma_trade=10, gamma_risk=56, gamma_hold=100, seed=0...\n"
     ]
    },
    {
     "name": "stdout",
     "output_type": "stream",
     "text": [
      "\t[235/390]\tRL_CNN: gamma_trade=10, gamma_risk=56, gamma_hold=1000, seed=0...\n"
     ]
    },
    {
     "name": "stdout",
     "output_type": "stream",
     "text": [
      "\t[236/390]\tRL_CNN: gamma_trade=10, gamma_risk=100, gamma_hold=0.1, seed=0...\n"
     ]
    },
    {
     "name": "stdout",
     "output_type": "stream",
     "text": [
      "\t[237/390]\tRL_CNN: gamma_trade=10, gamma_risk=100, gamma_hold=1, seed=0...\n"
     ]
    },
    {
     "name": "stdout",
     "output_type": "stream",
     "text": [
      "\t[238/390]\tRL_CNN: gamma_trade=10, gamma_risk=100, gamma_hold=10, seed=0...\n"
     ]
    },
    {
     "name": "stdout",
     "output_type": "stream",
     "text": [
      "\t[239/390]\tRL_CNN: gamma_trade=10, gamma_risk=100, gamma_hold=100, seed=0...\n"
     ]
    },
    {
     "name": "stdout",
     "output_type": "stream",
     "text": [
      "\t[240/390]\tRL_CNN: gamma_trade=10, gamma_risk=100, gamma_hold=1000, seed=0...\n"
     ]
    },
    {
     "name": "stdout",
     "output_type": "stream",
     "text": [
      "\t[241/390]\tRL_CNN: gamma_trade=10, gamma_risk=178, gamma_hold=0.1, seed=0...\n"
     ]
    },
    {
     "name": "stdout",
     "output_type": "stream",
     "text": [
      "\t[242/390]\tRL_CNN: gamma_trade=10, gamma_risk=178, gamma_hold=1, seed=0...\n"
     ]
    },
    {
     "name": "stdout",
     "output_type": "stream",
     "text": [
      "\t[243/390]\tRL_CNN: gamma_trade=10, gamma_risk=178, gamma_hold=10, seed=0...\n"
     ]
    },
    {
     "name": "stdout",
     "output_type": "stream",
     "text": [
      "\t[244/390]\tRL_CNN: gamma_trade=10, gamma_risk=178, gamma_hold=100, seed=0...\n"
     ]
    },
    {
     "name": "stdout",
     "output_type": "stream",
     "text": [
      "\t[245/390]\tRL_CNN: gamma_trade=10, gamma_risk=178, gamma_hold=1000, seed=0...\n"
     ]
    },
    {
     "name": "stdout",
     "output_type": "stream",
     "text": [
      "\t[246/390]\tRL_CNN: gamma_trade=10, gamma_risk=316, gamma_hold=0.1, seed=0...\n"
     ]
    },
    {
     "name": "stdout",
     "output_type": "stream",
     "text": [
      "\t[247/390]\tRL_CNN: gamma_trade=10, gamma_risk=316, gamma_hold=1, seed=0...\n"
     ]
    },
    {
     "name": "stdout",
     "output_type": "stream",
     "text": [
      "\t[248/390]\tRL_CNN: gamma_trade=10, gamma_risk=316, gamma_hold=10, seed=0...\n"
     ]
    },
    {
     "name": "stdout",
     "output_type": "stream",
     "text": [
      "\t[249/390]\tRL_CNN: gamma_trade=10, gamma_risk=316, gamma_hold=100, seed=0...\n"
     ]
    },
    {
     "name": "stdout",
     "output_type": "stream",
     "text": [
      "\t[250/390]\tRL_CNN: gamma_trade=10, gamma_risk=316, gamma_hold=1000, seed=0...\n"
     ]
    },
    {
     "name": "stdout",
     "output_type": "stream",
     "text": [
      "\t[251/390]\tRL_CNN: gamma_trade=10, gamma_risk=562, gamma_hold=0.1, seed=0...\n"
     ]
    },
    {
     "name": "stdout",
     "output_type": "stream",
     "text": [
      "\t[252/390]\tRL_CNN: gamma_trade=10, gamma_risk=562, gamma_hold=1, seed=0...\n"
     ]
    },
    {
     "name": "stdout",
     "output_type": "stream",
     "text": [
      "\t[253/390]\tRL_CNN: gamma_trade=10, gamma_risk=562, gamma_hold=10, seed=0...\n"
     ]
    },
    {
     "name": "stdout",
     "output_type": "stream",
     "text": [
      "\t[254/390]\tRL_CNN: gamma_trade=10, gamma_risk=562, gamma_hold=100, seed=0...\n"
     ]
    },
    {
     "name": "stdout",
     "output_type": "stream",
     "text": [
      "\t[255/390]\tRL_CNN: gamma_trade=10, gamma_risk=562, gamma_hold=1000, seed=0...\n"
     ]
    },
    {
     "name": "stdout",
     "output_type": "stream",
     "text": [
      "\t[256/390]\tRL_CNN: gamma_trade=10, gamma_risk=1000, gamma_hold=0.1, seed=0...\n"
     ]
    },
    {
     "name": "stdout",
     "output_type": "stream",
     "text": [
      "\t[257/390]\tRL_CNN: gamma_trade=10, gamma_risk=1000, gamma_hold=1, seed=0...\n"
     ]
    },
    {
     "name": "stdout",
     "output_type": "stream",
     "text": [
      "\t[258/390]\tRL_CNN: gamma_trade=10, gamma_risk=1000, gamma_hold=10, seed=0...\n"
     ]
    },
    {
     "name": "stdout",
     "output_type": "stream",
     "text": [
      "\t[259/390]\tRL_CNN: gamma_trade=10, gamma_risk=1000, gamma_hold=100, seed=0...\n"
     ]
    },
    {
     "name": "stdout",
     "output_type": "stream",
     "text": [
      "\t[260/390]\tRL_CNN: gamma_trade=10, gamma_risk=1000, gamma_hold=1000, seed=0...\n"
     ]
    },
    {
     "name": "stdout",
     "output_type": "stream",
     "text": [
      "\t[261/390]\tRL_CNN: gamma_trade=11, gamma_risk=1, gamma_hold=0.1, seed=0...\n"
     ]
    },
    {
     "name": "stdout",
     "output_type": "stream",
     "text": [
      "\t[262/390]\tRL_CNN: gamma_trade=11, gamma_risk=1, gamma_hold=1, seed=0...\n"
     ]
    },
    {
     "name": "stdout",
     "output_type": "stream",
     "text": [
      "\t[263/390]\tRL_CNN: gamma_trade=11, gamma_risk=1, gamma_hold=10, seed=0...\n"
     ]
    },
    {
     "name": "stdout",
     "output_type": "stream",
     "text": [
      "\t[264/390]\tRL_CNN: gamma_trade=11, gamma_risk=1, gamma_hold=100, seed=0...\n"
     ]
    },
    {
     "name": "stdout",
     "output_type": "stream",
     "text": [
      "\t[265/390]\tRL_CNN: gamma_trade=11, gamma_risk=1, gamma_hold=1000, seed=0...\n"
     ]
    },
    {
     "name": "stdout",
     "output_type": "stream",
     "text": [
      "\t[266/390]\tRL_CNN: gamma_trade=11, gamma_risk=2, gamma_hold=0.1, seed=0...\n"
     ]
    },
    {
     "name": "stdout",
     "output_type": "stream",
     "text": [
      "\t[267/390]\tRL_CNN: gamma_trade=11, gamma_risk=2, gamma_hold=1, seed=0...\n"
     ]
    },
    {
     "name": "stdout",
     "output_type": "stream",
     "text": [
      "\t[268/390]\tRL_CNN: gamma_trade=11, gamma_risk=2, gamma_hold=10, seed=0...\n"
     ]
    },
    {
     "name": "stdout",
     "output_type": "stream",
     "text": [
      "\t[269/390]\tRL_CNN: gamma_trade=11, gamma_risk=2, gamma_hold=100, seed=0...\n"
     ]
    },
    {
     "name": "stdout",
     "output_type": "stream",
     "text": [
      "\t[270/390]\tRL_CNN: gamma_trade=11, gamma_risk=2, gamma_hold=1000, seed=0...\n"
     ]
    },
    {
     "name": "stdout",
     "output_type": "stream",
     "text": [
      "\t[271/390]\tRL_CNN: gamma_trade=11, gamma_risk=3, gamma_hold=0.1, seed=0...\n"
     ]
    },
    {
     "name": "stdout",
     "output_type": "stream",
     "text": [
      "\t[272/390]\tRL_CNN: gamma_trade=11, gamma_risk=3, gamma_hold=1, seed=0...\n"
     ]
    },
    {
     "name": "stdout",
     "output_type": "stream",
     "text": [
      "\t[273/390]\tRL_CNN: gamma_trade=11, gamma_risk=3, gamma_hold=10, seed=0...\n"
     ]
    },
    {
     "name": "stdout",
     "output_type": "stream",
     "text": [
      "\t[274/390]\tRL_CNN: gamma_trade=11, gamma_risk=3, gamma_hold=100, seed=0...\n"
     ]
    },
    {
     "name": "stdout",
     "output_type": "stream",
     "text": [
      "\t[275/390]\tRL_CNN: gamma_trade=11, gamma_risk=3, gamma_hold=1000, seed=0...\n"
     ]
    },
    {
     "name": "stdout",
     "output_type": "stream",
     "text": [
      "\t[276/390]\tRL_CNN: gamma_trade=11, gamma_risk=6, gamma_hold=0.1, seed=0...\n"
     ]
    },
    {
     "name": "stdout",
     "output_type": "stream",
     "text": [
      "\t[277/390]\tRL_CNN: gamma_trade=11, gamma_risk=6, gamma_hold=1, seed=0...\n"
     ]
    },
    {
     "name": "stdout",
     "output_type": "stream",
     "text": [
      "\t[278/390]\tRL_CNN: gamma_trade=11, gamma_risk=6, gamma_hold=10, seed=0...\n"
     ]
    },
    {
     "name": "stdout",
     "output_type": "stream",
     "text": [
      "\t[279/390]\tRL_CNN: gamma_trade=11, gamma_risk=6, gamma_hold=100, seed=0...\n"
     ]
    },
    {
     "name": "stdout",
     "output_type": "stream",
     "text": [
      "\t[280/390]\tRL_CNN: gamma_trade=11, gamma_risk=6, gamma_hold=1000, seed=0...\n"
     ]
    },
    {
     "name": "stdout",
     "output_type": "stream",
     "text": [
      "\t[281/390]\tRL_CNN: gamma_trade=11, gamma_risk=10, gamma_hold=0.1, seed=0...\n"
     ]
    },
    {
     "name": "stdout",
     "output_type": "stream",
     "text": [
      "\t[282/390]\tRL_CNN: gamma_trade=11, gamma_risk=10, gamma_hold=1, seed=0...\n"
     ]
    },
    {
     "name": "stdout",
     "output_type": "stream",
     "text": [
      "\t[283/390]\tRL_CNN: gamma_trade=11, gamma_risk=10, gamma_hold=10, seed=0...\n"
     ]
    },
    {
     "name": "stdout",
     "output_type": "stream",
     "text": [
      "\t[284/390]\tRL_CNN: gamma_trade=11, gamma_risk=10, gamma_hold=100, seed=0...\n"
     ]
    },
    {
     "name": "stdout",
     "output_type": "stream",
     "text": [
      "\t[285/390]\tRL_CNN: gamma_trade=11, gamma_risk=10, gamma_hold=1000, seed=0...\n"
     ]
    },
    {
     "name": "stdout",
     "output_type": "stream",
     "text": [
      "\t[286/390]\tRL_CNN: gamma_trade=11, gamma_risk=18, gamma_hold=0.1, seed=0...\n"
     ]
    },
    {
     "name": "stdout",
     "output_type": "stream",
     "text": [
      "\t[287/390]\tRL_CNN: gamma_trade=11, gamma_risk=18, gamma_hold=1, seed=0...\n"
     ]
    },
    {
     "name": "stdout",
     "output_type": "stream",
     "text": [
      "\t[288/390]\tRL_CNN: gamma_trade=11, gamma_risk=18, gamma_hold=10, seed=0...\n"
     ]
    },
    {
     "name": "stdout",
     "output_type": "stream",
     "text": [
      "\t[289/390]\tRL_CNN: gamma_trade=11, gamma_risk=18, gamma_hold=100, seed=0...\n"
     ]
    },
    {
     "name": "stdout",
     "output_type": "stream",
     "text": [
      "\t[290/390]\tRL_CNN: gamma_trade=11, gamma_risk=18, gamma_hold=1000, seed=0...\n"
     ]
    },
    {
     "name": "stdout",
     "output_type": "stream",
     "text": [
      "\t[291/390]\tRL_CNN: gamma_trade=11, gamma_risk=32, gamma_hold=0.1, seed=0...\n"
     ]
    },
    {
     "name": "stdout",
     "output_type": "stream",
     "text": [
      "\t[292/390]\tRL_CNN: gamma_trade=11, gamma_risk=32, gamma_hold=1, seed=0...\n"
     ]
    },
    {
     "name": "stdout",
     "output_type": "stream",
     "text": [
      "\t[293/390]\tRL_CNN: gamma_trade=11, gamma_risk=32, gamma_hold=10, seed=0...\n"
     ]
    },
    {
     "name": "stdout",
     "output_type": "stream",
     "text": [
      "\t[294/390]\tRL_CNN: gamma_trade=11, gamma_risk=32, gamma_hold=100, seed=0...\n"
     ]
    },
    {
     "name": "stdout",
     "output_type": "stream",
     "text": [
      "\t[295/390]\tRL_CNN: gamma_trade=11, gamma_risk=32, gamma_hold=1000, seed=0...\n"
     ]
    },
    {
     "name": "stdout",
     "output_type": "stream",
     "text": [
      "\t[296/390]\tRL_CNN: gamma_trade=11, gamma_risk=56, gamma_hold=0.1, seed=0...\n"
     ]
    },
    {
     "name": "stdout",
     "output_type": "stream",
     "text": [
      "\t[297/390]\tRL_CNN: gamma_trade=11, gamma_risk=56, gamma_hold=1, seed=0...\n"
     ]
    },
    {
     "name": "stdout",
     "output_type": "stream",
     "text": [
      "\t[298/390]\tRL_CNN: gamma_trade=11, gamma_risk=56, gamma_hold=10, seed=0...\n"
     ]
    },
    {
     "name": "stdout",
     "output_type": "stream",
     "text": [
      "\t[299/390]\tRL_CNN: gamma_trade=11, gamma_risk=56, gamma_hold=100, seed=0...\n"
     ]
    },
    {
     "name": "stdout",
     "output_type": "stream",
     "text": [
      "\t[300/390]\tRL_CNN: gamma_trade=11, gamma_risk=56, gamma_hold=1000, seed=0...\n"
     ]
    },
    {
     "name": "stdout",
     "output_type": "stream",
     "text": [
      "\t[301/390]\tRL_CNN: gamma_trade=11, gamma_risk=100, gamma_hold=0.1, seed=0...\n"
     ]
    },
    {
     "name": "stdout",
     "output_type": "stream",
     "text": [
      "\t[302/390]\tRL_CNN: gamma_trade=11, gamma_risk=100, gamma_hold=1, seed=0...\n"
     ]
    },
    {
     "name": "stdout",
     "output_type": "stream",
     "text": [
      "\t[303/390]\tRL_CNN: gamma_trade=11, gamma_risk=100, gamma_hold=10, seed=0...\n"
     ]
    },
    {
     "name": "stdout",
     "output_type": "stream",
     "text": [
      "\t[304/390]\tRL_CNN: gamma_trade=11, gamma_risk=100, gamma_hold=100, seed=0...\n"
     ]
    },
    {
     "name": "stdout",
     "output_type": "stream",
     "text": [
      "\t[305/390]\tRL_CNN: gamma_trade=11, gamma_risk=100, gamma_hold=1000, seed=0...\n"
     ]
    },
    {
     "name": "stdout",
     "output_type": "stream",
     "text": [
      "\t[306/390]\tRL_CNN: gamma_trade=11, gamma_risk=178, gamma_hold=0.1, seed=0...\n"
     ]
    },
    {
     "name": "stdout",
     "output_type": "stream",
     "text": [
      "\t[307/390]\tRL_CNN: gamma_trade=11, gamma_risk=178, gamma_hold=1, seed=0...\n"
     ]
    },
    {
     "name": "stdout",
     "output_type": "stream",
     "text": [
      "\t[308/390]\tRL_CNN: gamma_trade=11, gamma_risk=178, gamma_hold=10, seed=0...\n"
     ]
    },
    {
     "name": "stdout",
     "output_type": "stream",
     "text": [
      "\t[309/390]\tRL_CNN: gamma_trade=11, gamma_risk=178, gamma_hold=100, seed=0...\n"
     ]
    },
    {
     "name": "stdout",
     "output_type": "stream",
     "text": [
      "\t[310/390]\tRL_CNN: gamma_trade=11, gamma_risk=178, gamma_hold=1000, seed=0...\n"
     ]
    },
    {
     "name": "stdout",
     "output_type": "stream",
     "text": [
      "\t[311/390]\tRL_CNN: gamma_trade=11, gamma_risk=316, gamma_hold=0.1, seed=0...\n"
     ]
    },
    {
     "name": "stdout",
     "output_type": "stream",
     "text": [
      "\t[312/390]\tRL_CNN: gamma_trade=11, gamma_risk=316, gamma_hold=1, seed=0...\n"
     ]
    },
    {
     "name": "stdout",
     "output_type": "stream",
     "text": [
      "\t[313/390]\tRL_CNN: gamma_trade=11, gamma_risk=316, gamma_hold=10, seed=0...\n"
     ]
    },
    {
     "name": "stdout",
     "output_type": "stream",
     "text": [
      "\t[314/390]\tRL_CNN: gamma_trade=11, gamma_risk=316, gamma_hold=100, seed=0...\n"
     ]
    },
    {
     "name": "stdout",
     "output_type": "stream",
     "text": [
      "\t[315/390]\tRL_CNN: gamma_trade=11, gamma_risk=316, gamma_hold=1000, seed=0...\n"
     ]
    },
    {
     "name": "stdout",
     "output_type": "stream",
     "text": [
      "\t[316/390]\tRL_CNN: gamma_trade=11, gamma_risk=562, gamma_hold=0.1, seed=0...\n"
     ]
    },
    {
     "name": "stdout",
     "output_type": "stream",
     "text": [
      "\t[317/390]\tRL_CNN: gamma_trade=11, gamma_risk=562, gamma_hold=1, seed=0...\n"
     ]
    },
    {
     "name": "stdout",
     "output_type": "stream",
     "text": [
      "\t[318/390]\tRL_CNN: gamma_trade=11, gamma_risk=562, gamma_hold=10, seed=0...\n"
     ]
    },
    {
     "name": "stdout",
     "output_type": "stream",
     "text": [
      "\t[319/390]\tRL_CNN: gamma_trade=11, gamma_risk=562, gamma_hold=100, seed=0...\n"
     ]
    },
    {
     "name": "stdout",
     "output_type": "stream",
     "text": [
      "\t[320/390]\tRL_CNN: gamma_trade=11, gamma_risk=562, gamma_hold=1000, seed=0...\n"
     ]
    },
    {
     "name": "stdout",
     "output_type": "stream",
     "text": [
      "\t[321/390]\tRL_CNN: gamma_trade=11, gamma_risk=1000, gamma_hold=0.1, seed=0...\n"
     ]
    },
    {
     "name": "stdout",
     "output_type": "stream",
     "text": [
      "\t[322/390]\tRL_CNN: gamma_trade=11, gamma_risk=1000, gamma_hold=1, seed=0...\n"
     ]
    },
    {
     "name": "stdout",
     "output_type": "stream",
     "text": [
      "\t[323/390]\tRL_CNN: gamma_trade=11, gamma_risk=1000, gamma_hold=10, seed=0...\n"
     ]
    },
    {
     "name": "stdout",
     "output_type": "stream",
     "text": [
      "\t[324/390]\tRL_CNN: gamma_trade=11, gamma_risk=1000, gamma_hold=100, seed=0...\n"
     ]
    },
    {
     "name": "stdout",
     "output_type": "stream",
     "text": [
      "\t[325/390]\tRL_CNN: gamma_trade=11, gamma_risk=1000, gamma_hold=1000, seed=0...\n"
     ]
    },
    {
     "name": "stdout",
     "output_type": "stream",
     "text": [
      "\t[326/390]\tRL_CNN: gamma_trade=12, gamma_risk=1, gamma_hold=0.1, seed=0...\n"
     ]
    },
    {
     "name": "stdout",
     "output_type": "stream",
     "text": [
      "\t[327/390]\tRL_CNN: gamma_trade=12, gamma_risk=1, gamma_hold=1, seed=0...\n"
     ]
    },
    {
     "name": "stdout",
     "output_type": "stream",
     "text": [
      "\t[328/390]\tRL_CNN: gamma_trade=12, gamma_risk=1, gamma_hold=10, seed=0...\n"
     ]
    },
    {
     "name": "stdout",
     "output_type": "stream",
     "text": [
      "\t[329/390]\tRL_CNN: gamma_trade=12, gamma_risk=1, gamma_hold=100, seed=0...\n"
     ]
    },
    {
     "name": "stdout",
     "output_type": "stream",
     "text": [
      "\t[330/390]\tRL_CNN: gamma_trade=12, gamma_risk=1, gamma_hold=1000, seed=0...\n"
     ]
    },
    {
     "name": "stdout",
     "output_type": "stream",
     "text": [
      "\t[331/390]\tRL_CNN: gamma_trade=12, gamma_risk=2, gamma_hold=0.1, seed=0...\n"
     ]
    },
    {
     "name": "stdout",
     "output_type": "stream",
     "text": [
      "\t[332/390]\tRL_CNN: gamma_trade=12, gamma_risk=2, gamma_hold=1, seed=0...\n"
     ]
    },
    {
     "name": "stdout",
     "output_type": "stream",
     "text": [
      "\t[333/390]\tRL_CNN: gamma_trade=12, gamma_risk=2, gamma_hold=10, seed=0...\n"
     ]
    },
    {
     "name": "stdout",
     "output_type": "stream",
     "text": [
      "\t[334/390]\tRL_CNN: gamma_trade=12, gamma_risk=2, gamma_hold=100, seed=0...\n"
     ]
    },
    {
     "name": "stdout",
     "output_type": "stream",
     "text": [
      "\t[335/390]\tRL_CNN: gamma_trade=12, gamma_risk=2, gamma_hold=1000, seed=0...\n"
     ]
    },
    {
     "name": "stdout",
     "output_type": "stream",
     "text": [
      "\t[336/390]\tRL_CNN: gamma_trade=12, gamma_risk=3, gamma_hold=0.1, seed=0...\n"
     ]
    },
    {
     "name": "stdout",
     "output_type": "stream",
     "text": [
      "\t[337/390]\tRL_CNN: gamma_trade=12, gamma_risk=3, gamma_hold=1, seed=0...\n"
     ]
    },
    {
     "name": "stdout",
     "output_type": "stream",
     "text": [
      "\t[338/390]\tRL_CNN: gamma_trade=12, gamma_risk=3, gamma_hold=10, seed=0...\n"
     ]
    },
    {
     "name": "stdout",
     "output_type": "stream",
     "text": [
      "\t[339/390]\tRL_CNN: gamma_trade=12, gamma_risk=3, gamma_hold=100, seed=0...\n"
     ]
    },
    {
     "name": "stdout",
     "output_type": "stream",
     "text": [
      "\t[340/390]\tRL_CNN: gamma_trade=12, gamma_risk=3, gamma_hold=1000, seed=0...\n"
     ]
    },
    {
     "name": "stdout",
     "output_type": "stream",
     "text": [
      "\t[341/390]\tRL_CNN: gamma_trade=12, gamma_risk=6, gamma_hold=0.1, seed=0...\n"
     ]
    },
    {
     "name": "stdout",
     "output_type": "stream",
     "text": [
      "\t[342/390]\tRL_CNN: gamma_trade=12, gamma_risk=6, gamma_hold=1, seed=0...\n"
     ]
    },
    {
     "name": "stdout",
     "output_type": "stream",
     "text": [
      "\t[343/390]\tRL_CNN: gamma_trade=12, gamma_risk=6, gamma_hold=10, seed=0...\n"
     ]
    },
    {
     "name": "stdout",
     "output_type": "stream",
     "text": [
      "\t[344/390]\tRL_CNN: gamma_trade=12, gamma_risk=6, gamma_hold=100, seed=0...\n"
     ]
    },
    {
     "name": "stdout",
     "output_type": "stream",
     "text": [
      "\t[345/390]\tRL_CNN: gamma_trade=12, gamma_risk=6, gamma_hold=1000, seed=0...\n"
     ]
    },
    {
     "name": "stdout",
     "output_type": "stream",
     "text": [
      "\t[346/390]\tRL_CNN: gamma_trade=12, gamma_risk=10, gamma_hold=0.1, seed=0...\n"
     ]
    },
    {
     "name": "stdout",
     "output_type": "stream",
     "text": [
      "\t[347/390]\tRL_CNN: gamma_trade=12, gamma_risk=10, gamma_hold=1, seed=0...\n"
     ]
    },
    {
     "name": "stdout",
     "output_type": "stream",
     "text": [
      "\t[348/390]\tRL_CNN: gamma_trade=12, gamma_risk=10, gamma_hold=10, seed=0...\n"
     ]
    },
    {
     "name": "stdout",
     "output_type": "stream",
     "text": [
      "\t[349/390]\tRL_CNN: gamma_trade=12, gamma_risk=10, gamma_hold=100, seed=0...\n"
     ]
    },
    {
     "name": "stdout",
     "output_type": "stream",
     "text": [
      "\t[350/390]\tRL_CNN: gamma_trade=12, gamma_risk=10, gamma_hold=1000, seed=0...\n"
     ]
    },
    {
     "name": "stdout",
     "output_type": "stream",
     "text": [
      "\t[351/390]\tRL_CNN: gamma_trade=12, gamma_risk=18, gamma_hold=0.1, seed=0...\n"
     ]
    },
    {
     "name": "stdout",
     "output_type": "stream",
     "text": [
      "\t[352/390]\tRL_CNN: gamma_trade=12, gamma_risk=18, gamma_hold=1, seed=0...\n"
     ]
    },
    {
     "name": "stdout",
     "output_type": "stream",
     "text": [
      "\t[353/390]\tRL_CNN: gamma_trade=12, gamma_risk=18, gamma_hold=10, seed=0...\n"
     ]
    },
    {
     "name": "stdout",
     "output_type": "stream",
     "text": [
      "\t[354/390]\tRL_CNN: gamma_trade=12, gamma_risk=18, gamma_hold=100, seed=0...\n"
     ]
    },
    {
     "name": "stdout",
     "output_type": "stream",
     "text": [
      "\t[355/390]\tRL_CNN: gamma_trade=12, gamma_risk=18, gamma_hold=1000, seed=0...\n"
     ]
    },
    {
     "name": "stdout",
     "output_type": "stream",
     "text": [
      "\t[356/390]\tRL_CNN: gamma_trade=12, gamma_risk=32, gamma_hold=0.1, seed=0...\n"
     ]
    },
    {
     "name": "stdout",
     "output_type": "stream",
     "text": [
      "\t[357/390]\tRL_CNN: gamma_trade=12, gamma_risk=32, gamma_hold=1, seed=0...\n"
     ]
    },
    {
     "name": "stdout",
     "output_type": "stream",
     "text": [
      "\t[358/390]\tRL_CNN: gamma_trade=12, gamma_risk=32, gamma_hold=10, seed=0...\n"
     ]
    },
    {
     "name": "stdout",
     "output_type": "stream",
     "text": [
      "\t[359/390]\tRL_CNN: gamma_trade=12, gamma_risk=32, gamma_hold=100, seed=0...\n"
     ]
    },
    {
     "name": "stdout",
     "output_type": "stream",
     "text": [
      "\t[360/390]\tRL_CNN: gamma_trade=12, gamma_risk=32, gamma_hold=1000, seed=0...\n"
     ]
    },
    {
     "name": "stdout",
     "output_type": "stream",
     "text": [
      "\t[361/390]\tRL_CNN: gamma_trade=12, gamma_risk=56, gamma_hold=0.1, seed=0...\n"
     ]
    },
    {
     "name": "stdout",
     "output_type": "stream",
     "text": [
      "\t[362/390]\tRL_CNN: gamma_trade=12, gamma_risk=56, gamma_hold=1, seed=0...\n"
     ]
    },
    {
     "name": "stdout",
     "output_type": "stream",
     "text": [
      "\t[363/390]\tRL_CNN: gamma_trade=12, gamma_risk=56, gamma_hold=10, seed=0...\n"
     ]
    },
    {
     "name": "stdout",
     "output_type": "stream",
     "text": [
      "\t[364/390]\tRL_CNN: gamma_trade=12, gamma_risk=56, gamma_hold=100, seed=0...\n"
     ]
    },
    {
     "name": "stdout",
     "output_type": "stream",
     "text": [
      "\t[365/390]\tRL_CNN: gamma_trade=12, gamma_risk=56, gamma_hold=1000, seed=0...\n"
     ]
    },
    {
     "name": "stdout",
     "output_type": "stream",
     "text": [
      "\t[366/390]\tRL_CNN: gamma_trade=12, gamma_risk=100, gamma_hold=0.1, seed=0...\n"
     ]
    },
    {
     "name": "stdout",
     "output_type": "stream",
     "text": [
      "\t[367/390]\tRL_CNN: gamma_trade=12, gamma_risk=100, gamma_hold=1, seed=0...\n"
     ]
    },
    {
     "name": "stdout",
     "output_type": "stream",
     "text": [
      "\t[368/390]\tRL_CNN: gamma_trade=12, gamma_risk=100, gamma_hold=10, seed=0...\n"
     ]
    },
    {
     "name": "stdout",
     "output_type": "stream",
     "text": [
      "\t[369/390]\tRL_CNN: gamma_trade=12, gamma_risk=100, gamma_hold=100, seed=0...\n"
     ]
    },
    {
     "name": "stdout",
     "output_type": "stream",
     "text": [
      "\t[370/390]\tRL_CNN: gamma_trade=12, gamma_risk=100, gamma_hold=1000, seed=0...\n"
     ]
    },
    {
     "name": "stdout",
     "output_type": "stream",
     "text": [
      "\t[371/390]\tRL_CNN: gamma_trade=12, gamma_risk=178, gamma_hold=0.1, seed=0...\n"
     ]
    },
    {
     "name": "stdout",
     "output_type": "stream",
     "text": [
      "\t[372/390]\tRL_CNN: gamma_trade=12, gamma_risk=178, gamma_hold=1, seed=0...\n"
     ]
    },
    {
     "name": "stdout",
     "output_type": "stream",
     "text": [
      "\t[373/390]\tRL_CNN: gamma_trade=12, gamma_risk=178, gamma_hold=10, seed=0...\n"
     ]
    },
    {
     "name": "stdout",
     "output_type": "stream",
     "text": [
      "\t[374/390]\tRL_CNN: gamma_trade=12, gamma_risk=178, gamma_hold=100, seed=0...\n"
     ]
    },
    {
     "name": "stdout",
     "output_type": "stream",
     "text": [
      "\t[375/390]\tRL_CNN: gamma_trade=12, gamma_risk=178, gamma_hold=1000, seed=0...\n"
     ]
    },
    {
     "name": "stdout",
     "output_type": "stream",
     "text": [
      "\t[376/390]\tRL_CNN: gamma_trade=12, gamma_risk=316, gamma_hold=0.1, seed=0...\n"
     ]
    },
    {
     "name": "stdout",
     "output_type": "stream",
     "text": [
      "\t[377/390]\tRL_CNN: gamma_trade=12, gamma_risk=316, gamma_hold=1, seed=0...\n"
     ]
    },
    {
     "name": "stdout",
     "output_type": "stream",
     "text": [
      "\t[378/390]\tRL_CNN: gamma_trade=12, gamma_risk=316, gamma_hold=10, seed=0...\n"
     ]
    },
    {
     "name": "stdout",
     "output_type": "stream",
     "text": [
      "\t[379/390]\tRL_CNN: gamma_trade=12, gamma_risk=316, gamma_hold=100, seed=0...\n"
     ]
    },
    {
     "name": "stdout",
     "output_type": "stream",
     "text": [
      "\t[380/390]\tRL_CNN: gamma_trade=12, gamma_risk=316, gamma_hold=1000, seed=0...\n"
     ]
    },
    {
     "name": "stdout",
     "output_type": "stream",
     "text": [
      "\t[381/390]\tRL_CNN: gamma_trade=12, gamma_risk=562, gamma_hold=0.1, seed=0...\n"
     ]
    },
    {
     "name": "stdout",
     "output_type": "stream",
     "text": [
      "\t[382/390]\tRL_CNN: gamma_trade=12, gamma_risk=562, gamma_hold=1, seed=0...\n"
     ]
    },
    {
     "name": "stdout",
     "output_type": "stream",
     "text": [
      "\t[383/390]\tRL_CNN: gamma_trade=12, gamma_risk=562, gamma_hold=10, seed=0...\n"
     ]
    },
    {
     "name": "stdout",
     "output_type": "stream",
     "text": [
      "\t[384/390]\tRL_CNN: gamma_trade=12, gamma_risk=562, gamma_hold=100, seed=0...\n"
     ]
    },
    {
     "name": "stdout",
     "output_type": "stream",
     "text": [
      "\t[385/390]\tRL_CNN: gamma_trade=12, gamma_risk=562, gamma_hold=1000, seed=0...\n"
     ]
    },
    {
     "name": "stdout",
     "output_type": "stream",
     "text": [
      "\t[386/390]\tRL_CNN: gamma_trade=12, gamma_risk=1000, gamma_hold=0.1, seed=0...\n"
     ]
    },
    {
     "name": "stdout",
     "output_type": "stream",
     "text": [
      "\t[387/390]\tRL_CNN: gamma_trade=12, gamma_risk=1000, gamma_hold=1, seed=0...\n"
     ]
    },
    {
     "name": "stdout",
     "output_type": "stream",
     "text": [
      "\t[388/390]\tRL_CNN: gamma_trade=12, gamma_risk=1000, gamma_hold=10, seed=0...\n"
     ]
    },
    {
     "name": "stdout",
     "output_type": "stream",
     "text": [
      "\t[389/390]\tRL_CNN: gamma_trade=12, gamma_risk=1000, gamma_hold=100, seed=0...\n"
     ]
    },
    {
     "name": "stdout",
     "output_type": "stream",
     "text": [
      "\t[390/390]\tRL_CNN: gamma_trade=12, gamma_risk=1000, gamma_hold=1000, seed=0...\n"
     ]
    },
    {
     "name": "stdout",
     "output_type": "stream",
     "text": [
      "CPU times: user 1h 15min 17s, sys: 2.73 s, total: 1h 15min 20s\n",
      "Wall time: 1h 15min 19s\n"
     ]
    }
   ],
   "source": [
    "%%time\n",
    "# make directory for results if it does not exist already\n",
    "maybe_make_dir(RESULTS_DIR)\n",
    "\n",
    "print('creating environment and agent...')\n",
    "env = MultiStockEnv(tickers=TICKERS, \n",
    "                    from_date=FROM,\n",
    "                    until=UNTIL, \n",
    "                    #nb_episodes=100,\n",
    "                    cash_key='USDOLLAR', \n",
    "                    #gamma_risk=GAMMA_RISK, \n",
    "                    #gamma_trade=GAMMA_TRADE,\n",
    "                    #half_spread=HALF_SPREAD, \n",
    "                    nonlin_coef=NONLIN_COEFF, \n",
    "                    power=POWER, \n",
    "                    datadir=DATA_DIR, \n",
    "                    state_lookback_window=20, \n",
    "                    #distribution=EPISODE_DRAW_DISTRIBUTION,\n",
    "                    #days_duration=DAYS_IN_EPISODE, \n",
    "                    mode='backtest', \n",
    "                    random_seed=7,\n",
    "                    init_portfolio=INIT_PORTFOLIO, \n",
    "                    period_in_file_name=FILE_PERIOD, \n",
    "                    nb_forecasts=NB_FORECASTS, \n",
    "                    forecast_type=FORECAST_TYPE,\n",
    "                    use_CNN_state=USE_CNN_STATE,\n",
    "                    verbose=False)\n",
    "\n",
    "agent = Agent(alpha=0.001, \n",
    "              gamma=0.99, \n",
    "              n_assets=len(TICKERS)+1, \n",
    "              tau=5, \n",
    "              lookback_window=20, \n",
    "              n_feature_maps=len(TICKERS)+1,\n",
    "              use_forecasts=USE_FORECASTS,\n",
    "              use_CNN_state=USE_CNN_STATE,\n",
    "              allow_long_short_trades=True)\n",
    "\n",
    "results_dict = {}\n",
    "#actions_dict = {}\n",
    "print('backtesting:')\n",
    "\n",
    "total_backtests = len(SEED_LIST) * len(GAMMA_TRIOS)\n",
    "backtest_counter = 0\n",
    "\n",
    "for RANDOM_SEED in SEED_LIST:\n",
    "    for (GAMMA_TRADE, GAMMA_RISK, GAMMA_HOLD) in GAMMA_TRIOS:\n",
    "        \n",
    "        backtest_counter += 1\n",
    "        print(f'\\t[{backtest_counter}/{total_backtests}]\\t{MODEL_BASE_NAME}: gamma_trade={GAMMA_TRADE}, gamma_risk={GAMMA_RISK}, gamma_hold={GAMMA_HOLD}, seed={RANDOM_SEED}...')\n",
    "        \n",
    "        # load trained RL model for backtesting\n",
    "        SAVED_MODEL_DIR = f'../experiments/{MARKET_NAME}/seeded/{MODEL_BASE_NAME}/seed_{RANDOM_SEED}/trade_{GAMMA_TRADE}_risk_{GAMMA_RISK}_hold_{GAMMA_HOLD}/models/{MODEL_BASE_NAME}_seed_{RANDOM_SEED}_{NB_EPISODES}'\n",
    "        # set dir where actions csv file will be saved\n",
    "        actions_dir = f'../experiments/{MARKET_NAME}/seeded/{MODEL_BASE_NAME}/seed_{RANDOM_SEED}/trade_{GAMMA_TRADE}_risk_{GAMMA_RISK}_hold_{GAMMA_HOLD}'\n",
    "        \n",
    "        try:\n",
    "            rl_rets, rl_actions = backtest(agent, env, weights_file_dir=SAVED_MODEL_DIR, verbose=False)\n",
    "            \n",
    "            #rl_rets = pd.Series(data=rl_rets, index=env.returns.loc[FROM:UNTIL].iloc[1:].index)\n",
    "            #rl_actions = pd.DataFrame(data=rl_actions, index=env.returns.loc[FROM:UNTIL].iloc[0:].index, columns=TICKERS+['USDOLLAR'])\n",
    "            rl_rets = pd.Series(data=rl_rets, index=env.returns.loc[FROM:UNTIL].iloc[:-1].index)\n",
    "            rl_rets = rl_rets.shift(1)\n",
    "            rl_rets.iloc[0] = 0\n",
    "            rl_actions = pd.DataFrame(data=rl_actions[:-1], index=env.returns.loc[FROM:UNTIL].iloc[:-1].index, columns=TICKERS+['USDOLLAR'])\n",
    "            \n",
    "            # save actions\n",
    "            rl_actions.to_csv(f'{actions_dir}/actions.csv')\n",
    "            #print('actions saved.')\n",
    "\n",
    "            cash_rets = env.returns.loc[FROM:UNTIL, env.cash_key].iloc[:-1]\n",
    "            excess_rets = rl_rets - cash_rets\n",
    "\n",
    "            R_e = excess_rets.mean() * 100 * 252\n",
    "            sigma_e = excess_rets.std() * 100 * np.sqrt(252)\n",
    "            sharpe = R_e / sigma_e\n",
    "\n",
    "            results_dict[(GAMMA_TRADE, GAMMA_RISK, GAMMA_HOLD, RANDOM_SEED)] = {'excess_return':R_e, 'excess_risk':sigma_e, 'sharpe':sharpe}\n",
    "        except Exception as e:\n",
    "            print(f'**error for model: trade_{GAMMA_TRADE}_risk_{GAMMA_RISK}_hold_{GAMMA_HOLD}')\n",
    "            #print(e)"
   ]
  },
  {
   "cell_type": "code",
   "execution_count": 7,
   "id": "eb8cb71d",
   "metadata": {
    "execution": {
     "iopub.execute_input": "2022-06-22T16:15:36.456381Z",
     "iopub.status.busy": "2022-06-22T16:15:36.456051Z",
     "iopub.status.idle": "2022-06-22T16:15:36.539829Z",
     "shell.execute_reply": "2022-06-22T16:15:36.538924Z"
    },
    "papermill": {
     "duration": 0.137078,
     "end_time": "2022-06-22T16:15:36.542686",
     "exception": false,
     "start_time": "2022-06-22T16:15:36.405608",
     "status": "completed"
    },
    "tags": []
   },
   "outputs": [
    {
     "name": "stdout",
     "output_type": "stream",
     "text": [
      "saved.\n"
     ]
    },
    {
     "data": {
      "text/html": [
       "<div>\n",
       "<style scoped>\n",
       "    .dataframe tbody tr th:only-of-type {\n",
       "        vertical-align: middle;\n",
       "    }\n",
       "\n",
       "    .dataframe tbody tr th {\n",
       "        vertical-align: top;\n",
       "    }\n",
       "\n",
       "    .dataframe thead th {\n",
       "        text-align: right;\n",
       "    }\n",
       "</style>\n",
       "<table border=\"1\" class=\"dataframe\">\n",
       "  <thead>\n",
       "    <tr style=\"text-align: right;\">\n",
       "      <th></th>\n",
       "      <th>gamma_trade</th>\n",
       "      <th>gamma_risk</th>\n",
       "      <th>gamma_hold</th>\n",
       "      <th>seed</th>\n",
       "      <th>excess_return</th>\n",
       "      <th>excess_risk</th>\n",
       "      <th>sharpe</th>\n",
       "    </tr>\n",
       "  </thead>\n",
       "  <tbody>\n",
       "    <tr>\n",
       "      <th>0</th>\n",
       "      <td>7</td>\n",
       "      <td>1</td>\n",
       "      <td>0.1</td>\n",
       "      <td>0</td>\n",
       "      <td>16.172078</td>\n",
       "      <td>37.535832</td>\n",
       "      <td>0.430844</td>\n",
       "    </tr>\n",
       "    <tr>\n",
       "      <th>1</th>\n",
       "      <td>7</td>\n",
       "      <td>1</td>\n",
       "      <td>1.0</td>\n",
       "      <td>0</td>\n",
       "      <td>13.809701</td>\n",
       "      <td>20.536371</td>\n",
       "      <td>0.672451</td>\n",
       "    </tr>\n",
       "    <tr>\n",
       "      <th>2</th>\n",
       "      <td>7</td>\n",
       "      <td>1</td>\n",
       "      <td>10.0</td>\n",
       "      <td>0</td>\n",
       "      <td>11.739239</td>\n",
       "      <td>16.091739</td>\n",
       "      <td>0.729520</td>\n",
       "    </tr>\n",
       "    <tr>\n",
       "      <th>3</th>\n",
       "      <td>7</td>\n",
       "      <td>1</td>\n",
       "      <td>100.0</td>\n",
       "      <td>0</td>\n",
       "      <td>10.715864</td>\n",
       "      <td>15.392510</td>\n",
       "      <td>0.696174</td>\n",
       "    </tr>\n",
       "    <tr>\n",
       "      <th>4</th>\n",
       "      <td>7</td>\n",
       "      <td>1</td>\n",
       "      <td>1000.0</td>\n",
       "      <td>0</td>\n",
       "      <td>10.153827</td>\n",
       "      <td>15.020474</td>\n",
       "      <td>0.675999</td>\n",
       "    </tr>\n",
       "    <tr>\n",
       "      <th>...</th>\n",
       "      <td>...</td>\n",
       "      <td>...</td>\n",
       "      <td>...</td>\n",
       "      <td>...</td>\n",
       "      <td>...</td>\n",
       "      <td>...</td>\n",
       "      <td>...</td>\n",
       "    </tr>\n",
       "    <tr>\n",
       "      <th>385</th>\n",
       "      <td>12</td>\n",
       "      <td>1000</td>\n",
       "      <td>0.1</td>\n",
       "      <td>0</td>\n",
       "      <td>4.184158</td>\n",
       "      <td>11.653387</td>\n",
       "      <td>0.359051</td>\n",
       "    </tr>\n",
       "    <tr>\n",
       "      <th>386</th>\n",
       "      <td>12</td>\n",
       "      <td>1000</td>\n",
       "      <td>1.0</td>\n",
       "      <td>0</td>\n",
       "      <td>2.096756</td>\n",
       "      <td>11.415410</td>\n",
       "      <td>0.183678</td>\n",
       "    </tr>\n",
       "    <tr>\n",
       "      <th>387</th>\n",
       "      <td>12</td>\n",
       "      <td>1000</td>\n",
       "      <td>10.0</td>\n",
       "      <td>0</td>\n",
       "      <td>4.145771</td>\n",
       "      <td>11.625526</td>\n",
       "      <td>0.356609</td>\n",
       "    </tr>\n",
       "    <tr>\n",
       "      <th>388</th>\n",
       "      <td>12</td>\n",
       "      <td>1000</td>\n",
       "      <td>100.0</td>\n",
       "      <td>0</td>\n",
       "      <td>5.085199</td>\n",
       "      <td>11.772203</td>\n",
       "      <td>0.431967</td>\n",
       "    </tr>\n",
       "    <tr>\n",
       "      <th>389</th>\n",
       "      <td>12</td>\n",
       "      <td>1000</td>\n",
       "      <td>1000.0</td>\n",
       "      <td>0</td>\n",
       "      <td>3.216878</td>\n",
       "      <td>10.671618</td>\n",
       "      <td>0.301442</td>\n",
       "    </tr>\n",
       "  </tbody>\n",
       "</table>\n",
       "<p>390 rows × 7 columns</p>\n",
       "</div>"
      ],
      "text/plain": [
       "     gamma_trade  gamma_risk  gamma_hold  seed  excess_return  excess_risk  \\\n",
       "0              7           1         0.1     0      16.172078    37.535832   \n",
       "1              7           1         1.0     0      13.809701    20.536371   \n",
       "2              7           1        10.0     0      11.739239    16.091739   \n",
       "3              7           1       100.0     0      10.715864    15.392510   \n",
       "4              7           1      1000.0     0      10.153827    15.020474   \n",
       "..           ...         ...         ...   ...            ...          ...   \n",
       "385           12        1000         0.1     0       4.184158    11.653387   \n",
       "386           12        1000         1.0     0       2.096756    11.415410   \n",
       "387           12        1000        10.0     0       4.145771    11.625526   \n",
       "388           12        1000       100.0     0       5.085199    11.772203   \n",
       "389           12        1000      1000.0     0       3.216878    10.671618   \n",
       "\n",
       "       sharpe  \n",
       "0    0.430844  \n",
       "1    0.672451  \n",
       "2    0.729520  \n",
       "3    0.696174  \n",
       "4    0.675999  \n",
       "..        ...  \n",
       "385  0.359051  \n",
       "386  0.183678  \n",
       "387  0.356609  \n",
       "388  0.431967  \n",
       "389  0.301442  \n",
       "\n",
       "[390 rows x 7 columns]"
      ]
     },
     "execution_count": 7,
     "metadata": {},
     "output_type": "execute_result"
    }
   ],
   "source": [
    "results_df = pd.DataFrame(results_dict).T.reset_index()\n",
    "results_df.columns = ['gamma_trade', 'gamma_risk', 'gamma_hold', 'seed', 'excess_return', 'excess_risk', 'sharpe']\n",
    "results_df.to_csv(RESULTS_DIR+TEST_NAME+'.csv', index=False)\n",
    "print('saved.')\n",
    "results_df"
   ]
  },
  {
   "cell_type": "code",
   "execution_count": 8,
   "id": "d560a57a",
   "metadata": {
    "execution": {
     "iopub.execute_input": "2022-06-22T16:15:36.643870Z",
     "iopub.status.busy": "2022-06-22T16:15:36.643553Z",
     "iopub.status.idle": "2022-06-22T16:15:37.137847Z",
     "shell.execute_reply": "2022-06-22T16:15:37.136906Z"
    },
    "papermill": {
     "duration": 0.548163,
     "end_time": "2022-06-22T16:15:37.140782",
     "exception": false,
     "start_time": "2022-06-22T16:15:36.592619",
     "status": "completed"
    },
    "tags": []
   },
   "outputs": [
    {
     "data": {
      "text/plain": [
       "(-10.0, 70.0)"
      ]
     },
     "execution_count": 8,
     "metadata": {},
     "output_type": "execute_result"
    },
    {
     "data": {
      "image/png": "[encoded data removed]",
      "text/plain": [
       "<Figure size 432x360 with 1 Axes>"
      ]
     },
     "metadata": {
      "needs_background": "light"
     },
     "output_type": "display_data"
    }
   ],
   "source": [
    "# risk-return plot \n",
    "results_df[['excess_return', 'excess_risk']]\\\n",
    "    .rename(\n",
    "        columns={\n",
    "            'excess_return':'Excess Return (%)', \n",
    "            'excess_risk':'Excess Risk (%)'\n",
    "        })\\\n",
    "    .plot(\n",
    "        kind='scatter', \n",
    "        x='Excess Risk (%)', \n",
    "        y='Excess Return (%)', \n",
    "        title='Backtest Resulsts', \n",
    "        alpha=0.8,\n",
    "        figsize=(6,5),\n",
    "        c='C0')\n",
    "\n",
    "# x and y axis limits\n",
    "plt.xlim(left=0.0, right=60.0)\n",
    "plt.ylim(bottom=-10.0, top=70.0)"
   ]
  },
  {
   "cell_type": "code",
   "execution_count": 9,
   "id": "e06ed5b2",
   "metadata": {
    "execution": {
     "iopub.execute_input": "2022-06-22T16:15:37.234273Z",
     "iopub.status.busy": "2022-06-22T16:15:37.233966Z",
     "iopub.status.idle": "2022-06-22T16:15:37.241044Z",
     "shell.execute_reply": "2022-06-22T16:15:37.239464Z"
    },
    "papermill": {
     "duration": 0.052877,
     "end_time": "2022-06-22T16:15:37.243728",
     "exception": false,
     "start_time": "2022-06-22T16:15:37.190851",
     "status": "completed"
    },
    "tags": []
   },
   "outputs": [
    {
     "name": "stdout",
     "output_type": "stream",
     "text": [
      "done backtesting for RL_CNN.\n"
     ]
    }
   ],
   "source": [
    "print(f'done backtesting for {MODEL_BASE_NAME}.')"
   ]
  },
  {
   "cell_type": "code",
   "execution_count": 10,
   "id": "e1b8e54e",
   "metadata": {
    "execution": {
     "iopub.execute_input": "2022-06-22T16:15:37.317776Z",
     "iopub.status.busy": "2022-06-22T16:15:37.317126Z",
     "iopub.status.idle": "2022-06-22T16:15:37.328587Z",
     "shell.execute_reply": "2022-06-22T16:15:37.326847Z"
    },
    "papermill": {
     "duration": 0.051867,
     "end_time": "2022-06-22T16:15:37.331434",
     "exception": false,
     "start_time": "2022-06-22T16:15:37.279567",
     "status": "completed"
    },
    "tags": []
   },
   "outputs": [
    {
     "data": {
      "text/plain": [
       "<src.models.frontier.LongShortCNNPolicy at 0x7f70944c1250>"
      ]
     },
     "execution_count": 10,
     "metadata": {},
     "output_type": "execute_result"
    }
   ],
   "source": [
    "agent.policy"
   ]
  }
 ],
 "metadata": {
  "interpreter": {
   "hash": "949777d72b0d2535278d3dc13498b2535136f6dfe0678499012e853ee9abcab1"
  },
  "kernelspec": {
   "display_name": "Python 3.7.6 64-bit",
   "language": "python",
   "name": "python3"
  },
  "language_info": {
   "codemirror_mode": {
    "name": "ipython",
    "version": 3
   },
   "file_extension": ".py",
   "mimetype": "text/x-python",
   "name": "python",
   "nbconvert_exporter": "python",
   "pygments_lexer": "ipython3",
   "version": "3.7.6"
  },
  "papermill": {
   "default_parameters": {},
   "duration": 4527.461805,
   "end_time": "2022-06-22T16:15:40.006173",
   "environment_variables": {},
   "exception": null,
   "input_path": "backtest_template.ipynb",
   "output_path": "slave_notebooks/backtests/RL_CNN_DOW_30_(0_etc).ipynb",
   "parameters": {
    "FROM": "2018-01-01",
    "GAMMA_HOLDS": [
     0.1,
     1,
     10,
     100,
     1000
    ],
    "GAMMA_RISKS": [
     1,
     2,
     3,
     6,
     10,
     18,
     32,
     56,
     100,
     178,
     316,
     562,
     1000
    ],
    "GAMMA_TRADES": [
     7,
     8,
     9,
     10,
     11,
     12
    ],
    "MARKET_NAME": "DOW_30",
    "MODEL_BASE_NAME": "RL_CNN",
    "NB_EPISODES": 200,
    "SEED_LIST": [
     0
    ],
    "TICKERS": [
     "AAPL",
     "MSFT",
     "JPM",
     "V",
     "RTX",
     "PG",
     "GS",
     "NKE",
     "DIS",
     "AXP",
     "HD",
     "INTC",
     "WMT",
     "IBM",
     "MRK",
     "UNH",
     "KO",
     "CAT",
     "TRV",
     "JNJ",
     "CVX",
     "MCD",
     "VZ",
     "CSCO",
     "XOM",
     "BA",
     "MMM",
     "PFE",
     "WBA",
     "DD"
    ],
    "UNTIL": "2020-01-01"
   },
   "start_time": "2022-06-22T15:00:12.544368",
   "version": "2.3.3"
  }
 },
 "nbformat": 4,
 "nbformat_minor": 5
}