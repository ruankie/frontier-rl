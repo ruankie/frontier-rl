{
 "cells": [
  {
   "cell_type": "code",
   "execution_count": 1,
   "id": "eb89f69f",
   "metadata": {
    "execution": {
     "iopub.execute_input": "2022-06-18T21:22:50.718488Z",
     "iopub.status.busy": "2022-06-18T21:22:50.718180Z",
     "iopub.status.idle": "2022-06-18T21:22:52.505828Z",
     "shell.execute_reply": "2022-06-18T21:22:52.504915Z"
    },
    "papermill": {
     "duration": 1.79904,
     "end_time": "2022-06-18T21:22:52.507564",
     "exception": false,
     "start_time": "2022-06-18T21:22:50.708524",
     "status": "completed"
    },
    "tags": []
   },
   "outputs": [
    {
     "name": "stdout",
     "output_type": "stream",
     "text": [
      "CPU times: user 1.97 s, sys: 698 ms, total: 2.67 s\n",
      "Wall time: 1.78 s\n"
     ]
    }
   ],
   "source": [
    "%%time\n",
    "import numpy as np\n",
    "import pandas as pd\n",
    "import matplotlib.pyplot as plt\n",
    "import datetime\n",
    "import os\n",
    "from src.models.frontier import MultiStockEnv, Agent, backtest, maybe_make_dir\n",
    "from src.config import market_tickers\n",
    "from src.config.model_config import model_parameters"
   ]
  },
  {
   "cell_type": "code",
   "execution_count": 2,
   "id": "39ce30f7",
   "metadata": {
    "execution": {
     "iopub.execute_input": "2022-06-18T21:22:52.525744Z",
     "iopub.status.busy": "2022-06-18T21:22:52.525507Z",
     "iopub.status.idle": "2022-06-18T21:22:52.532848Z",
     "shell.execute_reply": "2022-06-18T21:22:52.531915Z"
    },
    "papermill": {
     "duration": 0.018385,
     "end_time": "2022-06-18T21:22:52.534399",
     "exception": false,
     "start_time": "2022-06-18T21:22:52.516014",
     "status": "completed"
    },
    "tags": [
     "parameters"
    ]
   },
   "outputs": [],
   "source": [
    "# papermill parameters\n",
    "SEED_LIST = [\n",
    "             0,\n",
    "             #1111,\n",
    "             #2222, \n",
    "             #3333, \n",
    "             #4444, \n",
    "             #5555,\n",
    "             #6666,\n",
    "             #7777,\n",
    "             #8888,\n",
    "             #9999\n",
    "            ]\n",
    "\n",
    "#TICKERS = market_tickers.DOW_30_TICKER\n",
    "TICKERS = ['AAPL', 'AMD', 'CSCO', 'F', 'INTC']\n",
    "MARKET_NAME = 'TEST_5'\n",
    "MODEL_BASE_NAME = 'RL_CNN' # use either | 'RL_CNN' | 'RL_str_fcast' | 'RL_all_inp' |\n",
    "FROM = '2019-01-01' # start of backtest\n",
    "UNTIL = '2020-01-01' # end of backtest\n",
    "NB_EPISODES = 200 # backtest model that was trained for this number of episodes\n",
    "\n",
    "# investor preferences\n",
    "GAMMA_TRADES = [0.1, 1, 10, 100]\n",
    "GAMMA_RISKS = [0.1, 1, 10, 100, 1000]\n",
    "GAMMA_HOLDS = [0.1, 1]"
   ]
  },
  {
   "cell_type": "code",
   "execution_count": 3,
   "id": "5f4d127c",
   "metadata": {
    "execution": {
     "iopub.execute_input": "2022-06-18T21:22:52.551674Z",
     "iopub.status.busy": "2022-06-18T21:22:52.551468Z",
     "iopub.status.idle": "2022-06-18T21:22:52.558410Z",
     "shell.execute_reply": "2022-06-18T21:22:52.557578Z"
    },
    "papermill": {
     "duration": 0.017391,
     "end_time": "2022-06-18T21:22:52.560058",
     "exception": false,
     "start_time": "2022-06-18T21:22:52.542667",
     "status": "completed"
    },
    "tags": [
     "injected-parameters"
    ]
   },
   "outputs": [],
   "source": [
    "# Parameters\n",
    "SEED_LIST = [0]\n",
    "TICKERS = [\"AAPL\", \"AMD\", \"CSCO\", \"F\", \"INTC\"]\n",
    "MARKET_NAME = \"TEST_5\"\n",
    "MODEL_BASE_NAME = \"RL_CNN\"\n",
    "FROM = \"2019-01-01\"\n",
    "UNTIL = \"2020-01-01\"\n",
    "NB_EPISODES = 200\n",
    "GAMMA_TRADES = [0.1, 1, 10, 100]\n",
    "GAMMA_RISKS = [0.1, 1, 10, 100, 1000]\n",
    "GAMMA_HOLDS = [0.1, 1]\n"
   ]
  },
  {
   "cell_type": "code",
   "execution_count": 4,
   "id": "da9cca1f",
   "metadata": {
    "execution": {
     "iopub.execute_input": "2022-06-18T21:22:52.578617Z",
     "iopub.status.busy": "2022-06-18T21:22:52.578409Z",
     "iopub.status.idle": "2022-06-18T21:22:52.584040Z",
     "shell.execute_reply": "2022-06-18T21:22:52.583148Z"
    },
    "papermill": {
     "duration": 0.016717,
     "end_time": "2022-06-18T21:22:52.585761",
     "exception": false,
     "start_time": "2022-06-18T21:22:52.569044",
     "status": "completed"
    },
    "tags": []
   },
   "outputs": [
    {
     "name": "stdout",
     "output_type": "stream",
     "text": [
      "number of trios:  40\n"
     ]
    }
   ],
   "source": [
    "#------ small test-sweep ------#\n",
    "# GAMMA_TRADES = [0.1, 1, 10, 100]\n",
    "# GAMMA_RISKS = [0.1, 1, 10, 100, 1000]\n",
    "# GAMMA_HOLDS = [0.1, 1]\n",
    "#------ extended-boyd-sweep ------#\n",
    "# GAMMA_TRADES =  [0.1, 0.5, 1, 2, 3, 4, 5, 5.5, 6, 6.5, 7, 7.5, 8, 9, 10, 11, 12, 15, 20, 30, 45, 60, 100, 200]\n",
    "# GAMMA_RISKS = [0.1, 0.178, 0.316, 0.562, 1, 2, 3, 6, 10, 18, 32, 56, 100, 178, 316, 562, 1000, 2000, 5000, 10000, 20000]\n",
    "#---------------------------------#\n",
    "\n",
    "GAMMA_TRIOS = []\n",
    "for tr in GAMMA_TRADES:\n",
    "    for ri in GAMMA_RISKS:\n",
    "        for hd in GAMMA_HOLDS:\n",
    "            GAMMA_TRIOS.append((tr, ri, hd))\n",
    "        \n",
    "#format: (gamma_trade, gamma_risk, gamma_hold)\n",
    "print('number of trios: ', len(GAMMA_TRIOS))\n",
    "#GAMMA_TRIOS"
   ]
  },
  {
   "cell_type": "code",
   "execution_count": 5,
   "id": "3239fe7c",
   "metadata": {
    "execution": {
     "iopub.execute_input": "2022-06-18T21:22:52.603590Z",
     "iopub.status.busy": "2022-06-18T21:22:52.603382Z",
     "iopub.status.idle": "2022-06-18T21:22:52.609899Z",
     "shell.execute_reply": "2022-06-18T21:22:52.609044Z"
    },
    "papermill": {
     "duration": 0.017543,
     "end_time": "2022-06-18T21:22:52.611575",
     "exception": false,
     "start_time": "2022-06-18T21:22:52.594032",
     "status": "completed"
    },
    "tags": []
   },
   "outputs": [],
   "source": [
    "# other constants and parameters\n",
    "TICKERS.sort()\n",
    "FILE_PERIOD = '1d' # weekly='5d', daily='1d'\n",
    "HALF_SPREAD = 0.0005/2.0 # 'a' in transaction cost function\n",
    "NONLIN_COEFF = 1.0 # 'b' transaction cost function\n",
    "POWER = 1.5 # power for change in poertfolio vector used in transaction cost\n",
    "INIT_PORTFOLIO = 100000000.0 # initial portfolio value\n",
    "\n",
    "USE_FORECASTS = model_parameters[MODEL_BASE_NAME]['use_forecasts'] # whether to use forecasts as inputs to agent policy net or not\n",
    "NB_FORECASTS = model_parameters[MODEL_BASE_NAME]['nb_forecasts'] # number of forecasts to use in state. Set to None for no forecasts\n",
    "FORECAST_TYPE = model_parameters[MODEL_BASE_NAME]['forecast_type'] # use 'strong' or 'weak' forecasts (if no forecasts given, this does not matter)\n",
    "USE_CNN_STATE = model_parameters[MODEL_BASE_NAME]['use_cnn_state'] # whether to pass log-rets block for CNN part of policy net (set to false for forecast only)\n",
    "\n",
    "TEST_NAME = f'{MARKET_NAME}_{MODEL_BASE_NAME}_seeds_{SEED_LIST[0]}_etc'\n",
    "RESULTS_DIR = f'../experiments/{MARKET_NAME}/seeded/{MODEL_BASE_NAME}/backtests/'\n",
    "DATA_DIR = f'../data/{MARKET_NAME}/preprocessed_data/'"
   ]
  },
  {
   "cell_type": "markdown",
   "id": "23957d3c",
   "metadata": {
    "papermill": {
     "duration": 0.008581,
     "end_time": "2022-06-18T21:22:52.629393",
     "exception": false,
     "start_time": "2022-06-18T21:22:52.620812",
     "status": "completed"
    },
    "tags": []
   },
   "source": [
    "## create agent(s) and backtest in new backtest env"
   ]
  },
  {
   "cell_type": "code",
   "execution_count": 6,
   "id": "3d66ec5d",
   "metadata": {
    "execution": {
     "iopub.execute_input": "2022-06-18T21:22:52.650565Z",
     "iopub.status.busy": "2022-06-18T21:22:52.650334Z",
     "iopub.status.idle": "2022-06-18T21:24:28.296882Z",
     "shell.execute_reply": "2022-06-18T21:24:28.296106Z"
    },
    "papermill": {
     "duration": 95.659778,
     "end_time": "2022-06-18T21:24:28.298654",
     "exception": false,
     "start_time": "2022-06-18T21:22:52.638876",
     "status": "completed"
    },
    "scrolled": true,
    "tags": []
   },
   "outputs": [
    {
     "name": "stdout",
     "output_type": "stream",
     "text": [
      "creating environment and agent...\n"
     ]
    },
    {
     "name": "stdout",
     "output_type": "stream",
     "text": [
      "backtesting:\n",
      "\t[1/40]\tRL_CNN: gamma_trade=0.1, gamma_risk=0.1, gamma_hold=0.1, seed=0...\n"
     ]
    },
    {
     "name": "stdout",
     "output_type": "stream",
     "text": [
      "\t[2/40]\tRL_CNN: gamma_trade=0.1, gamma_risk=0.1, gamma_hold=1, seed=0...\n"
     ]
    },
    {
     "name": "stdout",
     "output_type": "stream",
     "text": [
      "\t[3/40]\tRL_CNN: gamma_trade=0.1, gamma_risk=1, gamma_hold=0.1, seed=0...\n"
     ]
    },
    {
     "name": "stdout",
     "output_type": "stream",
     "text": [
      "\t[4/40]\tRL_CNN: gamma_trade=0.1, gamma_risk=1, gamma_hold=1, seed=0...\n"
     ]
    },
    {
     "name": "stdout",
     "output_type": "stream",
     "text": [
      "\t[5/40]\tRL_CNN: gamma_trade=0.1, gamma_risk=10, gamma_hold=0.1, seed=0...\n"
     ]
    },
    {
     "name": "stdout",
     "output_type": "stream",
     "text": [
      "\t[6/40]\tRL_CNN: gamma_trade=0.1, gamma_risk=10, gamma_hold=1, seed=0...\n"
     ]
    },
    {
     "name": "stdout",
     "output_type": "stream",
     "text": [
      "\t[7/40]\tRL_CNN: gamma_trade=0.1, gamma_risk=100, gamma_hold=0.1, seed=0...\n"
     ]
    },
    {
     "name": "stdout",
     "output_type": "stream",
     "text": [
      "\t[8/40]\tRL_CNN: gamma_trade=0.1, gamma_risk=100, gamma_hold=1, seed=0...\n"
     ]
    },
    {
     "name": "stdout",
     "output_type": "stream",
     "text": [
      "\t[9/40]\tRL_CNN: gamma_trade=0.1, gamma_risk=1000, gamma_hold=0.1, seed=0...\n"
     ]
    },
    {
     "name": "stdout",
     "output_type": "stream",
     "text": [
      "\t[10/40]\tRL_CNN: gamma_trade=0.1, gamma_risk=1000, gamma_hold=1, seed=0...\n"
     ]
    },
    {
     "name": "stdout",
     "output_type": "stream",
     "text": [
      "\t[11/40]\tRL_CNN: gamma_trade=1, gamma_risk=0.1, gamma_hold=0.1, seed=0...\n"
     ]
    },
    {
     "name": "stdout",
     "output_type": "stream",
     "text": [
      "\t[12/40]\tRL_CNN: gamma_trade=1, gamma_risk=0.1, gamma_hold=1, seed=0...\n"
     ]
    },
    {
     "name": "stdout",
     "output_type": "stream",
     "text": [
      "\t[13/40]\tRL_CNN: gamma_trade=1, gamma_risk=1, gamma_hold=0.1, seed=0...\n"
     ]
    },
    {
     "name": "stdout",
     "output_type": "stream",
     "text": [
      "\t[14/40]\tRL_CNN: gamma_trade=1, gamma_risk=1, gamma_hold=1, seed=0...\n"
     ]
    },
    {
     "name": "stdout",
     "output_type": "stream",
     "text": [
      "\t[15/40]\tRL_CNN: gamma_trade=1, gamma_risk=10, gamma_hold=0.1, seed=0...\n"
     ]
    },
    {
     "name": "stdout",
     "output_type": "stream",
     "text": [
      "\t[16/40]\tRL_CNN: gamma_trade=1, gamma_risk=10, gamma_hold=1, seed=0...\n"
     ]
    },
    {
     "name": "stdout",
     "output_type": "stream",
     "text": [
      "\t[17/40]\tRL_CNN: gamma_trade=1, gamma_risk=100, gamma_hold=0.1, seed=0...\n"
     ]
    },
    {
     "name": "stdout",
     "output_type": "stream",
     "text": [
      "\t[18/40]\tRL_CNN: gamma_trade=1, gamma_risk=100, gamma_hold=1, seed=0...\n"
     ]
    },
    {
     "name": "stdout",
     "output_type": "stream",
     "text": [
      "\t[19/40]\tRL_CNN: gamma_trade=1, gamma_risk=1000, gamma_hold=0.1, seed=0...\n"
     ]
    },
    {
     "name": "stdout",
     "output_type": "stream",
     "text": [
      "\t[20/40]\tRL_CNN: gamma_trade=1, gamma_risk=1000, gamma_hold=1, seed=0...\n"
     ]
    },
    {
     "name": "stdout",
     "output_type": "stream",
     "text": [
      "\t[21/40]\tRL_CNN: gamma_trade=10, gamma_risk=0.1, gamma_hold=0.1, seed=0...\n"
     ]
    },
    {
     "name": "stdout",
     "output_type": "stream",
     "text": [
      "\t[22/40]\tRL_CNN: gamma_trade=10, gamma_risk=0.1, gamma_hold=1, seed=0...\n"
     ]
    },
    {
     "name": "stdout",
     "output_type": "stream",
     "text": [
      "\t[23/40]\tRL_CNN: gamma_trade=10, gamma_risk=1, gamma_hold=0.1, seed=0...\n"
     ]
    },
    {
     "name": "stdout",
     "output_type": "stream",
     "text": [
      "\t[24/40]\tRL_CNN: gamma_trade=10, gamma_risk=1, gamma_hold=1, seed=0...\n"
     ]
    },
    {
     "name": "stdout",
     "output_type": "stream",
     "text": [
      "\t[25/40]\tRL_CNN: gamma_trade=10, gamma_risk=10, gamma_hold=0.1, seed=0...\n"
     ]
    },
    {
     "name": "stdout",
     "output_type": "stream",
     "text": [
      "\t[26/40]\tRL_CNN: gamma_trade=10, gamma_risk=10, gamma_hold=1, seed=0...\n"
     ]
    },
    {
     "name": "stdout",
     "output_type": "stream",
     "text": [
      "\t[27/40]\tRL_CNN: gamma_trade=10, gamma_risk=100, gamma_hold=0.1, seed=0...\n"
     ]
    },
    {
     "name": "stdout",
     "output_type": "stream",
     "text": [
      "\t[28/40]\tRL_CNN: gamma_trade=10, gamma_risk=100, gamma_hold=1, seed=0...\n"
     ]
    },
    {
     "name": "stdout",
     "output_type": "stream",
     "text": [
      "\t[29/40]\tRL_CNN: gamma_trade=10, gamma_risk=1000, gamma_hold=0.1, seed=0...\n"
     ]
    },
    {
     "name": "stdout",
     "output_type": "stream",
     "text": [
      "\t[30/40]\tRL_CNN: gamma_trade=10, gamma_risk=1000, gamma_hold=1, seed=0...\n"
     ]
    },
    {
     "name": "stdout",
     "output_type": "stream",
     "text": [
      "\t[31/40]\tRL_CNN: gamma_trade=100, gamma_risk=0.1, gamma_hold=0.1, seed=0...\n"
     ]
    },
    {
     "name": "stdout",
     "output_type": "stream",
     "text": [
      "\t[32/40]\tRL_CNN: gamma_trade=100, gamma_risk=0.1, gamma_hold=1, seed=0...\n"
     ]
    },
    {
     "name": "stdout",
     "output_type": "stream",
     "text": [
      "\t[33/40]\tRL_CNN: gamma_trade=100, gamma_risk=1, gamma_hold=0.1, seed=0...\n"
     ]
    },
    {
     "name": "stdout",
     "output_type": "stream",
     "text": [
      "\t[34/40]\tRL_CNN: gamma_trade=100, gamma_risk=1, gamma_hold=1, seed=0...\n"
     ]
    },
    {
     "name": "stdout",
     "output_type": "stream",
     "text": [
      "\t[35/40]\tRL_CNN: gamma_trade=100, gamma_risk=10, gamma_hold=0.1, seed=0...\n"
     ]
    },
    {
     "name": "stdout",
     "output_type": "stream",
     "text": [
      "\t[36/40]\tRL_CNN: gamma_trade=100, gamma_risk=10, gamma_hold=1, seed=0...\n"
     ]
    },
    {
     "name": "stdout",
     "output_type": "stream",
     "text": [
      "\t[37/40]\tRL_CNN: gamma_trade=100, gamma_risk=100, gamma_hold=0.1, seed=0...\n"
     ]
    },
    {
     "name": "stdout",
     "output_type": "stream",
     "text": [
      "\t[38/40]\tRL_CNN: gamma_trade=100, gamma_risk=100, gamma_hold=1, seed=0...\n"
     ]
    },
    {
     "name": "stdout",
     "output_type": "stream",
     "text": [
      "\t[39/40]\tRL_CNN: gamma_trade=100, gamma_risk=1000, gamma_hold=0.1, seed=0...\n"
     ]
    },
    {
     "name": "stdout",
     "output_type": "stream",
     "text": [
      "\t[40/40]\tRL_CNN: gamma_trade=100, gamma_risk=1000, gamma_hold=1, seed=0...\n"
     ]
    },
    {
     "name": "stdout",
     "output_type": "stream",
     "text": [
      "CPU times: user 1min 32s, sys: 137 ms, total: 1min 32s\n",
      "Wall time: 1min 35s\n"
     ]
    }
   ],
   "source": [
    "%%time\n",
    "# make directory for results if it does not exist already\n",
    "maybe_make_dir(RESULTS_DIR)\n",
    "\n",
    "print('creating environment and agent...')\n",
    "env = MultiStockEnv(tickers=TICKERS, \n",
    "                    from_date=FROM,\n",
    "                    until=UNTIL, \n",
    "                    #nb_episodes=100,\n",
    "                    cash_key='USDOLLAR', \n",
    "                    #gamma_risk=GAMMA_RISK, \n",
    "                    #gamma_trade=GAMMA_TRADE,\n",
    "                    #half_spread=HALF_SPREAD, \n",
    "                    nonlin_coef=NONLIN_COEFF, \n",
    "                    power=POWER, \n",
    "                    datadir=DATA_DIR, \n",
    "                    state_lookback_window=20, \n",
    "                    #distribution=EPISODE_DRAW_DISTRIBUTION,\n",
    "                    #days_duration=DAYS_IN_EPISODE, \n",
    "                    mode='backtest', \n",
    "                    random_seed=7,\n",
    "                    init_portfolio=INIT_PORTFOLIO, \n",
    "                    period_in_file_name=FILE_PERIOD, \n",
    "                    nb_forecasts=NB_FORECASTS, \n",
    "                    forecast_type=FORECAST_TYPE,\n",
    "                    use_CNN_state=USE_CNN_STATE,\n",
    "                    verbose=False)\n",
    "\n",
    "agent = Agent(alpha=0.001, \n",
    "              gamma=0.99, \n",
    "              n_assets=len(TICKERS)+1, \n",
    "              tau=5, \n",
    "              lookback_window=20, \n",
    "              n_feature_maps=len(TICKERS)+1,\n",
    "              use_forecasts=USE_FORECASTS,\n",
    "              use_CNN_state=USE_CNN_STATE,\n",
    "              allow_long_short_trades=True)\n",
    "\n",
    "results_dict = {}\n",
    "#actions_dict = {}\n",
    "print('backtesting:')\n",
    "\n",
    "total_backtests = len(SEED_LIST) * len(GAMMA_TRIOS)\n",
    "backtest_counter = 0\n",
    "\n",
    "for RANDOM_SEED in SEED_LIST:\n",
    "    for (GAMMA_TRADE, GAMMA_RISK, GAMMA_HOLD) in GAMMA_TRIOS:\n",
    "        \n",
    "        backtest_counter += 1\n",
    "        print(f'\\t[{backtest_counter}/{total_backtests}]\\t{MODEL_BASE_NAME}: gamma_trade={GAMMA_TRADE}, gamma_risk={GAMMA_RISK}, gamma_hold={GAMMA_HOLD}, seed={RANDOM_SEED}...')\n",
    "        \n",
    "        # load trained RL model for backtesting\n",
    "        SAVED_MODEL_DIR = f'../experiments/{MARKET_NAME}/seeded/{MODEL_BASE_NAME}/seed_{RANDOM_SEED}/trade_{GAMMA_TRADE}_risk_{GAMMA_RISK}_hold_{GAMMA_HOLD}/models/{MODEL_BASE_NAME}_seed_{RANDOM_SEED}_{NB_EPISODES}'\n",
    "        # set dir where actions csv file will be saved\n",
    "        actions_dir = f'../experiments/{MARKET_NAME}/seeded/{MODEL_BASE_NAME}/seed_{RANDOM_SEED}/trade_{GAMMA_TRADE}_risk_{GAMMA_RISK}_hold_{GAMMA_HOLD}'\n",
    "        \n",
    "        try:\n",
    "            rl_rets, rl_actions = backtest(agent, env, weights_file_dir=SAVED_MODEL_DIR, verbose=False)\n",
    "            \n",
    "            #rl_rets = pd.Series(data=rl_rets, index=env.returns.loc[FROM:UNTIL].iloc[1:].index)\n",
    "            #rl_actions = pd.DataFrame(data=rl_actions, index=env.returns.loc[FROM:UNTIL].iloc[0:].index, columns=TICKERS+['USDOLLAR'])\n",
    "            rl_rets = pd.Series(data=rl_rets, index=env.returns.loc[FROM:UNTIL].iloc[:-1].index)\n",
    "            rl_rets = rl_rets.shift(1)\n",
    "            rl_rets.iloc[0] = 0\n",
    "            rl_actions = pd.DataFrame(data=rl_actions[:-1], index=env.returns.loc[FROM:UNTIL].iloc[:-1].index, columns=TICKERS+['USDOLLAR'])\n",
    "            \n",
    "            # save actions\n",
    "            rl_actions.to_csv(f'{actions_dir}/actions.csv')\n",
    "            #print('actions saved.')\n",
    "\n",
    "            cash_rets = env.returns.loc[FROM:UNTIL, env.cash_key].iloc[:-1]\n",
    "            excess_rets = rl_rets - cash_rets\n",
    "\n",
    "            R_e = excess_rets.mean() * 100 * 252\n",
    "            sigma_e = excess_rets.std() * 100 * np.sqrt(252)\n",
    "            sharpe = R_e / sigma_e\n",
    "\n",
    "            results_dict[(GAMMA_TRADE, GAMMA_RISK, GAMMA_HOLD, RANDOM_SEED)] = {'excess_return':R_e, 'excess_risk':sigma_e, 'sharpe':sharpe}\n",
    "        except Exception as e:\n",
    "            print(f'**error for model: trade_{GAMMA_TRADE}_risk_{GAMMA_RISK}_hold_{GAMMA_HOLD}')\n",
    "            #print(e)"
   ]
  },
  {
   "cell_type": "code",
   "execution_count": 7,
   "id": "3bc7fd91",
   "metadata": {
    "execution": {
     "iopub.execute_input": "2022-06-18T21:24:28.323642Z",
     "iopub.status.busy": "2022-06-18T21:24:28.323426Z",
     "iopub.status.idle": "2022-06-18T21:24:28.368654Z",
     "shell.execute_reply": "2022-06-18T21:24:28.367805Z"
    },
    "papermill": {
     "duration": 0.05899,
     "end_time": "2022-06-18T21:24:28.370342",
     "exception": false,
     "start_time": "2022-06-18T21:24:28.311352",
     "status": "completed"
    },
    "tags": []
   },
   "outputs": [
    {
     "name": "stdout",
     "output_type": "stream",
     "text": [
      "saved.\n"
     ]
    },
    {
     "data": {
      "text/html": [
       "<div>\n",
       "<style scoped>\n",
       "    .dataframe tbody tr th:only-of-type {\n",
       "        vertical-align: middle;\n",
       "    }\n",
       "\n",
       "    .dataframe tbody tr th {\n",
       "        vertical-align: top;\n",
       "    }\n",
       "\n",
       "    .dataframe thead th {\n",
       "        text-align: right;\n",
       "    }\n",
       "</style>\n",
       "<table border=\"1\" class=\"dataframe\">\n",
       "  <thead>\n",
       "    <tr style=\"text-align: right;\">\n",
       "      <th></th>\n",
       "      <th>gamma_trade</th>\n",
       "      <th>gamma_risk</th>\n",
       "      <th>gamma_hold</th>\n",
       "      <th>seed</th>\n",
       "      <th>excess_return</th>\n",
       "      <th>excess_risk</th>\n",
       "      <th>sharpe</th>\n",
       "    </tr>\n",
       "  </thead>\n",
       "  <tbody>\n",
       "    <tr>\n",
       "      <th>0</th>\n",
       "      <td>0.1</td>\n",
       "      <td>0.1</td>\n",
       "      <td>0.1</td>\n",
       "      <td>0</td>\n",
       "      <td>27.187393</td>\n",
       "      <td>17.610814</td>\n",
       "      <td>1.543790</td>\n",
       "    </tr>\n",
       "    <tr>\n",
       "      <th>1</th>\n",
       "      <td>0.1</td>\n",
       "      <td>0.1</td>\n",
       "      <td>1.0</td>\n",
       "      <td>0</td>\n",
       "      <td>47.594182</td>\n",
       "      <td>29.198133</td>\n",
       "      <td>1.630042</td>\n",
       "    </tr>\n",
       "    <tr>\n",
       "      <th>2</th>\n",
       "      <td>0.1</td>\n",
       "      <td>1.0</td>\n",
       "      <td>0.1</td>\n",
       "      <td>0</td>\n",
       "      <td>44.261488</td>\n",
       "      <td>27.189715</td>\n",
       "      <td>1.627876</td>\n",
       "    </tr>\n",
       "    <tr>\n",
       "      <th>3</th>\n",
       "      <td>0.1</td>\n",
       "      <td>1.0</td>\n",
       "      <td>1.0</td>\n",
       "      <td>0</td>\n",
       "      <td>42.503938</td>\n",
       "      <td>29.591980</td>\n",
       "      <td>1.436333</td>\n",
       "    </tr>\n",
       "    <tr>\n",
       "      <th>4</th>\n",
       "      <td>0.1</td>\n",
       "      <td>10.0</td>\n",
       "      <td>0.1</td>\n",
       "      <td>0</td>\n",
       "      <td>-2.442969</td>\n",
       "      <td>14.480919</td>\n",
       "      <td>-0.168703</td>\n",
       "    </tr>\n",
       "    <tr>\n",
       "      <th>5</th>\n",
       "      <td>0.1</td>\n",
       "      <td>10.0</td>\n",
       "      <td>1.0</td>\n",
       "      <td>0</td>\n",
       "      <td>-1.405291</td>\n",
       "      <td>14.404911</td>\n",
       "      <td>-0.097556</td>\n",
       "    </tr>\n",
       "    <tr>\n",
       "      <th>6</th>\n",
       "      <td>0.1</td>\n",
       "      <td>100.0</td>\n",
       "      <td>0.1</td>\n",
       "      <td>0</td>\n",
       "      <td>9.700907</td>\n",
       "      <td>13.518217</td>\n",
       "      <td>0.717617</td>\n",
       "    </tr>\n",
       "    <tr>\n",
       "      <th>7</th>\n",
       "      <td>0.1</td>\n",
       "      <td>100.0</td>\n",
       "      <td>1.0</td>\n",
       "      <td>0</td>\n",
       "      <td>9.306325</td>\n",
       "      <td>13.444434</td>\n",
       "      <td>0.692207</td>\n",
       "    </tr>\n",
       "    <tr>\n",
       "      <th>8</th>\n",
       "      <td>0.1</td>\n",
       "      <td>1000.0</td>\n",
       "      <td>0.1</td>\n",
       "      <td>0</td>\n",
       "      <td>-2.388960</td>\n",
       "      <td>NaN</td>\n",
       "      <td>NaN</td>\n",
       "    </tr>\n",
       "    <tr>\n",
       "      <th>9</th>\n",
       "      <td>0.1</td>\n",
       "      <td>1000.0</td>\n",
       "      <td>1.0</td>\n",
       "      <td>0</td>\n",
       "      <td>-1522.757355</td>\n",
       "      <td>957.154909</td>\n",
       "      <td>-1.590920</td>\n",
       "    </tr>\n",
       "    <tr>\n",
       "      <th>10</th>\n",
       "      <td>1.0</td>\n",
       "      <td>0.1</td>\n",
       "      <td>0.1</td>\n",
       "      <td>0</td>\n",
       "      <td>25.548032</td>\n",
       "      <td>17.956134</td>\n",
       "      <td>1.422802</td>\n",
       "    </tr>\n",
       "    <tr>\n",
       "      <th>11</th>\n",
       "      <td>1.0</td>\n",
       "      <td>0.1</td>\n",
       "      <td>1.0</td>\n",
       "      <td>0</td>\n",
       "      <td>48.998722</td>\n",
       "      <td>30.559058</td>\n",
       "      <td>1.603411</td>\n",
       "    </tr>\n",
       "    <tr>\n",
       "      <th>12</th>\n",
       "      <td>1.0</td>\n",
       "      <td>1.0</td>\n",
       "      <td>0.1</td>\n",
       "      <td>0</td>\n",
       "      <td>-2.388960</td>\n",
       "      <td>NaN</td>\n",
       "      <td>NaN</td>\n",
       "    </tr>\n",
       "    <tr>\n",
       "      <th>13</th>\n",
       "      <td>1.0</td>\n",
       "      <td>1.0</td>\n",
       "      <td>1.0</td>\n",
       "      <td>0</td>\n",
       "      <td>42.029030</td>\n",
       "      <td>32.571555</td>\n",
       "      <td>1.290360</td>\n",
       "    </tr>\n",
       "    <tr>\n",
       "      <th>14</th>\n",
       "      <td>1.0</td>\n",
       "      <td>10.0</td>\n",
       "      <td>0.1</td>\n",
       "      <td>0</td>\n",
       "      <td>0.760843</td>\n",
       "      <td>14.330785</td>\n",
       "      <td>0.053092</td>\n",
       "    </tr>\n",
       "    <tr>\n",
       "      <th>15</th>\n",
       "      <td>1.0</td>\n",
       "      <td>10.0</td>\n",
       "      <td>1.0</td>\n",
       "      <td>0</td>\n",
       "      <td>0.534624</td>\n",
       "      <td>14.326064</td>\n",
       "      <td>0.037318</td>\n",
       "    </tr>\n",
       "    <tr>\n",
       "      <th>16</th>\n",
       "      <td>1.0</td>\n",
       "      <td>100.0</td>\n",
       "      <td>0.1</td>\n",
       "      <td>0</td>\n",
       "      <td>17.205749</td>\n",
       "      <td>14.540788</td>\n",
       "      <td>1.183275</td>\n",
       "    </tr>\n",
       "    <tr>\n",
       "      <th>17</th>\n",
       "      <td>1.0</td>\n",
       "      <td>100.0</td>\n",
       "      <td>1.0</td>\n",
       "      <td>0</td>\n",
       "      <td>3.513265</td>\n",
       "      <td>13.992239</td>\n",
       "      <td>0.251087</td>\n",
       "    </tr>\n",
       "    <tr>\n",
       "      <th>18</th>\n",
       "      <td>1.0</td>\n",
       "      <td>1000.0</td>\n",
       "      <td>0.1</td>\n",
       "      <td>0</td>\n",
       "      <td>1099.306984</td>\n",
       "      <td>1303.711640</td>\n",
       "      <td>0.843213</td>\n",
       "    </tr>\n",
       "    <tr>\n",
       "      <th>19</th>\n",
       "      <td>1.0</td>\n",
       "      <td>1000.0</td>\n",
       "      <td>1.0</td>\n",
       "      <td>0</td>\n",
       "      <td>-2.388960</td>\n",
       "      <td>NaN</td>\n",
       "      <td>NaN</td>\n",
       "    </tr>\n",
       "    <tr>\n",
       "      <th>20</th>\n",
       "      <td>10.0</td>\n",
       "      <td>0.1</td>\n",
       "      <td>0.1</td>\n",
       "      <td>0</td>\n",
       "      <td>52.363027</td>\n",
       "      <td>35.700332</td>\n",
       "      <td>1.466738</td>\n",
       "    </tr>\n",
       "    <tr>\n",
       "      <th>21</th>\n",
       "      <td>10.0</td>\n",
       "      <td>0.1</td>\n",
       "      <td>1.0</td>\n",
       "      <td>0</td>\n",
       "      <td>51.774390</td>\n",
       "      <td>34.397959</td>\n",
       "      <td>1.505159</td>\n",
       "    </tr>\n",
       "    <tr>\n",
       "      <th>22</th>\n",
       "      <td>10.0</td>\n",
       "      <td>1.0</td>\n",
       "      <td>0.1</td>\n",
       "      <td>0</td>\n",
       "      <td>57.012818</td>\n",
       "      <td>42.008575</td>\n",
       "      <td>1.357171</td>\n",
       "    </tr>\n",
       "    <tr>\n",
       "      <th>23</th>\n",
       "      <td>10.0</td>\n",
       "      <td>1.0</td>\n",
       "      <td>1.0</td>\n",
       "      <td>0</td>\n",
       "      <td>55.829755</td>\n",
       "      <td>38.859306</td>\n",
       "      <td>1.436715</td>\n",
       "    </tr>\n",
       "    <tr>\n",
       "      <th>24</th>\n",
       "      <td>10.0</td>\n",
       "      <td>10.0</td>\n",
       "      <td>0.1</td>\n",
       "      <td>0</td>\n",
       "      <td>11.112793</td>\n",
       "      <td>14.206832</td>\n",
       "      <td>0.782215</td>\n",
       "    </tr>\n",
       "    <tr>\n",
       "      <th>25</th>\n",
       "      <td>10.0</td>\n",
       "      <td>10.0</td>\n",
       "      <td>1.0</td>\n",
       "      <td>0</td>\n",
       "      <td>11.826954</td>\n",
       "      <td>14.274453</td>\n",
       "      <td>0.828540</td>\n",
       "    </tr>\n",
       "    <tr>\n",
       "      <th>26</th>\n",
       "      <td>10.0</td>\n",
       "      <td>100.0</td>\n",
       "      <td>0.1</td>\n",
       "      <td>0</td>\n",
       "      <td>14.872748</td>\n",
       "      <td>13.794003</td>\n",
       "      <td>1.078204</td>\n",
       "    </tr>\n",
       "    <tr>\n",
       "      <th>27</th>\n",
       "      <td>10.0</td>\n",
       "      <td>100.0</td>\n",
       "      <td>1.0</td>\n",
       "      <td>0</td>\n",
       "      <td>11.492593</td>\n",
       "      <td>13.276227</td>\n",
       "      <td>0.865652</td>\n",
       "    </tr>\n",
       "    <tr>\n",
       "      <th>28</th>\n",
       "      <td>10.0</td>\n",
       "      <td>1000.0</td>\n",
       "      <td>0.1</td>\n",
       "      <td>0</td>\n",
       "      <td>-140955.413692</td>\n",
       "      <td>97985.257888</td>\n",
       "      <td>-1.438537</td>\n",
       "    </tr>\n",
       "    <tr>\n",
       "      <th>29</th>\n",
       "      <td>10.0</td>\n",
       "      <td>1000.0</td>\n",
       "      <td>1.0</td>\n",
       "      <td>0</td>\n",
       "      <td>21.720426</td>\n",
       "      <td>14.885490</td>\n",
       "      <td>1.459168</td>\n",
       "    </tr>\n",
       "    <tr>\n",
       "      <th>30</th>\n",
       "      <td>100.0</td>\n",
       "      <td>0.1</td>\n",
       "      <td>0.1</td>\n",
       "      <td>0</td>\n",
       "      <td>49.250719</td>\n",
       "      <td>26.376982</td>\n",
       "      <td>1.867186</td>\n",
       "    </tr>\n",
       "    <tr>\n",
       "      <th>31</th>\n",
       "      <td>100.0</td>\n",
       "      <td>0.1</td>\n",
       "      <td>1.0</td>\n",
       "      <td>0</td>\n",
       "      <td>47.379965</td>\n",
       "      <td>25.499914</td>\n",
       "      <td>1.858044</td>\n",
       "    </tr>\n",
       "    <tr>\n",
       "      <th>32</th>\n",
       "      <td>100.0</td>\n",
       "      <td>1.0</td>\n",
       "      <td>0.1</td>\n",
       "      <td>0</td>\n",
       "      <td>44.086850</td>\n",
       "      <td>23.753618</td>\n",
       "      <td>1.856006</td>\n",
       "    </tr>\n",
       "    <tr>\n",
       "      <th>33</th>\n",
       "      <td>100.0</td>\n",
       "      <td>1.0</td>\n",
       "      <td>1.0</td>\n",
       "      <td>0</td>\n",
       "      <td>44.041945</td>\n",
       "      <td>23.595982</td>\n",
       "      <td>1.866502</td>\n",
       "    </tr>\n",
       "    <tr>\n",
       "      <th>34</th>\n",
       "      <td>100.0</td>\n",
       "      <td>10.0</td>\n",
       "      <td>0.1</td>\n",
       "      <td>0</td>\n",
       "      <td>25.137194</td>\n",
       "      <td>16.089028</td>\n",
       "      <td>1.562381</td>\n",
       "    </tr>\n",
       "    <tr>\n",
       "      <th>35</th>\n",
       "      <td>100.0</td>\n",
       "      <td>10.0</td>\n",
       "      <td>1.0</td>\n",
       "      <td>0</td>\n",
       "      <td>25.096025</td>\n",
       "      <td>16.081492</td>\n",
       "      <td>1.560553</td>\n",
       "    </tr>\n",
       "    <tr>\n",
       "      <th>36</th>\n",
       "      <td>100.0</td>\n",
       "      <td>100.0</td>\n",
       "      <td>0.1</td>\n",
       "      <td>0</td>\n",
       "      <td>10.699027</td>\n",
       "      <td>13.370717</td>\n",
       "      <td>0.800183</td>\n",
       "    </tr>\n",
       "    <tr>\n",
       "      <th>37</th>\n",
       "      <td>100.0</td>\n",
       "      <td>100.0</td>\n",
       "      <td>1.0</td>\n",
       "      <td>0</td>\n",
       "      <td>10.859933</td>\n",
       "      <td>13.289539</td>\n",
       "      <td>0.817179</td>\n",
       "    </tr>\n",
       "    <tr>\n",
       "      <th>38</th>\n",
       "      <td>100.0</td>\n",
       "      <td>1000.0</td>\n",
       "      <td>0.1</td>\n",
       "      <td>0</td>\n",
       "      <td>21.901399</td>\n",
       "      <td>15.517941</td>\n",
       "      <td>1.411360</td>\n",
       "    </tr>\n",
       "    <tr>\n",
       "      <th>39</th>\n",
       "      <td>100.0</td>\n",
       "      <td>1000.0</td>\n",
       "      <td>1.0</td>\n",
       "      <td>0</td>\n",
       "      <td>21.937499</td>\n",
       "      <td>15.526748</td>\n",
       "      <td>1.412884</td>\n",
       "    </tr>\n",
       "  </tbody>\n",
       "</table>\n",
       "</div>"
      ],
      "text/plain": [
       "    gamma_trade  gamma_risk  gamma_hold  seed  excess_return   excess_risk  \\\n",
       "0           0.1         0.1         0.1     0      27.187393     17.610814   \n",
       "1           0.1         0.1         1.0     0      47.594182     29.198133   \n",
       "2           0.1         1.0         0.1     0      44.261488     27.189715   \n",
       "3           0.1         1.0         1.0     0      42.503938     29.591980   \n",
       "4           0.1        10.0         0.1     0      -2.442969     14.480919   \n",
       "5           0.1        10.0         1.0     0      -1.405291     14.404911   \n",
       "6           0.1       100.0         0.1     0       9.700907     13.518217   \n",
       "7           0.1       100.0         1.0     0       9.306325     13.444434   \n",
       "8           0.1      1000.0         0.1     0      -2.388960           NaN   \n",
       "9           0.1      1000.0         1.0     0   -1522.757355    957.154909   \n",
       "10          1.0         0.1         0.1     0      25.548032     17.956134   \n",
       "11          1.0         0.1         1.0     0      48.998722     30.559058   \n",
       "12          1.0         1.0         0.1     0      -2.388960           NaN   \n",
       "13          1.0         1.0         1.0     0      42.029030     32.571555   \n",
       "14          1.0        10.0         0.1     0       0.760843     14.330785   \n",
       "15          1.0        10.0         1.0     0       0.534624     14.326064   \n",
       "16          1.0       100.0         0.1     0      17.205749     14.540788   \n",
       "17          1.0       100.0         1.0     0       3.513265     13.992239   \n",
       "18          1.0      1000.0         0.1     0    1099.306984   1303.711640   \n",
       "19          1.0      1000.0         1.0     0      -2.388960           NaN   \n",
       "20         10.0         0.1         0.1     0      52.363027     35.700332   \n",
       "21         10.0         0.1         1.0     0      51.774390     34.397959   \n",
       "22         10.0         1.0         0.1     0      57.012818     42.008575   \n",
       "23         10.0         1.0         1.0     0      55.829755     38.859306   \n",
       "24         10.0        10.0         0.1     0      11.112793     14.206832   \n",
       "25         10.0        10.0         1.0     0      11.826954     14.274453   \n",
       "26         10.0       100.0         0.1     0      14.872748     13.794003   \n",
       "27         10.0       100.0         1.0     0      11.492593     13.276227   \n",
       "28         10.0      1000.0         0.1     0 -140955.413692  97985.257888   \n",
       "29         10.0      1000.0         1.0     0      21.720426     14.885490   \n",
       "30        100.0         0.1         0.1     0      49.250719     26.376982   \n",
       "31        100.0         0.1         1.0     0      47.379965     25.499914   \n",
       "32        100.0         1.0         0.1     0      44.086850     23.753618   \n",
       "33        100.0         1.0         1.0     0      44.041945     23.595982   \n",
       "34        100.0        10.0         0.1     0      25.137194     16.089028   \n",
       "35        100.0        10.0         1.0     0      25.096025     16.081492   \n",
       "36        100.0       100.0         0.1     0      10.699027     13.370717   \n",
       "37        100.0       100.0         1.0     0      10.859933     13.289539   \n",
       "38        100.0      1000.0         0.1     0      21.901399     15.517941   \n",
       "39        100.0      1000.0         1.0     0      21.937499     15.526748   \n",
       "\n",
       "      sharpe  \n",
       "0   1.543790  \n",
       "1   1.630042  \n",
       "2   1.627876  \n",
       "3   1.436333  \n",
       "4  -0.168703  \n",
       "5  -0.097556  \n",
       "6   0.717617  \n",
       "7   0.692207  \n",
       "8        NaN  \n",
       "9  -1.590920  \n",
       "10  1.422802  \n",
       "11  1.603411  \n",
       "12       NaN  \n",
       "13  1.290360  \n",
       "14  0.053092  \n",
       "15  0.037318  \n",
       "16  1.183275  \n",
       "17  0.251087  \n",
       "18  0.843213  \n",
       "19       NaN  \n",
       "20  1.466738  \n",
       "21  1.505159  \n",
       "22  1.357171  \n",
       "23  1.436715  \n",
       "24  0.782215  \n",
       "25  0.828540  \n",
       "26  1.078204  \n",
       "27  0.865652  \n",
       "28 -1.438537  \n",
       "29  1.459168  \n",
       "30  1.867186  \n",
       "31  1.858044  \n",
       "32  1.856006  \n",
       "33  1.866502  \n",
       "34  1.562381  \n",
       "35  1.560553  \n",
       "36  0.800183  \n",
       "37  0.817179  \n",
       "38  1.411360  \n",
       "39  1.412884  "
      ]
     },
     "execution_count": 7,
     "metadata": {},
     "output_type": "execute_result"
    }
   ],
   "source": [
    "results_df = pd.DataFrame(results_dict).T.reset_index()\n",
    "results_df.columns = ['gamma_trade', 'gamma_risk', 'gamma_hold', 'seed', 'excess_return', 'excess_risk', 'sharpe']\n",
    "results_df.to_csv(RESULTS_DIR+TEST_NAME+'.csv', index=False)\n",
    "print('saved.')\n",
    "results_df"
   ]
  },
  {
   "cell_type": "code",
   "execution_count": 8,
   "id": "e0e3624c",
   "metadata": {
    "execution": {
     "iopub.execute_input": "2022-06-18T21:24:28.399184Z",
     "iopub.status.busy": "2022-06-18T21:24:28.398770Z",
     "iopub.status.idle": "2022-06-18T21:24:28.830589Z",
     "shell.execute_reply": "2022-06-18T21:24:28.829714Z"
    },
    "papermill": {
     "duration": 0.448391,
     "end_time": "2022-06-18T21:24:28.832296",
     "exception": false,
     "start_time": "2022-06-18T21:24:28.383905",
     "status": "completed"
    },
    "tags": []
   },
   "outputs": [
    {
     "data": {
      "text/plain": [
       "(-10.0, 70.0)"
      ]
     },
     "execution_count": 8,
     "metadata": {},
     "output_type": "execute_result"
    },
    {
     "data": {
      "image/png": "[encoded data removed]",
      "text/plain": [
       "<Figure size 432x360 with 1 Axes>"
      ]
     },
     "metadata": {
      "needs_background": "light"
     },
     "output_type": "display_data"
    }
   ],
   "source": [
    "# risk-return plot \n",
    "results_df[['excess_return', 'excess_risk']]\\\n",
    "    .rename(\n",
    "        columns={\n",
    "            'excess_return':'Excess Return (%)', \n",
    "            'excess_risk':'Excess Risk (%)'\n",
    "        })\\\n",
    "    .plot(\n",
    "        kind='scatter', \n",
    "        x='Excess Risk (%)', \n",
    "        y='Excess Return (%)', \n",
    "        title='Backtest Resulsts', \n",
    "        alpha=0.8,\n",
    "        figsize=(6,5),\n",
    "        c='C0')\n",
    "\n",
    "# x and y axis limits\n",
    "plt.xlim(left=0.0, right=60.0)\n",
    "plt.ylim(bottom=-10.0, top=70.0)"
   ]
  },
  {
   "cell_type": "code",
   "execution_count": 9,
   "id": "1fe7859c",
   "metadata": {
    "execution": {
     "iopub.execute_input": "2022-06-18T21:24:28.863279Z",
     "iopub.status.busy": "2022-06-18T21:24:28.863065Z",
     "iopub.status.idle": "2022-06-18T21:24:28.867186Z",
     "shell.execute_reply": "2022-06-18T21:24:28.866164Z"
    },
    "papermill": {
     "duration": 0.023436,
     "end_time": "2022-06-18T21:24:28.869029",
     "exception": false,
     "start_time": "2022-06-18T21:24:28.845593",
     "status": "completed"
    },
    "tags": []
   },
   "outputs": [
    {
     "name": "stdout",
     "output_type": "stream",
     "text": [
      "done backtesting for RL_CNN.\n"
     ]
    }
   ],
   "source": [
    "print(f'done backtesting for {MODEL_BASE_NAME}.')"
   ]
  },
  {
   "cell_type": "code",
   "execution_count": 10,
   "id": "2add4585",
   "metadata": {
    "execution": {
     "iopub.execute_input": "2022-06-18T21:24:28.896814Z",
     "iopub.status.busy": "2022-06-18T21:24:28.896604Z",
     "iopub.status.idle": "2022-06-18T21:24:28.901694Z",
     "shell.execute_reply": "2022-06-18T21:24:28.900897Z"
    },
    "papermill": {
     "duration": 0.02167,
     "end_time": "2022-06-18T21:24:28.903250",
     "exception": false,
     "start_time": "2022-06-18T21:24:28.881580",
     "status": "completed"
    },
    "tags": []
   },
   "outputs": [
    {
     "data": {
      "text/plain": [
       "<src.models.frontier.LongShortCNNPolicy at 0x7f9124206fd0>"
      ]
     },
     "execution_count": 10,
     "metadata": {},
     "output_type": "execute_result"
    }
   ],
   "source": [
    "agent.policy"
   ]
  }
 ],
 "metadata": {
  "interpreter": {
   "hash": "949777d72b0d2535278d3dc13498b2535136f6dfe0678499012e853ee9abcab1"
  },
  "kernelspec": {
   "display_name": "Python 3.7.6 64-bit",
   "language": "python",
   "name": "python3"
  },
  "language_info": {
   "codemirror_mode": {
    "name": "ipython",
    "version": 3
   },
   "file_extension": ".py",
   "mimetype": "text/x-python",
   "name": "python",
   "nbconvert_exporter": "python",
   "pygments_lexer": "ipython3",
   "version": "3.7.6"
  },
  "papermill": {
   "default_parameters": {},
   "duration": 99.876837,
   "end_time": "2022-06-18T21:24:29.525904",
   "environment_variables": {},
   "exception": null,
   "input_path": "backtest_template.ipynb",
   "output_path": "slave_notebooks/backtests/RL_CNN_TEST_5_(0_etc).ipynb",
   "parameters": {
    "FROM": "2019-01-01",
    "GAMMA_HOLDS": [
     0.1,
     1
    ],
    "GAMMA_RISKS": [
     0.1,
     1,
     10,
     100,
     1000
    ],
    "GAMMA_TRADES": [
     0.1,
     1,
     10,
     100
    ],
    "MARKET_NAME": "TEST_5",
    "MODEL_BASE_NAME": "RL_CNN",
    "NB_EPISODES": 200,
    "SEED_LIST": [
     0
    ],
    "TICKERS": [
     "AAPL",
     "AMD",
     "CSCO",
     "F",
     "INTC"
    ],
    "UNTIL": "2020-01-01"
   },
   "start_time": "2022-06-18T21:22:49.649067",
   "version": "2.3.3"
  }
 },
 "nbformat": 4,
 "nbformat_minor": 5
}