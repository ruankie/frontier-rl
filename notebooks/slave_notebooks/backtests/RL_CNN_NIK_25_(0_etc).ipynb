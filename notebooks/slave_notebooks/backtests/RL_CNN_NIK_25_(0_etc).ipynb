{
 "cells": [
  {
   "cell_type": "code",
   "execution_count": 1,
   "id": "21c91af8",
   "metadata": {
    "execution": {
     "iopub.execute_input": "2022-06-20T07:17:38.903526Z",
     "iopub.status.busy": "2022-06-20T07:17:38.902319Z",
     "iopub.status.idle": "2022-06-20T07:17:44.126587Z",
     "shell.execute_reply": "2022-06-20T07:17:44.123133Z"
    },
    "papermill": {
     "duration": 5.244559,
     "end_time": "2022-06-20T07:17:44.132537",
     "exception": false,
     "start_time": "2022-06-20T07:17:38.887978",
     "status": "completed"
    },
    "tags": []
   },
   "outputs": [
    {
     "name": "stdout",
     "output_type": "stream",
     "text": [
      "CPU times: user 6.09 s, sys: 2.14 s, total: 8.23 s\n",
      "Wall time: 5.2 s\n"
     ]
    }
   ],
   "source": [
    "%%time\n",
    "import numpy as np\n",
    "import pandas as pd\n",
    "import matplotlib.pyplot as plt\n",
    "import datetime\n",
    "import os\n",
    "from src.models.frontier import MultiStockEnv, Agent, backtest, maybe_make_dir\n",
    "from src.config import market_tickers\n",
    "from src.config.model_config import model_parameters"
   ]
  },
  {
   "cell_type": "code",
   "execution_count": 2,
   "id": "06eb3505",
   "metadata": {
    "execution": {
     "iopub.execute_input": "2022-06-20T07:17:44.156460Z",
     "iopub.status.busy": "2022-06-20T07:17:44.155187Z",
     "iopub.status.idle": "2022-06-20T07:17:44.172017Z",
     "shell.execute_reply": "2022-06-20T07:17:44.169538Z"
    },
    "papermill": {
     "duration": 0.034897,
     "end_time": "2022-06-20T07:17:44.177647",
     "exception": false,
     "start_time": "2022-06-20T07:17:44.142750",
     "status": "completed"
    },
    "tags": [
     "parameters"
    ]
   },
   "outputs": [],
   "source": [
    "# papermill parameters\n",
    "SEED_LIST = [\n",
    "             0,\n",
    "             #1111,\n",
    "             #2222, \n",
    "             #3333, \n",
    "             #4444, \n",
    "             #5555,\n",
    "             #6666,\n",
    "             #7777,\n",
    "             #8888,\n",
    "             #9999\n",
    "            ]\n",
    "\n",
    "#TICKERS = market_tickers.DOW_30_TICKER\n",
    "TICKERS = ['AAPL', 'AMD', 'CSCO', 'F', 'INTC']\n",
    "MARKET_NAME = 'TEST_5'\n",
    "MODEL_BASE_NAME = 'RL_CNN' # use either | 'RL_CNN' | 'RL_str_fcast' | 'RL_all_inp' |\n",
    "FROM = '2019-01-01' # start of backtest\n",
    "UNTIL = '2020-01-01' # end of backtest\n",
    "NB_EPISODES = 200 # backtest model that was trained for this number of episodes\n",
    "\n",
    "# investor preferences\n",
    "GAMMA_TRADES = [0.1, 1, 10, 100]\n",
    "GAMMA_RISKS = [0.1, 1, 10, 100, 1000]\n",
    "GAMMA_HOLDS = [0.1, 1]"
   ]
  },
  {
   "cell_type": "code",
   "execution_count": 3,
   "id": "8a62a2c3",
   "metadata": {
    "execution": {
     "iopub.execute_input": "2022-06-20T07:17:44.198835Z",
     "iopub.status.busy": "2022-06-20T07:17:44.197950Z",
     "iopub.status.idle": "2022-06-20T07:17:44.216194Z",
     "shell.execute_reply": "2022-06-20T07:17:44.213616Z"
    },
    "papermill": {
     "duration": 0.037405,
     "end_time": "2022-06-20T07:17:44.223490",
     "exception": false,
     "start_time": "2022-06-20T07:17:44.186085",
     "status": "completed"
    },
    "tags": [
     "injected-parameters"
    ]
   },
   "outputs": [],
   "source": [
    "# Parameters\n",
    "SEED_LIST = [0]\n",
    "TICKERS = [\n",
    "    \"9983.T\",\n",
    "    \"8035.T\",\n",
    "    \"9984.T\",\n",
    "    \"6954.T\",\n",
    "    \"6367.T\",\n",
    "    \"9433.T\",\n",
    "    \"4543.T\",\n",
    "    \"6857.T\",\n",
    "    \"2413.T\",\n",
    "    \"4063.T\",\n",
    "    \"6971.T\",\n",
    "    \"6758.T\",\n",
    "    \"4519.T\",\n",
    "    \"6762.T\",\n",
    "    \"6645.T\",\n",
    "    \"9613.T\",\n",
    "    \"7203.T\",\n",
    "    \"7733.T\",\n",
    "    \"4901.T\",\n",
    "    \"4503.T\",\n",
    "    \"2801.T\",\n",
    "    \"4568.T\",\n",
    "    \"7832.T\",\n",
    "    \"4523.T\",\n",
    "]\n",
    "MARKET_NAME = \"NIK_25\"\n",
    "MODEL_BASE_NAME = \"RL_CNN\"\n",
    "FROM = \"2018-01-01\"\n",
    "UNTIL = \"2020-01-01\"\n",
    "NB_EPISODES = 200\n",
    "GAMMA_TRADES = [0.1, 1, 10, 100]\n",
    "GAMMA_RISKS = [0.1, 1, 10, 100, 1000]\n",
    "GAMMA_HOLDS = [0.1, 1]\n"
   ]
  },
  {
   "cell_type": "code",
   "execution_count": 4,
   "id": "15a6d3ed",
   "metadata": {
    "execution": {
     "iopub.execute_input": "2022-06-20T07:17:44.247736Z",
     "iopub.status.busy": "2022-06-20T07:17:44.246956Z",
     "iopub.status.idle": "2022-06-20T07:17:44.263092Z",
     "shell.execute_reply": "2022-06-20T07:17:44.260409Z"
    },
    "papermill": {
     "duration": 0.034757,
     "end_time": "2022-06-20T07:17:44.268777",
     "exception": false,
     "start_time": "2022-06-20T07:17:44.234020",
     "status": "completed"
    },
    "tags": []
   },
   "outputs": [
    {
     "name": "stdout",
     "output_type": "stream",
     "text": [
      "number of trios:  40\n"
     ]
    }
   ],
   "source": [
    "#------ small test-sweep ------#\n",
    "# GAMMA_TRADES = [0.1, 1, 10, 100]\n",
    "# GAMMA_RISKS = [0.1, 1, 10, 100, 1000]\n",
    "# GAMMA_HOLDS = [0.1, 1]\n",
    "#------ extended-boyd-sweep ------#\n",
    "# GAMMA_TRADES =  [0.1, 0.5, 1, 2, 3, 4, 5, 5.5, 6, 6.5, 7, 7.5, 8, 9, 10, 11, 12, 15, 20, 30, 45, 60, 100, 200]\n",
    "# GAMMA_RISKS = [0.1, 0.178, 0.316, 0.562, 1, 2, 3, 6, 10, 18, 32, 56, 100, 178, 316, 562, 1000, 2000, 5000, 10000, 20000]\n",
    "#---------------------------------#\n",
    "\n",
    "GAMMA_TRIOS = []\n",
    "for tr in GAMMA_TRADES:\n",
    "    for ri in GAMMA_RISKS:\n",
    "        for hd in GAMMA_HOLDS:\n",
    "            GAMMA_TRIOS.append((tr, ri, hd))\n",
    "        \n",
    "#format: (gamma_trade, gamma_risk, gamma_hold)\n",
    "print('number of trios: ', len(GAMMA_TRIOS))\n",
    "#GAMMA_TRIOS"
   ]
  },
  {
   "cell_type": "code",
   "execution_count": 5,
   "id": "2e9461a3",
   "metadata": {
    "execution": {
     "iopub.execute_input": "2022-06-20T07:17:44.293107Z",
     "iopub.status.busy": "2022-06-20T07:17:44.292076Z",
     "iopub.status.idle": "2022-06-20T07:17:44.316118Z",
     "shell.execute_reply": "2022-06-20T07:17:44.313484Z"
    },
    "papermill": {
     "duration": 0.043011,
     "end_time": "2022-06-20T07:17:44.322184",
     "exception": false,
     "start_time": "2022-06-20T07:17:44.279173",
     "status": "completed"
    },
    "tags": []
   },
   "outputs": [],
   "source": [
    "# other constants and parameters\n",
    "TICKERS.sort()\n",
    "FILE_PERIOD = '1d' # weekly='5d', daily='1d'\n",
    "HALF_SPREAD = 0.0005/2.0 # 'a' in transaction cost function\n",
    "NONLIN_COEFF = 1.0 # 'b' transaction cost function\n",
    "POWER = 1.5 # power for change in poertfolio vector used in transaction cost\n",
    "INIT_PORTFOLIO = 100000000.0 # initial portfolio value\n",
    "\n",
    "USE_FORECASTS = model_parameters[MODEL_BASE_NAME]['use_forecasts'] # whether to use forecasts as inputs to agent policy net or not\n",
    "NB_FORECASTS = model_parameters[MODEL_BASE_NAME]['nb_forecasts'] # number of forecasts to use in state. Set to None for no forecasts\n",
    "FORECAST_TYPE = model_parameters[MODEL_BASE_NAME]['forecast_type'] # use 'strong' or 'weak' forecasts (if no forecasts given, this does not matter)\n",
    "USE_CNN_STATE = model_parameters[MODEL_BASE_NAME]['use_cnn_state'] # whether to pass log-rets block for CNN part of policy net (set to false for forecast only)\n",
    "\n",
    "TEST_NAME = f'{MARKET_NAME}_{MODEL_BASE_NAME}_seeds_{SEED_LIST[0]}_etc'\n",
    "RESULTS_DIR = f'../experiments/{MARKET_NAME}/seeded/{MODEL_BASE_NAME}/backtests/'\n",
    "DATA_DIR = f'../data/{MARKET_NAME}/preprocessed_data/'"
   ]
  },
  {
   "cell_type": "markdown",
   "id": "18e4e26e",
   "metadata": {
    "papermill": {
     "duration": 0.081061,
     "end_time": "2022-06-20T07:17:44.412548",
     "exception": false,
     "start_time": "2022-06-20T07:17:44.331487",
     "status": "completed"
    },
    "tags": []
   },
   "source": [
    "## create agent(s) and backtest in new backtest env"
   ]
  },
  {
   "cell_type": "code",
   "execution_count": 6,
   "id": "5b9c0c93",
   "metadata": {
    "execution": {
     "iopub.execute_input": "2022-06-20T07:17:44.437822Z",
     "iopub.status.busy": "2022-06-20T07:17:44.436783Z",
     "iopub.status.idle": "2022-06-20T07:43:13.940165Z",
     "shell.execute_reply": "2022-06-20T07:43:13.935747Z"
    },
    "papermill": {
     "duration": 1529.550496,
     "end_time": "2022-06-20T07:43:13.973663",
     "exception": false,
     "start_time": "2022-06-20T07:17:44.423167",
     "status": "completed"
    },
    "scrolled": true,
    "tags": []
   },
   "outputs": [
    {
     "name": "stdout",
     "output_type": "stream",
     "text": [
      "creating environment and agent...\n"
     ]
    },
    {
     "name": "stdout",
     "output_type": "stream",
     "text": [
      "backtesting:\n",
      "\t[1/40]\tRL_CNN: gamma_trade=0.1, gamma_risk=0.1, gamma_hold=0.1, seed=0...\n"
     ]
    },
    {
     "name": "stdout",
     "output_type": "stream",
     "text": [
      "\t[2/40]\tRL_CNN: gamma_trade=0.1, gamma_risk=0.1, gamma_hold=1, seed=0...\n"
     ]
    },
    {
     "name": "stdout",
     "output_type": "stream",
     "text": [
      "\t[3/40]\tRL_CNN: gamma_trade=0.1, gamma_risk=1, gamma_hold=0.1, seed=0...\n"
     ]
    },
    {
     "name": "stdout",
     "output_type": "stream",
     "text": [
      "\t[4/40]\tRL_CNN: gamma_trade=0.1, gamma_risk=1, gamma_hold=1, seed=0...\n"
     ]
    },
    {
     "name": "stdout",
     "output_type": "stream",
     "text": [
      "\t[5/40]\tRL_CNN: gamma_trade=0.1, gamma_risk=10, gamma_hold=0.1, seed=0...\n"
     ]
    },
    {
     "name": "stdout",
     "output_type": "stream",
     "text": [
      "\t[6/40]\tRL_CNN: gamma_trade=0.1, gamma_risk=10, gamma_hold=1, seed=0...\n"
     ]
    },
    {
     "name": "stdout",
     "output_type": "stream",
     "text": [
      "\t[7/40]\tRL_CNN: gamma_trade=0.1, gamma_risk=100, gamma_hold=0.1, seed=0...\n"
     ]
    },
    {
     "name": "stdout",
     "output_type": "stream",
     "text": [
      "\t[8/40]\tRL_CNN: gamma_trade=0.1, gamma_risk=100, gamma_hold=1, seed=0...\n"
     ]
    },
    {
     "name": "stdout",
     "output_type": "stream",
     "text": [
      "\t[9/40]\tRL_CNN: gamma_trade=0.1, gamma_risk=1000, gamma_hold=0.1, seed=0...\n"
     ]
    },
    {
     "name": "stdout",
     "output_type": "stream",
     "text": [
      "\t[10/40]\tRL_CNN: gamma_trade=0.1, gamma_risk=1000, gamma_hold=1, seed=0...\n"
     ]
    },
    {
     "name": "stdout",
     "output_type": "stream",
     "text": [
      "\t[11/40]\tRL_CNN: gamma_trade=1, gamma_risk=0.1, gamma_hold=0.1, seed=0...\n"
     ]
    },
    {
     "name": "stdout",
     "output_type": "stream",
     "text": [
      "\t[12/40]\tRL_CNN: gamma_trade=1, gamma_risk=0.1, gamma_hold=1, seed=0...\n"
     ]
    },
    {
     "name": "stdout",
     "output_type": "stream",
     "text": [
      "\t[13/40]\tRL_CNN: gamma_trade=1, gamma_risk=1, gamma_hold=0.1, seed=0...\n"
     ]
    },
    {
     "name": "stdout",
     "output_type": "stream",
     "text": [
      "\t[14/40]\tRL_CNN: gamma_trade=1, gamma_risk=1, gamma_hold=1, seed=0...\n"
     ]
    },
    {
     "name": "stdout",
     "output_type": "stream",
     "text": [
      "\t[15/40]\tRL_CNN: gamma_trade=1, gamma_risk=10, gamma_hold=0.1, seed=0...\n"
     ]
    },
    {
     "name": "stdout",
     "output_type": "stream",
     "text": [
      "\t[16/40]\tRL_CNN: gamma_trade=1, gamma_risk=10, gamma_hold=1, seed=0...\n"
     ]
    },
    {
     "name": "stdout",
     "output_type": "stream",
     "text": [
      "\t[17/40]\tRL_CNN: gamma_trade=1, gamma_risk=100, gamma_hold=0.1, seed=0...\n"
     ]
    },
    {
     "name": "stdout",
     "output_type": "stream",
     "text": [
      "\t[18/40]\tRL_CNN: gamma_trade=1, gamma_risk=100, gamma_hold=1, seed=0...\n"
     ]
    },
    {
     "name": "stdout",
     "output_type": "stream",
     "text": [
      "\t[19/40]\tRL_CNN: gamma_trade=1, gamma_risk=1000, gamma_hold=0.1, seed=0...\n"
     ]
    },
    {
     "name": "stdout",
     "output_type": "stream",
     "text": [
      "\t[20/40]\tRL_CNN: gamma_trade=1, gamma_risk=1000, gamma_hold=1, seed=0...\n"
     ]
    },
    {
     "name": "stdout",
     "output_type": "stream",
     "text": [
      "\t[21/40]\tRL_CNN: gamma_trade=10, gamma_risk=0.1, gamma_hold=0.1, seed=0...\n"
     ]
    },
    {
     "name": "stdout",
     "output_type": "stream",
     "text": [
      "\t[22/40]\tRL_CNN: gamma_trade=10, gamma_risk=0.1, gamma_hold=1, seed=0...\n"
     ]
    },
    {
     "name": "stdout",
     "output_type": "stream",
     "text": [
      "\t[23/40]\tRL_CNN: gamma_trade=10, gamma_risk=1, gamma_hold=0.1, seed=0...\n"
     ]
    },
    {
     "name": "stdout",
     "output_type": "stream",
     "text": [
      "\t[24/40]\tRL_CNN: gamma_trade=10, gamma_risk=1, gamma_hold=1, seed=0...\n"
     ]
    },
    {
     "name": "stdout",
     "output_type": "stream",
     "text": [
      "\t[25/40]\tRL_CNN: gamma_trade=10, gamma_risk=10, gamma_hold=0.1, seed=0...\n"
     ]
    },
    {
     "name": "stdout",
     "output_type": "stream",
     "text": [
      "\t[26/40]\tRL_CNN: gamma_trade=10, gamma_risk=10, gamma_hold=1, seed=0...\n"
     ]
    },
    {
     "name": "stdout",
     "output_type": "stream",
     "text": [
      "\t[27/40]\tRL_CNN: gamma_trade=10, gamma_risk=100, gamma_hold=0.1, seed=0...\n"
     ]
    },
    {
     "name": "stdout",
     "output_type": "stream",
     "text": [
      "\t[28/40]\tRL_CNN: gamma_trade=10, gamma_risk=100, gamma_hold=1, seed=0...\n"
     ]
    },
    {
     "name": "stdout",
     "output_type": "stream",
     "text": [
      "\t[29/40]\tRL_CNN: gamma_trade=10, gamma_risk=1000, gamma_hold=0.1, seed=0...\n"
     ]
    },
    {
     "name": "stdout",
     "output_type": "stream",
     "text": [
      "\t[30/40]\tRL_CNN: gamma_trade=10, gamma_risk=1000, gamma_hold=1, seed=0...\n"
     ]
    },
    {
     "name": "stdout",
     "output_type": "stream",
     "text": [
      "\t[31/40]\tRL_CNN: gamma_trade=100, gamma_risk=0.1, gamma_hold=0.1, seed=0...\n"
     ]
    },
    {
     "name": "stdout",
     "output_type": "stream",
     "text": [
      "\t[32/40]\tRL_CNN: gamma_trade=100, gamma_risk=0.1, gamma_hold=1, seed=0...\n"
     ]
    },
    {
     "name": "stdout",
     "output_type": "stream",
     "text": [
      "\t[33/40]\tRL_CNN: gamma_trade=100, gamma_risk=1, gamma_hold=0.1, seed=0...\n"
     ]
    },
    {
     "name": "stdout",
     "output_type": "stream",
     "text": [
      "\t[34/40]\tRL_CNN: gamma_trade=100, gamma_risk=1, gamma_hold=1, seed=0...\n"
     ]
    },
    {
     "name": "stdout",
     "output_type": "stream",
     "text": [
      "\t[35/40]\tRL_CNN: gamma_trade=100, gamma_risk=10, gamma_hold=0.1, seed=0...\n"
     ]
    },
    {
     "name": "stdout",
     "output_type": "stream",
     "text": [
      "\t[36/40]\tRL_CNN: gamma_trade=100, gamma_risk=10, gamma_hold=1, seed=0...\n"
     ]
    },
    {
     "name": "stdout",
     "output_type": "stream",
     "text": [
      "\t[37/40]\tRL_CNN: gamma_trade=100, gamma_risk=100, gamma_hold=0.1, seed=0...\n"
     ]
    },
    {
     "name": "stdout",
     "output_type": "stream",
     "text": [
      "\t[38/40]\tRL_CNN: gamma_trade=100, gamma_risk=100, gamma_hold=1, seed=0...\n"
     ]
    },
    {
     "name": "stdout",
     "output_type": "stream",
     "text": [
      "\t[39/40]\tRL_CNN: gamma_trade=100, gamma_risk=1000, gamma_hold=0.1, seed=0...\n"
     ]
    },
    {
     "name": "stdout",
     "output_type": "stream",
     "text": [
      "\t[40/40]\tRL_CNN: gamma_trade=100, gamma_risk=1000, gamma_hold=1, seed=0...\n"
     ]
    },
    {
     "name": "stdout",
     "output_type": "stream",
     "text": [
      "CPU times: user 17min 16s, sys: 2.26 s, total: 17min 19s\n",
      "Wall time: 25min 29s\n"
     ]
    }
   ],
   "source": [
    "%%time\n",
    "# make directory for results if it does not exist already\n",
    "maybe_make_dir(RESULTS_DIR)\n",
    "\n",
    "print('creating environment and agent...')\n",
    "env = MultiStockEnv(tickers=TICKERS, \n",
    "                    from_date=FROM,\n",
    "                    until=UNTIL, \n",
    "                    #nb_episodes=100,\n",
    "                    cash_key='USDOLLAR', \n",
    "                    #gamma_risk=GAMMA_RISK, \n",
    "                    #gamma_trade=GAMMA_TRADE,\n",
    "                    #half_spread=HALF_SPREAD, \n",
    "                    nonlin_coef=NONLIN_COEFF, \n",
    "                    power=POWER, \n",
    "                    datadir=DATA_DIR, \n",
    "                    state_lookback_window=20, \n",
    "                    #distribution=EPISODE_DRAW_DISTRIBUTION,\n",
    "                    #days_duration=DAYS_IN_EPISODE, \n",
    "                    mode='backtest', \n",
    "                    random_seed=7,\n",
    "                    init_portfolio=INIT_PORTFOLIO, \n",
    "                    period_in_file_name=FILE_PERIOD, \n",
    "                    nb_forecasts=NB_FORECASTS, \n",
    "                    forecast_type=FORECAST_TYPE,\n",
    "                    use_CNN_state=USE_CNN_STATE,\n",
    "                    verbose=False)\n",
    "\n",
    "agent = Agent(alpha=0.001, \n",
    "              gamma=0.99, \n",
    "              n_assets=len(TICKERS)+1, \n",
    "              tau=5, \n",
    "              lookback_window=20, \n",
    "              n_feature_maps=len(TICKERS)+1,\n",
    "              use_forecasts=USE_FORECASTS,\n",
    "              use_CNN_state=USE_CNN_STATE,\n",
    "              allow_long_short_trades=True)\n",
    "\n",
    "results_dict = {}\n",
    "#actions_dict = {}\n",
    "print('backtesting:')\n",
    "\n",
    "total_backtests = len(SEED_LIST) * len(GAMMA_TRIOS)\n",
    "backtest_counter = 0\n",
    "\n",
    "for RANDOM_SEED in SEED_LIST:\n",
    "    for (GAMMA_TRADE, GAMMA_RISK, GAMMA_HOLD) in GAMMA_TRIOS:\n",
    "        \n",
    "        backtest_counter += 1\n",
    "        print(f'\\t[{backtest_counter}/{total_backtests}]\\t{MODEL_BASE_NAME}: gamma_trade={GAMMA_TRADE}, gamma_risk={GAMMA_RISK}, gamma_hold={GAMMA_HOLD}, seed={RANDOM_SEED}...')\n",
    "        \n",
    "        # load trained RL model for backtesting\n",
    "        SAVED_MODEL_DIR = f'../experiments/{MARKET_NAME}/seeded/{MODEL_BASE_NAME}/seed_{RANDOM_SEED}/trade_{GAMMA_TRADE}_risk_{GAMMA_RISK}_hold_{GAMMA_HOLD}/models/{MODEL_BASE_NAME}_seed_{RANDOM_SEED}_{NB_EPISODES}'\n",
    "        # set dir where actions csv file will be saved\n",
    "        actions_dir = f'../experiments/{MARKET_NAME}/seeded/{MODEL_BASE_NAME}/seed_{RANDOM_SEED}/trade_{GAMMA_TRADE}_risk_{GAMMA_RISK}_hold_{GAMMA_HOLD}'\n",
    "        \n",
    "        try:\n",
    "            rl_rets, rl_actions = backtest(agent, env, weights_file_dir=SAVED_MODEL_DIR, verbose=False)\n",
    "            \n",
    "            #rl_rets = pd.Series(data=rl_rets, index=env.returns.loc[FROM:UNTIL].iloc[1:].index)\n",
    "            #rl_actions = pd.DataFrame(data=rl_actions, index=env.returns.loc[FROM:UNTIL].iloc[0:].index, columns=TICKERS+['USDOLLAR'])\n",
    "            rl_rets = pd.Series(data=rl_rets, index=env.returns.loc[FROM:UNTIL].iloc[:-1].index)\n",
    "            rl_rets = rl_rets.shift(1)\n",
    "            rl_rets.iloc[0] = 0\n",
    "            rl_actions = pd.DataFrame(data=rl_actions[:-1], index=env.returns.loc[FROM:UNTIL].iloc[:-1].index, columns=TICKERS+['USDOLLAR'])\n",
    "            \n",
    "            # save actions\n",
    "            rl_actions.to_csv(f'{actions_dir}/actions.csv')\n",
    "            #print('actions saved.')\n",
    "\n",
    "            cash_rets = env.returns.loc[FROM:UNTIL, env.cash_key].iloc[:-1]\n",
    "            excess_rets = rl_rets - cash_rets\n",
    "\n",
    "            R_e = excess_rets.mean() * 100 * 252\n",
    "            sigma_e = excess_rets.std() * 100 * np.sqrt(252)\n",
    "            sharpe = R_e / sigma_e\n",
    "\n",
    "            results_dict[(GAMMA_TRADE, GAMMA_RISK, GAMMA_HOLD, RANDOM_SEED)] = {'excess_return':R_e, 'excess_risk':sigma_e, 'sharpe':sharpe}\n",
    "        except Exception as e:\n",
    "            print(f'**error for model: trade_{GAMMA_TRADE}_risk_{GAMMA_RISK}_hold_{GAMMA_HOLD}')\n",
    "            #print(e)"
   ]
  },
  {
   "cell_type": "code",
   "execution_count": 7,
   "id": "a6fafea0",
   "metadata": {
    "execution": {
     "iopub.execute_input": "2022-06-20T07:43:14.077579Z",
     "iopub.status.busy": "2022-06-20T07:43:14.075477Z",
     "iopub.status.idle": "2022-06-20T07:43:14.259145Z",
     "shell.execute_reply": "2022-06-20T07:43:14.256191Z"
    },
    "papermill": {
     "duration": 0.240946,
     "end_time": "2022-06-20T07:43:14.266555",
     "exception": false,
     "start_time": "2022-06-20T07:43:14.025609",
     "status": "completed"
    },
    "tags": []
   },
   "outputs": [
    {
     "name": "stdout",
     "output_type": "stream",
     "text": [
      "saved.\n"
     ]
    },
    {
     "data": {
      "text/html": [
       "<div>\n",
       "<style scoped>\n",
       "    .dataframe tbody tr th:only-of-type {\n",
       "        vertical-align: middle;\n",
       "    }\n",
       "\n",
       "    .dataframe tbody tr th {\n",
       "        vertical-align: top;\n",
       "    }\n",
       "\n",
       "    .dataframe thead th {\n",
       "        text-align: right;\n",
       "    }\n",
       "</style>\n",
       "<table border=\"1\" class=\"dataframe\">\n",
       "  <thead>\n",
       "    <tr style=\"text-align: right;\">\n",
       "      <th></th>\n",
       "      <th>gamma_trade</th>\n",
       "      <th>gamma_risk</th>\n",
       "      <th>gamma_hold</th>\n",
       "      <th>seed</th>\n",
       "      <th>excess_return</th>\n",
       "      <th>excess_risk</th>\n",
       "      <th>sharpe</th>\n",
       "    </tr>\n",
       "  </thead>\n",
       "  <tbody>\n",
       "    <tr>\n",
       "      <th>0</th>\n",
       "      <td>0.1</td>\n",
       "      <td>0.1</td>\n",
       "      <td>0.1</td>\n",
       "      <td>0</td>\n",
       "      <td>7.463008</td>\n",
       "      <td>28.523877</td>\n",
       "      <td>0.261641</td>\n",
       "    </tr>\n",
       "    <tr>\n",
       "      <th>1</th>\n",
       "      <td>0.1</td>\n",
       "      <td>0.1</td>\n",
       "      <td>1.0</td>\n",
       "      <td>0</td>\n",
       "      <td>8.969022</td>\n",
       "      <td>27.566189</td>\n",
       "      <td>0.325363</td>\n",
       "    </tr>\n",
       "    <tr>\n",
       "      <th>2</th>\n",
       "      <td>0.1</td>\n",
       "      <td>1.0</td>\n",
       "      <td>0.1</td>\n",
       "      <td>0</td>\n",
       "      <td>7.721270</td>\n",
       "      <td>21.548004</td>\n",
       "      <td>0.358329</td>\n",
       "    </tr>\n",
       "    <tr>\n",
       "      <th>3</th>\n",
       "      <td>0.1</td>\n",
       "      <td>1.0</td>\n",
       "      <td>1.0</td>\n",
       "      <td>0</td>\n",
       "      <td>7.844060</td>\n",
       "      <td>21.519708</td>\n",
       "      <td>0.364506</td>\n",
       "    </tr>\n",
       "    <tr>\n",
       "      <th>4</th>\n",
       "      <td>0.1</td>\n",
       "      <td>10.0</td>\n",
       "      <td>0.1</td>\n",
       "      <td>0</td>\n",
       "      <td>14.026456</td>\n",
       "      <td>19.368429</td>\n",
       "      <td>0.724192</td>\n",
       "    </tr>\n",
       "    <tr>\n",
       "      <th>5</th>\n",
       "      <td>0.1</td>\n",
       "      <td>10.0</td>\n",
       "      <td>1.0</td>\n",
       "      <td>0</td>\n",
       "      <td>10.647359</td>\n",
       "      <td>18.695495</td>\n",
       "      <td>0.569515</td>\n",
       "    </tr>\n",
       "    <tr>\n",
       "      <th>6</th>\n",
       "      <td>0.1</td>\n",
       "      <td>100.0</td>\n",
       "      <td>0.1</td>\n",
       "      <td>0</td>\n",
       "      <td>13.426206</td>\n",
       "      <td>17.792708</td>\n",
       "      <td>0.754590</td>\n",
       "    </tr>\n",
       "    <tr>\n",
       "      <th>7</th>\n",
       "      <td>0.1</td>\n",
       "      <td>100.0</td>\n",
       "      <td>1.0</td>\n",
       "      <td>0</td>\n",
       "      <td>11.553600</td>\n",
       "      <td>18.000320</td>\n",
       "      <td>0.641855</td>\n",
       "    </tr>\n",
       "    <tr>\n",
       "      <th>8</th>\n",
       "      <td>0.1</td>\n",
       "      <td>1000.0</td>\n",
       "      <td>0.1</td>\n",
       "      <td>0</td>\n",
       "      <td>13.584568</td>\n",
       "      <td>17.242198</td>\n",
       "      <td>0.787868</td>\n",
       "    </tr>\n",
       "    <tr>\n",
       "      <th>9</th>\n",
       "      <td>0.1</td>\n",
       "      <td>1000.0</td>\n",
       "      <td>1.0</td>\n",
       "      <td>0</td>\n",
       "      <td>13.246862</td>\n",
       "      <td>17.411315</td>\n",
       "      <td>0.760819</td>\n",
       "    </tr>\n",
       "    <tr>\n",
       "      <th>10</th>\n",
       "      <td>1.0</td>\n",
       "      <td>0.1</td>\n",
       "      <td>0.1</td>\n",
       "      <td>0</td>\n",
       "      <td>11.419114</td>\n",
       "      <td>24.907851</td>\n",
       "      <td>0.458454</td>\n",
       "    </tr>\n",
       "    <tr>\n",
       "      <th>11</th>\n",
       "      <td>1.0</td>\n",
       "      <td>0.1</td>\n",
       "      <td>1.0</td>\n",
       "      <td>0</td>\n",
       "      <td>8.855370</td>\n",
       "      <td>28.897277</td>\n",
       "      <td>0.306443</td>\n",
       "    </tr>\n",
       "    <tr>\n",
       "      <th>12</th>\n",
       "      <td>1.0</td>\n",
       "      <td>1.0</td>\n",
       "      <td>0.1</td>\n",
       "      <td>0</td>\n",
       "      <td>9.087439</td>\n",
       "      <td>21.276769</td>\n",
       "      <td>0.427106</td>\n",
       "    </tr>\n",
       "    <tr>\n",
       "      <th>13</th>\n",
       "      <td>1.0</td>\n",
       "      <td>1.0</td>\n",
       "      <td>1.0</td>\n",
       "      <td>0</td>\n",
       "      <td>9.266157</td>\n",
       "      <td>20.849392</td>\n",
       "      <td>0.444433</td>\n",
       "    </tr>\n",
       "    <tr>\n",
       "      <th>14</th>\n",
       "      <td>1.0</td>\n",
       "      <td>10.0</td>\n",
       "      <td>0.1</td>\n",
       "      <td>0</td>\n",
       "      <td>13.016607</td>\n",
       "      <td>18.970167</td>\n",
       "      <td>0.686162</td>\n",
       "    </tr>\n",
       "    <tr>\n",
       "      <th>15</th>\n",
       "      <td>1.0</td>\n",
       "      <td>10.0</td>\n",
       "      <td>1.0</td>\n",
       "      <td>0</td>\n",
       "      <td>12.461679</td>\n",
       "      <td>18.798042</td>\n",
       "      <td>0.662924</td>\n",
       "    </tr>\n",
       "    <tr>\n",
       "      <th>16</th>\n",
       "      <td>1.0</td>\n",
       "      <td>100.0</td>\n",
       "      <td>0.1</td>\n",
       "      <td>0</td>\n",
       "      <td>13.863205</td>\n",
       "      <td>17.722561</td>\n",
       "      <td>0.782235</td>\n",
       "    </tr>\n",
       "    <tr>\n",
       "      <th>17</th>\n",
       "      <td>1.0</td>\n",
       "      <td>100.0</td>\n",
       "      <td>1.0</td>\n",
       "      <td>0</td>\n",
       "      <td>11.458379</td>\n",
       "      <td>17.981772</td>\n",
       "      <td>0.637222</td>\n",
       "    </tr>\n",
       "    <tr>\n",
       "      <th>18</th>\n",
       "      <td>1.0</td>\n",
       "      <td>1000.0</td>\n",
       "      <td>0.1</td>\n",
       "      <td>0</td>\n",
       "      <td>13.135000</td>\n",
       "      <td>17.266062</td>\n",
       "      <td>0.760741</td>\n",
       "    </tr>\n",
       "    <tr>\n",
       "      <th>19</th>\n",
       "      <td>1.0</td>\n",
       "      <td>1000.0</td>\n",
       "      <td>1.0</td>\n",
       "      <td>0</td>\n",
       "      <td>12.334894</td>\n",
       "      <td>17.420702</td>\n",
       "      <td>0.708060</td>\n",
       "    </tr>\n",
       "    <tr>\n",
       "      <th>20</th>\n",
       "      <td>10.0</td>\n",
       "      <td>0.1</td>\n",
       "      <td>0.1</td>\n",
       "      <td>0</td>\n",
       "      <td>11.767985</td>\n",
       "      <td>19.130138</td>\n",
       "      <td>0.615154</td>\n",
       "    </tr>\n",
       "    <tr>\n",
       "      <th>21</th>\n",
       "      <td>10.0</td>\n",
       "      <td>0.1</td>\n",
       "      <td>1.0</td>\n",
       "      <td>0</td>\n",
       "      <td>12.878882</td>\n",
       "      <td>20.612200</td>\n",
       "      <td>0.624818</td>\n",
       "    </tr>\n",
       "    <tr>\n",
       "      <th>22</th>\n",
       "      <td>10.0</td>\n",
       "      <td>1.0</td>\n",
       "      <td>0.1</td>\n",
       "      <td>0</td>\n",
       "      <td>13.528965</td>\n",
       "      <td>18.111028</td>\n",
       "      <td>0.747001</td>\n",
       "    </tr>\n",
       "    <tr>\n",
       "      <th>23</th>\n",
       "      <td>10.0</td>\n",
       "      <td>1.0</td>\n",
       "      <td>1.0</td>\n",
       "      <td>0</td>\n",
       "      <td>15.171695</td>\n",
       "      <td>17.917477</td>\n",
       "      <td>0.846754</td>\n",
       "    </tr>\n",
       "    <tr>\n",
       "      <th>24</th>\n",
       "      <td>10.0</td>\n",
       "      <td>10.0</td>\n",
       "      <td>0.1</td>\n",
       "      <td>0</td>\n",
       "      <td>16.567529</td>\n",
       "      <td>18.115623</td>\n",
       "      <td>0.914544</td>\n",
       "    </tr>\n",
       "    <tr>\n",
       "      <th>25</th>\n",
       "      <td>10.0</td>\n",
       "      <td>10.0</td>\n",
       "      <td>1.0</td>\n",
       "      <td>0</td>\n",
       "      <td>16.290757</td>\n",
       "      <td>18.201347</td>\n",
       "      <td>0.895030</td>\n",
       "    </tr>\n",
       "    <tr>\n",
       "      <th>26</th>\n",
       "      <td>10.0</td>\n",
       "      <td>100.0</td>\n",
       "      <td>0.1</td>\n",
       "      <td>0</td>\n",
       "      <td>12.470453</td>\n",
       "      <td>17.883096</td>\n",
       "      <td>0.697332</td>\n",
       "    </tr>\n",
       "    <tr>\n",
       "      <th>27</th>\n",
       "      <td>10.0</td>\n",
       "      <td>100.0</td>\n",
       "      <td>1.0</td>\n",
       "      <td>0</td>\n",
       "      <td>11.563109</td>\n",
       "      <td>18.076960</td>\n",
       "      <td>0.639660</td>\n",
       "    </tr>\n",
       "    <tr>\n",
       "      <th>28</th>\n",
       "      <td>10.0</td>\n",
       "      <td>1000.0</td>\n",
       "      <td>0.1</td>\n",
       "      <td>0</td>\n",
       "      <td>11.962724</td>\n",
       "      <td>17.538210</td>\n",
       "      <td>0.682095</td>\n",
       "    </tr>\n",
       "    <tr>\n",
       "      <th>29</th>\n",
       "      <td>10.0</td>\n",
       "      <td>1000.0</td>\n",
       "      <td>1.0</td>\n",
       "      <td>0</td>\n",
       "      <td>11.324233</td>\n",
       "      <td>17.588370</td>\n",
       "      <td>0.643848</td>\n",
       "    </tr>\n",
       "    <tr>\n",
       "      <th>30</th>\n",
       "      <td>100.0</td>\n",
       "      <td>0.1</td>\n",
       "      <td>0.1</td>\n",
       "      <td>0</td>\n",
       "      <td>13.767381</td>\n",
       "      <td>18.986967</td>\n",
       "      <td>0.725096</td>\n",
       "    </tr>\n",
       "    <tr>\n",
       "      <th>31</th>\n",
       "      <td>100.0</td>\n",
       "      <td>0.1</td>\n",
       "      <td>1.0</td>\n",
       "      <td>0</td>\n",
       "      <td>13.767784</td>\n",
       "      <td>18.987065</td>\n",
       "      <td>0.725114</td>\n",
       "    </tr>\n",
       "    <tr>\n",
       "      <th>32</th>\n",
       "      <td>100.0</td>\n",
       "      <td>1.0</td>\n",
       "      <td>0.1</td>\n",
       "      <td>0</td>\n",
       "      <td>13.766847</td>\n",
       "      <td>18.986532</td>\n",
       "      <td>0.725085</td>\n",
       "    </tr>\n",
       "    <tr>\n",
       "      <th>33</th>\n",
       "      <td>100.0</td>\n",
       "      <td>1.0</td>\n",
       "      <td>1.0</td>\n",
       "      <td>0</td>\n",
       "      <td>13.767183</td>\n",
       "      <td>18.986513</td>\n",
       "      <td>0.725103</td>\n",
       "    </tr>\n",
       "    <tr>\n",
       "      <th>34</th>\n",
       "      <td>100.0</td>\n",
       "      <td>10.0</td>\n",
       "      <td>0.1</td>\n",
       "      <td>0</td>\n",
       "      <td>13.746328</td>\n",
       "      <td>18.983729</td>\n",
       "      <td>0.724111</td>\n",
       "    </tr>\n",
       "    <tr>\n",
       "      <th>35</th>\n",
       "      <td>100.0</td>\n",
       "      <td>10.0</td>\n",
       "      <td>1.0</td>\n",
       "      <td>0</td>\n",
       "      <td>11.248667</td>\n",
       "      <td>19.022198</td>\n",
       "      <td>0.591344</td>\n",
       "    </tr>\n",
       "    <tr>\n",
       "      <th>36</th>\n",
       "      <td>100.0</td>\n",
       "      <td>100.0</td>\n",
       "      <td>0.1</td>\n",
       "      <td>0</td>\n",
       "      <td>12.737189</td>\n",
       "      <td>17.614349</td>\n",
       "      <td>0.723114</td>\n",
       "    </tr>\n",
       "    <tr>\n",
       "      <th>37</th>\n",
       "      <td>100.0</td>\n",
       "      <td>100.0</td>\n",
       "      <td>1.0</td>\n",
       "      <td>0</td>\n",
       "      <td>10.285373</td>\n",
       "      <td>17.926599</td>\n",
       "      <td>0.573749</td>\n",
       "    </tr>\n",
       "    <tr>\n",
       "      <th>38</th>\n",
       "      <td>100.0</td>\n",
       "      <td>1000.0</td>\n",
       "      <td>0.1</td>\n",
       "      <td>0</td>\n",
       "      <td>3.554031</td>\n",
       "      <td>16.905257</td>\n",
       "      <td>0.210232</td>\n",
       "    </tr>\n",
       "    <tr>\n",
       "      <th>39</th>\n",
       "      <td>100.0</td>\n",
       "      <td>1000.0</td>\n",
       "      <td>1.0</td>\n",
       "      <td>0</td>\n",
       "      <td>4.482912</td>\n",
       "      <td>17.070715</td>\n",
       "      <td>0.262608</td>\n",
       "    </tr>\n",
       "  </tbody>\n",
       "</table>\n",
       "</div>"
      ],
      "text/plain": [
       "    gamma_trade  gamma_risk  gamma_hold  seed  excess_return  excess_risk  \\\n",
       "0           0.1         0.1         0.1     0       7.463008    28.523877   \n",
       "1           0.1         0.1         1.0     0       8.969022    27.566189   \n",
       "2           0.1         1.0         0.1     0       7.721270    21.548004   \n",
       "3           0.1         1.0         1.0     0       7.844060    21.519708   \n",
       "4           0.1        10.0         0.1     0      14.026456    19.368429   \n",
       "5           0.1        10.0         1.0     0      10.647359    18.695495   \n",
       "6           0.1       100.0         0.1     0      13.426206    17.792708   \n",
       "7           0.1       100.0         1.0     0      11.553600    18.000320   \n",
       "8           0.1      1000.0         0.1     0      13.584568    17.242198   \n",
       "9           0.1      1000.0         1.0     0      13.246862    17.411315   \n",
       "10          1.0         0.1         0.1     0      11.419114    24.907851   \n",
       "11          1.0         0.1         1.0     0       8.855370    28.897277   \n",
       "12          1.0         1.0         0.1     0       9.087439    21.276769   \n",
       "13          1.0         1.0         1.0     0       9.266157    20.849392   \n",
       "14          1.0        10.0         0.1     0      13.016607    18.970167   \n",
       "15          1.0        10.0         1.0     0      12.461679    18.798042   \n",
       "16          1.0       100.0         0.1     0      13.863205    17.722561   \n",
       "17          1.0       100.0         1.0     0      11.458379    17.981772   \n",
       "18          1.0      1000.0         0.1     0      13.135000    17.266062   \n",
       "19          1.0      1000.0         1.0     0      12.334894    17.420702   \n",
       "20         10.0         0.1         0.1     0      11.767985    19.130138   \n",
       "21         10.0         0.1         1.0     0      12.878882    20.612200   \n",
       "22         10.0         1.0         0.1     0      13.528965    18.111028   \n",
       "23         10.0         1.0         1.0     0      15.171695    17.917477   \n",
       "24         10.0        10.0         0.1     0      16.567529    18.115623   \n",
       "25         10.0        10.0         1.0     0      16.290757    18.201347   \n",
       "26         10.0       100.0         0.1     0      12.470453    17.883096   \n",
       "27         10.0       100.0         1.0     0      11.563109    18.076960   \n",
       "28         10.0      1000.0         0.1     0      11.962724    17.538210   \n",
       "29         10.0      1000.0         1.0     0      11.324233    17.588370   \n",
       "30        100.0         0.1         0.1     0      13.767381    18.986967   \n",
       "31        100.0         0.1         1.0     0      13.767784    18.987065   \n",
       "32        100.0         1.0         0.1     0      13.766847    18.986532   \n",
       "33        100.0         1.0         1.0     0      13.767183    18.986513   \n",
       "34        100.0        10.0         0.1     0      13.746328    18.983729   \n",
       "35        100.0        10.0         1.0     0      11.248667    19.022198   \n",
       "36        100.0       100.0         0.1     0      12.737189    17.614349   \n",
       "37        100.0       100.0         1.0     0      10.285373    17.926599   \n",
       "38        100.0      1000.0         0.1     0       3.554031    16.905257   \n",
       "39        100.0      1000.0         1.0     0       4.482912    17.070715   \n",
       "\n",
       "      sharpe  \n",
       "0   0.261641  \n",
       "1   0.325363  \n",
       "2   0.358329  \n",
       "3   0.364506  \n",
       "4   0.724192  \n",
       "5   0.569515  \n",
       "6   0.754590  \n",
       "7   0.641855  \n",
       "8   0.787868  \n",
       "9   0.760819  \n",
       "10  0.458454  \n",
       "11  0.306443  \n",
       "12  0.427106  \n",
       "13  0.444433  \n",
       "14  0.686162  \n",
       "15  0.662924  \n",
       "16  0.782235  \n",
       "17  0.637222  \n",
       "18  0.760741  \n",
       "19  0.708060  \n",
       "20  0.615154  \n",
       "21  0.624818  \n",
       "22  0.747001  \n",
       "23  0.846754  \n",
       "24  0.914544  \n",
       "25  0.895030  \n",
       "26  0.697332  \n",
       "27  0.639660  \n",
       "28  0.682095  \n",
       "29  0.643848  \n",
       "30  0.725096  \n",
       "31  0.725114  \n",
       "32  0.725085  \n",
       "33  0.725103  \n",
       "34  0.724111  \n",
       "35  0.591344  \n",
       "36  0.723114  \n",
       "37  0.573749  \n",
       "38  0.210232  \n",
       "39  0.262608  "
      ]
     },
     "execution_count": 7,
     "metadata": {},
     "output_type": "execute_result"
    }
   ],
   "source": [
    "results_df = pd.DataFrame(results_dict).T.reset_index()\n",
    "results_df.columns = ['gamma_trade', 'gamma_risk', 'gamma_hold', 'seed', 'excess_return', 'excess_risk', 'sharpe']\n",
    "results_df.to_csv(RESULTS_DIR+TEST_NAME+'.csv', index=False)\n",
    "print('saved.')\n",
    "results_df"
   ]
  },
  {
   "cell_type": "code",
   "execution_count": 8,
   "id": "0f10d262",
   "metadata": {
    "execution": {
     "iopub.execute_input": "2022-06-20T07:43:14.343849Z",
     "iopub.status.busy": "2022-06-20T07:43:14.342797Z",
     "iopub.status.idle": "2022-06-20T07:43:16.462431Z",
     "shell.execute_reply": "2022-06-20T07:43:16.459568Z"
    },
    "papermill": {
     "duration": 2.163183,
     "end_time": "2022-06-20T07:43:16.468230",
     "exception": false,
     "start_time": "2022-06-20T07:43:14.305047",
     "status": "completed"
    },
    "tags": []
   },
   "outputs": [
    {
     "data": {
      "text/plain": [
       "(-10.0, 70.0)"
      ]
     },
     "execution_count": 8,
     "metadata": {},
     "output_type": "execute_result"
    },
    {
     "data": {
      "image/png": "[encoded data removed]",
      "text/plain": [
       "<Figure size 432x360 with 1 Axes>"
      ]
     },
     "metadata": {
      "needs_background": "light"
     },
     "output_type": "display_data"
    }
   ],
   "source": [
    "# risk-return plot \n",
    "results_df[['excess_return', 'excess_risk']]\\\n",
    "    .rename(\n",
    "        columns={\n",
    "            'excess_return':'Excess Return (%)', \n",
    "            'excess_risk':'Excess Risk (%)'\n",
    "        })\\\n",
    "    .plot(\n",
    "        kind='scatter', \n",
    "        x='Excess Risk (%)', \n",
    "        y='Excess Return (%)', \n",
    "        title='Backtest Resulsts', \n",
    "        alpha=0.8,\n",
    "        figsize=(6,5),\n",
    "        c='C0')\n",
    "\n",
    "# x and y axis limits\n",
    "plt.xlim(left=0.0, right=60.0)\n",
    "plt.ylim(bottom=-10.0, top=70.0)"
   ]
  },
  {
   "cell_type": "code",
   "execution_count": 9,
   "id": "ea988f0a",
   "metadata": {
    "execution": {
     "iopub.execute_input": "2022-06-20T07:43:16.561238Z",
     "iopub.status.busy": "2022-06-20T07:43:16.560324Z",
     "iopub.status.idle": "2022-06-20T07:43:16.573223Z",
     "shell.execute_reply": "2022-06-20T07:43:16.570455Z"
    },
    "papermill": {
     "duration": 0.073335,
     "end_time": "2022-06-20T07:43:16.579473",
     "exception": false,
     "start_time": "2022-06-20T07:43:16.506138",
     "status": "completed"
    },
    "tags": []
   },
   "outputs": [
    {
     "name": "stdout",
     "output_type": "stream",
     "text": [
      "done backtesting for RL_CNN.\n"
     ]
    }
   ],
   "source": [
    "print(f'done backtesting for {MODEL_BASE_NAME}.')"
   ]
  },
  {
   "cell_type": "code",
   "execution_count": 10,
   "id": "437506c9",
   "metadata": {
    "execution": {
     "iopub.execute_input": "2022-06-20T07:43:16.642161Z",
     "iopub.status.busy": "2022-06-20T07:43:16.641171Z",
     "iopub.status.idle": "2022-06-20T07:43:16.667106Z",
     "shell.execute_reply": "2022-06-20T07:43:16.664161Z"
    },
    "papermill": {
     "duration": 0.056307,
     "end_time": "2022-06-20T07:43:16.673543",
     "exception": false,
     "start_time": "2022-06-20T07:43:16.617236",
     "status": "completed"
    },
    "tags": []
   },
   "outputs": [
    {
     "data": {
      "text/plain": [
       "<src.models.frontier.LongShortCNNPolicy at 0x7fb0ae0b2b90>"
      ]
     },
     "execution_count": 10,
     "metadata": {},
     "output_type": "execute_result"
    }
   ],
   "source": [
    "agent.policy"
   ]
  }
 ],
 "metadata": {
  "interpreter": {
   "hash": "949777d72b0d2535278d3dc13498b2535136f6dfe0678499012e853ee9abcab1"
  },
  "kernelspec": {
   "display_name": "Python 3.7.6 64-bit",
   "language": "python",
   "name": "python3"
  },
  "language_info": {
   "codemirror_mode": {
    "name": "ipython",
    "version": 3
   },
   "file_extension": ".py",
   "mimetype": "text/x-python",
   "name": "python",
   "nbconvert_exporter": "python",
   "pygments_lexer": "ipython3",
   "version": "3.7.6"
  },
  "papermill": {
   "default_parameters": {},
   "duration": 1543.260714,
   "end_time": "2022-06-20T07:43:19.349187",
   "environment_variables": {},
   "exception": null,
   "input_path": "backtest_template.ipynb",
   "output_path": "slave_notebooks/backtests/RL_CNN_NIK_25_(0_etc).ipynb",
   "parameters": {
    "FROM": "2018-01-01",
    "GAMMA_HOLDS": [
     0.1,
     1
    ],
    "GAMMA_RISKS": [
     0.1,
     1,
     10,
     100,
     1000
    ],
    "GAMMA_TRADES": [
     0.1,
     1,
     10,
     100
    ],
    "MARKET_NAME": "NIK_25",
    "MODEL_BASE_NAME": "RL_CNN",
    "NB_EPISODES": 200,
    "SEED_LIST": [
     0
    ],
    "TICKERS": [
     "9983.T",
     "8035.T",
     "9984.T",
     "6954.T",
     "6367.T",
     "9433.T",
     "4543.T",
     "6857.T",
     "2413.T",
     "4063.T",
     "6971.T",
     "6758.T",
     "4519.T",
     "6762.T",
     "6645.T",
     "9613.T",
     "7203.T",
     "7733.T",
     "4901.T",
     "4503.T",
     "2801.T",
     "4568.T",
     "7832.T",
     "4523.T"
    ],
    "UNTIL": "2020-01-01"
   },
   "start_time": "2022-06-20T07:17:36.088473",
   "version": "2.3.3"
  }
 },
 "nbformat": 4,
 "nbformat_minor": 5
}