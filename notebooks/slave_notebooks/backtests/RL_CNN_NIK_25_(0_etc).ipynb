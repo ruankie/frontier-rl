{
 "cells": [
  {
   "cell_type": "code",
   "execution_count": 1,
   "id": "3be4d933",
   "metadata": {
    "execution": {
     "iopub.execute_input": "2022-06-28T15:26:30.721971Z",
     "iopub.status.busy": "2022-06-28T15:26:30.721493Z",
     "iopub.status.idle": "2022-06-28T15:26:33.058955Z",
     "shell.execute_reply": "2022-06-28T15:26:33.057420Z"
    },
    "papermill": {
     "duration": 2.349509,
     "end_time": "2022-06-28T15:26:33.063275",
     "exception": false,
     "start_time": "2022-06-28T15:26:30.713766",
     "status": "completed"
    },
    "tags": []
   },
   "outputs": [
    {
     "name": "stdout",
     "output_type": "stream",
     "text": [
      "CPU times: user 4.49 s, sys: 3.48 s, total: 7.97 s\n",
      "Wall time: 2.33 s\n"
     ]
    }
   ],
   "source": [
    "%%time\n",
    "import numpy as np\n",
    "import pandas as pd\n",
    "import matplotlib.pyplot as plt\n",
    "import datetime\n",
    "import os\n",
    "from src.models.frontier import MultiStockEnv, Agent, backtest, maybe_make_dir\n",
    "from src.config import market_tickers\n",
    "from src.config.model_config import model_parameters"
   ]
  },
  {
   "cell_type": "code",
   "execution_count": 2,
   "id": "6c991728",
   "metadata": {
    "execution": {
     "iopub.execute_input": "2022-06-28T15:26:33.093893Z",
     "iopub.status.busy": "2022-06-28T15:26:33.092976Z",
     "iopub.status.idle": "2022-06-28T15:26:33.105646Z",
     "shell.execute_reply": "2022-06-28T15:26:33.104146Z"
    },
    "papermill": {
     "duration": 0.035146,
     "end_time": "2022-06-28T15:26:33.109753",
     "exception": false,
     "start_time": "2022-06-28T15:26:33.074607",
     "status": "completed"
    },
    "tags": [
     "parameters"
    ]
   },
   "outputs": [],
   "source": [
    "# papermill parameters\n",
    "SEED_LIST = [\n",
    "             0,\n",
    "             #1111,\n",
    "             #2222, \n",
    "             #3333, \n",
    "             #4444, \n",
    "             #5555,\n",
    "             #6666,\n",
    "             #7777,\n",
    "             #8888,\n",
    "             #9999\n",
    "            ]\n",
    "\n",
    "#TICKERS = market_tickers.DOW_30_TICKER\n",
    "TICKERS = ['AAPL', 'AMD', 'CSCO', 'F', 'INTC']\n",
    "MARKET_NAME = 'TEST_5'\n",
    "MODEL_BASE_NAME = 'RL_CNN' # use either | 'RL_CNN' | 'RL_str_fcast' | 'RL_all_inp' |\n",
    "FROM = '2019-01-01' # start of backtest\n",
    "UNTIL = '2020-01-01' # end of backtest\n",
    "NB_EPISODES = 200 # backtest model that was trained for this number of episodes\n",
    "\n",
    "# investor preferences\n",
    "GAMMA_TRADES = [0.1, 1, 10, 100]\n",
    "GAMMA_RISKS = [0.1, 1, 10, 100, 1000]\n",
    "GAMMA_HOLDS = [0.1, 1]"
   ]
  },
  {
   "cell_type": "code",
   "execution_count": 3,
   "id": "a41e8067",
   "metadata": {
    "execution": {
     "iopub.execute_input": "2022-06-28T15:26:33.132460Z",
     "iopub.status.busy": "2022-06-28T15:26:33.132078Z",
     "iopub.status.idle": "2022-06-28T15:26:33.145950Z",
     "shell.execute_reply": "2022-06-28T15:26:33.144728Z"
    },
    "papermill": {
     "duration": 0.022282,
     "end_time": "2022-06-28T15:26:33.148340",
     "exception": false,
     "start_time": "2022-06-28T15:26:33.126058",
     "status": "completed"
    },
    "tags": [
     "injected-parameters"
    ]
   },
   "outputs": [],
   "source": [
    "# Parameters\n",
    "SEED_LIST = [0]\n",
    "TICKERS = [\n",
    "    \"9983.T\",\n",
    "    \"8035.T\",\n",
    "    \"9984.T\",\n",
    "    \"6954.T\",\n",
    "    \"6367.T\",\n",
    "    \"9433.T\",\n",
    "    \"4543.T\",\n",
    "    \"6857.T\",\n",
    "    \"2413.T\",\n",
    "    \"4063.T\",\n",
    "    \"6971.T\",\n",
    "    \"6758.T\",\n",
    "    \"4519.T\",\n",
    "    \"6762.T\",\n",
    "    \"6645.T\",\n",
    "    \"9613.T\",\n",
    "    \"7203.T\",\n",
    "    \"7733.T\",\n",
    "    \"4901.T\",\n",
    "    \"4503.T\",\n",
    "    \"2801.T\",\n",
    "    \"4568.T\",\n",
    "    \"7832.T\",\n",
    "    \"4523.T\",\n",
    "]\n",
    "MARKET_NAME = \"NIK_25\"\n",
    "MODEL_BASE_NAME = \"RL_CNN\"\n",
    "FROM = \"2018-01-01\"\n",
    "UNTIL = \"2020-01-01\"\n",
    "NB_EPISODES = 200\n",
    "GAMMA_TRADES = [0.1, 1, 7, 8, 9, 10, 11, 12, 50, 100, 1000]\n",
    "GAMMA_RISKS = [\n",
    "    1,\n",
    "    2,\n",
    "    3,\n",
    "    6,\n",
    "    10,\n",
    "    18,\n",
    "    32,\n",
    "    56,\n",
    "    100,\n",
    "    178,\n",
    "    316,\n",
    "    562,\n",
    "    1000,\n",
    "    5000,\n",
    "    10000,\n",
    "    100000,\n",
    "]\n",
    "GAMMA_HOLDS = [0.1, 1, 10, 100, 1000, 10000, 100000]\n"
   ]
  },
  {
   "cell_type": "code",
   "execution_count": 4,
   "id": "5900ce4e",
   "metadata": {
    "execution": {
     "iopub.execute_input": "2022-06-28T15:26:33.160448Z",
     "iopub.status.busy": "2022-06-28T15:26:33.160066Z",
     "iopub.status.idle": "2022-06-28T15:26:33.169192Z",
     "shell.execute_reply": "2022-06-28T15:26:33.167910Z"
    },
    "papermill": {
     "duration": 0.017642,
     "end_time": "2022-06-28T15:26:33.171580",
     "exception": false,
     "start_time": "2022-06-28T15:26:33.153938",
     "status": "completed"
    },
    "tags": []
   },
   "outputs": [
    {
     "name": "stdout",
     "output_type": "stream",
     "text": [
      "number of trios:  1232\n"
     ]
    }
   ],
   "source": [
    "#------ small test-sweep ------#\n",
    "# GAMMA_TRADES = [0.1, 1, 10, 100]\n",
    "# GAMMA_RISKS = [0.1, 1, 10, 100, 1000]\n",
    "# GAMMA_HOLDS = [0.1, 1]\n",
    "#------ extended-boyd-sweep ------#\n",
    "# GAMMA_TRADES =  [0.1, 0.5, 1, 2, 3, 4, 5, 5.5, 6, 6.5, 7, 7.5, 8, 9, 10, 11, 12, 15, 20, 30, 45, 60, 100, 200]\n",
    "# GAMMA_RISKS = [0.1, 0.178, 0.316, 0.562, 1, 2, 3, 6, 10, 18, 32, 56, 100, 178, 316, 562, 1000, 2000, 5000, 10000, 20000]\n",
    "#---------------------------------#\n",
    "\n",
    "GAMMA_TRIOS = []\n",
    "for tr in GAMMA_TRADES:\n",
    "    for ri in GAMMA_RISKS:\n",
    "        for hd in GAMMA_HOLDS:\n",
    "            GAMMA_TRIOS.append((tr, ri, hd))\n",
    "        \n",
    "#format: (gamma_trade, gamma_risk, gamma_hold)\n",
    "print('number of trios: ', len(GAMMA_TRIOS))\n",
    "#GAMMA_TRIOS"
   ]
  },
  {
   "cell_type": "code",
   "execution_count": 5,
   "id": "d3012433",
   "metadata": {
    "execution": {
     "iopub.execute_input": "2022-06-28T15:26:33.182713Z",
     "iopub.status.busy": "2022-06-28T15:26:33.182363Z",
     "iopub.status.idle": "2022-06-28T15:26:33.191513Z",
     "shell.execute_reply": "2022-06-28T15:26:33.190374Z"
    },
    "papermill": {
     "duration": 0.017384,
     "end_time": "2022-06-28T15:26:33.193948",
     "exception": false,
     "start_time": "2022-06-28T15:26:33.176564",
     "status": "completed"
    },
    "tags": []
   },
   "outputs": [],
   "source": [
    "# other constants and parameters\n",
    "TICKERS.sort()\n",
    "FILE_PERIOD = '1d' # weekly='5d', daily='1d'\n",
    "HALF_SPREAD = 0.0005/2.0 # 'a' in transaction cost function\n",
    "NONLIN_COEFF = 1.0 # 'b' transaction cost function\n",
    "POWER = 1.5 # power for change in poertfolio vector used in transaction cost\n",
    "INIT_PORTFOLIO = 100000000.0 # initial portfolio value\n",
    "\n",
    "USE_FORECASTS = model_parameters[MODEL_BASE_NAME]['use_forecasts'] # whether to use forecasts as inputs to agent policy net or not\n",
    "NB_FORECASTS = model_parameters[MODEL_BASE_NAME]['nb_forecasts'] # number of forecasts to use in state. Set to None for no forecasts\n",
    "FORECAST_TYPE = model_parameters[MODEL_BASE_NAME]['forecast_type'] # use 'strong' or 'weak' forecasts (if no forecasts given, this does not matter)\n",
    "USE_CNN_STATE = model_parameters[MODEL_BASE_NAME]['use_cnn_state'] # whether to pass log-rets block for CNN part of policy net (set to false for forecast only)\n",
    "\n",
    "TEST_NAME = f'{MARKET_NAME}_{MODEL_BASE_NAME}_seeds_{SEED_LIST[0]}_etc'\n",
    "RESULTS_DIR = f'../experiments/{MARKET_NAME}/seeded/{MODEL_BASE_NAME}/backtests/'\n",
    "DATA_DIR = f'../data/{MARKET_NAME}/preprocessed_data/'"
   ]
  },
  {
   "cell_type": "markdown",
   "id": "890a1066",
   "metadata": {
    "papermill": {
     "duration": 0.038795,
     "end_time": "2022-06-28T15:26:33.237514",
     "exception": false,
     "start_time": "2022-06-28T15:26:33.198719",
     "status": "completed"
    },
    "tags": []
   },
   "source": [
    "## create agent(s) and backtest in new backtest env"
   ]
  },
  {
   "cell_type": "code",
   "execution_count": 6,
   "id": "84767acc",
   "metadata": {
    "execution": {
     "iopub.execute_input": "2022-06-28T15:26:33.249934Z",
     "iopub.status.busy": "2022-06-28T15:26:33.249358Z"
    },
    "papermill": {
     "duration": null,
     "end_time": null,
     "exception": false,
     "start_time": "2022-06-28T15:26:33.242613",
     "status": "running"
    },
    "scrolled": true,
    "tags": []
   },
   "outputs": [
    {
     "name": "stdout",
     "output_type": "stream",
     "text": [
      "creating environment and agent...\n"
     ]
    },
    {
     "name": "stdout",
     "output_type": "stream",
     "text": [
      "backtesting:\n",
      "\t[1/1232]\tRL_CNN: gamma_trade=0.1, gamma_risk=1, gamma_hold=0.1, seed=0...\n"
     ]
    },
    {
     "name": "stdout",
     "output_type": "stream",
     "text": [
      "\t[2/1232]\tRL_CNN: gamma_trade=0.1, gamma_risk=1, gamma_hold=1, seed=0...\n"
     ]
    },
    {
     "name": "stdout",
     "output_type": "stream",
     "text": [
      "\t[3/1232]\tRL_CNN: gamma_trade=0.1, gamma_risk=1, gamma_hold=10, seed=0...\n"
     ]
    },
    {
     "name": "stdout",
     "output_type": "stream",
     "text": [
      "\t[4/1232]\tRL_CNN: gamma_trade=0.1, gamma_risk=1, gamma_hold=100, seed=0...\n"
     ]
    },
    {
     "name": "stdout",
     "output_type": "stream",
     "text": [
      "\t[5/1232]\tRL_CNN: gamma_trade=0.1, gamma_risk=1, gamma_hold=1000, seed=0...\n"
     ]
    },
    {
     "name": "stdout",
     "output_type": "stream",
     "text": [
      "\t[6/1232]\tRL_CNN: gamma_trade=0.1, gamma_risk=1, gamma_hold=10000, seed=0...\n"
     ]
    },
    {
     "name": "stdout",
     "output_type": "stream",
     "text": [
      "\t[7/1232]\tRL_CNN: gamma_trade=0.1, gamma_risk=1, gamma_hold=100000, seed=0...\n"
     ]
    },
    {
     "name": "stdout",
     "output_type": "stream",
     "text": [
      "\t[8/1232]\tRL_CNN: gamma_trade=0.1, gamma_risk=2, gamma_hold=0.1, seed=0...\n"
     ]
    },
    {
     "name": "stdout",
     "output_type": "stream",
     "text": [
      "\t[9/1232]\tRL_CNN: gamma_trade=0.1, gamma_risk=2, gamma_hold=1, seed=0...\n"
     ]
    },
    {
     "name": "stdout",
     "output_type": "stream",
     "text": [
      "\t[10/1232]\tRL_CNN: gamma_trade=0.1, gamma_risk=2, gamma_hold=10, seed=0...\n"
     ]
    },
    {
     "name": "stdout",
     "output_type": "stream",
     "text": [
      "\t[11/1232]\tRL_CNN: gamma_trade=0.1, gamma_risk=2, gamma_hold=100, seed=0...\n"
     ]
    },
    {
     "name": "stdout",
     "output_type": "stream",
     "text": [
      "\t[12/1232]\tRL_CNN: gamma_trade=0.1, gamma_risk=2, gamma_hold=1000, seed=0...\n"
     ]
    },
    {
     "name": "stdout",
     "output_type": "stream",
     "text": [
      "\t[13/1232]\tRL_CNN: gamma_trade=0.1, gamma_risk=2, gamma_hold=10000, seed=0...\n"
     ]
    },
    {
     "name": "stdout",
     "output_type": "stream",
     "text": [
      "\t[14/1232]\tRL_CNN: gamma_trade=0.1, gamma_risk=2, gamma_hold=100000, seed=0...\n"
     ]
    },
    {
     "name": "stdout",
     "output_type": "stream",
     "text": [
      "\t[15/1232]\tRL_CNN: gamma_trade=0.1, gamma_risk=3, gamma_hold=0.1, seed=0...\n"
     ]
    },
    {
     "name": "stdout",
     "output_type": "stream",
     "text": [
      "\t[16/1232]\tRL_CNN: gamma_trade=0.1, gamma_risk=3, gamma_hold=1, seed=0...\n"
     ]
    },
    {
     "name": "stdout",
     "output_type": "stream",
     "text": [
      "\t[17/1232]\tRL_CNN: gamma_trade=0.1, gamma_risk=3, gamma_hold=10, seed=0...\n"
     ]
    },
    {
     "name": "stdout",
     "output_type": "stream",
     "text": [
      "\t[18/1232]\tRL_CNN: gamma_trade=0.1, gamma_risk=3, gamma_hold=100, seed=0...\n"
     ]
    },
    {
     "name": "stdout",
     "output_type": "stream",
     "text": [
      "\t[19/1232]\tRL_CNN: gamma_trade=0.1, gamma_risk=3, gamma_hold=1000, seed=0...\n"
     ]
    },
    {
     "name": "stdout",
     "output_type": "stream",
     "text": [
      "\t[20/1232]\tRL_CNN: gamma_trade=0.1, gamma_risk=3, gamma_hold=10000, seed=0...\n"
     ]
    },
    {
     "name": "stdout",
     "output_type": "stream",
     "text": [
      "\t[21/1232]\tRL_CNN: gamma_trade=0.1, gamma_risk=3, gamma_hold=100000, seed=0...\n"
     ]
    },
    {
     "name": "stdout",
     "output_type": "stream",
     "text": [
      "\t[22/1232]\tRL_CNN: gamma_trade=0.1, gamma_risk=6, gamma_hold=0.1, seed=0...\n"
     ]
    },
    {
     "name": "stdout",
     "output_type": "stream",
     "text": [
      "\t[23/1232]\tRL_CNN: gamma_trade=0.1, gamma_risk=6, gamma_hold=1, seed=0...\n"
     ]
    },
    {
     "name": "stdout",
     "output_type": "stream",
     "text": [
      "\t[24/1232]\tRL_CNN: gamma_trade=0.1, gamma_risk=6, gamma_hold=10, seed=0...\n"
     ]
    },
    {
     "name": "stdout",
     "output_type": "stream",
     "text": [
      "\t[25/1232]\tRL_CNN: gamma_trade=0.1, gamma_risk=6, gamma_hold=100, seed=0...\n"
     ]
    },
    {
     "name": "stdout",
     "output_type": "stream",
     "text": [
      "\t[26/1232]\tRL_CNN: gamma_trade=0.1, gamma_risk=6, gamma_hold=1000, seed=0...\n"
     ]
    },
    {
     "name": "stdout",
     "output_type": "stream",
     "text": [
      "\t[27/1232]\tRL_CNN: gamma_trade=0.1, gamma_risk=6, gamma_hold=10000, seed=0...\n"
     ]
    },
    {
     "name": "stdout",
     "output_type": "stream",
     "text": [
      "\t[28/1232]\tRL_CNN: gamma_trade=0.1, gamma_risk=6, gamma_hold=100000, seed=0...\n"
     ]
    },
    {
     "name": "stdout",
     "output_type": "stream",
     "text": [
      "\t[29/1232]\tRL_CNN: gamma_trade=0.1, gamma_risk=10, gamma_hold=0.1, seed=0...\n"
     ]
    },
    {
     "name": "stdout",
     "output_type": "stream",
     "text": [
      "\t[30/1232]\tRL_CNN: gamma_trade=0.1, gamma_risk=10, gamma_hold=1, seed=0...\n"
     ]
    },
    {
     "name": "stdout",
     "output_type": "stream",
     "text": [
      "\t[31/1232]\tRL_CNN: gamma_trade=0.1, gamma_risk=10, gamma_hold=10, seed=0...\n"
     ]
    },
    {
     "name": "stdout",
     "output_type": "stream",
     "text": [
      "\t[32/1232]\tRL_CNN: gamma_trade=0.1, gamma_risk=10, gamma_hold=100, seed=0...\n"
     ]
    },
    {
     "name": "stdout",
     "output_type": "stream",
     "text": [
      "\t[33/1232]\tRL_CNN: gamma_trade=0.1, gamma_risk=10, gamma_hold=1000, seed=0...\n"
     ]
    },
    {
     "name": "stdout",
     "output_type": "stream",
     "text": [
      "\t[34/1232]\tRL_CNN: gamma_trade=0.1, gamma_risk=10, gamma_hold=10000, seed=0...\n"
     ]
    },
    {
     "name": "stdout",
     "output_type": "stream",
     "text": [
      "\t[35/1232]\tRL_CNN: gamma_trade=0.1, gamma_risk=10, gamma_hold=100000, seed=0...\n"
     ]
    },
    {
     "name": "stdout",
     "output_type": "stream",
     "text": [
      "\t[36/1232]\tRL_CNN: gamma_trade=0.1, gamma_risk=18, gamma_hold=0.1, seed=0...\n"
     ]
    },
    {
     "name": "stdout",
     "output_type": "stream",
     "text": [
      "\t[37/1232]\tRL_CNN: gamma_trade=0.1, gamma_risk=18, gamma_hold=1, seed=0...\n"
     ]
    },
    {
     "name": "stdout",
     "output_type": "stream",
     "text": [
      "\t[38/1232]\tRL_CNN: gamma_trade=0.1, gamma_risk=18, gamma_hold=10, seed=0...\n"
     ]
    },
    {
     "name": "stdout",
     "output_type": "stream",
     "text": [
      "\t[39/1232]\tRL_CNN: gamma_trade=0.1, gamma_risk=18, gamma_hold=100, seed=0...\n"
     ]
    },
    {
     "name": "stdout",
     "output_type": "stream",
     "text": [
      "\t[40/1232]\tRL_CNN: gamma_trade=0.1, gamma_risk=18, gamma_hold=1000, seed=0...\n"
     ]
    },
    {
     "name": "stdout",
     "output_type": "stream",
     "text": [
      "\t[41/1232]\tRL_CNN: gamma_trade=0.1, gamma_risk=18, gamma_hold=10000, seed=0...\n"
     ]
    },
    {
     "name": "stdout",
     "output_type": "stream",
     "text": [
      "\t[42/1232]\tRL_CNN: gamma_trade=0.1, gamma_risk=18, gamma_hold=100000, seed=0...\n"
     ]
    },
    {
     "name": "stdout",
     "output_type": "stream",
     "text": [
      "\t[43/1232]\tRL_CNN: gamma_trade=0.1, gamma_risk=32, gamma_hold=0.1, seed=0...\n"
     ]
    },
    {
     "name": "stdout",
     "output_type": "stream",
     "text": [
      "\t[44/1232]\tRL_CNN: gamma_trade=0.1, gamma_risk=32, gamma_hold=1, seed=0...\n"
     ]
    },
    {
     "name": "stdout",
     "output_type": "stream",
     "text": [
      "\t[45/1232]\tRL_CNN: gamma_trade=0.1, gamma_risk=32, gamma_hold=10, seed=0...\n"
     ]
    },
    {
     "name": "stdout",
     "output_type": "stream",
     "text": [
      "\t[46/1232]\tRL_CNN: gamma_trade=0.1, gamma_risk=32, gamma_hold=100, seed=0...\n"
     ]
    },
    {
     "name": "stdout",
     "output_type": "stream",
     "text": [
      "\t[47/1232]\tRL_CNN: gamma_trade=0.1, gamma_risk=32, gamma_hold=1000, seed=0...\n"
     ]
    },
    {
     "name": "stdout",
     "output_type": "stream",
     "text": [
      "\t[48/1232]\tRL_CNN: gamma_trade=0.1, gamma_risk=32, gamma_hold=10000, seed=0...\n"
     ]
    },
    {
     "name": "stdout",
     "output_type": "stream",
     "text": [
      "\t[49/1232]\tRL_CNN: gamma_trade=0.1, gamma_risk=32, gamma_hold=100000, seed=0...\n"
     ]
    },
    {
     "name": "stdout",
     "output_type": "stream",
     "text": [
      "\t[50/1232]\tRL_CNN: gamma_trade=0.1, gamma_risk=56, gamma_hold=0.1, seed=0...\n"
     ]
    },
    {
     "name": "stdout",
     "output_type": "stream",
     "text": [
      "\t[51/1232]\tRL_CNN: gamma_trade=0.1, gamma_risk=56, gamma_hold=1, seed=0...\n"
     ]
    },
    {
     "name": "stdout",
     "output_type": "stream",
     "text": [
      "\t[52/1232]\tRL_CNN: gamma_trade=0.1, gamma_risk=56, gamma_hold=10, seed=0...\n"
     ]
    },
    {
     "name": "stdout",
     "output_type": "stream",
     "text": [
      "\t[53/1232]\tRL_CNN: gamma_trade=0.1, gamma_risk=56, gamma_hold=100, seed=0...\n"
     ]
    },
    {
     "name": "stdout",
     "output_type": "stream",
     "text": [
      "\t[54/1232]\tRL_CNN: gamma_trade=0.1, gamma_risk=56, gamma_hold=1000, seed=0...\n"
     ]
    },
    {
     "name": "stdout",
     "output_type": "stream",
     "text": [
      "\t[55/1232]\tRL_CNN: gamma_trade=0.1, gamma_risk=56, gamma_hold=10000, seed=0...\n"
     ]
    },
    {
     "name": "stdout",
     "output_type": "stream",
     "text": [
      "\t[56/1232]\tRL_CNN: gamma_trade=0.1, gamma_risk=56, gamma_hold=100000, seed=0...\n"
     ]
    },
    {
     "name": "stdout",
     "output_type": "stream",
     "text": [
      "\t[57/1232]\tRL_CNN: gamma_trade=0.1, gamma_risk=100, gamma_hold=0.1, seed=0...\n"
     ]
    },
    {
     "name": "stdout",
     "output_type": "stream",
     "text": [
      "\t[58/1232]\tRL_CNN: gamma_trade=0.1, gamma_risk=100, gamma_hold=1, seed=0...\n"
     ]
    },
    {
     "name": "stdout",
     "output_type": "stream",
     "text": [
      "\t[59/1232]\tRL_CNN: gamma_trade=0.1, gamma_risk=100, gamma_hold=10, seed=0...\n"
     ]
    },
    {
     "name": "stdout",
     "output_type": "stream",
     "text": [
      "\t[60/1232]\tRL_CNN: gamma_trade=0.1, gamma_risk=100, gamma_hold=100, seed=0...\n"
     ]
    },
    {
     "name": "stdout",
     "output_type": "stream",
     "text": [
      "\t[61/1232]\tRL_CNN: gamma_trade=0.1, gamma_risk=100, gamma_hold=1000, seed=0...\n"
     ]
    },
    {
     "name": "stdout",
     "output_type": "stream",
     "text": [
      "\t[62/1232]\tRL_CNN: gamma_trade=0.1, gamma_risk=100, gamma_hold=10000, seed=0...\n"
     ]
    },
    {
     "name": "stdout",
     "output_type": "stream",
     "text": [
      "\t[63/1232]\tRL_CNN: gamma_trade=0.1, gamma_risk=100, gamma_hold=100000, seed=0...\n"
     ]
    },
    {
     "name": "stdout",
     "output_type": "stream",
     "text": [
      "\t[64/1232]\tRL_CNN: gamma_trade=0.1, gamma_risk=178, gamma_hold=0.1, seed=0...\n"
     ]
    },
    {
     "name": "stdout",
     "output_type": "stream",
     "text": [
      "\t[65/1232]\tRL_CNN: gamma_trade=0.1, gamma_risk=178, gamma_hold=1, seed=0...\n"
     ]
    },
    {
     "name": "stdout",
     "output_type": "stream",
     "text": [
      "\t[66/1232]\tRL_CNN: gamma_trade=0.1, gamma_risk=178, gamma_hold=10, seed=0...\n"
     ]
    },
    {
     "name": "stdout",
     "output_type": "stream",
     "text": [
      "\t[67/1232]\tRL_CNN: gamma_trade=0.1, gamma_risk=178, gamma_hold=100, seed=0...\n"
     ]
    },
    {
     "name": "stdout",
     "output_type": "stream",
     "text": [
      "\t[68/1232]\tRL_CNN: gamma_trade=0.1, gamma_risk=178, gamma_hold=1000, seed=0...\n"
     ]
    },
    {
     "name": "stdout",
     "output_type": "stream",
     "text": [
      "\t[69/1232]\tRL_CNN: gamma_trade=0.1, gamma_risk=178, gamma_hold=10000, seed=0...\n"
     ]
    },
    {
     "name": "stdout",
     "output_type": "stream",
     "text": [
      "\t[70/1232]\tRL_CNN: gamma_trade=0.1, gamma_risk=178, gamma_hold=100000, seed=0...\n"
     ]
    },
    {
     "name": "stdout",
     "output_type": "stream",
     "text": [
      "\t[71/1232]\tRL_CNN: gamma_trade=0.1, gamma_risk=316, gamma_hold=0.1, seed=0...\n"
     ]
    },
    {
     "name": "stdout",
     "output_type": "stream",
     "text": [
      "\t[72/1232]\tRL_CNN: gamma_trade=0.1, gamma_risk=316, gamma_hold=1, seed=0...\n"
     ]
    },
    {
     "name": "stdout",
     "output_type": "stream",
     "text": [
      "\t[73/1232]\tRL_CNN: gamma_trade=0.1, gamma_risk=316, gamma_hold=10, seed=0...\n"
     ]
    },
    {
     "name": "stdout",
     "output_type": "stream",
     "text": [
      "\t[74/1232]\tRL_CNN: gamma_trade=0.1, gamma_risk=316, gamma_hold=100, seed=0...\n"
     ]
    },
    {
     "name": "stdout",
     "output_type": "stream",
     "text": [
      "\t[75/1232]\tRL_CNN: gamma_trade=0.1, gamma_risk=316, gamma_hold=1000, seed=0...\n"
     ]
    },
    {
     "name": "stdout",
     "output_type": "stream",
     "text": [
      "\t[76/1232]\tRL_CNN: gamma_trade=0.1, gamma_risk=316, gamma_hold=10000, seed=0...\n"
     ]
    },
    {
     "name": "stdout",
     "output_type": "stream",
     "text": [
      "\t[77/1232]\tRL_CNN: gamma_trade=0.1, gamma_risk=316, gamma_hold=100000, seed=0...\n"
     ]
    },
    {
     "name": "stdout",
     "output_type": "stream",
     "text": [
      "\t[78/1232]\tRL_CNN: gamma_trade=0.1, gamma_risk=562, gamma_hold=0.1, seed=0...\n"
     ]
    },
    {
     "name": "stdout",
     "output_type": "stream",
     "text": [
      "\t[79/1232]\tRL_CNN: gamma_trade=0.1, gamma_risk=562, gamma_hold=1, seed=0...\n"
     ]
    },
    {
     "name": "stdout",
     "output_type": "stream",
     "text": [
      "\t[80/1232]\tRL_CNN: gamma_trade=0.1, gamma_risk=562, gamma_hold=10, seed=0...\n"
     ]
    },
    {
     "name": "stdout",
     "output_type": "stream",
     "text": [
      "\t[81/1232]\tRL_CNN: gamma_trade=0.1, gamma_risk=562, gamma_hold=100, seed=0...\n"
     ]
    },
    {
     "name": "stdout",
     "output_type": "stream",
     "text": [
      "\t[82/1232]\tRL_CNN: gamma_trade=0.1, gamma_risk=562, gamma_hold=1000, seed=0...\n"
     ]
    },
    {
     "name": "stdout",
     "output_type": "stream",
     "text": [
      "\t[83/1232]\tRL_CNN: gamma_trade=0.1, gamma_risk=562, gamma_hold=10000, seed=0...\n"
     ]
    },
    {
     "name": "stdout",
     "output_type": "stream",
     "text": [
      "\t[84/1232]\tRL_CNN: gamma_trade=0.1, gamma_risk=562, gamma_hold=100000, seed=0...\n"
     ]
    },
    {
     "name": "stdout",
     "output_type": "stream",
     "text": [
      "\t[85/1232]\tRL_CNN: gamma_trade=0.1, gamma_risk=1000, gamma_hold=0.1, seed=0...\n"
     ]
    },
    {
     "name": "stdout",
     "output_type": "stream",
     "text": [
      "\t[86/1232]\tRL_CNN: gamma_trade=0.1, gamma_risk=1000, gamma_hold=1, seed=0...\n"
     ]
    },
    {
     "name": "stdout",
     "output_type": "stream",
     "text": [
      "\t[87/1232]\tRL_CNN: gamma_trade=0.1, gamma_risk=1000, gamma_hold=10, seed=0...\n"
     ]
    },
    {
     "name": "stdout",
     "output_type": "stream",
     "text": [
      "\t[88/1232]\tRL_CNN: gamma_trade=0.1, gamma_risk=1000, gamma_hold=100, seed=0...\n"
     ]
    },
    {
     "name": "stdout",
     "output_type": "stream",
     "text": [
      "\t[89/1232]\tRL_CNN: gamma_trade=0.1, gamma_risk=1000, gamma_hold=1000, seed=0...\n"
     ]
    },
    {
     "name": "stdout",
     "output_type": "stream",
     "text": [
      "\t[90/1232]\tRL_CNN: gamma_trade=0.1, gamma_risk=1000, gamma_hold=10000, seed=0...\n"
     ]
    },
    {
     "name": "stdout",
     "output_type": "stream",
     "text": [
      "\t[91/1232]\tRL_CNN: gamma_trade=0.1, gamma_risk=1000, gamma_hold=100000, seed=0...\n"
     ]
    },
    {
     "name": "stdout",
     "output_type": "stream",
     "text": [
      "\t[92/1232]\tRL_CNN: gamma_trade=0.1, gamma_risk=5000, gamma_hold=0.1, seed=0...\n"
     ]
    },
    {
     "name": "stdout",
     "output_type": "stream",
     "text": [
      "\t[93/1232]\tRL_CNN: gamma_trade=0.1, gamma_risk=5000, gamma_hold=1, seed=0...\n"
     ]
    },
    {
     "name": "stdout",
     "output_type": "stream",
     "text": [
      "\t[94/1232]\tRL_CNN: gamma_trade=0.1, gamma_risk=5000, gamma_hold=10, seed=0...\n"
     ]
    },
    {
     "name": "stdout",
     "output_type": "stream",
     "text": [
      "\t[95/1232]\tRL_CNN: gamma_trade=0.1, gamma_risk=5000, gamma_hold=100, seed=0...\n"
     ]
    },
    {
     "name": "stdout",
     "output_type": "stream",
     "text": [
      "\t[96/1232]\tRL_CNN: gamma_trade=0.1, gamma_risk=5000, gamma_hold=1000, seed=0...\n"
     ]
    },
    {
     "name": "stdout",
     "output_type": "stream",
     "text": [
      "\t[97/1232]\tRL_CNN: gamma_trade=0.1, gamma_risk=5000, gamma_hold=10000, seed=0...\n"
     ]
    },
    {
     "name": "stdout",
     "output_type": "stream",
     "text": [
      "\t[98/1232]\tRL_CNN: gamma_trade=0.1, gamma_risk=5000, gamma_hold=100000, seed=0...\n"
     ]
    },
    {
     "name": "stdout",
     "output_type": "stream",
     "text": [
      "\t[99/1232]\tRL_CNN: gamma_trade=0.1, gamma_risk=10000, gamma_hold=0.1, seed=0...\n"
     ]
    },
    {
     "name": "stdout",
     "output_type": "stream",
     "text": [
      "\t[100/1232]\tRL_CNN: gamma_trade=0.1, gamma_risk=10000, gamma_hold=1, seed=0...\n"
     ]
    },
    {
     "name": "stdout",
     "output_type": "stream",
     "text": [
      "\t[101/1232]\tRL_CNN: gamma_trade=0.1, gamma_risk=10000, gamma_hold=10, seed=0...\n"
     ]
    },
    {
     "name": "stdout",
     "output_type": "stream",
     "text": [
      "\t[102/1232]\tRL_CNN: gamma_trade=0.1, gamma_risk=10000, gamma_hold=100, seed=0...\n"
     ]
    },
    {
     "name": "stdout",
     "output_type": "stream",
     "text": [
      "\t[103/1232]\tRL_CNN: gamma_trade=0.1, gamma_risk=10000, gamma_hold=1000, seed=0...\n"
     ]
    },
    {
     "name": "stdout",
     "output_type": "stream",
     "text": [
      "\t[104/1232]\tRL_CNN: gamma_trade=0.1, gamma_risk=10000, gamma_hold=10000, seed=0...\n"
     ]
    },
    {
     "name": "stdout",
     "output_type": "stream",
     "text": [
      "\t[105/1232]\tRL_CNN: gamma_trade=0.1, gamma_risk=10000, gamma_hold=100000, seed=0...\n"
     ]
    },
    {
     "name": "stdout",
     "output_type": "stream",
     "text": [
      "\t[106/1232]\tRL_CNN: gamma_trade=0.1, gamma_risk=100000, gamma_hold=0.1, seed=0...\n"
     ]
    },
    {
     "name": "stdout",
     "output_type": "stream",
     "text": [
      "\t[107/1232]\tRL_CNN: gamma_trade=0.1, gamma_risk=100000, gamma_hold=1, seed=0...\n"
     ]
    },
    {
     "name": "stdout",
     "output_type": "stream",
     "text": [
      "\t[108/1232]\tRL_CNN: gamma_trade=0.1, gamma_risk=100000, gamma_hold=10, seed=0...\n"
     ]
    },
    {
     "name": "stdout",
     "output_type": "stream",
     "text": [
      "\t[109/1232]\tRL_CNN: gamma_trade=0.1, gamma_risk=100000, gamma_hold=100, seed=0...\n"
     ]
    },
    {
     "name": "stdout",
     "output_type": "stream",
     "text": [
      "\t[110/1232]\tRL_CNN: gamma_trade=0.1, gamma_risk=100000, gamma_hold=1000, seed=0...\n"
     ]
    },
    {
     "name": "stdout",
     "output_type": "stream",
     "text": [
      "\t[111/1232]\tRL_CNN: gamma_trade=0.1, gamma_risk=100000, gamma_hold=10000, seed=0...\n"
     ]
    },
    {
     "name": "stdout",
     "output_type": "stream",
     "text": [
      "\t[112/1232]\tRL_CNN: gamma_trade=0.1, gamma_risk=100000, gamma_hold=100000, seed=0...\n"
     ]
    },
    {
     "name": "stdout",
     "output_type": "stream",
     "text": [
      "\t[113/1232]\tRL_CNN: gamma_trade=1, gamma_risk=1, gamma_hold=0.1, seed=0...\n"
     ]
    },
    {
     "name": "stdout",
     "output_type": "stream",
     "text": [
      "\t[114/1232]\tRL_CNN: gamma_trade=1, gamma_risk=1, gamma_hold=1, seed=0...\n"
     ]
    },
    {
     "name": "stdout",
     "output_type": "stream",
     "text": [
      "\t[115/1232]\tRL_CNN: gamma_trade=1, gamma_risk=1, gamma_hold=10, seed=0...\n"
     ]
    },
    {
     "name": "stdout",
     "output_type": "stream",
     "text": [
      "\t[116/1232]\tRL_CNN: gamma_trade=1, gamma_risk=1, gamma_hold=100, seed=0...\n"
     ]
    },
    {
     "name": "stdout",
     "output_type": "stream",
     "text": [
      "\t[117/1232]\tRL_CNN: gamma_trade=1, gamma_risk=1, gamma_hold=1000, seed=0...\n"
     ]
    },
    {
     "name": "stdout",
     "output_type": "stream",
     "text": [
      "\t[118/1232]\tRL_CNN: gamma_trade=1, gamma_risk=1, gamma_hold=10000, seed=0...\n"
     ]
    },
    {
     "name": "stdout",
     "output_type": "stream",
     "text": [
      "\t[119/1232]\tRL_CNN: gamma_trade=1, gamma_risk=1, gamma_hold=100000, seed=0...\n"
     ]
    },
    {
     "name": "stdout",
     "output_type": "stream",
     "text": [
      "\t[120/1232]\tRL_CNN: gamma_trade=1, gamma_risk=2, gamma_hold=0.1, seed=0...\n"
     ]
    },
    {
     "name": "stdout",
     "output_type": "stream",
     "text": [
      "\t[121/1232]\tRL_CNN: gamma_trade=1, gamma_risk=2, gamma_hold=1, seed=0...\n"
     ]
    },
    {
     "name": "stdout",
     "output_type": "stream",
     "text": [
      "\t[122/1232]\tRL_CNN: gamma_trade=1, gamma_risk=2, gamma_hold=10, seed=0...\n",
      "**error for model: trade_1_risk_2_hold_10\n",
      "\t[123/1232]\tRL_CNN: gamma_trade=1, gamma_risk=2, gamma_hold=100, seed=0...\n"
     ]
    },
    {
     "name": "stdout",
     "output_type": "stream",
     "text": [
      "\t[124/1232]\tRL_CNN: gamma_trade=1, gamma_risk=2, gamma_hold=1000, seed=0...\n"
     ]
    },
    {
     "name": "stdout",
     "output_type": "stream",
     "text": [
      "\t[125/1232]\tRL_CNN: gamma_trade=1, gamma_risk=2, gamma_hold=10000, seed=0...\n"
     ]
    },
    {
     "name": "stdout",
     "output_type": "stream",
     "text": [
      "\t[126/1232]\tRL_CNN: gamma_trade=1, gamma_risk=2, gamma_hold=100000, seed=0...\n"
     ]
    },
    {
     "name": "stdout",
     "output_type": "stream",
     "text": [
      "\t[127/1232]\tRL_CNN: gamma_trade=1, gamma_risk=3, gamma_hold=0.1, seed=0...\n"
     ]
    },
    {
     "name": "stdout",
     "output_type": "stream",
     "text": [
      "\t[128/1232]\tRL_CNN: gamma_trade=1, gamma_risk=3, gamma_hold=1, seed=0...\n"
     ]
    },
    {
     "name": "stdout",
     "output_type": "stream",
     "text": [
      "\t[129/1232]\tRL_CNN: gamma_trade=1, gamma_risk=3, gamma_hold=10, seed=0...\n"
     ]
    },
    {
     "name": "stdout",
     "output_type": "stream",
     "text": [
      "\t[130/1232]\tRL_CNN: gamma_trade=1, gamma_risk=3, gamma_hold=100, seed=0...\n"
     ]
    },
    {
     "name": "stdout",
     "output_type": "stream",
     "text": [
      "\t[131/1232]\tRL_CNN: gamma_trade=1, gamma_risk=3, gamma_hold=1000, seed=0...\n"
     ]
    },
    {
     "name": "stdout",
     "output_type": "stream",
     "text": [
      "\t[132/1232]\tRL_CNN: gamma_trade=1, gamma_risk=3, gamma_hold=10000, seed=0...\n"
     ]
    },
    {
     "name": "stdout",
     "output_type": "stream",
     "text": [
      "\t[133/1232]\tRL_CNN: gamma_trade=1, gamma_risk=3, gamma_hold=100000, seed=0...\n"
     ]
    },
    {
     "name": "stdout",
     "output_type": "stream",
     "text": [
      "\t[134/1232]\tRL_CNN: gamma_trade=1, gamma_risk=6, gamma_hold=0.1, seed=0...\n"
     ]
    },
    {
     "name": "stdout",
     "output_type": "stream",
     "text": [
      "\t[135/1232]\tRL_CNN: gamma_trade=1, gamma_risk=6, gamma_hold=1, seed=0...\n"
     ]
    },
    {
     "name": "stdout",
     "output_type": "stream",
     "text": [
      "\t[136/1232]\tRL_CNN: gamma_trade=1, gamma_risk=6, gamma_hold=10, seed=0...\n"
     ]
    },
    {
     "name": "stdout",
     "output_type": "stream",
     "text": [
      "\t[137/1232]\tRL_CNN: gamma_trade=1, gamma_risk=6, gamma_hold=100, seed=0...\n"
     ]
    },
    {
     "name": "stdout",
     "output_type": "stream",
     "text": [
      "\t[138/1232]\tRL_CNN: gamma_trade=1, gamma_risk=6, gamma_hold=1000, seed=0...\n"
     ]
    },
    {
     "name": "stdout",
     "output_type": "stream",
     "text": [
      "\t[139/1232]\tRL_CNN: gamma_trade=1, gamma_risk=6, gamma_hold=10000, seed=0...\n"
     ]
    },
    {
     "name": "stdout",
     "output_type": "stream",
     "text": [
      "\t[140/1232]\tRL_CNN: gamma_trade=1, gamma_risk=6, gamma_hold=100000, seed=0...\n"
     ]
    },
    {
     "name": "stdout",
     "output_type": "stream",
     "text": [
      "\t[141/1232]\tRL_CNN: gamma_trade=1, gamma_risk=10, gamma_hold=0.1, seed=0...\n"
     ]
    },
    {
     "name": "stdout",
     "output_type": "stream",
     "text": [
      "\t[142/1232]\tRL_CNN: gamma_trade=1, gamma_risk=10, gamma_hold=1, seed=0...\n"
     ]
    },
    {
     "name": "stdout",
     "output_type": "stream",
     "text": [
      "\t[143/1232]\tRL_CNN: gamma_trade=1, gamma_risk=10, gamma_hold=10, seed=0...\n"
     ]
    },
    {
     "name": "stdout",
     "output_type": "stream",
     "text": [
      "\t[144/1232]\tRL_CNN: gamma_trade=1, gamma_risk=10, gamma_hold=100, seed=0...\n"
     ]
    },
    {
     "name": "stdout",
     "output_type": "stream",
     "text": [
      "\t[145/1232]\tRL_CNN: gamma_trade=1, gamma_risk=10, gamma_hold=1000, seed=0...\n"
     ]
    },
    {
     "name": "stdout",
     "output_type": "stream",
     "text": [
      "\t[146/1232]\tRL_CNN: gamma_trade=1, gamma_risk=10, gamma_hold=10000, seed=0...\n"
     ]
    },
    {
     "name": "stdout",
     "output_type": "stream",
     "text": [
      "\t[147/1232]\tRL_CNN: gamma_trade=1, gamma_risk=10, gamma_hold=100000, seed=0...\n"
     ]
    },
    {
     "name": "stdout",
     "output_type": "stream",
     "text": [
      "\t[148/1232]\tRL_CNN: gamma_trade=1, gamma_risk=18, gamma_hold=0.1, seed=0...\n"
     ]
    },
    {
     "name": "stdout",
     "output_type": "stream",
     "text": [
      "\t[149/1232]\tRL_CNN: gamma_trade=1, gamma_risk=18, gamma_hold=1, seed=0...\n"
     ]
    },
    {
     "name": "stdout",
     "output_type": "stream",
     "text": [
      "\t[150/1232]\tRL_CNN: gamma_trade=1, gamma_risk=18, gamma_hold=10, seed=0...\n"
     ]
    },
    {
     "name": "stdout",
     "output_type": "stream",
     "text": [
      "\t[151/1232]\tRL_CNN: gamma_trade=1, gamma_risk=18, gamma_hold=100, seed=0...\n"
     ]
    },
    {
     "name": "stdout",
     "output_type": "stream",
     "text": [
      "\t[152/1232]\tRL_CNN: gamma_trade=1, gamma_risk=18, gamma_hold=1000, seed=0...\n"
     ]
    },
    {
     "name": "stdout",
     "output_type": "stream",
     "text": [
      "\t[153/1232]\tRL_CNN: gamma_trade=1, gamma_risk=18, gamma_hold=10000, seed=0...\n"
     ]
    },
    {
     "name": "stdout",
     "output_type": "stream",
     "text": [
      "\t[154/1232]\tRL_CNN: gamma_trade=1, gamma_risk=18, gamma_hold=100000, seed=0...\n"
     ]
    },
    {
     "name": "stdout",
     "output_type": "stream",
     "text": [
      "\t[155/1232]\tRL_CNN: gamma_trade=1, gamma_risk=32, gamma_hold=0.1, seed=0...\n"
     ]
    },
    {
     "name": "stdout",
     "output_type": "stream",
     "text": [
      "\t[156/1232]\tRL_CNN: gamma_trade=1, gamma_risk=32, gamma_hold=1, seed=0...\n"
     ]
    },
    {
     "name": "stdout",
     "output_type": "stream",
     "text": [
      "\t[157/1232]\tRL_CNN: gamma_trade=1, gamma_risk=32, gamma_hold=10, seed=0...\n"
     ]
    },
    {
     "name": "stdout",
     "output_type": "stream",
     "text": [
      "\t[158/1232]\tRL_CNN: gamma_trade=1, gamma_risk=32, gamma_hold=100, seed=0...\n"
     ]
    },
    {
     "name": "stdout",
     "output_type": "stream",
     "text": [
      "\t[159/1232]\tRL_CNN: gamma_trade=1, gamma_risk=32, gamma_hold=1000, seed=0...\n"
     ]
    },
    {
     "name": "stdout",
     "output_type": "stream",
     "text": [
      "\t[160/1232]\tRL_CNN: gamma_trade=1, gamma_risk=32, gamma_hold=10000, seed=0...\n"
     ]
    },
    {
     "name": "stdout",
     "output_type": "stream",
     "text": [
      "\t[161/1232]\tRL_CNN: gamma_trade=1, gamma_risk=32, gamma_hold=100000, seed=0...\n"
     ]
    },
    {
     "name": "stdout",
     "output_type": "stream",
     "text": [
      "\t[162/1232]\tRL_CNN: gamma_trade=1, gamma_risk=56, gamma_hold=0.1, seed=0...\n"
     ]
    },
    {
     "name": "stdout",
     "output_type": "stream",
     "text": [
      "\t[163/1232]\tRL_CNN: gamma_trade=1, gamma_risk=56, gamma_hold=1, seed=0...\n"
     ]
    },
    {
     "name": "stdout",
     "output_type": "stream",
     "text": [
      "\t[164/1232]\tRL_CNN: gamma_trade=1, gamma_risk=56, gamma_hold=10, seed=0...\n"
     ]
    },
    {
     "name": "stdout",
     "output_type": "stream",
     "text": [
      "\t[165/1232]\tRL_CNN: gamma_trade=1, gamma_risk=56, gamma_hold=100, seed=0...\n"
     ]
    },
    {
     "name": "stdout",
     "output_type": "stream",
     "text": [
      "\t[166/1232]\tRL_CNN: gamma_trade=1, gamma_risk=56, gamma_hold=1000, seed=0...\n"
     ]
    },
    {
     "name": "stdout",
     "output_type": "stream",
     "text": [
      "\t[167/1232]\tRL_CNN: gamma_trade=1, gamma_risk=56, gamma_hold=10000, seed=0...\n"
     ]
    },
    {
     "name": "stdout",
     "output_type": "stream",
     "text": [
      "\t[168/1232]\tRL_CNN: gamma_trade=1, gamma_risk=56, gamma_hold=100000, seed=0...\n"
     ]
    },
    {
     "name": "stdout",
     "output_type": "stream",
     "text": [
      "\t[169/1232]\tRL_CNN: gamma_trade=1, gamma_risk=100, gamma_hold=0.1, seed=0...\n"
     ]
    },
    {
     "name": "stdout",
     "output_type": "stream",
     "text": [
      "\t[170/1232]\tRL_CNN: gamma_trade=1, gamma_risk=100, gamma_hold=1, seed=0...\n"
     ]
    },
    {
     "name": "stdout",
     "output_type": "stream",
     "text": [
      "\t[171/1232]\tRL_CNN: gamma_trade=1, gamma_risk=100, gamma_hold=10, seed=0...\n"
     ]
    },
    {
     "name": "stdout",
     "output_type": "stream",
     "text": [
      "\t[172/1232]\tRL_CNN: gamma_trade=1, gamma_risk=100, gamma_hold=100, seed=0...\n"
     ]
    },
    {
     "name": "stdout",
     "output_type": "stream",
     "text": [
      "\t[173/1232]\tRL_CNN: gamma_trade=1, gamma_risk=100, gamma_hold=1000, seed=0...\n"
     ]
    },
    {
     "name": "stdout",
     "output_type": "stream",
     "text": [
      "\t[174/1232]\tRL_CNN: gamma_trade=1, gamma_risk=100, gamma_hold=10000, seed=0...\n"
     ]
    },
    {
     "name": "stdout",
     "output_type": "stream",
     "text": [
      "\t[175/1232]\tRL_CNN: gamma_trade=1, gamma_risk=100, gamma_hold=100000, seed=0...\n"
     ]
    },
    {
     "name": "stdout",
     "output_type": "stream",
     "text": [
      "\t[176/1232]\tRL_CNN: gamma_trade=1, gamma_risk=178, gamma_hold=0.1, seed=0...\n"
     ]
    },
    {
     "name": "stdout",
     "output_type": "stream",
     "text": [
      "\t[177/1232]\tRL_CNN: gamma_trade=1, gamma_risk=178, gamma_hold=1, seed=0...\n"
     ]
    },
    {
     "name": "stdout",
     "output_type": "stream",
     "text": [
      "\t[178/1232]\tRL_CNN: gamma_trade=1, gamma_risk=178, gamma_hold=10, seed=0...\n"
     ]
    },
    {
     "name": "stdout",
     "output_type": "stream",
     "text": [
      "\t[179/1232]\tRL_CNN: gamma_trade=1, gamma_risk=178, gamma_hold=100, seed=0...\n"
     ]
    },
    {
     "name": "stdout",
     "output_type": "stream",
     "text": [
      "\t[180/1232]\tRL_CNN: gamma_trade=1, gamma_risk=178, gamma_hold=1000, seed=0...\n"
     ]
    },
    {
     "name": "stdout",
     "output_type": "stream",
     "text": [
      "\t[181/1232]\tRL_CNN: gamma_trade=1, gamma_risk=178, gamma_hold=10000, seed=0...\n"
     ]
    },
    {
     "name": "stdout",
     "output_type": "stream",
     "text": [
      "\t[182/1232]\tRL_CNN: gamma_trade=1, gamma_risk=178, gamma_hold=100000, seed=0...\n"
     ]
    },
    {
     "name": "stdout",
     "output_type": "stream",
     "text": [
      "\t[183/1232]\tRL_CNN: gamma_trade=1, gamma_risk=316, gamma_hold=0.1, seed=0...\n"
     ]
    },
    {
     "name": "stdout",
     "output_type": "stream",
     "text": [
      "\t[184/1232]\tRL_CNN: gamma_trade=1, gamma_risk=316, gamma_hold=1, seed=0...\n"
     ]
    },
    {
     "name": "stdout",
     "output_type": "stream",
     "text": [
      "\t[185/1232]\tRL_CNN: gamma_trade=1, gamma_risk=316, gamma_hold=10, seed=0...\n"
     ]
    },
    {
     "name": "stdout",
     "output_type": "stream",
     "text": [
      "\t[186/1232]\tRL_CNN: gamma_trade=1, gamma_risk=316, gamma_hold=100, seed=0...\n"
     ]
    },
    {
     "name": "stdout",
     "output_type": "stream",
     "text": [
      "\t[187/1232]\tRL_CNN: gamma_trade=1, gamma_risk=316, gamma_hold=1000, seed=0...\n"
     ]
    },
    {
     "name": "stdout",
     "output_type": "stream",
     "text": [
      "\t[188/1232]\tRL_CNN: gamma_trade=1, gamma_risk=316, gamma_hold=10000, seed=0...\n"
     ]
    },
    {
     "name": "stdout",
     "output_type": "stream",
     "text": [
      "\t[189/1232]\tRL_CNN: gamma_trade=1, gamma_risk=316, gamma_hold=100000, seed=0...\n"
     ]
    },
    {
     "name": "stdout",
     "output_type": "stream",
     "text": [
      "\t[190/1232]\tRL_CNN: gamma_trade=1, gamma_risk=562, gamma_hold=0.1, seed=0...\n"
     ]
    },
    {
     "name": "stdout",
     "output_type": "stream",
     "text": [
      "\t[191/1232]\tRL_CNN: gamma_trade=1, gamma_risk=562, gamma_hold=1, seed=0...\n"
     ]
    },
    {
     "name": "stdout",
     "output_type": "stream",
     "text": [
      "\t[192/1232]\tRL_CNN: gamma_trade=1, gamma_risk=562, gamma_hold=10, seed=0...\n"
     ]
    },
    {
     "name": "stdout",
     "output_type": "stream",
     "text": [
      "\t[193/1232]\tRL_CNN: gamma_trade=1, gamma_risk=562, gamma_hold=100, seed=0...\n"
     ]
    },
    {
     "name": "stdout",
     "output_type": "stream",
     "text": [
      "\t[194/1232]\tRL_CNN: gamma_trade=1, gamma_risk=562, gamma_hold=1000, seed=0...\n"
     ]
    },
    {
     "name": "stdout",
     "output_type": "stream",
     "text": [
      "\t[195/1232]\tRL_CNN: gamma_trade=1, gamma_risk=562, gamma_hold=10000, seed=0...\n"
     ]
    },
    {
     "name": "stdout",
     "output_type": "stream",
     "text": [
      "\t[196/1232]\tRL_CNN: gamma_trade=1, gamma_risk=562, gamma_hold=100000, seed=0...\n"
     ]
    },
    {
     "name": "stdout",
     "output_type": "stream",
     "text": [
      "\t[197/1232]\tRL_CNN: gamma_trade=1, gamma_risk=1000, gamma_hold=0.1, seed=0...\n"
     ]
    },
    {
     "name": "stdout",
     "output_type": "stream",
     "text": [
      "\t[198/1232]\tRL_CNN: gamma_trade=1, gamma_risk=1000, gamma_hold=1, seed=0...\n"
     ]
    },
    {
     "name": "stdout",
     "output_type": "stream",
     "text": [
      "\t[199/1232]\tRL_CNN: gamma_trade=1, gamma_risk=1000, gamma_hold=10, seed=0...\n"
     ]
    },
    {
     "name": "stdout",
     "output_type": "stream",
     "text": [
      "\t[200/1232]\tRL_CNN: gamma_trade=1, gamma_risk=1000, gamma_hold=100, seed=0...\n"
     ]
    },
    {
     "name": "stdout",
     "output_type": "stream",
     "text": [
      "\t[201/1232]\tRL_CNN: gamma_trade=1, gamma_risk=1000, gamma_hold=1000, seed=0...\n"
     ]
    },
    {
     "name": "stdout",
     "output_type": "stream",
     "text": [
      "\t[202/1232]\tRL_CNN: gamma_trade=1, gamma_risk=1000, gamma_hold=10000, seed=0...\n"
     ]
    },
    {
     "name": "stdout",
     "output_type": "stream",
     "text": [
      "\t[203/1232]\tRL_CNN: gamma_trade=1, gamma_risk=1000, gamma_hold=100000, seed=0...\n"
     ]
    },
    {
     "name": "stdout",
     "output_type": "stream",
     "text": [
      "\t[204/1232]\tRL_CNN: gamma_trade=1, gamma_risk=5000, gamma_hold=0.1, seed=0...\n"
     ]
    },
    {
     "name": "stdout",
     "output_type": "stream",
     "text": [
      "\t[205/1232]\tRL_CNN: gamma_trade=1, gamma_risk=5000, gamma_hold=1, seed=0...\n"
     ]
    },
    {
     "name": "stdout",
     "output_type": "stream",
     "text": [
      "\t[206/1232]\tRL_CNN: gamma_trade=1, gamma_risk=5000, gamma_hold=10, seed=0...\n"
     ]
    },
    {
     "name": "stdout",
     "output_type": "stream",
     "text": [
      "\t[207/1232]\tRL_CNN: gamma_trade=1, gamma_risk=5000, gamma_hold=100, seed=0...\n"
     ]
    },
    {
     "name": "stdout",
     "output_type": "stream",
     "text": [
      "\t[208/1232]\tRL_CNN: gamma_trade=1, gamma_risk=5000, gamma_hold=1000, seed=0...\n"
     ]
    },
    {
     "name": "stdout",
     "output_type": "stream",
     "text": [
      "\t[209/1232]\tRL_CNN: gamma_trade=1, gamma_risk=5000, gamma_hold=10000, seed=0...\n"
     ]
    },
    {
     "name": "stdout",
     "output_type": "stream",
     "text": [
      "\t[210/1232]\tRL_CNN: gamma_trade=1, gamma_risk=5000, gamma_hold=100000, seed=0...\n"
     ]
    },
    {
     "name": "stdout",
     "output_type": "stream",
     "text": [
      "\t[211/1232]\tRL_CNN: gamma_trade=1, gamma_risk=10000, gamma_hold=0.1, seed=0...\n"
     ]
    },
    {
     "name": "stdout",
     "output_type": "stream",
     "text": [
      "\t[212/1232]\tRL_CNN: gamma_trade=1, gamma_risk=10000, gamma_hold=1, seed=0...\n"
     ]
    },
    {
     "name": "stdout",
     "output_type": "stream",
     "text": [
      "\t[213/1232]\tRL_CNN: gamma_trade=1, gamma_risk=10000, gamma_hold=10, seed=0...\n"
     ]
    },
    {
     "name": "stdout",
     "output_type": "stream",
     "text": [
      "\t[214/1232]\tRL_CNN: gamma_trade=1, gamma_risk=10000, gamma_hold=100, seed=0...\n"
     ]
    },
    {
     "name": "stdout",
     "output_type": "stream",
     "text": [
      "\t[215/1232]\tRL_CNN: gamma_trade=1, gamma_risk=10000, gamma_hold=1000, seed=0...\n"
     ]
    },
    {
     "name": "stdout",
     "output_type": "stream",
     "text": [
      "\t[216/1232]\tRL_CNN: gamma_trade=1, gamma_risk=10000, gamma_hold=10000, seed=0...\n"
     ]
    },
    {
     "name": "stdout",
     "output_type": "stream",
     "text": [
      "\t[217/1232]\tRL_CNN: gamma_trade=1, gamma_risk=10000, gamma_hold=100000, seed=0...\n"
     ]
    },
    {
     "name": "stdout",
     "output_type": "stream",
     "text": [
      "\t[218/1232]\tRL_CNN: gamma_trade=1, gamma_risk=100000, gamma_hold=0.1, seed=0...\n"
     ]
    },
    {
     "name": "stdout",
     "output_type": "stream",
     "text": [
      "\t[219/1232]\tRL_CNN: gamma_trade=1, gamma_risk=100000, gamma_hold=1, seed=0...\n"
     ]
    },
    {
     "name": "stdout",
     "output_type": "stream",
     "text": [
      "\t[220/1232]\tRL_CNN: gamma_trade=1, gamma_risk=100000, gamma_hold=10, seed=0...\n"
     ]
    },
    {
     "name": "stdout",
     "output_type": "stream",
     "text": [
      "\t[221/1232]\tRL_CNN: gamma_trade=1, gamma_risk=100000, gamma_hold=100, seed=0...\n"
     ]
    },
    {
     "name": "stdout",
     "output_type": "stream",
     "text": [
      "\t[222/1232]\tRL_CNN: gamma_trade=1, gamma_risk=100000, gamma_hold=1000, seed=0...\n"
     ]
    },
    {
     "name": "stdout",
     "output_type": "stream",
     "text": [
      "\t[223/1232]\tRL_CNN: gamma_trade=1, gamma_risk=100000, gamma_hold=10000, seed=0...\n"
     ]
    },
    {
     "name": "stdout",
     "output_type": "stream",
     "text": [
      "\t[224/1232]\tRL_CNN: gamma_trade=1, gamma_risk=100000, gamma_hold=100000, seed=0...\n"
     ]
    },
    {
     "name": "stdout",
     "output_type": "stream",
     "text": [
      "\t[225/1232]\tRL_CNN: gamma_trade=7, gamma_risk=1, gamma_hold=0.1, seed=0...\n"
     ]
    },
    {
     "name": "stdout",
     "output_type": "stream",
     "text": [
      "\t[226/1232]\tRL_CNN: gamma_trade=7, gamma_risk=1, gamma_hold=1, seed=0...\n"
     ]
    },
    {
     "name": "stdout",
     "output_type": "stream",
     "text": [
      "\t[227/1232]\tRL_CNN: gamma_trade=7, gamma_risk=1, gamma_hold=10, seed=0...\n"
     ]
    },
    {
     "name": "stdout",
     "output_type": "stream",
     "text": [
      "\t[228/1232]\tRL_CNN: gamma_trade=7, gamma_risk=1, gamma_hold=100, seed=0...\n"
     ]
    },
    {
     "name": "stdout",
     "output_type": "stream",
     "text": [
      "\t[229/1232]\tRL_CNN: gamma_trade=7, gamma_risk=1, gamma_hold=1000, seed=0...\n"
     ]
    },
    {
     "name": "stdout",
     "output_type": "stream",
     "text": [
      "\t[230/1232]\tRL_CNN: gamma_trade=7, gamma_risk=1, gamma_hold=10000, seed=0...\n"
     ]
    },
    {
     "name": "stdout",
     "output_type": "stream",
     "text": [
      "\t[231/1232]\tRL_CNN: gamma_trade=7, gamma_risk=1, gamma_hold=100000, seed=0...\n"
     ]
    },
    {
     "name": "stdout",
     "output_type": "stream",
     "text": [
      "\t[232/1232]\tRL_CNN: gamma_trade=7, gamma_risk=2, gamma_hold=0.1, seed=0...\n"
     ]
    },
    {
     "name": "stdout",
     "output_type": "stream",
     "text": [
      "\t[233/1232]\tRL_CNN: gamma_trade=7, gamma_risk=2, gamma_hold=1, seed=0...\n"
     ]
    },
    {
     "name": "stdout",
     "output_type": "stream",
     "text": [
      "\t[234/1232]\tRL_CNN: gamma_trade=7, gamma_risk=2, gamma_hold=10, seed=0...\n"
     ]
    },
    {
     "name": "stdout",
     "output_type": "stream",
     "text": [
      "\t[235/1232]\tRL_CNN: gamma_trade=7, gamma_risk=2, gamma_hold=100, seed=0...\n"
     ]
    },
    {
     "name": "stdout",
     "output_type": "stream",
     "text": [
      "\t[236/1232]\tRL_CNN: gamma_trade=7, gamma_risk=2, gamma_hold=1000, seed=0...\n"
     ]
    },
    {
     "name": "stdout",
     "output_type": "stream",
     "text": [
      "\t[237/1232]\tRL_CNN: gamma_trade=7, gamma_risk=2, gamma_hold=10000, seed=0...\n"
     ]
    },
    {
     "name": "stdout",
     "output_type": "stream",
     "text": [
      "\t[238/1232]\tRL_CNN: gamma_trade=7, gamma_risk=2, gamma_hold=100000, seed=0...\n"
     ]
    },
    {
     "name": "stdout",
     "output_type": "stream",
     "text": [
      "\t[239/1232]\tRL_CNN: gamma_trade=7, gamma_risk=3, gamma_hold=0.1, seed=0...\n"
     ]
    },
    {
     "name": "stdout",
     "output_type": "stream",
     "text": [
      "\t[240/1232]\tRL_CNN: gamma_trade=7, gamma_risk=3, gamma_hold=1, seed=0...\n"
     ]
    },
    {
     "name": "stdout",
     "output_type": "stream",
     "text": [
      "\t[241/1232]\tRL_CNN: gamma_trade=7, gamma_risk=3, gamma_hold=10, seed=0...\n"
     ]
    },
    {
     "name": "stdout",
     "output_type": "stream",
     "text": [
      "\t[242/1232]\tRL_CNN: gamma_trade=7, gamma_risk=3, gamma_hold=100, seed=0...\n"
     ]
    },
    {
     "name": "stdout",
     "output_type": "stream",
     "text": [
      "\t[243/1232]\tRL_CNN: gamma_trade=7, gamma_risk=3, gamma_hold=1000, seed=0...\n"
     ]
    },
    {
     "name": "stdout",
     "output_type": "stream",
     "text": [
      "\t[244/1232]\tRL_CNN: gamma_trade=7, gamma_risk=3, gamma_hold=10000, seed=0...\n"
     ]
    },
    {
     "name": "stdout",
     "output_type": "stream",
     "text": [
      "\t[245/1232]\tRL_CNN: gamma_trade=7, gamma_risk=3, gamma_hold=100000, seed=0...\n"
     ]
    },
    {
     "name": "stdout",
     "output_type": "stream",
     "text": [
      "\t[246/1232]\tRL_CNN: gamma_trade=7, gamma_risk=6, gamma_hold=0.1, seed=0...\n"
     ]
    },
    {
     "name": "stdout",
     "output_type": "stream",
     "text": [
      "\t[247/1232]\tRL_CNN: gamma_trade=7, gamma_risk=6, gamma_hold=1, seed=0...\n"
     ]
    },
    {
     "name": "stdout",
     "output_type": "stream",
     "text": [
      "\t[248/1232]\tRL_CNN: gamma_trade=7, gamma_risk=6, gamma_hold=10, seed=0...\n"
     ]
    },
    {
     "name": "stdout",
     "output_type": "stream",
     "text": [
      "\t[249/1232]\tRL_CNN: gamma_trade=7, gamma_risk=6, gamma_hold=100, seed=0...\n"
     ]
    },
    {
     "name": "stdout",
     "output_type": "stream",
     "text": [
      "\t[250/1232]\tRL_CNN: gamma_trade=7, gamma_risk=6, gamma_hold=1000, seed=0...\n"
     ]
    },
    {
     "name": "stdout",
     "output_type": "stream",
     "text": [
      "\t[251/1232]\tRL_CNN: gamma_trade=7, gamma_risk=6, gamma_hold=10000, seed=0...\n"
     ]
    },
    {
     "name": "stdout",
     "output_type": "stream",
     "text": [
      "\t[252/1232]\tRL_CNN: gamma_trade=7, gamma_risk=6, gamma_hold=100000, seed=0...\n"
     ]
    },
    {
     "name": "stdout",
     "output_type": "stream",
     "text": [
      "\t[253/1232]\tRL_CNN: gamma_trade=7, gamma_risk=10, gamma_hold=0.1, seed=0...\n"
     ]
    },
    {
     "name": "stdout",
     "output_type": "stream",
     "text": [
      "\t[254/1232]\tRL_CNN: gamma_trade=7, gamma_risk=10, gamma_hold=1, seed=0...\n"
     ]
    },
    {
     "name": "stdout",
     "output_type": "stream",
     "text": [
      "\t[255/1232]\tRL_CNN: gamma_trade=7, gamma_risk=10, gamma_hold=10, seed=0...\n"
     ]
    },
    {
     "name": "stdout",
     "output_type": "stream",
     "text": [
      "\t[256/1232]\tRL_CNN: gamma_trade=7, gamma_risk=10, gamma_hold=100, seed=0...\n"
     ]
    },
    {
     "name": "stdout",
     "output_type": "stream",
     "text": [
      "\t[257/1232]\tRL_CNN: gamma_trade=7, gamma_risk=10, gamma_hold=1000, seed=0...\n"
     ]
    },
    {
     "name": "stdout",
     "output_type": "stream",
     "text": [
      "\t[258/1232]\tRL_CNN: gamma_trade=7, gamma_risk=10, gamma_hold=10000, seed=0...\n"
     ]
    },
    {
     "name": "stdout",
     "output_type": "stream",
     "text": [
      "\t[259/1232]\tRL_CNN: gamma_trade=7, gamma_risk=10, gamma_hold=100000, seed=0...\n"
     ]
    },
    {
     "name": "stdout",
     "output_type": "stream",
     "text": [
      "\t[260/1232]\tRL_CNN: gamma_trade=7, gamma_risk=18, gamma_hold=0.1, seed=0...\n"
     ]
    },
    {
     "name": "stdout",
     "output_type": "stream",
     "text": [
      "\t[261/1232]\tRL_CNN: gamma_trade=7, gamma_risk=18, gamma_hold=1, seed=0...\n"
     ]
    },
    {
     "name": "stdout",
     "output_type": "stream",
     "text": [
      "\t[262/1232]\tRL_CNN: gamma_trade=7, gamma_risk=18, gamma_hold=10, seed=0...\n"
     ]
    },
    {
     "name": "stdout",
     "output_type": "stream",
     "text": [
      "\t[263/1232]\tRL_CNN: gamma_trade=7, gamma_risk=18, gamma_hold=100, seed=0...\n"
     ]
    },
    {
     "name": "stdout",
     "output_type": "stream",
     "text": [
      "\t[264/1232]\tRL_CNN: gamma_trade=7, gamma_risk=18, gamma_hold=1000, seed=0...\n"
     ]
    },
    {
     "name": "stdout",
     "output_type": "stream",
     "text": [
      "\t[265/1232]\tRL_CNN: gamma_trade=7, gamma_risk=18, gamma_hold=10000, seed=0...\n"
     ]
    },
    {
     "name": "stdout",
     "output_type": "stream",
     "text": [
      "\t[266/1232]\tRL_CNN: gamma_trade=7, gamma_risk=18, gamma_hold=100000, seed=0...\n"
     ]
    },
    {
     "name": "stdout",
     "output_type": "stream",
     "text": [
      "\t[267/1232]\tRL_CNN: gamma_trade=7, gamma_risk=32, gamma_hold=0.1, seed=0...\n"
     ]
    },
    {
     "name": "stdout",
     "output_type": "stream",
     "text": [
      "\t[268/1232]\tRL_CNN: gamma_trade=7, gamma_risk=32, gamma_hold=1, seed=0...\n"
     ]
    },
    {
     "name": "stdout",
     "output_type": "stream",
     "text": [
      "\t[269/1232]\tRL_CNN: gamma_trade=7, gamma_risk=32, gamma_hold=10, seed=0...\n"
     ]
    },
    {
     "name": "stdout",
     "output_type": "stream",
     "text": [
      "\t[270/1232]\tRL_CNN: gamma_trade=7, gamma_risk=32, gamma_hold=100, seed=0...\n"
     ]
    },
    {
     "name": "stdout",
     "output_type": "stream",
     "text": [
      "\t[271/1232]\tRL_CNN: gamma_trade=7, gamma_risk=32, gamma_hold=1000, seed=0...\n"
     ]
    },
    {
     "name": "stdout",
     "output_type": "stream",
     "text": [
      "\t[272/1232]\tRL_CNN: gamma_trade=7, gamma_risk=32, gamma_hold=10000, seed=0...\n"
     ]
    },
    {
     "name": "stdout",
     "output_type": "stream",
     "text": [
      "\t[273/1232]\tRL_CNN: gamma_trade=7, gamma_risk=32, gamma_hold=100000, seed=0...\n"
     ]
    },
    {
     "name": "stdout",
     "output_type": "stream",
     "text": [
      "\t[274/1232]\tRL_CNN: gamma_trade=7, gamma_risk=56, gamma_hold=0.1, seed=0...\n"
     ]
    },
    {
     "name": "stdout",
     "output_type": "stream",
     "text": [
      "\t[275/1232]\tRL_CNN: gamma_trade=7, gamma_risk=56, gamma_hold=1, seed=0...\n"
     ]
    },
    {
     "name": "stdout",
     "output_type": "stream",
     "text": [
      "\t[276/1232]\tRL_CNN: gamma_trade=7, gamma_risk=56, gamma_hold=10, seed=0...\n"
     ]
    },
    {
     "name": "stdout",
     "output_type": "stream",
     "text": [
      "\t[277/1232]\tRL_CNN: gamma_trade=7, gamma_risk=56, gamma_hold=100, seed=0...\n"
     ]
    },
    {
     "name": "stdout",
     "output_type": "stream",
     "text": [
      "\t[278/1232]\tRL_CNN: gamma_trade=7, gamma_risk=56, gamma_hold=1000, seed=0...\n"
     ]
    },
    {
     "name": "stdout",
     "output_type": "stream",
     "text": [
      "\t[279/1232]\tRL_CNN: gamma_trade=7, gamma_risk=56, gamma_hold=10000, seed=0...\n"
     ]
    },
    {
     "name": "stdout",
     "output_type": "stream",
     "text": [
      "\t[280/1232]\tRL_CNN: gamma_trade=7, gamma_risk=56, gamma_hold=100000, seed=0...\n"
     ]
    },
    {
     "name": "stdout",
     "output_type": "stream",
     "text": [
      "\t[281/1232]\tRL_CNN: gamma_trade=7, gamma_risk=100, gamma_hold=0.1, seed=0...\n"
     ]
    },
    {
     "name": "stdout",
     "output_type": "stream",
     "text": [
      "\t[282/1232]\tRL_CNN: gamma_trade=7, gamma_risk=100, gamma_hold=1, seed=0...\n"
     ]
    },
    {
     "name": "stdout",
     "output_type": "stream",
     "text": [
      "\t[283/1232]\tRL_CNN: gamma_trade=7, gamma_risk=100, gamma_hold=10, seed=0...\n"
     ]
    },
    {
     "name": "stdout",
     "output_type": "stream",
     "text": [
      "\t[284/1232]\tRL_CNN: gamma_trade=7, gamma_risk=100, gamma_hold=100, seed=0...\n"
     ]
    },
    {
     "name": "stdout",
     "output_type": "stream",
     "text": [
      "\t[285/1232]\tRL_CNN: gamma_trade=7, gamma_risk=100, gamma_hold=1000, seed=0...\n"
     ]
    },
    {
     "name": "stdout",
     "output_type": "stream",
     "text": [
      "\t[286/1232]\tRL_CNN: gamma_trade=7, gamma_risk=100, gamma_hold=10000, seed=0...\n"
     ]
    },
    {
     "name": "stdout",
     "output_type": "stream",
     "text": [
      "\t[287/1232]\tRL_CNN: gamma_trade=7, gamma_risk=100, gamma_hold=100000, seed=0...\n"
     ]
    },
    {
     "name": "stdout",
     "output_type": "stream",
     "text": [
      "\t[288/1232]\tRL_CNN: gamma_trade=7, gamma_risk=178, gamma_hold=0.1, seed=0...\n"
     ]
    },
    {
     "name": "stdout",
     "output_type": "stream",
     "text": [
      "\t[289/1232]\tRL_CNN: gamma_trade=7, gamma_risk=178, gamma_hold=1, seed=0...\n"
     ]
    },
    {
     "name": "stdout",
     "output_type": "stream",
     "text": [
      "\t[290/1232]\tRL_CNN: gamma_trade=7, gamma_risk=178, gamma_hold=10, seed=0...\n"
     ]
    },
    {
     "name": "stdout",
     "output_type": "stream",
     "text": [
      "\t[291/1232]\tRL_CNN: gamma_trade=7, gamma_risk=178, gamma_hold=100, seed=0...\n"
     ]
    },
    {
     "name": "stdout",
     "output_type": "stream",
     "text": [
      "\t[292/1232]\tRL_CNN: gamma_trade=7, gamma_risk=178, gamma_hold=1000, seed=0...\n"
     ]
    },
    {
     "name": "stdout",
     "output_type": "stream",
     "text": [
      "\t[293/1232]\tRL_CNN: gamma_trade=7, gamma_risk=178, gamma_hold=10000, seed=0...\n"
     ]
    },
    {
     "name": "stdout",
     "output_type": "stream",
     "text": [
      "\t[294/1232]\tRL_CNN: gamma_trade=7, gamma_risk=178, gamma_hold=100000, seed=0...\n"
     ]
    },
    {
     "name": "stdout",
     "output_type": "stream",
     "text": [
      "\t[295/1232]\tRL_CNN: gamma_trade=7, gamma_risk=316, gamma_hold=0.1, seed=0...\n"
     ]
    },
    {
     "name": "stdout",
     "output_type": "stream",
     "text": [
      "\t[296/1232]\tRL_CNN: gamma_trade=7, gamma_risk=316, gamma_hold=1, seed=0...\n"
     ]
    },
    {
     "name": "stdout",
     "output_type": "stream",
     "text": [
      "\t[297/1232]\tRL_CNN: gamma_trade=7, gamma_risk=316, gamma_hold=10, seed=0...\n"
     ]
    },
    {
     "name": "stdout",
     "output_type": "stream",
     "text": [
      "\t[298/1232]\tRL_CNN: gamma_trade=7, gamma_risk=316, gamma_hold=100, seed=0...\n"
     ]
    },
    {
     "name": "stdout",
     "output_type": "stream",
     "text": [
      "\t[299/1232]\tRL_CNN: gamma_trade=7, gamma_risk=316, gamma_hold=1000, seed=0...\n"
     ]
    },
    {
     "name": "stdout",
     "output_type": "stream",
     "text": [
      "\t[300/1232]\tRL_CNN: gamma_trade=7, gamma_risk=316, gamma_hold=10000, seed=0...\n"
     ]
    },
    {
     "name": "stdout",
     "output_type": "stream",
     "text": [
      "\t[301/1232]\tRL_CNN: gamma_trade=7, gamma_risk=316, gamma_hold=100000, seed=0...\n"
     ]
    },
    {
     "name": "stdout",
     "output_type": "stream",
     "text": [
      "\t[302/1232]\tRL_CNN: gamma_trade=7, gamma_risk=562, gamma_hold=0.1, seed=0...\n"
     ]
    },
    {
     "name": "stdout",
     "output_type": "stream",
     "text": [
      "\t[303/1232]\tRL_CNN: gamma_trade=7, gamma_risk=562, gamma_hold=1, seed=0...\n"
     ]
    },
    {
     "name": "stdout",
     "output_type": "stream",
     "text": [
      "\t[304/1232]\tRL_CNN: gamma_trade=7, gamma_risk=562, gamma_hold=10, seed=0...\n"
     ]
    },
    {
     "name": "stdout",
     "output_type": "stream",
     "text": [
      "\t[305/1232]\tRL_CNN: gamma_trade=7, gamma_risk=562, gamma_hold=100, seed=0...\n"
     ]
    },
    {
     "name": "stdout",
     "output_type": "stream",
     "text": [
      "\t[306/1232]\tRL_CNN: gamma_trade=7, gamma_risk=562, gamma_hold=1000, seed=0...\n"
     ]
    },
    {
     "name": "stdout",
     "output_type": "stream",
     "text": [
      "\t[307/1232]\tRL_CNN: gamma_trade=7, gamma_risk=562, gamma_hold=10000, seed=0...\n"
     ]
    },
    {
     "name": "stdout",
     "output_type": "stream",
     "text": [
      "\t[308/1232]\tRL_CNN: gamma_trade=7, gamma_risk=562, gamma_hold=100000, seed=0...\n"
     ]
    },
    {
     "name": "stdout",
     "output_type": "stream",
     "text": [
      "\t[309/1232]\tRL_CNN: gamma_trade=7, gamma_risk=1000, gamma_hold=0.1, seed=0...\n"
     ]
    },
    {
     "name": "stdout",
     "output_type": "stream",
     "text": [
      "\t[310/1232]\tRL_CNN: gamma_trade=7, gamma_risk=1000, gamma_hold=1, seed=0...\n"
     ]
    },
    {
     "name": "stdout",
     "output_type": "stream",
     "text": [
      "\t[311/1232]\tRL_CNN: gamma_trade=7, gamma_risk=1000, gamma_hold=10, seed=0...\n"
     ]
    },
    {
     "name": "stdout",
     "output_type": "stream",
     "text": [
      "\t[312/1232]\tRL_CNN: gamma_trade=7, gamma_risk=1000, gamma_hold=100, seed=0...\n"
     ]
    },
    {
     "name": "stdout",
     "output_type": "stream",
     "text": [
      "\t[313/1232]\tRL_CNN: gamma_trade=7, gamma_risk=1000, gamma_hold=1000, seed=0...\n"
     ]
    },
    {
     "name": "stdout",
     "output_type": "stream",
     "text": [
      "\t[314/1232]\tRL_CNN: gamma_trade=7, gamma_risk=1000, gamma_hold=10000, seed=0...\n"
     ]
    },
    {
     "name": "stdout",
     "output_type": "stream",
     "text": [
      "\t[315/1232]\tRL_CNN: gamma_trade=7, gamma_risk=1000, gamma_hold=100000, seed=0...\n"
     ]
    },
    {
     "name": "stdout",
     "output_type": "stream",
     "text": [
      "\t[316/1232]\tRL_CNN: gamma_trade=7, gamma_risk=5000, gamma_hold=0.1, seed=0...\n"
     ]
    },
    {
     "name": "stdout",
     "output_type": "stream",
     "text": [
      "\t[317/1232]\tRL_CNN: gamma_trade=7, gamma_risk=5000, gamma_hold=1, seed=0...\n"
     ]
    },
    {
     "name": "stdout",
     "output_type": "stream",
     "text": [
      "\t[318/1232]\tRL_CNN: gamma_trade=7, gamma_risk=5000, gamma_hold=10, seed=0...\n"
     ]
    },
    {
     "name": "stdout",
     "output_type": "stream",
     "text": [
      "\t[319/1232]\tRL_CNN: gamma_trade=7, gamma_risk=5000, gamma_hold=100, seed=0...\n"
     ]
    },
    {
     "name": "stdout",
     "output_type": "stream",
     "text": [
      "\t[320/1232]\tRL_CNN: gamma_trade=7, gamma_risk=5000, gamma_hold=1000, seed=0...\n"
     ]
    },
    {
     "name": "stdout",
     "output_type": "stream",
     "text": [
      "\t[321/1232]\tRL_CNN: gamma_trade=7, gamma_risk=5000, gamma_hold=10000, seed=0...\n"
     ]
    },
    {
     "name": "stdout",
     "output_type": "stream",
     "text": [
      "\t[322/1232]\tRL_CNN: gamma_trade=7, gamma_risk=5000, gamma_hold=100000, seed=0...\n"
     ]
    },
    {
     "name": "stdout",
     "output_type": "stream",
     "text": [
      "\t[323/1232]\tRL_CNN: gamma_trade=7, gamma_risk=10000, gamma_hold=0.1, seed=0...\n"
     ]
    },
    {
     "name": "stdout",
     "output_type": "stream",
     "text": [
      "\t[324/1232]\tRL_CNN: gamma_trade=7, gamma_risk=10000, gamma_hold=1, seed=0...\n"
     ]
    },
    {
     "name": "stdout",
     "output_type": "stream",
     "text": [
      "\t[325/1232]\tRL_CNN: gamma_trade=7, gamma_risk=10000, gamma_hold=10, seed=0...\n"
     ]
    },
    {
     "name": "stdout",
     "output_type": "stream",
     "text": [
      "\t[326/1232]\tRL_CNN: gamma_trade=7, gamma_risk=10000, gamma_hold=100, seed=0...\n"
     ]
    },
    {
     "name": "stdout",
     "output_type": "stream",
     "text": [
      "\t[327/1232]\tRL_CNN: gamma_trade=7, gamma_risk=10000, gamma_hold=1000, seed=0...\n"
     ]
    },
    {
     "name": "stdout",
     "output_type": "stream",
     "text": [
      "\t[328/1232]\tRL_CNN: gamma_trade=7, gamma_risk=10000, gamma_hold=10000, seed=0...\n"
     ]
    },
    {
     "name": "stdout",
     "output_type": "stream",
     "text": [
      "\t[329/1232]\tRL_CNN: gamma_trade=7, gamma_risk=10000, gamma_hold=100000, seed=0...\n"
     ]
    },
    {
     "name": "stdout",
     "output_type": "stream",
     "text": [
      "\t[330/1232]\tRL_CNN: gamma_trade=7, gamma_risk=100000, gamma_hold=0.1, seed=0...\n"
     ]
    },
    {
     "name": "stdout",
     "output_type": "stream",
     "text": [
      "\t[331/1232]\tRL_CNN: gamma_trade=7, gamma_risk=100000, gamma_hold=1, seed=0...\n"
     ]
    },
    {
     "name": "stdout",
     "output_type": "stream",
     "text": [
      "\t[332/1232]\tRL_CNN: gamma_trade=7, gamma_risk=100000, gamma_hold=10, seed=0...\n"
     ]
    },
    {
     "name": "stdout",
     "output_type": "stream",
     "text": [
      "\t[333/1232]\tRL_CNN: gamma_trade=7, gamma_risk=100000, gamma_hold=100, seed=0...\n"
     ]
    },
    {
     "name": "stdout",
     "output_type": "stream",
     "text": [
      "\t[334/1232]\tRL_CNN: gamma_trade=7, gamma_risk=100000, gamma_hold=1000, seed=0...\n"
     ]
    },
    {
     "name": "stdout",
     "output_type": "stream",
     "text": [
      "\t[335/1232]\tRL_CNN: gamma_trade=7, gamma_risk=100000, gamma_hold=10000, seed=0...\n"
     ]
    },
    {
     "name": "stdout",
     "output_type": "stream",
     "text": [
      "\t[336/1232]\tRL_CNN: gamma_trade=7, gamma_risk=100000, gamma_hold=100000, seed=0...\n"
     ]
    },
    {
     "name": "stdout",
     "output_type": "stream",
     "text": [
      "\t[337/1232]\tRL_CNN: gamma_trade=8, gamma_risk=1, gamma_hold=0.1, seed=0...\n"
     ]
    },
    {
     "name": "stdout",
     "output_type": "stream",
     "text": [
      "\t[338/1232]\tRL_CNN: gamma_trade=8, gamma_risk=1, gamma_hold=1, seed=0...\n"
     ]
    },
    {
     "name": "stdout",
     "output_type": "stream",
     "text": [
      "\t[339/1232]\tRL_CNN: gamma_trade=8, gamma_risk=1, gamma_hold=10, seed=0...\n"
     ]
    },
    {
     "name": "stdout",
     "output_type": "stream",
     "text": [
      "\t[340/1232]\tRL_CNN: gamma_trade=8, gamma_risk=1, gamma_hold=100, seed=0...\n"
     ]
    },
    {
     "name": "stdout",
     "output_type": "stream",
     "text": [
      "\t[341/1232]\tRL_CNN: gamma_trade=8, gamma_risk=1, gamma_hold=1000, seed=0...\n"
     ]
    },
    {
     "name": "stdout",
     "output_type": "stream",
     "text": [
      "\t[342/1232]\tRL_CNN: gamma_trade=8, gamma_risk=1, gamma_hold=10000, seed=0...\n"
     ]
    },
    {
     "name": "stdout",
     "output_type": "stream",
     "text": [
      "\t[343/1232]\tRL_CNN: gamma_trade=8, gamma_risk=1, gamma_hold=100000, seed=0...\n"
     ]
    },
    {
     "name": "stdout",
     "output_type": "stream",
     "text": [
      "\t[344/1232]\tRL_CNN: gamma_trade=8, gamma_risk=2, gamma_hold=0.1, seed=0...\n"
     ]
    },
    {
     "name": "stdout",
     "output_type": "stream",
     "text": [
      "\t[345/1232]\tRL_CNN: gamma_trade=8, gamma_risk=2, gamma_hold=1, seed=0...\n"
     ]
    },
    {
     "name": "stdout",
     "output_type": "stream",
     "text": [
      "\t[346/1232]\tRL_CNN: gamma_trade=8, gamma_risk=2, gamma_hold=10, seed=0...\n"
     ]
    },
    {
     "name": "stdout",
     "output_type": "stream",
     "text": [
      "\t[347/1232]\tRL_CNN: gamma_trade=8, gamma_risk=2, gamma_hold=100, seed=0...\n"
     ]
    },
    {
     "name": "stdout",
     "output_type": "stream",
     "text": [
      "\t[348/1232]\tRL_CNN: gamma_trade=8, gamma_risk=2, gamma_hold=1000, seed=0...\n"
     ]
    },
    {
     "name": "stdout",
     "output_type": "stream",
     "text": [
      "\t[349/1232]\tRL_CNN: gamma_trade=8, gamma_risk=2, gamma_hold=10000, seed=0...\n"
     ]
    },
    {
     "name": "stdout",
     "output_type": "stream",
     "text": [
      "\t[350/1232]\tRL_CNN: gamma_trade=8, gamma_risk=2, gamma_hold=100000, seed=0...\n"
     ]
    },
    {
     "name": "stdout",
     "output_type": "stream",
     "text": [
      "\t[351/1232]\tRL_CNN: gamma_trade=8, gamma_risk=3, gamma_hold=0.1, seed=0...\n"
     ]
    },
    {
     "name": "stdout",
     "output_type": "stream",
     "text": [
      "\t[352/1232]\tRL_CNN: gamma_trade=8, gamma_risk=3, gamma_hold=1, seed=0...\n"
     ]
    },
    {
     "name": "stdout",
     "output_type": "stream",
     "text": [
      "\t[353/1232]\tRL_CNN: gamma_trade=8, gamma_risk=3, gamma_hold=10, seed=0...\n"
     ]
    },
    {
     "name": "stdout",
     "output_type": "stream",
     "text": [
      "\t[354/1232]\tRL_CNN: gamma_trade=8, gamma_risk=3, gamma_hold=100, seed=0...\n"
     ]
    },
    {
     "name": "stdout",
     "output_type": "stream",
     "text": [
      "\t[355/1232]\tRL_CNN: gamma_trade=8, gamma_risk=3, gamma_hold=1000, seed=0...\n"
     ]
    },
    {
     "name": "stdout",
     "output_type": "stream",
     "text": [
      "\t[356/1232]\tRL_CNN: gamma_trade=8, gamma_risk=3, gamma_hold=10000, seed=0...\n"
     ]
    },
    {
     "name": "stdout",
     "output_type": "stream",
     "text": [
      "\t[357/1232]\tRL_CNN: gamma_trade=8, gamma_risk=3, gamma_hold=100000, seed=0...\n"
     ]
    },
    {
     "name": "stdout",
     "output_type": "stream",
     "text": [
      "\t[358/1232]\tRL_CNN: gamma_trade=8, gamma_risk=6, gamma_hold=0.1, seed=0...\n"
     ]
    },
    {
     "name": "stdout",
     "output_type": "stream",
     "text": [
      "\t[359/1232]\tRL_CNN: gamma_trade=8, gamma_risk=6, gamma_hold=1, seed=0...\n"
     ]
    },
    {
     "name": "stdout",
     "output_type": "stream",
     "text": [
      "\t[360/1232]\tRL_CNN: gamma_trade=8, gamma_risk=6, gamma_hold=10, seed=0...\n"
     ]
    },
    {
     "name": "stdout",
     "output_type": "stream",
     "text": [
      "\t[361/1232]\tRL_CNN: gamma_trade=8, gamma_risk=6, gamma_hold=100, seed=0...\n"
     ]
    },
    {
     "name": "stdout",
     "output_type": "stream",
     "text": [
      "\t[362/1232]\tRL_CNN: gamma_trade=8, gamma_risk=6, gamma_hold=1000, seed=0...\n"
     ]
    },
    {
     "name": "stdout",
     "output_type": "stream",
     "text": [
      "\t[363/1232]\tRL_CNN: gamma_trade=8, gamma_risk=6, gamma_hold=10000, seed=0...\n"
     ]
    },
    {
     "name": "stdout",
     "output_type": "stream",
     "text": [
      "\t[364/1232]\tRL_CNN: gamma_trade=8, gamma_risk=6, gamma_hold=100000, seed=0...\n"
     ]
    }
   ],
   "source": [
    "%%time\n",
    "# make directory for results if it does not exist already\n",
    "maybe_make_dir(RESULTS_DIR)\n",
    "\n",
    "print('creating environment and agent...')\n",
    "env = MultiStockEnv(tickers=TICKERS, \n",
    "                    from_date=FROM,\n",
    "                    until=UNTIL, \n",
    "                    #nb_episodes=100,\n",
    "                    cash_key='USDOLLAR', \n",
    "                    #gamma_risk=GAMMA_RISK, \n",
    "                    #gamma_trade=GAMMA_TRADE,\n",
    "                    #half_spread=HALF_SPREAD, \n",
    "                    nonlin_coef=NONLIN_COEFF, \n",
    "                    power=POWER, \n",
    "                    datadir=DATA_DIR, \n",
    "                    state_lookback_window=20, \n",
    "                    #distribution=EPISODE_DRAW_DISTRIBUTION,\n",
    "                    #days_duration=DAYS_IN_EPISODE, \n",
    "                    mode='backtest', \n",
    "                    random_seed=7,\n",
    "                    init_portfolio=INIT_PORTFOLIO, \n",
    "                    period_in_file_name=FILE_PERIOD, \n",
    "                    nb_forecasts=NB_FORECASTS, \n",
    "                    forecast_type=FORECAST_TYPE,\n",
    "                    use_CNN_state=USE_CNN_STATE,\n",
    "                    verbose=False)\n",
    "\n",
    "agent = Agent(alpha=0.001, \n",
    "              gamma=0.99, \n",
    "              n_assets=len(TICKERS)+1, \n",
    "              tau=5, \n",
    "              lookback_window=20, \n",
    "              n_feature_maps=len(TICKERS)+1,\n",
    "              use_forecasts=USE_FORECASTS,\n",
    "              use_CNN_state=USE_CNN_STATE,\n",
    "              allow_long_short_trades=True)\n",
    "\n",
    "results_dict = {}\n",
    "#actions_dict = {}\n",
    "print('backtesting:')\n",
    "\n",
    "total_backtests = len(SEED_LIST) * len(GAMMA_TRIOS)\n",
    "backtest_counter = 0\n",
    "\n",
    "for RANDOM_SEED in SEED_LIST:\n",
    "    for (GAMMA_TRADE, GAMMA_RISK, GAMMA_HOLD) in GAMMA_TRIOS:\n",
    "        \n",
    "        backtest_counter += 1\n",
    "        print(f'\\t[{backtest_counter}/{total_backtests}]\\t{MODEL_BASE_NAME}: gamma_trade={GAMMA_TRADE}, gamma_risk={GAMMA_RISK}, gamma_hold={GAMMA_HOLD}, seed={RANDOM_SEED}...')\n",
    "        \n",
    "        # load trained RL model for backtesting\n",
    "        SAVED_MODEL_DIR = f'../experiments/{MARKET_NAME}/seeded/{MODEL_BASE_NAME}/seed_{RANDOM_SEED}/trade_{GAMMA_TRADE}_risk_{GAMMA_RISK}_hold_{GAMMA_HOLD}/models/{MODEL_BASE_NAME}_seed_{RANDOM_SEED}_{NB_EPISODES}'\n",
    "        # set dir where actions csv file will be saved\n",
    "        actions_dir = f'../experiments/{MARKET_NAME}/seeded/{MODEL_BASE_NAME}/seed_{RANDOM_SEED}/trade_{GAMMA_TRADE}_risk_{GAMMA_RISK}_hold_{GAMMA_HOLD}'\n",
    "        \n",
    "        try:\n",
    "            rl_rets, rl_actions = backtest(agent, env, weights_file_dir=SAVED_MODEL_DIR, verbose=False)\n",
    "            \n",
    "            #rl_rets = pd.Series(data=rl_rets, index=env.returns.loc[FROM:UNTIL].iloc[1:].index)\n",
    "            #rl_actions = pd.DataFrame(data=rl_actions, index=env.returns.loc[FROM:UNTIL].iloc[0:].index, columns=TICKERS+['USDOLLAR'])\n",
    "            rl_rets = pd.Series(data=rl_rets, index=env.returns.loc[FROM:UNTIL].iloc[:-1].index)\n",
    "            rl_rets = rl_rets.shift(1)\n",
    "            rl_rets.iloc[0] = 0\n",
    "            rl_actions = pd.DataFrame(data=rl_actions[:-1], index=env.returns.loc[FROM:UNTIL].iloc[:-1].index, columns=TICKERS+['USDOLLAR'])\n",
    "            \n",
    "            # save actions\n",
    "            rl_actions.to_csv(f'{actions_dir}/actions.csv')\n",
    "            #print('actions saved.')\n",
    "\n",
    "            cash_rets = env.returns.loc[FROM:UNTIL, env.cash_key].iloc[:-1]\n",
    "            excess_rets = rl_rets - cash_rets\n",
    "\n",
    "            R_e = excess_rets.mean() * 100 * 252\n",
    "            sigma_e = excess_rets.std() * 100 * np.sqrt(252)\n",
    "            sharpe = R_e / sigma_e\n",
    "\n",
    "            results_dict[(GAMMA_TRADE, GAMMA_RISK, GAMMA_HOLD, RANDOM_SEED)] = {'excess_return':R_e, 'excess_risk':sigma_e, 'sharpe':sharpe}\n",
    "        except Exception as e:\n",
    "            print(f'**error for model: trade_{GAMMA_TRADE}_risk_{GAMMA_RISK}_hold_{GAMMA_HOLD}')\n",
    "            #print(e)"
   ]
  },
  {
   "cell_type": "code",
   "execution_count": null,
   "id": "515002b2",
   "metadata": {
    "papermill": {
     "duration": null,
     "end_time": null,
     "exception": null,
     "start_time": null,
     "status": "pending"
    },
    "tags": []
   },
   "outputs": [],
   "source": [
    "results_df = pd.DataFrame(results_dict).T.reset_index()\n",
    "results_df.columns = ['gamma_trade', 'gamma_risk', 'gamma_hold', 'seed', 'excess_return', 'excess_risk', 'sharpe']\n",
    "results_df.to_csv(RESULTS_DIR+TEST_NAME+'.csv', index=False)\n",
    "print('saved.')\n",
    "results_df"
   ]
  },
  {
   "cell_type": "code",
   "execution_count": null,
   "id": "597990bc",
   "metadata": {
    "papermill": {
     "duration": null,
     "end_time": null,
     "exception": null,
     "start_time": null,
     "status": "pending"
    },
    "tags": []
   },
   "outputs": [],
   "source": [
    "# risk-return plot \n",
    "results_df[['excess_return', 'excess_risk']]\\\n",
    "    .rename(\n",
    "        columns={\n",
    "            'excess_return':'Excess Return (%)', \n",
    "            'excess_risk':'Excess Risk (%)'\n",
    "        })\\\n",
    "    .plot(\n",
    "        kind='scatter', \n",
    "        x='Excess Risk (%)', \n",
    "        y='Excess Return (%)', \n",
    "        title='Backtest Resulsts', \n",
    "        alpha=0.8,\n",
    "        figsize=(6,5),\n",
    "        c='C0')\n",
    "\n",
    "# x and y axis limits\n",
    "plt.xlim(left=0.0, right=60.0)\n",
    "plt.ylim(bottom=-10.0, top=70.0)"
   ]
  },
  {
   "cell_type": "code",
   "execution_count": null,
   "id": "7d5559b1",
   "metadata": {
    "papermill": {
     "duration": null,
     "end_time": null,
     "exception": null,
     "start_time": null,
     "status": "pending"
    },
    "tags": []
   },
   "outputs": [],
   "source": [
    "print(f'done backtesting for {MODEL_BASE_NAME}.')"
   ]
  },
  {
   "cell_type": "code",
   "execution_count": null,
   "id": "c2880843",
   "metadata": {
    "papermill": {
     "duration": null,
     "end_time": null,
     "exception": null,
     "start_time": null,
     "status": "pending"
    },
    "tags": []
   },
   "outputs": [],
   "source": [
    "agent.policy"
   ]
  }
 ],
 "metadata": {
  "interpreter": {
   "hash": "949777d72b0d2535278d3dc13498b2535136f6dfe0678499012e853ee9abcab1"
  },
  "kernelspec": {
   "display_name": "Python 3.7.6 64-bit",
   "language": "python",
   "name": "python3"
  },
  "language_info": {
   "codemirror_mode": {
    "name": "ipython",
    "version": 3
   },
   "file_extension": ".py",
   "mimetype": "text/x-python",
   "name": "python",
   "nbconvert_exporter": "python",
   "pygments_lexer": "ipython3",
   "version": "3.7.6"
  },
  "papermill": {
   "default_parameters": {},
   "duration": null,
   "end_time": null,
   "environment_variables": {},
   "exception": null,
   "input_path": "backtest_template.ipynb",
   "output_path": "slave_notebooks/backtests/RL_CNN_NIK_25_(0_etc).ipynb",
   "parameters": {
    "FROM": "2018-01-01",
    "GAMMA_HOLDS": [
     0.1,
     1,
     10,
     100,
     1000,
     10000,
     100000
    ],
    "GAMMA_RISKS": [
     1,
     2,
     3,
     6,
     10,
     18,
     32,
     56,
     100,
     178,
     316,
     562,
     1000,
     5000,
     10000,
     100000
    ],
    "GAMMA_TRADES": [
     0.1,
     1,
     7,
     8,
     9,
     10,
     11,
     12,
     50,
     100,
     1000
    ],
    "MARKET_NAME": "NIK_25",
    "MODEL_BASE_NAME": "RL_CNN",
    "NB_EPISODES": 200,
    "SEED_LIST": [
     0
    ],
    "TICKERS": [
     "9983.T",
     "8035.T",
     "9984.T",
     "6954.T",
     "6367.T",
     "9433.T",
     "4543.T",
     "6857.T",
     "2413.T",
     "4063.T",
     "6971.T",
     "6758.T",
     "4519.T",
     "6762.T",
     "6645.T",
     "9613.T",
     "7203.T",
     "7733.T",
     "4901.T",
     "4503.T",
     "2801.T",
     "4568.T",
     "7832.T",
     "4523.T"
    ],
    "UNTIL": "2020-01-01"
   },
   "start_time": "2022-06-28T15:26:29.321836",
   "version": "2.3.3"
  }
 },
 "nbformat": 4,
 "nbformat_minor": 5
}