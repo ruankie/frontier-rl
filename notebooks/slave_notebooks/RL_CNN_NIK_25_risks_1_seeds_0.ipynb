{
 "cells": [
  {
   "cell_type": "code",
   "execution_count": 1,
   "id": "e2866633",
   "metadata": {
    "execution": {
     "iopub.execute_input": "2022-06-28T06:30:53.323258Z",
     "iopub.status.busy": "2022-06-28T06:30:53.322033Z",
     "iopub.status.idle": "2022-06-28T06:30:58.113864Z",
     "shell.execute_reply": "2022-06-28T06:30:58.106385Z"
    },
    "papermill": {
     "duration": 4.80827,
     "end_time": "2022-06-28T06:30:58.118369",
     "exception": false,
     "start_time": "2022-06-28T06:30:53.310099",
     "status": "completed"
    },
    "tags": []
   },
   "outputs": [
    {
     "name": "stdout",
     "output_type": "stream",
     "text": [
      "CPU times: user 3.19 s, sys: 1.72 s, total: 4.91 s\n",
      "Wall time: 4.75 s\n"
     ]
    }
   ],
   "source": [
    "%%time\n",
    "import numpy as np\n",
    "import pandas as pd\n",
    "import matplotlib.pyplot as plt\n",
    "import datetime\n",
    "import os\n",
    "from src.models.frontier import MultiStockEnv, Agent, play_one_episode, maybe_make_dir\n",
    "from src.config import market_tickers\n",
    "from src.config.model_config import model_parameters\n",
    "import tensorflow as tf"
   ]
  },
  {
   "cell_type": "code",
   "execution_count": 2,
   "id": "e7a23c76",
   "metadata": {
    "execution": {
     "iopub.execute_input": "2022-06-28T06:30:58.143695Z",
     "iopub.status.busy": "2022-06-28T06:30:58.142529Z",
     "iopub.status.idle": "2022-06-28T06:30:58.181267Z",
     "shell.execute_reply": "2022-06-28T06:30:58.173790Z"
    },
    "papermill": {
     "duration": 0.058973,
     "end_time": "2022-06-28T06:30:58.185922",
     "exception": false,
     "start_time": "2022-06-28T06:30:58.126949",
     "status": "completed"
    },
    "tags": []
   },
   "outputs": [
    {
     "data": {
      "text/plain": [
       "{'RL_CNN': {'use_forecasts': False,\n",
       "  'nb_forecasts': None,\n",
       "  'forecast_type': 'strong',\n",
       "  'use_cnn_state': True},\n",
       " 'RL_str_fcast': {'use_forecasts': True,\n",
       "  'nb_forecasts': 2,\n",
       "  'forecast_type': 'strong',\n",
       "  'use_cnn_state': False},\n",
       " 'RL_all_inp': {'use_forecasts': True,\n",
       "  'nb_forecasts': 2,\n",
       "  'forecast_type': 'strong',\n",
       "  'use_cnn_state': True}}"
      ]
     },
     "execution_count": 2,
     "metadata": {},
     "output_type": "execute_result"
    }
   ],
   "source": [
    "from src.config.model_config import model_parameters\n",
    "model_parameters"
   ]
  },
  {
   "cell_type": "code",
   "execution_count": 3,
   "id": "3cccf661",
   "metadata": {
    "execution": {
     "iopub.execute_input": "2022-06-28T06:30:58.204647Z",
     "iopub.status.busy": "2022-06-28T06:30:58.204050Z",
     "iopub.status.idle": "2022-06-28T06:30:58.217301Z",
     "shell.execute_reply": "2022-06-28T06:30:58.215605Z"
    },
    "papermill": {
     "duration": 0.027085,
     "end_time": "2022-06-28T06:30:58.220942",
     "exception": false,
     "start_time": "2022-06-28T06:30:58.193857",
     "status": "completed"
    },
    "tags": [
     "parameters"
    ]
   },
   "outputs": [],
   "source": [
    "# papermill parameters\n",
    "SEED_LIST = [\n",
    "             0,\n",
    "             #1111,\n",
    "             #2222, \n",
    "             #3333, \n",
    "             #4444, \n",
    "             #5555,\n",
    "             #6666,\n",
    "             #7777,\n",
    "             #8888,\n",
    "             #9999\n",
    "            ]\n",
    "\n",
    "#TICKERS = market_tickers.DOW_30_TICKER\n",
    "TICKERS = ['AAPL', 'AMD', 'CSCO', 'F', 'INTC']\n",
    "MARKET_NAME = 'TEST_5'\n",
    "MODEL_BASE_NAME = 'RL_CNN' # use either | 'RL_CNN' | 'RL_str_fcast' | 'RL_all_inp' |\n",
    "FROM = '2017-01-03' # start of training set\n",
    "UNTIL = '2019-01-01' # end of training set\n",
    "NB_EPISODES = 200 # number of episodes to train for\n",
    "SAVE_EVERY = 200 # (used 100 when not from tretrained) save model weights every time this amount of episodes pass\n",
    "\n",
    "# investor preferences\n",
    "GAMMA_TRADES = [0.1, 1, 10, 100]\n",
    "GAMMA_RISKS = [0.1, 1, 10, 100, 1000]\n",
    "GAMMA_HOLDS = [0.1, 1]"
   ]
  },
  {
   "cell_type": "code",
   "execution_count": 4,
   "id": "0caec7df",
   "metadata": {
    "execution": {
     "iopub.execute_input": "2022-06-28T06:30:58.237921Z",
     "iopub.status.busy": "2022-06-28T06:30:58.237313Z",
     "iopub.status.idle": "2022-06-28T06:30:58.263373Z",
     "shell.execute_reply": "2022-06-28T06:30:58.259595Z"
    },
    "papermill": {
     "duration": 0.03888,
     "end_time": "2022-06-28T06:30:58.267117",
     "exception": false,
     "start_time": "2022-06-28T06:30:58.228237",
     "status": "completed"
    },
    "tags": [
     "injected-parameters"
    ]
   },
   "outputs": [],
   "source": [
    "# Parameters\n",
    "SEED_LIST = [0]\n",
    "TICKERS = [\n",
    "    \"9983.T\",\n",
    "    \"8035.T\",\n",
    "    \"9984.T\",\n",
    "    \"6954.T\",\n",
    "    \"6367.T\",\n",
    "    \"9433.T\",\n",
    "    \"4543.T\",\n",
    "    \"6857.T\",\n",
    "    \"2413.T\",\n",
    "    \"4063.T\",\n",
    "    \"6971.T\",\n",
    "    \"6758.T\",\n",
    "    \"4519.T\",\n",
    "    \"6762.T\",\n",
    "    \"6645.T\",\n",
    "    \"9613.T\",\n",
    "    \"7203.T\",\n",
    "    \"7733.T\",\n",
    "    \"4901.T\",\n",
    "    \"4503.T\",\n",
    "    \"2801.T\",\n",
    "    \"4568.T\",\n",
    "    \"7832.T\",\n",
    "    \"4523.T\",\n",
    "]\n",
    "MARKET_NAME = \"NIK_25\"\n",
    "MODEL_BASE_NAME = \"RL_CNN\"\n",
    "FROM = \"2013-05-01\"\n",
    "UNTIL = \"2018-01-01\"\n",
    "NB_EPISODES = 200\n",
    "SAVE_EVERY = 200\n",
    "GAMMA_TRADES = [0.1, 1, 7, 8, 9, 10, 11, 12, 50, 100, 1000]\n",
    "GAMMA_RISKS = [1]\n",
    "GAMMA_HOLDS = [0.1, 1, 10, 100, 1000, 10000, 100000]\n"
   ]
  },
  {
   "cell_type": "code",
   "execution_count": 5,
   "id": "99a136fc",
   "metadata": {
    "execution": {
     "iopub.execute_input": "2022-06-28T06:30:58.283865Z",
     "iopub.status.busy": "2022-06-28T06:30:58.283235Z",
     "iopub.status.idle": "2022-06-28T06:30:58.296387Z",
     "shell.execute_reply": "2022-06-28T06:30:58.294749Z"
    },
    "papermill": {
     "duration": 0.026794,
     "end_time": "2022-06-28T06:30:58.300954",
     "exception": false,
     "start_time": "2022-06-28T06:30:58.274160",
     "status": "completed"
    },
    "tags": []
   },
   "outputs": [
    {
     "name": "stdout",
     "output_type": "stream",
     "text": [
      "number of trios:  77\n"
     ]
    }
   ],
   "source": [
    "#------ small test-sweep ------#\n",
    "# GAMMA_TRADES = [0.1, 1, 10, 100]\n",
    "# GAMMA_RISKS = [0.1, 1, 10, 100, 1000]\n",
    "# GAMMA_HOLDS = [0.1, 1]\n",
    "#------ extended-boyd-sweep ------#\n",
    "# GAMMA_TRADES =  [0.1, 0.5, 1, 2, 3, 4, 5, 5.5, 6, 6.5, 7, 7.5, 8, 9, 10, 11, 12, 15, 20, 30, 45, 60, 100, 200]\n",
    "# GAMMA_RISKS = [0.1, 0.178, 0.316, 0.562, 1, 2, 3, 6, 10, 18, 32, 56, 100, 178, 316, 562, 1000, 2000, 5000, 10000, 20000]\n",
    "#---------------------------------#\n",
    "\n",
    "GAMMA_TRIOS = []\n",
    "for tr in GAMMA_TRADES:\n",
    "    for ri in GAMMA_RISKS:\n",
    "        for hd in GAMMA_HOLDS:\n",
    "            GAMMA_TRIOS.append((tr, ri, hd))\n",
    "        \n",
    "#format: (gamma_trade, gamma_risk, gamma_hold)\n",
    "print('number of trios: ', len(GAMMA_TRIOS))\n",
    "#GAMMA_TRIOS"
   ]
  },
  {
   "cell_type": "code",
   "execution_count": 6,
   "id": "1b5c2f2c",
   "metadata": {
    "execution": {
     "iopub.execute_input": "2022-06-28T06:30:58.319587Z",
     "iopub.status.busy": "2022-06-28T06:30:58.318965Z",
     "iopub.status.idle": "2022-06-28T06:30:58.335403Z",
     "shell.execute_reply": "2022-06-28T06:30:58.333660Z"
    },
    "papermill": {
     "duration": 0.030181,
     "end_time": "2022-06-28T06:30:58.339246",
     "exception": false,
     "start_time": "2022-06-28T06:30:58.309065",
     "status": "completed"
    },
    "tags": []
   },
   "outputs": [],
   "source": [
    "# other constants and parameters\n",
    "TICKERS.sort()\n",
    "FILE_PERIOD = '1d' # weekly='5d', daily='1d'\n",
    "DAYS_IN_EPISODE = 30 # 365 for one-year long episodes (conditions checked at end of episode)\n",
    "EPISODE_DRAW_DISTRIBUTION = 'uniform' # 'uniform' or 'geometric'. select starting point of eposide according to this distribution when generated\n",
    "HALF_SPREAD = 0.0005/2.0 # 'a' in transaction cost function\n",
    "NONLIN_COEFF = 1.0 # 'b' transaction cost function\n",
    "POWER = 1.5 # power for change in poertfolio vector used in transaction cost\n",
    "#GAMMA_RISK, GAMMA_TRADE, GAMMA_HOLD = 18, 6.5, 0.0 # relative importance of risk, trading cost, and holding cost\n",
    "INIT_PORTFOLIO = 100000000.0 # initial portfolio value\n",
    "#model_name = f'REINFORCE_CNN' #_seeded_{UNTIL} # give model a name to distinguish saved files\n",
    "#NB_EPISODES = 300 #2000\n",
    "MODE = 'train' # train or test mode\n",
    "#FROM_PRETRAINED = False\n",
    "DATA_DIR = f'../data/{MARKET_NAME}/preprocessed_data/'\n",
    "\n",
    "# Tune and double-check these before every test:\n",
    "USE_FORECASTS = model_parameters[MODEL_BASE_NAME]['use_forecasts'] # whether to use forecasts as inputs to agent policy net or not\n",
    "NB_FORECASTS = model_parameters[MODEL_BASE_NAME]['nb_forecasts'] # number of forecasts to use in state. Set to None for no forecasts\n",
    "FORECAST_TYPE = model_parameters[MODEL_BASE_NAME]['forecast_type'] # use 'strong' or 'weak' forecasts (if no forecasts given, this does not matter)\n",
    "USE_CNN_STATE = model_parameters[MODEL_BASE_NAME]['use_cnn_state'] # whether to pass log-rets block for CNN part of policy net (set to false for forecast only)"
   ]
  },
  {
   "cell_type": "code",
   "execution_count": 7,
   "id": "5bcb3244",
   "metadata": {
    "execution": {
     "iopub.execute_input": "2022-06-28T06:30:58.357401Z",
     "iopub.status.busy": "2022-06-28T06:30:58.356961Z",
     "iopub.status.idle": "2022-06-28T06:30:58.439070Z",
     "shell.execute_reply": "2022-06-28T06:30:58.437592Z"
    },
    "papermill": {
     "duration": 0.094529,
     "end_time": "2022-06-28T06:30:58.442178",
     "exception": false,
     "start_time": "2022-06-28T06:30:58.347649",
     "status": "completed"
    },
    "scrolled": true,
    "tags": []
   },
   "outputs": [
    {
     "name": "stdout",
     "output_type": "stream",
     "text": [
      "\talready exists: trade_0.1_risk_1_hold_0.1\n",
      "\tskip to next.\n",
      "\talready exists: trade_0.1_risk_1_hold_1\n",
      "\tskip to next.\n",
      "\talready exists: trade_0.1_risk_1_hold_10\n",
      "\tskip to next.\n",
      "\talready exists: trade_0.1_risk_1_hold_100\n",
      "\tskip to next.\n",
      "\talready exists: trade_0.1_risk_1_hold_1000\n",
      "\tskip to next.\n",
      "\talready exists: trade_0.1_risk_1_hold_10000\n",
      "\tskip to next.\n",
      "\talready exists: trade_0.1_risk_1_hold_100000\n",
      "\tskip to next.\n",
      "\talready exists: trade_1_risk_1_hold_0.1\n",
      "\tskip to next.\n",
      "\talready exists: trade_1_risk_1_hold_1\n",
      "\tskip to next.\n",
      "\talready exists: trade_1_risk_1_hold_10\n",
      "\tskip to next.\n",
      "\talready exists: trade_1_risk_1_hold_100\n",
      "\tskip to next.\n",
      "\talready exists: trade_1_risk_1_hold_1000\n",
      "\tskip to next.\n",
      "\talready exists: trade_1_risk_1_hold_10000\n",
      "\tskip to next.\n",
      "\talready exists: trade_1_risk_1_hold_100000\n",
      "\tskip to next.\n",
      "\talready exists: trade_7_risk_1_hold_0.1\n",
      "\tskip to next.\n",
      "\talready exists: trade_7_risk_1_hold_1\n",
      "\tskip to next.\n",
      "\talready exists: trade_7_risk_1_hold_10\n",
      "\tskip to next.\n",
      "\talready exists: trade_7_risk_1_hold_100\n",
      "\tskip to next.\n",
      "\talready exists: trade_7_risk_1_hold_1000\n",
      "\tskip to next.\n",
      "\talready exists: trade_7_risk_1_hold_10000\n",
      "\tskip to next.\n",
      "\talready exists: trade_7_risk_1_hold_100000\n",
      "\tskip to next.\n",
      "\talready exists: trade_8_risk_1_hold_0.1\n",
      "\tskip to next.\n",
      "\talready exists: trade_8_risk_1_hold_1\n",
      "\tskip to next.\n",
      "\talready exists: trade_8_risk_1_hold_10\n",
      "\tskip to next.\n",
      "\talready exists: trade_8_risk_1_hold_100\n",
      "\tskip to next.\n",
      "\talready exists: trade_8_risk_1_hold_1000\n",
      "\tskip to next.\n",
      "\talready exists: trade_8_risk_1_hold_10000\n",
      "\tskip to next.\n",
      "\talready exists: trade_8_risk_1_hold_100000\n",
      "\tskip to next.\n",
      "\talready exists: trade_9_risk_1_hold_0.1\n",
      "\tskip to next.\n",
      "\talready exists: trade_9_risk_1_hold_1\n",
      "\tskip to next.\n",
      "\talready exists: trade_9_risk_1_hold_10\n",
      "\tskip to next.\n",
      "\talready exists: trade_9_risk_1_hold_100\n",
      "\tskip to next.\n",
      "\talready exists: trade_9_risk_1_hold_1000\n",
      "\tskip to next.\n",
      "\talready exists: trade_9_risk_1_hold_10000\n",
      "\tskip to next.\n",
      "\talready exists: trade_9_risk_1_hold_100000\n",
      "\tskip to next.\n",
      "\talready exists: trade_10_risk_1_hold_0.1\n",
      "\tskip to next.\n",
      "\talready exists: trade_10_risk_1_hold_1\n",
      "\tskip to next.\n",
      "\talready exists: trade_10_risk_1_hold_10\n",
      "\tskip to next.\n",
      "\talready exists: trade_10_risk_1_hold_100\n",
      "\tskip to next.\n",
      "\talready exists: trade_10_risk_1_hold_1000\n",
      "\tskip to next.\n",
      "\talready exists: trade_10_risk_1_hold_10000\n",
      "\tskip to next.\n",
      "\talready exists: trade_10_risk_1_hold_100000\n",
      "\tskip to next.\n",
      "\talready exists: trade_11_risk_1_hold_0.1\n",
      "\tskip to next.\n",
      "\talready exists: trade_11_risk_1_hold_1\n",
      "\tskip to next.\n",
      "\talready exists: trade_11_risk_1_hold_10\n",
      "\tskip to next.\n",
      "\talready exists: trade_11_risk_1_hold_100\n",
      "\tskip to next.\n",
      "\talready exists: trade_11_risk_1_hold_1000\n",
      "\tskip to next.\n",
      "\talready exists: trade_11_risk_1_hold_10000\n",
      "\tskip to next.\n",
      "\talready exists: trade_11_risk_1_hold_100000\n",
      "\tskip to next.\n",
      "\talready exists: trade_12_risk_1_hold_0.1\n",
      "\tskip to next.\n",
      "\talready exists: trade_12_risk_1_hold_1\n",
      "\tskip to next.\n",
      "\talready exists: trade_12_risk_1_hold_10\n",
      "\tskip to next.\n",
      "\talready exists: trade_12_risk_1_hold_100\n",
      "\tskip to next.\n",
      "\talready exists: trade_12_risk_1_hold_1000\n",
      "\tskip to next.\n",
      "\talready exists: trade_12_risk_1_hold_10000\n",
      "\tskip to next.\n",
      "\talready exists: trade_12_risk_1_hold_100000\n",
      "\tskip to next.\n",
      "\talready exists: trade_50_risk_1_hold_0.1\n",
      "\tskip to next.\n",
      "\talready exists: trade_50_risk_1_hold_1\n",
      "\tskip to next.\n",
      "\talready exists: trade_50_risk_1_hold_10\n",
      "\tskip to next.\n",
      "\talready exists: trade_50_risk_1_hold_100\n",
      "\tskip to next.\n",
      "\talready exists: trade_50_risk_1_hold_1000\n",
      "\tskip to next.\n",
      "\talready exists: trade_50_risk_1_hold_10000\n",
      "\tskip to next.\n",
      "\talready exists: trade_50_risk_1_hold_100000\n",
      "\tskip to next.\n",
      "\talready exists: trade_100_risk_1_hold_0.1\n",
      "\tskip to next.\n",
      "\talready exists: trade_100_risk_1_hold_1\n",
      "\tskip to next.\n",
      "\talready exists: trade_100_risk_1_hold_10\n",
      "\tskip to next.\n",
      "\talready exists: trade_100_risk_1_hold_100\n",
      "\tskip to next.\n",
      "\talready exists: trade_100_risk_1_hold_1000\n",
      "\tskip to next.\n",
      "\talready exists: trade_100_risk_1_hold_10000\n",
      "\tskip to next.\n",
      "\talready exists: trade_100_risk_1_hold_100000\n",
      "\tskip to next.\n",
      "\talready exists: trade_1000_risk_1_hold_0.1\n",
      "\tskip to next.\n",
      "\talready exists: trade_1000_risk_1_hold_1\n",
      "\tskip to next.\n",
      "\talready exists: trade_1000_risk_1_hold_10\n",
      "\tskip to next.\n",
      "\talready exists: trade_1000_risk_1_hold_100\n",
      "\tskip to next.\n",
      "\talready exists: trade_1000_risk_1_hold_1000\n",
      "\tskip to next.\n",
      "\talready exists: trade_1000_risk_1_hold_10000\n",
      "\tskip to next.\n",
      "\talready exists: trade_1000_risk_1_hold_100000\n",
      "\tskip to next.\n",
      "CPU times: user 45.5 ms, sys: 20.8 ms, total: 66.3 ms\n",
      "Wall time: 57.5 ms\n"
     ]
    }
   ],
   "source": [
    "%%time\n",
    "##########################\n",
    "### main training loop ###\n",
    "##########################\n",
    "\n",
    "# define investor preferences to train for\n",
    "#------ extended-boyd-sweep ------#\n",
    "#GAMMA_TRADES = [5.5, 6, 6.5, 7, 7.5, 8, 9, 10, 11, 12, 15, 20, 30]\n",
    "#GAMMA_TRADES = [4, 5]\n",
    "#GAMMA_TRADES = [0.1, 0.5, 1, 2, 3, 45, 60, 100, 200]\n",
    "#GAMMA_RISKS = [0.1, 0.178, 0.316, 0.562, 1, 2, 3, 6, 10, 18, 32, 56, 100, 178, 316, 562, 1000, 2000, 5000, 10000, 20000]\n",
    "#---------------------------------#\n",
    "counter = 0\n",
    "\n",
    "for RANDOM_SEED in SEED_LIST:\n",
    "    model_name = f'{MODEL_BASE_NAME}_seed_{RANDOM_SEED}'\n",
    "    maybe_make_dir(f'../experiments/{MARKET_NAME}/seeded/{MODEL_BASE_NAME}/seed_{RANDOM_SEED}')\n",
    "    \n",
    "    for (GAMMA_TRADE, GAMMA_RISK, GAMMA_HOLD) in GAMMA_TRIOS:\n",
    "        # set random generator seed for tf and np\n",
    "        # this is probably unnecessary because it is done when env is initialised but just incase\n",
    "        tf.random.set_seed(RANDOM_SEED)\n",
    "        np.random.seed(RANDOM_SEED)\n",
    "        counter += 1\n",
    "\n",
    "        # check if test lready done. skip if so\n",
    "        #if not FROM_PRETRAINED:\n",
    "            #skip = os.path.exists(f'experiments/12_assets/00_seeded/seed_{RANDOM_SEED}/trade_{GAMMA_TRADE}_risk_{GAMMA_RISK}') # check if already exists\n",
    "        #else:\n",
    "        \n",
    "        skip = os.path.exists(f'../experiments/{MARKET_NAME}/seeded/{MODEL_BASE_NAME}/seed_{RANDOM_SEED}/trade_{GAMMA_TRADE}_risk_{GAMMA_RISK}_hold_{GAMMA_HOLD}')\n",
    "\n",
    "        if not skip: # if not exists, do test\n",
    "\n",
    "            print('#############################################################################')\n",
    "            print(f'##\\t[{counter}/{len(GAMMA_TRIOS)}]\\tmodel={MODEL_BASE_NAME},\\tSEED={RANDOM_SEED},\\ttrade={GAMMA_TRADE},\\trisk={GAMMA_RISK}\\thold={GAMMA_HOLD}\\t##')\n",
    "            print('#############################################################################')        \n",
    "\n",
    "            # create agent and environment\n",
    "            env = MultiStockEnv(tickers=TICKERS, \n",
    "                                from_date=FROM,\n",
    "                                until=UNTIL, \n",
    "                                #nb_episodes=100,\n",
    "                                cash_key='USDOLLAR', \n",
    "                                gamma_risk=GAMMA_RISK, \n",
    "                                gamma_trade=GAMMA_TRADE,\n",
    "                                gamma_hold=GAMMA_HOLD,\n",
    "                                half_spread=HALF_SPREAD, \n",
    "                                nonlin_coef=NONLIN_COEFF, \n",
    "                                power=POWER, \n",
    "                                datadir=DATA_DIR, \n",
    "                                state_lookback_window=20, \n",
    "                                distribution=EPISODE_DRAW_DISTRIBUTION,\n",
    "                                days_duration=DAYS_IN_EPISODE, \n",
    "                                mode='train', \n",
    "                                random_seed=RANDOM_SEED,\n",
    "                                init_portfolio=INIT_PORTFOLIO, \n",
    "                                period_in_file_name=FILE_PERIOD, \n",
    "                                nb_forecasts=NB_FORECASTS, \n",
    "                                forecast_type=FORECAST_TYPE,\n",
    "                                use_CNN_state=USE_CNN_STATE,\n",
    "                                verbose=False)\n",
    "\n",
    "            agent = Agent(alpha=0.001, \n",
    "                          gamma=0.99, \n",
    "                          n_assets=len(TICKERS)+1, \n",
    "                          tau=5, \n",
    "                          lookback_window=20, \n",
    "                          n_feature_maps=len(TICKERS)+1,\n",
    "                          use_forecasts=USE_FORECASTS,\n",
    "                          use_CNN_state=USE_CNN_STATE,\n",
    "                          allow_long_short_trades=True)\n",
    "\n",
    "            # initialise policy by one forward pass then load pretrained weights\n",
    "            #if FROM_PRETRAINED: \n",
    "                #agent.choose_action(env._get_obs())\n",
    "                #agent.load(pretrined_weights_dir)\n",
    "\n",
    "            # configure folders\n",
    "            experiments_folder = f'../experiments/{MARKET_NAME}'\n",
    "            from_seeded_folder = f'{experiments_folder}/seeded'\n",
    "            base_model_folder = f'{from_seeded_folder}/{MODEL_BASE_NAME}'\n",
    "            seed_folder = f'{base_model_folder}/seed_{RANDOM_SEED}'\n",
    "            #if FROM_PRETRAINED:\n",
    "            #    pretrained_folder = f'{nb_assets_folder}/0_further_trained'\n",
    "            #    preference_folder = f'{pretrained_folder}/trade_{GAMMA_TRADE}_risk_{GAMMA_RISK}'\n",
    "            #else:\n",
    "            preference_folder = f'{seed_folder}/trade_{GAMMA_TRADE}_risk_{GAMMA_RISK}_hold_{GAMMA_HOLD}'\n",
    "            models_folder = f'{preference_folder}/models' # where saved models will be saved\n",
    "            losses_folder = f'{preference_folder}/losses' # where losses will be saved for plotting training progress\n",
    "            fig_folder = f'{preference_folder}/figures'\n",
    "\n",
    "            # create dirictories for saving outputs to (if they don't exist already)\n",
    "            #maybe_make_dir(nb_assets_folder)\n",
    "            maybe_make_dir(seed_folder)\n",
    "            maybe_make_dir(preference_folder)\n",
    "            maybe_make_dir(models_folder)\n",
    "            maybe_make_dir(losses_folder)\n",
    "            maybe_make_dir(fig_folder)\n",
    "\n",
    "            if MODE == 'train':\n",
    "                # play the game num_episodes times and update weights according to loss\n",
    "                losses = []\n",
    "                for e in range(NB_EPISODES):\n",
    "\n",
    "                    # save model weights every few episodes\n",
    "                    if (e%SAVE_EVERY == 0) and (e!=0):\n",
    "                        agent.save(f'{models_folder}/{model_name}_{e}')\n",
    "                        # save losses of training period\n",
    "                        np.save(f'{losses_folder}/{model_name}_{MODE}_{e}_losses.npy', np.array(losses))\n",
    "\n",
    "                    t0 = datetime.datetime.now()\n",
    "                    try:\n",
    "                        loss = play_one_episode(agent, env, MODE)\n",
    "                    except Exception as err:\n",
    "                        print(f'\\t*** error in episode {e}:', err)\n",
    "                        loss = np.nan#5.0 # just an arbitraty number that seems high compared to usual losses\n",
    "                    dt = datetime.datetime.now() - t0\n",
    "                    losses.append(loss) # append episode loss\n",
    "                    # print progress\n",
    "                    if (e%10 == 0):\n",
    "                        print(f\"episode: {e + 1}/{NB_EPISODES}, loss: {loss:.4f}, duration: {dt}\")\n",
    "\n",
    "\n",
    "                # save the weights and losses when done\t\n",
    "                agent.save(f'{models_folder}/{model_name}_{NB_EPISODES}')\n",
    "                np.save(f'{losses_folder}/{model_name}_{MODE}_{NB_EPISODES}_losses.npy', np.array(losses))\n",
    "\n",
    "            # plot losses\n",
    "            save_fig = True\n",
    "\n",
    "            # load losses file\n",
    "            file = f'{losses_folder}/{model_name}_{MODE}_{NB_EPISODES}_losses.npy'\n",
    "            loaded_losses = np.load(file)\n",
    "\n",
    "            # plot losses\n",
    "            plt.figure(figsize=(14,5))\n",
    "            plt.plot(loaded_losses)\n",
    "            plt.title(f'{model_name} Training Loss')\n",
    "            plt.xlabel('Episode Number')\n",
    "            plt.ylabel(r'Loss: $-G \\approx -\\mathbb{E}\\left[ \\sum_{k=0}^{T} \\gamma^k R_t \\right]$')\n",
    "            #plt.yscale('symlog')\n",
    "            if save_fig:\n",
    "                plt.savefig(f'{fig_folder}/{model_name}_losses.png', dpi=150, facecolor=None, edgecolor=None, bbox_inches='tight')\n",
    "            plt.clf()\n",
    "\n",
    "        else:\n",
    "            print(f'\\talready exists: trade_{GAMMA_TRADE}_risk_{GAMMA_RISK}_hold_{GAMMA_HOLD}')\n",
    "            print('\\tskip to next.')"
   ]
  },
  {
   "cell_type": "code",
   "execution_count": 8,
   "id": "ac7ab5dd",
   "metadata": {
    "execution": {
     "iopub.execute_input": "2022-06-28T06:30:58.458547Z",
     "iopub.status.busy": "2022-06-28T06:30:58.457996Z",
     "iopub.status.idle": "2022-06-28T06:30:58.463653Z",
     "shell.execute_reply": "2022-06-28T06:30:58.462094Z"
    },
    "papermill": {
     "duration": 0.018681,
     "end_time": "2022-06-28T06:30:58.466522",
     "exception": false,
     "start_time": "2022-06-28T06:30:58.447841",
     "status": "completed"
    },
    "tags": []
   },
   "outputs": [],
   "source": [
    "# double check the end of training\n",
    "#env.until"
   ]
  },
  {
   "cell_type": "code",
   "execution_count": 9,
   "id": "c04ed740",
   "metadata": {
    "execution": {
     "iopub.execute_input": "2022-06-28T06:30:58.480452Z",
     "iopub.status.busy": "2022-06-28T06:30:58.480008Z",
     "iopub.status.idle": "2022-06-28T06:30:58.486956Z",
     "shell.execute_reply": "2022-06-28T06:30:58.485454Z"
    },
    "papermill": {
     "duration": 0.017383,
     "end_time": "2022-06-28T06:30:58.489781",
     "exception": false,
     "start_time": "2022-06-28T06:30:58.472398",
     "status": "completed"
    },
    "tags": []
   },
   "outputs": [
    {
     "name": "stdout",
     "output_type": "stream",
     "text": [
      "training done.\n"
     ]
    }
   ],
   "source": [
    "print('training done.')"
   ]
  },
  {
   "cell_type": "code",
   "execution_count": 10,
   "id": "60543ecc",
   "metadata": {
    "execution": {
     "iopub.execute_input": "2022-06-28T06:30:58.505880Z",
     "iopub.status.busy": "2022-06-28T06:30:58.505391Z",
     "iopub.status.idle": "2022-06-28T06:30:58.510813Z",
     "shell.execute_reply": "2022-06-28T06:30:58.509209Z"
    },
    "papermill": {
     "duration": 0.018545,
     "end_time": "2022-06-28T06:30:58.514673",
     "exception": false,
     "start_time": "2022-06-28T06:30:58.496128",
     "status": "completed"
    },
    "tags": []
   },
   "outputs": [],
   "source": [
    "### Now repeat this for the different RL models.\n",
    "### remember to update the gamma-pairs, model base name, and model specs/setup in beginning of notebook!"
   ]
  }
 ],
 "metadata": {
  "interpreter": {
   "hash": "949777d72b0d2535278d3dc13498b2535136f6dfe0678499012e853ee9abcab1"
  },
  "kernelspec": {
   "display_name": "Python 3",
   "language": "python",
   "name": "python3"
  },
  "language_info": {
   "codemirror_mode": {
    "name": "ipython",
    "version": 3
   },
   "file_extension": ".py",
   "mimetype": "text/x-python",
   "name": "python",
   "nbconvert_exporter": "python",
   "pygments_lexer": "ipython3",
   "version": "3.7.6"
  },
  "papermill": {
   "default_parameters": {},
   "duration": 9.582754,
   "end_time": "2022-06-28T06:30:59.539843",
   "environment_variables": {},
   "exception": null,
   "input_path": "train_template.ipynb",
   "output_path": "slave_notebooks/RL_CNN_NIK_25_risks_1_seeds_0.ipynb",
   "parameters": {
    "FROM": "2013-05-01",
    "GAMMA_HOLDS": [
     0.1,
     1,
     10,
     100,
     1000,
     10000,
     100000
    ],
    "GAMMA_RISKS": [
     1
    ],
    "GAMMA_TRADES": [
     0.1,
     1,
     7,
     8,
     9,
     10,
     11,
     12,
     50,
     100,
     1000
    ],
    "MARKET_NAME": "NIK_25",
    "MODEL_BASE_NAME": "RL_CNN",
    "NB_EPISODES": 200,
    "SAVE_EVERY": 200,
    "SEED_LIST": [
     0
    ],
    "TICKERS": [
     "9983.T",
     "8035.T",
     "9984.T",
     "6954.T",
     "6367.T",
     "9433.T",
     "4543.T",
     "6857.T",
     "2413.T",
     "4063.T",
     "6971.T",
     "6758.T",
     "4519.T",
     "6762.T",
     "6645.T",
     "9613.T",
     "7203.T",
     "7733.T",
     "4901.T",
     "4503.T",
     "2801.T",
     "4568.T",
     "7832.T",
     "4523.T"
    ],
    "UNTIL": "2018-01-01"
   },
   "start_time": "2022-06-28T06:30:49.957089",
   "version": "2.3.3"
  }
 },
 "nbformat": 4,
 "nbformat_minor": 5
}