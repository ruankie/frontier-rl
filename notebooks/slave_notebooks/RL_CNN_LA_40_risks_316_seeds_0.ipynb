{
 "cells": [
  {
   "cell_type": "code",
   "execution_count": 1,
   "id": "e011f8d4",
   "metadata": {
    "execution": {
     "iopub.execute_input": "2022-06-26T16:21:29.738264Z",
     "iopub.status.busy": "2022-06-26T16:21:29.737544Z",
     "iopub.status.idle": "2022-06-26T16:21:33.996202Z",
     "shell.execute_reply": "2022-06-26T16:21:33.994452Z"
    },
    "papermill": {
     "duration": 4.27304,
     "end_time": "2022-06-26T16:21:34.000303",
     "exception": false,
     "start_time": "2022-06-26T16:21:29.727263",
     "status": "completed"
    },
    "tags": []
   },
   "outputs": [
    {
     "name": "stdout",
     "output_type": "stream",
     "text": [
      "CPU times: user 3.78 s, sys: 2.02 s, total: 5.8 s\n",
      "Wall time: 4.25 s\n"
     ]
    }
   ],
   "source": [
    "%%time\n",
    "import numpy as np\n",
    "import pandas as pd\n",
    "import matplotlib.pyplot as plt\n",
    "import datetime\n",
    "import os\n",
    "from src.models.frontier import MultiStockEnv, Agent, play_one_episode, maybe_make_dir\n",
    "from src.config import market_tickers\n",
    "from src.config.model_config import model_parameters\n",
    "import tensorflow as tf"
   ]
  },
  {
   "cell_type": "code",
   "execution_count": 2,
   "id": "6f9f2958",
   "metadata": {
    "execution": {
     "iopub.execute_input": "2022-06-26T16:21:34.018491Z",
     "iopub.status.busy": "2022-06-26T16:21:34.017526Z",
     "iopub.status.idle": "2022-06-26T16:21:34.036858Z",
     "shell.execute_reply": "2022-06-26T16:21:34.035388Z"
    },
    "papermill": {
     "duration": 0.032315,
     "end_time": "2022-06-26T16:21:34.040284",
     "exception": false,
     "start_time": "2022-06-26T16:21:34.007969",
     "status": "completed"
    },
    "tags": []
   },
   "outputs": [
    {
     "data": {
      "text/plain": [
       "{'RL_CNN': {'use_forecasts': False,\n",
       "  'nb_forecasts': None,\n",
       "  'forecast_type': 'strong',\n",
       "  'use_cnn_state': True},\n",
       " 'RL_str_fcast': {'use_forecasts': True,\n",
       "  'nb_forecasts': 2,\n",
       "  'forecast_type': 'strong',\n",
       "  'use_cnn_state': False},\n",
       " 'RL_all_inp': {'use_forecasts': True,\n",
       "  'nb_forecasts': 2,\n",
       "  'forecast_type': 'strong',\n",
       "  'use_cnn_state': True}}"
      ]
     },
     "execution_count": 2,
     "metadata": {},
     "output_type": "execute_result"
    }
   ],
   "source": [
    "from src.config.model_config import model_parameters\n",
    "model_parameters"
   ]
  },
  {
   "cell_type": "code",
   "execution_count": 3,
   "id": "7241c2b9",
   "metadata": {
    "execution": {
     "iopub.execute_input": "2022-06-26T16:21:34.059641Z",
     "iopub.status.busy": "2022-06-26T16:21:34.058530Z",
     "iopub.status.idle": "2022-06-26T16:21:34.072020Z",
     "shell.execute_reply": "2022-06-26T16:21:34.070424Z"
    },
    "papermill": {
     "duration": 0.031762,
     "end_time": "2022-06-26T16:21:34.079887",
     "exception": false,
     "start_time": "2022-06-26T16:21:34.048125",
     "status": "completed"
    },
    "tags": [
     "parameters"
    ]
   },
   "outputs": [],
   "source": [
    "# papermill parameters\n",
    "SEED_LIST = [\n",
    "             0,\n",
    "             #1111,\n",
    "             #2222, \n",
    "             #3333, \n",
    "             #4444, \n",
    "             #5555,\n",
    "             #6666,\n",
    "             #7777,\n",
    "             #8888,\n",
    "             #9999\n",
    "            ]\n",
    "\n",
    "#TICKERS = market_tickers.DOW_30_TICKER\n",
    "TICKERS = ['AAPL', 'AMD', 'CSCO', 'F', 'INTC']\n",
    "MARKET_NAME = 'TEST_5'\n",
    "MODEL_BASE_NAME = 'RL_CNN' # use either | 'RL_CNN' | 'RL_str_fcast' | 'RL_all_inp' |\n",
    "FROM = '2017-01-03' # start of training set\n",
    "UNTIL = '2019-01-01' # end of training set\n",
    "NB_EPISODES = 200 # number of episodes to train for\n",
    "SAVE_EVERY = 200 # (used 100 when not from tretrained) save model weights every time this amount of episodes pass\n",
    "\n",
    "# investor preferences\n",
    "GAMMA_TRADES = [0.1, 1, 10, 100]\n",
    "GAMMA_RISKS = [0.1, 1, 10, 100, 1000]\n",
    "GAMMA_HOLDS = [0.1, 1]"
   ]
  },
  {
   "cell_type": "code",
   "execution_count": 4,
   "id": "d7b1e191",
   "metadata": {
    "execution": {
     "iopub.execute_input": "2022-06-26T16:21:34.095945Z",
     "iopub.status.busy": "2022-06-26T16:21:34.095266Z",
     "iopub.status.idle": "2022-06-26T16:21:34.117797Z",
     "shell.execute_reply": "2022-06-26T16:21:34.112946Z"
    },
    "papermill": {
     "duration": 0.038057,
     "end_time": "2022-06-26T16:21:34.124532",
     "exception": false,
     "start_time": "2022-06-26T16:21:34.086475",
     "status": "completed"
    },
    "tags": [
     "injected-parameters"
    ]
   },
   "outputs": [],
   "source": [
    "# Parameters\n",
    "SEED_LIST = [0]\n",
    "TICKERS = [\n",
    "    \"VALE\",\n",
    "    \"ITUB\",\n",
    "    \"PBR-A\",\n",
    "    \"BBD\",\n",
    "    \"PBR\",\n",
    "    \"AMXL.MX\",\n",
    "    \"WALMEX.MX\",\n",
    "    \"FEMSAUBD.MX\",\n",
    "    \"GFNORTEO.MX\",\n",
    "    \"WEGE3.SA\",\n",
    "    \"BBAS3.SA\",\n",
    "    \"BAP\",\n",
    "    \"CEMEXCPO.MX\",\n",
    "    \"SQM\",\n",
    "    \"SCCO\",\n",
    "    \"GGB\",\n",
    "    \"CHILE.SN\",\n",
    "    \"ENIA\",\n",
    "    \"CIB\",\n",
    "    \"TLEVISACPO.MX\",\n",
    "    \"EC\",\n",
    "    \"BRFS\",\n",
    "    \"BSAC\",\n",
    "    \"CCRO3.SA\",\n",
    "]\n",
    "MARKET_NAME = \"LA_40\"\n",
    "MODEL_BASE_NAME = \"RL_CNN\"\n",
    "FROM = \"2010-03-01\"\n",
    "UNTIL = \"2014-12-01\"\n",
    "NB_EPISODES = 200\n",
    "SAVE_EVERY = 200\n",
    "GAMMA_TRADES = [1, 7, 8, 9, 10, 11, 12, 50, 100]\n",
    "GAMMA_RISKS = [316]\n",
    "GAMMA_HOLDS = [0.1, 1, 10, 100, 1000, 10000]\n"
   ]
  },
  {
   "cell_type": "code",
   "execution_count": 5,
   "id": "bf43ebe1",
   "metadata": {
    "execution": {
     "iopub.execute_input": "2022-06-26T16:21:34.142453Z",
     "iopub.status.busy": "2022-06-26T16:21:34.141402Z",
     "iopub.status.idle": "2022-06-26T16:21:34.156168Z",
     "shell.execute_reply": "2022-06-26T16:21:34.154285Z"
    },
    "papermill": {
     "duration": 0.027774,
     "end_time": "2022-06-26T16:21:34.160216",
     "exception": false,
     "start_time": "2022-06-26T16:21:34.132442",
     "status": "completed"
    },
    "tags": []
   },
   "outputs": [
    {
     "name": "stdout",
     "output_type": "stream",
     "text": [
      "number of trios:  54\n"
     ]
    }
   ],
   "source": [
    "#------ small test-sweep ------#\n",
    "# GAMMA_TRADES = [0.1, 1, 10, 100]\n",
    "# GAMMA_RISKS = [0.1, 1, 10, 100, 1000]\n",
    "# GAMMA_HOLDS = [0.1, 1]\n",
    "#------ extended-boyd-sweep ------#\n",
    "# GAMMA_TRADES =  [0.1, 0.5, 1, 2, 3, 4, 5, 5.5, 6, 6.5, 7, 7.5, 8, 9, 10, 11, 12, 15, 20, 30, 45, 60, 100, 200]\n",
    "# GAMMA_RISKS = [0.1, 0.178, 0.316, 0.562, 1, 2, 3, 6, 10, 18, 32, 56, 100, 178, 316, 562, 1000, 2000, 5000, 10000, 20000]\n",
    "#---------------------------------#\n",
    "\n",
    "GAMMA_TRIOS = []\n",
    "for tr in GAMMA_TRADES:\n",
    "    for ri in GAMMA_RISKS:\n",
    "        for hd in GAMMA_HOLDS:\n",
    "            GAMMA_TRIOS.append((tr, ri, hd))\n",
    "        \n",
    "#format: (gamma_trade, gamma_risk, gamma_hold)\n",
    "print('number of trios: ', len(GAMMA_TRIOS))\n",
    "#GAMMA_TRIOS"
   ]
  },
  {
   "cell_type": "code",
   "execution_count": 6,
   "id": "ba0cece2",
   "metadata": {
    "execution": {
     "iopub.execute_input": "2022-06-26T16:21:34.204952Z",
     "iopub.status.busy": "2022-06-26T16:21:34.202649Z",
     "iopub.status.idle": "2022-06-26T16:21:34.243064Z",
     "shell.execute_reply": "2022-06-26T16:21:34.240534Z"
    },
    "papermill": {
     "duration": 0.079192,
     "end_time": "2022-06-26T16:21:34.246979",
     "exception": false,
     "start_time": "2022-06-26T16:21:34.167787",
     "status": "completed"
    },
    "tags": []
   },
   "outputs": [],
   "source": [
    "# other constants and parameters\n",
    "TICKERS.sort()\n",
    "FILE_PERIOD = '1d' # weekly='5d', daily='1d'\n",
    "DAYS_IN_EPISODE = 30 # 365 for one-year long episodes (conditions checked at end of episode)\n",
    "EPISODE_DRAW_DISTRIBUTION = 'uniform' # 'uniform' or 'geometric'. select starting point of eposide according to this distribution when generated\n",
    "HALF_SPREAD = 0.0005/2.0 # 'a' in transaction cost function\n",
    "NONLIN_COEFF = 1.0 # 'b' transaction cost function\n",
    "POWER = 1.5 # power for change in poertfolio vector used in transaction cost\n",
    "#GAMMA_RISK, GAMMA_TRADE, GAMMA_HOLD = 18, 6.5, 0.0 # relative importance of risk, trading cost, and holding cost\n",
    "INIT_PORTFOLIO = 100000000.0 # initial portfolio value\n",
    "#model_name = f'REINFORCE_CNN' #_seeded_{UNTIL} # give model a name to distinguish saved files\n",
    "#NB_EPISODES = 300 #2000\n",
    "MODE = 'train' # train or test mode\n",
    "#FROM_PRETRAINED = False\n",
    "DATA_DIR = f'../data/{MARKET_NAME}/preprocessed_data/'\n",
    "\n",
    "# Tune and double-check these before every test:\n",
    "USE_FORECASTS = model_parameters[MODEL_BASE_NAME]['use_forecasts'] # whether to use forecasts as inputs to agent policy net or not\n",
    "NB_FORECASTS = model_parameters[MODEL_BASE_NAME]['nb_forecasts'] # number of forecasts to use in state. Set to None for no forecasts\n",
    "FORECAST_TYPE = model_parameters[MODEL_BASE_NAME]['forecast_type'] # use 'strong' or 'weak' forecasts (if no forecasts given, this does not matter)\n",
    "USE_CNN_STATE = model_parameters[MODEL_BASE_NAME]['use_cnn_state'] # whether to pass log-rets block for CNN part of policy net (set to false for forecast only)"
   ]
  },
  {
   "cell_type": "code",
   "execution_count": 7,
   "id": "19dd833a",
   "metadata": {
    "execution": {
     "iopub.execute_input": "2022-06-26T16:21:34.275706Z",
     "iopub.status.busy": "2022-06-26T16:21:34.272152Z",
     "iopub.status.idle": "2022-06-26T16:46:31.995819Z",
     "shell.execute_reply": "2022-06-26T16:46:31.994285Z"
    },
    "papermill": {
     "duration": 1497.77323,
     "end_time": "2022-06-26T16:46:32.030752",
     "exception": false,
     "start_time": "2022-06-26T16:21:34.257522",
     "status": "completed"
    },
    "scrolled": true,
    "tags": []
   },
   "outputs": [
    {
     "name": "stdout",
     "output_type": "stream",
     "text": [
      "\talready exists: trade_1_risk_316_hold_0.1\n",
      "\tskip to next.\n",
      "\talready exists: trade_1_risk_316_hold_1\n",
      "\tskip to next.\n",
      "\talready exists: trade_1_risk_316_hold_10\n",
      "\tskip to next.\n",
      "\talready exists: trade_1_risk_316_hold_100\n",
      "\tskip to next.\n",
      "\talready exists: trade_1_risk_316_hold_1000\n",
      "\tskip to next.\n",
      "\talready exists: trade_1_risk_316_hold_10000\n",
      "\tskip to next.\n",
      "\talready exists: trade_7_risk_316_hold_0.1\n",
      "\tskip to next.\n",
      "\talready exists: trade_7_risk_316_hold_1\n",
      "\tskip to next.\n",
      "\talready exists: trade_7_risk_316_hold_10\n",
      "\tskip to next.\n",
      "\talready exists: trade_7_risk_316_hold_100\n",
      "\tskip to next.\n",
      "\talready exists: trade_7_risk_316_hold_1000\n",
      "\tskip to next.\n",
      "\talready exists: trade_7_risk_316_hold_10000\n",
      "\tskip to next.\n",
      "\talready exists: trade_8_risk_316_hold_0.1\n",
      "\tskip to next.\n",
      "\talready exists: trade_8_risk_316_hold_1\n",
      "\tskip to next.\n",
      "\talready exists: trade_8_risk_316_hold_10\n",
      "\tskip to next.\n",
      "\talready exists: trade_8_risk_316_hold_100\n",
      "\tskip to next.\n",
      "\talready exists: trade_8_risk_316_hold_1000\n",
      "\tskip to next.\n",
      "\talready exists: trade_8_risk_316_hold_10000\n",
      "\tskip to next.\n",
      "\talready exists: trade_9_risk_316_hold_0.1\n",
      "\tskip to next.\n",
      "\talready exists: trade_9_risk_316_hold_1\n",
      "\tskip to next.\n",
      "\talready exists: trade_9_risk_316_hold_10\n",
      "\tskip to next.\n",
      "\talready exists: trade_9_risk_316_hold_100\n",
      "\tskip to next.\n",
      "\talready exists: trade_9_risk_316_hold_1000\n",
      "\tskip to next.\n",
      "\talready exists: trade_9_risk_316_hold_10000\n",
      "\tskip to next.\n",
      "\talready exists: trade_10_risk_316_hold_0.1\n",
      "\tskip to next.\n",
      "\talready exists: trade_10_risk_316_hold_1\n",
      "\tskip to next.\n",
      "\talready exists: trade_10_risk_316_hold_10\n",
      "\tskip to next.\n",
      "\talready exists: trade_10_risk_316_hold_100\n",
      "\tskip to next.\n",
      "\talready exists: trade_10_risk_316_hold_1000\n",
      "\tskip to next.\n",
      "\talready exists: trade_10_risk_316_hold_10000\n",
      "\tskip to next.\n",
      "\talready exists: trade_11_risk_316_hold_0.1\n",
      "\tskip to next.\n",
      "\talready exists: trade_11_risk_316_hold_1\n",
      "\tskip to next.\n",
      "\talready exists: trade_11_risk_316_hold_10\n",
      "\tskip to next.\n",
      "\talready exists: trade_11_risk_316_hold_100\n",
      "\tskip to next.\n",
      "\talready exists: trade_11_risk_316_hold_1000\n",
      "\tskip to next.\n",
      "\talready exists: trade_11_risk_316_hold_10000\n",
      "\tskip to next.\n",
      "\talready exists: trade_12_risk_316_hold_0.1\n",
      "\tskip to next.\n",
      "\talready exists: trade_12_risk_316_hold_1\n",
      "\tskip to next.\n",
      "\talready exists: trade_12_risk_316_hold_10\n",
      "\tskip to next.\n"
     ]
    },
    {
     "name": "stdout",
     "output_type": "stream",
     "text": [
      "\talready exists: trade_12_risk_316_hold_100\n",
      "\tskip to next.\n",
      "\talready exists: trade_12_risk_316_hold_1000\n",
      "\tskip to next.\n",
      "\talready exists: trade_12_risk_316_hold_10000\n",
      "\tskip to next.\n",
      "\talready exists: trade_50_risk_316_hold_0.1\n",
      "\tskip to next.\n",
      "\talready exists: trade_50_risk_316_hold_1\n",
      "\tskip to next.\n",
      "\talready exists: trade_50_risk_316_hold_10\n",
      "\tskip to next.\n",
      "\talready exists: trade_50_risk_316_hold_100\n",
      "\tskip to next.\n",
      "\talready exists: trade_50_risk_316_hold_1000\n",
      "\tskip to next.\n",
      "\talready exists: trade_50_risk_316_hold_10000\n",
      "\tskip to next.\n",
      "#############################################################################\n",
      "##\t[49/54]\tmodel=RL_CNN,\tSEED=0,\ttrade=100,\trisk=316\thold=0.1\t##\n",
      "#############################################################################\n"
     ]
    },
    {
     "name": "stdout",
     "output_type": "stream",
     "text": [
      "episode: 1/200, loss: 1.2565, duration: 0:00:01.178277\n"
     ]
    },
    {
     "name": "stdout",
     "output_type": "stream",
     "text": [
      "episode: 11/200, loss: 0.4045, duration: 0:00:01.261869\n"
     ]
    },
    {
     "name": "stdout",
     "output_type": "stream",
     "text": [
      "episode: 21/200, loss: 0.2255, duration: 0:00:01.306541\n"
     ]
    },
    {
     "name": "stdout",
     "output_type": "stream",
     "text": [
      "episode: 31/200, loss: 0.1472, duration: 0:00:01.153797\n"
     ]
    },
    {
     "name": "stdout",
     "output_type": "stream",
     "text": [
      "episode: 41/200, loss: 0.2702, duration: 0:00:01.260252\n"
     ]
    },
    {
     "name": "stdout",
     "output_type": "stream",
     "text": [
      "episode: 51/200, loss: 0.3635, duration: 0:00:01.166461\n"
     ]
    },
    {
     "name": "stdout",
     "output_type": "stream",
     "text": [
      "episode: 61/200, loss: 0.2494, duration: 0:00:01.114082\n"
     ]
    },
    {
     "name": "stdout",
     "output_type": "stream",
     "text": [
      "episode: 71/200, loss: 0.4568, duration: 0:00:01.370239\n"
     ]
    },
    {
     "name": "stdout",
     "output_type": "stream",
     "text": [
      "episode: 81/200, loss: 0.1829, duration: 0:00:01.161129\n"
     ]
    },
    {
     "name": "stdout",
     "output_type": "stream",
     "text": [
      "episode: 91/200, loss: 0.2565, duration: 0:00:01.348316\n"
     ]
    },
    {
     "name": "stdout",
     "output_type": "stream",
     "text": [
      "episode: 101/200, loss: 0.3184, duration: 0:00:01.366524\n"
     ]
    },
    {
     "name": "stdout",
     "output_type": "stream",
     "text": [
      "episode: 111/200, loss: 0.2902, duration: 0:00:01.111657\n"
     ]
    },
    {
     "name": "stdout",
     "output_type": "stream",
     "text": [
      "episode: 121/200, loss: 0.2113, duration: 0:00:01.136260\n"
     ]
    },
    {
     "name": "stdout",
     "output_type": "stream",
     "text": [
      "episode: 131/200, loss: 0.3814, duration: 0:00:01.561519\n"
     ]
    },
    {
     "name": "stdout",
     "output_type": "stream",
     "text": [
      "episode: 141/200, loss: 0.3410, duration: 0:00:01.104787\n"
     ]
    },
    {
     "name": "stdout",
     "output_type": "stream",
     "text": [
      "episode: 151/200, loss: 0.3628, duration: 0:00:01.478885\n"
     ]
    },
    {
     "name": "stdout",
     "output_type": "stream",
     "text": [
      "episode: 161/200, loss: 0.6075, duration: 0:00:01.156900\n"
     ]
    },
    {
     "name": "stdout",
     "output_type": "stream",
     "text": [
      "episode: 171/200, loss: 0.6583, duration: 0:00:01.221759\n"
     ]
    },
    {
     "name": "stdout",
     "output_type": "stream",
     "text": [
      "episode: 181/200, loss: 0.3093, duration: 0:00:01.283212\n"
     ]
    },
    {
     "name": "stdout",
     "output_type": "stream",
     "text": [
      "episode: 191/200, loss: 0.2739, duration: 0:00:01.122260\n"
     ]
    },
    {
     "name": "stdout",
     "output_type": "stream",
     "text": [
      "#############################################################################\n",
      "##\t[50/54]\tmodel=RL_CNN,\tSEED=0,\ttrade=100,\trisk=316\thold=1\t##\n",
      "#############################################################################\n"
     ]
    },
    {
     "name": "stdout",
     "output_type": "stream",
     "text": [
      "episode: 1/200, loss: 1.2572, duration: 0:00:01.140797\n"
     ]
    },
    {
     "name": "stdout",
     "output_type": "stream",
     "text": [
      "episode: 11/200, loss: 0.4043, duration: 0:00:01.145031\n"
     ]
    },
    {
     "name": "stdout",
     "output_type": "stream",
     "text": [
      "episode: 21/200, loss: 0.2264, duration: 0:00:01.113322\n"
     ]
    },
    {
     "name": "stdout",
     "output_type": "stream",
     "text": [
      "episode: 31/200, loss: 0.1475, duration: 0:00:01.148084\n"
     ]
    },
    {
     "name": "stdout",
     "output_type": "stream",
     "text": [
      "episode: 41/200, loss: 0.2701, duration: 0:00:01.130469\n"
     ]
    },
    {
     "name": "stdout",
     "output_type": "stream",
     "text": [
      "episode: 51/200, loss: 0.3641, duration: 0:00:01.313559\n"
     ]
    },
    {
     "name": "stdout",
     "output_type": "stream",
     "text": [
      "episode: 61/200, loss: 0.2502, duration: 0:00:01.215396\n"
     ]
    },
    {
     "name": "stdout",
     "output_type": "stream",
     "text": [
      "episode: 71/200, loss: 0.4566, duration: 0:00:01.336442\n"
     ]
    },
    {
     "name": "stdout",
     "output_type": "stream",
     "text": [
      "episode: 81/200, loss: 0.1829, duration: 0:00:01.146592\n"
     ]
    },
    {
     "name": "stdout",
     "output_type": "stream",
     "text": [
      "episode: 91/200, loss: 0.2573, duration: 0:00:01.217441\n"
     ]
    },
    {
     "name": "stdout",
     "output_type": "stream",
     "text": [
      "episode: 101/200, loss: 0.3234, duration: 0:00:01.145350\n"
     ]
    },
    {
     "name": "stdout",
     "output_type": "stream",
     "text": [
      "episode: 111/200, loss: 0.2900, duration: 0:00:01.429891\n"
     ]
    },
    {
     "name": "stdout",
     "output_type": "stream",
     "text": [
      "episode: 121/200, loss: 0.2094, duration: 0:00:01.119421\n"
     ]
    },
    {
     "name": "stdout",
     "output_type": "stream",
     "text": [
      "episode: 131/200, loss: 0.3669, duration: 0:00:01.126225\n"
     ]
    },
    {
     "name": "stdout",
     "output_type": "stream",
     "text": [
      "episode: 141/200, loss: 0.3163, duration: 0:00:01.193188\n"
     ]
    },
    {
     "name": "stdout",
     "output_type": "stream",
     "text": [
      "episode: 151/200, loss: 0.3483, duration: 0:00:01.324075\n"
     ]
    },
    {
     "name": "stdout",
     "output_type": "stream",
     "text": [
      "episode: 161/200, loss: 0.5958, duration: 0:00:01.162178\n"
     ]
    },
    {
     "name": "stdout",
     "output_type": "stream",
     "text": [
      "episode: 171/200, loss: 0.6800, duration: 0:00:01.164563\n"
     ]
    },
    {
     "name": "stdout",
     "output_type": "stream",
     "text": [
      "episode: 181/200, loss: 0.3192, duration: 0:00:01.119318\n"
     ]
    },
    {
     "name": "stdout",
     "output_type": "stream",
     "text": [
      "episode: 191/200, loss: 0.2642, duration: 0:00:01.297401\n"
     ]
    },
    {
     "name": "stdout",
     "output_type": "stream",
     "text": [
      "#############################################################################\n",
      "##\t[51/54]\tmodel=RL_CNN,\tSEED=0,\ttrade=100,\trisk=316\thold=10\t##\n",
      "#############################################################################\n"
     ]
    },
    {
     "name": "stdout",
     "output_type": "stream",
     "text": [
      "episode: 1/200, loss: 1.2642, duration: 0:00:01.141669\n"
     ]
    },
    {
     "name": "stdout",
     "output_type": "stream",
     "text": [
      "episode: 11/200, loss: 0.4062, duration: 0:00:01.149528\n"
     ]
    },
    {
     "name": "stdout",
     "output_type": "stream",
     "text": [
      "episode: 21/200, loss: 0.2310, duration: 0:00:01.475993\n"
     ]
    },
    {
     "name": "stdout",
     "output_type": "stream",
     "text": [
      "episode: 31/200, loss: 0.1522, duration: 0:00:01.263773\n"
     ]
    },
    {
     "name": "stdout",
     "output_type": "stream",
     "text": [
      "episode: 41/200, loss: 0.2730, duration: 0:00:01.363015\n"
     ]
    },
    {
     "name": "stdout",
     "output_type": "stream",
     "text": [
      "episode: 51/200, loss: 0.3704, duration: 0:00:01.347228\n"
     ]
    },
    {
     "name": "stdout",
     "output_type": "stream",
     "text": [
      "episode: 61/200, loss: 0.2540, duration: 0:00:01.117987\n"
     ]
    },
    {
     "name": "stdout",
     "output_type": "stream",
     "text": [
      "episode: 71/200, loss: 0.4634, duration: 0:00:01.294339\n"
     ]
    },
    {
     "name": "stdout",
     "output_type": "stream",
     "text": [
      "episode: 81/200, loss: 0.1888, duration: 0:00:01.233593\n"
     ]
    },
    {
     "name": "stdout",
     "output_type": "stream",
     "text": [
      "episode: 91/200, loss: 0.2640, duration: 0:00:01.342285\n"
     ]
    },
    {
     "name": "stdout",
     "output_type": "stream",
     "text": [
      "episode: 101/200, loss: 0.3381, duration: 0:00:01.111673\n"
     ]
    },
    {
     "name": "stdout",
     "output_type": "stream",
     "text": [
      "episode: 111/200, loss: 0.2961, duration: 0:00:01.140345\n"
     ]
    },
    {
     "name": "stdout",
     "output_type": "stream",
     "text": [
      "episode: 121/200, loss: 0.2201, duration: 0:00:01.120196\n"
     ]
    },
    {
     "name": "stdout",
     "output_type": "stream",
     "text": [
      "episode: 131/200, loss: 0.3776, duration: 0:00:01.218316\n"
     ]
    },
    {
     "name": "stdout",
     "output_type": "stream",
     "text": [
      "episode: 141/200, loss: 0.3219, duration: 0:00:01.132245\n"
     ]
    },
    {
     "name": "stdout",
     "output_type": "stream",
     "text": [
      "episode: 151/200, loss: 0.3424, duration: 0:00:01.175145\n"
     ]
    },
    {
     "name": "stdout",
     "output_type": "stream",
     "text": [
      "episode: 161/200, loss: 0.5868, duration: 0:00:01.183155\n"
     ]
    },
    {
     "name": "stdout",
     "output_type": "stream",
     "text": [
      "episode: 171/200, loss: 0.7265, duration: 0:00:01.186656\n"
     ]
    },
    {
     "name": "stdout",
     "output_type": "stream",
     "text": [
      "episode: 181/200, loss: 0.3411, duration: 0:00:01.204978\n"
     ]
    },
    {
     "name": "stdout",
     "output_type": "stream",
     "text": [
      "episode: 191/200, loss: 0.2766, duration: 0:00:01.144071\n"
     ]
    },
    {
     "name": "stdout",
     "output_type": "stream",
     "text": [
      "#############################################################################\n",
      "##\t[52/54]\tmodel=RL_CNN,\tSEED=0,\ttrade=100,\trisk=316\thold=100\t##\n",
      "#############################################################################\n"
     ]
    },
    {
     "name": "stdout",
     "output_type": "stream",
     "text": [
      "episode: 1/200, loss: 1.3343, duration: 0:00:01.441930\n"
     ]
    },
    {
     "name": "stdout",
     "output_type": "stream",
     "text": [
      "episode: 11/200, loss: 0.4184, duration: 0:00:01.153586\n"
     ]
    },
    {
     "name": "stdout",
     "output_type": "stream",
     "text": [
      "episode: 21/200, loss: 0.2612, duration: 0:00:01.115894\n"
     ]
    },
    {
     "name": "stdout",
     "output_type": "stream",
     "text": [
      "episode: 31/200, loss: 0.1844, duration: 0:00:01.267281\n"
     ]
    },
    {
     "name": "stdout",
     "output_type": "stream",
     "text": [
      "episode: 41/200, loss: 0.3014, duration: 0:00:01.103385\n"
     ]
    },
    {
     "name": "stdout",
     "output_type": "stream",
     "text": [
      "episode: 51/200, loss: 0.4377, duration: 0:00:01.348364\n"
     ]
    },
    {
     "name": "stdout",
     "output_type": "stream",
     "text": [
      "episode: 61/200, loss: 0.2685, duration: 0:00:01.198506\n"
     ]
    },
    {
     "name": "stdout",
     "output_type": "stream",
     "text": [
      "episode: 71/200, loss: 0.5038, duration: 0:00:01.211016\n"
     ]
    },
    {
     "name": "stdout",
     "output_type": "stream",
     "text": [
      "episode: 81/200, loss: 0.1955, duration: 0:00:01.163316\n"
     ]
    },
    {
     "name": "stdout",
     "output_type": "stream",
     "text": [
      "episode: 91/200, loss: 0.3441, duration: 0:00:01.147679\n"
     ]
    },
    {
     "name": "stdout",
     "output_type": "stream",
     "text": [
      "episode: 101/200, loss: 0.3801, duration: 0:00:01.297026\n"
     ]
    },
    {
     "name": "stdout",
     "output_type": "stream",
     "text": [
      "episode: 111/200, loss: 0.2898, duration: 0:00:01.157201\n"
     ]
    },
    {
     "name": "stdout",
     "output_type": "stream",
     "text": [
      "episode: 121/200, loss: 0.2324, duration: 0:00:01.209155\n"
     ]
    },
    {
     "name": "stdout",
     "output_type": "stream",
     "text": [
      "episode: 131/200, loss: 0.3870, duration: 0:00:01.130502\n"
     ]
    },
    {
     "name": "stdout",
     "output_type": "stream",
     "text": [
      "episode: 141/200, loss: 0.3470, duration: 0:00:01.179479\n"
     ]
    },
    {
     "name": "stdout",
     "output_type": "stream",
     "text": [
      "episode: 151/200, loss: 0.2850, duration: 0:00:01.115749\n"
     ]
    },
    {
     "name": "stdout",
     "output_type": "stream",
     "text": [
      "episode: 161/200, loss: 0.5087, duration: 0:00:01.363446\n"
     ]
    },
    {
     "name": "stdout",
     "output_type": "stream",
     "text": [
      "episode: 171/200, loss: 0.8269, duration: 0:00:01.609852\n"
     ]
    },
    {
     "name": "stdout",
     "output_type": "stream",
     "text": [
      "episode: 181/200, loss: 0.3673, duration: 0:00:02.053676\n"
     ]
    },
    {
     "name": "stdout",
     "output_type": "stream",
     "text": [
      "episode: 191/200, loss: 0.3396, duration: 0:00:01.132736\n"
     ]
    },
    {
     "name": "stdout",
     "output_type": "stream",
     "text": [
      "#############################################################################\n",
      "##\t[53/54]\tmodel=RL_CNN,\tSEED=0,\ttrade=100,\trisk=316\thold=1000\t##\n",
      "#############################################################################\n"
     ]
    },
    {
     "name": "stdout",
     "output_type": "stream",
     "text": [
      "episode: 1/200, loss: 2.0348, duration: 0:00:01.175510\n"
     ]
    },
    {
     "name": "stdout",
     "output_type": "stream",
     "text": [
      "episode: 11/200, loss: 0.5252, duration: 0:00:01.213002\n"
     ]
    },
    {
     "name": "stdout",
     "output_type": "stream",
     "text": [
      "episode: 21/200, loss: 0.2442, duration: 0:00:01.245874\n"
     ]
    },
    {
     "name": "stdout",
     "output_type": "stream",
     "text": [
      "episode: 31/200, loss: 0.1715, duration: 0:00:01.234695\n"
     ]
    },
    {
     "name": "stdout",
     "output_type": "stream",
     "text": [
      "episode: 41/200, loss: 0.2145, duration: 0:00:01.100194\n"
     ]
    },
    {
     "name": "stdout",
     "output_type": "stream",
     "text": [
      "episode: 51/200, loss: 0.3831, duration: 0:00:01.401926\n"
     ]
    },
    {
     "name": "stdout",
     "output_type": "stream",
     "text": [
      "episode: 61/200, loss: 0.2258, duration: 0:00:01.338498\n"
     ]
    },
    {
     "name": "stdout",
     "output_type": "stream",
     "text": [
      "episode: 71/200, loss: 0.4911, duration: 0:00:01.365670\n"
     ]
    },
    {
     "name": "stdout",
     "output_type": "stream",
     "text": [
      "episode: 81/200, loss: 0.1687, duration: 0:00:01.468687\n"
     ]
    },
    {
     "name": "stdout",
     "output_type": "stream",
     "text": [
      "episode: 91/200, loss: 0.4283, duration: 0:00:01.219622\n"
     ]
    },
    {
     "name": "stdout",
     "output_type": "stream",
     "text": [
      "episode: 101/200, loss: 0.3307, duration: 0:00:01.157971\n"
     ]
    },
    {
     "name": "stdout",
     "output_type": "stream",
     "text": [
      "episode: 111/200, loss: 0.2422, duration: 0:00:01.104380\n"
     ]
    },
    {
     "name": "stdout",
     "output_type": "stream",
     "text": [
      "episode: 121/200, loss: 0.2211, duration: 0:00:01.461669\n"
     ]
    },
    {
     "name": "stdout",
     "output_type": "stream",
     "text": [
      "episode: 131/200, loss: 0.2943, duration: 0:00:01.286382\n"
     ]
    },
    {
     "name": "stdout",
     "output_type": "stream",
     "text": [
      "episode: 141/200, loss: 0.2574, duration: 0:00:01.111570\n"
     ]
    },
    {
     "name": "stdout",
     "output_type": "stream",
     "text": [
      "episode: 151/200, loss: 0.2260, duration: 0:00:01.370388\n"
     ]
    },
    {
     "name": "stdout",
     "output_type": "stream",
     "text": [
      "episode: 161/200, loss: 0.3421, duration: 0:00:01.138083\n"
     ]
    },
    {
     "name": "stdout",
     "output_type": "stream",
     "text": [
      "episode: 171/200, loss: 0.5722, duration: 0:00:01.402296\n"
     ]
    },
    {
     "name": "stdout",
     "output_type": "stream",
     "text": [
      "episode: 181/200, loss: 0.3200, duration: 0:00:01.284934\n"
     ]
    },
    {
     "name": "stdout",
     "output_type": "stream",
     "text": [
      "episode: 191/200, loss: 0.2698, duration: 0:00:01.171329\n"
     ]
    },
    {
     "name": "stdout",
     "output_type": "stream",
     "text": [
      "#############################################################################\n",
      "##\t[54/54]\tmodel=RL_CNN,\tSEED=0,\ttrade=100,\trisk=316\thold=10000\t##\n",
      "#############################################################################\n"
     ]
    },
    {
     "name": "stdout",
     "output_type": "stream",
     "text": [
      "episode: 1/200, loss: 9.0405, duration: 0:00:01.143125\n"
     ]
    },
    {
     "name": "stdout",
     "output_type": "stream",
     "text": [
      "episode: 11/200, loss: 0.7817, duration: 0:00:01.198042\n"
     ]
    },
    {
     "name": "stdout",
     "output_type": "stream",
     "text": [
      "episode: 21/200, loss: 0.2416, duration: 0:00:01.278037\n"
     ]
    },
    {
     "name": "stdout",
     "output_type": "stream",
     "text": [
      "episode: 31/200, loss: 0.1837, duration: 0:00:01.297700\n"
     ]
    },
    {
     "name": "stdout",
     "output_type": "stream",
     "text": [
      "episode: 41/200, loss: 0.2131, duration: 0:00:01.363512\n"
     ]
    },
    {
     "name": "stdout",
     "output_type": "stream",
     "text": [
      "episode: 51/200, loss: 0.4077, duration: 0:00:01.209849\n"
     ]
    },
    {
     "name": "stdout",
     "output_type": "stream",
     "text": [
      "episode: 61/200, loss: 0.1788, duration: 0:00:01.297150\n"
     ]
    },
    {
     "name": "stdout",
     "output_type": "stream",
     "text": [
      "episode: 71/200, loss: 0.5107, duration: 0:00:01.095714\n"
     ]
    },
    {
     "name": "stdout",
     "output_type": "stream",
     "text": [
      "episode: 81/200, loss: 0.1174, duration: 0:00:01.163667\n"
     ]
    },
    {
     "name": "stdout",
     "output_type": "stream",
     "text": [
      "episode: 91/200, loss: 0.5932, duration: 0:00:01.101620\n"
     ]
    },
    {
     "name": "stdout",
     "output_type": "stream",
     "text": [
      "episode: 101/200, loss: 0.2287, duration: 0:00:01.113593\n"
     ]
    },
    {
     "name": "stdout",
     "output_type": "stream",
     "text": [
      "episode: 111/200, loss: 0.1976, duration: 0:00:01.132646\n"
     ]
    },
    {
     "name": "stdout",
     "output_type": "stream",
     "text": [
      "episode: 121/200, loss: 0.1385, duration: 0:00:01.107384\n"
     ]
    },
    {
     "name": "stdout",
     "output_type": "stream",
     "text": [
      "episode: 131/200, loss: 0.1921, duration: 0:00:01.200795\n"
     ]
    },
    {
     "name": "stdout",
     "output_type": "stream",
     "text": [
      "episode: 141/200, loss: 0.1863, duration: 0:00:01.257015\n"
     ]
    },
    {
     "name": "stdout",
     "output_type": "stream",
     "text": [
      "episode: 151/200, loss: 0.1634, duration: 0:00:01.151289\n"
     ]
    },
    {
     "name": "stdout",
     "output_type": "stream",
     "text": [
      "episode: 161/200, loss: 0.2781, duration: 0:00:01.345382\n"
     ]
    },
    {
     "name": "stdout",
     "output_type": "stream",
     "text": [
      "episode: 171/200, loss: 0.4746, duration: 0:00:01.098315\n"
     ]
    },
    {
     "name": "stdout",
     "output_type": "stream",
     "text": [
      "episode: 181/200, loss: 0.3443, duration: 0:00:01.413635\n"
     ]
    },
    {
     "name": "stdout",
     "output_type": "stream",
     "text": [
      "episode: 191/200, loss: 0.2299, duration: 0:00:01.126209\n"
     ]
    },
    {
     "name": "stdout",
     "output_type": "stream",
     "text": [
      "CPU times: user 25min 7s, sys: 12.3 s, total: 25min 19s\n",
      "Wall time: 24min 57s\n"
     ]
    },
    {
     "data": {
      "text/plain": [
       "<Figure size 1008x360 with 0 Axes>"
      ]
     },
     "metadata": {},
     "output_type": "display_data"
    },
    {
     "data": {
      "text/plain": [
       "<Figure size 1008x360 with 0 Axes>"
      ]
     },
     "metadata": {},
     "output_type": "display_data"
    },
    {
     "data": {
      "text/plain": [
       "<Figure size 1008x360 with 0 Axes>"
      ]
     },
     "metadata": {},
     "output_type": "display_data"
    },
    {
     "data": {
      "text/plain": [
       "<Figure size 1008x360 with 0 Axes>"
      ]
     },
     "metadata": {},
     "output_type": "display_data"
    },
    {
     "data": {
      "text/plain": [
       "<Figure size 1008x360 with 0 Axes>"
      ]
     },
     "metadata": {},
     "output_type": "display_data"
    },
    {
     "data": {
      "text/plain": [
       "<Figure size 1008x360 with 0 Axes>"
      ]
     },
     "metadata": {},
     "output_type": "display_data"
    }
   ],
   "source": [
    "%%time\n",
    "##########################\n",
    "### main training loop ###\n",
    "##########################\n",
    "\n",
    "# define investor preferences to train for\n",
    "#------ extended-boyd-sweep ------#\n",
    "#GAMMA_TRADES = [5.5, 6, 6.5, 7, 7.5, 8, 9, 10, 11, 12, 15, 20, 30]\n",
    "#GAMMA_TRADES = [4, 5]\n",
    "#GAMMA_TRADES = [0.1, 0.5, 1, 2, 3, 45, 60, 100, 200]\n",
    "#GAMMA_RISKS = [0.1, 0.178, 0.316, 0.562, 1, 2, 3, 6, 10, 18, 32, 56, 100, 178, 316, 562, 1000, 2000, 5000, 10000, 20000]\n",
    "#---------------------------------#\n",
    "counter = 0\n",
    "\n",
    "for RANDOM_SEED in SEED_LIST:\n",
    "    model_name = f'{MODEL_BASE_NAME}_seed_{RANDOM_SEED}'\n",
    "    maybe_make_dir(f'../experiments/{MARKET_NAME}/seeded/{MODEL_BASE_NAME}/seed_{RANDOM_SEED}')\n",
    "    \n",
    "    for (GAMMA_TRADE, GAMMA_RISK, GAMMA_HOLD) in GAMMA_TRIOS:\n",
    "        # set random generator seed for tf and np\n",
    "        # this is probably unnecessary because it is done when env is initialised but just incase\n",
    "        tf.random.set_seed(RANDOM_SEED)\n",
    "        np.random.seed(RANDOM_SEED)\n",
    "        counter += 1\n",
    "\n",
    "        # check if test lready done. skip if so\n",
    "        #if not FROM_PRETRAINED:\n",
    "            #skip = os.path.exists(f'experiments/12_assets/00_seeded/seed_{RANDOM_SEED}/trade_{GAMMA_TRADE}_risk_{GAMMA_RISK}') # check if already exists\n",
    "        #else:\n",
    "        \n",
    "        skip = os.path.exists(f'../experiments/{MARKET_NAME}/seeded/{MODEL_BASE_NAME}/seed_{RANDOM_SEED}/trade_{GAMMA_TRADE}_risk_{GAMMA_RISK}_hold_{GAMMA_HOLD}')\n",
    "\n",
    "        if not skip: # if not exists, do test\n",
    "\n",
    "            print('#############################################################################')\n",
    "            print(f'##\\t[{counter}/{len(GAMMA_TRIOS)}]\\tmodel={MODEL_BASE_NAME},\\tSEED={RANDOM_SEED},\\ttrade={GAMMA_TRADE},\\trisk={GAMMA_RISK}\\thold={GAMMA_HOLD}\\t##')\n",
    "            print('#############################################################################')        \n",
    "\n",
    "            # create agent and environment\n",
    "            env = MultiStockEnv(tickers=TICKERS, \n",
    "                                from_date=FROM,\n",
    "                                until=UNTIL, \n",
    "                                #nb_episodes=100,\n",
    "                                cash_key='USDOLLAR', \n",
    "                                gamma_risk=GAMMA_RISK, \n",
    "                                gamma_trade=GAMMA_TRADE,\n",
    "                                gamma_hold=GAMMA_HOLD,\n",
    "                                half_spread=HALF_SPREAD, \n",
    "                                nonlin_coef=NONLIN_COEFF, \n",
    "                                power=POWER, \n",
    "                                datadir=DATA_DIR, \n",
    "                                state_lookback_window=20, \n",
    "                                distribution=EPISODE_DRAW_DISTRIBUTION,\n",
    "                                days_duration=DAYS_IN_EPISODE, \n",
    "                                mode='train', \n",
    "                                random_seed=RANDOM_SEED,\n",
    "                                init_portfolio=INIT_PORTFOLIO, \n",
    "                                period_in_file_name=FILE_PERIOD, \n",
    "                                nb_forecasts=NB_FORECASTS, \n",
    "                                forecast_type=FORECAST_TYPE,\n",
    "                                use_CNN_state=USE_CNN_STATE,\n",
    "                                verbose=False)\n",
    "\n",
    "            agent = Agent(alpha=0.001, \n",
    "                          gamma=0.99, \n",
    "                          n_assets=len(TICKERS)+1, \n",
    "                          tau=5, \n",
    "                          lookback_window=20, \n",
    "                          n_feature_maps=len(TICKERS)+1,\n",
    "                          use_forecasts=USE_FORECASTS,\n",
    "                          use_CNN_state=USE_CNN_STATE,\n",
    "                          allow_long_short_trades=True)\n",
    "\n",
    "            # initialise policy by one forward pass then load pretrained weights\n",
    "            #if FROM_PRETRAINED: \n",
    "                #agent.choose_action(env._get_obs())\n",
    "                #agent.load(pretrined_weights_dir)\n",
    "\n",
    "            # configure folders\n",
    "            experiments_folder = f'../experiments/{MARKET_NAME}'\n",
    "            from_seeded_folder = f'{experiments_folder}/seeded'\n",
    "            base_model_folder = f'{from_seeded_folder}/{MODEL_BASE_NAME}'\n",
    "            seed_folder = f'{base_model_folder}/seed_{RANDOM_SEED}'\n",
    "            #if FROM_PRETRAINED:\n",
    "            #    pretrained_folder = f'{nb_assets_folder}/0_further_trained'\n",
    "            #    preference_folder = f'{pretrained_folder}/trade_{GAMMA_TRADE}_risk_{GAMMA_RISK}'\n",
    "            #else:\n",
    "            preference_folder = f'{seed_folder}/trade_{GAMMA_TRADE}_risk_{GAMMA_RISK}_hold_{GAMMA_HOLD}'\n",
    "            models_folder = f'{preference_folder}/models' # where saved models will be saved\n",
    "            losses_folder = f'{preference_folder}/losses' # where losses will be saved for plotting training progress\n",
    "            fig_folder = f'{preference_folder}/figures'\n",
    "\n",
    "            # create dirictories for saving outputs to (if they don't exist already)\n",
    "            #maybe_make_dir(nb_assets_folder)\n",
    "            maybe_make_dir(seed_folder)\n",
    "            maybe_make_dir(preference_folder)\n",
    "            maybe_make_dir(models_folder)\n",
    "            maybe_make_dir(losses_folder)\n",
    "            maybe_make_dir(fig_folder)\n",
    "\n",
    "            if MODE == 'train':\n",
    "                # play the game num_episodes times and update weights according to loss\n",
    "                losses = []\n",
    "                for e in range(NB_EPISODES):\n",
    "\n",
    "                    # save model weights every few episodes\n",
    "                    if (e%SAVE_EVERY == 0) and (e!=0):\n",
    "                        agent.save(f'{models_folder}/{model_name}_{e}')\n",
    "                        # save losses of training period\n",
    "                        np.save(f'{losses_folder}/{model_name}_{MODE}_{e}_losses.npy', np.array(losses))\n",
    "\n",
    "                    t0 = datetime.datetime.now()\n",
    "                    try:\n",
    "                        loss = play_one_episode(agent, env, MODE)\n",
    "                    except Exception as err:\n",
    "                        print(f'\\t*** error in episode {e}:', err)\n",
    "                        loss = np.nan#5.0 # just an arbitraty number that seems high compared to usual losses\n",
    "                    dt = datetime.datetime.now() - t0\n",
    "                    losses.append(loss) # append episode loss\n",
    "                    # print progress\n",
    "                    if (e%10 == 0):\n",
    "                        print(f\"episode: {e + 1}/{NB_EPISODES}, loss: {loss:.4f}, duration: {dt}\")\n",
    "\n",
    "\n",
    "                # save the weights and losses when done\t\n",
    "                agent.save(f'{models_folder}/{model_name}_{NB_EPISODES}')\n",
    "                np.save(f'{losses_folder}/{model_name}_{MODE}_{NB_EPISODES}_losses.npy', np.array(losses))\n",
    "\n",
    "            # plot losses\n",
    "            save_fig = True\n",
    "\n",
    "            # load losses file\n",
    "            file = f'{losses_folder}/{model_name}_{MODE}_{NB_EPISODES}_losses.npy'\n",
    "            loaded_losses = np.load(file)\n",
    "\n",
    "            # plot losses\n",
    "            plt.figure(figsize=(14,5))\n",
    "            plt.plot(loaded_losses)\n",
    "            plt.title(f'{model_name} Training Loss')\n",
    "            plt.xlabel('Episode Number')\n",
    "            plt.ylabel(r'Loss: $-G \\approx -\\mathbb{E}\\left[ \\sum_{k=0}^{T} \\gamma^k R_t \\right]$')\n",
    "            #plt.yscale('symlog')\n",
    "            if save_fig:\n",
    "                plt.savefig(f'{fig_folder}/{model_name}_losses.png', dpi=150, facecolor=None, edgecolor=None, bbox_inches='tight')\n",
    "            plt.clf()\n",
    "\n",
    "        else:\n",
    "            print(f'\\talready exists: trade_{GAMMA_TRADE}_risk_{GAMMA_RISK}_hold_{GAMMA_HOLD}')\n",
    "            print('\\tskip to next.')"
   ]
  },
  {
   "cell_type": "code",
   "execution_count": 8,
   "id": "17e09d8d",
   "metadata": {
    "execution": {
     "iopub.execute_input": "2022-06-26T16:46:32.079840Z",
     "iopub.status.busy": "2022-06-26T16:46:32.079178Z",
     "iopub.status.idle": "2022-06-26T16:46:32.085302Z",
     "shell.execute_reply": "2022-06-26T16:46:32.083723Z"
    },
    "papermill": {
     "duration": 0.032772,
     "end_time": "2022-06-26T16:46:32.088518",
     "exception": false,
     "start_time": "2022-06-26T16:46:32.055746",
     "status": "completed"
    },
    "tags": []
   },
   "outputs": [],
   "source": [
    "# double check the end of training\n",
    "#env.until"
   ]
  },
  {
   "cell_type": "code",
   "execution_count": 9,
   "id": "662ea949",
   "metadata": {
    "execution": {
     "iopub.execute_input": "2022-06-26T16:46:32.134022Z",
     "iopub.status.busy": "2022-06-26T16:46:32.133375Z",
     "iopub.status.idle": "2022-06-26T16:46:32.142303Z",
     "shell.execute_reply": "2022-06-26T16:46:32.140523Z"
    },
    "papermill": {
     "duration": 0.03572,
     "end_time": "2022-06-26T16:46:32.145508",
     "exception": false,
     "start_time": "2022-06-26T16:46:32.109788",
     "status": "completed"
    },
    "tags": []
   },
   "outputs": [
    {
     "name": "stdout",
     "output_type": "stream",
     "text": [
      "training done.\n"
     ]
    }
   ],
   "source": [
    "print('training done.')"
   ]
  },
  {
   "cell_type": "code",
   "execution_count": 10,
   "id": "a03bcb28",
   "metadata": {
    "execution": {
     "iopub.execute_input": "2022-06-26T16:46:32.191522Z",
     "iopub.status.busy": "2022-06-26T16:46:32.190880Z",
     "iopub.status.idle": "2022-06-26T16:46:32.197482Z",
     "shell.execute_reply": "2022-06-26T16:46:32.195613Z"
    },
    "papermill": {
     "duration": 0.033475,
     "end_time": "2022-06-26T16:46:32.200641",
     "exception": false,
     "start_time": "2022-06-26T16:46:32.167166",
     "status": "completed"
    },
    "tags": []
   },
   "outputs": [],
   "source": [
    "### Now repeat this for the different RL models.\n",
    "### remember to update the gamma-pairs, model base name, and model specs/setup in beginning of notebook!"
   ]
  }
 ],
 "metadata": {
  "interpreter": {
   "hash": "949777d72b0d2535278d3dc13498b2535136f6dfe0678499012e853ee9abcab1"
  },
  "kernelspec": {
   "display_name": "Python 3",
   "language": "python",
   "name": "python3"
  },
  "language_info": {
   "codemirror_mode": {
    "name": "ipython",
    "version": 3
   },
   "file_extension": ".py",
   "mimetype": "text/x-python",
   "name": "python",
   "nbconvert_exporter": "python",
   "pygments_lexer": "ipython3",
   "version": "3.7.6"
  },
  "papermill": {
   "default_parameters": {},
   "duration": 1506.362206,
   "end_time": "2022-06-26T16:46:32.943821",
   "environment_variables": {},
   "exception": null,
   "input_path": "train_template.ipynb",
   "output_path": "slave_notebooks/RL_CNN_LA_40_risks_316_seeds_0.ipynb",
   "parameters": {
    "FROM": "2010-03-01",
    "GAMMA_HOLDS": [
     0.1,
     1,
     10,
     100,
     1000,
     10000
    ],
    "GAMMA_RISKS": [
     316
    ],
    "GAMMA_TRADES": [
     1,
     7,
     8,
     9,
     10,
     11,
     12,
     50,
     100
    ],
    "MARKET_NAME": "LA_40",
    "MODEL_BASE_NAME": "RL_CNN",
    "NB_EPISODES": 200,
    "SAVE_EVERY": 200,
    "SEED_LIST": [
     0
    ],
    "TICKERS": [
     "VALE",
     "ITUB",
     "PBR-A",
     "BBD",
     "PBR",
     "AMXL.MX",
     "WALMEX.MX",
     "FEMSAUBD.MX",
     "GFNORTEO.MX",
     "WEGE3.SA",
     "BBAS3.SA",
     "BAP",
     "CEMEXCPO.MX",
     "SQM",
     "SCCO",
     "GGB",
     "CHILE.SN",
     "ENIA",
     "CIB",
     "TLEVISACPO.MX",
     "EC",
     "BRFS",
     "BSAC",
     "CCRO3.SA"
    ],
    "UNTIL": "2014-12-01"
   },
   "start_time": "2022-06-26T16:21:26.581615",
   "version": "2.3.3"
  }
 },
 "nbformat": 4,
 "nbformat_minor": 5
}