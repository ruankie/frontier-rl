{
 "cells": [
  {
   "cell_type": "code",
   "execution_count": 1,
   "id": "76b409b4",
   "metadata": {
    "execution": {
     "iopub.execute_input": "2022-06-26T16:21:29.699726Z",
     "iopub.status.busy": "2022-06-26T16:21:29.699221Z",
     "iopub.status.idle": "2022-06-26T16:21:33.228515Z",
     "shell.execute_reply": "2022-06-26T16:21:33.226128Z"
    },
    "papermill": {
     "duration": 3.54148,
     "end_time": "2022-06-26T16:21:33.233272",
     "exception": false,
     "start_time": "2022-06-26T16:21:29.691792",
     "status": "completed"
    },
    "tags": []
   },
   "outputs": [
    {
     "name": "stdout",
     "output_type": "stream",
     "text": [
      "CPU times: user 3.6 s, sys: 1.85 s, total: 5.46 s\n",
      "Wall time: 3.41 s\n"
     ]
    }
   ],
   "source": [
    "%%time\n",
    "import numpy as np\n",
    "import pandas as pd\n",
    "import matplotlib.pyplot as plt\n",
    "import datetime\n",
    "import os\n",
    "from src.models.frontier import MultiStockEnv, Agent, play_one_episode, maybe_make_dir\n",
    "from src.config import market_tickers\n",
    "from src.config.model_config import model_parameters\n",
    "import tensorflow as tf"
   ]
  },
  {
   "cell_type": "code",
   "execution_count": 2,
   "id": "a5d4bf85",
   "metadata": {
    "execution": {
     "iopub.execute_input": "2022-06-26T16:21:33.273694Z",
     "iopub.status.busy": "2022-06-26T16:21:33.272782Z",
     "iopub.status.idle": "2022-06-26T16:21:33.343093Z",
     "shell.execute_reply": "2022-06-26T16:21:33.341217Z"
    },
    "papermill": {
     "duration": 0.101324,
     "end_time": "2022-06-26T16:21:33.346756",
     "exception": false,
     "start_time": "2022-06-26T16:21:33.245432",
     "status": "completed"
    },
    "tags": []
   },
   "outputs": [
    {
     "data": {
      "text/plain": [
       "{'RL_CNN': {'use_forecasts': False,\n",
       "  'nb_forecasts': None,\n",
       "  'forecast_type': 'strong',\n",
       "  'use_cnn_state': True},\n",
       " 'RL_str_fcast': {'use_forecasts': True,\n",
       "  'nb_forecasts': 2,\n",
       "  'forecast_type': 'strong',\n",
       "  'use_cnn_state': False},\n",
       " 'RL_all_inp': {'use_forecasts': True,\n",
       "  'nb_forecasts': 2,\n",
       "  'forecast_type': 'strong',\n",
       "  'use_cnn_state': True}}"
      ]
     },
     "execution_count": 2,
     "metadata": {},
     "output_type": "execute_result"
    }
   ],
   "source": [
    "from src.config.model_config import model_parameters\n",
    "model_parameters"
   ]
  },
  {
   "cell_type": "code",
   "execution_count": 3,
   "id": "32bae1c7",
   "metadata": {
    "execution": {
     "iopub.execute_input": "2022-06-26T16:21:33.421252Z",
     "iopub.status.busy": "2022-06-26T16:21:33.420581Z",
     "iopub.status.idle": "2022-06-26T16:21:33.438958Z",
     "shell.execute_reply": "2022-06-26T16:21:33.436924Z"
    },
    "papermill": {
     "duration": 0.088361,
     "end_time": "2022-06-26T16:21:33.443639",
     "exception": false,
     "start_time": "2022-06-26T16:21:33.355278",
     "status": "completed"
    },
    "tags": [
     "parameters"
    ]
   },
   "outputs": [],
   "source": [
    "# papermill parameters\n",
    "SEED_LIST = [\n",
    "             0,\n",
    "             #1111,\n",
    "             #2222, \n",
    "             #3333, \n",
    "             #4444, \n",
    "             #5555,\n",
    "             #6666,\n",
    "             #7777,\n",
    "             #8888,\n",
    "             #9999\n",
    "            ]\n",
    "\n",
    "#TICKERS = market_tickers.DOW_30_TICKER\n",
    "TICKERS = ['AAPL', 'AMD', 'CSCO', 'F', 'INTC']\n",
    "MARKET_NAME = 'TEST_5'\n",
    "MODEL_BASE_NAME = 'RL_CNN' # use either | 'RL_CNN' | 'RL_str_fcast' | 'RL_all_inp' |\n",
    "FROM = '2017-01-03' # start of training set\n",
    "UNTIL = '2019-01-01' # end of training set\n",
    "NB_EPISODES = 200 # number of episodes to train for\n",
    "SAVE_EVERY = 200 # (used 100 when not from tretrained) save model weights every time this amount of episodes pass\n",
    "\n",
    "# investor preferences\n",
    "GAMMA_TRADES = [0.1, 1, 10, 100]\n",
    "GAMMA_RISKS = [0.1, 1, 10, 100, 1000]\n",
    "GAMMA_HOLDS = [0.1, 1]"
   ]
  },
  {
   "cell_type": "code",
   "execution_count": 4,
   "id": "07f41a32",
   "metadata": {
    "execution": {
     "iopub.execute_input": "2022-06-26T16:21:33.485546Z",
     "iopub.status.busy": "2022-06-26T16:21:33.484930Z",
     "iopub.status.idle": "2022-06-26T16:21:33.509106Z",
     "shell.execute_reply": "2022-06-26T16:21:33.507366Z"
    },
    "papermill": {
     "duration": 0.052951,
     "end_time": "2022-06-26T16:21:33.512645",
     "exception": false,
     "start_time": "2022-06-26T16:21:33.459694",
     "status": "completed"
    },
    "tags": [
     "injected-parameters"
    ]
   },
   "outputs": [],
   "source": [
    "# Parameters\n",
    "SEED_LIST = [0]\n",
    "TICKERS = [\n",
    "    \"AAPL\",\n",
    "    \"MSFT\",\n",
    "    \"JPM\",\n",
    "    \"V\",\n",
    "    \"RTX\",\n",
    "    \"PG\",\n",
    "    \"GS\",\n",
    "    \"NKE\",\n",
    "    \"DIS\",\n",
    "    \"AXP\",\n",
    "    \"HD\",\n",
    "    \"INTC\",\n",
    "    \"WMT\",\n",
    "    \"IBM\",\n",
    "    \"MRK\",\n",
    "    \"UNH\",\n",
    "    \"KO\",\n",
    "    \"CAT\",\n",
    "    \"TRV\",\n",
    "    \"JNJ\",\n",
    "    \"CVX\",\n",
    "    \"MCD\",\n",
    "    \"VZ\",\n",
    "    \"CSCO\",\n",
    "    \"XOM\",\n",
    "    \"BA\",\n",
    "    \"MMM\",\n",
    "    \"PFE\",\n",
    "    \"WBA\",\n",
    "    \"DD\",\n",
    "]\n",
    "MARKET_NAME = \"DOW_30\"\n",
    "MODEL_BASE_NAME = \"RL_CNN\"\n",
    "FROM = \"2010-01-01\"\n",
    "UNTIL = \"2018-01-01\"\n",
    "NB_EPISODES = 200\n",
    "SAVE_EVERY = 200\n",
    "GAMMA_TRADES = [1, 7, 8, 9, 10, 11, 12, 50, 100]\n",
    "GAMMA_RISKS = [56]\n",
    "GAMMA_HOLDS = [0.1, 1, 10, 100, 1000, 10000]\n"
   ]
  },
  {
   "cell_type": "code",
   "execution_count": 5,
   "id": "5260d133",
   "metadata": {
    "execution": {
     "iopub.execute_input": "2022-06-26T16:21:33.529446Z",
     "iopub.status.busy": "2022-06-26T16:21:33.528811Z",
     "iopub.status.idle": "2022-06-26T16:21:33.547759Z",
     "shell.execute_reply": "2022-06-26T16:21:33.546231Z"
    },
    "papermill": {
     "duration": 0.040716,
     "end_time": "2022-06-26T16:21:33.560422",
     "exception": false,
     "start_time": "2022-06-26T16:21:33.519706",
     "status": "completed"
    },
    "tags": []
   },
   "outputs": [
    {
     "name": "stdout",
     "output_type": "stream",
     "text": [
      "number of trios:  54\n"
     ]
    }
   ],
   "source": [
    "#------ small test-sweep ------#\n",
    "# GAMMA_TRADES = [0.1, 1, 10, 100]\n",
    "# GAMMA_RISKS = [0.1, 1, 10, 100, 1000]\n",
    "# GAMMA_HOLDS = [0.1, 1]\n",
    "#------ extended-boyd-sweep ------#\n",
    "# GAMMA_TRADES =  [0.1, 0.5, 1, 2, 3, 4, 5, 5.5, 6, 6.5, 7, 7.5, 8, 9, 10, 11, 12, 15, 20, 30, 45, 60, 100, 200]\n",
    "# GAMMA_RISKS = [0.1, 0.178, 0.316, 0.562, 1, 2, 3, 6, 10, 18, 32, 56, 100, 178, 316, 562, 1000, 2000, 5000, 10000, 20000]\n",
    "#---------------------------------#\n",
    "\n",
    "GAMMA_TRIOS = []\n",
    "for tr in GAMMA_TRADES:\n",
    "    for ri in GAMMA_RISKS:\n",
    "        for hd in GAMMA_HOLDS:\n",
    "            GAMMA_TRIOS.append((tr, ri, hd))\n",
    "        \n",
    "#format: (gamma_trade, gamma_risk, gamma_hold)\n",
    "print('number of trios: ', len(GAMMA_TRIOS))\n",
    "#GAMMA_TRIOS"
   ]
  },
  {
   "cell_type": "code",
   "execution_count": 6,
   "id": "ae0d7f7c",
   "metadata": {
    "execution": {
     "iopub.execute_input": "2022-06-26T16:21:33.594956Z",
     "iopub.status.busy": "2022-06-26T16:21:33.594357Z",
     "iopub.status.idle": "2022-06-26T16:21:33.607491Z",
     "shell.execute_reply": "2022-06-26T16:21:33.605953Z"
    },
    "papermill": {
     "duration": 0.042599,
     "end_time": "2022-06-26T16:21:33.612151",
     "exception": false,
     "start_time": "2022-06-26T16:21:33.569552",
     "status": "completed"
    },
    "tags": []
   },
   "outputs": [],
   "source": [
    "# other constants and parameters\n",
    "TICKERS.sort()\n",
    "FILE_PERIOD = '1d' # weekly='5d', daily='1d'\n",
    "DAYS_IN_EPISODE = 30 # 365 for one-year long episodes (conditions checked at end of episode)\n",
    "EPISODE_DRAW_DISTRIBUTION = 'uniform' # 'uniform' or 'geometric'. select starting point of eposide according to this distribution when generated\n",
    "HALF_SPREAD = 0.0005/2.0 # 'a' in transaction cost function\n",
    "NONLIN_COEFF = 1.0 # 'b' transaction cost function\n",
    "POWER = 1.5 # power for change in poertfolio vector used in transaction cost\n",
    "#GAMMA_RISK, GAMMA_TRADE, GAMMA_HOLD = 18, 6.5, 0.0 # relative importance of risk, trading cost, and holding cost\n",
    "INIT_PORTFOLIO = 100000000.0 # initial portfolio value\n",
    "#model_name = f'REINFORCE_CNN' #_seeded_{UNTIL} # give model a name to distinguish saved files\n",
    "#NB_EPISODES = 300 #2000\n",
    "MODE = 'train' # train or test mode\n",
    "#FROM_PRETRAINED = False\n",
    "DATA_DIR = f'../data/{MARKET_NAME}/preprocessed_data/'\n",
    "\n",
    "# Tune and double-check these before every test:\n",
    "USE_FORECASTS = model_parameters[MODEL_BASE_NAME]['use_forecasts'] # whether to use forecasts as inputs to agent policy net or not\n",
    "NB_FORECASTS = model_parameters[MODEL_BASE_NAME]['nb_forecasts'] # number of forecasts to use in state. Set to None for no forecasts\n",
    "FORECAST_TYPE = model_parameters[MODEL_BASE_NAME]['forecast_type'] # use 'strong' or 'weak' forecasts (if no forecasts given, this does not matter)\n",
    "USE_CNN_STATE = model_parameters[MODEL_BASE_NAME]['use_cnn_state'] # whether to pass log-rets block for CNN part of policy net (set to false for forecast only)"
   ]
  },
  {
   "cell_type": "code",
   "execution_count": 7,
   "id": "cb67acbb",
   "metadata": {
    "execution": {
     "iopub.execute_input": "2022-06-26T16:21:33.668493Z",
     "iopub.status.busy": "2022-06-26T16:21:33.667772Z",
     "iopub.status.idle": "2022-06-26T16:21:33.776228Z",
     "shell.execute_reply": "2022-06-26T16:21:33.768258Z"
    },
    "papermill": {
     "duration": 0.139556,
     "end_time": "2022-06-26T16:21:33.779970",
     "exception": false,
     "start_time": "2022-06-26T16:21:33.640414",
     "status": "completed"
    },
    "scrolled": true,
    "tags": []
   },
   "outputs": [
    {
     "name": "stdout",
     "output_type": "stream",
     "text": [
      "\talready exists: trade_1_risk_56_hold_0.1\n",
      "\tskip to next.\n",
      "\talready exists: trade_1_risk_56_hold_1\n",
      "\tskip to next.\n",
      "\talready exists: trade_1_risk_56_hold_10\n",
      "\tskip to next.\n",
      "\talready exists: trade_1_risk_56_hold_100\n",
      "\tskip to next.\n",
      "\talready exists: trade_1_risk_56_hold_1000\n",
      "\tskip to next.\n",
      "\talready exists: trade_1_risk_56_hold_10000\n",
      "\tskip to next.\n",
      "\talready exists: trade_7_risk_56_hold_0.1\n",
      "\tskip to next.\n",
      "\talready exists: trade_7_risk_56_hold_1\n",
      "\tskip to next.\n",
      "\talready exists: trade_7_risk_56_hold_10\n",
      "\tskip to next.\n",
      "\talready exists: trade_7_risk_56_hold_100\n",
      "\tskip to next.\n",
      "\talready exists: trade_7_risk_56_hold_1000\n",
      "\tskip to next.\n",
      "\talready exists: trade_7_risk_56_hold_10000\n",
      "\tskip to next.\n",
      "\talready exists: trade_8_risk_56_hold_0.1\n",
      "\tskip to next.\n",
      "\talready exists: trade_8_risk_56_hold_1\n",
      "\tskip to next.\n",
      "\talready exists: trade_8_risk_56_hold_10\n",
      "\tskip to next.\n",
      "\talready exists: trade_8_risk_56_hold_100\n",
      "\tskip to next.\n",
      "\talready exists: trade_8_risk_56_hold_1000\n",
      "\tskip to next.\n",
      "\talready exists: trade_8_risk_56_hold_10000\n",
      "\tskip to next.\n",
      "\talready exists: trade_9_risk_56_hold_0.1\n",
      "\tskip to next.\n",
      "\talready exists: trade_9_risk_56_hold_1\n",
      "\tskip to next.\n",
      "\talready exists: trade_9_risk_56_hold_10\n",
      "\tskip to next.\n",
      "\talready exists: trade_9_risk_56_hold_100\n",
      "\tskip to next.\n",
      "\talready exists: trade_9_risk_56_hold_1000\n",
      "\tskip to next.\n",
      "\talready exists: trade_9_risk_56_hold_10000\n",
      "\tskip to next.\n",
      "\talready exists: trade_10_risk_56_hold_0.1\n",
      "\tskip to next.\n",
      "\talready exists: trade_10_risk_56_hold_1\n",
      "\tskip to next.\n",
      "\talready exists: trade_10_risk_56_hold_10\n",
      "\tskip to next.\n",
      "\talready exists: trade_10_risk_56_hold_100\n",
      "\tskip to next.\n",
      "\talready exists: trade_10_risk_56_hold_1000\n",
      "\tskip to next.\n",
      "\talready exists: trade_10_risk_56_hold_10000\n",
      "\tskip to next.\n",
      "\talready exists: trade_11_risk_56_hold_0.1\n",
      "\tskip to next.\n",
      "\talready exists: trade_11_risk_56_hold_1\n",
      "\tskip to next.\n",
      "\talready exists: trade_11_risk_56_hold_10\n",
      "\tskip to next.\n",
      "\talready exists: trade_11_risk_56_hold_100\n",
      "\tskip to next.\n",
      "\talready exists: trade_11_risk_56_hold_1000\n",
      "\tskip to next.\n",
      "\talready exists: trade_11_risk_56_hold_10000\n",
      "\tskip to next.\n",
      "\talready exists: trade_12_risk_56_hold_0.1\n",
      "\tskip to next.\n",
      "\talready exists: trade_12_risk_56_hold_1\n",
      "\tskip to next.\n",
      "\talready exists: trade_12_risk_56_hold_10\n",
      "\tskip to next.\n",
      "\talready exists: trade_12_risk_56_hold_100\n",
      "\tskip to next.\n",
      "\talready exists: trade_12_risk_56_hold_1000\n",
      "\tskip to next.\n",
      "\talready exists: trade_12_risk_56_hold_10000\n",
      "\tskip to next.\n",
      "\talready exists: trade_50_risk_56_hold_0.1\n",
      "\tskip to next.\n",
      "\talready exists: trade_50_risk_56_hold_1"
     ]
    },
    {
     "name": "stdout",
     "output_type": "stream",
     "text": [
      "\n",
      "\tskip to next.\n",
      "\talready exists: trade_50_risk_56_hold_10\n",
      "\tskip to next.\n",
      "\talready exists: trade_50_risk_56_hold_100\n",
      "\tskip to next.\n",
      "\talready exists: trade_50_risk_56_hold_1000\n",
      "\tskip to next.\n",
      "\talready exists: trade_50_risk_56_hold_10000\n",
      "\tskip to next.\n",
      "\talready exists: trade_100_risk_56_hold_0.1\n",
      "\tskip to next.\n",
      "\talready exists: trade_100_risk_56_hold_1\n",
      "\tskip to next.\n",
      "\talready exists: trade_100_risk_56_hold_10\n",
      "\tskip to next.\n",
      "\talready exists: trade_100_risk_56_hold_100\n",
      "\tskip to next.\n",
      "\talready exists: trade_100_risk_56_hold_1000\n",
      "\tskip to next.\n",
      "\talready exists: trade_100_risk_56_hold_10000\n",
      "\tskip to next.\n",
      "CPU times: user 35.9 ms, sys: 0 ns, total: 35.9 ms\n",
      "Wall time: 51 ms\n"
     ]
    }
   ],
   "source": [
    "%%time\n",
    "##########################\n",
    "### main training loop ###\n",
    "##########################\n",
    "\n",
    "# define investor preferences to train for\n",
    "#------ extended-boyd-sweep ------#\n",
    "#GAMMA_TRADES = [5.5, 6, 6.5, 7, 7.5, 8, 9, 10, 11, 12, 15, 20, 30]\n",
    "#GAMMA_TRADES = [4, 5]\n",
    "#GAMMA_TRADES = [0.1, 0.5, 1, 2, 3, 45, 60, 100, 200]\n",
    "#GAMMA_RISKS = [0.1, 0.178, 0.316, 0.562, 1, 2, 3, 6, 10, 18, 32, 56, 100, 178, 316, 562, 1000, 2000, 5000, 10000, 20000]\n",
    "#---------------------------------#\n",
    "counter = 0\n",
    "\n",
    "for RANDOM_SEED in SEED_LIST:\n",
    "    model_name = f'{MODEL_BASE_NAME}_seed_{RANDOM_SEED}'\n",
    "    maybe_make_dir(f'../experiments/{MARKET_NAME}/seeded/{MODEL_BASE_NAME}/seed_{RANDOM_SEED}')\n",
    "    \n",
    "    for (GAMMA_TRADE, GAMMA_RISK, GAMMA_HOLD) in GAMMA_TRIOS:\n",
    "        # set random generator seed for tf and np\n",
    "        # this is probably unnecessary because it is done when env is initialised but just incase\n",
    "        tf.random.set_seed(RANDOM_SEED)\n",
    "        np.random.seed(RANDOM_SEED)\n",
    "        counter += 1\n",
    "\n",
    "        # check if test lready done. skip if so\n",
    "        #if not FROM_PRETRAINED:\n",
    "            #skip = os.path.exists(f'experiments/12_assets/00_seeded/seed_{RANDOM_SEED}/trade_{GAMMA_TRADE}_risk_{GAMMA_RISK}') # check if already exists\n",
    "        #else:\n",
    "        \n",
    "        skip = os.path.exists(f'../experiments/{MARKET_NAME}/seeded/{MODEL_BASE_NAME}/seed_{RANDOM_SEED}/trade_{GAMMA_TRADE}_risk_{GAMMA_RISK}_hold_{GAMMA_HOLD}')\n",
    "\n",
    "        if not skip: # if not exists, do test\n",
    "\n",
    "            print('#############################################################################')\n",
    "            print(f'##\\t[{counter}/{len(GAMMA_TRIOS)}]\\tmodel={MODEL_BASE_NAME},\\tSEED={RANDOM_SEED},\\ttrade={GAMMA_TRADE},\\trisk={GAMMA_RISK}\\thold={GAMMA_HOLD}\\t##')\n",
    "            print('#############################################################################')        \n",
    "\n",
    "            # create agent and environment\n",
    "            env = MultiStockEnv(tickers=TICKERS, \n",
    "                                from_date=FROM,\n",
    "                                until=UNTIL, \n",
    "                                #nb_episodes=100,\n",
    "                                cash_key='USDOLLAR', \n",
    "                                gamma_risk=GAMMA_RISK, \n",
    "                                gamma_trade=GAMMA_TRADE,\n",
    "                                gamma_hold=GAMMA_HOLD,\n",
    "                                half_spread=HALF_SPREAD, \n",
    "                                nonlin_coef=NONLIN_COEFF, \n",
    "                                power=POWER, \n",
    "                                datadir=DATA_DIR, \n",
    "                                state_lookback_window=20, \n",
    "                                distribution=EPISODE_DRAW_DISTRIBUTION,\n",
    "                                days_duration=DAYS_IN_EPISODE, \n",
    "                                mode='train', \n",
    "                                random_seed=RANDOM_SEED,\n",
    "                                init_portfolio=INIT_PORTFOLIO, \n",
    "                                period_in_file_name=FILE_PERIOD, \n",
    "                                nb_forecasts=NB_FORECASTS, \n",
    "                                forecast_type=FORECAST_TYPE,\n",
    "                                use_CNN_state=USE_CNN_STATE,\n",
    "                                verbose=False)\n",
    "\n",
    "            agent = Agent(alpha=0.001, \n",
    "                          gamma=0.99, \n",
    "                          n_assets=len(TICKERS)+1, \n",
    "                          tau=5, \n",
    "                          lookback_window=20, \n",
    "                          n_feature_maps=len(TICKERS)+1,\n",
    "                          use_forecasts=USE_FORECASTS,\n",
    "                          use_CNN_state=USE_CNN_STATE,\n",
    "                          allow_long_short_trades=True)\n",
    "\n",
    "            # initialise policy by one forward pass then load pretrained weights\n",
    "            #if FROM_PRETRAINED: \n",
    "                #agent.choose_action(env._get_obs())\n",
    "                #agent.load(pretrined_weights_dir)\n",
    "\n",
    "            # configure folders\n",
    "            experiments_folder = f'../experiments/{MARKET_NAME}'\n",
    "            from_seeded_folder = f'{experiments_folder}/seeded'\n",
    "            base_model_folder = f'{from_seeded_folder}/{MODEL_BASE_NAME}'\n",
    "            seed_folder = f'{base_model_folder}/seed_{RANDOM_SEED}'\n",
    "            #if FROM_PRETRAINED:\n",
    "            #    pretrained_folder = f'{nb_assets_folder}/0_further_trained'\n",
    "            #    preference_folder = f'{pretrained_folder}/trade_{GAMMA_TRADE}_risk_{GAMMA_RISK}'\n",
    "            #else:\n",
    "            preference_folder = f'{seed_folder}/trade_{GAMMA_TRADE}_risk_{GAMMA_RISK}_hold_{GAMMA_HOLD}'\n",
    "            models_folder = f'{preference_folder}/models' # where saved models will be saved\n",
    "            losses_folder = f'{preference_folder}/losses' # where losses will be saved for plotting training progress\n",
    "            fig_folder = f'{preference_folder}/figures'\n",
    "\n",
    "            # create dirictories for saving outputs to (if they don't exist already)\n",
    "            #maybe_make_dir(nb_assets_folder)\n",
    "            maybe_make_dir(seed_folder)\n",
    "            maybe_make_dir(preference_folder)\n",
    "            maybe_make_dir(models_folder)\n",
    "            maybe_make_dir(losses_folder)\n",
    "            maybe_make_dir(fig_folder)\n",
    "\n",
    "            if MODE == 'train':\n",
    "                # play the game num_episodes times and update weights according to loss\n",
    "                losses = []\n",
    "                for e in range(NB_EPISODES):\n",
    "\n",
    "                    # save model weights every few episodes\n",
    "                    if (e%SAVE_EVERY == 0) and (e!=0):\n",
    "                        agent.save(f'{models_folder}/{model_name}_{e}')\n",
    "                        # save losses of training period\n",
    "                        np.save(f'{losses_folder}/{model_name}_{MODE}_{e}_losses.npy', np.array(losses))\n",
    "\n",
    "                    t0 = datetime.datetime.now()\n",
    "                    try:\n",
    "                        loss = play_one_episode(agent, env, MODE)\n",
    "                    except Exception as err:\n",
    "                        print(f'\\t*** error in episode {e}:', err)\n",
    "                        loss = np.nan#5.0 # just an arbitraty number that seems high compared to usual losses\n",
    "                    dt = datetime.datetime.now() - t0\n",
    "                    losses.append(loss) # append episode loss\n",
    "                    # print progress\n",
    "                    if (e%10 == 0):\n",
    "                        print(f\"episode: {e + 1}/{NB_EPISODES}, loss: {loss:.4f}, duration: {dt}\")\n",
    "\n",
    "\n",
    "                # save the weights and losses when done\t\n",
    "                agent.save(f'{models_folder}/{model_name}_{NB_EPISODES}')\n",
    "                np.save(f'{losses_folder}/{model_name}_{MODE}_{NB_EPISODES}_losses.npy', np.array(losses))\n",
    "\n",
    "            # plot losses\n",
    "            save_fig = True\n",
    "\n",
    "            # load losses file\n",
    "            file = f'{losses_folder}/{model_name}_{MODE}_{NB_EPISODES}_losses.npy'\n",
    "            loaded_losses = np.load(file)\n",
    "\n",
    "            # plot losses\n",
    "            plt.figure(figsize=(14,5))\n",
    "            plt.plot(loaded_losses)\n",
    "            plt.title(f'{model_name} Training Loss')\n",
    "            plt.xlabel('Episode Number')\n",
    "            plt.ylabel(r'Loss: $-G \\approx -\\mathbb{E}\\left[ \\sum_{k=0}^{T} \\gamma^k R_t \\right]$')\n",
    "            #plt.yscale('symlog')\n",
    "            if save_fig:\n",
    "                plt.savefig(f'{fig_folder}/{model_name}_losses.png', dpi=150, facecolor=None, edgecolor=None, bbox_inches='tight')\n",
    "            plt.clf()\n",
    "\n",
    "        else:\n",
    "            print(f'\\talready exists: trade_{GAMMA_TRADE}_risk_{GAMMA_RISK}_hold_{GAMMA_HOLD}')\n",
    "            print('\\tskip to next.')"
   ]
  },
  {
   "cell_type": "code",
   "execution_count": 8,
   "id": "15f52bfc",
   "metadata": {
    "execution": {
     "iopub.execute_input": "2022-06-26T16:21:33.806030Z",
     "iopub.status.busy": "2022-06-26T16:21:33.805363Z",
     "iopub.status.idle": "2022-06-26T16:21:33.820919Z",
     "shell.execute_reply": "2022-06-26T16:21:33.819085Z"
    },
    "papermill": {
     "duration": 0.043203,
     "end_time": "2022-06-26T16:21:33.833451",
     "exception": false,
     "start_time": "2022-06-26T16:21:33.790248",
     "status": "completed"
    },
    "tags": []
   },
   "outputs": [],
   "source": [
    "# double check the end of training\n",
    "#env.until"
   ]
  },
  {
   "cell_type": "code",
   "execution_count": 9,
   "id": "e8325362",
   "metadata": {
    "execution": {
     "iopub.execute_input": "2022-06-26T16:21:33.854407Z",
     "iopub.status.busy": "2022-06-26T16:21:33.853989Z",
     "iopub.status.idle": "2022-06-26T16:21:33.860773Z",
     "shell.execute_reply": "2022-06-26T16:21:33.859174Z"
    },
    "papermill": {
     "duration": 0.018308,
     "end_time": "2022-06-26T16:21:33.863941",
     "exception": false,
     "start_time": "2022-06-26T16:21:33.845633",
     "status": "completed"
    },
    "tags": []
   },
   "outputs": [
    {
     "name": "stdout",
     "output_type": "stream",
     "text": [
      "training done.\n"
     ]
    }
   ],
   "source": [
    "print('training done.')"
   ]
  },
  {
   "cell_type": "code",
   "execution_count": 10,
   "id": "3ab70e23",
   "metadata": {
    "execution": {
     "iopub.execute_input": "2022-06-26T16:21:33.880763Z",
     "iopub.status.busy": "2022-06-26T16:21:33.880315Z",
     "iopub.status.idle": "2022-06-26T16:21:33.885116Z",
     "shell.execute_reply": "2022-06-26T16:21:33.883902Z"
    },
    "papermill": {
     "duration": 0.016801,
     "end_time": "2022-06-26T16:21:33.888542",
     "exception": false,
     "start_time": "2022-06-26T16:21:33.871741",
     "status": "completed"
    },
    "tags": []
   },
   "outputs": [],
   "source": [
    "### Now repeat this for the different RL models.\n",
    "### remember to update the gamma-pairs, model base name, and model specs/setup in beginning of notebook!"
   ]
  }
 ],
 "metadata": {
  "interpreter": {
   "hash": "949777d72b0d2535278d3dc13498b2535136f6dfe0678499012e853ee9abcab1"
  },
  "kernelspec": {
   "display_name": "Python 3",
   "language": "python",
   "name": "python3"
  },
  "language_info": {
   "codemirror_mode": {
    "name": "ipython",
    "version": 3
   },
   "file_extension": ".py",
   "mimetype": "text/x-python",
   "name": "python",
   "nbconvert_exporter": "python",
   "pygments_lexer": "ipython3",
   "version": "3.7.6"
  },
  "papermill": {
   "default_parameters": {},
   "duration": 8.421067,
   "end_time": "2022-06-26T16:21:34.920465",
   "environment_variables": {},
   "exception": null,
   "input_path": "train_template.ipynb",
   "output_path": "slave_notebooks/RL_CNN_DOW_30_risks_56_seeds_0.ipynb",
   "parameters": {
    "FROM": "2010-01-01",
    "GAMMA_HOLDS": [
     0.1,
     1,
     10,
     100,
     1000,
     10000
    ],
    "GAMMA_RISKS": [
     56
    ],
    "GAMMA_TRADES": [
     1,
     7,
     8,
     9,
     10,
     11,
     12,
     50,
     100
    ],
    "MARKET_NAME": "DOW_30",
    "MODEL_BASE_NAME": "RL_CNN",
    "NB_EPISODES": 200,
    "SAVE_EVERY": 200,
    "SEED_LIST": [
     0
    ],
    "TICKERS": [
     "AAPL",
     "MSFT",
     "JPM",
     "V",
     "RTX",
     "PG",
     "GS",
     "NKE",
     "DIS",
     "AXP",
     "HD",
     "INTC",
     "WMT",
     "IBM",
     "MRK",
     "UNH",
     "KO",
     "CAT",
     "TRV",
     "JNJ",
     "CVX",
     "MCD",
     "VZ",
     "CSCO",
     "XOM",
     "BA",
     "MMM",
     "PFE",
     "WBA",
     "DD"
    ],
    "UNTIL": "2018-01-01"
   },
   "start_time": "2022-06-26T16:21:26.499398",
   "version": "2.3.3"
  }
 },
 "nbformat": 4,
 "nbformat_minor": 5
}