{
 "cells": [
  {
   "cell_type": "code",
   "execution_count": 1,
   "id": "7113f2c0",
   "metadata": {
    "execution": {
     "iopub.execute_input": "2022-06-19T18:39:18.932488Z",
     "iopub.status.busy": "2022-06-19T18:39:18.931292Z",
     "iopub.status.idle": "2022-06-19T18:39:24.318992Z",
     "shell.execute_reply": "2022-06-19T18:39:24.315717Z"
    },
    "papermill": {
     "duration": 5.408082,
     "end_time": "2022-06-19T18:39:24.325827",
     "exception": false,
     "start_time": "2022-06-19T18:39:18.917745",
     "status": "completed"
    },
    "tags": []
   },
   "outputs": [
    {
     "name": "stdout",
     "output_type": "stream",
     "text": [
      "CPU times: user 5.98 s, sys: 2.25 s, total: 8.23 s\n",
      "Wall time: 5.36 s\n"
     ]
    }
   ],
   "source": [
    "%%time\n",
    "import numpy as np\n",
    "import pandas as pd\n",
    "import matplotlib.pyplot as plt\n",
    "import datetime\n",
    "import os\n",
    "from src.models.frontier import MultiStockEnv, Agent, play_one_episode, maybe_make_dir\n",
    "from src.config import market_tickers\n",
    "from src.config.model_config import model_parameters\n",
    "import tensorflow as tf"
   ]
  },
  {
   "cell_type": "code",
   "execution_count": 2,
   "id": "f48b4b85",
   "metadata": {
    "execution": {
     "iopub.execute_input": "2022-06-19T18:39:24.351374Z",
     "iopub.status.busy": "2022-06-19T18:39:24.349010Z",
     "iopub.status.idle": "2022-06-19T18:39:24.371985Z",
     "shell.execute_reply": "2022-06-19T18:39:24.369469Z"
    },
    "papermill": {
     "duration": 0.042344,
     "end_time": "2022-06-19T18:39:24.378401",
     "exception": false,
     "start_time": "2022-06-19T18:39:24.336057",
     "status": "completed"
    },
    "tags": []
   },
   "outputs": [
    {
     "data": {
      "text/plain": [
       "{'RL_CNN': {'use_forecasts': False,\n",
       "  'nb_forecasts': None,\n",
       "  'forecast_type': 'strong',\n",
       "  'use_cnn_state': True},\n",
       " 'RL_str_fcast': {'use_forecasts': True,\n",
       "  'nb_forecasts': 2,\n",
       "  'forecast_type': 'strong',\n",
       "  'use_cnn_state': False},\n",
       " 'RL_all_inp': {'use_forecasts': True,\n",
       "  'nb_forecasts': 2,\n",
       "  'forecast_type': 'strong',\n",
       "  'use_cnn_state': True}}"
      ]
     },
     "execution_count": 2,
     "metadata": {},
     "output_type": "execute_result"
    }
   ],
   "source": [
    "from src.config.model_config import model_parameters\n",
    "model_parameters"
   ]
  },
  {
   "cell_type": "code",
   "execution_count": 3,
   "id": "948f20f7",
   "metadata": {
    "execution": {
     "iopub.execute_input": "2022-06-19T18:39:24.403909Z",
     "iopub.status.busy": "2022-06-19T18:39:24.402199Z",
     "iopub.status.idle": "2022-06-19T18:39:24.420743Z",
     "shell.execute_reply": "2022-06-19T18:39:24.418162Z"
    },
    "papermill": {
     "duration": 0.041375,
     "end_time": "2022-06-19T18:39:24.428583",
     "exception": false,
     "start_time": "2022-06-19T18:39:24.387208",
     "status": "completed"
    },
    "tags": [
     "parameters"
    ]
   },
   "outputs": [],
   "source": [
    "# papermill parameters\n",
    "SEED_LIST = [\n",
    "             0,\n",
    "             #1111,\n",
    "             #2222, \n",
    "             #3333, \n",
    "             #4444, \n",
    "             #5555,\n",
    "             #6666,\n",
    "             #7777,\n",
    "             #8888,\n",
    "             #9999\n",
    "            ]\n",
    "\n",
    "#TICKERS = market_tickers.DOW_30_TICKER\n",
    "TICKERS = ['AAPL', 'AMD', 'CSCO', 'F', 'INTC']\n",
    "MARKET_NAME = 'TEST_5'\n",
    "MODEL_BASE_NAME = 'RL_CNN' # use either | 'RL_CNN' | 'RL_str_fcast' | 'RL_all_inp' |\n",
    "FROM = '2017-01-03' # start of training set\n",
    "UNTIL = '2019-01-01' # end of training set\n",
    "NB_EPISODES = 200 # number of episodes to train for\n",
    "SAVE_EVERY = 200 # (used 100 when not from tretrained) save model weights every time this amount of episodes pass\n",
    "\n",
    "# investor preferences\n",
    "GAMMA_TRADES = [0.1, 1, 10, 100]\n",
    "GAMMA_RISKS = [0.1, 1, 10, 100, 1000]\n",
    "GAMMA_HOLDS = [0.1, 1]"
   ]
  },
  {
   "cell_type": "code",
   "execution_count": 4,
   "id": "4ee229fd",
   "metadata": {
    "execution": {
     "iopub.execute_input": "2022-06-19T18:39:24.453699Z",
     "iopub.status.busy": "2022-06-19T18:39:24.452149Z",
     "iopub.status.idle": "2022-06-19T18:39:24.478183Z",
     "shell.execute_reply": "2022-06-19T18:39:24.475731Z"
    },
    "papermill": {
     "duration": 0.044112,
     "end_time": "2022-06-19T18:39:24.484142",
     "exception": false,
     "start_time": "2022-06-19T18:39:24.440030",
     "status": "completed"
    },
    "tags": [
     "injected-parameters"
    ]
   },
   "outputs": [],
   "source": [
    "# Parameters\n",
    "SEED_LIST = [0]\n",
    "TICKERS = [\n",
    "    \"9983.T\",\n",
    "    \"8035.T\",\n",
    "    \"9984.T\",\n",
    "    \"6954.T\",\n",
    "    \"6367.T\",\n",
    "    \"9433.T\",\n",
    "    \"4543.T\",\n",
    "    \"6857.T\",\n",
    "    \"2413.T\",\n",
    "    \"4063.T\",\n",
    "    \"6971.T\",\n",
    "    \"6758.T\",\n",
    "    \"4519.T\",\n",
    "    \"6762.T\",\n",
    "    \"6645.T\",\n",
    "    \"9613.T\",\n",
    "    \"7203.T\",\n",
    "    \"7733.T\",\n",
    "    \"4901.T\",\n",
    "    \"4503.T\",\n",
    "    \"2801.T\",\n",
    "    \"4568.T\",\n",
    "    \"7832.T\",\n",
    "    \"4523.T\",\n",
    "]\n",
    "MARKET_NAME = \"NIK_25\"\n",
    "MODEL_BASE_NAME = \"RL_CNN\"\n",
    "FROM = \"2013-05-01\"\n",
    "UNTIL = \"2018-01-01\"\n",
    "NB_EPISODES = 200\n",
    "SAVE_EVERY = 200\n",
    "GAMMA_TRADES = [0.1, 1, 10, 100]\n",
    "GAMMA_RISKS = [0.1, 1, 10, 100, 1000]\n",
    "GAMMA_HOLDS = [0.1, 1]\n"
   ]
  },
  {
   "cell_type": "code",
   "execution_count": 5,
   "id": "49596a80",
   "metadata": {
    "execution": {
     "iopub.execute_input": "2022-06-19T18:39:24.523246Z",
     "iopub.status.busy": "2022-06-19T18:39:24.522160Z",
     "iopub.status.idle": "2022-06-19T18:39:24.551807Z",
     "shell.execute_reply": "2022-06-19T18:39:24.549293Z"
    },
    "papermill": {
     "duration": 0.065122,
     "end_time": "2022-06-19T18:39:24.558757",
     "exception": false,
     "start_time": "2022-06-19T18:39:24.493635",
     "status": "completed"
    },
    "tags": []
   },
   "outputs": [
    {
     "name": "stdout",
     "output_type": "stream",
     "text": [
      "number of trios:  40\n"
     ]
    }
   ],
   "source": [
    "#------ small test-sweep ------#\n",
    "# GAMMA_TRADES = [0.1, 1, 10, 100]\n",
    "# GAMMA_RISKS = [0.1, 1, 10, 100, 1000]\n",
    "# GAMMA_HOLDS = [0.1, 1]\n",
    "#------ extended-boyd-sweep ------#\n",
    "# GAMMA_TRADES =  [0.1, 0.5, 1, 2, 3, 4, 5, 5.5, 6, 6.5, 7, 7.5, 8, 9, 10, 11, 12, 15, 20, 30, 45, 60, 100, 200]\n",
    "# GAMMA_RISKS = [0.1, 0.178, 0.316, 0.562, 1, 2, 3, 6, 10, 18, 32, 56, 100, 178, 316, 562, 1000, 2000, 5000, 10000, 20000]\n",
    "#---------------------------------#\n",
    "\n",
    "GAMMA_TRIOS = []\n",
    "for tr in GAMMA_TRADES:\n",
    "    for ri in GAMMA_RISKS:\n",
    "        for hd in GAMMA_HOLDS:\n",
    "            GAMMA_TRIOS.append((tr, ri, hd))\n",
    "        \n",
    "#format: (gamma_trade, gamma_risk, gamma_hold)\n",
    "print('number of trios: ', len(GAMMA_TRIOS))\n",
    "#GAMMA_TRIOS"
   ]
  },
  {
   "cell_type": "code",
   "execution_count": 6,
   "id": "a8c5552a",
   "metadata": {
    "execution": {
     "iopub.execute_input": "2022-06-19T18:39:24.588195Z",
     "iopub.status.busy": "2022-06-19T18:39:24.587112Z",
     "iopub.status.idle": "2022-06-19T18:39:24.606465Z",
     "shell.execute_reply": "2022-06-19T18:39:24.603919Z"
    },
    "papermill": {
     "duration": 0.043095,
     "end_time": "2022-06-19T18:39:24.615194",
     "exception": false,
     "start_time": "2022-06-19T18:39:24.572099",
     "status": "completed"
    },
    "tags": []
   },
   "outputs": [],
   "source": [
    "# other constants and parameters\n",
    "TICKERS.sort()\n",
    "FILE_PERIOD = '1d' # weekly='5d', daily='1d'\n",
    "DAYS_IN_EPISODE = 30 # 365 for one-year long episodes (conditions checked at end of episode)\n",
    "EPISODE_DRAW_DISTRIBUTION = 'uniform' # 'uniform' or 'geometric'. select starting point of eposide according to this distribution when generated\n",
    "HALF_SPREAD = 0.0005/2.0 # 'a' in transaction cost function\n",
    "NONLIN_COEFF = 1.0 # 'b' transaction cost function\n",
    "POWER = 1.5 # power for change in poertfolio vector used in transaction cost\n",
    "#GAMMA_RISK, GAMMA_TRADE, GAMMA_HOLD = 18, 6.5, 0.0 # relative importance of risk, trading cost, and holding cost\n",
    "INIT_PORTFOLIO = 100000000.0 # initial portfolio value\n",
    "#model_name = f'REINFORCE_CNN' #_seeded_{UNTIL} # give model a name to distinguish saved files\n",
    "#NB_EPISODES = 300 #2000\n",
    "MODE = 'train' # train or test mode\n",
    "#FROM_PRETRAINED = False\n",
    "DATA_DIR = f'../data/{MARKET_NAME}/preprocessed_data/'\n",
    "\n",
    "# Tune and double-check these before every test:\n",
    "USE_FORECASTS = model_parameters[MODEL_BASE_NAME]['use_forecasts'] # whether to use forecasts as inputs to agent policy net or not\n",
    "NB_FORECASTS = model_parameters[MODEL_BASE_NAME]['nb_forecasts'] # number of forecasts to use in state. Set to None for no forecasts\n",
    "FORECAST_TYPE = model_parameters[MODEL_BASE_NAME]['forecast_type'] # use 'strong' or 'weak' forecasts (if no forecasts given, this does not matter)\n",
    "USE_CNN_STATE = model_parameters[MODEL_BASE_NAME]['use_cnn_state'] # whether to pass log-rets block for CNN part of policy net (set to false for forecast only)"
   ]
  },
  {
   "cell_type": "code",
   "execution_count": 7,
   "id": "92ba53db",
   "metadata": {
    "execution": {
     "iopub.execute_input": "2022-06-19T18:39:24.639285Z",
     "iopub.status.busy": "2022-06-19T18:39:24.638337Z",
     "iopub.status.idle": "2022-06-19T23:51:06.200282Z",
     "shell.execute_reply": "2022-06-19T23:51:06.197638Z"
    },
    "papermill": {
     "duration": 18701.581257,
     "end_time": "2022-06-19T23:51:06.206307",
     "exception": false,
     "start_time": "2022-06-19T18:39:24.625050",
     "status": "completed"
    },
    "scrolled": true,
    "tags": []
   },
   "outputs": [
    {
     "name": "stdout",
     "output_type": "stream",
     "text": [
      "#############################################################################\n",
      "##\t[1/40]\tmodel=RL_CNN,\tSEED=0,\ttrade=0.1,\trisk=0.1\thold=0.1\t##\n",
      "#############################################################################\n"
     ]
    },
    {
     "name": "stdout",
     "output_type": "stream",
     "text": [
      "episode: 1/200, loss: -0.0154, duration: 0:00:02.630133\n"
     ]
    },
    {
     "name": "stdout",
     "output_type": "stream",
     "text": [
      "episode: 11/200, loss: -0.0211, duration: 0:00:02.530137\n"
     ]
    },
    {
     "name": "stdout",
     "output_type": "stream",
     "text": [
      "episode: 21/200, loss: -0.0006, duration: 0:00:02.771725\n"
     ]
    },
    {
     "name": "stdout",
     "output_type": "stream",
     "text": [
      "episode: 31/200, loss: -0.0389, duration: 0:00:02.396559\n"
     ]
    },
    {
     "name": "stdout",
     "output_type": "stream",
     "text": [
      "episode: 41/200, loss: 0.0154, duration: 0:00:02.647621\n"
     ]
    },
    {
     "name": "stdout",
     "output_type": "stream",
     "text": [
      "episode: 51/200, loss: 0.0532, duration: 0:00:02.060754\n"
     ]
    },
    {
     "name": "stdout",
     "output_type": "stream",
     "text": [
      "episode: 61/200, loss: -0.0859, duration: 0:00:02.339317\n"
     ]
    },
    {
     "name": "stdout",
     "output_type": "stream",
     "text": [
      "episode: 71/200, loss: 0.0465, duration: 0:00:02.938722\n"
     ]
    },
    {
     "name": "stdout",
     "output_type": "stream",
     "text": [
      "episode: 81/200, loss: -0.0279, duration: 0:00:02.272324\n"
     ]
    },
    {
     "name": "stdout",
     "output_type": "stream",
     "text": [
      "episode: 91/200, loss: -0.0067, duration: 0:00:02.501195\n"
     ]
    },
    {
     "name": "stdout",
     "output_type": "stream",
     "text": [
      "episode: 101/200, loss: -0.0262, duration: 0:00:02.354531\n"
     ]
    },
    {
     "name": "stdout",
     "output_type": "stream",
     "text": [
      "episode: 111/200, loss: -0.0444, duration: 0:00:02.398866\n"
     ]
    },
    {
     "name": "stdout",
     "output_type": "stream",
     "text": [
      "episode: 121/200, loss: 0.0064, duration: 0:00:02.771041\n"
     ]
    },
    {
     "name": "stdout",
     "output_type": "stream",
     "text": [
      "episode: 131/200, loss: 0.0003, duration: 0:00:03.019113\n"
     ]
    },
    {
     "name": "stdout",
     "output_type": "stream",
     "text": [
      "episode: 141/200, loss: -0.0114, duration: 0:00:02.253472\n"
     ]
    },
    {
     "name": "stdout",
     "output_type": "stream",
     "text": [
      "episode: 151/200, loss: -0.0280, duration: 0:00:02.278651\n"
     ]
    },
    {
     "name": "stdout",
     "output_type": "stream",
     "text": [
      "episode: 161/200, loss: 0.0314, duration: 0:00:02.362786\n"
     ]
    },
    {
     "name": "stdout",
     "output_type": "stream",
     "text": [
      "episode: 171/200, loss: 0.0113, duration: 0:00:02.677984\n"
     ]
    },
    {
     "name": "stdout",
     "output_type": "stream",
     "text": [
      "episode: 181/200, loss: -0.0404, duration: 0:00:02.479762\n"
     ]
    },
    {
     "name": "stdout",
     "output_type": "stream",
     "text": [
      "episode: 191/200, loss: -0.0414, duration: 0:00:02.103571\n"
     ]
    },
    {
     "name": "stdout",
     "output_type": "stream",
     "text": [
      "#############################################################################\n",
      "##\t[2/40]\tmodel=RL_CNN,\tSEED=0,\ttrade=0.1,\trisk=0.1\thold=1\t##\n",
      "#############################################################################\n"
     ]
    },
    {
     "name": "stdout",
     "output_type": "stream",
     "text": [
      "episode: 1/200, loss: -0.0147, duration: 0:00:01.582341\n"
     ]
    },
    {
     "name": "stdout",
     "output_type": "stream",
     "text": [
      "episode: 11/200, loss: -0.0210, duration: 0:00:02.809801\n"
     ]
    },
    {
     "name": "stdout",
     "output_type": "stream",
     "text": [
      "episode: 21/200, loss: -0.0001, duration: 0:00:02.774396\n"
     ]
    },
    {
     "name": "stdout",
     "output_type": "stream",
     "text": [
      "episode: 31/200, loss: -0.0396, duration: 0:00:02.291484\n"
     ]
    },
    {
     "name": "stdout",
     "output_type": "stream",
     "text": [
      "episode: 41/200, loss: 0.0154, duration: 0:00:01.523245\n"
     ]
    },
    {
     "name": "stdout",
     "output_type": "stream",
     "text": [
      "episode: 51/200, loss: 0.0540, duration: 0:00:01.458908\n"
     ]
    },
    {
     "name": "stdout",
     "output_type": "stream",
     "text": [
      "episode: 61/200, loss: -0.0856, duration: 0:00:02.199310\n"
     ]
    },
    {
     "name": "stdout",
     "output_type": "stream",
     "text": [
      "episode: 71/200, loss: 0.0467, duration: 0:00:02.099901\n"
     ]
    },
    {
     "name": "stdout",
     "output_type": "stream",
     "text": [
      "episode: 81/200, loss: -0.0278, duration: 0:00:02.168066\n"
     ]
    },
    {
     "name": "stdout",
     "output_type": "stream",
     "text": [
      "episode: 91/200, loss: -0.0064, duration: 0:00:02.333221\n"
     ]
    },
    {
     "name": "stdout",
     "output_type": "stream",
     "text": [
      "episode: 101/200, loss: -0.0277, duration: 0:00:02.080011\n"
     ]
    },
    {
     "name": "stdout",
     "output_type": "stream",
     "text": [
      "episode: 111/200, loss: -0.0440, duration: 0:00:02.359612\n"
     ]
    },
    {
     "name": "stdout",
     "output_type": "stream",
     "text": [
      "episode: 121/200, loss: 0.0060, duration: 0:00:02.221126\n"
     ]
    },
    {
     "name": "stdout",
     "output_type": "stream",
     "text": [
      "episode: 131/200, loss: -0.0029, duration: 0:00:01.355106\n"
     ]
    },
    {
     "name": "stdout",
     "output_type": "stream",
     "text": [
      "episode: 141/200, loss: -0.0120, duration: 0:00:01.260846\n"
     ]
    },
    {
     "name": "stdout",
     "output_type": "stream",
     "text": [
      "episode: 151/200, loss: -0.0285, duration: 0:00:01.301068\n"
     ]
    },
    {
     "name": "stdout",
     "output_type": "stream",
     "text": [
      "episode: 161/200, loss: 0.0313, duration: 0:00:01.236132\n"
     ]
    },
    {
     "name": "stdout",
     "output_type": "stream",
     "text": [
      "episode: 171/200, loss: 0.0117, duration: 0:00:01.276945\n"
     ]
    },
    {
     "name": "stdout",
     "output_type": "stream",
     "text": [
      "episode: 181/200, loss: -0.0398, duration: 0:00:01.281338\n"
     ]
    },
    {
     "name": "stdout",
     "output_type": "stream",
     "text": [
      "episode: 191/200, loss: -0.0422, duration: 0:00:01.210281\n"
     ]
    },
    {
     "name": "stdout",
     "output_type": "stream",
     "text": [
      "#############################################################################\n",
      "##\t[3/40]\tmodel=RL_CNN,\tSEED=0,\ttrade=0.1,\trisk=1\thold=0.1\t##\n",
      "#############################################################################\n"
     ]
    },
    {
     "name": "stdout",
     "output_type": "stream",
     "text": [
      "episode: 1/200, loss: -0.0136, duration: 0:00:01.201063\n"
     ]
    },
    {
     "name": "stdout",
     "output_type": "stream",
     "text": [
      "episode: 11/200, loss: -0.0192, duration: 0:00:01.375468\n"
     ]
    },
    {
     "name": "stdout",
     "output_type": "stream",
     "text": [
      "episode: 21/200, loss: 0.0000, duration: 0:00:01.164793\n"
     ]
    },
    {
     "name": "stdout",
     "output_type": "stream",
     "text": [
      "episode: 31/200, loss: -0.0387, duration: 0:00:01.276099\n"
     ]
    },
    {
     "name": "stdout",
     "output_type": "stream",
     "text": [
      "episode: 41/200, loss: 0.0162, duration: 0:00:01.162164\n"
     ]
    },
    {
     "name": "stdout",
     "output_type": "stream",
     "text": [
      "episode: 51/200, loss: 0.0600, duration: 0:00:01.194414\n"
     ]
    },
    {
     "name": "stdout",
     "output_type": "stream",
     "text": [
      "episode: 61/200, loss: -0.0823, duration: 0:00:01.101251\n"
     ]
    },
    {
     "name": "stdout",
     "output_type": "stream",
     "text": [
      "episode: 71/200, loss: 0.0485, duration: 0:00:01.183637\n"
     ]
    },
    {
     "name": "stdout",
     "output_type": "stream",
     "text": [
      "episode: 81/200, loss: -0.0253, duration: 0:00:01.118336\n"
     ]
    },
    {
     "name": "stdout",
     "output_type": "stream",
     "text": [
      "episode: 91/200, loss: -0.0055, duration: 0:00:01.229852\n"
     ]
    },
    {
     "name": "stdout",
     "output_type": "stream",
     "text": [
      "episode: 101/200, loss: -0.0257, duration: 0:00:01.246151\n"
     ]
    },
    {
     "name": "stdout",
     "output_type": "stream",
     "text": [
      "episode: 111/200, loss: -0.0350, duration: 0:00:01.297541\n"
     ]
    },
    {
     "name": "stdout",
     "output_type": "stream",
     "text": [
      "episode: 121/200, loss: 0.0069, duration: 0:00:01.141723\n"
     ]
    },
    {
     "name": "stdout",
     "output_type": "stream",
     "text": [
      "episode: 131/200, loss: -0.0011, duration: 0:00:01.221087\n"
     ]
    },
    {
     "name": "stdout",
     "output_type": "stream",
     "text": [
      "episode: 141/200, loss: -0.0114, duration: 0:00:01.261513\n"
     ]
    },
    {
     "name": "stdout",
     "output_type": "stream",
     "text": [
      "episode: 151/200, loss: -0.0268, duration: 0:00:01.202923\n"
     ]
    },
    {
     "name": "stdout",
     "output_type": "stream",
     "text": [
      "episode: 161/200, loss: 0.0325, duration: 0:00:01.264730\n"
     ]
    },
    {
     "name": "stdout",
     "output_type": "stream",
     "text": [
      "episode: 171/200, loss: 0.0106, duration: 0:00:01.247350\n"
     ]
    },
    {
     "name": "stdout",
     "output_type": "stream",
     "text": [
      "episode: 181/200, loss: -0.0423, duration: 0:00:01.390530\n"
     ]
    },
    {
     "name": "stdout",
     "output_type": "stream",
     "text": [
      "episode: 191/200, loss: -0.0353, duration: 0:00:01.346865\n"
     ]
    },
    {
     "name": "stdout",
     "output_type": "stream",
     "text": [
      "#############################################################################\n",
      "##\t[4/40]\tmodel=RL_CNN,\tSEED=0,\ttrade=0.1,\trisk=1\thold=1\t##\n",
      "#############################################################################\n"
     ]
    },
    {
     "name": "stdout",
     "output_type": "stream",
     "text": [
      "episode: 1/200, loss: -0.0129, duration: 0:00:01.364581\n"
     ]
    },
    {
     "name": "stdout",
     "output_type": "stream",
     "text": [
      "episode: 11/200, loss: -0.0192, duration: 0:00:01.351729\n"
     ]
    },
    {
     "name": "stdout",
     "output_type": "stream",
     "text": [
      "episode: 21/200, loss: 0.0004, duration: 0:00:01.415551\n"
     ]
    },
    {
     "name": "stdout",
     "output_type": "stream",
     "text": [
      "episode: 31/200, loss: -0.0392, duration: 0:00:01.809779\n"
     ]
    },
    {
     "name": "stdout",
     "output_type": "stream",
     "text": [
      "episode: 41/200, loss: 0.0162, duration: 0:00:01.531968\n"
     ]
    },
    {
     "name": "stdout",
     "output_type": "stream",
     "text": [
      "episode: 51/200, loss: 0.0610, duration: 0:00:02.424243\n"
     ]
    },
    {
     "name": "stdout",
     "output_type": "stream",
     "text": [
      "episode: 61/200, loss: -0.0820, duration: 0:00:02.103771\n"
     ]
    },
    {
     "name": "stdout",
     "output_type": "stream",
     "text": [
      "episode: 71/200, loss: 0.0487, duration: 0:00:02.486371\n"
     ]
    },
    {
     "name": "stdout",
     "output_type": "stream",
     "text": [
      "episode: 81/200, loss: -0.0252, duration: 0:00:02.297195\n"
     ]
    },
    {
     "name": "stdout",
     "output_type": "stream",
     "text": [
      "episode: 91/200, loss: -0.0052, duration: 0:00:02.322086\n"
     ]
    },
    {
     "name": "stdout",
     "output_type": "stream",
     "text": [
      "episode: 101/200, loss: -0.0298, duration: 0:00:02.342454\n"
     ]
    },
    {
     "name": "stdout",
     "output_type": "stream",
     "text": [
      "episode: 111/200, loss: -0.0346, duration: 0:00:02.378938\n"
     ]
    },
    {
     "name": "stdout",
     "output_type": "stream",
     "text": [
      "episode: 121/200, loss: 0.0066, duration: 0:00:02.525146\n"
     ]
    },
    {
     "name": "stdout",
     "output_type": "stream",
     "text": [
      "episode: 131/200, loss: -0.0015, duration: 0:00:02.500637\n"
     ]
    },
    {
     "name": "stdout",
     "output_type": "stream",
     "text": [
      "episode: 141/200, loss: -0.0113, duration: 0:00:02.342593\n"
     ]
    },
    {
     "name": "stdout",
     "output_type": "stream",
     "text": [
      "episode: 151/200, loss: -0.0262, duration: 0:00:02.394799\n"
     ]
    },
    {
     "name": "stdout",
     "output_type": "stream",
     "text": [
      "episode: 161/200, loss: 0.0332, duration: 0:00:02.616391\n"
     ]
    },
    {
     "name": "stdout",
     "output_type": "stream",
     "text": [
      "episode: 171/200, loss: 0.0110, duration: 0:00:03.857388\n"
     ]
    },
    {
     "name": "stdout",
     "output_type": "stream",
     "text": [
      "episode: 181/200, loss: -0.0382, duration: 0:00:04.954052\n"
     ]
    },
    {
     "name": "stdout",
     "output_type": "stream",
     "text": [
      "episode: 191/200, loss: -0.0340, duration: 0:00:03.519554\n"
     ]
    },
    {
     "name": "stdout",
     "output_type": "stream",
     "text": [
      "#############################################################################\n",
      "##\t[5/40]\tmodel=RL_CNN,\tSEED=0,\ttrade=0.1,\trisk=10\thold=0.1\t##\n",
      "#############################################################################\n"
     ]
    },
    {
     "name": "stdout",
     "output_type": "stream",
     "text": [
      "episode: 1/200, loss: 0.0047, duration: 0:00:05.639915\n"
     ]
    },
    {
     "name": "stdout",
     "output_type": "stream",
     "text": [
      "episode: 11/200, loss: 0.0009, duration: 0:00:06.722875\n"
     ]
    },
    {
     "name": "stdout",
     "output_type": "stream",
     "text": [
      "episode: 21/200, loss: 0.0066, duration: 0:00:05.123171\n"
     ]
    },
    {
     "name": "stdout",
     "output_type": "stream",
     "text": [
      "episode: 31/200, loss: -0.0355, duration: 0:00:06.255875\n"
     ]
    },
    {
     "name": "stdout",
     "output_type": "stream",
     "text": [
      "episode: 41/200, loss: 0.0235, duration: 0:00:06.021248\n"
     ]
    },
    {
     "name": "stdout",
     "output_type": "stream",
     "text": [
      "episode: 51/200, loss: 0.1341, duration: 0:00:06.244928\n"
     ]
    },
    {
     "name": "stdout",
     "output_type": "stream",
     "text": [
      "episode: 61/200, loss: -0.0416, duration: 0:00:06.948317\n"
     ]
    },
    {
     "name": "stdout",
     "output_type": "stream",
     "text": [
      "episode: 71/200, loss: 0.0692, duration: 0:00:05.455756\n"
     ]
    },
    {
     "name": "stdout",
     "output_type": "stream",
     "text": [
      "episode: 81/200, loss: -0.0005, duration: 0:00:04.720159\n"
     ]
    },
    {
     "name": "stdout",
     "output_type": "stream",
     "text": [
      "episode: 91/200, loss: -0.0004, duration: 0:00:04.402958\n"
     ]
    },
    {
     "name": "stdout",
     "output_type": "stream",
     "text": [
      "episode: 101/200, loss: -0.0339, duration: 0:00:04.521566\n"
     ]
    },
    {
     "name": "stdout",
     "output_type": "stream",
     "text": [
      "episode: 111/200, loss: 0.0433, duration: 0:00:04.410312\n"
     ]
    },
    {
     "name": "stdout",
     "output_type": "stream",
     "text": [
      "episode: 121/200, loss: 0.0098, duration: 0:00:04.689576\n"
     ]
    },
    {
     "name": "stdout",
     "output_type": "stream",
     "text": [
      "episode: 131/200, loss: 0.0002, duration: 0:00:04.023405\n"
     ]
    },
    {
     "name": "stdout",
     "output_type": "stream",
     "text": [
      "episode: 141/200, loss: -0.0061, duration: 0:00:04.847689\n"
     ]
    },
    {
     "name": "stdout",
     "output_type": "stream",
     "text": [
      "episode: 151/200, loss: -0.0143, duration: 0:00:03.282565\n"
     ]
    },
    {
     "name": "stdout",
     "output_type": "stream",
     "text": [
      "episode: 161/200, loss: 0.0598, duration: 0:00:05.316848\n"
     ]
    },
    {
     "name": "stdout",
     "output_type": "stream",
     "text": [
      "episode: 171/200, loss: 0.0169, duration: 0:00:04.286414\n"
     ]
    },
    {
     "name": "stdout",
     "output_type": "stream",
     "text": [
      "episode: 181/200, loss: -0.0323, duration: 0:00:03.555571\n"
     ]
    },
    {
     "name": "stdout",
     "output_type": "stream",
     "text": [
      "episode: 191/200, loss: -0.0252, duration: 0:00:05.997612\n"
     ]
    },
    {
     "name": "stdout",
     "output_type": "stream",
     "text": [
      "#############################################################################\n",
      "##\t[6/40]\tmodel=RL_CNN,\tSEED=0,\ttrade=0.1,\trisk=10\thold=1\t##\n",
      "#############################################################################\n"
     ]
    },
    {
     "name": "stdout",
     "output_type": "stream",
     "text": [
      "episode: 1/200, loss: 0.0054, duration: 0:00:03.711347\n"
     ]
    },
    {
     "name": "stdout",
     "output_type": "stream",
     "text": [
      "episode: 11/200, loss: 0.0011, duration: 0:00:04.082399\n"
     ]
    },
    {
     "name": "stdout",
     "output_type": "stream",
     "text": [
      "episode: 21/200, loss: 0.0070, duration: 0:00:02.976227\n"
     ]
    },
    {
     "name": "stdout",
     "output_type": "stream",
     "text": [
      "episode: 31/200, loss: -0.0357, duration: 0:00:03.396763\n"
     ]
    },
    {
     "name": "stdout",
     "output_type": "stream",
     "text": [
      "episode: 41/200, loss: 0.0233, duration: 0:00:04.091542\n"
     ]
    },
    {
     "name": "stdout",
     "output_type": "stream",
     "text": [
      "episode: 51/200, loss: 0.1345, duration: 0:00:02.836769\n"
     ]
    },
    {
     "name": "stdout",
     "output_type": "stream",
     "text": [
      "episode: 61/200, loss: -0.0413, duration: 0:00:03.660618\n"
     ]
    },
    {
     "name": "stdout",
     "output_type": "stream",
     "text": [
      "episode: 71/200, loss: 0.0693, duration: 0:00:04.019176\n"
     ]
    },
    {
     "name": "stdout",
     "output_type": "stream",
     "text": [
      "episode: 81/200, loss: -0.0011, duration: 0:00:03.968557\n"
     ]
    },
    {
     "name": "stdout",
     "output_type": "stream",
     "text": [
      "episode: 91/200, loss: -0.0007, duration: 0:00:03.502224\n"
     ]
    },
    {
     "name": "stdout",
     "output_type": "stream",
     "text": [
      "episode: 101/200, loss: -0.0338, duration: 0:00:03.257675\n"
     ]
    },
    {
     "name": "stdout",
     "output_type": "stream",
     "text": [
      "episode: 111/200, loss: 0.0434, duration: 0:00:02.555604\n"
     ]
    },
    {
     "name": "stdout",
     "output_type": "stream",
     "text": [
      "episode: 121/200, loss: 0.0101, duration: 0:00:04.616007\n"
     ]
    },
    {
     "name": "stdout",
     "output_type": "stream",
     "text": [
      "episode: 131/200, loss: 0.0006, duration: 0:00:03.836428\n"
     ]
    },
    {
     "name": "stdout",
     "output_type": "stream",
     "text": [
      "episode: 141/200, loss: -0.0057, duration: 0:00:04.125784\n"
     ]
    },
    {
     "name": "stdout",
     "output_type": "stream",
     "text": [
      "episode: 151/200, loss: -0.0136, duration: 0:00:03.537625\n"
     ]
    },
    {
     "name": "stdout",
     "output_type": "stream",
     "text": [
      "episode: 161/200, loss: 0.0603, duration: 0:00:04.384944\n"
     ]
    },
    {
     "name": "stdout",
     "output_type": "stream",
     "text": [
      "episode: 171/200, loss: 0.0192, duration: 0:00:02.410669\n"
     ]
    },
    {
     "name": "stdout",
     "output_type": "stream",
     "text": [
      "episode: 181/200, loss: -0.0324, duration: 0:00:02.512122\n"
     ]
    },
    {
     "name": "stdout",
     "output_type": "stream",
     "text": [
      "episode: 191/200, loss: -0.0240, duration: 0:00:03.147879\n"
     ]
    },
    {
     "name": "stdout",
     "output_type": "stream",
     "text": [
      "#############################################################################\n",
      "##\t[7/40]\tmodel=RL_CNN,\tSEED=0,\ttrade=0.1,\trisk=100\thold=0.1\t##\n",
      "#############################################################################\n"
     ]
    },
    {
     "name": "stdout",
     "output_type": "stream",
     "text": [
      "episode: 1/200, loss: 0.1874, duration: 0:00:02.329616\n"
     ]
    },
    {
     "name": "stdout",
     "output_type": "stream",
     "text": [
      "episode: 11/200, loss: 0.2161, duration: 0:00:02.404102\n"
     ]
    },
    {
     "name": "stdout",
     "output_type": "stream",
     "text": [
      "episode: 21/200, loss: 0.0601, duration: 0:00:02.752401\n"
     ]
    },
    {
     "name": "stdout",
     "output_type": "stream",
     "text": [
      "episode: 31/200, loss: 0.0101, duration: 0:00:02.769953\n"
     ]
    },
    {
     "name": "stdout",
     "output_type": "stream",
     "text": [
      "episode: 41/200, loss: 0.1005, duration: 0:00:05.384520\n"
     ]
    },
    {
     "name": "stdout",
     "output_type": "stream",
     "text": [
      "episode: 51/200, loss: 0.7576, duration: 0:00:02.379099\n"
     ]
    },
    {
     "name": "stdout",
     "output_type": "stream",
     "text": [
      "episode: 61/200, loss: 0.2524, duration: 0:00:02.437582\n"
     ]
    },
    {
     "name": "stdout",
     "output_type": "stream",
     "text": [
      "episode: 71/200, loss: 0.2361, duration: 0:00:02.756827\n"
     ]
    },
    {
     "name": "stdout",
     "output_type": "stream",
     "text": [
      "episode: 81/200, loss: 0.2470, duration: 0:00:02.510254\n"
     ]
    },
    {
     "name": "stdout",
     "output_type": "stream",
     "text": [
      "episode: 91/200, loss: 0.0554, duration: 0:00:02.341924\n"
     ]
    },
    {
     "name": "stdout",
     "output_type": "stream",
     "text": [
      "episode: 101/200, loss: 0.0421, duration: 0:00:02.532409\n"
     ]
    },
    {
     "name": "stdout",
     "output_type": "stream",
     "text": [
      "episode: 111/200, loss: 0.6198, duration: 0:00:02.346775\n"
     ]
    },
    {
     "name": "stdout",
     "output_type": "stream",
     "text": [
      "episode: 121/200, loss: 0.1169, duration: 0:00:03.729318\n"
     ]
    },
    {
     "name": "stdout",
     "output_type": "stream",
     "text": [
      "episode: 131/200, loss: 0.1297, duration: 0:00:03.049585\n"
     ]
    },
    {
     "name": "stdout",
     "output_type": "stream",
     "text": [
      "episode: 141/200, loss: 0.0528, duration: 0:00:04.324644\n"
     ]
    },
    {
     "name": "stdout",
     "output_type": "stream",
     "text": [
      "episode: 151/200, loss: 0.0624, duration: 0:00:02.330084\n"
     ]
    },
    {
     "name": "stdout",
     "output_type": "stream",
     "text": [
      "episode: 161/200, loss: 0.3093, duration: 0:00:02.337707\n"
     ]
    },
    {
     "name": "stdout",
     "output_type": "stream",
     "text": [
      "episode: 171/200, loss: 0.1287, duration: 0:00:02.288582\n"
     ]
    },
    {
     "name": "stdout",
     "output_type": "stream",
     "text": [
      "episode: 181/200, loss: 0.0615, duration: 0:00:02.480916\n"
     ]
    },
    {
     "name": "stdout",
     "output_type": "stream",
     "text": [
      "episode: 191/200, loss: 0.0401, duration: 0:00:03.928004\n"
     ]
    },
    {
     "name": "stdout",
     "output_type": "stream",
     "text": [
      "#############################################################################\n",
      "##\t[8/40]\tmodel=RL_CNN,\tSEED=0,\ttrade=0.1,\trisk=100\thold=1\t##\n",
      "#############################################################################\n"
     ]
    },
    {
     "name": "stdout",
     "output_type": "stream",
     "text": [
      "episode: 1/200, loss: 0.1881, duration: 0:00:02.327666\n"
     ]
    },
    {
     "name": "stdout",
     "output_type": "stream",
     "text": [
      "episode: 11/200, loss: 0.2161, duration: 0:00:02.956028\n"
     ]
    },
    {
     "name": "stdout",
     "output_type": "stream",
     "text": [
      "episode: 21/200, loss: 0.0604, duration: 0:00:02.831479\n"
     ]
    },
    {
     "name": "stdout",
     "output_type": "stream",
     "text": [
      "episode: 31/200, loss: 0.0102, duration: 0:00:02.636558\n"
     ]
    },
    {
     "name": "stdout",
     "output_type": "stream",
     "text": [
      "episode: 41/200, loss: 0.1005, duration: 0:00:02.640107\n"
     ]
    },
    {
     "name": "stdout",
     "output_type": "stream",
     "text": [
      "episode: 51/200, loss: 0.7575, duration: 0:00:02.671002\n"
     ]
    },
    {
     "name": "stdout",
     "output_type": "stream",
     "text": [
      "episode: 61/200, loss: 0.2530, duration: 0:00:02.805918\n"
     ]
    },
    {
     "name": "stdout",
     "output_type": "stream",
     "text": [
      "episode: 71/200, loss: 0.2367, duration: 0:00:03.613322\n"
     ]
    },
    {
     "name": "stdout",
     "output_type": "stream",
     "text": [
      "episode: 81/200, loss: 0.2471, duration: 0:00:02.885502\n"
     ]
    },
    {
     "name": "stdout",
     "output_type": "stream",
     "text": [
      "episode: 91/200, loss: 0.0590, duration: 0:00:02.413494\n"
     ]
    },
    {
     "name": "stdout",
     "output_type": "stream",
     "text": [
      "episode: 101/200, loss: 0.0361, duration: 0:00:03.307707\n"
     ]
    },
    {
     "name": "stdout",
     "output_type": "stream",
     "text": [
      "episode: 111/200, loss: 0.5990, duration: 0:00:02.439972\n"
     ]
    },
    {
     "name": "stdout",
     "output_type": "stream",
     "text": [
      "episode: 121/200, loss: 0.1160, duration: 0:00:03.463286\n"
     ]
    },
    {
     "name": "stdout",
     "output_type": "stream",
     "text": [
      "episode: 131/200, loss: 0.1311, duration: 0:00:03.297938\n"
     ]
    },
    {
     "name": "stdout",
     "output_type": "stream",
     "text": [
      "episode: 141/200, loss: 0.0473, duration: 0:00:02.580970\n"
     ]
    },
    {
     "name": "stdout",
     "output_type": "stream",
     "text": [
      "episode: 151/200, loss: 0.0627, duration: 0:00:03.163899\n"
     ]
    },
    {
     "name": "stdout",
     "output_type": "stream",
     "text": [
      "episode: 161/200, loss: 0.3176, duration: 0:00:04.489512\n"
     ]
    },
    {
     "name": "stdout",
     "output_type": "stream",
     "text": [
      "episode: 171/200, loss: 0.1230, duration: 0:00:02.309305\n"
     ]
    },
    {
     "name": "stdout",
     "output_type": "stream",
     "text": [
      "episode: 181/200, loss: 0.0637, duration: 0:00:03.110673\n"
     ]
    },
    {
     "name": "stdout",
     "output_type": "stream",
     "text": [
      "episode: 191/200, loss: 0.0404, duration: 0:00:02.767428\n"
     ]
    },
    {
     "name": "stdout",
     "output_type": "stream",
     "text": [
      "#############################################################################\n",
      "##\t[9/40]\tmodel=RL_CNN,\tSEED=0,\ttrade=0.1,\trisk=1000\thold=0.1\t##\n",
      "#############################################################################\n"
     ]
    },
    {
     "name": "stdout",
     "output_type": "stream",
     "text": [
      "episode: 1/200, loss: 2.0143, duration: 0:00:04.531550\n"
     ]
    },
    {
     "name": "stdout",
     "output_type": "stream",
     "text": [
      "episode: 11/200, loss: 2.3718, duration: 0:00:02.598752\n"
     ]
    },
    {
     "name": "stdout",
     "output_type": "stream",
     "text": [
      "episode: 21/200, loss: 0.5477, duration: 0:00:03.848882\n"
     ]
    },
    {
     "name": "stdout",
     "output_type": "stream",
     "text": [
      "episode: 31/200, loss: 0.4946, duration: 0:00:02.904789\n"
     ]
    },
    {
     "name": "stdout",
     "output_type": "stream",
     "text": [
      "episode: 41/200, loss: 0.8790, duration: 0:00:03.920225\n"
     ]
    },
    {
     "name": "stdout",
     "output_type": "stream",
     "text": [
      "episode: 51/200, loss: 7.1947, duration: 0:00:02.396036\n"
     ]
    },
    {
     "name": "stdout",
     "output_type": "stream",
     "text": [
      "episode: 61/200, loss: 2.9751, duration: 0:00:03.642937\n"
     ]
    },
    {
     "name": "stdout",
     "output_type": "stream",
     "text": [
      "episode: 71/200, loss: 1.9534, duration: 0:00:02.759800\n"
     ]
    },
    {
     "name": "stdout",
     "output_type": "stream",
     "text": [
      "episode: 81/200, loss: 2.6405, duration: 0:00:03.288332\n"
     ]
    },
    {
     "name": "stdout",
     "output_type": "stream",
     "text": [
      "episode: 91/200, loss: 0.8630, duration: 0:00:02.278458\n"
     ]
    },
    {
     "name": "stdout",
     "output_type": "stream",
     "text": [
      "episode: 101/200, loss: 0.5668, duration: 0:00:03.326757\n"
     ]
    },
    {
     "name": "stdout",
     "output_type": "stream",
     "text": [
      "episode: 111/200, loss: 5.6647, duration: 0:00:04.306803\n"
     ]
    },
    {
     "name": "stdout",
     "output_type": "stream",
     "text": [
      "episode: 121/200, loss: 1.1654, duration: 0:00:02.489764\n"
     ]
    },
    {
     "name": "stdout",
     "output_type": "stream",
     "text": [
      "episode: 131/200, loss: 1.2276, duration: 0:00:02.658001\n"
     ]
    },
    {
     "name": "stdout",
     "output_type": "stream",
     "text": [
      "episode: 141/200, loss: 0.8091, duration: 0:00:02.232773\n"
     ]
    },
    {
     "name": "stdout",
     "output_type": "stream",
     "text": [
      "episode: 151/200, loss: 0.8436, duration: 0:00:02.831168\n"
     ]
    },
    {
     "name": "stdout",
     "output_type": "stream",
     "text": [
      "episode: 161/200, loss: 2.7680, duration: 0:00:03.323069\n"
     ]
    },
    {
     "name": "stdout",
     "output_type": "stream",
     "text": [
      "episode: 171/200, loss: 1.4797, duration: 0:00:03.344097\n"
     ]
    },
    {
     "name": "stdout",
     "output_type": "stream",
     "text": [
      "episode: 181/200, loss: 0.9008, duration: 0:00:03.516554\n"
     ]
    },
    {
     "name": "stdout",
     "output_type": "stream",
     "text": [
      "episode: 191/200, loss: 0.6610, duration: 0:00:02.421445\n"
     ]
    },
    {
     "name": "stdout",
     "output_type": "stream",
     "text": [
      "#############################################################################\n",
      "##\t[10/40]\tmodel=RL_CNN,\tSEED=0,\ttrade=0.1,\trisk=1000\thold=1\t##\n",
      "#############################################################################\n"
     ]
    },
    {
     "name": "stdout",
     "output_type": "stream",
     "text": [
      "episode: 1/200, loss: 2.0150, duration: 0:00:02.311850\n"
     ]
    },
    {
     "name": "stdout",
     "output_type": "stream",
     "text": [
      "episode: 11/200, loss: 2.3719, duration: 0:00:03.276798\n"
     ]
    },
    {
     "name": "stdout",
     "output_type": "stream",
     "text": [
      "episode: 21/200, loss: 0.5481, duration: 0:00:02.406824\n"
     ]
    },
    {
     "name": "stdout",
     "output_type": "stream",
     "text": [
      "episode: 31/200, loss: 0.4948, duration: 0:00:02.761578\n"
     ]
    },
    {
     "name": "stdout",
     "output_type": "stream",
     "text": [
      "episode: 41/200, loss: 0.8792, duration: 0:00:03.143572\n"
     ]
    },
    {
     "name": "stdout",
     "output_type": "stream",
     "text": [
      "episode: 51/200, loss: 7.1940, duration: 0:00:02.262939\n"
     ]
    },
    {
     "name": "stdout",
     "output_type": "stream",
     "text": [
      "episode: 61/200, loss: 2.9764, duration: 0:00:02.519532\n"
     ]
    },
    {
     "name": "stdout",
     "output_type": "stream",
     "text": [
      "episode: 71/200, loss: 1.9547, duration: 0:00:02.182933\n"
     ]
    },
    {
     "name": "stdout",
     "output_type": "stream",
     "text": [
      "episode: 81/200, loss: 2.6402, duration: 0:00:02.377209\n"
     ]
    },
    {
     "name": "stdout",
     "output_type": "stream",
     "text": [
      "episode: 91/200, loss: 0.8636, duration: 0:00:02.506690\n"
     ]
    },
    {
     "name": "stdout",
     "output_type": "stream",
     "text": [
      "episode: 101/200, loss: 0.5673, duration: 0:00:03.288011\n"
     ]
    },
    {
     "name": "stdout",
     "output_type": "stream",
     "text": [
      "episode: 111/200, loss: 5.6692, duration: 0:00:02.221454\n"
     ]
    },
    {
     "name": "stdout",
     "output_type": "stream",
     "text": [
      "episode: 121/200, loss: 1.1640, duration: 0:00:03.283851\n"
     ]
    },
    {
     "name": "stdout",
     "output_type": "stream",
     "text": [
      "episode: 131/200, loss: 1.2304, duration: 0:00:02.262486\n"
     ]
    },
    {
     "name": "stdout",
     "output_type": "stream",
     "text": [
      "episode: 141/200, loss: 0.8097, duration: 0:00:02.085638\n"
     ]
    },
    {
     "name": "stdout",
     "output_type": "stream",
     "text": [
      "episode: 151/200, loss: 0.8417, duration: 0:00:02.149024\n"
     ]
    },
    {
     "name": "stdout",
     "output_type": "stream",
     "text": [
      "episode: 161/200, loss: 2.7663, duration: 0:00:02.271021\n"
     ]
    },
    {
     "name": "stdout",
     "output_type": "stream",
     "text": [
      "episode: 171/200, loss: 1.4603, duration: 0:00:02.861977\n"
     ]
    },
    {
     "name": "stdout",
     "output_type": "stream",
     "text": [
      "episode: 181/200, loss: 0.8928, duration: 0:00:02.992435\n"
     ]
    },
    {
     "name": "stdout",
     "output_type": "stream",
     "text": [
      "episode: 191/200, loss: 0.6603, duration: 0:00:03.006096\n"
     ]
    },
    {
     "name": "stdout",
     "output_type": "stream",
     "text": [
      "#############################################################################\n",
      "##\t[11/40]\tmodel=RL_CNN,\tSEED=0,\ttrade=1,\trisk=0.1\thold=0.1\t##\n",
      "#############################################################################\n"
     ]
    },
    {
     "name": "stdout",
     "output_type": "stream",
     "text": [
      "episode: 1/200, loss: -0.0148, duration: 0:00:02.599191\n"
     ]
    },
    {
     "name": "stdout",
     "output_type": "stream",
     "text": [
      "episode: 11/200, loss: -0.0204, duration: 0:00:02.484005\n"
     ]
    },
    {
     "name": "stdout",
     "output_type": "stream",
     "text": [
      "episode: 21/200, loss: -0.0004, duration: 0:00:02.312372\n"
     ]
    },
    {
     "name": "stdout",
     "output_type": "stream",
     "text": [
      "episode: 31/200, loss: -0.0386, duration: 0:00:02.259673\n"
     ]
    },
    {
     "name": "stdout",
     "output_type": "stream",
     "text": [
      "episode: 41/200, loss: 0.0155, duration: 0:00:03.297645\n"
     ]
    },
    {
     "name": "stdout",
     "output_type": "stream",
     "text": [
      "episode: 51/200, loss: 0.0535, duration: 0:00:02.234143\n"
     ]
    },
    {
     "name": "stdout",
     "output_type": "stream",
     "text": [
      "episode: 61/200, loss: -0.0858, duration: 0:00:02.934023\n"
     ]
    },
    {
     "name": "stdout",
     "output_type": "stream",
     "text": [
      "episode: 71/200, loss: 0.0466, duration: 0:00:03.466705\n"
     ]
    },
    {
     "name": "stdout",
     "output_type": "stream",
     "text": [
      "episode: 81/200, loss: -0.0277, duration: 0:00:03.414734\n"
     ]
    },
    {
     "name": "stdout",
     "output_type": "stream",
     "text": [
      "episode: 91/200, loss: -0.0065, duration: 0:00:02.259197\n"
     ]
    },
    {
     "name": "stdout",
     "output_type": "stream",
     "text": [
      "episode: 101/200, loss: -0.0258, duration: 0:00:01.984402\n"
     ]
    },
    {
     "name": "stdout",
     "output_type": "stream",
     "text": [
      "episode: 111/200, loss: -0.0422, duration: 0:00:03.953232\n"
     ]
    },
    {
     "name": "stdout",
     "output_type": "stream",
     "text": [
      "episode: 121/200, loss: 0.0066, duration: 0:00:02.217395\n"
     ]
    },
    {
     "name": "stdout",
     "output_type": "stream",
     "text": [
      "episode: 131/200, loss: 0.0008, duration: 0:00:03.731159\n"
     ]
    },
    {
     "name": "stdout",
     "output_type": "stream",
     "text": [
      "episode: 141/200, loss: -0.0118, duration: 0:00:02.969769\n"
     ]
    },
    {
     "name": "stdout",
     "output_type": "stream",
     "text": [
      "episode: 151/200, loss: -0.0288, duration: 0:00:03.017989\n"
     ]
    },
    {
     "name": "stdout",
     "output_type": "stream",
     "text": [
      "episode: 161/200, loss: 0.0333, duration: 0:00:02.980381\n"
     ]
    },
    {
     "name": "stdout",
     "output_type": "stream",
     "text": [
      "episode: 171/200, loss: 0.0147, duration: 0:00:02.289699\n"
     ]
    },
    {
     "name": "stdout",
     "output_type": "stream",
     "text": [
      "episode: 181/200, loss: -0.0407, duration: 0:00:02.227105\n"
     ]
    },
    {
     "name": "stdout",
     "output_type": "stream",
     "text": [
      "episode: 191/200, loss: -0.0417, duration: 0:00:03.836187\n"
     ]
    },
    {
     "name": "stdout",
     "output_type": "stream",
     "text": [
      "#############################################################################\n",
      "##\t[12/40]\tmodel=RL_CNN,\tSEED=0,\ttrade=1,\trisk=0.1\thold=1\t##\n",
      "#############################################################################\n"
     ]
    },
    {
     "name": "stdout",
     "output_type": "stream",
     "text": [
      "episode: 1/200, loss: -0.0141, duration: 0:00:03.075145\n"
     ]
    },
    {
     "name": "stdout",
     "output_type": "stream",
     "text": [
      "episode: 11/200, loss: -0.0203, duration: 0:00:02.676764\n"
     ]
    },
    {
     "name": "stdout",
     "output_type": "stream",
     "text": [
      "episode: 21/200, loss: 0.0001, duration: 0:00:02.234905\n"
     ]
    },
    {
     "name": "stdout",
     "output_type": "stream",
     "text": [
      "episode: 31/200, loss: -0.0393, duration: 0:00:02.280279\n"
     ]
    },
    {
     "name": "stdout",
     "output_type": "stream",
     "text": [
      "episode: 41/200, loss: 0.0156, duration: 0:00:02.845826\n"
     ]
    },
    {
     "name": "stdout",
     "output_type": "stream",
     "text": [
      "episode: 51/200, loss: 0.0542, duration: 0:00:02.942067\n"
     ]
    },
    {
     "name": "stdout",
     "output_type": "stream",
     "text": [
      "episode: 61/200, loss: -0.0855, duration: 0:00:03.083443\n"
     ]
    },
    {
     "name": "stdout",
     "output_type": "stream",
     "text": [
      "episode: 71/200, loss: 0.0468, duration: 0:00:02.374124\n"
     ]
    },
    {
     "name": "stdout",
     "output_type": "stream",
     "text": [
      "episode: 81/200, loss: -0.0276, duration: 0:00:03.807979\n"
     ]
    },
    {
     "name": "stdout",
     "output_type": "stream",
     "text": [
      "episode: 91/200, loss: -0.0061, duration: 0:00:02.186882\n"
     ]
    },
    {
     "name": "stdout",
     "output_type": "stream",
     "text": [
      "episode: 101/200, loss: -0.0271, duration: 0:00:03.015516\n"
     ]
    },
    {
     "name": "stdout",
     "output_type": "stream",
     "text": [
      "episode: 111/200, loss: -0.0421, duration: 0:00:02.860666\n"
     ]
    },
    {
     "name": "stdout",
     "output_type": "stream",
     "text": [
      "episode: 121/200, loss: 0.0062, duration: 0:00:02.387117\n"
     ]
    },
    {
     "name": "stdout",
     "output_type": "stream",
     "text": [
      "episode: 131/200, loss: -0.0018, duration: 0:00:02.401543\n"
     ]
    },
    {
     "name": "stdout",
     "output_type": "stream",
     "text": [
      "episode: 141/200, loss: -0.0117, duration: 0:00:02.219503\n"
     ]
    },
    {
     "name": "stdout",
     "output_type": "stream",
     "text": [
      "episode: 151/200, loss: -0.0277, duration: 0:00:03.113210\n"
     ]
    },
    {
     "name": "stdout",
     "output_type": "stream",
     "text": [
      "episode: 161/200, loss: 0.0362, duration: 0:00:04.303238\n"
     ]
    },
    {
     "name": "stdout",
     "output_type": "stream",
     "text": [
      "episode: 171/200, loss: 0.0114, duration: 0:00:02.824759\n"
     ]
    },
    {
     "name": "stdout",
     "output_type": "stream",
     "text": [
      "episode: 181/200, loss: -0.0393, duration: 0:00:02.817418\n"
     ]
    },
    {
     "name": "stdout",
     "output_type": "stream",
     "text": [
      "episode: 191/200, loss: -0.0418, duration: 0:00:03.860519\n"
     ]
    },
    {
     "name": "stdout",
     "output_type": "stream",
     "text": [
      "#############################################################################\n",
      "##\t[13/40]\tmodel=RL_CNN,\tSEED=0,\ttrade=1,\trisk=1\thold=0.1\t##\n",
      "#############################################################################\n"
     ]
    },
    {
     "name": "stdout",
     "output_type": "stream",
     "text": [
      "episode: 1/200, loss: -0.0129, duration: 0:00:02.245932\n"
     ]
    },
    {
     "name": "stdout",
     "output_type": "stream",
     "text": [
      "episode: 11/200, loss: -0.0186, duration: 0:00:02.280367\n"
     ]
    },
    {
     "name": "stdout",
     "output_type": "stream",
     "text": [
      "episode: 21/200, loss: 0.0002, duration: 0:00:02.286151\n"
     ]
    },
    {
     "name": "stdout",
     "output_type": "stream",
     "text": [
      "episode: 31/200, loss: -0.0385, duration: 0:00:02.244214\n"
     ]
    },
    {
     "name": "stdout",
     "output_type": "stream",
     "text": [
      "episode: 41/200, loss: 0.0164, duration: 0:00:02.425581\n"
     ]
    },
    {
     "name": "stdout",
     "output_type": "stream",
     "text": [
      "episode: 51/200, loss: 0.0603, duration: 0:00:02.159786\n"
     ]
    },
    {
     "name": "stdout",
     "output_type": "stream",
     "text": [
      "episode: 61/200, loss: -0.0822, duration: 0:00:02.214361\n"
     ]
    },
    {
     "name": "stdout",
     "output_type": "stream",
     "text": [
      "episode: 71/200, loss: 0.0486, duration: 0:00:02.051849\n"
     ]
    },
    {
     "name": "stdout",
     "output_type": "stream",
     "text": [
      "episode: 81/200, loss: -0.0251, duration: 0:00:02.410296\n"
     ]
    },
    {
     "name": "stdout",
     "output_type": "stream",
     "text": [
      "episode: 91/200, loss: -0.0054, duration: 0:00:02.228369\n"
     ]
    },
    {
     "name": "stdout",
     "output_type": "stream",
     "text": [
      "episode: 101/200, loss: -0.0253, duration: 0:00:02.089803\n"
     ]
    },
    {
     "name": "stdout",
     "output_type": "stream",
     "text": [
      "episode: 111/200, loss: -0.0331, duration: 0:00:02.344535\n"
     ]
    },
    {
     "name": "stdout",
     "output_type": "stream",
     "text": [
      "episode: 121/200, loss: 0.0071, duration: 0:00:02.279365\n"
     ]
    },
    {
     "name": "stdout",
     "output_type": "stream",
     "text": [
      "episode: 131/200, loss: -0.0003, duration: 0:00:02.631712\n"
     ]
    },
    {
     "name": "stdout",
     "output_type": "stream",
     "text": [
      "episode: 141/200, loss: -0.0112, duration: 0:00:02.622738\n"
     ]
    },
    {
     "name": "stdout",
     "output_type": "stream",
     "text": [
      "episode: 151/200, loss: -0.0264, duration: 0:00:02.103127\n"
     ]
    },
    {
     "name": "stdout",
     "output_type": "stream",
     "text": [
      "episode: 161/200, loss: 0.0362, duration: 0:00:02.177364\n"
     ]
    },
    {
     "name": "stdout",
     "output_type": "stream",
     "text": [
      "episode: 171/200, loss: 0.0115, duration: 0:00:02.976346\n"
     ]
    },
    {
     "name": "stdout",
     "output_type": "stream",
     "text": [
      "episode: 181/200, loss: -0.0416, duration: 0:00:02.814573\n"
     ]
    },
    {
     "name": "stdout",
     "output_type": "stream",
     "text": [
      "episode: 191/200, loss: -0.0339, duration: 0:00:02.186842\n"
     ]
    },
    {
     "name": "stdout",
     "output_type": "stream",
     "text": [
      "#############################################################################\n",
      "##\t[14/40]\tmodel=RL_CNN,\tSEED=0,\ttrade=1,\trisk=1\thold=1\t##\n",
      "#############################################################################\n"
     ]
    },
    {
     "name": "stdout",
     "output_type": "stream",
     "text": [
      "episode: 1/200, loss: -0.0122, duration: 0:00:02.328234\n"
     ]
    },
    {
     "name": "stdout",
     "output_type": "stream",
     "text": [
      "episode: 11/200, loss: -0.0185, duration: 0:00:03.162761\n"
     ]
    },
    {
     "name": "stdout",
     "output_type": "stream",
     "text": [
      "episode: 21/200, loss: 0.0006, duration: 0:00:02.174536\n"
     ]
    },
    {
     "name": "stdout",
     "output_type": "stream",
     "text": [
      "episode: 31/200, loss: -0.0389, duration: 0:00:02.240023\n"
     ]
    },
    {
     "name": "stdout",
     "output_type": "stream",
     "text": [
      "episode: 41/200, loss: 0.0164, duration: 0:00:02.478790\n"
     ]
    },
    {
     "name": "stdout",
     "output_type": "stream",
     "text": [
      "episode: 51/200, loss: 0.0612, duration: 0:00:02.140313\n"
     ]
    },
    {
     "name": "stdout",
     "output_type": "stream",
     "text": [
      "episode: 61/200, loss: -0.0819, duration: 0:00:02.462178\n"
     ]
    },
    {
     "name": "stdout",
     "output_type": "stream",
     "text": [
      "episode: 71/200, loss: 0.0488, duration: 0:00:02.169526\n"
     ]
    },
    {
     "name": "stdout",
     "output_type": "stream",
     "text": [
      "episode: 81/200, loss: -0.0250, duration: 0:00:02.078992\n"
     ]
    },
    {
     "name": "stdout",
     "output_type": "stream",
     "text": [
      "episode: 91/200, loss: -0.0049, duration: 0:00:02.855510\n"
     ]
    },
    {
     "name": "stdout",
     "output_type": "stream",
     "text": [
      "episode: 101/200, loss: -0.0282, duration: 0:00:02.882743\n"
     ]
    },
    {
     "name": "stdout",
     "output_type": "stream",
     "text": [
      "episode: 111/200, loss: -0.0330, duration: 0:00:02.223681\n"
     ]
    },
    {
     "name": "stdout",
     "output_type": "stream",
     "text": [
      "episode: 121/200, loss: 0.0067, duration: 0:00:02.170732\n"
     ]
    },
    {
     "name": "stdout",
     "output_type": "stream",
     "text": [
      "episode: 131/200, loss: -0.0011, duration: 0:00:02.483907\n"
     ]
    },
    {
     "name": "stdout",
     "output_type": "stream",
     "text": [
      "episode: 141/200, loss: -0.0111, duration: 0:00:02.138434\n"
     ]
    },
    {
     "name": "stdout",
     "output_type": "stream",
     "text": [
      "episode: 151/200, loss: -0.0260, duration: 0:00:02.118801\n"
     ]
    },
    {
     "name": "stdout",
     "output_type": "stream",
     "text": [
      "episode: 161/200, loss: 0.0365, duration: 0:00:02.024732\n"
     ]
    },
    {
     "name": "stdout",
     "output_type": "stream",
     "text": [
      "episode: 171/200, loss: 0.0117, duration: 0:00:02.420071\n"
     ]
    },
    {
     "name": "stdout",
     "output_type": "stream",
     "text": [
      "episode: 181/200, loss: -0.0409, duration: 0:00:02.489674\n"
     ]
    },
    {
     "name": "stdout",
     "output_type": "stream",
     "text": [
      "episode: 191/200, loss: -0.0332, duration: 0:00:02.144241\n"
     ]
    },
    {
     "name": "stdout",
     "output_type": "stream",
     "text": [
      "#############################################################################\n",
      "##\t[15/40]\tmodel=RL_CNN,\tSEED=0,\ttrade=1,\trisk=10\thold=0.1\t##\n",
      "#############################################################################\n"
     ]
    },
    {
     "name": "stdout",
     "output_type": "stream",
     "text": [
      "episode: 1/200, loss: 0.0053, duration: 0:00:02.205194\n"
     ]
    },
    {
     "name": "stdout",
     "output_type": "stream",
     "text": [
      "episode: 11/200, loss: 0.0015, duration: 0:00:02.171495\n"
     ]
    },
    {
     "name": "stdout",
     "output_type": "stream",
     "text": [
      "episode: 21/200, loss: 0.0068, duration: 0:00:01.944649\n"
     ]
    },
    {
     "name": "stdout",
     "output_type": "stream",
     "text": [
      "episode: 31/200, loss: -0.0352, duration: 0:00:02.172926\n"
     ]
    },
    {
     "name": "stdout",
     "output_type": "stream",
     "text": [
      "episode: 41/200, loss: 0.0238, duration: 0:00:02.443113\n"
     ]
    },
    {
     "name": "stdout",
     "output_type": "stream",
     "text": [
      "episode: 51/200, loss: 0.1341, duration: 0:00:02.164203\n"
     ]
    },
    {
     "name": "stdout",
     "output_type": "stream",
     "text": [
      "episode: 61/200, loss: -0.0416, duration: 0:00:02.199610\n"
     ]
    },
    {
     "name": "stdout",
     "output_type": "stream",
     "text": [
      "episode: 71/200, loss: 0.0692, duration: 0:00:02.100930\n"
     ]
    },
    {
     "name": "stdout",
     "output_type": "stream",
     "text": [
      "episode: 81/200, loss: -0.0003, duration: 0:00:01.910512\n"
     ]
    },
    {
     "name": "stdout",
     "output_type": "stream",
     "text": [
      "episode: 91/200, loss: 0.0000, duration: 0:00:01.986659\n"
     ]
    },
    {
     "name": "stdout",
     "output_type": "stream",
     "text": [
      "episode: 101/200, loss: -0.0335, duration: 0:00:01.549519\n"
     ]
    },
    {
     "name": "stdout",
     "output_type": "stream",
     "text": [
      "episode: 111/200, loss: 0.0446, duration: 0:00:02.034915\n"
     ]
    },
    {
     "name": "stdout",
     "output_type": "stream",
     "text": [
      "episode: 121/200, loss: 0.0096, duration: 0:00:01.303499\n"
     ]
    },
    {
     "name": "stdout",
     "output_type": "stream",
     "text": [
      "episode: 131/200, loss: 0.0010, duration: 0:00:01.330438\n"
     ]
    },
    {
     "name": "stdout",
     "output_type": "stream",
     "text": [
      "episode: 141/200, loss: -0.0057, duration: 0:00:01.684861\n"
     ]
    },
    {
     "name": "stdout",
     "output_type": "stream",
     "text": [
      "episode: 151/200, loss: -0.0134, duration: 0:00:01.878660\n"
     ]
    },
    {
     "name": "stdout",
     "output_type": "stream",
     "text": [
      "episode: 161/200, loss: 0.0609, duration: 0:00:01.482587\n"
     ]
    },
    {
     "name": "stdout",
     "output_type": "stream",
     "text": [
      "episode: 171/200, loss: 0.0223, duration: 0:00:01.270426\n"
     ]
    },
    {
     "name": "stdout",
     "output_type": "stream",
     "text": [
      "episode: 181/200, loss: -0.0325, duration: 0:00:01.208755\n"
     ]
    },
    {
     "name": "stdout",
     "output_type": "stream",
     "text": [
      "episode: 191/200, loss: -0.0245, duration: 0:00:01.276653\n"
     ]
    },
    {
     "name": "stdout",
     "output_type": "stream",
     "text": [
      "#############################################################################\n",
      "##\t[16/40]\tmodel=RL_CNN,\tSEED=0,\ttrade=1,\trisk=10\thold=1\t##\n",
      "#############################################################################\n"
     ]
    },
    {
     "name": "stdout",
     "output_type": "stream",
     "text": [
      "episode: 1/200, loss: 0.0060, duration: 0:00:01.212819\n"
     ]
    },
    {
     "name": "stdout",
     "output_type": "stream",
     "text": [
      "episode: 11/200, loss: 0.0017, duration: 0:00:01.143203\n"
     ]
    },
    {
     "name": "stdout",
     "output_type": "stream",
     "text": [
      "episode: 21/200, loss: 0.0072, duration: 0:00:01.265695\n"
     ]
    },
    {
     "name": "stdout",
     "output_type": "stream",
     "text": [
      "episode: 31/200, loss: -0.0355, duration: 0:00:01.178743\n"
     ]
    },
    {
     "name": "stdout",
     "output_type": "stream",
     "text": [
      "episode: 41/200, loss: 0.0235, duration: 0:00:01.446357\n"
     ]
    },
    {
     "name": "stdout",
     "output_type": "stream",
     "text": [
      "episode: 51/200, loss: 0.1345, duration: 0:00:01.148192\n"
     ]
    },
    {
     "name": "stdout",
     "output_type": "stream",
     "text": [
      "episode: 61/200, loss: -0.0413, duration: 0:00:01.292312\n"
     ]
    },
    {
     "name": "stdout",
     "output_type": "stream",
     "text": [
      "episode: 71/200, loss: 0.0693, duration: 0:00:01.154417\n"
     ]
    },
    {
     "name": "stdout",
     "output_type": "stream",
     "text": [
      "episode: 81/200, loss: -0.0007, duration: 0:00:01.321416\n"
     ]
    },
    {
     "name": "stdout",
     "output_type": "stream",
     "text": [
      "episode: 91/200, loss: -0.0003, duration: 0:00:01.173578\n"
     ]
    },
    {
     "name": "stdout",
     "output_type": "stream",
     "text": [
      "episode: 101/200, loss: -0.0335, duration: 0:00:01.152937\n"
     ]
    },
    {
     "name": "stdout",
     "output_type": "stream",
     "text": [
      "episode: 111/200, loss: 0.0448, duration: 0:00:01.141025\n"
     ]
    },
    {
     "name": "stdout",
     "output_type": "stream",
     "text": [
      "episode: 121/200, loss: 0.0101, duration: 0:00:01.198831\n"
     ]
    },
    {
     "name": "stdout",
     "output_type": "stream",
     "text": [
      "episode: 131/200, loss: 0.0013, duration: 0:00:01.181712\n"
     ]
    },
    {
     "name": "stdout",
     "output_type": "stream",
     "text": [
      "episode: 141/200, loss: -0.0054, duration: 0:00:01.314262\n"
     ]
    },
    {
     "name": "stdout",
     "output_type": "stream",
     "text": [
      "episode: 151/200, loss: -0.0132, duration: 0:00:01.199164\n"
     ]
    },
    {
     "name": "stdout",
     "output_type": "stream",
     "text": [
      "episode: 161/200, loss: 0.0611, duration: 0:00:01.146357\n"
     ]
    },
    {
     "name": "stdout",
     "output_type": "stream",
     "text": [
      "episode: 171/200, loss: 0.0203, duration: 0:00:01.260252\n"
     ]
    },
    {
     "name": "stdout",
     "output_type": "stream",
     "text": [
      "episode: 181/200, loss: -0.0324, duration: 0:00:01.272977\n"
     ]
    },
    {
     "name": "stdout",
     "output_type": "stream",
     "text": [
      "episode: 191/200, loss: -0.0239, duration: 0:00:01.354353\n"
     ]
    },
    {
     "name": "stdout",
     "output_type": "stream",
     "text": [
      "#############################################################################\n",
      "##\t[17/40]\tmodel=RL_CNN,\tSEED=0,\ttrade=1,\trisk=100\thold=0.1\t##\n",
      "#############################################################################\n"
     ]
    },
    {
     "name": "stdout",
     "output_type": "stream",
     "text": [
      "episode: 1/200, loss: 0.1880, duration: 0:00:01.288593\n"
     ]
    },
    {
     "name": "stdout",
     "output_type": "stream",
     "text": [
      "episode: 11/200, loss: 0.2168, duration: 0:00:01.290539\n"
     ]
    },
    {
     "name": "stdout",
     "output_type": "stream",
     "text": [
      "episode: 21/200, loss: 0.0603, duration: 0:00:01.647811\n"
     ]
    },
    {
     "name": "stdout",
     "output_type": "stream",
     "text": [
      "episode: 31/200, loss: 0.0103, duration: 0:00:02.192015\n"
     ]
    },
    {
     "name": "stdout",
     "output_type": "stream",
     "text": [
      "episode: 41/200, loss: 0.1007, duration: 0:00:02.160663\n"
     ]
    },
    {
     "name": "stdout",
     "output_type": "stream",
     "text": [
      "episode: 51/200, loss: 0.7577, duration: 0:00:02.181351\n"
     ]
    },
    {
     "name": "stdout",
     "output_type": "stream",
     "text": [
      "episode: 61/200, loss: 0.2526, duration: 0:00:02.514511\n"
     ]
    },
    {
     "name": "stdout",
     "output_type": "stream",
     "text": [
      "episode: 71/200, loss: 0.2363, duration: 0:00:02.257557\n"
     ]
    },
    {
     "name": "stdout",
     "output_type": "stream",
     "text": [
      "episode: 81/200, loss: 0.2469, duration: 0:00:02.572460\n"
     ]
    },
    {
     "name": "stdout",
     "output_type": "stream",
     "text": [
      "episode: 91/200, loss: 0.0555, duration: 0:00:02.811988\n"
     ]
    },
    {
     "name": "stdout",
     "output_type": "stream",
     "text": [
      "episode: 101/200, loss: 0.0425, duration: 0:00:02.753061\n"
     ]
    },
    {
     "name": "stdout",
     "output_type": "stream",
     "text": [
      "episode: 111/200, loss: 0.6224, duration: 0:00:02.337389\n"
     ]
    },
    {
     "name": "stdout",
     "output_type": "stream",
     "text": [
      "episode: 121/200, loss: 0.1175, duration: 0:00:01.494242\n"
     ]
    },
    {
     "name": "stdout",
     "output_type": "stream",
     "text": [
      "episode: 131/200, loss: 0.1309, duration: 0:00:02.362239\n"
     ]
    },
    {
     "name": "stdout",
     "output_type": "stream",
     "text": [
      "episode: 141/200, loss: 0.0535, duration: 0:00:02.335904\n"
     ]
    },
    {
     "name": "stdout",
     "output_type": "stream",
     "text": [
      "episode: 151/200, loss: 0.0636, duration: 0:00:02.526999\n"
     ]
    },
    {
     "name": "stdout",
     "output_type": "stream",
     "text": [
      "episode: 161/200, loss: 0.3166, duration: 0:00:01.969164\n"
     ]
    },
    {
     "name": "stdout",
     "output_type": "stream",
     "text": [
      "episode: 171/200, loss: 0.1294, duration: 0:00:02.554532\n"
     ]
    },
    {
     "name": "stdout",
     "output_type": "stream",
     "text": [
      "episode: 181/200, loss: 0.0623, duration: 0:00:02.154997\n"
     ]
    },
    {
     "name": "stdout",
     "output_type": "stream",
     "text": [
      "episode: 191/200, loss: 0.0403, duration: 0:00:02.600344\n"
     ]
    },
    {
     "name": "stdout",
     "output_type": "stream",
     "text": [
      "#############################################################################\n",
      "##\t[18/40]\tmodel=RL_CNN,\tSEED=0,\ttrade=1,\trisk=100\thold=1\t##\n",
      "#############################################################################\n"
     ]
    },
    {
     "name": "stdout",
     "output_type": "stream",
     "text": [
      "episode: 1/200, loss: 0.1887, duration: 0:00:02.528811\n"
     ]
    },
    {
     "name": "stdout",
     "output_type": "stream",
     "text": [
      "episode: 11/200, loss: 0.2168, duration: 0:00:02.555375\n"
     ]
    },
    {
     "name": "stdout",
     "output_type": "stream",
     "text": [
      "episode: 21/200, loss: 0.0606, duration: 0:00:02.820108\n"
     ]
    },
    {
     "name": "stdout",
     "output_type": "stream",
     "text": [
      "episode: 31/200, loss: 0.0104, duration: 0:00:02.414703\n"
     ]
    },
    {
     "name": "stdout",
     "output_type": "stream",
     "text": [
      "episode: 41/200, loss: 0.1008, duration: 0:00:02.336112\n"
     ]
    },
    {
     "name": "stdout",
     "output_type": "stream",
     "text": [
      "episode: 51/200, loss: 0.7576, duration: 0:00:02.303727\n"
     ]
    },
    {
     "name": "stdout",
     "output_type": "stream",
     "text": [
      "episode: 61/200, loss: 0.2532, duration: 0:00:02.688881\n"
     ]
    },
    {
     "name": "stdout",
     "output_type": "stream",
     "text": [
      "episode: 71/200, loss: 0.2368, duration: 0:00:02.433916\n"
     ]
    },
    {
     "name": "stdout",
     "output_type": "stream",
     "text": [
      "episode: 81/200, loss: 0.2473, duration: 0:00:02.512312\n"
     ]
    },
    {
     "name": "stdout",
     "output_type": "stream",
     "text": [
      "episode: 91/200, loss: 0.0596, duration: 0:00:02.452390\n"
     ]
    },
    {
     "name": "stdout",
     "output_type": "stream",
     "text": [
      "episode: 101/200, loss: 0.0357, duration: 0:00:02.540618\n"
     ]
    },
    {
     "name": "stdout",
     "output_type": "stream",
     "text": [
      "episode: 111/200, loss: 0.6011, duration: 0:00:02.526585\n"
     ]
    },
    {
     "name": "stdout",
     "output_type": "stream",
     "text": [
      "episode: 121/200, loss: 0.1168, duration: 0:00:02.387347\n"
     ]
    },
    {
     "name": "stdout",
     "output_type": "stream",
     "text": [
      "episode: 131/200, loss: 0.1336, duration: 0:00:02.371110\n"
     ]
    },
    {
     "name": "stdout",
     "output_type": "stream",
     "text": [
      "episode: 141/200, loss: 0.0470, duration: 0:00:02.435657\n"
     ]
    },
    {
     "name": "stdout",
     "output_type": "stream",
     "text": [
      "episode: 151/200, loss: 0.0664, duration: 0:00:02.403526\n"
     ]
    },
    {
     "name": "stdout",
     "output_type": "stream",
     "text": [
      "episode: 161/200, loss: 0.3262, duration: 0:00:02.496015\n"
     ]
    },
    {
     "name": "stdout",
     "output_type": "stream",
     "text": [
      "episode: 171/200, loss: 0.1232, duration: 0:00:02.733619\n"
     ]
    },
    {
     "name": "stdout",
     "output_type": "stream",
     "text": [
      "episode: 181/200, loss: 0.0659, duration: 0:00:02.394654\n"
     ]
    },
    {
     "name": "stdout",
     "output_type": "stream",
     "text": [
      "episode: 191/200, loss: 0.0407, duration: 0:00:02.758713\n"
     ]
    },
    {
     "name": "stdout",
     "output_type": "stream",
     "text": [
      "#############################################################################\n",
      "##\t[19/40]\tmodel=RL_CNN,\tSEED=0,\ttrade=1,\trisk=1000\thold=0.1\t##\n",
      "#############################################################################\n"
     ]
    },
    {
     "name": "stdout",
     "output_type": "stream",
     "text": [
      "episode: 1/200, loss: 2.0150, duration: 0:00:02.379115\n"
     ]
    },
    {
     "name": "stdout",
     "output_type": "stream",
     "text": [
      "episode: 11/200, loss: 2.3726, duration: 0:00:02.407720\n"
     ]
    },
    {
     "name": "stdout",
     "output_type": "stream",
     "text": [
      "episode: 21/200, loss: 0.5480, duration: 0:00:02.490084\n"
     ]
    },
    {
     "name": "stdout",
     "output_type": "stream",
     "text": [
      "episode: 31/200, loss: 0.4948, duration: 0:00:02.442078\n"
     ]
    },
    {
     "name": "stdout",
     "output_type": "stream",
     "text": [
      "episode: 41/200, loss: 0.8793, duration: 0:00:02.476308\n"
     ]
    },
    {
     "name": "stdout",
     "output_type": "stream",
     "text": [
      "episode: 51/200, loss: 7.1949, duration: 0:00:02.566606\n"
     ]
    },
    {
     "name": "stdout",
     "output_type": "stream",
     "text": [
      "episode: 61/200, loss: 2.9758, duration: 0:00:02.215279\n"
     ]
    },
    {
     "name": "stdout",
     "output_type": "stream",
     "text": [
      "episode: 71/200, loss: 1.9535, duration: 0:00:02.368320\n"
     ]
    },
    {
     "name": "stdout",
     "output_type": "stream",
     "text": [
      "episode: 81/200, loss: 2.6403, duration: 0:00:02.396827\n"
     ]
    },
    {
     "name": "stdout",
     "output_type": "stream",
     "text": [
      "episode: 91/200, loss: 0.8638, duration: 0:00:02.761465\n"
     ]
    },
    {
     "name": "stdout",
     "output_type": "stream",
     "text": [
      "episode: 101/200, loss: 0.5670, duration: 0:00:02.249817\n"
     ]
    },
    {
     "name": "stdout",
     "output_type": "stream",
     "text": [
      "episode: 111/200, loss: 5.6642, duration: 0:00:02.381798\n"
     ]
    },
    {
     "name": "stdout",
     "output_type": "stream",
     "text": [
      "episode: 121/200, loss: 1.1665, duration: 0:00:02.295474\n"
     ]
    },
    {
     "name": "stdout",
     "output_type": "stream",
     "text": [
      "episode: 131/200, loss: 1.2292, duration: 0:00:02.556756\n"
     ]
    },
    {
     "name": "stdout",
     "output_type": "stream",
     "text": [
      "episode: 141/200, loss: 0.8092, duration: 0:00:02.833507\n"
     ]
    },
    {
     "name": "stdout",
     "output_type": "stream",
     "text": [
      "episode: 151/200, loss: 0.8441, duration: 0:00:02.030541\n"
     ]
    },
    {
     "name": "stdout",
     "output_type": "stream",
     "text": [
      "episode: 161/200, loss: 2.7681, duration: 0:00:02.316522\n"
     ]
    },
    {
     "name": "stdout",
     "output_type": "stream",
     "text": [
      "episode: 171/200, loss: 1.4872, duration: 0:00:02.503738\n"
     ]
    },
    {
     "name": "stdout",
     "output_type": "stream",
     "text": [
      "episode: 181/200, loss: 0.8973, duration: 0:00:02.400460\n"
     ]
    },
    {
     "name": "stdout",
     "output_type": "stream",
     "text": [
      "episode: 191/200, loss: 0.6602, duration: 0:00:02.708722\n"
     ]
    },
    {
     "name": "stdout",
     "output_type": "stream",
     "text": [
      "#############################################################################\n",
      "##\t[20/40]\tmodel=RL_CNN,\tSEED=0,\ttrade=1,\trisk=1000\thold=1\t##\n",
      "#############################################################################\n"
     ]
    },
    {
     "name": "stdout",
     "output_type": "stream",
     "text": [
      "episode: 1/200, loss: 2.0157, duration: 0:00:03.014736\n"
     ]
    },
    {
     "name": "stdout",
     "output_type": "stream",
     "text": [
      "episode: 11/200, loss: 2.3727, duration: 0:00:02.669473\n"
     ]
    },
    {
     "name": "stdout",
     "output_type": "stream",
     "text": [
      "episode: 21/200, loss: 0.5484, duration: 0:00:02.879845\n"
     ]
    },
    {
     "name": "stdout",
     "output_type": "stream",
     "text": [
      "episode: 31/200, loss: 0.4950, duration: 0:00:02.718745\n"
     ]
    },
    {
     "name": "stdout",
     "output_type": "stream",
     "text": [
      "episode: 41/200, loss: 0.8794, duration: 0:00:02.778433\n"
     ]
    },
    {
     "name": "stdout",
     "output_type": "stream",
     "text": [
      "episode: 51/200, loss: 7.1942, duration: 0:00:02.713893\n"
     ]
    },
    {
     "name": "stdout",
     "output_type": "stream",
     "text": [
      "episode: 61/200, loss: 2.9773, duration: 0:00:02.336500\n"
     ]
    },
    {
     "name": "stdout",
     "output_type": "stream",
     "text": [
      "episode: 71/200, loss: 1.9548, duration: 0:00:02.428529\n"
     ]
    },
    {
     "name": "stdout",
     "output_type": "stream",
     "text": [
      "episode: 81/200, loss: 2.6401, duration: 0:00:02.423989\n"
     ]
    },
    {
     "name": "stdout",
     "output_type": "stream",
     "text": [
      "episode: 91/200, loss: 0.8643, duration: 0:00:02.540593\n"
     ]
    },
    {
     "name": "stdout",
     "output_type": "stream",
     "text": [
      "episode: 101/200, loss: 0.5676, duration: 0:00:02.779546\n"
     ]
    },
    {
     "name": "stdout",
     "output_type": "stream",
     "text": [
      "episode: 111/200, loss: 5.6720, duration: 0:00:03.164701\n"
     ]
    },
    {
     "name": "stdout",
     "output_type": "stream",
     "text": [
      "episode: 121/200, loss: 1.1625, duration: 0:00:02.775366\n"
     ]
    },
    {
     "name": "stdout",
     "output_type": "stream",
     "text": [
      "episode: 131/200, loss: 1.2327, duration: 0:00:02.912077\n"
     ]
    },
    {
     "name": "stdout",
     "output_type": "stream",
     "text": [
      "episode: 141/200, loss: 0.8090, duration: 0:00:02.341982\n"
     ]
    },
    {
     "name": "stdout",
     "output_type": "stream",
     "text": [
      "episode: 151/200, loss: 0.8400, duration: 0:00:02.295682\n"
     ]
    },
    {
     "name": "stdout",
     "output_type": "stream",
     "text": [
      "episode: 161/200, loss: 2.7665, duration: 0:00:02.354808\n"
     ]
    },
    {
     "name": "stdout",
     "output_type": "stream",
     "text": [
      "episode: 171/200, loss: 1.4605, duration: 0:00:02.258619\n"
     ]
    },
    {
     "name": "stdout",
     "output_type": "stream",
     "text": [
      "episode: 181/200, loss: 0.9033, duration: 0:00:02.287685\n"
     ]
    },
    {
     "name": "stdout",
     "output_type": "stream",
     "text": [
      "episode: 191/200, loss: 0.6546, duration: 0:00:02.291976\n"
     ]
    },
    {
     "name": "stdout",
     "output_type": "stream",
     "text": [
      "#############################################################################\n",
      "##\t[21/40]\tmodel=RL_CNN,\tSEED=0,\ttrade=10,\trisk=0.1\thold=0.1\t##\n",
      "#############################################################################\n"
     ]
    },
    {
     "name": "stdout",
     "output_type": "stream",
     "text": [
      "episode: 1/200, loss: -0.0082, duration: 0:00:02.342038\n"
     ]
    },
    {
     "name": "stdout",
     "output_type": "stream",
     "text": [
      "episode: 11/200, loss: -0.0140, duration: 0:00:02.066038\n"
     ]
    },
    {
     "name": "stdout",
     "output_type": "stream",
     "text": [
      "episode: 21/200, loss: 0.0012, duration: 0:00:01.540519\n"
     ]
    },
    {
     "name": "stdout",
     "output_type": "stream",
     "text": [
      "episode: 31/200, loss: -0.0358, duration: 0:00:02.141549\n"
     ]
    },
    {
     "name": "stdout",
     "output_type": "stream",
     "text": [
      "episode: 41/200, loss: 0.0168, duration: 0:00:02.241137\n"
     ]
    },
    {
     "name": "stdout",
     "output_type": "stream",
     "text": [
      "episode: 51/200, loss: 0.0547, duration: 0:00:02.292002\n"
     ]
    },
    {
     "name": "stdout",
     "output_type": "stream",
     "text": [
      "episode: 61/200, loss: -0.0851, duration: 0:00:01.504485\n"
     ]
    },
    {
     "name": "stdout",
     "output_type": "stream",
     "text": [
      "episode: 71/200, loss: 0.0472, duration: 0:00:02.190675\n"
     ]
    },
    {
     "name": "stdout",
     "output_type": "stream",
     "text": [
      "episode: 81/200, loss: -0.0265, duration: 0:00:02.272435\n"
     ]
    },
    {
     "name": "stdout",
     "output_type": "stream",
     "text": [
      "episode: 91/200, loss: -0.0045, duration: 0:00:02.408594\n"
     ]
    },
    {
     "name": "stdout",
     "output_type": "stream",
     "text": [
      "episode: 101/200, loss: -0.0241, duration: 0:00:02.152774\n"
     ]
    },
    {
     "name": "stdout",
     "output_type": "stream",
     "text": [
      "episode: 111/200, loss: -0.0213, duration: 0:00:02.407491\n"
     ]
    },
    {
     "name": "stdout",
     "output_type": "stream",
     "text": [
      "episode: 121/200, loss: 0.0074, duration: 0:00:01.331181\n"
     ]
    },
    {
     "name": "stdout",
     "output_type": "stream",
     "text": [
      "episode: 131/200, loss: 0.0041, duration: 0:00:02.204680\n"
     ]
    },
    {
     "name": "stdout",
     "output_type": "stream",
     "text": [
      "episode: 141/200, loss: -0.0041, duration: 0:00:02.214628\n"
     ]
    },
    {
     "name": "stdout",
     "output_type": "stream",
     "text": [
      "episode: 151/200, loss: -0.0147, duration: 0:00:02.160977\n"
     ]
    },
    {
     "name": "stdout",
     "output_type": "stream",
     "text": [
      "episode: 161/200, loss: 0.0482, duration: 0:00:02.172984\n"
     ]
    },
    {
     "name": "stdout",
     "output_type": "stream",
     "text": [
      "episode: 171/200, loss: 0.0155, duration: 0:00:02.098332\n"
     ]
    },
    {
     "name": "stdout",
     "output_type": "stream",
     "text": [
      "episode: 181/200, loss: -0.0482, duration: 0:00:02.132102\n"
     ]
    },
    {
     "name": "stdout",
     "output_type": "stream",
     "text": [
      "episode: 191/200, loss: -0.0320, duration: 0:00:02.118796\n"
     ]
    },
    {
     "name": "stderr",
     "output_type": "stream",
     "text": [
      "/usr/local/lib/python3.7/site-packages/ipykernel_launcher.py:136: RuntimeWarning: More than 20 figures have been opened. Figures created through the pyplot interface (`matplotlib.pyplot.figure`) are retained until explicitly closed and may consume too much memory. (To control this warning, see the rcParam `figure.max_open_warning`).\n"
     ]
    },
    {
     "name": "stdout",
     "output_type": "stream",
     "text": [
      "#############################################################################\n",
      "##\t[22/40]\tmodel=RL_CNN,\tSEED=0,\ttrade=10,\trisk=0.1\thold=1\t##\n",
      "#############################################################################\n"
     ]
    },
    {
     "name": "stdout",
     "output_type": "stream",
     "text": [
      "episode: 1/200, loss: -0.0075, duration: 0:00:01.778183\n"
     ]
    },
    {
     "name": "stdout",
     "output_type": "stream",
     "text": [
      "episode: 11/200, loss: -0.0138, duration: 0:00:01.496985\n"
     ]
    },
    {
     "name": "stdout",
     "output_type": "stream",
     "text": [
      "episode: 21/200, loss: 0.0017, duration: 0:00:01.345824\n"
     ]
    },
    {
     "name": "stdout",
     "output_type": "stream",
     "text": [
      "episode: 31/200, loss: -0.0367, duration: 0:00:02.355159\n"
     ]
    },
    {
     "name": "stdout",
     "output_type": "stream",
     "text": [
      "episode: 41/200, loss: 0.0168, duration: 0:00:01.343612\n"
     ]
    },
    {
     "name": "stdout",
     "output_type": "stream",
     "text": [
      "episode: 51/200, loss: 0.0556, duration: 0:00:01.232257\n"
     ]
    },
    {
     "name": "stdout",
     "output_type": "stream",
     "text": [
      "episode: 61/200, loss: -0.0849, duration: 0:00:01.297680\n"
     ]
    },
    {
     "name": "stdout",
     "output_type": "stream",
     "text": [
      "episode: 71/200, loss: 0.0473, duration: 0:00:01.238829\n"
     ]
    },
    {
     "name": "stdout",
     "output_type": "stream",
     "text": [
      "episode: 81/200, loss: -0.0263, duration: 0:00:01.556918\n"
     ]
    },
    {
     "name": "stdout",
     "output_type": "stream",
     "text": [
      "episode: 91/200, loss: -0.0044, duration: 0:00:01.516773\n"
     ]
    },
    {
     "name": "stdout",
     "output_type": "stream",
     "text": [
      "episode: 101/200, loss: -0.0243, duration: 0:00:01.383899\n"
     ]
    },
    {
     "name": "stdout",
     "output_type": "stream",
     "text": [
      "episode: 111/200, loss: -0.0219, duration: 0:00:01.270334\n"
     ]
    },
    {
     "name": "stdout",
     "output_type": "stream",
     "text": [
      "episode: 121/200, loss: 0.0075, duration: 0:00:01.212603\n"
     ]
    },
    {
     "name": "stdout",
     "output_type": "stream",
     "text": [
      "episode: 131/200, loss: 0.0040, duration: 0:00:01.197554\n"
     ]
    },
    {
     "name": "stdout",
     "output_type": "stream",
     "text": [
      "episode: 141/200, loss: -0.0046, duration: 0:00:01.182401\n"
     ]
    },
    {
     "name": "stdout",
     "output_type": "stream",
     "text": [
      "episode: 151/200, loss: -0.0207, duration: 0:00:01.171537\n"
     ]
    },
    {
     "name": "stdout",
     "output_type": "stream",
     "text": [
      "episode: 161/200, loss: 0.0472, duration: 0:00:01.118410\n"
     ]
    },
    {
     "name": "stdout",
     "output_type": "stream",
     "text": [
      "episode: 171/200, loss: 0.0139, duration: 0:00:01.148437\n"
     ]
    },
    {
     "name": "stdout",
     "output_type": "stream",
     "text": [
      "episode: 181/200, loss: -0.0467, duration: 0:00:01.188262\n"
     ]
    },
    {
     "name": "stdout",
     "output_type": "stream",
     "text": [
      "episode: 191/200, loss: -0.0341, duration: 0:00:01.109635\n"
     ]
    },
    {
     "name": "stderr",
     "output_type": "stream",
     "text": [
      "/usr/local/lib/python3.7/site-packages/ipykernel_launcher.py:136: RuntimeWarning: More than 20 figures have been opened. Figures created through the pyplot interface (`matplotlib.pyplot.figure`) are retained until explicitly closed and may consume too much memory. (To control this warning, see the rcParam `figure.max_open_warning`).\n"
     ]
    },
    {
     "name": "stdout",
     "output_type": "stream",
     "text": [
      "#############################################################################\n",
      "##\t[23/40]\tmodel=RL_CNN,\tSEED=0,\ttrade=10,\trisk=1\thold=0.1\t##\n",
      "#############################################################################\n"
     ]
    },
    {
     "name": "stdout",
     "output_type": "stream",
     "text": [
      "episode: 1/200, loss: -0.0064, duration: 0:00:01.206469\n"
     ]
    },
    {
     "name": "stdout",
     "output_type": "stream",
     "text": [
      "episode: 11/200, loss: -0.0122, duration: 0:00:01.131594\n"
     ]
    },
    {
     "name": "stdout",
     "output_type": "stream",
     "text": [
      "episode: 21/200, loss: 0.0018, duration: 0:00:01.161026\n"
     ]
    },
    {
     "name": "stdout",
     "output_type": "stream",
     "text": [
      "episode: 31/200, loss: -0.0356, duration: 0:00:01.279504\n"
     ]
    },
    {
     "name": "stdout",
     "output_type": "stream",
     "text": [
      "episode: 41/200, loss: 0.0177, duration: 0:00:01.147608\n"
     ]
    },
    {
     "name": "stdout",
     "output_type": "stream",
     "text": [
      "episode: 51/200, loss: 0.0616, duration: 0:00:01.245426\n"
     ]
    },
    {
     "name": "stdout",
     "output_type": "stream",
     "text": [
      "episode: 61/200, loss: -0.0815, duration: 0:00:01.201405\n"
     ]
    },
    {
     "name": "stdout",
     "output_type": "stream",
     "text": [
      "episode: 71/200, loss: 0.0491, duration: 0:00:01.465885\n"
     ]
    },
    {
     "name": "stdout",
     "output_type": "stream",
     "text": [
      "episode: 81/200, loss: -0.0238, duration: 0:00:01.136351\n"
     ]
    },
    {
     "name": "stdout",
     "output_type": "stream",
     "text": [
      "episode: 91/200, loss: -0.0037, duration: 0:00:01.165554\n"
     ]
    },
    {
     "name": "stdout",
     "output_type": "stream",
     "text": [
      "episode: 101/200, loss: -0.0234, duration: 0:00:01.431622\n"
     ]
    },
    {
     "name": "stdout",
     "output_type": "stream",
     "text": [
      "episode: 111/200, loss: -0.0133, duration: 0:00:01.426604\n"
     ]
    },
    {
     "name": "stdout",
     "output_type": "stream",
     "text": [
      "episode: 121/200, loss: 0.0083, duration: 0:00:01.389392\n"
     ]
    },
    {
     "name": "stdout",
     "output_type": "stream",
     "text": [
      "episode: 131/200, loss: 0.0058, duration: 0:00:01.324337\n"
     ]
    },
    {
     "name": "stdout",
     "output_type": "stream",
     "text": [
      "episode: 141/200, loss: -0.0043, duration: 0:00:02.248541\n"
     ]
    },
    {
     "name": "stdout",
     "output_type": "stream",
     "text": [
      "episode: 151/200, loss: -0.0206, duration: 0:00:02.306028\n"
     ]
    },
    {
     "name": "stdout",
     "output_type": "stream",
     "text": [
      "episode: 161/200, loss: 0.0485, duration: 0:00:02.288206\n"
     ]
    },
    {
     "name": "stdout",
     "output_type": "stream",
     "text": [
      "episode: 171/200, loss: 0.0136, duration: 0:00:02.462119\n"
     ]
    },
    {
     "name": "stdout",
     "output_type": "stream",
     "text": [
      "episode: 181/200, loss: -0.0376, duration: 0:00:01.790540\n"
     ]
    },
    {
     "name": "stdout",
     "output_type": "stream",
     "text": [
      "episode: 191/200, loss: -0.0308, duration: 0:00:02.348966\n"
     ]
    },
    {
     "name": "stderr",
     "output_type": "stream",
     "text": [
      "/usr/local/lib/python3.7/site-packages/ipykernel_launcher.py:136: RuntimeWarning: More than 20 figures have been opened. Figures created through the pyplot interface (`matplotlib.pyplot.figure`) are retained until explicitly closed and may consume too much memory. (To control this warning, see the rcParam `figure.max_open_warning`).\n"
     ]
    },
    {
     "name": "stdout",
     "output_type": "stream",
     "text": [
      "#############################################################################\n",
      "##\t[24/40]\tmodel=RL_CNN,\tSEED=0,\ttrade=10,\trisk=1\thold=1\t##\n",
      "#############################################################################\n"
     ]
    },
    {
     "name": "stdout",
     "output_type": "stream",
     "text": [
      "episode: 1/200, loss: -0.0057, duration: 0:00:02.468983\n"
     ]
    },
    {
     "name": "stdout",
     "output_type": "stream",
     "text": [
      "episode: 11/200, loss: -0.0121, duration: 0:00:02.670856\n"
     ]
    },
    {
     "name": "stdout",
     "output_type": "stream",
     "text": [
      "episode: 21/200, loss: 0.0023, duration: 0:00:02.388288\n"
     ]
    },
    {
     "name": "stdout",
     "output_type": "stream",
     "text": [
      "episode: 31/200, loss: -0.0364, duration: 0:00:02.641640\n"
     ]
    },
    {
     "name": "stdout",
     "output_type": "stream",
     "text": [
      "episode: 41/200, loss: 0.0177, duration: 0:00:02.359250\n"
     ]
    },
    {
     "name": "stdout",
     "output_type": "stream",
     "text": [
      "episode: 51/200, loss: 0.0626, duration: 0:00:02.593901\n"
     ]
    },
    {
     "name": "stdout",
     "output_type": "stream",
     "text": [
      "episode: 61/200, loss: -0.0812, duration: 0:00:02.178115\n"
     ]
    },
    {
     "name": "stdout",
     "output_type": "stream",
     "text": [
      "episode: 71/200, loss: 0.0493, duration: 0:00:02.465406\n"
     ]
    },
    {
     "name": "stdout",
     "output_type": "stream",
     "text": [
      "episode: 81/200, loss: -0.0236, duration: 0:00:02.424397\n"
     ]
    },
    {
     "name": "stdout",
     "output_type": "stream",
     "text": [
      "episode: 91/200, loss: -0.0034, duration: 0:00:02.538770\n"
     ]
    },
    {
     "name": "stdout",
     "output_type": "stream",
     "text": [
      "episode: 101/200, loss: -0.0235, duration: 0:00:02.666238\n"
     ]
    },
    {
     "name": "stdout",
     "output_type": "stream",
     "text": [
      "episode: 111/200, loss: -0.0142, duration: 0:00:02.361470\n"
     ]
    },
    {
     "name": "stdout",
     "output_type": "stream",
     "text": [
      "episode: 121/200, loss: 0.0085, duration: 0:00:02.353982\n"
     ]
    },
    {
     "name": "stdout",
     "output_type": "stream",
     "text": [
      "episode: 131/200, loss: 0.0050, duration: 0:00:02.047253\n"
     ]
    },
    {
     "name": "stdout",
     "output_type": "stream",
     "text": [
      "episode: 141/200, loss: -0.0092, duration: 0:00:02.803694\n"
     ]
    },
    {
     "name": "stdout",
     "output_type": "stream",
     "text": [
      "episode: 151/200, loss: -0.0228, duration: 0:00:02.476668\n"
     ]
    },
    {
     "name": "stdout",
     "output_type": "stream",
     "text": [
      "episode: 161/200, loss: 0.0435, duration: 0:00:02.758783\n"
     ]
    },
    {
     "name": "stdout",
     "output_type": "stream",
     "text": [
      "episode: 171/200, loss: 0.0103, duration: 0:00:02.442303\n"
     ]
    },
    {
     "name": "stdout",
     "output_type": "stream",
     "text": [
      "episode: 181/200, loss: -0.0380, duration: 0:00:02.645430\n"
     ]
    },
    {
     "name": "stdout",
     "output_type": "stream",
     "text": [
      "episode: 191/200, loss: -0.0324, duration: 0:00:02.326209\n"
     ]
    },
    {
     "name": "stderr",
     "output_type": "stream",
     "text": [
      "/usr/local/lib/python3.7/site-packages/ipykernel_launcher.py:136: RuntimeWarning: More than 20 figures have been opened. Figures created through the pyplot interface (`matplotlib.pyplot.figure`) are retained until explicitly closed and may consume too much memory. (To control this warning, see the rcParam `figure.max_open_warning`).\n"
     ]
    },
    {
     "name": "stdout",
     "output_type": "stream",
     "text": [
      "#############################################################################\n",
      "##\t[25/40]\tmodel=RL_CNN,\tSEED=0,\ttrade=10,\trisk=10\thold=0.1\t##\n",
      "#############################################################################\n"
     ]
    },
    {
     "name": "stdout",
     "output_type": "stream",
     "text": [
      "episode: 1/200, loss: 0.0119, duration: 0:00:02.386470\n"
     ]
    },
    {
     "name": "stdout",
     "output_type": "stream",
     "text": [
      "episode: 11/200, loss: 0.0073, duration: 0:00:02.687240\n"
     ]
    },
    {
     "name": "stdout",
     "output_type": "stream",
     "text": [
      "episode: 21/200, loss: 0.0086, duration: 0:00:02.449041\n"
     ]
    },
    {
     "name": "stdout",
     "output_type": "stream",
     "text": [
      "episode: 31/200, loss: -0.0331, duration: 0:00:02.631588\n"
     ]
    },
    {
     "name": "stdout",
     "output_type": "stream",
     "text": [
      "episode: 41/200, loss: 0.0263, duration: 0:00:02.330703\n"
     ]
    },
    {
     "name": "stdout",
     "output_type": "stream",
     "text": [
      "episode: 51/200, loss: 0.1337, duration: 0:00:02.582657\n"
     ]
    },
    {
     "name": "stdout",
     "output_type": "stream",
     "text": [
      "episode: 61/200, loss: -0.0415, duration: 0:00:02.310994\n"
     ]
    },
    {
     "name": "stdout",
     "output_type": "stream",
     "text": [
      "episode: 71/200, loss: 0.0689, duration: 0:00:02.363035\n"
     ]
    },
    {
     "name": "stdout",
     "output_type": "stream",
     "text": [
      "episode: 81/200, loss: 0.0002, duration: 0:00:02.285568\n"
     ]
    },
    {
     "name": "stdout",
     "output_type": "stream",
     "text": [
      "episode: 91/200, loss: 0.0019, duration: 0:00:02.379805\n"
     ]
    },
    {
     "name": "stdout",
     "output_type": "stream",
     "text": [
      "episode: 101/200, loss: -0.0321, duration: 0:00:02.501436\n"
     ]
    },
    {
     "name": "stdout",
     "output_type": "stream",
     "text": [
      "episode: 111/200, loss: 0.0521, duration: 0:00:02.488991\n"
     ]
    },
    {
     "name": "stdout",
     "output_type": "stream",
     "text": [
      "episode: 121/200, loss: 0.0126, duration: 0:00:02.486052\n"
     ]
    },
    {
     "name": "stdout",
     "output_type": "stream",
     "text": [
      "episode: 131/200, loss: 0.0042, duration: 0:00:02.480775\n"
     ]
    },
    {
     "name": "stdout",
     "output_type": "stream",
     "text": [
      "episode: 141/200, loss: -0.0035, duration: 0:00:02.736426\n"
     ]
    },
    {
     "name": "stdout",
     "output_type": "stream",
     "text": [
      "episode: 151/200, loss: -0.0102, duration: 0:00:02.325359\n"
     ]
    },
    {
     "name": "stdout",
     "output_type": "stream",
     "text": [
      "episode: 161/200, loss: 0.0654, duration: 0:00:02.629239\n"
     ]
    },
    {
     "name": "stdout",
     "output_type": "stream",
     "text": [
      "episode: 171/200, loss: 0.0233, duration: 0:00:02.397448\n"
     ]
    },
    {
     "name": "stdout",
     "output_type": "stream",
     "text": [
      "episode: 181/200, loss: -0.0294, duration: 0:00:02.652907\n"
     ]
    },
    {
     "name": "stdout",
     "output_type": "stream",
     "text": [
      "episode: 191/200, loss: -0.0253, duration: 0:00:02.383225\n"
     ]
    },
    {
     "name": "stderr",
     "output_type": "stream",
     "text": [
      "/usr/local/lib/python3.7/site-packages/ipykernel_launcher.py:136: RuntimeWarning: More than 20 figures have been opened. Figures created through the pyplot interface (`matplotlib.pyplot.figure`) are retained until explicitly closed and may consume too much memory. (To control this warning, see the rcParam `figure.max_open_warning`).\n"
     ]
    },
    {
     "name": "stdout",
     "output_type": "stream",
     "text": [
      "#############################################################################\n",
      "##\t[26/40]\tmodel=RL_CNN,\tSEED=0,\ttrade=10,\trisk=10\thold=1\t##\n",
      "#############################################################################\n"
     ]
    },
    {
     "name": "stdout",
     "output_type": "stream",
     "text": [
      "episode: 1/200, loss: 0.0126, duration: 0:00:02.670155\n"
     ]
    },
    {
     "name": "stdout",
     "output_type": "stream",
     "text": [
      "episode: 11/200, loss: 0.0075, duration: 0:00:02.429397\n"
     ]
    },
    {
     "name": "stdout",
     "output_type": "stream",
     "text": [
      "episode: 21/200, loss: 0.0091, duration: 0:00:02.437159\n"
     ]
    },
    {
     "name": "stdout",
     "output_type": "stream",
     "text": [
      "episode: 31/200, loss: -0.0334, duration: 0:00:02.663495\n"
     ]
    },
    {
     "name": "stdout",
     "output_type": "stream",
     "text": [
      "episode: 41/200, loss: 0.0260, duration: 0:00:02.411245\n"
     ]
    },
    {
     "name": "stdout",
     "output_type": "stream",
     "text": [
      "episode: 51/200, loss: 0.1343, duration: 0:00:02.360192\n"
     ]
    },
    {
     "name": "stdout",
     "output_type": "stream",
     "text": [
      "episode: 61/200, loss: -0.0404, duration: 0:00:02.365490\n"
     ]
    },
    {
     "name": "stdout",
     "output_type": "stream",
     "text": [
      "episode: 71/200, loss: 0.0697, duration: 0:00:02.292830\n"
     ]
    },
    {
     "name": "stdout",
     "output_type": "stream",
     "text": [
      "episode: 81/200, loss: 0.0002, duration: 0:00:02.803595\n"
     ]
    },
    {
     "name": "stdout",
     "output_type": "stream",
     "text": [
      "episode: 91/200, loss: 0.0016, duration: 0:00:02.293338\n"
     ]
    },
    {
     "name": "stdout",
     "output_type": "stream",
     "text": [
      "episode: 101/200, loss: -0.0321, duration: 0:00:02.642177\n"
     ]
    },
    {
     "name": "stdout",
     "output_type": "stream",
     "text": [
      "episode: 111/200, loss: 0.0529, duration: 0:00:02.141861\n"
     ]
    },
    {
     "name": "stdout",
     "output_type": "stream",
     "text": [
      "episode: 121/200, loss: 0.0128, duration: 0:00:02.301018\n"
     ]
    },
    {
     "name": "stdout",
     "output_type": "stream",
     "text": [
      "episode: 131/200, loss: 0.0046, duration: 0:00:02.336514\n"
     ]
    },
    {
     "name": "stdout",
     "output_type": "stream",
     "text": [
      "episode: 141/200, loss: -0.0033, duration: 0:00:02.152449\n"
     ]
    },
    {
     "name": "stdout",
     "output_type": "stream",
     "text": [
      "episode: 151/200, loss: -0.0101, duration: 0:00:02.185234\n"
     ]
    },
    {
     "name": "stdout",
     "output_type": "stream",
     "text": [
      "episode: 161/200, loss: 0.0659, duration: 0:00:02.652519\n"
     ]
    },
    {
     "name": "stdout",
     "output_type": "stream",
     "text": [
      "episode: 171/200, loss: 0.0230, duration: 0:00:02.423946\n"
     ]
    },
    {
     "name": "stdout",
     "output_type": "stream",
     "text": [
      "episode: 181/200, loss: -0.0294, duration: 0:00:02.338177\n"
     ]
    },
    {
     "name": "stdout",
     "output_type": "stream",
     "text": [
      "episode: 191/200, loss: -0.0254, duration: 0:00:02.326229\n"
     ]
    },
    {
     "name": "stderr",
     "output_type": "stream",
     "text": [
      "/usr/local/lib/python3.7/site-packages/ipykernel_launcher.py:136: RuntimeWarning: More than 20 figures have been opened. Figures created through the pyplot interface (`matplotlib.pyplot.figure`) are retained until explicitly closed and may consume too much memory. (To control this warning, see the rcParam `figure.max_open_warning`).\n"
     ]
    },
    {
     "name": "stdout",
     "output_type": "stream",
     "text": [
      "#############################################################################\n",
      "##\t[27/40]\tmodel=RL_CNN,\tSEED=0,\ttrade=10,\trisk=100\thold=0.1\t##\n",
      "#############################################################################\n"
     ]
    },
    {
     "name": "stdout",
     "output_type": "stream",
     "text": [
      "episode: 1/200, loss: 0.1946, duration: 0:00:02.467898\n"
     ]
    },
    {
     "name": "stdout",
     "output_type": "stream",
     "text": [
      "episode: 11/200, loss: 0.2243, duration: 0:00:02.450538\n"
     ]
    },
    {
     "name": "stdout",
     "output_type": "stream",
     "text": [
      "episode: 21/200, loss: 0.0628, duration: 0:00:02.298718\n"
     ]
    },
    {
     "name": "stdout",
     "output_type": "stream",
     "text": [
      "episode: 31/200, loss: 0.0122, duration: 0:00:02.178527\n"
     ]
    },
    {
     "name": "stdout",
     "output_type": "stream",
     "text": [
      "episode: 41/200, loss: 0.1030, duration: 0:00:02.410612\n"
     ]
    },
    {
     "name": "stdout",
     "output_type": "stream",
     "text": [
      "episode: 51/200, loss: 0.7585, duration: 0:00:02.260635\n"
     ]
    },
    {
     "name": "stdout",
     "output_type": "stream",
     "text": [
      "episode: 61/200, loss: 0.2549, duration: 0:00:02.249713\n"
     ]
    },
    {
     "name": "stdout",
     "output_type": "stream",
     "text": [
      "episode: 71/200, loss: 0.2385, duration: 0:00:02.250160\n"
     ]
    },
    {
     "name": "stdout",
     "output_type": "stream",
     "text": [
      "episode: 81/200, loss: 0.2472, duration: 0:00:02.078874\n"
     ]
    },
    {
     "name": "stdout",
     "output_type": "stream",
     "text": [
      "episode: 91/200, loss: 0.0565, duration: 0:00:02.148836\n"
     ]
    },
    {
     "name": "stdout",
     "output_type": "stream",
     "text": [
      "episode: 101/200, loss: 0.0460, duration: 0:00:02.364263\n"
     ]
    },
    {
     "name": "stdout",
     "output_type": "stream",
     "text": [
      "episode: 111/200, loss: 0.6527, duration: 0:00:02.268424\n"
     ]
    },
    {
     "name": "stdout",
     "output_type": "stream",
     "text": [
      "episode: 121/200, loss: 0.1227, duration: 0:00:02.311280\n"
     ]
    },
    {
     "name": "stdout",
     "output_type": "stream",
     "text": [
      "episode: 131/200, loss: 0.1504, duration: 0:00:02.299844\n"
     ]
    },
    {
     "name": "stdout",
     "output_type": "stream",
     "text": [
      "episode: 141/200, loss: 0.0548, duration: 0:00:01.617466\n"
     ]
    },
    {
     "name": "stdout",
     "output_type": "stream",
     "text": [
      "episode: 151/200, loss: 0.0718, duration: 0:00:01.462277\n"
     ]
    },
    {
     "name": "stdout",
     "output_type": "stream",
     "text": [
      "episode: 161/200, loss: 0.3685, duration: 0:00:02.470424\n"
     ]
    },
    {
     "name": "stdout",
     "output_type": "stream",
     "text": [
      "episode: 171/200, loss: 0.1495, duration: 0:00:02.235542\n"
     ]
    },
    {
     "name": "stdout",
     "output_type": "stream",
     "text": [
      "episode: 181/200, loss: 0.0729, duration: 0:00:02.470314\n"
     ]
    },
    {
     "name": "stdout",
     "output_type": "stream",
     "text": [
      "episode: 191/200, loss: 0.0422, duration: 0:00:02.155923\n"
     ]
    },
    {
     "name": "stderr",
     "output_type": "stream",
     "text": [
      "/usr/local/lib/python3.7/site-packages/ipykernel_launcher.py:136: RuntimeWarning: More than 20 figures have been opened. Figures created through the pyplot interface (`matplotlib.pyplot.figure`) are retained until explicitly closed and may consume too much memory. (To control this warning, see the rcParam `figure.max_open_warning`).\n"
     ]
    },
    {
     "name": "stdout",
     "output_type": "stream",
     "text": [
      "#############################################################################\n",
      "##\t[28/40]\tmodel=RL_CNN,\tSEED=0,\ttrade=10,\trisk=100\thold=1\t##\n",
      "#############################################################################\n"
     ]
    },
    {
     "name": "stdout",
     "output_type": "stream",
     "text": [
      "episode: 1/200, loss: 0.1953, duration: 0:00:02.260320\n"
     ]
    },
    {
     "name": "stdout",
     "output_type": "stream",
     "text": [
      "episode: 11/200, loss: 0.2242, duration: 0:00:02.453325\n"
     ]
    },
    {
     "name": "stdout",
     "output_type": "stream",
     "text": [
      "episode: 21/200, loss: 0.0631, duration: 0:00:02.168934\n"
     ]
    },
    {
     "name": "stdout",
     "output_type": "stream",
     "text": [
      "episode: 31/200, loss: 0.0123, duration: 0:00:02.128990\n"
     ]
    },
    {
     "name": "stdout",
     "output_type": "stream",
     "text": [
      "episode: 41/200, loss: 0.1030, duration: 0:00:02.111556\n"
     ]
    },
    {
     "name": "stdout",
     "output_type": "stream",
     "text": [
      "episode: 51/200, loss: 0.7583, duration: 0:00:02.139429\n"
     ]
    },
    {
     "name": "stdout",
     "output_type": "stream",
     "text": [
      "episode: 61/200, loss: 0.2558, duration: 0:00:02.106565\n"
     ]
    },
    {
     "name": "stdout",
     "output_type": "stream",
     "text": [
      "episode: 71/200, loss: 0.2393, duration: 0:00:02.067028\n"
     ]
    },
    {
     "name": "stdout",
     "output_type": "stream",
     "text": [
      "episode: 81/200, loss: 0.2477, duration: 0:00:02.197462\n"
     ]
    },
    {
     "name": "stdout",
     "output_type": "stream",
     "text": [
      "episode: 91/200, loss: 0.0611, duration: 0:00:02.074318\n"
     ]
    },
    {
     "name": "stdout",
     "output_type": "stream",
     "text": [
      "episode: 101/200, loss: 0.0434, duration: 0:00:02.217190\n"
     ]
    },
    {
     "name": "stdout",
     "output_type": "stream",
     "text": [
      "episode: 111/200, loss: 0.6469, duration: 0:00:02.113214\n"
     ]
    },
    {
     "name": "stdout",
     "output_type": "stream",
     "text": [
      "episode: 121/200, loss: 0.1210, duration: 0:00:02.258308\n"
     ]
    },
    {
     "name": "stdout",
     "output_type": "stream",
     "text": [
      "episode: 131/200, loss: 0.1516, duration: 0:00:02.123325\n"
     ]
    },
    {
     "name": "stdout",
     "output_type": "stream",
     "text": [
      "episode: 141/200, loss: 0.0530, duration: 0:00:02.045702\n"
     ]
    },
    {
     "name": "stdout",
     "output_type": "stream",
     "text": [
      "episode: 151/200, loss: 0.0755, duration: 0:00:01.463871\n"
     ]
    },
    {
     "name": "stdout",
     "output_type": "stream",
     "text": [
      "episode: 161/200, loss: 0.4130, duration: 0:00:01.311373\n"
     ]
    },
    {
     "name": "stdout",
     "output_type": "stream",
     "text": [
      "episode: 171/200, loss: 0.1383, duration: 0:00:01.297532\n"
     ]
    },
    {
     "name": "stdout",
     "output_type": "stream",
     "text": [
      "episode: 181/200, loss: 0.0757, duration: 0:00:01.283481\n"
     ]
    },
    {
     "name": "stdout",
     "output_type": "stream",
     "text": [
      "episode: 191/200, loss: 0.0441, duration: 0:00:01.260830\n"
     ]
    },
    {
     "name": "stderr",
     "output_type": "stream",
     "text": [
      "/usr/local/lib/python3.7/site-packages/ipykernel_launcher.py:136: RuntimeWarning: More than 20 figures have been opened. Figures created through the pyplot interface (`matplotlib.pyplot.figure`) are retained until explicitly closed and may consume too much memory. (To control this warning, see the rcParam `figure.max_open_warning`).\n"
     ]
    },
    {
     "name": "stdout",
     "output_type": "stream",
     "text": [
      "#############################################################################\n",
      "##\t[29/40]\tmodel=RL_CNN,\tSEED=0,\ttrade=10,\trisk=1000\thold=0.1\t##\n",
      "#############################################################################\n"
     ]
    },
    {
     "name": "stdout",
     "output_type": "stream",
     "text": [
      "episode: 1/200, loss: 2.0215, duration: 0:00:01.232173\n"
     ]
    },
    {
     "name": "stdout",
     "output_type": "stream",
     "text": [
      "episode: 11/200, loss: 2.3804, duration: 0:00:01.430310\n"
     ]
    },
    {
     "name": "stdout",
     "output_type": "stream",
     "text": [
      "episode: 21/200, loss: 0.5512, duration: 0:00:01.205045\n"
     ]
    },
    {
     "name": "stdout",
     "output_type": "stream",
     "text": [
      "episode: 31/200, loss: 0.4971, duration: 0:00:01.377027\n"
     ]
    },
    {
     "name": "stdout",
     "output_type": "stream",
     "text": [
      "episode: 41/200, loss: 0.8817, duration: 0:00:01.228418\n"
     ]
    },
    {
     "name": "stdout",
     "output_type": "stream",
     "text": [
      "episode: 51/200, loss: 7.1961, duration: 0:00:01.289942\n"
     ]
    },
    {
     "name": "stdout",
     "output_type": "stream",
     "text": [
      "episode: 61/200, loss: 2.9831, duration: 0:00:01.270254\n"
     ]
    },
    {
     "name": "stdout",
     "output_type": "stream",
     "text": [
      "episode: 71/200, loss: 1.9552, duration: 0:00:01.231692\n"
     ]
    },
    {
     "name": "stdout",
     "output_type": "stream",
     "text": [
      "episode: 81/200, loss: 2.6383, duration: 0:00:01.169096\n"
     ]
    },
    {
     "name": "stdout",
     "output_type": "stream",
     "text": [
      "episode: 91/200, loss: 0.8714, duration: 0:00:01.232005\n"
     ]
    },
    {
     "name": "stdout",
     "output_type": "stream",
     "text": [
      "episode: 101/200, loss: 0.5704, duration: 0:00:01.122371\n"
     ]
    },
    {
     "name": "stdout",
     "output_type": "stream",
     "text": [
      "episode: 111/200, loss: 5.6979, duration: 0:00:01.087607\n"
     ]
    },
    {
     "name": "stdout",
     "output_type": "stream",
     "text": [
      "episode: 121/200, loss: 1.1707, duration: 0:00:01.195147\n"
     ]
    },
    {
     "name": "stdout",
     "output_type": "stream",
     "text": [
      "episode: 131/200, loss: 1.2420, duration: 0:00:01.204890\n"
     ]
    },
    {
     "name": "stdout",
     "output_type": "stream",
     "text": [
      "episode: 141/200, loss: 0.8139, duration: 0:00:01.130053\n"
     ]
    },
    {
     "name": "stdout",
     "output_type": "stream",
     "text": [
      "episode: 151/200, loss: 0.8457, duration: 0:00:01.163992\n"
     ]
    },
    {
     "name": "stdout",
     "output_type": "stream",
     "text": [
      "episode: 161/200, loss: 2.8024, duration: 0:00:01.188847\n"
     ]
    },
    {
     "name": "stdout",
     "output_type": "stream",
     "text": [
      "episode: 171/200, loss: 1.4689, duration: 0:00:01.175348\n"
     ]
    },
    {
     "name": "stdout",
     "output_type": "stream",
     "text": [
      "episode: 181/200, loss: 0.9087, duration: 0:00:01.198167\n"
     ]
    },
    {
     "name": "stdout",
     "output_type": "stream",
     "text": [
      "episode: 191/200, loss: 0.6607, duration: 0:00:01.192562\n"
     ]
    },
    {
     "name": "stderr",
     "output_type": "stream",
     "text": [
      "/usr/local/lib/python3.7/site-packages/ipykernel_launcher.py:136: RuntimeWarning: More than 20 figures have been opened. Figures created through the pyplot interface (`matplotlib.pyplot.figure`) are retained until explicitly closed and may consume too much memory. (To control this warning, see the rcParam `figure.max_open_warning`).\n"
     ]
    },
    {
     "name": "stdout",
     "output_type": "stream",
     "text": [
      "#############################################################################\n",
      "##\t[30/40]\tmodel=RL_CNN,\tSEED=0,\ttrade=10,\trisk=1000\thold=1\t##\n",
      "#############################################################################\n"
     ]
    },
    {
     "name": "stdout",
     "output_type": "stream",
     "text": [
      "episode: 1/200, loss: 2.0222, duration: 0:00:01.262327\n"
     ]
    },
    {
     "name": "stdout",
     "output_type": "stream",
     "text": [
      "episode: 11/200, loss: 2.3805, duration: 0:00:01.274963\n"
     ]
    },
    {
     "name": "stdout",
     "output_type": "stream",
     "text": [
      "episode: 21/200, loss: 0.5516, duration: 0:00:01.239555\n"
     ]
    },
    {
     "name": "stdout",
     "output_type": "stream",
     "text": [
      "episode: 31/200, loss: 0.4973, duration: 0:00:01.315413\n"
     ]
    },
    {
     "name": "stdout",
     "output_type": "stream",
     "text": [
      "episode: 41/200, loss: 0.8818, duration: 0:00:01.302731\n"
     ]
    },
    {
     "name": "stdout",
     "output_type": "stream",
     "text": [
      "episode: 51/200, loss: 7.1954, duration: 0:00:01.340361\n"
     ]
    },
    {
     "name": "stdout",
     "output_type": "stream",
     "text": [
      "episode: 61/200, loss: 2.9847, duration: 0:00:01.305226\n"
     ]
    },
    {
     "name": "stdout",
     "output_type": "stream",
     "text": [
      "episode: 71/200, loss: 1.9563, duration: 0:00:01.621895\n"
     ]
    },
    {
     "name": "stdout",
     "output_type": "stream",
     "text": [
      "episode: 81/200, loss: 2.6368, duration: 0:00:01.416237\n"
     ]
    },
    {
     "name": "stdout",
     "output_type": "stream",
     "text": [
      "episode: 91/200, loss: 0.8723, duration: 0:00:01.606360\n"
     ]
    },
    {
     "name": "stdout",
     "output_type": "stream",
     "text": [
      "episode: 101/200, loss: 0.5710, duration: 0:00:01.726905\n"
     ]
    },
    {
     "name": "stdout",
     "output_type": "stream",
     "text": [
      "episode: 111/200, loss: 5.6977, duration: 0:00:02.087749\n"
     ]
    },
    {
     "name": "stdout",
     "output_type": "stream",
     "text": [
      "episode: 121/200, loss: 1.1714, duration: 0:00:01.567732\n"
     ]
    },
    {
     "name": "stdout",
     "output_type": "stream",
     "text": [
      "episode: 131/200, loss: 1.2443, duration: 0:00:02.216223\n"
     ]
    },
    {
     "name": "stdout",
     "output_type": "stream",
     "text": [
      "episode: 141/200, loss: 0.8147, duration: 0:00:01.492144\n"
     ]
    },
    {
     "name": "stdout",
     "output_type": "stream",
     "text": [
      "episode: 151/200, loss: 0.8419, duration: 0:00:01.524824\n"
     ]
    },
    {
     "name": "stdout",
     "output_type": "stream",
     "text": [
      "episode: 161/200, loss: 2.8129, duration: 0:00:02.359027\n"
     ]
    },
    {
     "name": "stdout",
     "output_type": "stream",
     "text": [
      "episode: 171/200, loss: 1.4517, duration: 0:00:02.356435\n"
     ]
    },
    {
     "name": "stdout",
     "output_type": "stream",
     "text": [
      "episode: 181/200, loss: 0.9167, duration: 0:00:03.109530\n"
     ]
    },
    {
     "name": "stdout",
     "output_type": "stream",
     "text": [
      "episode: 191/200, loss: 0.6599, duration: 0:00:02.428334\n"
     ]
    },
    {
     "name": "stderr",
     "output_type": "stream",
     "text": [
      "/usr/local/lib/python3.7/site-packages/ipykernel_launcher.py:136: RuntimeWarning: More than 20 figures have been opened. Figures created through the pyplot interface (`matplotlib.pyplot.figure`) are retained until explicitly closed and may consume too much memory. (To control this warning, see the rcParam `figure.max_open_warning`).\n"
     ]
    },
    {
     "name": "stdout",
     "output_type": "stream",
     "text": [
      "#############################################################################\n",
      "##\t[31/40]\tmodel=RL_CNN,\tSEED=0,\ttrade=100,\trisk=0.1\thold=0.1\t##\n",
      "#############################################################################\n"
     ]
    },
    {
     "name": "stdout",
     "output_type": "stream",
     "text": [
      "episode: 1/200, loss: 0.0572, duration: 0:00:02.497548\n"
     ]
    },
    {
     "name": "stdout",
     "output_type": "stream",
     "text": [
      "episode: 11/200, loss: 0.0164, duration: 0:00:02.368941\n"
     ]
    },
    {
     "name": "stdout",
     "output_type": "stream",
     "text": [
      "episode: 21/200, loss: 0.0130, duration: 0:00:02.506048\n"
     ]
    },
    {
     "name": "stdout",
     "output_type": "stream",
     "text": [
      "episode: 31/200, loss: -0.0208, duration: 0:00:02.670806\n"
     ]
    },
    {
     "name": "stdout",
     "output_type": "stream",
     "text": [
      "episode: 41/200, loss: 0.0195, duration: 0:00:02.647132\n"
     ]
    },
    {
     "name": "stdout",
     "output_type": "stream",
     "text": [
      "episode: 51/200, loss: 0.0407, duration: 0:00:02.722192\n"
     ]
    },
    {
     "name": "stdout",
     "output_type": "stream",
     "text": [
      "episode: 61/200, loss: -0.0935, duration: 0:00:02.418947\n"
     ]
    },
    {
     "name": "stdout",
     "output_type": "stream",
     "text": [
      "episode: 71/200, loss: 0.0427, duration: 0:00:02.728250\n"
     ]
    },
    {
     "name": "stdout",
     "output_type": "stream",
     "text": [
      "episode: 81/200, loss: -0.0241, duration: 0:00:02.724871\n"
     ]
    },
    {
     "name": "stdout",
     "output_type": "stream",
     "text": [
      "episode: 91/200, loss: 0.0032, duration: 0:00:02.566849\n"
     ]
    },
    {
     "name": "stdout",
     "output_type": "stream",
     "text": [
      "episode: 101/200, loss: -0.0201, duration: 0:00:02.405776\n"
     ]
    },
    {
     "name": "stdout",
     "output_type": "stream",
     "text": [
      "episode: 111/200, loss: 0.0366, duration: 0:00:02.506989\n"
     ]
    },
    {
     "name": "stdout",
     "output_type": "stream",
     "text": [
      "episode: 121/200, loss: 0.0100, duration: 0:00:02.613009\n"
     ]
    },
    {
     "name": "stdout",
     "output_type": "stream",
     "text": [
      "episode: 131/200, loss: 0.0077, duration: 0:00:02.374279\n"
     ]
    },
    {
     "name": "stdout",
     "output_type": "stream",
     "text": [
      "episode: 141/200, loss: -0.0125, duration: 0:00:02.451393\n"
     ]
    },
    {
     "name": "stdout",
     "output_type": "stream",
     "text": [
      "episode: 151/200, loss: 0.0048, duration: 0:00:02.310807\n"
     ]
    },
    {
     "name": "stdout",
     "output_type": "stream",
     "text": [
      "episode: 161/200, loss: 0.0367, duration: 0:00:02.425440\n"
     ]
    },
    {
     "name": "stdout",
     "output_type": "stream",
     "text": [
      "episode: 171/200, loss: 0.0029, duration: 0:00:02.458842\n"
     ]
    },
    {
     "name": "stdout",
     "output_type": "stream",
     "text": [
      "episode: 181/200, loss: -0.0439, duration: 0:00:02.594195\n"
     ]
    },
    {
     "name": "stdout",
     "output_type": "stream",
     "text": [
      "episode: 191/200, loss: -0.0195, duration: 0:00:02.597575\n"
     ]
    },
    {
     "name": "stderr",
     "output_type": "stream",
     "text": [
      "/usr/local/lib/python3.7/site-packages/ipykernel_launcher.py:136: RuntimeWarning: More than 20 figures have been opened. Figures created through the pyplot interface (`matplotlib.pyplot.figure`) are retained until explicitly closed and may consume too much memory. (To control this warning, see the rcParam `figure.max_open_warning`).\n"
     ]
    },
    {
     "name": "stdout",
     "output_type": "stream",
     "text": [
      "#############################################################################\n",
      "##\t[32/40]\tmodel=RL_CNN,\tSEED=0,\ttrade=100,\trisk=0.1\thold=1\t##\n",
      "#############################################################################\n"
     ]
    },
    {
     "name": "stdout",
     "output_type": "stream",
     "text": [
      "episode: 1/200, loss: 0.0579, duration: 0:00:02.568902\n"
     ]
    },
    {
     "name": "stdout",
     "output_type": "stream",
     "text": [
      "episode: 11/200, loss: 0.0173, duration: 0:00:02.064130\n"
     ]
    },
    {
     "name": "stdout",
     "output_type": "stream",
     "text": [
      "episode: 21/200, loss: 0.0095, duration: 0:00:02.456467\n"
     ]
    },
    {
     "name": "stdout",
     "output_type": "stream",
     "text": [
      "episode: 31/200, loss: -0.0247, duration: 0:00:02.337811\n"
     ]
    },
    {
     "name": "stdout",
     "output_type": "stream",
     "text": [
      "episode: 41/200, loss: 0.0199, duration: 0:00:02.416598\n"
     ]
    },
    {
     "name": "stdout",
     "output_type": "stream",
     "text": [
      "episode: 51/200, loss: 0.0410, duration: 0:00:02.381192\n"
     ]
    },
    {
     "name": "stdout",
     "output_type": "stream",
     "text": [
      "episode: 61/200, loss: -0.0932, duration: 0:00:02.696784\n"
     ]
    },
    {
     "name": "stdout",
     "output_type": "stream",
     "text": [
      "episode: 71/200, loss: 0.0431, duration: 0:00:02.445024\n"
     ]
    },
    {
     "name": "stdout",
     "output_type": "stream",
     "text": [
      "episode: 81/200, loss: -0.0239, duration: 0:00:02.499933\n"
     ]
    },
    {
     "name": "stdout",
     "output_type": "stream",
     "text": [
      "episode: 91/200, loss: 0.0035, duration: 0:00:02.388716\n"
     ]
    },
    {
     "name": "stdout",
     "output_type": "stream",
     "text": [
      "episode: 101/200, loss: -0.0197, duration: 0:00:02.808055\n"
     ]
    },
    {
     "name": "stdout",
     "output_type": "stream",
     "text": [
      "episode: 111/200, loss: 0.0537, duration: 0:00:02.374769\n"
     ]
    },
    {
     "name": "stdout",
     "output_type": "stream",
     "text": [
      "episode: 121/200, loss: 0.0104, duration: 0:00:02.532928\n"
     ]
    },
    {
     "name": "stdout",
     "output_type": "stream",
     "text": [
      "episode: 131/200, loss: 0.0081, duration: 0:00:02.535737\n"
     ]
    },
    {
     "name": "stdout",
     "output_type": "stream",
     "text": [
      "episode: 141/200, loss: -0.0121, duration: 0:00:02.455225\n"
     ]
    },
    {
     "name": "stdout",
     "output_type": "stream",
     "text": [
      "episode: 151/200, loss: 0.0052, duration: 0:00:02.488636\n"
     ]
    },
    {
     "name": "stdout",
     "output_type": "stream",
     "text": [
      "episode: 161/200, loss: 0.0366, duration: 0:00:02.430389\n"
     ]
    },
    {
     "name": "stdout",
     "output_type": "stream",
     "text": [
      "episode: 171/200, loss: 0.0033, duration: 0:00:02.432827\n"
     ]
    },
    {
     "name": "stdout",
     "output_type": "stream",
     "text": [
      "episode: 181/200, loss: -0.0435, duration: 0:00:02.505554\n"
     ]
    },
    {
     "name": "stdout",
     "output_type": "stream",
     "text": [
      "episode: 191/200, loss: -0.0191, duration: 0:00:02.778986\n"
     ]
    },
    {
     "name": "stderr",
     "output_type": "stream",
     "text": [
      "/usr/local/lib/python3.7/site-packages/ipykernel_launcher.py:136: RuntimeWarning: More than 20 figures have been opened. Figures created through the pyplot interface (`matplotlib.pyplot.figure`) are retained until explicitly closed and may consume too much memory. (To control this warning, see the rcParam `figure.max_open_warning`).\n"
     ]
    },
    {
     "name": "stdout",
     "output_type": "stream",
     "text": [
      "#############################################################################\n",
      "##\t[33/40]\tmodel=RL_CNN,\tSEED=0,\ttrade=100,\trisk=1\thold=0.1\t##\n",
      "#############################################################################\n"
     ]
    },
    {
     "name": "stdout",
     "output_type": "stream",
     "text": [
      "episode: 1/200, loss: 0.0591, duration: 0:00:02.434577\n"
     ]
    },
    {
     "name": "stdout",
     "output_type": "stream",
     "text": [
      "episode: 11/200, loss: 0.0182, duration: 0:00:02.471301\n"
     ]
    },
    {
     "name": "stdout",
     "output_type": "stream",
     "text": [
      "episode: 21/200, loss: 0.0100, duration: 0:00:02.233625\n"
     ]
    },
    {
     "name": "stdout",
     "output_type": "stream",
     "text": [
      "episode: 31/200, loss: -0.0239, duration: 0:00:02.357096\n"
     ]
    },
    {
     "name": "stdout",
     "output_type": "stream",
     "text": [
      "episode: 41/200, loss: 0.0203, duration: 0:00:02.375574\n"
     ]
    },
    {
     "name": "stdout",
     "output_type": "stream",
     "text": [
      "episode: 51/200, loss: 0.0490, duration: 0:00:02.394044\n"
     ]
    },
    {
     "name": "stdout",
     "output_type": "stream",
     "text": [
      "episode: 61/200, loss: -0.0902, duration: 0:00:02.533265\n"
     ]
    },
    {
     "name": "stdout",
     "output_type": "stream",
     "text": [
      "episode: 71/200, loss: 0.0447, duration: 0:00:02.354128\n"
     ]
    },
    {
     "name": "stdout",
     "output_type": "stream",
     "text": [
      "episode: 81/200, loss: -0.0217, duration: 0:00:02.658316\n"
     ]
    },
    {
     "name": "stdout",
     "output_type": "stream",
     "text": [
      "episode: 91/200, loss: 0.0039, duration: 0:00:02.399828\n"
     ]
    },
    {
     "name": "stdout",
     "output_type": "stream",
     "text": [
      "episode: 101/200, loss: -0.0194, duration: 0:00:02.695777\n"
     ]
    },
    {
     "name": "stdout",
     "output_type": "stream",
     "text": [
      "episode: 111/200, loss: 0.0579, duration: 0:00:02.300105\n"
     ]
    },
    {
     "name": "stdout",
     "output_type": "stream",
     "text": [
      "episode: 121/200, loss: 0.0110, duration: 0:00:02.416647\n"
     ]
    },
    {
     "name": "stdout",
     "output_type": "stream",
     "text": [
      "episode: 131/200, loss: 0.0095, duration: 0:00:02.398017\n"
     ]
    },
    {
     "name": "stdout",
     "output_type": "stream",
     "text": [
      "episode: 141/200, loss: -0.0116, duration: 0:00:02.342046\n"
     ]
    },
    {
     "name": "stdout",
     "output_type": "stream",
     "text": [
      "episode: 151/200, loss: 0.0062, duration: 0:00:02.399978\n"
     ]
    },
    {
     "name": "stdout",
     "output_type": "stream",
     "text": [
      "episode: 161/200, loss: 0.0404, duration: 0:00:02.213159\n"
     ]
    },
    {
     "name": "stdout",
     "output_type": "stream",
     "text": [
      "episode: 171/200, loss: 0.0047, duration: 0:00:02.381021\n"
     ]
    },
    {
     "name": "stdout",
     "output_type": "stream",
     "text": [
      "episode: 181/200, loss: -0.0423, duration: 0:00:02.338269\n"
     ]
    },
    {
     "name": "stdout",
     "output_type": "stream",
     "text": [
      "episode: 191/200, loss: -0.0188, duration: 0:00:02.449508\n"
     ]
    },
    {
     "name": "stderr",
     "output_type": "stream",
     "text": [
      "/usr/local/lib/python3.7/site-packages/ipykernel_launcher.py:136: RuntimeWarning: More than 20 figures have been opened. Figures created through the pyplot interface (`matplotlib.pyplot.figure`) are retained until explicitly closed and may consume too much memory. (To control this warning, see the rcParam `figure.max_open_warning`).\n"
     ]
    },
    {
     "name": "stdout",
     "output_type": "stream",
     "text": [
      "#############################################################################\n",
      "##\t[34/40]\tmodel=RL_CNN,\tSEED=0,\ttrade=100,\trisk=1\thold=1\t##\n",
      "#############################################################################\n"
     ]
    },
    {
     "name": "stdout",
     "output_type": "stream",
     "text": [
      "episode: 1/200, loss: 0.0598, duration: 0:00:02.573565\n"
     ]
    },
    {
     "name": "stdout",
     "output_type": "stream",
     "text": [
      "episode: 11/200, loss: 0.0190, duration: 0:00:02.301253\n"
     ]
    },
    {
     "name": "stdout",
     "output_type": "stream",
     "text": [
      "episode: 21/200, loss: 0.0094, duration: 0:00:02.120658\n"
     ]
    },
    {
     "name": "stdout",
     "output_type": "stream",
     "text": [
      "episode: 31/200, loss: -0.0245, duration: 0:00:02.176746\n"
     ]
    },
    {
     "name": "stdout",
     "output_type": "stream",
     "text": [
      "episode: 41/200, loss: 0.0211, duration: 0:00:01.685674\n"
     ]
    },
    {
     "name": "stdout",
     "output_type": "stream",
     "text": [
      "episode: 51/200, loss: 0.0495, duration: 0:00:01.673743\n"
     ]
    },
    {
     "name": "stdout",
     "output_type": "stream",
     "text": [
      "episode: 61/200, loss: -0.0897, duration: 0:00:02.555635\n"
     ]
    },
    {
     "name": "stdout",
     "output_type": "stream",
     "text": [
      "episode: 71/200, loss: 0.0451, duration: 0:00:02.229197\n"
     ]
    },
    {
     "name": "stdout",
     "output_type": "stream",
     "text": [
      "episode: 81/200, loss: -0.0213, duration: 0:00:02.455422\n"
     ]
    },
    {
     "name": "stdout",
     "output_type": "stream",
     "text": [
      "episode: 91/200, loss: 0.0044, duration: 0:00:01.520997\n"
     ]
    },
    {
     "name": "stdout",
     "output_type": "stream",
     "text": [
      "episode: 101/200, loss: -0.0190, duration: 0:00:02.630990\n"
     ]
    },
    {
     "name": "stdout",
     "output_type": "stream",
     "text": [
      "episode: 111/200, loss: 0.0567, duration: 0:00:02.345139\n"
     ]
    },
    {
     "name": "stdout",
     "output_type": "stream",
     "text": [
      "episode: 121/200, loss: 0.0114, duration: 0:00:01.639249\n"
     ]
    },
    {
     "name": "stdout",
     "output_type": "stream",
     "text": [
      "episode: 131/200, loss: 0.0099, duration: 0:00:02.346220\n"
     ]
    },
    {
     "name": "stdout",
     "output_type": "stream",
     "text": [
      "episode: 141/200, loss: -0.0112, duration: 0:00:02.237084\n"
     ]
    },
    {
     "name": "stdout",
     "output_type": "stream",
     "text": [
      "episode: 151/200, loss: 0.0065, duration: 0:00:02.285278\n"
     ]
    },
    {
     "name": "stdout",
     "output_type": "stream",
     "text": [
      "episode: 161/200, loss: 0.0408, duration: 0:00:02.195018\n"
     ]
    },
    {
     "name": "stdout",
     "output_type": "stream",
     "text": [
      "episode: 171/200, loss: 0.0051, duration: 0:00:02.281787\n"
     ]
    },
    {
     "name": "stdout",
     "output_type": "stream",
     "text": [
      "episode: 181/200, loss: -0.0419, duration: 0:00:02.179888\n"
     ]
    },
    {
     "name": "stdout",
     "output_type": "stream",
     "text": [
      "episode: 191/200, loss: -0.0184, duration: 0:00:02.425240\n"
     ]
    },
    {
     "name": "stderr",
     "output_type": "stream",
     "text": [
      "/usr/local/lib/python3.7/site-packages/ipykernel_launcher.py:136: RuntimeWarning: More than 20 figures have been opened. Figures created through the pyplot interface (`matplotlib.pyplot.figure`) are retained until explicitly closed and may consume too much memory. (To control this warning, see the rcParam `figure.max_open_warning`).\n"
     ]
    },
    {
     "name": "stdout",
     "output_type": "stream",
     "text": [
      "#############################################################################\n",
      "##\t[35/40]\tmodel=RL_CNN,\tSEED=0,\ttrade=100,\trisk=10\thold=0.1\t##\n",
      "#############################################################################\n"
     ]
    },
    {
     "name": "stdout",
     "output_type": "stream",
     "text": [
      "episode: 1/200, loss: 0.0773, duration: 0:00:01.888866\n"
     ]
    },
    {
     "name": "stdout",
     "output_type": "stream",
     "text": [
      "episode: 11/200, loss: 0.0385, duration: 0:00:02.140275\n"
     ]
    },
    {
     "name": "stdout",
     "output_type": "stream",
     "text": [
      "episode: 21/200, loss: 0.0143, duration: 0:00:02.080916\n"
     ]
    },
    {
     "name": "stdout",
     "output_type": "stream",
     "text": [
      "episode: 31/200, loss: -0.0195, duration: 0:00:02.054889\n"
     ]
    },
    {
     "name": "stdout",
     "output_type": "stream",
     "text": [
      "episode: 41/200, loss: 0.0327, duration: 0:00:02.074428\n"
     ]
    },
    {
     "name": "stdout",
     "output_type": "stream",
     "text": [
      "episode: 51/200, loss: 0.1345, duration: 0:00:02.011380\n"
     ]
    },
    {
     "name": "stdout",
     "output_type": "stream",
     "text": [
      "episode: 61/200, loss: -0.0552, duration: 0:00:01.550204\n"
     ]
    },
    {
     "name": "stdout",
     "output_type": "stream",
     "text": [
      "episode: 71/200, loss: 0.0650, duration: 0:00:01.933550\n"
     ]
    },
    {
     "name": "stdout",
     "output_type": "stream",
     "text": [
      "episode: 81/200, loss: 0.0045, duration: 0:00:01.461224\n"
     ]
    },
    {
     "name": "stdout",
     "output_type": "stream",
     "text": [
      "episode: 91/200, loss: 0.0123, duration: 0:00:01.271678\n"
     ]
    },
    {
     "name": "stdout",
     "output_type": "stream",
     "text": [
      "episode: 101/200, loss: -0.0120, duration: 0:00:01.448206\n"
     ]
    },
    {
     "name": "stdout",
     "output_type": "stream",
     "text": [
      "episode: 111/200, loss: 0.1278, duration: 0:00:01.293294\n"
     ]
    },
    {
     "name": "stdout",
     "output_type": "stream",
     "text": [
      "episode: 121/200, loss: 0.0213, duration: 0:00:01.289547\n"
     ]
    },
    {
     "name": "stdout",
     "output_type": "stream",
     "text": [
      "episode: 131/200, loss: 0.0295, duration: 0:00:01.213127\n"
     ]
    },
    {
     "name": "stdout",
     "output_type": "stream",
     "text": [
      "episode: 141/200, loss: -0.0024, duration: 0:00:01.197303\n"
     ]
    },
    {
     "name": "stdout",
     "output_type": "stream",
     "text": [
      "episode: 151/200, loss: 0.0209, duration: 0:00:01.300478\n"
     ]
    },
    {
     "name": "stdout",
     "output_type": "stream",
     "text": [
      "episode: 161/200, loss: 0.1323, duration: 0:00:01.224180\n"
     ]
    },
    {
     "name": "stdout",
     "output_type": "stream",
     "text": [
      "episode: 171/200, loss: 0.0230, duration: 0:00:01.294975\n"
     ]
    },
    {
     "name": "stdout",
     "output_type": "stream",
     "text": [
      "episode: 181/200, loss: -0.0264, duration: 0:00:01.265545\n"
     ]
    },
    {
     "name": "stdout",
     "output_type": "stream",
     "text": [
      "episode: 191/200, loss: -0.0115, duration: 0:00:01.386907\n"
     ]
    },
    {
     "name": "stderr",
     "output_type": "stream",
     "text": [
      "/usr/local/lib/python3.7/site-packages/ipykernel_launcher.py:136: RuntimeWarning: More than 20 figures have been opened. Figures created through the pyplot interface (`matplotlib.pyplot.figure`) are retained until explicitly closed and may consume too much memory. (To control this warning, see the rcParam `figure.max_open_warning`).\n"
     ]
    },
    {
     "name": "stdout",
     "output_type": "stream",
     "text": [
      "#############################################################################\n",
      "##\t[36/40]\tmodel=RL_CNN,\tSEED=0,\ttrade=100,\trisk=10\thold=1\t##\n",
      "#############################################################################\n"
     ]
    },
    {
     "name": "stdout",
     "output_type": "stream",
     "text": [
      "episode: 1/200, loss: 0.0780, duration: 0:00:01.219363\n"
     ]
    },
    {
     "name": "stdout",
     "output_type": "stream",
     "text": [
      "episode: 11/200, loss: 0.0407, duration: 0:00:01.200710\n"
     ]
    },
    {
     "name": "stdout",
     "output_type": "stream",
     "text": [
      "episode: 21/200, loss: 0.0139, duration: 0:00:01.211054\n"
     ]
    },
    {
     "name": "stdout",
     "output_type": "stream",
     "text": [
      "episode: 31/200, loss: -0.0208, duration: 0:00:01.339978\n"
     ]
    },
    {
     "name": "stdout",
     "output_type": "stream",
     "text": [
      "episode: 41/200, loss: 0.0365, duration: 0:00:01.251838\n"
     ]
    },
    {
     "name": "stdout",
     "output_type": "stream",
     "text": [
      "episode: 51/200, loss: 0.1322, duration: 0:00:01.236910\n"
     ]
    },
    {
     "name": "stdout",
     "output_type": "stream",
     "text": [
      "episode: 61/200, loss: -0.0485, duration: 0:00:01.233469\n"
     ]
    },
    {
     "name": "stdout",
     "output_type": "stream",
     "text": [
      "episode: 71/200, loss: 0.0696, duration: 0:00:01.313361\n"
     ]
    },
    {
     "name": "stdout",
     "output_type": "stream",
     "text": [
      "episode: 81/200, loss: -0.0006, duration: 0:00:01.413891\n"
     ]
    },
    {
     "name": "stdout",
     "output_type": "stream",
     "text": [
      "episode: 91/200, loss: 0.0070, duration: 0:00:01.333406\n"
     ]
    },
    {
     "name": "stdout",
     "output_type": "stream",
     "text": [
      "episode: 101/200, loss: -0.0122, duration: 0:00:01.641023\n"
     ]
    },
    {
     "name": "stdout",
     "output_type": "stream",
     "text": [
      "episode: 111/200, loss: 0.1500, duration: 0:00:01.336544\n"
     ]
    },
    {
     "name": "stdout",
     "output_type": "stream",
     "text": [
      "episode: 121/200, loss: 0.0225, duration: 0:00:01.383992\n"
     ]
    },
    {
     "name": "stdout",
     "output_type": "stream",
     "text": [
      "episode: 131/200, loss: 0.0336, duration: 0:00:01.373273\n"
     ]
    },
    {
     "name": "stdout",
     "output_type": "stream",
     "text": [
      "episode: 141/200, loss: 0.0037, duration: 0:00:01.343170\n"
     ]
    },
    {
     "name": "stdout",
     "output_type": "stream",
     "text": [
      "episode: 151/200, loss: 0.0195, duration: 0:00:02.200949\n"
     ]
    },
    {
     "name": "stdout",
     "output_type": "stream",
     "text": [
      "episode: 161/200, loss: 0.1126, duration: 0:00:01.377129\n"
     ]
    },
    {
     "name": "stdout",
     "output_type": "stream",
     "text": [
      "episode: 171/200, loss: 0.0259, duration: 0:00:02.170317\n"
     ]
    },
    {
     "name": "stdout",
     "output_type": "stream",
     "text": [
      "episode: 181/200, loss: -0.0340, duration: 0:00:01.408703\n"
     ]
    },
    {
     "name": "stdout",
     "output_type": "stream",
     "text": [
      "episode: 191/200, loss: -0.0170, duration: 0:00:01.344910\n"
     ]
    },
    {
     "name": "stderr",
     "output_type": "stream",
     "text": [
      "/usr/local/lib/python3.7/site-packages/ipykernel_launcher.py:136: RuntimeWarning: More than 20 figures have been opened. Figures created through the pyplot interface (`matplotlib.pyplot.figure`) are retained until explicitly closed and may consume too much memory. (To control this warning, see the rcParam `figure.max_open_warning`).\n"
     ]
    },
    {
     "name": "stdout",
     "output_type": "stream",
     "text": [
      "#############################################################################\n",
      "##\t[37/40]\tmodel=RL_CNN,\tSEED=0,\ttrade=100,\trisk=100\thold=0.1\t##\n",
      "#############################################################################\n"
     ]
    },
    {
     "name": "stdout",
     "output_type": "stream",
     "text": [
      "episode: 1/200, loss: 0.2600, duration: 0:00:01.983076\n"
     ]
    },
    {
     "name": "stdout",
     "output_type": "stream",
     "text": [
      "episode: 11/200, loss: 0.2849, duration: 0:00:01.371391\n"
     ]
    },
    {
     "name": "stdout",
     "output_type": "stream",
     "text": [
      "episode: 21/200, loss: 0.0835, duration: 0:00:02.180238\n"
     ]
    },
    {
     "name": "stdout",
     "output_type": "stream",
     "text": [
      "episode: 31/200, loss: 0.0273, duration: 0:00:01.907345\n"
     ]
    },
    {
     "name": "stdout",
     "output_type": "stream",
     "text": [
      "episode: 41/200, loss: 0.1180, duration: 0:00:01.988331\n"
     ]
    },
    {
     "name": "stdout",
     "output_type": "stream",
     "text": [
      "episode: 51/200, loss: 0.7466, duration: 0:00:01.729408\n"
     ]
    },
    {
     "name": "stdout",
     "output_type": "stream",
     "text": [
      "episode: 61/200, loss: 0.2974, duration: 0:00:01.371307\n"
     ]
    },
    {
     "name": "stdout",
     "output_type": "stream",
     "text": [
      "episode: 71/200, loss: 0.2577, duration: 0:00:02.165252\n"
     ]
    },
    {
     "name": "stdout",
     "output_type": "stream",
     "text": [
      "episode: 81/200, loss: 0.2732, duration: 0:00:02.225106\n"
     ]
    },
    {
     "name": "stdout",
     "output_type": "stream",
     "text": [
      "episode: 91/200, loss: 0.0803, duration: 0:00:02.151554\n"
     ]
    },
    {
     "name": "stdout",
     "output_type": "stream",
     "text": [
      "episode: 101/200, loss: 0.0572, duration: 0:00:01.633590\n"
     ]
    },
    {
     "name": "stdout",
     "output_type": "stream",
     "text": [
      "episode: 111/200, loss: 0.8753, duration: 0:00:02.376132\n"
     ]
    },
    {
     "name": "stdout",
     "output_type": "stream",
     "text": [
      "episode: 121/200, loss: 0.1107, duration: 0:00:02.425210\n"
     ]
    },
    {
     "name": "stdout",
     "output_type": "stream",
     "text": [
      "episode: 131/200, loss: 0.2161, duration: 0:00:02.173561\n"
     ]
    },
    {
     "name": "stdout",
     "output_type": "stream",
     "text": [
      "episode: 141/200, loss: 0.0810, duration: 0:00:02.201302\n"
     ]
    },
    {
     "name": "stdout",
     "output_type": "stream",
     "text": [
      "episode: 151/200, loss: 0.1030, duration: 0:00:02.202489\n"
     ]
    },
    {
     "name": "stdout",
     "output_type": "stream",
     "text": [
      "episode: 161/200, loss: 0.6079, duration: 0:00:02.385927\n"
     ]
    },
    {
     "name": "stdout",
     "output_type": "stream",
     "text": [
      "episode: 171/200, loss: 0.2373, duration: 0:00:02.107381\n"
     ]
    },
    {
     "name": "stdout",
     "output_type": "stream",
     "text": [
      "episode: 181/200, loss: 0.0947, duration: 0:00:02.432152\n"
     ]
    },
    {
     "name": "stdout",
     "output_type": "stream",
     "text": [
      "episode: 191/200, loss: 0.1013, duration: 0:00:02.452945\n"
     ]
    },
    {
     "name": "stderr",
     "output_type": "stream",
     "text": [
      "/usr/local/lib/python3.7/site-packages/ipykernel_launcher.py:136: RuntimeWarning: More than 20 figures have been opened. Figures created through the pyplot interface (`matplotlib.pyplot.figure`) are retained until explicitly closed and may consume too much memory. (To control this warning, see the rcParam `figure.max_open_warning`).\n"
     ]
    },
    {
     "name": "stdout",
     "output_type": "stream",
     "text": [
      "#############################################################################\n",
      "##\t[38/40]\tmodel=RL_CNN,\tSEED=0,\ttrade=100,\trisk=100\thold=1\t##\n",
      "#############################################################################\n"
     ]
    },
    {
     "name": "stdout",
     "output_type": "stream",
     "text": [
      "episode: 1/200, loss: 0.2607, duration: 0:00:02.615327\n"
     ]
    },
    {
     "name": "stdout",
     "output_type": "stream",
     "text": [
      "episode: 11/200, loss: 0.2843, duration: 0:00:02.329206\n"
     ]
    },
    {
     "name": "stdout",
     "output_type": "stream",
     "text": [
      "episode: 21/200, loss: 0.0831, duration: 0:00:02.515036\n"
     ]
    },
    {
     "name": "stdout",
     "output_type": "stream",
     "text": [
      "episode: 31/200, loss: 0.0271, duration: 0:00:02.573751\n"
     ]
    },
    {
     "name": "stdout",
     "output_type": "stream",
     "text": [
      "episode: 41/200, loss: 0.1179, duration: 0:00:02.535759\n"
     ]
    },
    {
     "name": "stdout",
     "output_type": "stream",
     "text": [
      "episode: 51/200, loss: 0.7433, duration: 0:00:02.421635\n"
     ]
    },
    {
     "name": "stdout",
     "output_type": "stream",
     "text": [
      "episode: 61/200, loss: 0.2966, duration: 0:00:02.540378\n"
     ]
    },
    {
     "name": "stdout",
     "output_type": "stream",
     "text": [
      "episode: 71/200, loss: 0.2575, duration: 0:00:02.567275\n"
     ]
    },
    {
     "name": "stdout",
     "output_type": "stream",
     "text": [
      "episode: 81/200, loss: 0.2733, duration: 0:00:02.747892\n"
     ]
    },
    {
     "name": "stdout",
     "output_type": "stream",
     "text": [
      "episode: 91/200, loss: 0.0794, duration: 0:00:02.493797\n"
     ]
    },
    {
     "name": "stdout",
     "output_type": "stream",
     "text": [
      "episode: 101/200, loss: 0.0564, duration: 0:00:02.744043\n"
     ]
    },
    {
     "name": "stdout",
     "output_type": "stream",
     "text": [
      "episode: 111/200, loss: 0.9038, duration: 0:00:02.596744\n"
     ]
    },
    {
     "name": "stdout",
     "output_type": "stream",
     "text": [
      "episode: 121/200, loss: 0.1203, duration: 0:00:02.542701\n"
     ]
    },
    {
     "name": "stdout",
     "output_type": "stream",
     "text": [
      "episode: 131/200, loss: 0.2411, duration: 0:00:02.468099\n"
     ]
    },
    {
     "name": "stdout",
     "output_type": "stream",
     "text": [
      "episode: 141/200, loss: 0.0806, duration: 0:00:02.406307\n"
     ]
    },
    {
     "name": "stdout",
     "output_type": "stream",
     "text": [
      "episode: 151/200, loss: 0.1018, duration: 0:00:02.486228\n"
     ]
    },
    {
     "name": "stdout",
     "output_type": "stream",
     "text": [
      "episode: 161/200, loss: 0.5660, duration: 0:00:02.435315\n"
     ]
    },
    {
     "name": "stdout",
     "output_type": "stream",
     "text": [
      "episode: 171/200, loss: 0.1808, duration: 0:00:02.458431\n"
     ]
    },
    {
     "name": "stdout",
     "output_type": "stream",
     "text": [
      "episode: 181/200, loss: 0.0947, duration: 0:00:02.390535\n"
     ]
    },
    {
     "name": "stdout",
     "output_type": "stream",
     "text": [
      "episode: 191/200, loss: 0.0715, duration: 0:00:02.485495\n"
     ]
    },
    {
     "name": "stderr",
     "output_type": "stream",
     "text": [
      "/usr/local/lib/python3.7/site-packages/ipykernel_launcher.py:136: RuntimeWarning: More than 20 figures have been opened. Figures created through the pyplot interface (`matplotlib.pyplot.figure`) are retained until explicitly closed and may consume too much memory. (To control this warning, see the rcParam `figure.max_open_warning`).\n"
     ]
    },
    {
     "name": "stdout",
     "output_type": "stream",
     "text": [
      "#############################################################################\n",
      "##\t[39/40]\tmodel=RL_CNN,\tSEED=0,\ttrade=100,\trisk=1000\thold=0.1\t##\n",
      "#############################################################################\n"
     ]
    },
    {
     "name": "stdout",
     "output_type": "stream",
     "text": [
      "episode: 1/200, loss: 2.0870, duration: 0:00:02.562602\n"
     ]
    },
    {
     "name": "stdout",
     "output_type": "stream",
     "text": [
      "episode: 11/200, loss: 2.4555, duration: 0:00:02.380711\n"
     ]
    },
    {
     "name": "stdout",
     "output_type": "stream",
     "text": [
      "episode: 21/200, loss: 0.5819, duration: 0:00:02.424084\n"
     ]
    },
    {
     "name": "stdout",
     "output_type": "stream",
     "text": [
      "episode: 31/200, loss: 0.5190, duration: 0:00:02.394482\n"
     ]
    },
    {
     "name": "stdout",
     "output_type": "stream",
     "text": [
      "episode: 41/200, loss: 0.9064, duration: 0:00:02.400163\n"
     ]
    },
    {
     "name": "stdout",
     "output_type": "stream",
     "text": [
      "episode: 51/200, loss: 7.2087, duration: 0:00:02.426467\n"
     ]
    },
    {
     "name": "stdout",
     "output_type": "stream",
     "text": [
      "episode: 61/200, loss: 3.0537, duration: 0:00:02.261081\n"
     ]
    },
    {
     "name": "stdout",
     "output_type": "stream",
     "text": [
      "episode: 71/200, loss: 1.9776, duration: 0:00:02.491097\n"
     ]
    },
    {
     "name": "stdout",
     "output_type": "stream",
     "text": [
      "episode: 81/200, loss: 2.6636, duration: 0:00:02.349285\n"
     ]
    },
    {
     "name": "stdout",
     "output_type": "stream",
     "text": [
      "episode: 91/200, loss: 0.9434, duration: 0:00:02.389648\n"
     ]
    },
    {
     "name": "stdout",
     "output_type": "stream",
     "text": [
      "episode: 101/200, loss: 0.6035, duration: 0:00:02.548355\n"
     ]
    },
    {
     "name": "stdout",
     "output_type": "stream",
     "text": [
      "episode: 111/200, loss: 6.0496, duration: 0:00:02.337177\n"
     ]
    },
    {
     "name": "stdout",
     "output_type": "stream",
     "text": [
      "episode: 121/200, loss: 1.2257, duration: 0:00:01.798258\n"
     ]
    },
    {
     "name": "stdout",
     "output_type": "stream",
     "text": [
      "episode: 131/200, loss: 1.4502, duration: 0:00:02.261636\n"
     ]
    },
    {
     "name": "stdout",
     "output_type": "stream",
     "text": [
      "episode: 141/200, loss: 0.8063, duration: 0:00:02.335241\n"
     ]
    },
    {
     "name": "stdout",
     "output_type": "stream",
     "text": [
      "episode: 151/200, loss: 0.9774, duration: 0:00:02.307086\n"
     ]
    },
    {
     "name": "stdout",
     "output_type": "stream",
     "text": [
      "episode: 161/200, loss: 3.5348, duration: 0:00:02.374160\n"
     ]
    },
    {
     "name": "stdout",
     "output_type": "stream",
     "text": [
      "episode: 171/200, loss: 1.8315, duration: 0:00:01.600320\n"
     ]
    },
    {
     "name": "stdout",
     "output_type": "stream",
     "text": [
      "episode: 181/200, loss: 1.2527, duration: 0:00:01.608366\n"
     ]
    },
    {
     "name": "stdout",
     "output_type": "stream",
     "text": [
      "episode: 191/200, loss: 0.7026, duration: 0:00:02.385682\n"
     ]
    },
    {
     "name": "stderr",
     "output_type": "stream",
     "text": [
      "/usr/local/lib/python3.7/site-packages/ipykernel_launcher.py:136: RuntimeWarning: More than 20 figures have been opened. Figures created through the pyplot interface (`matplotlib.pyplot.figure`) are retained until explicitly closed and may consume too much memory. (To control this warning, see the rcParam `figure.max_open_warning`).\n"
     ]
    },
    {
     "name": "stdout",
     "output_type": "stream",
     "text": [
      "#############################################################################\n",
      "##\t[40/40]\tmodel=RL_CNN,\tSEED=0,\ttrade=100,\trisk=1000\thold=1\t##\n",
      "#############################################################################\n"
     ]
    },
    {
     "name": "stdout",
     "output_type": "stream",
     "text": [
      "episode: 1/200, loss: 2.0877, duration: 0:00:02.418740\n"
     ]
    },
    {
     "name": "stdout",
     "output_type": "stream",
     "text": [
      "episode: 11/200, loss: 2.4556, duration: 0:00:02.284819\n"
     ]
    },
    {
     "name": "stdout",
     "output_type": "stream",
     "text": [
      "episode: 21/200, loss: 0.5822, duration: 0:00:01.813562\n"
     ]
    },
    {
     "name": "stdout",
     "output_type": "stream",
     "text": [
      "episode: 31/200, loss: 0.5191, duration: 0:00:02.349503\n"
     ]
    },
    {
     "name": "stdout",
     "output_type": "stream",
     "text": [
      "episode: 41/200, loss: 0.9064, duration: 0:00:02.284644\n"
     ]
    },
    {
     "name": "stdout",
     "output_type": "stream",
     "text": [
      "episode: 51/200, loss: 7.2083, duration: 0:00:02.198447\n"
     ]
    },
    {
     "name": "stdout",
     "output_type": "stream",
     "text": [
      "episode: 61/200, loss: 3.0552, duration: 0:00:02.178307\n"
     ]
    },
    {
     "name": "stdout",
     "output_type": "stream",
     "text": [
      "episode: 71/200, loss: 1.9779, duration: 0:00:02.132334\n"
     ]
    },
    {
     "name": "stdout",
     "output_type": "stream",
     "text": [
      "episode: 81/200, loss: 2.6611, duration: 0:00:02.261755\n"
     ]
    },
    {
     "name": "stdout",
     "output_type": "stream",
     "text": [
      "episode: 91/200, loss: 0.9452, duration: 0:00:02.187809\n"
     ]
    },
    {
     "name": "stdout",
     "output_type": "stream",
     "text": [
      "episode: 101/200, loss: 0.6049, duration: 0:00:01.533958\n"
     ]
    },
    {
     "name": "stdout",
     "output_type": "stream",
     "text": [
      "episode: 111/200, loss: 6.0372, duration: 0:00:02.235357\n"
     ]
    },
    {
     "name": "stdout",
     "output_type": "stream",
     "text": [
      "episode: 121/200, loss: 1.2266, duration: 0:00:02.322639\n"
     ]
    },
    {
     "name": "stdout",
     "output_type": "stream",
     "text": [
      "episode: 131/200, loss: 1.4507, duration: 0:00:02.224724\n"
     ]
    },
    {
     "name": "stdout",
     "output_type": "stream",
     "text": [
      "episode: 141/200, loss: 0.8081, duration: 0:00:02.145227\n"
     ]
    },
    {
     "name": "stdout",
     "output_type": "stream",
     "text": [
      "episode: 151/200, loss: 1.0322, duration: 0:00:02.316222\n"
     ]
    },
    {
     "name": "stdout",
     "output_type": "stream",
     "text": [
      "episode: 161/200, loss: 3.5938, duration: 0:00:02.114762\n"
     ]
    },
    {
     "name": "stdout",
     "output_type": "stream",
     "text": [
      "episode: 171/200, loss: 1.8407, duration: 0:00:01.453820\n"
     ]
    },
    {
     "name": "stdout",
     "output_type": "stream",
     "text": [
      "episode: 181/200, loss: 1.2295, duration: 0:00:02.231612\n"
     ]
    },
    {
     "name": "stdout",
     "output_type": "stream",
     "text": [
      "episode: 191/200, loss: 0.6957, duration: 0:00:02.255621\n"
     ]
    },
    {
     "name": "stderr",
     "output_type": "stream",
     "text": [
      "/usr/local/lib/python3.7/site-packages/ipykernel_launcher.py:136: RuntimeWarning: More than 20 figures have been opened. Figures created through the pyplot interface (`matplotlib.pyplot.figure`) are retained until explicitly closed and may consume too much memory. (To control this warning, see the rcParam `figure.max_open_warning`).\n"
     ]
    },
    {
     "name": "stdout",
     "output_type": "stream",
     "text": [
      "CPU times: user 4h 50min 18s, sys: 1min 34s, total: 4h 51min 53s\n",
      "Wall time: 5h 11min 41s\n"
     ]
    },
    {
     "data": {
      "text/plain": [
       "<Figure size 1008x360 with 0 Axes>"
      ]
     },
     "metadata": {},
     "output_type": "display_data"
    },
    {
     "data": {
      "text/plain": [
       "<Figure size 1008x360 with 0 Axes>"
      ]
     },
     "metadata": {},
     "output_type": "display_data"
    },
    {
     "data": {
      "text/plain": [
       "<Figure size 1008x360 with 0 Axes>"
      ]
     },
     "metadata": {},
     "output_type": "display_data"
    },
    {
     "data": {
      "text/plain": [
       "<Figure size 1008x360 with 0 Axes>"
      ]
     },
     "metadata": {},
     "output_type": "display_data"
    },
    {
     "data": {
      "text/plain": [
       "<Figure size 1008x360 with 0 Axes>"
      ]
     },
     "metadata": {},
     "output_type": "display_data"
    },
    {
     "data": {
      "text/plain": [
       "<Figure size 1008x360 with 0 Axes>"
      ]
     },
     "metadata": {},
     "output_type": "display_data"
    },
    {
     "data": {
      "text/plain": [
       "<Figure size 1008x360 with 0 Axes>"
      ]
     },
     "metadata": {},
     "output_type": "display_data"
    },
    {
     "data": {
      "text/plain": [
       "<Figure size 1008x360 with 0 Axes>"
      ]
     },
     "metadata": {},
     "output_type": "display_data"
    },
    {
     "data": {
      "text/plain": [
       "<Figure size 1008x360 with 0 Axes>"
      ]
     },
     "metadata": {},
     "output_type": "display_data"
    },
    {
     "data": {
      "text/plain": [
       "<Figure size 1008x360 with 0 Axes>"
      ]
     },
     "metadata": {},
     "output_type": "display_data"
    },
    {
     "data": {
      "text/plain": [
       "<Figure size 1008x360 with 0 Axes>"
      ]
     },
     "metadata": {},
     "output_type": "display_data"
    },
    {
     "data": {
      "text/plain": [
       "<Figure size 1008x360 with 0 Axes>"
      ]
     },
     "metadata": {},
     "output_type": "display_data"
    },
    {
     "data": {
      "text/plain": [
       "<Figure size 1008x360 with 0 Axes>"
      ]
     },
     "metadata": {},
     "output_type": "display_data"
    },
    {
     "data": {
      "text/plain": [
       "<Figure size 1008x360 with 0 Axes>"
      ]
     },
     "metadata": {},
     "output_type": "display_data"
    },
    {
     "data": {
      "text/plain": [
       "<Figure size 1008x360 with 0 Axes>"
      ]
     },
     "metadata": {},
     "output_type": "display_data"
    },
    {
     "data": {
      "text/plain": [
       "<Figure size 1008x360 with 0 Axes>"
      ]
     },
     "metadata": {},
     "output_type": "display_data"
    },
    {
     "data": {
      "text/plain": [
       "<Figure size 1008x360 with 0 Axes>"
      ]
     },
     "metadata": {},
     "output_type": "display_data"
    },
    {
     "data": {
      "text/plain": [
       "<Figure size 1008x360 with 0 Axes>"
      ]
     },
     "metadata": {},
     "output_type": "display_data"
    },
    {
     "data": {
      "text/plain": [
       "<Figure size 1008x360 with 0 Axes>"
      ]
     },
     "metadata": {},
     "output_type": "display_data"
    },
    {
     "data": {
      "text/plain": [
       "<Figure size 1008x360 with 0 Axes>"
      ]
     },
     "metadata": {},
     "output_type": "display_data"
    },
    {
     "data": {
      "text/plain": [
       "<Figure size 1008x360 with 0 Axes>"
      ]
     },
     "metadata": {},
     "output_type": "display_data"
    },
    {
     "data": {
      "text/plain": [
       "<Figure size 1008x360 with 0 Axes>"
      ]
     },
     "metadata": {},
     "output_type": "display_data"
    },
    {
     "data": {
      "text/plain": [
       "<Figure size 1008x360 with 0 Axes>"
      ]
     },
     "metadata": {},
     "output_type": "display_data"
    },
    {
     "data": {
      "text/plain": [
       "<Figure size 1008x360 with 0 Axes>"
      ]
     },
     "metadata": {},
     "output_type": "display_data"
    },
    {
     "data": {
      "text/plain": [
       "<Figure size 1008x360 with 0 Axes>"
      ]
     },
     "metadata": {},
     "output_type": "display_data"
    },
    {
     "data": {
      "text/plain": [
       "<Figure size 1008x360 with 0 Axes>"
      ]
     },
     "metadata": {},
     "output_type": "display_data"
    },
    {
     "data": {
      "text/plain": [
       "<Figure size 1008x360 with 0 Axes>"
      ]
     },
     "metadata": {},
     "output_type": "display_data"
    },
    {
     "data": {
      "text/plain": [
       "<Figure size 1008x360 with 0 Axes>"
      ]
     },
     "metadata": {},
     "output_type": "display_data"
    },
    {
     "data": {
      "text/plain": [
       "<Figure size 1008x360 with 0 Axes>"
      ]
     },
     "metadata": {},
     "output_type": "display_data"
    },
    {
     "data": {
      "text/plain": [
       "<Figure size 1008x360 with 0 Axes>"
      ]
     },
     "metadata": {},
     "output_type": "display_data"
    },
    {
     "data": {
      "text/plain": [
       "<Figure size 1008x360 with 0 Axes>"
      ]
     },
     "metadata": {},
     "output_type": "display_data"
    },
    {
     "data": {
      "text/plain": [
       "<Figure size 1008x360 with 0 Axes>"
      ]
     },
     "metadata": {},
     "output_type": "display_data"
    },
    {
     "data": {
      "text/plain": [
       "<Figure size 1008x360 with 0 Axes>"
      ]
     },
     "metadata": {},
     "output_type": "display_data"
    },
    {
     "data": {
      "text/plain": [
       "<Figure size 1008x360 with 0 Axes>"
      ]
     },
     "metadata": {},
     "output_type": "display_data"
    },
    {
     "data": {
      "text/plain": [
       "<Figure size 1008x360 with 0 Axes>"
      ]
     },
     "metadata": {},
     "output_type": "display_data"
    },
    {
     "data": {
      "text/plain": [
       "<Figure size 1008x360 with 0 Axes>"
      ]
     },
     "metadata": {},
     "output_type": "display_data"
    },
    {
     "data": {
      "text/plain": [
       "<Figure size 1008x360 with 0 Axes>"
      ]
     },
     "metadata": {},
     "output_type": "display_data"
    },
    {
     "data": {
      "text/plain": [
       "<Figure size 1008x360 with 0 Axes>"
      ]
     },
     "metadata": {},
     "output_type": "display_data"
    },
    {
     "data": {
      "text/plain": [
       "<Figure size 1008x360 with 0 Axes>"
      ]
     },
     "metadata": {},
     "output_type": "display_data"
    },
    {
     "data": {
      "text/plain": [
       "<Figure size 1008x360 with 0 Axes>"
      ]
     },
     "metadata": {},
     "output_type": "display_data"
    }
   ],
   "source": [
    "%%time\n",
    "##########################\n",
    "### main training loop ###\n",
    "##########################\n",
    "\n",
    "# define investor preferences to train for\n",
    "#------ extended-boyd-sweep ------#\n",
    "#GAMMA_TRADES = [5.5, 6, 6.5, 7, 7.5, 8, 9, 10, 11, 12, 15, 20, 30]\n",
    "#GAMMA_TRADES = [4, 5]\n",
    "#GAMMA_TRADES = [0.1, 0.5, 1, 2, 3, 45, 60, 100, 200]\n",
    "#GAMMA_RISKS = [0.1, 0.178, 0.316, 0.562, 1, 2, 3, 6, 10, 18, 32, 56, 100, 178, 316, 562, 1000, 2000, 5000, 10000, 20000]\n",
    "#---------------------------------#\n",
    "counter = 0\n",
    "\n",
    "for RANDOM_SEED in SEED_LIST:\n",
    "    model_name = f'{MODEL_BASE_NAME}_seed_{RANDOM_SEED}'\n",
    "    maybe_make_dir(f'../experiments/{MARKET_NAME}/seeded/{MODEL_BASE_NAME}/seed_{RANDOM_SEED}')\n",
    "    \n",
    "    for (GAMMA_TRADE, GAMMA_RISK, GAMMA_HOLD) in GAMMA_TRIOS:\n",
    "        # set random generator seed for tf and np\n",
    "        # this is probably unnecessary because it is done when env is initialised but just incase\n",
    "        tf.random.set_seed(RANDOM_SEED)\n",
    "        np.random.seed(RANDOM_SEED)\n",
    "        counter += 1\n",
    "\n",
    "        # check if test lready done. skip if so\n",
    "        #if not FROM_PRETRAINED:\n",
    "            #skip = os.path.exists(f'experiments/12_assets/00_seeded/seed_{RANDOM_SEED}/trade_{GAMMA_TRADE}_risk_{GAMMA_RISK}') # check if already exists\n",
    "        #else:\n",
    "        \n",
    "        skip = os.path.exists(f'../experiments/{MARKET_NAME}/seeded/{MODEL_BASE_NAME}/seed_{RANDOM_SEED}/trade_{GAMMA_TRADE}_risk_{GAMMA_RISK}_hold_{GAMMA_HOLD}')\n",
    "\n",
    "        if not skip: # if not exists, do test\n",
    "\n",
    "            print('#############################################################################')\n",
    "            print(f'##\\t[{counter}/{len(GAMMA_TRIOS)}]\\tmodel={MODEL_BASE_NAME},\\tSEED={RANDOM_SEED},\\ttrade={GAMMA_TRADE},\\trisk={GAMMA_RISK}\\thold={GAMMA_HOLD}\\t##')\n",
    "            print('#############################################################################')        \n",
    "\n",
    "            # create agent and environment\n",
    "            env = MultiStockEnv(tickers=TICKERS, \n",
    "                                from_date=FROM,\n",
    "                                until=UNTIL, \n",
    "                                #nb_episodes=100,\n",
    "                                cash_key='USDOLLAR', \n",
    "                                gamma_risk=GAMMA_RISK, \n",
    "                                gamma_trade=GAMMA_TRADE,\n",
    "                                gamma_hold=GAMMA_HOLD,\n",
    "                                half_spread=HALF_SPREAD, \n",
    "                                nonlin_coef=NONLIN_COEFF, \n",
    "                                power=POWER, \n",
    "                                datadir=DATA_DIR, \n",
    "                                state_lookback_window=20, \n",
    "                                distribution=EPISODE_DRAW_DISTRIBUTION,\n",
    "                                days_duration=DAYS_IN_EPISODE, \n",
    "                                mode='train', \n",
    "                                random_seed=RANDOM_SEED,\n",
    "                                init_portfolio=INIT_PORTFOLIO, \n",
    "                                period_in_file_name=FILE_PERIOD, \n",
    "                                nb_forecasts=NB_FORECASTS, \n",
    "                                forecast_type=FORECAST_TYPE,\n",
    "                                use_CNN_state=USE_CNN_STATE,\n",
    "                                verbose=False)\n",
    "\n",
    "            agent = Agent(alpha=0.001, \n",
    "                          gamma=0.99, \n",
    "                          n_assets=len(TICKERS)+1, \n",
    "                          tau=5, \n",
    "                          lookback_window=20, \n",
    "                          n_feature_maps=len(TICKERS)+1,\n",
    "                          use_forecasts=USE_FORECASTS,\n",
    "                          use_CNN_state=USE_CNN_STATE,\n",
    "                          allow_long_short_trades=True)\n",
    "\n",
    "            # initialise policy by one forward pass then load pretrained weights\n",
    "            #if FROM_PRETRAINED: \n",
    "                #agent.choose_action(env._get_obs())\n",
    "                #agent.load(pretrined_weights_dir)\n",
    "\n",
    "            # configure folders\n",
    "            experiments_folder = f'../experiments/{MARKET_NAME}'\n",
    "            from_seeded_folder = f'{experiments_folder}/seeded'\n",
    "            base_model_folder = f'{from_seeded_folder}/{MODEL_BASE_NAME}'\n",
    "            seed_folder = f'{base_model_folder}/seed_{RANDOM_SEED}'\n",
    "            #if FROM_PRETRAINED:\n",
    "            #    pretrained_folder = f'{nb_assets_folder}/0_further_trained'\n",
    "            #    preference_folder = f'{pretrained_folder}/trade_{GAMMA_TRADE}_risk_{GAMMA_RISK}'\n",
    "            #else:\n",
    "            preference_folder = f'{seed_folder}/trade_{GAMMA_TRADE}_risk_{GAMMA_RISK}_hold_{GAMMA_HOLD}'\n",
    "            models_folder = f'{preference_folder}/models' # where saved models will be saved\n",
    "            losses_folder = f'{preference_folder}/losses' # where losses will be saved for plotting training progress\n",
    "            fig_folder = f'{preference_folder}/figures'\n",
    "\n",
    "            # create dirictories for saving outputs to (if they don't exist already)\n",
    "            #maybe_make_dir(nb_assets_folder)\n",
    "            maybe_make_dir(seed_folder)\n",
    "            maybe_make_dir(preference_folder)\n",
    "            maybe_make_dir(models_folder)\n",
    "            maybe_make_dir(losses_folder)\n",
    "            maybe_make_dir(fig_folder)\n",
    "\n",
    "            if MODE == 'train':\n",
    "                # play the game num_episodes times and update weights according to loss\n",
    "                losses = []\n",
    "                for e in range(NB_EPISODES):\n",
    "\n",
    "                    # save model weights every few episodes\n",
    "                    if (e%SAVE_EVERY == 0) and (e!=0):\n",
    "                        agent.save(f'{models_folder}/{model_name}_{e}')\n",
    "                        # save losses of training period\n",
    "                        np.save(f'{losses_folder}/{model_name}_{MODE}_{e}_losses.npy', np.array(losses))\n",
    "\n",
    "                    t0 = datetime.datetime.now()\n",
    "                    try:\n",
    "                        loss = play_one_episode(agent, env, MODE)\n",
    "                    except Exception as err:\n",
    "                        print(f'\\t*** error in episode {e}:', err)\n",
    "                        loss = np.nan#5.0 # just an arbitraty number that seems high compared to usual losses\n",
    "                    dt = datetime.datetime.now() - t0\n",
    "                    losses.append(loss) # append episode loss\n",
    "                    # print progress\n",
    "                    if (e%10 == 0):\n",
    "                        print(f\"episode: {e + 1}/{NB_EPISODES}, loss: {loss:.4f}, duration: {dt}\")\n",
    "\n",
    "\n",
    "                # save the weights and losses when done\t\n",
    "                agent.save(f'{models_folder}/{model_name}_{NB_EPISODES}')\n",
    "                np.save(f'{losses_folder}/{model_name}_{MODE}_{NB_EPISODES}_losses.npy', np.array(losses))\n",
    "\n",
    "            # plot losses\n",
    "            save_fig = True\n",
    "\n",
    "            # load losses file\n",
    "            file = f'{losses_folder}/{model_name}_{MODE}_{NB_EPISODES}_losses.npy'\n",
    "            loaded_losses = np.load(file)\n",
    "\n",
    "            # plot losses\n",
    "            plt.figure(figsize=(14,5))\n",
    "            plt.plot(loaded_losses)\n",
    "            plt.title(f'{model_name} Training Loss')\n",
    "            plt.xlabel('Episode Number')\n",
    "            plt.ylabel(r'Loss: $-G \\approx -\\mathbb{E}\\left[ \\sum_{k=0}^{T} \\gamma^k R_t \\right]$')\n",
    "            #plt.yscale('symlog')\n",
    "            if save_fig:\n",
    "                plt.savefig(f'{fig_folder}/{model_name}_losses.png', dpi=150, facecolor=None, edgecolor=None, bbox_inches='tight')\n",
    "            plt.clf()\n",
    "\n",
    "        else:\n",
    "            print(f'\\talready exists: trade_{GAMMA_TRADE}_risk_{GAMMA_RISK}_hold_{GAMMA_HOLD}')\n",
    "            print('\\tskip to next.')"
   ]
  },
  {
   "cell_type": "code",
   "execution_count": 8,
   "id": "bd6c1d2c",
   "metadata": {
    "execution": {
     "iopub.execute_input": "2022-06-19T23:51:06.525545Z",
     "iopub.status.busy": "2022-06-19T23:51:06.524635Z",
     "iopub.status.idle": "2022-06-19T23:51:06.532028Z",
     "shell.execute_reply": "2022-06-19T23:51:06.530044Z"
    },
    "papermill": {
     "duration": 0.175804,
     "end_time": "2022-06-19T23:51:06.537198",
     "exception": false,
     "start_time": "2022-06-19T23:51:06.361394",
     "status": "completed"
    },
    "tags": []
   },
   "outputs": [],
   "source": [
    "# double check the end of training\n",
    "#env.until"
   ]
  },
  {
   "cell_type": "code",
   "execution_count": 9,
   "id": "69c86ddd",
   "metadata": {
    "execution": {
     "iopub.execute_input": "2022-06-19T23:51:06.860214Z",
     "iopub.status.busy": "2022-06-19T23:51:06.859379Z",
     "iopub.status.idle": "2022-06-19T23:51:06.869327Z",
     "shell.execute_reply": "2022-06-19T23:51:06.867117Z"
    },
    "papermill": {
     "duration": 0.178443,
     "end_time": "2022-06-19T23:51:06.874764",
     "exception": false,
     "start_time": "2022-06-19T23:51:06.696321",
     "status": "completed"
    },
    "tags": []
   },
   "outputs": [
    {
     "name": "stdout",
     "output_type": "stream",
     "text": [
      "training done.\n"
     ]
    }
   ],
   "source": [
    "print('training done.')"
   ]
  },
  {
   "cell_type": "code",
   "execution_count": 10,
   "id": "282865d0",
   "metadata": {
    "execution": {
     "iopub.execute_input": "2022-06-19T23:51:07.202823Z",
     "iopub.status.busy": "2022-06-19T23:51:07.201944Z",
     "iopub.status.idle": "2022-06-19T23:51:07.209758Z",
     "shell.execute_reply": "2022-06-19T23:51:07.207526Z"
    },
    "papermill": {
     "duration": 0.179074,
     "end_time": "2022-06-19T23:51:07.215202",
     "exception": false,
     "start_time": "2022-06-19T23:51:07.036128",
     "status": "completed"
    },
    "tags": []
   },
   "outputs": [],
   "source": [
    "### Now repeat this for the different RL models.\n",
    "### remember to update the gamma-pairs, model base name, and model specs/setup in beginning of notebook!"
   ]
  }
 ],
 "metadata": {
  "interpreter": {
   "hash": "949777d72b0d2535278d3dc13498b2535136f6dfe0678499012e853ee9abcab1"
  },
  "kernelspec": {
   "display_name": "Python 3",
   "language": "python",
   "name": "python3"
  },
  "language_info": {
   "codemirror_mode": {
    "name": "ipython",
    "version": 3
   },
   "file_extension": ".py",
   "mimetype": "text/x-python",
   "name": "python",
   "nbconvert_exporter": "python",
   "pygments_lexer": "ipython3",
   "version": "3.7.6"
  },
  "papermill": {
   "default_parameters": {},
   "duration": 18713.012597,
   "end_time": "2022-06-19T23:51:08.798818",
   "environment_variables": {},
   "exception": null,
   "input_path": "train_template.ipynb",
   "output_path": "slave_notebooks/RL_CNN_NIK_25_(0_etc).ipynb",
   "parameters": {
    "FROM": "2013-05-01",
    "GAMMA_HOLDS": [
     0.1,
     1
    ],
    "GAMMA_RISKS": [
     0.1,
     1,
     10,
     100,
     1000
    ],
    "GAMMA_TRADES": [
     0.1,
     1,
     10,
     100
    ],
    "MARKET_NAME": "NIK_25",
    "MODEL_BASE_NAME": "RL_CNN",
    "NB_EPISODES": 200,
    "SAVE_EVERY": 200,
    "SEED_LIST": [
     0
    ],
    "TICKERS": [
     "9983.T",
     "8035.T",
     "9984.T",
     "6954.T",
     "6367.T",
     "9433.T",
     "4543.T",
     "6857.T",
     "2413.T",
     "4063.T",
     "6971.T",
     "6758.T",
     "4519.T",
     "6762.T",
     "6645.T",
     "9613.T",
     "7203.T",
     "7733.T",
     "4901.T",
     "4503.T",
     "2801.T",
     "4568.T",
     "7832.T",
     "4523.T"
    ],
    "UNTIL": "2018-01-01"
   },
   "start_time": "2022-06-19T18:39:15.786221",
   "version": "2.3.3"
  }
 },
 "nbformat": 4,
 "nbformat_minor": 5
}