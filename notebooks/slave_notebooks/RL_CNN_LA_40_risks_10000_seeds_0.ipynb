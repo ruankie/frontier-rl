{
 "cells": [
  {
   "cell_type": "code",
   "execution_count": 1,
   "id": "0629343a",
   "metadata": {
    "execution": {
     "iopub.execute_input": "2022-06-26T16:21:29.869388Z",
     "iopub.status.busy": "2022-06-26T16:21:29.868748Z",
     "iopub.status.idle": "2022-06-26T16:21:34.537169Z",
     "shell.execute_reply": "2022-06-26T16:21:34.535257Z"
    },
    "papermill": {
     "duration": 4.68535,
     "end_time": "2022-06-26T16:21:34.541600",
     "exception": false,
     "start_time": "2022-06-26T16:21:29.856250",
     "status": "completed"
    },
    "tags": []
   },
   "outputs": [
    {
     "name": "stdout",
     "output_type": "stream",
     "text": [
      "CPU times: user 4.28 s, sys: 2.04 s, total: 6.32 s\n",
      "Wall time: 4.66 s\n"
     ]
    }
   ],
   "source": [
    "%%time\n",
    "import numpy as np\n",
    "import pandas as pd\n",
    "import matplotlib.pyplot as plt\n",
    "import datetime\n",
    "import os\n",
    "from src.models.frontier import MultiStockEnv, Agent, play_one_episode, maybe_make_dir\n",
    "from src.config import market_tickers\n",
    "from src.config.model_config import model_parameters\n",
    "import tensorflow as tf"
   ]
  },
  {
   "cell_type": "code",
   "execution_count": 2,
   "id": "3e3ddacc",
   "metadata": {
    "execution": {
     "iopub.execute_input": "2022-06-26T16:21:34.560898Z",
     "iopub.status.busy": "2022-06-26T16:21:34.559617Z",
     "iopub.status.idle": "2022-06-26T16:21:34.575113Z",
     "shell.execute_reply": "2022-06-26T16:21:34.573629Z"
    },
    "papermill": {
     "duration": 0.03087,
     "end_time": "2022-06-26T16:21:34.579253",
     "exception": false,
     "start_time": "2022-06-26T16:21:34.548383",
     "status": "completed"
    },
    "tags": []
   },
   "outputs": [
    {
     "data": {
      "text/plain": [
       "{'RL_CNN': {'use_forecasts': False,\n",
       "  'nb_forecasts': None,\n",
       "  'forecast_type': 'strong',\n",
       "  'use_cnn_state': True},\n",
       " 'RL_str_fcast': {'use_forecasts': True,\n",
       "  'nb_forecasts': 2,\n",
       "  'forecast_type': 'strong',\n",
       "  'use_cnn_state': False},\n",
       " 'RL_all_inp': {'use_forecasts': True,\n",
       "  'nb_forecasts': 2,\n",
       "  'forecast_type': 'strong',\n",
       "  'use_cnn_state': True}}"
      ]
     },
     "execution_count": 2,
     "metadata": {},
     "output_type": "execute_result"
    }
   ],
   "source": [
    "from src.config.model_config import model_parameters\n",
    "model_parameters"
   ]
  },
  {
   "cell_type": "code",
   "execution_count": 3,
   "id": "f7d44279",
   "metadata": {
    "execution": {
     "iopub.execute_input": "2022-06-26T16:21:34.597866Z",
     "iopub.status.busy": "2022-06-26T16:21:34.597290Z",
     "iopub.status.idle": "2022-06-26T16:21:34.609848Z",
     "shell.execute_reply": "2022-06-26T16:21:34.608374Z"
    },
    "papermill": {
     "duration": 0.027387,
     "end_time": "2022-06-26T16:21:34.614010",
     "exception": false,
     "start_time": "2022-06-26T16:21:34.586623",
     "status": "completed"
    },
    "tags": [
     "parameters"
    ]
   },
   "outputs": [],
   "source": [
    "# papermill parameters\n",
    "SEED_LIST = [\n",
    "             0,\n",
    "             #1111,\n",
    "             #2222, \n",
    "             #3333, \n",
    "             #4444, \n",
    "             #5555,\n",
    "             #6666,\n",
    "             #7777,\n",
    "             #8888,\n",
    "             #9999\n",
    "            ]\n",
    "\n",
    "#TICKERS = market_tickers.DOW_30_TICKER\n",
    "TICKERS = ['AAPL', 'AMD', 'CSCO', 'F', 'INTC']\n",
    "MARKET_NAME = 'TEST_5'\n",
    "MODEL_BASE_NAME = 'RL_CNN' # use either | 'RL_CNN' | 'RL_str_fcast' | 'RL_all_inp' |\n",
    "FROM = '2017-01-03' # start of training set\n",
    "UNTIL = '2019-01-01' # end of training set\n",
    "NB_EPISODES = 200 # number of episodes to train for\n",
    "SAVE_EVERY = 200 # (used 100 when not from tretrained) save model weights every time this amount of episodes pass\n",
    "\n",
    "# investor preferences\n",
    "GAMMA_TRADES = [0.1, 1, 10, 100]\n",
    "GAMMA_RISKS = [0.1, 1, 10, 100, 1000]\n",
    "GAMMA_HOLDS = [0.1, 1]"
   ]
  },
  {
   "cell_type": "code",
   "execution_count": 4,
   "id": "5fb08016",
   "metadata": {
    "execution": {
     "iopub.execute_input": "2022-06-26T16:21:34.641209Z",
     "iopub.status.busy": "2022-06-26T16:21:34.640587Z",
     "iopub.status.idle": "2022-06-26T16:21:34.663389Z",
     "shell.execute_reply": "2022-06-26T16:21:34.657537Z"
    },
    "papermill": {
     "duration": 0.044906,
     "end_time": "2022-06-26T16:21:34.667488",
     "exception": false,
     "start_time": "2022-06-26T16:21:34.622582",
     "status": "completed"
    },
    "tags": [
     "injected-parameters"
    ]
   },
   "outputs": [],
   "source": [
    "# Parameters\n",
    "SEED_LIST = [0]\n",
    "TICKERS = [\n",
    "    \"VALE\",\n",
    "    \"ITUB\",\n",
    "    \"PBR-A\",\n",
    "    \"BBD\",\n",
    "    \"PBR\",\n",
    "    \"AMXL.MX\",\n",
    "    \"WALMEX.MX\",\n",
    "    \"FEMSAUBD.MX\",\n",
    "    \"GFNORTEO.MX\",\n",
    "    \"WEGE3.SA\",\n",
    "    \"BBAS3.SA\",\n",
    "    \"BAP\",\n",
    "    \"CEMEXCPO.MX\",\n",
    "    \"SQM\",\n",
    "    \"SCCO\",\n",
    "    \"GGB\",\n",
    "    \"CHILE.SN\",\n",
    "    \"ENIA\",\n",
    "    \"CIB\",\n",
    "    \"TLEVISACPO.MX\",\n",
    "    \"EC\",\n",
    "    \"BRFS\",\n",
    "    \"BSAC\",\n",
    "    \"CCRO3.SA\",\n",
    "]\n",
    "MARKET_NAME = \"LA_40\"\n",
    "MODEL_BASE_NAME = \"RL_CNN\"\n",
    "FROM = \"2010-03-01\"\n",
    "UNTIL = \"2014-12-01\"\n",
    "NB_EPISODES = 200\n",
    "SAVE_EVERY = 200\n",
    "GAMMA_TRADES = [1, 7, 8, 9, 10, 11, 12, 50, 100]\n",
    "GAMMA_RISKS = [10000]\n",
    "GAMMA_HOLDS = [0.1, 1, 10, 100, 1000, 10000]\n"
   ]
  },
  {
   "cell_type": "code",
   "execution_count": 5,
   "id": "8c79077f",
   "metadata": {
    "execution": {
     "iopub.execute_input": "2022-06-26T16:21:34.694687Z",
     "iopub.status.busy": "2022-06-26T16:21:34.693662Z",
     "iopub.status.idle": "2022-06-26T16:21:34.704927Z",
     "shell.execute_reply": "2022-06-26T16:21:34.703433Z"
    },
    "papermill": {
     "duration": 0.032243,
     "end_time": "2022-06-26T16:21:34.709392",
     "exception": false,
     "start_time": "2022-06-26T16:21:34.677149",
     "status": "completed"
    },
    "tags": []
   },
   "outputs": [
    {
     "name": "stdout",
     "output_type": "stream",
     "text": [
      "number of trios:  54\n"
     ]
    }
   ],
   "source": [
    "#------ small test-sweep ------#\n",
    "# GAMMA_TRADES = [0.1, 1, 10, 100]\n",
    "# GAMMA_RISKS = [0.1, 1, 10, 100, 1000]\n",
    "# GAMMA_HOLDS = [0.1, 1]\n",
    "#------ extended-boyd-sweep ------#\n",
    "# GAMMA_TRADES =  [0.1, 0.5, 1, 2, 3, 4, 5, 5.5, 6, 6.5, 7, 7.5, 8, 9, 10, 11, 12, 15, 20, 30, 45, 60, 100, 200]\n",
    "# GAMMA_RISKS = [0.1, 0.178, 0.316, 0.562, 1, 2, 3, 6, 10, 18, 32, 56, 100, 178, 316, 562, 1000, 2000, 5000, 10000, 20000]\n",
    "#---------------------------------#\n",
    "\n",
    "GAMMA_TRIOS = []\n",
    "for tr in GAMMA_TRADES:\n",
    "    for ri in GAMMA_RISKS:\n",
    "        for hd in GAMMA_HOLDS:\n",
    "            GAMMA_TRIOS.append((tr, ri, hd))\n",
    "        \n",
    "#format: (gamma_trade, gamma_risk, gamma_hold)\n",
    "print('number of trios: ', len(GAMMA_TRIOS))\n",
    "#GAMMA_TRIOS"
   ]
  },
  {
   "cell_type": "code",
   "execution_count": 6,
   "id": "39daa3e0",
   "metadata": {
    "execution": {
     "iopub.execute_input": "2022-06-26T16:21:34.739628Z",
     "iopub.status.busy": "2022-06-26T16:21:34.739063Z",
     "iopub.status.idle": "2022-06-26T16:21:34.752256Z",
     "shell.execute_reply": "2022-06-26T16:21:34.750576Z"
    },
    "papermill": {
     "duration": 0.031976,
     "end_time": "2022-06-26T16:21:34.756418",
     "exception": false,
     "start_time": "2022-06-26T16:21:34.724442",
     "status": "completed"
    },
    "tags": []
   },
   "outputs": [],
   "source": [
    "# other constants and parameters\n",
    "TICKERS.sort()\n",
    "FILE_PERIOD = '1d' # weekly='5d', daily='1d'\n",
    "DAYS_IN_EPISODE = 30 # 365 for one-year long episodes (conditions checked at end of episode)\n",
    "EPISODE_DRAW_DISTRIBUTION = 'uniform' # 'uniform' or 'geometric'. select starting point of eposide according to this distribution when generated\n",
    "HALF_SPREAD = 0.0005/2.0 # 'a' in transaction cost function\n",
    "NONLIN_COEFF = 1.0 # 'b' transaction cost function\n",
    "POWER = 1.5 # power for change in poertfolio vector used in transaction cost\n",
    "#GAMMA_RISK, GAMMA_TRADE, GAMMA_HOLD = 18, 6.5, 0.0 # relative importance of risk, trading cost, and holding cost\n",
    "INIT_PORTFOLIO = 100000000.0 # initial portfolio value\n",
    "#model_name = f'REINFORCE_CNN' #_seeded_{UNTIL} # give model a name to distinguish saved files\n",
    "#NB_EPISODES = 300 #2000\n",
    "MODE = 'train' # train or test mode\n",
    "#FROM_PRETRAINED = False\n",
    "DATA_DIR = f'../data/{MARKET_NAME}/preprocessed_data/'\n",
    "\n",
    "# Tune and double-check these before every test:\n",
    "USE_FORECASTS = model_parameters[MODEL_BASE_NAME]['use_forecasts'] # whether to use forecasts as inputs to agent policy net or not\n",
    "NB_FORECASTS = model_parameters[MODEL_BASE_NAME]['nb_forecasts'] # number of forecasts to use in state. Set to None for no forecasts\n",
    "FORECAST_TYPE = model_parameters[MODEL_BASE_NAME]['forecast_type'] # use 'strong' or 'weak' forecasts (if no forecasts given, this does not matter)\n",
    "USE_CNN_STATE = model_parameters[MODEL_BASE_NAME]['use_cnn_state'] # whether to pass log-rets block for CNN part of policy net (set to false for forecast only)"
   ]
  },
  {
   "cell_type": "code",
   "execution_count": 7,
   "id": "66635fb3",
   "metadata": {
    "execution": {
     "iopub.execute_input": "2022-06-26T16:21:34.775907Z",
     "iopub.status.busy": "2022-06-26T16:21:34.775490Z",
     "iopub.status.idle": "2022-06-26T16:46:17.257849Z",
     "shell.execute_reply": "2022-06-26T16:46:17.256202Z"
    },
    "papermill": {
     "duration": 1482.530214,
     "end_time": "2022-06-26T16:46:17.295205",
     "exception": false,
     "start_time": "2022-06-26T16:21:34.764991",
     "status": "completed"
    },
    "scrolled": true,
    "tags": []
   },
   "outputs": [
    {
     "name": "stdout",
     "output_type": "stream",
     "text": [
      "\talready exists: trade_1_risk_10000_hold_0.1\n",
      "\tskip to next.\n",
      "\talready exists: trade_1_risk_10000_hold_1\n",
      "\tskip to next.\n",
      "\talready exists: trade_1_risk_10000_hold_10\n",
      "\tskip to next.\n",
      "\talready exists: trade_1_risk_10000_hold_100\n",
      "\tskip to next.\n",
      "\talready exists: trade_1_risk_10000_hold_1000\n",
      "\tskip to next.\n",
      "\talready exists: trade_1_risk_10000_hold_10000\n",
      "\tskip to next.\n",
      "\talready exists: trade_7_risk_10000_hold_0.1\n",
      "\tskip to next.\n",
      "\talready exists: trade_7_risk_10000_hold_1\n",
      "\tskip to next.\n",
      "\talready exists: trade_7_risk_10000_hold_10\n",
      "\tskip to next.\n",
      "\talready exists: trade_7_risk_10000_hold_100\n",
      "\tskip to next.\n",
      "\talready exists: trade_7_risk_10000_hold_1000\n",
      "\tskip to next.\n",
      "\talready exists: trade_7_risk_10000_hold_10000\n",
      "\tskip to next.\n",
      "\talready exists: trade_8_risk_10000_hold_0.1\n",
      "\tskip to next.\n",
      "\talready exists: trade_8_risk_10000_hold_1\n",
      "\tskip to next.\n",
      "\talready exists: trade_8_risk_10000_hold_10\n",
      "\tskip to next.\n",
      "\talready exists: trade_8_risk_10000_hold_100\n",
      "\tskip to next.\n",
      "\talready exists: trade_8_risk_10000_hold_1000\n",
      "\tskip to next.\n",
      "\talready exists: trade_8_risk_10000_hold_10000\n",
      "\tskip to next.\n",
      "\talready exists: trade_9_risk_10000_hold_0.1\n",
      "\tskip to next.\n",
      "\talready exists: trade_9_risk_10000_hold_1\n",
      "\tskip to next.\n",
      "\talready exists: trade_9_risk_10000_hold_10\n",
      "\tskip to next.\n",
      "\talready exists: trade_9_risk_10000_hold_100\n",
      "\tskip to next.\n",
      "\talready exists: trade_9_risk_10000_hold_1000\n",
      "\tskip to next.\n",
      "\talready exists: trade_9_risk_10000_hold_10000\n",
      "\tskip to next.\n",
      "\talready exists: trade_10_risk_10000_hold_0.1\n",
      "\tskip to next.\n",
      "\talready exists: trade_10_risk_10000_hold_1\n",
      "\tskip to next.\n",
      "\talready exists: trade_10_risk_10000_hold_10\n",
      "\tskip to next.\n",
      "\talready exists: trade_10_risk_10000_hold_100\n",
      "\tskip to next.\n",
      "\talready exists: trade_10_risk_10000_hold_1000\n",
      "\tskip to next.\n",
      "\talready exists: trade_10_risk_10000_hold_10000\n",
      "\tskip to next.\n",
      "\talready exists: trade_11_risk_10000_hold_0.1\n",
      "\tskip to next.\n",
      "\talready exists: trade_11_risk_10000_hold_1\n",
      "\tskip to next.\n",
      "\talready exists: trade_11_risk_10000_hold_10\n",
      "\tskip to next.\n",
      "\talready exists: trade_11_risk_10000_hold_100\n",
      "\tskip to next.\n",
      "\talready exists: trade_11_risk_10000_hold_1000\n",
      "\tskip to next.\n",
      "\talready exists: trade_11_risk_10000_hold_10000\n",
      "\tskip to next.\n",
      "\talready exists: trade_12_risk_10000_hold_0.1\n",
      "\tskip to next.\n",
      "\talready exists: trade_12_risk_10000_hold_1\n",
      "\tskip to next.\n",
      "\talready exists: trade_12_risk_10000_hold_10\n",
      "\tskip to next.\n",
      "\talready exists: trade_12_risk_10000_hold_100\n",
      "\tskip to next.\n",
      "\talready exists: trade_12_risk_10000_hold_1000\n",
      "\tskip to next.\n",
      "\talready exists: trade_12_risk_10000_hold_10000\n",
      "\tskip to next.\n",
      "\talready exists: trade_50_risk_10000_hold_0.1\n",
      "\tskip to next.\n",
      "\talready exists: trade_50_risk_10000_hold_1\n",
      "\tskip to next.\n",
      "\talready exists: trade_50_risk_10000_hold_10\n",
      "\tskip to next.\n",
      "\talready exists: trade_50_risk_10000_hold_100\n",
      "\tskip to next.\n",
      "\talready exists: trade_50_risk_10000_hold_1000\n",
      "\tskip to next.\n",
      "\talready exists: trade_50_risk_10000_hold_10000\n",
      "\tskip to next.\n",
      "#############################################################################\n",
      "##\t[49/54]\tmodel=RL_CNN,\tSEED=0,\ttrade=100,\trisk=10000\thold=0.1\t##\n",
      "#############################################################################\n"
     ]
    },
    {
     "name": "stdout",
     "output_type": "stream",
     "text": [
      "episode: 1/200, loss: 11.1494, duration: 0:00:01.160296\n"
     ]
    },
    {
     "name": "stdout",
     "output_type": "stream",
     "text": [
      "episode: 11/200, loss: 5.3769, duration: 0:00:01.144258\n"
     ]
    },
    {
     "name": "stdout",
     "output_type": "stream",
     "text": [
      "episode: 21/200, loss: 2.0395, duration: 0:00:01.438983\n"
     ]
    },
    {
     "name": "stdout",
     "output_type": "stream",
     "text": [
      "episode: 31/200, loss: 1.6253, duration: 0:00:01.224376\n"
     ]
    },
    {
     "name": "stdout",
     "output_type": "stream",
     "text": [
      "episode: 41/200, loss: 5.3484, duration: 0:00:01.266068\n"
     ]
    },
    {
     "name": "stdout",
     "output_type": "stream",
     "text": [
      "episode: 51/200, loss: 6.0320, duration: 0:00:01.174265\n"
     ]
    },
    {
     "name": "stdout",
     "output_type": "stream",
     "text": [
      "episode: 61/200, loss: 4.7736, duration: 0:00:01.419973\n"
     ]
    },
    {
     "name": "stdout",
     "output_type": "stream",
     "text": [
      "episode: 71/200, loss: 9.5278, duration: 0:00:01.327720\n"
     ]
    },
    {
     "name": "stdout",
     "output_type": "stream",
     "text": [
      "episode: 81/200, loss: 2.6070, duration: 0:00:01.409507\n"
     ]
    },
    {
     "name": "stdout",
     "output_type": "stream",
     "text": [
      "episode: 91/200, loss: 4.5308, duration: 0:00:01.285141\n"
     ]
    },
    {
     "name": "stdout",
     "output_type": "stream",
     "text": [
      "episode: 101/200, loss: 4.2362, duration: 0:00:01.134107\n"
     ]
    },
    {
     "name": "stdout",
     "output_type": "stream",
     "text": [
      "episode: 111/200, loss: 4.3640, duration: 0:00:01.887444\n"
     ]
    },
    {
     "name": "stdout",
     "output_type": "stream",
     "text": [
      "episode: 121/200, loss: 2.8870, duration: 0:00:01.136865\n"
     ]
    },
    {
     "name": "stdout",
     "output_type": "stream",
     "text": [
      "episode: 131/200, loss: 4.1565, duration: 0:00:01.383552\n"
     ]
    },
    {
     "name": "stdout",
     "output_type": "stream",
     "text": [
      "episode: 141/200, loss: 6.1746, duration: 0:00:01.151163\n"
     ]
    },
    {
     "name": "stdout",
     "output_type": "stream",
     "text": [
      "episode: 151/200, loss: 2.1267, duration: 0:00:01.267960\n"
     ]
    },
    {
     "name": "stdout",
     "output_type": "stream",
     "text": [
      "episode: 161/200, loss: 2.6678, duration: 0:00:01.309485\n"
     ]
    },
    {
     "name": "stdout",
     "output_type": "stream",
     "text": [
      "episode: 171/200, loss: 4.8275, duration: 0:00:01.373773\n"
     ]
    },
    {
     "name": "stdout",
     "output_type": "stream",
     "text": [
      "episode: 181/200, loss: 4.8910, duration: 0:00:01.142681\n"
     ]
    },
    {
     "name": "stdout",
     "output_type": "stream",
     "text": [
      "episode: 191/200, loss: 3.1305, duration: 0:00:01.246171\n"
     ]
    },
    {
     "name": "stdout",
     "output_type": "stream",
     "text": [
      "#############################################################################\n",
      "##\t[50/54]\tmodel=RL_CNN,\tSEED=0,\ttrade=100,\trisk=10000\thold=1\t##\n",
      "#############################################################################\n"
     ]
    },
    {
     "name": "stdout",
     "output_type": "stream",
     "text": [
      "episode: 1/200, loss: 11.1501, duration: 0:00:01.423719\n"
     ]
    },
    {
     "name": "stdout",
     "output_type": "stream",
     "text": [
      "episode: 11/200, loss: 5.3775, duration: 0:00:01.216199\n"
     ]
    },
    {
     "name": "stdout",
     "output_type": "stream",
     "text": [
      "episode: 21/200, loss: 2.0399, duration: 0:00:01.141745\n"
     ]
    },
    {
     "name": "stdout",
     "output_type": "stream",
     "text": [
      "episode: 31/200, loss: 1.6257, duration: 0:00:01.122507\n"
     ]
    },
    {
     "name": "stdout",
     "output_type": "stream",
     "text": [
      "episode: 41/200, loss: 5.3486, duration: 0:00:01.140536\n"
     ]
    },
    {
     "name": "stdout",
     "output_type": "stream",
     "text": [
      "episode: 51/200, loss: 6.0325, duration: 0:00:01.207537\n"
     ]
    },
    {
     "name": "stdout",
     "output_type": "stream",
     "text": [
      "episode: 61/200, loss: 4.7734, duration: 0:00:01.206501\n"
     ]
    },
    {
     "name": "stdout",
     "output_type": "stream",
     "text": [
      "episode: 71/200, loss: 9.5278, duration: 0:00:01.115136\n"
     ]
    },
    {
     "name": "stdout",
     "output_type": "stream",
     "text": [
      "episode: 81/200, loss: 2.6072, duration: 0:00:01.154301\n"
     ]
    },
    {
     "name": "stdout",
     "output_type": "stream",
     "text": [
      "episode: 91/200, loss: 4.5309, duration: 0:00:01.284250\n"
     ]
    },
    {
     "name": "stdout",
     "output_type": "stream",
     "text": [
      "episode: 101/200, loss: 4.2337, duration: 0:00:01.282034\n"
     ]
    },
    {
     "name": "stdout",
     "output_type": "stream",
     "text": [
      "episode: 111/200, loss: 4.3638, duration: 0:00:01.197519\n"
     ]
    },
    {
     "name": "stdout",
     "output_type": "stream",
     "text": [
      "episode: 121/200, loss: 2.8878, duration: 0:00:01.213617\n"
     ]
    },
    {
     "name": "stdout",
     "output_type": "stream",
     "text": [
      "episode: 131/200, loss: 4.1558, duration: 0:00:01.112250\n"
     ]
    },
    {
     "name": "stdout",
     "output_type": "stream",
     "text": [
      "episode: 141/200, loss: 6.1685, duration: 0:00:01.112842\n"
     ]
    },
    {
     "name": "stdout",
     "output_type": "stream",
     "text": [
      "episode: 151/200, loss: 2.1266, duration: 0:00:01.672087\n"
     ]
    },
    {
     "name": "stdout",
     "output_type": "stream",
     "text": [
      "episode: 161/200, loss: 2.6677, duration: 0:00:01.148613\n"
     ]
    },
    {
     "name": "stdout",
     "output_type": "stream",
     "text": [
      "episode: 171/200, loss: 4.8250, duration: 0:00:01.150472\n"
     ]
    },
    {
     "name": "stdout",
     "output_type": "stream",
     "text": [
      "episode: 181/200, loss: 4.8938, duration: 0:00:01.111495\n"
     ]
    },
    {
     "name": "stdout",
     "output_type": "stream",
     "text": [
      "episode: 191/200, loss: 3.1305, duration: 0:00:01.226232\n"
     ]
    },
    {
     "name": "stdout",
     "output_type": "stream",
     "text": [
      "#############################################################################\n",
      "##\t[51/54]\tmodel=RL_CNN,\tSEED=0,\ttrade=100,\trisk=10000\thold=10\t##\n",
      "#############################################################################\n"
     ]
    },
    {
     "name": "stdout",
     "output_type": "stream",
     "text": [
      "episode: 1/200, loss: 11.1571, duration: 0:00:01.133613\n"
     ]
    },
    {
     "name": "stdout",
     "output_type": "stream",
     "text": [
      "episode: 11/200, loss: 5.3841, duration: 0:00:01.140555\n"
     ]
    },
    {
     "name": "stdout",
     "output_type": "stream",
     "text": [
      "episode: 21/200, loss: 2.0454, duration: 0:00:01.435847\n"
     ]
    },
    {
     "name": "stdout",
     "output_type": "stream",
     "text": [
      "episode: 31/200, loss: 1.6281, duration: 0:00:01.858283\n"
     ]
    },
    {
     "name": "stdout",
     "output_type": "stream",
     "text": [
      "episode: 41/200, loss: 5.3540, duration: 0:00:01.229297\n"
     ]
    },
    {
     "name": "stdout",
     "output_type": "stream",
     "text": [
      "episode: 51/200, loss: 6.0418, duration: 0:00:01.307376\n"
     ]
    },
    {
     "name": "stdout",
     "output_type": "stream",
     "text": [
      "episode: 61/200, loss: 4.7707, duration: 0:00:01.352170\n"
     ]
    },
    {
     "name": "stdout",
     "output_type": "stream",
     "text": [
      "episode: 71/200, loss: 9.5343, duration: 0:00:01.309162\n"
     ]
    },
    {
     "name": "stdout",
     "output_type": "stream",
     "text": [
      "episode: 81/200, loss: 2.6111, duration: 0:00:01.387205\n"
     ]
    },
    {
     "name": "stdout",
     "output_type": "stream",
     "text": [
      "episode: 91/200, loss: 4.5338, duration: 0:00:01.317273\n"
     ]
    },
    {
     "name": "stdout",
     "output_type": "stream",
     "text": [
      "episode: 101/200, loss: 4.2440, duration: 0:00:01.189454\n"
     ]
    },
    {
     "name": "stdout",
     "output_type": "stream",
     "text": [
      "episode: 111/200, loss: 4.3598, duration: 0:00:01.115353\n"
     ]
    },
    {
     "name": "stdout",
     "output_type": "stream",
     "text": [
      "episode: 121/200, loss: 2.8892, duration: 0:00:01.144309\n"
     ]
    },
    {
     "name": "stdout",
     "output_type": "stream",
     "text": [
      "episode: 131/200, loss: 4.1559, duration: 0:00:01.104842\n"
     ]
    },
    {
     "name": "stdout",
     "output_type": "stream",
     "text": [
      "episode: 141/200, loss: 6.1465, duration: 0:00:01.114668\n"
     ]
    },
    {
     "name": "stdout",
     "output_type": "stream",
     "text": [
      "episode: 151/200, loss: 2.1144, duration: 0:00:01.239526\n"
     ]
    },
    {
     "name": "stdout",
     "output_type": "stream",
     "text": [
      "episode: 161/200, loss: 2.6493, duration: 0:00:01.239085\n"
     ]
    },
    {
     "name": "stdout",
     "output_type": "stream",
     "text": [
      "episode: 171/200, loss: 4.7766, duration: 0:00:01.254597\n"
     ]
    },
    {
     "name": "stdout",
     "output_type": "stream",
     "text": [
      "episode: 181/200, loss: 4.9026, duration: 0:00:01.663659\n"
     ]
    },
    {
     "name": "stdout",
     "output_type": "stream",
     "text": [
      "episode: 191/200, loss: 3.1522, duration: 0:00:01.111588\n"
     ]
    },
    {
     "name": "stdout",
     "output_type": "stream",
     "text": [
      "#############################################################################\n",
      "##\t[52/54]\tmodel=RL_CNN,\tSEED=0,\ttrade=100,\trisk=10000\thold=100\t##\n",
      "#############################################################################\n"
     ]
    },
    {
     "name": "stdout",
     "output_type": "stream",
     "text": [
      "episode: 1/200, loss: 11.2271, duration: 0:00:01.184348\n"
     ]
    },
    {
     "name": "stdout",
     "output_type": "stream",
     "text": [
      "episode: 11/200, loss: 5.4440, duration: 0:00:01.259868\n"
     ]
    },
    {
     "name": "stdout",
     "output_type": "stream",
     "text": [
      "episode: 21/200, loss: 2.0901, duration: 0:00:01.161886\n"
     ]
    },
    {
     "name": "stdout",
     "output_type": "stream",
     "text": [
      "episode: 31/200, loss: 1.6650, duration: 0:00:01.815575\n"
     ]
    },
    {
     "name": "stdout",
     "output_type": "stream",
     "text": [
      "episode: 41/200, loss: 5.3912, duration: 0:00:01.584997\n"
     ]
    },
    {
     "name": "stdout",
     "output_type": "stream",
     "text": [
      "episode: 51/200, loss: 6.0839, duration: 0:00:01.119294\n"
     ]
    },
    {
     "name": "stdout",
     "output_type": "stream",
     "text": [
      "episode: 61/200, loss: 4.7984, duration: 0:00:01.203554\n"
     ]
    },
    {
     "name": "stdout",
     "output_type": "stream",
     "text": [
      "episode: 71/200, loss: 9.5478, duration: 0:00:01.152649\n"
     ]
    },
    {
     "name": "stdout",
     "output_type": "stream",
     "text": [
      "episode: 81/200, loss: 2.6458, duration: 0:00:01.155331\n"
     ]
    },
    {
     "name": "stdout",
     "output_type": "stream",
     "text": [
      "episode: 91/200, loss: 4.6149, duration: 0:00:01.171083\n"
     ]
    },
    {
     "name": "stdout",
     "output_type": "stream",
     "text": [
      "episode: 101/200, loss: 4.2789, duration: 0:00:01.118930\n"
     ]
    },
    {
     "name": "stdout",
     "output_type": "stream",
     "text": [
      "episode: 111/200, loss: 4.3819, duration: 0:00:01.733004\n"
     ]
    },
    {
     "name": "stdout",
     "output_type": "stream",
     "text": [
      "episode: 121/200, loss: 2.9128, duration: 0:00:01.159570\n"
     ]
    },
    {
     "name": "stdout",
     "output_type": "stream",
     "text": [
      "episode: 131/200, loss: 4.1982, duration: 0:00:01.106398\n"
     ]
    },
    {
     "name": "stdout",
     "output_type": "stream",
     "text": [
      "episode: 141/200, loss: 6.0725, duration: 0:00:01.272971\n"
     ]
    },
    {
     "name": "stdout",
     "output_type": "stream",
     "text": [
      "episode: 151/200, loss: 2.1118, duration: 0:00:01.579514\n"
     ]
    },
    {
     "name": "stdout",
     "output_type": "stream",
     "text": [
      "episode: 161/200, loss: 2.6740, duration: 0:00:01.269290\n"
     ]
    },
    {
     "name": "stdout",
     "output_type": "stream",
     "text": [
      "episode: 171/200, loss: 4.8747, duration: 0:00:01.723506\n"
     ]
    },
    {
     "name": "stdout",
     "output_type": "stream",
     "text": [
      "episode: 181/200, loss: 4.9442, duration: 0:00:01.120008\n"
     ]
    },
    {
     "name": "stdout",
     "output_type": "stream",
     "text": [
      "episode: 191/200, loss: 3.1310, duration: 0:00:01.357873\n"
     ]
    },
    {
     "name": "stdout",
     "output_type": "stream",
     "text": [
      "#############################################################################\n",
      "##\t[53/54]\tmodel=RL_CNN,\tSEED=0,\ttrade=100,\trisk=10000\thold=1000\t##\n",
      "#############################################################################\n"
     ]
    },
    {
     "name": "stdout",
     "output_type": "stream",
     "text": [
      "episode: 1/200, loss: 11.9277, duration: 0:00:01.123809\n"
     ]
    },
    {
     "name": "stdout",
     "output_type": "stream",
     "text": [
      "episode: 11/200, loss: 6.0317, duration: 0:00:01.143312\n"
     ]
    },
    {
     "name": "stdout",
     "output_type": "stream",
     "text": [
      "episode: 21/200, loss: 2.5163, duration: 0:00:01.644659\n"
     ]
    },
    {
     "name": "stdout",
     "output_type": "stream",
     "text": [
      "episode: 31/200, loss: 2.0067, duration: 0:00:01.141441\n"
     ]
    },
    {
     "name": "stdout",
     "output_type": "stream",
     "text": [
      "episode: 41/200, loss: 5.6485, duration: 0:00:01.169411\n"
     ]
    },
    {
     "name": "stdout",
     "output_type": "stream",
     "text": [
      "episode: 51/200, loss: 6.5415, duration: 0:00:01.136236\n"
     ]
    },
    {
     "name": "stdout",
     "output_type": "stream",
     "text": [
      "episode: 61/200, loss: 4.9567, duration: 0:00:01.087108\n"
     ]
    },
    {
     "name": "stdout",
     "output_type": "stream",
     "text": [
      "episode: 71/200, loss: 9.7148, duration: 0:00:01.224781\n"
     ]
    },
    {
     "name": "stdout",
     "output_type": "stream",
     "text": [
      "episode: 81/200, loss: 2.9287, duration: 0:00:01.137596\n"
     ]
    },
    {
     "name": "stdout",
     "output_type": "stream",
     "text": [
      "episode: 91/200, loss: 4.9916, duration: 0:00:01.116799\n"
     ]
    },
    {
     "name": "stdout",
     "output_type": "stream",
     "text": [
      "episode: 101/200, loss: 4.5751, duration: 0:00:01.088854\n"
     ]
    },
    {
     "name": "stdout",
     "output_type": "stream",
     "text": [
      "episode: 111/200, loss: 4.4220, duration: 0:00:01.202934\n"
     ]
    },
    {
     "name": "stdout",
     "output_type": "stream",
     "text": [
      "episode: 121/200, loss: 3.0294, duration: 0:00:01.426866\n"
     ]
    },
    {
     "name": "stdout",
     "output_type": "stream",
     "text": [
      "episode: 131/200, loss: 4.2627, duration: 0:00:01.105602\n"
     ]
    },
    {
     "name": "stdout",
     "output_type": "stream",
     "text": [
      "episode: 141/200, loss: 5.8705, duration: 0:00:01.098630\n"
     ]
    },
    {
     "name": "stdout",
     "output_type": "stream",
     "text": [
      "episode: 151/200, loss: 2.1197, duration: 0:00:01.086100\n"
     ]
    },
    {
     "name": "stdout",
     "output_type": "stream",
     "text": [
      "episode: 161/200, loss: 2.8295, duration: 0:00:01.111708\n"
     ]
    },
    {
     "name": "stdout",
     "output_type": "stream",
     "text": [
      "episode: 171/200, loss: 5.9311, duration: 0:00:01.306808\n"
     ]
    },
    {
     "name": "stdout",
     "output_type": "stream",
     "text": [
      "episode: 181/200, loss: 5.2899, duration: 0:00:01.115725\n"
     ]
    },
    {
     "name": "stdout",
     "output_type": "stream",
     "text": [
      "episode: 191/200, loss: 3.0281, duration: 0:00:01.193613\n"
     ]
    },
    {
     "name": "stdout",
     "output_type": "stream",
     "text": [
      "#############################################################################\n",
      "##\t[54/54]\tmodel=RL_CNN,\tSEED=0,\ttrade=100,\trisk=10000\thold=10000\t##\n",
      "#############################################################################\n"
     ]
    },
    {
     "name": "stdout",
     "output_type": "stream",
     "text": [
      "episode: 1/200, loss: 18.9333, duration: 0:00:01.112113\n"
     ]
    },
    {
     "name": "stdout",
     "output_type": "stream",
     "text": [
      "episode: 11/200, loss: 9.3074, duration: 0:00:01.085614\n"
     ]
    },
    {
     "name": "stdout",
     "output_type": "stream",
     "text": [
      "episode: 21/200, loss: 4.9351, duration: 0:00:01.136290\n"
     ]
    },
    {
     "name": "stdout",
     "output_type": "stream",
     "text": [
      "episode: 31/200, loss: 3.3781, duration: 0:00:01.138834\n"
     ]
    },
    {
     "name": "stdout",
     "output_type": "stream",
     "text": [
      "episode: 41/200, loss: 5.8824, duration: 0:00:01.096924\n"
     ]
    },
    {
     "name": "stdout",
     "output_type": "stream",
     "text": [
      "episode: 51/200, loss: 7.4887, duration: 0:00:01.101395\n"
     ]
    },
    {
     "name": "stdout",
     "output_type": "stream",
     "text": [
      "episode: 61/200, loss: 5.2010, duration: 0:00:01.073385\n"
     ]
    },
    {
     "name": "stdout",
     "output_type": "stream",
     "text": [
      "episode: 71/200, loss: 10.8095, duration: 0:00:01.129723\n"
     ]
    },
    {
     "name": "stdout",
     "output_type": "stream",
     "text": [
      "episode: 81/200, loss: 3.2117, duration: 0:00:01.087291\n"
     ]
    },
    {
     "name": "stdout",
     "output_type": "stream",
     "text": [
      "episode: 91/200, loss: 8.1862, duration: 0:00:01.089277\n"
     ]
    },
    {
     "name": "stdout",
     "output_type": "stream",
     "text": [
      "episode: 101/200, loss: 5.4363, duration: 0:00:01.168186\n"
     ]
    },
    {
     "name": "stdout",
     "output_type": "stream",
     "text": [
      "episode: 111/200, loss: 4.3122, duration: 0:00:01.164098\n"
     ]
    },
    {
     "name": "stdout",
     "output_type": "stream",
     "text": [
      "episode: 121/200, loss: 2.7601, duration: 0:00:01.232582\n"
     ]
    },
    {
     "name": "stdout",
     "output_type": "stream",
     "text": [
      "episode: 131/200, loss: 4.4738, duration: 0:00:01.100694\n"
     ]
    },
    {
     "name": "stdout",
     "output_type": "stream",
     "text": [
      "episode: 141/200, loss: 5.1909, duration: 0:00:01.113422\n"
     ]
    },
    {
     "name": "stdout",
     "output_type": "stream",
     "text": [
      "episode: 151/200, loss: 2.3990, duration: 0:00:01.093399\n"
     ]
    },
    {
     "name": "stdout",
     "output_type": "stream",
     "text": [
      "episode: 161/200, loss: 3.6421, duration: 0:00:01.118452\n"
     ]
    },
    {
     "name": "stdout",
     "output_type": "stream",
     "text": [
      "episode: 171/200, loss: 8.2467, duration: 0:00:01.192177\n"
     ]
    },
    {
     "name": "stdout",
     "output_type": "stream",
     "text": [
      "episode: 181/200, loss: 6.4698, duration: 0:00:01.032822\n"
     ]
    },
    {
     "name": "stdout",
     "output_type": "stream",
     "text": [
      "episode: 191/200, loss: 2.9955, duration: 0:00:01.020393\n"
     ]
    },
    {
     "name": "stdout",
     "output_type": "stream",
     "text": [
      "CPU times: user 24min 53s, sys: 11.9 s, total: 25min 5s\n",
      "Wall time: 24min 42s\n"
     ]
    },
    {
     "data": {
      "text/plain": [
       "<Figure size 1008x360 with 0 Axes>"
      ]
     },
     "metadata": {},
     "output_type": "display_data"
    },
    {
     "data": {
      "text/plain": [
       "<Figure size 1008x360 with 0 Axes>"
      ]
     },
     "metadata": {},
     "output_type": "display_data"
    },
    {
     "data": {
      "text/plain": [
       "<Figure size 1008x360 with 0 Axes>"
      ]
     },
     "metadata": {},
     "output_type": "display_data"
    },
    {
     "data": {
      "text/plain": [
       "<Figure size 1008x360 with 0 Axes>"
      ]
     },
     "metadata": {},
     "output_type": "display_data"
    },
    {
     "data": {
      "text/plain": [
       "<Figure size 1008x360 with 0 Axes>"
      ]
     },
     "metadata": {},
     "output_type": "display_data"
    },
    {
     "data": {
      "text/plain": [
       "<Figure size 1008x360 with 0 Axes>"
      ]
     },
     "metadata": {},
     "output_type": "display_data"
    }
   ],
   "source": [
    "%%time\n",
    "##########################\n",
    "### main training loop ###\n",
    "##########################\n",
    "\n",
    "# define investor preferences to train for\n",
    "#------ extended-boyd-sweep ------#\n",
    "#GAMMA_TRADES = [5.5, 6, 6.5, 7, 7.5, 8, 9, 10, 11, 12, 15, 20, 30]\n",
    "#GAMMA_TRADES = [4, 5]\n",
    "#GAMMA_TRADES = [0.1, 0.5, 1, 2, 3, 45, 60, 100, 200]\n",
    "#GAMMA_RISKS = [0.1, 0.178, 0.316, 0.562, 1, 2, 3, 6, 10, 18, 32, 56, 100, 178, 316, 562, 1000, 2000, 5000, 10000, 20000]\n",
    "#---------------------------------#\n",
    "counter = 0\n",
    "\n",
    "for RANDOM_SEED in SEED_LIST:\n",
    "    model_name = f'{MODEL_BASE_NAME}_seed_{RANDOM_SEED}'\n",
    "    maybe_make_dir(f'../experiments/{MARKET_NAME}/seeded/{MODEL_BASE_NAME}/seed_{RANDOM_SEED}')\n",
    "    \n",
    "    for (GAMMA_TRADE, GAMMA_RISK, GAMMA_HOLD) in GAMMA_TRIOS:\n",
    "        # set random generator seed for tf and np\n",
    "        # this is probably unnecessary because it is done when env is initialised but just incase\n",
    "        tf.random.set_seed(RANDOM_SEED)\n",
    "        np.random.seed(RANDOM_SEED)\n",
    "        counter += 1\n",
    "\n",
    "        # check if test lready done. skip if so\n",
    "        #if not FROM_PRETRAINED:\n",
    "            #skip = os.path.exists(f'experiments/12_assets/00_seeded/seed_{RANDOM_SEED}/trade_{GAMMA_TRADE}_risk_{GAMMA_RISK}') # check if already exists\n",
    "        #else:\n",
    "        \n",
    "        skip = os.path.exists(f'../experiments/{MARKET_NAME}/seeded/{MODEL_BASE_NAME}/seed_{RANDOM_SEED}/trade_{GAMMA_TRADE}_risk_{GAMMA_RISK}_hold_{GAMMA_HOLD}')\n",
    "\n",
    "        if not skip: # if not exists, do test\n",
    "\n",
    "            print('#############################################################################')\n",
    "            print(f'##\\t[{counter}/{len(GAMMA_TRIOS)}]\\tmodel={MODEL_BASE_NAME},\\tSEED={RANDOM_SEED},\\ttrade={GAMMA_TRADE},\\trisk={GAMMA_RISK}\\thold={GAMMA_HOLD}\\t##')\n",
    "            print('#############################################################################')        \n",
    "\n",
    "            # create agent and environment\n",
    "            env = MultiStockEnv(tickers=TICKERS, \n",
    "                                from_date=FROM,\n",
    "                                until=UNTIL, \n",
    "                                #nb_episodes=100,\n",
    "                                cash_key='USDOLLAR', \n",
    "                                gamma_risk=GAMMA_RISK, \n",
    "                                gamma_trade=GAMMA_TRADE,\n",
    "                                gamma_hold=GAMMA_HOLD,\n",
    "                                half_spread=HALF_SPREAD, \n",
    "                                nonlin_coef=NONLIN_COEFF, \n",
    "                                power=POWER, \n",
    "                                datadir=DATA_DIR, \n",
    "                                state_lookback_window=20, \n",
    "                                distribution=EPISODE_DRAW_DISTRIBUTION,\n",
    "                                days_duration=DAYS_IN_EPISODE, \n",
    "                                mode='train', \n",
    "                                random_seed=RANDOM_SEED,\n",
    "                                init_portfolio=INIT_PORTFOLIO, \n",
    "                                period_in_file_name=FILE_PERIOD, \n",
    "                                nb_forecasts=NB_FORECASTS, \n",
    "                                forecast_type=FORECAST_TYPE,\n",
    "                                use_CNN_state=USE_CNN_STATE,\n",
    "                                verbose=False)\n",
    "\n",
    "            agent = Agent(alpha=0.001, \n",
    "                          gamma=0.99, \n",
    "                          n_assets=len(TICKERS)+1, \n",
    "                          tau=5, \n",
    "                          lookback_window=20, \n",
    "                          n_feature_maps=len(TICKERS)+1,\n",
    "                          use_forecasts=USE_FORECASTS,\n",
    "                          use_CNN_state=USE_CNN_STATE,\n",
    "                          allow_long_short_trades=True)\n",
    "\n",
    "            # initialise policy by one forward pass then load pretrained weights\n",
    "            #if FROM_PRETRAINED: \n",
    "                #agent.choose_action(env._get_obs())\n",
    "                #agent.load(pretrined_weights_dir)\n",
    "\n",
    "            # configure folders\n",
    "            experiments_folder = f'../experiments/{MARKET_NAME}'\n",
    "            from_seeded_folder = f'{experiments_folder}/seeded'\n",
    "            base_model_folder = f'{from_seeded_folder}/{MODEL_BASE_NAME}'\n",
    "            seed_folder = f'{base_model_folder}/seed_{RANDOM_SEED}'\n",
    "            #if FROM_PRETRAINED:\n",
    "            #    pretrained_folder = f'{nb_assets_folder}/0_further_trained'\n",
    "            #    preference_folder = f'{pretrained_folder}/trade_{GAMMA_TRADE}_risk_{GAMMA_RISK}'\n",
    "            #else:\n",
    "            preference_folder = f'{seed_folder}/trade_{GAMMA_TRADE}_risk_{GAMMA_RISK}_hold_{GAMMA_HOLD}'\n",
    "            models_folder = f'{preference_folder}/models' # where saved models will be saved\n",
    "            losses_folder = f'{preference_folder}/losses' # where losses will be saved for plotting training progress\n",
    "            fig_folder = f'{preference_folder}/figures'\n",
    "\n",
    "            # create dirictories for saving outputs to (if they don't exist already)\n",
    "            #maybe_make_dir(nb_assets_folder)\n",
    "            maybe_make_dir(seed_folder)\n",
    "            maybe_make_dir(preference_folder)\n",
    "            maybe_make_dir(models_folder)\n",
    "            maybe_make_dir(losses_folder)\n",
    "            maybe_make_dir(fig_folder)\n",
    "\n",
    "            if MODE == 'train':\n",
    "                # play the game num_episodes times and update weights according to loss\n",
    "                losses = []\n",
    "                for e in range(NB_EPISODES):\n",
    "\n",
    "                    # save model weights every few episodes\n",
    "                    if (e%SAVE_EVERY == 0) and (e!=0):\n",
    "                        agent.save(f'{models_folder}/{model_name}_{e}')\n",
    "                        # save losses of training period\n",
    "                        np.save(f'{losses_folder}/{model_name}_{MODE}_{e}_losses.npy', np.array(losses))\n",
    "\n",
    "                    t0 = datetime.datetime.now()\n",
    "                    try:\n",
    "                        loss = play_one_episode(agent, env, MODE)\n",
    "                    except Exception as err:\n",
    "                        print(f'\\t*** error in episode {e}:', err)\n",
    "                        loss = np.nan#5.0 # just an arbitraty number that seems high compared to usual losses\n",
    "                    dt = datetime.datetime.now() - t0\n",
    "                    losses.append(loss) # append episode loss\n",
    "                    # print progress\n",
    "                    if (e%10 == 0):\n",
    "                        print(f\"episode: {e + 1}/{NB_EPISODES}, loss: {loss:.4f}, duration: {dt}\")\n",
    "\n",
    "\n",
    "                # save the weights and losses when done\t\n",
    "                agent.save(f'{models_folder}/{model_name}_{NB_EPISODES}')\n",
    "                np.save(f'{losses_folder}/{model_name}_{MODE}_{NB_EPISODES}_losses.npy', np.array(losses))\n",
    "\n",
    "            # plot losses\n",
    "            save_fig = True\n",
    "\n",
    "            # load losses file\n",
    "            file = f'{losses_folder}/{model_name}_{MODE}_{NB_EPISODES}_losses.npy'\n",
    "            loaded_losses = np.load(file)\n",
    "\n",
    "            # plot losses\n",
    "            plt.figure(figsize=(14,5))\n",
    "            plt.plot(loaded_losses)\n",
    "            plt.title(f'{model_name} Training Loss')\n",
    "            plt.xlabel('Episode Number')\n",
    "            plt.ylabel(r'Loss: $-G \\approx -\\mathbb{E}\\left[ \\sum_{k=0}^{T} \\gamma^k R_t \\right]$')\n",
    "            #plt.yscale('symlog')\n",
    "            if save_fig:\n",
    "                plt.savefig(f'{fig_folder}/{model_name}_losses.png', dpi=150, facecolor=None, edgecolor=None, bbox_inches='tight')\n",
    "            plt.clf()\n",
    "\n",
    "        else:\n",
    "            print(f'\\talready exists: trade_{GAMMA_TRADE}_risk_{GAMMA_RISK}_hold_{GAMMA_HOLD}')\n",
    "            print('\\tskip to next.')"
   ]
  },
  {
   "cell_type": "code",
   "execution_count": 8,
   "id": "c3d3242d",
   "metadata": {
    "execution": {
     "iopub.execute_input": "2022-06-26T16:46:17.342947Z",
     "iopub.status.busy": "2022-06-26T16:46:17.342567Z",
     "iopub.status.idle": "2022-06-26T16:46:17.348332Z",
     "shell.execute_reply": "2022-06-26T16:46:17.346482Z"
    },
    "papermill": {
     "duration": 0.031642,
     "end_time": "2022-06-26T16:46:17.351615",
     "exception": false,
     "start_time": "2022-06-26T16:46:17.319973",
     "status": "completed"
    },
    "tags": []
   },
   "outputs": [],
   "source": [
    "# double check the end of training\n",
    "#env.until"
   ]
  },
  {
   "cell_type": "code",
   "execution_count": 9,
   "id": "21b57441",
   "metadata": {
    "execution": {
     "iopub.execute_input": "2022-06-26T16:46:17.396302Z",
     "iopub.status.busy": "2022-06-26T16:46:17.395656Z",
     "iopub.status.idle": "2022-06-26T16:46:17.404916Z",
     "shell.execute_reply": "2022-06-26T16:46:17.403090Z"
    },
    "papermill": {
     "duration": 0.035522,
     "end_time": "2022-06-26T16:46:17.408296",
     "exception": false,
     "start_time": "2022-06-26T16:46:17.372774",
     "status": "completed"
    },
    "tags": []
   },
   "outputs": [
    {
     "name": "stdout",
     "output_type": "stream",
     "text": [
      "training done.\n"
     ]
    }
   ],
   "source": [
    "print('training done.')"
   ]
  },
  {
   "cell_type": "code",
   "execution_count": 10,
   "id": "330ed208",
   "metadata": {
    "execution": {
     "iopub.execute_input": "2022-06-26T16:46:17.453628Z",
     "iopub.status.busy": "2022-06-26T16:46:17.452953Z",
     "iopub.status.idle": "2022-06-26T16:46:17.459495Z",
     "shell.execute_reply": "2022-06-26T16:46:17.457662Z"
    },
    "papermill": {
     "duration": 0.03304,
     "end_time": "2022-06-26T16:46:17.462816",
     "exception": false,
     "start_time": "2022-06-26T16:46:17.429776",
     "status": "completed"
    },
    "tags": []
   },
   "outputs": [],
   "source": [
    "### Now repeat this for the different RL models.\n",
    "### remember to update the gamma-pairs, model base name, and model specs/setup in beginning of notebook!"
   ]
  }
 ],
 "metadata": {
  "interpreter": {
   "hash": "949777d72b0d2535278d3dc13498b2535136f6dfe0678499012e853ee9abcab1"
  },
  "kernelspec": {
   "display_name": "Python 3",
   "language": "python",
   "name": "python3"
  },
  "language_info": {
   "codemirror_mode": {
    "name": "ipython",
    "version": 3
   },
   "file_extension": ".py",
   "mimetype": "text/x-python",
   "name": "python",
   "nbconvert_exporter": "python",
   "pygments_lexer": "ipython3",
   "version": "3.7.6"
  },
  "papermill": {
   "default_parameters": {},
   "duration": 1491.613226,
   "end_time": "2022-06-26T16:46:18.202781",
   "environment_variables": {},
   "exception": null,
   "input_path": "train_template.ipynb",
   "output_path": "slave_notebooks/RL_CNN_LA_40_risks_10000_seeds_0.ipynb",
   "parameters": {
    "FROM": "2010-03-01",
    "GAMMA_HOLDS": [
     0.1,
     1,
     10,
     100,
     1000,
     10000
    ],
    "GAMMA_RISKS": [
     10000
    ],
    "GAMMA_TRADES": [
     1,
     7,
     8,
     9,
     10,
     11,
     12,
     50,
     100
    ],
    "MARKET_NAME": "LA_40",
    "MODEL_BASE_NAME": "RL_CNN",
    "NB_EPISODES": 200,
    "SAVE_EVERY": 200,
    "SEED_LIST": [
     0
    ],
    "TICKERS": [
     "VALE",
     "ITUB",
     "PBR-A",
     "BBD",
     "PBR",
     "AMXL.MX",
     "WALMEX.MX",
     "FEMSAUBD.MX",
     "GFNORTEO.MX",
     "WEGE3.SA",
     "BBAS3.SA",
     "BAP",
     "CEMEXCPO.MX",
     "SQM",
     "SCCO",
     "GGB",
     "CHILE.SN",
     "ENIA",
     "CIB",
     "TLEVISACPO.MX",
     "EC",
     "BRFS",
     "BSAC",
     "CCRO3.SA"
    ],
    "UNTIL": "2014-12-01"
   },
   "start_time": "2022-06-26T16:21:26.589555",
   "version": "2.3.3"
  }
 },
 "nbformat": 4,
 "nbformat_minor": 5
}