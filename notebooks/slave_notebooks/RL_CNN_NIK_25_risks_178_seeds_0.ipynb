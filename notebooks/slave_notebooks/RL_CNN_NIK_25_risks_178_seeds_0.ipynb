{
 "cells": [
  {
   "cell_type": "code",
   "execution_count": 1,
   "id": "fcb2376f",
   "metadata": {
    "execution": {
     "iopub.execute_input": "2022-06-26T16:21:29.015608Z",
     "iopub.status.busy": "2022-06-26T16:21:29.014988Z",
     "iopub.status.idle": "2022-06-26T16:21:32.096034Z",
     "shell.execute_reply": "2022-06-26T16:21:32.093855Z"
    },
    "papermill": {
     "duration": 3.12372,
     "end_time": "2022-06-26T16:21:32.100138",
     "exception": false,
     "start_time": "2022-06-26T16:21:28.976418",
     "status": "completed"
    },
    "tags": []
   },
   "outputs": [
    {
     "name": "stdout",
     "output_type": "stream",
     "text": [
      "CPU times: user 3.29 s, sys: 1.97 s, total: 5.27 s\n",
      "Wall time: 3.06 s\n"
     ]
    }
   ],
   "source": [
    "%%time\n",
    "import numpy as np\n",
    "import pandas as pd\n",
    "import matplotlib.pyplot as plt\n",
    "import datetime\n",
    "import os\n",
    "from src.models.frontier import MultiStockEnv, Agent, play_one_episode, maybe_make_dir\n",
    "from src.config import market_tickers\n",
    "from src.config.model_config import model_parameters\n",
    "import tensorflow as tf"
   ]
  },
  {
   "cell_type": "code",
   "execution_count": 2,
   "id": "704d7ee0",
   "metadata": {
    "execution": {
     "iopub.execute_input": "2022-06-26T16:21:32.118336Z",
     "iopub.status.busy": "2022-06-26T16:21:32.117529Z",
     "iopub.status.idle": "2022-06-26T16:21:32.139049Z",
     "shell.execute_reply": "2022-06-26T16:21:32.137153Z"
    },
    "papermill": {
     "duration": 0.03531,
     "end_time": "2022-06-26T16:21:32.143342",
     "exception": false,
     "start_time": "2022-06-26T16:21:32.108032",
     "status": "completed"
    },
    "tags": []
   },
   "outputs": [
    {
     "data": {
      "text/plain": [
       "{'RL_CNN': {'use_forecasts': False,\n",
       "  'nb_forecasts': None,\n",
       "  'forecast_type': 'strong',\n",
       "  'use_cnn_state': True},\n",
       " 'RL_str_fcast': {'use_forecasts': True,\n",
       "  'nb_forecasts': 2,\n",
       "  'forecast_type': 'strong',\n",
       "  'use_cnn_state': False},\n",
       " 'RL_all_inp': {'use_forecasts': True,\n",
       "  'nb_forecasts': 2,\n",
       "  'forecast_type': 'strong',\n",
       "  'use_cnn_state': True}}"
      ]
     },
     "execution_count": 2,
     "metadata": {},
     "output_type": "execute_result"
    }
   ],
   "source": [
    "from src.config.model_config import model_parameters\n",
    "model_parameters"
   ]
  },
  {
   "cell_type": "code",
   "execution_count": 3,
   "id": "df88d8a3",
   "metadata": {
    "execution": {
     "iopub.execute_input": "2022-06-26T16:21:32.175651Z",
     "iopub.status.busy": "2022-06-26T16:21:32.175068Z",
     "iopub.status.idle": "2022-06-26T16:21:32.188601Z",
     "shell.execute_reply": "2022-06-26T16:21:32.186791Z"
    },
    "papermill": {
     "duration": 0.04514,
     "end_time": "2022-06-26T16:21:32.195330",
     "exception": false,
     "start_time": "2022-06-26T16:21:32.150190",
     "status": "completed"
    },
    "tags": [
     "parameters"
    ]
   },
   "outputs": [],
   "source": [
    "# papermill parameters\n",
    "SEED_LIST = [\n",
    "             0,\n",
    "             #1111,\n",
    "             #2222, \n",
    "             #3333, \n",
    "             #4444, \n",
    "             #5555,\n",
    "             #6666,\n",
    "             #7777,\n",
    "             #8888,\n",
    "             #9999\n",
    "            ]\n",
    "\n",
    "#TICKERS = market_tickers.DOW_30_TICKER\n",
    "TICKERS = ['AAPL', 'AMD', 'CSCO', 'F', 'INTC']\n",
    "MARKET_NAME = 'TEST_5'\n",
    "MODEL_BASE_NAME = 'RL_CNN' # use either | 'RL_CNN' | 'RL_str_fcast' | 'RL_all_inp' |\n",
    "FROM = '2017-01-03' # start of training set\n",
    "UNTIL = '2019-01-01' # end of training set\n",
    "NB_EPISODES = 200 # number of episodes to train for\n",
    "SAVE_EVERY = 200 # (used 100 when not from tretrained) save model weights every time this amount of episodes pass\n",
    "\n",
    "# investor preferences\n",
    "GAMMA_TRADES = [0.1, 1, 10, 100]\n",
    "GAMMA_RISKS = [0.1, 1, 10, 100, 1000]\n",
    "GAMMA_HOLDS = [0.1, 1]"
   ]
  },
  {
   "cell_type": "code",
   "execution_count": 4,
   "id": "b4b6051d",
   "metadata": {
    "execution": {
     "iopub.execute_input": "2022-06-26T16:21:32.229043Z",
     "iopub.status.busy": "2022-06-26T16:21:32.228436Z",
     "iopub.status.idle": "2022-06-26T16:21:32.248356Z",
     "shell.execute_reply": "2022-06-26T16:21:32.246502Z"
    },
    "papermill": {
     "duration": 0.035092,
     "end_time": "2022-06-26T16:21:32.252341",
     "exception": false,
     "start_time": "2022-06-26T16:21:32.217249",
     "status": "completed"
    },
    "tags": [
     "injected-parameters"
    ]
   },
   "outputs": [],
   "source": [
    "# Parameters\n",
    "SEED_LIST = [0]\n",
    "TICKERS = [\n",
    "    \"9983.T\",\n",
    "    \"8035.T\",\n",
    "    \"9984.T\",\n",
    "    \"6954.T\",\n",
    "    \"6367.T\",\n",
    "    \"9433.T\",\n",
    "    \"4543.T\",\n",
    "    \"6857.T\",\n",
    "    \"2413.T\",\n",
    "    \"4063.T\",\n",
    "    \"6971.T\",\n",
    "    \"6758.T\",\n",
    "    \"4519.T\",\n",
    "    \"6762.T\",\n",
    "    \"6645.T\",\n",
    "    \"9613.T\",\n",
    "    \"7203.T\",\n",
    "    \"7733.T\",\n",
    "    \"4901.T\",\n",
    "    \"4503.T\",\n",
    "    \"2801.T\",\n",
    "    \"4568.T\",\n",
    "    \"7832.T\",\n",
    "    \"4523.T\",\n",
    "]\n",
    "MARKET_NAME = \"NIK_25\"\n",
    "MODEL_BASE_NAME = \"RL_CNN\"\n",
    "FROM = \"2013-05-01\"\n",
    "UNTIL = \"2018-01-01\"\n",
    "NB_EPISODES = 200\n",
    "SAVE_EVERY = 200\n",
    "GAMMA_TRADES = [1, 7, 8, 9, 10, 11, 12, 50, 100]\n",
    "GAMMA_RISKS = [178]\n",
    "GAMMA_HOLDS = [0.1, 1, 10, 100, 1000, 10000]\n"
   ]
  },
  {
   "cell_type": "code",
   "execution_count": 5,
   "id": "382ee3fc",
   "metadata": {
    "execution": {
     "iopub.execute_input": "2022-06-26T16:21:32.296236Z",
     "iopub.status.busy": "2022-06-26T16:21:32.295675Z",
     "iopub.status.idle": "2022-06-26T16:21:32.307136Z",
     "shell.execute_reply": "2022-06-26T16:21:32.305503Z"
    },
    "papermill": {
     "duration": 0.045216,
     "end_time": "2022-06-26T16:21:32.312179",
     "exception": false,
     "start_time": "2022-06-26T16:21:32.266963",
     "status": "completed"
    },
    "tags": []
   },
   "outputs": [
    {
     "name": "stdout",
     "output_type": "stream",
     "text": [
      "number of trios:  54\n"
     ]
    }
   ],
   "source": [
    "#------ small test-sweep ------#\n",
    "# GAMMA_TRADES = [0.1, 1, 10, 100]\n",
    "# GAMMA_RISKS = [0.1, 1, 10, 100, 1000]\n",
    "# GAMMA_HOLDS = [0.1, 1]\n",
    "#------ extended-boyd-sweep ------#\n",
    "# GAMMA_TRADES =  [0.1, 0.5, 1, 2, 3, 4, 5, 5.5, 6, 6.5, 7, 7.5, 8, 9, 10, 11, 12, 15, 20, 30, 45, 60, 100, 200]\n",
    "# GAMMA_RISKS = [0.1, 0.178, 0.316, 0.562, 1, 2, 3, 6, 10, 18, 32, 56, 100, 178, 316, 562, 1000, 2000, 5000, 10000, 20000]\n",
    "#---------------------------------#\n",
    "\n",
    "GAMMA_TRIOS = []\n",
    "for tr in GAMMA_TRADES:\n",
    "    for ri in GAMMA_RISKS:\n",
    "        for hd in GAMMA_HOLDS:\n",
    "            GAMMA_TRIOS.append((tr, ri, hd))\n",
    "        \n",
    "#format: (gamma_trade, gamma_risk, gamma_hold)\n",
    "print('number of trios: ', len(GAMMA_TRIOS))\n",
    "#GAMMA_TRIOS"
   ]
  },
  {
   "cell_type": "code",
   "execution_count": 6,
   "id": "1de63790",
   "metadata": {
    "execution": {
     "iopub.execute_input": "2022-06-26T16:21:32.377878Z",
     "iopub.status.busy": "2022-06-26T16:21:32.377280Z",
     "iopub.status.idle": "2022-06-26T16:21:32.391437Z",
     "shell.execute_reply": "2022-06-26T16:21:32.389710Z"
    },
    "papermill": {
     "duration": 0.068052,
     "end_time": "2022-06-26T16:21:32.396898",
     "exception": false,
     "start_time": "2022-06-26T16:21:32.328846",
     "status": "completed"
    },
    "tags": []
   },
   "outputs": [],
   "source": [
    "# other constants and parameters\n",
    "TICKERS.sort()\n",
    "FILE_PERIOD = '1d' # weekly='5d', daily='1d'\n",
    "DAYS_IN_EPISODE = 30 # 365 for one-year long episodes (conditions checked at end of episode)\n",
    "EPISODE_DRAW_DISTRIBUTION = 'uniform' # 'uniform' or 'geometric'. select starting point of eposide according to this distribution when generated\n",
    "HALF_SPREAD = 0.0005/2.0 # 'a' in transaction cost function\n",
    "NONLIN_COEFF = 1.0 # 'b' transaction cost function\n",
    "POWER = 1.5 # power for change in poertfolio vector used in transaction cost\n",
    "#GAMMA_RISK, GAMMA_TRADE, GAMMA_HOLD = 18, 6.5, 0.0 # relative importance of risk, trading cost, and holding cost\n",
    "INIT_PORTFOLIO = 100000000.0 # initial portfolio value\n",
    "#model_name = f'REINFORCE_CNN' #_seeded_{UNTIL} # give model a name to distinguish saved files\n",
    "#NB_EPISODES = 300 #2000\n",
    "MODE = 'train' # train or test mode\n",
    "#FROM_PRETRAINED = False\n",
    "DATA_DIR = f'../data/{MARKET_NAME}/preprocessed_data/'\n",
    "\n",
    "# Tune and double-check these before every test:\n",
    "USE_FORECASTS = model_parameters[MODEL_BASE_NAME]['use_forecasts'] # whether to use forecasts as inputs to agent policy net or not\n",
    "NB_FORECASTS = model_parameters[MODEL_BASE_NAME]['nb_forecasts'] # number of forecasts to use in state. Set to None for no forecasts\n",
    "FORECAST_TYPE = model_parameters[MODEL_BASE_NAME]['forecast_type'] # use 'strong' or 'weak' forecasts (if no forecasts given, this does not matter)\n",
    "USE_CNN_STATE = model_parameters[MODEL_BASE_NAME]['use_cnn_state'] # whether to pass log-rets block for CNN part of policy net (set to false for forecast only)"
   ]
  },
  {
   "cell_type": "code",
   "execution_count": 7,
   "id": "9e9d60b3",
   "metadata": {
    "execution": {
     "iopub.execute_input": "2022-06-26T16:21:32.415671Z",
     "iopub.status.busy": "2022-06-26T16:21:32.415089Z",
     "iopub.status.idle": "2022-06-26T16:46:40.166222Z",
     "shell.execute_reply": "2022-06-26T16:46:40.164717Z"
    },
    "papermill": {
     "duration": 1507.766027,
     "end_time": "2022-06-26T16:46:40.171000",
     "exception": false,
     "start_time": "2022-06-26T16:21:32.404973",
     "status": "completed"
    },
    "scrolled": true,
    "tags": []
   },
   "outputs": [
    {
     "name": "stdout",
     "output_type": "stream",
     "text": [
      "\talready exists: trade_1_risk_178_hold_0.1\n",
      "\tskip to next.\n",
      "\talready exists: trade_1_risk_178_hold_1\n",
      "\tskip to next.\n",
      "\talready exists: trade_1_risk_178_hold_10\n",
      "\tskip to next.\n",
      "\talready exists: trade_1_risk_178_hold_100\n",
      "\tskip to next.\n",
      "\talready exists: trade_1_risk_178_hold_1000\n",
      "\tskip to next.\n",
      "\talready exists: trade_1_risk_178_hold_10000\n",
      "\tskip to next.\n",
      "\talready exists: trade_7_risk_178_hold_0.1\n",
      "\tskip to next.\n",
      "\talready exists: trade_7_risk_178_hold_1\n",
      "\tskip to next.\n",
      "\talready exists: trade_7_risk_178_hold_10\n",
      "\tskip to next.\n",
      "\talready exists: trade_7_risk_178_hold_100\n",
      "\tskip to next.\n",
      "\talready exists: trade_7_risk_178_hold_1000\n",
      "\tskip to next.\n",
      "\talready exists: trade_7_risk_178_hold_10000\n",
      "\tskip to next.\n",
      "\talready exists: trade_8_risk_178_hold_0.1\n",
      "\tskip to next.\n",
      "\talready exists: trade_8_risk_178_hold_1\n",
      "\tskip to next.\n",
      "\talready exists: trade_8_risk_178_hold_10\n",
      "\tskip to next.\n",
      "\talready exists: trade_8_risk_178_hold_100\n",
      "\tskip to next.\n",
      "\talready exists: trade_8_risk_178_hold_1000\n",
      "\tskip to next.\n",
      "\talready exists: trade_8_risk_178_hold_10000\n",
      "\tskip to next.\n",
      "\talready exists: trade_9_risk_178_hold_0.1\n",
      "\tskip to next.\n",
      "\talready exists: trade_9_risk_178_hold_1\n",
      "\tskip to next.\n",
      "\talready exists: trade_9_risk_178_hold_10\n",
      "\tskip to next.\n",
      "\talready exists: trade_9_risk_178_hold_100\n",
      "\tskip to next.\n",
      "\talready exists: trade_9_risk_178_hold_1000\n",
      "\tskip to next.\n",
      "\talready exists: trade_9_risk_178_hold_10000\n",
      "\tskip to next.\n",
      "\talready exists: trade_10_risk_178_hold_0.1\n",
      "\tskip to next.\n",
      "\talready exists: trade_10_risk_178_hold_1\n",
      "\tskip to next.\n",
      "\talready exists: trade_10_risk_178_hold_10\n",
      "\tskip to next.\n",
      "\talready exists: trade_10_risk_178_hold_100\n",
      "\tskip to next.\n",
      "\talready exists: trade_10_risk_178_hold_1000\n",
      "\tskip to next.\n",
      "\talready exists: trade_10_risk_178_hold_10000\n",
      "\tskip to next.\n",
      "\talready exists: trade_11_risk_178_hold_0.1\n",
      "\tskip to next.\n",
      "\talready exists: trade_11_risk_178_hold_1\n",
      "\tskip to next.\n",
      "\talready exists: trade_11_risk_178_hold_10\n",
      "\tskip to next.\n",
      "\talready exists: trade_11_risk_178_hold_100\n",
      "\tskip to next.\n",
      "\talready exists: trade_11_risk_178_hold_1000\n",
      "\tskip to next.\n",
      "\talready exists: trade_11_risk_178_hold_10000\n",
      "\tskip to next.\n",
      "\talready exists: trade_12_risk_178_hold_0.1\n",
      "\tskip to next.\n",
      "\talready exists: trade_12_risk_178_hold_1\n",
      "\tskip to next.\n",
      "\talready exists: trade_12_risk_178_hold_10\n",
      "\tskip to next.\n",
      "\talready exists: trade_12_risk_178_hold_100\n",
      "\tskip to next.\n",
      "\talready exists: trade_12_risk_178_hold_1000\n",
      "\tskip to next.\n",
      "\talready exists: trade_12_risk_178_hold_10000\n",
      "\tskip to next.\n",
      "\talready exists: trade_50_risk_178_hold_0.1\n",
      "\tskip to next.\n",
      "\talready exists: trade_50_risk_178_hold_1\n",
      "\tskip to next.\n",
      "\talready exists: trade_50_risk_178_hold_10\n",
      "\tskip to next.\n",
      "\talready exists: trade_50_risk_178_hold_100\n",
      "\tskip to next.\n",
      "\talready exists: trade_50_risk_178_hold_1000\n",
      "\tskip to next.\n",
      "\talready exists: trade_50_risk_178_hold_10000\n",
      "\tskip to next.\n",
      "#############################################################################\n",
      "##\t[49/54]\tmodel=RL_CNN,\tSEED=0,\ttrade=100,\trisk=178\thold=0.1\t##\n",
      "#############################################################################\n"
     ]
    },
    {
     "name": "stdout",
     "output_type": "stream",
     "text": [
      "episode: 1/200, loss: 0.4184, duration: 0:00:01.201065\n"
     ]
    },
    {
     "name": "stdout",
     "output_type": "stream",
     "text": [
      "episode: 11/200, loss: 0.4792, duration: 0:00:01.828514\n"
     ]
    },
    {
     "name": "stdout",
     "output_type": "stream",
     "text": [
      "episode: 21/200, loss: 0.1290, duration: 0:00:01.236971\n"
     ]
    },
    {
     "name": "stdout",
     "output_type": "stream",
     "text": [
      "episode: 31/200, loss: 0.0740, duration: 0:00:01.138590\n"
     ]
    },
    {
     "name": "stdout",
     "output_type": "stream",
     "text": [
      "episode: 41/200, loss: 0.1939, duration: 0:00:01.249161\n"
     ]
    },
    {
     "name": "stdout",
     "output_type": "stream",
     "text": [
      "episode: 51/200, loss: 1.3215, duration: 0:00:01.102843\n"
     ]
    },
    {
     "name": "stdout",
     "output_type": "stream",
     "text": [
      "episode: 61/200, loss: 0.5334, duration: 0:00:01.242857\n"
     ]
    },
    {
     "name": "stdout",
     "output_type": "stream",
     "text": [
      "episode: 71/200, loss: 0.4186, duration: 0:00:01.112679\n"
     ]
    },
    {
     "name": "stdout",
     "output_type": "stream",
     "text": [
      "episode: 81/200, loss: 0.4941, duration: 0:00:01.295698\n"
     ]
    },
    {
     "name": "stdout",
     "output_type": "stream",
     "text": [
      "episode: 91/200, loss: 0.1721, duration: 0:00:01.154919\n"
     ]
    },
    {
     "name": "stdout",
     "output_type": "stream",
     "text": [
      "episode: 101/200, loss: 0.0983, duration: 0:00:01.183669\n"
     ]
    },
    {
     "name": "stdout",
     "output_type": "stream",
     "text": [
      "episode: 111/200, loss: 1.5046, duration: 0:00:01.627796\n"
     ]
    },
    {
     "name": "stdout",
     "output_type": "stream",
     "text": [
      "episode: 121/200, loss: 0.2550, duration: 0:00:01.317239\n"
     ]
    },
    {
     "name": "stdout",
     "output_type": "stream",
     "text": [
      "episode: 131/200, loss: 0.3809, duration: 0:00:01.266996\n"
     ]
    },
    {
     "name": "stdout",
     "output_type": "stream",
     "text": [
      "episode: 141/200, loss: 0.1557, duration: 0:00:01.229826\n"
     ]
    },
    {
     "name": "stdout",
     "output_type": "stream",
     "text": [
      "episode: 151/200, loss: 0.2181, duration: 0:00:01.441921\n"
     ]
    },
    {
     "name": "stdout",
     "output_type": "stream",
     "text": [
      "episode: 161/200, loss: 1.0460, duration: 0:00:01.103643\n"
     ]
    },
    {
     "name": "stdout",
     "output_type": "stream",
     "text": [
      "episode: 171/200, loss: 0.3996, duration: 0:00:01.236127\n"
     ]
    },
    {
     "name": "stdout",
     "output_type": "stream",
     "text": [
      "episode: 181/200, loss: 0.1895, duration: 0:00:01.189017\n"
     ]
    },
    {
     "name": "stdout",
     "output_type": "stream",
     "text": [
      "episode: 191/200, loss: 0.1387, duration: 0:00:01.172531\n"
     ]
    },
    {
     "name": "stdout",
     "output_type": "stream",
     "text": [
      "#############################################################################\n",
      "##\t[50/54]\tmodel=RL_CNN,\tSEED=0,\ttrade=100,\trisk=178\thold=1\t##\n",
      "#############################################################################\n"
     ]
    },
    {
     "name": "stdout",
     "output_type": "stream",
     "text": [
      "episode: 1/200, loss: 0.4191, duration: 0:00:01.181610\n"
     ]
    },
    {
     "name": "stdout",
     "output_type": "stream",
     "text": [
      "episode: 11/200, loss: 0.4791, duration: 0:00:01.297756\n"
     ]
    },
    {
     "name": "stdout",
     "output_type": "stream",
     "text": [
      "episode: 21/200, loss: 0.1290, duration: 0:00:01.432483\n"
     ]
    },
    {
     "name": "stdout",
     "output_type": "stream",
     "text": [
      "episode: 31/200, loss: 0.0740, duration: 0:00:01.117291\n"
     ]
    },
    {
     "name": "stdout",
     "output_type": "stream",
     "text": [
      "episode: 41/200, loss: 0.1936, duration: 0:00:01.152967\n"
     ]
    },
    {
     "name": "stdout",
     "output_type": "stream",
     "text": [
      "episode: 51/200, loss: 1.3214, duration: 0:00:01.297722\n"
     ]
    },
    {
     "name": "stdout",
     "output_type": "stream",
     "text": [
      "episode: 61/200, loss: 0.5355, duration: 0:00:01.283782\n"
     ]
    },
    {
     "name": "stdout",
     "output_type": "stream",
     "text": [
      "episode: 71/200, loss: 0.4205, duration: 0:00:01.600043\n"
     ]
    },
    {
     "name": "stdout",
     "output_type": "stream",
     "text": [
      "episode: 81/200, loss: 0.4940, duration: 0:00:01.583328\n"
     ]
    },
    {
     "name": "stdout",
     "output_type": "stream",
     "text": [
      "episode: 91/200, loss: 0.1734, duration: 0:00:01.334433\n"
     ]
    },
    {
     "name": "stdout",
     "output_type": "stream",
     "text": [
      "episode: 101/200, loss: 0.0933, duration: 0:00:01.284424\n"
     ]
    },
    {
     "name": "stdout",
     "output_type": "stream",
     "text": [
      "episode: 111/200, loss: 1.4998, duration: 0:00:01.401410\n"
     ]
    },
    {
     "name": "stdout",
     "output_type": "stream",
     "text": [
      "episode: 121/200, loss: 0.2549, duration: 0:00:01.212233\n"
     ]
    },
    {
     "name": "stdout",
     "output_type": "stream",
     "text": [
      "episode: 131/200, loss: 0.3751, duration: 0:00:01.154434\n"
     ]
    },
    {
     "name": "stdout",
     "output_type": "stream",
     "text": [
      "episode: 141/200, loss: 0.1546, duration: 0:00:01.157033\n"
     ]
    },
    {
     "name": "stdout",
     "output_type": "stream",
     "text": [
      "episode: 151/200, loss: 0.2157, duration: 0:00:01.129184\n"
     ]
    },
    {
     "name": "stdout",
     "output_type": "stream",
     "text": [
      "episode: 161/200, loss: 1.0852, duration: 0:00:01.215411\n"
     ]
    },
    {
     "name": "stdout",
     "output_type": "stream",
     "text": [
      "episode: 171/200, loss: 0.4265, duration: 0:00:01.183926\n"
     ]
    },
    {
     "name": "stdout",
     "output_type": "stream",
     "text": [
      "episode: 181/200, loss: 0.2287, duration: 0:00:01.427138\n"
     ]
    },
    {
     "name": "stdout",
     "output_type": "stream",
     "text": [
      "episode: 191/200, loss: 0.1404, duration: 0:00:01.127477\n"
     ]
    },
    {
     "name": "stdout",
     "output_type": "stream",
     "text": [
      "#############################################################################\n",
      "##\t[51/54]\tmodel=RL_CNN,\tSEED=0,\ttrade=100,\trisk=178\thold=10\t##\n",
      "#############################################################################\n"
     ]
    },
    {
     "name": "stdout",
     "output_type": "stream",
     "text": [
      "episode: 1/200, loss: 0.4259, duration: 0:00:01.688643\n"
     ]
    },
    {
     "name": "stdout",
     "output_type": "stream",
     "text": [
      "episode: 11/200, loss: 0.4771, duration: 0:00:01.152225\n"
     ]
    },
    {
     "name": "stdout",
     "output_type": "stream",
     "text": [
      "episode: 21/200, loss: 0.1287, duration: 0:00:01.143154\n"
     ]
    },
    {
     "name": "stdout",
     "output_type": "stream",
     "text": [
      "episode: 31/200, loss: 0.0743, duration: 0:00:01.305553\n"
     ]
    },
    {
     "name": "stdout",
     "output_type": "stream",
     "text": [
      "episode: 41/200, loss: 0.1922, duration: 0:00:01.128591\n"
     ]
    },
    {
     "name": "stdout",
     "output_type": "stream",
     "text": [
      "episode: 51/200, loss: 1.3137, duration: 0:00:01.343136\n"
     ]
    },
    {
     "name": "stdout",
     "output_type": "stream",
     "text": [
      "episode: 61/200, loss: 0.5585, duration: 0:00:01.506448\n"
     ]
    },
    {
     "name": "stdout",
     "output_type": "stream",
     "text": [
      "episode: 71/200, loss: 0.4165, duration: 0:00:01.369409\n"
     ]
    },
    {
     "name": "stdout",
     "output_type": "stream",
     "text": [
      "episode: 81/200, loss: 0.4940, duration: 0:00:01.119565\n"
     ]
    },
    {
     "name": "stdout",
     "output_type": "stream",
     "text": [
      "episode: 91/200, loss: 0.1825, duration: 0:00:01.162014\n"
     ]
    },
    {
     "name": "stdout",
     "output_type": "stream",
     "text": [
      "episode: 101/200, loss: 0.0932, duration: 0:00:01.182190\n"
     ]
    },
    {
     "name": "stdout",
     "output_type": "stream",
     "text": [
      "episode: 111/200, loss: 1.5087, duration: 0:00:01.341676\n"
     ]
    },
    {
     "name": "stdout",
     "output_type": "stream",
     "text": [
      "episode: 121/200, loss: 0.2419, duration: 0:00:01.185061\n"
     ]
    },
    {
     "name": "stdout",
     "output_type": "stream",
     "text": [
      "episode: 131/200, loss: 0.3901, duration: 0:00:01.153680\n"
     ]
    },
    {
     "name": "stdout",
     "output_type": "stream",
     "text": [
      "episode: 141/200, loss: 0.1413, duration: 0:00:01.147844\n"
     ]
    },
    {
     "name": "stdout",
     "output_type": "stream",
     "text": [
      "episode: 151/200, loss: 0.2151, duration: 0:00:01.156063\n"
     ]
    },
    {
     "name": "stdout",
     "output_type": "stream",
     "text": [
      "episode: 161/200, loss: 0.7266, duration: 0:00:01.147466\n"
     ]
    },
    {
     "name": "stdout",
     "output_type": "stream",
     "text": [
      "episode: 171/200, loss: 0.3169, duration: 0:00:01.240025\n"
     ]
    },
    {
     "name": "stdout",
     "output_type": "stream",
     "text": [
      "episode: 181/200, loss: 0.2092, duration: 0:00:01.407336\n"
     ]
    },
    {
     "name": "stdout",
     "output_type": "stream",
     "text": [
      "episode: 191/200, loss: 0.1544, duration: 0:00:01.255461\n"
     ]
    },
    {
     "name": "stdout",
     "output_type": "stream",
     "text": [
      "#############################################################################\n",
      "##\t[52/54]\tmodel=RL_CNN,\tSEED=0,\ttrade=100,\trisk=178\thold=100\t##\n",
      "#############################################################################\n"
     ]
    },
    {
     "name": "stdout",
     "output_type": "stream",
     "text": [
      "episode: 1/200, loss: 0.4947, duration: 0:00:01.222254\n"
     ]
    },
    {
     "name": "stdout",
     "output_type": "stream",
     "text": [
      "episode: 11/200, loss: 0.4534, duration: 0:00:01.179513\n"
     ]
    },
    {
     "name": "stdout",
     "output_type": "stream",
     "text": [
      "episode: 21/200, loss: 0.1357, duration: 0:00:01.155867\n"
     ]
    },
    {
     "name": "stdout",
     "output_type": "stream",
     "text": [
      "episode: 31/200, loss: 0.0682, duration: 0:00:01.456278\n"
     ]
    },
    {
     "name": "stdout",
     "output_type": "stream",
     "text": [
      "episode: 41/200, loss: 0.1870, duration: 0:00:01.555502\n"
     ]
    },
    {
     "name": "stdout",
     "output_type": "stream",
     "text": [
      "episode: 51/200, loss: 1.2612, duration: 0:00:01.313013\n"
     ]
    },
    {
     "name": "stdout",
     "output_type": "stream",
     "text": [
      "episode: 61/200, loss: 0.5995, duration: 0:00:01.168276\n"
     ]
    },
    {
     "name": "stdout",
     "output_type": "stream",
     "text": [
      "episode: 71/200, loss: 0.4263, duration: 0:00:01.476237\n"
     ]
    },
    {
     "name": "stdout",
     "output_type": "stream",
     "text": [
      "episode: 81/200, loss: 0.5044, duration: 0:00:01.155077\n"
     ]
    },
    {
     "name": "stdout",
     "output_type": "stream",
     "text": [
      "episode: 91/200, loss: 0.1730, duration: 0:00:01.169857\n"
     ]
    },
    {
     "name": "stdout",
     "output_type": "stream",
     "text": [
      "episode: 101/200, loss: 0.1404, duration: 0:00:01.118343\n"
     ]
    },
    {
     "name": "stdout",
     "output_type": "stream",
     "text": [
      "episode: 111/200, loss: 1.4740, duration: 0:00:01.359753\n"
     ]
    },
    {
     "name": "stdout",
     "output_type": "stream",
     "text": [
      "episode: 121/200, loss: 0.2084, duration: 0:00:01.144952\n"
     ]
    },
    {
     "name": "stdout",
     "output_type": "stream",
     "text": [
      "episode: 131/200, loss: 0.4104, duration: 0:00:01.142889\n"
     ]
    },
    {
     "name": "stdout",
     "output_type": "stream",
     "text": [
      "episode: 141/200, loss: 0.1755, duration: 0:00:01.165679\n"
     ]
    },
    {
     "name": "stdout",
     "output_type": "stream",
     "text": [
      "episode: 151/200, loss: 0.2767, duration: 0:00:01.153586\n"
     ]
    },
    {
     "name": "stdout",
     "output_type": "stream",
     "text": [
      "episode: 161/200, loss: 1.0758, duration: 0:00:01.219805\n"
     ]
    },
    {
     "name": "stdout",
     "output_type": "stream",
     "text": [
      "episode: 171/200, loss: 0.3639, duration: 0:00:01.340657\n"
     ]
    },
    {
     "name": "stdout",
     "output_type": "stream",
     "text": [
      "episode: 181/200, loss: 0.3071, duration: 0:00:01.470733\n"
     ]
    },
    {
     "name": "stdout",
     "output_type": "stream",
     "text": [
      "episode: 191/200, loss: 0.1449, duration: 0:00:01.144368\n"
     ]
    },
    {
     "name": "stdout",
     "output_type": "stream",
     "text": [
      "#############################################################################\n",
      "##\t[53/54]\tmodel=RL_CNN,\tSEED=0,\ttrade=100,\trisk=178\thold=1000\t##\n",
      "#############################################################################\n"
     ]
    },
    {
     "name": "stdout",
     "output_type": "stream",
     "text": [
      "episode: 1/200, loss: 1.1826, duration: 0:00:01.249328\n"
     ]
    },
    {
     "name": "stdout",
     "output_type": "stream",
     "text": [
      "episode: 11/200, loss: 0.5352, duration: 0:00:01.488465\n"
     ]
    },
    {
     "name": "stdout",
     "output_type": "stream",
     "text": [
      "episode: 21/200, loss: 0.2238, duration: 0:00:01.165630\n"
     ]
    },
    {
     "name": "stdout",
     "output_type": "stream",
     "text": [
      "episode: 31/200, loss: 0.0577, duration: 0:00:01.296887\n"
     ]
    },
    {
     "name": "stdout",
     "output_type": "stream",
     "text": [
      "episode: 41/200, loss: 0.1891, duration: 0:00:01.174930\n"
     ]
    },
    {
     "name": "stdout",
     "output_type": "stream",
     "text": [
      "episode: 51/200, loss: 1.3063, duration: 0:00:01.406131\n"
     ]
    },
    {
     "name": "stdout",
     "output_type": "stream",
     "text": [
      "episode: 61/200, loss: 0.5804, duration: 0:00:01.120086\n"
     ]
    },
    {
     "name": "stdout",
     "output_type": "stream",
     "text": [
      "episode: 71/200, loss: 0.4156, duration: 0:00:01.154430\n"
     ]
    },
    {
     "name": "stdout",
     "output_type": "stream",
     "text": [
      "episode: 81/200, loss: 0.4610, duration: 0:00:01.351075\n"
     ]
    },
    {
     "name": "stdout",
     "output_type": "stream",
     "text": [
      "episode: 91/200, loss: 0.1453, duration: 0:00:01.220697\n"
     ]
    },
    {
     "name": "stdout",
     "output_type": "stream",
     "text": [
      "episode: 101/200, loss: 0.1030, duration: 0:00:01.546433\n"
     ]
    },
    {
     "name": "stdout",
     "output_type": "stream",
     "text": [
      "episode: 111/200, loss: 1.5245, duration: 0:00:01.151558\n"
     ]
    },
    {
     "name": "stdout",
     "output_type": "stream",
     "text": [
      "episode: 121/200, loss: 0.1821, duration: 0:00:01.146615\n"
     ]
    },
    {
     "name": "stdout",
     "output_type": "stream",
     "text": [
      "episode: 131/200, loss: 0.3243, duration: 0:00:01.104685\n"
     ]
    },
    {
     "name": "stdout",
     "output_type": "stream",
     "text": [
      "episode: 141/200, loss: 0.1423, duration: 0:00:01.383713\n"
     ]
    },
    {
     "name": "stdout",
     "output_type": "stream",
     "text": [
      "episode: 151/200, loss: 0.2102, duration: 0:00:01.116592\n"
     ]
    },
    {
     "name": "stdout",
     "output_type": "stream",
     "text": [
      "episode: 161/200, loss: 0.8016, duration: 0:00:01.123053\n"
     ]
    },
    {
     "name": "stdout",
     "output_type": "stream",
     "text": [
      "episode: 171/200, loss: 0.3136, duration: 0:00:01.143561\n"
     ]
    },
    {
     "name": "stdout",
     "output_type": "stream",
     "text": [
      "episode: 181/200, loss: 0.2347, duration: 0:00:01.274509\n"
     ]
    },
    {
     "name": "stdout",
     "output_type": "stream",
     "text": [
      "episode: 191/200, loss: 0.0922, duration: 0:00:01.166304\n"
     ]
    },
    {
     "name": "stdout",
     "output_type": "stream",
     "text": [
      "#############################################################################\n",
      "##\t[54/54]\tmodel=RL_CNN,\tSEED=0,\ttrade=100,\trisk=178\thold=10000\t##\n",
      "#############################################################################\n"
     ]
    },
    {
     "name": "stdout",
     "output_type": "stream",
     "text": [
      "episode: 1/200, loss: 8.0615, duration: 0:00:01.223545\n"
     ]
    },
    {
     "name": "stdout",
     "output_type": "stream",
     "text": [
      "episode: 11/200, loss: 1.7528, duration: 0:00:01.114568\n"
     ]
    },
    {
     "name": "stdout",
     "output_type": "stream",
     "text": [
      "episode: 21/200, loss: 1.1304, duration: 0:00:01.081876\n"
     ]
    },
    {
     "name": "stdout",
     "output_type": "stream",
     "text": [
      "episode: 31/200, loss: 0.1499, duration: 0:00:01.116290\n"
     ]
    },
    {
     "name": "stdout",
     "output_type": "stream",
     "text": [
      "episode: 41/200, loss: 0.1903, duration: 0:00:01.265964\n"
     ]
    },
    {
     "name": "stdout",
     "output_type": "stream",
     "text": [
      "episode: 51/200, loss: 1.3064, duration: 0:00:01.276196\n"
     ]
    },
    {
     "name": "stdout",
     "output_type": "stream",
     "text": [
      "episode: 61/200, loss: 0.5819, duration: 0:00:01.103228\n"
     ]
    },
    {
     "name": "stdout",
     "output_type": "stream",
     "text": [
      "episode: 71/200, loss: 0.4161, duration: 0:00:01.115492\n"
     ]
    },
    {
     "name": "stdout",
     "output_type": "stream",
     "text": [
      "episode: 81/200, loss: 0.4598, duration: 0:00:01.086605\n"
     ]
    },
    {
     "name": "stdout",
     "output_type": "stream",
     "text": [
      "episode: 91/200, loss: 0.1354, duration: 0:00:01.106641\n"
     ]
    },
    {
     "name": "stdout",
     "output_type": "stream",
     "text": [
      "episode: 101/200, loss: 0.0965, duration: 0:00:01.261076\n"
     ]
    },
    {
     "name": "stdout",
     "output_type": "stream",
     "text": [
      "episode: 111/200, loss: 1.5687, duration: 0:00:01.092724\n"
     ]
    },
    {
     "name": "stdout",
     "output_type": "stream",
     "text": [
      "episode: 121/200, loss: 0.1756, duration: 0:00:01.254894\n"
     ]
    },
    {
     "name": "stdout",
     "output_type": "stream",
     "text": [
      "episode: 131/200, loss: 0.3081, duration: 0:00:01.411518\n"
     ]
    },
    {
     "name": "stdout",
     "output_type": "stream",
     "text": [
      "episode: 141/200, loss: 0.1422, duration: 0:00:01.103305\n"
     ]
    },
    {
     "name": "stdout",
     "output_type": "stream",
     "text": [
      "episode: 151/200, loss: 0.2025, duration: 0:00:01.565990\n"
     ]
    },
    {
     "name": "stdout",
     "output_type": "stream",
     "text": [
      "episode: 161/200, loss: 0.7867, duration: 0:00:01.077123\n"
     ]
    },
    {
     "name": "stdout",
     "output_type": "stream",
     "text": [
      "episode: 171/200, loss: 0.3034, duration: 0:00:01.107321\n"
     ]
    },
    {
     "name": "stdout",
     "output_type": "stream",
     "text": [
      "episode: 181/200, loss: 0.2335, duration: 0:00:01.081306\n"
     ]
    },
    {
     "name": "stdout",
     "output_type": "stream",
     "text": [
      "episode: 191/200, loss: 0.0864, duration: 0:00:01.033142\n"
     ]
    },
    {
     "name": "stdout",
     "output_type": "stream",
     "text": [
      "CPU times: user 25min 17s, sys: 12.2 s, total: 25min 29s\n",
      "Wall time: 25min 7s\n"
     ]
    },
    {
     "data": {
      "text/plain": [
       "<Figure size 1008x360 with 0 Axes>"
      ]
     },
     "metadata": {},
     "output_type": "display_data"
    },
    {
     "data": {
      "text/plain": [
       "<Figure size 1008x360 with 0 Axes>"
      ]
     },
     "metadata": {},
     "output_type": "display_data"
    },
    {
     "data": {
      "text/plain": [
       "<Figure size 1008x360 with 0 Axes>"
      ]
     },
     "metadata": {},
     "output_type": "display_data"
    },
    {
     "data": {
      "text/plain": [
       "<Figure size 1008x360 with 0 Axes>"
      ]
     },
     "metadata": {},
     "output_type": "display_data"
    },
    {
     "data": {
      "text/plain": [
       "<Figure size 1008x360 with 0 Axes>"
      ]
     },
     "metadata": {},
     "output_type": "display_data"
    },
    {
     "data": {
      "text/plain": [
       "<Figure size 1008x360 with 0 Axes>"
      ]
     },
     "metadata": {},
     "output_type": "display_data"
    }
   ],
   "source": [
    "%%time\n",
    "##########################\n",
    "### main training loop ###\n",
    "##########################\n",
    "\n",
    "# define investor preferences to train for\n",
    "#------ extended-boyd-sweep ------#\n",
    "#GAMMA_TRADES = [5.5, 6, 6.5, 7, 7.5, 8, 9, 10, 11, 12, 15, 20, 30]\n",
    "#GAMMA_TRADES = [4, 5]\n",
    "#GAMMA_TRADES = [0.1, 0.5, 1, 2, 3, 45, 60, 100, 200]\n",
    "#GAMMA_RISKS = [0.1, 0.178, 0.316, 0.562, 1, 2, 3, 6, 10, 18, 32, 56, 100, 178, 316, 562, 1000, 2000, 5000, 10000, 20000]\n",
    "#---------------------------------#\n",
    "counter = 0\n",
    "\n",
    "for RANDOM_SEED in SEED_LIST:\n",
    "    model_name = f'{MODEL_BASE_NAME}_seed_{RANDOM_SEED}'\n",
    "    maybe_make_dir(f'../experiments/{MARKET_NAME}/seeded/{MODEL_BASE_NAME}/seed_{RANDOM_SEED}')\n",
    "    \n",
    "    for (GAMMA_TRADE, GAMMA_RISK, GAMMA_HOLD) in GAMMA_TRIOS:\n",
    "        # set random generator seed for tf and np\n",
    "        # this is probably unnecessary because it is done when env is initialised but just incase\n",
    "        tf.random.set_seed(RANDOM_SEED)\n",
    "        np.random.seed(RANDOM_SEED)\n",
    "        counter += 1\n",
    "\n",
    "        # check if test lready done. skip if so\n",
    "        #if not FROM_PRETRAINED:\n",
    "            #skip = os.path.exists(f'experiments/12_assets/00_seeded/seed_{RANDOM_SEED}/trade_{GAMMA_TRADE}_risk_{GAMMA_RISK}') # check if already exists\n",
    "        #else:\n",
    "        \n",
    "        skip = os.path.exists(f'../experiments/{MARKET_NAME}/seeded/{MODEL_BASE_NAME}/seed_{RANDOM_SEED}/trade_{GAMMA_TRADE}_risk_{GAMMA_RISK}_hold_{GAMMA_HOLD}')\n",
    "\n",
    "        if not skip: # if not exists, do test\n",
    "\n",
    "            print('#############################################################################')\n",
    "            print(f'##\\t[{counter}/{len(GAMMA_TRIOS)}]\\tmodel={MODEL_BASE_NAME},\\tSEED={RANDOM_SEED},\\ttrade={GAMMA_TRADE},\\trisk={GAMMA_RISK}\\thold={GAMMA_HOLD}\\t##')\n",
    "            print('#############################################################################')        \n",
    "\n",
    "            # create agent and environment\n",
    "            env = MultiStockEnv(tickers=TICKERS, \n",
    "                                from_date=FROM,\n",
    "                                until=UNTIL, \n",
    "                                #nb_episodes=100,\n",
    "                                cash_key='USDOLLAR', \n",
    "                                gamma_risk=GAMMA_RISK, \n",
    "                                gamma_trade=GAMMA_TRADE,\n",
    "                                gamma_hold=GAMMA_HOLD,\n",
    "                                half_spread=HALF_SPREAD, \n",
    "                                nonlin_coef=NONLIN_COEFF, \n",
    "                                power=POWER, \n",
    "                                datadir=DATA_DIR, \n",
    "                                state_lookback_window=20, \n",
    "                                distribution=EPISODE_DRAW_DISTRIBUTION,\n",
    "                                days_duration=DAYS_IN_EPISODE, \n",
    "                                mode='train', \n",
    "                                random_seed=RANDOM_SEED,\n",
    "                                init_portfolio=INIT_PORTFOLIO, \n",
    "                                period_in_file_name=FILE_PERIOD, \n",
    "                                nb_forecasts=NB_FORECASTS, \n",
    "                                forecast_type=FORECAST_TYPE,\n",
    "                                use_CNN_state=USE_CNN_STATE,\n",
    "                                verbose=False)\n",
    "\n",
    "            agent = Agent(alpha=0.001, \n",
    "                          gamma=0.99, \n",
    "                          n_assets=len(TICKERS)+1, \n",
    "                          tau=5, \n",
    "                          lookback_window=20, \n",
    "                          n_feature_maps=len(TICKERS)+1,\n",
    "                          use_forecasts=USE_FORECASTS,\n",
    "                          use_CNN_state=USE_CNN_STATE,\n",
    "                          allow_long_short_trades=True)\n",
    "\n",
    "            # initialise policy by one forward pass then load pretrained weights\n",
    "            #if FROM_PRETRAINED: \n",
    "                #agent.choose_action(env._get_obs())\n",
    "                #agent.load(pretrined_weights_dir)\n",
    "\n",
    "            # configure folders\n",
    "            experiments_folder = f'../experiments/{MARKET_NAME}'\n",
    "            from_seeded_folder = f'{experiments_folder}/seeded'\n",
    "            base_model_folder = f'{from_seeded_folder}/{MODEL_BASE_NAME}'\n",
    "            seed_folder = f'{base_model_folder}/seed_{RANDOM_SEED}'\n",
    "            #if FROM_PRETRAINED:\n",
    "            #    pretrained_folder = f'{nb_assets_folder}/0_further_trained'\n",
    "            #    preference_folder = f'{pretrained_folder}/trade_{GAMMA_TRADE}_risk_{GAMMA_RISK}'\n",
    "            #else:\n",
    "            preference_folder = f'{seed_folder}/trade_{GAMMA_TRADE}_risk_{GAMMA_RISK}_hold_{GAMMA_HOLD}'\n",
    "            models_folder = f'{preference_folder}/models' # where saved models will be saved\n",
    "            losses_folder = f'{preference_folder}/losses' # where losses will be saved for plotting training progress\n",
    "            fig_folder = f'{preference_folder}/figures'\n",
    "\n",
    "            # create dirictories for saving outputs to (if they don't exist already)\n",
    "            #maybe_make_dir(nb_assets_folder)\n",
    "            maybe_make_dir(seed_folder)\n",
    "            maybe_make_dir(preference_folder)\n",
    "            maybe_make_dir(models_folder)\n",
    "            maybe_make_dir(losses_folder)\n",
    "            maybe_make_dir(fig_folder)\n",
    "\n",
    "            if MODE == 'train':\n",
    "                # play the game num_episodes times and update weights according to loss\n",
    "                losses = []\n",
    "                for e in range(NB_EPISODES):\n",
    "\n",
    "                    # save model weights every few episodes\n",
    "                    if (e%SAVE_EVERY == 0) and (e!=0):\n",
    "                        agent.save(f'{models_folder}/{model_name}_{e}')\n",
    "                        # save losses of training period\n",
    "                        np.save(f'{losses_folder}/{model_name}_{MODE}_{e}_losses.npy', np.array(losses))\n",
    "\n",
    "                    t0 = datetime.datetime.now()\n",
    "                    try:\n",
    "                        loss = play_one_episode(agent, env, MODE)\n",
    "                    except Exception as err:\n",
    "                        print(f'\\t*** error in episode {e}:', err)\n",
    "                        loss = np.nan#5.0 # just an arbitraty number that seems high compared to usual losses\n",
    "                    dt = datetime.datetime.now() - t0\n",
    "                    losses.append(loss) # append episode loss\n",
    "                    # print progress\n",
    "                    if (e%10 == 0):\n",
    "                        print(f\"episode: {e + 1}/{NB_EPISODES}, loss: {loss:.4f}, duration: {dt}\")\n",
    "\n",
    "\n",
    "                # save the weights and losses when done\t\n",
    "                agent.save(f'{models_folder}/{model_name}_{NB_EPISODES}')\n",
    "                np.save(f'{losses_folder}/{model_name}_{MODE}_{NB_EPISODES}_losses.npy', np.array(losses))\n",
    "\n",
    "            # plot losses\n",
    "            save_fig = True\n",
    "\n",
    "            # load losses file\n",
    "            file = f'{losses_folder}/{model_name}_{MODE}_{NB_EPISODES}_losses.npy'\n",
    "            loaded_losses = np.load(file)\n",
    "\n",
    "            # plot losses\n",
    "            plt.figure(figsize=(14,5))\n",
    "            plt.plot(loaded_losses)\n",
    "            plt.title(f'{model_name} Training Loss')\n",
    "            plt.xlabel('Episode Number')\n",
    "            plt.ylabel(r'Loss: $-G \\approx -\\mathbb{E}\\left[ \\sum_{k=0}^{T} \\gamma^k R_t \\right]$')\n",
    "            #plt.yscale('symlog')\n",
    "            if save_fig:\n",
    "                plt.savefig(f'{fig_folder}/{model_name}_losses.png', dpi=150, facecolor=None, edgecolor=None, bbox_inches='tight')\n",
    "            plt.clf()\n",
    "\n",
    "        else:\n",
    "            print(f'\\talready exists: trade_{GAMMA_TRADE}_risk_{GAMMA_RISK}_hold_{GAMMA_HOLD}')\n",
    "            print('\\tskip to next.')"
   ]
  },
  {
   "cell_type": "code",
   "execution_count": 8,
   "id": "95ba79ad",
   "metadata": {
    "execution": {
     "iopub.execute_input": "2022-06-26T16:46:40.232569Z",
     "iopub.status.busy": "2022-06-26T16:46:40.232143Z",
     "iopub.status.idle": "2022-06-26T16:46:40.237802Z",
     "shell.execute_reply": "2022-06-26T16:46:40.236149Z"
    },
    "papermill": {
     "duration": 0.034552,
     "end_time": "2022-06-26T16:46:40.240769",
     "exception": false,
     "start_time": "2022-06-26T16:46:40.206217",
     "status": "completed"
    },
    "tags": []
   },
   "outputs": [],
   "source": [
    "# double check the end of training\n",
    "#env.until"
   ]
  },
  {
   "cell_type": "code",
   "execution_count": 9,
   "id": "bdd67d71",
   "metadata": {
    "execution": {
     "iopub.execute_input": "2022-06-26T16:46:40.277833Z",
     "iopub.status.busy": "2022-06-26T16:46:40.277224Z",
     "iopub.status.idle": "2022-06-26T16:46:40.286338Z",
     "shell.execute_reply": "2022-06-26T16:46:40.284434Z"
    },
    "papermill": {
     "duration": 0.029883,
     "end_time": "2022-06-26T16:46:40.288889",
     "exception": false,
     "start_time": "2022-06-26T16:46:40.259006",
     "status": "completed"
    },
    "tags": []
   },
   "outputs": [
    {
     "name": "stdout",
     "output_type": "stream",
     "text": [
      "training done.\n"
     ]
    }
   ],
   "source": [
    "print('training done.')"
   ]
  },
  {
   "cell_type": "code",
   "execution_count": 10,
   "id": "dc295ff1",
   "metadata": {
    "execution": {
     "iopub.execute_input": "2022-06-26T16:46:40.322583Z",
     "iopub.status.busy": "2022-06-26T16:46:40.321851Z",
     "iopub.status.idle": "2022-06-26T16:46:40.328833Z",
     "shell.execute_reply": "2022-06-26T16:46:40.326918Z"
    },
    "papermill": {
     "duration": 0.027284,
     "end_time": "2022-06-26T16:46:40.331412",
     "exception": false,
     "start_time": "2022-06-26T16:46:40.304128",
     "status": "completed"
    },
    "tags": []
   },
   "outputs": [],
   "source": [
    "### Now repeat this for the different RL models.\n",
    "### remember to update the gamma-pairs, model base name, and model specs/setup in beginning of notebook!"
   ]
  }
 ],
 "metadata": {
  "interpreter": {
   "hash": "949777d72b0d2535278d3dc13498b2535136f6dfe0678499012e853ee9abcab1"
  },
  "kernelspec": {
   "display_name": "Python 3",
   "language": "python",
   "name": "python3"
  },
  "language_info": {
   "codemirror_mode": {
    "name": "ipython",
    "version": 3
   },
   "file_extension": ".py",
   "mimetype": "text/x-python",
   "name": "python",
   "nbconvert_exporter": "python",
   "pygments_lexer": "ipython3",
   "version": "3.7.6"
  },
  "papermill": {
   "default_parameters": {},
   "duration": 1514.714339,
   "end_time": "2022-06-26T16:46:41.170258",
   "environment_variables": {},
   "exception": null,
   "input_path": "train_template.ipynb",
   "output_path": "slave_notebooks/RL_CNN_NIK_25_risks_178_seeds_0.ipynb",
   "parameters": {
    "FROM": "2013-05-01",
    "GAMMA_HOLDS": [
     0.1,
     1,
     10,
     100,
     1000,
     10000
    ],
    "GAMMA_RISKS": [
     178
    ],
    "GAMMA_TRADES": [
     1,
     7,
     8,
     9,
     10,
     11,
     12,
     50,
     100
    ],
    "MARKET_NAME": "NIK_25",
    "MODEL_BASE_NAME": "RL_CNN",
    "NB_EPISODES": 200,
    "SAVE_EVERY": 200,
    "SEED_LIST": [
     0
    ],
    "TICKERS": [
     "9983.T",
     "8035.T",
     "9984.T",
     "6954.T",
     "6367.T",
     "9433.T",
     "4543.T",
     "6857.T",
     "2413.T",
     "4063.T",
     "6971.T",
     "6758.T",
     "4519.T",
     "6762.T",
     "6645.T",
     "9613.T",
     "7203.T",
     "7733.T",
     "4901.T",
     "4503.T",
     "2801.T",
     "4568.T",
     "7832.T",
     "4523.T"
    ],
    "UNTIL": "2018-01-01"
   },
   "start_time": "2022-06-26T16:21:26.455919",
   "version": "2.3.3"
  }
 },
 "nbformat": 4,
 "nbformat_minor": 5
}