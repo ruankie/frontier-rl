{
 "cells": [
  {
   "cell_type": "code",
   "execution_count": 1,
   "id": "041958f1",
   "metadata": {
    "execution": {
     "iopub.execute_input": "2022-06-24T15:19:54.796096Z",
     "iopub.status.busy": "2022-06-24T15:19:54.795757Z",
     "iopub.status.idle": "2022-06-24T15:19:56.762802Z",
     "shell.execute_reply": "2022-06-24T15:19:56.761560Z"
    },
    "papermill": {
     "duration": 1.979497,
     "end_time": "2022-06-24T15:19:56.767502",
     "exception": false,
     "start_time": "2022-06-24T15:19:54.788005",
     "status": "completed"
    },
    "tags": []
   },
   "outputs": [
    {
     "name": "stdout",
     "output_type": "stream",
     "text": [
      "CPU times: user 5.74 s, sys: 4.29 s, total: 10 s\n",
      "Wall time: 1.96 s\n"
     ]
    }
   ],
   "source": [
    "%%time\n",
    "import numpy as np\n",
    "import pandas as pd\n",
    "import matplotlib.pyplot as plt\n",
    "import datetime\n",
    "import os\n",
    "from src.models.frontier import MultiStockEnv, Agent, play_one_episode, maybe_make_dir\n",
    "from src.config import market_tickers\n",
    "from src.config.model_config import model_parameters\n",
    "import tensorflow as tf"
   ]
  },
  {
   "cell_type": "code",
   "execution_count": 2,
   "id": "d16d9cb1",
   "metadata": {
    "execution": {
     "iopub.execute_input": "2022-06-24T15:19:56.787765Z",
     "iopub.status.busy": "2022-06-24T15:19:56.787313Z",
     "iopub.status.idle": "2022-06-24T15:19:56.797451Z",
     "shell.execute_reply": "2022-06-24T15:19:56.796287Z"
    },
    "papermill": {
     "duration": 0.025314,
     "end_time": "2022-06-24T15:19:56.802708",
     "exception": false,
     "start_time": "2022-06-24T15:19:56.777394",
     "status": "completed"
    },
    "tags": []
   },
   "outputs": [
    {
     "data": {
      "text/plain": [
       "{'RL_CNN': {'use_forecasts': False,\n",
       "  'nb_forecasts': None,\n",
       "  'forecast_type': 'strong',\n",
       "  'use_cnn_state': True},\n",
       " 'RL_str_fcast': {'use_forecasts': True,\n",
       "  'nb_forecasts': 2,\n",
       "  'forecast_type': 'strong',\n",
       "  'use_cnn_state': False},\n",
       " 'RL_all_inp': {'use_forecasts': True,\n",
       "  'nb_forecasts': 2,\n",
       "  'forecast_type': 'strong',\n",
       "  'use_cnn_state': True}}"
      ]
     },
     "execution_count": 2,
     "metadata": {},
     "output_type": "execute_result"
    }
   ],
   "source": [
    "from src.config.model_config import model_parameters\n",
    "model_parameters"
   ]
  },
  {
   "cell_type": "code",
   "execution_count": 3,
   "id": "ffb62c2f",
   "metadata": {
    "execution": {
     "iopub.execute_input": "2022-06-24T15:19:56.822903Z",
     "iopub.status.busy": "2022-06-24T15:19:56.822545Z",
     "iopub.status.idle": "2022-06-24T15:19:56.831614Z",
     "shell.execute_reply": "2022-06-24T15:19:56.830569Z"
    },
    "papermill": {
     "duration": 0.023662,
     "end_time": "2022-06-24T15:19:56.835388",
     "exception": false,
     "start_time": "2022-06-24T15:19:56.811726",
     "status": "completed"
    },
    "tags": [
     "parameters"
    ]
   },
   "outputs": [],
   "source": [
    "# papermill parameters\n",
    "SEED_LIST = [\n",
    "             0,\n",
    "             #1111,\n",
    "             #2222, \n",
    "             #3333, \n",
    "             #4444, \n",
    "             #5555,\n",
    "             #6666,\n",
    "             #7777,\n",
    "             #8888,\n",
    "             #9999\n",
    "            ]\n",
    "\n",
    "#TICKERS = market_tickers.DOW_30_TICKER\n",
    "TICKERS = ['AAPL', 'AMD', 'CSCO', 'F', 'INTC']\n",
    "MARKET_NAME = 'TEST_5'\n",
    "MODEL_BASE_NAME = 'RL_CNN' # use either | 'RL_CNN' | 'RL_str_fcast' | 'RL_all_inp' |\n",
    "FROM = '2017-01-03' # start of training set\n",
    "UNTIL = '2019-01-01' # end of training set\n",
    "NB_EPISODES = 200 # number of episodes to train for\n",
    "SAVE_EVERY = 200 # (used 100 when not from tretrained) save model weights every time this amount of episodes pass\n",
    "\n",
    "# investor preferences\n",
    "GAMMA_TRADES = [0.1, 1, 10, 100]\n",
    "GAMMA_RISKS = [0.1, 1, 10, 100, 1000]\n",
    "GAMMA_HOLDS = [0.1, 1]"
   ]
  },
  {
   "cell_type": "code",
   "execution_count": 4,
   "id": "7d40b69d",
   "metadata": {
    "execution": {
     "iopub.execute_input": "2022-06-24T15:19:56.852407Z",
     "iopub.status.busy": "2022-06-24T15:19:56.851939Z",
     "iopub.status.idle": "2022-06-24T15:19:56.868936Z",
     "shell.execute_reply": "2022-06-24T15:19:56.867622Z"
    },
    "papermill": {
     "duration": 0.029689,
     "end_time": "2022-06-24T15:19:56.872438",
     "exception": false,
     "start_time": "2022-06-24T15:19:56.842749",
     "status": "completed"
    },
    "tags": [
     "injected-parameters"
    ]
   },
   "outputs": [],
   "source": [
    "# Parameters\n",
    "SEED_LIST = [0]\n",
    "TICKERS = [\n",
    "    \"AAPL\",\n",
    "    \"MSFT\",\n",
    "    \"JPM\",\n",
    "    \"V\",\n",
    "    \"RTX\",\n",
    "    \"PG\",\n",
    "    \"GS\",\n",
    "    \"NKE\",\n",
    "    \"DIS\",\n",
    "    \"AXP\",\n",
    "    \"HD\",\n",
    "    \"INTC\",\n",
    "    \"WMT\",\n",
    "    \"IBM\",\n",
    "    \"MRK\",\n",
    "    \"UNH\",\n",
    "    \"KO\",\n",
    "    \"CAT\",\n",
    "    \"TRV\",\n",
    "    \"JNJ\",\n",
    "    \"CVX\",\n",
    "    \"MCD\",\n",
    "    \"VZ\",\n",
    "    \"CSCO\",\n",
    "    \"XOM\",\n",
    "    \"BA\",\n",
    "    \"MMM\",\n",
    "    \"PFE\",\n",
    "    \"WBA\",\n",
    "    \"DD\",\n",
    "]\n",
    "MARKET_NAME = \"DOW_30\"\n",
    "MODEL_BASE_NAME = \"RL_CNN\"\n",
    "FROM = \"2010-01-01\"\n",
    "UNTIL = \"2018-01-01\"\n",
    "NB_EPISODES = 200\n",
    "SAVE_EVERY = 200\n",
    "GAMMA_TRADES = [7, 8, 9, 10, 11, 12]\n",
    "GAMMA_RISKS = [1, 2, 3, 6, 10, 18, 32, 56, 100, 178, 316, 562, 1000, 5000, 10000]\n",
    "GAMMA_HOLDS = [0.1, 1, 10, 100, 1000]\n"
   ]
  },
  {
   "cell_type": "code",
   "execution_count": 5,
   "id": "d05eedd7",
   "metadata": {
    "execution": {
     "iopub.execute_input": "2022-06-24T15:19:56.889416Z",
     "iopub.status.busy": "2022-06-24T15:19:56.888861Z",
     "iopub.status.idle": "2022-06-24T15:19:56.901191Z",
     "shell.execute_reply": "2022-06-24T15:19:56.899384Z"
    },
    "papermill": {
     "duration": 0.024671,
     "end_time": "2022-06-24T15:19:56.904810",
     "exception": false,
     "start_time": "2022-06-24T15:19:56.880139",
     "status": "completed"
    },
    "tags": []
   },
   "outputs": [
    {
     "name": "stdout",
     "output_type": "stream",
     "text": [
      "number of trios:  450\n"
     ]
    }
   ],
   "source": [
    "#------ small test-sweep ------#\n",
    "# GAMMA_TRADES = [0.1, 1, 10, 100]\n",
    "# GAMMA_RISKS = [0.1, 1, 10, 100, 1000]\n",
    "# GAMMA_HOLDS = [0.1, 1]\n",
    "#------ extended-boyd-sweep ------#\n",
    "# GAMMA_TRADES =  [0.1, 0.5, 1, 2, 3, 4, 5, 5.5, 6, 6.5, 7, 7.5, 8, 9, 10, 11, 12, 15, 20, 30, 45, 60, 100, 200]\n",
    "# GAMMA_RISKS = [0.1, 0.178, 0.316, 0.562, 1, 2, 3, 6, 10, 18, 32, 56, 100, 178, 316, 562, 1000, 2000, 5000, 10000, 20000]\n",
    "#---------------------------------#\n",
    "\n",
    "GAMMA_TRIOS = []\n",
    "for tr in GAMMA_TRADES:\n",
    "    for ri in GAMMA_RISKS:\n",
    "        for hd in GAMMA_HOLDS:\n",
    "            GAMMA_TRIOS.append((tr, ri, hd))\n",
    "        \n",
    "#format: (gamma_trade, gamma_risk, gamma_hold)\n",
    "print('number of trios: ', len(GAMMA_TRIOS))\n",
    "#GAMMA_TRIOS"
   ]
  },
  {
   "cell_type": "code",
   "execution_count": 6,
   "id": "fbfbbeec",
   "metadata": {
    "execution": {
     "iopub.execute_input": "2022-06-24T15:19:56.935756Z",
     "iopub.status.busy": "2022-06-24T15:19:56.935122Z",
     "iopub.status.idle": "2022-06-24T15:19:56.951073Z",
     "shell.execute_reply": "2022-06-24T15:19:56.949412Z"
    },
    "papermill": {
     "duration": 0.042726,
     "end_time": "2022-06-24T15:19:56.954843",
     "exception": false,
     "start_time": "2022-06-24T15:19:56.912117",
     "status": "completed"
    },
    "tags": []
   },
   "outputs": [],
   "source": [
    "# other constants and parameters\n",
    "TICKERS.sort()\n",
    "FILE_PERIOD = '1d' # weekly='5d', daily='1d'\n",
    "DAYS_IN_EPISODE = 30 # 365 for one-year long episodes (conditions checked at end of episode)\n",
    "EPISODE_DRAW_DISTRIBUTION = 'uniform' # 'uniform' or 'geometric'. select starting point of eposide according to this distribution when generated\n",
    "HALF_SPREAD = 0.0005/2.0 # 'a' in transaction cost function\n",
    "NONLIN_COEFF = 1.0 # 'b' transaction cost function\n",
    "POWER = 1.5 # power for change in poertfolio vector used in transaction cost\n",
    "#GAMMA_RISK, GAMMA_TRADE, GAMMA_HOLD = 18, 6.5, 0.0 # relative importance of risk, trading cost, and holding cost\n",
    "INIT_PORTFOLIO = 100000000.0 # initial portfolio value\n",
    "#model_name = f'REINFORCE_CNN' #_seeded_{UNTIL} # give model a name to distinguish saved files\n",
    "#NB_EPISODES = 300 #2000\n",
    "MODE = 'train' # train or test mode\n",
    "#FROM_PRETRAINED = False\n",
    "DATA_DIR = f'../data/{MARKET_NAME}/preprocessed_data/'\n",
    "\n",
    "# Tune and double-check these before every test:\n",
    "USE_FORECASTS = model_parameters[MODEL_BASE_NAME]['use_forecasts'] # whether to use forecasts as inputs to agent policy net or not\n",
    "NB_FORECASTS = model_parameters[MODEL_BASE_NAME]['nb_forecasts'] # number of forecasts to use in state. Set to None for no forecasts\n",
    "FORECAST_TYPE = model_parameters[MODEL_BASE_NAME]['forecast_type'] # use 'strong' or 'weak' forecasts (if no forecasts given, this does not matter)\n",
    "USE_CNN_STATE = model_parameters[MODEL_BASE_NAME]['use_cnn_state'] # whether to pass log-rets block for CNN part of policy net (set to false for forecast only)"
   ]
  },
  {
   "cell_type": "code",
   "execution_count": 7,
   "id": "6f3cadf6",
   "metadata": {
    "execution": {
     "iopub.execute_input": "2022-06-24T15:19:56.973596Z",
     "iopub.status.busy": "2022-06-24T15:19:56.972934Z",
     "iopub.status.idle": "2022-06-24T19:17:03.278970Z",
     "shell.execute_reply": "2022-06-24T19:17:03.277140Z"
    },
    "papermill": {
     "duration": 14226.319567,
     "end_time": "2022-06-24T19:17:03.282583",
     "exception": false,
     "start_time": "2022-06-24T15:19:56.963016",
     "status": "completed"
    },
    "scrolled": true,
    "tags": []
   },
   "outputs": [
    {
     "name": "stdout",
     "output_type": "stream",
     "text": [
      "\talready exists: trade_7_risk_1_hold_0.1\n",
      "\tskip to next.\n",
      "\talready exists: trade_7_risk_1_hold_1\n",
      "\tskip to next.\n",
      "\talready exists: trade_7_risk_1_hold_10\n",
      "\tskip to next.\n",
      "\talready exists: trade_7_risk_1_hold_100\n",
      "\tskip to next.\n",
      "\talready exists: trade_7_risk_1_hold_1000\n",
      "\tskip to next.\n",
      "\talready exists: trade_7_risk_2_hold_0.1\n",
      "\tskip to next.\n",
      "\talready exists: trade_7_risk_2_hold_1\n",
      "\tskip to next.\n",
      "\talready exists: trade_7_risk_2_hold_10\n",
      "\tskip to next.\n",
      "\talready exists: trade_7_risk_2_hold_100\n",
      "\tskip to next.\n",
      "\talready exists: trade_7_risk_2_hold_1000\n",
      "\tskip to next.\n",
      "\talready exists: trade_7_risk_3_hold_0.1\n",
      "\tskip to next.\n",
      "\talready exists: trade_7_risk_3_hold_1\n",
      "\tskip to next.\n",
      "\talready exists: trade_7_risk_3_hold_10\n",
      "\tskip to next.\n",
      "\talready exists: trade_7_risk_3_hold_100\n",
      "\tskip to next.\n",
      "\talready exists: trade_7_risk_3_hold_1000\n",
      "\tskip to next.\n",
      "\talready exists: trade_7_risk_6_hold_0.1\n",
      "\tskip to next.\n",
      "\talready exists: trade_7_risk_6_hold_1\n",
      "\tskip to next.\n",
      "\talready exists: trade_7_risk_6_hold_10\n",
      "\tskip to next.\n",
      "\talready exists: trade_7_risk_6_hold_100\n",
      "\tskip to next.\n",
      "\talready exists: trade_7_risk_6_hold_1000\n",
      "\tskip to next.\n",
      "\talready exists: trade_7_risk_10_hold_0.1\n",
      "\tskip to next.\n",
      "\talready exists: trade_7_risk_10_hold_1\n",
      "\tskip to next.\n",
      "\talready exists: trade_7_risk_10_hold_10\n",
      "\tskip to next.\n",
      "\talready exists: trade_7_risk_10_hold_100\n",
      "\tskip to next.\n",
      "\talready exists: trade_7_risk_10_hold_1000\n",
      "\tskip to next.\n",
      "\talready exists: trade_7_risk_18_hold_0.1\n",
      "\tskip to next.\n",
      "\talready exists: trade_7_risk_18_hold_1\n",
      "\tskip to next.\n",
      "\talready exists: trade_7_risk_18_hold_10\n",
      "\tskip to next.\n",
      "\talready exists: trade_7_risk_18_hold_100\n",
      "\tskip to next.\n",
      "\talready exists: trade_7_risk_18_hold_1000\n",
      "\tskip to next.\n",
      "\talready exists: trade_7_risk_32_hold_0.1\n",
      "\tskip to next.\n",
      "\talready exists: trade_7_risk_32_hold_1\n",
      "\tskip to next.\n",
      "\talready exists: trade_7_risk_32_hold_10\n",
      "\tskip to next.\n",
      "\talready exists: trade_7_risk_32_hold_100\n",
      "\tskip to next.\n",
      "\talready exists: trade_7_risk_32_hold_1000\n",
      "\tskip to next.\n",
      "\talready exists: trade_7_risk_56_hold_0.1\n",
      "\tskip to next.\n",
      "\talready exists: trade_7_risk_56_hold_1\n",
      "\tskip to next.\n",
      "\talready exists: trade_7_risk_56_hold_10\n",
      "\tskip to next.\n",
      "\talready exists: trade_7_risk_56_hold_100\n",
      "\tskip to next.\n",
      "\talready exists: trade_7_risk_56_hold_1000\n",
      "\tskip to next.\n",
      "\talready exists: trade_7_risk_100_hold_0.1\n",
      "\tskip to next.\n",
      "\talready exists: trade_7_risk_100_hold_1\n",
      "\tskip to next.\n",
      "\talready exists: trade_7_risk_100_hold_10\n",
      "\tskip to next.\n",
      "\talready exists: trade_7_risk_100_hold_100\n",
      "\tskip to next.\n",
      "\talready exists: trade_7_risk_100_hold_1000\n",
      "\tskip to next.\n",
      "\talready exists: trade_7_risk_178_hold_0.1\n",
      "\tskip to next.\n",
      "\talready exists: trade_7_risk_178_hold_1\n",
      "\tskip to next.\n",
      "\talready exists: trade_7_risk_178_hold_10\n",
      "\tskip to next.\n",
      "\talready exists: trade_7_risk_178_hold_100\n",
      "\tskip to next.\n",
      "\talready exists: trade_7_risk_178_hold_1000\n",
      "\tskip to next.\n",
      "\talready exists: trade_7_risk_316_hold_0.1\n",
      "\tskip to next.\n",
      "\talready exists: trade_7_risk_316_hold_1\n",
      "\tskip to next.\n",
      "\talready exists: trade_7_risk_316_hold_10\n",
      "\tskip to next.\n",
      "\talready exists: trade_7_risk_316_hold_100\n",
      "\tskip to next.\n",
      "\talready exists: trade_7_risk_316_hold_1000\n",
      "\tskip to next.\n",
      "\talready exists: trade_7_risk_562_hold_0.1\n",
      "\tskip to next.\n",
      "\talready exists: trade_7_risk_562_hold_1\n",
      "\tskip to next.\n",
      "\talready exists: trade_7_risk_562_hold_10\n",
      "\tskip to next.\n",
      "\talready exists: trade_7_risk_562_hold_100\n",
      "\tskip to next.\n",
      "\talready exists: trade_7_risk_562_hold_1000\n",
      "\tskip to next.\n",
      "\talready exists: trade_7_risk_1000_hold_0.1\n",
      "\tskip to next.\n",
      "\talready exists: trade_7_risk_1000_hold_1\n",
      "\tskip to next.\n",
      "\talready exists: trade_7_risk_1000_hold_10\n",
      "\tskip to next.\n",
      "\talready exists: trade_7_risk_1000_hold_100\n",
      "\tskip to next.\n",
      "\talready exists: trade_7_risk_1000_hold_1000\n",
      "\tskip to next.\n",
      "#############################################################################\n",
      "##\t[66/450]\tmodel=RL_CNN,\tSEED=0,\ttrade=7,\trisk=5000\thold=0.1\t##\n",
      "#############################################################################\n"
     ]
    },
    {
     "name": "stdout",
     "output_type": "stream",
     "text": [
      "episode: 1/200, loss: 5.1479, duration: 0:00:01.233800\n"
     ]
    },
    {
     "name": "stdout",
     "output_type": "stream",
     "text": [
      "episode: 11/200, loss: 1.1511, duration: 0:00:01.081724\n"
     ]
    },
    {
     "name": "stdout",
     "output_type": "stream",
     "text": [
      "episode: 21/200, loss: 1.7393, duration: 0:00:01.134183\n"
     ]
    },
    {
     "name": "stdout",
     "output_type": "stream",
     "text": [
      "episode: 31/200, loss: 2.3234, duration: 0:00:01.126211\n"
     ]
    },
    {
     "name": "stdout",
     "output_type": "stream",
     "text": [
      "episode: 41/200, loss: 3.5727, duration: 0:00:01.085729\n"
     ]
    },
    {
     "name": "stdout",
     "output_type": "stream",
     "text": [
      "episode: 51/200, loss: 2.0116, duration: 0:00:01.073413\n"
     ]
    },
    {
     "name": "stdout",
     "output_type": "stream",
     "text": [
      "episode: 61/200, loss: 3.0785, duration: 0:00:01.168702\n"
     ]
    },
    {
     "name": "stdout",
     "output_type": "stream",
     "text": [
      "episode: 71/200, loss: 3.5942, duration: 0:00:01.196040\n"
     ]
    },
    {
     "name": "stdout",
     "output_type": "stream",
     "text": [
      "episode: 81/200, loss: 1.1641, duration: 0:00:01.109185\n"
     ]
    },
    {
     "name": "stdout",
     "output_type": "stream",
     "text": [
      "episode: 91/200, loss: 1.3729, duration: 0:00:01.090373\n"
     ]
    },
    {
     "name": "stdout",
     "output_type": "stream",
     "text": [
      "episode: 101/200, loss: 1.2941, duration: 0:00:01.070822\n"
     ]
    },
    {
     "name": "stdout",
     "output_type": "stream",
     "text": [
      "episode: 111/200, loss: 1.4575, duration: 0:00:01.101085\n"
     ]
    },
    {
     "name": "stdout",
     "output_type": "stream",
     "text": [
      "episode: 121/200, loss: 1.0973, duration: 0:00:01.076996\n"
     ]
    },
    {
     "name": "stdout",
     "output_type": "stream",
     "text": [
      "episode: 131/200, loss: 1.5965, duration: 0:00:01.262184\n"
     ]
    },
    {
     "name": "stdout",
     "output_type": "stream",
     "text": [
      "episode: 141/200, loss: 4.8526, duration: 0:00:01.165489\n"
     ]
    },
    {
     "name": "stdout",
     "output_type": "stream",
     "text": [
      "episode: 151/200, loss: 2.9557, duration: 0:00:01.261353\n"
     ]
    },
    {
     "name": "stdout",
     "output_type": "stream",
     "text": [
      "episode: 161/200, loss: 0.4564, duration: 0:00:01.132919\n"
     ]
    },
    {
     "name": "stdout",
     "output_type": "stream",
     "text": [
      "episode: 171/200, loss: 1.7688, duration: 0:00:01.085187\n"
     ]
    },
    {
     "name": "stdout",
     "output_type": "stream",
     "text": [
      "episode: 181/200, loss: 1.5461, duration: 0:00:01.082355\n"
     ]
    },
    {
     "name": "stdout",
     "output_type": "stream",
     "text": [
      "episode: 191/200, loss: 2.1574, duration: 0:00:01.085241\n"
     ]
    },
    {
     "name": "stdout",
     "output_type": "stream",
     "text": [
      "#############################################################################\n",
      "##\t[67/450]\tmodel=RL_CNN,\tSEED=0,\ttrade=7,\trisk=5000\thold=1\t##\n",
      "#############################################################################\n"
     ]
    },
    {
     "name": "stdout",
     "output_type": "stream",
     "text": [
      "episode: 1/200, loss: 5.1487, duration: 0:00:01.112489\n"
     ]
    },
    {
     "name": "stdout",
     "output_type": "stream",
     "text": [
      "episode: 11/200, loss: 1.1515, duration: 0:00:01.074308\n"
     ]
    },
    {
     "name": "stdout",
     "output_type": "stream",
     "text": [
      "episode: 21/200, loss: 1.7393, duration: 0:00:01.083975\n"
     ]
    },
    {
     "name": "stdout",
     "output_type": "stream",
     "text": [
      "episode: 31/200, loss: 2.3235, duration: 0:00:01.083092\n"
     ]
    },
    {
     "name": "stdout",
     "output_type": "stream",
     "text": [
      "episode: 41/200, loss: 3.5730, duration: 0:00:01.263032\n"
     ]
    },
    {
     "name": "stdout",
     "output_type": "stream",
     "text": [
      "episode: 51/200, loss: 2.0127, duration: 0:00:01.176978\n"
     ]
    },
    {
     "name": "stdout",
     "output_type": "stream",
     "text": [
      "episode: 61/200, loss: 3.0787, duration: 0:00:01.082806\n"
     ]
    },
    {
     "name": "stdout",
     "output_type": "stream",
     "text": [
      "episode: 71/200, loss: 3.5945, duration: 0:00:01.129244\n"
     ]
    },
    {
     "name": "stdout",
     "output_type": "stream",
     "text": [
      "episode: 81/200, loss: 1.1641, duration: 0:00:01.134813\n"
     ]
    },
    {
     "name": "stdout",
     "output_type": "stream",
     "text": [
      "episode: 91/200, loss: 1.3731, duration: 0:00:01.138049\n"
     ]
    },
    {
     "name": "stdout",
     "output_type": "stream",
     "text": [
      "episode: 101/200, loss: 1.2943, duration: 0:00:01.172265\n"
     ]
    },
    {
     "name": "stdout",
     "output_type": "stream",
     "text": [
      "episode: 111/200, loss: 1.4574, duration: 0:00:01.095679\n"
     ]
    },
    {
     "name": "stdout",
     "output_type": "stream",
     "text": [
      "episode: 121/200, loss: 1.0973, duration: 0:00:01.128689\n"
     ]
    },
    {
     "name": "stdout",
     "output_type": "stream",
     "text": [
      "episode: 131/200, loss: 1.5966, duration: 0:00:01.260799\n"
     ]
    },
    {
     "name": "stdout",
     "output_type": "stream",
     "text": [
      "episode: 141/200, loss: 4.8524, duration: 0:00:01.128344\n"
     ]
    },
    {
     "name": "stdout",
     "output_type": "stream",
     "text": [
      "episode: 151/200, loss: 2.9555, duration: 0:00:01.080045\n"
     ]
    },
    {
     "name": "stdout",
     "output_type": "stream",
     "text": [
      "episode: 161/200, loss: 0.4565, duration: 0:00:01.227846\n"
     ]
    },
    {
     "name": "stdout",
     "output_type": "stream",
     "text": [
      "episode: 171/200, loss: 1.7688, duration: 0:00:01.083135\n"
     ]
    },
    {
     "name": "stdout",
     "output_type": "stream",
     "text": [
      "episode: 181/200, loss: 1.5469, duration: 0:00:01.113435\n"
     ]
    },
    {
     "name": "stdout",
     "output_type": "stream",
     "text": [
      "episode: 191/200, loss: 2.1582, duration: 0:00:01.079340\n"
     ]
    },
    {
     "name": "stdout",
     "output_type": "stream",
     "text": [
      "#############################################################################\n",
      "##\t[68/450]\tmodel=RL_CNN,\tSEED=0,\ttrade=7,\trisk=5000\thold=10\t##\n",
      "#############################################################################\n"
     ]
    },
    {
     "name": "stdout",
     "output_type": "stream",
     "text": [
      "episode: 1/200, loss: 5.1572, duration: 0:00:01.141873\n"
     ]
    },
    {
     "name": "stdout",
     "output_type": "stream",
     "text": [
      "episode: 11/200, loss: 1.1544, duration: 0:00:01.136365\n"
     ]
    },
    {
     "name": "stdout",
     "output_type": "stream",
     "text": [
      "episode: 21/200, loss: 1.7360, duration: 0:00:01.078024\n"
     ]
    },
    {
     "name": "stdout",
     "output_type": "stream",
     "text": [
      "episode: 31/200, loss: 2.3268, duration: 0:00:01.178365\n"
     ]
    },
    {
     "name": "stdout",
     "output_type": "stream",
     "text": [
      "episode: 41/200, loss: 3.5758, duration: 0:00:01.148908\n"
     ]
    },
    {
     "name": "stdout",
     "output_type": "stream",
     "text": [
      "episode: 51/200, loss: 2.0235, duration: 0:00:01.111261\n"
     ]
    },
    {
     "name": "stdout",
     "output_type": "stream",
     "text": [
      "episode: 61/200, loss: 3.0811, duration: 0:00:01.134701\n"
     ]
    },
    {
     "name": "stdout",
     "output_type": "stream",
     "text": [
      "episode: 71/200, loss: 3.5971, duration: 0:00:01.074987\n"
     ]
    },
    {
     "name": "stdout",
     "output_type": "stream",
     "text": [
      "episode: 81/200, loss: 1.1674, duration: 0:00:01.267628\n"
     ]
    },
    {
     "name": "stdout",
     "output_type": "stream",
     "text": [
      "episode: 91/200, loss: 1.3762, duration: 0:00:01.189796\n"
     ]
    },
    {
     "name": "stdout",
     "output_type": "stream",
     "text": [
      "episode: 101/200, loss: 1.2955, duration: 0:00:01.085800\n"
     ]
    },
    {
     "name": "stdout",
     "output_type": "stream",
     "text": [
      "episode: 111/200, loss: 1.4540, duration: 0:00:01.262463\n"
     ]
    },
    {
     "name": "stdout",
     "output_type": "stream",
     "text": [
      "episode: 121/200, loss: 1.0971, duration: 0:00:01.074066\n"
     ]
    },
    {
     "name": "stdout",
     "output_type": "stream",
     "text": [
      "episode: 131/200, loss: 1.5985, duration: 0:00:01.144785\n"
     ]
    },
    {
     "name": "stdout",
     "output_type": "stream",
     "text": [
      "episode: 141/200, loss: 4.8514, duration: 0:00:01.247777\n"
     ]
    },
    {
     "name": "stdout",
     "output_type": "stream",
     "text": [
      "episode: 151/200, loss: 2.9584, duration: 0:00:01.086290\n"
     ]
    },
    {
     "name": "stdout",
     "output_type": "stream",
     "text": [
      "episode: 161/200, loss: 0.4604, duration: 0:00:01.126010\n"
     ]
    },
    {
     "name": "stdout",
     "output_type": "stream",
     "text": [
      "episode: 171/200, loss: 1.7784, duration: 0:00:01.147758\n"
     ]
    },
    {
     "name": "stdout",
     "output_type": "stream",
     "text": [
      "episode: 181/200, loss: 1.5513, duration: 0:00:01.083346\n"
     ]
    },
    {
     "name": "stdout",
     "output_type": "stream",
     "text": [
      "episode: 191/200, loss: 2.1528, duration: 0:00:01.120554\n"
     ]
    },
    {
     "name": "stdout",
     "output_type": "stream",
     "text": [
      "#############################################################################\n",
      "##\t[69/450]\tmodel=RL_CNN,\tSEED=0,\ttrade=7,\trisk=5000\thold=100\t##\n",
      "#############################################################################\n"
     ]
    },
    {
     "name": "stdout",
     "output_type": "stream",
     "text": [
      "episode: 1/200, loss: 5.2418, duration: 0:00:01.107271\n"
     ]
    },
    {
     "name": "stdout",
     "output_type": "stream",
     "text": [
      "episode: 11/200, loss: 1.1836, duration: 0:00:01.093626\n"
     ]
    },
    {
     "name": "stdout",
     "output_type": "stream",
     "text": [
      "episode: 21/200, loss: 1.7036, duration: 0:00:01.227776\n"
     ]
    },
    {
     "name": "stdout",
     "output_type": "stream",
     "text": [
      "episode: 31/200, loss: 2.3570, duration: 0:00:01.213223\n"
     ]
    },
    {
     "name": "stdout",
     "output_type": "stream",
     "text": [
      "episode: 41/200, loss: 3.6019, duration: 0:00:01.143595\n"
     ]
    },
    {
     "name": "stdout",
     "output_type": "stream",
     "text": [
      "episode: 51/200, loss: 2.1046, duration: 0:00:01.109084\n"
     ]
    },
    {
     "name": "stdout",
     "output_type": "stream",
     "text": [
      "episode: 61/200, loss: 3.0891, duration: 0:00:01.139694\n"
     ]
    },
    {
     "name": "stdout",
     "output_type": "stream",
     "text": [
      "episode: 71/200, loss: 3.6278, duration: 0:00:01.083074\n"
     ]
    },
    {
     "name": "stdout",
     "output_type": "stream",
     "text": [
      "episode: 81/200, loss: 1.1871, duration: 0:00:01.136583\n"
     ]
    },
    {
     "name": "stdout",
     "output_type": "stream",
     "text": [
      "episode: 91/200, loss: 1.4001, duration: 0:00:01.083481\n"
     ]
    },
    {
     "name": "stdout",
     "output_type": "stream",
     "text": [
      "episode: 101/200, loss: 1.3177, duration: 0:00:01.175400\n"
     ]
    },
    {
     "name": "stdout",
     "output_type": "stream",
     "text": [
      "episode: 111/200, loss: 1.4732, duration: 0:00:01.231568\n"
     ]
    },
    {
     "name": "stdout",
     "output_type": "stream",
     "text": [
      "episode: 121/200, loss: 1.1037, duration: 0:00:01.149225\n"
     ]
    },
    {
     "name": "stdout",
     "output_type": "stream",
     "text": [
      "episode: 131/200, loss: 1.6295, duration: 0:00:01.083201\n"
     ]
    },
    {
     "name": "stdout",
     "output_type": "stream",
     "text": [
      "episode: 141/200, loss: 4.8223, duration: 0:00:01.134815\n"
     ]
    },
    {
     "name": "stdout",
     "output_type": "stream",
     "text": [
      "episode: 151/200, loss: 2.9998, duration: 0:00:01.082920\n"
     ]
    },
    {
     "name": "stdout",
     "output_type": "stream",
     "text": [
      "episode: 161/200, loss: 0.4597, duration: 0:00:01.084255\n"
     ]
    },
    {
     "name": "stdout",
     "output_type": "stream",
     "text": [
      "episode: 171/200, loss: 1.6378, duration: 0:00:01.097043\n"
     ]
    },
    {
     "name": "stdout",
     "output_type": "stream",
     "text": [
      "episode: 181/200, loss: 1.5357, duration: 0:00:01.174531\n"
     ]
    },
    {
     "name": "stdout",
     "output_type": "stream",
     "text": [
      "episode: 191/200, loss: 2.3650, duration: 0:00:01.164207\n"
     ]
    },
    {
     "name": "stdout",
     "output_type": "stream",
     "text": [
      "#############################################################################\n",
      "##\t[70/450]\tmodel=RL_CNN,\tSEED=0,\ttrade=7,\trisk=5000\thold=1000\t##\n",
      "#############################################################################\n"
     ]
    },
    {
     "name": "stdout",
     "output_type": "stream",
     "text": [
      "episode: 1/200, loss: 6.0882, duration: 0:00:01.109555\n"
     ]
    },
    {
     "name": "stdout",
     "output_type": "stream",
     "text": [
      "episode: 11/200, loss: 1.4561, duration: 0:00:01.261117\n"
     ]
    },
    {
     "name": "stdout",
     "output_type": "stream",
     "text": [
      "episode: 21/200, loss: 1.8127, duration: 0:00:01.177536\n"
     ]
    },
    {
     "name": "stdout",
     "output_type": "stream",
     "text": [
      "episode: 31/200, loss: 2.4737, duration: 0:00:01.105917\n"
     ]
    },
    {
     "name": "stdout",
     "output_type": "stream",
     "text": [
      "episode: 41/200, loss: 4.0397, duration: 0:00:01.263494\n"
     ]
    },
    {
     "name": "stdout",
     "output_type": "stream",
     "text": [
      "episode: 51/200, loss: 2.7382, duration: 0:00:01.268755\n"
     ]
    },
    {
     "name": "stdout",
     "output_type": "stream",
     "text": [
      "episode: 61/200, loss: 3.2225, duration: 0:00:01.132260\n"
     ]
    },
    {
     "name": "stdout",
     "output_type": "stream",
     "text": [
      "episode: 71/200, loss: 3.8381, duration: 0:00:01.123440\n"
     ]
    },
    {
     "name": "stdout",
     "output_type": "stream",
     "text": [
      "episode: 81/200, loss: 1.3231, duration: 0:00:01.089776\n"
     ]
    },
    {
     "name": "stdout",
     "output_type": "stream",
     "text": [
      "episode: 91/200, loss: 1.6082, duration: 0:00:01.180404\n"
     ]
    },
    {
     "name": "stdout",
     "output_type": "stream",
     "text": [
      "episode: 101/200, loss: 1.2869, duration: 0:00:01.112445\n"
     ]
    },
    {
     "name": "stdout",
     "output_type": "stream",
     "text": [
      "episode: 111/200, loss: 1.5618, duration: 0:00:01.138727\n"
     ]
    },
    {
     "name": "stdout",
     "output_type": "stream",
     "text": [
      "episode: 121/200, loss: 1.2167, duration: 0:00:01.071927\n"
     ]
    },
    {
     "name": "stdout",
     "output_type": "stream",
     "text": [
      "episode: 131/200, loss: 1.9454, duration: 0:00:01.142239\n"
     ]
    },
    {
     "name": "stdout",
     "output_type": "stream",
     "text": [
      "episode: 141/200, loss: 4.7984, duration: 0:00:01.086653\n"
     ]
    },
    {
     "name": "stdout",
     "output_type": "stream",
     "text": [
      "episode: 151/200, loss: 3.1578, duration: 0:00:01.134066\n"
     ]
    },
    {
     "name": "stdout",
     "output_type": "stream",
     "text": [
      "episode: 161/200, loss: 0.4886, duration: 0:00:01.129273\n"
     ]
    },
    {
     "name": "stdout",
     "output_type": "stream",
     "text": [
      "episode: 171/200, loss: 1.8309, duration: 0:00:01.232563\n"
     ]
    },
    {
     "name": "stdout",
     "output_type": "stream",
     "text": [
      "episode: 181/200, loss: 1.8309, duration: 0:00:01.264575\n"
     ]
    },
    {
     "name": "stdout",
     "output_type": "stream",
     "text": [
      "episode: 191/200, loss: 3.0990, duration: 0:00:01.079366\n"
     ]
    },
    {
     "name": "stdout",
     "output_type": "stream",
     "text": [
      "#############################################################################\n",
      "##\t[71/450]\tmodel=RL_CNN,\tSEED=0,\ttrade=7,\trisk=10000\thold=0.1\t##\n",
      "#############################################################################\n"
     ]
    },
    {
     "name": "stdout",
     "output_type": "stream",
     "text": [
      "episode: 1/200, loss: 10.2497, duration: 0:00:01.214978\n"
     ]
    },
    {
     "name": "stdout",
     "output_type": "stream",
     "text": [
      "episode: 11/200, loss: 2.2970, duration: 0:00:01.115452\n"
     ]
    },
    {
     "name": "stdout",
     "output_type": "stream",
     "text": [
      "episode: 21/200, loss: 3.4817, duration: 0:00:01.078108\n"
     ]
    },
    {
     "name": "stdout",
     "output_type": "stream",
     "text": [
      "episode: 31/200, loss: 4.6234, duration: 0:00:01.134188\n"
     ]
    },
    {
     "name": "stdout",
     "output_type": "stream",
     "text": [
      "episode: 41/200, loss: 7.1104, duration: 0:00:01.092994\n"
     ]
    },
    {
     "name": "stdout",
     "output_type": "stream",
     "text": [
      "episode: 51/200, loss: 4.0098, duration: 0:00:01.090766\n"
     ]
    },
    {
     "name": "stdout",
     "output_type": "stream",
     "text": [
      "episode: 61/200, loss: 6.0515, duration: 0:00:01.198607\n"
     ]
    },
    {
     "name": "stdout",
     "output_type": "stream",
     "text": [
      "episode: 71/200, loss: 7.1635, duration: 0:00:01.204219\n"
     ]
    },
    {
     "name": "stdout",
     "output_type": "stream",
     "text": [
      "episode: 81/200, loss: 2.3643, duration: 0:00:01.089874\n"
     ]
    },
    {
     "name": "stdout",
     "output_type": "stream",
     "text": [
      "episode: 91/200, loss: 2.7363, duration: 0:00:01.082136\n"
     ]
    },
    {
     "name": "stdout",
     "output_type": "stream",
     "text": [
      "episode: 101/200, loss: 2.5958, duration: 0:00:01.093335\n"
     ]
    },
    {
     "name": "stdout",
     "output_type": "stream",
     "text": [
      "episode: 111/200, loss: 2.9115, duration: 0:00:01.078287\n"
     ]
    },
    {
     "name": "stdout",
     "output_type": "stream",
     "text": [
      "episode: 121/200, loss: 2.2092, duration: 0:00:01.083396\n"
     ]
    },
    {
     "name": "stdout",
     "output_type": "stream",
     "text": [
      "episode: 131/200, loss: 3.1919, duration: 0:00:01.144684\n"
     ]
    },
    {
     "name": "stdout",
     "output_type": "stream",
     "text": [
      "episode: 141/200, loss: 9.6813, duration: 0:00:01.211583\n"
     ]
    },
    {
     "name": "stdout",
     "output_type": "stream",
     "text": [
      "episode: 151/200, loss: 5.9083, duration: 0:00:01.224805\n"
     ]
    },
    {
     "name": "stdout",
     "output_type": "stream",
     "text": [
      "episode: 161/200, loss: 0.9182, duration: 0:00:01.129959\n"
     ]
    },
    {
     "name": "stdout",
     "output_type": "stream",
     "text": [
      "episode: 171/200, loss: 3.5277, duration: 0:00:01.112490\n"
     ]
    },
    {
     "name": "stdout",
     "output_type": "stream",
     "text": [
      "episode: 181/200, loss: 3.0673, duration: 0:00:01.080838\n"
     ]
    },
    {
     "name": "stdout",
     "output_type": "stream",
     "text": [
      "episode: 191/200, loss: 4.3421, duration: 0:00:01.138804\n"
     ]
    },
    {
     "name": "stdout",
     "output_type": "stream",
     "text": [
      "#############################################################################\n",
      "##\t[72/450]\tmodel=RL_CNN,\tSEED=0,\ttrade=7,\trisk=10000\thold=1\t##\n",
      "#############################################################################\n"
     ]
    },
    {
     "name": "stdout",
     "output_type": "stream",
     "text": [
      "episode: 1/200, loss: 10.2505, duration: 0:00:01.112488\n"
     ]
    },
    {
     "name": "stdout",
     "output_type": "stream",
     "text": [
      "episode: 11/200, loss: 2.2973, duration: 0:00:01.132023\n"
     ]
    },
    {
     "name": "stdout",
     "output_type": "stream",
     "text": [
      "episode: 21/200, loss: 3.4814, duration: 0:00:01.142789\n"
     ]
    },
    {
     "name": "stdout",
     "output_type": "stream",
     "text": [
      "episode: 31/200, loss: 4.6235, duration: 0:00:01.088511\n"
     ]
    },
    {
     "name": "stdout",
     "output_type": "stream",
     "text": [
      "episode: 41/200, loss: 7.1105, duration: 0:00:01.170859\n"
     ]
    },
    {
     "name": "stdout",
     "output_type": "stream",
     "text": [
      "episode: 51/200, loss: 4.0104, duration: 0:00:01.111076\n"
     ]
    },
    {
     "name": "stdout",
     "output_type": "stream",
     "text": [
      "episode: 61/200, loss: 6.0511, duration: 0:00:01.082744\n"
     ]
    },
    {
     "name": "stdout",
     "output_type": "stream",
     "text": [
      "episode: 71/200, loss: 7.1639, duration: 0:00:01.114836\n"
     ]
    },
    {
     "name": "stdout",
     "output_type": "stream",
     "text": [
      "episode: 81/200, loss: 2.3578, duration: 0:00:01.138741\n"
     ]
    },
    {
     "name": "stdout",
     "output_type": "stream",
     "text": [
      "episode: 91/200, loss: 2.7395, duration: 0:00:01.091844\n"
     ]
    },
    {
     "name": "stdout",
     "output_type": "stream",
     "text": [
      "episode: 101/200, loss: 2.6033, duration: 0:00:01.177858\n"
     ]
    },
    {
     "name": "stdout",
     "output_type": "stream",
     "text": [
      "episode: 111/200, loss: 2.9134, duration: 0:00:01.133775\n"
     ]
    },
    {
     "name": "stdout",
     "output_type": "stream",
     "text": [
      "episode: 121/200, loss: 2.2082, duration: 0:00:01.081323\n"
     ]
    },
    {
     "name": "stdout",
     "output_type": "stream",
     "text": [
      "episode: 131/200, loss: 3.2001, duration: 0:00:01.113979\n"
     ]
    },
    {
     "name": "stdout",
     "output_type": "stream",
     "text": [
      "episode: 141/200, loss: 9.6784, duration: 0:00:01.084256\n"
     ]
    },
    {
     "name": "stdout",
     "output_type": "stream",
     "text": [
      "episode: 151/200, loss: 5.9073, duration: 0:00:01.192331\n"
     ]
    },
    {
     "name": "stdout",
     "output_type": "stream",
     "text": [
      "episode: 161/200, loss: 0.9210, duration: 0:00:01.135111\n"
     ]
    },
    {
     "name": "stdout",
     "output_type": "stream",
     "text": [
      "episode: 171/200, loss: 3.5489, duration: 0:00:01.143188\n"
     ]
    },
    {
     "name": "stdout",
     "output_type": "stream",
     "text": [
      "episode: 181/200, loss: 3.0708, duration: 0:00:01.141269\n"
     ]
    },
    {
     "name": "stdout",
     "output_type": "stream",
     "text": [
      "episode: 191/200, loss: 4.3309, duration: 0:00:01.119659\n"
     ]
    },
    {
     "name": "stdout",
     "output_type": "stream",
     "text": [
      "#############################################################################\n",
      "##\t[73/450]\tmodel=RL_CNN,\tSEED=0,\ttrade=7,\trisk=10000\thold=10\t##\n",
      "#############################################################################\n"
     ]
    },
    {
     "name": "stdout",
     "output_type": "stream",
     "text": [
      "episode: 1/200, loss: 10.2590, duration: 0:00:01.113236\n"
     ]
    },
    {
     "name": "stdout",
     "output_type": "stream",
     "text": [
      "episode: 11/200, loss: 2.3008, duration: 0:00:01.116876\n"
     ]
    },
    {
     "name": "stdout",
     "output_type": "stream",
     "text": [
      "episode: 21/200, loss: 3.4850, duration: 0:00:01.081107\n"
     ]
    },
    {
     "name": "stdout",
     "output_type": "stream",
     "text": [
      "episode: 31/200, loss: 4.6257, duration: 0:00:01.216970\n"
     ]
    },
    {
     "name": "stdout",
     "output_type": "stream",
     "text": [
      "episode: 41/200, loss: 7.1167, duration: 0:00:01.082347\n"
     ]
    },
    {
     "name": "stdout",
     "output_type": "stream",
     "text": [
      "episode: 51/200, loss: 4.0171, duration: 0:00:01.095457\n"
     ]
    },
    {
     "name": "stdout",
     "output_type": "stream",
     "text": [
      "episode: 61/200, loss: 6.0507, duration: 0:00:01.080941\n"
     ]
    },
    {
     "name": "stdout",
     "output_type": "stream",
     "text": [
      "episode: 71/200, loss: 7.1664, duration: 0:00:01.138220\n"
     ]
    },
    {
     "name": "stdout",
     "output_type": "stream",
     "text": [
      "episode: 81/200, loss: 2.3568, duration: 0:00:01.245199\n"
     ]
    },
    {
     "name": "stdout",
     "output_type": "stream",
     "text": [
      "episode: 91/200, loss: 2.7418, duration: 0:00:01.114553\n"
     ]
    },
    {
     "name": "stdout",
     "output_type": "stream",
     "text": [
      "episode: 101/200, loss: 2.6033, duration: 0:00:01.075392\n"
     ]
    },
    {
     "name": "stdout",
     "output_type": "stream",
     "text": [
      "episode: 111/200, loss: 2.9084, duration: 0:00:01.081951\n"
     ]
    },
    {
     "name": "stdout",
     "output_type": "stream",
     "text": [
      "episode: 121/200, loss: 2.2080, duration: 0:00:01.114211\n"
     ]
    },
    {
     "name": "stdout",
     "output_type": "stream",
     "text": [
      "episode: 131/200, loss: 3.2030, duration: 0:00:01.093524\n"
     ]
    },
    {
     "name": "stdout",
     "output_type": "stream",
     "text": [
      "episode: 141/200, loss: 9.6772, duration: 0:00:01.213263\n"
     ]
    },
    {
     "name": "stdout",
     "output_type": "stream",
     "text": [
      "episode: 151/200, loss: 5.9106, duration: 0:00:01.082083\n"
     ]
    },
    {
     "name": "stdout",
     "output_type": "stream",
     "text": [
      "episode: 161/200, loss: 0.9235, duration: 0:00:01.075472\n"
     ]
    },
    {
     "name": "stdout",
     "output_type": "stream",
     "text": [
      "episode: 171/200, loss: 3.5492, duration: 0:00:01.262092\n"
     ]
    },
    {
     "name": "stdout",
     "output_type": "stream",
     "text": [
      "episode: 181/200, loss: 3.0762, duration: 0:00:01.129616\n"
     ]
    },
    {
     "name": "stdout",
     "output_type": "stream",
     "text": [
      "episode: 191/200, loss: 4.3356, duration: 0:00:01.210362\n"
     ]
    },
    {
     "name": "stdout",
     "output_type": "stream",
     "text": [
      "#############################################################################\n",
      "##\t[74/450]\tmodel=RL_CNN,\tSEED=0,\ttrade=7,\trisk=10000\thold=100\t##\n",
      "#############################################################################\n"
     ]
    },
    {
     "name": "stdout",
     "output_type": "stream",
     "text": [
      "episode: 1/200, loss: 10.3436, duration: 0:00:01.159660\n"
     ]
    },
    {
     "name": "stdout",
     "output_type": "stream",
     "text": [
      "episode: 11/200, loss: 2.3318, duration: 0:00:01.219972\n"
     ]
    },
    {
     "name": "stdout",
     "output_type": "stream",
     "text": [
      "episode: 21/200, loss: 3.4691, duration: 0:00:01.203205\n"
     ]
    },
    {
     "name": "stdout",
     "output_type": "stream",
     "text": [
      "episode: 31/200, loss: 4.6513, duration: 0:00:01.132000\n"
     ]
    },
    {
     "name": "stdout",
     "output_type": "stream",
     "text": [
      "episode: 41/200, loss: 7.1418, duration: 0:00:01.080165\n"
     ]
    },
    {
     "name": "stdout",
     "output_type": "stream",
     "text": [
      "episode: 51/200, loss: 4.1148, duration: 0:00:01.158114\n"
     ]
    },
    {
     "name": "stdout",
     "output_type": "stream",
     "text": [
      "episode: 61/200, loss: 6.0443, duration: 0:00:01.100991\n"
     ]
    },
    {
     "name": "stdout",
     "output_type": "stream",
     "text": [
      "episode: 71/200, loss: 7.1876, duration: 0:00:01.171603\n"
     ]
    },
    {
     "name": "stdout",
     "output_type": "stream",
     "text": [
      "episode: 81/200, loss: 2.3645, duration: 0:00:01.083659\n"
     ]
    },
    {
     "name": "stdout",
     "output_type": "stream",
     "text": [
      "episode: 91/200, loss: 2.7713, duration: 0:00:01.097773\n"
     ]
    },
    {
     "name": "stdout",
     "output_type": "stream",
     "text": [
      "episode: 101/200, loss: 2.6135, duration: 0:00:01.074281\n"
     ]
    },
    {
     "name": "stdout",
     "output_type": "stream",
     "text": [
      "episode: 111/200, loss: 2.9388, duration: 0:00:01.264835\n"
     ]
    },
    {
     "name": "stdout",
     "output_type": "stream",
     "text": [
      "episode: 121/200, loss: 2.2007, duration: 0:00:01.107102\n"
     ]
    },
    {
     "name": "stdout",
     "output_type": "stream",
     "text": [
      "episode: 131/200, loss: 3.2686, duration: 0:00:01.166320\n"
     ]
    },
    {
     "name": "stdout",
     "output_type": "stream",
     "text": [
      "episode: 141/200, loss: 9.7178, duration: 0:00:01.085615\n"
     ]
    },
    {
     "name": "stdout",
     "output_type": "stream",
     "text": [
      "episode: 151/200, loss: 5.9359, duration: 0:00:01.093111\n"
     ]
    },
    {
     "name": "stdout",
     "output_type": "stream",
     "text": [
      "episode: 161/200, loss: 0.9066, duration: 0:00:01.265595\n"
     ]
    },
    {
     "name": "stdout",
     "output_type": "stream",
     "text": [
      "episode: 171/200, loss: 3.2931, duration: 0:00:01.111040\n"
     ]
    },
    {
     "name": "stdout",
     "output_type": "stream",
     "text": [
      "episode: 181/200, loss: 3.1656, duration: 0:00:01.209602\n"
     ]
    },
    {
     "name": "stdout",
     "output_type": "stream",
     "text": [
      "episode: 191/200, loss: 4.6134, duration: 0:00:01.077948\n"
     ]
    },
    {
     "name": "stdout",
     "output_type": "stream",
     "text": [
      "#############################################################################\n",
      "##\t[75/450]\tmodel=RL_CNN,\tSEED=0,\ttrade=7,\trisk=10000\thold=1000\t##\n",
      "#############################################################################\n"
     ]
    },
    {
     "name": "stdout",
     "output_type": "stream",
     "text": [
      "episode: 1/200, loss: 11.1899, duration: 0:00:01.203133\n"
     ]
    },
    {
     "name": "stdout",
     "output_type": "stream",
     "text": [
      "episode: 11/200, loss: 2.6276, duration: 0:00:01.072949\n"
     ]
    },
    {
     "name": "stdout",
     "output_type": "stream",
     "text": [
      "episode: 21/200, loss: 3.4901, duration: 0:00:01.128800\n"
     ]
    },
    {
     "name": "stdout",
     "output_type": "stream",
     "text": [
      "episode: 31/200, loss: 4.9253, duration: 0:00:01.111007\n"
     ]
    },
    {
     "name": "stdout",
     "output_type": "stream",
     "text": [
      "episode: 41/200, loss: 7.5203, duration: 0:00:01.130587\n"
     ]
    },
    {
     "name": "stdout",
     "output_type": "stream",
     "text": [
      "episode: 51/200, loss: 5.0520, duration: 0:00:01.134370\n"
     ]
    },
    {
     "name": "stdout",
     "output_type": "stream",
     "text": [
      "episode: 61/200, loss: 6.0982, duration: 0:00:01.225302\n"
     ]
    },
    {
     "name": "stdout",
     "output_type": "stream",
     "text": [
      "episode: 71/200, loss: 7.4903, duration: 0:00:01.080422\n"
     ]
    },
    {
     "name": "stdout",
     "output_type": "stream",
     "text": [
      "episode: 81/200, loss: 2.4003, duration: 0:00:01.093821\n"
     ]
    },
    {
     "name": "stdout",
     "output_type": "stream",
     "text": [
      "episode: 91/200, loss: 3.0248, duration: 0:00:01.138172\n"
     ]
    },
    {
     "name": "stdout",
     "output_type": "stream",
     "text": [
      "episode: 101/200, loss: 2.7319, duration: 0:00:01.179385\n"
     ]
    },
    {
     "name": "stdout",
     "output_type": "stream",
     "text": [
      "episode: 111/200, loss: 3.0155, duration: 0:00:01.178139\n"
     ]
    },
    {
     "name": "stdout",
     "output_type": "stream",
     "text": [
      "episode: 121/200, loss: 2.3433, duration: 0:00:01.136063\n"
     ]
    },
    {
     "name": "stdout",
     "output_type": "stream",
     "text": [
      "episode: 131/200, loss: 3.5549, duration: 0:00:01.114473\n"
     ]
    },
    {
     "name": "stdout",
     "output_type": "stream",
     "text": [
      "episode: 141/200, loss: 9.5942, duration: 0:00:01.138628\n"
     ]
    },
    {
     "name": "stdout",
     "output_type": "stream",
     "text": [
      "episode: 151/200, loss: 6.1030, duration: 0:00:01.080409\n"
     ]
    },
    {
     "name": "stdout",
     "output_type": "stream",
     "text": [
      "episode: 161/200, loss: 0.9488, duration: 0:00:01.136863\n"
     ]
    },
    {
     "name": "stdout",
     "output_type": "stream",
     "text": [
      "episode: 171/200, loss: 3.4896, duration: 0:00:01.259777\n"
     ]
    },
    {
     "name": "stdout",
     "output_type": "stream",
     "text": [
      "episode: 181/200, loss: 3.3117, duration: 0:00:01.113604\n"
     ]
    },
    {
     "name": "stdout",
     "output_type": "stream",
     "text": [
      "episode: 191/200, loss: 5.5735, duration: 0:00:01.144307\n"
     ]
    },
    {
     "name": "stdout",
     "output_type": "stream",
     "text": [
      "\talready exists: trade_8_risk_1_hold_0.1\n",
      "\tskip to next.\n",
      "\talready exists: trade_8_risk_1_hold_1\n",
      "\tskip to next.\n",
      "\talready exists: trade_8_risk_1_hold_10\n",
      "\tskip to next.\n",
      "\talready exists: trade_8_risk_1_hold_100\n",
      "\tskip to next.\n",
      "\talready exists: trade_8_risk_1_hold_1000\n",
      "\tskip to next.\n",
      "\talready exists: trade_8_risk_2_hold_0.1\n",
      "\tskip to next.\n",
      "\talready exists: trade_8_risk_2_hold_1\n",
      "\tskip to next.\n",
      "\talready exists: trade_8_risk_2_hold_10\n",
      "\tskip to next.\n",
      "\talready exists: trade_8_risk_2_hold_100\n",
      "\tskip to next.\n",
      "\talready exists: trade_8_risk_2_hold_1000\n",
      "\tskip to next.\n",
      "\talready exists: trade_8_risk_3_hold_0.1\n",
      "\tskip to next.\n",
      "\talready exists: trade_8_risk_3_hold_1\n",
      "\tskip to next.\n",
      "\talready exists: trade_8_risk_3_hold_10\n",
      "\tskip to next.\n",
      "\talready exists: trade_8_risk_3_hold_100\n",
      "\tskip to next.\n",
      "\talready exists: trade_8_risk_3_hold_1000\n",
      "\tskip to next.\n",
      "\talready exists: trade_8_risk_6_hold_0.1\n",
      "\tskip to next.\n",
      "\talready exists: trade_8_risk_6_hold_1\n",
      "\tskip to next.\n",
      "\talready exists: trade_8_risk_6_hold_10\n",
      "\tskip to next.\n",
      "\talready exists: trade_8_risk_6_hold_100\n",
      "\tskip to next.\n",
      "\talready exists: trade_8_risk_6_hold_1000\n",
      "\tskip to next.\n",
      "\talready exists: trade_8_risk_10_hold_0.1\n",
      "\tskip to next.\n",
      "\talready exists: trade_8_risk_10_hold_1\n",
      "\tskip to next.\n",
      "\talready exists: trade_8_risk_10_hold_10\n",
      "\tskip to next.\n",
      "\talready exists: trade_8_risk_10_hold_100\n",
      "\tskip to next.\n",
      "\talready exists: trade_8_risk_10_hold_1000\n",
      "\tskip to next.\n",
      "\talready exists: trade_8_risk_18_hold_0.1\n",
      "\tskip to next.\n",
      "\talready exists: trade_8_risk_18_hold_1\n",
      "\tskip to next.\n",
      "\talready exists: trade_8_risk_18_hold_10\n",
      "\tskip to next.\n",
      "\talready exists: trade_8_risk_18_hold_100\n",
      "\tskip to next.\n",
      "\talready exists: trade_8_risk_18_hold_1000\n",
      "\tskip to next.\n",
      "\talready exists: trade_8_risk_32_hold_0.1\n",
      "\tskip to next.\n",
      "\talready exists: trade_8_risk_32_hold_1\n",
      "\tskip to next.\n",
      "\talready exists: trade_8_risk_32_hold_10\n",
      "\tskip to next.\n",
      "\talready exists: trade_8_risk_32_hold_100\n",
      "\tskip to next.\n",
      "\talready exists: trade_8_risk_32_hold_1000\n",
      "\tskip to next.\n",
      "\talready exists: trade_8_risk_56_hold_0.1\n",
      "\tskip to next.\n",
      "\talready exists: trade_8_risk_56_hold_1\n",
      "\tskip to next.\n",
      "\talready exists: trade_8_risk_56_hold_10\n",
      "\tskip to next.\n",
      "\talready exists: trade_8_risk_56_hold_100\n",
      "\tskip to next.\n",
      "\talready exists: trade_8_risk_56_hold_1000\n",
      "\tskip to next.\n",
      "\talready exists: trade_8_risk_100_hold_0.1\n",
      "\tskip to next.\n",
      "\talready exists: trade_8_risk_100_hold_1\n",
      "\tskip to next.\n",
      "\talready exists: trade_8_risk_100_hold_10\n",
      "\tskip to next.\n",
      "\talready exists: trade_8_risk_100_hold_100\n",
      "\tskip to next.\n",
      "\talready exists: trade_8_risk_100_hold_1000\n",
      "\tskip to next.\n",
      "\talready exists: trade_8_risk_178_hold_0.1\n",
      "\tskip to next.\n",
      "\talready exists: trade_8_risk_178_hold_1\n",
      "\tskip to next.\n",
      "\talready exists: trade_8_risk_178_hold_10\n",
      "\tskip to next.\n",
      "\talready exists: trade_8_risk_178_hold_100\n",
      "\tskip to next.\n",
      "\talready exists: trade_8_risk_178_hold_1000\n",
      "\tskip to next.\n",
      "\talready exists: trade_8_risk_316_hold_0.1\n",
      "\tskip to next.\n",
      "\talready exists: trade_8_risk_316_hold_1\n",
      "\tskip to next.\n",
      "\talready exists: trade_8_risk_316_hold_10\n",
      "\tskip to next.\n",
      "\talready exists: trade_8_risk_316_hold_100\n",
      "\tskip to next.\n",
      "\talready exists: trade_8_risk_316_hold_1000\n",
      "\tskip to next.\n",
      "\talready exists: trade_8_risk_562_hold_0.1\n",
      "\tskip to next.\n",
      "\talready exists: trade_8_risk_562_hold_1\n",
      "\tskip to next.\n",
      "\talready exists: trade_8_risk_562_hold_10\n",
      "\tskip to next.\n",
      "\talready exists: trade_8_risk_562_hold_100\n",
      "\tskip to next.\n",
      "\talready exists: trade_8_risk_562_hold_1000\n",
      "\tskip to next.\n",
      "\talready exists: trade_8_risk_1000_hold_0.1\n",
      "\tskip to next.\n",
      "\talready exists: trade_8_risk_1000_hold_1\n",
      "\tskip to next.\n",
      "\talready exists: trade_8_risk_1000_hold_10\n",
      "\tskip to next.\n",
      "\talready exists: trade_8_risk_1000_hold_100\n",
      "\tskip to next.\n",
      "\talready exists: trade_8_risk_1000_hold_1000\n",
      "\tskip to next.\n",
      "#############################################################################\n",
      "##\t[141/450]\tmodel=RL_CNN,\tSEED=0,\ttrade=8,\trisk=5000\thold=0.1\t##\n",
      "#############################################################################\n"
     ]
    },
    {
     "name": "stdout",
     "output_type": "stream",
     "text": [
      "episode: 1/200, loss: 5.1540, duration: 0:00:01.163017\n"
     ]
    },
    {
     "name": "stdout",
     "output_type": "stream",
     "text": [
      "episode: 11/200, loss: 1.1525, duration: 0:00:01.080527\n"
     ]
    },
    {
     "name": "stdout",
     "output_type": "stream",
     "text": [
      "episode: 21/200, loss: 1.7416, duration: 0:00:01.129807\n"
     ]
    },
    {
     "name": "stdout",
     "output_type": "stream",
     "text": [
      "episode: 31/200, loss: 2.3257, duration: 0:00:01.116458\n"
     ]
    },
    {
     "name": "stdout",
     "output_type": "stream",
     "text": [
      "episode: 41/200, loss: 3.5781, duration: 0:00:01.243265\n"
     ]
    },
    {
     "name": "stdout",
     "output_type": "stream",
     "text": [
      "episode: 51/200, loss: 2.0138, duration: 0:00:01.079352\n"
     ]
    },
    {
     "name": "stdout",
     "output_type": "stream",
     "text": [
      "episode: 61/200, loss: 3.0825, duration: 0:00:01.099020\n"
     ]
    },
    {
     "name": "stdout",
     "output_type": "stream",
     "text": [
      "episode: 71/200, loss: 3.5964, duration: 0:00:01.088937\n"
     ]
    },
    {
     "name": "stdout",
     "output_type": "stream",
     "text": [
      "episode: 81/200, loss: 1.1656, duration: 0:00:01.150170\n"
     ]
    },
    {
     "name": "stdout",
     "output_type": "stream",
     "text": [
      "episode: 91/200, loss: 1.3753, duration: 0:00:01.105931\n"
     ]
    },
    {
     "name": "stdout",
     "output_type": "stream",
     "text": [
      "episode: 101/200, loss: 1.2960, duration: 0:00:01.189699\n"
     ]
    },
    {
     "name": "stdout",
     "output_type": "stream",
     "text": [
      "episode: 111/200, loss: 1.4605, duration: 0:00:01.110671\n"
     ]
    },
    {
     "name": "stdout",
     "output_type": "stream",
     "text": [
      "episode: 121/200, loss: 1.0975, duration: 0:00:01.088013\n"
     ]
    },
    {
     "name": "stdout",
     "output_type": "stream",
     "text": [
      "episode: 131/200, loss: 1.5975, duration: 0:00:01.127683\n"
     ]
    },
    {
     "name": "stdout",
     "output_type": "stream",
     "text": [
      "episode: 141/200, loss: 4.8532, duration: 0:00:01.073931\n"
     ]
    },
    {
     "name": "stdout",
     "output_type": "stream",
     "text": [
      "episode: 151/200, loss: 2.9566, duration: 0:00:01.230433\n"
     ]
    },
    {
     "name": "stdout",
     "output_type": "stream",
     "text": [
      "episode: 161/200, loss: 0.4569, duration: 0:00:01.135002\n"
     ]
    },
    {
     "name": "stdout",
     "output_type": "stream",
     "text": [
      "episode: 171/200, loss: 1.7688, duration: 0:00:01.109530\n"
     ]
    },
    {
     "name": "stdout",
     "output_type": "stream",
     "text": [
      "episode: 181/200, loss: 1.5484, duration: 0:00:01.128518\n"
     ]
    },
    {
     "name": "stdout",
     "output_type": "stream",
     "text": [
      "episode: 191/200, loss: 2.1593, duration: 0:00:01.084182\n"
     ]
    },
    {
     "name": "stdout",
     "output_type": "stream",
     "text": [
      "#############################################################################\n",
      "##\t[142/450]\tmodel=RL_CNN,\tSEED=0,\ttrade=8,\trisk=5000\thold=1\t##\n",
      "#############################################################################\n"
     ]
    },
    {
     "name": "stdout",
     "output_type": "stream",
     "text": [
      "episode: 1/200, loss: 5.1549, duration: 0:00:01.100156\n"
     ]
    },
    {
     "name": "stdout",
     "output_type": "stream",
     "text": [
      "episode: 11/200, loss: 1.1530, duration: 0:00:01.091527\n"
     ]
    },
    {
     "name": "stdout",
     "output_type": "stream",
     "text": [
      "episode: 21/200, loss: 1.7416, duration: 0:00:01.123685\n"
     ]
    },
    {
     "name": "stdout",
     "output_type": "stream",
     "text": [
      "episode: 31/200, loss: 2.3259, duration: 0:00:01.167818\n"
     ]
    },
    {
     "name": "stdout",
     "output_type": "stream",
     "text": [
      "episode: 41/200, loss: 3.5785, duration: 0:00:01.087346\n"
     ]
    },
    {
     "name": "stdout",
     "output_type": "stream",
     "text": [
      "episode: 51/200, loss: 2.0149, duration: 0:00:01.087673\n"
     ]
    },
    {
     "name": "stdout",
     "output_type": "stream",
     "text": [
      "episode: 61/200, loss: 3.0825, duration: 0:00:01.114429\n"
     ]
    },
    {
     "name": "stdout",
     "output_type": "stream",
     "text": [
      "episode: 71/200, loss: 3.5965, duration: 0:00:01.079170\n"
     ]
    },
    {
     "name": "stdout",
     "output_type": "stream",
     "text": [
      "episode: 81/200, loss: 1.1658, duration: 0:00:01.210323\n"
     ]
    },
    {
     "name": "stdout",
     "output_type": "stream",
     "text": [
      "episode: 91/200, loss: 1.3754, duration: 0:00:01.116033\n"
     ]
    },
    {
     "name": "stdout",
     "output_type": "stream",
     "text": [
      "episode: 101/200, loss: 1.2961, duration: 0:00:01.083653\n"
     ]
    },
    {
     "name": "stdout",
     "output_type": "stream",
     "text": [
      "episode: 111/200, loss: 1.4588, duration: 0:00:01.083903\n"
     ]
    },
    {
     "name": "stdout",
     "output_type": "stream",
     "text": [
      "episode: 121/200, loss: 1.0980, duration: 0:00:01.093300\n"
     ]
    },
    {
     "name": "stdout",
     "output_type": "stream",
     "text": [
      "episode: 131/200, loss: 1.5981, duration: 0:00:01.088101\n"
     ]
    },
    {
     "name": "stdout",
     "output_type": "stream",
     "text": [
      "episode: 141/200, loss: 4.8549, duration: 0:00:01.186443\n"
     ]
    },
    {
     "name": "stdout",
     "output_type": "stream",
     "text": [
      "episode: 151/200, loss: 2.9558, duration: 0:00:01.092280\n"
     ]
    },
    {
     "name": "stdout",
     "output_type": "stream",
     "text": [
      "episode: 161/200, loss: 0.4570, duration: 0:00:01.118429\n"
     ]
    },
    {
     "name": "stdout",
     "output_type": "stream",
     "text": [
      "episode: 171/200, loss: 1.7681, duration: 0:00:01.091027\n"
     ]
    },
    {
     "name": "stdout",
     "output_type": "stream",
     "text": [
      "episode: 181/200, loss: 1.5501, duration: 0:00:01.133151\n"
     ]
    },
    {
     "name": "stdout",
     "output_type": "stream",
     "text": [
      "episode: 191/200, loss: 2.1618, duration: 0:00:01.190538\n"
     ]
    },
    {
     "name": "stdout",
     "output_type": "stream",
     "text": [
      "#############################################################################\n",
      "##\t[143/450]\tmodel=RL_CNN,\tSEED=0,\ttrade=8,\trisk=5000\thold=10\t##\n",
      "#############################################################################\n"
     ]
    },
    {
     "name": "stdout",
     "output_type": "stream",
     "text": [
      "episode: 1/200, loss: 5.1633, duration: 0:00:01.141565\n"
     ]
    },
    {
     "name": "stdout",
     "output_type": "stream",
     "text": [
      "episode: 11/200, loss: 1.1558, duration: 0:00:01.230363\n"
     ]
    },
    {
     "name": "stdout",
     "output_type": "stream",
     "text": [
      "episode: 21/200, loss: 1.7383, duration: 0:00:01.257823\n"
     ]
    },
    {
     "name": "stdout",
     "output_type": "stream",
     "text": [
      "episode: 31/200, loss: 2.3292, duration: 0:00:01.105629\n"
     ]
    },
    {
     "name": "stdout",
     "output_type": "stream",
     "text": [
      "episode: 41/200, loss: 3.5808, duration: 0:00:01.128099\n"
     ]
    },
    {
     "name": "stdout",
     "output_type": "stream",
     "text": [
      "episode: 51/200, loss: 2.0256, duration: 0:00:01.080108\n"
     ]
    },
    {
     "name": "stdout",
     "output_type": "stream",
     "text": [
      "episode: 61/200, loss: 3.0848, duration: 0:00:01.093822\n"
     ]
    },
    {
     "name": "stdout",
     "output_type": "stream",
     "text": [
      "episode: 71/200, loss: 3.5994, duration: 0:00:01.188958\n"
     ]
    },
    {
     "name": "stdout",
     "output_type": "stream",
     "text": [
      "episode: 81/200, loss: 1.1691, duration: 0:00:01.260286\n"
     ]
    },
    {
     "name": "stdout",
     "output_type": "stream",
     "text": [
      "episode: 91/200, loss: 1.3784, duration: 0:00:01.086248\n"
     ]
    },
    {
     "name": "stdout",
     "output_type": "stream",
     "text": [
      "episode: 101/200, loss: 1.2972, duration: 0:00:01.130673\n"
     ]
    },
    {
     "name": "stdout",
     "output_type": "stream",
     "text": [
      "episode: 111/200, loss: 1.4566, duration: 0:00:01.078236\n"
     ]
    },
    {
     "name": "stdout",
     "output_type": "stream",
     "text": [
      "episode: 121/200, loss: 1.0989, duration: 0:00:01.078770\n"
     ]
    },
    {
     "name": "stdout",
     "output_type": "stream",
     "text": [
      "episode: 131/200, loss: 1.5990, duration: 0:00:01.179756\n"
     ]
    },
    {
     "name": "stdout",
     "output_type": "stream",
     "text": [
      "episode: 141/200, loss: 4.8581, duration: 0:00:01.082599\n"
     ]
    },
    {
     "name": "stdout",
     "output_type": "stream",
     "text": [
      "episode: 151/200, loss: 2.9571, duration: 0:00:01.137673\n"
     ]
    },
    {
     "name": "stdout",
     "output_type": "stream",
     "text": [
      "episode: 161/200, loss: 0.4584, duration: 0:00:01.072119\n"
     ]
    },
    {
     "name": "stdout",
     "output_type": "stream",
     "text": [
      "episode: 171/200, loss: 1.7616, duration: 0:00:01.089475\n"
     ]
    },
    {
     "name": "stdout",
     "output_type": "stream",
     "text": [
      "episode: 181/200, loss: 1.5565, duration: 0:00:01.224564\n"
     ]
    },
    {
     "name": "stdout",
     "output_type": "stream",
     "text": [
      "episode: 191/200, loss: 2.1700, duration: 0:00:01.127507\n"
     ]
    },
    {
     "name": "stdout",
     "output_type": "stream",
     "text": [
      "#############################################################################\n",
      "##\t[144/450]\tmodel=RL_CNN,\tSEED=0,\ttrade=8,\trisk=5000\thold=100\t##\n",
      "#############################################################################\n"
     ]
    },
    {
     "name": "stdout",
     "output_type": "stream",
     "text": [
      "episode: 1/200, loss: 5.2480, duration: 0:00:01.219316\n"
     ]
    },
    {
     "name": "stdout",
     "output_type": "stream",
     "text": [
      "episode: 11/200, loss: 1.1850, duration: 0:00:01.102113\n"
     ]
    },
    {
     "name": "stdout",
     "output_type": "stream",
     "text": [
      "episode: 21/200, loss: 1.7068, duration: 0:00:01.129971\n"
     ]
    },
    {
     "name": "stdout",
     "output_type": "stream",
     "text": [
      "episode: 31/200, loss: 2.3593, duration: 0:00:01.261302\n"
     ]
    },
    {
     "name": "stdout",
     "output_type": "stream",
     "text": [
      "episode: 41/200, loss: 3.6068, duration: 0:00:01.090593\n"
     ]
    },
    {
     "name": "stdout",
     "output_type": "stream",
     "text": [
      "episode: 51/200, loss: 2.1068, duration: 0:00:01.096543\n"
     ]
    },
    {
     "name": "stdout",
     "output_type": "stream",
     "text": [
      "episode: 61/200, loss: 3.0924, duration: 0:00:01.216602\n"
     ]
    },
    {
     "name": "stdout",
     "output_type": "stream",
     "text": [
      "episode: 71/200, loss: 3.6305, duration: 0:00:01.139783\n"
     ]
    },
    {
     "name": "stdout",
     "output_type": "stream",
     "text": [
      "episode: 81/200, loss: 1.1890, duration: 0:00:01.265957\n"
     ]
    },
    {
     "name": "stdout",
     "output_type": "stream",
     "text": [
      "episode: 91/200, loss: 1.4010, duration: 0:00:01.116139\n"
     ]
    },
    {
     "name": "stdout",
     "output_type": "stream",
     "text": [
      "episode: 101/200, loss: 1.3192, duration: 0:00:01.084499\n"
     ]
    },
    {
     "name": "stdout",
     "output_type": "stream",
     "text": [
      "episode: 111/200, loss: 1.4734, duration: 0:00:01.217445\n"
     ]
    },
    {
     "name": "stdout",
     "output_type": "stream",
     "text": [
      "episode: 121/200, loss: 1.1054, duration: 0:00:01.091982\n"
     ]
    },
    {
     "name": "stdout",
     "output_type": "stream",
     "text": [
      "episode: 131/200, loss: 1.6286, duration: 0:00:01.087318\n"
     ]
    },
    {
     "name": "stdout",
     "output_type": "stream",
     "text": [
      "episode: 141/200, loss: 4.8224, duration: 0:00:01.085954\n"
     ]
    },
    {
     "name": "stdout",
     "output_type": "stream",
     "text": [
      "episode: 151/200, loss: 3.0013, duration: 0:00:01.073984\n"
     ]
    },
    {
     "name": "stdout",
     "output_type": "stream",
     "text": [
      "episode: 161/200, loss: 0.4608, duration: 0:00:01.111700\n"
     ]
    },
    {
     "name": "stdout",
     "output_type": "stream",
     "text": [
      "episode: 171/200, loss: 1.6393, duration: 0:00:01.214013\n"
     ]
    },
    {
     "name": "stdout",
     "output_type": "stream",
     "text": [
      "episode: 181/200, loss: 1.5501, duration: 0:00:01.113629\n"
     ]
    },
    {
     "name": "stdout",
     "output_type": "stream",
     "text": [
      "episode: 191/200, loss: 2.3402, duration: 0:00:01.106469\n"
     ]
    },
    {
     "name": "stdout",
     "output_type": "stream",
     "text": [
      "#############################################################################\n",
      "##\t[145/450]\tmodel=RL_CNN,\tSEED=0,\ttrade=8,\trisk=5000\thold=1000\t##\n",
      "#############################################################################\n"
     ]
    },
    {
     "name": "stdout",
     "output_type": "stream",
     "text": [
      "episode: 1/200, loss: 6.0943, duration: 0:00:01.115368\n"
     ]
    },
    {
     "name": "stdout",
     "output_type": "stream",
     "text": [
      "episode: 11/200, loss: 1.4573, duration: 0:00:01.264063\n"
     ]
    },
    {
     "name": "stdout",
     "output_type": "stream",
     "text": [
      "episode: 21/200, loss: 1.8141, duration: 0:00:01.085919\n"
     ]
    },
    {
     "name": "stdout",
     "output_type": "stream",
     "text": [
      "episode: 31/200, loss: 2.4756, duration: 0:00:01.165508\n"
     ]
    },
    {
     "name": "stdout",
     "output_type": "stream",
     "text": [
      "episode: 41/200, loss: 4.0435, duration: 0:00:01.301705\n"
     ]
    },
    {
     "name": "stdout",
     "output_type": "stream",
     "text": [
      "episode: 51/200, loss: 2.7391, duration: 0:00:01.261596\n"
     ]
    },
    {
     "name": "stdout",
     "output_type": "stream",
     "text": [
      "episode: 61/200, loss: 3.2226, duration: 0:00:01.156605\n"
     ]
    },
    {
     "name": "stdout",
     "output_type": "stream",
     "text": [
      "episode: 71/200, loss: 3.8393, duration: 0:00:01.112511\n"
     ]
    },
    {
     "name": "stdout",
     "output_type": "stream",
     "text": [
      "episode: 81/200, loss: 1.3254, duration: 0:00:01.081462\n"
     ]
    },
    {
     "name": "stdout",
     "output_type": "stream",
     "text": [
      "episode: 91/200, loss: 1.6105, duration: 0:00:01.089008\n"
     ]
    },
    {
     "name": "stdout",
     "output_type": "stream",
     "text": [
      "episode: 101/200, loss: 1.2890, duration: 0:00:01.237870\n"
     ]
    },
    {
     "name": "stdout",
     "output_type": "stream",
     "text": [
      "episode: 111/200, loss: 1.5656, duration: 0:00:01.117349\n"
     ]
    },
    {
     "name": "stdout",
     "output_type": "stream",
     "text": [
      "episode: 121/200, loss: 1.2176, duration: 0:00:01.265551\n"
     ]
    },
    {
     "name": "stdout",
     "output_type": "stream",
     "text": [
      "episode: 131/200, loss: 1.9468, duration: 0:00:01.262485\n"
     ]
    },
    {
     "name": "stdout",
     "output_type": "stream",
     "text": [
      "episode: 141/200, loss: 4.7990, duration: 0:00:01.266068\n"
     ]
    },
    {
     "name": "stdout",
     "output_type": "stream",
     "text": [
      "episode: 151/200, loss: 3.1587, duration: 0:00:01.251301\n"
     ]
    },
    {
     "name": "stdout",
     "output_type": "stream",
     "text": [
      "episode: 161/200, loss: 0.4887, duration: 0:00:01.081230\n"
     ]
    },
    {
     "name": "stdout",
     "output_type": "stream",
     "text": [
      "episode: 171/200, loss: 1.8315, duration: 0:00:01.115076\n"
     ]
    },
    {
     "name": "stdout",
     "output_type": "stream",
     "text": [
      "episode: 181/200, loss: 1.8307, duration: 0:00:01.117934\n"
     ]
    },
    {
     "name": "stdout",
     "output_type": "stream",
     "text": [
      "episode: 191/200, loss: 3.1014, duration: 0:00:01.083464\n"
     ]
    },
    {
     "name": "stdout",
     "output_type": "stream",
     "text": [
      "#############################################################################\n",
      "##\t[146/450]\tmodel=RL_CNN,\tSEED=0,\ttrade=8,\trisk=10000\thold=0.1\t##\n",
      "#############################################################################\n"
     ]
    },
    {
     "name": "stdout",
     "output_type": "stream",
     "text": [
      "episode: 1/200, loss: 10.2558, duration: 0:00:01.163703\n"
     ]
    },
    {
     "name": "stdout",
     "output_type": "stream",
     "text": [
      "episode: 11/200, loss: 2.2982, duration: 0:00:01.395857\n"
     ]
    },
    {
     "name": "stdout",
     "output_type": "stream",
     "text": [
      "episode: 21/200, loss: 3.4835, duration: 0:00:01.128030\n"
     ]
    },
    {
     "name": "stdout",
     "output_type": "stream",
     "text": [
      "episode: 31/200, loss: 4.6259, duration: 0:00:01.096521\n"
     ]
    },
    {
     "name": "stdout",
     "output_type": "stream",
     "text": [
      "episode: 41/200, loss: 7.1161, duration: 0:00:01.146248\n"
     ]
    },
    {
     "name": "stdout",
     "output_type": "stream",
     "text": [
      "episode: 51/200, loss: 4.0231, duration: 0:00:01.086904\n"
     ]
    },
    {
     "name": "stdout",
     "output_type": "stream",
     "text": [
      "episode: 61/200, loss: 6.0482, duration: 0:00:01.094546\n"
     ]
    },
    {
     "name": "stdout",
     "output_type": "stream",
     "text": [
      "episode: 71/200, loss: 7.1708, duration: 0:00:01.154610\n"
     ]
    },
    {
     "name": "stdout",
     "output_type": "stream",
     "text": [
      "episode: 81/200, loss: 2.3668, duration: 0:00:01.223201\n"
     ]
    },
    {
     "name": "stdout",
     "output_type": "stream",
     "text": [
      "episode: 91/200, loss: 2.7355, duration: 0:00:01.116066\n"
     ]
    },
    {
     "name": "stdout",
     "output_type": "stream",
     "text": [
      "episode: 101/200, loss: 2.5933, duration: 0:00:01.105890\n"
     ]
    },
    {
     "name": "stdout",
     "output_type": "stream",
     "text": [
      "episode: 111/200, loss: 2.9098, duration: 0:00:01.098027\n"
     ]
    },
    {
     "name": "stdout",
     "output_type": "stream",
     "text": [
      "episode: 121/200, loss: 2.2119, duration: 0:00:01.094400\n"
     ]
    },
    {
     "name": "stdout",
     "output_type": "stream",
     "text": [
      "episode: 131/200, loss: 3.1924, duration: 0:00:01.252545\n"
     ]
    },
    {
     "name": "stdout",
     "output_type": "stream",
     "text": [
      "episode: 141/200, loss: 9.6629, duration: 0:00:01.103145\n"
     ]
    },
    {
     "name": "stdout",
     "output_type": "stream",
     "text": [
      "episode: 151/200, loss: 5.9182, duration: 0:00:01.088635\n"
     ]
    },
    {
     "name": "stdout",
     "output_type": "stream",
     "text": [
      "episode: 161/200, loss: 0.9270, duration: 0:00:01.139424\n"
     ]
    },
    {
     "name": "stdout",
     "output_type": "stream",
     "text": [
      "episode: 171/200, loss: 3.5964, duration: 0:00:01.086798\n"
     ]
    },
    {
     "name": "stdout",
     "output_type": "stream",
     "text": [
      "episode: 181/200, loss: 3.0539, duration: 0:00:01.143765\n"
     ]
    },
    {
     "name": "stdout",
     "output_type": "stream",
     "text": [
      "episode: 191/200, loss: 4.2831, duration: 0:00:01.238825\n"
     ]
    },
    {
     "name": "stdout",
     "output_type": "stream",
     "text": [
      "#############################################################################\n",
      "##\t[147/450]\tmodel=RL_CNN,\tSEED=0,\ttrade=8,\trisk=10000\thold=1\t##\n",
      "#############################################################################\n"
     ]
    },
    {
     "name": "stdout",
     "output_type": "stream",
     "text": [
      "episode: 1/200, loss: 10.2567, duration: 0:00:01.149819\n"
     ]
    },
    {
     "name": "stdout",
     "output_type": "stream",
     "text": [
      "episode: 11/200, loss: 2.2988, duration: 0:00:01.143056\n"
     ]
    },
    {
     "name": "stdout",
     "output_type": "stream",
     "text": [
      "episode: 21/200, loss: 3.4837, duration: 0:00:01.085499\n"
     ]
    },
    {
     "name": "stdout",
     "output_type": "stream",
     "text": [
      "episode: 31/200, loss: 4.6260, duration: 0:00:01.097106\n"
     ]
    },
    {
     "name": "stdout",
     "output_type": "stream",
     "text": [
      "episode: 41/200, loss: 7.1165, duration: 0:00:01.138806\n"
     ]
    },
    {
     "name": "stdout",
     "output_type": "stream",
     "text": [
      "episode: 51/200, loss: 4.0127, duration: 0:00:01.145113\n"
     ]
    },
    {
     "name": "stdout",
     "output_type": "stream",
     "text": [
      "episode: 61/200, loss: 6.0553, duration: 0:00:01.076188\n"
     ]
    },
    {
     "name": "stdout",
     "output_type": "stream",
     "text": [
      "episode: 71/200, loss: 7.1657, duration: 0:00:01.177912\n"
     ]
    },
    {
     "name": "stdout",
     "output_type": "stream",
     "text": [
      "episode: 81/200, loss: 2.3601, duration: 0:00:01.085266\n"
     ]
    },
    {
     "name": "stdout",
     "output_type": "stream",
     "text": [
      "episode: 91/200, loss: 2.7415, duration: 0:00:01.085914\n"
     ]
    },
    {
     "name": "stdout",
     "output_type": "stream",
     "text": [
      "episode: 101/200, loss: 2.6051, duration: 0:00:01.244583\n"
     ]
    },
    {
     "name": "stdout",
     "output_type": "stream",
     "text": [
      "episode: 111/200, loss: 2.9144, duration: 0:00:01.108488\n"
     ]
    },
    {
     "name": "stdout",
     "output_type": "stream",
     "text": [
      "episode: 121/200, loss: 2.2093, duration: 0:00:01.169718\n"
     ]
    },
    {
     "name": "stdout",
     "output_type": "stream",
     "text": [
      "episode: 131/200, loss: 3.2006, duration: 0:00:01.077639\n"
     ]
    },
    {
     "name": "stdout",
     "output_type": "stream",
     "text": [
      "episode: 141/200, loss: 9.6828, duration: 0:00:01.081678\n"
     ]
    },
    {
     "name": "stdout",
     "output_type": "stream",
     "text": [
      "episode: 151/200, loss: 5.9063, duration: 0:00:01.263313\n"
     ]
    },
    {
     "name": "stdout",
     "output_type": "stream",
     "text": [
      "episode: 161/200, loss: 0.9183, duration: 0:00:01.262441\n"
     ]
    },
    {
     "name": "stdout",
     "output_type": "stream",
     "text": [
      "episode: 171/200, loss: 3.5251, duration: 0:00:01.262838\n"
     ]
    },
    {
     "name": "stdout",
     "output_type": "stream",
     "text": [
      "episode: 181/200, loss: 3.0746, duration: 0:00:01.178601\n"
     ]
    },
    {
     "name": "stdout",
     "output_type": "stream",
     "text": [
      "episode: 191/200, loss: 4.3512, duration: 0:00:01.142282\n"
     ]
    },
    {
     "name": "stdout",
     "output_type": "stream",
     "text": [
      "#############################################################################\n",
      "##\t[148/450]\tmodel=RL_CNN,\tSEED=0,\ttrade=8,\trisk=10000\thold=10\t##\n",
      "#############################################################################\n"
     ]
    },
    {
     "name": "stdout",
     "output_type": "stream",
     "text": [
      "episode: 1/200, loss: 10.2651, duration: 0:00:01.242233\n"
     ]
    },
    {
     "name": "stdout",
     "output_type": "stream",
     "text": [
      "episode: 11/200, loss: 2.3023, duration: 0:00:01.098226\n"
     ]
    },
    {
     "name": "stdout",
     "output_type": "stream",
     "text": [
      "episode: 21/200, loss: 3.4827, duration: 0:00:01.151590\n"
     ]
    },
    {
     "name": "stdout",
     "output_type": "stream",
     "text": [
      "episode: 31/200, loss: 4.6286, duration: 0:00:01.090129\n"
     ]
    },
    {
     "name": "stdout",
     "output_type": "stream",
     "text": [
      "episode: 41/200, loss: 7.1201, duration: 0:00:01.275772\n"
     ]
    },
    {
     "name": "stdout",
     "output_type": "stream",
     "text": [
      "episode: 51/200, loss: 4.0317, duration: 0:00:01.170504\n"
     ]
    },
    {
     "name": "stdout",
     "output_type": "stream",
     "text": [
      "episode: 61/200, loss: 6.0478, duration: 0:00:01.133656\n"
     ]
    },
    {
     "name": "stdout",
     "output_type": "stream",
     "text": [
      "episode: 71/200, loss: 7.1749, duration: 0:00:01.139388\n"
     ]
    },
    {
     "name": "stdout",
     "output_type": "stream",
     "text": [
      "episode: 81/200, loss: 2.3671, duration: 0:00:01.140713\n"
     ]
    },
    {
     "name": "stdout",
     "output_type": "stream",
     "text": [
      "episode: 91/200, loss: 2.7395, duration: 0:00:01.277223\n"
     ]
    },
    {
     "name": "stdout",
     "output_type": "stream",
     "text": [
      "episode: 101/200, loss: 2.5965, duration: 0:00:01.141112\n"
     ]
    },
    {
     "name": "stdout",
     "output_type": "stream",
     "text": [
      "episode: 111/200, loss: 2.9085, duration: 0:00:01.214491\n"
     ]
    },
    {
     "name": "stdout",
     "output_type": "stream",
     "text": [
      "episode: 121/200, loss: 2.2119, duration: 0:00:01.115163\n"
     ]
    },
    {
     "name": "stdout",
     "output_type": "stream",
     "text": [
      "episode: 131/200, loss: 3.1952, duration: 0:00:01.123526\n"
     ]
    },
    {
     "name": "stdout",
     "output_type": "stream",
     "text": [
      "episode: 141/200, loss: 9.6699, duration: 0:00:01.126790\n"
     ]
    },
    {
     "name": "stdout",
     "output_type": "stream",
     "text": [
      "episode: 151/200, loss: 5.9181, duration: 0:00:01.083823\n"
     ]
    },
    {
     "name": "stdout",
     "output_type": "stream",
     "text": [
      "episode: 161/200, loss: 0.9260, duration: 0:00:01.212945\n"
     ]
    },
    {
     "name": "stdout",
     "output_type": "stream",
     "text": [
      "episode: 171/200, loss: 3.5699, duration: 0:00:01.137064\n"
     ]
    },
    {
     "name": "stdout",
     "output_type": "stream",
     "text": [
      "episode: 181/200, loss: 3.0693, duration: 0:00:01.136905\n"
     ]
    },
    {
     "name": "stdout",
     "output_type": "stream",
     "text": [
      "episode: 191/200, loss: 4.3128, duration: 0:00:01.116793\n"
     ]
    },
    {
     "name": "stdout",
     "output_type": "stream",
     "text": [
      "#############################################################################\n",
      "##\t[149/450]\tmodel=RL_CNN,\tSEED=0,\ttrade=8,\trisk=10000\thold=100\t##\n",
      "#############################################################################\n"
     ]
    },
    {
     "name": "stdout",
     "output_type": "stream",
     "text": [
      "episode: 1/200, loss: 10.3497, duration: 0:00:01.330784\n"
     ]
    },
    {
     "name": "stdout",
     "output_type": "stream",
     "text": [
      "episode: 11/200, loss: 2.3332, duration: 0:00:01.184797\n"
     ]
    },
    {
     "name": "stdout",
     "output_type": "stream",
     "text": [
      "episode: 21/200, loss: 3.4714, duration: 0:00:01.289999\n"
     ]
    },
    {
     "name": "stdout",
     "output_type": "stream",
     "text": [
      "episode: 31/200, loss: 4.6537, duration: 0:00:01.311275\n"
     ]
    },
    {
     "name": "stdout",
     "output_type": "stream",
     "text": [
      "episode: 41/200, loss: 7.1468, duration: 0:00:01.192109\n"
     ]
    },
    {
     "name": "stdout",
     "output_type": "stream",
     "text": [
      "episode: 51/200, loss: 4.1167, duration: 0:00:01.141984\n"
     ]
    },
    {
     "name": "stdout",
     "output_type": "stream",
     "text": [
      "episode: 61/200, loss: 6.0478, duration: 0:00:01.140764\n"
     ]
    },
    {
     "name": "stdout",
     "output_type": "stream",
     "text": [
      "episode: 71/200, loss: 7.1897, duration: 0:00:01.122366\n"
     ]
    },
    {
     "name": "stdout",
     "output_type": "stream",
     "text": [
      "episode: 81/200, loss: 2.3660, duration: 0:00:01.166700\n"
     ]
    },
    {
     "name": "stdout",
     "output_type": "stream",
     "text": [
      "episode: 91/200, loss: 2.7735, duration: 0:00:01.241720\n"
     ]
    },
    {
     "name": "stdout",
     "output_type": "stream",
     "text": [
      "episode: 101/200, loss: 2.6155, duration: 0:00:01.186101\n"
     ]
    },
    {
     "name": "stdout",
     "output_type": "stream",
     "text": [
      "episode: 111/200, loss: 2.9398, duration: 0:00:01.131033\n"
     ]
    },
    {
     "name": "stdout",
     "output_type": "stream",
     "text": [
      "episode: 121/200, loss: 2.2019, duration: 0:00:01.209182\n"
     ]
    },
    {
     "name": "stdout",
     "output_type": "stream",
     "text": [
      "episode: 131/200, loss: 3.2686, duration: 0:00:01.161826\n"
     ]
    },
    {
     "name": "stdout",
     "output_type": "stream",
     "text": [
      "episode: 141/200, loss: 9.7181, duration: 0:00:01.121853\n"
     ]
    },
    {
     "name": "stdout",
     "output_type": "stream",
     "text": [
      "episode: 151/200, loss: 5.9364, duration: 0:00:01.262672\n"
     ]
    },
    {
     "name": "stdout",
     "output_type": "stream",
     "text": [
      "episode: 161/200, loss: 0.9071, duration: 0:00:01.095374\n"
     ]
    },
    {
     "name": "stdout",
     "output_type": "stream",
     "text": [
      "episode: 171/200, loss: 3.2938, duration: 0:00:01.100139\n"
     ]
    },
    {
     "name": "stdout",
     "output_type": "stream",
     "text": [
      "episode: 181/200, loss: 3.1655, duration: 0:00:01.180659\n"
     ]
    },
    {
     "name": "stdout",
     "output_type": "stream",
     "text": [
      "episode: 191/200, loss: 4.6133, duration: 0:00:01.105574\n"
     ]
    },
    {
     "name": "stdout",
     "output_type": "stream",
     "text": [
      "#############################################################################\n",
      "##\t[150/450]\tmodel=RL_CNN,\tSEED=0,\ttrade=8,\trisk=10000\thold=1000\t##\n",
      "#############################################################################\n"
     ]
    },
    {
     "name": "stdout",
     "output_type": "stream",
     "text": [
      "episode: 1/200, loss: 11.1961, duration: 0:00:01.310214\n"
     ]
    },
    {
     "name": "stdout",
     "output_type": "stream",
     "text": [
      "episode: 11/200, loss: 2.6289, duration: 0:00:01.234073\n"
     ]
    },
    {
     "name": "stdout",
     "output_type": "stream",
     "text": [
      "episode: 21/200, loss: 3.4919, duration: 0:00:01.129539\n"
     ]
    },
    {
     "name": "stdout",
     "output_type": "stream",
     "text": [
      "episode: 31/200, loss: 4.9275, duration: 0:00:01.148591\n"
     ]
    },
    {
     "name": "stdout",
     "output_type": "stream",
     "text": [
      "episode: 41/200, loss: 7.5249, duration: 0:00:01.187676\n"
     ]
    },
    {
     "name": "stdout",
     "output_type": "stream",
     "text": [
      "episode: 51/200, loss: 5.0538, duration: 0:00:01.099938\n"
     ]
    },
    {
     "name": "stdout",
     "output_type": "stream",
     "text": [
      "episode: 61/200, loss: 6.1014, duration: 0:00:01.086132\n"
     ]
    },
    {
     "name": "stdout",
     "output_type": "stream",
     "text": [
      "episode: 71/200, loss: 7.4920, duration: 0:00:01.182750\n"
     ]
    },
    {
     "name": "stdout",
     "output_type": "stream",
     "text": [
      "episode: 81/200, loss: 2.4021, duration: 0:00:01.135398\n"
     ]
    },
    {
     "name": "stdout",
     "output_type": "stream",
     "text": [
      "episode: 91/200, loss: 3.0263, duration: 0:00:01.076509\n"
     ]
    },
    {
     "name": "stdout",
     "output_type": "stream",
     "text": [
      "episode: 101/200, loss: 2.7331, duration: 0:00:01.205989\n"
     ]
    },
    {
     "name": "stdout",
     "output_type": "stream",
     "text": [
      "episode: 111/200, loss: 3.0207, duration: 0:00:01.095385\n"
     ]
    },
    {
     "name": "stdout",
     "output_type": "stream",
     "text": [
      "episode: 121/200, loss: 2.3442, duration: 0:00:01.145088\n"
     ]
    },
    {
     "name": "stdout",
     "output_type": "stream",
     "text": [
      "episode: 131/200, loss: 3.5558, duration: 0:00:01.198333\n"
     ]
    },
    {
     "name": "stdout",
     "output_type": "stream",
     "text": [
      "episode: 141/200, loss: 9.5950, duration: 0:00:01.118076\n"
     ]
    },
    {
     "name": "stdout",
     "output_type": "stream",
     "text": [
      "episode: 151/200, loss: 6.1038, duration: 0:00:01.094589\n"
     ]
    },
    {
     "name": "stdout",
     "output_type": "stream",
     "text": [
      "episode: 161/200, loss: 0.9490, duration: 0:00:01.326203\n"
     ]
    },
    {
     "name": "stdout",
     "output_type": "stream",
     "text": [
      "episode: 171/200, loss: 3.4901, duration: 0:00:01.080899\n"
     ]
    },
    {
     "name": "stdout",
     "output_type": "stream",
     "text": [
      "episode: 181/200, loss: 3.3119, duration: 0:00:01.113487\n"
     ]
    },
    {
     "name": "stdout",
     "output_type": "stream",
     "text": [
      "episode: 191/200, loss: 5.5759, duration: 0:00:01.251853\n"
     ]
    },
    {
     "name": "stdout",
     "output_type": "stream",
     "text": [
      "\talready exists: trade_9_risk_1_hold_0.1\n",
      "\tskip to next.\n",
      "\talready exists: trade_9_risk_1_hold_1\n",
      "\tskip to next.\n",
      "\talready exists: trade_9_risk_1_hold_10\n",
      "\tskip to next.\n",
      "\talready exists: trade_9_risk_1_hold_100\n",
      "\tskip to next.\n",
      "\talready exists: trade_9_risk_1_hold_1000\n",
      "\tskip to next.\n",
      "\talready exists: trade_9_risk_2_hold_0.1\n",
      "\tskip to next.\n",
      "\talready exists: trade_9_risk_2_hold_1\n",
      "\tskip to next.\n",
      "\talready exists: trade_9_risk_2_hold_10\n",
      "\tskip to next.\n",
      "\talready exists: trade_9_risk_2_hold_100\n",
      "\tskip to next.\n",
      "\talready exists: trade_9_risk_2_hold_1000\n",
      "\tskip to next.\n",
      "\talready exists: trade_9_risk_3_hold_0.1\n",
      "\tskip to next.\n",
      "\talready exists: trade_9_risk_3_hold_1\n",
      "\tskip to next.\n",
      "\talready exists: trade_9_risk_3_hold_10\n",
      "\tskip to next.\n",
      "\talready exists: trade_9_risk_3_hold_100\n",
      "\tskip to next.\n",
      "\talready exists: trade_9_risk_3_hold_1000\n",
      "\tskip to next.\n",
      "\talready exists: trade_9_risk_6_hold_0.1\n",
      "\tskip to next.\n",
      "\talready exists: trade_9_risk_6_hold_1\n",
      "\tskip to next.\n",
      "\talready exists: trade_9_risk_6_hold_10\n",
      "\tskip to next.\n",
      "\talready exists: trade_9_risk_6_hold_100\n",
      "\tskip to next.\n",
      "\talready exists: trade_9_risk_6_hold_1000\n",
      "\tskip to next.\n",
      "\talready exists: trade_9_risk_10_hold_0.1\n",
      "\tskip to next.\n",
      "\talready exists: trade_9_risk_10_hold_1\n",
      "\tskip to next.\n",
      "\talready exists: trade_9_risk_10_hold_10\n",
      "\tskip to next.\n",
      "\talready exists: trade_9_risk_10_hold_100\n",
      "\tskip to next.\n",
      "\talready exists: trade_9_risk_10_hold_1000\n",
      "\tskip to next.\n",
      "\talready exists: trade_9_risk_18_hold_0.1\n",
      "\tskip to next.\n",
      "\talready exists: trade_9_risk_18_hold_1\n",
      "\tskip to next.\n",
      "\talready exists: trade_9_risk_18_hold_10\n",
      "\tskip to next.\n",
      "\talready exists: trade_9_risk_18_hold_100\n",
      "\tskip to next.\n",
      "\talready exists: trade_9_risk_18_hold_1000\n",
      "\tskip to next.\n",
      "\talready exists: trade_9_risk_32_hold_0.1\n",
      "\tskip to next.\n",
      "\talready exists: trade_9_risk_32_hold_1\n",
      "\tskip to next.\n",
      "\talready exists: trade_9_risk_32_hold_10\n",
      "\tskip to next.\n",
      "\talready exists: trade_9_risk_32_hold_100\n",
      "\tskip to next.\n",
      "\talready exists: trade_9_risk_32_hold_1000\n",
      "\tskip to next.\n",
      "\talready exists: trade_9_risk_56_hold_0.1\n",
      "\tskip to next.\n",
      "\talready exists: trade_9_risk_56_hold_1\n",
      "\tskip to next.\n",
      "\talready exists: trade_9_risk_56_hold_10\n",
      "\tskip to next.\n",
      "\talready exists: trade_9_risk_56_hold_100\n",
      "\tskip to next.\n",
      "\talready exists: trade_9_risk_56_hold_1000\n",
      "\tskip to next.\n",
      "\talready exists: trade_9_risk_100_hold_0.1\n",
      "\tskip to next.\n",
      "\talready exists: trade_9_risk_100_hold_1\n",
      "\tskip to next.\n",
      "\talready exists: trade_9_risk_100_hold_10\n",
      "\tskip to next.\n",
      "\talready exists: trade_9_risk_100_hold_100\n",
      "\tskip to next.\n",
      "\talready exists: trade_9_risk_100_hold_1000\n",
      "\tskip to next.\n",
      "\talready exists: trade_9_risk_178_hold_0.1\n",
      "\tskip to next.\n",
      "\talready exists: trade_9_risk_178_hold_1\n",
      "\tskip to next.\n",
      "\talready exists: trade_9_risk_178_hold_10\n",
      "\tskip to next.\n",
      "\talready exists: trade_9_risk_178_hold_100\n",
      "\tskip to next.\n",
      "\talready exists: trade_9_risk_178_hold_1000\n",
      "\tskip to next.\n",
      "\talready exists: trade_9_risk_316_hold_0.1\n",
      "\tskip to next.\n",
      "\talready exists: trade_9_risk_316_hold_1\n",
      "\tskip to next.\n",
      "\talready exists: trade_9_risk_316_hold_10\n",
      "\tskip to next.\n",
      "\talready exists: trade_9_risk_316_hold_100\n",
      "\tskip to next.\n",
      "\talready exists: trade_9_risk_316_hold_1000\n",
      "\tskip to next.\n",
      "\talready exists: trade_9_risk_562_hold_0.1\n",
      "\tskip to next.\n",
      "\talready exists: trade_9_risk_562_hold_1\n",
      "\tskip to next.\n",
      "\talready exists: trade_9_risk_562_hold_10\n",
      "\tskip to next.\n",
      "\talready exists: trade_9_risk_562_hold_100\n",
      "\tskip to next.\n",
      "\talready exists: trade_9_risk_562_hold_1000\n",
      "\tskip to next.\n",
      "\talready exists: trade_9_risk_1000_hold_0.1\n",
      "\tskip to next.\n",
      "\talready exists: trade_9_risk_1000_hold_1\n",
      "\tskip to next.\n",
      "\talready exists: trade_9_risk_1000_hold_10\n",
      "\tskip to next.\n",
      "\talready exists: trade_9_risk_1000_hold_100\n",
      "\tskip to next.\n",
      "\talready exists: trade_9_risk_1000_hold_1000\n",
      "\tskip to next.\n",
      "#############################################################################\n",
      "##\t[216/450]\tmodel=RL_CNN,\tSEED=0,\ttrade=9,\trisk=5000\thold=0.1\t##\n",
      "#############################################################################\n"
     ]
    },
    {
     "name": "stdout",
     "output_type": "stream",
     "text": [
      "episode: 1/200, loss: 5.1602, duration: 0:00:01.159028\n"
     ]
    },
    {
     "name": "stdout",
     "output_type": "stream",
     "text": [
      "episode: 11/200, loss: 1.1537, duration: 0:00:01.108957\n"
     ]
    },
    {
     "name": "stdout",
     "output_type": "stream",
     "text": [
      "episode: 21/200, loss: 1.7443, duration: 0:00:01.092949\n"
     ]
    },
    {
     "name": "stdout",
     "output_type": "stream",
     "text": [
      "episode: 31/200, loss: 2.3273, duration: 0:00:01.106891\n"
     ]
    },
    {
     "name": "stdout",
     "output_type": "stream",
     "text": [
      "episode: 41/200, loss: 3.5827, duration: 0:00:01.105695\n"
     ]
    },
    {
     "name": "stdout",
     "output_type": "stream",
     "text": [
      "episode: 51/200, loss: 2.0160, duration: 0:00:01.266079\n"
     ]
    },
    {
     "name": "stdout",
     "output_type": "stream",
     "text": [
      "episode: 61/200, loss: 3.0859, duration: 0:00:01.121310\n"
     ]
    },
    {
     "name": "stdout",
     "output_type": "stream",
     "text": [
      "episode: 71/200, loss: 3.5984, duration: 0:00:01.110371\n"
     ]
    },
    {
     "name": "stdout",
     "output_type": "stream",
     "text": [
      "episode: 81/200, loss: 1.1672, duration: 0:00:01.165316\n"
     ]
    },
    {
     "name": "stdout",
     "output_type": "stream",
     "text": [
      "episode: 91/200, loss: 1.3775, duration: 0:00:01.101999\n"
     ]
    },
    {
     "name": "stdout",
     "output_type": "stream",
     "text": [
      "episode: 101/200, loss: 1.2976, duration: 0:00:01.270836\n"
     ]
    },
    {
     "name": "stdout",
     "output_type": "stream",
     "text": [
      "episode: 111/200, loss: 1.4618, duration: 0:00:01.104684\n"
     ]
    },
    {
     "name": "stdout",
     "output_type": "stream",
     "text": [
      "episode: 121/200, loss: 1.0992, duration: 0:00:01.132771\n"
     ]
    },
    {
     "name": "stdout",
     "output_type": "stream",
     "text": [
      "episode: 131/200, loss: 1.5983, duration: 0:00:01.141567\n"
     ]
    },
    {
     "name": "stdout",
     "output_type": "stream",
     "text": [
      "episode: 141/200, loss: 4.8563, duration: 0:00:01.079842\n"
     ]
    },
    {
     "name": "stdout",
     "output_type": "stream",
     "text": [
      "episode: 151/200, loss: 2.9566, duration: 0:00:01.263789\n"
     ]
    },
    {
     "name": "stdout",
     "output_type": "stream",
     "text": [
      "episode: 161/200, loss: 0.4573, duration: 0:00:01.213119\n"
     ]
    },
    {
     "name": "stdout",
     "output_type": "stream",
     "text": [
      "episode: 171/200, loss: 1.7691, duration: 0:00:01.109275\n"
     ]
    },
    {
     "name": "stdout",
     "output_type": "stream",
     "text": [
      "episode: 181/200, loss: 1.5501, duration: 0:00:01.263512\n"
     ]
    },
    {
     "name": "stdout",
     "output_type": "stream",
     "text": [
      "episode: 191/200, loss: 2.1623, duration: 0:00:01.120104\n"
     ]
    },
    {
     "name": "stderr",
     "output_type": "stream",
     "text": [
      "/usr/local/lib/python3.7/site-packages/ipykernel_launcher.py:136: RuntimeWarning: More than 20 figures have been opened. Figures created through the pyplot interface (`matplotlib.pyplot.figure`) are retained until explicitly closed and may consume too much memory. (To control this warning, see the rcParam `figure.max_open_warning`).\n"
     ]
    },
    {
     "name": "stdout",
     "output_type": "stream",
     "text": [
      "#############################################################################\n",
      "##\t[217/450]\tmodel=RL_CNN,\tSEED=0,\ttrade=9,\trisk=5000\thold=1\t##\n",
      "#############################################################################\n"
     ]
    },
    {
     "name": "stdout",
     "output_type": "stream",
     "text": [
      "episode: 1/200, loss: 5.1610, duration: 0:00:01.107950\n"
     ]
    },
    {
     "name": "stdout",
     "output_type": "stream",
     "text": [
      "episode: 11/200, loss: 1.1541, duration: 0:00:01.129702\n"
     ]
    },
    {
     "name": "stdout",
     "output_type": "stream",
     "text": [
      "episode: 21/200, loss: 1.7444, duration: 0:00:01.082136\n"
     ]
    },
    {
     "name": "stdout",
     "output_type": "stream",
     "text": [
      "episode: 31/200, loss: 2.3274, duration: 0:00:01.176892\n"
     ]
    },
    {
     "name": "stdout",
     "output_type": "stream",
     "text": [
      "episode: 41/200, loss: 3.5831, duration: 0:00:01.104376\n"
     ]
    },
    {
     "name": "stdout",
     "output_type": "stream",
     "text": [
      "episode: 51/200, loss: 2.0170, duration: 0:00:01.119920\n"
     ]
    },
    {
     "name": "stdout",
     "output_type": "stream",
     "text": [
      "episode: 61/200, loss: 3.0862, duration: 0:00:01.140243\n"
     ]
    },
    {
     "name": "stdout",
     "output_type": "stream",
     "text": [
      "episode: 71/200, loss: 3.5987, duration: 0:00:01.145905\n"
     ]
    },
    {
     "name": "stdout",
     "output_type": "stream",
     "text": [
      "episode: 81/200, loss: 1.1670, duration: 0:00:01.086223\n"
     ]
    },
    {
     "name": "stdout",
     "output_type": "stream",
     "text": [
      "episode: 91/200, loss: 1.3783, duration: 0:00:01.198322\n"
     ]
    },
    {
     "name": "stdout",
     "output_type": "stream",
     "text": [
      "episode: 101/200, loss: 1.2968, duration: 0:00:01.106465\n"
     ]
    },
    {
     "name": "stdout",
     "output_type": "stream",
     "text": [
      "episode: 111/200, loss: 1.4641, duration: 0:00:01.090981\n"
     ]
    },
    {
     "name": "stdout",
     "output_type": "stream",
     "text": [
      "episode: 121/200, loss: 1.0969, duration: 0:00:01.113192\n"
     ]
    },
    {
     "name": "stdout",
     "output_type": "stream",
     "text": [
      "episode: 131/200, loss: 1.6021, duration: 0:00:01.093292\n"
     ]
    },
    {
     "name": "stdout",
     "output_type": "stream",
     "text": [
      "episode: 141/200, loss: 4.8597, duration: 0:00:01.213249\n"
     ]
    },
    {
     "name": "stdout",
     "output_type": "stream",
     "text": [
      "episode: 151/200, loss: 2.9545, duration: 0:00:01.087857\n"
     ]
    },
    {
     "name": "stdout",
     "output_type": "stream",
     "text": [
      "episode: 161/200, loss: 0.4566, duration: 0:00:01.098378\n"
     ]
    },
    {
     "name": "stdout",
     "output_type": "stream",
     "text": [
      "episode: 171/200, loss: 1.7582, duration: 0:00:01.117435\n"
     ]
    },
    {
     "name": "stdout",
     "output_type": "stream",
     "text": [
      "episode: 181/200, loss: 1.5538, duration: 0:00:01.112538\n"
     ]
    },
    {
     "name": "stdout",
     "output_type": "stream",
     "text": [
      "episode: 191/200, loss: 2.1744, duration: 0:00:01.108601\n"
     ]
    },
    {
     "name": "stderr",
     "output_type": "stream",
     "text": [
      "/usr/local/lib/python3.7/site-packages/ipykernel_launcher.py:136: RuntimeWarning: More than 20 figures have been opened. Figures created through the pyplot interface (`matplotlib.pyplot.figure`) are retained until explicitly closed and may consume too much memory. (To control this warning, see the rcParam `figure.max_open_warning`).\n"
     ]
    },
    {
     "name": "stdout",
     "output_type": "stream",
     "text": [
      "#############################################################################\n",
      "##\t[218/450]\tmodel=RL_CNN,\tSEED=0,\ttrade=9,\trisk=5000\thold=10\t##\n",
      "#############################################################################\n"
     ]
    },
    {
     "name": "stdout",
     "output_type": "stream",
     "text": [
      "episode: 1/200, loss: 5.1695, duration: 0:00:01.102548\n"
     ]
    },
    {
     "name": "stdout",
     "output_type": "stream",
     "text": [
      "episode: 11/200, loss: 1.1573, duration: 0:00:01.086051\n"
     ]
    },
    {
     "name": "stdout",
     "output_type": "stream",
     "text": [
      "episode: 21/200, loss: 1.7403, duration: 0:00:01.255297\n"
     ]
    },
    {
     "name": "stdout",
     "output_type": "stream",
     "text": [
      "episode: 31/200, loss: 2.3314, duration: 0:00:01.274448\n"
     ]
    },
    {
     "name": "stdout",
     "output_type": "stream",
     "text": [
      "episode: 41/200, loss: 3.5859, duration: 0:00:01.106908\n"
     ]
    },
    {
     "name": "stdout",
     "output_type": "stream",
     "text": [
      "episode: 51/200, loss: 2.0280, duration: 0:00:01.090396\n"
     ]
    },
    {
     "name": "stdout",
     "output_type": "stream",
     "text": [
      "episode: 61/200, loss: 3.0886, duration: 0:00:01.161414\n"
     ]
    },
    {
     "name": "stdout",
     "output_type": "stream",
     "text": [
      "episode: 71/200, loss: 3.6015, duration: 0:00:01.109016\n"
     ]
    },
    {
     "name": "stdout",
     "output_type": "stream",
     "text": [
      "episode: 81/200, loss: 1.1709, duration: 0:00:01.287424\n"
     ]
    },
    {
     "name": "stdout",
     "output_type": "stream",
     "text": [
      "episode: 91/200, loss: 1.3806, duration: 0:00:01.109866\n"
     ]
    },
    {
     "name": "stdout",
     "output_type": "stream",
     "text": [
      "episode: 101/200, loss: 1.2993, duration: 0:00:01.107749\n"
     ]
    },
    {
     "name": "stdout",
     "output_type": "stream",
     "text": [
      "episode: 111/200, loss: 1.4601, duration: 0:00:01.275004\n"
     ]
    },
    {
     "name": "stdout",
     "output_type": "stream",
     "text": [
      "episode: 121/200, loss: 1.0991, duration: 0:00:01.136455\n"
     ]
    },
    {
     "name": "stdout",
     "output_type": "stream",
     "text": [
      "episode: 131/200, loss: 1.6000, duration: 0:00:01.081957\n"
     ]
    },
    {
     "name": "stdout",
     "output_type": "stream",
     "text": [
      "episode: 141/200, loss: 4.8592, duration: 0:00:01.178163\n"
     ]
    },
    {
     "name": "stdout",
     "output_type": "stream",
     "text": [
      "episode: 151/200, loss: 2.9580, duration: 0:00:01.130295\n"
     ]
    },
    {
     "name": "stdout",
     "output_type": "stream",
     "text": [
      "episode: 161/200, loss: 0.4590, duration: 0:00:01.082545\n"
     ]
    },
    {
     "name": "stdout",
     "output_type": "stream",
     "text": [
      "episode: 171/200, loss: 1.7612, duration: 0:00:01.274551\n"
     ]
    },
    {
     "name": "stdout",
     "output_type": "stream",
     "text": [
      "episode: 181/200, loss: 1.5573, duration: 0:00:01.262088\n"
     ]
    },
    {
     "name": "stdout",
     "output_type": "stream",
     "text": [
      "episode: 191/200, loss: 2.1704, duration: 0:00:01.229073\n"
     ]
    },
    {
     "name": "stderr",
     "output_type": "stream",
     "text": [
      "/usr/local/lib/python3.7/site-packages/ipykernel_launcher.py:136: RuntimeWarning: More than 20 figures have been opened. Figures created through the pyplot interface (`matplotlib.pyplot.figure`) are retained until explicitly closed and may consume too much memory. (To control this warning, see the rcParam `figure.max_open_warning`).\n"
     ]
    },
    {
     "name": "stdout",
     "output_type": "stream",
     "text": [
      "#############################################################################\n",
      "##\t[219/450]\tmodel=RL_CNN,\tSEED=0,\ttrade=9,\trisk=5000\thold=100\t##\n",
      "#############################################################################\n"
     ]
    },
    {
     "name": "stdout",
     "output_type": "stream",
     "text": [
      "episode: 1/200, loss: 5.2541, duration: 0:00:01.109992\n"
     ]
    },
    {
     "name": "stdout",
     "output_type": "stream",
     "text": [
      "episode: 11/200, loss: 1.1864, duration: 0:00:01.177153\n"
     ]
    },
    {
     "name": "stdout",
     "output_type": "stream",
     "text": [
      "episode: 21/200, loss: 1.7092, duration: 0:00:01.238656\n"
     ]
    },
    {
     "name": "stdout",
     "output_type": "stream",
     "text": [
      "episode: 31/200, loss: 2.3618, duration: 0:00:01.087847\n"
     ]
    },
    {
     "name": "stdout",
     "output_type": "stream",
     "text": [
      "episode: 41/200, loss: 3.6116, duration: 0:00:01.270852\n"
     ]
    },
    {
     "name": "stdout",
     "output_type": "stream",
     "text": [
      "episode: 51/200, loss: 2.1090, duration: 0:00:01.115316\n"
     ]
    },
    {
     "name": "stdout",
     "output_type": "stream",
     "text": [
      "episode: 61/200, loss: 3.0961, duration: 0:00:01.276951\n"
     ]
    },
    {
     "name": "stdout",
     "output_type": "stream",
     "text": [
      "episode: 71/200, loss: 3.6304, duration: 0:00:01.249665\n"
     ]
    },
    {
     "name": "stdout",
     "output_type": "stream",
     "text": [
      "episode: 81/200, loss: 1.1910, duration: 0:00:01.083674\n"
     ]
    },
    {
     "name": "stdout",
     "output_type": "stream",
     "text": [
      "episode: 91/200, loss: 1.4021, duration: 0:00:01.265101\n"
     ]
    },
    {
     "name": "stdout",
     "output_type": "stream",
     "text": [
      "episode: 101/200, loss: 1.3177, duration: 0:00:01.265978\n"
     ]
    },
    {
     "name": "stdout",
     "output_type": "stream",
     "text": [
      "episode: 111/200, loss: 1.4751, duration: 0:00:01.149474\n"
     ]
    },
    {
     "name": "stdout",
     "output_type": "stream",
     "text": [
      "episode: 121/200, loss: 1.1090, duration: 0:00:01.277031\n"
     ]
    },
    {
     "name": "stdout",
     "output_type": "stream",
     "text": [
      "episode: 131/200, loss: 1.6243, duration: 0:00:01.380031\n"
     ]
    },
    {
     "name": "stdout",
     "output_type": "stream",
     "text": [
      "episode: 141/200, loss: 4.8195, duration: 0:00:01.128853\n"
     ]
    },
    {
     "name": "stdout",
     "output_type": "stream",
     "text": [
      "episode: 151/200, loss: 3.0030, duration: 0:00:01.268662\n"
     ]
    },
    {
     "name": "stdout",
     "output_type": "stream",
     "text": [
      "episode: 161/200, loss: 0.4623, duration: 0:00:01.277629\n"
     ]
    },
    {
     "name": "stdout",
     "output_type": "stream",
     "text": [
      "episode: 171/200, loss: 1.6433, duration: 0:00:01.084704\n"
     ]
    },
    {
     "name": "stdout",
     "output_type": "stream",
     "text": [
      "episode: 181/200, loss: 1.5497, duration: 0:00:01.382956\n"
     ]
    },
    {
     "name": "stdout",
     "output_type": "stream",
     "text": [
      "episode: 191/200, loss: 2.3222, duration: 0:00:01.142552\n"
     ]
    },
    {
     "name": "stderr",
     "output_type": "stream",
     "text": [
      "/usr/local/lib/python3.7/site-packages/ipykernel_launcher.py:136: RuntimeWarning: More than 20 figures have been opened. Figures created through the pyplot interface (`matplotlib.pyplot.figure`) are retained until explicitly closed and may consume too much memory. (To control this warning, see the rcParam `figure.max_open_warning`).\n"
     ]
    },
    {
     "name": "stdout",
     "output_type": "stream",
     "text": [
      "#############################################################################\n",
      "##\t[220/450]\tmodel=RL_CNN,\tSEED=0,\ttrade=9,\trisk=5000\thold=1000\t##\n",
      "#############################################################################\n"
     ]
    },
    {
     "name": "stdout",
     "output_type": "stream",
     "text": [
      "episode: 1/200, loss: 6.1004, duration: 0:00:01.295425\n"
     ]
    },
    {
     "name": "stdout",
     "output_type": "stream",
     "text": [
      "episode: 11/200, loss: 1.4584, duration: 0:00:01.113578\n"
     ]
    },
    {
     "name": "stdout",
     "output_type": "stream",
     "text": [
      "episode: 21/200, loss: 1.8155, duration: 0:00:01.138316\n"
     ]
    },
    {
     "name": "stdout",
     "output_type": "stream",
     "text": [
      "episode: 31/200, loss: 2.4772, duration: 0:00:01.265973\n"
     ]
    },
    {
     "name": "stdout",
     "output_type": "stream",
     "text": [
      "episode: 41/200, loss: 4.0476, duration: 0:00:01.279877\n"
     ]
    },
    {
     "name": "stdout",
     "output_type": "stream",
     "text": [
      "episode: 51/200, loss: 2.7409, duration: 0:00:01.130733\n"
     ]
    },
    {
     "name": "stdout",
     "output_type": "stream",
     "text": [
      "episode: 61/200, loss: 3.2256, duration: 0:00:01.256220\n"
     ]
    },
    {
     "name": "stdout",
     "output_type": "stream",
     "text": [
      "episode: 71/200, loss: 3.8411, duration: 0:00:01.080899\n"
     ]
    },
    {
     "name": "stdout",
     "output_type": "stream",
     "text": [
      "episode: 81/200, loss: 1.3273, duration: 0:00:01.081895\n"
     ]
    },
    {
     "name": "stdout",
     "output_type": "stream",
     "text": [
      "episode: 91/200, loss: 1.6128, duration: 0:00:01.136122\n"
     ]
    },
    {
     "name": "stdout",
     "output_type": "stream",
     "text": [
      "episode: 101/200, loss: 1.2893, duration: 0:00:01.078304\n"
     ]
    },
    {
     "name": "stdout",
     "output_type": "stream",
     "text": [
      "episode: 111/200, loss: 1.5690, duration: 0:00:01.224756\n"
     ]
    },
    {
     "name": "stdout",
     "output_type": "stream",
     "text": [
      "episode: 121/200, loss: 1.2184, duration: 0:00:01.152604\n"
     ]
    },
    {
     "name": "stdout",
     "output_type": "stream",
     "text": [
      "episode: 131/200, loss: 1.9435, duration: 0:00:01.129750\n"
     ]
    },
    {
     "name": "stdout",
     "output_type": "stream",
     "text": [
      "episode: 141/200, loss: 4.7988, duration: 0:00:01.099803\n"
     ]
    },
    {
     "name": "stdout",
     "output_type": "stream",
     "text": [
      "episode: 151/200, loss: 3.1583, duration: 0:00:01.133455\n"
     ]
    },
    {
     "name": "stdout",
     "output_type": "stream",
     "text": [
      "episode: 161/200, loss: 0.4893, duration: 0:00:01.084004\n"
     ]
    },
    {
     "name": "stdout",
     "output_type": "stream",
     "text": [
      "episode: 171/200, loss: 1.8313, duration: 0:00:01.395373\n"
     ]
    },
    {
     "name": "stdout",
     "output_type": "stream",
     "text": [
      "episode: 181/200, loss: 1.8317, duration: 0:00:01.292984\n"
     ]
    },
    {
     "name": "stdout",
     "output_type": "stream",
     "text": [
      "episode: 191/200, loss: 3.0988, duration: 0:00:01.131151\n"
     ]
    },
    {
     "name": "stderr",
     "output_type": "stream",
     "text": [
      "/usr/local/lib/python3.7/site-packages/ipykernel_launcher.py:136: RuntimeWarning: More than 20 figures have been opened. Figures created through the pyplot interface (`matplotlib.pyplot.figure`) are retained until explicitly closed and may consume too much memory. (To control this warning, see the rcParam `figure.max_open_warning`).\n"
     ]
    },
    {
     "name": "stdout",
     "output_type": "stream",
     "text": [
      "#############################################################################\n",
      "##\t[221/450]\tmodel=RL_CNN,\tSEED=0,\ttrade=9,\trisk=10000\thold=0.1\t##\n",
      "#############################################################################\n"
     ]
    },
    {
     "name": "stdout",
     "output_type": "stream",
     "text": [
      "episode: 1/200, loss: 10.2619, duration: 0:00:01.301494\n"
     ]
    },
    {
     "name": "stdout",
     "output_type": "stream",
     "text": [
      "episode: 11/200, loss: 2.2997, duration: 0:00:01.263510\n"
     ]
    },
    {
     "name": "stdout",
     "output_type": "stream",
     "text": [
      "episode: 21/200, loss: 3.4859, duration: 0:00:01.115350\n"
     ]
    },
    {
     "name": "stdout",
     "output_type": "stream",
     "text": [
      "episode: 31/200, loss: 4.6284, duration: 0:00:01.087986\n"
     ]
    },
    {
     "name": "stdout",
     "output_type": "stream",
     "text": [
      "episode: 41/200, loss: 7.1211, duration: 0:00:01.197760\n"
     ]
    },
    {
     "name": "stdout",
     "output_type": "stream",
     "text": [
      "episode: 51/200, loss: 4.0251, duration: 0:00:01.272279\n"
     ]
    },
    {
     "name": "stdout",
     "output_type": "stream",
     "text": [
      "episode: 61/200, loss: 6.0519, duration: 0:00:01.269957\n"
     ]
    },
    {
     "name": "stdout",
     "output_type": "stream",
     "text": [
      "episode: 71/200, loss: 7.1730, duration: 0:00:01.141617\n"
     ]
    },
    {
     "name": "stdout",
     "output_type": "stream",
     "text": [
      "episode: 81/200, loss: 2.3687, duration: 0:00:01.118744\n"
     ]
    },
    {
     "name": "stdout",
     "output_type": "stream",
     "text": [
      "episode: 91/200, loss: 2.7378, duration: 0:00:01.271006\n"
     ]
    },
    {
     "name": "stdout",
     "output_type": "stream",
     "text": [
      "episode: 101/200, loss: 2.5954, duration: 0:00:01.196952\n"
     ]
    },
    {
     "name": "stdout",
     "output_type": "stream",
     "text": [
      "episode: 111/200, loss: 2.9127, duration: 0:00:01.078317\n"
     ]
    },
    {
     "name": "stdout",
     "output_type": "stream",
     "text": [
      "episode: 121/200, loss: 2.2121, duration: 0:00:01.083283\n"
     ]
    },
    {
     "name": "stdout",
     "output_type": "stream",
     "text": [
      "episode: 131/200, loss: 3.1933, duration: 0:00:01.082936\n"
     ]
    },
    {
     "name": "stdout",
     "output_type": "stream",
     "text": [
      "episode: 141/200, loss: 9.6638, duration: 0:00:01.077587\n"
     ]
    },
    {
     "name": "stdout",
     "output_type": "stream",
     "text": [
      "episode: 151/200, loss: 5.9183, duration: 0:00:01.398839\n"
     ]
    },
    {
     "name": "stdout",
     "output_type": "stream",
     "text": [
      "episode: 161/200, loss: 0.9278, duration: 0:00:01.086743\n"
     ]
    },
    {
     "name": "stdout",
     "output_type": "stream",
     "text": [
      "episode: 171/200, loss: 3.5966, duration: 0:00:01.135500\n"
     ]
    },
    {
     "name": "stdout",
     "output_type": "stream",
     "text": [
      "episode: 181/200, loss: 3.0544, duration: 0:00:01.140762\n"
     ]
    },
    {
     "name": "stdout",
     "output_type": "stream",
     "text": [
      "episode: 191/200, loss: 4.2835, duration: 0:00:01.129146\n"
     ]
    },
    {
     "name": "stderr",
     "output_type": "stream",
     "text": [
      "/usr/local/lib/python3.7/site-packages/ipykernel_launcher.py:136: RuntimeWarning: More than 20 figures have been opened. Figures created through the pyplot interface (`matplotlib.pyplot.figure`) are retained until explicitly closed and may consume too much memory. (To control this warning, see the rcParam `figure.max_open_warning`).\n"
     ]
    },
    {
     "name": "stdout",
     "output_type": "stream",
     "text": [
      "#############################################################################\n",
      "##\t[222/450]\tmodel=RL_CNN,\tSEED=0,\ttrade=9,\trisk=10000\thold=1\t##\n",
      "#############################################################################\n"
     ]
    },
    {
     "name": "stdout",
     "output_type": "stream",
     "text": [
      "episode: 1/200, loss: 10.2628, duration: 0:00:01.296671\n"
     ]
    },
    {
     "name": "stdout",
     "output_type": "stream",
     "text": [
      "episode: 11/200, loss: 2.3002, duration: 0:00:01.080174\n"
     ]
    },
    {
     "name": "stdout",
     "output_type": "stream",
     "text": [
      "episode: 21/200, loss: 3.4861, duration: 0:00:01.084024\n"
     ]
    },
    {
     "name": "stdout",
     "output_type": "stream",
     "text": [
      "episode: 31/200, loss: 4.6284, duration: 0:00:01.362399\n"
     ]
    },
    {
     "name": "stdout",
     "output_type": "stream",
     "text": [
      "episode: 41/200, loss: 7.1212, duration: 0:00:01.091449\n"
     ]
    },
    {
     "name": "stdout",
     "output_type": "stream",
     "text": [
      "episode: 51/200, loss: 4.0259, duration: 0:00:01.266058\n"
     ]
    },
    {
     "name": "stdout",
     "output_type": "stream",
     "text": [
      "episode: 61/200, loss: 6.0522, duration: 0:00:01.278776\n"
     ]
    },
    {
     "name": "stdout",
     "output_type": "stream",
     "text": [
      "episode: 71/200, loss: 7.1729, duration: 0:00:01.085987\n"
     ]
    },
    {
     "name": "stdout",
     "output_type": "stream",
     "text": [
      "episode: 81/200, loss: 2.3688, duration: 0:00:01.245089\n"
     ]
    },
    {
     "name": "stdout",
     "output_type": "stream",
     "text": [
      "episode: 91/200, loss: 2.7378, duration: 0:00:01.142783\n"
     ]
    },
    {
     "name": "stdout",
     "output_type": "stream",
     "text": [
      "episode: 101/200, loss: 2.5957, duration: 0:00:01.278217\n"
     ]
    },
    {
     "name": "stdout",
     "output_type": "stream",
     "text": [
      "episode: 111/200, loss: 2.9152, duration: 0:00:01.088529\n"
     ]
    },
    {
     "name": "stdout",
     "output_type": "stream",
     "text": [
      "episode: 121/200, loss: 2.2110, duration: 0:00:01.087471\n"
     ]
    },
    {
     "name": "stdout",
     "output_type": "stream",
     "text": [
      "episode: 131/200, loss: 3.1930, duration: 0:00:01.105884\n"
     ]
    },
    {
     "name": "stdout",
     "output_type": "stream",
     "text": [
      "episode: 141/200, loss: 9.6638, duration: 0:00:01.389835\n"
     ]
    },
    {
     "name": "stdout",
     "output_type": "stream",
     "text": [
      "episode: 151/200, loss: 5.9194, duration: 0:00:01.273889\n"
     ]
    },
    {
     "name": "stdout",
     "output_type": "stream",
     "text": [
      "episode: 161/200, loss: 0.9283, duration: 0:00:01.129357\n"
     ]
    },
    {
     "name": "stdout",
     "output_type": "stream",
     "text": [
      "episode: 171/200, loss: 3.5965, duration: 0:00:01.105721\n"
     ]
    },
    {
     "name": "stdout",
     "output_type": "stream",
     "text": [
      "episode: 181/200, loss: 3.0547, duration: 0:00:01.088546\n"
     ]
    },
    {
     "name": "stdout",
     "output_type": "stream",
     "text": [
      "episode: 191/200, loss: 4.2805, duration: 0:00:01.416694\n"
     ]
    },
    {
     "name": "stderr",
     "output_type": "stream",
     "text": [
      "/usr/local/lib/python3.7/site-packages/ipykernel_launcher.py:136: RuntimeWarning: More than 20 figures have been opened. Figures created through the pyplot interface (`matplotlib.pyplot.figure`) are retained until explicitly closed and may consume too much memory. (To control this warning, see the rcParam `figure.max_open_warning`).\n"
     ]
    },
    {
     "name": "stdout",
     "output_type": "stream",
     "text": [
      "#############################################################################\n",
      "##\t[223/450]\tmodel=RL_CNN,\tSEED=0,\ttrade=9,\trisk=10000\thold=10\t##\n",
      "#############################################################################\n"
     ]
    },
    {
     "name": "stdout",
     "output_type": "stream",
     "text": [
      "episode: 1/200, loss: 10.2713, duration: 0:00:01.110629\n"
     ]
    },
    {
     "name": "stdout",
     "output_type": "stream",
     "text": [
      "episode: 11/200, loss: 2.3037, duration: 0:00:01.401665\n"
     ]
    },
    {
     "name": "stdout",
     "output_type": "stream",
     "text": [
      "episode: 21/200, loss: 3.4850, duration: 0:00:01.229433\n"
     ]
    },
    {
     "name": "stdout",
     "output_type": "stream",
     "text": [
      "episode: 31/200, loss: 4.6310, duration: 0:00:01.091445\n"
     ]
    },
    {
     "name": "stdout",
     "output_type": "stream",
     "text": [
      "episode: 41/200, loss: 7.1252, duration: 0:00:01.077414\n"
     ]
    },
    {
     "name": "stdout",
     "output_type": "stream",
     "text": [
      "episode: 51/200, loss: 4.0338, duration: 0:00:01.111145\n"
     ]
    },
    {
     "name": "stdout",
     "output_type": "stream",
     "text": [
      "episode: 61/200, loss: 6.0513, duration: 0:00:01.136574\n"
     ]
    },
    {
     "name": "stdout",
     "output_type": "stream",
     "text": [
      "episode: 71/200, loss: 7.1774, duration: 0:00:01.195452\n"
     ]
    },
    {
     "name": "stdout",
     "output_type": "stream",
     "text": [
      "episode: 81/200, loss: 2.3688, duration: 0:00:01.089442\n"
     ]
    },
    {
     "name": "stdout",
     "output_type": "stream",
     "text": [
      "episode: 91/200, loss: 2.7416, duration: 0:00:01.099817\n"
     ]
    },
    {
     "name": "stdout",
     "output_type": "stream",
     "text": [
      "episode: 101/200, loss: 2.5981, duration: 0:00:01.266490\n"
     ]
    },
    {
     "name": "stdout",
     "output_type": "stream",
     "text": [
      "episode: 111/200, loss: 2.9088, duration: 0:00:01.085260\n"
     ]
    },
    {
     "name": "stdout",
     "output_type": "stream",
     "text": [
      "episode: 121/200, loss: 2.2132, duration: 0:00:01.085625\n"
     ]
    },
    {
     "name": "stdout",
     "output_type": "stream",
     "text": [
      "episode: 131/200, loss: 3.1951, duration: 0:00:01.193535\n"
     ]
    },
    {
     "name": "stdout",
     "output_type": "stream",
     "text": [
      "episode: 141/200, loss: 9.6753, duration: 0:00:01.285740\n"
     ]
    },
    {
     "name": "stdout",
     "output_type": "stream",
     "text": [
      "episode: 151/200, loss: 5.9175, duration: 0:00:01.133702\n"
     ]
    },
    {
     "name": "stdout",
     "output_type": "stream",
     "text": [
      "episode: 161/200, loss: 0.9241, duration: 0:00:01.270851\n"
     ]
    },
    {
     "name": "stdout",
     "output_type": "stream",
     "text": [
      "episode: 171/200, loss: 3.5512, duration: 0:00:01.135325\n"
     ]
    },
    {
     "name": "stdout",
     "output_type": "stream",
     "text": [
      "episode: 181/200, loss: 3.0720, duration: 0:00:01.198753\n"
     ]
    },
    {
     "name": "stdout",
     "output_type": "stream",
     "text": [
      "episode: 191/200, loss: 4.3295, duration: 0:00:01.116349\n"
     ]
    },
    {
     "name": "stderr",
     "output_type": "stream",
     "text": [
      "/usr/local/lib/python3.7/site-packages/ipykernel_launcher.py:136: RuntimeWarning: More than 20 figures have been opened. Figures created through the pyplot interface (`matplotlib.pyplot.figure`) are retained until explicitly closed and may consume too much memory. (To control this warning, see the rcParam `figure.max_open_warning`).\n"
     ]
    },
    {
     "name": "stdout",
     "output_type": "stream",
     "text": [
      "#############################################################################\n",
      "##\t[224/450]\tmodel=RL_CNN,\tSEED=0,\ttrade=9,\trisk=10000\thold=100\t##\n",
      "#############################################################################\n"
     ]
    },
    {
     "name": "stdout",
     "output_type": "stream",
     "text": [
      "episode: 1/200, loss: 10.3559, duration: 0:00:01.431177\n"
     ]
    },
    {
     "name": "stdout",
     "output_type": "stream",
     "text": [
      "episode: 11/200, loss: 2.3347, duration: 0:00:01.117697\n"
     ]
    },
    {
     "name": "stdout",
     "output_type": "stream",
     "text": [
      "episode: 21/200, loss: 3.4737, duration: 0:00:01.263469\n"
     ]
    },
    {
     "name": "stdout",
     "output_type": "stream",
     "text": [
      "episode: 31/200, loss: 4.6562, duration: 0:00:01.076427\n"
     ]
    },
    {
     "name": "stdout",
     "output_type": "stream",
     "text": [
      "episode: 41/200, loss: 7.1516, duration: 0:00:01.091151\n"
     ]
    },
    {
     "name": "stdout",
     "output_type": "stream",
     "text": [
      "episode: 51/200, loss: 4.1187, duration: 0:00:01.136417\n"
     ]
    },
    {
     "name": "stdout",
     "output_type": "stream",
     "text": [
      "episode: 61/200, loss: 6.0515, duration: 0:00:01.250242\n"
     ]
    },
    {
     "name": "stdout",
     "output_type": "stream",
     "text": [
      "episode: 71/200, loss: 7.1919, duration: 0:00:01.083642\n"
     ]
    },
    {
     "name": "stdout",
     "output_type": "stream",
     "text": [
      "episode: 81/200, loss: 2.3678, duration: 0:00:01.296157\n"
     ]
    },
    {
     "name": "stdout",
     "output_type": "stream",
     "text": [
      "episode: 91/200, loss: 2.7757, duration: 0:00:01.115646\n"
     ]
    },
    {
     "name": "stdout",
     "output_type": "stream",
     "text": [
      "episode: 101/200, loss: 2.6168, duration: 0:00:01.269796\n"
     ]
    },
    {
     "name": "stdout",
     "output_type": "stream",
     "text": [
      "episode: 111/200, loss: 2.9421, duration: 0:00:01.189829\n"
     ]
    },
    {
     "name": "stdout",
     "output_type": "stream",
     "text": [
      "episode: 121/200, loss: 2.2034, duration: 0:00:01.149515\n"
     ]
    },
    {
     "name": "stdout",
     "output_type": "stream",
     "text": [
      "episode: 131/200, loss: 3.2695, duration: 0:00:01.094044\n"
     ]
    },
    {
     "name": "stdout",
     "output_type": "stream",
     "text": [
      "episode: 141/200, loss: 9.7189, duration: 0:00:01.126786\n"
     ]
    },
    {
     "name": "stdout",
     "output_type": "stream",
     "text": [
      "episode: 151/200, loss: 5.9371, duration: 0:00:01.152664\n"
     ]
    },
    {
     "name": "stdout",
     "output_type": "stream",
     "text": [
      "episode: 161/200, loss: 0.9076, duration: 0:00:01.092940\n"
     ]
    },
    {
     "name": "stdout",
     "output_type": "stream",
     "text": [
      "episode: 171/200, loss: 3.2943, duration: 0:00:01.215488\n"
     ]
    },
    {
     "name": "stdout",
     "output_type": "stream",
     "text": [
      "episode: 181/200, loss: 3.1664, duration: 0:00:01.121038\n"
     ]
    },
    {
     "name": "stdout",
     "output_type": "stream",
     "text": [
      "episode: 191/200, loss: 4.6146, duration: 0:00:01.279407\n"
     ]
    },
    {
     "name": "stderr",
     "output_type": "stream",
     "text": [
      "/usr/local/lib/python3.7/site-packages/ipykernel_launcher.py:136: RuntimeWarning: More than 20 figures have been opened. Figures created through the pyplot interface (`matplotlib.pyplot.figure`) are retained until explicitly closed and may consume too much memory. (To control this warning, see the rcParam `figure.max_open_warning`).\n"
     ]
    },
    {
     "name": "stdout",
     "output_type": "stream",
     "text": [
      "#############################################################################\n",
      "##\t[225/450]\tmodel=RL_CNN,\tSEED=0,\ttrade=9,\trisk=10000\thold=1000\t##\n",
      "#############################################################################\n"
     ]
    },
    {
     "name": "stdout",
     "output_type": "stream",
     "text": [
      "episode: 1/200, loss: 11.2022, duration: 0:00:01.117849\n"
     ]
    },
    {
     "name": "stdout",
     "output_type": "stream",
     "text": [
      "episode: 11/200, loss: 2.6302, duration: 0:00:01.109278\n"
     ]
    },
    {
     "name": "stdout",
     "output_type": "stream",
     "text": [
      "episode: 21/200, loss: 3.4938, duration: 0:00:01.100877\n"
     ]
    },
    {
     "name": "stdout",
     "output_type": "stream",
     "text": [
      "episode: 31/200, loss: 4.9294, duration: 0:00:01.138792\n"
     ]
    },
    {
     "name": "stdout",
     "output_type": "stream",
     "text": [
      "episode: 41/200, loss: 7.5292, duration: 0:00:01.273301\n"
     ]
    },
    {
     "name": "stdout",
     "output_type": "stream",
     "text": [
      "episode: 51/200, loss: 5.0554, duration: 0:00:01.172563\n"
     ]
    },
    {
     "name": "stdout",
     "output_type": "stream",
     "text": [
      "episode: 61/200, loss: 6.1048, duration: 0:00:01.134627\n"
     ]
    },
    {
     "name": "stdout",
     "output_type": "stream",
     "text": [
      "episode: 71/200, loss: 7.4922, duration: 0:00:01.137482\n"
     ]
    },
    {
     "name": "stdout",
     "output_type": "stream",
     "text": [
      "episode: 81/200, loss: 2.4042, duration: 0:00:01.286832\n"
     ]
    },
    {
     "name": "stdout",
     "output_type": "stream",
     "text": [
      "episode: 91/200, loss: 3.0281, duration: 0:00:01.297300\n"
     ]
    },
    {
     "name": "stdout",
     "output_type": "stream",
     "text": [
      "episode: 101/200, loss: 2.7357, duration: 0:00:01.241199\n"
     ]
    },
    {
     "name": "stdout",
     "output_type": "stream",
     "text": [
      "episode: 111/200, loss: 3.0223, duration: 0:00:01.183274\n"
     ]
    },
    {
     "name": "stdout",
     "output_type": "stream",
     "text": [
      "episode: 121/200, loss: 2.3454, duration: 0:00:01.293044\n"
     ]
    },
    {
     "name": "stdout",
     "output_type": "stream",
     "text": [
      "episode: 131/200, loss: 3.5558, duration: 0:00:01.132863\n"
     ]
    },
    {
     "name": "stdout",
     "output_type": "stream",
     "text": [
      "episode: 141/200, loss: 9.5962, duration: 0:00:01.333387\n"
     ]
    },
    {
     "name": "stdout",
     "output_type": "stream",
     "text": [
      "episode: 151/200, loss: 6.1029, duration: 0:00:01.418748\n"
     ]
    },
    {
     "name": "stdout",
     "output_type": "stream",
     "text": [
      "episode: 161/200, loss: 0.9496, duration: 0:00:01.324134\n"
     ]
    },
    {
     "name": "stdout",
     "output_type": "stream",
     "text": [
      "episode: 171/200, loss: 3.4903, duration: 0:00:01.201325\n"
     ]
    },
    {
     "name": "stdout",
     "output_type": "stream",
     "text": [
      "episode: 181/200, loss: 3.3124, duration: 0:00:01.191851\n"
     ]
    },
    {
     "name": "stdout",
     "output_type": "stream",
     "text": [
      "episode: 191/200, loss: 5.5736, duration: 0:00:01.108235\n"
     ]
    },
    {
     "name": "stderr",
     "output_type": "stream",
     "text": [
      "/usr/local/lib/python3.7/site-packages/ipykernel_launcher.py:136: RuntimeWarning: More than 20 figures have been opened. Figures created through the pyplot interface (`matplotlib.pyplot.figure`) are retained until explicitly closed and may consume too much memory. (To control this warning, see the rcParam `figure.max_open_warning`).\n"
     ]
    },
    {
     "name": "stdout",
     "output_type": "stream",
     "text": [
      "\talready exists: trade_10_risk_1_hold_0.1\n",
      "\tskip to next.\n",
      "\talready exists: trade_10_risk_1_hold_1\n",
      "\tskip to next.\n",
      "\talready exists: trade_10_risk_1_hold_10\n",
      "\tskip to next.\n",
      "\talready exists: trade_10_risk_1_hold_100\n",
      "\tskip to next.\n",
      "\talready exists: trade_10_risk_1_hold_1000\n",
      "\tskip to next.\n",
      "\talready exists: trade_10_risk_2_hold_0.1\n",
      "\tskip to next.\n",
      "\talready exists: trade_10_risk_2_hold_1\n",
      "\tskip to next.\n",
      "\talready exists: trade_10_risk_2_hold_10\n",
      "\tskip to next.\n",
      "\talready exists: trade_10_risk_2_hold_100\n",
      "\tskip to next.\n",
      "\talready exists: trade_10_risk_2_hold_1000\n",
      "\tskip to next.\n",
      "\talready exists: trade_10_risk_3_hold_0.1\n",
      "\tskip to next.\n",
      "\talready exists: trade_10_risk_3_hold_1\n",
      "\tskip to next.\n",
      "\talready exists: trade_10_risk_3_hold_10\n",
      "\tskip to next.\n",
      "\talready exists: trade_10_risk_3_hold_100\n",
      "\tskip to next.\n",
      "\talready exists: trade_10_risk_3_hold_1000\n",
      "\tskip to next.\n",
      "\talready exists: trade_10_risk_6_hold_0.1\n",
      "\tskip to next.\n",
      "\talready exists: trade_10_risk_6_hold_1\n",
      "\tskip to next.\n",
      "\talready exists: trade_10_risk_6_hold_10\n",
      "\tskip to next.\n",
      "\talready exists: trade_10_risk_6_hold_100\n",
      "\tskip to next.\n",
      "\talready exists: trade_10_risk_6_hold_1000\n",
      "\tskip to next.\n",
      "\talready exists: trade_10_risk_10_hold_0.1\n",
      "\tskip to next.\n",
      "\talready exists: trade_10_risk_10_hold_1\n",
      "\tskip to next.\n",
      "\talready exists: trade_10_risk_10_hold_10\n",
      "\tskip to next.\n",
      "\talready exists: trade_10_risk_10_hold_100\n",
      "\tskip to next.\n",
      "\talready exists: trade_10_risk_10_hold_1000\n",
      "\tskip to next.\n",
      "\talready exists: trade_10_risk_18_hold_0.1\n",
      "\tskip to next.\n",
      "\talready exists: trade_10_risk_18_hold_1\n",
      "\tskip to next.\n",
      "\talready exists: trade_10_risk_18_hold_10\n",
      "\tskip to next.\n",
      "\talready exists: trade_10_risk_18_hold_100\n",
      "\tskip to next.\n",
      "\talready exists: trade_10_risk_18_hold_1000\n",
      "\tskip to next.\n",
      "\talready exists: trade_10_risk_32_hold_0.1\n",
      "\tskip to next.\n",
      "\talready exists: trade_10_risk_32_hold_1\n",
      "\tskip to next.\n",
      "\talready exists: trade_10_risk_32_hold_10\n",
      "\tskip to next.\n",
      "\talready exists: trade_10_risk_32_hold_100\n",
      "\tskip to next.\n",
      "\talready exists: trade_10_risk_32_hold_1000\n",
      "\tskip to next.\n",
      "\talready exists: trade_10_risk_56_hold_0.1\n",
      "\tskip to next.\n",
      "\talready exists: trade_10_risk_56_hold_1\n",
      "\tskip to next.\n",
      "\talready exists: trade_10_risk_56_hold_10\n",
      "\tskip to next.\n",
      "\talready exists: trade_10_risk_56_hold_100\n",
      "\tskip to next.\n",
      "\talready exists: trade_10_risk_56_hold_1000\n",
      "\tskip to next.\n",
      "\talready exists: trade_10_risk_100_hold_0.1\n",
      "\tskip to next.\n",
      "\talready exists: trade_10_risk_100_hold_1\n",
      "\tskip to next.\n",
      "\talready exists: trade_10_risk_100_hold_10\n",
      "\tskip to next.\n",
      "\talready exists: trade_10_risk_100_hold_100\n",
      "\tskip to next.\n",
      "\talready exists: trade_10_risk_100_hold_1000\n",
      "\tskip to next.\n",
      "\talready exists: trade_10_risk_178_hold_0.1\n",
      "\tskip to next.\n",
      "\talready exists: trade_10_risk_178_hold_1\n",
      "\tskip to next.\n",
      "\talready exists: trade_10_risk_178_hold_10\n",
      "\tskip to next.\n",
      "\talready exists: trade_10_risk_178_hold_100\n",
      "\tskip to next.\n",
      "\talready exists: trade_10_risk_178_hold_1000\n",
      "\tskip to next.\n",
      "\talready exists: trade_10_risk_316_hold_0.1\n",
      "\tskip to next.\n",
      "\talready exists: trade_10_risk_316_hold_1\n",
      "\tskip to next.\n",
      "\talready exists: trade_10_risk_316_hold_10\n",
      "\tskip to next.\n",
      "\talready exists: trade_10_risk_316_hold_100\n",
      "\tskip to next.\n",
      "\talready exists: trade_10_risk_316_hold_1000\n",
      "\tskip to next.\n",
      "\talready exists: trade_10_risk_562_hold_0.1\n",
      "\tskip to next.\n",
      "\talready exists: trade_10_risk_562_hold_1\n",
      "\tskip to next.\n",
      "\talready exists: trade_10_risk_562_hold_10\n",
      "\tskip to next.\n",
      "\talready exists: trade_10_risk_562_hold_100\n",
      "\tskip to next.\n",
      "\talready exists: trade_10_risk_562_hold_1000\n",
      "\tskip to next.\n",
      "\talready exists: trade_10_risk_1000_hold_0.1\n",
      "\tskip to next.\n",
      "\talready exists: trade_10_risk_1000_hold_1\n",
      "\tskip to next.\n",
      "\talready exists: trade_10_risk_1000_hold_10\n",
      "\tskip to next.\n",
      "\talready exists: trade_10_risk_1000_hold_100\n",
      "\tskip to next.\n",
      "\talready exists: trade_10_risk_1000_hold_1000\n",
      "\tskip to next.\n",
      "#############################################################################\n",
      "##\t[291/450]\tmodel=RL_CNN,\tSEED=0,\ttrade=10,\trisk=5000\thold=0.1\t##\n",
      "#############################################################################\n"
     ]
    },
    {
     "name": "stdout",
     "output_type": "stream",
     "text": [
      "episode: 1/200, loss: 5.1663, duration: 0:00:01.194463\n"
     ]
    },
    {
     "name": "stdout",
     "output_type": "stream",
     "text": [
      "episode: 11/200, loss: 1.1552, duration: 0:00:01.324282\n"
     ]
    },
    {
     "name": "stdout",
     "output_type": "stream",
     "text": [
      "episode: 21/200, loss: 1.7467, duration: 0:00:01.317065\n"
     ]
    },
    {
     "name": "stdout",
     "output_type": "stream",
     "text": [
      "episode: 31/200, loss: 2.3296, duration: 0:00:01.110952\n"
     ]
    },
    {
     "name": "stdout",
     "output_type": "stream",
     "text": [
      "episode: 41/200, loss: 3.5876, duration: 0:00:01.944900\n"
     ]
    },
    {
     "name": "stdout",
     "output_type": "stream",
     "text": [
      "episode: 51/200, loss: 2.0180, duration: 0:00:01.331531\n"
     ]
    },
    {
     "name": "stdout",
     "output_type": "stream",
     "text": [
      "episode: 61/200, loss: 3.0899, duration: 0:00:01.098469\n"
     ]
    },
    {
     "name": "stdout",
     "output_type": "stream",
     "text": [
      "episode: 71/200, loss: 3.6011, duration: 0:00:01.293902\n"
     ]
    },
    {
     "name": "stdout",
     "output_type": "stream",
     "text": [
      "episode: 81/200, loss: 1.1691, duration: 0:00:01.473286\n"
     ]
    },
    {
     "name": "stdout",
     "output_type": "stream",
     "text": [
      "episode: 91/200, loss: 1.3797, duration: 0:00:01.164390\n"
     ]
    },
    {
     "name": "stdout",
     "output_type": "stream",
     "text": [
      "episode: 101/200, loss: 1.2994, duration: 0:00:01.135765\n"
     ]
    },
    {
     "name": "stdout",
     "output_type": "stream",
     "text": [
      "episode: 111/200, loss: 1.4660, duration: 0:00:01.107795\n"
     ]
    },
    {
     "name": "stdout",
     "output_type": "stream",
     "text": [
      "episode: 121/200, loss: 1.1000, duration: 0:00:01.204960\n"
     ]
    },
    {
     "name": "stdout",
     "output_type": "stream",
     "text": [
      "episode: 131/200, loss: 1.5991, duration: 0:00:01.418184\n"
     ]
    },
    {
     "name": "stdout",
     "output_type": "stream",
     "text": [
      "episode: 141/200, loss: 4.8570, duration: 0:00:01.108057\n"
     ]
    },
    {
     "name": "stdout",
     "output_type": "stream",
     "text": [
      "episode: 151/200, loss: 2.9577, duration: 0:00:01.128921\n"
     ]
    },
    {
     "name": "stdout",
     "output_type": "stream",
     "text": [
      "episode: 161/200, loss: 0.4579, duration: 0:00:01.143137\n"
     ]
    },
    {
     "name": "stdout",
     "output_type": "stream",
     "text": [
      "episode: 171/200, loss: 1.7694, duration: 0:00:01.158570\n"
     ]
    },
    {
     "name": "stdout",
     "output_type": "stream",
     "text": [
      "episode: 181/200, loss: 1.5509, duration: 0:00:01.105425\n"
     ]
    },
    {
     "name": "stdout",
     "output_type": "stream",
     "text": [
      "episode: 191/200, loss: 2.1650, duration: 0:00:01.251182\n"
     ]
    },
    {
     "name": "stderr",
     "output_type": "stream",
     "text": [
      "/usr/local/lib/python3.7/site-packages/ipykernel_launcher.py:136: RuntimeWarning: More than 20 figures have been opened. Figures created through the pyplot interface (`matplotlib.pyplot.figure`) are retained until explicitly closed and may consume too much memory. (To control this warning, see the rcParam `figure.max_open_warning`).\n"
     ]
    },
    {
     "name": "stdout",
     "output_type": "stream",
     "text": [
      "#############################################################################\n",
      "##\t[292/450]\tmodel=RL_CNN,\tSEED=0,\ttrade=10,\trisk=5000\thold=1\t##\n",
      "#############################################################################\n"
     ]
    },
    {
     "name": "stdout",
     "output_type": "stream",
     "text": [
      "episode: 1/200, loss: 5.1671, duration: 0:00:01.195770\n"
     ]
    },
    {
     "name": "stdout",
     "output_type": "stream",
     "text": [
      "episode: 11/200, loss: 1.1556, duration: 0:00:01.084693\n"
     ]
    },
    {
     "name": "stdout",
     "output_type": "stream",
     "text": [
      "episode: 21/200, loss: 1.7467, duration: 0:00:01.078729\n"
     ]
    },
    {
     "name": "stdout",
     "output_type": "stream",
     "text": [
      "episode: 31/200, loss: 2.3298, duration: 0:00:01.266947\n"
     ]
    },
    {
     "name": "stdout",
     "output_type": "stream",
     "text": [
      "episode: 41/200, loss: 3.5879, duration: 0:00:01.333132\n"
     ]
    },
    {
     "name": "stdout",
     "output_type": "stream",
     "text": [
      "episode: 51/200, loss: 2.0190, duration: 0:00:01.267044\n"
     ]
    },
    {
     "name": "stdout",
     "output_type": "stream",
     "text": [
      "episode: 61/200, loss: 3.0899, duration: 0:00:01.131837\n"
     ]
    },
    {
     "name": "stdout",
     "output_type": "stream",
     "text": [
      "episode: 71/200, loss: 3.6014, duration: 0:00:01.200563\n"
     ]
    },
    {
     "name": "stdout",
     "output_type": "stream",
     "text": [
      "episode: 81/200, loss: 1.1692, duration: 0:00:01.084484\n"
     ]
    },
    {
     "name": "stdout",
     "output_type": "stream",
     "text": [
      "episode: 91/200, loss: 1.3798, duration: 0:00:01.083002\n"
     ]
    },
    {
     "name": "stdout",
     "output_type": "stream",
     "text": [
      "episode: 101/200, loss: 1.2997, duration: 0:00:01.267513\n"
     ]
    },
    {
     "name": "stdout",
     "output_type": "stream",
     "text": [
      "episode: 111/200, loss: 1.4659, duration: 0:00:01.141817\n"
     ]
    },
    {
     "name": "stdout",
     "output_type": "stream",
     "text": [
      "episode: 121/200, loss: 1.1001, duration: 0:00:01.197979\n"
     ]
    },
    {
     "name": "stdout",
     "output_type": "stream",
     "text": [
      "episode: 131/200, loss: 1.5993, duration: 0:00:01.138608\n"
     ]
    },
    {
     "name": "stdout",
     "output_type": "stream",
     "text": [
      "episode: 141/200, loss: 4.8584, duration: 0:00:01.085802\n"
     ]
    },
    {
     "name": "stdout",
     "output_type": "stream",
     "text": [
      "episode: 151/200, loss: 2.9574, duration: 0:00:01.138661\n"
     ]
    },
    {
     "name": "stdout",
     "output_type": "stream",
     "text": [
      "episode: 161/200, loss: 0.4583, duration: 0:00:01.267050\n"
     ]
    },
    {
     "name": "stdout",
     "output_type": "stream",
     "text": [
      "episode: 171/200, loss: 1.7691, duration: 0:00:01.085725\n"
     ]
    },
    {
     "name": "stdout",
     "output_type": "stream",
     "text": [
      "episode: 181/200, loss: 1.5518, duration: 0:00:01.215428\n"
     ]
    },
    {
     "name": "stdout",
     "output_type": "stream",
     "text": [
      "episode: 191/200, loss: 2.1657, duration: 0:00:01.111334\n"
     ]
    },
    {
     "name": "stderr",
     "output_type": "stream",
     "text": [
      "/usr/local/lib/python3.7/site-packages/ipykernel_launcher.py:136: RuntimeWarning: More than 20 figures have been opened. Figures created through the pyplot interface (`matplotlib.pyplot.figure`) are retained until explicitly closed and may consume too much memory. (To control this warning, see the rcParam `figure.max_open_warning`).\n"
     ]
    },
    {
     "name": "stdout",
     "output_type": "stream",
     "text": [
      "#############################################################################\n",
      "##\t[293/450]\tmodel=RL_CNN,\tSEED=0,\ttrade=10,\trisk=5000\thold=10\t##\n",
      "#############################################################################\n"
     ]
    },
    {
     "name": "stdout",
     "output_type": "stream",
     "text": [
      "episode: 1/200, loss: 5.1756, duration: 0:00:01.246736\n"
     ]
    },
    {
     "name": "stdout",
     "output_type": "stream",
     "text": [
      "episode: 11/200, loss: 1.1587, duration: 0:00:01.093666\n"
     ]
    },
    {
     "name": "stdout",
     "output_type": "stream",
     "text": [
      "episode: 21/200, loss: 1.7426, duration: 0:00:01.122221\n"
     ]
    },
    {
     "name": "stdout",
     "output_type": "stream",
     "text": [
      "episode: 31/200, loss: 2.3339, duration: 0:00:01.088340\n"
     ]
    },
    {
     "name": "stdout",
     "output_type": "stream",
     "text": [
      "episode: 41/200, loss: 3.5908, duration: 0:00:01.271764\n"
     ]
    },
    {
     "name": "stdout",
     "output_type": "stream",
     "text": [
      "episode: 51/200, loss: 2.0301, duration: 0:00:01.386080\n"
     ]
    },
    {
     "name": "stdout",
     "output_type": "stream",
     "text": [
      "episode: 61/200, loss: 3.0923, duration: 0:00:01.081619\n"
     ]
    },
    {
     "name": "stdout",
     "output_type": "stream",
     "text": [
      "episode: 71/200, loss: 3.6039, duration: 0:00:01.142305\n"
     ]
    },
    {
     "name": "stdout",
     "output_type": "stream",
     "text": [
      "episode: 81/200, loss: 1.1727, duration: 0:00:01.118193\n"
     ]
    },
    {
     "name": "stdout",
     "output_type": "stream",
     "text": [
      "episode: 91/200, loss: 1.3829, duration: 0:00:01.085308\n"
     ]
    },
    {
     "name": "stdout",
     "output_type": "stream",
     "text": [
      "episode: 101/200, loss: 1.3014, duration: 0:00:01.114776\n"
     ]
    },
    {
     "name": "stdout",
     "output_type": "stream",
     "text": [
      "episode: 111/200, loss: 1.4626, duration: 0:00:01.247964\n"
     ]
    },
    {
     "name": "stdout",
     "output_type": "stream",
     "text": [
      "episode: 121/200, loss: 1.1007, duration: 0:00:01.114974\n"
     ]
    },
    {
     "name": "stdout",
     "output_type": "stream",
     "text": [
      "episode: 131/200, loss: 1.6007, duration: 0:00:01.122676\n"
     ]
    },
    {
     "name": "stdout",
     "output_type": "stream",
     "text": [
      "episode: 141/200, loss: 4.8596, duration: 0:00:01.129627\n"
     ]
    },
    {
     "name": "stdout",
     "output_type": "stream",
     "text": [
      "episode: 151/200, loss: 2.9586, duration: 0:00:01.093588\n"
     ]
    },
    {
     "name": "stdout",
     "output_type": "stream",
     "text": [
      "episode: 161/200, loss: 0.4596, duration: 0:00:01.384674\n"
     ]
    },
    {
     "name": "stdout",
     "output_type": "stream",
     "text": [
      "episode: 171/200, loss: 1.7629, duration: 0:00:01.093154\n"
     ]
    },
    {
     "name": "stdout",
     "output_type": "stream",
     "text": [
      "episode: 181/200, loss: 1.5585, duration: 0:00:01.079517\n"
     ]
    },
    {
     "name": "stdout",
     "output_type": "stream",
     "text": [
      "episode: 191/200, loss: 2.1719, duration: 0:00:01.122010\n"
     ]
    },
    {
     "name": "stderr",
     "output_type": "stream",
     "text": [
      "/usr/local/lib/python3.7/site-packages/ipykernel_launcher.py:136: RuntimeWarning: More than 20 figures have been opened. Figures created through the pyplot interface (`matplotlib.pyplot.figure`) are retained until explicitly closed and may consume too much memory. (To control this warning, see the rcParam `figure.max_open_warning`).\n"
     ]
    },
    {
     "name": "stdout",
     "output_type": "stream",
     "text": [
      "#############################################################################\n",
      "##\t[294/450]\tmodel=RL_CNN,\tSEED=0,\ttrade=10,\trisk=5000\thold=100\t##\n",
      "#############################################################################\n"
     ]
    },
    {
     "name": "stdout",
     "output_type": "stream",
     "text": [
      "episode: 1/200, loss: 5.2602, duration: 0:00:01.296964\n"
     ]
    },
    {
     "name": "stdout",
     "output_type": "stream",
     "text": [
      "episode: 11/200, loss: 1.1878, duration: 0:00:01.265922\n"
     ]
    },
    {
     "name": "stdout",
     "output_type": "stream",
     "text": [
      "episode: 21/200, loss: 1.7116, duration: 0:00:01.085240\n"
     ]
    },
    {
     "name": "stdout",
     "output_type": "stream",
     "text": [
      "episode: 31/200, loss: 2.3642, duration: 0:00:01.087372\n"
     ]
    },
    {
     "name": "stdout",
     "output_type": "stream",
     "text": [
      "episode: 41/200, loss: 3.6164, duration: 0:00:01.225525\n"
     ]
    },
    {
     "name": "stdout",
     "output_type": "stream",
     "text": [
      "episode: 51/200, loss: 2.1110, duration: 0:00:01.114918\n"
     ]
    },
    {
     "name": "stdout",
     "output_type": "stream",
     "text": [
      "episode: 61/200, loss: 3.1000, duration: 0:00:01.266776\n"
     ]
    },
    {
     "name": "stdout",
     "output_type": "stream",
     "text": [
      "episode: 71/200, loss: 3.6329, duration: 0:00:01.280993\n"
     ]
    },
    {
     "name": "stdout",
     "output_type": "stream",
     "text": [
      "episode: 81/200, loss: 1.1929, duration: 0:00:01.266526\n"
     ]
    },
    {
     "name": "stdout",
     "output_type": "stream",
     "text": [
      "episode: 91/200, loss: 1.4057, duration: 0:00:01.193767\n"
     ]
    },
    {
     "name": "stdout",
     "output_type": "stream",
     "text": [
      "episode: 101/200, loss: 1.3203, duration: 0:00:01.119687\n"
     ]
    },
    {
     "name": "stdout",
     "output_type": "stream",
     "text": [
      "episode: 111/200, loss: 1.4817, duration: 0:00:01.093012\n"
     ]
    },
    {
     "name": "stdout",
     "output_type": "stream",
     "text": [
      "episode: 121/200, loss: 1.1092, duration: 0:00:01.277489\n"
     ]
    },
    {
     "name": "stdout",
     "output_type": "stream",
     "text": [
      "episode: 131/200, loss: 1.6255, duration: 0:00:01.125005\n"
     ]
    },
    {
     "name": "stdout",
     "output_type": "stream",
     "text": [
      "episode: 141/200, loss: 4.8218, duration: 0:00:01.201630\n"
     ]
    },
    {
     "name": "stdout",
     "output_type": "stream",
     "text": [
      "episode: 151/200, loss: 3.0036, duration: 0:00:01.420103\n"
     ]
    },
    {
     "name": "stdout",
     "output_type": "stream",
     "text": [
      "episode: 161/200, loss: 0.4624, duration: 0:00:01.293975\n"
     ]
    },
    {
     "name": "stdout",
     "output_type": "stream",
     "text": [
      "episode: 171/200, loss: 1.6433, duration: 0:00:01.301302\n"
     ]
    },
    {
     "name": "stdout",
     "output_type": "stream",
     "text": [
      "episode: 181/200, loss: 1.5508, duration: 0:00:01.292374\n"
     ]
    },
    {
     "name": "stdout",
     "output_type": "stream",
     "text": [
      "episode: 191/200, loss: 2.3270, duration: 0:00:01.293042\n"
     ]
    },
    {
     "name": "stderr",
     "output_type": "stream",
     "text": [
      "/usr/local/lib/python3.7/site-packages/ipykernel_launcher.py:136: RuntimeWarning: More than 20 figures have been opened. Figures created through the pyplot interface (`matplotlib.pyplot.figure`) are retained until explicitly closed and may consume too much memory. (To control this warning, see the rcParam `figure.max_open_warning`).\n"
     ]
    },
    {
     "name": "stdout",
     "output_type": "stream",
     "text": [
      "#############################################################################\n",
      "##\t[295/450]\tmodel=RL_CNN,\tSEED=0,\ttrade=10,\trisk=5000\thold=1000\t##\n",
      "#############################################################################\n"
     ]
    },
    {
     "name": "stdout",
     "output_type": "stream",
     "text": [
      "episode: 1/200, loss: 6.1066, duration: 0:00:01.128793\n"
     ]
    },
    {
     "name": "stdout",
     "output_type": "stream",
     "text": [
      "episode: 11/200, loss: 1.4596, duration: 0:00:01.401404\n"
     ]
    },
    {
     "name": "stdout",
     "output_type": "stream",
     "text": [
      "episode: 21/200, loss: 1.8169, duration: 0:00:01.128522\n"
     ]
    },
    {
     "name": "stdout",
     "output_type": "stream",
     "text": [
      "episode: 31/200, loss: 2.4790, duration: 0:00:01.297697\n"
     ]
    },
    {
     "name": "stdout",
     "output_type": "stream",
     "text": [
      "episode: 41/200, loss: 4.0530, duration: 0:00:01.289264\n"
     ]
    },
    {
     "name": "stdout",
     "output_type": "stream",
     "text": [
      "episode: 51/200, loss: 2.7460, duration: 0:00:01.136035\n"
     ]
    },
    {
     "name": "stdout",
     "output_type": "stream",
     "text": [
      "episode: 61/200, loss: 3.2294, duration: 0:00:01.306662\n"
     ]
    },
    {
     "name": "stdout",
     "output_type": "stream",
     "text": [
      "episode: 71/200, loss: 3.8408, duration: 0:00:01.419975\n"
     ]
    },
    {
     "name": "stdout",
     "output_type": "stream",
     "text": [
      "episode: 81/200, loss: 1.3381, duration: 0:00:01.296421\n"
     ]
    },
    {
     "name": "stdout",
     "output_type": "stream",
     "text": [
      "episode: 91/200, loss: 1.6048, duration: 0:00:01.154503\n"
     ]
    },
    {
     "name": "stdout",
     "output_type": "stream",
     "text": [
      "episode: 101/200, loss: 1.2934, duration: 0:00:01.425374\n"
     ]
    },
    {
     "name": "stdout",
     "output_type": "stream",
     "text": [
      "episode: 111/200, loss: 1.5721, duration: 0:00:01.176360\n"
     ]
    },
    {
     "name": "stdout",
     "output_type": "stream",
     "text": [
      "episode: 121/200, loss: 1.2179, duration: 0:00:01.296714\n"
     ]
    },
    {
     "name": "stdout",
     "output_type": "stream",
     "text": [
      "episode: 131/200, loss: 1.9440, duration: 0:00:02.131108\n"
     ]
    },
    {
     "name": "stdout",
     "output_type": "stream",
     "text": [
      "episode: 141/200, loss: 4.7862, duration: 0:00:01.146708\n"
     ]
    },
    {
     "name": "stdout",
     "output_type": "stream",
     "text": [
      "episode: 151/200, loss: 3.1635, duration: 0:00:01.176593\n"
     ]
    },
    {
     "name": "stdout",
     "output_type": "stream",
     "text": [
      "episode: 161/200, loss: 0.4914, duration: 0:00:01.432434\n"
     ]
    },
    {
     "name": "stdout",
     "output_type": "stream",
     "text": [
      "episode: 171/200, loss: 1.8316, duration: 0:00:01.116736\n"
     ]
    },
    {
     "name": "stdout",
     "output_type": "stream",
     "text": [
      "episode: 181/200, loss: 1.8398, duration: 0:00:01.160157\n"
     ]
    },
    {
     "name": "stdout",
     "output_type": "stream",
     "text": [
      "episode: 191/200, loss: 3.0786, duration: 0:00:01.872294\n"
     ]
    },
    {
     "name": "stderr",
     "output_type": "stream",
     "text": [
      "/usr/local/lib/python3.7/site-packages/ipykernel_launcher.py:136: RuntimeWarning: More than 20 figures have been opened. Figures created through the pyplot interface (`matplotlib.pyplot.figure`) are retained until explicitly closed and may consume too much memory. (To control this warning, see the rcParam `figure.max_open_warning`).\n"
     ]
    },
    {
     "name": "stdout",
     "output_type": "stream",
     "text": [
      "#############################################################################\n",
      "##\t[296/450]\tmodel=RL_CNN,\tSEED=0,\ttrade=10,\trisk=10000\thold=0.1\t##\n",
      "#############################################################################\n"
     ]
    },
    {
     "name": "stdout",
     "output_type": "stream",
     "text": [
      "episode: 1/200, loss: 10.2681, duration: 0:00:01.195501\n"
     ]
    },
    {
     "name": "stdout",
     "output_type": "stream",
     "text": [
      "episode: 11/200, loss: 2.3012, duration: 0:00:01.116198\n"
     ]
    },
    {
     "name": "stdout",
     "output_type": "stream",
     "text": [
      "episode: 21/200, loss: 3.4882, duration: 0:00:01.187577\n"
     ]
    },
    {
     "name": "stdout",
     "output_type": "stream",
     "text": [
      "episode: 31/200, loss: 4.6308, duration: 0:00:01.148766\n"
     ]
    },
    {
     "name": "stdout",
     "output_type": "stream",
     "text": [
      "episode: 41/200, loss: 7.1260, duration: 0:00:01.136774\n"
     ]
    },
    {
     "name": "stdout",
     "output_type": "stream",
     "text": [
      "episode: 51/200, loss: 4.0266, duration: 0:00:01.408664\n"
     ]
    },
    {
     "name": "stdout",
     "output_type": "stream",
     "text": [
      "episode: 61/200, loss: 6.0555, duration: 0:00:01.340010\n"
     ]
    },
    {
     "name": "stdout",
     "output_type": "stream",
     "text": [
      "episode: 71/200, loss: 7.1753, duration: 0:00:01.164575\n"
     ]
    },
    {
     "name": "stdout",
     "output_type": "stream",
     "text": [
      "episode: 81/200, loss: 2.3706, duration: 0:00:01.157723\n"
     ]
    },
    {
     "name": "stdout",
     "output_type": "stream",
     "text": [
      "episode: 91/200, loss: 2.7400, duration: 0:00:01.095041\n"
     ]
    },
    {
     "name": "stdout",
     "output_type": "stream",
     "text": [
      "episode: 101/200, loss: 2.5973, duration: 0:00:01.336864\n"
     ]
    },
    {
     "name": "stdout",
     "output_type": "stream",
     "text": [
      "episode: 111/200, loss: 2.9161, duration: 0:00:01.156499\n"
     ]
    },
    {
     "name": "stdout",
     "output_type": "stream",
     "text": [
      "episode: 121/200, loss: 2.2133, duration: 0:00:01.127238\n"
     ]
    },
    {
     "name": "stdout",
     "output_type": "stream",
     "text": [
      "episode: 131/200, loss: 3.1937, duration: 0:00:01.151952\n"
     ]
    },
    {
     "name": "stdout",
     "output_type": "stream",
     "text": [
      "episode: 141/200, loss: 9.6644, duration: 0:00:01.132416\n"
     ]
    },
    {
     "name": "stdout",
     "output_type": "stream",
     "text": [
      "episode: 151/200, loss: 5.9191, duration: 0:00:01.154070\n"
     ]
    },
    {
     "name": "stdout",
     "output_type": "stream",
     "text": [
      "episode: 161/200, loss: 0.9285, duration: 0:00:01.249028\n"
     ]
    },
    {
     "name": "stdout",
     "output_type": "stream",
     "text": [
      "episode: 171/200, loss: 3.5965, duration: 0:00:01.103813\n"
     ]
    },
    {
     "name": "stdout",
     "output_type": "stream",
     "text": [
      "episode: 181/200, loss: 3.0547, duration: 0:00:01.139524\n"
     ]
    },
    {
     "name": "stdout",
     "output_type": "stream",
     "text": [
      "episode: 191/200, loss: 4.2831, duration: 0:00:01.091321\n"
     ]
    },
    {
     "name": "stderr",
     "output_type": "stream",
     "text": [
      "/usr/local/lib/python3.7/site-packages/ipykernel_launcher.py:136: RuntimeWarning: More than 20 figures have been opened. Figures created through the pyplot interface (`matplotlib.pyplot.figure`) are retained until explicitly closed and may consume too much memory. (To control this warning, see the rcParam `figure.max_open_warning`).\n"
     ]
    },
    {
     "name": "stdout",
     "output_type": "stream",
     "text": [
      "#############################################################################\n",
      "##\t[297/450]\tmodel=RL_CNN,\tSEED=0,\ttrade=10,\trisk=10000\thold=1\t##\n",
      "#############################################################################\n"
     ]
    },
    {
     "name": "stdout",
     "output_type": "stream",
     "text": [
      "episode: 1/200, loss: 10.2689, duration: 0:00:01.113197\n"
     ]
    },
    {
     "name": "stdout",
     "output_type": "stream",
     "text": [
      "episode: 11/200, loss: 2.3017, duration: 0:00:01.133305\n"
     ]
    },
    {
     "name": "stdout",
     "output_type": "stream",
     "text": [
      "episode: 21/200, loss: 3.4884, duration: 0:00:01.286943\n"
     ]
    },
    {
     "name": "stdout",
     "output_type": "stream",
     "text": [
      "episode: 31/200, loss: 4.6309, duration: 0:00:01.206136\n"
     ]
    },
    {
     "name": "stdout",
     "output_type": "stream",
     "text": [
      "episode: 41/200, loss: 7.1262, duration: 0:00:01.138904\n"
     ]
    },
    {
     "name": "stdout",
     "output_type": "stream",
     "text": [
      "episode: 51/200, loss: 4.0279, duration: 0:00:01.275416\n"
     ]
    },
    {
     "name": "stdout",
     "output_type": "stream",
     "text": [
      "episode: 61/200, loss: 6.0564, duration: 0:00:01.265113\n"
     ]
    },
    {
     "name": "stdout",
     "output_type": "stream",
     "text": [
      "episode: 71/200, loss: 7.1753, duration: 0:00:01.110952\n"
     ]
    },
    {
     "name": "stdout",
     "output_type": "stream",
     "text": [
      "episode: 81/200, loss: 2.3710, duration: 0:00:01.276219\n"
     ]
    },
    {
     "name": "stdout",
     "output_type": "stream",
     "text": [
      "episode: 91/200, loss: 2.7402, duration: 0:00:01.192520\n"
     ]
    },
    {
     "name": "stdout",
     "output_type": "stream",
     "text": [
      "episode: 101/200, loss: 2.6004, duration: 0:00:01.132876\n"
     ]
    },
    {
     "name": "stdout",
     "output_type": "stream",
     "text": [
      "episode: 111/200, loss: 2.9148, duration: 0:00:01.287297\n"
     ]
    },
    {
     "name": "stdout",
     "output_type": "stream",
     "text": [
      "episode: 121/200, loss: 2.2122, duration: 0:00:01.085862\n"
     ]
    },
    {
     "name": "stdout",
     "output_type": "stream",
     "text": [
      "episode: 131/200, loss: 3.1935, duration: 0:00:01.119375\n"
     ]
    },
    {
     "name": "stdout",
     "output_type": "stream",
     "text": [
      "episode: 141/200, loss: 9.6636, duration: 0:00:01.180199\n"
     ]
    },
    {
     "name": "stdout",
     "output_type": "stream",
     "text": [
      "episode: 151/200, loss: 5.9202, duration: 0:00:01.085121\n"
     ]
    },
    {
     "name": "stdout",
     "output_type": "stream",
     "text": [
      "episode: 161/200, loss: 0.9293, duration: 0:00:01.266009\n"
     ]
    },
    {
     "name": "stdout",
     "output_type": "stream",
     "text": [
      "episode: 171/200, loss: 3.5981, duration: 0:00:01.078812\n"
     ]
    },
    {
     "name": "stdout",
     "output_type": "stream",
     "text": [
      "episode: 181/200, loss: 3.0555, duration: 0:00:01.092873\n"
     ]
    },
    {
     "name": "stdout",
     "output_type": "stream",
     "text": [
      "episode: 191/200, loss: 4.2807, duration: 0:00:01.081172\n"
     ]
    },
    {
     "name": "stderr",
     "output_type": "stream",
     "text": [
      "/usr/local/lib/python3.7/site-packages/ipykernel_launcher.py:136: RuntimeWarning: More than 20 figures have been opened. Figures created through the pyplot interface (`matplotlib.pyplot.figure`) are retained until explicitly closed and may consume too much memory. (To control this warning, see the rcParam `figure.max_open_warning`).\n"
     ]
    },
    {
     "name": "stdout",
     "output_type": "stream",
     "text": [
      "#############################################################################\n",
      "##\t[298/450]\tmodel=RL_CNN,\tSEED=0,\ttrade=10,\trisk=10000\thold=10\t##\n",
      "#############################################################################\n"
     ]
    },
    {
     "name": "stdout",
     "output_type": "stream",
     "text": [
      "episode: 1/200, loss: 10.2774, duration: 0:00:01.145501\n"
     ]
    },
    {
     "name": "stdout",
     "output_type": "stream",
     "text": [
      "episode: 11/200, loss: 2.3052, duration: 0:00:01.086814\n"
     ]
    },
    {
     "name": "stdout",
     "output_type": "stream",
     "text": [
      "episode: 21/200, loss: 3.4874, duration: 0:00:01.281825\n"
     ]
    },
    {
     "name": "stdout",
     "output_type": "stream",
     "text": [
      "episode: 31/200, loss: 4.6334, duration: 0:00:01.294354\n"
     ]
    },
    {
     "name": "stdout",
     "output_type": "stream",
     "text": [
      "episode: 41/200, loss: 7.1302, duration: 0:00:01.100579\n"
     ]
    },
    {
     "name": "stdout",
     "output_type": "stream",
     "text": [
      "episode: 51/200, loss: 4.0358, duration: 0:00:01.269376\n"
     ]
    },
    {
     "name": "stdout",
     "output_type": "stream",
     "text": [
      "episode: 61/200, loss: 6.0550, duration: 0:00:01.229459\n"
     ]
    },
    {
     "name": "stdout",
     "output_type": "stream",
     "text": [
      "episode: 71/200, loss: 7.1796, duration: 0:00:01.093381\n"
     ]
    },
    {
     "name": "stdout",
     "output_type": "stream",
     "text": [
      "episode: 81/200, loss: 2.3706, duration: 0:00:01.120601\n"
     ]
    },
    {
     "name": "stdout",
     "output_type": "stream",
     "text": [
      "episode: 91/200, loss: 2.7438, duration: 0:00:01.094371\n"
     ]
    },
    {
     "name": "stdout",
     "output_type": "stream",
     "text": [
      "episode: 101/200, loss: 2.6000, duration: 0:00:01.208366\n"
     ]
    },
    {
     "name": "stdout",
     "output_type": "stream",
     "text": [
      "episode: 111/200, loss: 2.9114, duration: 0:00:01.121660\n"
     ]
    },
    {
     "name": "stdout",
     "output_type": "stream",
     "text": [
      "episode: 121/200, loss: 2.2141, duration: 0:00:01.119429\n"
     ]
    },
    {
     "name": "stdout",
     "output_type": "stream",
     "text": [
      "episode: 131/200, loss: 3.1961, duration: 0:00:01.145942\n"
     ]
    },
    {
     "name": "stdout",
     "output_type": "stream",
     "text": [
      "episode: 141/200, loss: 9.6764, duration: 0:00:01.398561\n"
     ]
    },
    {
     "name": "stdout",
     "output_type": "stream",
     "text": [
      "episode: 151/200, loss: 5.9174, duration: 0:00:01.269682\n"
     ]
    },
    {
     "name": "stdout",
     "output_type": "stream",
     "text": [
      "episode: 161/200, loss: 0.9245, duration: 0:00:01.095330\n"
     ]
    },
    {
     "name": "stdout",
     "output_type": "stream",
     "text": [
      "episode: 171/200, loss: 3.5491, duration: 0:00:01.269180\n"
     ]
    },
    {
     "name": "stdout",
     "output_type": "stream",
     "text": [
      "episode: 181/200, loss: 3.0729, duration: 0:00:01.134472\n"
     ]
    },
    {
     "name": "stdout",
     "output_type": "stream",
     "text": [
      "episode: 191/200, loss: 4.3315, duration: 0:00:01.141005\n"
     ]
    },
    {
     "name": "stderr",
     "output_type": "stream",
     "text": [
      "/usr/local/lib/python3.7/site-packages/ipykernel_launcher.py:136: RuntimeWarning: More than 20 figures have been opened. Figures created through the pyplot interface (`matplotlib.pyplot.figure`) are retained until explicitly closed and may consume too much memory. (To control this warning, see the rcParam `figure.max_open_warning`).\n"
     ]
    },
    {
     "name": "stdout",
     "output_type": "stream",
     "text": [
      "#############################################################################\n",
      "##\t[299/450]\tmodel=RL_CNN,\tSEED=0,\ttrade=10,\trisk=10000\thold=100\t##\n",
      "#############################################################################\n"
     ]
    },
    {
     "name": "stdout",
     "output_type": "stream",
     "text": [
      "episode: 1/200, loss: 10.3620, duration: 0:00:01.143982\n"
     ]
    },
    {
     "name": "stdout",
     "output_type": "stream",
     "text": [
      "episode: 11/200, loss: 2.3361, duration: 0:00:01.094297\n"
     ]
    },
    {
     "name": "stdout",
     "output_type": "stream",
     "text": [
      "episode: 21/200, loss: 3.4760, duration: 0:00:01.132769\n"
     ]
    },
    {
     "name": "stdout",
     "output_type": "stream",
     "text": [
      "episode: 31/200, loss: 4.6586, duration: 0:00:01.098963\n"
     ]
    },
    {
     "name": "stdout",
     "output_type": "stream",
     "text": [
      "episode: 41/200, loss: 7.1565, duration: 0:00:01.092886\n"
     ]
    },
    {
     "name": "stdout",
     "output_type": "stream",
     "text": [
      "episode: 51/200, loss: 4.1208, duration: 0:00:01.129243\n"
     ]
    },
    {
     "name": "stdout",
     "output_type": "stream",
     "text": [
      "episode: 61/200, loss: 6.0552, duration: 0:00:01.216872\n"
     ]
    },
    {
     "name": "stdout",
     "output_type": "stream",
     "text": [
      "episode: 71/200, loss: 7.1941, duration: 0:00:01.128827\n"
     ]
    },
    {
     "name": "stdout",
     "output_type": "stream",
     "text": [
      "episode: 81/200, loss: 2.3697, duration: 0:00:01.091021\n"
     ]
    },
    {
     "name": "stdout",
     "output_type": "stream",
     "text": [
      "episode: 91/200, loss: 2.7778, duration: 0:00:01.089201\n"
     ]
    },
    {
     "name": "stdout",
     "output_type": "stream",
     "text": [
      "episode: 101/200, loss: 2.6199, duration: 0:00:01.116911\n"
     ]
    },
    {
     "name": "stdout",
     "output_type": "stream",
     "text": [
      "episode: 111/200, loss: 2.9437, duration: 0:00:01.207498\n"
     ]
    },
    {
     "name": "stdout",
     "output_type": "stream",
     "text": [
      "episode: 121/200, loss: 2.2043, duration: 0:00:01.085222\n"
     ]
    },
    {
     "name": "stdout",
     "output_type": "stream",
     "text": [
      "episode: 131/200, loss: 3.2696, duration: 0:00:01.265022\n"
     ]
    },
    {
     "name": "stdout",
     "output_type": "stream",
     "text": [
      "episode: 141/200, loss: 9.7192, duration: 0:00:01.081005\n"
     ]
    },
    {
     "name": "stdout",
     "output_type": "stream",
     "text": [
      "episode: 151/200, loss: 5.9379, duration: 0:00:01.113084\n"
     ]
    },
    {
     "name": "stdout",
     "output_type": "stream",
     "text": [
      "episode: 161/200, loss: 0.9082, duration: 0:00:01.136834\n"
     ]
    },
    {
     "name": "stdout",
     "output_type": "stream",
     "text": [
      "episode: 171/200, loss: 3.2952, duration: 0:00:01.181213\n"
     ]
    },
    {
     "name": "stdout",
     "output_type": "stream",
     "text": [
      "episode: 181/200, loss: 3.1665, duration: 0:00:01.096641\n"
     ]
    },
    {
     "name": "stdout",
     "output_type": "stream",
     "text": [
      "episode: 191/200, loss: 4.6144, duration: 0:00:01.078503\n"
     ]
    },
    {
     "name": "stderr",
     "output_type": "stream",
     "text": [
      "/usr/local/lib/python3.7/site-packages/ipykernel_launcher.py:136: RuntimeWarning: More than 20 figures have been opened. Figures created through the pyplot interface (`matplotlib.pyplot.figure`) are retained until explicitly closed and may consume too much memory. (To control this warning, see the rcParam `figure.max_open_warning`).\n"
     ]
    },
    {
     "name": "stdout",
     "output_type": "stream",
     "text": [
      "#############################################################################\n",
      "##\t[300/450]\tmodel=RL_CNN,\tSEED=0,\ttrade=10,\trisk=10000\thold=1000\t##\n",
      "#############################################################################\n"
     ]
    },
    {
     "name": "stdout",
     "output_type": "stream",
     "text": [
      "episode: 1/200, loss: 11.2084, duration: 0:00:01.304048\n"
     ]
    },
    {
     "name": "stdout",
     "output_type": "stream",
     "text": [
      "episode: 11/200, loss: 2.6315, duration: 0:00:01.149655\n"
     ]
    },
    {
     "name": "stdout",
     "output_type": "stream",
     "text": [
      "episode: 21/200, loss: 3.4962, duration: 0:00:01.092318\n"
     ]
    },
    {
     "name": "stdout",
     "output_type": "stream",
     "text": [
      "episode: 31/200, loss: 4.9330, duration: 0:00:01.141668\n"
     ]
    },
    {
     "name": "stdout",
     "output_type": "stream",
     "text": [
      "episode: 41/200, loss: 7.5345, duration: 0:00:01.192174\n"
     ]
    },
    {
     "name": "stdout",
     "output_type": "stream",
     "text": [
      "episode: 51/200, loss: 5.0572, duration: 0:00:01.093934\n"
     ]
    },
    {
     "name": "stdout",
     "output_type": "stream",
     "text": [
      "episode: 61/200, loss: 6.1092, duration: 0:00:01.114430\n"
     ]
    },
    {
     "name": "stdout",
     "output_type": "stream",
     "text": [
      "episode: 71/200, loss: 7.4944, duration: 0:00:01.123795\n"
     ]
    },
    {
     "name": "stdout",
     "output_type": "stream",
     "text": [
      "episode: 81/200, loss: 2.4061, duration: 0:00:01.142511\n"
     ]
    },
    {
     "name": "stdout",
     "output_type": "stream",
     "text": [
      "episode: 91/200, loss: 3.0297, duration: 0:00:01.089164\n"
     ]
    },
    {
     "name": "stdout",
     "output_type": "stream",
     "text": [
      "episode: 101/200, loss: 2.7374, duration: 0:00:01.258448\n"
     ]
    },
    {
     "name": "stdout",
     "output_type": "stream",
     "text": [
      "episode: 111/200, loss: 3.0262, duration: 0:00:01.273071\n"
     ]
    },
    {
     "name": "stdout",
     "output_type": "stream",
     "text": [
      "episode: 121/200, loss: 2.3462, duration: 0:00:01.142079\n"
     ]
    },
    {
     "name": "stdout",
     "output_type": "stream",
     "text": [
      "episode: 131/200, loss: 3.5563, duration: 0:00:01.271280\n"
     ]
    },
    {
     "name": "stdout",
     "output_type": "stream",
     "text": [
      "episode: 141/200, loss: 9.5975, duration: 0:00:01.145591\n"
     ]
    },
    {
     "name": "stdout",
     "output_type": "stream",
     "text": [
      "episode: 151/200, loss: 6.1030, duration: 0:00:01.379051\n"
     ]
    },
    {
     "name": "stdout",
     "output_type": "stream",
     "text": [
      "episode: 161/200, loss: 0.9500, duration: 0:00:01.134137\n"
     ]
    },
    {
     "name": "stdout",
     "output_type": "stream",
     "text": [
      "episode: 171/200, loss: 3.4906, duration: 0:00:01.114102\n"
     ]
    },
    {
     "name": "stdout",
     "output_type": "stream",
     "text": [
      "episode: 181/200, loss: 3.3124, duration: 0:00:01.091368\n"
     ]
    },
    {
     "name": "stdout",
     "output_type": "stream",
     "text": [
      "episode: 191/200, loss: 5.5749, duration: 0:00:01.223057\n"
     ]
    },
    {
     "name": "stderr",
     "output_type": "stream",
     "text": [
      "/usr/local/lib/python3.7/site-packages/ipykernel_launcher.py:136: RuntimeWarning: More than 20 figures have been opened. Figures created through the pyplot interface (`matplotlib.pyplot.figure`) are retained until explicitly closed and may consume too much memory. (To control this warning, see the rcParam `figure.max_open_warning`).\n"
     ]
    },
    {
     "name": "stdout",
     "output_type": "stream",
     "text": [
      "\talready exists: trade_11_risk_1_hold_0.1\n",
      "\tskip to next.\n",
      "\talready exists: trade_11_risk_1_hold_1\n",
      "\tskip to next.\n",
      "\talready exists: trade_11_risk_1_hold_10\n",
      "\tskip to next.\n",
      "\talready exists: trade_11_risk_1_hold_100\n",
      "\tskip to next.\n",
      "\talready exists: trade_11_risk_1_hold_1000\n",
      "\tskip to next.\n",
      "\talready exists: trade_11_risk_2_hold_0.1\n",
      "\tskip to next.\n",
      "\talready exists: trade_11_risk_2_hold_1\n",
      "\tskip to next.\n",
      "\talready exists: trade_11_risk_2_hold_10\n",
      "\tskip to next.\n",
      "\talready exists: trade_11_risk_2_hold_100\n",
      "\tskip to next.\n",
      "\talready exists: trade_11_risk_2_hold_1000\n",
      "\tskip to next.\n",
      "\talready exists: trade_11_risk_3_hold_0.1\n",
      "\tskip to next.\n",
      "\talready exists: trade_11_risk_3_hold_1\n",
      "\tskip to next.\n",
      "\talready exists: trade_11_risk_3_hold_10\n",
      "\tskip to next.\n",
      "\talready exists: trade_11_risk_3_hold_100\n",
      "\tskip to next.\n",
      "\talready exists: trade_11_risk_3_hold_1000\n",
      "\tskip to next.\n",
      "\talready exists: trade_11_risk_6_hold_0.1\n",
      "\tskip to next.\n",
      "\talready exists: trade_11_risk_6_hold_1\n",
      "\tskip to next.\n",
      "\talready exists: trade_11_risk_6_hold_10\n",
      "\tskip to next.\n",
      "\talready exists: trade_11_risk_6_hold_100\n",
      "\tskip to next.\n",
      "\talready exists: trade_11_risk_6_hold_1000\n",
      "\tskip to next.\n",
      "\talready exists: trade_11_risk_10_hold_0.1\n",
      "\tskip to next.\n",
      "\talready exists: trade_11_risk_10_hold_1\n",
      "\tskip to next.\n",
      "\talready exists: trade_11_risk_10_hold_10\n",
      "\tskip to next.\n",
      "\talready exists: trade_11_risk_10_hold_100\n",
      "\tskip to next.\n",
      "\talready exists: trade_11_risk_10_hold_1000\n",
      "\tskip to next.\n",
      "\talready exists: trade_11_risk_18_hold_0.1\n",
      "\tskip to next.\n",
      "\talready exists: trade_11_risk_18_hold_1\n",
      "\tskip to next.\n",
      "\talready exists: trade_11_risk_18_hold_10\n",
      "\tskip to next.\n",
      "\talready exists: trade_11_risk_18_hold_100\n",
      "\tskip to next.\n",
      "\talready exists: trade_11_risk_18_hold_1000\n",
      "\tskip to next.\n",
      "\talready exists: trade_11_risk_32_hold_0.1\n",
      "\tskip to next.\n",
      "\talready exists: trade_11_risk_32_hold_1\n",
      "\tskip to next.\n",
      "\talready exists: trade_11_risk_32_hold_10\n",
      "\tskip to next.\n",
      "\talready exists: trade_11_risk_32_hold_100\n",
      "\tskip to next.\n",
      "\talready exists: trade_11_risk_32_hold_1000\n",
      "\tskip to next.\n",
      "\talready exists: trade_11_risk_56_hold_0.1\n",
      "\tskip to next.\n",
      "\talready exists: trade_11_risk_56_hold_1\n",
      "\tskip to next.\n",
      "\talready exists: trade_11_risk_56_hold_10\n",
      "\tskip to next.\n",
      "\talready exists: trade_11_risk_56_hold_100\n",
      "\tskip to next.\n",
      "\talready exists: trade_11_risk_56_hold_1000\n",
      "\tskip to next.\n",
      "\talready exists: trade_11_risk_100_hold_0.1\n",
      "\tskip to next.\n",
      "\talready exists: trade_11_risk_100_hold_1\n",
      "\tskip to next.\n",
      "\talready exists: trade_11_risk_100_hold_10\n",
      "\tskip to next.\n",
      "\talready exists: trade_11_risk_100_hold_100\n",
      "\tskip to next.\n",
      "\talready exists: trade_11_risk_100_hold_1000\n",
      "\tskip to next.\n",
      "\talready exists: trade_11_risk_178_hold_0.1\n",
      "\tskip to next.\n",
      "\talready exists: trade_11_risk_178_hold_1\n",
      "\tskip to next.\n",
      "\talready exists: trade_11_risk_178_hold_10\n",
      "\tskip to next.\n",
      "\talready exists: trade_11_risk_178_hold_100\n",
      "\tskip to next.\n",
      "\talready exists: trade_11_risk_178_hold_1000\n",
      "\tskip to next.\n",
      "\talready exists: trade_11_risk_316_hold_0.1\n",
      "\tskip to next.\n",
      "\talready exists: trade_11_risk_316_hold_1\n",
      "\tskip to next.\n",
      "\talready exists: trade_11_risk_316_hold_10\n",
      "\tskip to next.\n",
      "\talready exists: trade_11_risk_316_hold_100\n",
      "\tskip to next.\n",
      "\talready exists: trade_11_risk_316_hold_1000\n",
      "\tskip to next.\n",
      "\talready exists: trade_11_risk_562_hold_0.1\n",
      "\tskip to next.\n",
      "\talready exists: trade_11_risk_562_hold_1\n",
      "\tskip to next.\n",
      "\talready exists: trade_11_risk_562_hold_10\n",
      "\tskip to next.\n",
      "\talready exists: trade_11_risk_562_hold_100\n",
      "\tskip to next.\n",
      "\talready exists: trade_11_risk_562_hold_1000\n",
      "\tskip to next.\n",
      "\talready exists: trade_11_risk_1000_hold_0.1\n",
      "\tskip to next.\n",
      "\talready exists: trade_11_risk_1000_hold_1\n",
      "\tskip to next.\n",
      "\talready exists: trade_11_risk_1000_hold_10\n",
      "\tskip to next.\n",
      "\talready exists: trade_11_risk_1000_hold_100\n",
      "\tskip to next.\n",
      "\talready exists: trade_11_risk_1000_hold_1000\n",
      "\tskip to next.\n",
      "#############################################################################\n",
      "##\t[366/450]\tmodel=RL_CNN,\tSEED=0,\ttrade=11,\trisk=5000\thold=0.1\t##\n",
      "#############################################################################\n"
     ]
    },
    {
     "name": "stdout",
     "output_type": "stream",
     "text": [
      "episode: 1/200, loss: 5.1724, duration: 0:00:01.114506\n"
     ]
    },
    {
     "name": "stdout",
     "output_type": "stream",
     "text": [
      "episode: 11/200, loss: 1.1566, duration: 0:00:01.084067\n"
     ]
    },
    {
     "name": "stdout",
     "output_type": "stream",
     "text": [
      "episode: 21/200, loss: 1.7490, duration: 0:00:01.083511\n"
     ]
    },
    {
     "name": "stdout",
     "output_type": "stream",
     "text": [
      "episode: 31/200, loss: 2.3320, duration: 0:00:01.175054\n"
     ]
    },
    {
     "name": "stdout",
     "output_type": "stream",
     "text": [
      "episode: 41/200, loss: 3.5925, duration: 0:00:01.095575\n"
     ]
    },
    {
     "name": "stdout",
     "output_type": "stream",
     "text": [
      "episode: 51/200, loss: 2.0202, duration: 0:00:01.121008\n"
     ]
    },
    {
     "name": "stdout",
     "output_type": "stream",
     "text": [
      "episode: 61/200, loss: 3.0948, duration: 0:00:01.081948\n"
     ]
    },
    {
     "name": "stdout",
     "output_type": "stream",
     "text": [
      "episode: 71/200, loss: 3.6032, duration: 0:00:01.112995\n"
     ]
    },
    {
     "name": "stdout",
     "output_type": "stream",
     "text": [
      "episode: 81/200, loss: 1.1703, duration: 0:00:01.263290\n"
     ]
    },
    {
     "name": "stdout",
     "output_type": "stream",
     "text": [
      "episode: 91/200, loss: 1.3824, duration: 0:00:01.082901\n"
     ]
    },
    {
     "name": "stdout",
     "output_type": "stream",
     "text": [
      "episode: 101/200, loss: 1.2999, duration: 0:00:01.142028\n"
     ]
    },
    {
     "name": "stdout",
     "output_type": "stream",
     "text": [
      "episode: 111/200, loss: 1.4694, duration: 0:00:01.141377\n"
     ]
    },
    {
     "name": "stdout",
     "output_type": "stream",
     "text": [
      "episode: 121/200, loss: 1.0993, duration: 0:00:01.262924\n"
     ]
    },
    {
     "name": "stdout",
     "output_type": "stream",
     "text": [
      "episode: 131/200, loss: 1.6031, duration: 0:00:01.293044\n"
     ]
    },
    {
     "name": "stdout",
     "output_type": "stream",
     "text": [
      "episode: 141/200, loss: 4.8615, duration: 0:00:01.253057\n"
     ]
    },
    {
     "name": "stdout",
     "output_type": "stream",
     "text": [
      "episode: 151/200, loss: 2.9556, duration: 0:00:01.084739\n"
     ]
    },
    {
     "name": "stdout",
     "output_type": "stream",
     "text": [
      "episode: 161/200, loss: 0.4566, duration: 0:00:01.121276\n"
     ]
    },
    {
     "name": "stdout",
     "output_type": "stream",
     "text": [
      "episode: 171/200, loss: 1.7571, duration: 0:00:01.092140\n"
     ]
    },
    {
     "name": "stdout",
     "output_type": "stream",
     "text": [
      "episode: 181/200, loss: 1.5559, duration: 0:00:01.270729\n"
     ]
    },
    {
     "name": "stdout",
     "output_type": "stream",
     "text": [
      "episode: 191/200, loss: 2.1794, duration: 0:00:01.381532\n"
     ]
    },
    {
     "name": "stderr",
     "output_type": "stream",
     "text": [
      "/usr/local/lib/python3.7/site-packages/ipykernel_launcher.py:136: RuntimeWarning: More than 20 figures have been opened. Figures created through the pyplot interface (`matplotlib.pyplot.figure`) are retained until explicitly closed and may consume too much memory. (To control this warning, see the rcParam `figure.max_open_warning`).\n"
     ]
    },
    {
     "name": "stdout",
     "output_type": "stream",
     "text": [
      "#############################################################################\n",
      "##\t[367/450]\tmodel=RL_CNN,\tSEED=0,\ttrade=11,\trisk=5000\thold=1\t##\n",
      "#############################################################################\n"
     ]
    },
    {
     "name": "stdout",
     "output_type": "stream",
     "text": [
      "episode: 1/200, loss: 5.1733, duration: 0:00:01.123266\n"
     ]
    },
    {
     "name": "stdout",
     "output_type": "stream",
     "text": [
      "episode: 11/200, loss: 1.1569, duration: 0:00:01.202584\n"
     ]
    },
    {
     "name": "stdout",
     "output_type": "stream",
     "text": [
      "episode: 21/200, loss: 1.7467, duration: 0:00:01.390299\n"
     ]
    },
    {
     "name": "stdout",
     "output_type": "stream",
     "text": [
      "episode: 31/200, loss: 2.3333, duration: 0:00:01.265192\n"
     ]
    },
    {
     "name": "stdout",
     "output_type": "stream",
     "text": [
      "episode: 41/200, loss: 3.5919, duration: 0:00:01.265016\n"
     ]
    },
    {
     "name": "stdout",
     "output_type": "stream",
     "text": [
      "episode: 51/200, loss: 2.0218, duration: 0:00:01.086298\n"
     ]
    },
    {
     "name": "stdout",
     "output_type": "stream",
     "text": [
      "episode: 61/200, loss: 3.0950, duration: 0:00:01.085749\n"
     ]
    },
    {
     "name": "stdout",
     "output_type": "stream",
     "text": [
      "episode: 71/200, loss: 3.6037, duration: 0:00:01.184123\n"
     ]
    },
    {
     "name": "stdout",
     "output_type": "stream",
     "text": [
      "episode: 81/200, loss: 1.1723, duration: 0:00:01.264240\n"
     ]
    },
    {
     "name": "stdout",
     "output_type": "stream",
     "text": [
      "episode: 91/200, loss: 1.3816, duration: 0:00:01.135951\n"
     ]
    },
    {
     "name": "stdout",
     "output_type": "stream",
     "text": [
      "episode: 101/200, loss: 1.3007, duration: 0:00:01.266031\n"
     ]
    },
    {
     "name": "stdout",
     "output_type": "stream",
     "text": [
      "episode: 111/200, loss: 1.4672, duration: 0:00:01.147456\n"
     ]
    },
    {
     "name": "stdout",
     "output_type": "stream",
     "text": [
      "episode: 121/200, loss: 1.1012, duration: 0:00:01.268373\n"
     ]
    },
    {
     "name": "stdout",
     "output_type": "stream",
     "text": [
      "episode: 131/200, loss: 1.5978, duration: 0:00:01.226233\n"
     ]
    },
    {
     "name": "stdout",
     "output_type": "stream",
     "text": [
      "episode: 141/200, loss: 4.8653, duration: 0:00:01.123080\n"
     ]
    },
    {
     "name": "stdout",
     "output_type": "stream",
     "text": [
      "episode: 151/200, loss: 2.9565, duration: 0:00:01.086744\n"
     ]
    },
    {
     "name": "stdout",
     "output_type": "stream",
     "text": [
      "episode: 161/200, loss: 0.4558, duration: 0:00:01.125225\n"
     ]
    },
    {
     "name": "stdout",
     "output_type": "stream",
     "text": [
      "episode: 171/200, loss: 1.7475, duration: 0:00:01.109662\n"
     ]
    },
    {
     "name": "stdout",
     "output_type": "stream",
     "text": [
      "episode: 181/200, loss: 1.5541, duration: 0:00:01.201285\n"
     ]
    },
    {
     "name": "stdout",
     "output_type": "stream",
     "text": [
      "episode: 191/200, loss: 2.1814, duration: 0:00:01.093391\n"
     ]
    },
    {
     "name": "stderr",
     "output_type": "stream",
     "text": [
      "/usr/local/lib/python3.7/site-packages/ipykernel_launcher.py:136: RuntimeWarning: More than 20 figures have been opened. Figures created through the pyplot interface (`matplotlib.pyplot.figure`) are retained until explicitly closed and may consume too much memory. (To control this warning, see the rcParam `figure.max_open_warning`).\n"
     ]
    },
    {
     "name": "stdout",
     "output_type": "stream",
     "text": [
      "#############################################################################\n",
      "##\t[368/450]\tmodel=RL_CNN,\tSEED=0,\ttrade=11,\trisk=5000\thold=10\t##\n",
      "#############################################################################\n"
     ]
    },
    {
     "name": "stdout",
     "output_type": "stream",
     "text": [
      "episode: 1/200, loss: 5.1817, duration: 0:00:01.239472\n"
     ]
    },
    {
     "name": "stdout",
     "output_type": "stream",
     "text": [
      "episode: 11/200, loss: 1.1602, duration: 0:00:01.114135\n"
     ]
    },
    {
     "name": "stdout",
     "output_type": "stream",
     "text": [
      "episode: 21/200, loss: 1.7449, duration: 0:00:01.089782\n"
     ]
    },
    {
     "name": "stdout",
     "output_type": "stream",
     "text": [
      "episode: 31/200, loss: 2.3363, duration: 0:00:01.132382\n"
     ]
    },
    {
     "name": "stdout",
     "output_type": "stream",
     "text": [
      "episode: 41/200, loss: 3.5957, duration: 0:00:01.086241\n"
     ]
    },
    {
     "name": "stdout",
     "output_type": "stream",
     "text": [
      "episode: 51/200, loss: 2.0321, duration: 0:00:01.270282\n"
     ]
    },
    {
     "name": "stdout",
     "output_type": "stream",
     "text": [
      "episode: 61/200, loss: 3.0961, duration: 0:00:01.404462\n"
     ]
    },
    {
     "name": "stdout",
     "output_type": "stream",
     "text": [
      "episode: 71/200, loss: 3.6062, duration: 0:00:01.113594\n"
     ]
    },
    {
     "name": "stdout",
     "output_type": "stream",
     "text": [
      "episode: 81/200, loss: 1.1728, duration: 0:00:01.268727\n"
     ]
    },
    {
     "name": "stdout",
     "output_type": "stream",
     "text": [
      "episode: 91/200, loss: 1.3861, duration: 0:00:01.145619\n"
     ]
    },
    {
     "name": "stdout",
     "output_type": "stream",
     "text": [
      "episode: 101/200, loss: 1.3030, duration: 0:00:01.113486\n"
     ]
    },
    {
     "name": "stdout",
     "output_type": "stream",
     "text": [
      "episode: 111/200, loss: 1.4679, duration: 0:00:01.221766\n"
     ]
    },
    {
     "name": "stdout",
     "output_type": "stream",
     "text": [
      "episode: 121/200, loss: 1.0989, duration: 0:00:01.079544\n"
     ]
    },
    {
     "name": "stdout",
     "output_type": "stream",
     "text": [
      "episode: 131/200, loss: 1.6064, duration: 0:00:01.266135\n"
     ]
    },
    {
     "name": "stdout",
     "output_type": "stream",
     "text": [
      "episode: 141/200, loss: 4.8629, duration: 0:00:01.075290\n"
     ]
    },
    {
     "name": "stdout",
     "output_type": "stream",
     "text": [
      "episode: 151/200, loss: 2.9574, duration: 0:00:01.269149\n"
     ]
    },
    {
     "name": "stdout",
     "output_type": "stream",
     "text": [
      "episode: 161/200, loss: 0.4599, duration: 0:00:01.093886\n"
     ]
    },
    {
     "name": "stdout",
     "output_type": "stream",
     "text": [
      "episode: 171/200, loss: 1.7586, duration: 0:00:01.403812\n"
     ]
    },
    {
     "name": "stdout",
     "output_type": "stream",
     "text": [
      "episode: 181/200, loss: 1.5660, duration: 0:00:01.119803\n"
     ]
    },
    {
     "name": "stdout",
     "output_type": "stream",
     "text": [
      "episode: 191/200, loss: 2.1830, duration: 0:00:01.110397\n"
     ]
    },
    {
     "name": "stderr",
     "output_type": "stream",
     "text": [
      "/usr/local/lib/python3.7/site-packages/ipykernel_launcher.py:136: RuntimeWarning: More than 20 figures have been opened. Figures created through the pyplot interface (`matplotlib.pyplot.figure`) are retained until explicitly closed and may consume too much memory. (To control this warning, see the rcParam `figure.max_open_warning`).\n"
     ]
    },
    {
     "name": "stdout",
     "output_type": "stream",
     "text": [
      "#############################################################################\n",
      "##\t[369/450]\tmodel=RL_CNN,\tSEED=0,\ttrade=11,\trisk=5000\thold=100\t##\n",
      "#############################################################################\n"
     ]
    },
    {
     "name": "stdout",
     "output_type": "stream",
     "text": [
      "episode: 1/200, loss: 5.2664, duration: 0:00:01.168815\n"
     ]
    },
    {
     "name": "stdout",
     "output_type": "stream",
     "text": [
      "episode: 11/200, loss: 1.1892, duration: 0:00:01.288098\n"
     ]
    },
    {
     "name": "stdout",
     "output_type": "stream",
     "text": [
      "episode: 21/200, loss: 1.7139, duration: 0:00:01.084132\n"
     ]
    },
    {
     "name": "stdout",
     "output_type": "stream",
     "text": [
      "episode: 31/200, loss: 2.3662, duration: 0:00:01.147845\n"
     ]
    },
    {
     "name": "stdout",
     "output_type": "stream",
     "text": [
      "episode: 41/200, loss: 3.6215, duration: 0:00:01.258570\n"
     ]
    },
    {
     "name": "stdout",
     "output_type": "stream",
     "text": [
      "episode: 51/200, loss: 2.1133, duration: 0:00:01.127572\n"
     ]
    },
    {
     "name": "stdout",
     "output_type": "stream",
     "text": [
      "episode: 61/200, loss: 3.1043, duration: 0:00:01.131220\n"
     ]
    },
    {
     "name": "stdout",
     "output_type": "stream",
     "text": [
      "episode: 71/200, loss: 3.6349, duration: 0:00:01.308949\n"
     ]
    },
    {
     "name": "stdout",
     "output_type": "stream",
     "text": [
      "episode: 81/200, loss: 1.1947, duration: 0:00:01.095438\n"
     ]
    },
    {
     "name": "stdout",
     "output_type": "stream",
     "text": [
      "episode: 91/200, loss: 1.4077, duration: 0:00:01.088693\n"
     ]
    },
    {
     "name": "stdout",
     "output_type": "stream",
     "text": [
      "episode: 101/200, loss: 1.3212, duration: 0:00:01.388655\n"
     ]
    },
    {
     "name": "stdout",
     "output_type": "stream",
     "text": [
      "episode: 111/200, loss: 1.4831, duration: 0:00:01.086606\n"
     ]
    },
    {
     "name": "stdout",
     "output_type": "stream",
     "text": [
      "episode: 121/200, loss: 1.1103, duration: 0:00:01.082701\n"
     ]
    },
    {
     "name": "stdout",
     "output_type": "stream",
     "text": [
      "episode: 131/200, loss: 1.6264, duration: 0:00:01.086191\n"
     ]
    },
    {
     "name": "stdout",
     "output_type": "stream",
     "text": [
      "episode: 141/200, loss: 4.8222, duration: 0:00:01.112987\n"
     ]
    },
    {
     "name": "stdout",
     "output_type": "stream",
     "text": [
      "episode: 151/200, loss: 3.0040, duration: 0:00:01.206033\n"
     ]
    },
    {
     "name": "stdout",
     "output_type": "stream",
     "text": [
      "episode: 161/200, loss: 0.4629, duration: 0:00:01.100068\n"
     ]
    },
    {
     "name": "stdout",
     "output_type": "stream",
     "text": [
      "episode: 171/200, loss: 1.6436, duration: 0:00:01.123874\n"
     ]
    },
    {
     "name": "stdout",
     "output_type": "stream",
     "text": [
      "episode: 181/200, loss: 1.5517, duration: 0:00:01.117157\n"
     ]
    },
    {
     "name": "stdout",
     "output_type": "stream",
     "text": [
      "episode: 191/200, loss: 2.3285, duration: 0:00:01.275016\n"
     ]
    },
    {
     "name": "stderr",
     "output_type": "stream",
     "text": [
      "/usr/local/lib/python3.7/site-packages/ipykernel_launcher.py:136: RuntimeWarning: More than 20 figures have been opened. Figures created through the pyplot interface (`matplotlib.pyplot.figure`) are retained until explicitly closed and may consume too much memory. (To control this warning, see the rcParam `figure.max_open_warning`).\n"
     ]
    },
    {
     "name": "stdout",
     "output_type": "stream",
     "text": [
      "#############################################################################\n",
      "##\t[370/450]\tmodel=RL_CNN,\tSEED=0,\ttrade=11,\trisk=5000\thold=1000\t##\n",
      "#############################################################################\n"
     ]
    },
    {
     "name": "stdout",
     "output_type": "stream",
     "text": [
      "episode: 1/200, loss: 6.1127, duration: 0:00:01.119023\n"
     ]
    },
    {
     "name": "stdout",
     "output_type": "stream",
     "text": [
      "episode: 11/200, loss: 1.4608, duration: 0:00:01.124017\n"
     ]
    },
    {
     "name": "stdout",
     "output_type": "stream",
     "text": [
      "episode: 21/200, loss: 1.8183, duration: 0:00:01.099193\n"
     ]
    },
    {
     "name": "stdout",
     "output_type": "stream",
     "text": [
      "episode: 31/200, loss: 2.4806, duration: 0:00:01.222087\n"
     ]
    },
    {
     "name": "stdout",
     "output_type": "stream",
     "text": [
      "episode: 41/200, loss: 4.0568, duration: 0:00:01.158400\n"
     ]
    },
    {
     "name": "stdout",
     "output_type": "stream",
     "text": [
      "episode: 51/200, loss: 2.7468, duration: 0:00:01.282256\n"
     ]
    },
    {
     "name": "stdout",
     "output_type": "stream",
     "text": [
      "episode: 61/200, loss: 3.2324, duration: 0:00:01.086411\n"
     ]
    },
    {
     "name": "stdout",
     "output_type": "stream",
     "text": [
      "episode: 71/200, loss: 3.8427, duration: 0:00:01.270509\n"
     ]
    },
    {
     "name": "stdout",
     "output_type": "stream",
     "text": [
      "episode: 81/200, loss: 1.3406, duration: 0:00:01.226798\n"
     ]
    },
    {
     "name": "stdout",
     "output_type": "stream",
     "text": [
      "episode: 91/200, loss: 1.6067, duration: 0:00:01.091779\n"
     ]
    },
    {
     "name": "stdout",
     "output_type": "stream",
     "text": [
      "episode: 101/200, loss: 1.2951, duration: 0:00:01.089222\n"
     ]
    },
    {
     "name": "stdout",
     "output_type": "stream",
     "text": [
      "episode: 111/200, loss: 1.5755, duration: 0:00:01.117358\n"
     ]
    },
    {
     "name": "stdout",
     "output_type": "stream",
     "text": [
      "episode: 121/200, loss: 1.2191, duration: 0:00:01.097560\n"
     ]
    },
    {
     "name": "stdout",
     "output_type": "stream",
     "text": [
      "episode: 131/200, loss: 1.9440, duration: 0:00:01.099129\n"
     ]
    },
    {
     "name": "stdout",
     "output_type": "stream",
     "text": [
      "episode: 141/200, loss: 4.7863, duration: 0:00:01.254012\n"
     ]
    },
    {
     "name": "stdout",
     "output_type": "stream",
     "text": [
      "episode: 151/200, loss: 3.1633, duration: 0:00:01.272444\n"
     ]
    },
    {
     "name": "stdout",
     "output_type": "stream",
     "text": [
      "episode: 161/200, loss: 0.4918, duration: 0:00:01.137404\n"
     ]
    },
    {
     "name": "stdout",
     "output_type": "stream",
     "text": [
      "episode: 171/200, loss: 1.8317, duration: 0:00:01.145717\n"
     ]
    },
    {
     "name": "stdout",
     "output_type": "stream",
     "text": [
      "episode: 181/200, loss: 1.8402, duration: 0:00:01.286851\n"
     ]
    },
    {
     "name": "stdout",
     "output_type": "stream",
     "text": [
      "episode: 191/200, loss: 3.0775, duration: 0:00:01.216112\n"
     ]
    },
    {
     "name": "stderr",
     "output_type": "stream",
     "text": [
      "/usr/local/lib/python3.7/site-packages/ipykernel_launcher.py:136: RuntimeWarning: More than 20 figures have been opened. Figures created through the pyplot interface (`matplotlib.pyplot.figure`) are retained until explicitly closed and may consume too much memory. (To control this warning, see the rcParam `figure.max_open_warning`).\n"
     ]
    },
    {
     "name": "stdout",
     "output_type": "stream",
     "text": [
      "#############################################################################\n",
      "##\t[371/450]\tmodel=RL_CNN,\tSEED=0,\ttrade=11,\trisk=10000\thold=0.1\t##\n",
      "#############################################################################\n"
     ]
    },
    {
     "name": "stdout",
     "output_type": "stream",
     "text": [
      "episode: 1/200, loss: 10.2742, duration: 0:00:01.105698\n"
     ]
    },
    {
     "name": "stdout",
     "output_type": "stream",
     "text": [
      "episode: 11/200, loss: 2.3026, duration: 0:00:01.274328\n"
     ]
    },
    {
     "name": "stdout",
     "output_type": "stream",
     "text": [
      "episode: 21/200, loss: 3.4905, duration: 0:00:01.388423\n"
     ]
    },
    {
     "name": "stdout",
     "output_type": "stream",
     "text": [
      "episode: 31/200, loss: 4.6332, duration: 0:00:01.132113\n"
     ]
    },
    {
     "name": "stdout",
     "output_type": "stream",
     "text": [
      "episode: 41/200, loss: 7.1310, duration: 0:00:01.131938\n"
     ]
    },
    {
     "name": "stdout",
     "output_type": "stream",
     "text": [
      "episode: 51/200, loss: 4.0288, duration: 0:00:01.298835\n"
     ]
    },
    {
     "name": "stdout",
     "output_type": "stream",
     "text": [
      "episode: 61/200, loss: 6.0593, duration: 0:00:01.264162\n"
     ]
    },
    {
     "name": "stdout",
     "output_type": "stream",
     "text": [
      "episode: 71/200, loss: 7.1774, duration: 0:00:01.224215\n"
     ]
    },
    {
     "name": "stdout",
     "output_type": "stream",
     "text": [
      "episode: 81/200, loss: 2.3724, duration: 0:00:01.142222\n"
     ]
    },
    {
     "name": "stdout",
     "output_type": "stream",
     "text": [
      "episode: 91/200, loss: 2.7423, duration: 0:00:01.083770\n"
     ]
    },
    {
     "name": "stdout",
     "output_type": "stream",
     "text": [
      "episode: 101/200, loss: 2.5993, duration: 0:00:01.117400\n"
     ]
    },
    {
     "name": "stdout",
     "output_type": "stream",
     "text": [
      "episode: 111/200, loss: 2.9198, duration: 0:00:01.119420\n"
     ]
    },
    {
     "name": "stdout",
     "output_type": "stream",
     "text": [
      "episode: 121/200, loss: 2.2143, duration: 0:00:01.117744\n"
     ]
    },
    {
     "name": "stdout",
     "output_type": "stream",
     "text": [
      "episode: 131/200, loss: 3.1943, duration: 0:00:01.246397\n"
     ]
    },
    {
     "name": "stdout",
     "output_type": "stream",
     "text": [
      "episode: 141/200, loss: 9.6659, duration: 0:00:01.287732\n"
     ]
    },
    {
     "name": "stdout",
     "output_type": "stream",
     "text": [
      "episode: 151/200, loss: 5.9204, duration: 0:00:01.131634\n"
     ]
    },
    {
     "name": "stdout",
     "output_type": "stream",
     "text": [
      "episode: 161/200, loss: 0.9290, duration: 0:00:01.091623\n"
     ]
    },
    {
     "name": "stdout",
     "output_type": "stream",
     "text": [
      "episode: 171/200, loss: 3.5963, duration: 0:00:01.114036\n"
     ]
    },
    {
     "name": "stdout",
     "output_type": "stream",
     "text": [
      "episode: 181/200, loss: 3.0557, duration: 0:00:01.266330\n"
     ]
    },
    {
     "name": "stdout",
     "output_type": "stream",
     "text": [
      "episode: 191/200, loss: 4.2858, duration: 0:00:01.087597\n"
     ]
    },
    {
     "name": "stderr",
     "output_type": "stream",
     "text": [
      "/usr/local/lib/python3.7/site-packages/ipykernel_launcher.py:136: RuntimeWarning: More than 20 figures have been opened. Figures created through the pyplot interface (`matplotlib.pyplot.figure`) are retained until explicitly closed and may consume too much memory. (To control this warning, see the rcParam `figure.max_open_warning`).\n"
     ]
    },
    {
     "name": "stdout",
     "output_type": "stream",
     "text": [
      "#############################################################################\n",
      "##\t[372/450]\tmodel=RL_CNN,\tSEED=0,\ttrade=11,\trisk=10000\thold=1\t##\n",
      "#############################################################################\n"
     ]
    },
    {
     "name": "stdout",
     "output_type": "stream",
     "text": [
      "episode: 1/200, loss: 10.2751, duration: 0:00:01.238034\n"
     ]
    },
    {
     "name": "stdout",
     "output_type": "stream",
     "text": [
      "episode: 11/200, loss: 2.3031, duration: 0:00:01.128137\n"
     ]
    },
    {
     "name": "stdout",
     "output_type": "stream",
     "text": [
      "episode: 21/200, loss: 3.4935, duration: 0:00:01.091984\n"
     ]
    },
    {
     "name": "stdout",
     "output_type": "stream",
     "text": [
      "episode: 31/200, loss: 4.6330, duration: 0:00:01.132930\n"
     ]
    },
    {
     "name": "stdout",
     "output_type": "stream",
     "text": [
      "episode: 41/200, loss: 7.1313, duration: 0:00:01.283424\n"
     ]
    },
    {
     "name": "stdout",
     "output_type": "stream",
     "text": [
      "episode: 51/200, loss: 4.0300, duration: 0:00:01.399240\n"
     ]
    },
    {
     "name": "stdout",
     "output_type": "stream",
     "text": [
      "episode: 61/200, loss: 6.0601, duration: 0:00:01.142140\n"
     ]
    },
    {
     "name": "stdout",
     "output_type": "stream",
     "text": [
      "episode: 71/200, loss: 7.1771, duration: 0:00:01.125093\n"
     ]
    },
    {
     "name": "stdout",
     "output_type": "stream",
     "text": [
      "episode: 81/200, loss: 2.3727, duration: 0:00:01.122513\n"
     ]
    },
    {
     "name": "stdout",
     "output_type": "stream",
     "text": [
      "episode: 91/200, loss: 2.7423, duration: 0:00:01.206519\n"
     ]
    },
    {
     "name": "stdout",
     "output_type": "stream",
     "text": [
      "episode: 101/200, loss: 2.6014, duration: 0:00:01.115014\n"
     ]
    },
    {
     "name": "stdout",
     "output_type": "stream",
     "text": [
      "episode: 111/200, loss: 2.9192, duration: 0:00:01.133598\n"
     ]
    },
    {
     "name": "stdout",
     "output_type": "stream",
     "text": [
      "episode: 121/200, loss: 2.2151, duration: 0:00:01.264838\n"
     ]
    },
    {
     "name": "stdout",
     "output_type": "stream",
     "text": [
      "episode: 131/200, loss: 3.1937, duration: 0:00:01.206482\n"
     ]
    },
    {
     "name": "stdout",
     "output_type": "stream",
     "text": [
      "episode: 141/200, loss: 9.6715, duration: 0:00:01.107601\n"
     ]
    },
    {
     "name": "stdout",
     "output_type": "stream",
     "text": [
      "episode: 151/200, loss: 5.9180, duration: 0:00:01.084106\n"
     ]
    },
    {
     "name": "stdout",
     "output_type": "stream",
     "text": [
      "episode: 161/200, loss: 0.9265, duration: 0:00:01.075258\n"
     ]
    },
    {
     "name": "stdout",
     "output_type": "stream",
     "text": [
      "episode: 171/200, loss: 3.5795, duration: 0:00:01.091973\n"
     ]
    },
    {
     "name": "stdout",
     "output_type": "stream",
     "text": [
      "episode: 181/200, loss: 3.0615, duration: 0:00:01.142243\n"
     ]
    },
    {
     "name": "stdout",
     "output_type": "stream",
     "text": [
      "episode: 191/200, loss: 4.3008, duration: 0:00:01.136638\n"
     ]
    },
    {
     "name": "stderr",
     "output_type": "stream",
     "text": [
      "/usr/local/lib/python3.7/site-packages/ipykernel_launcher.py:136: RuntimeWarning: More than 20 figures have been opened. Figures created through the pyplot interface (`matplotlib.pyplot.figure`) are retained until explicitly closed and may consume too much memory. (To control this warning, see the rcParam `figure.max_open_warning`).\n"
     ]
    },
    {
     "name": "stdout",
     "output_type": "stream",
     "text": [
      "#############################################################################\n",
      "##\t[373/450]\tmodel=RL_CNN,\tSEED=0,\ttrade=11,\trisk=10000\thold=10\t##\n",
      "#############################################################################\n"
     ]
    },
    {
     "name": "stdout",
     "output_type": "stream",
     "text": [
      "episode: 1/200, loss: 10.2835, duration: 0:00:01.170028\n"
     ]
    },
    {
     "name": "stdout",
     "output_type": "stream",
     "text": [
      "episode: 11/200, loss: 2.3066, duration: 0:00:01.263801\n"
     ]
    },
    {
     "name": "stdout",
     "output_type": "stream",
     "text": [
      "episode: 21/200, loss: 3.4898, duration: 0:00:01.074617\n"
     ]
    },
    {
     "name": "stdout",
     "output_type": "stream",
     "text": [
      "episode: 31/200, loss: 4.6357, duration: 0:00:01.247997\n"
     ]
    },
    {
     "name": "stdout",
     "output_type": "stream",
     "text": [
      "episode: 41/200, loss: 7.1352, duration: 0:00:01.269135\n"
     ]
    },
    {
     "name": "stdout",
     "output_type": "stream",
     "text": [
      "episode: 51/200, loss: 4.0385, duration: 0:00:01.103612\n"
     ]
    },
    {
     "name": "stdout",
     "output_type": "stream",
     "text": [
      "episode: 61/200, loss: 6.0607, duration: 0:00:01.411226\n"
     ]
    },
    {
     "name": "stdout",
     "output_type": "stream",
     "text": [
      "episode: 71/200, loss: 7.1821, duration: 0:00:01.266095\n"
     ]
    },
    {
     "name": "stdout",
     "output_type": "stream",
     "text": [
      "episode: 81/200, loss: 2.3749, duration: 0:00:01.118094\n"
     ]
    },
    {
     "name": "stdout",
     "output_type": "stream",
     "text": [
      "episode: 91/200, loss: 2.7448, duration: 0:00:01.253365\n"
     ]
    },
    {
     "name": "stdout",
     "output_type": "stream",
     "text": [
      "episode: 101/200, loss: 2.6032, duration: 0:00:01.264800\n"
     ]
    },
    {
     "name": "stdout",
     "output_type": "stream",
     "text": [
      "episode: 111/200, loss: 2.9178, duration: 0:00:01.096339\n"
     ]
    },
    {
     "name": "stdout",
     "output_type": "stream",
     "text": [
      "episode: 121/200, loss: 2.2150, duration: 0:00:01.424947\n"
     ]
    },
    {
     "name": "stdout",
     "output_type": "stream",
     "text": [
      "episode: 131/200, loss: 3.1962, duration: 0:00:01.221797\n"
     ]
    },
    {
     "name": "stdout",
     "output_type": "stream",
     "text": [
      "episode: 141/200, loss: 9.6778, duration: 0:00:01.089312\n"
     ]
    },
    {
     "name": "stdout",
     "output_type": "stream",
     "text": [
      "episode: 151/200, loss: 5.9178, duration: 0:00:01.237160\n"
     ]
    },
    {
     "name": "stdout",
     "output_type": "stream",
     "text": [
      "episode: 161/200, loss: 0.9256, duration: 0:00:01.144050\n"
     ]
    },
    {
     "name": "stdout",
     "output_type": "stream",
     "text": [
      "episode: 171/200, loss: 3.5568, duration: 0:00:01.137153\n"
     ]
    },
    {
     "name": "stdout",
     "output_type": "stream",
     "text": [
      "episode: 181/200, loss: 3.0732, duration: 0:00:01.215204\n"
     ]
    },
    {
     "name": "stdout",
     "output_type": "stream",
     "text": [
      "episode: 191/200, loss: 4.3248, duration: 0:00:01.145399\n"
     ]
    },
    {
     "name": "stderr",
     "output_type": "stream",
     "text": [
      "/usr/local/lib/python3.7/site-packages/ipykernel_launcher.py:136: RuntimeWarning: More than 20 figures have been opened. Figures created through the pyplot interface (`matplotlib.pyplot.figure`) are retained until explicitly closed and may consume too much memory. (To control this warning, see the rcParam `figure.max_open_warning`).\n"
     ]
    },
    {
     "name": "stdout",
     "output_type": "stream",
     "text": [
      "#############################################################################\n",
      "##\t[374/450]\tmodel=RL_CNN,\tSEED=0,\ttrade=11,\trisk=10000\thold=100\t##\n",
      "#############################################################################\n"
     ]
    },
    {
     "name": "stdout",
     "output_type": "stream",
     "text": [
      "episode: 1/200, loss: 10.3682, duration: 0:00:01.148356\n"
     ]
    },
    {
     "name": "stdout",
     "output_type": "stream",
     "text": [
      "episode: 11/200, loss: 2.3375, duration: 0:00:01.141265\n"
     ]
    },
    {
     "name": "stdout",
     "output_type": "stream",
     "text": [
      "episode: 21/200, loss: 3.4782, duration: 0:00:01.139398\n"
     ]
    },
    {
     "name": "stdout",
     "output_type": "stream",
     "text": [
      "episode: 31/200, loss: 4.6610, duration: 0:00:01.091677\n"
     ]
    },
    {
     "name": "stdout",
     "output_type": "stream",
     "text": [
      "episode: 41/200, loss: 7.1614, duration: 0:00:01.079856\n"
     ]
    },
    {
     "name": "stdout",
     "output_type": "stream",
     "text": [
      "episode: 51/200, loss: 4.1228, duration: 0:00:01.087414\n"
     ]
    },
    {
     "name": "stdout",
     "output_type": "stream",
     "text": [
      "episode: 61/200, loss: 6.0589, duration: 0:00:01.110441\n"
     ]
    },
    {
     "name": "stdout",
     "output_type": "stream",
     "text": [
      "episode: 71/200, loss: 7.1963, duration: 0:00:01.085669\n"
     ]
    },
    {
     "name": "stdout",
     "output_type": "stream",
     "text": [
      "episode: 81/200, loss: 2.3714, duration: 0:00:01.110855\n"
     ]
    },
    {
     "name": "stdout",
     "output_type": "stream",
     "text": [
      "episode: 91/200, loss: 2.7800, duration: 0:00:01.097756\n"
     ]
    },
    {
     "name": "stdout",
     "output_type": "stream",
     "text": [
      "episode: 101/200, loss: 2.6208, duration: 0:00:01.282435\n"
     ]
    },
    {
     "name": "stdout",
     "output_type": "stream",
     "text": [
      "episode: 111/200, loss: 2.9454, duration: 0:00:01.088713\n"
     ]
    },
    {
     "name": "stdout",
     "output_type": "stream",
     "text": [
      "episode: 121/200, loss: 2.2054, duration: 0:00:01.117797\n"
     ]
    },
    {
     "name": "stdout",
     "output_type": "stream",
     "text": [
      "episode: 131/200, loss: 3.2715, duration: 0:00:01.095443\n"
     ]
    },
    {
     "name": "stdout",
     "output_type": "stream",
     "text": [
      "episode: 141/200, loss: 9.7180, duration: 0:00:01.083744\n"
     ]
    },
    {
     "name": "stdout",
     "output_type": "stream",
     "text": [
      "episode: 151/200, loss: 5.9393, duration: 0:00:01.264258\n"
     ]
    },
    {
     "name": "stdout",
     "output_type": "stream",
     "text": [
      "episode: 161/200, loss: 0.9078, duration: 0:00:01.083799\n"
     ]
    },
    {
     "name": "stdout",
     "output_type": "stream",
     "text": [
      "episode: 171/200, loss: 3.2951, duration: 0:00:01.280013\n"
     ]
    },
    {
     "name": "stdout",
     "output_type": "stream",
     "text": [
      "episode: 181/200, loss: 3.1678, duration: 0:00:01.276153\n"
     ]
    },
    {
     "name": "stdout",
     "output_type": "stream",
     "text": [
      "episode: 191/200, loss: 4.6179, duration: 0:00:01.265756\n"
     ]
    },
    {
     "name": "stderr",
     "output_type": "stream",
     "text": [
      "/usr/local/lib/python3.7/site-packages/ipykernel_launcher.py:136: RuntimeWarning: More than 20 figures have been opened. Figures created through the pyplot interface (`matplotlib.pyplot.figure`) are retained until explicitly closed and may consume too much memory. (To control this warning, see the rcParam `figure.max_open_warning`).\n"
     ]
    },
    {
     "name": "stdout",
     "output_type": "stream",
     "text": [
      "#############################################################################\n",
      "##\t[375/450]\tmodel=RL_CNN,\tSEED=0,\ttrade=11,\trisk=10000\thold=1000\t##\n",
      "#############################################################################\n"
     ]
    },
    {
     "name": "stdout",
     "output_type": "stream",
     "text": [
      "episode: 1/200, loss: 11.2145, duration: 0:00:01.283477\n"
     ]
    },
    {
     "name": "stdout",
     "output_type": "stream",
     "text": [
      "episode: 11/200, loss: 2.6329, duration: 0:00:01.268667\n"
     ]
    },
    {
     "name": "stdout",
     "output_type": "stream",
     "text": [
      "episode: 21/200, loss: 3.4984, duration: 0:00:01.129801\n"
     ]
    },
    {
     "name": "stdout",
     "output_type": "stream",
     "text": [
      "episode: 31/200, loss: 4.9351, duration: 0:00:01.247631\n"
     ]
    },
    {
     "name": "stdout",
     "output_type": "stream",
     "text": [
      "episode: 41/200, loss: 7.5390, duration: 0:00:01.128341\n"
     ]
    },
    {
     "name": "stdout",
     "output_type": "stream",
     "text": [
      "episode: 51/200, loss: 5.0590, duration: 0:00:01.112018\n"
     ]
    },
    {
     "name": "stdout",
     "output_type": "stream",
     "text": [
      "episode: 61/200, loss: 6.1126, duration: 0:00:01.196446\n"
     ]
    },
    {
     "name": "stdout",
     "output_type": "stream",
     "text": [
      "episode: 71/200, loss: 7.4965, duration: 0:00:01.115673\n"
     ]
    },
    {
     "name": "stdout",
     "output_type": "stream",
     "text": [
      "episode: 81/200, loss: 2.4095, duration: 0:00:01.123198\n"
     ]
    },
    {
     "name": "stdout",
     "output_type": "stream",
     "text": [
      "episode: 91/200, loss: 3.0315, duration: 0:00:01.205279\n"
     ]
    },
    {
     "name": "stdout",
     "output_type": "stream",
     "text": [
      "episode: 101/200, loss: 2.7397, duration: 0:00:01.079289\n"
     ]
    },
    {
     "name": "stdout",
     "output_type": "stream",
     "text": [
      "episode: 111/200, loss: 3.0297, duration: 0:00:01.265948\n"
     ]
    },
    {
     "name": "stdout",
     "output_type": "stream",
     "text": [
      "episode: 121/200, loss: 2.3490, duration: 0:00:01.260074\n"
     ]
    },
    {
     "name": "stdout",
     "output_type": "stream",
     "text": [
      "episode: 131/200, loss: 3.5577, duration: 0:00:01.089356\n"
     ]
    },
    {
     "name": "stdout",
     "output_type": "stream",
     "text": [
      "episode: 141/200, loss: 9.5982, duration: 0:00:01.080579\n"
     ]
    },
    {
     "name": "stdout",
     "output_type": "stream",
     "text": [
      "episode: 151/200, loss: 6.1026, duration: 0:00:01.219261\n"
     ]
    },
    {
     "name": "stdout",
     "output_type": "stream",
     "text": [
      "episode: 161/200, loss: 0.9505, duration: 0:00:01.281432\n"
     ]
    },
    {
     "name": "stdout",
     "output_type": "stream",
     "text": [
      "episode: 171/200, loss: 3.4906, duration: 0:00:01.128654\n"
     ]
    },
    {
     "name": "stdout",
     "output_type": "stream",
     "text": [
      "episode: 181/200, loss: 3.3122, duration: 0:00:01.368403\n"
     ]
    },
    {
     "name": "stdout",
     "output_type": "stream",
     "text": [
      "episode: 191/200, loss: 5.5752, duration: 0:00:01.111264\n"
     ]
    },
    {
     "name": "stderr",
     "output_type": "stream",
     "text": [
      "/usr/local/lib/python3.7/site-packages/ipykernel_launcher.py:136: RuntimeWarning: More than 20 figures have been opened. Figures created through the pyplot interface (`matplotlib.pyplot.figure`) are retained until explicitly closed and may consume too much memory. (To control this warning, see the rcParam `figure.max_open_warning`).\n"
     ]
    },
    {
     "name": "stdout",
     "output_type": "stream",
     "text": [
      "\talready exists: trade_12_risk_1_hold_0.1\n",
      "\tskip to next.\n",
      "\talready exists: trade_12_risk_1_hold_1\n",
      "\tskip to next.\n",
      "\talready exists: trade_12_risk_1_hold_10\n",
      "\tskip to next.\n",
      "\talready exists: trade_12_risk_1_hold_100\n",
      "\tskip to next.\n",
      "\talready exists: trade_12_risk_1_hold_1000\n",
      "\tskip to next.\n",
      "\talready exists: trade_12_risk_2_hold_0.1\n",
      "\tskip to next.\n",
      "\talready exists: trade_12_risk_2_hold_1\n",
      "\tskip to next.\n",
      "\talready exists: trade_12_risk_2_hold_10\n",
      "\tskip to next.\n",
      "\talready exists: trade_12_risk_2_hold_100\n",
      "\tskip to next.\n",
      "\talready exists: trade_12_risk_2_hold_1000\n",
      "\tskip to next.\n",
      "\talready exists: trade_12_risk_3_hold_0.1\n",
      "\tskip to next.\n",
      "\talready exists: trade_12_risk_3_hold_1\n",
      "\tskip to next.\n",
      "\talready exists: trade_12_risk_3_hold_10\n",
      "\tskip to next.\n",
      "\talready exists: trade_12_risk_3_hold_100\n",
      "\tskip to next.\n",
      "\talready exists: trade_12_risk_3_hold_1000\n",
      "\tskip to next.\n",
      "\talready exists: trade_12_risk_6_hold_0.1\n",
      "\tskip to next.\n",
      "\talready exists: trade_12_risk_6_hold_1\n",
      "\tskip to next.\n",
      "\talready exists: trade_12_risk_6_hold_10\n",
      "\tskip to next.\n",
      "\talready exists: trade_12_risk_6_hold_100\n",
      "\tskip to next.\n",
      "\talready exists: trade_12_risk_6_hold_1000\n",
      "\tskip to next.\n",
      "\talready exists: trade_12_risk_10_hold_0.1\n",
      "\tskip to next.\n",
      "\talready exists: trade_12_risk_10_hold_1\n",
      "\tskip to next.\n",
      "\talready exists: trade_12_risk_10_hold_10\n",
      "\tskip to next.\n",
      "\talready exists: trade_12_risk_10_hold_100\n",
      "\tskip to next.\n",
      "\talready exists: trade_12_risk_10_hold_1000\n",
      "\tskip to next.\n",
      "\talready exists: trade_12_risk_18_hold_0.1\n",
      "\tskip to next.\n",
      "\talready exists: trade_12_risk_18_hold_1\n",
      "\tskip to next.\n",
      "\talready exists: trade_12_risk_18_hold_10\n",
      "\tskip to next.\n",
      "\talready exists: trade_12_risk_18_hold_100\n",
      "\tskip to next.\n",
      "\talready exists: trade_12_risk_18_hold_1000\n",
      "\tskip to next.\n",
      "\talready exists: trade_12_risk_32_hold_0.1\n",
      "\tskip to next.\n",
      "\talready exists: trade_12_risk_32_hold_1\n",
      "\tskip to next.\n",
      "\talready exists: trade_12_risk_32_hold_10\n",
      "\tskip to next.\n",
      "\talready exists: trade_12_risk_32_hold_100\n",
      "\tskip to next.\n",
      "\talready exists: trade_12_risk_32_hold_1000\n",
      "\tskip to next.\n",
      "\talready exists: trade_12_risk_56_hold_0.1\n",
      "\tskip to next.\n",
      "\talready exists: trade_12_risk_56_hold_1\n",
      "\tskip to next.\n",
      "\talready exists: trade_12_risk_56_hold_10\n",
      "\tskip to next.\n",
      "\talready exists: trade_12_risk_56_hold_100\n",
      "\tskip to next.\n",
      "\talready exists: trade_12_risk_56_hold_1000\n",
      "\tskip to next.\n",
      "\talready exists: trade_12_risk_100_hold_0.1\n",
      "\tskip to next.\n",
      "\talready exists: trade_12_risk_100_hold_1\n",
      "\tskip to next.\n",
      "\talready exists: trade_12_risk_100_hold_10\n",
      "\tskip to next.\n",
      "\talready exists: trade_12_risk_100_hold_100\n",
      "\tskip to next.\n",
      "\talready exists: trade_12_risk_100_hold_1000\n",
      "\tskip to next.\n",
      "\talready exists: trade_12_risk_178_hold_0.1\n",
      "\tskip to next.\n",
      "\talready exists: trade_12_risk_178_hold_1\n",
      "\tskip to next.\n",
      "\talready exists: trade_12_risk_178_hold_10\n",
      "\tskip to next.\n",
      "\talready exists: trade_12_risk_178_hold_100\n",
      "\tskip to next.\n",
      "\talready exists: trade_12_risk_178_hold_1000\n",
      "\tskip to next.\n",
      "\talready exists: trade_12_risk_316_hold_0.1\n",
      "\tskip to next.\n",
      "\talready exists: trade_12_risk_316_hold_1\n",
      "\tskip to next.\n",
      "\talready exists: trade_12_risk_316_hold_10\n",
      "\tskip to next.\n",
      "\talready exists: trade_12_risk_316_hold_100\n",
      "\tskip to next.\n",
      "\talready exists: trade_12_risk_316_hold_1000\n",
      "\tskip to next.\n",
      "\talready exists: trade_12_risk_562_hold_0.1\n",
      "\tskip to next.\n",
      "\talready exists: trade_12_risk_562_hold_1\n",
      "\tskip to next.\n",
      "\talready exists: trade_12_risk_562_hold_10\n",
      "\tskip to next.\n",
      "\talready exists: trade_12_risk_562_hold_100\n",
      "\tskip to next.\n",
      "\talready exists: trade_12_risk_562_hold_1000\n",
      "\tskip to next.\n",
      "\talready exists: trade_12_risk_1000_hold_0.1\n",
      "\tskip to next.\n",
      "\talready exists: trade_12_risk_1000_hold_1\n",
      "\tskip to next.\n",
      "\talready exists: trade_12_risk_1000_hold_10\n",
      "\tskip to next.\n",
      "\talready exists: trade_12_risk_1000_hold_100\n",
      "\tskip to next.\n",
      "\talready exists: trade_12_risk_1000_hold_1000\n",
      "\tskip to next.\n",
      "#############################################################################\n",
      "##\t[441/450]\tmodel=RL_CNN,\tSEED=0,\ttrade=12,\trisk=5000\thold=0.1\t##\n",
      "#############################################################################\n"
     ]
    },
    {
     "name": "stdout",
     "output_type": "stream",
     "text": [
      "episode: 1/200, loss: 5.1786, duration: 0:00:01.306084\n"
     ]
    },
    {
     "name": "stdout",
     "output_type": "stream",
     "text": [
      "episode: 11/200, loss: 1.1581, duration: 0:00:01.090487\n"
     ]
    },
    {
     "name": "stdout",
     "output_type": "stream",
     "text": [
      "episode: 21/200, loss: 1.7495, duration: 0:00:01.282341\n"
     ]
    },
    {
     "name": "stdout",
     "output_type": "stream",
     "text": [
      "episode: 31/200, loss: 2.3345, duration: 0:00:01.133740\n"
     ]
    },
    {
     "name": "stdout",
     "output_type": "stream",
     "text": [
      "episode: 41/200, loss: 3.5969, duration: 0:00:01.097004\n"
     ]
    },
    {
     "name": "stdout",
     "output_type": "stream",
     "text": [
      "episode: 51/200, loss: 2.0225, duration: 0:00:01.144186\n"
     ]
    },
    {
     "name": "stdout",
     "output_type": "stream",
     "text": [
      "episode: 61/200, loss: 3.0986, duration: 0:00:01.091044\n"
     ]
    },
    {
     "name": "stdout",
     "output_type": "stream",
     "text": [
      "episode: 71/200, loss: 3.6058, duration: 0:00:01.087750\n"
     ]
    },
    {
     "name": "stdout",
     "output_type": "stream",
     "text": [
      "episode: 81/200, loss: 1.1722, duration: 0:00:01.101499\n"
     ]
    },
    {
     "name": "stdout",
     "output_type": "stream",
     "text": [
      "episode: 91/200, loss: 1.3844, duration: 0:00:01.083348\n"
     ]
    },
    {
     "name": "stdout",
     "output_type": "stream",
     "text": [
      "episode: 101/200, loss: 1.3025, duration: 0:00:01.095296\n"
     ]
    },
    {
     "name": "stdout",
     "output_type": "stream",
     "text": [
      "episode: 111/200, loss: 1.4728, duration: 0:00:01.087132\n"
     ]
    },
    {
     "name": "stdout",
     "output_type": "stream",
     "text": [
      "episode: 121/200, loss: 1.1004, duration: 0:00:01.080117\n"
     ]
    },
    {
     "name": "stdout",
     "output_type": "stream",
     "text": [
      "episode: 131/200, loss: 1.6035, duration: 0:00:01.098296\n"
     ]
    },
    {
     "name": "stdout",
     "output_type": "stream",
     "text": [
      "episode: 141/200, loss: 4.8658, duration: 0:00:01.095653\n"
     ]
    },
    {
     "name": "stdout",
     "output_type": "stream",
     "text": [
      "episode: 151/200, loss: 2.9550, duration: 0:00:01.101085\n"
     ]
    },
    {
     "name": "stdout",
     "output_type": "stream",
     "text": [
      "episode: 161/200, loss: 0.4568, duration: 0:00:01.271558\n"
     ]
    },
    {
     "name": "stdout",
     "output_type": "stream",
     "text": [
      "episode: 171/200, loss: 1.7525, duration: 0:00:01.149835\n"
     ]
    },
    {
     "name": "stdout",
     "output_type": "stream",
     "text": [
      "episode: 181/200, loss: 1.5592, duration: 0:00:01.082802\n"
     ]
    },
    {
     "name": "stdout",
     "output_type": "stream",
     "text": [
      "episode: 191/200, loss: 2.1851, duration: 0:00:01.097931\n"
     ]
    },
    {
     "name": "stderr",
     "output_type": "stream",
     "text": [
      "/usr/local/lib/python3.7/site-packages/ipykernel_launcher.py:136: RuntimeWarning: More than 20 figures have been opened. Figures created through the pyplot interface (`matplotlib.pyplot.figure`) are retained until explicitly closed and may consume too much memory. (To control this warning, see the rcParam `figure.max_open_warning`).\n"
     ]
    },
    {
     "name": "stdout",
     "output_type": "stream",
     "text": [
      "#############################################################################\n",
      "##\t[442/450]\tmodel=RL_CNN,\tSEED=0,\ttrade=12,\trisk=5000\thold=1\t##\n",
      "#############################################################################\n"
     ]
    },
    {
     "name": "stdout",
     "output_type": "stream",
     "text": [
      "episode: 1/200, loss: 5.1794, duration: 0:00:01.282360\n"
     ]
    },
    {
     "name": "stdout",
     "output_type": "stream",
     "text": [
      "episode: 11/200, loss: 1.1584, duration: 0:00:01.130695\n"
     ]
    },
    {
     "name": "stdout",
     "output_type": "stream",
     "text": [
      "episode: 21/200, loss: 1.7490, duration: 0:00:01.135918\n"
     ]
    },
    {
     "name": "stdout",
     "output_type": "stream",
     "text": [
      "episode: 31/200, loss: 2.3357, duration: 0:00:01.241952\n"
     ]
    },
    {
     "name": "stdout",
     "output_type": "stream",
     "text": [
      "episode: 41/200, loss: 3.5968, duration: 0:00:01.141252\n"
     ]
    },
    {
     "name": "stdout",
     "output_type": "stream",
     "text": [
      "episode: 51/200, loss: 2.0239, duration: 0:00:01.116786\n"
     ]
    },
    {
     "name": "stdout",
     "output_type": "stream",
     "text": [
      "episode: 61/200, loss: 3.0988, duration: 0:00:01.420239\n"
     ]
    },
    {
     "name": "stdout",
     "output_type": "stream",
     "text": [
      "episode: 71/200, loss: 3.6060, duration: 0:00:01.142399\n"
     ]
    },
    {
     "name": "stdout",
     "output_type": "stream",
     "text": [
      "episode: 81/200, loss: 1.1725, duration: 0:00:01.124025\n"
     ]
    },
    {
     "name": "stdout",
     "output_type": "stream",
     "text": [
      "episode: 91/200, loss: 1.3849, duration: 0:00:01.198550\n"
     ]
    },
    {
     "name": "stdout",
     "output_type": "stream",
     "text": [
      "episode: 101/200, loss: 1.3033, duration: 0:00:01.116614\n"
     ]
    },
    {
     "name": "stdout",
     "output_type": "stream",
     "text": [
      "episode: 111/200, loss: 1.4711, duration: 0:00:01.132022\n"
     ]
    },
    {
     "name": "stdout",
     "output_type": "stream",
     "text": [
      "episode: 121/200, loss: 1.1001, duration: 0:00:01.402128\n"
     ]
    },
    {
     "name": "stdout",
     "output_type": "stream",
     "text": [
      "episode: 131/200, loss: 1.6037, duration: 0:00:01.079310\n"
     ]
    },
    {
     "name": "stdout",
     "output_type": "stream",
     "text": [
      "episode: 141/200, loss: 4.8669, duration: 0:00:01.074900\n"
     ]
    },
    {
     "name": "stdout",
     "output_type": "stream",
     "text": [
      "episode: 151/200, loss: 2.9552, duration: 0:00:01.187375\n"
     ]
    },
    {
     "name": "stdout",
     "output_type": "stream",
     "text": [
      "episode: 161/200, loss: 0.4566, duration: 0:00:01.093364\n"
     ]
    },
    {
     "name": "stdout",
     "output_type": "stream",
     "text": [
      "episode: 171/200, loss: 1.7500, duration: 0:00:01.130844\n"
     ]
    },
    {
     "name": "stdout",
     "output_type": "stream",
     "text": [
      "episode: 181/200, loss: 1.5626, duration: 0:00:01.221322\n"
     ]
    },
    {
     "name": "stdout",
     "output_type": "stream",
     "text": [
      "episode: 191/200, loss: 2.1901, duration: 0:00:01.105620\n"
     ]
    },
    {
     "name": "stderr",
     "output_type": "stream",
     "text": [
      "/usr/local/lib/python3.7/site-packages/ipykernel_launcher.py:136: RuntimeWarning: More than 20 figures have been opened. Figures created through the pyplot interface (`matplotlib.pyplot.figure`) are retained until explicitly closed and may consume too much memory. (To control this warning, see the rcParam `figure.max_open_warning`).\n"
     ]
    },
    {
     "name": "stdout",
     "output_type": "stream",
     "text": [
      "#############################################################################\n",
      "##\t[443/450]\tmodel=RL_CNN,\tSEED=0,\ttrade=12,\trisk=5000\thold=10\t##\n",
      "#############################################################################\n"
     ]
    },
    {
     "name": "stdout",
     "output_type": "stream",
     "text": [
      "episode: 1/200, loss: 5.1879, duration: 0:00:01.107576\n"
     ]
    },
    {
     "name": "stdout",
     "output_type": "stream",
     "text": [
      "episode: 11/200, loss: 1.1616, duration: 0:00:01.097873\n"
     ]
    },
    {
     "name": "stdout",
     "output_type": "stream",
     "text": [
      "episode: 21/200, loss: 1.7474, duration: 0:00:01.111690\n"
     ]
    },
    {
     "name": "stdout",
     "output_type": "stream",
     "text": [
      "episode: 31/200, loss: 2.3387, duration: 0:00:01.081335\n"
     ]
    },
    {
     "name": "stdout",
     "output_type": "stream",
     "text": [
      "episode: 41/200, loss: 3.6001, duration: 0:00:01.283584\n"
     ]
    },
    {
     "name": "stdout",
     "output_type": "stream",
     "text": [
      "episode: 51/200, loss: 2.0335, duration: 0:00:01.147381\n"
     ]
    },
    {
     "name": "stdout",
     "output_type": "stream",
     "text": [
      "episode: 61/200, loss: 3.0998, duration: 0:00:01.099730\n"
     ]
    },
    {
     "name": "stdout",
     "output_type": "stream",
     "text": [
      "episode: 71/200, loss: 3.6083, duration: 0:00:01.269259\n"
     ]
    },
    {
     "name": "stdout",
     "output_type": "stream",
     "text": [
      "episode: 81/200, loss: 1.1746, duration: 0:00:01.083708\n"
     ]
    },
    {
     "name": "stdout",
     "output_type": "stream",
     "text": [
      "episode: 91/200, loss: 1.3883, duration: 0:00:01.081893\n"
     ]
    },
    {
     "name": "stdout",
     "output_type": "stream",
     "text": [
      "episode: 101/200, loss: 1.3049, duration: 0:00:01.110542\n"
     ]
    },
    {
     "name": "stdout",
     "output_type": "stream",
     "text": [
      "episode: 111/200, loss: 1.4710, duration: 0:00:01.140383\n"
     ]
    },
    {
     "name": "stdout",
     "output_type": "stream",
     "text": [
      "episode: 121/200, loss: 1.0998, duration: 0:00:01.082560\n"
     ]
    },
    {
     "name": "stdout",
     "output_type": "stream",
     "text": [
      "episode: 131/200, loss: 1.6070, duration: 0:00:01.097120\n"
     ]
    },
    {
     "name": "stdout",
     "output_type": "stream",
     "text": [
      "episode: 141/200, loss: 4.8632, duration: 0:00:01.112652\n"
     ]
    },
    {
     "name": "stdout",
     "output_type": "stream",
     "text": [
      "episode: 151/200, loss: 2.9579, duration: 0:00:01.096311\n"
     ]
    },
    {
     "name": "stdout",
     "output_type": "stream",
     "text": [
      "episode: 161/200, loss: 0.4606, duration: 0:00:01.111377\n"
     ]
    },
    {
     "name": "stdout",
     "output_type": "stream",
     "text": [
      "episode: 171/200, loss: 1.7597, duration: 0:00:01.084750\n"
     ]
    },
    {
     "name": "stdout",
     "output_type": "stream",
     "text": [
      "episode: 181/200, loss: 1.5667, duration: 0:00:01.135210\n"
     ]
    },
    {
     "name": "stdout",
     "output_type": "stream",
     "text": [
      "episode: 191/200, loss: 2.1825, duration: 0:00:01.280798\n"
     ]
    },
    {
     "name": "stderr",
     "output_type": "stream",
     "text": [
      "/usr/local/lib/python3.7/site-packages/ipykernel_launcher.py:136: RuntimeWarning: More than 20 figures have been opened. Figures created through the pyplot interface (`matplotlib.pyplot.figure`) are retained until explicitly closed and may consume too much memory. (To control this warning, see the rcParam `figure.max_open_warning`).\n"
     ]
    },
    {
     "name": "stdout",
     "output_type": "stream",
     "text": [
      "#############################################################################\n",
      "##\t[444/450]\tmodel=RL_CNN,\tSEED=0,\ttrade=12,\trisk=5000\thold=100\t##\n",
      "#############################################################################\n"
     ]
    },
    {
     "name": "stdout",
     "output_type": "stream",
     "text": [
      "episode: 1/200, loss: 5.2725, duration: 0:00:01.284650\n"
     ]
    },
    {
     "name": "stdout",
     "output_type": "stream",
     "text": [
      "episode: 11/200, loss: 1.1907, duration: 0:00:01.155700\n"
     ]
    },
    {
     "name": "stdout",
     "output_type": "stream",
     "text": [
      "episode: 21/200, loss: 1.7159, duration: 0:00:01.112438\n"
     ]
    },
    {
     "name": "stdout",
     "output_type": "stream",
     "text": [
      "episode: 31/200, loss: 2.3683, duration: 0:00:01.259687\n"
     ]
    },
    {
     "name": "stdout",
     "output_type": "stream",
     "text": [
      "episode: 41/200, loss: 3.6259, duration: 0:00:01.142699\n"
     ]
    },
    {
     "name": "stdout",
     "output_type": "stream",
     "text": [
      "episode: 51/200, loss: 2.1152, duration: 0:00:01.093043\n"
     ]
    },
    {
     "name": "stdout",
     "output_type": "stream",
     "text": [
      "episode: 61/200, loss: 3.1076, duration: 0:00:01.224926\n"
     ]
    },
    {
     "name": "stdout",
     "output_type": "stream",
     "text": [
      "episode: 71/200, loss: 3.6369, duration: 0:00:01.119801\n"
     ]
    },
    {
     "name": "stdout",
     "output_type": "stream",
     "text": [
      "episode: 81/200, loss: 1.1965, duration: 0:00:01.100634\n"
     ]
    },
    {
     "name": "stdout",
     "output_type": "stream",
     "text": [
      "episode: 91/200, loss: 1.4087, duration: 0:00:01.239789\n"
     ]
    },
    {
     "name": "stdout",
     "output_type": "stream",
     "text": [
      "episode: 101/200, loss: 1.3235, duration: 0:00:01.088997\n"
     ]
    },
    {
     "name": "stdout",
     "output_type": "stream",
     "text": [
      "episode: 111/200, loss: 1.4838, duration: 0:00:01.081262\n"
     ]
    },
    {
     "name": "stdout",
     "output_type": "stream",
     "text": [
      "episode: 121/200, loss: 1.1121, duration: 0:00:01.257843\n"
     ]
    },
    {
     "name": "stdout",
     "output_type": "stream",
     "text": [
      "episode: 131/200, loss: 1.6265, duration: 0:00:01.122545\n"
     ]
    },
    {
     "name": "stdout",
     "output_type": "stream",
     "text": [
      "episode: 141/200, loss: 4.8221, duration: 0:00:01.280729\n"
     ]
    },
    {
     "name": "stdout",
     "output_type": "stream",
     "text": [
      "episode: 151/200, loss: 3.0043, duration: 0:00:01.201939\n"
     ]
    },
    {
     "name": "stdout",
     "output_type": "stream",
     "text": [
      "episode: 161/200, loss: 0.4637, duration: 0:00:01.274817\n"
     ]
    },
    {
     "name": "stdout",
     "output_type": "stream",
     "text": [
      "episode: 171/200, loss: 1.6445, duration: 0:00:01.147347\n"
     ]
    },
    {
     "name": "stdout",
     "output_type": "stream",
     "text": [
      "episode: 181/200, loss: 1.5517, duration: 0:00:01.247309\n"
     ]
    },
    {
     "name": "stdout",
     "output_type": "stream",
     "text": [
      "episode: 191/200, loss: 2.3256, duration: 0:00:01.114557\n"
     ]
    },
    {
     "name": "stderr",
     "output_type": "stream",
     "text": [
      "/usr/local/lib/python3.7/site-packages/ipykernel_launcher.py:136: RuntimeWarning: More than 20 figures have been opened. Figures created through the pyplot interface (`matplotlib.pyplot.figure`) are retained until explicitly closed and may consume too much memory. (To control this warning, see the rcParam `figure.max_open_warning`).\n"
     ]
    },
    {
     "name": "stdout",
     "output_type": "stream",
     "text": [
      "#############################################################################\n",
      "##\t[445/450]\tmodel=RL_CNN,\tSEED=0,\ttrade=12,\trisk=5000\thold=1000\t##\n",
      "#############################################################################\n"
     ]
    },
    {
     "name": "stdout",
     "output_type": "stream",
     "text": [
      "episode: 1/200, loss: 6.1189, duration: 0:00:01.299622\n"
     ]
    },
    {
     "name": "stdout",
     "output_type": "stream",
     "text": [
      "episode: 11/200, loss: 1.4619, duration: 0:00:01.088209\n"
     ]
    },
    {
     "name": "stdout",
     "output_type": "stream",
     "text": [
      "episode: 21/200, loss: 1.8198, duration: 0:00:01.134360\n"
     ]
    },
    {
     "name": "stdout",
     "output_type": "stream",
     "text": [
      "episode: 31/200, loss: 2.4819, duration: 0:00:01.121405\n"
     ]
    },
    {
     "name": "stdout",
     "output_type": "stream",
     "text": [
      "episode: 41/200, loss: 4.0603, duration: 0:00:01.090181\n"
     ]
    },
    {
     "name": "stdout",
     "output_type": "stream",
     "text": [
      "episode: 51/200, loss: 2.7485, duration: 0:00:01.134491\n"
     ]
    },
    {
     "name": "stdout",
     "output_type": "stream",
     "text": [
      "episode: 61/200, loss: 3.2322, duration: 0:00:01.080152\n"
     ]
    },
    {
     "name": "stdout",
     "output_type": "stream",
     "text": [
      "episode: 71/200, loss: 3.8436, duration: 0:00:01.274412\n"
     ]
    },
    {
     "name": "stdout",
     "output_type": "stream",
     "text": [
      "episode: 81/200, loss: 1.3423, duration: 0:00:01.084771\n"
     ]
    },
    {
     "name": "stdout",
     "output_type": "stream",
     "text": [
      "episode: 91/200, loss: 1.6095, duration: 0:00:01.266649\n"
     ]
    },
    {
     "name": "stdout",
     "output_type": "stream",
     "text": [
      "episode: 101/200, loss: 1.2976, duration: 0:00:01.084613\n"
     ]
    },
    {
     "name": "stdout",
     "output_type": "stream",
     "text": [
      "episode: 111/200, loss: 1.5737, duration: 0:00:01.268138\n"
     ]
    },
    {
     "name": "stdout",
     "output_type": "stream",
     "text": [
      "episode: 121/200, loss: 1.2171, duration: 0:00:01.116921\n"
     ]
    },
    {
     "name": "stdout",
     "output_type": "stream",
     "text": [
      "episode: 131/200, loss: 1.9433, duration: 0:00:01.094255\n"
     ]
    },
    {
     "name": "stdout",
     "output_type": "stream",
     "text": [
      "episode: 141/200, loss: 4.7862, duration: 0:00:01.087639\n"
     ]
    },
    {
     "name": "stdout",
     "output_type": "stream",
     "text": [
      "episode: 151/200, loss: 3.1646, duration: 0:00:01.140157\n"
     ]
    },
    {
     "name": "stdout",
     "output_type": "stream",
     "text": [
      "episode: 161/200, loss: 0.4924, duration: 0:00:01.293932\n"
     ]
    },
    {
     "name": "stdout",
     "output_type": "stream",
     "text": [
      "episode: 171/200, loss: 1.8313, duration: 0:00:01.087945\n"
     ]
    },
    {
     "name": "stdout",
     "output_type": "stream",
     "text": [
      "episode: 181/200, loss: 1.8402, duration: 0:00:01.141419\n"
     ]
    },
    {
     "name": "stdout",
     "output_type": "stream",
     "text": [
      "episode: 191/200, loss: 3.0752, duration: 0:00:01.116603\n"
     ]
    },
    {
     "name": "stderr",
     "output_type": "stream",
     "text": [
      "/usr/local/lib/python3.7/site-packages/ipykernel_launcher.py:136: RuntimeWarning: More than 20 figures have been opened. Figures created through the pyplot interface (`matplotlib.pyplot.figure`) are retained until explicitly closed and may consume too much memory. (To control this warning, see the rcParam `figure.max_open_warning`).\n"
     ]
    },
    {
     "name": "stdout",
     "output_type": "stream",
     "text": [
      "#############################################################################\n",
      "##\t[446/450]\tmodel=RL_CNN,\tSEED=0,\ttrade=12,\trisk=10000\thold=0.1\t##\n",
      "#############################################################################\n"
     ]
    },
    {
     "name": "stdout",
     "output_type": "stream",
     "text": [
      "episode: 1/200, loss: 10.2804, duration: 0:00:01.284240\n"
     ]
    },
    {
     "name": "stdout",
     "output_type": "stream",
     "text": [
      "episode: 11/200, loss: 2.3041, duration: 0:00:01.088660\n"
     ]
    },
    {
     "name": "stdout",
     "output_type": "stream",
     "text": [
      "episode: 21/200, loss: 3.4957, duration: 0:00:01.267091\n"
     ]
    },
    {
     "name": "stdout",
     "output_type": "stream",
     "text": [
      "episode: 31/200, loss: 4.6354, duration: 0:00:01.255795\n"
     ]
    },
    {
     "name": "stdout",
     "output_type": "stream",
     "text": [
      "episode: 41/200, loss: 7.1362, duration: 0:00:01.306937\n"
     ]
    },
    {
     "name": "stdout",
     "output_type": "stream",
     "text": [
      "episode: 51/200, loss: 4.0312, duration: 0:00:01.090159\n"
     ]
    },
    {
     "name": "stdout",
     "output_type": "stream",
     "text": [
      "episode: 61/200, loss: 6.0634, duration: 0:00:01.252161\n"
     ]
    },
    {
     "name": "stdout",
     "output_type": "stream",
     "text": [
      "episode: 71/200, loss: 7.1790, duration: 0:00:01.089236\n"
     ]
    },
    {
     "name": "stdout",
     "output_type": "stream",
     "text": [
      "episode: 81/200, loss: 2.3743, duration: 0:00:01.085671\n"
     ]
    },
    {
     "name": "stdout",
     "output_type": "stream",
     "text": [
      "episode: 91/200, loss: 2.7440, duration: 0:00:01.188812\n"
     ]
    },
    {
     "name": "stdout",
     "output_type": "stream",
     "text": [
      "episode: 101/200, loss: 2.6015, duration: 0:00:01.135959\n"
     ]
    },
    {
     "name": "stdout",
     "output_type": "stream",
     "text": [
      "episode: 111/200, loss: 2.9237, duration: 0:00:01.096751\n"
     ]
    },
    {
     "name": "stdout",
     "output_type": "stream",
     "text": [
      "episode: 121/200, loss: 2.2151, duration: 0:00:01.213176\n"
     ]
    },
    {
     "name": "stdout",
     "output_type": "stream",
     "text": [
      "episode: 131/200, loss: 3.1949, duration: 0:00:01.097239\n"
     ]
    },
    {
     "name": "stdout",
     "output_type": "stream",
     "text": [
      "episode: 141/200, loss: 9.6692, duration: 0:00:01.084506\n"
     ]
    },
    {
     "name": "stdout",
     "output_type": "stream",
     "text": [
      "episode: 151/200, loss: 5.9182, duration: 0:00:01.403963\n"
     ]
    },
    {
     "name": "stdout",
     "output_type": "stream",
     "text": [
      "episode: 161/200, loss: 0.9264, duration: 0:00:01.143220\n"
     ]
    },
    {
     "name": "stdout",
     "output_type": "stream",
     "text": [
      "episode: 171/200, loss: 3.5787, duration: 0:00:01.087093\n"
     ]
    },
    {
     "name": "stdout",
     "output_type": "stream",
     "text": [
      "episode: 181/200, loss: 3.0616, duration: 0:00:01.249626\n"
     ]
    },
    {
     "name": "stdout",
     "output_type": "stream",
     "text": [
      "episode: 191/200, loss: 4.3003, duration: 0:00:01.080742\n"
     ]
    },
    {
     "name": "stderr",
     "output_type": "stream",
     "text": [
      "/usr/local/lib/python3.7/site-packages/ipykernel_launcher.py:136: RuntimeWarning: More than 20 figures have been opened. Figures created through the pyplot interface (`matplotlib.pyplot.figure`) are retained until explicitly closed and may consume too much memory. (To control this warning, see the rcParam `figure.max_open_warning`).\n"
     ]
    },
    {
     "name": "stdout",
     "output_type": "stream",
     "text": [
      "#############################################################################\n",
      "##\t[447/450]\tmodel=RL_CNN,\tSEED=0,\ttrade=12,\trisk=10000\thold=1\t##\n",
      "#############################################################################\n"
     ]
    },
    {
     "name": "stdout",
     "output_type": "stream",
     "text": [
      "episode: 1/200, loss: 10.2812, duration: 0:00:01.112443\n"
     ]
    },
    {
     "name": "stdout",
     "output_type": "stream",
     "text": [
      "episode: 11/200, loss: 2.3044, duration: 0:00:01.085566\n"
     ]
    },
    {
     "name": "stdout",
     "output_type": "stream",
     "text": [
      "episode: 21/200, loss: 3.4961, duration: 0:00:01.265696\n"
     ]
    },
    {
     "name": "stdout",
     "output_type": "stream",
     "text": [
      "episode: 31/200, loss: 4.6342, duration: 0:00:01.135743\n"
     ]
    },
    {
     "name": "stdout",
     "output_type": "stream",
     "text": [
      "episode: 41/200, loss: 7.1373, duration: 0:00:01.266048\n"
     ]
    },
    {
     "name": "stdout",
     "output_type": "stream",
     "text": [
      "episode: 51/200, loss: 4.0314, duration: 0:00:01.280607\n"
     ]
    },
    {
     "name": "stdout",
     "output_type": "stream",
     "text": [
      "episode: 61/200, loss: 6.0633, duration: 0:00:01.122164\n"
     ]
    },
    {
     "name": "stdout",
     "output_type": "stream",
     "text": [
      "episode: 71/200, loss: 7.1794, duration: 0:00:01.135319\n"
     ]
    },
    {
     "name": "stdout",
     "output_type": "stream",
     "text": [
      "episode: 81/200, loss: 2.3747, duration: 0:00:01.129199\n"
     ]
    },
    {
     "name": "stdout",
     "output_type": "stream",
     "text": [
      "episode: 91/200, loss: 2.7442, duration: 0:00:01.148156\n"
     ]
    },
    {
     "name": "stdout",
     "output_type": "stream",
     "text": [
      "episode: 101/200, loss: 2.6017, duration: 0:00:01.112611\n"
     ]
    },
    {
     "name": "stdout",
     "output_type": "stream",
     "text": [
      "episode: 111/200, loss: 2.9226, duration: 0:00:01.134109\n"
     ]
    },
    {
     "name": "stdout",
     "output_type": "stream",
     "text": [
      "episode: 121/200, loss: 2.2152, duration: 0:00:01.266656\n"
     ]
    },
    {
     "name": "stdout",
     "output_type": "stream",
     "text": [
      "episode: 131/200, loss: 3.1946, duration: 0:00:01.123128\n"
     ]
    },
    {
     "name": "stdout",
     "output_type": "stream",
     "text": [
      "episode: 141/200, loss: 9.6698, duration: 0:00:01.138322\n"
     ]
    },
    {
     "name": "stdout",
     "output_type": "stream",
     "text": [
      "episode: 151/200, loss: 5.9195, duration: 0:00:01.084001\n"
     ]
    },
    {
     "name": "stdout",
     "output_type": "stream",
     "text": [
      "episode: 161/200, loss: 0.9267, duration: 0:00:01.099263\n"
     ]
    },
    {
     "name": "stdout",
     "output_type": "stream",
     "text": [
      "episode: 171/200, loss: 3.5807, duration: 0:00:01.094660\n"
     ]
    },
    {
     "name": "stdout",
     "output_type": "stream",
     "text": [
      "episode: 181/200, loss: 3.0619, duration: 0:00:01.278130\n"
     ]
    },
    {
     "name": "stdout",
     "output_type": "stream",
     "text": [
      "episode: 191/200, loss: 4.3016, duration: 0:00:01.270671\n"
     ]
    },
    {
     "name": "stderr",
     "output_type": "stream",
     "text": [
      "/usr/local/lib/python3.7/site-packages/ipykernel_launcher.py:136: RuntimeWarning: More than 20 figures have been opened. Figures created through the pyplot interface (`matplotlib.pyplot.figure`) are retained until explicitly closed and may consume too much memory. (To control this warning, see the rcParam `figure.max_open_warning`).\n"
     ]
    },
    {
     "name": "stdout",
     "output_type": "stream",
     "text": [
      "#############################################################################\n",
      "##\t[448/450]\tmodel=RL_CNN,\tSEED=0,\ttrade=12,\trisk=10000\thold=10\t##\n",
      "#############################################################################\n"
     ]
    },
    {
     "name": "stdout",
     "output_type": "stream",
     "text": [
      "episode: 1/200, loss: 10.2897, duration: 0:00:01.219984\n"
     ]
    },
    {
     "name": "stdout",
     "output_type": "stream",
     "text": [
      "episode: 11/200, loss: 2.3081, duration: 0:00:01.270370\n"
     ]
    },
    {
     "name": "stdout",
     "output_type": "stream",
     "text": [
      "episode: 21/200, loss: 3.4921, duration: 0:00:01.134092\n"
     ]
    },
    {
     "name": "stdout",
     "output_type": "stream",
     "text": [
      "episode: 31/200, loss: 4.6382, duration: 0:00:01.200732\n"
     ]
    },
    {
     "name": "stdout",
     "output_type": "stream",
     "text": [
      "episode: 41/200, loss: 7.1401, duration: 0:00:01.118424\n"
     ]
    },
    {
     "name": "stdout",
     "output_type": "stream",
     "text": [
      "episode: 51/200, loss: 4.0406, duration: 0:00:01.111260\n"
     ]
    },
    {
     "name": "stdout",
     "output_type": "stream",
     "text": [
      "episode: 61/200, loss: 6.0644, duration: 0:00:01.404464\n"
     ]
    },
    {
     "name": "stdout",
     "output_type": "stream",
     "text": [
      "episode: 71/200, loss: 7.1843, duration: 0:00:01.269496\n"
     ]
    },
    {
     "name": "stdout",
     "output_type": "stream",
     "text": [
      "episode: 81/200, loss: 2.3768, duration: 0:00:01.122101\n"
     ]
    },
    {
     "name": "stdout",
     "output_type": "stream",
     "text": [
      "episode: 91/200, loss: 2.7470, duration: 0:00:01.241254\n"
     ]
    },
    {
     "name": "stdout",
     "output_type": "stream",
     "text": [
      "episode: 101/200, loss: 2.6051, duration: 0:00:01.083207\n"
     ]
    },
    {
     "name": "stdout",
     "output_type": "stream",
     "text": [
      "episode: 111/200, loss: 2.9202, duration: 0:00:01.120126\n"
     ]
    },
    {
     "name": "stdout",
     "output_type": "stream",
     "text": [
      "episode: 121/200, loss: 2.2161, duration: 0:00:01.192211\n"
     ]
    },
    {
     "name": "stdout",
     "output_type": "stream",
     "text": [
      "episode: 131/200, loss: 3.1974, duration: 0:00:01.097878\n"
     ]
    },
    {
     "name": "stdout",
     "output_type": "stream",
     "text": [
      "episode: 141/200, loss: 9.6797, duration: 0:00:01.113348\n"
     ]
    },
    {
     "name": "stdout",
     "output_type": "stream",
     "text": [
      "episode: 151/200, loss: 5.9183, duration: 0:00:01.206313\n"
     ]
    },
    {
     "name": "stdout",
     "output_type": "stream",
     "text": [
      "episode: 161/200, loss: 0.9261, duration: 0:00:01.089670\n"
     ]
    },
    {
     "name": "stdout",
     "output_type": "stream",
     "text": [
      "episode: 171/200, loss: 3.5558, duration: 0:00:01.085975\n"
     ]
    },
    {
     "name": "stdout",
     "output_type": "stream",
     "text": [
      "episode: 181/200, loss: 3.0745, duration: 0:00:01.267622\n"
     ]
    },
    {
     "name": "stdout",
     "output_type": "stream",
     "text": [
      "episode: 191/200, loss: 4.3281, duration: 0:00:01.141222\n"
     ]
    },
    {
     "name": "stderr",
     "output_type": "stream",
     "text": [
      "/usr/local/lib/python3.7/site-packages/ipykernel_launcher.py:136: RuntimeWarning: More than 20 figures have been opened. Figures created through the pyplot interface (`matplotlib.pyplot.figure`) are retained until explicitly closed and may consume too much memory. (To control this warning, see the rcParam `figure.max_open_warning`).\n"
     ]
    },
    {
     "name": "stdout",
     "output_type": "stream",
     "text": [
      "#############################################################################\n",
      "##\t[449/450]\tmodel=RL_CNN,\tSEED=0,\ttrade=12,\trisk=10000\thold=100\t##\n",
      "#############################################################################\n"
     ]
    },
    {
     "name": "stdout",
     "output_type": "stream",
     "text": [
      "episode: 1/200, loss: 10.3743, duration: 0:00:01.301497\n"
     ]
    },
    {
     "name": "stdout",
     "output_type": "stream",
     "text": [
      "episode: 11/200, loss: 2.3390, duration: 0:00:01.088775\n"
     ]
    },
    {
     "name": "stdout",
     "output_type": "stream",
     "text": [
      "episode: 21/200, loss: 3.4805, duration: 0:00:01.118509\n"
     ]
    },
    {
     "name": "stdout",
     "output_type": "stream",
     "text": [
      "episode: 31/200, loss: 4.6634, duration: 0:00:01.143919\n"
     ]
    },
    {
     "name": "stdout",
     "output_type": "stream",
     "text": [
      "episode: 41/200, loss: 7.1655, duration: 0:00:01.090981\n"
     ]
    },
    {
     "name": "stdout",
     "output_type": "stream",
     "text": [
      "episode: 51/200, loss: 4.1248, duration: 0:00:01.141572\n"
     ]
    },
    {
     "name": "stdout",
     "output_type": "stream",
     "text": [
      "episode: 61/200, loss: 6.0624, duration: 0:00:01.115762\n"
     ]
    },
    {
     "name": "stdout",
     "output_type": "stream",
     "text": [
      "episode: 71/200, loss: 7.1976, duration: 0:00:01.147202\n"
     ]
    },
    {
     "name": "stdout",
     "output_type": "stream",
     "text": [
      "episode: 81/200, loss: 2.3785, duration: 0:00:01.140354\n"
     ]
    },
    {
     "name": "stdout",
     "output_type": "stream",
     "text": [
      "episode: 91/200, loss: 2.7796, duration: 0:00:01.091463\n"
     ]
    },
    {
     "name": "stdout",
     "output_type": "stream",
     "text": [
      "episode: 101/200, loss: 2.6328, duration: 0:00:01.114454\n"
     ]
    },
    {
     "name": "stdout",
     "output_type": "stream",
     "text": [
      "episode: 111/200, loss: 2.9183, duration: 0:00:01.115181\n"
     ]
    },
    {
     "name": "stdout",
     "output_type": "stream",
     "text": [
      "episode: 121/200, loss: 2.2086, duration: 0:00:01.130989\n"
     ]
    },
    {
     "name": "stdout",
     "output_type": "stream",
     "text": [
      "episode: 131/200, loss: 3.2525, duration: 0:00:01.118550\n"
     ]
    },
    {
     "name": "stdout",
     "output_type": "stream",
     "text": [
      "episode: 141/200, loss: 9.7706, duration: 0:00:01.136050\n"
     ]
    },
    {
     "name": "stdout",
     "output_type": "stream",
     "text": [
      "episode: 151/200, loss: 5.9323, duration: 0:00:01.281446\n"
     ]
    },
    {
     "name": "stdout",
     "output_type": "stream",
     "text": [
      "episode: 161/200, loss: 0.9259, duration: 0:00:01.083679\n"
     ]
    },
    {
     "name": "stdout",
     "output_type": "stream",
     "text": [
      "episode: 171/200, loss: 3.3159, duration: 0:00:01.135427\n"
     ]
    },
    {
     "name": "stdout",
     "output_type": "stream",
     "text": [
      "episode: 181/200, loss: 3.1745, duration: 0:00:01.087763\n"
     ]
    },
    {
     "name": "stdout",
     "output_type": "stream",
     "text": [
      "episode: 191/200, loss: 4.5803, duration: 0:00:01.084774\n"
     ]
    },
    {
     "name": "stderr",
     "output_type": "stream",
     "text": [
      "/usr/local/lib/python3.7/site-packages/ipykernel_launcher.py:136: RuntimeWarning: More than 20 figures have been opened. Figures created through the pyplot interface (`matplotlib.pyplot.figure`) are retained until explicitly closed and may consume too much memory. (To control this warning, see the rcParam `figure.max_open_warning`).\n"
     ]
    },
    {
     "name": "stdout",
     "output_type": "stream",
     "text": [
      "#############################################################################\n",
      "##\t[450/450]\tmodel=RL_CNN,\tSEED=0,\ttrade=12,\trisk=10000\thold=1000\t##\n",
      "#############################################################################\n"
     ]
    },
    {
     "name": "stdout",
     "output_type": "stream",
     "text": [
      "episode: 1/200, loss: 11.2206, duration: 0:00:01.428921\n"
     ]
    },
    {
     "name": "stdout",
     "output_type": "stream",
     "text": [
      "episode: 11/200, loss: 2.6342, duration: 0:00:01.283400\n"
     ]
    },
    {
     "name": "stdout",
     "output_type": "stream",
     "text": [
      "episode: 21/200, loss: 3.5012, duration: 0:00:01.075409\n"
     ]
    },
    {
     "name": "stdout",
     "output_type": "stream",
     "text": [
      "episode: 31/200, loss: 4.9368, duration: 0:00:01.200588\n"
     ]
    },
    {
     "name": "stdout",
     "output_type": "stream",
     "text": [
      "episode: 41/200, loss: 7.5439, duration: 0:00:01.088751\n"
     ]
    },
    {
     "name": "stdout",
     "output_type": "stream",
     "text": [
      "episode: 51/200, loss: 5.0614, duration: 0:00:01.129978\n"
     ]
    },
    {
     "name": "stdout",
     "output_type": "stream",
     "text": [
      "episode: 61/200, loss: 6.1158, duration: 0:00:01.188410\n"
     ]
    },
    {
     "name": "stdout",
     "output_type": "stream",
     "text": [
      "episode: 71/200, loss: 7.4986, duration: 0:00:01.121727\n"
     ]
    },
    {
     "name": "stdout",
     "output_type": "stream",
     "text": [
      "episode: 81/200, loss: 2.4109, duration: 0:00:01.118492\n"
     ]
    },
    {
     "name": "stdout",
     "output_type": "stream",
     "text": [
      "episode: 91/200, loss: 3.0338, duration: 0:00:01.224810\n"
     ]
    },
    {
     "name": "stdout",
     "output_type": "stream",
     "text": [
      "episode: 101/200, loss: 2.7420, duration: 0:00:01.277905\n"
     ]
    },
    {
     "name": "stdout",
     "output_type": "stream",
     "text": [
      "episode: 111/200, loss: 3.0319, duration: 0:00:01.097645\n"
     ]
    },
    {
     "name": "stdout",
     "output_type": "stream",
     "text": [
      "episode: 121/200, loss: 2.3496, duration: 0:00:01.192739\n"
     ]
    },
    {
     "name": "stdout",
     "output_type": "stream",
     "text": [
      "episode: 131/200, loss: 3.5581, duration: 0:00:01.120907\n"
     ]
    },
    {
     "name": "stdout",
     "output_type": "stream",
     "text": [
      "episode: 141/200, loss: 9.5992, duration: 0:00:01.263499\n"
     ]
    },
    {
     "name": "stdout",
     "output_type": "stream",
     "text": [
      "episode: 151/200, loss: 6.1037, duration: 0:00:01.225578\n"
     ]
    },
    {
     "name": "stdout",
     "output_type": "stream",
     "text": [
      "episode: 161/200, loss: 0.9511, duration: 0:00:01.091109\n"
     ]
    },
    {
     "name": "stdout",
     "output_type": "stream",
     "text": [
      "episode: 171/200, loss: 3.4907, duration: 0:00:01.137483\n"
     ]
    },
    {
     "name": "stdout",
     "output_type": "stream",
     "text": [
      "episode: 181/200, loss: 3.3127, duration: 0:00:01.195949\n"
     ]
    },
    {
     "name": "stdout",
     "output_type": "stream",
     "text": [
      "episode: 191/200, loss: 5.5740, duration: 0:00:01.134290\n"
     ]
    },
    {
     "name": "stderr",
     "output_type": "stream",
     "text": [
      "/usr/local/lib/python3.7/site-packages/ipykernel_launcher.py:136: RuntimeWarning: More than 20 figures have been opened. Figures created through the pyplot interface (`matplotlib.pyplot.figure`) are retained until explicitly closed and may consume too much memory. (To control this warning, see the rcParam `figure.max_open_warning`).\n"
     ]
    },
    {
     "name": "stdout",
     "output_type": "stream",
     "text": [
      "CPU times: user 3h 59min 39s, sys: 2min 13s, total: 4h 1min 53s\n",
      "Wall time: 3h 57min 6s\n"
     ]
    },
    {
     "data": {
      "text/plain": [
       "<Figure size 1008x360 with 0 Axes>"
      ]
     },
     "metadata": {},
     "output_type": "display_data"
    },
    {
     "data": {
      "text/plain": [
       "<Figure size 1008x360 with 0 Axes>"
      ]
     },
     "metadata": {},
     "output_type": "display_data"
    },
    {
     "data": {
      "text/plain": [
       "<Figure size 1008x360 with 0 Axes>"
      ]
     },
     "metadata": {},
     "output_type": "display_data"
    },
    {
     "data": {
      "text/plain": [
       "<Figure size 1008x360 with 0 Axes>"
      ]
     },
     "metadata": {},
     "output_type": "display_data"
    },
    {
     "data": {
      "text/plain": [
       "<Figure size 1008x360 with 0 Axes>"
      ]
     },
     "metadata": {},
     "output_type": "display_data"
    },
    {
     "data": {
      "text/plain": [
       "<Figure size 1008x360 with 0 Axes>"
      ]
     },
     "metadata": {},
     "output_type": "display_data"
    },
    {
     "data": {
      "text/plain": [
       "<Figure size 1008x360 with 0 Axes>"
      ]
     },
     "metadata": {},
     "output_type": "display_data"
    },
    {
     "data": {
      "text/plain": [
       "<Figure size 1008x360 with 0 Axes>"
      ]
     },
     "metadata": {},
     "output_type": "display_data"
    },
    {
     "data": {
      "text/plain": [
       "<Figure size 1008x360 with 0 Axes>"
      ]
     },
     "metadata": {},
     "output_type": "display_data"
    },
    {
     "data": {
      "text/plain": [
       "<Figure size 1008x360 with 0 Axes>"
      ]
     },
     "metadata": {},
     "output_type": "display_data"
    },
    {
     "data": {
      "text/plain": [
       "<Figure size 1008x360 with 0 Axes>"
      ]
     },
     "metadata": {},
     "output_type": "display_data"
    },
    {
     "data": {
      "text/plain": [
       "<Figure size 1008x360 with 0 Axes>"
      ]
     },
     "metadata": {},
     "output_type": "display_data"
    },
    {
     "data": {
      "text/plain": [
       "<Figure size 1008x360 with 0 Axes>"
      ]
     },
     "metadata": {},
     "output_type": "display_data"
    },
    {
     "data": {
      "text/plain": [
       "<Figure size 1008x360 with 0 Axes>"
      ]
     },
     "metadata": {},
     "output_type": "display_data"
    },
    {
     "data": {
      "text/plain": [
       "<Figure size 1008x360 with 0 Axes>"
      ]
     },
     "metadata": {},
     "output_type": "display_data"
    },
    {
     "data": {
      "text/plain": [
       "<Figure size 1008x360 with 0 Axes>"
      ]
     },
     "metadata": {},
     "output_type": "display_data"
    },
    {
     "data": {
      "text/plain": [
       "<Figure size 1008x360 with 0 Axes>"
      ]
     },
     "metadata": {},
     "output_type": "display_data"
    },
    {
     "data": {
      "text/plain": [
       "<Figure size 1008x360 with 0 Axes>"
      ]
     },
     "metadata": {},
     "output_type": "display_data"
    },
    {
     "data": {
      "text/plain": [
       "<Figure size 1008x360 with 0 Axes>"
      ]
     },
     "metadata": {},
     "output_type": "display_data"
    },
    {
     "data": {
      "text/plain": [
       "<Figure size 1008x360 with 0 Axes>"
      ]
     },
     "metadata": {},
     "output_type": "display_data"
    },
    {
     "data": {
      "text/plain": [
       "<Figure size 1008x360 with 0 Axes>"
      ]
     },
     "metadata": {},
     "output_type": "display_data"
    },
    {
     "data": {
      "text/plain": [
       "<Figure size 1008x360 with 0 Axes>"
      ]
     },
     "metadata": {},
     "output_type": "display_data"
    },
    {
     "data": {
      "text/plain": [
       "<Figure size 1008x360 with 0 Axes>"
      ]
     },
     "metadata": {},
     "output_type": "display_data"
    },
    {
     "data": {
      "text/plain": [
       "<Figure size 1008x360 with 0 Axes>"
      ]
     },
     "metadata": {},
     "output_type": "display_data"
    },
    {
     "data": {
      "text/plain": [
       "<Figure size 1008x360 with 0 Axes>"
      ]
     },
     "metadata": {},
     "output_type": "display_data"
    },
    {
     "data": {
      "text/plain": [
       "<Figure size 1008x360 with 0 Axes>"
      ]
     },
     "metadata": {},
     "output_type": "display_data"
    },
    {
     "data": {
      "text/plain": [
       "<Figure size 1008x360 with 0 Axes>"
      ]
     },
     "metadata": {},
     "output_type": "display_data"
    },
    {
     "data": {
      "text/plain": [
       "<Figure size 1008x360 with 0 Axes>"
      ]
     },
     "metadata": {},
     "output_type": "display_data"
    },
    {
     "data": {
      "text/plain": [
       "<Figure size 1008x360 with 0 Axes>"
      ]
     },
     "metadata": {},
     "output_type": "display_data"
    },
    {
     "data": {
      "text/plain": [
       "<Figure size 1008x360 with 0 Axes>"
      ]
     },
     "metadata": {},
     "output_type": "display_data"
    },
    {
     "data": {
      "text/plain": [
       "<Figure size 1008x360 with 0 Axes>"
      ]
     },
     "metadata": {},
     "output_type": "display_data"
    },
    {
     "data": {
      "text/plain": [
       "<Figure size 1008x360 with 0 Axes>"
      ]
     },
     "metadata": {},
     "output_type": "display_data"
    },
    {
     "data": {
      "text/plain": [
       "<Figure size 1008x360 with 0 Axes>"
      ]
     },
     "metadata": {},
     "output_type": "display_data"
    },
    {
     "data": {
      "text/plain": [
       "<Figure size 1008x360 with 0 Axes>"
      ]
     },
     "metadata": {},
     "output_type": "display_data"
    },
    {
     "data": {
      "text/plain": [
       "<Figure size 1008x360 with 0 Axes>"
      ]
     },
     "metadata": {},
     "output_type": "display_data"
    },
    {
     "data": {
      "text/plain": [
       "<Figure size 1008x360 with 0 Axes>"
      ]
     },
     "metadata": {},
     "output_type": "display_data"
    },
    {
     "data": {
      "text/plain": [
       "<Figure size 1008x360 with 0 Axes>"
      ]
     },
     "metadata": {},
     "output_type": "display_data"
    },
    {
     "data": {
      "text/plain": [
       "<Figure size 1008x360 with 0 Axes>"
      ]
     },
     "metadata": {},
     "output_type": "display_data"
    },
    {
     "data": {
      "text/plain": [
       "<Figure size 1008x360 with 0 Axes>"
      ]
     },
     "metadata": {},
     "output_type": "display_data"
    },
    {
     "data": {
      "text/plain": [
       "<Figure size 1008x360 with 0 Axes>"
      ]
     },
     "metadata": {},
     "output_type": "display_data"
    },
    {
     "data": {
      "text/plain": [
       "<Figure size 1008x360 with 0 Axes>"
      ]
     },
     "metadata": {},
     "output_type": "display_data"
    },
    {
     "data": {
      "text/plain": [
       "<Figure size 1008x360 with 0 Axes>"
      ]
     },
     "metadata": {},
     "output_type": "display_data"
    },
    {
     "data": {
      "text/plain": [
       "<Figure size 1008x360 with 0 Axes>"
      ]
     },
     "metadata": {},
     "output_type": "display_data"
    },
    {
     "data": {
      "text/plain": [
       "<Figure size 1008x360 with 0 Axes>"
      ]
     },
     "metadata": {},
     "output_type": "display_data"
    },
    {
     "data": {
      "text/plain": [
       "<Figure size 1008x360 with 0 Axes>"
      ]
     },
     "metadata": {},
     "output_type": "display_data"
    },
    {
     "data": {
      "text/plain": [
       "<Figure size 1008x360 with 0 Axes>"
      ]
     },
     "metadata": {},
     "output_type": "display_data"
    },
    {
     "data": {
      "text/plain": [
       "<Figure size 1008x360 with 0 Axes>"
      ]
     },
     "metadata": {},
     "output_type": "display_data"
    },
    {
     "data": {
      "text/plain": [
       "<Figure size 1008x360 with 0 Axes>"
      ]
     },
     "metadata": {},
     "output_type": "display_data"
    },
    {
     "data": {
      "text/plain": [
       "<Figure size 1008x360 with 0 Axes>"
      ]
     },
     "metadata": {},
     "output_type": "display_data"
    },
    {
     "data": {
      "text/plain": [
       "<Figure size 1008x360 with 0 Axes>"
      ]
     },
     "metadata": {},
     "output_type": "display_data"
    },
    {
     "data": {
      "text/plain": [
       "<Figure size 1008x360 with 0 Axes>"
      ]
     },
     "metadata": {},
     "output_type": "display_data"
    },
    {
     "data": {
      "text/plain": [
       "<Figure size 1008x360 with 0 Axes>"
      ]
     },
     "metadata": {},
     "output_type": "display_data"
    },
    {
     "data": {
      "text/plain": [
       "<Figure size 1008x360 with 0 Axes>"
      ]
     },
     "metadata": {},
     "output_type": "display_data"
    },
    {
     "data": {
      "text/plain": [
       "<Figure size 1008x360 with 0 Axes>"
      ]
     },
     "metadata": {},
     "output_type": "display_data"
    },
    {
     "data": {
      "text/plain": [
       "<Figure size 1008x360 with 0 Axes>"
      ]
     },
     "metadata": {},
     "output_type": "display_data"
    },
    {
     "data": {
      "text/plain": [
       "<Figure size 1008x360 with 0 Axes>"
      ]
     },
     "metadata": {},
     "output_type": "display_data"
    },
    {
     "data": {
      "text/plain": [
       "<Figure size 1008x360 with 0 Axes>"
      ]
     },
     "metadata": {},
     "output_type": "display_data"
    },
    {
     "data": {
      "text/plain": [
       "<Figure size 1008x360 with 0 Axes>"
      ]
     },
     "metadata": {},
     "output_type": "display_data"
    },
    {
     "data": {
      "text/plain": [
       "<Figure size 1008x360 with 0 Axes>"
      ]
     },
     "metadata": {},
     "output_type": "display_data"
    },
    {
     "data": {
      "text/plain": [
       "<Figure size 1008x360 with 0 Axes>"
      ]
     },
     "metadata": {},
     "output_type": "display_data"
    }
   ],
   "source": [
    "%%time\n",
    "##########################\n",
    "### main training loop ###\n",
    "##########################\n",
    "\n",
    "# define investor preferences to train for\n",
    "#------ extended-boyd-sweep ------#\n",
    "#GAMMA_TRADES = [5.5, 6, 6.5, 7, 7.5, 8, 9, 10, 11, 12, 15, 20, 30]\n",
    "#GAMMA_TRADES = [4, 5]\n",
    "#GAMMA_TRADES = [0.1, 0.5, 1, 2, 3, 45, 60, 100, 200]\n",
    "#GAMMA_RISKS = [0.1, 0.178, 0.316, 0.562, 1, 2, 3, 6, 10, 18, 32, 56, 100, 178, 316, 562, 1000, 2000, 5000, 10000, 20000]\n",
    "#---------------------------------#\n",
    "counter = 0\n",
    "\n",
    "for RANDOM_SEED in SEED_LIST:\n",
    "    model_name = f'{MODEL_BASE_NAME}_seed_{RANDOM_SEED}'\n",
    "    maybe_make_dir(f'../experiments/{MARKET_NAME}/seeded/{MODEL_BASE_NAME}/seed_{RANDOM_SEED}')\n",
    "    \n",
    "    for (GAMMA_TRADE, GAMMA_RISK, GAMMA_HOLD) in GAMMA_TRIOS:\n",
    "        # set random generator seed for tf and np\n",
    "        # this is probably unnecessary because it is done when env is initialised but just incase\n",
    "        tf.random.set_seed(RANDOM_SEED)\n",
    "        np.random.seed(RANDOM_SEED)\n",
    "        counter += 1\n",
    "\n",
    "        # check if test lready done. skip if so\n",
    "        #if not FROM_PRETRAINED:\n",
    "            #skip = os.path.exists(f'experiments/12_assets/00_seeded/seed_{RANDOM_SEED}/trade_{GAMMA_TRADE}_risk_{GAMMA_RISK}') # check if already exists\n",
    "        #else:\n",
    "        \n",
    "        skip = os.path.exists(f'../experiments/{MARKET_NAME}/seeded/{MODEL_BASE_NAME}/seed_{RANDOM_SEED}/trade_{GAMMA_TRADE}_risk_{GAMMA_RISK}_hold_{GAMMA_HOLD}')\n",
    "\n",
    "        if not skip: # if not exists, do test\n",
    "\n",
    "            print('#############################################################################')\n",
    "            print(f'##\\t[{counter}/{len(GAMMA_TRIOS)}]\\tmodel={MODEL_BASE_NAME},\\tSEED={RANDOM_SEED},\\ttrade={GAMMA_TRADE},\\trisk={GAMMA_RISK}\\thold={GAMMA_HOLD}\\t##')\n",
    "            print('#############################################################################')        \n",
    "\n",
    "            # create agent and environment\n",
    "            env = MultiStockEnv(tickers=TICKERS, \n",
    "                                from_date=FROM,\n",
    "                                until=UNTIL, \n",
    "                                #nb_episodes=100,\n",
    "                                cash_key='USDOLLAR', \n",
    "                                gamma_risk=GAMMA_RISK, \n",
    "                                gamma_trade=GAMMA_TRADE,\n",
    "                                gamma_hold=GAMMA_HOLD,\n",
    "                                half_spread=HALF_SPREAD, \n",
    "                                nonlin_coef=NONLIN_COEFF, \n",
    "                                power=POWER, \n",
    "                                datadir=DATA_DIR, \n",
    "                                state_lookback_window=20, \n",
    "                                distribution=EPISODE_DRAW_DISTRIBUTION,\n",
    "                                days_duration=DAYS_IN_EPISODE, \n",
    "                                mode='train', \n",
    "                                random_seed=RANDOM_SEED,\n",
    "                                init_portfolio=INIT_PORTFOLIO, \n",
    "                                period_in_file_name=FILE_PERIOD, \n",
    "                                nb_forecasts=NB_FORECASTS, \n",
    "                                forecast_type=FORECAST_TYPE,\n",
    "                                use_CNN_state=USE_CNN_STATE,\n",
    "                                verbose=False)\n",
    "\n",
    "            agent = Agent(alpha=0.001, \n",
    "                          gamma=0.99, \n",
    "                          n_assets=len(TICKERS)+1, \n",
    "                          tau=5, \n",
    "                          lookback_window=20, \n",
    "                          n_feature_maps=len(TICKERS)+1,\n",
    "                          use_forecasts=USE_FORECASTS,\n",
    "                          use_CNN_state=USE_CNN_STATE,\n",
    "                          allow_long_short_trades=True)\n",
    "\n",
    "            # initialise policy by one forward pass then load pretrained weights\n",
    "            #if FROM_PRETRAINED: \n",
    "                #agent.choose_action(env._get_obs())\n",
    "                #agent.load(pretrined_weights_dir)\n",
    "\n",
    "            # configure folders\n",
    "            experiments_folder = f'../experiments/{MARKET_NAME}'\n",
    "            from_seeded_folder = f'{experiments_folder}/seeded'\n",
    "            base_model_folder = f'{from_seeded_folder}/{MODEL_BASE_NAME}'\n",
    "            seed_folder = f'{base_model_folder}/seed_{RANDOM_SEED}'\n",
    "            #if FROM_PRETRAINED:\n",
    "            #    pretrained_folder = f'{nb_assets_folder}/0_further_trained'\n",
    "            #    preference_folder = f'{pretrained_folder}/trade_{GAMMA_TRADE}_risk_{GAMMA_RISK}'\n",
    "            #else:\n",
    "            preference_folder = f'{seed_folder}/trade_{GAMMA_TRADE}_risk_{GAMMA_RISK}_hold_{GAMMA_HOLD}'\n",
    "            models_folder = f'{preference_folder}/models' # where saved models will be saved\n",
    "            losses_folder = f'{preference_folder}/losses' # where losses will be saved for plotting training progress\n",
    "            fig_folder = f'{preference_folder}/figures'\n",
    "\n",
    "            # create dirictories for saving outputs to (if they don't exist already)\n",
    "            #maybe_make_dir(nb_assets_folder)\n",
    "            maybe_make_dir(seed_folder)\n",
    "            maybe_make_dir(preference_folder)\n",
    "            maybe_make_dir(models_folder)\n",
    "            maybe_make_dir(losses_folder)\n",
    "            maybe_make_dir(fig_folder)\n",
    "\n",
    "            if MODE == 'train':\n",
    "                # play the game num_episodes times and update weights according to loss\n",
    "                losses = []\n",
    "                for e in range(NB_EPISODES):\n",
    "\n",
    "                    # save model weights every few episodes\n",
    "                    if (e%SAVE_EVERY == 0) and (e!=0):\n",
    "                        agent.save(f'{models_folder}/{model_name}_{e}')\n",
    "                        # save losses of training period\n",
    "                        np.save(f'{losses_folder}/{model_name}_{MODE}_{e}_losses.npy', np.array(losses))\n",
    "\n",
    "                    t0 = datetime.datetime.now()\n",
    "                    try:\n",
    "                        loss = play_one_episode(agent, env, MODE)\n",
    "                    except Exception as err:\n",
    "                        print(f'\\t*** error in episode {e}:', err)\n",
    "                        loss = np.nan#5.0 # just an arbitraty number that seems high compared to usual losses\n",
    "                    dt = datetime.datetime.now() - t0\n",
    "                    losses.append(loss) # append episode loss\n",
    "                    # print progress\n",
    "                    if (e%10 == 0):\n",
    "                        print(f\"episode: {e + 1}/{NB_EPISODES}, loss: {loss:.4f}, duration: {dt}\")\n",
    "\n",
    "\n",
    "                # save the weights and losses when done\t\n",
    "                agent.save(f'{models_folder}/{model_name}_{NB_EPISODES}')\n",
    "                np.save(f'{losses_folder}/{model_name}_{MODE}_{NB_EPISODES}_losses.npy', np.array(losses))\n",
    "\n",
    "            # plot losses\n",
    "            save_fig = True\n",
    "\n",
    "            # load losses file\n",
    "            file = f'{losses_folder}/{model_name}_{MODE}_{NB_EPISODES}_losses.npy'\n",
    "            loaded_losses = np.load(file)\n",
    "\n",
    "            # plot losses\n",
    "            plt.figure(figsize=(14,5))\n",
    "            plt.plot(loaded_losses)\n",
    "            plt.title(f'{model_name} Training Loss')\n",
    "            plt.xlabel('Episode Number')\n",
    "            plt.ylabel(r'Loss: $-G \\approx -\\mathbb{E}\\left[ \\sum_{k=0}^{T} \\gamma^k R_t \\right]$')\n",
    "            #plt.yscale('symlog')\n",
    "            if save_fig:\n",
    "                plt.savefig(f'{fig_folder}/{model_name}_losses.png', dpi=150, facecolor=None, edgecolor=None, bbox_inches='tight')\n",
    "            plt.clf()\n",
    "\n",
    "        else:\n",
    "            print(f'\\talready exists: trade_{GAMMA_TRADE}_risk_{GAMMA_RISK}_hold_{GAMMA_HOLD}')\n",
    "            print('\\tskip to next.')"
   ]
  },
  {
   "cell_type": "code",
   "execution_count": 8,
   "id": "2d9efdcc",
   "metadata": {
    "execution": {
     "iopub.execute_input": "2022-06-24T19:17:03.608546Z",
     "iopub.status.busy": "2022-06-24T19:17:03.607854Z",
     "iopub.status.idle": "2022-06-24T19:17:03.614530Z",
     "shell.execute_reply": "2022-06-24T19:17:03.612682Z"
    },
    "papermill": {
     "duration": 0.172488,
     "end_time": "2022-06-24T19:17:03.617740",
     "exception": false,
     "start_time": "2022-06-24T19:17:03.445252",
     "status": "completed"
    },
    "tags": []
   },
   "outputs": [],
   "source": [
    "# double check the end of training\n",
    "#env.until"
   ]
  },
  {
   "cell_type": "code",
   "execution_count": 9,
   "id": "f60bbe5e",
   "metadata": {
    "execution": {
     "iopub.execute_input": "2022-06-24T19:17:03.935357Z",
     "iopub.status.busy": "2022-06-24T19:17:03.934687Z",
     "iopub.status.idle": "2022-06-24T19:17:03.944145Z",
     "shell.execute_reply": "2022-06-24T19:17:03.942323Z"
    },
    "papermill": {
     "duration": 0.169022,
     "end_time": "2022-06-24T19:17:03.946905",
     "exception": false,
     "start_time": "2022-06-24T19:17:03.777883",
     "status": "completed"
    },
    "tags": []
   },
   "outputs": [
    {
     "name": "stdout",
     "output_type": "stream",
     "text": [
      "training done.\n"
     ]
    }
   ],
   "source": [
    "print('training done.')"
   ]
  },
  {
   "cell_type": "code",
   "execution_count": 10,
   "id": "1aec7a17",
   "metadata": {
    "execution": {
     "iopub.execute_input": "2022-06-24T19:17:04.173363Z",
     "iopub.status.busy": "2022-06-24T19:17:04.172696Z",
     "iopub.status.idle": "2022-06-24T19:17:04.179338Z",
     "shell.execute_reply": "2022-06-24T19:17:04.177456Z"
    },
    "papermill": {
     "duration": 0.122784,
     "end_time": "2022-06-24T19:17:04.182066",
     "exception": false,
     "start_time": "2022-06-24T19:17:04.059282",
     "status": "completed"
    },
    "tags": []
   },
   "outputs": [],
   "source": [
    "### Now repeat this for the different RL models.\n",
    "### remember to update the gamma-pairs, model base name, and model specs/setup in beginning of notebook!"
   ]
  }
 ],
 "metadata": {
  "interpreter": {
   "hash": "949777d72b0d2535278d3dc13498b2535136f6dfe0678499012e853ee9abcab1"
  },
  "kernelspec": {
   "display_name": "Python 3",
   "language": "python",
   "name": "python3"
  },
  "language_info": {
   "codemirror_mode": {
    "name": "ipython",
    "version": 3
   },
   "file_extension": ".py",
   "mimetype": "text/x-python",
   "name": "python",
   "nbconvert_exporter": "python",
   "pygments_lexer": "ipython3",
   "version": "3.7.6"
  },
  "papermill": {
   "default_parameters": {},
   "duration": 14231.588307,
   "end_time": "2022-06-24T19:17:05.153872",
   "environment_variables": {},
   "exception": null,
   "input_path": "train_template.ipynb",
   "output_path": "slave_notebooks/RL_CNN_DOW_30_(0_etc).ipynb",
   "parameters": {
    "FROM": "2010-01-01",
    "GAMMA_HOLDS": [
     0.1,
     1,
     10,
     100,
     1000
    ],
    "GAMMA_RISKS": [
     1,
     2,
     3,
     6,
     10,
     18,
     32,
     56,
     100,
     178,
     316,
     562,
     1000,
     5000,
     10000
    ],
    "GAMMA_TRADES": [
     7,
     8,
     9,
     10,
     11,
     12
    ],
    "MARKET_NAME": "DOW_30",
    "MODEL_BASE_NAME": "RL_CNN",
    "NB_EPISODES": 200,
    "SAVE_EVERY": 200,
    "SEED_LIST": [
     0
    ],
    "TICKERS": [
     "AAPL",
     "MSFT",
     "JPM",
     "V",
     "RTX",
     "PG",
     "GS",
     "NKE",
     "DIS",
     "AXP",
     "HD",
     "INTC",
     "WMT",
     "IBM",
     "MRK",
     "UNH",
     "KO",
     "CAT",
     "TRV",
     "JNJ",
     "CVX",
     "MCD",
     "VZ",
     "CSCO",
     "XOM",
     "BA",
     "MMM",
     "PFE",
     "WBA",
     "DD"
    ],
    "UNTIL": "2018-01-01"
   },
   "start_time": "2022-06-24T15:19:53.565565",
   "version": "2.3.3"
  }
 },
 "nbformat": 4,
 "nbformat_minor": 5
}