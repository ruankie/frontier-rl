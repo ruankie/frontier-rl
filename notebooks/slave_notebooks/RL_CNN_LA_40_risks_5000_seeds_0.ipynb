{
 "cells": [
  {
   "cell_type": "code",
   "execution_count": 1,
   "id": "1d612421",
   "metadata": {
    "execution": {
     "iopub.execute_input": "2022-06-26T16:21:29.851911Z",
     "iopub.status.busy": "2022-06-26T16:21:29.851188Z",
     "iopub.status.idle": "2022-06-26T16:21:33.900512Z",
     "shell.execute_reply": "2022-06-26T16:21:33.898168Z"
    },
    "papermill": {
     "duration": 4.066475,
     "end_time": "2022-06-26T16:21:33.904821",
     "exception": false,
     "start_time": "2022-06-26T16:21:29.838346",
     "status": "completed"
    },
    "tags": []
   },
   "outputs": [
    {
     "name": "stdout",
     "output_type": "stream",
     "text": [
      "CPU times: user 4.08 s, sys: 1.99 s, total: 6.07 s\n",
      "Wall time: 4.04 s\n"
     ]
    }
   ],
   "source": [
    "%%time\n",
    "import numpy as np\n",
    "import pandas as pd\n",
    "import matplotlib.pyplot as plt\n",
    "import datetime\n",
    "import os\n",
    "from src.models.frontier import MultiStockEnv, Agent, play_one_episode, maybe_make_dir\n",
    "from src.config import market_tickers\n",
    "from src.config.model_config import model_parameters\n",
    "import tensorflow as tf"
   ]
  },
  {
   "cell_type": "code",
   "execution_count": 2,
   "id": "67252568",
   "metadata": {
    "execution": {
     "iopub.execute_input": "2022-06-26T16:21:33.922997Z",
     "iopub.status.busy": "2022-06-26T16:21:33.922098Z",
     "iopub.status.idle": "2022-06-26T16:21:33.948422Z",
     "shell.execute_reply": "2022-06-26T16:21:33.946781Z"
    },
    "papermill": {
     "duration": 0.03894,
     "end_time": "2022-06-26T16:21:33.951720",
     "exception": false,
     "start_time": "2022-06-26T16:21:33.912780",
     "status": "completed"
    },
    "tags": []
   },
   "outputs": [
    {
     "data": {
      "text/plain": [
       "{'RL_CNN': {'use_forecasts': False,\n",
       "  'nb_forecasts': None,\n",
       "  'forecast_type': 'strong',\n",
       "  'use_cnn_state': True},\n",
       " 'RL_str_fcast': {'use_forecasts': True,\n",
       "  'nb_forecasts': 2,\n",
       "  'forecast_type': 'strong',\n",
       "  'use_cnn_state': False},\n",
       " 'RL_all_inp': {'use_forecasts': True,\n",
       "  'nb_forecasts': 2,\n",
       "  'forecast_type': 'strong',\n",
       "  'use_cnn_state': True}}"
      ]
     },
     "execution_count": 2,
     "metadata": {},
     "output_type": "execute_result"
    }
   ],
   "source": [
    "from src.config.model_config import model_parameters\n",
    "model_parameters"
   ]
  },
  {
   "cell_type": "code",
   "execution_count": 3,
   "id": "d1edbba4",
   "metadata": {
    "execution": {
     "iopub.execute_input": "2022-06-26T16:21:34.007562Z",
     "iopub.status.busy": "2022-06-26T16:21:34.006875Z",
     "iopub.status.idle": "2022-06-26T16:21:34.029693Z",
     "shell.execute_reply": "2022-06-26T16:21:34.026115Z"
    },
    "papermill": {
     "duration": 0.074909,
     "end_time": "2022-06-26T16:21:34.034018",
     "exception": false,
     "start_time": "2022-06-26T16:21:33.959109",
     "status": "completed"
    },
    "tags": [
     "parameters"
    ]
   },
   "outputs": [],
   "source": [
    "# papermill parameters\n",
    "SEED_LIST = [\n",
    "             0,\n",
    "             #1111,\n",
    "             #2222, \n",
    "             #3333, \n",
    "             #4444, \n",
    "             #5555,\n",
    "             #6666,\n",
    "             #7777,\n",
    "             #8888,\n",
    "             #9999\n",
    "            ]\n",
    "\n",
    "#TICKERS = market_tickers.DOW_30_TICKER\n",
    "TICKERS = ['AAPL', 'AMD', 'CSCO', 'F', 'INTC']\n",
    "MARKET_NAME = 'TEST_5'\n",
    "MODEL_BASE_NAME = 'RL_CNN' # use either | 'RL_CNN' | 'RL_str_fcast' | 'RL_all_inp' |\n",
    "FROM = '2017-01-03' # start of training set\n",
    "UNTIL = '2019-01-01' # end of training set\n",
    "NB_EPISODES = 200 # number of episodes to train for\n",
    "SAVE_EVERY = 200 # (used 100 when not from tretrained) save model weights every time this amount of episodes pass\n",
    "\n",
    "# investor preferences\n",
    "GAMMA_TRADES = [0.1, 1, 10, 100]\n",
    "GAMMA_RISKS = [0.1, 1, 10, 100, 1000]\n",
    "GAMMA_HOLDS = [0.1, 1]"
   ]
  },
  {
   "cell_type": "code",
   "execution_count": 4,
   "id": "dc387470",
   "metadata": {
    "execution": {
     "iopub.execute_input": "2022-06-26T16:21:34.074913Z",
     "iopub.status.busy": "2022-06-26T16:21:34.074251Z",
     "iopub.status.idle": "2022-06-26T16:21:34.093565Z",
     "shell.execute_reply": "2022-06-26T16:21:34.091587Z"
    },
    "papermill": {
     "duration": 0.033077,
     "end_time": "2022-06-26T16:21:34.097463",
     "exception": false,
     "start_time": "2022-06-26T16:21:34.064386",
     "status": "completed"
    },
    "tags": [
     "injected-parameters"
    ]
   },
   "outputs": [],
   "source": [
    "# Parameters\n",
    "SEED_LIST = [0]\n",
    "TICKERS = [\n",
    "    \"VALE\",\n",
    "    \"ITUB\",\n",
    "    \"PBR-A\",\n",
    "    \"BBD\",\n",
    "    \"PBR\",\n",
    "    \"AMXL.MX\",\n",
    "    \"WALMEX.MX\",\n",
    "    \"FEMSAUBD.MX\",\n",
    "    \"GFNORTEO.MX\",\n",
    "    \"WEGE3.SA\",\n",
    "    \"BBAS3.SA\",\n",
    "    \"BAP\",\n",
    "    \"CEMEXCPO.MX\",\n",
    "    \"SQM\",\n",
    "    \"SCCO\",\n",
    "    \"GGB\",\n",
    "    \"CHILE.SN\",\n",
    "    \"ENIA\",\n",
    "    \"CIB\",\n",
    "    \"TLEVISACPO.MX\",\n",
    "    \"EC\",\n",
    "    \"BRFS\",\n",
    "    \"BSAC\",\n",
    "    \"CCRO3.SA\",\n",
    "]\n",
    "MARKET_NAME = \"LA_40\"\n",
    "MODEL_BASE_NAME = \"RL_CNN\"\n",
    "FROM = \"2010-03-01\"\n",
    "UNTIL = \"2014-12-01\"\n",
    "NB_EPISODES = 200\n",
    "SAVE_EVERY = 200\n",
    "GAMMA_TRADES = [1, 7, 8, 9, 10, 11, 12, 50, 100]\n",
    "GAMMA_RISKS = [5000]\n",
    "GAMMA_HOLDS = [0.1, 1, 10, 100, 1000, 10000]\n"
   ]
  },
  {
   "cell_type": "code",
   "execution_count": 5,
   "id": "d6fb0d45",
   "metadata": {
    "execution": {
     "iopub.execute_input": "2022-06-26T16:21:34.115620Z",
     "iopub.status.busy": "2022-06-26T16:21:34.115054Z",
     "iopub.status.idle": "2022-06-26T16:21:34.130711Z",
     "shell.execute_reply": "2022-06-26T16:21:34.129181Z"
    },
    "papermill": {
     "duration": 0.029639,
     "end_time": "2022-06-26T16:21:34.134688",
     "exception": false,
     "start_time": "2022-06-26T16:21:34.105049",
     "status": "completed"
    },
    "tags": []
   },
   "outputs": [
    {
     "name": "stdout",
     "output_type": "stream",
     "text": [
      "number of trios:  54\n"
     ]
    }
   ],
   "source": [
    "#------ small test-sweep ------#\n",
    "# GAMMA_TRADES = [0.1, 1, 10, 100]\n",
    "# GAMMA_RISKS = [0.1, 1, 10, 100, 1000]\n",
    "# GAMMA_HOLDS = [0.1, 1]\n",
    "#------ extended-boyd-sweep ------#\n",
    "# GAMMA_TRADES =  [0.1, 0.5, 1, 2, 3, 4, 5, 5.5, 6, 6.5, 7, 7.5, 8, 9, 10, 11, 12, 15, 20, 30, 45, 60, 100, 200]\n",
    "# GAMMA_RISKS = [0.1, 0.178, 0.316, 0.562, 1, 2, 3, 6, 10, 18, 32, 56, 100, 178, 316, 562, 1000, 2000, 5000, 10000, 20000]\n",
    "#---------------------------------#\n",
    "\n",
    "GAMMA_TRIOS = []\n",
    "for tr in GAMMA_TRADES:\n",
    "    for ri in GAMMA_RISKS:\n",
    "        for hd in GAMMA_HOLDS:\n",
    "            GAMMA_TRIOS.append((tr, ri, hd))\n",
    "        \n",
    "#format: (gamma_trade, gamma_risk, gamma_hold)\n",
    "print('number of trios: ', len(GAMMA_TRIOS))\n",
    "#GAMMA_TRIOS"
   ]
  },
  {
   "cell_type": "code",
   "execution_count": 6,
   "id": "e434042b",
   "metadata": {
    "execution": {
     "iopub.execute_input": "2022-06-26T16:21:34.154009Z",
     "iopub.status.busy": "2022-06-26T16:21:34.153353Z",
     "iopub.status.idle": "2022-06-26T16:21:34.167697Z",
     "shell.execute_reply": "2022-06-26T16:21:34.166037Z"
    },
    "papermill": {
     "duration": 0.028736,
     "end_time": "2022-06-26T16:21:34.171606",
     "exception": false,
     "start_time": "2022-06-26T16:21:34.142870",
     "status": "completed"
    },
    "tags": []
   },
   "outputs": [],
   "source": [
    "# other constants and parameters\n",
    "TICKERS.sort()\n",
    "FILE_PERIOD = '1d' # weekly='5d', daily='1d'\n",
    "DAYS_IN_EPISODE = 30 # 365 for one-year long episodes (conditions checked at end of episode)\n",
    "EPISODE_DRAW_DISTRIBUTION = 'uniform' # 'uniform' or 'geometric'. select starting point of eposide according to this distribution when generated\n",
    "HALF_SPREAD = 0.0005/2.0 # 'a' in transaction cost function\n",
    "NONLIN_COEFF = 1.0 # 'b' transaction cost function\n",
    "POWER = 1.5 # power for change in poertfolio vector used in transaction cost\n",
    "#GAMMA_RISK, GAMMA_TRADE, GAMMA_HOLD = 18, 6.5, 0.0 # relative importance of risk, trading cost, and holding cost\n",
    "INIT_PORTFOLIO = 100000000.0 # initial portfolio value\n",
    "#model_name = f'REINFORCE_CNN' #_seeded_{UNTIL} # give model a name to distinguish saved files\n",
    "#NB_EPISODES = 300 #2000\n",
    "MODE = 'train' # train or test mode\n",
    "#FROM_PRETRAINED = False\n",
    "DATA_DIR = f'../data/{MARKET_NAME}/preprocessed_data/'\n",
    "\n",
    "# Tune and double-check these before every test:\n",
    "USE_FORECASTS = model_parameters[MODEL_BASE_NAME]['use_forecasts'] # whether to use forecasts as inputs to agent policy net or not\n",
    "NB_FORECASTS = model_parameters[MODEL_BASE_NAME]['nb_forecasts'] # number of forecasts to use in state. Set to None for no forecasts\n",
    "FORECAST_TYPE = model_parameters[MODEL_BASE_NAME]['forecast_type'] # use 'strong' or 'weak' forecasts (if no forecasts given, this does not matter)\n",
    "USE_CNN_STATE = model_parameters[MODEL_BASE_NAME]['use_cnn_state'] # whether to pass log-rets block for CNN part of policy net (set to false for forecast only)"
   ]
  },
  {
   "cell_type": "code",
   "execution_count": 7,
   "id": "3aaef69b",
   "metadata": {
    "execution": {
     "iopub.execute_input": "2022-06-26T16:21:34.207112Z",
     "iopub.status.busy": "2022-06-26T16:21:34.206480Z",
     "iopub.status.idle": "2022-06-26T16:46:30.478703Z",
     "shell.execute_reply": "2022-06-26T16:46:30.477360Z"
    },
    "papermill": {
     "duration": 1496.329529,
     "end_time": "2022-06-26T16:46:30.518506",
     "exception": false,
     "start_time": "2022-06-26T16:21:34.188977",
     "status": "completed"
    },
    "scrolled": true,
    "tags": []
   },
   "outputs": [
    {
     "name": "stdout",
     "output_type": "stream",
     "text": [
      "\talready exists: trade_1_risk_5000_hold_0.1\n",
      "\tskip to next.\n",
      "\talready exists: trade_1_risk_5000_hold_1\n",
      "\tskip to next.\n",
      "\talready exists: trade_1_risk_5000_hold_10\n",
      "\tskip to next.\n",
      "\talready exists: trade_1_risk_5000_hold_100\n",
      "\tskip to next.\n",
      "\talready exists: trade_1_risk_5000_hold_1000\n",
      "\tskip to next.\n",
      "\talready exists: trade_1_risk_5000_hold_10000\n",
      "\tskip to next.\n",
      "\talready exists: trade_7_risk_5000_hold_0.1\n",
      "\tskip to next.\n",
      "\talready exists: trade_7_risk_5000_hold_1\n",
      "\tskip to next.\n",
      "\talready exists: trade_7_risk_5000_hold_10\n",
      "\tskip to next.\n",
      "\talready exists: trade_7_risk_5000_hold_100\n",
      "\tskip to next.\n",
      "\talready exists: trade_7_risk_5000_hold_1000\n",
      "\tskip to next.\n",
      "\talready exists: trade_7_risk_5000_hold_10000\n",
      "\tskip to next.\n",
      "\talready exists: trade_8_risk_5000_hold_0.1\n",
      "\tskip to next.\n",
      "\talready exists: trade_8_risk_5000_hold_1\n",
      "\tskip to next.\n",
      "\talready exists: trade_8_risk_5000_hold_10\n",
      "\tskip to next.\n",
      "\talready exists: trade_8_risk_5000_hold_100\n",
      "\tskip to next.\n",
      "\talready exists: trade_8_risk_5000_hold_1000\n",
      "\tskip to next.\n",
      "\talready exists: trade_8_risk_5000_hold_10000\n",
      "\tskip to next.\n",
      "\talready exists: trade_9_risk_5000_hold_0.1\n",
      "\tskip to next.\n",
      "\talready exists: trade_9_risk_5000_hold_1\n",
      "\tskip to next.\n",
      "\talready exists: trade_9_risk_5000_hold_10\n",
      "\tskip to next.\n",
      "\talready exists: trade_9_risk_5000_hold_100\n",
      "\tskip to next.\n",
      "\talready exists: trade_9_risk_5000_hold_1000\n",
      "\tskip to next.\n",
      "\talready exists: trade_9_risk_5000_hold_10000\n",
      "\tskip to next.\n",
      "\talready exists: trade_10_risk_5000_hold_0.1\n",
      "\tskip to next.\n",
      "\talready exists: trade_10_risk_5000_hold_1\n",
      "\tskip to next.\n",
      "\talready exists: trade_10_risk_5000_hold_10\n",
      "\tskip to next.\n",
      "\talready exists: trade_10_risk_5000_hold_100\n",
      "\tskip to next.\n",
      "\talready exists: trade_10_risk_5000_hold_1000\n",
      "\tskip to next.\n",
      "\talready exists: trade_10_risk_5000_hold_10000\n",
      "\tskip to next.\n",
      "\talready exists: trade_11_risk_5000_hold_0.1\n",
      "\tskip to next.\n",
      "\talready exists: trade_11_risk_5000_hold_1\n",
      "\tskip to next.\n",
      "\talready exists: trade_11_risk_5000_hold_10\n",
      "\tskip to next.\n",
      "\talready exists: trade_11_risk_5000_hold_100\n",
      "\tskip to next.\n",
      "\talready exists: trade_11_risk_5000_hold_1000\n",
      "\tskip to next.\n",
      "\talready exists: trade_11_risk_5000_hold_10000\n",
      "\tskip to next.\n",
      "\talready exists: trade_12_risk_5000_hold_0.1\n",
      "\tskip to next.\n",
      "\talready exists: trade_12_risk_5000_hold_1\n",
      "\tskip to next.\n",
      "\talready exists: trade_12_risk_5000_hold_10\n",
      "\tskip to next.\n",
      "\talready exists: trade_12_risk_5000_hold_100\n",
      "\tskip to next.\n",
      "\talready exists: trade_12_risk_5000_hold_1000\n",
      "\tskip to next.\n",
      "\talready exists: trade_12_risk_5000_hold_10000\n",
      "\tskip to next.\n",
      "\talready exists: trade_50_risk_5000_hold_0.1\n",
      "\tskip to next.\n",
      "\talready exists: trade_50_risk_5000_hold_1\n",
      "\tskip to next.\n",
      "\talready exists: trade_50_risk_5000_hold_10\n",
      "\tskip to next.\n",
      "\talready exists: trade_50_risk_5000_hold_100\n",
      "\tskip to next.\n",
      "\talready exists: trade_50_risk_5000_hold_1000\n",
      "\tskip to next.\n",
      "\talready exists: trade_50_risk_5000_hold_10000\n",
      "\tskip to next.\n",
      "#############################################################################\n",
      "##\t[49/54]\tmodel=RL_CNN,\tSEED=0,\ttrade=100,\trisk=5000\thold=0.1\t##\n",
      "#############################################################################\n"
     ]
    },
    {
     "name": "stdout",
     "output_type": "stream",
     "text": [
      "episode: 1/200, loss: 6.0415, duration: 0:00:01.178664\n"
     ]
    },
    {
     "name": "stdout",
     "output_type": "stream",
     "text": [
      "episode: 11/200, loss: 2.8324, duration: 0:00:01.384798\n"
     ]
    },
    {
     "name": "stdout",
     "output_type": "stream",
     "text": [
      "episode: 21/200, loss: 1.1126, duration: 0:00:01.284676\n"
     ]
    },
    {
     "name": "stdout",
     "output_type": "stream",
     "text": [
      "episode: 31/200, loss: 0.8730, duration: 0:00:01.151599\n"
     ]
    },
    {
     "name": "stdout",
     "output_type": "stream",
     "text": [
      "episode: 41/200, loss: 2.7574, duration: 0:00:01.259254\n"
     ]
    },
    {
     "name": "stdout",
     "output_type": "stream",
     "text": [
      "episode: 51/200, loss: 3.1440, duration: 0:00:01.205993\n"
     ]
    },
    {
     "name": "stdout",
     "output_type": "stream",
     "text": [
      "episode: 61/200, loss: 2.4526, duration: 0:00:01.117107\n"
     ]
    },
    {
     "name": "stdout",
     "output_type": "stream",
     "text": [
      "episode: 71/200, loss: 4.8816, duration: 0:00:01.139365\n"
     ]
    },
    {
     "name": "stdout",
     "output_type": "stream",
     "text": [
      "episode: 81/200, loss: 1.3946, duration: 0:00:01.129879\n"
     ]
    },
    {
     "name": "stdout",
     "output_type": "stream",
     "text": [
      "episode: 91/200, loss: 2.3388, duration: 0:00:01.141638\n"
     ]
    },
    {
     "name": "stdout",
     "output_type": "stream",
     "text": [
      "episode: 101/200, loss: 2.2324, duration: 0:00:01.332964\n"
     ]
    },
    {
     "name": "stdout",
     "output_type": "stream",
     "text": [
      "episode: 111/200, loss: 2.3070, duration: 0:00:01.274693\n"
     ]
    },
    {
     "name": "stdout",
     "output_type": "stream",
     "text": [
      "episode: 121/200, loss: 1.5589, duration: 0:00:01.141205\n"
     ]
    },
    {
     "name": "stdout",
     "output_type": "stream",
     "text": [
      "episode: 131/200, loss: 2.2914, duration: 0:00:01.241486\n"
     ]
    },
    {
     "name": "stdout",
     "output_type": "stream",
     "text": [
      "episode: 141/200, loss: 3.1687, duration: 0:00:01.353429\n"
     ]
    },
    {
     "name": "stdout",
     "output_type": "stream",
     "text": [
      "episode: 151/200, loss: 1.2110, duration: 0:00:01.236570\n"
     ]
    },
    {
     "name": "stdout",
     "output_type": "stream",
     "text": [
      "episode: 161/200, loss: 1.7647, duration: 0:00:01.155391\n"
     ]
    },
    {
     "name": "stdout",
     "output_type": "stream",
     "text": [
      "episode: 171/200, loss: 3.0096, duration: 0:00:01.258564\n"
     ]
    },
    {
     "name": "stdout",
     "output_type": "stream",
     "text": [
      "episode: 181/200, loss: 2.5808, duration: 0:00:01.375426\n"
     ]
    },
    {
     "name": "stdout",
     "output_type": "stream",
     "text": [
      "episode: 191/200, loss: 1.7157, duration: 0:00:01.239884\n"
     ]
    },
    {
     "name": "stdout",
     "output_type": "stream",
     "text": [
      "#############################################################################\n",
      "##\t[50/54]\tmodel=RL_CNN,\tSEED=0,\ttrade=100,\trisk=5000\thold=1\t##\n",
      "#############################################################################\n"
     ]
    },
    {
     "name": "stdout",
     "output_type": "stream",
     "text": [
      "episode: 1/200, loss: 6.0422, duration: 0:00:01.161450\n"
     ]
    },
    {
     "name": "stdout",
     "output_type": "stream",
     "text": [
      "episode: 11/200, loss: 2.8332, duration: 0:00:01.112024\n"
     ]
    },
    {
     "name": "stdout",
     "output_type": "stream",
     "text": [
      "episode: 21/200, loss: 1.1131, duration: 0:00:01.289200\n"
     ]
    },
    {
     "name": "stdout",
     "output_type": "stream",
     "text": [
      "episode: 31/200, loss: 0.8733, duration: 0:00:01.335489\n"
     ]
    },
    {
     "name": "stdout",
     "output_type": "stream",
     "text": [
      "episode: 41/200, loss: 2.7577, duration: 0:00:01.172855\n"
     ]
    },
    {
     "name": "stdout",
     "output_type": "stream",
     "text": [
      "episode: 51/200, loss: 3.1446, duration: 0:00:01.135479\n"
     ]
    },
    {
     "name": "stdout",
     "output_type": "stream",
     "text": [
      "episode: 61/200, loss: 2.4528, duration: 0:00:01.111181\n"
     ]
    },
    {
     "name": "stdout",
     "output_type": "stream",
     "text": [
      "episode: 71/200, loss: 4.8818, duration: 0:00:01.214017\n"
     ]
    },
    {
     "name": "stdout",
     "output_type": "stream",
     "text": [
      "episode: 81/200, loss: 1.3948, duration: 0:00:01.149865\n"
     ]
    },
    {
     "name": "stdout",
     "output_type": "stream",
     "text": [
      "episode: 91/200, loss: 2.3390, duration: 0:00:01.266449\n"
     ]
    },
    {
     "name": "stdout",
     "output_type": "stream",
     "text": [
      "episode: 101/200, loss: 2.2327, duration: 0:00:01.117009\n"
     ]
    },
    {
     "name": "stdout",
     "output_type": "stream",
     "text": [
      "episode: 111/200, loss: 2.3085, duration: 0:00:01.263056\n"
     ]
    },
    {
     "name": "stdout",
     "output_type": "stream",
     "text": [
      "episode: 121/200, loss: 1.5534, duration: 0:00:01.149130\n"
     ]
    },
    {
     "name": "stdout",
     "output_type": "stream",
     "text": [
      "episode: 131/200, loss: 2.2635, duration: 0:00:01.162712\n"
     ]
    },
    {
     "name": "stdout",
     "output_type": "stream",
     "text": [
      "episode: 141/200, loss: 3.1971, duration: 0:00:01.325878\n"
     ]
    },
    {
     "name": "stdout",
     "output_type": "stream",
     "text": [
      "episode: 151/200, loss: 1.2420, duration: 0:00:01.383417\n"
     ]
    },
    {
     "name": "stdout",
     "output_type": "stream",
     "text": [
      "episode: 161/200, loss: 1.7681, duration: 0:00:01.114749\n"
     ]
    },
    {
     "name": "stdout",
     "output_type": "stream",
     "text": [
      "episode: 171/200, loss: 3.0130, duration: 0:00:01.133123\n"
     ]
    },
    {
     "name": "stdout",
     "output_type": "stream",
     "text": [
      "episode: 181/200, loss: 2.5946, duration: 0:00:01.145858\n"
     ]
    },
    {
     "name": "stdout",
     "output_type": "stream",
     "text": [
      "episode: 191/200, loss: 1.7040, duration: 0:00:01.364059\n"
     ]
    },
    {
     "name": "stdout",
     "output_type": "stream",
     "text": [
      "#############################################################################\n",
      "##\t[51/54]\tmodel=RL_CNN,\tSEED=0,\ttrade=100,\trisk=5000\thold=10\t##\n",
      "#############################################################################\n"
     ]
    },
    {
     "name": "stdout",
     "output_type": "stream",
     "text": [
      "episode: 1/200, loss: 6.0492, duration: 0:00:01.245122\n"
     ]
    },
    {
     "name": "stdout",
     "output_type": "stream",
     "text": [
      "episode: 11/200, loss: 2.8385, duration: 0:00:01.282803\n"
     ]
    },
    {
     "name": "stdout",
     "output_type": "stream",
     "text": [
      "episode: 21/200, loss: 1.1174, duration: 0:00:01.340209\n"
     ]
    },
    {
     "name": "stdout",
     "output_type": "stream",
     "text": [
      "episode: 31/200, loss: 0.8774, duration: 0:00:01.208303\n"
     ]
    },
    {
     "name": "stdout",
     "output_type": "stream",
     "text": [
      "episode: 41/200, loss: 2.7610, duration: 0:00:01.110134\n"
     ]
    },
    {
     "name": "stdout",
     "output_type": "stream",
     "text": [
      "episode: 51/200, loss: 3.1488, duration: 0:00:01.256805\n"
     ]
    },
    {
     "name": "stdout",
     "output_type": "stream",
     "text": [
      "episode: 61/200, loss: 2.4561, duration: 0:00:01.598084\n"
     ]
    },
    {
     "name": "stdout",
     "output_type": "stream",
     "text": [
      "episode: 71/200, loss: 4.8836, duration: 0:00:01.251439\n"
     ]
    },
    {
     "name": "stdout",
     "output_type": "stream",
     "text": [
      "episode: 81/200, loss: 1.3971, duration: 0:00:01.167647\n"
     ]
    },
    {
     "name": "stdout",
     "output_type": "stream",
     "text": [
      "episode: 91/200, loss: 2.3461, duration: 0:00:01.150933\n"
     ]
    },
    {
     "name": "stdout",
     "output_type": "stream",
     "text": [
      "episode: 101/200, loss: 2.2405, duration: 0:00:01.112778\n"
     ]
    },
    {
     "name": "stdout",
     "output_type": "stream",
     "text": [
      "episode: 111/200, loss: 2.3118, duration: 0:00:01.116731\n"
     ]
    },
    {
     "name": "stdout",
     "output_type": "stream",
     "text": [
      "episode: 121/200, loss: 1.5591, duration: 0:00:01.130098\n"
     ]
    },
    {
     "name": "stdout",
     "output_type": "stream",
     "text": [
      "episode: 131/200, loss: 2.2840, duration: 0:00:01.204624\n"
     ]
    },
    {
     "name": "stdout",
     "output_type": "stream",
     "text": [
      "episode: 141/200, loss: 3.1728, duration: 0:00:01.217145\n"
     ]
    },
    {
     "name": "stdout",
     "output_type": "stream",
     "text": [
      "episode: 151/200, loss: 1.2135, duration: 0:00:01.148653\n"
     ]
    },
    {
     "name": "stdout",
     "output_type": "stream",
     "text": [
      "episode: 161/200, loss: 1.7745, duration: 0:00:01.249148\n"
     ]
    },
    {
     "name": "stdout",
     "output_type": "stream",
     "text": [
      "episode: 171/200, loss: 3.0252, duration: 0:00:01.110801\n"
     ]
    },
    {
     "name": "stdout",
     "output_type": "stream",
     "text": [
      "episode: 181/200, loss: 2.5868, duration: 0:00:01.240842\n"
     ]
    },
    {
     "name": "stdout",
     "output_type": "stream",
     "text": [
      "episode: 191/200, loss: 1.7111, duration: 0:00:01.615791\n"
     ]
    },
    {
     "name": "stdout",
     "output_type": "stream",
     "text": [
      "#############################################################################\n",
      "##\t[52/54]\tmodel=RL_CNN,\tSEED=0,\ttrade=100,\trisk=5000\thold=100\t##\n",
      "#############################################################################\n"
     ]
    },
    {
     "name": "stdout",
     "output_type": "stream",
     "text": [
      "episode: 1/200, loss: 6.1193, duration: 0:00:01.201461\n"
     ]
    },
    {
     "name": "stdout",
     "output_type": "stream",
     "text": [
      "episode: 11/200, loss: 2.8953, duration: 0:00:01.212358\n"
     ]
    },
    {
     "name": "stdout",
     "output_type": "stream",
     "text": [
      "episode: 21/200, loss: 1.1620, duration: 0:00:01.143093\n"
     ]
    },
    {
     "name": "stdout",
     "output_type": "stream",
     "text": [
      "episode: 31/200, loss: 0.9123, duration: 0:00:01.310564\n"
     ]
    },
    {
     "name": "stdout",
     "output_type": "stream",
     "text": [
      "episode: 41/200, loss: 2.7889, duration: 0:00:01.185412\n"
     ]
    },
    {
     "name": "stdout",
     "output_type": "stream",
     "text": [
      "episode: 51/200, loss: 3.1935, duration: 0:00:01.309131\n"
     ]
    },
    {
     "name": "stdout",
     "output_type": "stream",
     "text": [
      "episode: 61/200, loss: 2.4838, duration: 0:00:01.165417\n"
     ]
    },
    {
     "name": "stdout",
     "output_type": "stream",
     "text": [
      "episode: 71/200, loss: 4.8962, duration: 0:00:01.198425\n"
     ]
    },
    {
     "name": "stdout",
     "output_type": "stream",
     "text": [
      "episode: 81/200, loss: 1.4305, duration: 0:00:01.236656\n"
     ]
    },
    {
     "name": "stdout",
     "output_type": "stream",
     "text": [
      "episode: 91/200, loss: 2.4268, duration: 0:00:01.218433\n"
     ]
    },
    {
     "name": "stdout",
     "output_type": "stream",
     "text": [
      "episode: 101/200, loss: 2.2825, duration: 0:00:01.179688\n"
     ]
    },
    {
     "name": "stdout",
     "output_type": "stream",
     "text": [
      "episode: 111/200, loss: 2.3304, duration: 0:00:01.119039\n"
     ]
    },
    {
     "name": "stdout",
     "output_type": "stream",
     "text": [
      "episode: 121/200, loss: 1.5725, duration: 0:00:01.606340\n"
     ]
    },
    {
     "name": "stdout",
     "output_type": "stream",
     "text": [
      "episode: 131/200, loss: 2.2582, duration: 0:00:01.120380\n"
     ]
    },
    {
     "name": "stdout",
     "output_type": "stream",
     "text": [
      "episode: 141/200, loss: 3.1861, duration: 0:00:01.226129\n"
     ]
    },
    {
     "name": "stdout",
     "output_type": "stream",
     "text": [
      "episode: 151/200, loss: 1.2507, duration: 0:00:01.152112\n"
     ]
    },
    {
     "name": "stdout",
     "output_type": "stream",
     "text": [
      "episode: 161/200, loss: 1.7997, duration: 0:00:01.647630\n"
     ]
    },
    {
     "name": "stdout",
     "output_type": "stream",
     "text": [
      "episode: 171/200, loss: 3.1017, duration: 0:00:01.219267\n"
     ]
    },
    {
     "name": "stdout",
     "output_type": "stream",
     "text": [
      "episode: 181/200, loss: 2.6554, duration: 0:00:01.277389\n"
     ]
    },
    {
     "name": "stdout",
     "output_type": "stream",
     "text": [
      "episode: 191/200, loss: 1.7133, duration: 0:00:01.234032\n"
     ]
    },
    {
     "name": "stdout",
     "output_type": "stream",
     "text": [
      "#############################################################################\n",
      "##\t[53/54]\tmodel=RL_CNN,\tSEED=0,\ttrade=100,\trisk=5000\thold=1000\t##\n",
      "#############################################################################\n"
     ]
    },
    {
     "name": "stdout",
     "output_type": "stream",
     "text": [
      "episode: 1/200, loss: 6.8199, duration: 0:00:01.236325\n"
     ]
    },
    {
     "name": "stdout",
     "output_type": "stream",
     "text": [
      "episode: 11/200, loss: 3.4299, duration: 0:00:01.138963\n"
     ]
    },
    {
     "name": "stdout",
     "output_type": "stream",
     "text": [
      "episode: 21/200, loss: 1.5962, duration: 0:00:01.126329\n"
     ]
    },
    {
     "name": "stdout",
     "output_type": "stream",
     "text": [
      "episode: 31/200, loss: 1.1944, duration: 0:00:01.827840\n"
     ]
    },
    {
     "name": "stdout",
     "output_type": "stream",
     "text": [
      "episode: 41/200, loss: 2.9492, duration: 0:00:01.157459\n"
     ]
    },
    {
     "name": "stdout",
     "output_type": "stream",
     "text": [
      "episode: 51/200, loss: 3.5882, duration: 0:00:01.177073\n"
     ]
    },
    {
     "name": "stdout",
     "output_type": "stream",
     "text": [
      "episode: 61/200, loss: 2.5893, duration: 0:00:01.164556\n"
     ]
    },
    {
     "name": "stdout",
     "output_type": "stream",
     "text": [
      "episode: 71/200, loss: 5.1262, duration: 0:00:01.133578\n"
     ]
    },
    {
     "name": "stdout",
     "output_type": "stream",
     "text": [
      "episode: 81/200, loss: 1.5967, duration: 0:00:01.178108\n"
     ]
    },
    {
     "name": "stdout",
     "output_type": "stream",
     "text": [
      "episode: 91/200, loss: 2.7278, duration: 0:00:01.128409\n"
     ]
    },
    {
     "name": "stdout",
     "output_type": "stream",
     "text": [
      "episode: 101/200, loss: 2.5476, duration: 0:00:01.112557\n"
     ]
    },
    {
     "name": "stdout",
     "output_type": "stream",
     "text": [
      "episode: 111/200, loss: 2.2467, duration: 0:00:01.320683\n"
     ]
    },
    {
     "name": "stdout",
     "output_type": "stream",
     "text": [
      "episode: 121/200, loss: 1.6932, duration: 0:00:01.360487\n"
     ]
    },
    {
     "name": "stdout",
     "output_type": "stream",
     "text": [
      "episode: 131/200, loss: 2.3188, duration: 0:00:01.307092\n"
     ]
    },
    {
     "name": "stdout",
     "output_type": "stream",
     "text": [
      "episode: 141/200, loss: 2.8735, duration: 0:00:01.116453\n"
     ]
    },
    {
     "name": "stdout",
     "output_type": "stream",
     "text": [
      "episode: 151/200, loss: 1.3845, duration: 0:00:01.132791\n"
     ]
    },
    {
     "name": "stdout",
     "output_type": "stream",
     "text": [
      "episode: 161/200, loss: 1.7616, duration: 0:00:01.111436\n"
     ]
    },
    {
     "name": "stdout",
     "output_type": "stream",
     "text": [
      "episode: 171/200, loss: 3.7858, duration: 0:00:01.187614\n"
     ]
    },
    {
     "name": "stdout",
     "output_type": "stream",
     "text": [
      "episode: 181/200, loss: 2.9341, duration: 0:00:01.351693\n"
     ]
    },
    {
     "name": "stdout",
     "output_type": "stream",
     "text": [
      "episode: 191/200, loss: 1.6485, duration: 0:00:01.439033\n"
     ]
    },
    {
     "name": "stdout",
     "output_type": "stream",
     "text": [
      "#############################################################################\n",
      "##\t[54/54]\tmodel=RL_CNN,\tSEED=0,\ttrade=100,\trisk=5000\thold=10000\t##\n",
      "#############################################################################\n"
     ]
    },
    {
     "name": "stdout",
     "output_type": "stream",
     "text": [
      "episode: 1/200, loss: 13.8255, duration: 0:00:01.132815\n"
     ]
    },
    {
     "name": "stdout",
     "output_type": "stream",
     "text": [
      "episode: 11/200, loss: 5.4625, duration: 0:00:01.113106\n"
     ]
    },
    {
     "name": "stdout",
     "output_type": "stream",
     "text": [
      "episode: 21/200, loss: 2.6855, duration: 0:00:01.154083\n"
     ]
    },
    {
     "name": "stdout",
     "output_type": "stream",
     "text": [
      "episode: 31/200, loss: 1.4721, duration: 0:00:01.095787\n"
     ]
    },
    {
     "name": "stdout",
     "output_type": "stream",
     "text": [
      "episode: 41/200, loss: 2.6136, duration: 0:00:01.451808\n"
     ]
    },
    {
     "name": "stdout",
     "output_type": "stream",
     "text": [
      "episode: 51/200, loss: 4.1173, duration: 0:00:01.217718\n"
     ]
    },
    {
     "name": "stdout",
     "output_type": "stream",
     "text": [
      "episode: 61/200, loss: 2.3734, duration: 0:00:01.102627\n"
     ]
    },
    {
     "name": "stdout",
     "output_type": "stream",
     "text": [
      "episode: 71/200, loss: 5.5055, duration: 0:00:01.135515\n"
     ]
    },
    {
     "name": "stdout",
     "output_type": "stream",
     "text": [
      "episode: 81/200, loss: 1.5634, duration: 0:00:01.133603\n"
     ]
    },
    {
     "name": "stdout",
     "output_type": "stream",
     "text": [
      "episode: 91/200, loss: 4.4373, duration: 0:00:01.133223\n"
     ]
    },
    {
     "name": "stdout",
     "output_type": "stream",
     "text": [
      "episode: 101/200, loss: 3.0610, duration: 0:00:01.227307\n"
     ]
    },
    {
     "name": "stdout",
     "output_type": "stream",
     "text": [
      "episode: 111/200, loss: 2.3221, duration: 0:00:01.192582\n"
     ]
    },
    {
     "name": "stdout",
     "output_type": "stream",
     "text": [
      "episode: 121/200, loss: 1.4778, duration: 0:00:01.667561\n"
     ]
    },
    {
     "name": "stdout",
     "output_type": "stream",
     "text": [
      "episode: 131/200, loss: 2.1026, duration: 0:00:01.151003\n"
     ]
    },
    {
     "name": "stdout",
     "output_type": "stream",
     "text": [
      "episode: 141/200, loss: 2.3882, duration: 0:00:01.128354\n"
     ]
    },
    {
     "name": "stdout",
     "output_type": "stream",
     "text": [
      "episode: 151/200, loss: 1.4442, duration: 0:00:01.255158\n"
     ]
    },
    {
     "name": "stdout",
     "output_type": "stream",
     "text": [
      "episode: 161/200, loss: 1.8444, duration: 0:00:01.282137\n"
     ]
    },
    {
     "name": "stdout",
     "output_type": "stream",
     "text": [
      "episode: 171/200, loss: 5.0564, duration: 0:00:01.122601\n"
     ]
    },
    {
     "name": "stdout",
     "output_type": "stream",
     "text": [
      "episode: 181/200, loss: 3.2778, duration: 0:00:01.265464\n"
     ]
    },
    {
     "name": "stdout",
     "output_type": "stream",
     "text": [
      "episode: 191/200, loss: 1.6928, duration: 0:00:01.115897\n"
     ]
    },
    {
     "name": "stdout",
     "output_type": "stream",
     "text": [
      "CPU times: user 25min 7s, sys: 11.7 s, total: 25min 19s\n",
      "Wall time: 24min 56s\n"
     ]
    },
    {
     "data": {
      "text/plain": [
       "<Figure size 1008x360 with 0 Axes>"
      ]
     },
     "metadata": {},
     "output_type": "display_data"
    },
    {
     "data": {
      "text/plain": [
       "<Figure size 1008x360 with 0 Axes>"
      ]
     },
     "metadata": {},
     "output_type": "display_data"
    },
    {
     "data": {
      "text/plain": [
       "<Figure size 1008x360 with 0 Axes>"
      ]
     },
     "metadata": {},
     "output_type": "display_data"
    },
    {
     "data": {
      "text/plain": [
       "<Figure size 1008x360 with 0 Axes>"
      ]
     },
     "metadata": {},
     "output_type": "display_data"
    },
    {
     "data": {
      "text/plain": [
       "<Figure size 1008x360 with 0 Axes>"
      ]
     },
     "metadata": {},
     "output_type": "display_data"
    },
    {
     "data": {
      "text/plain": [
       "<Figure size 1008x360 with 0 Axes>"
      ]
     },
     "metadata": {},
     "output_type": "display_data"
    }
   ],
   "source": [
    "%%time\n",
    "##########################\n",
    "### main training loop ###\n",
    "##########################\n",
    "\n",
    "# define investor preferences to train for\n",
    "#------ extended-boyd-sweep ------#\n",
    "#GAMMA_TRADES = [5.5, 6, 6.5, 7, 7.5, 8, 9, 10, 11, 12, 15, 20, 30]\n",
    "#GAMMA_TRADES = [4, 5]\n",
    "#GAMMA_TRADES = [0.1, 0.5, 1, 2, 3, 45, 60, 100, 200]\n",
    "#GAMMA_RISKS = [0.1, 0.178, 0.316, 0.562, 1, 2, 3, 6, 10, 18, 32, 56, 100, 178, 316, 562, 1000, 2000, 5000, 10000, 20000]\n",
    "#---------------------------------#\n",
    "counter = 0\n",
    "\n",
    "for RANDOM_SEED in SEED_LIST:\n",
    "    model_name = f'{MODEL_BASE_NAME}_seed_{RANDOM_SEED}'\n",
    "    maybe_make_dir(f'../experiments/{MARKET_NAME}/seeded/{MODEL_BASE_NAME}/seed_{RANDOM_SEED}')\n",
    "    \n",
    "    for (GAMMA_TRADE, GAMMA_RISK, GAMMA_HOLD) in GAMMA_TRIOS:\n",
    "        # set random generator seed for tf and np\n",
    "        # this is probably unnecessary because it is done when env is initialised but just incase\n",
    "        tf.random.set_seed(RANDOM_SEED)\n",
    "        np.random.seed(RANDOM_SEED)\n",
    "        counter += 1\n",
    "\n",
    "        # check if test lready done. skip if so\n",
    "        #if not FROM_PRETRAINED:\n",
    "            #skip = os.path.exists(f'experiments/12_assets/00_seeded/seed_{RANDOM_SEED}/trade_{GAMMA_TRADE}_risk_{GAMMA_RISK}') # check if already exists\n",
    "        #else:\n",
    "        \n",
    "        skip = os.path.exists(f'../experiments/{MARKET_NAME}/seeded/{MODEL_BASE_NAME}/seed_{RANDOM_SEED}/trade_{GAMMA_TRADE}_risk_{GAMMA_RISK}_hold_{GAMMA_HOLD}')\n",
    "\n",
    "        if not skip: # if not exists, do test\n",
    "\n",
    "            print('#############################################################################')\n",
    "            print(f'##\\t[{counter}/{len(GAMMA_TRIOS)}]\\tmodel={MODEL_BASE_NAME},\\tSEED={RANDOM_SEED},\\ttrade={GAMMA_TRADE},\\trisk={GAMMA_RISK}\\thold={GAMMA_HOLD}\\t##')\n",
    "            print('#############################################################################')        \n",
    "\n",
    "            # create agent and environment\n",
    "            env = MultiStockEnv(tickers=TICKERS, \n",
    "                                from_date=FROM,\n",
    "                                until=UNTIL, \n",
    "                                #nb_episodes=100,\n",
    "                                cash_key='USDOLLAR', \n",
    "                                gamma_risk=GAMMA_RISK, \n",
    "                                gamma_trade=GAMMA_TRADE,\n",
    "                                gamma_hold=GAMMA_HOLD,\n",
    "                                half_spread=HALF_SPREAD, \n",
    "                                nonlin_coef=NONLIN_COEFF, \n",
    "                                power=POWER, \n",
    "                                datadir=DATA_DIR, \n",
    "                                state_lookback_window=20, \n",
    "                                distribution=EPISODE_DRAW_DISTRIBUTION,\n",
    "                                days_duration=DAYS_IN_EPISODE, \n",
    "                                mode='train', \n",
    "                                random_seed=RANDOM_SEED,\n",
    "                                init_portfolio=INIT_PORTFOLIO, \n",
    "                                period_in_file_name=FILE_PERIOD, \n",
    "                                nb_forecasts=NB_FORECASTS, \n",
    "                                forecast_type=FORECAST_TYPE,\n",
    "                                use_CNN_state=USE_CNN_STATE,\n",
    "                                verbose=False)\n",
    "\n",
    "            agent = Agent(alpha=0.001, \n",
    "                          gamma=0.99, \n",
    "                          n_assets=len(TICKERS)+1, \n",
    "                          tau=5, \n",
    "                          lookback_window=20, \n",
    "                          n_feature_maps=len(TICKERS)+1,\n",
    "                          use_forecasts=USE_FORECASTS,\n",
    "                          use_CNN_state=USE_CNN_STATE,\n",
    "                          allow_long_short_trades=True)\n",
    "\n",
    "            # initialise policy by one forward pass then load pretrained weights\n",
    "            #if FROM_PRETRAINED: \n",
    "                #agent.choose_action(env._get_obs())\n",
    "                #agent.load(pretrined_weights_dir)\n",
    "\n",
    "            # configure folders\n",
    "            experiments_folder = f'../experiments/{MARKET_NAME}'\n",
    "            from_seeded_folder = f'{experiments_folder}/seeded'\n",
    "            base_model_folder = f'{from_seeded_folder}/{MODEL_BASE_NAME}'\n",
    "            seed_folder = f'{base_model_folder}/seed_{RANDOM_SEED}'\n",
    "            #if FROM_PRETRAINED:\n",
    "            #    pretrained_folder = f'{nb_assets_folder}/0_further_trained'\n",
    "            #    preference_folder = f'{pretrained_folder}/trade_{GAMMA_TRADE}_risk_{GAMMA_RISK}'\n",
    "            #else:\n",
    "            preference_folder = f'{seed_folder}/trade_{GAMMA_TRADE}_risk_{GAMMA_RISK}_hold_{GAMMA_HOLD}'\n",
    "            models_folder = f'{preference_folder}/models' # where saved models will be saved\n",
    "            losses_folder = f'{preference_folder}/losses' # where losses will be saved for plotting training progress\n",
    "            fig_folder = f'{preference_folder}/figures'\n",
    "\n",
    "            # create dirictories for saving outputs to (if they don't exist already)\n",
    "            #maybe_make_dir(nb_assets_folder)\n",
    "            maybe_make_dir(seed_folder)\n",
    "            maybe_make_dir(preference_folder)\n",
    "            maybe_make_dir(models_folder)\n",
    "            maybe_make_dir(losses_folder)\n",
    "            maybe_make_dir(fig_folder)\n",
    "\n",
    "            if MODE == 'train':\n",
    "                # play the game num_episodes times and update weights according to loss\n",
    "                losses = []\n",
    "                for e in range(NB_EPISODES):\n",
    "\n",
    "                    # save model weights every few episodes\n",
    "                    if (e%SAVE_EVERY == 0) and (e!=0):\n",
    "                        agent.save(f'{models_folder}/{model_name}_{e}')\n",
    "                        # save losses of training period\n",
    "                        np.save(f'{losses_folder}/{model_name}_{MODE}_{e}_losses.npy', np.array(losses))\n",
    "\n",
    "                    t0 = datetime.datetime.now()\n",
    "                    try:\n",
    "                        loss = play_one_episode(agent, env, MODE)\n",
    "                    except Exception as err:\n",
    "                        print(f'\\t*** error in episode {e}:', err)\n",
    "                        loss = np.nan#5.0 # just an arbitraty number that seems high compared to usual losses\n",
    "                    dt = datetime.datetime.now() - t0\n",
    "                    losses.append(loss) # append episode loss\n",
    "                    # print progress\n",
    "                    if (e%10 == 0):\n",
    "                        print(f\"episode: {e + 1}/{NB_EPISODES}, loss: {loss:.4f}, duration: {dt}\")\n",
    "\n",
    "\n",
    "                # save the weights and losses when done\t\n",
    "                agent.save(f'{models_folder}/{model_name}_{NB_EPISODES}')\n",
    "                np.save(f'{losses_folder}/{model_name}_{MODE}_{NB_EPISODES}_losses.npy', np.array(losses))\n",
    "\n",
    "            # plot losses\n",
    "            save_fig = True\n",
    "\n",
    "            # load losses file\n",
    "            file = f'{losses_folder}/{model_name}_{MODE}_{NB_EPISODES}_losses.npy'\n",
    "            loaded_losses = np.load(file)\n",
    "\n",
    "            # plot losses\n",
    "            plt.figure(figsize=(14,5))\n",
    "            plt.plot(loaded_losses)\n",
    "            plt.title(f'{model_name} Training Loss')\n",
    "            plt.xlabel('Episode Number')\n",
    "            plt.ylabel(r'Loss: $-G \\approx -\\mathbb{E}\\left[ \\sum_{k=0}^{T} \\gamma^k R_t \\right]$')\n",
    "            #plt.yscale('symlog')\n",
    "            if save_fig:\n",
    "                plt.savefig(f'{fig_folder}/{model_name}_losses.png', dpi=150, facecolor=None, edgecolor=None, bbox_inches='tight')\n",
    "            plt.clf()\n",
    "\n",
    "        else:\n",
    "            print(f'\\talready exists: trade_{GAMMA_TRADE}_risk_{GAMMA_RISK}_hold_{GAMMA_HOLD}')\n",
    "            print('\\tskip to next.')"
   ]
  },
  {
   "cell_type": "code",
   "execution_count": 8,
   "id": "6d5b57bf",
   "metadata": {
    "execution": {
     "iopub.execute_input": "2022-06-26T16:46:30.566189Z",
     "iopub.status.busy": "2022-06-26T16:46:30.565843Z",
     "iopub.status.idle": "2022-06-26T16:46:30.570340Z",
     "shell.execute_reply": "2022-06-26T16:46:30.568820Z"
    },
    "papermill": {
     "duration": 0.029989,
     "end_time": "2022-06-26T16:46:30.573417",
     "exception": false,
     "start_time": "2022-06-26T16:46:30.543428",
     "status": "completed"
    },
    "tags": []
   },
   "outputs": [],
   "source": [
    "# double check the end of training\n",
    "#env.until"
   ]
  },
  {
   "cell_type": "code",
   "execution_count": 9,
   "id": "e6aa8e5a",
   "metadata": {
    "execution": {
     "iopub.execute_input": "2022-06-26T16:46:30.617995Z",
     "iopub.status.busy": "2022-06-26T16:46:30.617346Z",
     "iopub.status.idle": "2022-06-26T16:46:30.626560Z",
     "shell.execute_reply": "2022-06-26T16:46:30.624671Z"
    },
    "papermill": {
     "duration": 0.035301,
     "end_time": "2022-06-26T16:46:30.629775",
     "exception": false,
     "start_time": "2022-06-26T16:46:30.594474",
     "status": "completed"
    },
    "tags": []
   },
   "outputs": [
    {
     "name": "stdout",
     "output_type": "stream",
     "text": [
      "training done.\n"
     ]
    }
   ],
   "source": [
    "print('training done.')"
   ]
  },
  {
   "cell_type": "code",
   "execution_count": 10,
   "id": "18b699cf",
   "metadata": {
    "execution": {
     "iopub.execute_input": "2022-06-26T16:46:30.679989Z",
     "iopub.status.busy": "2022-06-26T16:46:30.679115Z",
     "iopub.status.idle": "2022-06-26T16:46:30.687861Z",
     "shell.execute_reply": "2022-06-26T16:46:30.685506Z"
    },
    "papermill": {
     "duration": 0.040804,
     "end_time": "2022-06-26T16:46:30.692088",
     "exception": false,
     "start_time": "2022-06-26T16:46:30.651284",
     "status": "completed"
    },
    "tags": []
   },
   "outputs": [],
   "source": [
    "### Now repeat this for the different RL models.\n",
    "### remember to update the gamma-pairs, model base name, and model specs/setup in beginning of notebook!"
   ]
  }
 ],
 "metadata": {
  "interpreter": {
   "hash": "949777d72b0d2535278d3dc13498b2535136f6dfe0678499012e853ee9abcab1"
  },
  "kernelspec": {
   "display_name": "Python 3",
   "language": "python",
   "name": "python3"
  },
  "language_info": {
   "codemirror_mode": {
    "name": "ipython",
    "version": 3
   },
   "file_extension": ".py",
   "mimetype": "text/x-python",
   "name": "python",
   "nbconvert_exporter": "python",
   "pygments_lexer": "ipython3",
   "version": "3.7.6"
  },
  "papermill": {
   "default_parameters": {},
   "duration": 1504.848013,
   "end_time": "2022-06-26T16:46:31.442742",
   "environment_variables": {},
   "exception": null,
   "input_path": "train_template.ipynb",
   "output_path": "slave_notebooks/RL_CNN_LA_40_risks_5000_seeds_0.ipynb",
   "parameters": {
    "FROM": "2010-03-01",
    "GAMMA_HOLDS": [
     0.1,
     1,
     10,
     100,
     1000,
     10000
    ],
    "GAMMA_RISKS": [
     5000
    ],
    "GAMMA_TRADES": [
     1,
     7,
     8,
     9,
     10,
     11,
     12,
     50,
     100
    ],
    "MARKET_NAME": "LA_40",
    "MODEL_BASE_NAME": "RL_CNN",
    "NB_EPISODES": 200,
    "SAVE_EVERY": 200,
    "SEED_LIST": [
     0
    ],
    "TICKERS": [
     "VALE",
     "ITUB",
     "PBR-A",
     "BBD",
     "PBR",
     "AMXL.MX",
     "WALMEX.MX",
     "FEMSAUBD.MX",
     "GFNORTEO.MX",
     "WEGE3.SA",
     "BBAS3.SA",
     "BAP",
     "CEMEXCPO.MX",
     "SQM",
     "SCCO",
     "GGB",
     "CHILE.SN",
     "ENIA",
     "CIB",
     "TLEVISACPO.MX",
     "EC",
     "BRFS",
     "BSAC",
     "CCRO3.SA"
    ],
    "UNTIL": "2014-12-01"
   },
   "start_time": "2022-06-26T16:21:26.594729",
   "version": "2.3.3"
  }
 },
 "nbformat": 4,
 "nbformat_minor": 5
}