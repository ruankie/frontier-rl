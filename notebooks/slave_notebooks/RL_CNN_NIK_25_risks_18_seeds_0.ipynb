{
 "cells": [
  {
   "cell_type": "code",
   "execution_count": 1,
   "id": "a429cd12",
   "metadata": {
    "execution": {
     "iopub.execute_input": "2022-06-26T16:21:29.207698Z",
     "iopub.status.busy": "2022-06-26T16:21:29.206990Z",
     "iopub.status.idle": "2022-06-26T16:21:32.304966Z",
     "shell.execute_reply": "2022-06-26T16:21:32.300140Z"
    },
    "papermill": {
     "duration": 3.113627,
     "end_time": "2022-06-26T16:21:32.309383",
     "exception": false,
     "start_time": "2022-06-26T16:21:29.195756",
     "status": "completed"
    },
    "tags": []
   },
   "outputs": [
    {
     "name": "stdout",
     "output_type": "stream",
     "text": [
      "CPU times: user 2.6 s, sys: 1.25 s, total: 3.85 s\n",
      "Wall time: 3.06 s\n"
     ]
    }
   ],
   "source": [
    "%%time\n",
    "import numpy as np\n",
    "import pandas as pd\n",
    "import matplotlib.pyplot as plt\n",
    "import datetime\n",
    "import os\n",
    "from src.models.frontier import MultiStockEnv, Agent, play_one_episode, maybe_make_dir\n",
    "from src.config import market_tickers\n",
    "from src.config.model_config import model_parameters\n",
    "import tensorflow as tf"
   ]
  },
  {
   "cell_type": "code",
   "execution_count": 2,
   "id": "99c015fd",
   "metadata": {
    "execution": {
     "iopub.execute_input": "2022-06-26T16:21:32.338871Z",
     "iopub.status.busy": "2022-06-26T16:21:32.337501Z",
     "iopub.status.idle": "2022-06-26T16:21:32.355085Z",
     "shell.execute_reply": "2022-06-26T16:21:32.352474Z"
    },
    "papermill": {
     "duration": 0.050977,
     "end_time": "2022-06-26T16:21:32.369651",
     "exception": false,
     "start_time": "2022-06-26T16:21:32.318674",
     "status": "completed"
    },
    "tags": []
   },
   "outputs": [
    {
     "data": {
      "text/plain": [
       "{'RL_CNN': {'use_forecasts': False,\n",
       "  'nb_forecasts': None,\n",
       "  'forecast_type': 'strong',\n",
       "  'use_cnn_state': True},\n",
       " 'RL_str_fcast': {'use_forecasts': True,\n",
       "  'nb_forecasts': 2,\n",
       "  'forecast_type': 'strong',\n",
       "  'use_cnn_state': False},\n",
       " 'RL_all_inp': {'use_forecasts': True,\n",
       "  'nb_forecasts': 2,\n",
       "  'forecast_type': 'strong',\n",
       "  'use_cnn_state': True}}"
      ]
     },
     "execution_count": 2,
     "metadata": {},
     "output_type": "execute_result"
    }
   ],
   "source": [
    "from src.config.model_config import model_parameters\n",
    "model_parameters"
   ]
  },
  {
   "cell_type": "code",
   "execution_count": 3,
   "id": "89d25d3c",
   "metadata": {
    "execution": {
     "iopub.execute_input": "2022-06-26T16:21:32.411333Z",
     "iopub.status.busy": "2022-06-26T16:21:32.410686Z",
     "iopub.status.idle": "2022-06-26T16:21:32.427897Z",
     "shell.execute_reply": "2022-06-26T16:21:32.426171Z"
    },
    "papermill": {
     "duration": 0.037689,
     "end_time": "2022-06-26T16:21:32.433208",
     "exception": false,
     "start_time": "2022-06-26T16:21:32.395519",
     "status": "completed"
    },
    "tags": [
     "parameters"
    ]
   },
   "outputs": [],
   "source": [
    "# papermill parameters\n",
    "SEED_LIST = [\n",
    "             0,\n",
    "             #1111,\n",
    "             #2222, \n",
    "             #3333, \n",
    "             #4444, \n",
    "             #5555,\n",
    "             #6666,\n",
    "             #7777,\n",
    "             #8888,\n",
    "             #9999\n",
    "            ]\n",
    "\n",
    "#TICKERS = market_tickers.DOW_30_TICKER\n",
    "TICKERS = ['AAPL', 'AMD', 'CSCO', 'F', 'INTC']\n",
    "MARKET_NAME = 'TEST_5'\n",
    "MODEL_BASE_NAME = 'RL_CNN' # use either | 'RL_CNN' | 'RL_str_fcast' | 'RL_all_inp' |\n",
    "FROM = '2017-01-03' # start of training set\n",
    "UNTIL = '2019-01-01' # end of training set\n",
    "NB_EPISODES = 200 # number of episodes to train for\n",
    "SAVE_EVERY = 200 # (used 100 when not from tretrained) save model weights every time this amount of episodes pass\n",
    "\n",
    "# investor preferences\n",
    "GAMMA_TRADES = [0.1, 1, 10, 100]\n",
    "GAMMA_RISKS = [0.1, 1, 10, 100, 1000]\n",
    "GAMMA_HOLDS = [0.1, 1]"
   ]
  },
  {
   "cell_type": "code",
   "execution_count": 4,
   "id": "81f02010",
   "metadata": {
    "execution": {
     "iopub.execute_input": "2022-06-26T16:21:32.488222Z",
     "iopub.status.busy": "2022-06-26T16:21:32.487509Z",
     "iopub.status.idle": "2022-06-26T16:21:32.508499Z",
     "shell.execute_reply": "2022-06-26T16:21:32.506171Z"
    },
    "papermill": {
     "duration": 0.050064,
     "end_time": "2022-06-26T16:21:32.518212",
     "exception": false,
     "start_time": "2022-06-26T16:21:32.468148",
     "status": "completed"
    },
    "tags": [
     "injected-parameters"
    ]
   },
   "outputs": [],
   "source": [
    "# Parameters\n",
    "SEED_LIST = [0]\n",
    "TICKERS = [\n",
    "    \"9983.T\",\n",
    "    \"8035.T\",\n",
    "    \"9984.T\",\n",
    "    \"6954.T\",\n",
    "    \"6367.T\",\n",
    "    \"9433.T\",\n",
    "    \"4543.T\",\n",
    "    \"6857.T\",\n",
    "    \"2413.T\",\n",
    "    \"4063.T\",\n",
    "    \"6971.T\",\n",
    "    \"6758.T\",\n",
    "    \"4519.T\",\n",
    "    \"6762.T\",\n",
    "    \"6645.T\",\n",
    "    \"9613.T\",\n",
    "    \"7203.T\",\n",
    "    \"7733.T\",\n",
    "    \"4901.T\",\n",
    "    \"4503.T\",\n",
    "    \"2801.T\",\n",
    "    \"4568.T\",\n",
    "    \"7832.T\",\n",
    "    \"4523.T\",\n",
    "]\n",
    "MARKET_NAME = \"NIK_25\"\n",
    "MODEL_BASE_NAME = \"RL_CNN\"\n",
    "FROM = \"2013-05-01\"\n",
    "UNTIL = \"2018-01-01\"\n",
    "NB_EPISODES = 200\n",
    "SAVE_EVERY = 200\n",
    "GAMMA_TRADES = [1, 7, 8, 9, 10, 11, 12, 50, 100]\n",
    "GAMMA_RISKS = [18]\n",
    "GAMMA_HOLDS = [0.1, 1, 10, 100, 1000, 10000]\n"
   ]
  },
  {
   "cell_type": "code",
   "execution_count": 5,
   "id": "19b295d3",
   "metadata": {
    "execution": {
     "iopub.execute_input": "2022-06-26T16:21:32.562403Z",
     "iopub.status.busy": "2022-06-26T16:21:32.561605Z",
     "iopub.status.idle": "2022-06-26T16:21:32.571976Z",
     "shell.execute_reply": "2022-06-26T16:21:32.570573Z"
    },
    "papermill": {
     "duration": 0.03355,
     "end_time": "2022-06-26T16:21:32.575493",
     "exception": false,
     "start_time": "2022-06-26T16:21:32.541943",
     "status": "completed"
    },
    "tags": []
   },
   "outputs": [
    {
     "name": "stdout",
     "output_type": "stream",
     "text": [
      "number of trios:  54\n"
     ]
    }
   ],
   "source": [
    "#------ small test-sweep ------#\n",
    "# GAMMA_TRADES = [0.1, 1, 10, 100]\n",
    "# GAMMA_RISKS = [0.1, 1, 10, 100, 1000]\n",
    "# GAMMA_HOLDS = [0.1, 1]\n",
    "#------ extended-boyd-sweep ------#\n",
    "# GAMMA_TRADES =  [0.1, 0.5, 1, 2, 3, 4, 5, 5.5, 6, 6.5, 7, 7.5, 8, 9, 10, 11, 12, 15, 20, 30, 45, 60, 100, 200]\n",
    "# GAMMA_RISKS = [0.1, 0.178, 0.316, 0.562, 1, 2, 3, 6, 10, 18, 32, 56, 100, 178, 316, 562, 1000, 2000, 5000, 10000, 20000]\n",
    "#---------------------------------#\n",
    "\n",
    "GAMMA_TRIOS = []\n",
    "for tr in GAMMA_TRADES:\n",
    "    for ri in GAMMA_RISKS:\n",
    "        for hd in GAMMA_HOLDS:\n",
    "            GAMMA_TRIOS.append((tr, ri, hd))\n",
    "        \n",
    "#format: (gamma_trade, gamma_risk, gamma_hold)\n",
    "print('number of trios: ', len(GAMMA_TRIOS))\n",
    "#GAMMA_TRIOS"
   ]
  },
  {
   "cell_type": "code",
   "execution_count": 6,
   "id": "aec431f1",
   "metadata": {
    "execution": {
     "iopub.execute_input": "2022-06-26T16:21:32.594729Z",
     "iopub.status.busy": "2022-06-26T16:21:32.594071Z",
     "iopub.status.idle": "2022-06-26T16:21:32.611205Z",
     "shell.execute_reply": "2022-06-26T16:21:32.609463Z"
    },
    "papermill": {
     "duration": 0.031613,
     "end_time": "2022-06-26T16:21:32.615468",
     "exception": false,
     "start_time": "2022-06-26T16:21:32.583855",
     "status": "completed"
    },
    "tags": []
   },
   "outputs": [],
   "source": [
    "# other constants and parameters\n",
    "TICKERS.sort()\n",
    "FILE_PERIOD = '1d' # weekly='5d', daily='1d'\n",
    "DAYS_IN_EPISODE = 30 # 365 for one-year long episodes (conditions checked at end of episode)\n",
    "EPISODE_DRAW_DISTRIBUTION = 'uniform' # 'uniform' or 'geometric'. select starting point of eposide according to this distribution when generated\n",
    "HALF_SPREAD = 0.0005/2.0 # 'a' in transaction cost function\n",
    "NONLIN_COEFF = 1.0 # 'b' transaction cost function\n",
    "POWER = 1.5 # power for change in poertfolio vector used in transaction cost\n",
    "#GAMMA_RISK, GAMMA_TRADE, GAMMA_HOLD = 18, 6.5, 0.0 # relative importance of risk, trading cost, and holding cost\n",
    "INIT_PORTFOLIO = 100000000.0 # initial portfolio value\n",
    "#model_name = f'REINFORCE_CNN' #_seeded_{UNTIL} # give model a name to distinguish saved files\n",
    "#NB_EPISODES = 300 #2000\n",
    "MODE = 'train' # train or test mode\n",
    "#FROM_PRETRAINED = False\n",
    "DATA_DIR = f'../data/{MARKET_NAME}/preprocessed_data/'\n",
    "\n",
    "# Tune and double-check these before every test:\n",
    "USE_FORECASTS = model_parameters[MODEL_BASE_NAME]['use_forecasts'] # whether to use forecasts as inputs to agent policy net or not\n",
    "NB_FORECASTS = model_parameters[MODEL_BASE_NAME]['nb_forecasts'] # number of forecasts to use in state. Set to None for no forecasts\n",
    "FORECAST_TYPE = model_parameters[MODEL_BASE_NAME]['forecast_type'] # use 'strong' or 'weak' forecasts (if no forecasts given, this does not matter)\n",
    "USE_CNN_STATE = model_parameters[MODEL_BASE_NAME]['use_cnn_state'] # whether to pass log-rets block for CNN part of policy net (set to false for forecast only)"
   ]
  },
  {
   "cell_type": "code",
   "execution_count": 7,
   "id": "3c104328",
   "metadata": {
    "execution": {
     "iopub.execute_input": "2022-06-26T16:21:32.656343Z",
     "iopub.status.busy": "2022-06-26T16:21:32.655221Z",
     "iopub.status.idle": "2022-06-26T16:46:27.166586Z",
     "shell.execute_reply": "2022-06-26T16:46:27.165541Z"
    },
    "papermill": {
     "duration": 1494.574258,
     "end_time": "2022-06-26T16:46:27.204025",
     "exception": false,
     "start_time": "2022-06-26T16:21:32.629767",
     "status": "completed"
    },
    "scrolled": true,
    "tags": []
   },
   "outputs": [
    {
     "name": "stdout",
     "output_type": "stream",
     "text": [
      "\talready exists: trade_1_risk_18_hold_0.1\n",
      "\tskip to next.\n",
      "\talready exists: trade_1_risk_18_hold_1\n",
      "\tskip to next.\n",
      "\talready exists: trade_1_risk_18_hold_10\n",
      "\tskip to next.\n",
      "\talready exists: trade_1_risk_18_hold_100\n",
      "\tskip to next.\n",
      "\talready exists: trade_1_risk_18_hold_1000\n",
      "\tskip to next.\n",
      "\talready exists: trade_1_risk_18_hold_10000\n",
      "\tskip to next.\n",
      "\talready exists: trade_7_risk_18_hold_0.1\n",
      "\tskip to next.\n",
      "\talready exists: trade_7_risk_18_hold_1\n",
      "\tskip to next.\n",
      "\talready exists: trade_7_risk_18_hold_10\n",
      "\tskip to next.\n",
      "\talready exists: trade_7_risk_18_hold_100\n",
      "\tskip to next.\n",
      "\talready exists: trade_7_risk_18_hold_1000\n",
      "\tskip to next.\n",
      "\talready exists: trade_7_risk_18_hold_10000\n",
      "\tskip to next.\n",
      "\talready exists: trade_8_risk_18_hold_0.1\n",
      "\tskip to next.\n",
      "\talready exists: trade_8_risk_18_hold_1\n",
      "\tskip to next.\n",
      "\talready exists: trade_8_risk_18_hold_10\n",
      "\tskip to next.\n",
      "\talready exists: trade_8_risk_18_hold_100\n",
      "\tskip to next.\n",
      "\talready exists: trade_8_risk_18_hold_1000\n",
      "\tskip to next.\n",
      "\talready exists: trade_8_risk_18_hold_10000\n",
      "\tskip to next.\n",
      "\talready exists: trade_9_risk_18_hold_0.1\n",
      "\tskip to next.\n",
      "\talready exists: trade_9_risk_18_hold_1\n",
      "\tskip to next.\n",
      "\talready exists: trade_9_risk_18_hold_10\n",
      "\tskip to next.\n",
      "\talready exists: trade_9_risk_18_hold_100\n",
      "\tskip to next.\n",
      "\talready exists: trade_9_risk_18_hold_1000\n",
      "\tskip to next.\n",
      "\talready exists: trade_9_risk_18_hold_10000\n",
      "\tskip to next.\n",
      "\talready exists: trade_10_risk_18_hold_0.1\n",
      "\tskip to next.\n",
      "\talready exists: trade_10_risk_18_hold_1\n",
      "\tskip to next.\n",
      "\talready exists: trade_10_risk_18_hold_10\n",
      "\tskip to next.\n",
      "\talready exists: trade_10_risk_18_hold_100\n",
      "\tskip to next.\n",
      "\talready exists: trade_10_risk_18_hold_1000\n",
      "\tskip to next.\n",
      "\talready exists: trade_10_risk_18_hold_10000\n",
      "\tskip to next.\n",
      "\talready exists: trade_11_risk_18_hold_0.1\n",
      "\tskip to next.\n",
      "\talready exists: trade_11_risk_18_hold_1\n",
      "\tskip to next.\n",
      "\talready exists: trade_11_risk_18_hold_10\n",
      "\tskip to next.\n",
      "\talready exists: trade_11_risk_18_hold_100\n",
      "\tskip to next.\n",
      "\talready exists: trade_11_risk_18_hold_1000\n",
      "\tskip to next.\n",
      "\talready exists: trade_11_risk_18_hold_10000\n",
      "\tskip to next.\n",
      "\talready exists: trade_12_risk_18_hold_0.1\n",
      "\tskip to next.\n",
      "\talready exists: trade_12_risk_18_hold_1\n",
      "\tskip to next.\n",
      "\talready exists: trade_12_risk_18_hold_10\n",
      "\tskip to next.\n",
      "\talready exists: trade_12_risk_18_hold_100\n",
      "\tskip to next.\n",
      "\talready exists: trade_12_risk_18_hold_1000\n",
      "\tskip to next.\n",
      "\talready exists: trade_12_risk_18_hold_10000\n",
      "\tskip to next.\n",
      "\talready exists: trade_50_risk_18_hold_0.1\n",
      "\tskip to next.\n",
      "\talready exists: trade_50_risk_18_hold_1\n",
      "\tskip to next.\n",
      "\talready exists: trade_50_risk_18_hold_10\n",
      "\tskip to next.\n",
      "\talready exists: trade_50_risk_18_hold_100\n",
      "\tskip to next.\n",
      "\talready exists: trade_50_risk_18_hold_1000\n",
      "\tskip to next.\n",
      "\talready exists: trade_50_risk_18_hold_10000\n",
      "\tskip to next.\n",
      "#############################################################################\n",
      "##\t[49/54]\tmodel=RL_CNN,\tSEED=0,\ttrade=100,\trisk=18\thold=0.1\t##\n",
      "#############################################################################\n"
     ]
    },
    {
     "name": "stdout",
     "output_type": "stream",
     "text": [
      "episode: 1/200, loss: 0.0936, duration: 0:00:01.344573\n"
     ]
    },
    {
     "name": "stdout",
     "output_type": "stream",
     "text": [
      "episode: 11/200, loss: 0.0642, duration: 0:00:01.097583\n"
     ]
    },
    {
     "name": "stdout",
     "output_type": "stream",
     "text": [
      "episode: 21/200, loss: 0.0194, duration: 0:00:01.242276\n"
     ]
    },
    {
     "name": "stdout",
     "output_type": "stream",
     "text": [
      "episode: 31/200, loss: -0.0156, duration: 0:00:01.157844\n"
     ]
    },
    {
     "name": "stdout",
     "output_type": "stream",
     "text": [
      "episode: 41/200, loss: 0.0451, duration: 0:00:01.281320\n"
     ]
    },
    {
     "name": "stdout",
     "output_type": "stream",
     "text": [
      "episode: 51/200, loss: 0.1890, duration: 0:00:01.133718\n"
     ]
    },
    {
     "name": "stdout",
     "output_type": "stream",
     "text": [
      "episode: 61/200, loss: -0.0128, duration: 0:00:01.262382\n"
     ]
    },
    {
     "name": "stdout",
     "output_type": "stream",
     "text": [
      "episode: 71/200, loss: 0.0874, duration: 0:00:01.288296\n"
     ]
    },
    {
     "name": "stdout",
     "output_type": "stream",
     "text": [
      "episode: 81/200, loss: 0.0244, duration: 0:00:01.156261\n"
     ]
    },
    {
     "name": "stdout",
     "output_type": "stream",
     "text": [
      "episode: 91/200, loss: 0.0114, duration: 0:00:01.113497\n"
     ]
    },
    {
     "name": "stdout",
     "output_type": "stream",
     "text": [
      "episode: 101/200, loss: -0.0100, duration: 0:00:01.140908\n"
     ]
    },
    {
     "name": "stdout",
     "output_type": "stream",
     "text": [
      "episode: 111/200, loss: 0.2028, duration: 0:00:01.739962\n"
     ]
    },
    {
     "name": "stdout",
     "output_type": "stream",
     "text": [
      "episode: 121/200, loss: 0.0277, duration: 0:00:01.432504\n"
     ]
    },
    {
     "name": "stdout",
     "output_type": "stream",
     "text": [
      "episode: 131/200, loss: 0.0432, duration: 0:00:01.451511\n"
     ]
    },
    {
     "name": "stdout",
     "output_type": "stream",
     "text": [
      "episode: 141/200, loss: 0.0054, duration: 0:00:01.188593\n"
     ]
    },
    {
     "name": "stdout",
     "output_type": "stream",
     "text": [
      "episode: 151/200, loss: 0.0103, duration: 0:00:01.269400\n"
     ]
    },
    {
     "name": "stdout",
     "output_type": "stream",
     "text": [
      "episode: 161/200, loss: 0.1553, duration: 0:00:01.232777\n"
     ]
    },
    {
     "name": "stdout",
     "output_type": "stream",
     "text": [
      "episode: 171/200, loss: 0.0499, duration: 0:00:01.290088\n"
     ]
    },
    {
     "name": "stdout",
     "output_type": "stream",
     "text": [
      "episode: 181/200, loss: -0.0180, duration: 0:00:01.116272\n"
     ]
    },
    {
     "name": "stdout",
     "output_type": "stream",
     "text": [
      "episode: 191/200, loss: -0.0130, duration: 0:00:01.458104\n"
     ]
    },
    {
     "name": "stdout",
     "output_type": "stream",
     "text": [
      "#############################################################################\n",
      "##\t[50/54]\tmodel=RL_CNN,\tSEED=0,\ttrade=100,\trisk=18\thold=1\t##\n",
      "#############################################################################\n"
     ]
    },
    {
     "name": "stdout",
     "output_type": "stream",
     "text": [
      "episode: 1/200, loss: 0.0943, duration: 0:00:01.152499\n"
     ]
    },
    {
     "name": "stdout",
     "output_type": "stream",
     "text": [
      "episode: 11/200, loss: 0.0652, duration: 0:00:01.206050\n"
     ]
    },
    {
     "name": "stdout",
     "output_type": "stream",
     "text": [
      "episode: 21/200, loss: 0.0212, duration: 0:00:01.155492\n"
     ]
    },
    {
     "name": "stdout",
     "output_type": "stream",
     "text": [
      "episode: 31/200, loss: -0.0174, duration: 0:00:01.141248\n"
     ]
    },
    {
     "name": "stdout",
     "output_type": "stream",
     "text": [
      "episode: 41/200, loss: 0.0430, duration: 0:00:01.203042\n"
     ]
    },
    {
     "name": "stdout",
     "output_type": "stream",
     "text": [
      "episode: 51/200, loss: 0.1860, duration: 0:00:01.214477\n"
     ]
    },
    {
     "name": "stdout",
     "output_type": "stream",
     "text": [
      "episode: 61/200, loss: -0.0135, duration: 0:00:01.149369\n"
     ]
    },
    {
     "name": "stdout",
     "output_type": "stream",
     "text": [
      "episode: 71/200, loss: 0.0873, duration: 0:00:01.180141\n"
     ]
    },
    {
     "name": "stdout",
     "output_type": "stream",
     "text": [
      "episode: 81/200, loss: 0.0242, duration: 0:00:01.108138\n"
     ]
    },
    {
     "name": "stdout",
     "output_type": "stream",
     "text": [
      "episode: 91/200, loss: 0.0114, duration: 0:00:01.278752\n"
     ]
    },
    {
     "name": "stdout",
     "output_type": "stream",
     "text": [
      "episode: 101/200, loss: -0.0099, duration: 0:00:01.110742\n"
     ]
    },
    {
     "name": "stdout",
     "output_type": "stream",
     "text": [
      "episode: 111/200, loss: 0.2093, duration: 0:00:01.265758\n"
     ]
    },
    {
     "name": "stdout",
     "output_type": "stream",
     "text": [
      "episode: 121/200, loss: 0.0279, duration: 0:00:01.185374\n"
     ]
    },
    {
     "name": "stdout",
     "output_type": "stream",
     "text": [
      "episode: 131/200, loss: 0.0434, duration: 0:00:01.158116\n"
     ]
    },
    {
     "name": "stdout",
     "output_type": "stream",
     "text": [
      "episode: 141/200, loss: 0.0056, duration: 0:00:01.133340\n"
     ]
    },
    {
     "name": "stdout",
     "output_type": "stream",
     "text": [
      "episode: 151/200, loss: 0.0105, duration: 0:00:01.411519\n"
     ]
    },
    {
     "name": "stdout",
     "output_type": "stream",
     "text": [
      "episode: 161/200, loss: 0.1551, duration: 0:00:01.139487\n"
     ]
    },
    {
     "name": "stdout",
     "output_type": "stream",
     "text": [
      "episode: 171/200, loss: 0.0501, duration: 0:00:01.137693\n"
     ]
    },
    {
     "name": "stdout",
     "output_type": "stream",
     "text": [
      "episode: 181/200, loss: -0.0178, duration: 0:00:01.161469\n"
     ]
    },
    {
     "name": "stdout",
     "output_type": "stream",
     "text": [
      "episode: 191/200, loss: -0.0129, duration: 0:00:01.114717\n"
     ]
    },
    {
     "name": "stdout",
     "output_type": "stream",
     "text": [
      "#############################################################################\n",
      "##\t[51/54]\tmodel=RL_CNN,\tSEED=0,\ttrade=100,\trisk=18\thold=10\t##\n",
      "#############################################################################\n"
     ]
    },
    {
     "name": "stdout",
     "output_type": "stream",
     "text": [
      "episode: 1/200, loss: 0.1011, duration: 0:00:01.372069\n"
     ]
    },
    {
     "name": "stdout",
     "output_type": "stream",
     "text": [
      "episode: 11/200, loss: 0.0677, duration: 0:00:01.144407\n"
     ]
    },
    {
     "name": "stdout",
     "output_type": "stream",
     "text": [
      "episode: 21/200, loss: 0.0246, duration: 0:00:01.254274\n"
     ]
    },
    {
     "name": "stdout",
     "output_type": "stream",
     "text": [
      "episode: 31/200, loss: -0.0254, duration: 0:00:01.182382\n"
     ]
    },
    {
     "name": "stdout",
     "output_type": "stream",
     "text": [
      "episode: 41/200, loss: 0.0415, duration: 0:00:01.283145\n"
     ]
    },
    {
     "name": "stdout",
     "output_type": "stream",
     "text": [
      "episode: 51/200, loss: 0.1995, duration: 0:00:01.140817\n"
     ]
    },
    {
     "name": "stdout",
     "output_type": "stream",
     "text": [
      "episode: 61/200, loss: -0.0100, duration: 0:00:01.119167\n"
     ]
    },
    {
     "name": "stdout",
     "output_type": "stream",
     "text": [
      "episode: 71/200, loss: 0.0900, duration: 0:00:01.348547\n"
     ]
    },
    {
     "name": "stdout",
     "output_type": "stream",
     "text": [
      "episode: 81/200, loss: 0.0280, duration: 0:00:01.160864\n"
     ]
    },
    {
     "name": "stdout",
     "output_type": "stream",
     "text": [
      "episode: 91/200, loss: 0.0142, duration: 0:00:01.292780\n"
     ]
    },
    {
     "name": "stdout",
     "output_type": "stream",
     "text": [
      "episode: 101/200, loss: -0.0076, duration: 0:00:01.289838\n"
     ]
    },
    {
     "name": "stdout",
     "output_type": "stream",
     "text": [
      "episode: 111/200, loss: 0.2002, duration: 0:00:01.113934\n"
     ]
    },
    {
     "name": "stdout",
     "output_type": "stream",
     "text": [
      "episode: 121/200, loss: 0.0300, duration: 0:00:01.109601\n"
     ]
    },
    {
     "name": "stdout",
     "output_type": "stream",
     "text": [
      "episode: 131/200, loss: 0.0460, duration: 0:00:01.587061\n"
     ]
    },
    {
     "name": "stdout",
     "output_type": "stream",
     "text": [
      "episode: 141/200, loss: 0.0078, duration: 0:00:01.568929\n"
     ]
    },
    {
     "name": "stdout",
     "output_type": "stream",
     "text": [
      "episode: 151/200, loss: 0.0124, duration: 0:00:01.177874\n"
     ]
    },
    {
     "name": "stdout",
     "output_type": "stream",
     "text": [
      "episode: 161/200, loss: 0.1535, duration: 0:00:01.359337\n"
     ]
    },
    {
     "name": "stdout",
     "output_type": "stream",
     "text": [
      "episode: 171/200, loss: 0.0519, duration: 0:00:01.106777\n"
     ]
    },
    {
     "name": "stdout",
     "output_type": "stream",
     "text": [
      "episode: 181/200, loss: -0.0160, duration: 0:00:01.140196\n"
     ]
    },
    {
     "name": "stdout",
     "output_type": "stream",
     "text": [
      "episode: 191/200, loss: -0.0109, duration: 0:00:01.146196\n"
     ]
    },
    {
     "name": "stdout",
     "output_type": "stream",
     "text": [
      "#############################################################################\n",
      "##\t[52/54]\tmodel=RL_CNN,\tSEED=0,\ttrade=100,\trisk=18\thold=100\t##\n",
      "#############################################################################\n"
     ]
    },
    {
     "name": "stdout",
     "output_type": "stream",
     "text": [
      "episode: 1/200, loss: 0.1699, duration: 0:00:01.185107\n"
     ]
    },
    {
     "name": "stdout",
     "output_type": "stream",
     "text": [
      "episode: 11/200, loss: 0.0637, duration: 0:00:01.422660\n"
     ]
    },
    {
     "name": "stdout",
     "output_type": "stream",
     "text": [
      "episode: 21/200, loss: 0.0271, duration: 0:00:01.108686\n"
     ]
    },
    {
     "name": "stdout",
     "output_type": "stream",
     "text": [
      "episode: 31/200, loss: -0.0262, duration: 0:00:01.928282\n"
     ]
    },
    {
     "name": "stdout",
     "output_type": "stream",
     "text": [
      "episode: 41/200, loss: 0.0306, duration: 0:00:01.112056\n"
     ]
    },
    {
     "name": "stdout",
     "output_type": "stream",
     "text": [
      "episode: 51/200, loss: 0.1884, duration: 0:00:01.235132\n"
     ]
    },
    {
     "name": "stdout",
     "output_type": "stream",
     "text": [
      "episode: 61/200, loss: -0.0068, duration: 0:00:01.150183\n"
     ]
    },
    {
     "name": "stdout",
     "output_type": "stream",
     "text": [
      "episode: 71/200, loss: 0.0845, duration: 0:00:01.387838\n"
     ]
    },
    {
     "name": "stdout",
     "output_type": "stream",
     "text": [
      "episode: 81/200, loss: 0.0159, duration: 0:00:01.111524\n"
     ]
    },
    {
     "name": "stdout",
     "output_type": "stream",
     "text": [
      "episode: 91/200, loss: 0.0070, duration: 0:00:01.165058\n"
     ]
    },
    {
     "name": "stdout",
     "output_type": "stream",
     "text": [
      "episode: 101/200, loss: -0.0275, duration: 0:00:01.117185\n"
     ]
    },
    {
     "name": "stdout",
     "output_type": "stream",
     "text": [
      "episode: 111/200, loss: 0.1921, duration: 0:00:01.847828\n"
     ]
    },
    {
     "name": "stdout",
     "output_type": "stream",
     "text": [
      "episode: 121/200, loss: 0.0230, duration: 0:00:01.109015\n"
     ]
    },
    {
     "name": "stdout",
     "output_type": "stream",
     "text": [
      "episode: 131/200, loss: 0.0277, duration: 0:00:01.138222\n"
     ]
    },
    {
     "name": "stdout",
     "output_type": "stream",
     "text": [
      "episode: 141/200, loss: 0.0023, duration: 0:00:01.197576\n"
     ]
    },
    {
     "name": "stdout",
     "output_type": "stream",
     "text": [
      "episode: 151/200, loss: -0.0001, duration: 0:00:01.134628\n"
     ]
    },
    {
     "name": "stdout",
     "output_type": "stream",
     "text": [
      "episode: 161/200, loss: 0.1238, duration: 0:00:01.315377\n"
     ]
    },
    {
     "name": "stdout",
     "output_type": "stream",
     "text": [
      "episode: 171/200, loss: 0.0395, duration: 0:00:01.149241\n"
     ]
    },
    {
     "name": "stdout",
     "output_type": "stream",
     "text": [
      "episode: 181/200, loss: -0.0146, duration: 0:00:01.613135\n"
     ]
    },
    {
     "name": "stdout",
     "output_type": "stream",
     "text": [
      "episode: 191/200, loss: -0.0200, duration: 0:00:01.094299\n"
     ]
    },
    {
     "name": "stdout",
     "output_type": "stream",
     "text": [
      "#############################################################################\n",
      "##\t[53/54]\tmodel=RL_CNN,\tSEED=0,\ttrade=100,\trisk=18\thold=1000\t##\n",
      "#############################################################################\n"
     ]
    },
    {
     "name": "stdout",
     "output_type": "stream",
     "text": [
      "episode: 1/200, loss: 0.8578, duration: 0:00:01.147030\n"
     ]
    },
    {
     "name": "stdout",
     "output_type": "stream",
     "text": [
      "episode: 11/200, loss: 0.1795, duration: 0:00:01.100182\n"
     ]
    },
    {
     "name": "stdout",
     "output_type": "stream",
     "text": [
      "episode: 21/200, loss: 0.1178, duration: 0:00:01.170872\n"
     ]
    },
    {
     "name": "stdout",
     "output_type": "stream",
     "text": [
      "episode: 31/200, loss: -0.0241, duration: 0:00:01.227542\n"
     ]
    },
    {
     "name": "stdout",
     "output_type": "stream",
     "text": [
      "episode: 41/200, loss: 0.0319, duration: 0:00:01.155156\n"
     ]
    },
    {
     "name": "stdout",
     "output_type": "stream",
     "text": [
      "episode: 51/200, loss: 0.1886, duration: 0:00:01.746279\n"
     ]
    },
    {
     "name": "stdout",
     "output_type": "stream",
     "text": [
      "episode: 61/200, loss: -0.0055, duration: 0:00:01.116040\n"
     ]
    },
    {
     "name": "stdout",
     "output_type": "stream",
     "text": [
      "episode: 71/200, loss: 0.0851, duration: 0:00:01.188213\n"
     ]
    },
    {
     "name": "stdout",
     "output_type": "stream",
     "text": [
      "episode: 81/200, loss: 0.0173, duration: 0:00:01.120789\n"
     ]
    },
    {
     "name": "stdout",
     "output_type": "stream",
     "text": [
      "episode: 91/200, loss: 0.0082, duration: 0:00:01.226449\n"
     ]
    },
    {
     "name": "stdout",
     "output_type": "stream",
     "text": [
      "episode: 101/200, loss: -0.0269, duration: 0:00:01.140599\n"
     ]
    },
    {
     "name": "stdout",
     "output_type": "stream",
     "text": [
      "episode: 111/200, loss: 0.1774, duration: 0:00:01.101688\n"
     ]
    },
    {
     "name": "stdout",
     "output_type": "stream",
     "text": [
      "episode: 121/200, loss: 0.0235, duration: 0:00:01.166624\n"
     ]
    },
    {
     "name": "stdout",
     "output_type": "stream",
     "text": [
      "episode: 131/200, loss: 0.0283, duration: 0:00:01.140953\n"
     ]
    },
    {
     "name": "stdout",
     "output_type": "stream",
     "text": [
      "episode: 141/200, loss: 0.0025, duration: 0:00:01.134511\n"
     ]
    },
    {
     "name": "stdout",
     "output_type": "stream",
     "text": [
      "episode: 151/200, loss: 0.0017, duration: 0:00:01.099379\n"
     ]
    },
    {
     "name": "stdout",
     "output_type": "stream",
     "text": [
      "episode: 161/200, loss: 0.1212, duration: 0:00:01.468629\n"
     ]
    },
    {
     "name": "stdout",
     "output_type": "stream",
     "text": [
      "episode: 171/200, loss: 0.0397, duration: 0:00:01.765758\n"
     ]
    },
    {
     "name": "stdout",
     "output_type": "stream",
     "text": [
      "episode: 181/200, loss: -0.0145, duration: 0:00:01.372616\n"
     ]
    },
    {
     "name": "stdout",
     "output_type": "stream",
     "text": [
      "episode: 191/200, loss: -0.0196, duration: 0:00:01.109507\n"
     ]
    },
    {
     "name": "stdout",
     "output_type": "stream",
     "text": [
      "#############################################################################\n",
      "##\t[54/54]\tmodel=RL_CNN,\tSEED=0,\ttrade=100,\trisk=18\thold=10000\t##\n",
      "#############################################################################\n"
     ]
    },
    {
     "name": "stdout",
     "output_type": "stream",
     "text": [
      "episode: 1/200, loss: 7.7367, duration: 0:00:01.115961\n"
     ]
    },
    {
     "name": "stdout",
     "output_type": "stream",
     "text": [
      "episode: 11/200, loss: 1.3985, duration: 0:00:01.289855\n"
     ]
    },
    {
     "name": "stdout",
     "output_type": "stream",
     "text": [
      "episode: 21/200, loss: 1.0262, duration: 0:00:01.100813\n"
     ]
    },
    {
     "name": "stdout",
     "output_type": "stream",
     "text": [
      "episode: 31/200, loss: 0.0699, duration: 0:00:01.192336\n"
     ]
    },
    {
     "name": "stdout",
     "output_type": "stream",
     "text": [
      "episode: 41/200, loss: 0.0329, duration: 0:00:01.166912\n"
     ]
    },
    {
     "name": "stdout",
     "output_type": "stream",
     "text": [
      "episode: 51/200, loss: 0.1889, duration: 0:00:01.093111\n"
     ]
    },
    {
     "name": "stdout",
     "output_type": "stream",
     "text": [
      "episode: 61/200, loss: -0.0039, duration: 0:00:01.199470\n"
     ]
    },
    {
     "name": "stdout",
     "output_type": "stream",
     "text": [
      "episode: 71/200, loss: 0.0857, duration: 0:00:01.116469\n"
     ]
    },
    {
     "name": "stdout",
     "output_type": "stream",
     "text": [
      "episode: 81/200, loss: 0.0184, duration: 0:00:01.409035\n"
     ]
    },
    {
     "name": "stdout",
     "output_type": "stream",
     "text": [
      "episode: 91/200, loss: 0.0097, duration: 0:00:01.105334\n"
     ]
    },
    {
     "name": "stdout",
     "output_type": "stream",
     "text": [
      "episode: 101/200, loss: -0.0259, duration: 0:00:01.318292\n"
     ]
    },
    {
     "name": "stdout",
     "output_type": "stream",
     "text": [
      "episode: 111/200, loss: 0.1967, duration: 0:00:01.139497\n"
     ]
    },
    {
     "name": "stdout",
     "output_type": "stream",
     "text": [
      "episode: 121/200, loss: 0.0242, duration: 0:00:01.096570\n"
     ]
    },
    {
     "name": "stdout",
     "output_type": "stream",
     "text": [
      "episode: 131/200, loss: 0.0287, duration: 0:00:01.101411\n"
     ]
    },
    {
     "name": "stdout",
     "output_type": "stream",
     "text": [
      "episode: 141/200, loss: 0.0027, duration: 0:00:01.271435\n"
     ]
    },
    {
     "name": "stdout",
     "output_type": "stream",
     "text": [
      "episode: 151/200, loss: 0.0017, duration: 0:00:01.119505\n"
     ]
    },
    {
     "name": "stdout",
     "output_type": "stream",
     "text": [
      "episode: 161/200, loss: 0.1134, duration: 0:00:01.181552\n"
     ]
    },
    {
     "name": "stdout",
     "output_type": "stream",
     "text": [
      "episode: 171/200, loss: 0.0400, duration: 0:00:01.097303\n"
     ]
    },
    {
     "name": "stdout",
     "output_type": "stream",
     "text": [
      "episode: 181/200, loss: -0.0144, duration: 0:00:01.135963\n"
     ]
    },
    {
     "name": "stdout",
     "output_type": "stream",
     "text": [
      "episode: 191/200, loss: -0.0192, duration: 0:00:01.247273\n"
     ]
    },
    {
     "name": "stdout",
     "output_type": "stream",
     "text": [
      "CPU times: user 25min 4s, sys: 11.5 s, total: 25min 16s\n",
      "Wall time: 24min 54s\n"
     ]
    },
    {
     "data": {
      "text/plain": [
       "<Figure size 1008x360 with 0 Axes>"
      ]
     },
     "metadata": {},
     "output_type": "display_data"
    },
    {
     "data": {
      "text/plain": [
       "<Figure size 1008x360 with 0 Axes>"
      ]
     },
     "metadata": {},
     "output_type": "display_data"
    },
    {
     "data": {
      "text/plain": [
       "<Figure size 1008x360 with 0 Axes>"
      ]
     },
     "metadata": {},
     "output_type": "display_data"
    },
    {
     "data": {
      "text/plain": [
       "<Figure size 1008x360 with 0 Axes>"
      ]
     },
     "metadata": {},
     "output_type": "display_data"
    },
    {
     "data": {
      "text/plain": [
       "<Figure size 1008x360 with 0 Axes>"
      ]
     },
     "metadata": {},
     "output_type": "display_data"
    },
    {
     "data": {
      "text/plain": [
       "<Figure size 1008x360 with 0 Axes>"
      ]
     },
     "metadata": {},
     "output_type": "display_data"
    }
   ],
   "source": [
    "%%time\n",
    "##########################\n",
    "### main training loop ###\n",
    "##########################\n",
    "\n",
    "# define investor preferences to train for\n",
    "#------ extended-boyd-sweep ------#\n",
    "#GAMMA_TRADES = [5.5, 6, 6.5, 7, 7.5, 8, 9, 10, 11, 12, 15, 20, 30]\n",
    "#GAMMA_TRADES = [4, 5]\n",
    "#GAMMA_TRADES = [0.1, 0.5, 1, 2, 3, 45, 60, 100, 200]\n",
    "#GAMMA_RISKS = [0.1, 0.178, 0.316, 0.562, 1, 2, 3, 6, 10, 18, 32, 56, 100, 178, 316, 562, 1000, 2000, 5000, 10000, 20000]\n",
    "#---------------------------------#\n",
    "counter = 0\n",
    "\n",
    "for RANDOM_SEED in SEED_LIST:\n",
    "    model_name = f'{MODEL_BASE_NAME}_seed_{RANDOM_SEED}'\n",
    "    maybe_make_dir(f'../experiments/{MARKET_NAME}/seeded/{MODEL_BASE_NAME}/seed_{RANDOM_SEED}')\n",
    "    \n",
    "    for (GAMMA_TRADE, GAMMA_RISK, GAMMA_HOLD) in GAMMA_TRIOS:\n",
    "        # set random generator seed for tf and np\n",
    "        # this is probably unnecessary because it is done when env is initialised but just incase\n",
    "        tf.random.set_seed(RANDOM_SEED)\n",
    "        np.random.seed(RANDOM_SEED)\n",
    "        counter += 1\n",
    "\n",
    "        # check if test lready done. skip if so\n",
    "        #if not FROM_PRETRAINED:\n",
    "            #skip = os.path.exists(f'experiments/12_assets/00_seeded/seed_{RANDOM_SEED}/trade_{GAMMA_TRADE}_risk_{GAMMA_RISK}') # check if already exists\n",
    "        #else:\n",
    "        \n",
    "        skip = os.path.exists(f'../experiments/{MARKET_NAME}/seeded/{MODEL_BASE_NAME}/seed_{RANDOM_SEED}/trade_{GAMMA_TRADE}_risk_{GAMMA_RISK}_hold_{GAMMA_HOLD}')\n",
    "\n",
    "        if not skip: # if not exists, do test\n",
    "\n",
    "            print('#############################################################################')\n",
    "            print(f'##\\t[{counter}/{len(GAMMA_TRIOS)}]\\tmodel={MODEL_BASE_NAME},\\tSEED={RANDOM_SEED},\\ttrade={GAMMA_TRADE},\\trisk={GAMMA_RISK}\\thold={GAMMA_HOLD}\\t##')\n",
    "            print('#############################################################################')        \n",
    "\n",
    "            # create agent and environment\n",
    "            env = MultiStockEnv(tickers=TICKERS, \n",
    "                                from_date=FROM,\n",
    "                                until=UNTIL, \n",
    "                                #nb_episodes=100,\n",
    "                                cash_key='USDOLLAR', \n",
    "                                gamma_risk=GAMMA_RISK, \n",
    "                                gamma_trade=GAMMA_TRADE,\n",
    "                                gamma_hold=GAMMA_HOLD,\n",
    "                                half_spread=HALF_SPREAD, \n",
    "                                nonlin_coef=NONLIN_COEFF, \n",
    "                                power=POWER, \n",
    "                                datadir=DATA_DIR, \n",
    "                                state_lookback_window=20, \n",
    "                                distribution=EPISODE_DRAW_DISTRIBUTION,\n",
    "                                days_duration=DAYS_IN_EPISODE, \n",
    "                                mode='train', \n",
    "                                random_seed=RANDOM_SEED,\n",
    "                                init_portfolio=INIT_PORTFOLIO, \n",
    "                                period_in_file_name=FILE_PERIOD, \n",
    "                                nb_forecasts=NB_FORECASTS, \n",
    "                                forecast_type=FORECAST_TYPE,\n",
    "                                use_CNN_state=USE_CNN_STATE,\n",
    "                                verbose=False)\n",
    "\n",
    "            agent = Agent(alpha=0.001, \n",
    "                          gamma=0.99, \n",
    "                          n_assets=len(TICKERS)+1, \n",
    "                          tau=5, \n",
    "                          lookback_window=20, \n",
    "                          n_feature_maps=len(TICKERS)+1,\n",
    "                          use_forecasts=USE_FORECASTS,\n",
    "                          use_CNN_state=USE_CNN_STATE,\n",
    "                          allow_long_short_trades=True)\n",
    "\n",
    "            # initialise policy by one forward pass then load pretrained weights\n",
    "            #if FROM_PRETRAINED: \n",
    "                #agent.choose_action(env._get_obs())\n",
    "                #agent.load(pretrined_weights_dir)\n",
    "\n",
    "            # configure folders\n",
    "            experiments_folder = f'../experiments/{MARKET_NAME}'\n",
    "            from_seeded_folder = f'{experiments_folder}/seeded'\n",
    "            base_model_folder = f'{from_seeded_folder}/{MODEL_BASE_NAME}'\n",
    "            seed_folder = f'{base_model_folder}/seed_{RANDOM_SEED}'\n",
    "            #if FROM_PRETRAINED:\n",
    "            #    pretrained_folder = f'{nb_assets_folder}/0_further_trained'\n",
    "            #    preference_folder = f'{pretrained_folder}/trade_{GAMMA_TRADE}_risk_{GAMMA_RISK}'\n",
    "            #else:\n",
    "            preference_folder = f'{seed_folder}/trade_{GAMMA_TRADE}_risk_{GAMMA_RISK}_hold_{GAMMA_HOLD}'\n",
    "            models_folder = f'{preference_folder}/models' # where saved models will be saved\n",
    "            losses_folder = f'{preference_folder}/losses' # where losses will be saved for plotting training progress\n",
    "            fig_folder = f'{preference_folder}/figures'\n",
    "\n",
    "            # create dirictories for saving outputs to (if they don't exist already)\n",
    "            #maybe_make_dir(nb_assets_folder)\n",
    "            maybe_make_dir(seed_folder)\n",
    "            maybe_make_dir(preference_folder)\n",
    "            maybe_make_dir(models_folder)\n",
    "            maybe_make_dir(losses_folder)\n",
    "            maybe_make_dir(fig_folder)\n",
    "\n",
    "            if MODE == 'train':\n",
    "                # play the game num_episodes times and update weights according to loss\n",
    "                losses = []\n",
    "                for e in range(NB_EPISODES):\n",
    "\n",
    "                    # save model weights every few episodes\n",
    "                    if (e%SAVE_EVERY == 0) and (e!=0):\n",
    "                        agent.save(f'{models_folder}/{model_name}_{e}')\n",
    "                        # save losses of training period\n",
    "                        np.save(f'{losses_folder}/{model_name}_{MODE}_{e}_losses.npy', np.array(losses))\n",
    "\n",
    "                    t0 = datetime.datetime.now()\n",
    "                    try:\n",
    "                        loss = play_one_episode(agent, env, MODE)\n",
    "                    except Exception as err:\n",
    "                        print(f'\\t*** error in episode {e}:', err)\n",
    "                        loss = np.nan#5.0 # just an arbitraty number that seems high compared to usual losses\n",
    "                    dt = datetime.datetime.now() - t0\n",
    "                    losses.append(loss) # append episode loss\n",
    "                    # print progress\n",
    "                    if (e%10 == 0):\n",
    "                        print(f\"episode: {e + 1}/{NB_EPISODES}, loss: {loss:.4f}, duration: {dt}\")\n",
    "\n",
    "\n",
    "                # save the weights and losses when done\t\n",
    "                agent.save(f'{models_folder}/{model_name}_{NB_EPISODES}')\n",
    "                np.save(f'{losses_folder}/{model_name}_{MODE}_{NB_EPISODES}_losses.npy', np.array(losses))\n",
    "\n",
    "            # plot losses\n",
    "            save_fig = True\n",
    "\n",
    "            # load losses file\n",
    "            file = f'{losses_folder}/{model_name}_{MODE}_{NB_EPISODES}_losses.npy'\n",
    "            loaded_losses = np.load(file)\n",
    "\n",
    "            # plot losses\n",
    "            plt.figure(figsize=(14,5))\n",
    "            plt.plot(loaded_losses)\n",
    "            plt.title(f'{model_name} Training Loss')\n",
    "            plt.xlabel('Episode Number')\n",
    "            plt.ylabel(r'Loss: $-G \\approx -\\mathbb{E}\\left[ \\sum_{k=0}^{T} \\gamma^k R_t \\right]$')\n",
    "            #plt.yscale('symlog')\n",
    "            if save_fig:\n",
    "                plt.savefig(f'{fig_folder}/{model_name}_losses.png', dpi=150, facecolor=None, edgecolor=None, bbox_inches='tight')\n",
    "            plt.clf()\n",
    "\n",
    "        else:\n",
    "            print(f'\\talready exists: trade_{GAMMA_TRADE}_risk_{GAMMA_RISK}_hold_{GAMMA_HOLD}')\n",
    "            print('\\tskip to next.')"
   ]
  },
  {
   "cell_type": "code",
   "execution_count": 8,
   "id": "6ebe7099",
   "metadata": {
    "execution": {
     "iopub.execute_input": "2022-06-26T16:46:27.252250Z",
     "iopub.status.busy": "2022-06-26T16:46:27.251823Z",
     "iopub.status.idle": "2022-06-26T16:46:27.256576Z",
     "shell.execute_reply": "2022-06-26T16:46:27.254999Z"
    },
    "papermill": {
     "duration": 0.031068,
     "end_time": "2022-06-26T16:46:27.259768",
     "exception": false,
     "start_time": "2022-06-26T16:46:27.228700",
     "status": "completed"
    },
    "tags": []
   },
   "outputs": [],
   "source": [
    "# double check the end of training\n",
    "#env.until"
   ]
  },
  {
   "cell_type": "code",
   "execution_count": 9,
   "id": "6178de9e",
   "metadata": {
    "execution": {
     "iopub.execute_input": "2022-06-26T16:46:27.304970Z",
     "iopub.status.busy": "2022-06-26T16:46:27.304231Z",
     "iopub.status.idle": "2022-06-26T16:46:27.313661Z",
     "shell.execute_reply": "2022-06-26T16:46:27.311766Z"
    },
    "papermill": {
     "duration": 0.036023,
     "end_time": "2022-06-26T16:46:27.316859",
     "exception": false,
     "start_time": "2022-06-26T16:46:27.280836",
     "status": "completed"
    },
    "tags": []
   },
   "outputs": [
    {
     "name": "stdout",
     "output_type": "stream",
     "text": [
      "training done.\n"
     ]
    }
   ],
   "source": [
    "print('training done.')"
   ]
  },
  {
   "cell_type": "code",
   "execution_count": 10,
   "id": "65f61dfd",
   "metadata": {
    "execution": {
     "iopub.execute_input": "2022-06-26T16:46:27.362254Z",
     "iopub.status.busy": "2022-06-26T16:46:27.361590Z",
     "iopub.status.idle": "2022-06-26T16:46:27.368210Z",
     "shell.execute_reply": "2022-06-26T16:46:27.366364Z"
    },
    "papermill": {
     "duration": 0.033126,
     "end_time": "2022-06-26T16:46:27.371444",
     "exception": false,
     "start_time": "2022-06-26T16:46:27.338318",
     "status": "completed"
    },
    "tags": []
   },
   "outputs": [],
   "source": [
    "### Now repeat this for the different RL models.\n",
    "### remember to update the gamma-pairs, model base name, and model specs/setup in beginning of notebook!"
   ]
  }
 ],
 "metadata": {
  "interpreter": {
   "hash": "949777d72b0d2535278d3dc13498b2535136f6dfe0678499012e853ee9abcab1"
  },
  "kernelspec": {
   "display_name": "Python 3",
   "language": "python",
   "name": "python3"
  },
  "language_info": {
   "codemirror_mode": {
    "name": "ipython",
    "version": 3
   },
   "file_extension": ".py",
   "mimetype": "text/x-python",
   "name": "python",
   "nbconvert_exporter": "python",
   "pygments_lexer": "ipython3",
   "version": "3.7.6"
  },
  "papermill": {
   "default_parameters": {},
   "duration": 1501.669385,
   "end_time": "2022-06-26T16:46:28.114773",
   "environment_variables": {},
   "exception": null,
   "input_path": "train_template.ipynb",
   "output_path": "slave_notebooks/RL_CNN_NIK_25_risks_18_seeds_0.ipynb",
   "parameters": {
    "FROM": "2013-05-01",
    "GAMMA_HOLDS": [
     0.1,
     1,
     10,
     100,
     1000,
     10000
    ],
    "GAMMA_RISKS": [
     18
    ],
    "GAMMA_TRADES": [
     1,
     7,
     8,
     9,
     10,
     11,
     12,
     50,
     100
    ],
    "MARKET_NAME": "NIK_25",
    "MODEL_BASE_NAME": "RL_CNN",
    "NB_EPISODES": 200,
    "SAVE_EVERY": 200,
    "SEED_LIST": [
     0
    ],
    "TICKERS": [
     "9983.T",
     "8035.T",
     "9984.T",
     "6954.T",
     "6367.T",
     "9433.T",
     "4543.T",
     "6857.T",
     "2413.T",
     "4063.T",
     "6971.T",
     "6758.T",
     "4519.T",
     "6762.T",
     "6645.T",
     "9613.T",
     "7203.T",
     "7733.T",
     "4901.T",
     "4503.T",
     "2801.T",
     "4568.T",
     "7832.T",
     "4523.T"
    ],
    "UNTIL": "2018-01-01"
   },
   "start_time": "2022-06-26T16:21:26.445388",
   "version": "2.3.3"
  }
 },
 "nbformat": 4,
 "nbformat_minor": 5
}