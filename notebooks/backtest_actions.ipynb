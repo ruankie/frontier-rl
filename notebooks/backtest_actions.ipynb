{
 "cells": [
  {
   "cell_type": "code",
   "execution_count": 1,
   "metadata": {},
   "outputs": [
    {
     "name": "stdout",
     "output_type": "stream",
     "text": [
      "Wall time: 2.27 s\n"
     ]
    }
   ],
   "source": [
    "%%time\n",
    "import numpy as np\n",
    "import pandas as pd\n",
    "import matplotlib.pyplot as plt\n",
    "import datetime\n",
    "import os\n",
    "from REINFORCE_soft import MultiStockEnv, Agent, backtest, maybe_make_dir\n",
    "import market_tickers\n",
    "from model_config import model_parameters"
   ]
  },
  {
   "cell_type": "code",
   "execution_count": 2,
   "metadata": {
    "tags": [
     "parameters"
    ]
   },
   "outputs": [],
   "source": [
    "# papermill parameters\n",
    "SEED_LIST = [0] # only works for one value as it is now\n",
    "\n",
    "TICKERS = market_tickers.NIK_25_TICKER\n",
    "#TICKERS = ['AAPL', 'AMD', 'CSCO', 'F', 'INTC']\n",
    "MARKET_NAME = 'NIK_25'\n",
    "MODEL_BASE_NAME = 'RL_all_inp' # use either | 'RL_CNN' | 'RL_str_fcast' | 'RL_all_inp' |\n",
    "FROM = '2018-01-01' # start of backtest\n",
    "UNTIL = '2018-06-01' # end of backtest\n",
    "NB_EPISODES = 200 # backtest model that was trained for this number of episodes"
   ]
  },
  {
   "cell_type": "code",
   "execution_count": 3,
   "metadata": {},
   "outputs": [],
   "source": [
    "# other constants and parameters\n",
    "TICKERS.sort()\n",
    "FILE_PERIOD = '1d' # weekly='5d', daily='1d'\n",
    "HALF_SPREAD = 0.0005/2.0 # 'a' in transaction cost function\n",
    "NONLIN_COEFF = 1.0 # 'b' transaction cost function\n",
    "POWER = 1.5 # power for change in poertfolio vector used in transaction cost\n",
    "INIT_PORTFOLIO = 100000000.0 # initial portfolio value\n",
    "\n",
    "USE_FORECASTS = model_parameters[MODEL_BASE_NAME]['use_forecasts'] # whether to use forecasts as inputs to agent policy net or not\n",
    "NB_FORECASTS = model_parameters[MODEL_BASE_NAME]['nb_forecasts'] # number of forecasts to use in state. Set to None for no forecasts\n",
    "FORECAST_TYPE = model_parameters[MODEL_BASE_NAME]['forecast_type'] # use 'strong' or 'weak' forecasts (if no forecasts given, this does not matter)\n",
    "USE_CNN_STATE = model_parameters[MODEL_BASE_NAME]['use_cnn_state'] # whether to pass log-rets block for CNN part of policy net (set to false for forecast only)\n",
    "\n",
    "TEST_NAME = f'{MARKET_NAME}_{MODEL_BASE_NAME}_seeds_{SEED_LIST[0]}_etc'\n",
    "RESULTS_DIR = f'experiments/{MARKET_NAME}/seeded/{MODEL_BASE_NAME}/backtests/'\n",
    "DATA_DIR = f'../../data/{MARKET_NAME}/preprocessed_data/'"
   ]
  },
  {
   "cell_type": "code",
   "execution_count": 4,
   "metadata": {},
   "outputs": [
    {
     "data": {
      "text/html": [
       "<div>\n",
       "<style scoped>\n",
       "    .dataframe tbody tr th:only-of-type {\n",
       "        vertical-align: middle;\n",
       "    }\n",
       "\n",
       "    .dataframe tbody tr th {\n",
       "        vertical-align: top;\n",
       "    }\n",
       "\n",
       "    .dataframe thead th {\n",
       "        text-align: right;\n",
       "    }\n",
       "</style>\n",
       "<table border=\"1\" class=\"dataframe\">\n",
       "  <thead>\n",
       "    <tr style=\"text-align: right;\">\n",
       "      <th></th>\n",
       "      <th>gamma_trade</th>\n",
       "      <th>gamma_risk</th>\n",
       "      <th>seed</th>\n",
       "      <th>excess_return</th>\n",
       "      <th>excess_risk</th>\n",
       "      <th>sharpe</th>\n",
       "      <th>is_pareto</th>\n",
       "    </tr>\n",
       "  </thead>\n",
       "  <tbody>\n",
       "    <tr>\n",
       "      <th>0</th>\n",
       "      <td>45.0</td>\n",
       "      <td>18.0</td>\n",
       "      <td>0</td>\n",
       "      <td>-0.022548</td>\n",
       "      <td>0.660421</td>\n",
       "      <td>-0.034141</td>\n",
       "      <td>True</td>\n",
       "    </tr>\n",
       "    <tr>\n",
       "      <th>1</th>\n",
       "      <td>60.0</td>\n",
       "      <td>18.0</td>\n",
       "      <td>0</td>\n",
       "      <td>0.063777</td>\n",
       "      <td>0.675021</td>\n",
       "      <td>0.094482</td>\n",
       "      <td>True</td>\n",
       "    </tr>\n",
       "    <tr>\n",
       "      <th>2</th>\n",
       "      <td>30.0</td>\n",
       "      <td>32.0</td>\n",
       "      <td>0</td>\n",
       "      <td>0.086812</td>\n",
       "      <td>0.680020</td>\n",
       "      <td>0.127662</td>\n",
       "      <td>True</td>\n",
       "    </tr>\n",
       "    <tr>\n",
       "      <th>3</th>\n",
       "      <td>10.0</td>\n",
       "      <td>100.0</td>\n",
       "      <td>0</td>\n",
       "      <td>0.090404</td>\n",
       "      <td>0.690127</td>\n",
       "      <td>0.130996</td>\n",
       "      <td>True</td>\n",
       "    </tr>\n",
       "    <tr>\n",
       "      <th>4</th>\n",
       "      <td>20.0</td>\n",
       "      <td>56.0</td>\n",
       "      <td>0</td>\n",
       "      <td>0.128010</td>\n",
       "      <td>0.692018</td>\n",
       "      <td>0.184981</td>\n",
       "      <td>True</td>\n",
       "    </tr>\n",
       "  </tbody>\n",
       "</table>\n",
       "</div>"
      ],
      "text/plain": [
       "   gamma_trade  gamma_risk  seed  excess_return  excess_risk    sharpe  \\\n",
       "0         45.0        18.0     0      -0.022548     0.660421 -0.034141   \n",
       "1         60.0        18.0     0       0.063777     0.675021  0.094482   \n",
       "2         30.0        32.0     0       0.086812     0.680020  0.127662   \n",
       "3         10.0       100.0     0       0.090404     0.690127  0.130996   \n",
       "4         20.0        56.0     0       0.128010     0.692018  0.184981   \n",
       "\n",
       "   is_pareto  \n",
       "0       True  \n",
       "1       True  \n",
       "2       True  \n",
       "3       True  \n",
       "4       True  "
      ]
     },
     "execution_count": 4,
     "metadata": {},
     "output_type": "execute_result"
    }
   ],
   "source": [
    "frontier_df = pd.read_csv(f'{RESULTS_DIR}{MARKET_NAME}_{MODEL_BASE_NAME}_seed_frontiers.csv')\n",
    "frontier_df = frontier_df[frontier_df['seed']==SEED_LIST[0]]\n",
    "frontier_df.head()"
   ]
  },
  {
   "cell_type": "code",
   "execution_count": 5,
   "metadata": {},
   "outputs": [],
   "source": [
    "def make_int(x):\n",
    "    if x.is_integer():\n",
    "        x = int(x)\n",
    "    return x"
   ]
  },
  {
   "cell_type": "code",
   "execution_count": 6,
   "metadata": {},
   "outputs": [
    {
     "data": {
      "text/plain": [
       "[(10, 100), (20, 56)]"
      ]
     },
     "execution_count": 6,
     "metadata": {},
     "output_type": "execute_result"
    }
   ],
   "source": [
    "gamma_trade_list = [make_int(i) for i in list(frontier_df['gamma_trade'].round(3))]\n",
    "gamma_risk_list = [make_int(j) for j in list(frontier_df['gamma_risk'].round(3))]\n",
    "\n",
    "GAMMA_PAIRS = list(zip(gamma_trade_list, gamma_risk_list))\n",
    "#GAMMA_PAIRS\n",
    "\n",
    "######### remove later ##########\n",
    "# this is just to test a small set\n",
    "GAMMA_PAIRS = GAMMA_PAIRS[3:5]\n",
    "GAMMA_PAIRS\n",
    "#################################"
   ]
  },
  {
   "cell_type": "code",
   "execution_count": 7,
   "metadata": {},
   "outputs": [
    {
     "name": "stdout",
     "output_type": "stream",
     "text": [
      "number of pairs:  2\n"
     ]
    }
   ],
   "source": [
    "print('number of pairs: ', len(GAMMA_PAIRS))\n",
    "#GAMMA_PAIRS"
   ]
  },
  {
   "cell_type": "markdown",
   "metadata": {},
   "source": [
    "## create agent(s) and backtest in new backtest env"
   ]
  },
  {
   "cell_type": "code",
   "execution_count": 8,
   "metadata": {
    "scrolled": true
   },
   "outputs": [
    {
     "name": "stdout",
     "output_type": "stream",
     "text": [
      "creating environment and agent...\n",
      "backtesting:\n",
      "\t[1/2]\tRL_all_inp: gamma_trade=10, gamma_risk=100, seed=0...\n",
      "\t[2/2]\tRL_all_inp: gamma_trade=20, gamma_risk=56, seed=0...\n",
      "Wall time: 8.74 s\n"
     ]
    }
   ],
   "source": [
    "%%time\n",
    "# make directory for results if it does not exist already\n",
    "maybe_make_dir(RESULTS_DIR)\n",
    "\n",
    "print('creating environment and agent...')\n",
    "env = MultiStockEnv(tickers=TICKERS, \n",
    "                    from_date=FROM,\n",
    "                    until=UNTIL, \n",
    "                    #nb_episodes=100,\n",
    "                    cash_key='USDOLLAR', \n",
    "                    #gamma_risk=GAMMA_RISK, \n",
    "                    #gamma_trade=GAMMA_TRADE,\n",
    "                    #half_spread=HALF_SPREAD, \n",
    "                    nonlin_coef=NONLIN_COEFF, \n",
    "                    power=POWER, \n",
    "                    datadir=DATA_DIR, \n",
    "                    state_lookback_window=20, \n",
    "                    #distribution=EPISODE_DRAW_DISTRIBUTION,\n",
    "                    #days_duration=DAYS_IN_EPISODE, \n",
    "                    mode='backtest', \n",
    "                    random_seed=7,\n",
    "                    init_portfolio=INIT_PORTFOLIO, \n",
    "                    period_in_file_name=FILE_PERIOD, \n",
    "                    nb_forecasts=NB_FORECASTS, \n",
    "                    forecast_type=FORECAST_TYPE,\n",
    "                    use_CNN_state=USE_CNN_STATE,\n",
    "                    verbose=False)\n",
    "\n",
    "agent = Agent(alpha=0.001, \n",
    "              gamma=0.99, \n",
    "              n_assets=len(TICKERS)+1, \n",
    "              tau=5, \n",
    "              lookback_window=20, \n",
    "              n_feature_maps=len(TICKERS)+1,\n",
    "              use_forecasts=USE_FORECASTS,\n",
    "              use_CNN_state=USE_CNN_STATE)\n",
    "\n",
    "results_dict = {}\n",
    "#actions_dict = {}\n",
    "print('backtesting:')\n",
    "\n",
    "total_backtests = len(SEED_LIST) * len(GAMMA_PAIRS)\n",
    "backtest_counter = 0\n",
    "\n",
    "for RANDOM_SEED in SEED_LIST:\n",
    "    for (GAMMA_TRADE, GAMMA_RISK) in GAMMA_PAIRS:\n",
    "        \n",
    "        backtest_counter += 1\n",
    "        print(f'\\t[{backtest_counter}/{total_backtests}]\\t{MODEL_BASE_NAME}: gamma_trade={GAMMA_TRADE}, gamma_risk={GAMMA_RISK}, seed={RANDOM_SEED}...')\n",
    "        \n",
    "        # load trained RL model for backtesting\n",
    "        SAVED_MODEL_DIR = f'experiments/{MARKET_NAME}/seeded/{MODEL_BASE_NAME}/seed_{RANDOM_SEED}/trade_{GAMMA_TRADE}_risk_{GAMMA_RISK}/models/{MODEL_BASE_NAME}_seed_{RANDOM_SEED}_{NB_EPISODES}'\n",
    "        # set dir where actions csv file will be saved\n",
    "        actions_dir = f'experiments/{MARKET_NAME}/seeded/{MODEL_BASE_NAME}/seed_{RANDOM_SEED}/trade_{GAMMA_TRADE}_risk_{GAMMA_RISK}'\n",
    "        \n",
    "        try:\n",
    "            rl_rets, rl_actions = backtest(agent, env, weights_file_dir=SAVED_MODEL_DIR, verbose=False)\n",
    "            \n",
    "            #rl_rets = pd.Series(data=rl_rets, index=env.returns.loc[FROM:UNTIL].iloc[1:].index)\n",
    "            #rl_actions = pd.DataFrame(data=rl_actions, index=env.returns.loc[FROM:UNTIL].iloc[0:].index, columns=TICKERS+['USDOLLAR'])\n",
    "            rl_rets = pd.Series(data=rl_rets, index=env.returns.loc[FROM:UNTIL].iloc[:-1].index)\n",
    "            rl_rets = rl_rets.shift(1)\n",
    "            rl_rets.iloc[0] = 0\n",
    "            rl_actions = pd.DataFrame(data=rl_actions[:-1], index=env.returns.loc[FROM:UNTIL].iloc[:-1].index, columns=TICKERS+['USDOLLAR'])\n",
    "            \n",
    "            #print(f'rets: {rl_rets.shape}')\n",
    "            #print(f'actions: {rl_actions.shape}')            \n",
    "            \n",
    "            # save actions\n",
    "            rl_actions.to_csv(f'{actions_dir}/actions.csv')\n",
    "            #print('actions saved.')\n",
    "\n",
    "            cash_rets = env.returns.loc[FROM:UNTIL, env.cash_key].iloc[:-1]\n",
    "            excess_rets = rl_rets - cash_rets\n",
    "\n",
    "            R_e = excess_rets.mean() * 100 * 252\n",
    "            sigma_e = excess_rets.std() * 100 * np.sqrt(252)\n",
    "            sharpe = R_e / sigma_e\n",
    "\n",
    "            results_dict[(GAMMA_TRADE, GAMMA_RISK, RANDOM_SEED)] = {'excess_return':R_e, 'excess_risk':sigma_e, 'sharpe':sharpe}\n",
    "        except Exception as e:\n",
    "            print(f'**error for model: trade_{GAMMA_TRADE}_risk_{GAMMA_RISK}')\n",
    "            print(e)"
   ]
  },
  {
   "cell_type": "code",
   "execution_count": 9,
   "metadata": {},
   "outputs": [
    {
     "data": {
      "text/html": [
       "<div>\n",
       "<style scoped>\n",
       "    .dataframe tbody tr th:only-of-type {\n",
       "        vertical-align: middle;\n",
       "    }\n",
       "\n",
       "    .dataframe tbody tr th {\n",
       "        vertical-align: top;\n",
       "    }\n",
       "\n",
       "    .dataframe thead th {\n",
       "        text-align: right;\n",
       "    }\n",
       "</style>\n",
       "<table border=\"1\" class=\"dataframe\">\n",
       "  <thead>\n",
       "    <tr style=\"text-align: right;\">\n",
       "      <th></th>\n",
       "      <th>gamma_trade</th>\n",
       "      <th>gamma_risk</th>\n",
       "      <th>seed</th>\n",
       "      <th>excess_return</th>\n",
       "      <th>excess_risk</th>\n",
       "      <th>sharpe</th>\n",
       "    </tr>\n",
       "  </thead>\n",
       "  <tbody>\n",
       "    <tr>\n",
       "      <th>0</th>\n",
       "      <td>10</td>\n",
       "      <td>100</td>\n",
       "      <td>0</td>\n",
       "      <td>0.111248</td>\n",
       "      <td>0.161198</td>\n",
       "      <td>0.690129</td>\n",
       "    </tr>\n",
       "    <tr>\n",
       "      <th>1</th>\n",
       "      <td>20</td>\n",
       "      <td>56</td>\n",
       "      <td>0</td>\n",
       "      <td>0.062408</td>\n",
       "      <td>0.172920</td>\n",
       "      <td>0.360906</td>\n",
       "    </tr>\n",
       "  </tbody>\n",
       "</table>\n",
       "</div>"
      ],
      "text/plain": [
       "   gamma_trade  gamma_risk  seed  excess_return  excess_risk    sharpe\n",
       "0           10         100     0       0.111248     0.161198  0.690129\n",
       "1           20          56     0       0.062408     0.172920  0.360906"
      ]
     },
     "execution_count": 9,
     "metadata": {},
     "output_type": "execute_result"
    }
   ],
   "source": [
    "results_df = pd.DataFrame(results_dict).T.reset_index()\n",
    "results_df.columns = ['gamma_trade', 'gamma_risk', 'seed', 'excess_return', 'excess_risk', 'sharpe']\n",
    "#results_df.to_csv(RESULTS_DIR+TEST_NAME+'.csv', index=False)\n",
    "#print('saved.')\n",
    "results_df"
   ]
  },
  {
   "cell_type": "code",
   "execution_count": 12,
   "metadata": {},
   "outputs": [
    {
     "data": {
      "text/plain": [
       "Date\n",
       "2018-01-01    0.000000\n",
       "2018-01-04   -0.000195\n",
       "2018-01-05    0.000175\n",
       "2018-01-08    0.000084\n",
       "2018-01-09    0.000056\n",
       "                ...   \n",
       "2018-05-25    0.000005\n",
       "2018-05-28    0.000075\n",
       "2018-05-29    0.000087\n",
       "2018-05-30    0.000033\n",
       "2018-05-31   -0.000056\n",
       "Length: 106, dtype: float32"
      ]
     },
     "execution_count": 12,
     "metadata": {},
     "output_type": "execute_result"
    }
   ],
   "source": [
    "rl_rets"
   ]
  },
  {
   "cell_type": "code",
   "execution_count": 10,
   "metadata": {},
   "outputs": [
    {
     "data": {
      "text/plain": [
       "Date\n",
       "2018-01-01    0.000055\n",
       "2018-01-04    0.000056\n",
       "2018-01-05    0.000055\n",
       "2018-01-08    0.000057\n",
       "2018-01-09    0.000057\n",
       "                ...   \n",
       "2018-05-25    0.000074\n",
       "2018-05-28    0.000074\n",
       "2018-05-29    0.000076\n",
       "2018-05-30    0.000076\n",
       "2018-05-31    0.000076\n",
       "Name: USDOLLAR, Length: 106, dtype: float64"
      ]
     },
     "execution_count": 10,
     "metadata": {},
     "output_type": "execute_result"
    }
   ],
   "source": [
    "cash_rets"
   ]
  },
  {
   "cell_type": "code",
   "execution_count": 11,
   "metadata": {},
   "outputs": [
    {
     "name": "stdout",
     "output_type": "stream",
     "text": [
      "done backtesting for RL_all_inp.\n"
     ]
    }
   ],
   "source": [
    "print(f'done backtesting for {MODEL_BASE_NAME}.')"
   ]
  },
  {
   "cell_type": "code",
   "execution_count": null,
   "metadata": {},
   "outputs": [],
   "source": []
  }
 ],
 "metadata": {
  "kernelspec": {
   "display_name": "Python 3",
   "language": "python",
   "name": "python3"
  },
  "language_info": {
   "codemirror_mode": {
    "name": "ipython",
    "version": 3
   },
   "file_extension": ".py",
   "mimetype": "text/x-python",
   "name": "python",
   "nbconvert_exporter": "python",
   "pygments_lexer": "ipython3",
   "version": "3.6.13"
  }
 },
 "nbformat": 4,
 "nbformat_minor": 4
}
