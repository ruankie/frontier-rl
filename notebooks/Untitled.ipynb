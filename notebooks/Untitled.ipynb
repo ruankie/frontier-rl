{
 "cells": [
  {
   "cell_type": "markdown",
   "id": "327cff05",
   "metadata": {},
   "source": [
    "Detete this notebook later. It's just for testing the contents of `train_parallel.py`"
   ]
  },
  {
   "cell_type": "code",
   "execution_count": 1,
   "id": "8e879a5e",
   "metadata": {},
   "outputs": [],
   "source": [
    "import json\n",
    "import papermill as pm\n",
    "from multiprocessing import Process, cpu_count\n",
    "import numpy as np\n",
    "import time\n",
    "from src.config import market_tickers\n",
    "import os"
   ]
  },
  {
   "cell_type": "code",
   "execution_count": 2,
   "id": "1bf1a8ac",
   "metadata": {},
   "outputs": [],
   "source": [
    "# os.chdir(os.path.dirname(os.path.abspath(__file__)))"
   ]
  },
  {
   "cell_type": "code",
   "execution_count": 3,
   "id": "5659dc73",
   "metadata": {},
   "outputs": [],
   "source": [
    "def split_list(original_list, n):\n",
    "    ''' splits a list into n sub-lists.\n",
    "    '''\n",
    "    original_list = np.array(original_list)\n",
    "    seeds_sub_lists = [arr.tolist() for arr in np.array_split(original_list, n)]\n",
    "    return tuple(seeds_sub_lists)"
   ]
  },
  {
   "cell_type": "code",
   "execution_count": 42,
   "id": "6c205af2",
   "metadata": {},
   "outputs": [
    {
     "name": "stdout",
     "output_type": "stream",
     "text": [
      "number of workers chosen: 10\n"
     ]
    }
   ],
   "source": [
    "# read in config_file\n",
    "with open('../src/config/train_config.json') as json_file:  \n",
    "    config = json.load(json_file)    \n",
    "all_seeds = config['RANDOM_SEEDS']\n",
    "all_base_names = config['MODEL_BASE_NAMES']\n",
    "nb_episodes = config['NB_EPISODES']\n",
    "save_every = config['SAVE_EVERY']\n",
    "all_markets = config['MARKETS']\n",
    "gamma_trades = config['GAMMA_TRADES']\n",
    "gamma_risks = config['GAMMA_RISKS']\n",
    "gamma_holds = config['GAMMA_HOLDS']\n",
    "nb_workers = 10#config['NB_WORKERS']\n",
    "if nb_workers == -1:\n",
    "    nb_workers = cpu_count()    \n",
    "print('number of workers chosen:',nb_workers)"
   ]
  },
  {
   "cell_type": "code",
   "execution_count": 43,
   "id": "db5e963c",
   "metadata": {},
   "outputs": [
    {
     "data": {
      "text/plain": [
       "{'RANDOM_SEEDS': [0],\n",
       " 'MODEL_BASE_NAMES': ['RL_CNN'],\n",
       " 'GAMMA_TRADES': [1, 7, 8, 9, 10, 11, 12, 50, 100],\n",
       " 'GAMMA_RISKS': [1,\n",
       "  2,\n",
       "  3,\n",
       "  6,\n",
       "  10,\n",
       "  18,\n",
       "  32,\n",
       "  56,\n",
       "  100,\n",
       "  178,\n",
       "  316,\n",
       "  562,\n",
       "  1000,\n",
       "  5000,\n",
       "  10000],\n",
       " 'GAMMA_HOLDS': [0.1, 1, 10, 100, 1000, 10000],\n",
       " 'NB_WORKERS': 45,\n",
       " 'NB_EPISODES': 200,\n",
       " 'SAVE_EVERY': 200,\n",
       " 'MARKETS': {'DOW_30': {'FROM': '2010-01-01', 'UNTIL': '2018-01-01'},\n",
       "  'NIK_25': {'FROM': '2013-05-01', 'UNTIL': '2018-01-01'},\n",
       "  'LA_40': {'FROM': '2010-03-01', 'UNTIL': '2014-12-01'}}}"
      ]
     },
     "execution_count": 43,
     "metadata": {},
     "output_type": "execute_result"
    }
   ],
   "source": [
    "config"
   ]
  },
  {
   "cell_type": "code",
   "execution_count": 44,
   "id": "28886452",
   "metadata": {},
   "outputs": [],
   "source": [
    " # split up seeds and gamma_risks into sets\n",
    "nb_seed_sets = 1 #if (nb_workers >= len(all_seeds)) else len(all_seeds)//nb_workers\n",
    "nb_gamma_risks_sets = nb_workers//len(all_markets) if (nb_workers >= len(gamma_risks)) else len(gamma_risks)//nb_workers\n",
    "seed_sets = split_list(all_seeds, nb_seed_sets)\n",
    "gamma_risks_sets = split_list(gamma_risks, nb_gamma_risks_sets)\n",
    "\n",
    "# min amount of workers required for workload and config\n",
    "min_workers = len(all_markets) * len(all_base_names) * len(seed_sets) * len(gamma_risks_sets)\n",
    "assert min_workers<=nb_workers, f\"Number of workers allowed: {nb_workers}. Minimum number of workers required: {min_workers}. Allow more workers!)\"\n"
   ]
  },
  {
   "cell_type": "code",
   "execution_count": 47,
   "id": "7eb224d5",
   "metadata": {},
   "outputs": [
    {
     "name": "stdout",
     "output_type": "stream",
     "text": [
      "nb_seed_sets: 1\n",
      "nb_gamma_risks_sets: 1\n",
      "seed_sets: ([0],)\n",
      "gamma_risks_sets: ([1, 2, 3, 6, 10, 18, 32, 56, 100, 178, 316, 562, 1000, 5000, 10000],)\n",
      "min_workers: 3\n"
     ]
    }
   ],
   "source": [
    "print(f'nb_seed_sets: {nb_seed_sets}')\n",
    "print(f'nb_gamma_risks_sets: {nb_gamma_risks_sets}')\n",
    "print(f'seed_sets: {seed_sets}')\n",
    "print(f'gamma_risks_sets: {gamma_risks_sets}')\n",
    "print(f'min_workers: {min_workers}')"
   ]
  },
  {
   "cell_type": "code",
   "execution_count": 48,
   "id": "2fad0934",
   "metadata": {},
   "outputs": [
    {
     "data": {
      "text/plain": [
       "1"
      ]
     },
     "execution_count": 48,
     "metadata": {},
     "output_type": "execute_result"
    }
   ],
   "source": [
    "len(gamma_risks)//nb_workers"
   ]
  },
  {
   "cell_type": "code",
   "execution_count": 49,
   "id": "b7e5d221",
   "metadata": {},
   "outputs": [
    {
     "data": {
      "text/plain": [
       "15"
      ]
     },
     "execution_count": 49,
     "metadata": {},
     "output_type": "execute_result"
    }
   ],
   "source": [
    "len(gamma_risks)"
   ]
  },
  {
   "cell_type": "code",
   "execution_count": 50,
   "id": "cf69cff9",
   "metadata": {},
   "outputs": [
    {
     "data": {
      "text/plain": [
       "3"
      ]
     },
     "execution_count": 50,
     "metadata": {},
     "output_type": "execute_result"
    }
   ],
   "source": [
    "nb_workers//len(all_markets)"
   ]
  },
  {
   "cell_type": "code",
   "execution_count": null,
   "id": "cb00ec3b",
   "metadata": {},
   "outputs": [],
   "source": [
    "\n",
    "\n",
    "\n",
    "\n",
    "\n",
    "def train_rl(seeds, market_name, tickers, model_base_name, from_date, until_date, \n",
    "            gamma_trades, gamma_risks, gamma_holds, nb_episodes, save_every):\n",
    "\n",
    "    assert market_name in ['TEST_5', 'SP_11', 'DOW_30','NIK_25','LA_40', 'SP_500'], 'must choose a valid market name (or update valid list in assertion).'\n",
    "    assert model_base_name in ['RL_CNN','RL_str_fcast','RL_all_inp'], 'must choose a valid model base name: \"RL_CNN\",\"RL_str_fcast\", or \"RL_all_inp\".'\n",
    "\n",
    "    # set path to notebooks\n",
    "    os.chdir(os.path.abspath('../../notebooks/'))\n",
    "\n",
    "    start = time.time()\n",
    "    print(f'\\tstarting {model_base_name} on {market_name} [{from_date} - {until_date}] with seeds {seeds}.')\n",
    "    pm.execute_notebook(\n",
    "                    input_path='train_template.ipynb',\n",
    "                    output_path=f'slave_notebooks/{model_base_name}_{market_name}_risks_{gamma_risks[0]}_seeds_{seeds[0]}.ipynb',\n",
    "                    parameters={\n",
    "                                'SEED_LIST':seeds,\n",
    "                                'TICKERS':tickers,\n",
    "                                'MARKET_NAME':market_name,\n",
    "                                'MODEL_BASE_NAME':model_base_name,\n",
    "                                'FROM':from_date,\n",
    "                                'UNTIL':until_date,\n",
    "                                'NB_EPISODES':nb_episodes,\n",
    "                                'SAVE_EVERY':save_every,\n",
    "                                'GAMMA_TRADES':gamma_trades,\n",
    "                                'GAMMA_RISKS':gamma_risks,\n",
    "                                'GAMMA_HOLDS':gamma_holds\n",
    "                               },\n",
    "                    progress_bar=True,\n",
    "                   )\n",
    "    print(f'\\tdone with {model_base_name} on {market_name} (risks:{gamma_risks[0]}.. seeds:{seeds[0]}..) in ', round(time.time() - start,2), 'seconds.')\n",
    "\n",
    "\n",
    "if __name__ == '__main__':\n",
    "\n",
    "    # change dir to where this file is located \n",
    "    # so the context is the same no matter where it's run from\n",
    "    os.chdir(os.path.dirname(os.path.abspath(__file__)))\n",
    "\n",
    "    # start timer\n",
    "    #main_start = time.time()\n",
    "\n",
    "    if not os.path.exists('../../notebooks/slave_notebooks'):\n",
    "        os.makedirs('../../notebooks/slave_notebooks')\n",
    "\n",
    "    # read in config_file\n",
    "    with open('../config/train_config.json') as json_file:  \n",
    "        config = json.load(json_file)    \n",
    "    all_seeds = config['RANDOM_SEEDS']\n",
    "    all_base_names = config['MODEL_BASE_NAMES']\n",
    "    nb_episodes = config['NB_EPISODES']\n",
    "    save_every = config['SAVE_EVERY']\n",
    "    all_markets = config['MARKETS']\n",
    "    gamma_trades = config['GAMMA_TRADES']\n",
    "    gamma_risks = config['GAMMA_RISKS']\n",
    "    gamma_holds = config['GAMMA_HOLDS']\n",
    "    nb_workers = config['NB_WORKERS']\n",
    "    if nb_workers == -1:\n",
    "        nb_workers = cpu_count()    \n",
    "    print('number of workers chosen:',nb_workers)\n",
    "\n",
    "    # split up seeds and gamma_risks into sets\n",
    "    nb_seed_sets = 1 if (nb_workers >= len(all_seeds)) else len(all_seeds)//nb_workers\n",
    "    nb_gamma_risks_sets = 1 if (nb_workers >= len(gamma_risks)) else len(gamma_risks)//nb_workers\n",
    "    seed_sets = split_list(all_seeds, nb_seed_sets)\n",
    "    gamma_risks_sets = split_list(gamma_risks, nb_gamma_risks_sets)\n",
    "\n",
    "    # min amount of workers required for workload and config\n",
    "    min_workers = len(all_markets) * len(all_base_names) * len(seed_sets) * len(gamma_risks_sets)\n",
    "    assert min_workers<=nb_workers, f\"Number of workers allowed: {nb_workers}. Minimum number of workers required: {min_workers}. Allow more workers!)\"\n",
    "\n",
    "    processes = []\n",
    "    # start training in separate processes\n",
    "    for market_name, dates in all_markets.items(): # for all markets\n",
    "        tickers = getattr(market_tickers, market_name+'_TICKER')\n",
    "        for mod_idx, mod_name in enumerate(all_base_names): # for all models\n",
    "            for seed_idx in range(len(seed_sets)): # for all seed sets\n",
    "                for gamma_risk_idx in range(len(gamma_risks_sets)):\n",
    "                    proc = Process(target=train_rl, args=(\n",
    "                        seed_sets[seed_idx], \n",
    "                        market_name, \n",
    "                        tickers, \n",
    "                        mod_name, \n",
    "                        dates['FROM'], \n",
    "                        dates['UNTIL'], \n",
    "                        gamma_trades, \n",
    "                        gamma_risks_sets[gamma_risk_idx], \n",
    "                        gamma_holds,\n",
    "                        nb_episodes, \n",
    "                        save_every))\n",
    "                    processes.append(proc)\n",
    "                    proc.start()\n",
    "            \n",
    "    for p in processes:\n",
    "        p.join()\n",
    "        \n",
    "    #print()\n",
    "    #print('all workers done in', round(time.time() - main_start,2), 'seconds.')"
   ]
  },
  {
   "cell_type": "code",
   "execution_count": null,
   "id": "8f6304d2",
   "metadata": {},
   "outputs": [],
   "source": []
  },
  {
   "cell_type": "code",
   "execution_count": 1,
   "id": "a620b4ac",
   "metadata": {},
   "outputs": [],
   "source": [
    "import numpy as np\n",
    "\n",
    "def make_int(x):\n",
    "    \"\"\" if x is an integer (e.g. 2.0), return its integer value without trailing zeroes (e.g. 2)\n",
    "    \"\"\"\n",
    "    if isinstance(x, list) or isinstance(x, tuple):\n",
    "        return [int(i) if i.is_integer() else i for i in x]\n",
    "    \n",
    "    if x.is_integer():\n",
    "        x = int(x)\n",
    "    return x\n",
    "\n",
    "def split_list(original_list, n):\n",
    "    ''' splits a list into n sub-lists.\n",
    "    '''\n",
    "    original_list = np.array(original_list)\n",
    "    seeds_sub_lists = [arr.tolist() for arr in np.array_split(original_list, n)]\n",
    "    return tuple(seeds_sub_lists)"
   ]
  },
  {
   "cell_type": "code",
   "execution_count": 2,
   "id": "3ac86236",
   "metadata": {},
   "outputs": [
    {
     "data": {
      "text/plain": [
       "([0.1, 1.0, 10.0, 100.0], [1000.0, 10000.0, 100000.0])"
      ]
     },
     "execution_count": 2,
     "metadata": {},
     "output_type": "execute_result"
    }
   ],
   "source": [
    "my_list = [0.1, 1, 10, 100, 1000, 10000, 100000]\n",
    "sub_lists = split_list(my_list, 2)\n",
    "sub_lists"
   ]
  },
  {
   "cell_type": "code",
   "execution_count": 4,
   "id": "c0034f06",
   "metadata": {},
   "outputs": [
    {
     "data": {
      "text/plain": [
       "([0.1], [1], [10], [100], [1000], [10000], [100000])"
      ]
     },
     "execution_count": 4,
     "metadata": {},
     "output_type": "execute_result"
    }
   ],
   "source": [
    "tuple([make_int(lst) for lst in split_list(my_list, 7)])"
   ]
  },
  {
   "cell_type": "code",
   "execution_count": 5,
   "id": "e31abece",
   "metadata": {},
   "outputs": [
    {
     "data": {
      "text/plain": [
       "([0.1], [1.0], [10.0], [100.0], [1000.0], [10000.0], [100000.0])"
      ]
     },
     "execution_count": 5,
     "metadata": {},
     "output_type": "execute_result"
    }
   ],
   "source": [
    "split_list(my_list, 7)"
   ]
  }
 ],
 "metadata": {
  "kernelspec": {
   "display_name": "Python 3.10.4 64-bit",
   "language": "python",
   "name": "python3"
  },
  "language_info": {
   "codemirror_mode": {
    "name": "ipython",
    "version": 3
   },
   "file_extension": ".py",
   "mimetype": "text/x-python",
   "name": "python",
   "nbconvert_exporter": "python",
   "pygments_lexer": "ipython3",
   "version": "3.10.4"
  },
  "vscode": {
   "interpreter": {
    "hash": "916dbcbb3f70747c44a77c7bcd40155683ae19c65e1c03b4aa3499c5328201f1"
   }
  }
 },
 "nbformat": 4,
 "nbformat_minor": 5
}
