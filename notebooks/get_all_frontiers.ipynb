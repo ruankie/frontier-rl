{
 "cells": [
  {
   "cell_type": "code",
   "execution_count": 1,
   "metadata": {},
   "outputs": [],
   "source": [
    "import numpy as np\n",
    "import pandas as pd\n",
    "import matplotlib.pyplot as plt\n",
    "import os\n",
    "import glob\n",
    "from src.utilities.frontier_tools import get_pareto_points, get_all_backtests_df, get_all_seed_frontiers, \\\n",
    "                           get_critical_t, get_mean_margin_of_err, get_bin_intervals, get_bin_means_margin_of_errors, \\\n",
    "                           get_mean_frontier_with_CI"
   ]
  },
  {
   "cell_type": "markdown",
   "metadata": {},
   "source": [
    "# Get seeded frontiers"
   ]
  },
  {
   "cell_type": "code",
   "execution_count": 2,
   "metadata": {},
   "outputs": [],
   "source": [
    "MARKET_NAMES = ['DOW_30'] #['DOW_30', 'NIK_25', 'LA_40']\n",
    "MODEL_BASE_NAMES = ['RL_CNN'] #['RL_CNN', 'RL_str_fcast', 'RL_all_inp' ]"
   ]
  },
  {
   "cell_type": "code",
   "execution_count": 9,
   "metadata": {
    "scrolled": true
   },
   "outputs": [
    {
     "name": "stdout",
     "output_type": "stream",
     "text": [
      "[1/1]\tmarket: DOW_30\tmodel: RL_CNN...\n",
      "\tplot saved.\tdf saved.\n",
      "CPU times: user 1.73 s, sys: 327 ms, total: 2.05 s\n",
      "Wall time: 1.35 s\n"
     ]
    },
    {
     "data": {
      "image/png": "[encoded data removed]",
      "text/plain": [
       "<Figure size 576x360 with 1 Axes>"
      ]
     },
     "metadata": {
      "needs_background": "light"
     },
     "output_type": "display_data"
    }
   ],
   "source": [
    "%%time\n",
    "# gat all backtest results for the specified model on the specified market\n",
    "# then get the pareto frontier for each seed vale\n",
    "# plot pareto frontiers and save final DataFrame with all results\n",
    "counter = 0\n",
    "total = len(MARKET_NAMES) * len(MODEL_BASE_NAMES)\n",
    "for market_name in MARKET_NAMES:\n",
    "    for model_name in MODEL_BASE_NAMES:\n",
    "        counter += 1\n",
    "        print(f'[{counter}/{total}]\\tmarket: {market_name}\\tmodel: {model_name}...')\n",
    "        data_dir = f'../experiments/{market_name}/seeded/{model_name}/backtests/'        \n",
    "        results_df = get_all_backtests_df(data_dir)\n",
    "        all_seed_frontiers_df = get_all_seed_frontiers(results_df, data_dir, market_name, model_name, plot_all_pts=True, alpha=0.2, figsize=(8,5), xlim=(-2,40), ylim=None)"
   ]
  },
  {
   "cell_type": "code",
   "execution_count": 4,
   "metadata": {},
   "outputs": [
    {
     "data": {
      "text/plain": [
       "(38, 8)"
      ]
     },
     "execution_count": 4,
     "metadata": {},
     "output_type": "execute_result"
    }
   ],
   "source": [
    "all_seed_frontiers_df.shape"
   ]
  },
  {
   "cell_type": "code",
   "execution_count": 5,
   "metadata": {},
   "outputs": [
    {
     "data": {
      "text/html": [
       "<div>\n",
       "<style scoped>\n",
       "    .dataframe tbody tr th:only-of-type {\n",
       "        vertical-align: middle;\n",
       "    }\n",
       "\n",
       "    .dataframe tbody tr th {\n",
       "        vertical-align: top;\n",
       "    }\n",
       "\n",
       "    .dataframe thead th {\n",
       "        text-align: right;\n",
       "    }\n",
       "</style>\n",
       "<table border=\"1\" class=\"dataframe\">\n",
       "  <thead>\n",
       "    <tr style=\"text-align: right;\">\n",
       "      <th></th>\n",
       "      <th>gamma_trade</th>\n",
       "      <th>gamma_risk</th>\n",
       "      <th>gamma_hold</th>\n",
       "      <th>seed</th>\n",
       "      <th>excess_return</th>\n",
       "      <th>excess_risk</th>\n",
       "      <th>sharpe</th>\n",
       "      <th>is_pareto</th>\n",
       "    </tr>\n",
       "  </thead>\n",
       "  <tbody>\n",
       "    <tr>\n",
       "      <th>0</th>\n",
       "      <td>8</td>\n",
       "      <td>1000</td>\n",
       "      <td>1000.0</td>\n",
       "      <td>0</td>\n",
       "      <td>2.668811</td>\n",
       "      <td>10.603677</td>\n",
       "      <td>0.251687</td>\n",
       "      <td>True</td>\n",
       "    </tr>\n",
       "    <tr>\n",
       "      <th>1</th>\n",
       "      <td>10</td>\n",
       "      <td>1000</td>\n",
       "      <td>1000.0</td>\n",
       "      <td>0</td>\n",
       "      <td>3.114817</td>\n",
       "      <td>10.617843</td>\n",
       "      <td>0.293357</td>\n",
       "      <td>True</td>\n",
       "    </tr>\n",
       "    <tr>\n",
       "      <th>2</th>\n",
       "      <td>9</td>\n",
       "      <td>1000</td>\n",
       "      <td>1000.0</td>\n",
       "      <td>0</td>\n",
       "      <td>3.428683</td>\n",
       "      <td>10.668762</td>\n",
       "      <td>0.321376</td>\n",
       "      <td>True</td>\n",
       "    </tr>\n",
       "    <tr>\n",
       "      <th>3</th>\n",
       "      <td>7</td>\n",
       "      <td>562</td>\n",
       "      <td>1000.0</td>\n",
       "      <td>0</td>\n",
       "      <td>4.658841</td>\n",
       "      <td>10.969778</td>\n",
       "      <td>0.424698</td>\n",
       "      <td>True</td>\n",
       "    </tr>\n",
       "    <tr>\n",
       "      <th>4</th>\n",
       "      <td>9</td>\n",
       "      <td>562</td>\n",
       "      <td>1000.0</td>\n",
       "      <td>0</td>\n",
       "      <td>4.908900</td>\n",
       "      <td>10.983312</td>\n",
       "      <td>0.446942</td>\n",
       "      <td>True</td>\n",
       "    </tr>\n",
       "  </tbody>\n",
       "</table>\n",
       "</div>"
      ],
      "text/plain": [
       "   gamma_trade  gamma_risk  gamma_hold  seed  excess_return  excess_risk  \\\n",
       "0            8        1000      1000.0     0       2.668811    10.603677   \n",
       "1           10        1000      1000.0     0       3.114817    10.617843   \n",
       "2            9        1000      1000.0     0       3.428683    10.668762   \n",
       "3            7         562      1000.0     0       4.658841    10.969778   \n",
       "4            9         562      1000.0     0       4.908900    10.983312   \n",
       "\n",
       "     sharpe  is_pareto  \n",
       "0  0.251687       True  \n",
       "1  0.293357       True  \n",
       "2  0.321376       True  \n",
       "3  0.424698       True  \n",
       "4  0.446942       True  "
      ]
     },
     "execution_count": 5,
     "metadata": {},
     "output_type": "execute_result"
    }
   ],
   "source": [
    "all_seed_frontiers_df.head()"
   ]
  },
  {
   "cell_type": "markdown",
   "metadata": {},
   "source": [
    "# Get mean frontiers with 95% CI"
   ]
  },
  {
   "cell_type": "code",
   "execution_count": 6,
   "metadata": {},
   "outputs": [
    {
     "data": {
      "image/png": "[encoded data removed]",
      "text/plain": [
       "<Figure size 576x432 with 1 Axes>"
      ]
     },
     "metadata": {
      "needs_background": "light"
     },
     "output_type": "display_data"
    }
   ],
   "source": [
    "# plot all mean frontiers with their 95%CIs\n",
    "# and save all points in .csv files\n",
    "\n",
    "figsize=(8,6)\n",
    "conf_lvl=0.95\n",
    "xlim=(0,25)\n",
    "ylim=(-2,30)\n",
    "\n",
    "for market_name in MARKET_NAMES:\n",
    "    fig, ax = plt.subplots(figsize=figsize, facecolor=None, edgecolor=None)\n",
    "    for i, model_name in enumerate(MODEL_BASE_NAMES):\n",
    "        x_mids, y_means, y_margin_of_errs = get_mean_frontier_with_CI(market_name, model_name, \n",
    "                                                              bin_width=None, min_in_bin=30, \n",
    "                                                              conf_lvl=conf_lvl, plot=False, save_plot=False, \n",
    "                                                              figsize=figsize, xlim=xlim, ylim=ylim, data_loc='../experiments/')\n",
    "        \n",
    "        # save mean frontier with CI in .csv file\n",
    "        mean_frontier_results_df = pd.DataFrame({'excess_risk':x_mids, 'mean_excess_return':y_means, 'marg_of_err':y_margin_of_errs})\n",
    "        data_dir = f'../experiments/{market_name}/seeded/{model_name}/backtests/'\n",
    "        mean_frontier_results_df.to_csv(f'{data_dir}{market_name}_{model_name}_mean_frontier.csv', index=False)\n",
    "        \n",
    "        # plot frontier\n",
    "        ax.plot(x_mids, y_means, f'C{i}-', alpha=1.0, label=f'{model_name.replace(\"_\",\" \")}')\n",
    "        ax.fill_between(x_mids, (y_means-y_margin_of_errs), (y_means+y_margin_of_errs), color=f'C{i}', alpha=0.25)\n",
    "\n",
    "        ax.set_xlabel('Excess risk (%)')\n",
    "        ax.set_ylabel('Excess return (%)')\n",
    "        ax.set_title(f'Mean Pareto Frontiers with {int(conf_lvl*100)}% CI ({market_name.replace(\"_\",\" \")})')\n",
    "        ax.legend();\n",
    "\n",
    "        ax.set_xlim(left=xlim[0], right=xlim[1])\n",
    "        ax.set_ylim(bottom=ylim[0], top=ylim[1])\n",
    "        \n",
    "        # save figure\n",
    "        plt.savefig(f'{data_dir}{market_name}_mean_frontiers.png', dpi=150, facecolor=None, edgecolor=None, bbox_inches='tight')"
   ]
  },
  {
   "cell_type": "code",
   "execution_count": 7,
   "metadata": {},
   "outputs": [
    {
     "name": "stdout",
     "output_type": "stream",
     "text": [
      "done.\n"
     ]
    }
   ],
   "source": [
    "print('done.')"
   ]
  },
  {
   "cell_type": "code",
   "execution_count": 8,
   "metadata": {},
   "outputs": [],
   "source": [
    "# next get mean frontiers with 95% CIs\n",
    "# and get hypervolumes"
   ]
  },
  {
   "cell_type": "code",
   "execution_count": null,
   "metadata": {},
   "outputs": [],
   "source": []
  }
 ],
 "metadata": {
  "kernelspec": {
   "display_name": "Python 3",
   "language": "python",
   "name": "python3"
  },
  "language_info": {
   "codemirror_mode": {
    "name": "ipython",
    "version": 3
   },
   "file_extension": ".py",
   "mimetype": "text/x-python",
   "name": "python",
   "nbconvert_exporter": "python",
   "pygments_lexer": "ipython3",
   "version": "3.7.6"
  }
 },
 "nbformat": 4,
 "nbformat_minor": 4
}
